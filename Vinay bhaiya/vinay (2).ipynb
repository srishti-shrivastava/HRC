{
 "cells": [
  {
   "cell_type": "code",
   "execution_count": 13,
   "metadata": {
    "colab": {
     "base_uri": "https://localhost:8080/",
     "height": 574
    },
    "id": "PzGGfRuU0uJu",
    "outputId": "adc6cc84-3bba-45b7-bf96-dbd05e24afd8"
   },
   "outputs": [
    {
     "data": {
      "text/html": [
       "<div>\n",
       "<style scoped>\n",
       "    .dataframe tbody tr th:only-of-type {\n",
       "        vertical-align: middle;\n",
       "    }\n",
       "\n",
       "    .dataframe tbody tr th {\n",
       "        vertical-align: top;\n",
       "    }\n",
       "\n",
       "    .dataframe thead th {\n",
       "        text-align: right;\n",
       "    }\n",
       "</style>\n",
       "<table border=\"1\" class=\"dataframe\">\n",
       "  <thead>\n",
       "    <tr style=\"text-align: right;\">\n",
       "      <th></th>\n",
       "      <th>business_code</th>\n",
       "      <th>cust_number</th>\n",
       "      <th>name_customer</th>\n",
       "      <th>clear_date</th>\n",
       "      <th>buisness_year</th>\n",
       "      <th>doc_id</th>\n",
       "      <th>posting_date</th>\n",
       "      <th>document_create_date</th>\n",
       "      <th>document_create_date.1</th>\n",
       "      <th>due_in_date</th>\n",
       "      <th>invoice_currency</th>\n",
       "      <th>document type</th>\n",
       "      <th>posting_id</th>\n",
       "      <th>area_business</th>\n",
       "      <th>total_open_amount</th>\n",
       "      <th>baseline_create_date</th>\n",
       "      <th>cust_payment_terms</th>\n",
       "      <th>invoice_id</th>\n",
       "      <th>isOpen</th>\n",
       "    </tr>\n",
       "  </thead>\n",
       "  <tbody>\n",
       "    <tr>\n",
       "      <th>0</th>\n",
       "      <td>U001</td>\n",
       "      <td>0200780383</td>\n",
       "      <td>MEIJ corporation</td>\n",
       "      <td>2019-09-26 00:00:00</td>\n",
       "      <td>2019.0</td>\n",
       "      <td>1.929861e+09</td>\n",
       "      <td>2019-09-11</td>\n",
       "      <td>20190910</td>\n",
       "      <td>20190911</td>\n",
       "      <td>20190926.0</td>\n",
       "      <td>USD</td>\n",
       "      <td>RV</td>\n",
       "      <td>1.0</td>\n",
       "      <td>NaN</td>\n",
       "      <td>51844.76</td>\n",
       "      <td>20190911.0</td>\n",
       "      <td>NAA8</td>\n",
       "      <td>1.929861e+09</td>\n",
       "      <td>0</td>\n",
       "    </tr>\n",
       "    <tr>\n",
       "      <th>1</th>\n",
       "      <td>U001</td>\n",
       "      <td>0200762301</td>\n",
       "      <td>C&amp;S WH corporation</td>\n",
       "      <td>2019-09-10 00:00:00</td>\n",
       "      <td>2019.0</td>\n",
       "      <td>1.929789e+09</td>\n",
       "      <td>2019-08-25</td>\n",
       "      <td>20190824</td>\n",
       "      <td>20190825</td>\n",
       "      <td>20190909.0</td>\n",
       "      <td>USD</td>\n",
       "      <td>RV</td>\n",
       "      <td>1.0</td>\n",
       "      <td>NaN</td>\n",
       "      <td>62110.39</td>\n",
       "      <td>20190825.0</td>\n",
       "      <td>NAC6</td>\n",
       "      <td>1.929789e+09</td>\n",
       "      <td>0</td>\n",
       "    </tr>\n",
       "    <tr>\n",
       "      <th>2</th>\n",
       "      <td>U001</td>\n",
       "      <td>0200769623</td>\n",
       "      <td>WAL-MAR corporation</td>\n",
       "      <td>2020-02-18 00:00:00</td>\n",
       "      <td>2020.0</td>\n",
       "      <td>1.930488e+09</td>\n",
       "      <td>2020-02-05</td>\n",
       "      <td>20200206</td>\n",
       "      <td>20200205</td>\n",
       "      <td>20200220.0</td>\n",
       "      <td>USD</td>\n",
       "      <td>RV</td>\n",
       "      <td>1.0</td>\n",
       "      <td>NaN</td>\n",
       "      <td>41038.47</td>\n",
       "      <td>20200205.0</td>\n",
       "      <td>NAH4</td>\n",
       "      <td>1.930488e+09</td>\n",
       "      <td>0</td>\n",
       "    </tr>\n",
       "    <tr>\n",
       "      <th>3</th>\n",
       "      <td>U001</td>\n",
       "      <td>100053926</td>\n",
       "      <td>CALD trust</td>\n",
       "      <td>2019-08-21 00:00:00</td>\n",
       "      <td>2019.0</td>\n",
       "      <td>1.929519e+09</td>\n",
       "      <td>2019-06-20</td>\n",
       "      <td>20190620</td>\n",
       "      <td>20190620</td>\n",
       "      <td>20190819.0</td>\n",
       "      <td>USD</td>\n",
       "      <td>RV</td>\n",
       "      <td>1.0</td>\n",
       "      <td>NaN</td>\n",
       "      <td>1382.94</td>\n",
       "      <td>20190620.0</td>\n",
       "      <td>NAVQ</td>\n",
       "      <td>1.929519e+09</td>\n",
       "      <td>0</td>\n",
       "    </tr>\n",
       "    <tr>\n",
       "      <th>4</th>\n",
       "      <td>U001</td>\n",
       "      <td>0200739534</td>\n",
       "      <td>OK llc</td>\n",
       "      <td>2019-06-26 00:00:00</td>\n",
       "      <td>2019.0</td>\n",
       "      <td>1.929456e+09</td>\n",
       "      <td>2019-06-07</td>\n",
       "      <td>20190607</td>\n",
       "      <td>20190607</td>\n",
       "      <td>20190622.0</td>\n",
       "      <td>USD</td>\n",
       "      <td>RV</td>\n",
       "      <td>1.0</td>\n",
       "      <td>NaN</td>\n",
       "      <td>85407.27</td>\n",
       "      <td>20190607.0</td>\n",
       "      <td>NAA8</td>\n",
       "      <td>1.929456e+09</td>\n",
       "      <td>0</td>\n",
       "    </tr>\n",
       "    <tr>\n",
       "      <th>...</th>\n",
       "      <td>...</td>\n",
       "      <td>...</td>\n",
       "      <td>...</td>\n",
       "      <td>...</td>\n",
       "      <td>...</td>\n",
       "      <td>...</td>\n",
       "      <td>...</td>\n",
       "      <td>...</td>\n",
       "      <td>...</td>\n",
       "      <td>...</td>\n",
       "      <td>...</td>\n",
       "      <td>...</td>\n",
       "      <td>...</td>\n",
       "      <td>...</td>\n",
       "      <td>...</td>\n",
       "      <td>...</td>\n",
       "      <td>...</td>\n",
       "      <td>...</td>\n",
       "      <td>...</td>\n",
       "    </tr>\n",
       "    <tr>\n",
       "      <th>49995</th>\n",
       "      <td>U001</td>\n",
       "      <td>0200769623</td>\n",
       "      <td>WAL-MAR corp</td>\n",
       "      <td>NaN</td>\n",
       "      <td>2020.0</td>\n",
       "      <td>1.930833e+09</td>\n",
       "      <td>2020-04-28</td>\n",
       "      <td>20200428</td>\n",
       "      <td>20200428</td>\n",
       "      <td>20200513.0</td>\n",
       "      <td>USD</td>\n",
       "      <td>RV</td>\n",
       "      <td>1.0</td>\n",
       "      <td>NaN</td>\n",
       "      <td>3360.35</td>\n",
       "      <td>20200428.0</td>\n",
       "      <td>NAH4</td>\n",
       "      <td>1.930833e+09</td>\n",
       "      <td>1</td>\n",
       "    </tr>\n",
       "    <tr>\n",
       "      <th>49996</th>\n",
       "      <td>U001</td>\n",
       "      <td>0200353024</td>\n",
       "      <td>DECA corporation</td>\n",
       "      <td>NaN</td>\n",
       "      <td>2020.0</td>\n",
       "      <td>1.930818e+09</td>\n",
       "      <td>2020-04-23</td>\n",
       "      <td>20200423</td>\n",
       "      <td>20200423</td>\n",
       "      <td>20200509.0</td>\n",
       "      <td>USD</td>\n",
       "      <td>RV</td>\n",
       "      <td>1.0</td>\n",
       "      <td>NaN</td>\n",
       "      <td>6598.36</td>\n",
       "      <td>20200416.0</td>\n",
       "      <td>NAM4</td>\n",
       "      <td>1.930818e+09</td>\n",
       "      <td>1</td>\n",
       "    </tr>\n",
       "    <tr>\n",
       "      <th>49997</th>\n",
       "      <td>U001</td>\n",
       "      <td>0200126819</td>\n",
       "      <td>MCLANE in</td>\n",
       "      <td>NaN</td>\n",
       "      <td>2020.0</td>\n",
       "      <td>1.930784e+09</td>\n",
       "      <td>2020-04-21</td>\n",
       "      <td>20200414</td>\n",
       "      <td>20200421</td>\n",
       "      <td>20200506.0</td>\n",
       "      <td>USD</td>\n",
       "      <td>RV</td>\n",
       "      <td>1.0</td>\n",
       "      <td>NaN</td>\n",
       "      <td>11168.64</td>\n",
       "      <td>20200421.0</td>\n",
       "      <td>NAA8</td>\n",
       "      <td>1.930784e+09</td>\n",
       "      <td>1</td>\n",
       "    </tr>\n",
       "    <tr>\n",
       "      <th>49998</th>\n",
       "      <td>U001</td>\n",
       "      <td>0200769623</td>\n",
       "      <td>WAL-MAR associates</td>\n",
       "      <td>NaN</td>\n",
       "      <td>2020.0</td>\n",
       "      <td>1.930716e+09</td>\n",
       "      <td>2020-03-30</td>\n",
       "      <td>20200328</td>\n",
       "      <td>20200330</td>\n",
       "      <td>20200414.0</td>\n",
       "      <td>USD</td>\n",
       "      <td>RV</td>\n",
       "      <td>1.0</td>\n",
       "      <td>NaN</td>\n",
       "      <td>13454.20</td>\n",
       "      <td>20200330.0</td>\n",
       "      <td>NAH4</td>\n",
       "      <td>1.930716e+09</td>\n",
       "      <td>1</td>\n",
       "    </tr>\n",
       "    <tr>\n",
       "      <th>49999</th>\n",
       "      <td>U001</td>\n",
       "      <td>0200769623</td>\n",
       "      <td>WAL-MAR</td>\n",
       "      <td>NaN</td>\n",
       "      <td>2020.0</td>\n",
       "      <td>1.930753e+09</td>\n",
       "      <td>2020-04-07</td>\n",
       "      <td>20200406</td>\n",
       "      <td>20200407</td>\n",
       "      <td>20200422.0</td>\n",
       "      <td>USD</td>\n",
       "      <td>RV</td>\n",
       "      <td>1.0</td>\n",
       "      <td>NaN</td>\n",
       "      <td>5577.80</td>\n",
       "      <td>20200407.0</td>\n",
       "      <td>NAH4</td>\n",
       "      <td>1.930753e+09</td>\n",
       "      <td>1</td>\n",
       "    </tr>\n",
       "  </tbody>\n",
       "</table>\n",
       "<p>50000 rows × 19 columns</p>\n",
       "</div>"
      ],
      "text/plain": [
       "      business_code cust_number  ...    invoice_id isOpen\n",
       "0              U001  0200780383  ...  1.929861e+09      0\n",
       "1              U001  0200762301  ...  1.929789e+09      0\n",
       "2              U001  0200769623  ...  1.930488e+09      0\n",
       "3              U001   100053926  ...  1.929519e+09      0\n",
       "4              U001  0200739534  ...  1.929456e+09      0\n",
       "...             ...         ...  ...           ...    ...\n",
       "49995          U001  0200769623  ...  1.930833e+09      1\n",
       "49996          U001  0200353024  ...  1.930818e+09      1\n",
       "49997          U001  0200126819  ...  1.930784e+09      1\n",
       "49998          U001  0200769623  ...  1.930716e+09      1\n",
       "49999          U001  0200769623  ...  1.930753e+09      1\n",
       "\n",
       "[50000 rows x 19 columns]"
      ]
     },
     "execution_count": 13,
     "metadata": {
      "tags": []
     },
     "output_type": "execute_result"
    }
   ],
   "source": [
    "#reading dataset 1806269\n",
    "import pandas as pd\n",
    "import numpy as np\n",
    "dat=pd.read_csv(\"/content/1806269.csv\")\n",
    "data=pd.DataFrame(dat)\n",
    "data"
   ]
  },
  {
   "cell_type": "code",
   "execution_count": 14,
   "metadata": {
    "colab": {
     "base_uri": "https://localhost:8080/"
    },
    "id": "uTjXyRT84xln",
    "outputId": "e0b8d460-7a11-4fa9-df00-12621cf40567"
   },
   "outputs": [
    {
     "data": {
      "text/plain": [
       "(50000, 19)"
      ]
     },
     "execution_count": 14,
     "metadata": {
      "tags": []
     },
     "output_type": "execute_result"
    }
   ],
   "source": [
    "data.shape"
   ]
  },
  {
   "cell_type": "code",
   "execution_count": 15,
   "metadata": {
    "colab": {
     "base_uri": "https://localhost:8080/"
    },
    "id": "_2aEZreI43Cu",
    "outputId": "e0191507-78c6-4d1a-8654-8f5d8bdac313"
   },
   "outputs": [
    {
     "data": {
      "text/plain": [
       "1"
      ]
     },
     "execution_count": 15,
     "metadata": {
      "tags": []
     },
     "output_type": "execute_result"
    }
   ],
   "source": [
    "len(pd.unique(data['posting_id'])) #constant"
   ]
  },
  {
   "cell_type": "code",
   "execution_count": null,
   "metadata": {
    "id": "BWgI72YR1BMK"
   },
   "outputs": [],
   "source": [
    "data.drop(columns=['posting_id'],inplace=True)#since constant column will not contribute so drop"
   ]
  },
  {
   "cell_type": "code",
   "execution_count": 18,
   "metadata": {
    "colab": {
     "base_uri": "https://localhost:8080/"
    },
    "id": "MMX_kOIr5JeG",
    "outputId": "6877f1ac-fa9b-4a9c-a699-f4966148f2c1"
   },
   "outputs": [
    {
     "name": "stdout",
     "output_type": "stream",
     "text": [
      "business_code   0.0\n",
      "cust_number   0.0\n",
      "name_customer   0.0\n",
      "clear_date   0.09058\n",
      "buisness_year   0.0\n",
      "doc_id   0.0\n",
      "posting_date   0.0\n",
      "document_create_date   0.0\n",
      "document_create_date.1   0.0\n",
      "due_in_date   0.0\n",
      "invoice_currency   0.0\n",
      "document type   0.0\n",
      "area_business   1.0\n",
      "total_open_amount   0.0\n",
      "baseline_create_date   0.0\n",
      "cust_payment_terms   0.0\n",
      "invoice_id   0.00014\n",
      "isOpen   0.0\n"
     ]
    }
   ],
   "source": [
    "#checking how many columns of the dataset have mean of null values to preprocess\n",
    "for i in data.columns:\n",
    "  print(i,\" \",data[i].isnull().mean())"
   ]
  },
  {
   "cell_type": "code",
   "execution_count": 19,
   "metadata": {
    "id": "3bZ5LKpo5VzM"
   },
   "outputs": [],
   "source": [
    "#area_business have all null values so drop\n",
    "data.drop(['area_business'],axis=1,inplace=True)"
   ]
  },
  {
   "cell_type": "code",
   "execution_count": 20,
   "metadata": {
    "colab": {
     "base_uri": "https://localhost:8080/"
    },
    "id": "YMUsVdaF6zja",
    "outputId": "2694355b-637b-462b-da80-69552f9646a2"
   },
   "outputs": [
    {
     "data": {
      "text/plain": [
       "7"
      ]
     },
     "execution_count": 20,
     "metadata": {
      "tags": []
     },
     "output_type": "execute_result"
    }
   ],
   "source": [
    "#invoice have some values null\n",
    "data['invoice_id'].isnull().sum()"
   ]
  },
  {
   "cell_type": "code",
   "execution_count": 1,
   "metadata": {
    "colab": {
     "base_uri": "https://localhost:8080/",
     "height": 422
    },
    "id": "9f89gCJ27q-t",
    "outputId": "13c7dc7e-f3f8-4259-b458-c9ee8e68616f"
   },
   "outputs": [
    {
     "ename": "NameError",
     "evalue": "name 'data' is not defined",
     "output_type": "error",
     "traceback": [
      "\u001b[1;31m---------------------------------------------------------------------------\u001b[0m",
      "\u001b[1;31mNameError\u001b[0m                                 Traceback (most recent call last)",
      "\u001b[1;32m~\\AppData\\Local\\Temp/ipykernel_14256/453366945.py\u001b[0m in \u001b[0;36m<module>\u001b[1;34m\u001b[0m\n\u001b[1;32m----> 1\u001b[1;33m \u001b[0mdata\u001b[0m\u001b[1;33m.\u001b[0m\u001b[0mloc\u001b[0m\u001b[1;33m[\u001b[0m\u001b[0mdata\u001b[0m\u001b[1;33m[\u001b[0m\u001b[1;34m'invoice_id'\u001b[0m\u001b[1;33m]\u001b[0m\u001b[1;33m.\u001b[0m\u001b[0misnull\u001b[0m\u001b[1;33m(\u001b[0m\u001b[1;33m)\u001b[0m\u001b[1;33m]\u001b[0m\u001b[1;31m#null values are not useful so drop\u001b[0m\u001b[1;33m\u001b[0m\u001b[1;33m\u001b[0m\u001b[0m\n\u001b[0m",
      "\u001b[1;31mNameError\u001b[0m: name 'data' is not defined"
     ]
    }
   ],
   "source": [
    "data.loc[data['invoice_id'].isnull()]#null values are not useful so drop"
   ]
  },
  {
   "cell_type": "code",
   "execution_count": 22,
   "metadata": {
    "id": "fCngzy107xQ8"
   },
   "outputs": [],
   "source": [
    "#drop 5 invoice having null values\n",
    "data = data.dropna(axis=0, subset=['invoice_id'])"
   ]
  },
  {
   "cell_type": "code",
   "execution_count": 23,
   "metadata": {
    "colab": {
     "base_uri": "https://localhost:8080/"
    },
    "id": "610bgm9K-7Pn",
    "outputId": "d87384eb-0efa-4aab-b171-39cf059680c9"
   },
   "outputs": [
    {
     "data": {
      "text/plain": [
       "0"
      ]
     },
     "execution_count": 23,
     "metadata": {
      "tags": []
     },
     "output_type": "execute_result"
    }
   ],
   "source": [
    "data['invoice_id'].isnull().sum()\n",
    "#once again checking no of null values in invoice id"
   ]
  },
  {
   "cell_type": "code",
   "execution_count": 24,
   "metadata": {
    "colab": {
     "base_uri": "https://localhost:8080/"
    },
    "id": "LXxj6Qt3_CMH",
    "outputId": "ca1f82dd-38a9-460f-d96c-e98de3233c29"
   },
   "outputs": [
    {
     "name": "stdout",
     "output_type": "stream",
     "text": [
      "business_code\n",
      "cust_number\n",
      "name_customer\n",
      "clear_date\n",
      "buisness_year\n",
      "doc_id\n",
      "posting_date\n",
      "document_create_date\n",
      "document_create_date.1\n",
      "due_in_date\n",
      "invoice_currency\n",
      "document type\n",
      "total_open_amount\n",
      "baseline_create_date\n",
      "cust_payment_terms\n",
      "invoice_id\n",
      "isOpen\n"
     ]
    }
   ],
   "source": [
    "for i in data.columns:\n",
    "  print(i)"
   ]
  },
  {
   "cell_type": "code",
   "execution_count": 25,
   "metadata": {
    "colab": {
     "base_uri": "https://localhost:8080/"
    },
    "id": "xfIZuljq_HcZ",
    "outputId": "179267c6-b2da-4f3f-9e1c-cb90af8d4079"
   },
   "outputs": [
    {
     "data": {
      "text/plain": [
       "0"
      ]
     },
     "execution_count": 25,
     "metadata": {
      "tags": []
     },
     "output_type": "execute_result"
    }
   ],
   "source": [
    "#no duplicate rows\n",
    "data.duplicated().sum()"
   ]
  },
  {
   "cell_type": "code",
   "execution_count": 26,
   "metadata": {
    "colab": {
     "base_uri": "https://localhost:8080/"
    },
    "id": "mifLD8zp_Okt",
    "outputId": "4183a900-73c3-4811-c86f-1d9ebe95d5e5"
   },
   "outputs": [
    {
     "data": {
      "text/plain": [
       "1"
      ]
     },
     "execution_count": 26,
     "metadata": {
      "tags": []
     },
     "output_type": "execute_result"
    }
   ],
   "source": [
    "#checking duplicate columns:\n",
    "data_t = data.T\n",
    "data_t.duplicated().sum()\n"
   ]
  },
  {
   "cell_type": "code",
   "execution_count": 27,
   "metadata": {
    "colab": {
     "base_uri": "https://localhost:8080/",
     "height": 129
    },
    "id": "HfrMULoB_XXZ",
    "outputId": "0b88388d-4c95-470a-f67d-f07cfd52a2da"
   },
   "outputs": [
    {
     "data": {
      "text/html": [
       "<div>\n",
       "<style scoped>\n",
       "    .dataframe tbody tr th:only-of-type {\n",
       "        vertical-align: middle;\n",
       "    }\n",
       "\n",
       "    .dataframe tbody tr th {\n",
       "        vertical-align: top;\n",
       "    }\n",
       "\n",
       "    .dataframe thead th {\n",
       "        text-align: right;\n",
       "    }\n",
       "</style>\n",
       "<table border=\"1\" class=\"dataframe\">\n",
       "  <thead>\n",
       "    <tr style=\"text-align: right;\">\n",
       "      <th></th>\n",
       "      <th>0</th>\n",
       "      <th>1</th>\n",
       "      <th>2</th>\n",
       "      <th>3</th>\n",
       "      <th>4</th>\n",
       "      <th>5</th>\n",
       "      <th>6</th>\n",
       "      <th>7</th>\n",
       "      <th>8</th>\n",
       "      <th>9</th>\n",
       "      <th>10</th>\n",
       "      <th>11</th>\n",
       "      <th>12</th>\n",
       "      <th>13</th>\n",
       "      <th>14</th>\n",
       "      <th>15</th>\n",
       "      <th>16</th>\n",
       "      <th>17</th>\n",
       "      <th>18</th>\n",
       "      <th>19</th>\n",
       "      <th>20</th>\n",
       "      <th>21</th>\n",
       "      <th>22</th>\n",
       "      <th>23</th>\n",
       "      <th>24</th>\n",
       "      <th>25</th>\n",
       "      <th>26</th>\n",
       "      <th>27</th>\n",
       "      <th>28</th>\n",
       "      <th>29</th>\n",
       "      <th>30</th>\n",
       "      <th>31</th>\n",
       "      <th>32</th>\n",
       "      <th>33</th>\n",
       "      <th>34</th>\n",
       "      <th>35</th>\n",
       "      <th>36</th>\n",
       "      <th>37</th>\n",
       "      <th>38</th>\n",
       "      <th>39</th>\n",
       "      <th>...</th>\n",
       "      <th>49960</th>\n",
       "      <th>49961</th>\n",
       "      <th>49962</th>\n",
       "      <th>49963</th>\n",
       "      <th>49964</th>\n",
       "      <th>49965</th>\n",
       "      <th>49966</th>\n",
       "      <th>49967</th>\n",
       "      <th>49968</th>\n",
       "      <th>49969</th>\n",
       "      <th>49970</th>\n",
       "      <th>49971</th>\n",
       "      <th>49972</th>\n",
       "      <th>49973</th>\n",
       "      <th>49974</th>\n",
       "      <th>49975</th>\n",
       "      <th>49976</th>\n",
       "      <th>49977</th>\n",
       "      <th>49978</th>\n",
       "      <th>49979</th>\n",
       "      <th>49980</th>\n",
       "      <th>49981</th>\n",
       "      <th>49982</th>\n",
       "      <th>49983</th>\n",
       "      <th>49984</th>\n",
       "      <th>49985</th>\n",
       "      <th>49986</th>\n",
       "      <th>49987</th>\n",
       "      <th>49988</th>\n",
       "      <th>49989</th>\n",
       "      <th>49990</th>\n",
       "      <th>49991</th>\n",
       "      <th>49992</th>\n",
       "      <th>49993</th>\n",
       "      <th>49994</th>\n",
       "      <th>49995</th>\n",
       "      <th>49996</th>\n",
       "      <th>49997</th>\n",
       "      <th>49998</th>\n",
       "      <th>49999</th>\n",
       "    </tr>\n",
       "  </thead>\n",
       "  <tbody>\n",
       "    <tr>\n",
       "      <th>invoice_id</th>\n",
       "      <td>1.92986e+09</td>\n",
       "      <td>1.92979e+09</td>\n",
       "      <td>1.93049e+09</td>\n",
       "      <td>1.92952e+09</td>\n",
       "      <td>1.92946e+09</td>\n",
       "      <td>1.92948e+09</td>\n",
       "      <td>1.93043e+09</td>\n",
       "      <td>1.92903e+09</td>\n",
       "      <td>2.96059e+09</td>\n",
       "      <td>1.92917e+09</td>\n",
       "      <td>2.96057e+09</td>\n",
       "      <td>1.92936e+09</td>\n",
       "      <td>1.9304e+09</td>\n",
       "      <td>1.93021e+09</td>\n",
       "      <td>1.92867e+09</td>\n",
       "      <td>2.96059e+09</td>\n",
       "      <td>1.92971e+09</td>\n",
       "      <td>1.92866e+09</td>\n",
       "      <td>1.92982e+09</td>\n",
       "      <td>1.92941e+09</td>\n",
       "      <td>1.92935e+09</td>\n",
       "      <td>1.92972e+09</td>\n",
       "      <td>1.99183e+09</td>\n",
       "      <td>1.99057e+09</td>\n",
       "      <td>1.92868e+09</td>\n",
       "      <td>1.9299e+09</td>\n",
       "      <td>1.92859e+09</td>\n",
       "      <td>1.92974e+09</td>\n",
       "      <td>1.92862e+09</td>\n",
       "      <td>1.92883e+09</td>\n",
       "      <td>2.96058e+09</td>\n",
       "      <td>1.9302e+09</td>\n",
       "      <td>1.92952e+09</td>\n",
       "      <td>1.92934e+09</td>\n",
       "      <td>1.92938e+09</td>\n",
       "      <td>1.92937e+09</td>\n",
       "      <td>1.93009e+09</td>\n",
       "      <td>1.92882e+09</td>\n",
       "      <td>1.92929e+09</td>\n",
       "      <td>1.92948e+09</td>\n",
       "      <td>...</td>\n",
       "      <td>1.93064e+09</td>\n",
       "      <td>1.93075e+09</td>\n",
       "      <td>1.93072e+09</td>\n",
       "      <td>2.96062e+09</td>\n",
       "      <td>1.93064e+09</td>\n",
       "      <td>1.93067e+09</td>\n",
       "      <td>1.93067e+09</td>\n",
       "      <td>1.93085e+09</td>\n",
       "      <td>1.93062e+09</td>\n",
       "      <td>1.93083e+09</td>\n",
       "      <td>1.93079e+09</td>\n",
       "      <td>1.93068e+09</td>\n",
       "      <td>1.93057e+09</td>\n",
       "      <td>1.93085e+09</td>\n",
       "      <td>1.93071e+09</td>\n",
       "      <td>1.93083e+09</td>\n",
       "      <td>2.96063e+09</td>\n",
       "      <td>1.93064e+09</td>\n",
       "      <td>2.96063e+09</td>\n",
       "      <td>1.93058e+09</td>\n",
       "      <td>1.93072e+09</td>\n",
       "      <td>1.93059e+09</td>\n",
       "      <td>1.93061e+09</td>\n",
       "      <td>1.93081e+09</td>\n",
       "      <td>1.93071e+09</td>\n",
       "      <td>1.93081e+09</td>\n",
       "      <td>1.93071e+09</td>\n",
       "      <td>1.93069e+09</td>\n",
       "      <td>1.93082e+09</td>\n",
       "      <td>1.93072e+09</td>\n",
       "      <td>1.93065e+09</td>\n",
       "      <td>1.93078e+09</td>\n",
       "      <td>1.93073e+09</td>\n",
       "      <td>1.93072e+09</td>\n",
       "      <td>1.93071e+09</td>\n",
       "      <td>1.93083e+09</td>\n",
       "      <td>1.93082e+09</td>\n",
       "      <td>1.93078e+09</td>\n",
       "      <td>1.93072e+09</td>\n",
       "      <td>1.93075e+09</td>\n",
       "    </tr>\n",
       "  </tbody>\n",
       "</table>\n",
       "<p>1 rows × 49993 columns</p>\n",
       "</div>"
      ],
      "text/plain": [
       "                  0            1      ...        49998        49999\n",
       "invoice_id  1.92986e+09  1.92979e+09  ...  1.93072e+09  1.93075e+09\n",
       "\n",
       "[1 rows x 49993 columns]"
      ]
     },
     "execution_count": 27,
     "metadata": {
      "tags": []
     },
     "output_type": "execute_result"
    }
   ],
   "source": [
    "#displaying duplicated column\n",
    "data_t[data_t.duplicated()]"
   ]
  },
  {
   "cell_type": "code",
   "execution_count": 28,
   "metadata": {
    "colab": {
     "base_uri": "https://localhost:8080/"
    },
    "id": "6bpyDA5J_deg",
    "outputId": "907e739c-76b4-4c5f-80d2-e132677e6a6b"
   },
   "outputs": [
    {
     "data": {
      "text/plain": [
       "(49993, 17)"
      ]
     },
     "execution_count": 28,
     "metadata": {
      "tags": []
     },
     "output_type": "execute_result"
    }
   ],
   "source": [
    "#no of rows before removing duplicated columns is 17\n",
    "dt=data_t.T\n",
    "dt.shape"
   ]
  },
  {
   "cell_type": "code",
   "execution_count": 29,
   "metadata": {
    "colab": {
     "base_uri": "https://localhost:8080/"
    },
    "id": "3OOATzKlBTxP",
    "outputId": "f57b4c3f-09d2-4491-fabb-1cd675f87b57"
   },
   "outputs": [
    {
     "data": {
      "text/plain": [
       "(49993, 16)"
      ]
     },
     "execution_count": 29,
     "metadata": {
      "tags": []
     },
     "output_type": "execute_result"
    }
   ],
   "source": [
    "\n",
    "#after removing duplicate column, 16 columns\n",
    "data_unique = data_t.drop_duplicates(keep='first').T\n",
    "data_unique.shape"
   ]
  },
  {
   "cell_type": "code",
   "execution_count": 30,
   "metadata": {
    "colab": {
     "base_uri": "https://localhost:8080/"
    },
    "id": "uP2C1v2rBYaP",
    "outputId": "e494bc42-a2d5-4865-d4e5-43df5e175f6c"
   },
   "outputs": [
    {
     "data": {
      "text/plain": [
       "0"
      ]
     },
     "execution_count": 30,
     "metadata": {
      "tags": []
     },
     "output_type": "execute_result"
    }
   ],
   "source": [
    "#once again checking duplicated rows(of the transpose)\n",
    "data_uni=data_unique.T\n",
    "data_uni.duplicated().sum()"
   ]
  },
  {
   "cell_type": "code",
   "execution_count": 31,
   "metadata": {
    "colab": {
     "base_uri": "https://localhost:8080/",
     "height": 574
    },
    "id": "dDvNH-ngBdip",
    "outputId": "328f5a35-a74b-4d1c-b1b2-dbb86d218808"
   },
   "outputs": [
    {
     "data": {
      "text/html": [
       "<div>\n",
       "<style scoped>\n",
       "    .dataframe tbody tr th:only-of-type {\n",
       "        vertical-align: middle;\n",
       "    }\n",
       "\n",
       "    .dataframe tbody tr th {\n",
       "        vertical-align: top;\n",
       "    }\n",
       "\n",
       "    .dataframe thead th {\n",
       "        text-align: right;\n",
       "    }\n",
       "</style>\n",
       "<table border=\"1\" class=\"dataframe\">\n",
       "  <thead>\n",
       "    <tr style=\"text-align: right;\">\n",
       "      <th></th>\n",
       "      <th>business_code</th>\n",
       "      <th>cust_number</th>\n",
       "      <th>name_customer</th>\n",
       "      <th>clear_date</th>\n",
       "      <th>buisness_year</th>\n",
       "      <th>doc_id</th>\n",
       "      <th>posting_date</th>\n",
       "      <th>document_create_date</th>\n",
       "      <th>document_create_date.1</th>\n",
       "      <th>due_in_date</th>\n",
       "      <th>invoice_currency</th>\n",
       "      <th>document type</th>\n",
       "      <th>total_open_amount</th>\n",
       "      <th>baseline_create_date</th>\n",
       "      <th>cust_payment_terms</th>\n",
       "      <th>isOpen</th>\n",
       "    </tr>\n",
       "  </thead>\n",
       "  <tbody>\n",
       "    <tr>\n",
       "      <th>0</th>\n",
       "      <td>U001</td>\n",
       "      <td>0200780383</td>\n",
       "      <td>MEIJ corporation</td>\n",
       "      <td>2019-09-26 00:00:00</td>\n",
       "      <td>2019</td>\n",
       "      <td>1.92986e+09</td>\n",
       "      <td>2019-09-11</td>\n",
       "      <td>20190910</td>\n",
       "      <td>20190911</td>\n",
       "      <td>2.01909e+07</td>\n",
       "      <td>USD</td>\n",
       "      <td>RV</td>\n",
       "      <td>51844.8</td>\n",
       "      <td>2.01909e+07</td>\n",
       "      <td>NAA8</td>\n",
       "      <td>0</td>\n",
       "    </tr>\n",
       "    <tr>\n",
       "      <th>1</th>\n",
       "      <td>U001</td>\n",
       "      <td>0200762301</td>\n",
       "      <td>C&amp;S WH corporation</td>\n",
       "      <td>2019-09-10 00:00:00</td>\n",
       "      <td>2019</td>\n",
       "      <td>1.92979e+09</td>\n",
       "      <td>2019-08-25</td>\n",
       "      <td>20190824</td>\n",
       "      <td>20190825</td>\n",
       "      <td>2.01909e+07</td>\n",
       "      <td>USD</td>\n",
       "      <td>RV</td>\n",
       "      <td>62110.4</td>\n",
       "      <td>2.01908e+07</td>\n",
       "      <td>NAC6</td>\n",
       "      <td>0</td>\n",
       "    </tr>\n",
       "    <tr>\n",
       "      <th>2</th>\n",
       "      <td>U001</td>\n",
       "      <td>0200769623</td>\n",
       "      <td>WAL-MAR corporation</td>\n",
       "      <td>2020-02-18 00:00:00</td>\n",
       "      <td>2020</td>\n",
       "      <td>1.93049e+09</td>\n",
       "      <td>2020-02-05</td>\n",
       "      <td>20200206</td>\n",
       "      <td>20200205</td>\n",
       "      <td>2.02002e+07</td>\n",
       "      <td>USD</td>\n",
       "      <td>RV</td>\n",
       "      <td>41038.5</td>\n",
       "      <td>2.02002e+07</td>\n",
       "      <td>NAH4</td>\n",
       "      <td>0</td>\n",
       "    </tr>\n",
       "    <tr>\n",
       "      <th>3</th>\n",
       "      <td>U001</td>\n",
       "      <td>100053926</td>\n",
       "      <td>CALD trust</td>\n",
       "      <td>2019-08-21 00:00:00</td>\n",
       "      <td>2019</td>\n",
       "      <td>1.92952e+09</td>\n",
       "      <td>2019-06-20</td>\n",
       "      <td>20190620</td>\n",
       "      <td>20190620</td>\n",
       "      <td>2.01908e+07</td>\n",
       "      <td>USD</td>\n",
       "      <td>RV</td>\n",
       "      <td>1382.94</td>\n",
       "      <td>2.01906e+07</td>\n",
       "      <td>NAVQ</td>\n",
       "      <td>0</td>\n",
       "    </tr>\n",
       "    <tr>\n",
       "      <th>4</th>\n",
       "      <td>U001</td>\n",
       "      <td>0200739534</td>\n",
       "      <td>OK llc</td>\n",
       "      <td>2019-06-26 00:00:00</td>\n",
       "      <td>2019</td>\n",
       "      <td>1.92946e+09</td>\n",
       "      <td>2019-06-07</td>\n",
       "      <td>20190607</td>\n",
       "      <td>20190607</td>\n",
       "      <td>2.01906e+07</td>\n",
       "      <td>USD</td>\n",
       "      <td>RV</td>\n",
       "      <td>85407.3</td>\n",
       "      <td>2.01906e+07</td>\n",
       "      <td>NAA8</td>\n",
       "      <td>0</td>\n",
       "    </tr>\n",
       "    <tr>\n",
       "      <th>...</th>\n",
       "      <td>...</td>\n",
       "      <td>...</td>\n",
       "      <td>...</td>\n",
       "      <td>...</td>\n",
       "      <td>...</td>\n",
       "      <td>...</td>\n",
       "      <td>...</td>\n",
       "      <td>...</td>\n",
       "      <td>...</td>\n",
       "      <td>...</td>\n",
       "      <td>...</td>\n",
       "      <td>...</td>\n",
       "      <td>...</td>\n",
       "      <td>...</td>\n",
       "      <td>...</td>\n",
       "      <td>...</td>\n",
       "    </tr>\n",
       "    <tr>\n",
       "      <th>49995</th>\n",
       "      <td>U001</td>\n",
       "      <td>0200769623</td>\n",
       "      <td>WAL-MAR corp</td>\n",
       "      <td>NaN</td>\n",
       "      <td>2020</td>\n",
       "      <td>1.93083e+09</td>\n",
       "      <td>2020-04-28</td>\n",
       "      <td>20200428</td>\n",
       "      <td>20200428</td>\n",
       "      <td>2.02005e+07</td>\n",
       "      <td>USD</td>\n",
       "      <td>RV</td>\n",
       "      <td>3360.35</td>\n",
       "      <td>2.02004e+07</td>\n",
       "      <td>NAH4</td>\n",
       "      <td>1</td>\n",
       "    </tr>\n",
       "    <tr>\n",
       "      <th>49996</th>\n",
       "      <td>U001</td>\n",
       "      <td>0200353024</td>\n",
       "      <td>DECA corporation</td>\n",
       "      <td>NaN</td>\n",
       "      <td>2020</td>\n",
       "      <td>1.93082e+09</td>\n",
       "      <td>2020-04-23</td>\n",
       "      <td>20200423</td>\n",
       "      <td>20200423</td>\n",
       "      <td>2.02005e+07</td>\n",
       "      <td>USD</td>\n",
       "      <td>RV</td>\n",
       "      <td>6598.36</td>\n",
       "      <td>2.02004e+07</td>\n",
       "      <td>NAM4</td>\n",
       "      <td>1</td>\n",
       "    </tr>\n",
       "    <tr>\n",
       "      <th>49997</th>\n",
       "      <td>U001</td>\n",
       "      <td>0200126819</td>\n",
       "      <td>MCLANE in</td>\n",
       "      <td>NaN</td>\n",
       "      <td>2020</td>\n",
       "      <td>1.93078e+09</td>\n",
       "      <td>2020-04-21</td>\n",
       "      <td>20200414</td>\n",
       "      <td>20200421</td>\n",
       "      <td>2.02005e+07</td>\n",
       "      <td>USD</td>\n",
       "      <td>RV</td>\n",
       "      <td>11168.6</td>\n",
       "      <td>2.02004e+07</td>\n",
       "      <td>NAA8</td>\n",
       "      <td>1</td>\n",
       "    </tr>\n",
       "    <tr>\n",
       "      <th>49998</th>\n",
       "      <td>U001</td>\n",
       "      <td>0200769623</td>\n",
       "      <td>WAL-MAR associates</td>\n",
       "      <td>NaN</td>\n",
       "      <td>2020</td>\n",
       "      <td>1.93072e+09</td>\n",
       "      <td>2020-03-30</td>\n",
       "      <td>20200328</td>\n",
       "      <td>20200330</td>\n",
       "      <td>2.02004e+07</td>\n",
       "      <td>USD</td>\n",
       "      <td>RV</td>\n",
       "      <td>13454.2</td>\n",
       "      <td>2.02003e+07</td>\n",
       "      <td>NAH4</td>\n",
       "      <td>1</td>\n",
       "    </tr>\n",
       "    <tr>\n",
       "      <th>49999</th>\n",
       "      <td>U001</td>\n",
       "      <td>0200769623</td>\n",
       "      <td>WAL-MAR</td>\n",
       "      <td>NaN</td>\n",
       "      <td>2020</td>\n",
       "      <td>1.93075e+09</td>\n",
       "      <td>2020-04-07</td>\n",
       "      <td>20200406</td>\n",
       "      <td>20200407</td>\n",
       "      <td>2.02004e+07</td>\n",
       "      <td>USD</td>\n",
       "      <td>RV</td>\n",
       "      <td>5577.8</td>\n",
       "      <td>2.02004e+07</td>\n",
       "      <td>NAH4</td>\n",
       "      <td>1</td>\n",
       "    </tr>\n",
       "  </tbody>\n",
       "</table>\n",
       "<p>49993 rows × 16 columns</p>\n",
       "</div>"
      ],
      "text/plain": [
       "      business_code cust_number  ... cust_payment_terms isOpen\n",
       "0              U001  0200780383  ...               NAA8      0\n",
       "1              U001  0200762301  ...               NAC6      0\n",
       "2              U001  0200769623  ...               NAH4      0\n",
       "3              U001   100053926  ...               NAVQ      0\n",
       "4              U001  0200739534  ...               NAA8      0\n",
       "...             ...         ...  ...                ...    ...\n",
       "49995          U001  0200769623  ...               NAH4      1\n",
       "49996          U001  0200353024  ...               NAM4      1\n",
       "49997          U001  0200126819  ...               NAA8      1\n",
       "49998          U001  0200769623  ...               NAH4      1\n",
       "49999          U001  0200769623  ...               NAH4      1\n",
       "\n",
       "[49993 rows x 16 columns]"
      ]
     },
     "execution_count": 31,
     "metadata": {
      "tags": []
     },
     "output_type": "execute_result"
    }
   ],
   "source": [
    "data_unique"
   ]
  },
  {
   "cell_type": "code",
   "execution_count": 32,
   "metadata": {
    "colab": {
     "base_uri": "https://localhost:8080/"
    },
    "id": "yE90ISbrBphQ",
    "outputId": "63e92c70-52a1-405a-ab65-49f5c7e1f569"
   },
   "outputs": [
    {
     "data": {
      "text/plain": [
       "1"
      ]
     },
     "execution_count": 32,
     "metadata": {
      "tags": []
     },
     "output_type": "execute_result"
    }
   ],
   "source": [
    "#document type is constant\n",
    "len(pd.unique(data_unique['document type']))"
   ]
  },
  {
   "cell_type": "code",
   "execution_count": 33,
   "metadata": {
    "id": "cJMO73BQBs2Y"
   },
   "outputs": [],
   "source": [
    "#drop cons column\n",
    "data_unique.drop(columns=['document type'],inplace=True)"
   ]
  },
  {
   "cell_type": "code",
   "execution_count": 34,
   "metadata": {
    "colab": {
     "base_uri": "https://localhost:8080/",
     "height": 141
    },
    "id": "tjirE8lWB8Ac",
    "outputId": "374ac4e7-e129-4b3c-f7bc-fd43964bbcca"
   },
   "outputs": [
    {
     "data": {
      "text/html": [
       "<div>\n",
       "<style scoped>\n",
       "    .dataframe tbody tr th:only-of-type {\n",
       "        vertical-align: middle;\n",
       "    }\n",
       "\n",
       "    .dataframe tbody tr th {\n",
       "        vertical-align: top;\n",
       "    }\n",
       "\n",
       "    .dataframe thead th {\n",
       "        text-align: right;\n",
       "    }\n",
       "</style>\n",
       "<table border=\"1\" class=\"dataframe\">\n",
       "  <thead>\n",
       "    <tr style=\"text-align: right;\">\n",
       "      <th></th>\n",
       "      <th>count</th>\n",
       "    </tr>\n",
       "    <tr>\n",
       "      <th>buisness_year</th>\n",
       "      <th></th>\n",
       "    </tr>\n",
       "  </thead>\n",
       "  <tbody>\n",
       "    <tr>\n",
       "      <th>2019.0</th>\n",
       "      <td>39470</td>\n",
       "    </tr>\n",
       "    <tr>\n",
       "      <th>2020.0</th>\n",
       "      <td>10523</td>\n",
       "    </tr>\n",
       "  </tbody>\n",
       "</table>\n",
       "</div>"
      ],
      "text/plain": [
       "               count\n",
       "buisness_year       \n",
       "2019.0         39470\n",
       "2020.0         10523"
      ]
     },
     "execution_count": 34,
     "metadata": {
      "tags": []
     },
     "output_type": "execute_result"
    }
   ],
   "source": [
    "data_unique.groupby(['buisness_year'])['buisness_year'].agg({'count'})"
   ]
  },
  {
   "cell_type": "code",
   "execution_count": 35,
   "metadata": {
    "colab": {
     "base_uri": "https://localhost:8080/"
    },
    "id": "rRqk6nDqB-o9",
    "outputId": "efe45930-dd5f-4095-f894-82dc9a7b344a"
   },
   "outputs": [
    {
     "data": {
      "text/plain": [
       "(49993, 15)"
      ]
     },
     "execution_count": 35,
     "metadata": {
      "tags": []
     },
     "output_type": "execute_result"
    }
   ],
   "source": [
    "data_unique.shape"
   ]
  },
  {
   "cell_type": "code",
   "execution_count": 36,
   "metadata": {
    "id": "8cKL15QNCG-g"
   },
   "outputs": [],
   "source": [
    "#converting to datetime format\n",
    "data_unique['document_create_date']=pd.to_datetime(data_unique['document_create_date'].astype(int).astype(str))\n",
    "data_unique['clear_date']= pd.to_datetime(data_unique['clear_date'])\n",
    "data_unique['due_in_date']= pd.to_datetime(data_unique['due_in_date'].astype(int).astype(str))\n",
    "data_unique['document_create_date.1']= pd.to_datetime(data_unique['document_create_date.1'].astype(int).astype(str))\n",
    "data_unique['posting_date']= pd.to_datetime(data_unique['posting_date'])\n",
    "data_unique['baseline_create_date']= pd.to_datetime(data_unique['baseline_create_date'].astype(int).astype(str))\n"
   ]
  },
  {
   "cell_type": "code",
   "execution_count": 37,
   "metadata": {
    "id": "efnlXWxVCNXy"
   },
   "outputs": [],
   "source": [
    "############splitting into test set and big dataset based on clear date##########3"
   ]
  },
  {
   "cell_type": "code",
   "execution_count": 38,
   "metadata": {
    "colab": {
     "base_uri": "https://localhost:8080/",
     "height": 470
    },
    "id": "tut2-lzQCQBW",
    "outputId": "5bf30cdd-f8f8-4640-8d0b-e0b9e18009e9"
   },
   "outputs": [
    {
     "data": {
      "text/html": [
       "<div>\n",
       "<style scoped>\n",
       "    .dataframe tbody tr th:only-of-type {\n",
       "        vertical-align: middle;\n",
       "    }\n",
       "\n",
       "    .dataframe tbody tr th {\n",
       "        vertical-align: top;\n",
       "    }\n",
       "\n",
       "    .dataframe thead th {\n",
       "        text-align: right;\n",
       "    }\n",
       "</style>\n",
       "<table border=\"1\" class=\"dataframe\">\n",
       "  <thead>\n",
       "    <tr style=\"text-align: right;\">\n",
       "      <th></th>\n",
       "      <th>business_code</th>\n",
       "      <th>cust_number</th>\n",
       "      <th>name_customer</th>\n",
       "      <th>clear_date</th>\n",
       "      <th>buisness_year</th>\n",
       "      <th>doc_id</th>\n",
       "      <th>posting_date</th>\n",
       "      <th>document_create_date</th>\n",
       "      <th>document_create_date.1</th>\n",
       "      <th>due_in_date</th>\n",
       "      <th>invoice_currency</th>\n",
       "      <th>total_open_amount</th>\n",
       "      <th>baseline_create_date</th>\n",
       "      <th>cust_payment_terms</th>\n",
       "      <th>isOpen</th>\n",
       "    </tr>\n",
       "  </thead>\n",
       "  <tbody>\n",
       "    <tr>\n",
       "      <th>0</th>\n",
       "      <td>U001</td>\n",
       "      <td>0200772670</td>\n",
       "      <td>ASSOCIAT corp</td>\n",
       "      <td>NaT</td>\n",
       "      <td>2020</td>\n",
       "      <td>1.93066e+09</td>\n",
       "      <td>2020-03-16</td>\n",
       "      <td>2020-03-16</td>\n",
       "      <td>2020-03-16</td>\n",
       "      <td>2020-03-31</td>\n",
       "      <td>USD</td>\n",
       "      <td>57201.3</td>\n",
       "      <td>2020-03-16</td>\n",
       "      <td>NAU5</td>\n",
       "      <td>1</td>\n",
       "    </tr>\n",
       "    <tr>\n",
       "      <th>1</th>\n",
       "      <td>U001</td>\n",
       "      <td>0200769623</td>\n",
       "      <td>WAL-MAR llc</td>\n",
       "      <td>NaT</td>\n",
       "      <td>2020</td>\n",
       "      <td>1.93086e+09</td>\n",
       "      <td>2020-05-05</td>\n",
       "      <td>2020-05-04</td>\n",
       "      <td>2020-05-05</td>\n",
       "      <td>2020-05-20</td>\n",
       "      <td>USD</td>\n",
       "      <td>39687.8</td>\n",
       "      <td>2020-05-05</td>\n",
       "      <td>NAH4</td>\n",
       "      <td>1</td>\n",
       "    </tr>\n",
       "    <tr>\n",
       "      <th>2</th>\n",
       "      <td>U001</td>\n",
       "      <td>0200769623</td>\n",
       "      <td>WAL-MAR in</td>\n",
       "      <td>NaT</td>\n",
       "      <td>2020</td>\n",
       "      <td>1.93072e+09</td>\n",
       "      <td>2020-03-31</td>\n",
       "      <td>2020-03-30</td>\n",
       "      <td>2020-03-31</td>\n",
       "      <td>2020-04-15</td>\n",
       "      <td>USD</td>\n",
       "      <td>18533.3</td>\n",
       "      <td>2020-03-31</td>\n",
       "      <td>NAH4</td>\n",
       "      <td>1</td>\n",
       "    </tr>\n",
       "    <tr>\n",
       "      <th>3</th>\n",
       "      <td>CA02</td>\n",
       "      <td>0140104440</td>\n",
       "      <td>SO llc</td>\n",
       "      <td>NaT</td>\n",
       "      <td>2020</td>\n",
       "      <td>2.96062e+09</td>\n",
       "      <td>2020-03-17</td>\n",
       "      <td>2020-03-17</td>\n",
       "      <td>2020-03-17</td>\n",
       "      <td>2020-03-27</td>\n",
       "      <td>CAD</td>\n",
       "      <td>85103.7</td>\n",
       "      <td>2020-03-17</td>\n",
       "      <td>CA10</td>\n",
       "      <td>1</td>\n",
       "    </tr>\n",
       "    <tr>\n",
       "      <th>4</th>\n",
       "      <td>U001</td>\n",
       "      <td>0200772595</td>\n",
       "      <td>SAFEW</td>\n",
       "      <td>NaT</td>\n",
       "      <td>2020</td>\n",
       "      <td>1.93067e+09</td>\n",
       "      <td>2020-03-20</td>\n",
       "      <td>2020-03-18</td>\n",
       "      <td>2020-03-20</td>\n",
       "      <td>2020-04-04</td>\n",
       "      <td>USD</td>\n",
       "      <td>115623</td>\n",
       "      <td>2020-03-20</td>\n",
       "      <td>NAA8</td>\n",
       "      <td>1</td>\n",
       "    </tr>\n",
       "    <tr>\n",
       "      <th>...</th>\n",
       "      <td>...</td>\n",
       "      <td>...</td>\n",
       "      <td>...</td>\n",
       "      <td>...</td>\n",
       "      <td>...</td>\n",
       "      <td>...</td>\n",
       "      <td>...</td>\n",
       "      <td>...</td>\n",
       "      <td>...</td>\n",
       "      <td>...</td>\n",
       "      <td>...</td>\n",
       "      <td>...</td>\n",
       "      <td>...</td>\n",
       "      <td>...</td>\n",
       "      <td>...</td>\n",
       "    </tr>\n",
       "    <tr>\n",
       "      <th>4524</th>\n",
       "      <td>U001</td>\n",
       "      <td>0200769623</td>\n",
       "      <td>WAL-MAR corp</td>\n",
       "      <td>NaT</td>\n",
       "      <td>2020</td>\n",
       "      <td>1.93083e+09</td>\n",
       "      <td>2020-04-28</td>\n",
       "      <td>2020-04-28</td>\n",
       "      <td>2020-04-28</td>\n",
       "      <td>2020-05-13</td>\n",
       "      <td>USD</td>\n",
       "      <td>3360.35</td>\n",
       "      <td>2020-04-28</td>\n",
       "      <td>NAH4</td>\n",
       "      <td>1</td>\n",
       "    </tr>\n",
       "    <tr>\n",
       "      <th>4525</th>\n",
       "      <td>U001</td>\n",
       "      <td>0200353024</td>\n",
       "      <td>DECA corporation</td>\n",
       "      <td>NaT</td>\n",
       "      <td>2020</td>\n",
       "      <td>1.93082e+09</td>\n",
       "      <td>2020-04-23</td>\n",
       "      <td>2020-04-23</td>\n",
       "      <td>2020-04-23</td>\n",
       "      <td>2020-05-09</td>\n",
       "      <td>USD</td>\n",
       "      <td>6598.36</td>\n",
       "      <td>2020-04-16</td>\n",
       "      <td>NAM4</td>\n",
       "      <td>1</td>\n",
       "    </tr>\n",
       "    <tr>\n",
       "      <th>4526</th>\n",
       "      <td>U001</td>\n",
       "      <td>0200126819</td>\n",
       "      <td>MCLANE in</td>\n",
       "      <td>NaT</td>\n",
       "      <td>2020</td>\n",
       "      <td>1.93078e+09</td>\n",
       "      <td>2020-04-21</td>\n",
       "      <td>2020-04-14</td>\n",
       "      <td>2020-04-21</td>\n",
       "      <td>2020-05-06</td>\n",
       "      <td>USD</td>\n",
       "      <td>11168.6</td>\n",
       "      <td>2020-04-21</td>\n",
       "      <td>NAA8</td>\n",
       "      <td>1</td>\n",
       "    </tr>\n",
       "    <tr>\n",
       "      <th>4527</th>\n",
       "      <td>U001</td>\n",
       "      <td>0200769623</td>\n",
       "      <td>WAL-MAR associates</td>\n",
       "      <td>NaT</td>\n",
       "      <td>2020</td>\n",
       "      <td>1.93072e+09</td>\n",
       "      <td>2020-03-30</td>\n",
       "      <td>2020-03-28</td>\n",
       "      <td>2020-03-30</td>\n",
       "      <td>2020-04-14</td>\n",
       "      <td>USD</td>\n",
       "      <td>13454.2</td>\n",
       "      <td>2020-03-30</td>\n",
       "      <td>NAH4</td>\n",
       "      <td>1</td>\n",
       "    </tr>\n",
       "    <tr>\n",
       "      <th>4528</th>\n",
       "      <td>U001</td>\n",
       "      <td>0200769623</td>\n",
       "      <td>WAL-MAR</td>\n",
       "      <td>NaT</td>\n",
       "      <td>2020</td>\n",
       "      <td>1.93075e+09</td>\n",
       "      <td>2020-04-07</td>\n",
       "      <td>2020-04-06</td>\n",
       "      <td>2020-04-07</td>\n",
       "      <td>2020-04-22</td>\n",
       "      <td>USD</td>\n",
       "      <td>5577.8</td>\n",
       "      <td>2020-04-07</td>\n",
       "      <td>NAH4</td>\n",
       "      <td>1</td>\n",
       "    </tr>\n",
       "  </tbody>\n",
       "</table>\n",
       "<p>4529 rows × 15 columns</p>\n",
       "</div>"
      ],
      "text/plain": [
       "     business_code cust_number  ... cust_payment_terms isOpen\n",
       "0             U001  0200772670  ...               NAU5      1\n",
       "1             U001  0200769623  ...               NAH4      1\n",
       "2             U001  0200769623  ...               NAH4      1\n",
       "3             CA02  0140104440  ...               CA10      1\n",
       "4             U001  0200772595  ...               NAA8      1\n",
       "...            ...         ...  ...                ...    ...\n",
       "4524          U001  0200769623  ...               NAH4      1\n",
       "4525          U001  0200353024  ...               NAM4      1\n",
       "4526          U001  0200126819  ...               NAA8      1\n",
       "4527          U001  0200769623  ...               NAH4      1\n",
       "4528          U001  0200769623  ...               NAH4      1\n",
       "\n",
       "[4529 rows x 15 columns]"
      ]
     },
     "execution_count": 38,
     "metadata": {
      "tags": []
     },
     "output_type": "execute_result"
    }
   ],
   "source": [
    "#divide test set \n",
    "test_data=data_unique[data_unique.clear_date.isnull()].reset_index(drop=True)\n",
    "test_data"
   ]
  },
  {
   "cell_type": "code",
   "execution_count": 39,
   "metadata": {
    "colab": {
     "base_uri": "https://localhost:8080/",
     "height": 505
    },
    "id": "OToqfLA6CSrw",
    "outputId": "9dbba62e-2bf0-47c7-e2a2-497da3590488"
   },
   "outputs": [
    {
     "data": {
      "text/html": [
       "<div>\n",
       "<style scoped>\n",
       "    .dataframe tbody tr th:only-of-type {\n",
       "        vertical-align: middle;\n",
       "    }\n",
       "\n",
       "    .dataframe tbody tr th {\n",
       "        vertical-align: top;\n",
       "    }\n",
       "\n",
       "    .dataframe thead th {\n",
       "        text-align: right;\n",
       "    }\n",
       "</style>\n",
       "<table border=\"1\" class=\"dataframe\">\n",
       "  <thead>\n",
       "    <tr style=\"text-align: right;\">\n",
       "      <th></th>\n",
       "      <th>business_code</th>\n",
       "      <th>cust_number</th>\n",
       "      <th>name_customer</th>\n",
       "      <th>clear_date</th>\n",
       "      <th>buisness_year</th>\n",
       "      <th>doc_id</th>\n",
       "      <th>posting_date</th>\n",
       "      <th>document_create_date</th>\n",
       "      <th>document_create_date.1</th>\n",
       "      <th>due_in_date</th>\n",
       "      <th>invoice_currency</th>\n",
       "      <th>total_open_amount</th>\n",
       "      <th>baseline_create_date</th>\n",
       "      <th>cust_payment_terms</th>\n",
       "      <th>isOpen</th>\n",
       "    </tr>\n",
       "  </thead>\n",
       "  <tbody>\n",
       "    <tr>\n",
       "      <th>0</th>\n",
       "      <td>U001</td>\n",
       "      <td>0200780383</td>\n",
       "      <td>MEIJ corporation</td>\n",
       "      <td>2019-09-26</td>\n",
       "      <td>2019</td>\n",
       "      <td>1.92986e+09</td>\n",
       "      <td>2019-09-11</td>\n",
       "      <td>2019-09-10</td>\n",
       "      <td>2019-09-11</td>\n",
       "      <td>2019-09-26</td>\n",
       "      <td>USD</td>\n",
       "      <td>51844.8</td>\n",
       "      <td>2019-09-11</td>\n",
       "      <td>NAA8</td>\n",
       "      <td>0</td>\n",
       "    </tr>\n",
       "    <tr>\n",
       "      <th>1</th>\n",
       "      <td>U001</td>\n",
       "      <td>0200762301</td>\n",
       "      <td>C&amp;S WH corporation</td>\n",
       "      <td>2019-09-10</td>\n",
       "      <td>2019</td>\n",
       "      <td>1.92979e+09</td>\n",
       "      <td>2019-08-25</td>\n",
       "      <td>2019-08-24</td>\n",
       "      <td>2019-08-25</td>\n",
       "      <td>2019-09-09</td>\n",
       "      <td>USD</td>\n",
       "      <td>62110.4</td>\n",
       "      <td>2019-08-25</td>\n",
       "      <td>NAC6</td>\n",
       "      <td>0</td>\n",
       "    </tr>\n",
       "    <tr>\n",
       "      <th>2</th>\n",
       "      <td>U001</td>\n",
       "      <td>0200769623</td>\n",
       "      <td>WAL-MAR corporation</td>\n",
       "      <td>2020-02-18</td>\n",
       "      <td>2020</td>\n",
       "      <td>1.93049e+09</td>\n",
       "      <td>2020-02-05</td>\n",
       "      <td>2020-02-06</td>\n",
       "      <td>2020-02-05</td>\n",
       "      <td>2020-02-20</td>\n",
       "      <td>USD</td>\n",
       "      <td>41038.5</td>\n",
       "      <td>2020-02-05</td>\n",
       "      <td>NAH4</td>\n",
       "      <td>0</td>\n",
       "    </tr>\n",
       "    <tr>\n",
       "      <th>3</th>\n",
       "      <td>U001</td>\n",
       "      <td>100053926</td>\n",
       "      <td>CALD trust</td>\n",
       "      <td>2019-08-21</td>\n",
       "      <td>2019</td>\n",
       "      <td>1.92952e+09</td>\n",
       "      <td>2019-06-20</td>\n",
       "      <td>2019-06-20</td>\n",
       "      <td>2019-06-20</td>\n",
       "      <td>2019-08-19</td>\n",
       "      <td>USD</td>\n",
       "      <td>1382.94</td>\n",
       "      <td>2019-06-20</td>\n",
       "      <td>NAVQ</td>\n",
       "      <td>0</td>\n",
       "    </tr>\n",
       "    <tr>\n",
       "      <th>4</th>\n",
       "      <td>U001</td>\n",
       "      <td>0200739534</td>\n",
       "      <td>OK llc</td>\n",
       "      <td>2019-06-26</td>\n",
       "      <td>2019</td>\n",
       "      <td>1.92946e+09</td>\n",
       "      <td>2019-06-07</td>\n",
       "      <td>2019-06-07</td>\n",
       "      <td>2019-06-07</td>\n",
       "      <td>2019-06-22</td>\n",
       "      <td>USD</td>\n",
       "      <td>85407.3</td>\n",
       "      <td>2019-06-07</td>\n",
       "      <td>NAA8</td>\n",
       "      <td>0</td>\n",
       "    </tr>\n",
       "    <tr>\n",
       "      <th>...</th>\n",
       "      <td>...</td>\n",
       "      <td>...</td>\n",
       "      <td>...</td>\n",
       "      <td>...</td>\n",
       "      <td>...</td>\n",
       "      <td>...</td>\n",
       "      <td>...</td>\n",
       "      <td>...</td>\n",
       "      <td>...</td>\n",
       "      <td>...</td>\n",
       "      <td>...</td>\n",
       "      <td>...</td>\n",
       "      <td>...</td>\n",
       "      <td>...</td>\n",
       "      <td>...</td>\n",
       "    </tr>\n",
       "    <tr>\n",
       "      <th>45459</th>\n",
       "      <td>CA02</td>\n",
       "      <td>0140104229</td>\n",
       "      <td>A &amp; W F trust</td>\n",
       "      <td>2020-03-02</td>\n",
       "      <td>2020</td>\n",
       "      <td>2.96061e+09</td>\n",
       "      <td>2020-01-23</td>\n",
       "      <td>2020-01-23</td>\n",
       "      <td>2020-01-23</td>\n",
       "      <td>2020-02-02</td>\n",
       "      <td>CAD</td>\n",
       "      <td>7380.72</td>\n",
       "      <td>2020-01-23</td>\n",
       "      <td>CA10</td>\n",
       "      <td>0</td>\n",
       "    </tr>\n",
       "    <tr>\n",
       "      <th>45460</th>\n",
       "      <td>U001</td>\n",
       "      <td>0200792734</td>\n",
       "      <td>MDV/ systems</td>\n",
       "      <td>2019-10-30</td>\n",
       "      <td>2019</td>\n",
       "      <td>1.92977e+09</td>\n",
       "      <td>2019-08-27</td>\n",
       "      <td>2019-08-21</td>\n",
       "      <td>2019-08-27</td>\n",
       "      <td>2019-10-31</td>\n",
       "      <td>USD</td>\n",
       "      <td>11949.1</td>\n",
       "      <td>2019-08-27</td>\n",
       "      <td>NAGD</td>\n",
       "      <td>0</td>\n",
       "    </tr>\n",
       "    <tr>\n",
       "      <th>45461</th>\n",
       "      <td>CA02</td>\n",
       "      <td>0140106099</td>\n",
       "      <td>SOCIETE  foundation</td>\n",
       "      <td>2019-05-09</td>\n",
       "      <td>2019</td>\n",
       "      <td>2.96054e+09</td>\n",
       "      <td>2019-04-24</td>\n",
       "      <td>2019-04-24</td>\n",
       "      <td>2019-04-24</td>\n",
       "      <td>2019-05-06</td>\n",
       "      <td>CAD</td>\n",
       "      <td>27441</td>\n",
       "      <td>2019-04-26</td>\n",
       "      <td>CA10</td>\n",
       "      <td>0</td>\n",
       "    </tr>\n",
       "    <tr>\n",
       "      <th>45462</th>\n",
       "      <td>U001</td>\n",
       "      <td>200126819</td>\n",
       "      <td>MCLANE trust</td>\n",
       "      <td>2019-02-13</td>\n",
       "      <td>2019</td>\n",
       "      <td>1.92865e+09</td>\n",
       "      <td>2019-01-24</td>\n",
       "      <td>2019-01-21</td>\n",
       "      <td>2019-01-24</td>\n",
       "      <td>2019-02-08</td>\n",
       "      <td>USD</td>\n",
       "      <td>13976</td>\n",
       "      <td>2019-01-24</td>\n",
       "      <td>NAA8</td>\n",
       "      <td>0</td>\n",
       "    </tr>\n",
       "    <tr>\n",
       "      <th>45463</th>\n",
       "      <td>U001</td>\n",
       "      <td>0200742791</td>\n",
       "      <td>QUI us</td>\n",
       "      <td>2019-07-18</td>\n",
       "      <td>2019</td>\n",
       "      <td>1.92956e+09</td>\n",
       "      <td>2019-06-29</td>\n",
       "      <td>2019-06-28</td>\n",
       "      <td>2019-06-29</td>\n",
       "      <td>2019-07-14</td>\n",
       "      <td>USD</td>\n",
       "      <td>4343.4</td>\n",
       "      <td>2019-06-29</td>\n",
       "      <td>NAA8</td>\n",
       "      <td>0</td>\n",
       "    </tr>\n",
       "  </tbody>\n",
       "</table>\n",
       "<p>45464 rows × 15 columns</p>\n",
       "</div>"
      ],
      "text/plain": [
       "      business_code cust_number  ... cust_payment_terms isOpen\n",
       "0              U001  0200780383  ...               NAA8      0\n",
       "1              U001  0200762301  ...               NAC6      0\n",
       "2              U001  0200769623  ...               NAH4      0\n",
       "3              U001   100053926  ...               NAVQ      0\n",
       "4              U001  0200739534  ...               NAA8      0\n",
       "...             ...         ...  ...                ...    ...\n",
       "45459          CA02  0140104229  ...               CA10      0\n",
       "45460          U001  0200792734  ...               NAGD      0\n",
       "45461          CA02  0140106099  ...               CA10      0\n",
       "45462          U001   200126819  ...               NAA8      0\n",
       "45463          U001  0200742791  ...               NAA8      0\n",
       "\n",
       "[45464 rows x 15 columns]"
      ]
     },
     "execution_count": 39,
     "metadata": {
      "tags": []
     },
     "output_type": "execute_result"
    }
   ],
   "source": [
    "#creating rest bigdata set\n",
    "big_set=data_unique[data_unique.clear_date.notnull()].reset_index(drop=True)\n",
    "big_set"
   ]
  },
  {
   "cell_type": "code",
   "execution_count": 40,
   "metadata": {
    "colab": {
     "base_uri": "https://localhost:8080/",
     "height": 69
    },
    "id": "PZu4yMWXCchW",
    "outputId": "eb9f4de5-4671-48e3-b41c-75a96edd9d13"
   },
   "outputs": [
    {
     "data": {
      "text/html": [
       "<div>\n",
       "<style scoped>\n",
       "    .dataframe tbody tr th:only-of-type {\n",
       "        vertical-align: middle;\n",
       "    }\n",
       "\n",
       "    .dataframe tbody tr th {\n",
       "        vertical-align: top;\n",
       "    }\n",
       "\n",
       "    .dataframe thead th {\n",
       "        text-align: right;\n",
       "    }\n",
       "</style>\n",
       "<table border=\"1\" class=\"dataframe\">\n",
       "  <thead>\n",
       "    <tr style=\"text-align: right;\">\n",
       "      <th></th>\n",
       "      <th>business_code</th>\n",
       "      <th>cust_number</th>\n",
       "      <th>name_customer</th>\n",
       "      <th>clear_date</th>\n",
       "      <th>buisness_year</th>\n",
       "      <th>doc_id</th>\n",
       "      <th>posting_date</th>\n",
       "      <th>document_create_date</th>\n",
       "      <th>document_create_date.1</th>\n",
       "      <th>due_in_date</th>\n",
       "      <th>invoice_currency</th>\n",
       "      <th>total_open_amount</th>\n",
       "      <th>baseline_create_date</th>\n",
       "      <th>cust_payment_terms</th>\n",
       "      <th>isOpen</th>\n",
       "    </tr>\n",
       "  </thead>\n",
       "  <tbody>\n",
       "  </tbody>\n",
       "</table>\n",
       "</div>"
      ],
      "text/plain": [
       "Empty DataFrame\n",
       "Columns: [business_code, cust_number, name_customer, clear_date, buisness_year, doc_id, posting_date, document_create_date, document_create_date.1, due_in_date, invoice_currency, total_open_amount, baseline_create_date, cust_payment_terms, isOpen]\n",
       "Index: []"
      ]
     },
     "execution_count": 40,
     "metadata": {
      "tags": []
     },
     "output_type": "execute_result"
    }
   ],
   "source": [
    "df1=big_set[big_set['document_create_date.1']>big_set['clear_date']] ##checking if create date.1 is after than clear date\n",
    "df1"
   ]
  },
  {
   "cell_type": "code",
   "execution_count": 41,
   "metadata": {
    "colab": {
     "base_uri": "https://localhost:8080/"
    },
    "id": "we-GhyakDNLI",
    "outputId": "d3c8d39b-d6d8-440f-f327-86e09321229d"
   },
   "outputs": [
    {
     "name": "stdout",
     "output_type": "stream",
     "text": [
      "Min create date 1 2020-02-27 00:00:00 Max create date 1 2020-05-25 00:00:00\n"
     ]
    }
   ],
   "source": [
    "#Finding min and max dates of create dat.1 of test case\n",
    "min_dt_test=test_data['document_create_date.1'].min()\n",
    "max_dt_test=test_data['document_create_date.1'].max()\n",
    "print(\"Min create date 1\",min_dt_test,\"Max create date 1\",max_dt_test)"
   ]
  },
  {
   "cell_type": "code",
   "execution_count": 42,
   "metadata": {
    "colab": {
     "base_uri": "https://localhost:8080/"
    },
    "id": "XHt1-4XiDW61",
    "outputId": "ef0c62fa-4fef-4e07-c999-8fd4186be8e6"
   },
   "outputs": [
    {
     "name": "stdout",
     "output_type": "stream",
     "text": [
      "Min create date 1 2018-12-30 00:00:00 Max create date 1 2020-02-27 00:00:00\n"
     ]
    }
   ],
   "source": [
    "#Finding min and max dates of create dat.1 of big_set\n",
    "min_dt_big=big_set['document_create_date.1'].min()\n",
    "max_dt_big=big_set['document_create_date.1'].max()\n",
    "print(\"Min create date 1\",min_dt_big,\"Max create date 1\",max_dt_big)"
   ]
  },
  {
   "cell_type": "code",
   "execution_count": 43,
   "metadata": {
    "colab": {
     "base_uri": "https://localhost:8080/"
    },
    "id": "2DIGS0FSDZ4z",
    "outputId": "a49b8f66-6898-4860-84d7-890f0252e5f6"
   },
   "outputs": [
    {
     "data": {
      "text/plain": [
       "(4529, 15)"
      ]
     },
     "execution_count": 43,
     "metadata": {
      "tags": []
     },
     "output_type": "execute_result"
    }
   ],
   "source": [
    "test_data.shape"
   ]
  },
  {
   "cell_type": "code",
   "execution_count": 44,
   "metadata": {
    "id": "0wtAMjF1Dfby"
   },
   "outputs": [],
   "source": [
    "###################splitting big_set to train set, val2, val1 based on document_create_date.1####################"
   ]
  },
  {
   "cell_type": "code",
   "execution_count": 45,
   "metadata": {
    "colab": {
     "base_uri": "https://localhost:8080/"
    },
    "id": "TiVJ0Y8nDiQh",
    "outputId": "d6db2cae-8890-4a0d-ad02-ceb9cc80151a"
   },
   "outputs": [
    {
     "data": {
      "text/plain": [
       "(4344, 15)"
      ]
     },
     "execution_count": 45,
     "metadata": {
      "tags": []
     },
     "output_type": "execute_result"
    }
   ],
   "source": [
    "#splitting to validation set 2\n",
    "val2=big_set[big_set['document_create_date.1'] >= '2020-01-16'].copy()\n",
    "val2.shape"
   ]
  },
  {
   "cell_type": "code",
   "execution_count": 46,
   "metadata": {
    "colab": {
     "base_uri": "https://localhost:8080/",
     "height": 487
    },
    "id": "C9fDvXgBDkgz",
    "outputId": "36634a6b-f5b9-49da-913f-76e82c5202cf"
   },
   "outputs": [
    {
     "data": {
      "text/html": [
       "<div>\n",
       "<style scoped>\n",
       "    .dataframe tbody tr th:only-of-type {\n",
       "        vertical-align: middle;\n",
       "    }\n",
       "\n",
       "    .dataframe tbody tr th {\n",
       "        vertical-align: top;\n",
       "    }\n",
       "\n",
       "    .dataframe thead th {\n",
       "        text-align: right;\n",
       "    }\n",
       "</style>\n",
       "<table border=\"1\" class=\"dataframe\">\n",
       "  <thead>\n",
       "    <tr style=\"text-align: right;\">\n",
       "      <th></th>\n",
       "      <th>business_code</th>\n",
       "      <th>cust_number</th>\n",
       "      <th>name_customer</th>\n",
       "      <th>clear_date</th>\n",
       "      <th>buisness_year</th>\n",
       "      <th>doc_id</th>\n",
       "      <th>posting_date</th>\n",
       "      <th>document_create_date</th>\n",
       "      <th>document_create_date.1</th>\n",
       "      <th>due_in_date</th>\n",
       "      <th>invoice_currency</th>\n",
       "      <th>total_open_amount</th>\n",
       "      <th>baseline_create_date</th>\n",
       "      <th>cust_payment_terms</th>\n",
       "      <th>isOpen</th>\n",
       "    </tr>\n",
       "  </thead>\n",
       "  <tbody>\n",
       "    <tr>\n",
       "      <th>0</th>\n",
       "      <td>U001</td>\n",
       "      <td>0200769623</td>\n",
       "      <td>WAL-MAR corporation</td>\n",
       "      <td>2020-02-18</td>\n",
       "      <td>2020</td>\n",
       "      <td>1.93049e+09</td>\n",
       "      <td>2020-02-05</td>\n",
       "      <td>2020-02-06</td>\n",
       "      <td>2020-02-05</td>\n",
       "      <td>2020-02-20</td>\n",
       "      <td>USD</td>\n",
       "      <td>41038.5</td>\n",
       "      <td>2020-02-05</td>\n",
       "      <td>NAH4</td>\n",
       "      <td>0</td>\n",
       "    </tr>\n",
       "    <tr>\n",
       "      <th>1</th>\n",
       "      <td>U001</td>\n",
       "      <td>0200726979</td>\n",
       "      <td>BJ'S  foundation</td>\n",
       "      <td>2020-02-06</td>\n",
       "      <td>2020</td>\n",
       "      <td>1.93043e+09</td>\n",
       "      <td>2020-01-21</td>\n",
       "      <td>2020-01-22</td>\n",
       "      <td>2020-01-21</td>\n",
       "      <td>2020-02-05</td>\n",
       "      <td>USD</td>\n",
       "      <td>344.72</td>\n",
       "      <td>2020-01-21</td>\n",
       "      <td>NAA8</td>\n",
       "      <td>0</td>\n",
       "    </tr>\n",
       "    <tr>\n",
       "      <th>2</th>\n",
       "      <td>U001</td>\n",
       "      <td>0200794332</td>\n",
       "      <td>COST associates</td>\n",
       "      <td>2020-02-05</td>\n",
       "      <td>2020</td>\n",
       "      <td>1.9304e+09</td>\n",
       "      <td>2020-01-17</td>\n",
       "      <td>2020-01-15</td>\n",
       "      <td>2020-01-17</td>\n",
       "      <td>2020-02-01</td>\n",
       "      <td>USD</td>\n",
       "      <td>30220</td>\n",
       "      <td>2020-01-17</td>\n",
       "      <td>NAAX</td>\n",
       "      <td>0</td>\n",
       "    </tr>\n",
       "    <tr>\n",
       "      <th>3</th>\n",
       "      <td>U001</td>\n",
       "      <td>0200148860</td>\n",
       "      <td>DOLLA in</td>\n",
       "      <td>2020-02-06</td>\n",
       "      <td>2020</td>\n",
       "      <td>1.93042e+09</td>\n",
       "      <td>2020-01-22</td>\n",
       "      <td>2020-01-20</td>\n",
       "      <td>2020-01-22</td>\n",
       "      <td>2020-02-06</td>\n",
       "      <td>USD</td>\n",
       "      <td>15764</td>\n",
       "      <td>2020-01-22</td>\n",
       "      <td>NAA8</td>\n",
       "      <td>0</td>\n",
       "    </tr>\n",
       "    <tr>\n",
       "      <th>4</th>\n",
       "      <td>U001</td>\n",
       "      <td>0200794332</td>\n",
       "      <td>COST llc</td>\n",
       "      <td>2020-03-12</td>\n",
       "      <td>2020</td>\n",
       "      <td>1.93057e+09</td>\n",
       "      <td>2020-02-27</td>\n",
       "      <td>2020-02-26</td>\n",
       "      <td>2020-02-27</td>\n",
       "      <td>2020-03-13</td>\n",
       "      <td>USD</td>\n",
       "      <td>8793.09</td>\n",
       "      <td>2020-02-27</td>\n",
       "      <td>NAAX</td>\n",
       "      <td>0</td>\n",
       "    </tr>\n",
       "    <tr>\n",
       "      <th>...</th>\n",
       "      <td>...</td>\n",
       "      <td>...</td>\n",
       "      <td>...</td>\n",
       "      <td>...</td>\n",
       "      <td>...</td>\n",
       "      <td>...</td>\n",
       "      <td>...</td>\n",
       "      <td>...</td>\n",
       "      <td>...</td>\n",
       "      <td>...</td>\n",
       "      <td>...</td>\n",
       "      <td>...</td>\n",
       "      <td>...</td>\n",
       "      <td>...</td>\n",
       "      <td>...</td>\n",
       "    </tr>\n",
       "    <tr>\n",
       "      <th>4339</th>\n",
       "      <td>U001</td>\n",
       "      <td>0200020431</td>\n",
       "      <td>DEC trust</td>\n",
       "      <td>2020-01-27</td>\n",
       "      <td>2020</td>\n",
       "      <td>1.93043e+09</td>\n",
       "      <td>2020-01-22</td>\n",
       "      <td>2020-01-22</td>\n",
       "      <td>2020-01-22</td>\n",
       "      <td>2020-01-26</td>\n",
       "      <td>USD</td>\n",
       "      <td>17842.9</td>\n",
       "      <td>2020-01-16</td>\n",
       "      <td>NAM2</td>\n",
       "      <td>0</td>\n",
       "    </tr>\n",
       "    <tr>\n",
       "      <th>4340</th>\n",
       "      <td>U001</td>\n",
       "      <td>0200762301</td>\n",
       "      <td>C&amp;S WH co</td>\n",
       "      <td>2020-03-04</td>\n",
       "      <td>2020</td>\n",
       "      <td>1.93053e+09</td>\n",
       "      <td>2020-02-18</td>\n",
       "      <td>2020-02-17</td>\n",
       "      <td>2020-02-18</td>\n",
       "      <td>2020-03-04</td>\n",
       "      <td>USD</td>\n",
       "      <td>9063.93</td>\n",
       "      <td>2020-02-18</td>\n",
       "      <td>NAC6</td>\n",
       "      <td>0</td>\n",
       "    </tr>\n",
       "    <tr>\n",
       "      <th>4341</th>\n",
       "      <td>U001</td>\n",
       "      <td>CCU013</td>\n",
       "      <td>KRAFT F systems</td>\n",
       "      <td>2020-03-27</td>\n",
       "      <td>2020</td>\n",
       "      <td>1.93052e+09</td>\n",
       "      <td>2020-02-15</td>\n",
       "      <td>2020-02-11</td>\n",
       "      <td>2020-02-15</td>\n",
       "      <td>2020-02-15</td>\n",
       "      <td>USD</td>\n",
       "      <td>4275.26</td>\n",
       "      <td>2020-02-15</td>\n",
       "      <td>NAX2</td>\n",
       "      <td>0</td>\n",
       "    </tr>\n",
       "    <tr>\n",
       "      <th>4342</th>\n",
       "      <td>U001</td>\n",
       "      <td>0200762301</td>\n",
       "      <td>C&amp;S WH</td>\n",
       "      <td>2020-02-19</td>\n",
       "      <td>2020</td>\n",
       "      <td>1.93047e+09</td>\n",
       "      <td>2020-02-04</td>\n",
       "      <td>2020-02-02</td>\n",
       "      <td>2020-02-04</td>\n",
       "      <td>2020-02-19</td>\n",
       "      <td>USD</td>\n",
       "      <td>51066.6</td>\n",
       "      <td>2020-02-04</td>\n",
       "      <td>NAC6</td>\n",
       "      <td>0</td>\n",
       "    </tr>\n",
       "    <tr>\n",
       "      <th>4343</th>\n",
       "      <td>CA02</td>\n",
       "      <td>0140104229</td>\n",
       "      <td>A &amp; W F trust</td>\n",
       "      <td>2020-03-02</td>\n",
       "      <td>2020</td>\n",
       "      <td>2.96061e+09</td>\n",
       "      <td>2020-01-23</td>\n",
       "      <td>2020-01-23</td>\n",
       "      <td>2020-01-23</td>\n",
       "      <td>2020-02-02</td>\n",
       "      <td>CAD</td>\n",
       "      <td>7380.72</td>\n",
       "      <td>2020-01-23</td>\n",
       "      <td>CA10</td>\n",
       "      <td>0</td>\n",
       "    </tr>\n",
       "  </tbody>\n",
       "</table>\n",
       "<p>4344 rows × 15 columns</p>\n",
       "</div>"
      ],
      "text/plain": [
       "     business_code cust_number  ... cust_payment_terms isOpen\n",
       "0             U001  0200769623  ...               NAH4      0\n",
       "1             U001  0200726979  ...               NAA8      0\n",
       "2             U001  0200794332  ...               NAAX      0\n",
       "3             U001  0200148860  ...               NAA8      0\n",
       "4             U001  0200794332  ...               NAAX      0\n",
       "...            ...         ...  ...                ...    ...\n",
       "4339          U001  0200020431  ...               NAM2      0\n",
       "4340          U001  0200762301  ...               NAC6      0\n",
       "4341          U001      CCU013  ...               NAX2      0\n",
       "4342          U001  0200762301  ...               NAC6      0\n",
       "4343          CA02  0140104229  ...               CA10      0\n",
       "\n",
       "[4344 rows x 15 columns]"
      ]
     },
     "execution_count": 46,
     "metadata": {
      "tags": []
     },
     "output_type": "execute_result"
    }
   ],
   "source": [
    "val2.reset_index(drop=True)"
   ]
  },
  {
   "cell_type": "code",
   "execution_count": 47,
   "metadata": {
    "colab": {
     "base_uri": "https://localhost:8080/"
    },
    "id": "Q9oV0g-zDnXS",
    "outputId": "aefd8b80-5c35-42ec-a61d-baaa054e0883"
   },
   "outputs": [
    {
     "data": {
      "text/plain": [
       "Timestamp('2020-01-15 00:00:00')"
      ]
     },
     "execution_count": 47,
     "metadata": {
      "tags": []
     },
     "output_type": "execute_result"
    }
   ],
   "source": [
    "#removing validation set 2 from big_set\n",
    "big_set.drop(big_set[big_set['document_create_date.1'] >= '2020-01-16'].index, inplace = True)\n",
    "big_set['document_create_date.1'].max()"
   ]
  },
  {
   "cell_type": "code",
   "execution_count": 48,
   "metadata": {
    "colab": {
     "base_uri": "https://localhost:8080/"
    },
    "id": "ag0EBnRU4MY7",
    "outputId": "45cc2f85-7fbf-41ff-ee2d-e8288a28e667"
   },
   "outputs": [
    {
     "data": {
      "text/plain": [
       "(2962, 15)"
      ]
     },
     "execution_count": 48,
     "metadata": {
      "tags": []
     },
     "output_type": "execute_result"
    }
   ],
   "source": [
    "#splitting rest big set to val1 and train set\n",
    "val1=big_set[big_set['document_create_date.1'] >= '2019-12-05'].copy()\n",
    "val1.shape"
   ]
  },
  {
   "cell_type": "code",
   "execution_count": 49,
   "metadata": {
    "colab": {
     "base_uri": "https://localhost:8080/",
     "height": 453
    },
    "id": "ju92_7zh6vfi",
    "outputId": "78b301a7-bc3c-434a-e439-16b4c3a3a745"
   },
   "outputs": [
    {
     "data": {
      "text/html": [
       "<div>\n",
       "<style scoped>\n",
       "    .dataframe tbody tr th:only-of-type {\n",
       "        vertical-align: middle;\n",
       "    }\n",
       "\n",
       "    .dataframe tbody tr th {\n",
       "        vertical-align: top;\n",
       "    }\n",
       "\n",
       "    .dataframe thead th {\n",
       "        text-align: right;\n",
       "    }\n",
       "</style>\n",
       "<table border=\"1\" class=\"dataframe\">\n",
       "  <thead>\n",
       "    <tr style=\"text-align: right;\">\n",
       "      <th></th>\n",
       "      <th>business_code</th>\n",
       "      <th>cust_number</th>\n",
       "      <th>name_customer</th>\n",
       "      <th>clear_date</th>\n",
       "      <th>buisness_year</th>\n",
       "      <th>doc_id</th>\n",
       "      <th>posting_date</th>\n",
       "      <th>document_create_date</th>\n",
       "      <th>document_create_date.1</th>\n",
       "      <th>due_in_date</th>\n",
       "      <th>invoice_currency</th>\n",
       "      <th>total_open_amount</th>\n",
       "      <th>baseline_create_date</th>\n",
       "      <th>cust_payment_terms</th>\n",
       "      <th>isOpen</th>\n",
       "    </tr>\n",
       "  </thead>\n",
       "  <tbody>\n",
       "    <tr>\n",
       "      <th>0</th>\n",
       "      <td>U002</td>\n",
       "      <td>0200806643</td>\n",
       "      <td>PLAZA WA co</td>\n",
       "      <td>2020-02-18</td>\n",
       "      <td>2020</td>\n",
       "      <td>1.99057e+09</td>\n",
       "      <td>2020-01-10</td>\n",
       "      <td>2020-01-06</td>\n",
       "      <td>2020-01-10</td>\n",
       "      <td>2020-02-14</td>\n",
       "      <td>USD</td>\n",
       "      <td>1264.01</td>\n",
       "      <td>2020-01-10</td>\n",
       "      <td>NAG2</td>\n",
       "      <td>0</td>\n",
       "    </tr>\n",
       "    <tr>\n",
       "      <th>1</th>\n",
       "      <td>U001</td>\n",
       "      <td>0200769623</td>\n",
       "      <td>WAL-MAR co</td>\n",
       "      <td>2020-01-21</td>\n",
       "      <td>2020</td>\n",
       "      <td>1.93039e+09</td>\n",
       "      <td>2020-01-10</td>\n",
       "      <td>2020-01-10</td>\n",
       "      <td>2020-01-10</td>\n",
       "      <td>2020-01-25</td>\n",
       "      <td>USD</td>\n",
       "      <td>943.12</td>\n",
       "      <td>2020-01-10</td>\n",
       "      <td>NAH4</td>\n",
       "      <td>0</td>\n",
       "    </tr>\n",
       "    <tr>\n",
       "      <th>2</th>\n",
       "      <td>U001</td>\n",
       "      <td>0200769623</td>\n",
       "      <td>WAL-MAR associates</td>\n",
       "      <td>2019-12-27</td>\n",
       "      <td>2019</td>\n",
       "      <td>1.93028e+09</td>\n",
       "      <td>2019-12-17</td>\n",
       "      <td>2019-12-15</td>\n",
       "      <td>2019-12-17</td>\n",
       "      <td>2020-01-01</td>\n",
       "      <td>USD</td>\n",
       "      <td>34878.9</td>\n",
       "      <td>2019-12-17</td>\n",
       "      <td>NAH4</td>\n",
       "      <td>0</td>\n",
       "    </tr>\n",
       "    <tr>\n",
       "      <th>3</th>\n",
       "      <td>U001</td>\n",
       "      <td>0200744019</td>\n",
       "      <td>TARG llc</td>\n",
       "      <td>2019-12-26</td>\n",
       "      <td>2019</td>\n",
       "      <td>1.93022e+09</td>\n",
       "      <td>2019-12-07</td>\n",
       "      <td>2019-12-05</td>\n",
       "      <td>2019-12-07</td>\n",
       "      <td>2019-12-22</td>\n",
       "      <td>USD</td>\n",
       "      <td>27710</td>\n",
       "      <td>2019-12-07</td>\n",
       "      <td>NAA8</td>\n",
       "      <td>0</td>\n",
       "    </tr>\n",
       "    <tr>\n",
       "      <th>4</th>\n",
       "      <td>U001</td>\n",
       "      <td>0200700919</td>\n",
       "      <td>US</td>\n",
       "      <td>2019-12-30</td>\n",
       "      <td>2019</td>\n",
       "      <td>1.93027e+09</td>\n",
       "      <td>2019-12-12</td>\n",
       "      <td>2019-12-12</td>\n",
       "      <td>2019-12-12</td>\n",
       "      <td>2019-12-27</td>\n",
       "      <td>USD</td>\n",
       "      <td>72343.1</td>\n",
       "      <td>2019-12-12</td>\n",
       "      <td>NAA8</td>\n",
       "      <td>0</td>\n",
       "    </tr>\n",
       "    <tr>\n",
       "      <th>...</th>\n",
       "      <td>...</td>\n",
       "      <td>...</td>\n",
       "      <td>...</td>\n",
       "      <td>...</td>\n",
       "      <td>...</td>\n",
       "      <td>...</td>\n",
       "      <td>...</td>\n",
       "      <td>...</td>\n",
       "      <td>...</td>\n",
       "      <td>...</td>\n",
       "      <td>...</td>\n",
       "      <td>...</td>\n",
       "      <td>...</td>\n",
       "      <td>...</td>\n",
       "      <td>...</td>\n",
       "    </tr>\n",
       "    <tr>\n",
       "      <th>2957</th>\n",
       "      <td>U001</td>\n",
       "      <td>0200744019</td>\n",
       "      <td>TARG corp</td>\n",
       "      <td>2020-01-24</td>\n",
       "      <td>2020</td>\n",
       "      <td>1.93038e+09</td>\n",
       "      <td>2020-01-09</td>\n",
       "      <td>2020-01-09</td>\n",
       "      <td>2020-01-09</td>\n",
       "      <td>2020-01-24</td>\n",
       "      <td>USD</td>\n",
       "      <td>44346.1</td>\n",
       "      <td>2020-01-09</td>\n",
       "      <td>NAA8</td>\n",
       "      <td>0</td>\n",
       "    </tr>\n",
       "    <tr>\n",
       "      <th>2958</th>\n",
       "      <td>U001</td>\n",
       "      <td>0200726979</td>\n",
       "      <td>BJ'S</td>\n",
       "      <td>2019-12-26</td>\n",
       "      <td>2019</td>\n",
       "      <td>1.93026e+09</td>\n",
       "      <td>2019-12-11</td>\n",
       "      <td>2019-12-11</td>\n",
       "      <td>2019-12-11</td>\n",
       "      <td>2019-12-26</td>\n",
       "      <td>USD</td>\n",
       "      <td>502.72</td>\n",
       "      <td>2019-12-11</td>\n",
       "      <td>NAA8</td>\n",
       "      <td>0</td>\n",
       "    </tr>\n",
       "    <tr>\n",
       "      <th>2959</th>\n",
       "      <td>U001</td>\n",
       "      <td>0200705372</td>\n",
       "      <td>FR trust</td>\n",
       "      <td>2019-12-31</td>\n",
       "      <td>2019</td>\n",
       "      <td>1.93028e+09</td>\n",
       "      <td>2019-12-16</td>\n",
       "      <td>2019-12-14</td>\n",
       "      <td>2019-12-16</td>\n",
       "      <td>2019-12-31</td>\n",
       "      <td>USD</td>\n",
       "      <td>57543.1</td>\n",
       "      <td>2019-12-16</td>\n",
       "      <td>NAA8</td>\n",
       "      <td>0</td>\n",
       "    </tr>\n",
       "    <tr>\n",
       "      <th>2960</th>\n",
       "      <td>U001</td>\n",
       "      <td>0200592182</td>\n",
       "      <td>DECA in</td>\n",
       "      <td>2020-01-15</td>\n",
       "      <td>2020</td>\n",
       "      <td>1.93039e+09</td>\n",
       "      <td>2020-01-13</td>\n",
       "      <td>2020-01-13</td>\n",
       "      <td>2020-01-13</td>\n",
       "      <td>2020-01-24</td>\n",
       "      <td>USD</td>\n",
       "      <td>914.9</td>\n",
       "      <td>2020-01-01</td>\n",
       "      <td>NAM4</td>\n",
       "      <td>0</td>\n",
       "    </tr>\n",
       "    <tr>\n",
       "      <th>2961</th>\n",
       "      <td>U001</td>\n",
       "      <td>0200705742</td>\n",
       "      <td>DOT corp</td>\n",
       "      <td>2020-01-22</td>\n",
       "      <td>2020</td>\n",
       "      <td>1.93036e+09</td>\n",
       "      <td>2020-01-06</td>\n",
       "      <td>2020-01-07</td>\n",
       "      <td>2020-01-06</td>\n",
       "      <td>2020-01-26</td>\n",
       "      <td>USD</td>\n",
       "      <td>64631.6</td>\n",
       "      <td>2020-01-06</td>\n",
       "      <td>NAD1</td>\n",
       "      <td>0</td>\n",
       "    </tr>\n",
       "  </tbody>\n",
       "</table>\n",
       "<p>2962 rows × 15 columns</p>\n",
       "</div>"
      ],
      "text/plain": [
       "     business_code cust_number  ... cust_payment_terms isOpen\n",
       "0             U002  0200806643  ...               NAG2      0\n",
       "1             U001  0200769623  ...               NAH4      0\n",
       "2             U001  0200769623  ...               NAH4      0\n",
       "3             U001  0200744019  ...               NAA8      0\n",
       "4             U001  0200700919  ...               NAA8      0\n",
       "...            ...         ...  ...                ...    ...\n",
       "2957          U001  0200744019  ...               NAA8      0\n",
       "2958          U001  0200726979  ...               NAA8      0\n",
       "2959          U001  0200705372  ...               NAA8      0\n",
       "2960          U001  0200592182  ...               NAM4      0\n",
       "2961          U001  0200705742  ...               NAD1      0\n",
       "\n",
       "[2962 rows x 15 columns]"
      ]
     },
     "execution_count": 49,
     "metadata": {
      "tags": []
     },
     "output_type": "execute_result"
    }
   ],
   "source": [
    "val1.reset_index(drop=True)"
   ]
  },
  {
   "cell_type": "code",
   "execution_count": 50,
   "metadata": {
    "colab": {
     "base_uri": "https://localhost:8080/"
    },
    "id": "EvYc8r6M60xy",
    "outputId": "1aa4aa93-ee0c-4111-8146-0fcfbdc598d9"
   },
   "outputs": [
    {
     "data": {
      "text/plain": [
       "(38158, 15)"
      ]
     },
     "execution_count": 50,
     "metadata": {
      "tags": []
     },
     "output_type": "execute_result"
    }
   ],
   "source": [
    "train_set=big_set[big_set['document_create_date.1'] < '2019-12-05'].copy()\n",
    "train_set.shape"
   ]
  },
  {
   "cell_type": "code",
   "execution_count": 51,
   "metadata": {
    "colab": {
     "base_uri": "https://localhost:8080/",
     "height": 505
    },
    "id": "C_fW-2RB63ot",
    "outputId": "4ac0f27c-bf9d-41b7-939c-b417865e31ef"
   },
   "outputs": [
    {
     "data": {
      "text/html": [
       "<div>\n",
       "<style scoped>\n",
       "    .dataframe tbody tr th:only-of-type {\n",
       "        vertical-align: middle;\n",
       "    }\n",
       "\n",
       "    .dataframe tbody tr th {\n",
       "        vertical-align: top;\n",
       "    }\n",
       "\n",
       "    .dataframe thead th {\n",
       "        text-align: right;\n",
       "    }\n",
       "</style>\n",
       "<table border=\"1\" class=\"dataframe\">\n",
       "  <thead>\n",
       "    <tr style=\"text-align: right;\">\n",
       "      <th></th>\n",
       "      <th>business_code</th>\n",
       "      <th>cust_number</th>\n",
       "      <th>name_customer</th>\n",
       "      <th>clear_date</th>\n",
       "      <th>buisness_year</th>\n",
       "      <th>doc_id</th>\n",
       "      <th>posting_date</th>\n",
       "      <th>document_create_date</th>\n",
       "      <th>document_create_date.1</th>\n",
       "      <th>due_in_date</th>\n",
       "      <th>invoice_currency</th>\n",
       "      <th>total_open_amount</th>\n",
       "      <th>baseline_create_date</th>\n",
       "      <th>cust_payment_terms</th>\n",
       "      <th>isOpen</th>\n",
       "    </tr>\n",
       "  </thead>\n",
       "  <tbody>\n",
       "    <tr>\n",
       "      <th>0</th>\n",
       "      <td>U001</td>\n",
       "      <td>0200780383</td>\n",
       "      <td>MEIJ corporation</td>\n",
       "      <td>2019-09-26</td>\n",
       "      <td>2019</td>\n",
       "      <td>1.92986e+09</td>\n",
       "      <td>2019-09-11</td>\n",
       "      <td>2019-09-10</td>\n",
       "      <td>2019-09-11</td>\n",
       "      <td>2019-09-26</td>\n",
       "      <td>USD</td>\n",
       "      <td>51844.8</td>\n",
       "      <td>2019-09-11</td>\n",
       "      <td>NAA8</td>\n",
       "      <td>0</td>\n",
       "    </tr>\n",
       "    <tr>\n",
       "      <th>1</th>\n",
       "      <td>U001</td>\n",
       "      <td>0200762301</td>\n",
       "      <td>C&amp;S WH corporation</td>\n",
       "      <td>2019-09-10</td>\n",
       "      <td>2019</td>\n",
       "      <td>1.92979e+09</td>\n",
       "      <td>2019-08-25</td>\n",
       "      <td>2019-08-24</td>\n",
       "      <td>2019-08-25</td>\n",
       "      <td>2019-09-09</td>\n",
       "      <td>USD</td>\n",
       "      <td>62110.4</td>\n",
       "      <td>2019-08-25</td>\n",
       "      <td>NAC6</td>\n",
       "      <td>0</td>\n",
       "    </tr>\n",
       "    <tr>\n",
       "      <th>2</th>\n",
       "      <td>U001</td>\n",
       "      <td>100053926</td>\n",
       "      <td>CALD trust</td>\n",
       "      <td>2019-08-21</td>\n",
       "      <td>2019</td>\n",
       "      <td>1.92952e+09</td>\n",
       "      <td>2019-06-20</td>\n",
       "      <td>2019-06-20</td>\n",
       "      <td>2019-06-20</td>\n",
       "      <td>2019-08-19</td>\n",
       "      <td>USD</td>\n",
       "      <td>1382.94</td>\n",
       "      <td>2019-06-20</td>\n",
       "      <td>NAVQ</td>\n",
       "      <td>0</td>\n",
       "    </tr>\n",
       "    <tr>\n",
       "      <th>3</th>\n",
       "      <td>U001</td>\n",
       "      <td>0200739534</td>\n",
       "      <td>OK llc</td>\n",
       "      <td>2019-06-26</td>\n",
       "      <td>2019</td>\n",
       "      <td>1.92946e+09</td>\n",
       "      <td>2019-06-07</td>\n",
       "      <td>2019-06-07</td>\n",
       "      <td>2019-06-07</td>\n",
       "      <td>2019-06-22</td>\n",
       "      <td>USD</td>\n",
       "      <td>85407.3</td>\n",
       "      <td>2019-06-07</td>\n",
       "      <td>NAA8</td>\n",
       "      <td>0</td>\n",
       "    </tr>\n",
       "    <tr>\n",
       "      <th>4</th>\n",
       "      <td>U001</td>\n",
       "      <td>0200337148</td>\n",
       "      <td>COAS co</td>\n",
       "      <td>2019-06-27</td>\n",
       "      <td>2019</td>\n",
       "      <td>1.92948e+09</td>\n",
       "      <td>2019-06-12</td>\n",
       "      <td>2019-06-12</td>\n",
       "      <td>2019-06-12</td>\n",
       "      <td>2019-06-27</td>\n",
       "      <td>USD</td>\n",
       "      <td>47117.7</td>\n",
       "      <td>2019-06-12</td>\n",
       "      <td>NAA8</td>\n",
       "      <td>0</td>\n",
       "    </tr>\n",
       "    <tr>\n",
       "      <th>...</th>\n",
       "      <td>...</td>\n",
       "      <td>...</td>\n",
       "      <td>...</td>\n",
       "      <td>...</td>\n",
       "      <td>...</td>\n",
       "      <td>...</td>\n",
       "      <td>...</td>\n",
       "      <td>...</td>\n",
       "      <td>...</td>\n",
       "      <td>...</td>\n",
       "      <td>...</td>\n",
       "      <td>...</td>\n",
       "      <td>...</td>\n",
       "      <td>...</td>\n",
       "      <td>...</td>\n",
       "    </tr>\n",
       "    <tr>\n",
       "      <th>38153</th>\n",
       "      <td>U001</td>\n",
       "      <td>0200769623</td>\n",
       "      <td>WAL-MAR associates</td>\n",
       "      <td>2019-02-27</td>\n",
       "      <td>2019</td>\n",
       "      <td>1.9288e+09</td>\n",
       "      <td>2019-02-15</td>\n",
       "      <td>2019-02-14</td>\n",
       "      <td>2019-02-15</td>\n",
       "      <td>2019-03-02</td>\n",
       "      <td>USD</td>\n",
       "      <td>10435.8</td>\n",
       "      <td>2019-02-15</td>\n",
       "      <td>NAH4</td>\n",
       "      <td>0</td>\n",
       "    </tr>\n",
       "    <tr>\n",
       "      <th>38154</th>\n",
       "      <td>U001</td>\n",
       "      <td>0200792734</td>\n",
       "      <td>MDV/ systems</td>\n",
       "      <td>2019-10-30</td>\n",
       "      <td>2019</td>\n",
       "      <td>1.92977e+09</td>\n",
       "      <td>2019-08-27</td>\n",
       "      <td>2019-08-21</td>\n",
       "      <td>2019-08-27</td>\n",
       "      <td>2019-10-31</td>\n",
       "      <td>USD</td>\n",
       "      <td>11949.1</td>\n",
       "      <td>2019-08-27</td>\n",
       "      <td>NAGD</td>\n",
       "      <td>0</td>\n",
       "    </tr>\n",
       "    <tr>\n",
       "      <th>38155</th>\n",
       "      <td>CA02</td>\n",
       "      <td>0140106099</td>\n",
       "      <td>SOCIETE  foundation</td>\n",
       "      <td>2019-05-09</td>\n",
       "      <td>2019</td>\n",
       "      <td>2.96054e+09</td>\n",
       "      <td>2019-04-24</td>\n",
       "      <td>2019-04-24</td>\n",
       "      <td>2019-04-24</td>\n",
       "      <td>2019-05-06</td>\n",
       "      <td>CAD</td>\n",
       "      <td>27441</td>\n",
       "      <td>2019-04-26</td>\n",
       "      <td>CA10</td>\n",
       "      <td>0</td>\n",
       "    </tr>\n",
       "    <tr>\n",
       "      <th>38156</th>\n",
       "      <td>U001</td>\n",
       "      <td>200126819</td>\n",
       "      <td>MCLANE trust</td>\n",
       "      <td>2019-02-13</td>\n",
       "      <td>2019</td>\n",
       "      <td>1.92865e+09</td>\n",
       "      <td>2019-01-24</td>\n",
       "      <td>2019-01-21</td>\n",
       "      <td>2019-01-24</td>\n",
       "      <td>2019-02-08</td>\n",
       "      <td>USD</td>\n",
       "      <td>13976</td>\n",
       "      <td>2019-01-24</td>\n",
       "      <td>NAA8</td>\n",
       "      <td>0</td>\n",
       "    </tr>\n",
       "    <tr>\n",
       "      <th>38157</th>\n",
       "      <td>U001</td>\n",
       "      <td>0200742791</td>\n",
       "      <td>QUI us</td>\n",
       "      <td>2019-07-18</td>\n",
       "      <td>2019</td>\n",
       "      <td>1.92956e+09</td>\n",
       "      <td>2019-06-29</td>\n",
       "      <td>2019-06-28</td>\n",
       "      <td>2019-06-29</td>\n",
       "      <td>2019-07-14</td>\n",
       "      <td>USD</td>\n",
       "      <td>4343.4</td>\n",
       "      <td>2019-06-29</td>\n",
       "      <td>NAA8</td>\n",
       "      <td>0</td>\n",
       "    </tr>\n",
       "  </tbody>\n",
       "</table>\n",
       "<p>38158 rows × 15 columns</p>\n",
       "</div>"
      ],
      "text/plain": [
       "      business_code cust_number  ... cust_payment_terms isOpen\n",
       "0              U001  0200780383  ...               NAA8      0\n",
       "1              U001  0200762301  ...               NAC6      0\n",
       "2              U001   100053926  ...               NAVQ      0\n",
       "3              U001  0200739534  ...               NAA8      0\n",
       "4              U001  0200337148  ...               NAA8      0\n",
       "...             ...         ...  ...                ...    ...\n",
       "38153          U001  0200769623  ...               NAH4      0\n",
       "38154          U001  0200792734  ...               NAGD      0\n",
       "38155          CA02  0140106099  ...               CA10      0\n",
       "38156          U001   200126819  ...               NAA8      0\n",
       "38157          U001  0200742791  ...               NAA8      0\n",
       "\n",
       "[38158 rows x 15 columns]"
      ]
     },
     "execution_count": 51,
     "metadata": {
      "tags": []
     },
     "output_type": "execute_result"
    }
   ],
   "source": [
    "train_set.reset_index(drop=True)"
   ]
  },
  {
   "cell_type": "code",
   "execution_count": 52,
   "metadata": {
    "id": "ThyO-sIC65rx"
   },
   "outputs": [],
   "source": [
    "##############target label#################"
   ]
  },
  {
   "cell_type": "code",
   "execution_count": 53,
   "metadata": {
    "id": "AzeHtwV27Vjd"
   },
   "outputs": [],
   "source": [
    "train_set['target_delay']=(train_set['clear_date'] - train_set['due_in_date'])\n",
    "train_set['target_delay']=train_set['target_delay'].dt.days\n"
   ]
  },
  {
   "cell_type": "code",
   "execution_count": 54,
   "metadata": {
    "colab": {
     "base_uri": "https://localhost:8080/",
     "height": 79
    },
    "id": "E3kDDiiM7XSe",
    "outputId": "120b5b68-17e2-4b42-c80d-61d14804cc59"
   },
   "outputs": [
    {
     "data": {
      "text/html": [
       "<div>\n",
       "<style scoped>\n",
       "    .dataframe tbody tr th:only-of-type {\n",
       "        vertical-align: middle;\n",
       "    }\n",
       "\n",
       "    .dataframe tbody tr th {\n",
       "        vertical-align: top;\n",
       "    }\n",
       "\n",
       "    .dataframe thead th {\n",
       "        text-align: right;\n",
       "    }\n",
       "</style>\n",
       "<table border=\"1\" class=\"dataframe\">\n",
       "  <thead>\n",
       "    <tr style=\"text-align: right;\">\n",
       "      <th></th>\n",
       "      <th>target_delay</th>\n",
       "    </tr>\n",
       "  </thead>\n",
       "  <tbody>\n",
       "    <tr>\n",
       "      <th>target_delay</th>\n",
       "      <td>1.0</td>\n",
       "    </tr>\n",
       "  </tbody>\n",
       "</table>\n",
       "</div>"
      ],
      "text/plain": [
       "              target_delay\n",
       "target_delay           1.0"
      ]
     },
     "execution_count": 54,
     "metadata": {
      "tags": []
     },
     "output_type": "execute_result"
    }
   ],
   "source": [
    "train_set.corr()"
   ]
  },
  {
   "cell_type": "code",
   "execution_count": 55,
   "metadata": {
    "colab": {
     "base_uri": "https://localhost:8080/"
    },
    "id": "Y64_k2nH7Zc0",
    "outputId": "361c43b7-7104-489c-ed94-6029a6b9183b"
   },
   "outputs": [
    {
     "data": {
      "text/plain": [
       "count    38158.000000\n",
       "mean         1.068714\n",
       "std         11.109426\n",
       "min        -81.000000\n",
       "25%         -3.000000\n",
       "50%          0.000000\n",
       "75%          2.000000\n",
       "max        212.000000\n",
       "Name: target_delay, dtype: float64"
      ]
     },
     "execution_count": 55,
     "metadata": {
      "tags": []
     },
     "output_type": "execute_result"
    }
   ],
   "source": [
    "train_set['target_delay'].describe()\n"
   ]
  },
  {
   "cell_type": "code",
   "execution_count": 56,
   "metadata": {
    "id": "10rqxCsV7bcL"
   },
   "outputs": [],
   "source": [
    "#setting target_delay in val1 and  val2\n",
    "val1['target_delay']=(val1['clear_date'] - val1['due_in_date'])\n",
    "val1['target_delay']=val1['target_delay'].dt.days\n",
    "\n",
    "val2['target_delay']=(val2['clear_date'] - val2['due_in_date'])\n",
    "val2['target_delay']=val2['target_delay'].dt.days\n",
    "\n"
   ]
  },
  {
   "cell_type": "code",
   "execution_count": 57,
   "metadata": {
    "id": "NH0_cDlf7ejh"
   },
   "outputs": [],
   "source": [
    "###############################EDA and Feauture Engineering##########################"
   ]
  },
  {
   "cell_type": "code",
   "execution_count": 58,
   "metadata": {
    "id": "zVzgqqtP7oXL"
   },
   "outputs": [],
   "source": [
    "import seaborn as sns, numpy as np"
   ]
  },
  {
   "cell_type": "code",
   "execution_count": 59,
   "metadata": {
    "id": "K685EicW7qMM"
   },
   "outputs": [],
   "source": [
    "########ENCODING STRING COLUMNS################ "
   ]
  },
  {
   "cell_type": "code",
   "execution_count": 60,
   "metadata": {
    "colab": {
     "base_uri": "https://localhost:8080/"
    },
    "id": "gxCN5nMZ7tpW",
    "outputId": "40011466-879f-4b14-ca1b-772b56fe04be"
   },
   "outputs": [
    {
     "data": {
      "text/plain": [
       "business_code                     object\n",
       "cust_number                       object\n",
       "name_customer                     object\n",
       "clear_date                datetime64[ns]\n",
       "buisness_year                     object\n",
       "doc_id                            object\n",
       "posting_date              datetime64[ns]\n",
       "document_create_date      datetime64[ns]\n",
       "document_create_date.1    datetime64[ns]\n",
       "due_in_date               datetime64[ns]\n",
       "invoice_currency                  object\n",
       "total_open_amount                 object\n",
       "baseline_create_date      datetime64[ns]\n",
       "cust_payment_terms                object\n",
       "isOpen                            object\n",
       "target_delay                       int64\n",
       "dtype: object"
      ]
     },
     "execution_count": 60,
     "metadata": {
      "tags": []
     },
     "output_type": "execute_result"
    }
   ],
   "source": [
    "#encoding the train_set\n",
    "train_set.dtypes"
   ]
  },
  {
   "cell_type": "code",
   "execution_count": 61,
   "metadata": {
    "colab": {
     "base_uri": "https://localhost:8080/",
     "height": 253
    },
    "id": "LUZXVmfb7vk4",
    "outputId": "a719881a-8d7f-4493-c04b-467040fbe9f1"
   },
   "outputs": [
    {
     "data": {
      "text/html": [
       "<div>\n",
       "<style scoped>\n",
       "    .dataframe tbody tr th:only-of-type {\n",
       "        vertical-align: middle;\n",
       "    }\n",
       "\n",
       "    .dataframe tbody tr th {\n",
       "        vertical-align: top;\n",
       "    }\n",
       "\n",
       "    .dataframe thead th {\n",
       "        text-align: right;\n",
       "    }\n",
       "</style>\n",
       "<table border=\"1\" class=\"dataframe\">\n",
       "  <thead>\n",
       "    <tr style=\"text-align: right;\">\n",
       "      <th></th>\n",
       "      <th>cust_number</th>\n",
       "      <th>name_customer</th>\n",
       "      <th>clear_date</th>\n",
       "      <th>buisness_year</th>\n",
       "      <th>doc_id</th>\n",
       "      <th>posting_date</th>\n",
       "      <th>document_create_date</th>\n",
       "      <th>document_create_date.1</th>\n",
       "      <th>due_in_date</th>\n",
       "      <th>invoice_currency</th>\n",
       "      <th>total_open_amount</th>\n",
       "      <th>baseline_create_date</th>\n",
       "      <th>cust_payment_terms</th>\n",
       "      <th>isOpen</th>\n",
       "      <th>target_delay</th>\n",
       "    </tr>\n",
       "    <tr>\n",
       "      <th>business_code</th>\n",
       "      <th></th>\n",
       "      <th></th>\n",
       "      <th></th>\n",
       "      <th></th>\n",
       "      <th></th>\n",
       "      <th></th>\n",
       "      <th></th>\n",
       "      <th></th>\n",
       "      <th></th>\n",
       "      <th></th>\n",
       "      <th></th>\n",
       "      <th></th>\n",
       "      <th></th>\n",
       "      <th></th>\n",
       "      <th></th>\n",
       "    </tr>\n",
       "  </thead>\n",
       "  <tbody>\n",
       "    <tr>\n",
       "      <th>CA02</th>\n",
       "      <td>3100</td>\n",
       "      <td>3100</td>\n",
       "      <td>3100</td>\n",
       "      <td>3100</td>\n",
       "      <td>3100</td>\n",
       "      <td>3100</td>\n",
       "      <td>3100</td>\n",
       "      <td>3100</td>\n",
       "      <td>3100</td>\n",
       "      <td>3100</td>\n",
       "      <td>3100</td>\n",
       "      <td>3100</td>\n",
       "      <td>3100</td>\n",
       "      <td>3100</td>\n",
       "      <td>3100</td>\n",
       "    </tr>\n",
       "    <tr>\n",
       "      <th>U001</th>\n",
       "      <td>34393</td>\n",
       "      <td>34393</td>\n",
       "      <td>34393</td>\n",
       "      <td>34393</td>\n",
       "      <td>34393</td>\n",
       "      <td>34393</td>\n",
       "      <td>34393</td>\n",
       "      <td>34393</td>\n",
       "      <td>34393</td>\n",
       "      <td>34393</td>\n",
       "      <td>34393</td>\n",
       "      <td>34393</td>\n",
       "      <td>34393</td>\n",
       "      <td>34393</td>\n",
       "      <td>34393</td>\n",
       "    </tr>\n",
       "    <tr>\n",
       "      <th>U002</th>\n",
       "      <td>140</td>\n",
       "      <td>140</td>\n",
       "      <td>140</td>\n",
       "      <td>140</td>\n",
       "      <td>140</td>\n",
       "      <td>140</td>\n",
       "      <td>140</td>\n",
       "      <td>140</td>\n",
       "      <td>140</td>\n",
       "      <td>140</td>\n",
       "      <td>140</td>\n",
       "      <td>140</td>\n",
       "      <td>140</td>\n",
       "      <td>140</td>\n",
       "      <td>140</td>\n",
       "    </tr>\n",
       "    <tr>\n",
       "      <th>U005</th>\n",
       "      <td>11</td>\n",
       "      <td>11</td>\n",
       "      <td>11</td>\n",
       "      <td>11</td>\n",
       "      <td>11</td>\n",
       "      <td>11</td>\n",
       "      <td>11</td>\n",
       "      <td>11</td>\n",
       "      <td>11</td>\n",
       "      <td>11</td>\n",
       "      <td>11</td>\n",
       "      <td>11</td>\n",
       "      <td>11</td>\n",
       "      <td>11</td>\n",
       "      <td>11</td>\n",
       "    </tr>\n",
       "    <tr>\n",
       "      <th>U013</th>\n",
       "      <td>514</td>\n",
       "      <td>514</td>\n",
       "      <td>514</td>\n",
       "      <td>514</td>\n",
       "      <td>514</td>\n",
       "      <td>514</td>\n",
       "      <td>514</td>\n",
       "      <td>514</td>\n",
       "      <td>514</td>\n",
       "      <td>514</td>\n",
       "      <td>514</td>\n",
       "      <td>514</td>\n",
       "      <td>514</td>\n",
       "      <td>514</td>\n",
       "      <td>514</td>\n",
       "    </tr>\n",
       "  </tbody>\n",
       "</table>\n",
       "</div>"
      ],
      "text/plain": [
       "               cust_number  name_customer  ...  isOpen  target_delay\n",
       "business_code                              ...                      \n",
       "CA02                  3100           3100  ...    3100          3100\n",
       "U001                 34393          34393  ...   34393         34393\n",
       "U002                   140            140  ...     140           140\n",
       "U005                    11             11  ...      11            11\n",
       "U013                   514            514  ...     514           514\n",
       "\n",
       "[5 rows x 15 columns]"
      ]
     },
     "execution_count": 61,
     "metadata": {
      "tags": []
     },
     "output_type": "execute_result"
    }
   ],
   "source": [
    "#converting to numerical columns\n",
    "\n",
    "#1.Business code\n",
    "from sklearn.preprocessing import LabelEncoder\n",
    "labelencoder = LabelEncoder()\n",
    "train_set.groupby(['business_code']).count()\n",
    "\n"
   ]
  },
  {
   "cell_type": "code",
   "execution_count": 62,
   "metadata": {
    "colab": {
     "base_uri": "https://localhost:8080/",
     "height": 505
    },
    "id": "V7dQKe987yJj",
    "outputId": "9341b416-208e-46f4-e610-5208c42d5d07"
   },
   "outputs": [
    {
     "data": {
      "text/html": [
       "<div>\n",
       "<style scoped>\n",
       "    .dataframe tbody tr th:only-of-type {\n",
       "        vertical-align: middle;\n",
       "    }\n",
       "\n",
       "    .dataframe tbody tr th {\n",
       "        vertical-align: top;\n",
       "    }\n",
       "\n",
       "    .dataframe thead th {\n",
       "        text-align: right;\n",
       "    }\n",
       "</style>\n",
       "<table border=\"1\" class=\"dataframe\">\n",
       "  <thead>\n",
       "    <tr style=\"text-align: right;\">\n",
       "      <th></th>\n",
       "      <th>business_code</th>\n",
       "      <th>cust_number</th>\n",
       "      <th>name_customer</th>\n",
       "      <th>clear_date</th>\n",
       "      <th>buisness_year</th>\n",
       "      <th>doc_id</th>\n",
       "      <th>posting_date</th>\n",
       "      <th>document_create_date</th>\n",
       "      <th>document_create_date.1</th>\n",
       "      <th>due_in_date</th>\n",
       "      <th>invoice_currency</th>\n",
       "      <th>total_open_amount</th>\n",
       "      <th>baseline_create_date</th>\n",
       "      <th>cust_payment_terms</th>\n",
       "      <th>isOpen</th>\n",
       "      <th>target_delay</th>\n",
       "    </tr>\n",
       "  </thead>\n",
       "  <tbody>\n",
       "    <tr>\n",
       "      <th>0</th>\n",
       "      <td>1</td>\n",
       "      <td>0200780383</td>\n",
       "      <td>MEIJ corporation</td>\n",
       "      <td>2019-09-26</td>\n",
       "      <td>2019</td>\n",
       "      <td>1.92986e+09</td>\n",
       "      <td>2019-09-11</td>\n",
       "      <td>2019-09-10</td>\n",
       "      <td>2019-09-11</td>\n",
       "      <td>2019-09-26</td>\n",
       "      <td>USD</td>\n",
       "      <td>51844.8</td>\n",
       "      <td>2019-09-11</td>\n",
       "      <td>NAA8</td>\n",
       "      <td>0</td>\n",
       "      <td>0</td>\n",
       "    </tr>\n",
       "    <tr>\n",
       "      <th>1</th>\n",
       "      <td>1</td>\n",
       "      <td>0200762301</td>\n",
       "      <td>C&amp;S WH corporation</td>\n",
       "      <td>2019-09-10</td>\n",
       "      <td>2019</td>\n",
       "      <td>1.92979e+09</td>\n",
       "      <td>2019-08-25</td>\n",
       "      <td>2019-08-24</td>\n",
       "      <td>2019-08-25</td>\n",
       "      <td>2019-09-09</td>\n",
       "      <td>USD</td>\n",
       "      <td>62110.4</td>\n",
       "      <td>2019-08-25</td>\n",
       "      <td>NAC6</td>\n",
       "      <td>0</td>\n",
       "      <td>1</td>\n",
       "    </tr>\n",
       "    <tr>\n",
       "      <th>3</th>\n",
       "      <td>1</td>\n",
       "      <td>100053926</td>\n",
       "      <td>CALD trust</td>\n",
       "      <td>2019-08-21</td>\n",
       "      <td>2019</td>\n",
       "      <td>1.92952e+09</td>\n",
       "      <td>2019-06-20</td>\n",
       "      <td>2019-06-20</td>\n",
       "      <td>2019-06-20</td>\n",
       "      <td>2019-08-19</td>\n",
       "      <td>USD</td>\n",
       "      <td>1382.94</td>\n",
       "      <td>2019-06-20</td>\n",
       "      <td>NAVQ</td>\n",
       "      <td>0</td>\n",
       "      <td>2</td>\n",
       "    </tr>\n",
       "    <tr>\n",
       "      <th>4</th>\n",
       "      <td>1</td>\n",
       "      <td>0200739534</td>\n",
       "      <td>OK llc</td>\n",
       "      <td>2019-06-26</td>\n",
       "      <td>2019</td>\n",
       "      <td>1.92946e+09</td>\n",
       "      <td>2019-06-07</td>\n",
       "      <td>2019-06-07</td>\n",
       "      <td>2019-06-07</td>\n",
       "      <td>2019-06-22</td>\n",
       "      <td>USD</td>\n",
       "      <td>85407.3</td>\n",
       "      <td>2019-06-07</td>\n",
       "      <td>NAA8</td>\n",
       "      <td>0</td>\n",
       "      <td>4</td>\n",
       "    </tr>\n",
       "    <tr>\n",
       "      <th>5</th>\n",
       "      <td>1</td>\n",
       "      <td>0200337148</td>\n",
       "      <td>COAS co</td>\n",
       "      <td>2019-06-27</td>\n",
       "      <td>2019</td>\n",
       "      <td>1.92948e+09</td>\n",
       "      <td>2019-06-12</td>\n",
       "      <td>2019-06-12</td>\n",
       "      <td>2019-06-12</td>\n",
       "      <td>2019-06-27</td>\n",
       "      <td>USD</td>\n",
       "      <td>47117.7</td>\n",
       "      <td>2019-06-12</td>\n",
       "      <td>NAA8</td>\n",
       "      <td>0</td>\n",
       "      <td>0</td>\n",
       "    </tr>\n",
       "    <tr>\n",
       "      <th>...</th>\n",
       "      <td>...</td>\n",
       "      <td>...</td>\n",
       "      <td>...</td>\n",
       "      <td>...</td>\n",
       "      <td>...</td>\n",
       "      <td>...</td>\n",
       "      <td>...</td>\n",
       "      <td>...</td>\n",
       "      <td>...</td>\n",
       "      <td>...</td>\n",
       "      <td>...</td>\n",
       "      <td>...</td>\n",
       "      <td>...</td>\n",
       "      <td>...</td>\n",
       "      <td>...</td>\n",
       "      <td>...</td>\n",
       "    </tr>\n",
       "    <tr>\n",
       "      <th>45458</th>\n",
       "      <td>1</td>\n",
       "      <td>0200769623</td>\n",
       "      <td>WAL-MAR associates</td>\n",
       "      <td>2019-02-27</td>\n",
       "      <td>2019</td>\n",
       "      <td>1.9288e+09</td>\n",
       "      <td>2019-02-15</td>\n",
       "      <td>2019-02-14</td>\n",
       "      <td>2019-02-15</td>\n",
       "      <td>2019-03-02</td>\n",
       "      <td>USD</td>\n",
       "      <td>10435.8</td>\n",
       "      <td>2019-02-15</td>\n",
       "      <td>NAH4</td>\n",
       "      <td>0</td>\n",
       "      <td>-3</td>\n",
       "    </tr>\n",
       "    <tr>\n",
       "      <th>45460</th>\n",
       "      <td>1</td>\n",
       "      <td>0200792734</td>\n",
       "      <td>MDV/ systems</td>\n",
       "      <td>2019-10-30</td>\n",
       "      <td>2019</td>\n",
       "      <td>1.92977e+09</td>\n",
       "      <td>2019-08-27</td>\n",
       "      <td>2019-08-21</td>\n",
       "      <td>2019-08-27</td>\n",
       "      <td>2019-10-31</td>\n",
       "      <td>USD</td>\n",
       "      <td>11949.1</td>\n",
       "      <td>2019-08-27</td>\n",
       "      <td>NAGD</td>\n",
       "      <td>0</td>\n",
       "      <td>-1</td>\n",
       "    </tr>\n",
       "    <tr>\n",
       "      <th>45461</th>\n",
       "      <td>0</td>\n",
       "      <td>0140106099</td>\n",
       "      <td>SOCIETE  foundation</td>\n",
       "      <td>2019-05-09</td>\n",
       "      <td>2019</td>\n",
       "      <td>2.96054e+09</td>\n",
       "      <td>2019-04-24</td>\n",
       "      <td>2019-04-24</td>\n",
       "      <td>2019-04-24</td>\n",
       "      <td>2019-05-06</td>\n",
       "      <td>CAD</td>\n",
       "      <td>27441</td>\n",
       "      <td>2019-04-26</td>\n",
       "      <td>CA10</td>\n",
       "      <td>0</td>\n",
       "      <td>3</td>\n",
       "    </tr>\n",
       "    <tr>\n",
       "      <th>45462</th>\n",
       "      <td>1</td>\n",
       "      <td>200126819</td>\n",
       "      <td>MCLANE trust</td>\n",
       "      <td>2019-02-13</td>\n",
       "      <td>2019</td>\n",
       "      <td>1.92865e+09</td>\n",
       "      <td>2019-01-24</td>\n",
       "      <td>2019-01-21</td>\n",
       "      <td>2019-01-24</td>\n",
       "      <td>2019-02-08</td>\n",
       "      <td>USD</td>\n",
       "      <td>13976</td>\n",
       "      <td>2019-01-24</td>\n",
       "      <td>NAA8</td>\n",
       "      <td>0</td>\n",
       "      <td>5</td>\n",
       "    </tr>\n",
       "    <tr>\n",
       "      <th>45463</th>\n",
       "      <td>1</td>\n",
       "      <td>0200742791</td>\n",
       "      <td>QUI us</td>\n",
       "      <td>2019-07-18</td>\n",
       "      <td>2019</td>\n",
       "      <td>1.92956e+09</td>\n",
       "      <td>2019-06-29</td>\n",
       "      <td>2019-06-28</td>\n",
       "      <td>2019-06-29</td>\n",
       "      <td>2019-07-14</td>\n",
       "      <td>USD</td>\n",
       "      <td>4343.4</td>\n",
       "      <td>2019-06-29</td>\n",
       "      <td>NAA8</td>\n",
       "      <td>0</td>\n",
       "      <td>4</td>\n",
       "    </tr>\n",
       "  </tbody>\n",
       "</table>\n",
       "<p>38158 rows × 16 columns</p>\n",
       "</div>"
      ],
      "text/plain": [
       "       business_code cust_number  ... isOpen target_delay\n",
       "0                  1  0200780383  ...      0            0\n",
       "1                  1  0200762301  ...      0            1\n",
       "3                  1   100053926  ...      0            2\n",
       "4                  1  0200739534  ...      0            4\n",
       "5                  1  0200337148  ...      0            0\n",
       "...              ...         ...  ...    ...          ...\n",
       "45458              1  0200769623  ...      0           -3\n",
       "45460              1  0200792734  ...      0           -1\n",
       "45461              0  0140106099  ...      0            3\n",
       "45462              1   200126819  ...      0            5\n",
       "45463              1  0200742791  ...      0            4\n",
       "\n",
       "[38158 rows x 16 columns]"
      ]
     },
     "execution_count": 62,
     "metadata": {
      "tags": []
     },
     "output_type": "execute_result"
    }
   ],
   "source": [
    "#label encoding in business code\n",
    "labelencoder = LabelEncoder()\n",
    "\n",
    "train_set['business_code'] = labelencoder.fit_transform(train_set['business_code'])\n",
    "test_data['business_code'] = labelencoder.transform(test_data['business_code'])\n",
    "\n",
    "val1['business_code'] = labelencoder.transform(val1['business_code'])\n",
    "\n",
    "val2['business_code'] = labelencoder.transform(val2['business_code'])\n",
    "\n",
    "train_set\n",
    "\n",
    "\n"
   ]
  },
  {
   "cell_type": "code",
   "execution_count": 63,
   "metadata": {
    "colab": {
     "base_uri": "https://localhost:8080/"
    },
    "id": "APP6GNpZ70-w",
    "outputId": "36e075b0-925f-4ba7-dfd9-86363f4da28e"
   },
   "outputs": [
    {
     "data": {
      "text/plain": [
       "count    38158.000000\n",
       "mean         0.963415\n",
       "std          0.453831\n",
       "min          0.000000\n",
       "25%          1.000000\n",
       "50%          1.000000\n",
       "75%          1.000000\n",
       "max          4.000000\n",
       "Name: business_code, dtype: float64"
      ]
     },
     "execution_count": 63,
     "metadata": {
      "tags": []
     },
     "output_type": "execute_result"
    }
   ],
   "source": [
    "train_set['business_code'].describe()"
   ]
  },
  {
   "cell_type": "code",
   "execution_count": 64,
   "metadata": {
    "colab": {
     "base_uri": "https://localhost:8080/"
    },
    "id": "z-iD2Nlg73Ag",
    "outputId": "0a752dd8-c4c4-40b5-ef7a-9590f92b2969"
   },
   "outputs": [
    {
     "data": {
      "text/plain": [
       "-0.005484321398166932"
      ]
     },
     "execution_count": 64,
     "metadata": {
      "tags": []
     },
     "output_type": "execute_result"
    }
   ],
   "source": [
    "train_set['business_code'].corr(train_set['target_delay'])"
   ]
  },
  {
   "cell_type": "code",
   "execution_count": 65,
   "metadata": {
    "colab": {
     "base_uri": "https://localhost:8080/"
    },
    "id": "GX94zBS475Tr",
    "outputId": "ea163d1c-4083-4388-e968-4f7959c24d56"
   },
   "outputs": [
    {
     "data": {
      "text/plain": [
       "1362"
      ]
     },
     "execution_count": 65,
     "metadata": {
      "tags": []
     },
     "output_type": "execute_result"
    }
   ],
   "source": [
    "#### checking for customer number\n",
    "len(pd.unique(train_set['cust_number'])) \n"
   ]
  },
  {
   "cell_type": "code",
   "execution_count": 66,
   "metadata": {
    "id": "HWX7VCBo77db"
   },
   "outputs": [],
   "source": [
    "###business year is constant drop\n",
    "train_set.drop(['buisness_year'],axis=1,inplace=True)"
   ]
  },
  {
   "cell_type": "code",
   "execution_count": 67,
   "metadata": {
    "colab": {
     "base_uri": "https://localhost:8080/"
    },
    "id": "0MckAiO879Z-",
    "outputId": "28dc1e66-1866-4608-beab-54910126aab0"
   },
   "outputs": [
    {
     "data": {
      "text/plain": [
       "71"
      ]
     },
     "execution_count": 67,
     "metadata": {
      "tags": []
     },
     "output_type": "execute_result"
    }
   ],
   "source": [
    "len(pd.unique(train_set['cust_payment_terms'])) "
   ]
  },
  {
   "cell_type": "code",
   "execution_count": 68,
   "metadata": {
    "colab": {
     "base_uri": "https://localhost:8080/"
    },
    "id": "ZOzqirWf7_VC",
    "outputId": "a9ff70be-b86c-4c5f-9513-2f470b366522"
   },
   "outputs": [
    {
     "data": {
      "text/plain": [
       "NAA8      1873\n",
       "NAH4      1345\n",
       "CA10       327\n",
       "NAC6       192\n",
       "NAM4       134\n",
       "NAGD       131\n",
       "NAAX        98\n",
       "NAU5        97\n",
       "NAM2        52\n",
       "NAG2        43\n",
       "others      40\n",
       "NAD1        38\n",
       "NA32        37\n",
       "NA10        28\n",
       "NAX2        23\n",
       "NAD5        21\n",
       "NAAW        20\n",
       "NAM1        18\n",
       "NAVE        12\n",
       "Name: cust_payment_terms, dtype: int64"
      ]
     },
     "execution_count": 68,
     "metadata": {
      "tags": []
     },
     "output_type": "execute_result"
    }
   ],
   "source": [
    "#replace cust_payment_terms having values < 12 as others and then encoding\n",
    "threshlold = 0.000250\n",
    "   \n",
    "    # locate all the categories that are not rare.\n",
    "counts = train_set.groupby(['cust_payment_terms'])['cust_payment_terms'].count() / len(train_set)\n",
    "counts_tst = test_data.groupby(['cust_payment_terms'])['cust_payment_terms'].count() / len(train_set)\n",
    "counts_val1 = val1.groupby(['cust_payment_terms'])['cust_payment_terms'].count() / len(train_set)\n",
    "counts_val2 = val2.groupby(['cust_payment_terms'])['cust_payment_terms'].count() / len(train_set)\n",
    "frequent_labels = [x for x in counts.loc[counts>threshlold].index.values]\n",
    "frequent_labels_tst = [x for x in counts_tst.loc[counts_tst>threshlold].index.values]\n",
    "frequent_labels_val1 = [x for x in counts_val1.loc[counts_val1>threshlold].index.values]\n",
    "frequent_labels_val2 = [x for x in counts_val2.loc[counts_val2>threshlold].index.values]\n",
    "    # change the rare category names with the word rare, and thus encoding it.\n",
    "train_set['cust_payment_terms'] = np.where(train_set['cust_payment_terms'].isin(frequent_labels), train_set['cust_payment_terms'], 'others')\n",
    "test_data['cust_payment_terms'] = np.where(test_data['cust_payment_terms'].isin(frequent_labels_tst), test_data['cust_payment_terms'], 'others')\n",
    "val1['cust_payment_terms'] = np.where(val1['cust_payment_terms'].isin(frequent_labels_val1), val1['cust_payment_terms'], 'others')\n",
    "val2['cust_payment_terms'] = np.where(val2['cust_payment_terms'].isin(frequent_labels_val2), val2['cust_payment_terms'], 'others')\n",
    "\n",
    "\n",
    "test_data['cust_payment_terms'].value_counts()\n"
   ]
  },
  {
   "cell_type": "code",
   "execution_count": 69,
   "metadata": {
    "colab": {
     "base_uri": "https://localhost:8080/"
    },
    "id": "0U_nqQNd8JOF",
    "outputId": "681eb79c-9007-4629-8fa7-9d6f8d89326c"
   },
   "outputs": [
    {
     "data": {
      "text/plain": [
       "37"
      ]
     },
     "execution_count": 69,
     "metadata": {
      "tags": []
     },
     "output_type": "execute_result"
    }
   ],
   "source": [
    "train_set['cust_payment_terms'] = labelencoder.fit_transform(train_set['cust_payment_terms'])\n",
    "test_data['cust_payment_terms'] = labelencoder.transform(test_data['cust_payment_terms'])\n",
    "val1['cust_payment_terms'] = labelencoder.transform(val1['cust_payment_terms'])\n",
    "val2['cust_payment_terms'] = labelencoder.transform(val2['cust_payment_terms'])\n",
    "train_set['cust_payment_terms'].max()"
   ]
  },
  {
   "cell_type": "code",
   "execution_count": 70,
   "metadata": {
    "colab": {
     "base_uri": "https://localhost:8080/"
    },
    "id": "yIdXCsGj8LSr",
    "outputId": "719f4614-1119-4d7b-9dcf-63d40093b859"
   },
   "outputs": [
    {
     "data": {
      "text/plain": [
       "3895"
      ]
     },
     "execution_count": 70,
     "metadata": {
      "tags": []
     },
     "output_type": "execute_result"
    }
   ],
   "source": [
    "##Now similarly encoding name_customer\n",
    "len(pd.unique(train_set['name_customer'])) "
   ]
  },
  {
   "cell_type": "code",
   "execution_count": 71,
   "metadata": {
    "colab": {
     "base_uri": "https://localhost:8080/"
    },
    "id": "4tDg8kNO8NR-",
    "outputId": "30685aa2-112e-49d6-b7f4-01ae04c2414f"
   },
   "outputs": [
    {
     "data": {
      "text/plain": [
       "others                1342\n",
       "WAL-MAR in             127\n",
       "WAL-MAR foundation     121\n",
       "WAL-MAR systems        120\n",
       "WAL-MAR trust          116\n",
       "                      ... \n",
       "DOT llc                  4\n",
       "US  corp                 4\n",
       "DECA associates          4\n",
       "SAFEW corp               4\n",
       "SAFEW co                 4\n",
       "Name: name_customer, Length: 256, dtype: int64"
      ]
     },
     "execution_count": 71,
     "metadata": {
      "tags": []
     },
     "output_type": "execute_result"
    }
   ],
   "source": [
    "threshlold = 0.000100\n",
    "####Grouping rare labels as others\n",
    "counts = train_set.groupby(['name_customer'])['name_customer'].count() / len(train_set)\n",
    "counts_tst = test_data.groupby(['name_customer'])['name_customer'].count() / len(train_set)\n",
    "counts_val1 = val1.groupby(['name_customer'])['name_customer'].count() / len(train_set)\n",
    "counts_val2 = val2.groupby(['name_customer'])['name_customer'].count() / len(train_set)\n",
    "frequent_labels = [x for x in counts.loc[counts>threshlold].index.values]\n",
    "frequent_labels_tst = [x for x in counts_tst.loc[counts_tst>threshlold].index.values]\n",
    "frequent_labels_val1 = [x for x in counts_val1.loc[counts_val1>threshlold].index.values]\n",
    "frequent_labels_val2 = [x for x in counts_val2.loc[counts_val2>threshlold].index.values]\n",
    "    # change the rare category names with the word rare, and thus encoding it.\n",
    "train_set['name_customer'] = np.where(train_set['name_customer'].isin(frequent_labels), train_set['name_customer'], 'others')\n",
    "test_data['name_customer'] = np.where(test_data['name_customer'].isin(frequent_labels_tst), test_data['name_customer'], 'others')\n",
    "val1['name_customer'] = np.where(val1['name_customer'].isin(frequent_labels_val1), val1['name_customer'], 'others')\n",
    "val2['name_customer'] = np.where(val2['name_customer'].isin(frequent_labels_val2), val2['name_customer'], 'others')\n",
    "\n",
    "\n",
    "test_data['name_customer'].value_counts()\n"
   ]
  },
  {
   "cell_type": "code",
   "execution_count": 72,
   "metadata": {
    "colab": {
     "base_uri": "https://localhost:8080/"
    },
    "id": "xPRzsXUm8Pb7",
    "outputId": "79b9d0ea-1d11-4b97-d468-c10aa735253c"
   },
   "outputs": [
    {
     "data": {
      "text/plain": [
       "others               3798\n",
       "WAL-MAR corp          854\n",
       "WAL-MAR co            837\n",
       "WAL-MAR llc           827\n",
       "WAL-MAR trust         819\n",
       "                     ... \n",
       "BAS co                  4\n",
       "RICH                    4\n",
       "BARGAIN  corp           4\n",
       "ASSOCI associates       4\n",
       "SCHNU foundation        4\n",
       "Name: name_customer, Length: 1269, dtype: int64"
      ]
     },
     "execution_count": 72,
     "metadata": {
      "tags": []
     },
     "output_type": "execute_result"
    }
   ],
   "source": [
    "train_set['name_customer'].value_counts()\n"
   ]
  },
  {
   "cell_type": "code",
   "execution_count": 73,
   "metadata": {
    "colab": {
     "base_uri": "https://localhost:8080/",
     "height": 435
    },
    "id": "Nk9GZCW_8TNX",
    "outputId": "5d0b7adf-8f22-49f3-c09a-487d5c59402b"
   },
   "outputs": [
    {
     "data": {
      "text/html": [
       "<div>\n",
       "<style scoped>\n",
       "    .dataframe tbody tr th:only-of-type {\n",
       "        vertical-align: middle;\n",
       "    }\n",
       "\n",
       "    .dataframe tbody tr th {\n",
       "        vertical-align: top;\n",
       "    }\n",
       "\n",
       "    .dataframe thead th {\n",
       "        text-align: right;\n",
       "    }\n",
       "</style>\n",
       "<table border=\"1\" class=\"dataframe\">\n",
       "  <thead>\n",
       "    <tr style=\"text-align: right;\">\n",
       "      <th></th>\n",
       "      <th>business_code</th>\n",
       "      <th>cust_number</th>\n",
       "      <th>name_customer</th>\n",
       "      <th>clear_date</th>\n",
       "      <th>doc_id</th>\n",
       "      <th>posting_date</th>\n",
       "      <th>document_create_date</th>\n",
       "      <th>document_create_date.1</th>\n",
       "      <th>due_in_date</th>\n",
       "      <th>invoice_currency</th>\n",
       "      <th>total_open_amount</th>\n",
       "      <th>baseline_create_date</th>\n",
       "      <th>cust_payment_terms</th>\n",
       "      <th>isOpen</th>\n",
       "      <th>target_delay</th>\n",
       "    </tr>\n",
       "  </thead>\n",
       "  <tbody>\n",
       "    <tr>\n",
       "      <th>0</th>\n",
       "      <td>1</td>\n",
       "      <td>0200780383</td>\n",
       "      <td>2.076923</td>\n",
       "      <td>2019-09-26</td>\n",
       "      <td>1.92986e+09</td>\n",
       "      <td>2019-09-11</td>\n",
       "      <td>2019-09-10</td>\n",
       "      <td>2019-09-11</td>\n",
       "      <td>2019-09-26</td>\n",
       "      <td>USD</td>\n",
       "      <td>51844.8</td>\n",
       "      <td>2019-09-11</td>\n",
       "      <td>9</td>\n",
       "      <td>0</td>\n",
       "      <td>0</td>\n",
       "    </tr>\n",
       "    <tr>\n",
       "      <th>1</th>\n",
       "      <td>1</td>\n",
       "      <td>0200762301</td>\n",
       "      <td>0.078947</td>\n",
       "      <td>2019-09-10</td>\n",
       "      <td>1.92979e+09</td>\n",
       "      <td>2019-08-25</td>\n",
       "      <td>2019-08-24</td>\n",
       "      <td>2019-08-25</td>\n",
       "      <td>2019-09-09</td>\n",
       "      <td>USD</td>\n",
       "      <td>62110.4</td>\n",
       "      <td>2019-08-25</td>\n",
       "      <td>14</td>\n",
       "      <td>0</td>\n",
       "      <td>1</td>\n",
       "    </tr>\n",
       "    <tr>\n",
       "      <th>3</th>\n",
       "      <td>1</td>\n",
       "      <td>100053926</td>\n",
       "      <td>2.243023</td>\n",
       "      <td>2019-08-21</td>\n",
       "      <td>1.92952e+09</td>\n",
       "      <td>2019-06-20</td>\n",
       "      <td>2019-06-20</td>\n",
       "      <td>2019-06-20</td>\n",
       "      <td>2019-08-19</td>\n",
       "      <td>USD</td>\n",
       "      <td>1382.94</td>\n",
       "      <td>2019-06-20</td>\n",
       "      <td>31</td>\n",
       "      <td>0</td>\n",
       "      <td>2</td>\n",
       "    </tr>\n",
       "    <tr>\n",
       "      <th>4</th>\n",
       "      <td>1</td>\n",
       "      <td>0200739534</td>\n",
       "      <td>1.133333</td>\n",
       "      <td>2019-06-26</td>\n",
       "      <td>1.92946e+09</td>\n",
       "      <td>2019-06-07</td>\n",
       "      <td>2019-06-07</td>\n",
       "      <td>2019-06-07</td>\n",
       "      <td>2019-06-22</td>\n",
       "      <td>USD</td>\n",
       "      <td>85407.3</td>\n",
       "      <td>2019-06-07</td>\n",
       "      <td>9</td>\n",
       "      <td>0</td>\n",
       "      <td>4</td>\n",
       "    </tr>\n",
       "    <tr>\n",
       "      <th>5</th>\n",
       "      <td>1</td>\n",
       "      <td>0200337148</td>\n",
       "      <td>-0.333333</td>\n",
       "      <td>2019-06-27</td>\n",
       "      <td>1.92948e+09</td>\n",
       "      <td>2019-06-12</td>\n",
       "      <td>2019-06-12</td>\n",
       "      <td>2019-06-12</td>\n",
       "      <td>2019-06-27</td>\n",
       "      <td>USD</td>\n",
       "      <td>47117.7</td>\n",
       "      <td>2019-06-12</td>\n",
       "      <td>9</td>\n",
       "      <td>0</td>\n",
       "      <td>0</td>\n",
       "    </tr>\n",
       "    <tr>\n",
       "      <th>...</th>\n",
       "      <td>...</td>\n",
       "      <td>...</td>\n",
       "      <td>...</td>\n",
       "      <td>...</td>\n",
       "      <td>...</td>\n",
       "      <td>...</td>\n",
       "      <td>...</td>\n",
       "      <td>...</td>\n",
       "      <td>...</td>\n",
       "      <td>...</td>\n",
       "      <td>...</td>\n",
       "      <td>...</td>\n",
       "      <td>...</td>\n",
       "      <td>...</td>\n",
       "      <td>...</td>\n",
       "    </tr>\n",
       "    <tr>\n",
       "      <th>45458</th>\n",
       "      <td>1</td>\n",
       "      <td>0200769623</td>\n",
       "      <td>-2.286070</td>\n",
       "      <td>2019-02-27</td>\n",
       "      <td>1.9288e+09</td>\n",
       "      <td>2019-02-15</td>\n",
       "      <td>2019-02-14</td>\n",
       "      <td>2019-02-15</td>\n",
       "      <td>2019-03-02</td>\n",
       "      <td>USD</td>\n",
       "      <td>10435.8</td>\n",
       "      <td>2019-02-15</td>\n",
       "      <td>21</td>\n",
       "      <td>0</td>\n",
       "      <td>-3</td>\n",
       "    </tr>\n",
       "    <tr>\n",
       "      <th>45460</th>\n",
       "      <td>1</td>\n",
       "      <td>0200792734</td>\n",
       "      <td>0.812500</td>\n",
       "      <td>2019-10-30</td>\n",
       "      <td>1.92977e+09</td>\n",
       "      <td>2019-08-27</td>\n",
       "      <td>2019-08-21</td>\n",
       "      <td>2019-08-27</td>\n",
       "      <td>2019-10-31</td>\n",
       "      <td>USD</td>\n",
       "      <td>11949.1</td>\n",
       "      <td>2019-08-27</td>\n",
       "      <td>20</td>\n",
       "      <td>0</td>\n",
       "      <td>-1</td>\n",
       "    </tr>\n",
       "    <tr>\n",
       "      <th>45461</th>\n",
       "      <td>0</td>\n",
       "      <td>0140106099</td>\n",
       "      <td>2.243023</td>\n",
       "      <td>2019-05-09</td>\n",
       "      <td>2.96054e+09</td>\n",
       "      <td>2019-04-24</td>\n",
       "      <td>2019-04-24</td>\n",
       "      <td>2019-04-24</td>\n",
       "      <td>2019-05-06</td>\n",
       "      <td>CAD</td>\n",
       "      <td>27441</td>\n",
       "      <td>2019-04-26</td>\n",
       "      <td>1</td>\n",
       "      <td>0</td>\n",
       "      <td>3</td>\n",
       "    </tr>\n",
       "    <tr>\n",
       "      <th>45462</th>\n",
       "      <td>1</td>\n",
       "      <td>200126819</td>\n",
       "      <td>4.714286</td>\n",
       "      <td>2019-02-13</td>\n",
       "      <td>1.92865e+09</td>\n",
       "      <td>2019-01-24</td>\n",
       "      <td>2019-01-21</td>\n",
       "      <td>2019-01-24</td>\n",
       "      <td>2019-02-08</td>\n",
       "      <td>USD</td>\n",
       "      <td>13976</td>\n",
       "      <td>2019-01-24</td>\n",
       "      <td>9</td>\n",
       "      <td>0</td>\n",
       "      <td>5</td>\n",
       "    </tr>\n",
       "    <tr>\n",
       "      <th>45463</th>\n",
       "      <td>1</td>\n",
       "      <td>0200742791</td>\n",
       "      <td>-6.285714</td>\n",
       "      <td>2019-07-18</td>\n",
       "      <td>1.92956e+09</td>\n",
       "      <td>2019-06-29</td>\n",
       "      <td>2019-06-28</td>\n",
       "      <td>2019-06-29</td>\n",
       "      <td>2019-07-14</td>\n",
       "      <td>USD</td>\n",
       "      <td>4343.4</td>\n",
       "      <td>2019-06-29</td>\n",
       "      <td>9</td>\n",
       "      <td>0</td>\n",
       "      <td>4</td>\n",
       "    </tr>\n",
       "  </tbody>\n",
       "</table>\n",
       "<p>38158 rows × 15 columns</p>\n",
       "</div>"
      ],
      "text/plain": [
       "       business_code cust_number  ...  isOpen target_delay\n",
       "0                  1  0200780383  ...       0            0\n",
       "1                  1  0200762301  ...       0            1\n",
       "3                  1   100053926  ...       0            2\n",
       "4                  1  0200739534  ...       0            4\n",
       "5                  1  0200337148  ...       0            0\n",
       "...              ...         ...  ...     ...          ...\n",
       "45458              1  0200769623  ...       0           -3\n",
       "45460              1  0200792734  ...       0           -1\n",
       "45461              0  0140106099  ...       0            3\n",
       "45462              1   200126819  ...       0            5\n",
       "45463              1  0200742791  ...       0            4\n",
       "\n",
       "[38158 rows x 15 columns]"
      ]
     },
     "execution_count": 73,
     "metadata": {
      "tags": []
     },
     "output_type": "execute_result"
    }
   ],
   "source": [
    "#target encoding in name customer\n",
    "target_mapper = train_set.groupby('name_customer')['target_delay'].mean().to_dict()\n",
    "train_set['name_customer'] = train_set['name_customer'].map(target_mapper)\n",
    "test_data['name_customer'] = test_data['name_customer'].map(target_mapper)\n",
    "val1['name_customer'] = val1['name_customer'].map(target_mapper)\n",
    "val2['name_customer'] = val2['name_customer'].map(target_mapper)\n",
    "train_set\n"
   ]
  },
  {
   "cell_type": "code",
   "execution_count": 74,
   "metadata": {
    "colab": {
     "base_uri": "https://localhost:8080/"
    },
    "id": "pUww9Rzs8V4U",
    "outputId": "8dfbee61-e350-47f0-e2e0-13649985c159"
   },
   "outputs": [
    {
     "data": {
      "text/plain": [
       "734"
      ]
     },
     "execution_count": 74,
     "metadata": {
      "tags": []
     },
     "output_type": "execute_result"
    }
   ],
   "source": [
    "len(pd.unique(train_set['name_customer'])) \n"
   ]
  },
  {
   "cell_type": "code",
   "execution_count": 75,
   "metadata": {
    "colab": {
     "base_uri": "https://localhost:8080/"
    },
    "id": "oo16gQUQ8X_2",
    "outputId": "ee25c9cf-f4d3-44e4-a32c-09041148c219"
   },
   "outputs": [
    {
     "data": {
      "text/plain": [
       "0.5921522380097841"
      ]
     },
     "execution_count": 75,
     "metadata": {
      "tags": []
     },
     "output_type": "execute_result"
    }
   ],
   "source": [
    "train_set['name_customer'].corr(train_set['target_delay'])"
   ]
  },
  {
   "cell_type": "code",
   "execution_count": 77,
   "metadata": {
    "colab": {
     "base_uri": "https://localhost:8080/"
    },
    "id": "e8Ew01uV8aVS",
    "outputId": "a789e3f5-5d53-4169-91db-e8606465dba8"
   },
   "outputs": [
    {
     "data": {
      "text/plain": [
       "0200769623    1135\n",
       "others         935\n",
       "0200762301     179\n",
       "0200726979     159\n",
       "0200744019     144\n",
       "              ... \n",
       "0200920735      10\n",
       "0200466603      10\n",
       "0200290370      10\n",
       "0200714710      10\n",
       "0200455322      10\n",
       "Name: cust_number, Length: 81, dtype: int64"
      ]
     },
     "execution_count": 77,
     "metadata": {
      "tags": []
     },
     "output_type": "execute_result"
    }
   ],
   "source": [
    "###similarly encoding cust_numbers\n",
    "threshlold = 0.000250\n",
    "\n",
    "# we loop over all the categorical variables\n",
    "\n",
    "    \n",
    "    # locate all the categories that are not rare.\n",
    "counts = train_set.groupby(['cust_number'])['cust_number'].count() / len(train_set)\n",
    "counts_tst = test_data.groupby(['cust_number'])['cust_number'].count() / len(train_set)\n",
    "counts_val1 = val1.groupby(['cust_number'])['cust_number'].count() / len(train_set)\n",
    "counts_val2 = val2.groupby(['cust_number'])['cust_number'].count() / len(train_set)\n",
    "frequent_labels = [x for x in counts.loc[counts>threshlold].index.values]\n",
    "frequent_labels_tst = [x for x in counts_tst.loc[counts_tst>threshlold].index.values]\n",
    "frequent_labels_val1 = [x for x in counts_val1.loc[counts_val1>threshlold].index.values]\n",
    "frequent_labels_val2 = [x for x in counts_val2.loc[counts_val2>threshlold].index.values]\n",
    "    # change the rare category names with the word rare, and thus encoding it.\n",
    "train_set['cust_number'] = np.where(train_set['cust_number'].isin(frequent_labels), train_set['cust_number'], 'others')\n",
    "test_data['cust_number'] = np.where(test_data['cust_number'].isin(frequent_labels_tst), test_data['cust_number'], 'others')\n",
    "val1['cust_number'] = np.where(val1['cust_number'].isin(frequent_labels_val1), val1['cust_number'], 'others')\n",
    "val2['cust_number'] = np.where(val2['cust_number'].isin(frequent_labels_val2), val2['cust_number'], 'others')\n",
    "\n",
    "\n",
    "test_data['cust_number'].value_counts()\n",
    "\n"
   ]
  },
  {
   "cell_type": "code",
   "execution_count": 78,
   "metadata": {
    "id": "HhgmYCSr8cQp"
   },
   "outputs": [],
   "source": [
    "target_mapper = train_set.groupby('cust_number')['target_delay'].mean().to_dict()\n",
    "train_set['cust_number'] = train_set['cust_number'].map(target_mapper)\n",
    "test_data['cust_number'] = test_data['cust_number'].map(target_mapper)\n",
    "val1['cust_number'] = val1['cust_number'].map(target_mapper)\n",
    "val2['cust_number'] = val2['cust_number'].map(target_mapper)\n"
   ]
  },
  {
   "cell_type": "code",
   "execution_count": 79,
   "metadata": {
    "colab": {
     "base_uri": "https://localhost:8080/"
    },
    "id": "kcuQGGaa8lvu",
    "outputId": "d02399ad-bada-4a6b-a579-975d9aa29d42"
   },
   "outputs": [
    {
     "data": {
      "text/plain": [
       "0.591095241388198"
      ]
     },
     "execution_count": 79,
     "metadata": {
      "tags": []
     },
     "output_type": "execute_result"
    }
   ],
   "source": [
    "train_set['cust_number'].corr(train_set['target_delay'])"
   ]
  },
  {
   "cell_type": "code",
   "execution_count": 80,
   "metadata": {
    "colab": {
     "base_uri": "https://localhost:8080/"
    },
    "id": "jumqzMhm8n-K",
    "outputId": "881ef1a1-0542-4677-dbb5-a1d520682f95"
   },
   "outputs": [
    {
     "data": {
      "text/plain": [
       "business_code                      int64\n",
       "cust_number                      float64\n",
       "name_customer                    float64\n",
       "clear_date                datetime64[ns]\n",
       "doc_id                            object\n",
       "posting_date              datetime64[ns]\n",
       "document_create_date      datetime64[ns]\n",
       "document_create_date.1    datetime64[ns]\n",
       "due_in_date               datetime64[ns]\n",
       "invoice_currency                  object\n",
       "total_open_amount                 object\n",
       "baseline_create_date      datetime64[ns]\n",
       "cust_payment_terms                 int64\n",
       "isOpen                            object\n",
       "target_delay                       int64\n",
       "dtype: object"
      ]
     },
     "execution_count": 80,
     "metadata": {
      "tags": []
     },
     "output_type": "execute_result"
    }
   ],
   "source": [
    "train_set.dtypes"
   ]
  },
  {
   "cell_type": "code",
   "execution_count": 81,
   "metadata": {
    "colab": {
     "base_uri": "https://localhost:8080/"
    },
    "id": "rrDv2j5J8qCl",
    "outputId": "0146ab34-1d1c-4725-dd5b-247d7cd97a1e"
   },
   "outputs": [
    {
     "data": {
      "text/plain": [
       "<bound method Series.unique of 0        1.92986e+09\n",
       "1        1.92979e+09\n",
       "3        1.92952e+09\n",
       "4        1.92946e+09\n",
       "5        1.92948e+09\n",
       "            ...     \n",
       "45458     1.9288e+09\n",
       "45460    1.92977e+09\n",
       "45461    2.96054e+09\n",
       "45462    1.92865e+09\n",
       "45463    1.92956e+09\n",
       "Name: doc_id, Length: 38158, dtype: object>"
      ]
     },
     "execution_count": 81,
     "metadata": {
      "tags": []
     },
     "output_type": "execute_result"
    }
   ],
   "source": [
    "train_set['doc_id'].unique"
   ]
  },
  {
   "cell_type": "code",
   "execution_count": 82,
   "metadata": {
    "colab": {
     "base_uri": "https://localhost:8080/"
    },
    "id": "Tk0iqP7b8r7-",
    "outputId": "737ece5b-73bc-46d3-d843-080d933be1c9"
   },
   "outputs": [
    {
     "data": {
      "text/plain": [
       "(38158, 15)"
      ]
     },
     "execution_count": 82,
     "metadata": {
      "tags": []
     },
     "output_type": "execute_result"
    }
   ],
   "source": [
    "train_set.shape #means doc_id is a unique value like primary key so we will not encode as it will not contribute in predicting"
   ]
  },
  {
   "cell_type": "code",
   "execution_count": 83,
   "metadata": {
    "colab": {
     "base_uri": "https://localhost:8080/"
    },
    "id": "hh4fyUWB8uCD",
    "outputId": "5c0428ee-98ea-4b0b-805a-19b2f5beca5a"
   },
   "outputs": [
    {
     "data": {
      "text/plain": [
       "0        51844.76\n",
       "1        62110.39\n",
       "3         1382.94\n",
       "4        85407.27\n",
       "5        47117.67\n",
       "           ...   \n",
       "45458    10435.76\n",
       "45460    11949.09\n",
       "45461    27441.05\n",
       "45462    13975.95\n",
       "45463     4343.40\n",
       "Name: total_open_amount, Length: 38158, dtype: float64"
      ]
     },
     "execution_count": 83,
     "metadata": {
      "tags": []
     },
     "output_type": "execute_result"
    }
   ],
   "source": [
    "#encoding total_open_amount\n",
    "train_set['total_open_amount']=train_set['total_open_amount'].astype(float)\n",
    "test_data['total_open_amount']=test_data['total_open_amount'].astype(float)\n",
    "val1['total_open_amount']=val1['total_open_amount'].astype(float)\n",
    "val2['total_open_amount']=val2['total_open_amount'].astype(float)\n",
    "train_set['total_open_amount']"
   ]
  },
  {
   "cell_type": "code",
   "execution_count": 84,
   "metadata": {
    "colab": {
     "base_uri": "https://localhost:8080/"
    },
    "id": "gRx8eYOR8wCe",
    "outputId": "5ba46273-f373-4c61-9051-a3c3c4d92a26"
   },
   "outputs": [
    {
     "data": {
      "text/plain": [
       "0.0025659655256575417"
      ]
     },
     "execution_count": 84,
     "metadata": {
      "tags": []
     },
     "output_type": "execute_result"
    }
   ],
   "source": [
    "train_set['total_open_amount'].corr(train_set['target_delay'])"
   ]
  },
  {
   "cell_type": "code",
   "execution_count": 85,
   "metadata": {
    "colab": {
     "base_uri": "https://localhost:8080/"
    },
    "id": "2QABP7ze8yOP",
    "outputId": "ed3e8f19-ba82-4859-cc80-d7f67385d4c6"
   },
   "outputs": [
    {
     "data": {
      "text/plain": [
       "0        1.068714\n",
       "1        1.068714\n",
       "3        1.068714\n",
       "4        1.068714\n",
       "5        1.068714\n",
       "           ...   \n",
       "45458    1.068714\n",
       "45460    1.068714\n",
       "45461    1.068714\n",
       "45462    1.068714\n",
       "45463    1.068714\n",
       "Name: isOpen, Length: 38158, dtype: float64"
      ]
     },
     "execution_count": 85,
     "metadata": {
      "tags": []
     },
     "output_type": "execute_result"
    }
   ],
   "source": [
    "#target encoding on isOpen\n",
    "target_mapper = train_set.groupby('isOpen')['target_delay'].mean().to_dict()\n",
    "train_set['isOpen'] = train_set['isOpen'].map(target_mapper)\n",
    "test_data['isOpen'] = test_data['isOpen'].map(target_mapper)\n",
    "val1['isOpen'] = val1['isOpen'].map(target_mapper)\n",
    "val2['isOpen'] = val2['isOpen'].map(target_mapper)\n",
    "train_set['isOpen']"
   ]
  },
  {
   "cell_type": "code",
   "execution_count": 86,
   "metadata": {
    "colab": {
     "base_uri": "https://localhost:8080/"
    },
    "id": "CpkwZqXW80FQ",
    "outputId": "c3bfc936-c933-4182-82f3-bd3141ff2541"
   },
   "outputs": [
    {
     "data": {
      "text/plain": [
       "nan"
      ]
     },
     "execution_count": 86,
     "metadata": {
      "tags": []
     },
     "output_type": "execute_result"
    }
   ],
   "source": [
    "train_set['isOpen'].corr(train_set['target_delay'])"
   ]
  },
  {
   "cell_type": "code",
   "execution_count": 87,
   "metadata": {
    "colab": {
     "base_uri": "https://localhost:8080/"
    },
    "id": "5_BRxPiP9A0L",
    "outputId": "b29c1e02-a903-4489-9c82-11156f546761"
   },
   "outputs": [
    {
     "data": {
      "text/plain": [
       "business_code                      int64\n",
       "cust_number                      float64\n",
       "name_customer                    float64\n",
       "clear_date                datetime64[ns]\n",
       "doc_id                            object\n",
       "posting_date              datetime64[ns]\n",
       "document_create_date      datetime64[ns]\n",
       "document_create_date.1    datetime64[ns]\n",
       "due_in_date               datetime64[ns]\n",
       "invoice_currency                  object\n",
       "total_open_amount                float64\n",
       "baseline_create_date      datetime64[ns]\n",
       "cust_payment_terms                 int64\n",
       "isOpen                           float64\n",
       "target_delay                       int64\n",
       "dtype: object"
      ]
     },
     "execution_count": 87,
     "metadata": {
      "tags": []
     },
     "output_type": "execute_result"
    }
   ],
   "source": [
    "train_set.dtypes"
   ]
  },
  {
   "cell_type": "code",
   "execution_count": 88,
   "metadata": {
    "colab": {
     "base_uri": "https://localhost:8080/"
    },
    "id": "5Pv09stc9Cpi",
    "outputId": "ebfb4dd7-9381-4fc7-df9f-090f55493f63"
   },
   "outputs": [
    {
     "data": {
      "text/plain": [
       "USD    35057\n",
       "CAD     3101\n",
       "Name: invoice_currency, dtype: int64"
      ]
     },
     "execution_count": 88,
     "metadata": {
      "tags": []
     },
     "output_type": "execute_result"
    }
   ],
   "source": [
    "train_set['invoice_currency'].value_counts()"
   ]
  },
  {
   "cell_type": "code",
   "execution_count": 89,
   "metadata": {
    "colab": {
     "base_uri": "https://localhost:8080/",
     "height": 435
    },
    "id": "iZGTy8ZT9FHk",
    "outputId": "6369fba8-d6b4-4a96-a7c5-af16a3f3c40f"
   },
   "outputs": [
    {
     "data": {
      "text/html": [
       "<div>\n",
       "<style scoped>\n",
       "    .dataframe tbody tr th:only-of-type {\n",
       "        vertical-align: middle;\n",
       "    }\n",
       "\n",
       "    .dataframe tbody tr th {\n",
       "        vertical-align: top;\n",
       "    }\n",
       "\n",
       "    .dataframe thead th {\n",
       "        text-align: right;\n",
       "    }\n",
       "</style>\n",
       "<table border=\"1\" class=\"dataframe\">\n",
       "  <thead>\n",
       "    <tr style=\"text-align: right;\">\n",
       "      <th></th>\n",
       "      <th>business_code</th>\n",
       "      <th>cust_number</th>\n",
       "      <th>name_customer</th>\n",
       "      <th>clear_date</th>\n",
       "      <th>doc_id</th>\n",
       "      <th>posting_date</th>\n",
       "      <th>document_create_date</th>\n",
       "      <th>document_create_date.1</th>\n",
       "      <th>due_in_date</th>\n",
       "      <th>invoice_currency</th>\n",
       "      <th>total_open_amount</th>\n",
       "      <th>baseline_create_date</th>\n",
       "      <th>cust_payment_terms</th>\n",
       "      <th>isOpen</th>\n",
       "      <th>target_delay</th>\n",
       "    </tr>\n",
       "  </thead>\n",
       "  <tbody>\n",
       "    <tr>\n",
       "      <th>0</th>\n",
       "      <td>1</td>\n",
       "      <td>1.529248</td>\n",
       "      <td>2.076923</td>\n",
       "      <td>2019-09-26</td>\n",
       "      <td>1.92986e+09</td>\n",
       "      <td>2019-09-11</td>\n",
       "      <td>2019-09-10</td>\n",
       "      <td>2019-09-11</td>\n",
       "      <td>2019-09-26</td>\n",
       "      <td>0.659298</td>\n",
       "      <td>51844.76</td>\n",
       "      <td>2019-09-11</td>\n",
       "      <td>9</td>\n",
       "      <td>1.068714</td>\n",
       "      <td>0</td>\n",
       "    </tr>\n",
       "    <tr>\n",
       "      <th>1</th>\n",
       "      <td>1</td>\n",
       "      <td>0.043478</td>\n",
       "      <td>0.078947</td>\n",
       "      <td>2019-09-10</td>\n",
       "      <td>1.92979e+09</td>\n",
       "      <td>2019-08-25</td>\n",
       "      <td>2019-08-24</td>\n",
       "      <td>2019-08-25</td>\n",
       "      <td>2019-09-09</td>\n",
       "      <td>0.659298</td>\n",
       "      <td>62110.39</td>\n",
       "      <td>2019-08-25</td>\n",
       "      <td>14</td>\n",
       "      <td>1.068714</td>\n",
       "      <td>1</td>\n",
       "    </tr>\n",
       "    <tr>\n",
       "      <th>3</th>\n",
       "      <td>1</td>\n",
       "      <td>2.436872</td>\n",
       "      <td>2.243023</td>\n",
       "      <td>2019-08-21</td>\n",
       "      <td>1.92952e+09</td>\n",
       "      <td>2019-06-20</td>\n",
       "      <td>2019-06-20</td>\n",
       "      <td>2019-06-20</td>\n",
       "      <td>2019-08-19</td>\n",
       "      <td>0.659298</td>\n",
       "      <td>1382.94</td>\n",
       "      <td>2019-06-20</td>\n",
       "      <td>31</td>\n",
       "      <td>1.068714</td>\n",
       "      <td>2</td>\n",
       "    </tr>\n",
       "    <tr>\n",
       "      <th>4</th>\n",
       "      <td>1</td>\n",
       "      <td>0.678571</td>\n",
       "      <td>1.133333</td>\n",
       "      <td>2019-06-26</td>\n",
       "      <td>1.92946e+09</td>\n",
       "      <td>2019-06-07</td>\n",
       "      <td>2019-06-07</td>\n",
       "      <td>2019-06-07</td>\n",
       "      <td>2019-06-22</td>\n",
       "      <td>0.659298</td>\n",
       "      <td>85407.27</td>\n",
       "      <td>2019-06-07</td>\n",
       "      <td>9</td>\n",
       "      <td>1.068714</td>\n",
       "      <td>4</td>\n",
       "    </tr>\n",
       "    <tr>\n",
       "      <th>5</th>\n",
       "      <td>1</td>\n",
       "      <td>-0.266667</td>\n",
       "      <td>-0.333333</td>\n",
       "      <td>2019-06-27</td>\n",
       "      <td>1.92948e+09</td>\n",
       "      <td>2019-06-12</td>\n",
       "      <td>2019-06-12</td>\n",
       "      <td>2019-06-12</td>\n",
       "      <td>2019-06-27</td>\n",
       "      <td>0.659298</td>\n",
       "      <td>47117.67</td>\n",
       "      <td>2019-06-12</td>\n",
       "      <td>9</td>\n",
       "      <td>1.068714</td>\n",
       "      <td>0</td>\n",
       "    </tr>\n",
       "    <tr>\n",
       "      <th>...</th>\n",
       "      <td>...</td>\n",
       "      <td>...</td>\n",
       "      <td>...</td>\n",
       "      <td>...</td>\n",
       "      <td>...</td>\n",
       "      <td>...</td>\n",
       "      <td>...</td>\n",
       "      <td>...</td>\n",
       "      <td>...</td>\n",
       "      <td>...</td>\n",
       "      <td>...</td>\n",
       "      <td>...</td>\n",
       "      <td>...</td>\n",
       "      <td>...</td>\n",
       "      <td>...</td>\n",
       "    </tr>\n",
       "    <tr>\n",
       "      <th>45458</th>\n",
       "      <td>1</td>\n",
       "      <td>-2.085551</td>\n",
       "      <td>-2.286070</td>\n",
       "      <td>2019-02-27</td>\n",
       "      <td>1.9288e+09</td>\n",
       "      <td>2019-02-15</td>\n",
       "      <td>2019-02-14</td>\n",
       "      <td>2019-02-15</td>\n",
       "      <td>2019-03-02</td>\n",
       "      <td>0.659298</td>\n",
       "      <td>10435.76</td>\n",
       "      <td>2019-02-15</td>\n",
       "      <td>21</td>\n",
       "      <td>1.068714</td>\n",
       "      <td>-3</td>\n",
       "    </tr>\n",
       "    <tr>\n",
       "      <th>45460</th>\n",
       "      <td>1</td>\n",
       "      <td>1.800000</td>\n",
       "      <td>0.812500</td>\n",
       "      <td>2019-10-30</td>\n",
       "      <td>1.92977e+09</td>\n",
       "      <td>2019-08-27</td>\n",
       "      <td>2019-08-21</td>\n",
       "      <td>2019-08-27</td>\n",
       "      <td>2019-10-31</td>\n",
       "      <td>0.659298</td>\n",
       "      <td>11949.09</td>\n",
       "      <td>2019-08-27</td>\n",
       "      <td>20</td>\n",
       "      <td>1.068714</td>\n",
       "      <td>-1</td>\n",
       "    </tr>\n",
       "    <tr>\n",
       "      <th>45461</th>\n",
       "      <td>0</td>\n",
       "      <td>2.436872</td>\n",
       "      <td>2.243023</td>\n",
       "      <td>2019-05-09</td>\n",
       "      <td>2.96054e+09</td>\n",
       "      <td>2019-04-24</td>\n",
       "      <td>2019-04-24</td>\n",
       "      <td>2019-04-24</td>\n",
       "      <td>2019-05-06</td>\n",
       "      <td>5.697194</td>\n",
       "      <td>27441.05</td>\n",
       "      <td>2019-04-26</td>\n",
       "      <td>1</td>\n",
       "      <td>1.068714</td>\n",
       "      <td>3</td>\n",
       "    </tr>\n",
       "    <tr>\n",
       "      <th>45462</th>\n",
       "      <td>1</td>\n",
       "      <td>2.436872</td>\n",
       "      <td>4.714286</td>\n",
       "      <td>2019-02-13</td>\n",
       "      <td>1.92865e+09</td>\n",
       "      <td>2019-01-24</td>\n",
       "      <td>2019-01-21</td>\n",
       "      <td>2019-01-24</td>\n",
       "      <td>2019-02-08</td>\n",
       "      <td>0.659298</td>\n",
       "      <td>13975.95</td>\n",
       "      <td>2019-01-24</td>\n",
       "      <td>9</td>\n",
       "      <td>1.068714</td>\n",
       "      <td>5</td>\n",
       "    </tr>\n",
       "    <tr>\n",
       "      <th>45463</th>\n",
       "      <td>1</td>\n",
       "      <td>-1.307692</td>\n",
       "      <td>-6.285714</td>\n",
       "      <td>2019-07-18</td>\n",
       "      <td>1.92956e+09</td>\n",
       "      <td>2019-06-29</td>\n",
       "      <td>2019-06-28</td>\n",
       "      <td>2019-06-29</td>\n",
       "      <td>2019-07-14</td>\n",
       "      <td>0.659298</td>\n",
       "      <td>4343.40</td>\n",
       "      <td>2019-06-29</td>\n",
       "      <td>9</td>\n",
       "      <td>1.068714</td>\n",
       "      <td>4</td>\n",
       "    </tr>\n",
       "  </tbody>\n",
       "</table>\n",
       "<p>38158 rows × 15 columns</p>\n",
       "</div>"
      ],
      "text/plain": [
       "       business_code  cust_number  ...    isOpen target_delay\n",
       "0                  1     1.529248  ...  1.068714            0\n",
       "1                  1     0.043478  ...  1.068714            1\n",
       "3                  1     2.436872  ...  1.068714            2\n",
       "4                  1     0.678571  ...  1.068714            4\n",
       "5                  1    -0.266667  ...  1.068714            0\n",
       "...              ...          ...  ...       ...          ...\n",
       "45458              1    -2.085551  ...  1.068714           -3\n",
       "45460              1     1.800000  ...  1.068714           -1\n",
       "45461              0     2.436872  ...  1.068714            3\n",
       "45462              1     2.436872  ...  1.068714            5\n",
       "45463              1    -1.307692  ...  1.068714            4\n",
       "\n",
       "[38158 rows x 15 columns]"
      ]
     },
     "execution_count": 89,
     "metadata": {
      "tags": []
     },
     "output_type": "execute_result"
    }
   ],
   "source": [
    "#label encoding invoice currency\n",
    "target_mapper = train_set.groupby('invoice_currency')['target_delay'].mean().to_dict()\n",
    "train_set['invoice_currency'] = train_set['invoice_currency'].map(target_mapper)\n",
    "test_data['invoice_currency'] = test_data['invoice_currency'].map(target_mapper)\n",
    "val1['invoice_currency'] = val1['invoice_currency'].map(target_mapper)\n",
    "val2['invoice_currency'] = val2['invoice_currency'].map(target_mapper)\n",
    "\n",
    "train_set\n"
   ]
  },
  {
   "cell_type": "code",
   "execution_count": 90,
   "metadata": {
    "id": "zxn6iNFJ9G8H"
   },
   "outputs": [],
   "source": [
    "#creating month columns for all datetime type for caculating correlation\n",
    "\n",
    "train_set['create_date_month']=train_set['document_create_date'].dt.month\n",
    "train_set['create_date.1_month']=train_set['document_create_date.1'].dt.month\n",
    "train_set['posting_date_month']=train_set['posting_date'].dt.month\n",
    "train_set['baseline_create_date_month']=train_set['baseline_create_date'].dt.month\n",
    "train_set['due_in_date_month']=train_set['due_in_date'].dt.month\n",
    "\n",
    "train_set['create_date_quarter']=train_set['document_create_date'].dt.quarter\n",
    "train_set['create_date.1_quarter']=train_set['document_create_date.1'].dt.quarter\n",
    "train_set['posting_date_quarter']=train_set['posting_date'].dt.quarter\n",
    "train_set['baseline_create_date_quarter']=train_set['baseline_create_date'].dt.quarter\n",
    "train_set['due_in_date_quarter']=train_set['due_in_date'].dt.quarter"
   ]
  },
  {
   "cell_type": "code",
   "execution_count": 91,
   "metadata": {
    "colab": {
     "base_uri": "https://localhost:8080/"
    },
    "id": "CH5DAHa69JG4",
    "outputId": "e053f947-5952-46bb-92e8-0bb9c62a6dde"
   },
   "outputs": [
    {
     "data": {
      "text/plain": [
       "business_code                            int64\n",
       "cust_number                            float64\n",
       "name_customer                          float64\n",
       "clear_date                      datetime64[ns]\n",
       "doc_id                                  object\n",
       "posting_date                    datetime64[ns]\n",
       "document_create_date            datetime64[ns]\n",
       "document_create_date.1          datetime64[ns]\n",
       "due_in_date                     datetime64[ns]\n",
       "invoice_currency                       float64\n",
       "total_open_amount                      float64\n",
       "baseline_create_date            datetime64[ns]\n",
       "cust_payment_terms                       int64\n",
       "isOpen                                 float64\n",
       "target_delay                             int64\n",
       "create_date_month                        int64\n",
       "create_date.1_month                      int64\n",
       "posting_date_month                       int64\n",
       "baseline_create_date_month               int64\n",
       "due_in_date_month                        int64\n",
       "create_date_quarter                      int64\n",
       "create_date.1_quarter                    int64\n",
       "posting_date_quarter                     int64\n",
       "baseline_create_date_quarter             int64\n",
       "due_in_date_quarter                      int64\n",
       "dtype: object"
      ]
     },
     "execution_count": 91,
     "metadata": {
      "tags": []
     },
     "output_type": "execute_result"
    }
   ],
   "source": [
    "train_set.dtypes"
   ]
  },
  {
   "cell_type": "code",
   "execution_count": 92,
   "metadata": {
    "id": "VovToaku9LXP"
   },
   "outputs": [],
   "source": [
    "####GRAPHS######"
   ]
  },
  {
   "cell_type": "code",
   "execution_count": 93,
   "metadata": {
    "colab": {
     "base_uri": "https://localhost:8080/",
     "height": 297
    },
    "id": "1ZPu-wEd-UN0",
    "outputId": "788a34e4-f2ba-47aa-c56f-282049277b0f"
   },
   "outputs": [
    {
     "data": {
      "image/png": "[encoded data removed]",
      "text/plain": [
       "<Figure size 432x288 with 1 Axes>"
      ]
     },
     "metadata": {
      "needs_background": "light",
      "tags": []
     },
     "output_type": "display_data"
    }
   ],
   "source": [
    "import matplotlib.pyplot as plt\n",
    "grp_invoice=train_set.groupby('invoice_currency')['invoice_currency'].agg({'count'}).reset_index()\n",
    "plt.bar(grp_invoice['invoice_currency'].astype(int).astype(str),grp_invoice['count'],color = 'b')\n",
    "plt.xlabel('INVOICE_CURRENCY')\n",
    "plt.xlim((-1,grp_invoice['invoice_currency'].nunique()))\n",
    "plt.ylabel('Value counts')\n",
    "# Set a title of the current axes.\n",
    "plt.title('Bar chart')\n",
    "# Display a figure.\n",
    "plt.tight_layout()\n",
    "######we can infer that invoice_currency has USD as max value_count"
   ]
  },
  {
   "cell_type": "code",
   "execution_count": 94,
   "metadata": {
    "colab": {
     "base_uri": "https://localhost:8080/",
     "height": 297
    },
    "id": "EX_W7jCR-WxZ",
    "outputId": "cd288d3b-4e75-4a07-fc1f-987172fe2090"
   },
   "outputs": [
    {
     "data": {
      "image/png": "[encoded data removed]",
      "text/plain": [
       "<Figure size 432x288 with 1 Axes>"
      ]
     },
     "metadata": {
      "needs_background": "light",
      "tags": []
     },
     "output_type": "display_data"
    }
   ],
   "source": [
    "grp_bc=train_set.groupby('business_code')['target_delay'].agg({'mean'}).reset_index()\n",
    "\n",
    "plt.bar(grp_bc['business_code'].astype(int).astype(str),grp_bc['mean'],color = 'b')\n",
    "plt.xlabel('BUSINESS CODE')\n",
    "plt.xlim((-1,grp_bc['business_code'].nunique()))\n",
    "plt.ylabel('TARGET DELAY MEAN')\n",
    "# Set a title of the current axes.\n",
    "plt.title('Bar chart')\n",
    "# Display a figure.\n",
    "plt.tight_layout()\n",
    "###business code labeled 4 has max target_delay mean"
   ]
  },
  {
   "cell_type": "code",
   "execution_count": 95,
   "metadata": {
    "colab": {
     "base_uri": "https://localhost:8080/",
     "height": 396
    },
    "id": "09QhsgmD-Zn-",
    "outputId": "4db621af-7791-4ed7-990b-517d3f7cf274"
   },
   "outputs": [
    {
     "data": {
      "image/png": "[encoded data removed]",
      "text/plain": [
       "<Figure size 360x360 with 1 Axes>"
      ]
     },
     "metadata": {
      "tags": []
     },
     "output_type": "display_data"
    }
   ],
   "source": [
    "grp_posting_date_mnth=train_set.groupby('posting_date_month')['target_delay'].agg({'mean'}).reset_index()\n",
    "plt.figure(figsize=(5,5))\n",
    "plt.pie(grp_posting_date_mnth['mean'],labels=grp_posting_date_mnth['posting_date_month'],autopct='%1.0f%%',radius = 1.5)\n",
    "plt.show()\n",
    "##shows target_delay mean in percentage in every month wrt posting_date"
   ]
  },
  {
   "cell_type": "code",
   "execution_count": 96,
   "metadata": {
    "colab": {
     "base_uri": "https://localhost:8080/",
     "height": 399
    },
    "id": "7lVnGefZ-eu5",
    "outputId": "bca1d291-d4dc-4262-8c94-62c91be41241"
   },
   "outputs": [
    {
     "data": {
      "image/png": "[encoded data removed]",
      "text/plain": [
       "<Figure size 360x360 with 1 Axes>"
      ]
     },
     "metadata": {
      "tags": []
     },
     "output_type": "display_data"
    }
   ],
   "source": [
    "grp_baseline_cr_date_mnth=train_set.groupby('baseline_create_date_month')['target_delay'].agg({'mean'}).reset_index()\n",
    "plt.figure(figsize=(5,5))\n",
    "plt.pie(grp_baseline_cr_date_mnth['mean'],labels=grp_baseline_cr_date_mnth['baseline_create_date_month'],autopct='%1.0f%%',radius = 1.5)\n",
    "plt.show()\n",
    "##shows target_delay mean in percentage in every month wrt baseline_create_date\n",
    "##we notice that above both the date graphs have nearly similar mean monthly"
   ]
  },
  {
   "cell_type": "code",
   "execution_count": 97,
   "metadata": {
    "colab": {
     "base_uri": "https://localhost:8080/",
     "height": 393
    },
    "id": "JAPg2U8i-h2U",
    "outputId": "403a9a83-41a5-4474-bcfd-d83c3b308467"
   },
   "outputs": [
    {
     "data": {
      "image/png": "[encoded data removed]",
      "text/plain": [
       "<Figure size 360x360 with 1 Axes>"
      ]
     },
     "metadata": {
      "tags": []
     },
     "output_type": "display_data"
    }
   ],
   "source": [
    "grp_due_in_date_mnth=train_set.groupby('due_in_date_month')['target_delay'].agg({'mean'}).reset_index()\n",
    "plt.figure(figsize=(5,5))\n",
    "plt.pie(grp_due_in_date_mnth['mean'],labels=grp_due_in_date_mnth['due_in_date_month'],autopct='%1.0f%%',radius = 1.5)\n",
    "plt.show()\n",
    "##shows target_delay mean in percentage in every month wrt due_in_date\n"
   ]
  },
  {
   "cell_type": "code",
   "execution_count": 98,
   "metadata": {
    "colab": {
     "base_uri": "https://localhost:8080/",
     "height": 297
    },
    "id": "O6w_8WFm-kLl",
    "outputId": "5f58aaed-7663-46e8-8d9b-9407994708a7"
   },
   "outputs": [
    {
     "data": {
      "image/png": "[encoded data removed]",
      "text/plain": [
       "<Figure size 432x288 with 1 Axes>"
      ]
     },
     "metadata": {
      "needs_background": "light",
      "tags": []
     },
     "output_type": "display_data"
    }
   ],
   "source": [
    "grp_nc=train_set.groupby('business_code')['total_open_amount'].agg({'mean'}).reset_index()\n",
    "\n",
    "plt.bar(grp_nc['business_code'].astype(int).astype(str),grp_nc['mean'],color = 'b')\n",
    "plt.xlabel('B CODE')\n",
    "plt.xlim((-1,grp_nc['business_code'].nunique()))\n",
    "plt.ylabel('Total open amount Mean')\n",
    "# Set a title of the current axes.\n",
    "plt.title('Bar chart')\n",
    "# Display a figure.\n",
    "plt.tight_layout()\n",
    "###displaying avg total amount for each business code "
   ]
  },
  {
   "cell_type": "code",
   "execution_count": 99,
   "metadata": {
    "colab": {
     "base_uri": "https://localhost:8080/",
     "height": 280
    },
    "id": "oOoCZONd-mrC",
    "outputId": "c1430b43-0cef-4aaf-d8fe-04c42078809d"
   },
   "outputs": [
    {
     "data": {
      "image/png": "[encoded data removed]",
      "text/plain": [
       "<Figure size 432x288 with 1 Axes>"
      ]
     },
     "metadata": {
      "needs_background": "light",
      "tags": []
     },
     "output_type": "display_data"
    }
   ],
   "source": [
    "###Scatter plot of posting date month with target delay\n",
    "plt.scatter(train_set[:30]['target_delay'], train_set[:30]['posting_date_month'],color='r',label='posting date month')\n",
    "plt.xlabel(\"target_delay\")\n",
    "plt.legend()\n",
    "plt.show()"
   ]
  },
  {
   "cell_type": "code",
   "execution_count": 100,
   "metadata": {
    "colab": {
     "base_uri": "https://localhost:8080/",
     "height": 280
    },
    "id": "QcSLEAH1-opP",
    "outputId": "0a8b10e0-771a-4a59-f54a-507bf7be0f67"
   },
   "outputs": [
    {
     "data": {
      "image/png": "[encoded data removed]",
      "text/plain": [
       "<Figure size 432x288 with 1 Axes>"
      ]
     },
     "metadata": {
      "needs_background": "light",
      "tags": []
     },
     "output_type": "display_data"
    }
   ],
   "source": [
    "###Scatter plot of baseline create date month with target delay\n",
    "plt.scatter(train_set[:30]['target_delay'], train_set[:30]['baseline_create_date_month'],color='b',label='baseline create date month')\n",
    "plt.xlabel(\"target_delay\")\n",
    "plt.legend()\n",
    "plt.show()"
   ]
  },
  {
   "cell_type": "code",
   "execution_count": 101,
   "metadata": {
    "colab": {
     "base_uri": "https://localhost:8080/",
     "height": 280
    },
    "id": "zsouoKPF-qfH",
    "outputId": "4c3a5473-3c01-4a80-c8b6-435fda446ac6"
   },
   "outputs": [
    {
     "data": {
      "image/png": "[encoded data removed]",
      "text/plain": [
       "<Figure size 432x288 with 1 Axes>"
      ]
     },
     "metadata": {
      "needs_background": "light",
      "tags": []
     },
     "output_type": "display_data"
    }
   ],
   "source": [
    "###Scatter plot of posting date month and basline create date with target delay\n",
    "plt.scatter(train_set[:30]['target_delay'], train_set[:30]['posting_date_month'],color='r',label='posting date month')\n",
    "plt.scatter(train_set[:30]['target_delay'], train_set[:30]['baseline_create_date_month'],color='b',label='baseline create date month')\n",
    "\n",
    "plt.xlabel(\"target_delay\")\n",
    "plt.legend()\n",
    "plt.show()\n",
    "\n",
    "### We see both the points overlap each other"
   ]
  },
  {
   "cell_type": "code",
   "execution_count": 102,
   "metadata": {
    "id": "gp1cWczu-uHH"
   },
   "outputs": [],
   "source": [
    "####Distribution of various columns to check skewness"
   ]
  },
  {
   "cell_type": "code",
   "execution_count": 103,
   "metadata": {
    "colab": {
     "base_uri": "https://localhost:8080/"
    },
    "id": "EvFc8Q6y-wlh",
    "outputId": "f7952078-7396-4d71-e505-82fcb8f71f38"
   },
   "outputs": [
    {
     "name": "stdout",
     "output_type": "stream",
     "text": [
      "BUSINESS CODE\n",
      "3.3282343258536025\n"
     ]
    }
   ],
   "source": [
    "##SKEWNESS OF DIFFERENT COLUMNS\n",
    "from scipy.stats import  skew\n",
    "print(\"BUSINESS CODE\")\n",
    "print(skew(train_set['business_code'])) ##highly positive"
   ]
  },
  {
   "cell_type": "code",
   "execution_count": 104,
   "metadata": {
    "colab": {
     "base_uri": "https://localhost:8080/"
    },
    "id": "eBr8j1Mn-yXv",
    "outputId": "7d16918e-0748-4617-f9e9-b1f1053972a8"
   },
   "outputs": [
    {
     "name": "stdout",
     "output_type": "stream",
     "text": [
      "CUSTOMER NUMBER\n",
      "5.021526311049423\n"
     ]
    }
   ],
   "source": [
    "from scipy.stats import  skew\n",
    "print(\"CUSTOMER NUMBER\")\n",
    "print(skew(train_set['cust_number'])) ##highly positive"
   ]
  },
  {
   "cell_type": "code",
   "execution_count": 105,
   "metadata": {
    "colab": {
     "base_uri": "https://localhost:8080/",
     "height": 973
    },
    "id": "MdREJPtd-0CM",
    "outputId": "bbbfe331-1045-4aba-d6c9-e184ab7ba7c8"
   },
   "outputs": [
    {
     "data": {
      "text/plain": [
       "array([[<matplotlib.axes._subplots.AxesSubplot object at 0x7fd65604e6d8>,\n",
       "        <matplotlib.axes._subplots.AxesSubplot object at 0x7fd655f52978>,\n",
       "        <matplotlib.axes._subplots.AxesSubplot object at 0x7fd6559d8be0>,\n",
       "        <matplotlib.axes._subplots.AxesSubplot object at 0x7fd65584ee48>],\n",
       "       [<matplotlib.axes._subplots.AxesSubplot object at 0x7fd65cd760f0>,\n",
       "        <matplotlib.axes._subplots.AxesSubplot object at 0x7fd65e322358>,\n",
       "        <matplotlib.axes._subplots.AxesSubplot object at 0x7fd65cfe65c0>,\n",
       "        <matplotlib.axes._subplots.AxesSubplot object at 0x7fd65c1097f0>],\n",
       "       [<matplotlib.axes._subplots.AxesSubplot object at 0x7fd65c109860>,\n",
       "        <matplotlib.axes._subplots.AxesSubplot object at 0x7fd65a662cf8>,\n",
       "        <matplotlib.axes._subplots.AxesSubplot object at 0x7fd659d20f60>,\n",
       "        <matplotlib.axes._subplots.AxesSubplot object at 0x7fd65d066a20>],\n",
       "       [<matplotlib.axes._subplots.AxesSubplot object at 0x7fd65abc0da0>,\n",
       "        <matplotlib.axes._subplots.AxesSubplot object at 0x7fd6563be160>,\n",
       "        <matplotlib.axes._subplots.AxesSubplot object at 0x7fd65e38d4e0>,\n",
       "        <matplotlib.axes._subplots.AxesSubplot object at 0x7fd65e154860>],\n",
       "       [<matplotlib.axes._subplots.AxesSubplot object at 0x7fd65de36be0>,\n",
       "        <matplotlib.axes._subplots.AxesSubplot object at 0x7fd65d94cf60>,\n",
       "        <matplotlib.axes._subplots.AxesSubplot object at 0x7fd65ca06320>,\n",
       "        <matplotlib.axes._subplots.AxesSubplot object at 0x7fd65d0226a0>]],\n",
       "      dtype=object)"
      ]
     },
     "execution_count": 105,
     "metadata": {
      "tags": []
     },
     "output_type": "execute_result"
    },
    {
     "data": {
      "image/png": "[encoded data removed]",
      "text/plain": [
       "<Figure size 1152x720 with 20 Axes>"
      ]
     },
     "metadata": {
      "tags": []
     },
     "output_type": "display_data"
    }
   ],
   "source": [
    "import matplotlib\n",
    "import matplotlib.pyplot as plt\n",
    "import pandas as pd\n",
    "\n",
    "matplotlib.style.use('ggplot')\n",
    "train_set.hist(alpha=0.5, figsize=(16, 10))"
   ]
  },
  {
   "cell_type": "code",
   "execution_count": 106,
   "metadata": {
    "colab": {
     "base_uri": "https://localhost:8080/"
    },
    "id": "z4HZsb3I-1oF",
    "outputId": "093499c5-e5ad-4058-f9c2-8e06d631b704"
   },
   "outputs": [
    {
     "name": "stdout",
     "output_type": "stream",
     "text": [
      "Customer Name\n",
      "4.8861533547198075\n"
     ]
    }
   ],
   "source": [
    "from scipy.stats import  skew\n",
    "print(\"Customer Name\")\n",
    "print(skew(train_set['name_customer']))   ##highly positive"
   ]
  },
  {
   "cell_type": "code",
   "execution_count": 107,
   "metadata": {
    "colab": {
     "base_uri": "https://localhost:8080/",
     "height": 354
    },
    "id": "EhK02gTy-5g0",
    "outputId": "e9088656-3681-48a7-ddda-6f3aef6b8957"
   },
   "outputs": [
    {
     "name": "stderr",
     "output_type": "stream",
     "text": [
      "/usr/local/lib/python3.6/dist-packages/seaborn/distributions.py:2557: FutureWarning: `distplot` is a deprecated function and will be removed in a future version. Please adapt your code to use either `displot` (a figure-level function with similar flexibility) or `histplot` (an axes-level function for histograms).\n",
      "  warnings.warn(msg, FutureWarning)\n"
     ]
    },
    {
     "data": {
      "text/plain": [
       "<matplotlib.axes._subplots.AxesSubplot at 0x7fd656a27978>"
      ]
     },
     "execution_count": 107,
     "metadata": {
      "tags": []
     },
     "output_type": "execute_result"
    },
    {
     "data": {
      "image/png": "[encoded data removed]",
      "text/plain": [
       "<Figure size 432x288 with 1 Axes>"
      ]
     },
     "metadata": {
      "tags": []
     },
     "output_type": "display_data"
    }
   ],
   "source": [
    "sns.distplot(train_set['invoice_currency'])"
   ]
  },
  {
   "cell_type": "code",
   "execution_count": 108,
   "metadata": {
    "colab": {
     "base_uri": "https://localhost:8080/"
    },
    "id": "tFoqYBBI-7o_",
    "outputId": "9707f741-cb65-447f-fcc4-9a1ee4dc57de"
   },
   "outputs": [
    {
     "name": "stdout",
     "output_type": "stream",
     "text": [
      "Invoice Currency\n",
      "3.064884798180715\n"
     ]
    }
   ],
   "source": [
    "from scipy.stats import  skew\n",
    "print(\"Invoice Currency\")\n",
    "print(skew(train_set['invoice_currency'])) ##highly positive"
   ]
  },
  {
   "cell_type": "code",
   "execution_count": 110,
   "metadata": {
    "colab": {
     "base_uri": "https://localhost:8080/",
     "height": 365
    },
    "id": "j6pfGu65-9VU",
    "outputId": "24052c8c-132f-4654-c319-7c26779fc66e"
   },
   "outputs": [
    {
     "name": "stderr",
     "output_type": "stream",
     "text": [
      "/usr/local/lib/python3.6/dist-packages/seaborn/distributions.py:2557: FutureWarning: `distplot` is a deprecated function and will be removed in a future version. Please adapt your code to use either `displot` (a figure-level function with similar flexibility) or `histplot` (an axes-level function for histograms).\n",
      "  warnings.warn(msg, FutureWarning)\n"
     ]
    },
    {
     "data": {
      "text/plain": [
       "<matplotlib.axes._subplots.AxesSubplot at 0x7fd6596d1400>"
      ]
     },
     "execution_count": 110,
     "metadata": {
      "tags": []
     },
     "output_type": "execute_result"
    },
    {
     "data": {
      "image/png": "[encoded data removed]",
      "text/plain": [
       "<Figure size 432x288 with 1 Axes>"
      ]
     },
     "metadata": {
      "tags": []
     },
     "output_type": "display_data"
    }
   ],
   "source": [
    "sns.distplot(train_set['total_open_amount'])"
   ]
  },
  {
   "cell_type": "code",
   "execution_count": 111,
   "metadata": {
    "colab": {
     "base_uri": "https://localhost:8080/"
    },
    "id": "M9lHiW88_FGb",
    "outputId": "719e80d9-1cc0-4d19-e758-3679cad6e223"
   },
   "outputs": [
    {
     "name": "stdout",
     "output_type": "stream",
     "text": [
      "Total Open Amount\n",
      "2.543577309637194\n"
     ]
    }
   ],
   "source": [
    "from scipy.stats import  skew\n",
    "print(\"Total Open Amount\")\n",
    "print(skew(train_set['total_open_amount']))  ##highly positive\n"
   ]
  },
  {
   "cell_type": "code",
   "execution_count": 112,
   "metadata": {
    "colab": {
     "base_uri": "https://localhost:8080/"
    },
    "id": "sSe500ra_GNs",
    "outputId": "80dedca8-854b-4305-f913-1367cabbae3a"
   },
   "outputs": [
    {
     "name": "stdout",
     "output_type": "stream",
     "text": [
      "Customer Payment Terms\n",
      "0.4037877640607491\n"
     ]
    }
   ],
   "source": [
    "from scipy.stats import  skew\n",
    "print(\"Customer Payment Terms\")\n",
    "print(skew(train_set['cust_payment_terms']))    #less positively skewed"
   ]
  },
  {
   "cell_type": "code",
   "execution_count": 113,
   "metadata": {
    "colab": {
     "base_uri": "https://localhost:8080/"
    },
    "id": "7raa2trK_IY9",
    "outputId": "d47533b3-9dcf-4fa7-e4a5-e7a1586c844c"
   },
   "outputs": [
    {
     "name": "stdout",
     "output_type": "stream",
     "text": [
      "Is Open\n",
      "0.0\n"
     ]
    }
   ],
   "source": [
    "from scipy.stats import  skew\n",
    "print(\"Is Open\")\n",
    "print(skew(train_set['isOpen']))    "
   ]
  },
  {
   "cell_type": "code",
   "execution_count": 114,
   "metadata": {
    "colab": {
     "base_uri": "https://localhost:8080/"
    },
    "id": "t5FD4EkB_KNC",
    "outputId": "2365fbd1-03e9-443d-c7d5-cb5b30d9a19d"
   },
   "outputs": [
    {
     "name": "stdout",
     "output_type": "stream",
     "text": [
      "Baseline Create month \n",
      "0.024543213703139975\n"
     ]
    }
   ],
   "source": [
    "print(\"Baseline Create month \")\n",
    "print(skew(train_set['baseline_create_date_month']))    "
   ]
  },
  {
   "cell_type": "code",
   "execution_count": 115,
   "metadata": {
    "colab": {
     "base_uri": "https://localhost:8080/"
    },
    "id": "hF1x40nf_L7Y",
    "outputId": "a144e0ce-53f6-4a37-acab-2fbe90b1275f"
   },
   "outputs": [
    {
     "name": "stdout",
     "output_type": "stream",
     "text": [
      "Baseline Create Quarter\n",
      "0.1193722281398001\n"
     ]
    }
   ],
   "source": [
    "print(\"Baseline Create Quarter\")\n",
    "print(skew(train_set['baseline_create_date_quarter']))    "
   ]
  },
  {
   "cell_type": "code",
   "execution_count": 116,
   "metadata": {
    "colab": {
     "base_uri": "https://localhost:8080/"
    },
    "id": "2Ge6nRDu_NgG",
    "outputId": "38176e12-8885-414b-ea1f-997b483c47c4"
   },
   "outputs": [
    {
     "name": "stdout",
     "output_type": "stream",
     "text": [
      "Create Date Month.1 month \n",
      "0.024160104571675074\n"
     ]
    }
   ],
   "source": [
    "print(\"Create Date Month.1 month \")\n",
    "print(skew(train_set['create_date.1_month']))    "
   ]
  },
  {
   "cell_type": "code",
   "execution_count": 117,
   "metadata": {
    "colab": {
     "base_uri": "https://localhost:8080/"
    },
    "id": "3ZrWFOqd_Pc0",
    "outputId": "4e344af8-a9ef-4a2b-9307-2a449c6e2c23"
   },
   "outputs": [
    {
     "name": "stdout",
     "output_type": "stream",
     "text": [
      "Create date month.1 quarter \n",
      "0.12118298300798952\n"
     ]
    }
   ],
   "source": [
    "print(\"Create date month.1 quarter \")\n",
    "print(skew(train_set['create_date.1_quarter']))    "
   ]
  },
  {
   "cell_type": "code",
   "execution_count": 118,
   "metadata": {
    "id": "TFxIX9E7_Q9O"
   },
   "outputs": [],
   "source": [
    "####Skewness of columns which have high correlation with target label will not be altered"
   ]
  },
  {
   "cell_type": "code",
   "execution_count": 119,
   "metadata": {
    "colab": {
     "base_uri": "https://localhost:8080/"
    },
    "id": "QdOaKLkK_So_",
    "outputId": "5530db58-8e71-41a7-86c8-7ca60c09ce83"
   },
   "outputs": [
    {
     "name": "stdout",
     "output_type": "stream",
     "text": [
      "3.0648847981807137\n"
     ]
    }
   ],
   "source": [
    "###invoice currency is highly positively skewed and it is less correlated with target delay so we apply squarert transformation\n",
    "train_set['invoice_currency']=np.sqrt(train_set['invoice_currency'])\n",
    "\n",
    "print(skew(train_set['invoice_currency']))  ###no change "
   ]
  },
  {
   "cell_type": "code",
   "execution_count": 120,
   "metadata": {
    "colab": {
     "base_uri": "https://localhost:8080/"
    },
    "id": "z_B1HadV_YMi",
    "outputId": "ef998f21-6f71-4f8b-bc8e-c22d2e27599d"
   },
   "outputs": [
    {
     "name": "stdout",
     "output_type": "stream",
     "text": [
      "0.7744150889941419\n"
     ]
    }
   ],
   "source": [
    "train_set['total_open_amount']=np.sqrt(train_set['total_open_amount'])\n",
    "\n",
    "print(skew(train_set['total_open_amount']))  ###skewness reduced\n"
   ]
  },
  {
   "cell_type": "code",
   "execution_count": 121,
   "metadata": {
    "id": "dM1OCS9y_abQ"
   },
   "outputs": [],
   "source": [
    "#train_set['cust_payment_terms']=np.sqrt(train_set['cust_payment_terms'])\n",
    "\n",
    "#print(skew(train_set['cust_payment_terms']))  ###skewness reduced"
   ]
  },
  {
   "cell_type": "code",
   "execution_count": 122,
   "metadata": {
    "colab": {
     "base_uri": "https://localhost:8080/"
    },
    "id": "qHHkEAFq_clU",
    "outputId": "ef255a26-3c39-4ad0-87a5-7ceb870bfe5f"
   },
   "outputs": [
    {
     "data": {
      "text/plain": [
       "business_code                            int64\n",
       "cust_number                            float64\n",
       "name_customer                          float64\n",
       "clear_date                      datetime64[ns]\n",
       "doc_id                                  object\n",
       "posting_date                    datetime64[ns]\n",
       "document_create_date            datetime64[ns]\n",
       "document_create_date.1          datetime64[ns]\n",
       "due_in_date                     datetime64[ns]\n",
       "invoice_currency                       float64\n",
       "total_open_amount                      float64\n",
       "baseline_create_date            datetime64[ns]\n",
       "cust_payment_terms                       int64\n",
       "isOpen                                 float64\n",
       "target_delay                             int64\n",
       "create_date_month                        int64\n",
       "create_date.1_month                      int64\n",
       "posting_date_month                       int64\n",
       "baseline_create_date_month               int64\n",
       "due_in_date_month                        int64\n",
       "create_date_quarter                      int64\n",
       "create_date.1_quarter                    int64\n",
       "posting_date_quarter                     int64\n",
       "baseline_create_date_quarter             int64\n",
       "due_in_date_quarter                      int64\n",
       "dtype: object"
      ]
     },
     "execution_count": 122,
     "metadata": {
      "tags": []
     },
     "output_type": "execute_result"
    }
   ],
   "source": [
    "train_set.dtypes"
   ]
  },
  {
   "cell_type": "code",
   "execution_count": 123,
   "metadata": {
    "colab": {
     "base_uri": "https://localhost:8080/"
    },
    "id": "gET8tr2s_eVV",
    "outputId": "4d3e4aa1-e9e1-4874-bc54-26261164d72e"
   },
   "outputs": [
    {
     "data": {
      "text/plain": [
       "<bound method Series.unique of 0        1.92986e+09\n",
       "1        1.92979e+09\n",
       "3        1.92952e+09\n",
       "4        1.92946e+09\n",
       "5        1.92948e+09\n",
       "            ...     \n",
       "45458     1.9288e+09\n",
       "45460    1.92977e+09\n",
       "45461    2.96054e+09\n",
       "45462    1.92865e+09\n",
       "45463    1.92956e+09\n",
       "Name: doc_id, Length: 38158, dtype: object>"
      ]
     },
     "execution_count": 123,
     "metadata": {
      "tags": []
     },
     "output_type": "execute_result"
    }
   ],
   "source": [
    "train_set['doc_id'].unique"
   ]
  },
  {
   "cell_type": "code",
   "execution_count": 124,
   "metadata": {
    "id": "dKT9qdLT_gnH"
   },
   "outputs": [],
   "source": [
    "###doc_id is primary key so drop\n",
    "train_set.drop(['doc_id'],axis=1,inplace=True)"
   ]
  },
  {
   "cell_type": "code",
   "execution_count": 125,
   "metadata": {
    "colab": {
     "base_uri": "https://localhost:8080/"
    },
    "id": "UDdJySWC_iWr",
    "outputId": "cf59d6bd-e45a-4921-ef43-42fa0b0a1d95"
   },
   "outputs": [
    {
     "data": {
      "text/plain": [
       "(-3.0, 2.0)"
      ]
     },
     "execution_count": 125,
     "metadata": {
      "tags": []
     },
     "output_type": "execute_result"
    }
   ],
   "source": [
    "#remove outliers from target_delay\n",
    "q1=train_set.target_delay.quantile(0.25)\n",
    "q3=train_set.target_delay.quantile(0.75)\n",
    "q1,q3"
   ]
  },
  {
   "cell_type": "code",
   "execution_count": 126,
   "metadata": {
    "colab": {
     "base_uri": "https://localhost:8080/"
    },
    "id": "uRtEgLCu_j9g",
    "outputId": "e84b39a3-8f78-47b7-e749-012768735adb"
   },
   "outputs": [
    {
     "data": {
      "text/plain": [
       "(-10.5, 9.5)"
      ]
     },
     "execution_count": 126,
     "metadata": {
      "tags": []
     },
     "output_type": "execute_result"
    }
   ],
   "source": [
    "iqr=q3-q1\n",
    "upper_limit=q3+1.5*iqr\n",
    "lower_limit=q1-1.5*iqr\n",
    "lower_limit,upper_limit"
   ]
  },
  {
   "cell_type": "code",
   "execution_count": 127,
   "metadata": {
    "colab": {
     "base_uri": "https://localhost:8080/",
     "height": 435
    },
    "id": "3nIQkIkT_l78",
    "outputId": "b9b64cae-82a9-46c5-c277-bdb1e6aab97b"
   },
   "outputs": [
    {
     "data": {
      "text/html": [
       "<div>\n",
       "<style scoped>\n",
       "    .dataframe tbody tr th:only-of-type {\n",
       "        vertical-align: middle;\n",
       "    }\n",
       "\n",
       "    .dataframe tbody tr th {\n",
       "        vertical-align: top;\n",
       "    }\n",
       "\n",
       "    .dataframe thead th {\n",
       "        text-align: right;\n",
       "    }\n",
       "</style>\n",
       "<table border=\"1\" class=\"dataframe\">\n",
       "  <thead>\n",
       "    <tr style=\"text-align: right;\">\n",
       "      <th></th>\n",
       "      <th>business_code</th>\n",
       "      <th>cust_number</th>\n",
       "      <th>name_customer</th>\n",
       "      <th>clear_date</th>\n",
       "      <th>posting_date</th>\n",
       "      <th>document_create_date</th>\n",
       "      <th>document_create_date.1</th>\n",
       "      <th>due_in_date</th>\n",
       "      <th>invoice_currency</th>\n",
       "      <th>total_open_amount</th>\n",
       "      <th>baseline_create_date</th>\n",
       "      <th>cust_payment_terms</th>\n",
       "      <th>isOpen</th>\n",
       "      <th>target_delay</th>\n",
       "      <th>create_date_month</th>\n",
       "      <th>create_date.1_month</th>\n",
       "      <th>posting_date_month</th>\n",
       "      <th>baseline_create_date_month</th>\n",
       "      <th>due_in_date_month</th>\n",
       "      <th>create_date_quarter</th>\n",
       "      <th>create_date.1_quarter</th>\n",
       "      <th>posting_date_quarter</th>\n",
       "      <th>baseline_create_date_quarter</th>\n",
       "      <th>due_in_date_quarter</th>\n",
       "    </tr>\n",
       "  </thead>\n",
       "  <tbody>\n",
       "    <tr>\n",
       "      <th>22</th>\n",
       "      <td>4</td>\n",
       "      <td>2.436872</td>\n",
       "      <td>2.243023</td>\n",
       "      <td>2019-11-26</td>\n",
       "      <td>2019-08-14</td>\n",
       "      <td>2019-08-12</td>\n",
       "      <td>2019-08-14</td>\n",
       "      <td>2019-09-28</td>\n",
       "      <td>0.811971</td>\n",
       "      <td>155.393404</td>\n",
       "      <td>2019-08-14</td>\n",
       "      <td>28</td>\n",
       "      <td>1.068714</td>\n",
       "      <td>59</td>\n",
       "      <td>8</td>\n",
       "      <td>8</td>\n",
       "      <td>8</td>\n",
       "      <td>8</td>\n",
       "      <td>9</td>\n",
       "      <td>3</td>\n",
       "      <td>3</td>\n",
       "      <td>3</td>\n",
       "      <td>3</td>\n",
       "      <td>3</td>\n",
       "    </tr>\n",
       "    <tr>\n",
       "      <th>30</th>\n",
       "      <td>0</td>\n",
       "      <td>3.408100</td>\n",
       "      <td>2.628571</td>\n",
       "      <td>2019-11-01</td>\n",
       "      <td>2019-10-01</td>\n",
       "      <td>2019-10-01</td>\n",
       "      <td>2019-10-01</td>\n",
       "      <td>2019-10-20</td>\n",
       "      <td>2.386880</td>\n",
       "      <td>51.687426</td>\n",
       "      <td>2019-10-10</td>\n",
       "      <td>1</td>\n",
       "      <td>1.068714</td>\n",
       "      <td>12</td>\n",
       "      <td>10</td>\n",
       "      <td>10</td>\n",
       "      <td>10</td>\n",
       "      <td>10</td>\n",
       "      <td>10</td>\n",
       "      <td>4</td>\n",
       "      <td>4</td>\n",
       "      <td>4</td>\n",
       "      <td>4</td>\n",
       "      <td>4</td>\n",
       "    </tr>\n",
       "    <tr>\n",
       "      <th>59</th>\n",
       "      <td>1</td>\n",
       "      <td>2.436872</td>\n",
       "      <td>2.243023</td>\n",
       "      <td>2019-12-20</td>\n",
       "      <td>2019-11-22</td>\n",
       "      <td>2019-11-17</td>\n",
       "      <td>2019-11-22</td>\n",
       "      <td>2019-12-07</td>\n",
       "      <td>0.811971</td>\n",
       "      <td>73.209289</td>\n",
       "      <td>2019-11-22</td>\n",
       "      <td>9</td>\n",
       "      <td>1.068714</td>\n",
       "      <td>13</td>\n",
       "      <td>11</td>\n",
       "      <td>11</td>\n",
       "      <td>11</td>\n",
       "      <td>11</td>\n",
       "      <td>12</td>\n",
       "      <td>4</td>\n",
       "      <td>4</td>\n",
       "      <td>4</td>\n",
       "      <td>4</td>\n",
       "      <td>4</td>\n",
       "    </tr>\n",
       "    <tr>\n",
       "      <th>87</th>\n",
       "      <td>1</td>\n",
       "      <td>42.690346</td>\n",
       "      <td>43.019608</td>\n",
       "      <td>2019-06-28</td>\n",
       "      <td>2019-05-24</td>\n",
       "      <td>2019-05-22</td>\n",
       "      <td>2019-05-24</td>\n",
       "      <td>2019-05-24</td>\n",
       "      <td>0.811971</td>\n",
       "      <td>210.933852</td>\n",
       "      <td>2019-05-24</td>\n",
       "      <td>36</td>\n",
       "      <td>1.068714</td>\n",
       "      <td>35</td>\n",
       "      <td>5</td>\n",
       "      <td>5</td>\n",
       "      <td>5</td>\n",
       "      <td>5</td>\n",
       "      <td>5</td>\n",
       "      <td>2</td>\n",
       "      <td>2</td>\n",
       "      <td>2</td>\n",
       "      <td>2</td>\n",
       "      <td>2</td>\n",
       "    </tr>\n",
       "    <tr>\n",
       "      <th>105</th>\n",
       "      <td>1</td>\n",
       "      <td>42.690346</td>\n",
       "      <td>41.822222</td>\n",
       "      <td>2019-08-02</td>\n",
       "      <td>2019-06-02</td>\n",
       "      <td>2019-06-03</td>\n",
       "      <td>2019-06-02</td>\n",
       "      <td>2019-06-02</td>\n",
       "      <td>0.811971</td>\n",
       "      <td>264.442810</td>\n",
       "      <td>2019-06-02</td>\n",
       "      <td>36</td>\n",
       "      <td>1.068714</td>\n",
       "      <td>61</td>\n",
       "      <td>6</td>\n",
       "      <td>6</td>\n",
       "      <td>6</td>\n",
       "      <td>6</td>\n",
       "      <td>6</td>\n",
       "      <td>2</td>\n",
       "      <td>2</td>\n",
       "      <td>2</td>\n",
       "      <td>2</td>\n",
       "      <td>2</td>\n",
       "    </tr>\n",
       "    <tr>\n",
       "      <th>...</th>\n",
       "      <td>...</td>\n",
       "      <td>...</td>\n",
       "      <td>...</td>\n",
       "      <td>...</td>\n",
       "      <td>...</td>\n",
       "      <td>...</td>\n",
       "      <td>...</td>\n",
       "      <td>...</td>\n",
       "      <td>...</td>\n",
       "      <td>...</td>\n",
       "      <td>...</td>\n",
       "      <td>...</td>\n",
       "      <td>...</td>\n",
       "      <td>...</td>\n",
       "      <td>...</td>\n",
       "      <td>...</td>\n",
       "      <td>...</td>\n",
       "      <td>...</td>\n",
       "      <td>...</td>\n",
       "      <td>...</td>\n",
       "      <td>...</td>\n",
       "      <td>...</td>\n",
       "      <td>...</td>\n",
       "      <td>...</td>\n",
       "    </tr>\n",
       "    <tr>\n",
       "      <th>45394</th>\n",
       "      <td>4</td>\n",
       "      <td>30.500000</td>\n",
       "      <td>2.243023</td>\n",
       "      <td>2019-08-14</td>\n",
       "      <td>2019-05-01</td>\n",
       "      <td>2019-05-01</td>\n",
       "      <td>2019-05-01</td>\n",
       "      <td>2019-06-15</td>\n",
       "      <td>0.811971</td>\n",
       "      <td>127.539053</td>\n",
       "      <td>2019-05-01</td>\n",
       "      <td>28</td>\n",
       "      <td>1.068714</td>\n",
       "      <td>60</td>\n",
       "      <td>5</td>\n",
       "      <td>5</td>\n",
       "      <td>5</td>\n",
       "      <td>5</td>\n",
       "      <td>6</td>\n",
       "      <td>2</td>\n",
       "      <td>2</td>\n",
       "      <td>2</td>\n",
       "      <td>2</td>\n",
       "      <td>2</td>\n",
       "    </tr>\n",
       "    <tr>\n",
       "      <th>45402</th>\n",
       "      <td>4</td>\n",
       "      <td>2.436872</td>\n",
       "      <td>2.243023</td>\n",
       "      <td>2019-07-02</td>\n",
       "      <td>2019-04-21</td>\n",
       "      <td>2019-04-17</td>\n",
       "      <td>2019-04-21</td>\n",
       "      <td>2019-06-20</td>\n",
       "      <td>0.811971</td>\n",
       "      <td>235.946265</td>\n",
       "      <td>2019-04-21</td>\n",
       "      <td>26</td>\n",
       "      <td>1.068714</td>\n",
       "      <td>12</td>\n",
       "      <td>4</td>\n",
       "      <td>4</td>\n",
       "      <td>4</td>\n",
       "      <td>4</td>\n",
       "      <td>6</td>\n",
       "      <td>2</td>\n",
       "      <td>2</td>\n",
       "      <td>2</td>\n",
       "      <td>2</td>\n",
       "      <td>2</td>\n",
       "    </tr>\n",
       "    <tr>\n",
       "      <th>45418</th>\n",
       "      <td>1</td>\n",
       "      <td>-1.260870</td>\n",
       "      <td>-18.500000</td>\n",
       "      <td>2019-07-05</td>\n",
       "      <td>2019-06-19</td>\n",
       "      <td>2019-06-19</td>\n",
       "      <td>2019-06-19</td>\n",
       "      <td>2019-09-17</td>\n",
       "      <td>0.811971</td>\n",
       "      <td>37.378470</td>\n",
       "      <td>2019-06-19</td>\n",
       "      <td>32</td>\n",
       "      <td>1.068714</td>\n",
       "      <td>-74</td>\n",
       "      <td>6</td>\n",
       "      <td>6</td>\n",
       "      <td>6</td>\n",
       "      <td>6</td>\n",
       "      <td>9</td>\n",
       "      <td>2</td>\n",
       "      <td>2</td>\n",
       "      <td>2</td>\n",
       "      <td>2</td>\n",
       "      <td>3</td>\n",
       "    </tr>\n",
       "    <tr>\n",
       "      <th>45432</th>\n",
       "      <td>1</td>\n",
       "      <td>42.690346</td>\n",
       "      <td>43.129630</td>\n",
       "      <td>2019-08-30</td>\n",
       "      <td>2019-07-07</td>\n",
       "      <td>2019-07-03</td>\n",
       "      <td>2019-07-07</td>\n",
       "      <td>2019-07-07</td>\n",
       "      <td>0.811971</td>\n",
       "      <td>40.286971</td>\n",
       "      <td>2019-07-07</td>\n",
       "      <td>36</td>\n",
       "      <td>1.068714</td>\n",
       "      <td>54</td>\n",
       "      <td>7</td>\n",
       "      <td>7</td>\n",
       "      <td>7</td>\n",
       "      <td>7</td>\n",
       "      <td>7</td>\n",
       "      <td>3</td>\n",
       "      <td>3</td>\n",
       "      <td>3</td>\n",
       "      <td>3</td>\n",
       "      <td>3</td>\n",
       "    </tr>\n",
       "    <tr>\n",
       "      <th>45446</th>\n",
       "      <td>1</td>\n",
       "      <td>-2.724138</td>\n",
       "      <td>-17.333333</td>\n",
       "      <td>2019-05-07</td>\n",
       "      <td>2019-04-23</td>\n",
       "      <td>2019-04-23</td>\n",
       "      <td>2019-04-23</td>\n",
       "      <td>2019-06-27</td>\n",
       "      <td>0.811971</td>\n",
       "      <td>6.529165</td>\n",
       "      <td>2019-04-23</td>\n",
       "      <td>20</td>\n",
       "      <td>1.068714</td>\n",
       "      <td>-51</td>\n",
       "      <td>4</td>\n",
       "      <td>4</td>\n",
       "      <td>4</td>\n",
       "      <td>4</td>\n",
       "      <td>6</td>\n",
       "      <td>2</td>\n",
       "      <td>2</td>\n",
       "      <td>2</td>\n",
       "      <td>2</td>\n",
       "      <td>2</td>\n",
       "    </tr>\n",
       "  </tbody>\n",
       "</table>\n",
       "<p>3003 rows × 24 columns</p>\n",
       "</div>"
      ],
      "text/plain": [
       "       business_code  ...  due_in_date_quarter\n",
       "22                 4  ...                    3\n",
       "30                 0  ...                    4\n",
       "59                 1  ...                    4\n",
       "87                 1  ...                    2\n",
       "105                1  ...                    2\n",
       "...              ...  ...                  ...\n",
       "45394              4  ...                    2\n",
       "45402              4  ...                    2\n",
       "45418              1  ...                    3\n",
       "45432              1  ...                    3\n",
       "45446              1  ...                    2\n",
       "\n",
       "[3003 rows x 24 columns]"
      ]
     },
     "execution_count": 127,
     "metadata": {
      "tags": []
     },
     "output_type": "execute_result"
    }
   ],
   "source": [
    "train_set[(train_set.target_delay<lower_limit)|(train_set.target_delay>upper_limit)] ##outlier"
   ]
  },
  {
   "cell_type": "code",
   "execution_count": 128,
   "metadata": {
    "colab": {
     "base_uri": "https://localhost:8080/",
     "height": 435
    },
    "id": "dYQ-2HbU_oBE",
    "outputId": "5af17a7f-5f28-484d-858e-3953bd3b463f"
   },
   "outputs": [
    {
     "data": {
      "text/html": [
       "<div>\n",
       "<style scoped>\n",
       "    .dataframe tbody tr th:only-of-type {\n",
       "        vertical-align: middle;\n",
       "    }\n",
       "\n",
       "    .dataframe tbody tr th {\n",
       "        vertical-align: top;\n",
       "    }\n",
       "\n",
       "    .dataframe thead th {\n",
       "        text-align: right;\n",
       "    }\n",
       "</style>\n",
       "<table border=\"1\" class=\"dataframe\">\n",
       "  <thead>\n",
       "    <tr style=\"text-align: right;\">\n",
       "      <th></th>\n",
       "      <th>business_code</th>\n",
       "      <th>cust_number</th>\n",
       "      <th>name_customer</th>\n",
       "      <th>clear_date</th>\n",
       "      <th>posting_date</th>\n",
       "      <th>document_create_date</th>\n",
       "      <th>document_create_date.1</th>\n",
       "      <th>due_in_date</th>\n",
       "      <th>invoice_currency</th>\n",
       "      <th>total_open_amount</th>\n",
       "      <th>baseline_create_date</th>\n",
       "      <th>cust_payment_terms</th>\n",
       "      <th>isOpen</th>\n",
       "      <th>target_delay</th>\n",
       "      <th>create_date_month</th>\n",
       "      <th>create_date.1_month</th>\n",
       "      <th>posting_date_month</th>\n",
       "      <th>baseline_create_date_month</th>\n",
       "      <th>due_in_date_month</th>\n",
       "      <th>create_date_quarter</th>\n",
       "      <th>create_date.1_quarter</th>\n",
       "      <th>posting_date_quarter</th>\n",
       "      <th>baseline_create_date_quarter</th>\n",
       "      <th>due_in_date_quarter</th>\n",
       "    </tr>\n",
       "  </thead>\n",
       "  <tbody>\n",
       "    <tr>\n",
       "      <th>0</th>\n",
       "      <td>1</td>\n",
       "      <td>1.529248</td>\n",
       "      <td>2.076923</td>\n",
       "      <td>2019-09-26</td>\n",
       "      <td>2019-09-11</td>\n",
       "      <td>2019-09-10</td>\n",
       "      <td>2019-09-11</td>\n",
       "      <td>2019-09-26</td>\n",
       "      <td>0.811971</td>\n",
       "      <td>227.694444</td>\n",
       "      <td>2019-09-11</td>\n",
       "      <td>9</td>\n",
       "      <td>1.068714</td>\n",
       "      <td>0</td>\n",
       "      <td>9</td>\n",
       "      <td>9</td>\n",
       "      <td>9</td>\n",
       "      <td>9</td>\n",
       "      <td>9</td>\n",
       "      <td>3</td>\n",
       "      <td>3</td>\n",
       "      <td>3</td>\n",
       "      <td>3</td>\n",
       "      <td>3</td>\n",
       "    </tr>\n",
       "    <tr>\n",
       "      <th>1</th>\n",
       "      <td>1</td>\n",
       "      <td>0.043478</td>\n",
       "      <td>0.078947</td>\n",
       "      <td>2019-09-10</td>\n",
       "      <td>2019-08-25</td>\n",
       "      <td>2019-08-24</td>\n",
       "      <td>2019-08-25</td>\n",
       "      <td>2019-09-09</td>\n",
       "      <td>0.811971</td>\n",
       "      <td>249.219562</td>\n",
       "      <td>2019-08-25</td>\n",
       "      <td>14</td>\n",
       "      <td>1.068714</td>\n",
       "      <td>1</td>\n",
       "      <td>8</td>\n",
       "      <td>8</td>\n",
       "      <td>8</td>\n",
       "      <td>8</td>\n",
       "      <td>9</td>\n",
       "      <td>3</td>\n",
       "      <td>3</td>\n",
       "      <td>3</td>\n",
       "      <td>3</td>\n",
       "      <td>3</td>\n",
       "    </tr>\n",
       "    <tr>\n",
       "      <th>2</th>\n",
       "      <td>1</td>\n",
       "      <td>2.436872</td>\n",
       "      <td>2.243023</td>\n",
       "      <td>2019-08-21</td>\n",
       "      <td>2019-06-20</td>\n",
       "      <td>2019-06-20</td>\n",
       "      <td>2019-06-20</td>\n",
       "      <td>2019-08-19</td>\n",
       "      <td>0.811971</td>\n",
       "      <td>37.187901</td>\n",
       "      <td>2019-06-20</td>\n",
       "      <td>31</td>\n",
       "      <td>1.068714</td>\n",
       "      <td>2</td>\n",
       "      <td>6</td>\n",
       "      <td>6</td>\n",
       "      <td>6</td>\n",
       "      <td>6</td>\n",
       "      <td>8</td>\n",
       "      <td>2</td>\n",
       "      <td>2</td>\n",
       "      <td>2</td>\n",
       "      <td>2</td>\n",
       "      <td>3</td>\n",
       "    </tr>\n",
       "    <tr>\n",
       "      <th>3</th>\n",
       "      <td>1</td>\n",
       "      <td>0.678571</td>\n",
       "      <td>1.133333</td>\n",
       "      <td>2019-06-26</td>\n",
       "      <td>2019-06-07</td>\n",
       "      <td>2019-06-07</td>\n",
       "      <td>2019-06-07</td>\n",
       "      <td>2019-06-22</td>\n",
       "      <td>0.811971</td>\n",
       "      <td>292.245222</td>\n",
       "      <td>2019-06-07</td>\n",
       "      <td>9</td>\n",
       "      <td>1.068714</td>\n",
       "      <td>4</td>\n",
       "      <td>6</td>\n",
       "      <td>6</td>\n",
       "      <td>6</td>\n",
       "      <td>6</td>\n",
       "      <td>6</td>\n",
       "      <td>2</td>\n",
       "      <td>2</td>\n",
       "      <td>2</td>\n",
       "      <td>2</td>\n",
       "      <td>2</td>\n",
       "    </tr>\n",
       "    <tr>\n",
       "      <th>4</th>\n",
       "      <td>1</td>\n",
       "      <td>-0.266667</td>\n",
       "      <td>-0.333333</td>\n",
       "      <td>2019-06-27</td>\n",
       "      <td>2019-06-12</td>\n",
       "      <td>2019-06-12</td>\n",
       "      <td>2019-06-12</td>\n",
       "      <td>2019-06-27</td>\n",
       "      <td>0.811971</td>\n",
       "      <td>217.066050</td>\n",
       "      <td>2019-06-12</td>\n",
       "      <td>9</td>\n",
       "      <td>1.068714</td>\n",
       "      <td>0</td>\n",
       "      <td>6</td>\n",
       "      <td>6</td>\n",
       "      <td>6</td>\n",
       "      <td>6</td>\n",
       "      <td>6</td>\n",
       "      <td>2</td>\n",
       "      <td>2</td>\n",
       "      <td>2</td>\n",
       "      <td>2</td>\n",
       "      <td>2</td>\n",
       "    </tr>\n",
       "    <tr>\n",
       "      <th>...</th>\n",
       "      <td>...</td>\n",
       "      <td>...</td>\n",
       "      <td>...</td>\n",
       "      <td>...</td>\n",
       "      <td>...</td>\n",
       "      <td>...</td>\n",
       "      <td>...</td>\n",
       "      <td>...</td>\n",
       "      <td>...</td>\n",
       "      <td>...</td>\n",
       "      <td>...</td>\n",
       "      <td>...</td>\n",
       "      <td>...</td>\n",
       "      <td>...</td>\n",
       "      <td>...</td>\n",
       "      <td>...</td>\n",
       "      <td>...</td>\n",
       "      <td>...</td>\n",
       "      <td>...</td>\n",
       "      <td>...</td>\n",
       "      <td>...</td>\n",
       "      <td>...</td>\n",
       "      <td>...</td>\n",
       "      <td>...</td>\n",
       "    </tr>\n",
       "    <tr>\n",
       "      <th>35150</th>\n",
       "      <td>1</td>\n",
       "      <td>-2.085551</td>\n",
       "      <td>-2.286070</td>\n",
       "      <td>2019-02-27</td>\n",
       "      <td>2019-02-15</td>\n",
       "      <td>2019-02-14</td>\n",
       "      <td>2019-02-15</td>\n",
       "      <td>2019-03-02</td>\n",
       "      <td>0.811971</td>\n",
       "      <td>102.155568</td>\n",
       "      <td>2019-02-15</td>\n",
       "      <td>21</td>\n",
       "      <td>1.068714</td>\n",
       "      <td>-3</td>\n",
       "      <td>2</td>\n",
       "      <td>2</td>\n",
       "      <td>2</td>\n",
       "      <td>2</td>\n",
       "      <td>3</td>\n",
       "      <td>1</td>\n",
       "      <td>1</td>\n",
       "      <td>1</td>\n",
       "      <td>1</td>\n",
       "      <td>1</td>\n",
       "    </tr>\n",
       "    <tr>\n",
       "      <th>35151</th>\n",
       "      <td>1</td>\n",
       "      <td>1.800000</td>\n",
       "      <td>0.812500</td>\n",
       "      <td>2019-10-30</td>\n",
       "      <td>2019-08-27</td>\n",
       "      <td>2019-08-21</td>\n",
       "      <td>2019-08-27</td>\n",
       "      <td>2019-10-31</td>\n",
       "      <td>0.811971</td>\n",
       "      <td>109.311893</td>\n",
       "      <td>2019-08-27</td>\n",
       "      <td>20</td>\n",
       "      <td>1.068714</td>\n",
       "      <td>-1</td>\n",
       "      <td>8</td>\n",
       "      <td>8</td>\n",
       "      <td>8</td>\n",
       "      <td>8</td>\n",
       "      <td>10</td>\n",
       "      <td>3</td>\n",
       "      <td>3</td>\n",
       "      <td>3</td>\n",
       "      <td>3</td>\n",
       "      <td>4</td>\n",
       "    </tr>\n",
       "    <tr>\n",
       "      <th>35152</th>\n",
       "      <td>0</td>\n",
       "      <td>2.436872</td>\n",
       "      <td>2.243023</td>\n",
       "      <td>2019-05-09</td>\n",
       "      <td>2019-04-24</td>\n",
       "      <td>2019-04-24</td>\n",
       "      <td>2019-04-24</td>\n",
       "      <td>2019-05-06</td>\n",
       "      <td>2.386880</td>\n",
       "      <td>165.653403</td>\n",
       "      <td>2019-04-26</td>\n",
       "      <td>1</td>\n",
       "      <td>1.068714</td>\n",
       "      <td>3</td>\n",
       "      <td>4</td>\n",
       "      <td>4</td>\n",
       "      <td>4</td>\n",
       "      <td>4</td>\n",
       "      <td>5</td>\n",
       "      <td>2</td>\n",
       "      <td>2</td>\n",
       "      <td>2</td>\n",
       "      <td>2</td>\n",
       "      <td>2</td>\n",
       "    </tr>\n",
       "    <tr>\n",
       "      <th>35153</th>\n",
       "      <td>1</td>\n",
       "      <td>2.436872</td>\n",
       "      <td>4.714286</td>\n",
       "      <td>2019-02-13</td>\n",
       "      <td>2019-01-24</td>\n",
       "      <td>2019-01-21</td>\n",
       "      <td>2019-01-24</td>\n",
       "      <td>2019-02-08</td>\n",
       "      <td>0.811971</td>\n",
       "      <td>118.219922</td>\n",
       "      <td>2019-01-24</td>\n",
       "      <td>9</td>\n",
       "      <td>1.068714</td>\n",
       "      <td>5</td>\n",
       "      <td>1</td>\n",
       "      <td>1</td>\n",
       "      <td>1</td>\n",
       "      <td>1</td>\n",
       "      <td>2</td>\n",
       "      <td>1</td>\n",
       "      <td>1</td>\n",
       "      <td>1</td>\n",
       "      <td>1</td>\n",
       "      <td>1</td>\n",
       "    </tr>\n",
       "    <tr>\n",
       "      <th>35154</th>\n",
       "      <td>1</td>\n",
       "      <td>-1.307692</td>\n",
       "      <td>-6.285714</td>\n",
       "      <td>2019-07-18</td>\n",
       "      <td>2019-06-29</td>\n",
       "      <td>2019-06-28</td>\n",
       "      <td>2019-06-29</td>\n",
       "      <td>2019-07-14</td>\n",
       "      <td>0.811971</td>\n",
       "      <td>65.904476</td>\n",
       "      <td>2019-06-29</td>\n",
       "      <td>9</td>\n",
       "      <td>1.068714</td>\n",
       "      <td>4</td>\n",
       "      <td>6</td>\n",
       "      <td>6</td>\n",
       "      <td>6</td>\n",
       "      <td>6</td>\n",
       "      <td>7</td>\n",
       "      <td>2</td>\n",
       "      <td>2</td>\n",
       "      <td>2</td>\n",
       "      <td>2</td>\n",
       "      <td>3</td>\n",
       "    </tr>\n",
       "  </tbody>\n",
       "</table>\n",
       "<p>35155 rows × 24 columns</p>\n",
       "</div>"
      ],
      "text/plain": [
       "       business_code  ...  due_in_date_quarter\n",
       "0                  1  ...                    3\n",
       "1                  1  ...                    3\n",
       "2                  1  ...                    3\n",
       "3                  1  ...                    2\n",
       "4                  1  ...                    2\n",
       "...              ...  ...                  ...\n",
       "35150              1  ...                    1\n",
       "35151              1  ...                    4\n",
       "35152              0  ...                    2\n",
       "35153              1  ...                    1\n",
       "35154              1  ...                    3\n",
       "\n",
       "[35155 rows x 24 columns]"
      ]
     },
     "execution_count": 128,
     "metadata": {
      "tags": []
     },
     "output_type": "execute_result"
    }
   ],
   "source": [
    "train_set=train_set[(train_set.target_delay>lower_limit)&(train_set.target_delay<upper_limit)] ##removr outlier\n",
    "train_set.reset_index(drop=True)"
   ]
  },
  {
   "cell_type": "code",
   "execution_count": 129,
   "metadata": {
    "id": "PqkP5ymd_qO2"
   },
   "outputs": [],
   "source": [
    "###Graph between create date.1 and posting date whith target variable"
   ]
  },
  {
   "cell_type": "code",
   "execution_count": 130,
   "metadata": {
    "colab": {
     "base_uri": "https://localhost:8080/",
     "height": 282
    },
    "id": "PgMM-4DI_szd",
    "outputId": "270cc4bd-6822-4f8f-853d-be4e4fff75d5"
   },
   "outputs": [
    {
     "data": {
      "image/png": "[encoded data removed]",
      "text/plain": [
       "<Figure size 432x288 with 1 Axes>"
      ]
     },
     "metadata": {
      "tags": []
     },
     "output_type": "display_data"
    }
   ],
   "source": [
    "plt.scatter(train_set[:30]['create_date.1_month'], train_set[:30]['posting_date_month'],color='r',label='posting date month')\n",
    "\n",
    "plt.xlabel(\"month\")\n",
    "plt.legend()\n",
    "plt.show()\n"
   ]
  },
  {
   "cell_type": "code",
   "execution_count": 131,
   "metadata": {
    "colab": {
     "base_uri": "https://localhost:8080/"
    },
    "id": "TQctuZCd_uU4",
    "outputId": "37fe70b9-2e26-48da-d759-511f1be0ad3c"
   },
   "outputs": [
    {
     "data": {
      "text/plain": [
       "(0.9988543800440378, -0.0013519257795492597)"
      ]
     },
     "execution_count": 131,
     "metadata": {
      "tags": []
     },
     "output_type": "execute_result"
    }
   ],
   "source": [
    "#corr is 1.00 and graph shows their strongly related so dropping posting_date_month\n",
    "c1=train_set['posting_date_month'].corr(train_set['baseline_create_date_month'])\n",
    "c2=train_set['posting_date_month'].corr(train_set['target_delay'])\n",
    "c1,c2"
   ]
  },
  {
   "cell_type": "code",
   "execution_count": 132,
   "metadata": {
    "colab": {
     "base_uri": "https://localhost:8080/",
     "height": 522
    },
    "id": "apwn9ks9_xvs",
    "outputId": "4e196657-c2d2-4bb2-f108-3526c1bb4b27"
   },
   "outputs": [
    {
     "name": "stderr",
     "output_type": "stream",
     "text": [
      "/usr/local/lib/python3.6/dist-packages/pandas/core/frame.py:4174: SettingWithCopyWarning: \n",
      "A value is trying to be set on a copy of a slice from a DataFrame\n",
      "\n",
      "See the caveats in the documentation: https://pandas.pydata.org/pandas-docs/stable/user_guide/indexing.html#returning-a-view-versus-a-copy\n",
      "  errors=errors,\n"
     ]
    },
    {
     "data": {
      "text/html": [
       "<div>\n",
       "<style scoped>\n",
       "    .dataframe tbody tr th:only-of-type {\n",
       "        vertical-align: middle;\n",
       "    }\n",
       "\n",
       "    .dataframe tbody tr th {\n",
       "        vertical-align: top;\n",
       "    }\n",
       "\n",
       "    .dataframe thead th {\n",
       "        text-align: right;\n",
       "    }\n",
       "</style>\n",
       "<table border=\"1\" class=\"dataframe\">\n",
       "  <thead>\n",
       "    <tr style=\"text-align: right;\">\n",
       "      <th></th>\n",
       "      <th>business_code</th>\n",
       "      <th>cust_number</th>\n",
       "      <th>name_customer</th>\n",
       "      <th>clear_date</th>\n",
       "      <th>posting_date</th>\n",
       "      <th>document_create_date</th>\n",
       "      <th>document_create_date.1</th>\n",
       "      <th>due_in_date</th>\n",
       "      <th>invoice_currency</th>\n",
       "      <th>total_open_amount</th>\n",
       "      <th>baseline_create_date</th>\n",
       "      <th>cust_payment_terms</th>\n",
       "      <th>isOpen</th>\n",
       "      <th>target_delay</th>\n",
       "      <th>create_date_month</th>\n",
       "      <th>create_date.1_month</th>\n",
       "      <th>baseline_create_date_month</th>\n",
       "      <th>due_in_date_month</th>\n",
       "      <th>create_date_quarter</th>\n",
       "      <th>create_date.1_quarter</th>\n",
       "      <th>posting_date_quarter</th>\n",
       "      <th>baseline_create_date_quarter</th>\n",
       "      <th>due_in_date_quarter</th>\n",
       "    </tr>\n",
       "  </thead>\n",
       "  <tbody>\n",
       "    <tr>\n",
       "      <th>0</th>\n",
       "      <td>1</td>\n",
       "      <td>1.529248</td>\n",
       "      <td>2.076923</td>\n",
       "      <td>2019-09-26</td>\n",
       "      <td>2019-09-11</td>\n",
       "      <td>2019-09-10</td>\n",
       "      <td>2019-09-11</td>\n",
       "      <td>2019-09-26</td>\n",
       "      <td>0.811971</td>\n",
       "      <td>227.694444</td>\n",
       "      <td>2019-09-11</td>\n",
       "      <td>9</td>\n",
       "      <td>1.068714</td>\n",
       "      <td>0</td>\n",
       "      <td>9</td>\n",
       "      <td>9</td>\n",
       "      <td>9</td>\n",
       "      <td>9</td>\n",
       "      <td>3</td>\n",
       "      <td>3</td>\n",
       "      <td>3</td>\n",
       "      <td>3</td>\n",
       "      <td>3</td>\n",
       "    </tr>\n",
       "    <tr>\n",
       "      <th>1</th>\n",
       "      <td>1</td>\n",
       "      <td>0.043478</td>\n",
       "      <td>0.078947</td>\n",
       "      <td>2019-09-10</td>\n",
       "      <td>2019-08-25</td>\n",
       "      <td>2019-08-24</td>\n",
       "      <td>2019-08-25</td>\n",
       "      <td>2019-09-09</td>\n",
       "      <td>0.811971</td>\n",
       "      <td>249.219562</td>\n",
       "      <td>2019-08-25</td>\n",
       "      <td>14</td>\n",
       "      <td>1.068714</td>\n",
       "      <td>1</td>\n",
       "      <td>8</td>\n",
       "      <td>8</td>\n",
       "      <td>8</td>\n",
       "      <td>9</td>\n",
       "      <td>3</td>\n",
       "      <td>3</td>\n",
       "      <td>3</td>\n",
       "      <td>3</td>\n",
       "      <td>3</td>\n",
       "    </tr>\n",
       "    <tr>\n",
       "      <th>3</th>\n",
       "      <td>1</td>\n",
       "      <td>2.436872</td>\n",
       "      <td>2.243023</td>\n",
       "      <td>2019-08-21</td>\n",
       "      <td>2019-06-20</td>\n",
       "      <td>2019-06-20</td>\n",
       "      <td>2019-06-20</td>\n",
       "      <td>2019-08-19</td>\n",
       "      <td>0.811971</td>\n",
       "      <td>37.187901</td>\n",
       "      <td>2019-06-20</td>\n",
       "      <td>31</td>\n",
       "      <td>1.068714</td>\n",
       "      <td>2</td>\n",
       "      <td>6</td>\n",
       "      <td>6</td>\n",
       "      <td>6</td>\n",
       "      <td>8</td>\n",
       "      <td>2</td>\n",
       "      <td>2</td>\n",
       "      <td>2</td>\n",
       "      <td>2</td>\n",
       "      <td>3</td>\n",
       "    </tr>\n",
       "    <tr>\n",
       "      <th>4</th>\n",
       "      <td>1</td>\n",
       "      <td>0.678571</td>\n",
       "      <td>1.133333</td>\n",
       "      <td>2019-06-26</td>\n",
       "      <td>2019-06-07</td>\n",
       "      <td>2019-06-07</td>\n",
       "      <td>2019-06-07</td>\n",
       "      <td>2019-06-22</td>\n",
       "      <td>0.811971</td>\n",
       "      <td>292.245222</td>\n",
       "      <td>2019-06-07</td>\n",
       "      <td>9</td>\n",
       "      <td>1.068714</td>\n",
       "      <td>4</td>\n",
       "      <td>6</td>\n",
       "      <td>6</td>\n",
       "      <td>6</td>\n",
       "      <td>6</td>\n",
       "      <td>2</td>\n",
       "      <td>2</td>\n",
       "      <td>2</td>\n",
       "      <td>2</td>\n",
       "      <td>2</td>\n",
       "    </tr>\n",
       "    <tr>\n",
       "      <th>5</th>\n",
       "      <td>1</td>\n",
       "      <td>-0.266667</td>\n",
       "      <td>-0.333333</td>\n",
       "      <td>2019-06-27</td>\n",
       "      <td>2019-06-12</td>\n",
       "      <td>2019-06-12</td>\n",
       "      <td>2019-06-12</td>\n",
       "      <td>2019-06-27</td>\n",
       "      <td>0.811971</td>\n",
       "      <td>217.066050</td>\n",
       "      <td>2019-06-12</td>\n",
       "      <td>9</td>\n",
       "      <td>1.068714</td>\n",
       "      <td>0</td>\n",
       "      <td>6</td>\n",
       "      <td>6</td>\n",
       "      <td>6</td>\n",
       "      <td>6</td>\n",
       "      <td>2</td>\n",
       "      <td>2</td>\n",
       "      <td>2</td>\n",
       "      <td>2</td>\n",
       "      <td>2</td>\n",
       "    </tr>\n",
       "    <tr>\n",
       "      <th>...</th>\n",
       "      <td>...</td>\n",
       "      <td>...</td>\n",
       "      <td>...</td>\n",
       "      <td>...</td>\n",
       "      <td>...</td>\n",
       "      <td>...</td>\n",
       "      <td>...</td>\n",
       "      <td>...</td>\n",
       "      <td>...</td>\n",
       "      <td>...</td>\n",
       "      <td>...</td>\n",
       "      <td>...</td>\n",
       "      <td>...</td>\n",
       "      <td>...</td>\n",
       "      <td>...</td>\n",
       "      <td>...</td>\n",
       "      <td>...</td>\n",
       "      <td>...</td>\n",
       "      <td>...</td>\n",
       "      <td>...</td>\n",
       "      <td>...</td>\n",
       "      <td>...</td>\n",
       "      <td>...</td>\n",
       "    </tr>\n",
       "    <tr>\n",
       "      <th>45458</th>\n",
       "      <td>1</td>\n",
       "      <td>-2.085551</td>\n",
       "      <td>-2.286070</td>\n",
       "      <td>2019-02-27</td>\n",
       "      <td>2019-02-15</td>\n",
       "      <td>2019-02-14</td>\n",
       "      <td>2019-02-15</td>\n",
       "      <td>2019-03-02</td>\n",
       "      <td>0.811971</td>\n",
       "      <td>102.155568</td>\n",
       "      <td>2019-02-15</td>\n",
       "      <td>21</td>\n",
       "      <td>1.068714</td>\n",
       "      <td>-3</td>\n",
       "      <td>2</td>\n",
       "      <td>2</td>\n",
       "      <td>2</td>\n",
       "      <td>3</td>\n",
       "      <td>1</td>\n",
       "      <td>1</td>\n",
       "      <td>1</td>\n",
       "      <td>1</td>\n",
       "      <td>1</td>\n",
       "    </tr>\n",
       "    <tr>\n",
       "      <th>45460</th>\n",
       "      <td>1</td>\n",
       "      <td>1.800000</td>\n",
       "      <td>0.812500</td>\n",
       "      <td>2019-10-30</td>\n",
       "      <td>2019-08-27</td>\n",
       "      <td>2019-08-21</td>\n",
       "      <td>2019-08-27</td>\n",
       "      <td>2019-10-31</td>\n",
       "      <td>0.811971</td>\n",
       "      <td>109.311893</td>\n",
       "      <td>2019-08-27</td>\n",
       "      <td>20</td>\n",
       "      <td>1.068714</td>\n",
       "      <td>-1</td>\n",
       "      <td>8</td>\n",
       "      <td>8</td>\n",
       "      <td>8</td>\n",
       "      <td>10</td>\n",
       "      <td>3</td>\n",
       "      <td>3</td>\n",
       "      <td>3</td>\n",
       "      <td>3</td>\n",
       "      <td>4</td>\n",
       "    </tr>\n",
       "    <tr>\n",
       "      <th>45461</th>\n",
       "      <td>0</td>\n",
       "      <td>2.436872</td>\n",
       "      <td>2.243023</td>\n",
       "      <td>2019-05-09</td>\n",
       "      <td>2019-04-24</td>\n",
       "      <td>2019-04-24</td>\n",
       "      <td>2019-04-24</td>\n",
       "      <td>2019-05-06</td>\n",
       "      <td>2.386880</td>\n",
       "      <td>165.653403</td>\n",
       "      <td>2019-04-26</td>\n",
       "      <td>1</td>\n",
       "      <td>1.068714</td>\n",
       "      <td>3</td>\n",
       "      <td>4</td>\n",
       "      <td>4</td>\n",
       "      <td>4</td>\n",
       "      <td>5</td>\n",
       "      <td>2</td>\n",
       "      <td>2</td>\n",
       "      <td>2</td>\n",
       "      <td>2</td>\n",
       "      <td>2</td>\n",
       "    </tr>\n",
       "    <tr>\n",
       "      <th>45462</th>\n",
       "      <td>1</td>\n",
       "      <td>2.436872</td>\n",
       "      <td>4.714286</td>\n",
       "      <td>2019-02-13</td>\n",
       "      <td>2019-01-24</td>\n",
       "      <td>2019-01-21</td>\n",
       "      <td>2019-01-24</td>\n",
       "      <td>2019-02-08</td>\n",
       "      <td>0.811971</td>\n",
       "      <td>118.219922</td>\n",
       "      <td>2019-01-24</td>\n",
       "      <td>9</td>\n",
       "      <td>1.068714</td>\n",
       "      <td>5</td>\n",
       "      <td>1</td>\n",
       "      <td>1</td>\n",
       "      <td>1</td>\n",
       "      <td>2</td>\n",
       "      <td>1</td>\n",
       "      <td>1</td>\n",
       "      <td>1</td>\n",
       "      <td>1</td>\n",
       "      <td>1</td>\n",
       "    </tr>\n",
       "    <tr>\n",
       "      <th>45463</th>\n",
       "      <td>1</td>\n",
       "      <td>-1.307692</td>\n",
       "      <td>-6.285714</td>\n",
       "      <td>2019-07-18</td>\n",
       "      <td>2019-06-29</td>\n",
       "      <td>2019-06-28</td>\n",
       "      <td>2019-06-29</td>\n",
       "      <td>2019-07-14</td>\n",
       "      <td>0.811971</td>\n",
       "      <td>65.904476</td>\n",
       "      <td>2019-06-29</td>\n",
       "      <td>9</td>\n",
       "      <td>1.068714</td>\n",
       "      <td>4</td>\n",
       "      <td>6</td>\n",
       "      <td>6</td>\n",
       "      <td>6</td>\n",
       "      <td>7</td>\n",
       "      <td>2</td>\n",
       "      <td>2</td>\n",
       "      <td>2</td>\n",
       "      <td>2</td>\n",
       "      <td>3</td>\n",
       "    </tr>\n",
       "  </tbody>\n",
       "</table>\n",
       "<p>35155 rows × 23 columns</p>\n",
       "</div>"
      ],
      "text/plain": [
       "       business_code  ...  due_in_date_quarter\n",
       "0                  1  ...                    3\n",
       "1                  1  ...                    3\n",
       "3                  1  ...                    3\n",
       "4                  1  ...                    2\n",
       "5                  1  ...                    2\n",
       "...              ...  ...                  ...\n",
       "45458              1  ...                    1\n",
       "45460              1  ...                    4\n",
       "45461              0  ...                    2\n",
       "45462              1  ...                    1\n",
       "45463              1  ...                    3\n",
       "\n",
       "[35155 rows x 23 columns]"
      ]
     },
     "execution_count": 132,
     "metadata": {
      "tags": []
     },
     "output_type": "execute_result"
    }
   ],
   "source": [
    "train_set.drop(['posting_date_month'],axis=1,inplace=True)\n",
    "train_set"
   ]
  },
  {
   "cell_type": "code",
   "execution_count": 133,
   "metadata": {
    "colab": {
     "base_uri": "https://localhost:8080/",
     "height": 286
    },
    "id": "Q7ZJUi6U_zYD",
    "outputId": "1a833167-0072-4f00-ad17-e6446e13d81f"
   },
   "outputs": [
    {
     "data": {
      "image/png": "[encoded data removed]",
      "text/plain": [
       "<Figure size 432x288 with 1 Axes>"
      ]
     },
     "metadata": {
      "tags": []
     },
     "output_type": "display_data"
    }
   ],
   "source": [
    "plt.scatter(train_set[:30]['cust_number'], train_set[:30]['name_customer'],color='r',label='name_customer')\n",
    "plt.xlabel(\"cust_name\")\n",
    "plt.legend()\n",
    "plt.show()\n"
   ]
  },
  {
   "cell_type": "code",
   "execution_count": 134,
   "metadata": {
    "id": "um2G1CuM_1Ol"
   },
   "outputs": [],
   "source": [
    "##invoice currency is correlated to cust_payment_terms and dose not correlate much with target_delay"
   ]
  },
  {
   "cell_type": "code",
   "execution_count": 135,
   "metadata": {
    "colab": {
     "base_uri": "https://localhost:8080/"
    },
    "id": "ZSBlALA5_30F",
    "outputId": "6c8e0791-d19e-43da-a396-a64a9ef756d1"
   },
   "outputs": [
    {
     "data": {
      "text/plain": [
       "(-0.4932555479270314, 0.2616716711811289, -0.4528941233016196)"
      ]
     },
     "execution_count": 135,
     "metadata": {
      "tags": []
     },
     "output_type": "execute_result"
    }
   ],
   "source": [
    "c1=train_set['invoice_currency'].corr(train_set['cust_payment_terms'])\n",
    "c2=train_set['invoice_currency'].corr(train_set['target_delay'])\n",
    "c3=train_set['cust_payment_terms'].corr(train_set['target_delay'])\n",
    "c1,c2,c3"
   ]
  },
  {
   "cell_type": "code",
   "execution_count": 136,
   "metadata": {
    "colab": {
     "base_uri": "https://localhost:8080/"
    },
    "id": "wnGqd1rW_5Yg",
    "outputId": "4da7f8e4-e541-4d31-a9aa-b4d77bcfda81"
   },
   "outputs": [
    {
     "name": "stderr",
     "output_type": "stream",
     "text": [
      "/usr/local/lib/python3.6/dist-packages/pandas/core/frame.py:4174: SettingWithCopyWarning: \n",
      "A value is trying to be set on a copy of a slice from a DataFrame\n",
      "\n",
      "See the caveats in the documentation: https://pandas.pydata.org/pandas-docs/stable/user_guide/indexing.html#returning-a-view-versus-a-copy\n",
      "  errors=errors,\n"
     ]
    }
   ],
   "source": [
    "train_set.drop(['invoice_currency'],axis=1,inplace=True)"
   ]
  },
  {
   "cell_type": "code",
   "execution_count": 137,
   "metadata": {
    "id": "yMTQvoks_7GK"
   },
   "outputs": [],
   "source": [
    "##baseline_create_date_month is correlated create_date_month.1"
   ]
  },
  {
   "cell_type": "code",
   "execution_count": 138,
   "metadata": {
    "colab": {
     "base_uri": "https://localhost:8080/"
    },
    "id": "qdVIJ-JfAALv",
    "outputId": "5b021d2e-8df0-4f85-817d-9cc8b624f8fe"
   },
   "outputs": [
    {
     "data": {
      "text/plain": [
       "(0.9988543800440378, 8.728527724038855e-05)"
      ]
     },
     "execution_count": 138,
     "metadata": {
      "tags": []
     },
     "output_type": "execute_result"
    }
   ],
   "source": [
    "c1=train_set['baseline_create_date_month'].corr(train_set['create_date.1_month'])\n",
    "c2=train_set['baseline_create_date_month'].corr(train_set['target_delay'])\n",
    "c1,c2"
   ]
  },
  {
   "cell_type": "code",
   "execution_count": 139,
   "metadata": {
    "colab": {
     "base_uri": "https://localhost:8080/"
    },
    "id": "XDraLIKwACRz",
    "outputId": "7d556766-1a11-4a03-cabd-62f61fc6fdec"
   },
   "outputs": [
    {
     "name": "stderr",
     "output_type": "stream",
     "text": [
      "/usr/local/lib/python3.6/dist-packages/pandas/core/frame.py:4174: SettingWithCopyWarning: \n",
      "A value is trying to be set on a copy of a slice from a DataFrame\n",
      "\n",
      "See the caveats in the documentation: https://pandas.pydata.org/pandas-docs/stable/user_guide/indexing.html#returning-a-view-versus-a-copy\n",
      "  errors=errors,\n"
     ]
    }
   ],
   "source": [
    "train_set.drop(['baseline_create_date_month'],axis=1,inplace=True)"
   ]
  },
  {
   "cell_type": "code",
   "execution_count": 140,
   "metadata": {
    "id": "r0WzE6X0AEMS"
   },
   "outputs": [],
   "source": [
    "##baseline_create_date_quarter is correlated create_date_month.1"
   ]
  },
  {
   "cell_type": "code",
   "execution_count": 141,
   "metadata": {
    "colab": {
     "base_uri": "https://localhost:8080/"
    },
    "id": "eZVeUZ3_AGK4",
    "outputId": "b838efe7-6c14-469c-9c1c-a6cfcaaf6983"
   },
   "outputs": [
    {
     "data": {
      "text/plain": [
       "(0.9674615289881496, 0.002221675590943716)"
      ]
     },
     "execution_count": 141,
     "metadata": {
      "tags": []
     },
     "output_type": "execute_result"
    }
   ],
   "source": [
    "c1=train_set['baseline_create_date_quarter'].corr(train_set['create_date.1_month'])\n",
    "c2=train_set['baseline_create_date_quarter'].corr(train_set['target_delay'])\n",
    "c1,c2"
   ]
  },
  {
   "cell_type": "code",
   "execution_count": 142,
   "metadata": {
    "colab": {
     "base_uri": "https://localhost:8080/"
    },
    "id": "vSUb95wGAKDW",
    "outputId": "9f809cbf-4f71-4fcd-abd9-1a3cf7dd3e36"
   },
   "outputs": [
    {
     "name": "stderr",
     "output_type": "stream",
     "text": [
      "/usr/local/lib/python3.6/dist-packages/pandas/core/frame.py:4174: SettingWithCopyWarning: \n",
      "A value is trying to be set on a copy of a slice from a DataFrame\n",
      "\n",
      "See the caveats in the documentation: https://pandas.pydata.org/pandas-docs/stable/user_guide/indexing.html#returning-a-view-versus-a-copy\n",
      "  errors=errors,\n"
     ]
    }
   ],
   "source": [
    "train_set.drop(['baseline_create_date_quarter'],axis=1,inplace=True)"
   ]
  },
  {
   "cell_type": "code",
   "execution_count": 143,
   "metadata": {
    "id": "PKFO5RQ5AXHi"
   },
   "outputs": [],
   "source": [
    "##due_in_date_month is correlated create_date_month.1"
   ]
  },
  {
   "cell_type": "code",
   "execution_count": 144,
   "metadata": {
    "colab": {
     "base_uri": "https://localhost:8080/"
    },
    "id": "ygwjNxJSAhBh",
    "outputId": "902554af-a20e-4758-a950-c809b4196ec9"
   },
   "outputs": [
    {
     "data": {
      "text/plain": [
       "(0.9356095253624668, 0.0035734778698867558, -0.0013519257795492597)"
      ]
     },
     "execution_count": 144,
     "metadata": {
      "tags": []
     },
     "output_type": "execute_result"
    }
   ],
   "source": [
    "c1=train_set['due_in_date_quarter'].corr(train_set['create_date.1_month'])\n",
    "c2=train_set['due_in_date_quarter'].corr(train_set['target_delay'])\n",
    "c3=train_set['create_date.1_month'].corr(train_set['target_delay'])\n",
    "c1,c2,c3"
   ]
  },
  {
   "cell_type": "code",
   "execution_count": 145,
   "metadata": {
    "id": "ZQ6inwkiAjEx"
   },
   "outputs": [],
   "source": [
    "##create_date_month is correlated due_in_date_month"
   ]
  },
  {
   "cell_type": "code",
   "execution_count": 146,
   "metadata": {
    "colab": {
     "base_uri": "https://localhost:8080/"
    },
    "id": "tt8j5GA8AwQC",
    "outputId": "e586d442-c2cf-4669-f144-6c5c29833a6e"
   },
   "outputs": [
    {
     "data": {
      "text/plain": [
       "(0.946330480546937, -0.0003069264721686218, 0.004306381270408235)"
      ]
     },
     "execution_count": 146,
     "metadata": {
      "tags": []
     },
     "output_type": "execute_result"
    }
   ],
   "source": [
    "c1=train_set['create_date_month'].corr(train_set['due_in_date_month'])\n",
    "c2=train_set['create_date_month'].corr(train_set['target_delay'])\n",
    "c3=train_set['due_in_date_month'].corr(train_set['target_delay'])\n",
    "c1,c2,c3"
   ]
  },
  {
   "cell_type": "code",
   "execution_count": 147,
   "metadata": {
    "colab": {
     "base_uri": "https://localhost:8080/"
    },
    "id": "Yu4_W5_pAyID",
    "outputId": "f112c372-49bf-4280-d297-a858925b7134"
   },
   "outputs": [
    {
     "name": "stderr",
     "output_type": "stream",
     "text": [
      "/usr/local/lib/python3.6/dist-packages/pandas/core/frame.py:4174: SettingWithCopyWarning: \n",
      "A value is trying to be set on a copy of a slice from a DataFrame\n",
      "\n",
      "See the caveats in the documentation: https://pandas.pydata.org/pandas-docs/stable/user_guide/indexing.html#returning-a-view-versus-a-copy\n",
      "  errors=errors,\n"
     ]
    }
   ],
   "source": [
    "train_set.drop(['create_date_quarter'],axis=1,inplace=True)"
   ]
  },
  {
   "cell_type": "code",
   "execution_count": 148,
   "metadata": {
    "colab": {
     "base_uri": "https://localhost:8080/",
     "height": 435
    },
    "id": "fJRrRVAtA2qJ",
    "outputId": "d8f16c99-eb7f-4c3e-e57a-d1236ed24df6"
   },
   "outputs": [
    {
     "data": {
      "text/html": [
       "<div>\n",
       "<style scoped>\n",
       "    .dataframe tbody tr th:only-of-type {\n",
       "        vertical-align: middle;\n",
       "    }\n",
       "\n",
       "    .dataframe tbody tr th {\n",
       "        vertical-align: top;\n",
       "    }\n",
       "\n",
       "    .dataframe thead th {\n",
       "        text-align: right;\n",
       "    }\n",
       "</style>\n",
       "<table border=\"1\" class=\"dataframe\">\n",
       "  <thead>\n",
       "    <tr style=\"text-align: right;\">\n",
       "      <th></th>\n",
       "      <th>business_code</th>\n",
       "      <th>cust_number</th>\n",
       "      <th>name_customer</th>\n",
       "      <th>clear_date</th>\n",
       "      <th>posting_date</th>\n",
       "      <th>document_create_date</th>\n",
       "      <th>document_create_date.1</th>\n",
       "      <th>due_in_date</th>\n",
       "      <th>total_open_amount</th>\n",
       "      <th>baseline_create_date</th>\n",
       "      <th>cust_payment_terms</th>\n",
       "      <th>isOpen</th>\n",
       "      <th>target_delay</th>\n",
       "      <th>create_date_month</th>\n",
       "      <th>create_date.1_month</th>\n",
       "      <th>due_in_date_month</th>\n",
       "      <th>create_date.1_quarter</th>\n",
       "      <th>posting_date_quarter</th>\n",
       "      <th>due_in_date_quarter</th>\n",
       "    </tr>\n",
       "  </thead>\n",
       "  <tbody>\n",
       "    <tr>\n",
       "      <th>0</th>\n",
       "      <td>1</td>\n",
       "      <td>1.529248</td>\n",
       "      <td>2.076923</td>\n",
       "      <td>2019-09-26</td>\n",
       "      <td>2019-09-11</td>\n",
       "      <td>2019-09-10</td>\n",
       "      <td>2019-09-11</td>\n",
       "      <td>2019-09-26</td>\n",
       "      <td>227.694444</td>\n",
       "      <td>2019-09-11</td>\n",
       "      <td>9</td>\n",
       "      <td>1.068714</td>\n",
       "      <td>0</td>\n",
       "      <td>9</td>\n",
       "      <td>9</td>\n",
       "      <td>9</td>\n",
       "      <td>3</td>\n",
       "      <td>3</td>\n",
       "      <td>3</td>\n",
       "    </tr>\n",
       "    <tr>\n",
       "      <th>1</th>\n",
       "      <td>1</td>\n",
       "      <td>0.043478</td>\n",
       "      <td>0.078947</td>\n",
       "      <td>2019-09-10</td>\n",
       "      <td>2019-08-25</td>\n",
       "      <td>2019-08-24</td>\n",
       "      <td>2019-08-25</td>\n",
       "      <td>2019-09-09</td>\n",
       "      <td>249.219562</td>\n",
       "      <td>2019-08-25</td>\n",
       "      <td>14</td>\n",
       "      <td>1.068714</td>\n",
       "      <td>1</td>\n",
       "      <td>8</td>\n",
       "      <td>8</td>\n",
       "      <td>9</td>\n",
       "      <td>3</td>\n",
       "      <td>3</td>\n",
       "      <td>3</td>\n",
       "    </tr>\n",
       "    <tr>\n",
       "      <th>3</th>\n",
       "      <td>1</td>\n",
       "      <td>2.436872</td>\n",
       "      <td>2.243023</td>\n",
       "      <td>2019-08-21</td>\n",
       "      <td>2019-06-20</td>\n",
       "      <td>2019-06-20</td>\n",
       "      <td>2019-06-20</td>\n",
       "      <td>2019-08-19</td>\n",
       "      <td>37.187901</td>\n",
       "      <td>2019-06-20</td>\n",
       "      <td>31</td>\n",
       "      <td>1.068714</td>\n",
       "      <td>2</td>\n",
       "      <td>6</td>\n",
       "      <td>6</td>\n",
       "      <td>8</td>\n",
       "      <td>2</td>\n",
       "      <td>2</td>\n",
       "      <td>3</td>\n",
       "    </tr>\n",
       "    <tr>\n",
       "      <th>4</th>\n",
       "      <td>1</td>\n",
       "      <td>0.678571</td>\n",
       "      <td>1.133333</td>\n",
       "      <td>2019-06-26</td>\n",
       "      <td>2019-06-07</td>\n",
       "      <td>2019-06-07</td>\n",
       "      <td>2019-06-07</td>\n",
       "      <td>2019-06-22</td>\n",
       "      <td>292.245222</td>\n",
       "      <td>2019-06-07</td>\n",
       "      <td>9</td>\n",
       "      <td>1.068714</td>\n",
       "      <td>4</td>\n",
       "      <td>6</td>\n",
       "      <td>6</td>\n",
       "      <td>6</td>\n",
       "      <td>2</td>\n",
       "      <td>2</td>\n",
       "      <td>2</td>\n",
       "    </tr>\n",
       "    <tr>\n",
       "      <th>5</th>\n",
       "      <td>1</td>\n",
       "      <td>-0.266667</td>\n",
       "      <td>-0.333333</td>\n",
       "      <td>2019-06-27</td>\n",
       "      <td>2019-06-12</td>\n",
       "      <td>2019-06-12</td>\n",
       "      <td>2019-06-12</td>\n",
       "      <td>2019-06-27</td>\n",
       "      <td>217.066050</td>\n",
       "      <td>2019-06-12</td>\n",
       "      <td>9</td>\n",
       "      <td>1.068714</td>\n",
       "      <td>0</td>\n",
       "      <td>6</td>\n",
       "      <td>6</td>\n",
       "      <td>6</td>\n",
       "      <td>2</td>\n",
       "      <td>2</td>\n",
       "      <td>2</td>\n",
       "    </tr>\n",
       "    <tr>\n",
       "      <th>...</th>\n",
       "      <td>...</td>\n",
       "      <td>...</td>\n",
       "      <td>...</td>\n",
       "      <td>...</td>\n",
       "      <td>...</td>\n",
       "      <td>...</td>\n",
       "      <td>...</td>\n",
       "      <td>...</td>\n",
       "      <td>...</td>\n",
       "      <td>...</td>\n",
       "      <td>...</td>\n",
       "      <td>...</td>\n",
       "      <td>...</td>\n",
       "      <td>...</td>\n",
       "      <td>...</td>\n",
       "      <td>...</td>\n",
       "      <td>...</td>\n",
       "      <td>...</td>\n",
       "      <td>...</td>\n",
       "    </tr>\n",
       "    <tr>\n",
       "      <th>45458</th>\n",
       "      <td>1</td>\n",
       "      <td>-2.085551</td>\n",
       "      <td>-2.286070</td>\n",
       "      <td>2019-02-27</td>\n",
       "      <td>2019-02-15</td>\n",
       "      <td>2019-02-14</td>\n",
       "      <td>2019-02-15</td>\n",
       "      <td>2019-03-02</td>\n",
       "      <td>102.155568</td>\n",
       "      <td>2019-02-15</td>\n",
       "      <td>21</td>\n",
       "      <td>1.068714</td>\n",
       "      <td>-3</td>\n",
       "      <td>2</td>\n",
       "      <td>2</td>\n",
       "      <td>3</td>\n",
       "      <td>1</td>\n",
       "      <td>1</td>\n",
       "      <td>1</td>\n",
       "    </tr>\n",
       "    <tr>\n",
       "      <th>45460</th>\n",
       "      <td>1</td>\n",
       "      <td>1.800000</td>\n",
       "      <td>0.812500</td>\n",
       "      <td>2019-10-30</td>\n",
       "      <td>2019-08-27</td>\n",
       "      <td>2019-08-21</td>\n",
       "      <td>2019-08-27</td>\n",
       "      <td>2019-10-31</td>\n",
       "      <td>109.311893</td>\n",
       "      <td>2019-08-27</td>\n",
       "      <td>20</td>\n",
       "      <td>1.068714</td>\n",
       "      <td>-1</td>\n",
       "      <td>8</td>\n",
       "      <td>8</td>\n",
       "      <td>10</td>\n",
       "      <td>3</td>\n",
       "      <td>3</td>\n",
       "      <td>4</td>\n",
       "    </tr>\n",
       "    <tr>\n",
       "      <th>45461</th>\n",
       "      <td>0</td>\n",
       "      <td>2.436872</td>\n",
       "      <td>2.243023</td>\n",
       "      <td>2019-05-09</td>\n",
       "      <td>2019-04-24</td>\n",
       "      <td>2019-04-24</td>\n",
       "      <td>2019-04-24</td>\n",
       "      <td>2019-05-06</td>\n",
       "      <td>165.653403</td>\n",
       "      <td>2019-04-26</td>\n",
       "      <td>1</td>\n",
       "      <td>1.068714</td>\n",
       "      <td>3</td>\n",
       "      <td>4</td>\n",
       "      <td>4</td>\n",
       "      <td>5</td>\n",
       "      <td>2</td>\n",
       "      <td>2</td>\n",
       "      <td>2</td>\n",
       "    </tr>\n",
       "    <tr>\n",
       "      <th>45462</th>\n",
       "      <td>1</td>\n",
       "      <td>2.436872</td>\n",
       "      <td>4.714286</td>\n",
       "      <td>2019-02-13</td>\n",
       "      <td>2019-01-24</td>\n",
       "      <td>2019-01-21</td>\n",
       "      <td>2019-01-24</td>\n",
       "      <td>2019-02-08</td>\n",
       "      <td>118.219922</td>\n",
       "      <td>2019-01-24</td>\n",
       "      <td>9</td>\n",
       "      <td>1.068714</td>\n",
       "      <td>5</td>\n",
       "      <td>1</td>\n",
       "      <td>1</td>\n",
       "      <td>2</td>\n",
       "      <td>1</td>\n",
       "      <td>1</td>\n",
       "      <td>1</td>\n",
       "    </tr>\n",
       "    <tr>\n",
       "      <th>45463</th>\n",
       "      <td>1</td>\n",
       "      <td>-1.307692</td>\n",
       "      <td>-6.285714</td>\n",
       "      <td>2019-07-18</td>\n",
       "      <td>2019-06-29</td>\n",
       "      <td>2019-06-28</td>\n",
       "      <td>2019-06-29</td>\n",
       "      <td>2019-07-14</td>\n",
       "      <td>65.904476</td>\n",
       "      <td>2019-06-29</td>\n",
       "      <td>9</td>\n",
       "      <td>1.068714</td>\n",
       "      <td>4</td>\n",
       "      <td>6</td>\n",
       "      <td>6</td>\n",
       "      <td>7</td>\n",
       "      <td>2</td>\n",
       "      <td>2</td>\n",
       "      <td>3</td>\n",
       "    </tr>\n",
       "  </tbody>\n",
       "</table>\n",
       "<p>35155 rows × 19 columns</p>\n",
       "</div>"
      ],
      "text/plain": [
       "       business_code  cust_number  ...  posting_date_quarter due_in_date_quarter\n",
       "0                  1     1.529248  ...                     3                   3\n",
       "1                  1     0.043478  ...                     3                   3\n",
       "3                  1     2.436872  ...                     2                   3\n",
       "4                  1     0.678571  ...                     2                   2\n",
       "5                  1    -0.266667  ...                     2                   2\n",
       "...              ...          ...  ...                   ...                 ...\n",
       "45458              1    -2.085551  ...                     1                   1\n",
       "45460              1     1.800000  ...                     3                   4\n",
       "45461              0     2.436872  ...                     2                   2\n",
       "45462              1     2.436872  ...                     1                   1\n",
       "45463              1    -1.307692  ...                     2                   3\n",
       "\n",
       "[35155 rows x 19 columns]"
      ]
     },
     "execution_count": 148,
     "metadata": {
      "tags": []
     },
     "output_type": "execute_result"
    }
   ],
   "source": [
    "train_set"
   ]
  },
  {
   "cell_type": "code",
   "execution_count": 149,
   "metadata": {
    "colab": {
     "base_uri": "https://localhost:8080/"
    },
    "id": "Zhsqk8-oBAIR",
    "outputId": "9c0f0371-77f8-4a4a-f1d5-933892167390"
   },
   "outputs": [
    {
     "data": {
      "text/plain": [
       "(0.9258164108480237, 0.00167020539533272, 0.0035734778698867558)"
      ]
     },
     "execution_count": 149,
     "metadata": {
      "tags": []
     },
     "output_type": "execute_result"
    }
   ],
   "source": [
    "c1=train_set['posting_date_quarter'].corr(train_set['due_in_date_quarter'])\n",
    "c2=train_set['posting_date_quarter'].corr(train_set['target_delay'])\n",
    "c3=train_set['due_in_date_quarter'].corr(train_set['target_delay'])\n",
    "c1,c2,c3"
   ]
  },
  {
   "cell_type": "code",
   "execution_count": 150,
   "metadata": {
    "colab": {
     "base_uri": "https://localhost:8080/"
    },
    "id": "fjftdlqGBCs6",
    "outputId": "4c78a9ce-49c2-470c-f677-797c2d17546e"
   },
   "outputs": [
    {
     "name": "stderr",
     "output_type": "stream",
     "text": [
      "/usr/local/lib/python3.6/dist-packages/pandas/core/frame.py:4174: SettingWithCopyWarning: \n",
      "A value is trying to be set on a copy of a slice from a DataFrame\n",
      "\n",
      "See the caveats in the documentation: https://pandas.pydata.org/pandas-docs/stable/user_guide/indexing.html#returning-a-view-versus-a-copy\n",
      "  errors=errors,\n"
     ]
    }
   ],
   "source": [
    "##featues of posting date doesnot seem useful\n",
    "train_set.drop(['posting_date'],axis=1,inplace=True)"
   ]
  },
  {
   "cell_type": "code",
   "execution_count": 151,
   "metadata": {
    "colab": {
     "base_uri": "https://localhost:8080/"
    },
    "id": "9KAycltGBFQL",
    "outputId": "dc5db56e-f459-44b7-897f-da5306b173e5"
   },
   "outputs": [
    {
     "data": {
      "text/plain": [
       "(35155, 18)"
      ]
     },
     "execution_count": 151,
     "metadata": {
      "tags": []
     },
     "output_type": "execute_result"
    }
   ],
   "source": [
    "train_set.shape"
   ]
  },
  {
   "cell_type": "code",
   "execution_count": 152,
   "metadata": {
    "id": "RY_zKsmOBIng"
   },
   "outputs": [],
   "source": [
    "###########Feature Selection##########"
   ]
  },
  {
   "cell_type": "code",
   "execution_count": 153,
   "metadata": {
    "id": "y9i7u5kbBSzB"
   },
   "outputs": [],
   "source": [
    "x_train=train_set.copy()\n",
    "x_train=x_train.drop(['target_delay'],axis=1)"
   ]
  },
  {
   "cell_type": "markdown",
   "metadata": {
    "id": "Qvz25yWEBei3"
   },
   "source": []
  },
  {
   "cell_type": "code",
   "execution_count": 154,
   "metadata": {
    "id": "HTfzzUg9BhNx"
   },
   "outputs": [],
   "source": [
    "def handling_correlation(df,threshold=0.8):   #correlation less than threshold\n",
    "    # creating set to hold the correlated features\n",
    "    corr_features = set()\n",
    "    # create the correlation matrix (default to pearson)\n",
    "    corr_matrix = df.corr()\n",
    "    #code for selecting all correleated features\n",
    "    for i in range(len(corr_matrix .columns)):\n",
    "        for j in range(i):\n",
    "            if abs(corr_matrix.iloc[i, j]) >threshold:\n",
    "                colname = corr_matrix.columns[i]\n",
    "                corr_features.add(colname)\n",
    "    return list(corr_features)"
   ]
  },
  {
   "cell_type": "code",
   "execution_count": 155,
   "metadata": {
    "colab": {
     "base_uri": "https://localhost:8080/"
    },
    "id": "UMStoMDABj-J",
    "outputId": "915f258f-e6cf-4363-c0d1-663a2f2d5531"
   },
   "outputs": [
    {
     "data": {
      "text/plain": [
       "['due_in_date_quarter',\n",
       " 'create_date.1_quarter',\n",
       " 'name_customer',\n",
       " 'posting_date_quarter',\n",
       " 'due_in_date_month',\n",
       " 'create_date.1_month']"
      ]
     },
     "execution_count": 155,
     "metadata": {
      "tags": []
     },
     "output_type": "execute_result"
    }
   ],
   "source": [
    "handling_correlation(train_set.copy(),0.80)"
   ]
  },
  {
   "cell_type": "code",
   "execution_count": 156,
   "metadata": {
    "id": "rKNSH7v4BoCc"
   },
   "outputs": [],
   "source": [
    "x_train_new=x_train.drop(['due_in_date_quarter','create_date.1_quarter'],axis=1)\n",
    "train_set=train_set.drop(['due_in_date_quarter','create_date.1_quarter'],axis=1)"
   ]
  },
  {
   "cell_type": "code",
   "execution_count": 157,
   "metadata": {
    "colab": {
     "base_uri": "https://localhost:8080/"
    },
    "id": "-C94dQXRBqJt",
    "outputId": "57e989f0-28da-448c-c48e-119530419b98"
   },
   "outputs": [
    {
     "data": {
      "text/plain": [
       "['due_in_date_month',\n",
       " 'posting_date_quarter',\n",
       " 'create_date.1_month',\n",
       " 'name_customer']"
      ]
     },
     "execution_count": 157,
     "metadata": {
      "tags": []
     },
     "output_type": "execute_result"
    }
   ],
   "source": [
    "handling_correlation(x_train_new.copy(),0.80)"
   ]
  },
  {
   "cell_type": "code",
   "execution_count": 158,
   "metadata": {
    "id": "-V6FFBy4Br40"
   },
   "outputs": [],
   "source": [
    "x_train_new=x_train_new.drop(['posting_date_quarter'],axis=1)\n",
    "train_set=train_set.drop(['posting_date_quarter'],axis=1)"
   ]
  },
  {
   "cell_type": "code",
   "execution_count": 159,
   "metadata": {
    "colab": {
     "base_uri": "https://localhost:8080/"
    },
    "id": "iSAFhmxUButQ",
    "outputId": "52da6b08-08db-4214-cfa8-042521a8b916"
   },
   "outputs": [
    {
     "data": {
      "text/plain": [
       "0        0\n",
       "1        1\n",
       "3        2\n",
       "4        4\n",
       "5        0\n",
       "        ..\n",
       "45458   -3\n",
       "45460   -1\n",
       "45461    3\n",
       "45462    5\n",
       "45463    4\n",
       "Name: target_delay, Length: 35155, dtype: int64"
      ]
     },
     "execution_count": 159,
     "metadata": {
      "tags": []
     },
     "output_type": "execute_result"
    }
   ],
   "source": [
    "y=train_set['target_delay']\n",
    "y"
   ]
  },
  {
   "cell_type": "code",
   "execution_count": 160,
   "metadata": {
    "colab": {
     "base_uri": "https://localhost:8080/",
     "height": 435
    },
    "id": "dQpsldmpB2Rf",
    "outputId": "0b5980eb-d2ea-47c2-f232-2f14714fbcc5"
   },
   "outputs": [
    {
     "data": {
      "text/html": [
       "<div>\n",
       "<style scoped>\n",
       "    .dataframe tbody tr th:only-of-type {\n",
       "        vertical-align: middle;\n",
       "    }\n",
       "\n",
       "    .dataframe tbody tr th {\n",
       "        vertical-align: top;\n",
       "    }\n",
       "\n",
       "    .dataframe thead th {\n",
       "        text-align: right;\n",
       "    }\n",
       "</style>\n",
       "<table border=\"1\" class=\"dataframe\">\n",
       "  <thead>\n",
       "    <tr style=\"text-align: right;\">\n",
       "      <th></th>\n",
       "      <th>business_code</th>\n",
       "      <th>cust_number</th>\n",
       "      <th>name_customer</th>\n",
       "      <th>total_open_amount</th>\n",
       "      <th>cust_payment_terms</th>\n",
       "      <th>isOpen</th>\n",
       "      <th>create_date_month</th>\n",
       "      <th>create_date.1_month</th>\n",
       "      <th>due_in_date_month</th>\n",
       "    </tr>\n",
       "  </thead>\n",
       "  <tbody>\n",
       "    <tr>\n",
       "      <th>0</th>\n",
       "      <td>1</td>\n",
       "      <td>1.529248</td>\n",
       "      <td>2.076923</td>\n",
       "      <td>227.694444</td>\n",
       "      <td>9</td>\n",
       "      <td>1.068714</td>\n",
       "      <td>9</td>\n",
       "      <td>9</td>\n",
       "      <td>9</td>\n",
       "    </tr>\n",
       "    <tr>\n",
       "      <th>1</th>\n",
       "      <td>1</td>\n",
       "      <td>0.043478</td>\n",
       "      <td>0.078947</td>\n",
       "      <td>249.219562</td>\n",
       "      <td>14</td>\n",
       "      <td>1.068714</td>\n",
       "      <td>8</td>\n",
       "      <td>8</td>\n",
       "      <td>9</td>\n",
       "    </tr>\n",
       "    <tr>\n",
       "      <th>3</th>\n",
       "      <td>1</td>\n",
       "      <td>2.436872</td>\n",
       "      <td>2.243023</td>\n",
       "      <td>37.187901</td>\n",
       "      <td>31</td>\n",
       "      <td>1.068714</td>\n",
       "      <td>6</td>\n",
       "      <td>6</td>\n",
       "      <td>8</td>\n",
       "    </tr>\n",
       "    <tr>\n",
       "      <th>4</th>\n",
       "      <td>1</td>\n",
       "      <td>0.678571</td>\n",
       "      <td>1.133333</td>\n",
       "      <td>292.245222</td>\n",
       "      <td>9</td>\n",
       "      <td>1.068714</td>\n",
       "      <td>6</td>\n",
       "      <td>6</td>\n",
       "      <td>6</td>\n",
       "    </tr>\n",
       "    <tr>\n",
       "      <th>5</th>\n",
       "      <td>1</td>\n",
       "      <td>-0.266667</td>\n",
       "      <td>-0.333333</td>\n",
       "      <td>217.066050</td>\n",
       "      <td>9</td>\n",
       "      <td>1.068714</td>\n",
       "      <td>6</td>\n",
       "      <td>6</td>\n",
       "      <td>6</td>\n",
       "    </tr>\n",
       "    <tr>\n",
       "      <th>...</th>\n",
       "      <td>...</td>\n",
       "      <td>...</td>\n",
       "      <td>...</td>\n",
       "      <td>...</td>\n",
       "      <td>...</td>\n",
       "      <td>...</td>\n",
       "      <td>...</td>\n",
       "      <td>...</td>\n",
       "      <td>...</td>\n",
       "    </tr>\n",
       "    <tr>\n",
       "      <th>45458</th>\n",
       "      <td>1</td>\n",
       "      <td>-2.085551</td>\n",
       "      <td>-2.286070</td>\n",
       "      <td>102.155568</td>\n",
       "      <td>21</td>\n",
       "      <td>1.068714</td>\n",
       "      <td>2</td>\n",
       "      <td>2</td>\n",
       "      <td>3</td>\n",
       "    </tr>\n",
       "    <tr>\n",
       "      <th>45460</th>\n",
       "      <td>1</td>\n",
       "      <td>1.800000</td>\n",
       "      <td>0.812500</td>\n",
       "      <td>109.311893</td>\n",
       "      <td>20</td>\n",
       "      <td>1.068714</td>\n",
       "      <td>8</td>\n",
       "      <td>8</td>\n",
       "      <td>10</td>\n",
       "    </tr>\n",
       "    <tr>\n",
       "      <th>45461</th>\n",
       "      <td>0</td>\n",
       "      <td>2.436872</td>\n",
       "      <td>2.243023</td>\n",
       "      <td>165.653403</td>\n",
       "      <td>1</td>\n",
       "      <td>1.068714</td>\n",
       "      <td>4</td>\n",
       "      <td>4</td>\n",
       "      <td>5</td>\n",
       "    </tr>\n",
       "    <tr>\n",
       "      <th>45462</th>\n",
       "      <td>1</td>\n",
       "      <td>2.436872</td>\n",
       "      <td>4.714286</td>\n",
       "      <td>118.219922</td>\n",
       "      <td>9</td>\n",
       "      <td>1.068714</td>\n",
       "      <td>1</td>\n",
       "      <td>1</td>\n",
       "      <td>2</td>\n",
       "    </tr>\n",
       "    <tr>\n",
       "      <th>45463</th>\n",
       "      <td>1</td>\n",
       "      <td>-1.307692</td>\n",
       "      <td>-6.285714</td>\n",
       "      <td>65.904476</td>\n",
       "      <td>9</td>\n",
       "      <td>1.068714</td>\n",
       "      <td>6</td>\n",
       "      <td>6</td>\n",
       "      <td>7</td>\n",
       "    </tr>\n",
       "  </tbody>\n",
       "</table>\n",
       "<p>35155 rows × 9 columns</p>\n",
       "</div>"
      ],
      "text/plain": [
       "       business_code  cust_number  ...  create_date.1_month  due_in_date_month\n",
       "0                  1     1.529248  ...                    9                  9\n",
       "1                  1     0.043478  ...                    8                  9\n",
       "3                  1     2.436872  ...                    6                  8\n",
       "4                  1     0.678571  ...                    6                  6\n",
       "5                  1    -0.266667  ...                    6                  6\n",
       "...              ...          ...  ...                  ...                ...\n",
       "45458              1    -2.085551  ...                    2                  3\n",
       "45460              1     1.800000  ...                    8                 10\n",
       "45461              0     2.436872  ...                    4                  5\n",
       "45462              1     2.436872  ...                    1                  2\n",
       "45463              1    -1.307692  ...                    6                  7\n",
       "\n",
       "[35155 rows x 9 columns]"
      ]
     },
     "execution_count": 160,
     "metadata": {
      "tags": []
     },
     "output_type": "execute_result"
    }
   ],
   "source": [
    "x_train_new=x_train_new.drop(['clear_date','due_in_date','document_create_date.1','document_create_date','baseline_create_date'],axis=1)\n",
    "x_train_new"
   ]
  },
  {
   "cell_type": "code",
   "execution_count": 161,
   "metadata": {
    "colab": {
     "base_uri": "https://localhost:8080/",
     "height": 435
    },
    "id": "QTabADrECANW",
    "outputId": "d234cb4c-6b85-4323-ca85-99a935979205"
   },
   "outputs": [
    {
     "data": {
      "text/html": [
       "<div>\n",
       "<style scoped>\n",
       "    .dataframe tbody tr th:only-of-type {\n",
       "        vertical-align: middle;\n",
       "    }\n",
       "\n",
       "    .dataframe tbody tr th {\n",
       "        vertical-align: top;\n",
       "    }\n",
       "\n",
       "    .dataframe thead th {\n",
       "        text-align: right;\n",
       "    }\n",
       "</style>\n",
       "<table border=\"1\" class=\"dataframe\">\n",
       "  <thead>\n",
       "    <tr style=\"text-align: right;\">\n",
       "      <th></th>\n",
       "      <th>business_code</th>\n",
       "      <th>cust_number</th>\n",
       "      <th>name_customer</th>\n",
       "      <th>total_open_amount</th>\n",
       "      <th>cust_payment_terms</th>\n",
       "      <th>isOpen</th>\n",
       "      <th>create_date_month</th>\n",
       "      <th>create_date.1_month</th>\n",
       "      <th>due_in_date_month</th>\n",
       "    </tr>\n",
       "  </thead>\n",
       "  <tbody>\n",
       "    <tr>\n",
       "      <th>0</th>\n",
       "      <td>1</td>\n",
       "      <td>1.529248</td>\n",
       "      <td>2.076923</td>\n",
       "      <td>227.694444</td>\n",
       "      <td>9</td>\n",
       "      <td>1.068714</td>\n",
       "      <td>9</td>\n",
       "      <td>9</td>\n",
       "      <td>9</td>\n",
       "    </tr>\n",
       "    <tr>\n",
       "      <th>1</th>\n",
       "      <td>1</td>\n",
       "      <td>0.043478</td>\n",
       "      <td>0.078947</td>\n",
       "      <td>249.219562</td>\n",
       "      <td>14</td>\n",
       "      <td>1.068714</td>\n",
       "      <td>8</td>\n",
       "      <td>8</td>\n",
       "      <td>9</td>\n",
       "    </tr>\n",
       "    <tr>\n",
       "      <th>3</th>\n",
       "      <td>1</td>\n",
       "      <td>2.436872</td>\n",
       "      <td>2.243023</td>\n",
       "      <td>37.187901</td>\n",
       "      <td>31</td>\n",
       "      <td>1.068714</td>\n",
       "      <td>6</td>\n",
       "      <td>6</td>\n",
       "      <td>8</td>\n",
       "    </tr>\n",
       "    <tr>\n",
       "      <th>4</th>\n",
       "      <td>1</td>\n",
       "      <td>0.678571</td>\n",
       "      <td>1.133333</td>\n",
       "      <td>292.245222</td>\n",
       "      <td>9</td>\n",
       "      <td>1.068714</td>\n",
       "      <td>6</td>\n",
       "      <td>6</td>\n",
       "      <td>6</td>\n",
       "    </tr>\n",
       "    <tr>\n",
       "      <th>5</th>\n",
       "      <td>1</td>\n",
       "      <td>-0.266667</td>\n",
       "      <td>-0.333333</td>\n",
       "      <td>217.066050</td>\n",
       "      <td>9</td>\n",
       "      <td>1.068714</td>\n",
       "      <td>6</td>\n",
       "      <td>6</td>\n",
       "      <td>6</td>\n",
       "    </tr>\n",
       "    <tr>\n",
       "      <th>...</th>\n",
       "      <td>...</td>\n",
       "      <td>...</td>\n",
       "      <td>...</td>\n",
       "      <td>...</td>\n",
       "      <td>...</td>\n",
       "      <td>...</td>\n",
       "      <td>...</td>\n",
       "      <td>...</td>\n",
       "      <td>...</td>\n",
       "    </tr>\n",
       "    <tr>\n",
       "      <th>45458</th>\n",
       "      <td>1</td>\n",
       "      <td>-2.085551</td>\n",
       "      <td>-2.286070</td>\n",
       "      <td>102.155568</td>\n",
       "      <td>21</td>\n",
       "      <td>1.068714</td>\n",
       "      <td>2</td>\n",
       "      <td>2</td>\n",
       "      <td>3</td>\n",
       "    </tr>\n",
       "    <tr>\n",
       "      <th>45460</th>\n",
       "      <td>1</td>\n",
       "      <td>1.800000</td>\n",
       "      <td>0.812500</td>\n",
       "      <td>109.311893</td>\n",
       "      <td>20</td>\n",
       "      <td>1.068714</td>\n",
       "      <td>8</td>\n",
       "      <td>8</td>\n",
       "      <td>10</td>\n",
       "    </tr>\n",
       "    <tr>\n",
       "      <th>45461</th>\n",
       "      <td>0</td>\n",
       "      <td>2.436872</td>\n",
       "      <td>2.243023</td>\n",
       "      <td>165.653403</td>\n",
       "      <td>1</td>\n",
       "      <td>1.068714</td>\n",
       "      <td>4</td>\n",
       "      <td>4</td>\n",
       "      <td>5</td>\n",
       "    </tr>\n",
       "    <tr>\n",
       "      <th>45462</th>\n",
       "      <td>1</td>\n",
       "      <td>2.436872</td>\n",
       "      <td>4.714286</td>\n",
       "      <td>118.219922</td>\n",
       "      <td>9</td>\n",
       "      <td>1.068714</td>\n",
       "      <td>1</td>\n",
       "      <td>1</td>\n",
       "      <td>2</td>\n",
       "    </tr>\n",
       "    <tr>\n",
       "      <th>45463</th>\n",
       "      <td>1</td>\n",
       "      <td>-1.307692</td>\n",
       "      <td>-6.285714</td>\n",
       "      <td>65.904476</td>\n",
       "      <td>9</td>\n",
       "      <td>1.068714</td>\n",
       "      <td>6</td>\n",
       "      <td>6</td>\n",
       "      <td>7</td>\n",
       "    </tr>\n",
       "  </tbody>\n",
       "</table>\n",
       "<p>35155 rows × 9 columns</p>\n",
       "</div>"
      ],
      "text/plain": [
       "       business_code  cust_number  ...  create_date.1_month  due_in_date_month\n",
       "0                  1     1.529248  ...                    9                  9\n",
       "1                  1     0.043478  ...                    8                  9\n",
       "3                  1     2.436872  ...                    6                  8\n",
       "4                  1     0.678571  ...                    6                  6\n",
       "5                  1    -0.266667  ...                    6                  6\n",
       "...              ...          ...  ...                  ...                ...\n",
       "45458              1    -2.085551  ...                    2                  3\n",
       "45460              1     1.800000  ...                    8                 10\n",
       "45461              0     2.436872  ...                    4                  5\n",
       "45462              1     2.436872  ...                    1                  2\n",
       "45463              1    -1.307692  ...                    6                  7\n",
       "\n",
       "[35155 rows x 9 columns]"
      ]
     },
     "execution_count": 161,
     "metadata": {
      "tags": []
     },
     "output_type": "execute_result"
    }
   ],
   "source": [
    "x_train_new"
   ]
  },
  {
   "cell_type": "code",
   "execution_count": 162,
   "metadata": {
    "id": "YLZJqfwdCCSW"
   },
   "outputs": [],
   "source": [
    "###############checking feature importance\n",
    "def tree_based_feature_importance(x_train,y):\n",
    "    from sklearn.ensemble import RandomForestRegressor\n",
    "    # create the random forest model\n",
    "    model = RandomForestRegressor(n_estimators=120)\n",
    "\n",
    "    # fit the model to start training.\n",
    "    model.fit(x_train, y)\n",
    "\n",
    "    # get the importance of the resulting features.\n",
    "    importances = model.feature_importances_\n",
    "\n",
    "    # create a data frame for visualization.\n",
    "    final_df = pd.DataFrame({\"Features\": x_train.columns, \"Importances\":importances})\n",
    "    final_df.set_index('Importances')\n",
    "\n",
    "    # sort in descending order \n",
    "    final_df = final_df.sort_values('Importances',ascending=False)\n",
    "    \n",
    "    #visualising feature importance\n",
    "    pd.Series(model.feature_importances_, index=x_train.columns).nlargest(6).plot(kind='barh')  \n",
    "    return final_df"
   ]
  },
  {
   "cell_type": "code",
   "execution_count": 163,
   "metadata": {
    "colab": {
     "base_uri": "https://localhost:8080/",
     "height": 265
    },
    "id": "mRh4ptzpCE9k",
    "outputId": "2a53679d-dda8-4b21-8ada-817e6f3d054c"
   },
   "outputs": [
    {
     "data": {
      "image/png": "[encoded data removed]",
      "text/plain": [
       "<Figure size 432x288 with 1 Axes>"
      ]
     },
     "metadata": {
      "tags": []
     },
     "output_type": "display_data"
    }
   ],
   "source": [
    "feature_importance=tree_based_feature_importance(x_train_new,y)#features importance data frame"
   ]
  },
  {
   "cell_type": "code",
   "execution_count": 164,
   "metadata": {
    "colab": {
     "base_uri": "https://localhost:8080/",
     "height": 325
    },
    "id": "xeN-FRa5CGwG",
    "outputId": "88521d4d-42ac-40f0-e77f-5bc1b71292df"
   },
   "outputs": [
    {
     "data": {
      "text/html": [
       "<div>\n",
       "<style scoped>\n",
       "    .dataframe tbody tr th:only-of-type {\n",
       "        vertical-align: middle;\n",
       "    }\n",
       "\n",
       "    .dataframe tbody tr th {\n",
       "        vertical-align: top;\n",
       "    }\n",
       "\n",
       "    .dataframe thead th {\n",
       "        text-align: right;\n",
       "    }\n",
       "</style>\n",
       "<table border=\"1\" class=\"dataframe\">\n",
       "  <thead>\n",
       "    <tr style=\"text-align: right;\">\n",
       "      <th></th>\n",
       "      <th>Features</th>\n",
       "      <th>Importances</th>\n",
       "    </tr>\n",
       "  </thead>\n",
       "  <tbody>\n",
       "    <tr>\n",
       "      <th>1</th>\n",
       "      <td>cust_number</td>\n",
       "      <td>0.419597</td>\n",
       "    </tr>\n",
       "    <tr>\n",
       "      <th>3</th>\n",
       "      <td>total_open_amount</td>\n",
       "      <td>0.235157</td>\n",
       "    </tr>\n",
       "    <tr>\n",
       "      <th>4</th>\n",
       "      <td>cust_payment_terms</td>\n",
       "      <td>0.113503</td>\n",
       "    </tr>\n",
       "    <tr>\n",
       "      <th>2</th>\n",
       "      <td>name_customer</td>\n",
       "      <td>0.096741</td>\n",
       "    </tr>\n",
       "    <tr>\n",
       "      <th>8</th>\n",
       "      <td>due_in_date_month</td>\n",
       "      <td>0.056877</td>\n",
       "    </tr>\n",
       "    <tr>\n",
       "      <th>6</th>\n",
       "      <td>create_date_month</td>\n",
       "      <td>0.036914</td>\n",
       "    </tr>\n",
       "    <tr>\n",
       "      <th>7</th>\n",
       "      <td>create_date.1_month</td>\n",
       "      <td>0.035917</td>\n",
       "    </tr>\n",
       "    <tr>\n",
       "      <th>0</th>\n",
       "      <td>business_code</td>\n",
       "      <td>0.005294</td>\n",
       "    </tr>\n",
       "    <tr>\n",
       "      <th>5</th>\n",
       "      <td>isOpen</td>\n",
       "      <td>0.000000</td>\n",
       "    </tr>\n",
       "  </tbody>\n",
       "</table>\n",
       "</div>"
      ],
      "text/plain": [
       "              Features  Importances\n",
       "1          cust_number     0.419597\n",
       "3    total_open_amount     0.235157\n",
       "4   cust_payment_terms     0.113503\n",
       "2        name_customer     0.096741\n",
       "8    due_in_date_month     0.056877\n",
       "6    create_date_month     0.036914\n",
       "7  create_date.1_month     0.035917\n",
       "0        business_code     0.005294\n",
       "5               isOpen     0.000000"
      ]
     },
     "metadata": {
      "tags": []
     },
     "output_type": "display_data"
    }
   ],
   "source": [
    "display(feature_importance)"
   ]
  },
  {
   "cell_type": "code",
   "execution_count": null,
   "metadata": {
    "id": "Oqtc_upECNa2"
   },
   "outputs": [],
   "source": [
    "x_train_new=x_train_new.drop(['isOpen','business_code','create_date_month','create_date.1_month'],axis=1)\n",
    "train_set=train_set.drop(['isOpen','business_code','create_date_month','create_date.1_month'],axis=1)\n"
   ]
  },
  {
   "cell_type": "code",
   "execution_count": 169,
   "metadata": {
    "colab": {
     "base_uri": "https://localhost:8080/",
     "height": 435
    },
    "id": "QWcUZgw2CPpE",
    "outputId": "93b9aff0-7d76-40a7-967c-139616067695"
   },
   "outputs": [
    {
     "data": {
      "text/html": [
       "<div>\n",
       "<style scoped>\n",
       "    .dataframe tbody tr th:only-of-type {\n",
       "        vertical-align: middle;\n",
       "    }\n",
       "\n",
       "    .dataframe tbody tr th {\n",
       "        vertical-align: top;\n",
       "    }\n",
       "\n",
       "    .dataframe thead th {\n",
       "        text-align: right;\n",
       "    }\n",
       "</style>\n",
       "<table border=\"1\" class=\"dataframe\">\n",
       "  <thead>\n",
       "    <tr style=\"text-align: right;\">\n",
       "      <th></th>\n",
       "      <th>cust_number</th>\n",
       "      <th>name_customer</th>\n",
       "      <th>clear_date</th>\n",
       "      <th>document_create_date</th>\n",
       "      <th>document_create_date.1</th>\n",
       "      <th>due_in_date</th>\n",
       "      <th>total_open_amount</th>\n",
       "      <th>baseline_create_date</th>\n",
       "      <th>cust_payment_terms</th>\n",
       "      <th>target_delay</th>\n",
       "      <th>due_in_date_month</th>\n",
       "    </tr>\n",
       "  </thead>\n",
       "  <tbody>\n",
       "    <tr>\n",
       "      <th>0</th>\n",
       "      <td>1.529248</td>\n",
       "      <td>2.076923</td>\n",
       "      <td>2019-09-26</td>\n",
       "      <td>2019-09-10</td>\n",
       "      <td>2019-09-11</td>\n",
       "      <td>2019-09-26</td>\n",
       "      <td>227.694444</td>\n",
       "      <td>2019-09-11</td>\n",
       "      <td>9</td>\n",
       "      <td>0</td>\n",
       "      <td>9</td>\n",
       "    </tr>\n",
       "    <tr>\n",
       "      <th>1</th>\n",
       "      <td>0.043478</td>\n",
       "      <td>0.078947</td>\n",
       "      <td>2019-09-10</td>\n",
       "      <td>2019-08-24</td>\n",
       "      <td>2019-08-25</td>\n",
       "      <td>2019-09-09</td>\n",
       "      <td>249.219562</td>\n",
       "      <td>2019-08-25</td>\n",
       "      <td>14</td>\n",
       "      <td>1</td>\n",
       "      <td>9</td>\n",
       "    </tr>\n",
       "    <tr>\n",
       "      <th>3</th>\n",
       "      <td>2.436872</td>\n",
       "      <td>2.243023</td>\n",
       "      <td>2019-08-21</td>\n",
       "      <td>2019-06-20</td>\n",
       "      <td>2019-06-20</td>\n",
       "      <td>2019-08-19</td>\n",
       "      <td>37.187901</td>\n",
       "      <td>2019-06-20</td>\n",
       "      <td>31</td>\n",
       "      <td>2</td>\n",
       "      <td>8</td>\n",
       "    </tr>\n",
       "    <tr>\n",
       "      <th>4</th>\n",
       "      <td>0.678571</td>\n",
       "      <td>1.133333</td>\n",
       "      <td>2019-06-26</td>\n",
       "      <td>2019-06-07</td>\n",
       "      <td>2019-06-07</td>\n",
       "      <td>2019-06-22</td>\n",
       "      <td>292.245222</td>\n",
       "      <td>2019-06-07</td>\n",
       "      <td>9</td>\n",
       "      <td>4</td>\n",
       "      <td>6</td>\n",
       "    </tr>\n",
       "    <tr>\n",
       "      <th>5</th>\n",
       "      <td>-0.266667</td>\n",
       "      <td>-0.333333</td>\n",
       "      <td>2019-06-27</td>\n",
       "      <td>2019-06-12</td>\n",
       "      <td>2019-06-12</td>\n",
       "      <td>2019-06-27</td>\n",
       "      <td>217.066050</td>\n",
       "      <td>2019-06-12</td>\n",
       "      <td>9</td>\n",
       "      <td>0</td>\n",
       "      <td>6</td>\n",
       "    </tr>\n",
       "    <tr>\n",
       "      <th>...</th>\n",
       "      <td>...</td>\n",
       "      <td>...</td>\n",
       "      <td>...</td>\n",
       "      <td>...</td>\n",
       "      <td>...</td>\n",
       "      <td>...</td>\n",
       "      <td>...</td>\n",
       "      <td>...</td>\n",
       "      <td>...</td>\n",
       "      <td>...</td>\n",
       "      <td>...</td>\n",
       "    </tr>\n",
       "    <tr>\n",
       "      <th>45458</th>\n",
       "      <td>-2.085551</td>\n",
       "      <td>-2.286070</td>\n",
       "      <td>2019-02-27</td>\n",
       "      <td>2019-02-14</td>\n",
       "      <td>2019-02-15</td>\n",
       "      <td>2019-03-02</td>\n",
       "      <td>102.155568</td>\n",
       "      <td>2019-02-15</td>\n",
       "      <td>21</td>\n",
       "      <td>-3</td>\n",
       "      <td>3</td>\n",
       "    </tr>\n",
       "    <tr>\n",
       "      <th>45460</th>\n",
       "      <td>1.800000</td>\n",
       "      <td>0.812500</td>\n",
       "      <td>2019-10-30</td>\n",
       "      <td>2019-08-21</td>\n",
       "      <td>2019-08-27</td>\n",
       "      <td>2019-10-31</td>\n",
       "      <td>109.311893</td>\n",
       "      <td>2019-08-27</td>\n",
       "      <td>20</td>\n",
       "      <td>-1</td>\n",
       "      <td>10</td>\n",
       "    </tr>\n",
       "    <tr>\n",
       "      <th>45461</th>\n",
       "      <td>2.436872</td>\n",
       "      <td>2.243023</td>\n",
       "      <td>2019-05-09</td>\n",
       "      <td>2019-04-24</td>\n",
       "      <td>2019-04-24</td>\n",
       "      <td>2019-05-06</td>\n",
       "      <td>165.653403</td>\n",
       "      <td>2019-04-26</td>\n",
       "      <td>1</td>\n",
       "      <td>3</td>\n",
       "      <td>5</td>\n",
       "    </tr>\n",
       "    <tr>\n",
       "      <th>45462</th>\n",
       "      <td>2.436872</td>\n",
       "      <td>4.714286</td>\n",
       "      <td>2019-02-13</td>\n",
       "      <td>2019-01-21</td>\n",
       "      <td>2019-01-24</td>\n",
       "      <td>2019-02-08</td>\n",
       "      <td>118.219922</td>\n",
       "      <td>2019-01-24</td>\n",
       "      <td>9</td>\n",
       "      <td>5</td>\n",
       "      <td>2</td>\n",
       "    </tr>\n",
       "    <tr>\n",
       "      <th>45463</th>\n",
       "      <td>-1.307692</td>\n",
       "      <td>-6.285714</td>\n",
       "      <td>2019-07-18</td>\n",
       "      <td>2019-06-28</td>\n",
       "      <td>2019-06-29</td>\n",
       "      <td>2019-07-14</td>\n",
       "      <td>65.904476</td>\n",
       "      <td>2019-06-29</td>\n",
       "      <td>9</td>\n",
       "      <td>4</td>\n",
       "      <td>7</td>\n",
       "    </tr>\n",
       "  </tbody>\n",
       "</table>\n",
       "<p>35155 rows × 11 columns</p>\n",
       "</div>"
      ],
      "text/plain": [
       "       cust_number  name_customer  ... target_delay due_in_date_month\n",
       "0         1.529248       2.076923  ...            0                 9\n",
       "1         0.043478       0.078947  ...            1                 9\n",
       "3         2.436872       2.243023  ...            2                 8\n",
       "4         0.678571       1.133333  ...            4                 6\n",
       "5        -0.266667      -0.333333  ...            0                 6\n",
       "...            ...            ...  ...          ...               ...\n",
       "45458    -2.085551      -2.286070  ...           -3                 3\n",
       "45460     1.800000       0.812500  ...           -1                10\n",
       "45461     2.436872       2.243023  ...            3                 5\n",
       "45462     2.436872       4.714286  ...            5                 2\n",
       "45463    -1.307692      -6.285714  ...            4                 7\n",
       "\n",
       "[35155 rows x 11 columns]"
      ]
     },
     "execution_count": 169,
     "metadata": {
      "tags": []
     },
     "output_type": "execute_result"
    }
   ],
   "source": [
    "train_set"
   ]
  },
  {
   "cell_type": "code",
   "execution_count": 170,
   "metadata": {
    "colab": {
     "base_uri": "https://localhost:8080/",
     "height": 415
    },
    "id": "V71p5nBsCb-5",
    "outputId": "7078fd76-b4e6-445f-dcbe-9b2544d8f57a"
   },
   "outputs": [
    {
     "data": {
      "text/html": [
       "<div>\n",
       "<style scoped>\n",
       "    .dataframe tbody tr th:only-of-type {\n",
       "        vertical-align: middle;\n",
       "    }\n",
       "\n",
       "    .dataframe tbody tr th {\n",
       "        vertical-align: top;\n",
       "    }\n",
       "\n",
       "    .dataframe thead th {\n",
       "        text-align: right;\n",
       "    }\n",
       "</style>\n",
       "<table border=\"1\" class=\"dataframe\">\n",
       "  <thead>\n",
       "    <tr style=\"text-align: right;\">\n",
       "      <th></th>\n",
       "      <th>cust_number</th>\n",
       "      <th>name_customer</th>\n",
       "      <th>total_open_amount</th>\n",
       "      <th>cust_payment_terms</th>\n",
       "      <th>due_in_date_month</th>\n",
       "    </tr>\n",
       "  </thead>\n",
       "  <tbody>\n",
       "    <tr>\n",
       "      <th>0</th>\n",
       "      <td>1.529248</td>\n",
       "      <td>2.076923</td>\n",
       "      <td>227.694444</td>\n",
       "      <td>9</td>\n",
       "      <td>9</td>\n",
       "    </tr>\n",
       "    <tr>\n",
       "      <th>1</th>\n",
       "      <td>0.043478</td>\n",
       "      <td>0.078947</td>\n",
       "      <td>249.219562</td>\n",
       "      <td>14</td>\n",
       "      <td>9</td>\n",
       "    </tr>\n",
       "    <tr>\n",
       "      <th>3</th>\n",
       "      <td>2.436872</td>\n",
       "      <td>2.243023</td>\n",
       "      <td>37.187901</td>\n",
       "      <td>31</td>\n",
       "      <td>8</td>\n",
       "    </tr>\n",
       "    <tr>\n",
       "      <th>4</th>\n",
       "      <td>0.678571</td>\n",
       "      <td>1.133333</td>\n",
       "      <td>292.245222</td>\n",
       "      <td>9</td>\n",
       "      <td>6</td>\n",
       "    </tr>\n",
       "    <tr>\n",
       "      <th>5</th>\n",
       "      <td>-0.266667</td>\n",
       "      <td>-0.333333</td>\n",
       "      <td>217.066050</td>\n",
       "      <td>9</td>\n",
       "      <td>6</td>\n",
       "    </tr>\n",
       "    <tr>\n",
       "      <th>...</th>\n",
       "      <td>...</td>\n",
       "      <td>...</td>\n",
       "      <td>...</td>\n",
       "      <td>...</td>\n",
       "      <td>...</td>\n",
       "    </tr>\n",
       "    <tr>\n",
       "      <th>45458</th>\n",
       "      <td>-2.085551</td>\n",
       "      <td>-2.286070</td>\n",
       "      <td>102.155568</td>\n",
       "      <td>21</td>\n",
       "      <td>3</td>\n",
       "    </tr>\n",
       "    <tr>\n",
       "      <th>45460</th>\n",
       "      <td>1.800000</td>\n",
       "      <td>0.812500</td>\n",
       "      <td>109.311893</td>\n",
       "      <td>20</td>\n",
       "      <td>10</td>\n",
       "    </tr>\n",
       "    <tr>\n",
       "      <th>45461</th>\n",
       "      <td>2.436872</td>\n",
       "      <td>2.243023</td>\n",
       "      <td>165.653403</td>\n",
       "      <td>1</td>\n",
       "      <td>5</td>\n",
       "    </tr>\n",
       "    <tr>\n",
       "      <th>45462</th>\n",
       "      <td>2.436872</td>\n",
       "      <td>4.714286</td>\n",
       "      <td>118.219922</td>\n",
       "      <td>9</td>\n",
       "      <td>2</td>\n",
       "    </tr>\n",
       "    <tr>\n",
       "      <th>45463</th>\n",
       "      <td>-1.307692</td>\n",
       "      <td>-6.285714</td>\n",
       "      <td>65.904476</td>\n",
       "      <td>9</td>\n",
       "      <td>7</td>\n",
       "    </tr>\n",
       "  </tbody>\n",
       "</table>\n",
       "<p>35155 rows × 5 columns</p>\n",
       "</div>"
      ],
      "text/plain": [
       "       cust_number  name_customer  ...  cust_payment_terms  due_in_date_month\n",
       "0         1.529248       2.076923  ...                   9                  9\n",
       "1         0.043478       0.078947  ...                  14                  9\n",
       "3         2.436872       2.243023  ...                  31                  8\n",
       "4         0.678571       1.133333  ...                   9                  6\n",
       "5        -0.266667      -0.333333  ...                   9                  6\n",
       "...            ...            ...  ...                 ...                ...\n",
       "45458    -2.085551      -2.286070  ...                  21                  3\n",
       "45460     1.800000       0.812500  ...                  20                 10\n",
       "45461     2.436872       2.243023  ...                   1                  5\n",
       "45462     2.436872       4.714286  ...                   9                  2\n",
       "45463    -1.307692      -6.285714  ...                   9                  7\n",
       "\n",
       "[35155 rows x 5 columns]"
      ]
     },
     "execution_count": 170,
     "metadata": {
      "tags": []
     },
     "output_type": "execute_result"
    }
   ],
   "source": [
    "x_train_new"
   ]
  },
  {
   "cell_type": "code",
   "execution_count": 171,
   "metadata": {
    "colab": {
     "base_uri": "https://localhost:8080/"
    },
    "id": "eyR8fMAuCeZR",
    "outputId": "685aec9a-29ef-4ad3-838c-9ce17a298e88"
   },
   "outputs": [
    {
     "name": "stdout",
     "output_type": "stream",
     "text": [
      "<class 'pandas.core.frame.DataFrame'>\n",
      "Int64Index: 35155 entries, 0 to 45463\n",
      "Data columns (total 5 columns):\n",
      " #   Column              Non-Null Count  Dtype  \n",
      "---  ------              --------------  -----  \n",
      " 0   cust_number         35155 non-null  float64\n",
      " 1   name_customer       35155 non-null  float64\n",
      " 2   total_open_amount   35155 non-null  float64\n",
      " 3   cust_payment_terms  35155 non-null  int64  \n",
      " 4   due_in_date_month   35155 non-null  int64  \n",
      "dtypes: float64(3), int64(2)\n",
      "memory usage: 1.6 MB\n"
     ]
    }
   ],
   "source": [
    "x_train_new.info()"
   ]
  },
  {
   "cell_type": "code",
   "execution_count": 172,
   "metadata": {
    "colab": {
     "base_uri": "https://localhost:8080/"
    },
    "id": "A9TdZML7Cllc",
    "outputId": "30f3da9a-7100-434a-acd9-5e6f52476872"
   },
   "outputs": [
    {
     "data": {
      "text/plain": [
       "0"
      ]
     },
     "execution_count": 172,
     "metadata": {
      "tags": []
     },
     "output_type": "execute_result"
    }
   ],
   "source": [
    "x_train_new['cust_number'].isnull().sum() "
   ]
  },
  {
   "cell_type": "code",
   "execution_count": 173,
   "metadata": {
    "id": "8hs-k8xlCoDv"
   },
   "outputs": [],
   "source": [
    "test_data['due_in_date_month']=test_data['due_in_date'].dt.month\n",
    "val1['due_in_date_month']=val1['due_in_date'].dt.month\n",
    "val2['due_in_date_month']=val2['due_in_date'].dt.month\n",
    "\n",
    "\n",
    "#test_data['create_date.1_month']=test_data['document_create_date.1'].dt.month\n",
    "#val1['create_date.1_month']=val1['document_create_date.1'].dt.month\n",
    "#val2['create_date.1_month']=val2['document_create_date.1'].dt.month\n"
   ]
  },
  {
   "cell_type": "code",
   "execution_count": 174,
   "metadata": {
    "id": "JKOoWozMCp6x"
   },
   "outputs": [],
   "source": [
    "####Model"
   ]
  },
  {
   "cell_type": "code",
   "execution_count": 175,
   "metadata": {
    "id": "HJI2qtI0CsLw"
   },
   "outputs": [],
   "source": [
    "import warnings\n",
    "warnings.filterwarnings('ignore')\n",
    "# Modeling & Accuracy Metrics\n",
    "from sklearn.linear_model import LinearRegression\n",
    "from sklearn.svm import SVR\n",
    "from sklearn.tree import DecisionTreeRegressor\n",
    "from sklearn.ensemble import RandomForestRegressor\n",
    "import xgboost as xgb\n",
    "from sklearn.datasets import load_boston\n",
    "from sklearn.metrics import mean_squared_error\n",
    "from sklearn.metrics import r2_score\n"
   ]
  },
  {
   "cell_type": "code",
   "execution_count": 176,
   "metadata": {
    "id": "qVk4FzZsCulI"
   },
   "outputs": [],
   "source": [
    "# Fitting Simple Linear Regression to the Training Set\n",
    "#Algorithm.append('Linear Regression')\n",
    "#clf = LinearRegression()\n",
    "#clf.fit(x_train_new, y)"
   ]
  },
  {
   "cell_type": "code",
   "execution_count": 177,
   "metadata": {
    "id": "9ecaEcfbCwfU"
   },
   "outputs": [],
   "source": [
    "#predicted = clf.predict(x_train_new)"
   ]
  },
  {
   "cell_type": "code",
   "execution_count": 178,
   "metadata": {
    "id": "AxmGfqmZCydL"
   },
   "outputs": [],
   "source": [
    "x_val1=val1.copy()\n",
    "x_val1=x_val1.drop(['target_delay'],axis=1)\n"
   ]
  },
  {
   "cell_type": "code",
   "execution_count": 179,
   "metadata": {
    "id": "oQYEjm8CC0Mo"
   },
   "outputs": [],
   "source": [
    "x_val1_new=x_val1.drop(['clear_date','due_in_date','document_create_date','document_create_date.1','posting_date','baseline_create_date','isOpen','business_code','buisness_year','doc_id','invoice_currency'],axis=1)"
   ]
  },
  {
   "cell_type": "code",
   "execution_count": 180,
   "metadata": {
    "id": "VMdzU-M0C2Av"
   },
   "outputs": [],
   "source": [
    "y_val1=val1['target_delay']"
   ]
  },
  {
   "cell_type": "code",
   "execution_count": 182,
   "metadata": {
    "id": "mlZkuWx-C3u0"
   },
   "outputs": [],
   "source": [
    "from sklearn.preprocessing import MinMaxScaler\n",
    "scaler = MinMaxScaler() # create an instance\n",
    "x_train_new_scaled = scaler.fit_transform(x_train_new) #  fit  the scaler to the train set and then transform it\n",
    "x_val1_new_scaled = scaler.transform(x_val1_new) "
   ]
  },
  {
   "cell_type": "code",
   "execution_count": null,
   "metadata": {
    "id": "NcyEilsTC9H2"
   },
   "outputs": [],
   "source": []
  },
  {
   "cell_type": "code",
   "execution_count": 183,
   "metadata": {
    "id": "lK73AiRZC5hw"
   },
   "outputs": [],
   "source": [
    "from sklearn.preprocessing import StandardScaler\n",
    "scaler = StandardScaler()\n",
    "x_train_new_scaled = scaler.fit_transform(x_train_new_scaled) #  fit  the scaler to the train set and then transform it\n",
    "x_val1_new_scaled = scaler.transform(x_val1_new_scaled) "
   ]
  },
  {
   "cell_type": "code",
   "execution_count": 188,
   "metadata": {
    "id": "VrLG1ApRC-DC"
   },
   "outputs": [],
   "source": [
    "#Algorithm.append('Linear Regression')\n",
    "#clf = LinearRegression()\n",
    "#clf.fit(x_train_new_scaled, y)"
   ]
  },
  {
   "cell_type": "code",
   "execution_count": 186,
   "metadata": {
    "id": "i_-6Ab93DAFW"
   },
   "outputs": [],
   "source": [
    "#predicted = clf.predict(x_train_new_scaled)"
   ]
  },
  {
   "cell_type": "code",
   "execution_count": 189,
   "metadata": {
    "id": "0TqgOGTiDLbF"
   },
   "outputs": [],
   "source": [
    "#t1=mean_squared_error(y, predicted)\n",
    "#t2=r2_score(y, predicted)\n",
    "#t1,t2"
   ]
  },
  {
   "cell_type": "code",
   "execution_count": 190,
   "metadata": {
    "id": "76UdMvJPDN7-"
   },
   "outputs": [],
   "source": [
    "#predicte = clf.predict(x_val1_new_scaled)\n",
    "#t1=mean_squared_error(y_val1, predicte)\n",
    "#t2=r2_score(y_val1, predicte)\n",
    "#t1,t2"
   ]
  },
  {
   "cell_type": "code",
   "execution_count": 191,
   "metadata": {
    "id": "QlGnvrHbDcRk"
   },
   "outputs": [],
   "source": [
    "x_val2=val2.copy()\n",
    "x_val2=x_val2.drop(['target_delay'],axis=1)\n"
   ]
  },
  {
   "cell_type": "code",
   "execution_count": 192,
   "metadata": {
    "id": "64SsU14YDh-W"
   },
   "outputs": [],
   "source": [
    "x_val2_new=x_val2.drop(['clear_date','due_in_date','document_create_date','document_create_date.1','posting_date','baseline_create_date','isOpen','business_code','buisness_year','doc_id','invoice_currency'],axis=1)"
   ]
  },
  {
   "cell_type": "code",
   "execution_count": 193,
   "metadata": {
    "id": "K7XTnJyeDkEq"
   },
   "outputs": [],
   "source": [
    "y_val2=val2['target_delay']"
   ]
  },
  {
   "cell_type": "code",
   "execution_count": 194,
   "metadata": {
    "id": "JlsNg00qDl-Q"
   },
   "outputs": [],
   "source": [
    "x_val2_new_scaled = scaler.transform(x_val2_new)"
   ]
  },
  {
   "cell_type": "code",
   "execution_count": 195,
   "metadata": {
    "id": "a8tdRM1iDnxz"
   },
   "outputs": [],
   "source": [
    "scaler = StandardScaler()\n",
    "x_train_new_scaled = scaler.fit_transform(x_train_new_scaled) #  fit  the scaler to the train set and then transform it\n",
    "\n",
    "x_val2_new_scaled = scaler.transform(x_val2_new_scaled) "
   ]
  },
  {
   "cell_type": "code",
   "execution_count": 196,
   "metadata": {
    "id": "hubJK5r8Dpbg"
   },
   "outputs": [],
   "source": [
    "#Algorithm.append('Linear Regression')\n",
    "#clf = LinearRegression()\n",
    "#clf.fit(x_train_new_scaled, y)"
   ]
  },
  {
   "cell_type": "code",
   "execution_count": 197,
   "metadata": {
    "id": "AIzDgiw7Drdj"
   },
   "outputs": [],
   "source": [
    "#predicted = clf.predict(x_train_new_scaled)"
   ]
  },
  {
   "cell_type": "code",
   "execution_count": 198,
   "metadata": {
    "id": "eKgSEVUxDt06"
   },
   "outputs": [],
   "source": [
    "#t1=mean_squared_error(y, predicted)\n",
    "#t2=r2_score(y, predicted)\n",
    "#t1,t2"
   ]
  },
  {
   "cell_type": "code",
   "execution_count": 199,
   "metadata": {
    "id": "WcicAn8LDvYX"
   },
   "outputs": [],
   "source": [
    "#predicte = clf.predict(x_val2_new_scaled)\n",
    "#t1=mean_squared_error(y_val2, predicte)\n",
    "#t2=r2_score(y_val2, predicte)\n",
    "#t1,t2"
   ]
  },
  {
   "cell_type": "code",
   "execution_count": 200,
   "metadata": {
    "colab": {
     "base_uri": "https://localhost:8080/",
     "height": 235
    },
    "id": "29K87IdjDxNx",
    "outputId": "434a86b2-50e0-4e17-9e7d-dfe3fd636fbd"
   },
   "outputs": [
    {
     "ename": "NameError",
     "evalue": "ignored",
     "output_type": "error",
     "traceback": [
      "\u001b[0;31m---------------------------------------------------------------------------\u001b[0m",
      "\u001b[0;31mNameError\u001b[0m                                 Traceback (most recent call last)",
      "\u001b[0;32m<ipython-input-200-0fbb1d2fc1bc>\u001b[0m in \u001b[0;36m<module>\u001b[0;34m()\u001b[0m\n\u001b[0;32m----> 1\u001b[0;31m \u001b[0mAlgorithm\u001b[0m\u001b[0;34m.\u001b[0m\u001b[0mappend\u001b[0m\u001b[0;34m(\u001b[0m\u001b[0;34m'Decision Tree Regressor'\u001b[0m\u001b[0;34m)\u001b[0m\u001b[0;34m\u001b[0m\u001b[0;34m\u001b[0m\u001b[0m\n\u001b[0m\u001b[1;32m      2\u001b[0m \u001b[0mclf\u001b[0m \u001b[0;34m=\u001b[0m \u001b[0mDecisionTreeRegressor\u001b[0m\u001b[0;34m(\u001b[0m\u001b[0;34m)\u001b[0m\u001b[0;34m\u001b[0m\u001b[0;34m\u001b[0m\u001b[0m\n\u001b[1;32m      3\u001b[0m \u001b[0mclf\u001b[0m\u001b[0;34m.\u001b[0m\u001b[0mfit\u001b[0m\u001b[0;34m(\u001b[0m\u001b[0mx_train_new_scaled\u001b[0m\u001b[0;34m,\u001b[0m \u001b[0my\u001b[0m\u001b[0;34m)\u001b[0m\u001b[0;34m\u001b[0m\u001b[0;34m\u001b[0m\u001b[0m\n\u001b[1;32m      4\u001b[0m \u001b[0;34m\u001b[0m\u001b[0m\n\u001b[1;32m      5\u001b[0m \u001b[0;31m# Predicting the Test Set Results\u001b[0m\u001b[0;34m\u001b[0m\u001b[0;34m\u001b[0m\u001b[0;34m\u001b[0m\u001b[0m\n",
      "\u001b[0;31mNameError\u001b[0m: name 'Algorithm' is not defined"
     ]
    }
   ],
   "source": [
    "Algorithm.append('Decision Tree Regressor')\n",
    "clf = DecisionTreeRegressor()\n",
    "clf.fit(x_train_new_scaled, y)\n",
    "\n",
    "# Predicting the Test Set Results\n",
    "predicted = clf.predict(x_train_new_scaled)"
   ]
  },
  {
   "cell_type": "code",
   "execution_count": 201,
   "metadata": {
    "colab": {
     "base_uri": "https://localhost:8080/",
     "height": 201
    },
    "id": "eqlHjePGDzb7",
    "outputId": "6cd8d25c-d4ee-47c3-ac8b-041fd5447b00"
   },
   "outputs": [
    {
     "ename": "NameError",
     "evalue": "ignored",
     "output_type": "error",
     "traceback": [
      "\u001b[0;31m---------------------------------------------------------------------------\u001b[0m",
      "\u001b[0;31mNameError\u001b[0m                                 Traceback (most recent call last)",
      "\u001b[0;32m<ipython-input-201-f8d544f686a9>\u001b[0m in \u001b[0;36m<module>\u001b[0;34m()\u001b[0m\n\u001b[0;32m----> 1\u001b[0;31m \u001b[0mt1\u001b[0m\u001b[0;34m=\u001b[0m\u001b[0mmean_squared_error\u001b[0m\u001b[0;34m(\u001b[0m\u001b[0my\u001b[0m\u001b[0;34m,\u001b[0m \u001b[0mpredicted\u001b[0m\u001b[0;34m)\u001b[0m\u001b[0;34m\u001b[0m\u001b[0;34m\u001b[0m\u001b[0m\n\u001b[0m\u001b[1;32m      2\u001b[0m \u001b[0mt2\u001b[0m\u001b[0;34m=\u001b[0m\u001b[0mr2_score\u001b[0m\u001b[0;34m(\u001b[0m\u001b[0my\u001b[0m\u001b[0;34m,\u001b[0m \u001b[0mpredicted\u001b[0m\u001b[0;34m)\u001b[0m\u001b[0;34m\u001b[0m\u001b[0;34m\u001b[0m\u001b[0m\n\u001b[1;32m      3\u001b[0m \u001b[0mt1\u001b[0m\u001b[0;34m,\u001b[0m\u001b[0mt2\u001b[0m\u001b[0;34m\u001b[0m\u001b[0;34m\u001b[0m\u001b[0m\n",
      "\u001b[0;31mNameError\u001b[0m: name 'predicted' is not defined"
     ]
    }
   ],
   "source": [
    "t1=mean_squared_error(y, predicted)\n",
    "t2=r2_score(y, predicted)\n",
    "t1,t2"
   ]
  },
  {
   "cell_type": "code",
   "execution_count": null,
   "metadata": {
    "id": "fD8Ghe0LD4gq"
   },
   "outputs": [],
   "source": [
    "predicted = clf.predict(x_val1_new_scaled)\n",
    "t2=r2_score(y_val1, predicted)\n",
    "t1,t2"
   ]
  },
  {
   "cell_type": "code",
   "execution_count": null,
   "metadata": {
    "id": "SiUHe43GD--C"
   },
   "outputs": [],
   "source": [
    "predicted = clf.predict(x_val2_new_scaled)\n",
    "t2=r2_score(y_val2, predicted)\n",
    "t1,t2"
   ]
  },
  {
   "cell_type": "code",
   "execution_count": null,
   "metadata": {
    "id": "S5zWtTsIEBCM"
   },
   "outputs": [],
   "source": [
    "Algorithm.append('Random Forest Regressor')\n",
    "clf = RandomForestRegressor()\n",
    "clf.fit(x_train_new_scaled, y)\n",
    "\n",
    "# Predicting the Test Set Results\n",
    "predicted = clf.predict(x_train_new_scaled)"
   ]
  },
  {
   "cell_type": "code",
   "execution_count": null,
   "metadata": {
    "id": "-kPpRL_vEC6_"
   },
   "outputs": [],
   "source": [
    "t1=mean_squared_error(y, predicted)\n",
    "t2=r2_score(y, predicted)\n",
    "t1,t2"
   ]
  },
  {
   "cell_type": "code",
   "execution_count": null,
   "metadata": {
    "id": "ZxOmJiokEFTk"
   },
   "outputs": [],
   "source": [
    "predicted = clf.predict(x_val1_new_scaled)\n",
    "t2=r2_score(y_val1, predicted)\n",
    "t1,t2"
   ]
  },
  {
   "cell_type": "code",
   "execution_count": null,
   "metadata": {
    "id": "WN1SiG_qEG77"
   },
   "outputs": [],
   "source": [
    "predicted = clf.predict(x_val2_new_scaled)\n",
    "t2=r2_score(y_val2, predicted)\n",
    "t1,t2"
   ]
  }
 ],
 "metadata": {
  "colab": {
   "name": "vinay.ipynb",
   "provenance": []
  },
  "kernelspec": {
   "display_name": "Python 3 (ipykernel)",
   "language": "python",
   "name": "python3"
  },
  "language_info": {
   "codemirror_mode": {
    "name": "ipython",
    "version": 3
   },
   "file_extension": ".py",
   "mimetype": "text/x-python",
   "name": "python",
   "nbconvert_exporter": "python",
   "pygments_lexer": "ipython3",
   "version": "3.9.7"
  }
 },
 "nbformat": 4,
 "nbformat_minor": 1
}
