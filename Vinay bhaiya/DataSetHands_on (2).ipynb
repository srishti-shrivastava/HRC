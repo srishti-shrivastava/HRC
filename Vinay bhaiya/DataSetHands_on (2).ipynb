{
  "nbformat": 4,
  "nbformat_minor": 0,
  "metadata": {
    "colab": {
      "name": "DataSetHands_on.ipynb",
      "provenance": [],
      "collapsed_sections": []
    },
    "kernelspec": {
      "name": "python3",
      "display_name": "Python 3"
    }
  },
  "cells": [
    {
      "cell_type": "code",
      "metadata": {
        "id": "Df-0rvUUq1TX",
        "colab": {
          "base_uri": "https://localhost:8080/",
          "height": 557
        },
        "outputId": "ec11a0cf-1c9d-4a58-f941-1acf327d138c"
      },
      "source": [
        "#reading dataset 1805516\r\n",
        "import pandas as pd\r\n",
        "import numpy as np\r\n",
        "dat=pd.read_csv(\"/content/1805516.csv\")\r\n",
        "data=pd.DataFrame(dat)\r\n",
        "data"
      ],
      "execution_count": 2404,
      "outputs": [
        {
          "output_type": "execute_result",
          "data": {
            "text/html": [
              "<div>\n",
              "<style scoped>\n",
              "    .dataframe tbody tr th:only-of-type {\n",
              "        vertical-align: middle;\n",
              "    }\n",
              "\n",
              "    .dataframe tbody tr th {\n",
              "        vertical-align: top;\n",
              "    }\n",
              "\n",
              "    .dataframe thead th {\n",
              "        text-align: right;\n",
              "    }\n",
              "</style>\n",
              "<table border=\"1\" class=\"dataframe\">\n",
              "  <thead>\n",
              "    <tr style=\"text-align: right;\">\n",
              "      <th></th>\n",
              "      <th>business_code</th>\n",
              "      <th>cust_number</th>\n",
              "      <th>name_customer</th>\n",
              "      <th>clear_date</th>\n",
              "      <th>buisness_year</th>\n",
              "      <th>doc_id</th>\n",
              "      <th>posting_date</th>\n",
              "      <th>document_create_date</th>\n",
              "      <th>document_create_date.1</th>\n",
              "      <th>due_in_date</th>\n",
              "      <th>invoice_currency</th>\n",
              "      <th>document type</th>\n",
              "      <th>posting_id</th>\n",
              "      <th>area_business</th>\n",
              "      <th>total_open_amount</th>\n",
              "      <th>baseline_create_date</th>\n",
              "      <th>cust_payment_terms</th>\n",
              "      <th>invoice_id</th>\n",
              "      <th>isOpen</th>\n",
              "    </tr>\n",
              "  </thead>\n",
              "  <tbody>\n",
              "    <tr>\n",
              "      <th>0</th>\n",
              "      <td>U001</td>\n",
              "      <td>0200705742</td>\n",
              "      <td>DOT us</td>\n",
              "      <td>2019-02-06 00:00:00</td>\n",
              "      <td>2019.0</td>\n",
              "      <td>1.928657e+09</td>\n",
              "      <td>2019-01-22</td>\n",
              "      <td>20190121</td>\n",
              "      <td>20190122</td>\n",
              "      <td>20190211.0</td>\n",
              "      <td>USD</td>\n",
              "      <td>RV</td>\n",
              "      <td>1.0</td>\n",
              "      <td>NaN</td>\n",
              "      <td>2079.55</td>\n",
              "      <td>20190122.0</td>\n",
              "      <td>NAD1</td>\n",
              "      <td>1.928657e+09</td>\n",
              "      <td>0</td>\n",
              "    </tr>\n",
              "    <tr>\n",
              "      <th>1</th>\n",
              "      <td>U001</td>\n",
              "      <td>0200803720</td>\n",
              "      <td>DEC trust</td>\n",
              "      <td>2019-05-01 00:00:00</td>\n",
              "      <td>2019.0</td>\n",
              "      <td>1.929211e+09</td>\n",
              "      <td>2019-04-26</td>\n",
              "      <td>20190426</td>\n",
              "      <td>20190426</td>\n",
              "      <td>20190509.0</td>\n",
              "      <td>USD</td>\n",
              "      <td>RV</td>\n",
              "      <td>1.0</td>\n",
              "      <td>NaN</td>\n",
              "      <td>68.52</td>\n",
              "      <td>20190416.0</td>\n",
              "      <td>NAM4</td>\n",
              "      <td>1.929211e+09</td>\n",
              "      <td>0</td>\n",
              "    </tr>\n",
              "    <tr>\n",
              "      <th>2</th>\n",
              "      <td>U001</td>\n",
              "      <td>0200592182</td>\n",
              "      <td>DECA co</td>\n",
              "      <td>2019-06-03 00:00:00</td>\n",
              "      <td>2019.0</td>\n",
              "      <td>1.929378e+09</td>\n",
              "      <td>2019-05-25</td>\n",
              "      <td>20190525</td>\n",
              "      <td>20190525</td>\n",
              "      <td>20190608.0</td>\n",
              "      <td>USD</td>\n",
              "      <td>RV</td>\n",
              "      <td>1.0</td>\n",
              "      <td>NaN</td>\n",
              "      <td>1677.82</td>\n",
              "      <td>20190516.0</td>\n",
              "      <td>NAM4</td>\n",
              "      <td>1.929378e+09</td>\n",
              "      <td>0</td>\n",
              "    </tr>\n",
              "    <tr>\n",
              "      <th>3</th>\n",
              "      <td>U001</td>\n",
              "      <td>0200769623</td>\n",
              "      <td>WAL-MAR associates</td>\n",
              "      <td>2019-02-20 00:00:00</td>\n",
              "      <td>2019.0</td>\n",
              "      <td>1.928766e+09</td>\n",
              "      <td>2019-02-09</td>\n",
              "      <td>20190208</td>\n",
              "      <td>20190209</td>\n",
              "      <td>20190224.0</td>\n",
              "      <td>USD</td>\n",
              "      <td>RV</td>\n",
              "      <td>1.0</td>\n",
              "      <td>NaN</td>\n",
              "      <td>66906.76</td>\n",
              "      <td>20190209.0</td>\n",
              "      <td>NAH4</td>\n",
              "      <td>1.928766e+09</td>\n",
              "      <td>0</td>\n",
              "    </tr>\n",
              "    <tr>\n",
              "      <th>4</th>\n",
              "      <td>U001</td>\n",
              "      <td>200769623</td>\n",
              "      <td>WAL-MAR in</td>\n",
              "      <td>2019-06-12 00:00:00</td>\n",
              "      <td>2019.0</td>\n",
              "      <td>1.929407e+09</td>\n",
              "      <td>2019-06-01</td>\n",
              "      <td>20190530</td>\n",
              "      <td>20190601</td>\n",
              "      <td>20190616.0</td>\n",
              "      <td>USD</td>\n",
              "      <td>RV</td>\n",
              "      <td>1.0</td>\n",
              "      <td>NaN</td>\n",
              "      <td>65593.95</td>\n",
              "      <td>20190601.0</td>\n",
              "      <td>NAH4</td>\n",
              "      <td>1.929407e+09</td>\n",
              "      <td>0</td>\n",
              "    </tr>\n",
              "    <tr>\n",
              "      <th>...</th>\n",
              "      <td>...</td>\n",
              "      <td>...</td>\n",
              "      <td>...</td>\n",
              "      <td>...</td>\n",
              "      <td>...</td>\n",
              "      <td>...</td>\n",
              "      <td>...</td>\n",
              "      <td>...</td>\n",
              "      <td>...</td>\n",
              "      <td>...</td>\n",
              "      <td>...</td>\n",
              "      <td>...</td>\n",
              "      <td>...</td>\n",
              "      <td>...</td>\n",
              "      <td>...</td>\n",
              "      <td>...</td>\n",
              "      <td>...</td>\n",
              "      <td>...</td>\n",
              "      <td>...</td>\n",
              "    </tr>\n",
              "    <tr>\n",
              "      <th>49995</th>\n",
              "      <td>U001</td>\n",
              "      <td>0200861551</td>\n",
              "      <td>MRS GR in</td>\n",
              "      <td>NaN</td>\n",
              "      <td>2020.0</td>\n",
              "      <td>1.930572e+09</td>\n",
              "      <td>2020-03-04</td>\n",
              "      <td>20200302</td>\n",
              "      <td>20200304</td>\n",
              "      <td>20200319.0</td>\n",
              "      <td>USD</td>\n",
              "      <td>RV</td>\n",
              "      <td>1.0</td>\n",
              "      <td>NaN</td>\n",
              "      <td>40758.07</td>\n",
              "      <td>20200304.0</td>\n",
              "      <td>NAA8</td>\n",
              "      <td>1.930572e+09</td>\n",
              "      <td>1</td>\n",
              "    </tr>\n",
              "    <tr>\n",
              "      <th>49996</th>\n",
              "      <td>U001</td>\n",
              "      <td>0200769623</td>\n",
              "      <td>WAL-MAR foundation</td>\n",
              "      <td>NaN</td>\n",
              "      <td>2020.0</td>\n",
              "      <td>1.930637e+09</td>\n",
              "      <td>2020-03-13</td>\n",
              "      <td>20200311</td>\n",
              "      <td>20200313</td>\n",
              "      <td>20200328.0</td>\n",
              "      <td>USD</td>\n",
              "      <td>RV</td>\n",
              "      <td>1.0</td>\n",
              "      <td>NaN</td>\n",
              "      <td>14981.09</td>\n",
              "      <td>20200313.0</td>\n",
              "      <td>NAH4</td>\n",
              "      <td>1.930637e+09</td>\n",
              "      <td>1</td>\n",
              "    </tr>\n",
              "    <tr>\n",
              "      <th>49997</th>\n",
              "      <td>U001</td>\n",
              "      <td>200965912</td>\n",
              "      <td>C&amp;S W</td>\n",
              "      <td>NaN</td>\n",
              "      <td>2020.0</td>\n",
              "      <td>1.930861e+09</td>\n",
              "      <td>2020-05-05</td>\n",
              "      <td>20200505</td>\n",
              "      <td>20200505</td>\n",
              "      <td>20200520.0</td>\n",
              "      <td>USD</td>\n",
              "      <td>RV</td>\n",
              "      <td>1.0</td>\n",
              "      <td>NaN</td>\n",
              "      <td>14514.31</td>\n",
              "      <td>20200505.0</td>\n",
              "      <td>NAC6</td>\n",
              "      <td>1.930861e+09</td>\n",
              "      <td>1</td>\n",
              "    </tr>\n",
              "    <tr>\n",
              "      <th>49998</th>\n",
              "      <td>U001</td>\n",
              "      <td>0200820380</td>\n",
              "      <td>SMITH'S trust</td>\n",
              "      <td>NaN</td>\n",
              "      <td>2020.0</td>\n",
              "      <td>1.930803e+09</td>\n",
              "      <td>2020-04-21</td>\n",
              "      <td>20200420</td>\n",
              "      <td>20200421</td>\n",
              "      <td>20200506.0</td>\n",
              "      <td>USD</td>\n",
              "      <td>RV</td>\n",
              "      <td>1.0</td>\n",
              "      <td>NaN</td>\n",
              "      <td>40345.38</td>\n",
              "      <td>20200421.0</td>\n",
              "      <td>NAA8</td>\n",
              "      <td>1.930803e+09</td>\n",
              "      <td>1</td>\n",
              "    </tr>\n",
              "    <tr>\n",
              "      <th>49999</th>\n",
              "      <td>U001</td>\n",
              "      <td>0200759878</td>\n",
              "      <td>SA</td>\n",
              "      <td>NaN</td>\n",
              "      <td>2020.0</td>\n",
              "      <td>1.930594e+09</td>\n",
              "      <td>2020-03-03</td>\n",
              "      <td>20200303</td>\n",
              "      <td>20200303</td>\n",
              "      <td>20200318.0</td>\n",
              "      <td>USD</td>\n",
              "      <td>RV</td>\n",
              "      <td>1.0</td>\n",
              "      <td>NaN</td>\n",
              "      <td>46054.86</td>\n",
              "      <td>20200303.0</td>\n",
              "      <td>NAH4</td>\n",
              "      <td>1.930594e+09</td>\n",
              "      <td>1</td>\n",
              "    </tr>\n",
              "  </tbody>\n",
              "</table>\n",
              "<p>50000 rows × 19 columns</p>\n",
              "</div>"
            ],
            "text/plain": [
              "      business_code cust_number  ...    invoice_id isOpen\n",
              "0              U001  0200705742  ...  1.928657e+09      0\n",
              "1              U001  0200803720  ...  1.929211e+09      0\n",
              "2              U001  0200592182  ...  1.929378e+09      0\n",
              "3              U001  0200769623  ...  1.928766e+09      0\n",
              "4              U001   200769623  ...  1.929407e+09      0\n",
              "...             ...         ...  ...           ...    ...\n",
              "49995          U001  0200861551  ...  1.930572e+09      1\n",
              "49996          U001  0200769623  ...  1.930637e+09      1\n",
              "49997          U001   200965912  ...  1.930861e+09      1\n",
              "49998          U001  0200820380  ...  1.930803e+09      1\n",
              "49999          U001  0200759878  ...  1.930594e+09      1\n",
              "\n",
              "[50000 rows x 19 columns]"
            ]
          },
          "metadata": {
            "tags": []
          },
          "execution_count": 2404
        }
      ]
    },
    {
      "cell_type": "code",
      "metadata": {
        "colab": {
          "base_uri": "https://localhost:8080/"
        },
        "id": "NHDTSYNC-tTK",
        "outputId": "90a46536-b185-473c-8fcf-4da2f1abd24e"
      },
      "source": [
        "data.shape"
      ],
      "execution_count": 2405,
      "outputs": [
        {
          "output_type": "execute_result",
          "data": {
            "text/plain": [
              "(50000, 19)"
            ]
          },
          "metadata": {
            "tags": []
          },
          "execution_count": 2405
        }
      ]
    },
    {
      "cell_type": "code",
      "metadata": {
        "colab": {
          "base_uri": "https://localhost:8080/"
        },
        "id": "SPxqMc-07YK9",
        "outputId": "9a077090-ec1d-4b95-c2d3-fa44de72cf17"
      },
      "source": [
        "len(pd.unique(data['posting_id'])) #constant"
      ],
      "execution_count": 2406,
      "outputs": [
        {
          "output_type": "execute_result",
          "data": {
            "text/plain": [
              "1"
            ]
          },
          "metadata": {
            "tags": []
          },
          "execution_count": 2406
        }
      ]
    },
    {
      "cell_type": "code",
      "metadata": {
        "id": "hGE4Ja6K8vwU"
      },
      "source": [
        "data.drop(columns=['posting_id'],inplace=True)#since constant column will not contribute so drop"
      ],
      "execution_count": 2407,
      "outputs": []
    },
    {
      "cell_type": "code",
      "metadata": {
        "colab": {
          "base_uri": "https://localhost:8080/"
        },
        "id": "PsQ5ZyQbrT9Y",
        "outputId": "8817ce67-0ee5-4a01-9f92-a95044fab913"
      },
      "source": [
        "#checking how many columns of the dataset have mean of null values to preprocess\r\n",
        "for i in data.columns:\r\n",
        "  print(i,\" \",data[i].isnull().mean())"
      ],
      "execution_count": 2408,
      "outputs": [
        {
          "output_type": "stream",
          "text": [
            "business_code   0.0\n",
            "cust_number   0.0\n",
            "name_customer   0.0\n",
            "clear_date   0.06476\n",
            "buisness_year   0.0\n",
            "doc_id   0.0\n",
            "posting_date   0.0\n",
            "document_create_date   0.0\n",
            "document_create_date.1   0.0\n",
            "due_in_date   0.0\n",
            "invoice_currency   0.0\n",
            "document type   0.0\n",
            "area_business   1.0\n",
            "total_open_amount   0.0\n",
            "baseline_create_date   0.0\n",
            "cust_payment_terms   0.0\n",
            "invoice_id   0.0001\n",
            "isOpen   0.0\n"
          ],
          "name": "stdout"
        }
      ]
    },
    {
      "cell_type": "code",
      "metadata": {
        "id": "exviY933szBz"
      },
      "source": [
        "#area_business have all null values so drop\r\n",
        "data.drop(['area_business'],axis=1,inplace=True)"
      ],
      "execution_count": 2409,
      "outputs": []
    },
    {
      "cell_type": "code",
      "metadata": {
        "colab": {
          "base_uri": "https://localhost:8080/"
        },
        "id": "EJUEqWZM5Wz1",
        "outputId": "46220007-342a-434a-b8f6-95080eceddf1"
      },
      "source": [
        "#invoice have some values null\r\n",
        "data['invoice_id'].isnull().sum()"
      ],
      "execution_count": 2410,
      "outputs": [
        {
          "output_type": "execute_result",
          "data": {
            "text/plain": [
              "5"
            ]
          },
          "metadata": {
            "tags": []
          },
          "execution_count": 2410
        }
      ]
    },
    {
      "cell_type": "code",
      "metadata": {
        "colab": {
          "base_uri": "https://localhost:8080/",
          "height": 326
        },
        "id": "r3aTUGG4-cf2",
        "outputId": "ce8b40ea-d2bc-46e9-8828-f51c07192e68"
      },
      "source": [
        "data.loc[data['invoice_id'].isnull()]#null values are not useful so drop\r\n"
      ],
      "execution_count": 2411,
      "outputs": [
        {
          "output_type": "execute_result",
          "data": {
            "text/html": [
              "<div>\n",
              "<style scoped>\n",
              "    .dataframe tbody tr th:only-of-type {\n",
              "        vertical-align: middle;\n",
              "    }\n",
              "\n",
              "    .dataframe tbody tr th {\n",
              "        vertical-align: top;\n",
              "    }\n",
              "\n",
              "    .dataframe thead th {\n",
              "        text-align: right;\n",
              "    }\n",
              "</style>\n",
              "<table border=\"1\" class=\"dataframe\">\n",
              "  <thead>\n",
              "    <tr style=\"text-align: right;\">\n",
              "      <th></th>\n",
              "      <th>business_code</th>\n",
              "      <th>cust_number</th>\n",
              "      <th>name_customer</th>\n",
              "      <th>clear_date</th>\n",
              "      <th>buisness_year</th>\n",
              "      <th>doc_id</th>\n",
              "      <th>posting_date</th>\n",
              "      <th>document_create_date</th>\n",
              "      <th>document_create_date.1</th>\n",
              "      <th>due_in_date</th>\n",
              "      <th>invoice_currency</th>\n",
              "      <th>document type</th>\n",
              "      <th>total_open_amount</th>\n",
              "      <th>baseline_create_date</th>\n",
              "      <th>cust_payment_terms</th>\n",
              "      <th>invoice_id</th>\n",
              "      <th>isOpen</th>\n",
              "    </tr>\n",
              "  </thead>\n",
              "  <tbody>\n",
              "    <tr>\n",
              "      <th>2297</th>\n",
              "      <td>CA02</td>\n",
              "      <td>0140106054</td>\n",
              "      <td>TREE  corporation</td>\n",
              "      <td>2019-05-06 00:00:00</td>\n",
              "      <td>2019.0</td>\n",
              "      <td>9.500000e+09</td>\n",
              "      <td>2019-03-29</td>\n",
              "      <td>20190329</td>\n",
              "      <td>20190207</td>\n",
              "      <td>20190217.0</td>\n",
              "      <td>CAD</td>\n",
              "      <td>X2</td>\n",
              "      <td>12964.32</td>\n",
              "      <td>20190207.0</td>\n",
              "      <td>CA10</td>\n",
              "      <td>NaN</td>\n",
              "      <td>0</td>\n",
              "    </tr>\n",
              "    <tr>\n",
              "      <th>10824</th>\n",
              "      <td>CA02</td>\n",
              "      <td>0140104409</td>\n",
              "      <td>LOB us</td>\n",
              "      <td>2019-05-03 00:00:00</td>\n",
              "      <td>2019.0</td>\n",
              "      <td>9.500000e+09</td>\n",
              "      <td>2019-03-29</td>\n",
              "      <td>20190329</td>\n",
              "      <td>20190221</td>\n",
              "      <td>20190303.0</td>\n",
              "      <td>CAD</td>\n",
              "      <td>X2</td>\n",
              "      <td>912.44</td>\n",
              "      <td>20190221.0</td>\n",
              "      <td>CA10</td>\n",
              "      <td>NaN</td>\n",
              "      <td>0</td>\n",
              "    </tr>\n",
              "    <tr>\n",
              "      <th>38540</th>\n",
              "      <td>CA02</td>\n",
              "      <td>0140104409</td>\n",
              "      <td>LOB trust</td>\n",
              "      <td>2019-05-31 00:00:00</td>\n",
              "      <td>2019.0</td>\n",
              "      <td>9.500000e+09</td>\n",
              "      <td>2019-03-29</td>\n",
              "      <td>20190329</td>\n",
              "      <td>20190307</td>\n",
              "      <td>20190317.0</td>\n",
              "      <td>CAD</td>\n",
              "      <td>X2</td>\n",
              "      <td>17264.88</td>\n",
              "      <td>20190307.0</td>\n",
              "      <td>CA10</td>\n",
              "      <td>NaN</td>\n",
              "      <td>0</td>\n",
              "    </tr>\n",
              "    <tr>\n",
              "      <th>42577</th>\n",
              "      <td>CA02</td>\n",
              "      <td>0140106054</td>\n",
              "      <td>TREE  llc</td>\n",
              "      <td>2019-05-22 00:00:00</td>\n",
              "      <td>2019.0</td>\n",
              "      <td>9.500000e+09</td>\n",
              "      <td>2019-03-29</td>\n",
              "      <td>20190329</td>\n",
              "      <td>20190301</td>\n",
              "      <td>20190311.0</td>\n",
              "      <td>CAD</td>\n",
              "      <td>X2</td>\n",
              "      <td>21245.76</td>\n",
              "      <td>20190301.0</td>\n",
              "      <td>CA10</td>\n",
              "      <td>NaN</td>\n",
              "      <td>0</td>\n",
              "    </tr>\n",
              "    <tr>\n",
              "      <th>43223</th>\n",
              "      <td>CA02</td>\n",
              "      <td>0140104409</td>\n",
              "      <td>LOB in</td>\n",
              "      <td>2019-05-08 00:00:00</td>\n",
              "      <td>2019.0</td>\n",
              "      <td>9.500000e+09</td>\n",
              "      <td>2019-03-29</td>\n",
              "      <td>20190329</td>\n",
              "      <td>20190225</td>\n",
              "      <td>20190307.0</td>\n",
              "      <td>CAD</td>\n",
              "      <td>X2</td>\n",
              "      <td>15922.44</td>\n",
              "      <td>20190225.0</td>\n",
              "      <td>CA10</td>\n",
              "      <td>NaN</td>\n",
              "      <td>0</td>\n",
              "    </tr>\n",
              "  </tbody>\n",
              "</table>\n",
              "</div>"
            ],
            "text/plain": [
              "      business_code cust_number  ... invoice_id isOpen\n",
              "2297           CA02  0140106054  ...        NaN      0\n",
              "10824          CA02  0140104409  ...        NaN      0\n",
              "38540          CA02  0140104409  ...        NaN      0\n",
              "42577          CA02  0140106054  ...        NaN      0\n",
              "43223          CA02  0140104409  ...        NaN      0\n",
              "\n",
              "[5 rows x 17 columns]"
            ]
          },
          "metadata": {
            "tags": []
          },
          "execution_count": 2411
        }
      ]
    },
    {
      "cell_type": "code",
      "metadata": {
        "id": "BxMGYPYj5vG1"
      },
      "source": [
        "#drop 5 invoice having null values\r\n",
        "data = data.dropna(axis=0, subset=['invoice_id'])"
      ],
      "execution_count": 2412,
      "outputs": []
    },
    {
      "cell_type": "code",
      "metadata": {
        "colab": {
          "base_uri": "https://localhost:8080/"
        },
        "id": "0HJGeA6zB0WG",
        "outputId": "b6cc1cc7-ff4c-4997-a3ac-b767a558e916"
      },
      "source": [
        "data['invoice_id'].isnull().sum()\r\n",
        "#once again checking no of null values in invoice id"
      ],
      "execution_count": 2413,
      "outputs": [
        {
          "output_type": "execute_result",
          "data": {
            "text/plain": [
              "0"
            ]
          },
          "metadata": {
            "tags": []
          },
          "execution_count": 2413
        }
      ]
    },
    {
      "cell_type": "code",
      "metadata": {
        "colab": {
          "base_uri": "https://localhost:8080/"
        },
        "id": "hJHeuBxXuIOH",
        "outputId": "17be472c-e53c-4e3f-b4c7-282040b96d57"
      },
      "source": [
        "\r\n",
        "for i in data.columns:\r\n",
        "  print(i)"
      ],
      "execution_count": 2414,
      "outputs": [
        {
          "output_type": "stream",
          "text": [
            "business_code\n",
            "cust_number\n",
            "name_customer\n",
            "clear_date\n",
            "buisness_year\n",
            "doc_id\n",
            "posting_date\n",
            "document_create_date\n",
            "document_create_date.1\n",
            "due_in_date\n",
            "invoice_currency\n",
            "document type\n",
            "total_open_amount\n",
            "baseline_create_date\n",
            "cust_payment_terms\n",
            "invoice_id\n",
            "isOpen\n"
          ],
          "name": "stdout"
        }
      ]
    },
    {
      "cell_type": "code",
      "metadata": {
        "colab": {
          "base_uri": "https://localhost:8080/"
        },
        "id": "VosT1ugKDJfb",
        "outputId": "ac1110e6-21a2-4702-a471-0348582c0c1e"
      },
      "source": [
        "#no duplicate rows\r\n",
        "data.duplicated().sum()"
      ],
      "execution_count": 2415,
      "outputs": [
        {
          "output_type": "execute_result",
          "data": {
            "text/plain": [
              "0"
            ]
          },
          "metadata": {
            "tags": []
          },
          "execution_count": 2415
        }
      ]
    },
    {
      "cell_type": "code",
      "metadata": {
        "colab": {
          "base_uri": "https://localhost:8080/"
        },
        "id": "E_jIZXjKugwc",
        "outputId": "90f69e6e-2d1d-4dd3-d7ca-09d234d67d41"
      },
      "source": [
        "#checking duplicate columns:\r\n",
        "data_t = data.T\r\n",
        "data_t.duplicated().sum()\r\n"
      ],
      "execution_count": 2416,
      "outputs": [
        {
          "output_type": "execute_result",
          "data": {
            "text/plain": [
              "1"
            ]
          },
          "metadata": {
            "tags": []
          },
          "execution_count": 2416
        }
      ]
    },
    {
      "cell_type": "code",
      "metadata": {
        "colab": {
          "base_uri": "https://localhost:8080/",
          "height": 129
        },
        "id": "hGTuCuI0DwhQ",
        "outputId": "ef12d980-b432-4fa3-c4ab-f6bf9117b8d3"
      },
      "source": [
        "#displaying duplicated column\r\n",
        "data_t[data_t.duplicated()]"
      ],
      "execution_count": 2417,
      "outputs": [
        {
          "output_type": "execute_result",
          "data": {
            "text/html": [
              "<div>\n",
              "<style scoped>\n",
              "    .dataframe tbody tr th:only-of-type {\n",
              "        vertical-align: middle;\n",
              "    }\n",
              "\n",
              "    .dataframe tbody tr th {\n",
              "        vertical-align: top;\n",
              "    }\n",
              "\n",
              "    .dataframe thead th {\n",
              "        text-align: right;\n",
              "    }\n",
              "</style>\n",
              "<table border=\"1\" class=\"dataframe\">\n",
              "  <thead>\n",
              "    <tr style=\"text-align: right;\">\n",
              "      <th></th>\n",
              "      <th>0</th>\n",
              "      <th>1</th>\n",
              "      <th>2</th>\n",
              "      <th>3</th>\n",
              "      <th>4</th>\n",
              "      <th>5</th>\n",
              "      <th>6</th>\n",
              "      <th>7</th>\n",
              "      <th>8</th>\n",
              "      <th>9</th>\n",
              "      <th>10</th>\n",
              "      <th>11</th>\n",
              "      <th>12</th>\n",
              "      <th>13</th>\n",
              "      <th>14</th>\n",
              "      <th>15</th>\n",
              "      <th>16</th>\n",
              "      <th>17</th>\n",
              "      <th>18</th>\n",
              "      <th>19</th>\n",
              "      <th>20</th>\n",
              "      <th>21</th>\n",
              "      <th>22</th>\n",
              "      <th>23</th>\n",
              "      <th>24</th>\n",
              "      <th>25</th>\n",
              "      <th>26</th>\n",
              "      <th>27</th>\n",
              "      <th>28</th>\n",
              "      <th>29</th>\n",
              "      <th>30</th>\n",
              "      <th>31</th>\n",
              "      <th>32</th>\n",
              "      <th>33</th>\n",
              "      <th>34</th>\n",
              "      <th>35</th>\n",
              "      <th>36</th>\n",
              "      <th>37</th>\n",
              "      <th>38</th>\n",
              "      <th>39</th>\n",
              "      <th>...</th>\n",
              "      <th>49960</th>\n",
              "      <th>49961</th>\n",
              "      <th>49962</th>\n",
              "      <th>49963</th>\n",
              "      <th>49964</th>\n",
              "      <th>49965</th>\n",
              "      <th>49966</th>\n",
              "      <th>49967</th>\n",
              "      <th>49968</th>\n",
              "      <th>49969</th>\n",
              "      <th>49970</th>\n",
              "      <th>49971</th>\n",
              "      <th>49972</th>\n",
              "      <th>49973</th>\n",
              "      <th>49974</th>\n",
              "      <th>49975</th>\n",
              "      <th>49976</th>\n",
              "      <th>49977</th>\n",
              "      <th>49978</th>\n",
              "      <th>49979</th>\n",
              "      <th>49980</th>\n",
              "      <th>49981</th>\n",
              "      <th>49982</th>\n",
              "      <th>49983</th>\n",
              "      <th>49984</th>\n",
              "      <th>49985</th>\n",
              "      <th>49986</th>\n",
              "      <th>49987</th>\n",
              "      <th>49988</th>\n",
              "      <th>49989</th>\n",
              "      <th>49990</th>\n",
              "      <th>49991</th>\n",
              "      <th>49992</th>\n",
              "      <th>49993</th>\n",
              "      <th>49994</th>\n",
              "      <th>49995</th>\n",
              "      <th>49996</th>\n",
              "      <th>49997</th>\n",
              "      <th>49998</th>\n",
              "      <th>49999</th>\n",
              "    </tr>\n",
              "  </thead>\n",
              "  <tbody>\n",
              "    <tr>\n",
              "      <th>invoice_id</th>\n",
              "      <td>1.92866e+09</td>\n",
              "      <td>1.92921e+09</td>\n",
              "      <td>1.92938e+09</td>\n",
              "      <td>1.92877e+09</td>\n",
              "      <td>1.92941e+09</td>\n",
              "      <td>1.92898e+09</td>\n",
              "      <td>1.93014e+09</td>\n",
              "      <td>1.92982e+09</td>\n",
              "      <td>1.9289e+09</td>\n",
              "      <td>1.93003e+09</td>\n",
              "      <td>1.92957e+09</td>\n",
              "      <td>1.92868e+09</td>\n",
              "      <td>1.92943e+09</td>\n",
              "      <td>2.96052e+09</td>\n",
              "      <td>1.92925e+09</td>\n",
              "      <td>1.92981e+09</td>\n",
              "      <td>1.93033e+09</td>\n",
              "      <td>1.92903e+09</td>\n",
              "      <td>1.92983e+09</td>\n",
              "      <td>1.93034e+09</td>\n",
              "      <td>1.92926e+09</td>\n",
              "      <td>1.929e+09</td>\n",
              "      <td>1.92953e+09</td>\n",
              "      <td>1.92975e+09</td>\n",
              "      <td>1.93027e+09</td>\n",
              "      <td>1.92968e+09</td>\n",
              "      <td>1.93004e+09</td>\n",
              "      <td>1.92936e+09</td>\n",
              "      <td>1.93001e+09</td>\n",
              "      <td>1.92867e+09</td>\n",
              "      <td>1.93018e+09</td>\n",
              "      <td>1.92886e+09</td>\n",
              "      <td>1.92992e+09</td>\n",
              "      <td>1.93051e+09</td>\n",
              "      <td>1.92986e+09</td>\n",
              "      <td>1.93035e+09</td>\n",
              "      <td>1.92987e+09</td>\n",
              "      <td>1.92983e+09</td>\n",
              "      <td>1.9291e+09</td>\n",
              "      <td>1.92899e+09</td>\n",
              "      <td>...</td>\n",
              "      <td>1.93078e+09</td>\n",
              "      <td>1.93065e+09</td>\n",
              "      <td>1.93062e+09</td>\n",
              "      <td>1.9308e+09</td>\n",
              "      <td>1.93059e+09</td>\n",
              "      <td>1.93077e+09</td>\n",
              "      <td>1.93064e+09</td>\n",
              "      <td>1.93076e+09</td>\n",
              "      <td>1.93066e+09</td>\n",
              "      <td>1.93065e+09</td>\n",
              "      <td>1.93086e+09</td>\n",
              "      <td>1.93067e+09</td>\n",
              "      <td>1.93059e+09</td>\n",
              "      <td>1.93083e+09</td>\n",
              "      <td>1.93073e+09</td>\n",
              "      <td>1.93064e+09</td>\n",
              "      <td>1.93074e+09</td>\n",
              "      <td>1.93058e+09</td>\n",
              "      <td>1.9306e+09</td>\n",
              "      <td>1.93073e+09</td>\n",
              "      <td>1.93064e+09</td>\n",
              "      <td>1.93072e+09</td>\n",
              "      <td>1.93058e+09</td>\n",
              "      <td>1.93084e+09</td>\n",
              "      <td>1.93084e+09</td>\n",
              "      <td>1.93079e+09</td>\n",
              "      <td>1.93088e+09</td>\n",
              "      <td>1.93073e+09</td>\n",
              "      <td>1.93071e+09</td>\n",
              "      <td>1.93073e+09</td>\n",
              "      <td>1.9308e+09</td>\n",
              "      <td>1.9307e+09</td>\n",
              "      <td>1.9307e+09</td>\n",
              "      <td>1.93069e+09</td>\n",
              "      <td>1.93058e+09</td>\n",
              "      <td>1.93057e+09</td>\n",
              "      <td>1.93064e+09</td>\n",
              "      <td>1.93086e+09</td>\n",
              "      <td>1.9308e+09</td>\n",
              "      <td>1.93059e+09</td>\n",
              "    </tr>\n",
              "  </tbody>\n",
              "</table>\n",
              "<p>1 rows × 49995 columns</p>\n",
              "</div>"
            ],
            "text/plain": [
              "                  0            1      ...       49998        49999\n",
              "invoice_id  1.92866e+09  1.92921e+09  ...  1.9308e+09  1.93059e+09\n",
              "\n",
              "[1 rows x 49995 columns]"
            ]
          },
          "metadata": {
            "tags": []
          },
          "execution_count": 2417
        }
      ]
    },
    {
      "cell_type": "code",
      "metadata": {
        "colab": {
          "base_uri": "https://localhost:8080/"
        },
        "id": "p1BcUo-jEdWs",
        "outputId": "52a95612-3641-489f-ccc5-30e8889b2f3a"
      },
      "source": [
        "#no of rows before removing duplicated columns is 17\r\n",
        "dt=data_t.T\r\n",
        "dt.shape"
      ],
      "execution_count": 2418,
      "outputs": [
        {
          "output_type": "execute_result",
          "data": {
            "text/plain": [
              "(49995, 17)"
            ]
          },
          "metadata": {
            "tags": []
          },
          "execution_count": 2418
        }
      ]
    },
    {
      "cell_type": "code",
      "metadata": {
        "colab": {
          "base_uri": "https://localhost:8080/"
        },
        "id": "nHxdawpzEOwz",
        "outputId": "f835678f-cfa9-4f1f-ba86-0bbaad5aa130"
      },
      "source": [
        "\r\n",
        "#after removing duplicate column, 16 columns\r\n",
        "data_unique = data_t.drop_duplicates(keep='first').T\r\n",
        "data_unique.shape"
      ],
      "execution_count": 2419,
      "outputs": [
        {
          "output_type": "execute_result",
          "data": {
            "text/plain": [
              "(49995, 16)"
            ]
          },
          "metadata": {
            "tags": []
          },
          "execution_count": 2419
        }
      ]
    },
    {
      "cell_type": "code",
      "metadata": {
        "id": "sxZlPnJjE3z3",
        "colab": {
          "base_uri": "https://localhost:8080/"
        },
        "outputId": "a744cff0-66b8-4501-a20f-b1c74bb99856"
      },
      "source": [
        "#once again checking duplicated rows(of the transpose)\r\n",
        "data_uni=data_unique.T\r\n",
        "data_uni.duplicated().sum()"
      ],
      "execution_count": 2420,
      "outputs": [
        {
          "output_type": "execute_result",
          "data": {
            "text/plain": [
              "0"
            ]
          },
          "metadata": {
            "tags": []
          },
          "execution_count": 2420
        }
      ]
    },
    {
      "cell_type": "code",
      "metadata": {
        "colab": {
          "base_uri": "https://localhost:8080/",
          "height": 557
        },
        "id": "pNGxXeekImoa",
        "outputId": "13e95fbe-bdbc-4f22-f6b4-b68ef127bb42"
      },
      "source": [
        "data_unique"
      ],
      "execution_count": 2421,
      "outputs": [
        {
          "output_type": "execute_result",
          "data": {
            "text/html": [
              "<div>\n",
              "<style scoped>\n",
              "    .dataframe tbody tr th:only-of-type {\n",
              "        vertical-align: middle;\n",
              "    }\n",
              "\n",
              "    .dataframe tbody tr th {\n",
              "        vertical-align: top;\n",
              "    }\n",
              "\n",
              "    .dataframe thead th {\n",
              "        text-align: right;\n",
              "    }\n",
              "</style>\n",
              "<table border=\"1\" class=\"dataframe\">\n",
              "  <thead>\n",
              "    <tr style=\"text-align: right;\">\n",
              "      <th></th>\n",
              "      <th>business_code</th>\n",
              "      <th>cust_number</th>\n",
              "      <th>name_customer</th>\n",
              "      <th>clear_date</th>\n",
              "      <th>buisness_year</th>\n",
              "      <th>doc_id</th>\n",
              "      <th>posting_date</th>\n",
              "      <th>document_create_date</th>\n",
              "      <th>document_create_date.1</th>\n",
              "      <th>due_in_date</th>\n",
              "      <th>invoice_currency</th>\n",
              "      <th>document type</th>\n",
              "      <th>total_open_amount</th>\n",
              "      <th>baseline_create_date</th>\n",
              "      <th>cust_payment_terms</th>\n",
              "      <th>isOpen</th>\n",
              "    </tr>\n",
              "  </thead>\n",
              "  <tbody>\n",
              "    <tr>\n",
              "      <th>0</th>\n",
              "      <td>U001</td>\n",
              "      <td>0200705742</td>\n",
              "      <td>DOT us</td>\n",
              "      <td>2019-02-06 00:00:00</td>\n",
              "      <td>2019</td>\n",
              "      <td>1.92866e+09</td>\n",
              "      <td>2019-01-22</td>\n",
              "      <td>20190121</td>\n",
              "      <td>20190122</td>\n",
              "      <td>2.01902e+07</td>\n",
              "      <td>USD</td>\n",
              "      <td>RV</td>\n",
              "      <td>2079.55</td>\n",
              "      <td>2.01901e+07</td>\n",
              "      <td>NAD1</td>\n",
              "      <td>0</td>\n",
              "    </tr>\n",
              "    <tr>\n",
              "      <th>1</th>\n",
              "      <td>U001</td>\n",
              "      <td>0200803720</td>\n",
              "      <td>DEC trust</td>\n",
              "      <td>2019-05-01 00:00:00</td>\n",
              "      <td>2019</td>\n",
              "      <td>1.92921e+09</td>\n",
              "      <td>2019-04-26</td>\n",
              "      <td>20190426</td>\n",
              "      <td>20190426</td>\n",
              "      <td>2.01905e+07</td>\n",
              "      <td>USD</td>\n",
              "      <td>RV</td>\n",
              "      <td>68.52</td>\n",
              "      <td>2.01904e+07</td>\n",
              "      <td>NAM4</td>\n",
              "      <td>0</td>\n",
              "    </tr>\n",
              "    <tr>\n",
              "      <th>2</th>\n",
              "      <td>U001</td>\n",
              "      <td>0200592182</td>\n",
              "      <td>DECA co</td>\n",
              "      <td>2019-06-03 00:00:00</td>\n",
              "      <td>2019</td>\n",
              "      <td>1.92938e+09</td>\n",
              "      <td>2019-05-25</td>\n",
              "      <td>20190525</td>\n",
              "      <td>20190525</td>\n",
              "      <td>2.01906e+07</td>\n",
              "      <td>USD</td>\n",
              "      <td>RV</td>\n",
              "      <td>1677.82</td>\n",
              "      <td>2.01905e+07</td>\n",
              "      <td>NAM4</td>\n",
              "      <td>0</td>\n",
              "    </tr>\n",
              "    <tr>\n",
              "      <th>3</th>\n",
              "      <td>U001</td>\n",
              "      <td>0200769623</td>\n",
              "      <td>WAL-MAR associates</td>\n",
              "      <td>2019-02-20 00:00:00</td>\n",
              "      <td>2019</td>\n",
              "      <td>1.92877e+09</td>\n",
              "      <td>2019-02-09</td>\n",
              "      <td>20190208</td>\n",
              "      <td>20190209</td>\n",
              "      <td>2.01902e+07</td>\n",
              "      <td>USD</td>\n",
              "      <td>RV</td>\n",
              "      <td>66906.8</td>\n",
              "      <td>2.01902e+07</td>\n",
              "      <td>NAH4</td>\n",
              "      <td>0</td>\n",
              "    </tr>\n",
              "    <tr>\n",
              "      <th>4</th>\n",
              "      <td>U001</td>\n",
              "      <td>200769623</td>\n",
              "      <td>WAL-MAR in</td>\n",
              "      <td>2019-06-12 00:00:00</td>\n",
              "      <td>2019</td>\n",
              "      <td>1.92941e+09</td>\n",
              "      <td>2019-06-01</td>\n",
              "      <td>20190530</td>\n",
              "      <td>20190601</td>\n",
              "      <td>2.01906e+07</td>\n",
              "      <td>USD</td>\n",
              "      <td>RV</td>\n",
              "      <td>65593.9</td>\n",
              "      <td>2.01906e+07</td>\n",
              "      <td>NAH4</td>\n",
              "      <td>0</td>\n",
              "    </tr>\n",
              "    <tr>\n",
              "      <th>...</th>\n",
              "      <td>...</td>\n",
              "      <td>...</td>\n",
              "      <td>...</td>\n",
              "      <td>...</td>\n",
              "      <td>...</td>\n",
              "      <td>...</td>\n",
              "      <td>...</td>\n",
              "      <td>...</td>\n",
              "      <td>...</td>\n",
              "      <td>...</td>\n",
              "      <td>...</td>\n",
              "      <td>...</td>\n",
              "      <td>...</td>\n",
              "      <td>...</td>\n",
              "      <td>...</td>\n",
              "      <td>...</td>\n",
              "    </tr>\n",
              "    <tr>\n",
              "      <th>49995</th>\n",
              "      <td>U001</td>\n",
              "      <td>0200861551</td>\n",
              "      <td>MRS GR in</td>\n",
              "      <td>NaN</td>\n",
              "      <td>2020</td>\n",
              "      <td>1.93057e+09</td>\n",
              "      <td>2020-03-04</td>\n",
              "      <td>20200302</td>\n",
              "      <td>20200304</td>\n",
              "      <td>2.02003e+07</td>\n",
              "      <td>USD</td>\n",
              "      <td>RV</td>\n",
              "      <td>40758.1</td>\n",
              "      <td>2.02003e+07</td>\n",
              "      <td>NAA8</td>\n",
              "      <td>1</td>\n",
              "    </tr>\n",
              "    <tr>\n",
              "      <th>49996</th>\n",
              "      <td>U001</td>\n",
              "      <td>0200769623</td>\n",
              "      <td>WAL-MAR foundation</td>\n",
              "      <td>NaN</td>\n",
              "      <td>2020</td>\n",
              "      <td>1.93064e+09</td>\n",
              "      <td>2020-03-13</td>\n",
              "      <td>20200311</td>\n",
              "      <td>20200313</td>\n",
              "      <td>2.02003e+07</td>\n",
              "      <td>USD</td>\n",
              "      <td>RV</td>\n",
              "      <td>14981.1</td>\n",
              "      <td>2.02003e+07</td>\n",
              "      <td>NAH4</td>\n",
              "      <td>1</td>\n",
              "    </tr>\n",
              "    <tr>\n",
              "      <th>49997</th>\n",
              "      <td>U001</td>\n",
              "      <td>200965912</td>\n",
              "      <td>C&amp;S W</td>\n",
              "      <td>NaN</td>\n",
              "      <td>2020</td>\n",
              "      <td>1.93086e+09</td>\n",
              "      <td>2020-05-05</td>\n",
              "      <td>20200505</td>\n",
              "      <td>20200505</td>\n",
              "      <td>2.02005e+07</td>\n",
              "      <td>USD</td>\n",
              "      <td>RV</td>\n",
              "      <td>14514.3</td>\n",
              "      <td>2.02005e+07</td>\n",
              "      <td>NAC6</td>\n",
              "      <td>1</td>\n",
              "    </tr>\n",
              "    <tr>\n",
              "      <th>49998</th>\n",
              "      <td>U001</td>\n",
              "      <td>0200820380</td>\n",
              "      <td>SMITH'S trust</td>\n",
              "      <td>NaN</td>\n",
              "      <td>2020</td>\n",
              "      <td>1.9308e+09</td>\n",
              "      <td>2020-04-21</td>\n",
              "      <td>20200420</td>\n",
              "      <td>20200421</td>\n",
              "      <td>2.02005e+07</td>\n",
              "      <td>USD</td>\n",
              "      <td>RV</td>\n",
              "      <td>40345.4</td>\n",
              "      <td>2.02004e+07</td>\n",
              "      <td>NAA8</td>\n",
              "      <td>1</td>\n",
              "    </tr>\n",
              "    <tr>\n",
              "      <th>49999</th>\n",
              "      <td>U001</td>\n",
              "      <td>0200759878</td>\n",
              "      <td>SA</td>\n",
              "      <td>NaN</td>\n",
              "      <td>2020</td>\n",
              "      <td>1.93059e+09</td>\n",
              "      <td>2020-03-03</td>\n",
              "      <td>20200303</td>\n",
              "      <td>20200303</td>\n",
              "      <td>2.02003e+07</td>\n",
              "      <td>USD</td>\n",
              "      <td>RV</td>\n",
              "      <td>46054.9</td>\n",
              "      <td>2.02003e+07</td>\n",
              "      <td>NAH4</td>\n",
              "      <td>1</td>\n",
              "    </tr>\n",
              "  </tbody>\n",
              "</table>\n",
              "<p>49995 rows × 16 columns</p>\n",
              "</div>"
            ],
            "text/plain": [
              "      business_code cust_number  ... cust_payment_terms isOpen\n",
              "0              U001  0200705742  ...               NAD1      0\n",
              "1              U001  0200803720  ...               NAM4      0\n",
              "2              U001  0200592182  ...               NAM4      0\n",
              "3              U001  0200769623  ...               NAH4      0\n",
              "4              U001   200769623  ...               NAH4      0\n",
              "...             ...         ...  ...                ...    ...\n",
              "49995          U001  0200861551  ...               NAA8      1\n",
              "49996          U001  0200769623  ...               NAH4      1\n",
              "49997          U001   200965912  ...               NAC6      1\n",
              "49998          U001  0200820380  ...               NAA8      1\n",
              "49999          U001  0200759878  ...               NAH4      1\n",
              "\n",
              "[49995 rows x 16 columns]"
            ]
          },
          "metadata": {
            "tags": []
          },
          "execution_count": 2421
        }
      ]
    },
    {
      "cell_type": "code",
      "metadata": {
        "colab": {
          "base_uri": "https://localhost:8080/"
        },
        "id": "vu0R0J2lCY45",
        "outputId": "098b002e-877f-42e5-c629-57c313f83dd5"
      },
      "source": [
        "#document type is constant\r\n",
        "len(pd.unique(data_unique['document type']))"
      ],
      "execution_count": 2422,
      "outputs": [
        {
          "output_type": "execute_result",
          "data": {
            "text/plain": [
              "1"
            ]
          },
          "metadata": {
            "tags": []
          },
          "execution_count": 2422
        }
      ]
    },
    {
      "cell_type": "code",
      "metadata": {
        "id": "PpJaKKjtYQCb"
      },
      "source": [
        "#drop cons column\r\n",
        "data_unique.drop(columns=['document type'],inplace=True)"
      ],
      "execution_count": 2423,
      "outputs": []
    },
    {
      "cell_type": "code",
      "metadata": {
        "colab": {
          "base_uri": "https://localhost:8080/",
          "height": 141
        },
        "id": "5Y-EwYT-fEN5",
        "outputId": "46088fbe-fb7c-4b44-8ebc-b9e1f57b5d91"
      },
      "source": [
        "data_unique.groupby(['buisness_year'])['buisness_year'].agg({'count'})"
      ],
      "execution_count": 2424,
      "outputs": [
        {
          "output_type": "execute_result",
          "data": {
            "text/html": [
              "<div>\n",
              "<style scoped>\n",
              "    .dataframe tbody tr th:only-of-type {\n",
              "        vertical-align: middle;\n",
              "    }\n",
              "\n",
              "    .dataframe tbody tr th {\n",
              "        vertical-align: top;\n",
              "    }\n",
              "\n",
              "    .dataframe thead th {\n",
              "        text-align: right;\n",
              "    }\n",
              "</style>\n",
              "<table border=\"1\" class=\"dataframe\">\n",
              "  <thead>\n",
              "    <tr style=\"text-align: right;\">\n",
              "      <th></th>\n",
              "      <th>count</th>\n",
              "    </tr>\n",
              "    <tr>\n",
              "      <th>buisness_year</th>\n",
              "      <th></th>\n",
              "    </tr>\n",
              "  </thead>\n",
              "  <tbody>\n",
              "    <tr>\n",
              "      <th>2019.0</th>\n",
              "      <td>40686</td>\n",
              "    </tr>\n",
              "    <tr>\n",
              "      <th>2020.0</th>\n",
              "      <td>9309</td>\n",
              "    </tr>\n",
              "  </tbody>\n",
              "</table>\n",
              "</div>"
            ],
            "text/plain": [
              "               count\n",
              "buisness_year       \n",
              "2019.0         40686\n",
              "2020.0          9309"
            ]
          },
          "metadata": {
            "tags": []
          },
          "execution_count": 2424
        }
      ]
    },
    {
      "cell_type": "code",
      "metadata": {
        "colab": {
          "base_uri": "https://localhost:8080/"
        },
        "id": "C0C47S2XQSdP",
        "outputId": "42fb5b24-3af8-4b7b-f92a-0adcd05a8571"
      },
      "source": [
        "data_unique.shape"
      ],
      "execution_count": 2425,
      "outputs": [
        {
          "output_type": "execute_result",
          "data": {
            "text/plain": [
              "(49995, 15)"
            ]
          },
          "metadata": {
            "tags": []
          },
          "execution_count": 2425
        }
      ]
    },
    {
      "cell_type": "code",
      "metadata": {
        "id": "kxnvGlMYy14I"
      },
      "source": [
        "#converting to datetime format\r\n",
        "data_unique['document_create_date']=pd.to_datetime(data_unique['document_create_date'].astype(int).astype(str))\r\n",
        "data_unique['clear_date']= pd.to_datetime(data_unique['clear_date'])\r\n",
        "data_unique['due_in_date']= pd.to_datetime(data_unique['due_in_date'].astype(int).astype(str))\r\n",
        "data_unique['document_create_date.1']= pd.to_datetime(data_unique['document_create_date.1'].astype(int).astype(str))\r\n",
        "data_unique['posting_date']= pd.to_datetime(data_unique['posting_date'])\r\n",
        "data_unique['baseline_create_date']= pd.to_datetime(data_unique['baseline_create_date'].astype(int).astype(str))\r\n"
      ],
      "execution_count": 2426,
      "outputs": []
    },
    {
      "cell_type": "code",
      "metadata": {
        "id": "mHKAH-IfwbpN"
      },
      "source": [
        "############splitting into test set and big dataset based on clear date##########3"
      ],
      "execution_count": 2427,
      "outputs": []
    },
    {
      "cell_type": "code",
      "metadata": {
        "colab": {
          "base_uri": "https://localhost:8080/",
          "height": 487
        },
        "id": "db1CDbbtUm6Q",
        "outputId": "1a2074c7-2d5a-43d9-cdae-1431dafefa42"
      },
      "source": [
        "#divide test set \r\n",
        "test_data=data_unique[data_unique.clear_date.isnull()].reset_index(drop=True)\r\n",
        "test_data"
      ],
      "execution_count": 2428,
      "outputs": [
        {
          "output_type": "execute_result",
          "data": {
            "text/html": [
              "<div>\n",
              "<style scoped>\n",
              "    .dataframe tbody tr th:only-of-type {\n",
              "        vertical-align: middle;\n",
              "    }\n",
              "\n",
              "    .dataframe tbody tr th {\n",
              "        vertical-align: top;\n",
              "    }\n",
              "\n",
              "    .dataframe thead th {\n",
              "        text-align: right;\n",
              "    }\n",
              "</style>\n",
              "<table border=\"1\" class=\"dataframe\">\n",
              "  <thead>\n",
              "    <tr style=\"text-align: right;\">\n",
              "      <th></th>\n",
              "      <th>business_code</th>\n",
              "      <th>cust_number</th>\n",
              "      <th>name_customer</th>\n",
              "      <th>clear_date</th>\n",
              "      <th>buisness_year</th>\n",
              "      <th>doc_id</th>\n",
              "      <th>posting_date</th>\n",
              "      <th>document_create_date</th>\n",
              "      <th>document_create_date.1</th>\n",
              "      <th>due_in_date</th>\n",
              "      <th>invoice_currency</th>\n",
              "      <th>total_open_amount</th>\n",
              "      <th>baseline_create_date</th>\n",
              "      <th>cust_payment_terms</th>\n",
              "      <th>isOpen</th>\n",
              "    </tr>\n",
              "  </thead>\n",
              "  <tbody>\n",
              "    <tr>\n",
              "      <th>0</th>\n",
              "      <td>U001</td>\n",
              "      <td>0200397526</td>\n",
              "      <td>JAKE corp</td>\n",
              "      <td>NaT</td>\n",
              "      <td>2020</td>\n",
              "      <td>1.93074e+09</td>\n",
              "      <td>2020-04-07</td>\n",
              "      <td>2020-04-03</td>\n",
              "      <td>2020-04-07</td>\n",
              "      <td>2020-04-22</td>\n",
              "      <td>USD</td>\n",
              "      <td>37738.7</td>\n",
              "      <td>2020-04-07</td>\n",
              "      <td>NAA8</td>\n",
              "      <td>1</td>\n",
              "    </tr>\n",
              "    <tr>\n",
              "      <th>1</th>\n",
              "      <td>U001</td>\n",
              "      <td>0200743123</td>\n",
              "      <td>KROGER foundation</td>\n",
              "      <td>NaT</td>\n",
              "      <td>2020</td>\n",
              "      <td>1.93085e+09</td>\n",
              "      <td>2020-05-02</td>\n",
              "      <td>2020-05-02</td>\n",
              "      <td>2020-05-02</td>\n",
              "      <td>2020-05-17</td>\n",
              "      <td>USD</td>\n",
              "      <td>42002</td>\n",
              "      <td>2020-05-02</td>\n",
              "      <td>NAA8</td>\n",
              "      <td>1</td>\n",
              "    </tr>\n",
              "    <tr>\n",
              "      <th>2</th>\n",
              "      <td>U001</td>\n",
              "      <td>0200780383</td>\n",
              "      <td>MEIJ systems</td>\n",
              "      <td>NaT</td>\n",
              "      <td>2020</td>\n",
              "      <td>1.93072e+09</td>\n",
              "      <td>2020-03-31</td>\n",
              "      <td>2020-03-31</td>\n",
              "      <td>2020-03-31</td>\n",
              "      <td>2020-04-15</td>\n",
              "      <td>USD</td>\n",
              "      <td>137221</td>\n",
              "      <td>2020-03-31</td>\n",
              "      <td>NAA8</td>\n",
              "      <td>1</td>\n",
              "    </tr>\n",
              "    <tr>\n",
              "      <th>3</th>\n",
              "      <td>U001</td>\n",
              "      <td>0200769623</td>\n",
              "      <td>WAL-MAR us</td>\n",
              "      <td>NaT</td>\n",
              "      <td>2020</td>\n",
              "      <td>1.93081e+09</td>\n",
              "      <td>2020-04-22</td>\n",
              "      <td>2020-04-22</td>\n",
              "      <td>2020-04-22</td>\n",
              "      <td>2020-05-07</td>\n",
              "      <td>USD</td>\n",
              "      <td>45754.8</td>\n",
              "      <td>2020-04-22</td>\n",
              "      <td>NAH4</td>\n",
              "      <td>1</td>\n",
              "    </tr>\n",
              "    <tr>\n",
              "      <th>4</th>\n",
              "      <td>U001</td>\n",
              "      <td>0200769623</td>\n",
              "      <td>WAL-MAR corporation</td>\n",
              "      <td>NaT</td>\n",
              "      <td>2020</td>\n",
              "      <td>1.93068e+09</td>\n",
              "      <td>2020-03-22</td>\n",
              "      <td>2020-03-20</td>\n",
              "      <td>2020-03-22</td>\n",
              "      <td>2020-04-06</td>\n",
              "      <td>USD</td>\n",
              "      <td>6223.23</td>\n",
              "      <td>2020-03-22</td>\n",
              "      <td>NAH4</td>\n",
              "      <td>1</td>\n",
              "    </tr>\n",
              "    <tr>\n",
              "      <th>...</th>\n",
              "      <td>...</td>\n",
              "      <td>...</td>\n",
              "      <td>...</td>\n",
              "      <td>...</td>\n",
              "      <td>...</td>\n",
              "      <td>...</td>\n",
              "      <td>...</td>\n",
              "      <td>...</td>\n",
              "      <td>...</td>\n",
              "      <td>...</td>\n",
              "      <td>...</td>\n",
              "      <td>...</td>\n",
              "      <td>...</td>\n",
              "      <td>...</td>\n",
              "      <td>...</td>\n",
              "    </tr>\n",
              "    <tr>\n",
              "      <th>3233</th>\n",
              "      <td>U001</td>\n",
              "      <td>0200861551</td>\n",
              "      <td>MRS GR in</td>\n",
              "      <td>NaT</td>\n",
              "      <td>2020</td>\n",
              "      <td>1.93057e+09</td>\n",
              "      <td>2020-03-04</td>\n",
              "      <td>2020-03-02</td>\n",
              "      <td>2020-03-04</td>\n",
              "      <td>2020-03-19</td>\n",
              "      <td>USD</td>\n",
              "      <td>40758.1</td>\n",
              "      <td>2020-03-04</td>\n",
              "      <td>NAA8</td>\n",
              "      <td>1</td>\n",
              "    </tr>\n",
              "    <tr>\n",
              "      <th>3234</th>\n",
              "      <td>U001</td>\n",
              "      <td>0200769623</td>\n",
              "      <td>WAL-MAR foundation</td>\n",
              "      <td>NaT</td>\n",
              "      <td>2020</td>\n",
              "      <td>1.93064e+09</td>\n",
              "      <td>2020-03-13</td>\n",
              "      <td>2020-03-11</td>\n",
              "      <td>2020-03-13</td>\n",
              "      <td>2020-03-28</td>\n",
              "      <td>USD</td>\n",
              "      <td>14981.1</td>\n",
              "      <td>2020-03-13</td>\n",
              "      <td>NAH4</td>\n",
              "      <td>1</td>\n",
              "    </tr>\n",
              "    <tr>\n",
              "      <th>3235</th>\n",
              "      <td>U001</td>\n",
              "      <td>200965912</td>\n",
              "      <td>C&amp;S W</td>\n",
              "      <td>NaT</td>\n",
              "      <td>2020</td>\n",
              "      <td>1.93086e+09</td>\n",
              "      <td>2020-05-05</td>\n",
              "      <td>2020-05-05</td>\n",
              "      <td>2020-05-05</td>\n",
              "      <td>2020-05-20</td>\n",
              "      <td>USD</td>\n",
              "      <td>14514.3</td>\n",
              "      <td>2020-05-05</td>\n",
              "      <td>NAC6</td>\n",
              "      <td>1</td>\n",
              "    </tr>\n",
              "    <tr>\n",
              "      <th>3236</th>\n",
              "      <td>U001</td>\n",
              "      <td>0200820380</td>\n",
              "      <td>SMITH'S trust</td>\n",
              "      <td>NaT</td>\n",
              "      <td>2020</td>\n",
              "      <td>1.9308e+09</td>\n",
              "      <td>2020-04-21</td>\n",
              "      <td>2020-04-20</td>\n",
              "      <td>2020-04-21</td>\n",
              "      <td>2020-05-06</td>\n",
              "      <td>USD</td>\n",
              "      <td>40345.4</td>\n",
              "      <td>2020-04-21</td>\n",
              "      <td>NAA8</td>\n",
              "      <td>1</td>\n",
              "    </tr>\n",
              "    <tr>\n",
              "      <th>3237</th>\n",
              "      <td>U001</td>\n",
              "      <td>0200759878</td>\n",
              "      <td>SA</td>\n",
              "      <td>NaT</td>\n",
              "      <td>2020</td>\n",
              "      <td>1.93059e+09</td>\n",
              "      <td>2020-03-03</td>\n",
              "      <td>2020-03-03</td>\n",
              "      <td>2020-03-03</td>\n",
              "      <td>2020-03-18</td>\n",
              "      <td>USD</td>\n",
              "      <td>46054.9</td>\n",
              "      <td>2020-03-03</td>\n",
              "      <td>NAH4</td>\n",
              "      <td>1</td>\n",
              "    </tr>\n",
              "  </tbody>\n",
              "</table>\n",
              "<p>3238 rows × 15 columns</p>\n",
              "</div>"
            ],
            "text/plain": [
              "     business_code cust_number  ... cust_payment_terms isOpen\n",
              "0             U001  0200397526  ...               NAA8      1\n",
              "1             U001  0200743123  ...               NAA8      1\n",
              "2             U001  0200780383  ...               NAA8      1\n",
              "3             U001  0200769623  ...               NAH4      1\n",
              "4             U001  0200769623  ...               NAH4      1\n",
              "...            ...         ...  ...                ...    ...\n",
              "3233          U001  0200861551  ...               NAA8      1\n",
              "3234          U001  0200769623  ...               NAH4      1\n",
              "3235          U001   200965912  ...               NAC6      1\n",
              "3236          U001  0200820380  ...               NAA8      1\n",
              "3237          U001  0200759878  ...               NAH4      1\n",
              "\n",
              "[3238 rows x 15 columns]"
            ]
          },
          "metadata": {
            "tags": []
          },
          "execution_count": 2428
        }
      ]
    },
    {
      "cell_type": "code",
      "metadata": {
        "colab": {
          "base_uri": "https://localhost:8080/",
          "height": 470
        },
        "id": "1RmBhwqPVecW",
        "outputId": "fddc6509-0b61-4213-d252-61510c86d141"
      },
      "source": [
        "#creating rest bigdata set\r\n",
        "big_set=data_unique[data_unique.clear_date.notnull()].reset_index(drop=True)\r\n",
        "big_set"
      ],
      "execution_count": 2429,
      "outputs": [
        {
          "output_type": "execute_result",
          "data": {
            "text/html": [
              "<div>\n",
              "<style scoped>\n",
              "    .dataframe tbody tr th:only-of-type {\n",
              "        vertical-align: middle;\n",
              "    }\n",
              "\n",
              "    .dataframe tbody tr th {\n",
              "        vertical-align: top;\n",
              "    }\n",
              "\n",
              "    .dataframe thead th {\n",
              "        text-align: right;\n",
              "    }\n",
              "</style>\n",
              "<table border=\"1\" class=\"dataframe\">\n",
              "  <thead>\n",
              "    <tr style=\"text-align: right;\">\n",
              "      <th></th>\n",
              "      <th>business_code</th>\n",
              "      <th>cust_number</th>\n",
              "      <th>name_customer</th>\n",
              "      <th>clear_date</th>\n",
              "      <th>buisness_year</th>\n",
              "      <th>doc_id</th>\n",
              "      <th>posting_date</th>\n",
              "      <th>document_create_date</th>\n",
              "      <th>document_create_date.1</th>\n",
              "      <th>due_in_date</th>\n",
              "      <th>invoice_currency</th>\n",
              "      <th>total_open_amount</th>\n",
              "      <th>baseline_create_date</th>\n",
              "      <th>cust_payment_terms</th>\n",
              "      <th>isOpen</th>\n",
              "    </tr>\n",
              "  </thead>\n",
              "  <tbody>\n",
              "    <tr>\n",
              "      <th>0</th>\n",
              "      <td>U001</td>\n",
              "      <td>0200705742</td>\n",
              "      <td>DOT us</td>\n",
              "      <td>2019-02-06</td>\n",
              "      <td>2019</td>\n",
              "      <td>1.92866e+09</td>\n",
              "      <td>2019-01-22</td>\n",
              "      <td>2019-01-21</td>\n",
              "      <td>2019-01-22</td>\n",
              "      <td>2019-02-11</td>\n",
              "      <td>USD</td>\n",
              "      <td>2079.55</td>\n",
              "      <td>2019-01-22</td>\n",
              "      <td>NAD1</td>\n",
              "      <td>0</td>\n",
              "    </tr>\n",
              "    <tr>\n",
              "      <th>1</th>\n",
              "      <td>U001</td>\n",
              "      <td>0200803720</td>\n",
              "      <td>DEC trust</td>\n",
              "      <td>2019-05-01</td>\n",
              "      <td>2019</td>\n",
              "      <td>1.92921e+09</td>\n",
              "      <td>2019-04-26</td>\n",
              "      <td>2019-04-26</td>\n",
              "      <td>2019-04-26</td>\n",
              "      <td>2019-05-09</td>\n",
              "      <td>USD</td>\n",
              "      <td>68.52</td>\n",
              "      <td>2019-04-16</td>\n",
              "      <td>NAM4</td>\n",
              "      <td>0</td>\n",
              "    </tr>\n",
              "    <tr>\n",
              "      <th>2</th>\n",
              "      <td>U001</td>\n",
              "      <td>0200592182</td>\n",
              "      <td>DECA co</td>\n",
              "      <td>2019-06-03</td>\n",
              "      <td>2019</td>\n",
              "      <td>1.92938e+09</td>\n",
              "      <td>2019-05-25</td>\n",
              "      <td>2019-05-25</td>\n",
              "      <td>2019-05-25</td>\n",
              "      <td>2019-06-08</td>\n",
              "      <td>USD</td>\n",
              "      <td>1677.82</td>\n",
              "      <td>2019-05-16</td>\n",
              "      <td>NAM4</td>\n",
              "      <td>0</td>\n",
              "    </tr>\n",
              "    <tr>\n",
              "      <th>3</th>\n",
              "      <td>U001</td>\n",
              "      <td>0200769623</td>\n",
              "      <td>WAL-MAR associates</td>\n",
              "      <td>2019-02-20</td>\n",
              "      <td>2019</td>\n",
              "      <td>1.92877e+09</td>\n",
              "      <td>2019-02-09</td>\n",
              "      <td>2019-02-08</td>\n",
              "      <td>2019-02-09</td>\n",
              "      <td>2019-02-24</td>\n",
              "      <td>USD</td>\n",
              "      <td>66906.8</td>\n",
              "      <td>2019-02-09</td>\n",
              "      <td>NAH4</td>\n",
              "      <td>0</td>\n",
              "    </tr>\n",
              "    <tr>\n",
              "      <th>4</th>\n",
              "      <td>U001</td>\n",
              "      <td>200769623</td>\n",
              "      <td>WAL-MAR in</td>\n",
              "      <td>2019-06-12</td>\n",
              "      <td>2019</td>\n",
              "      <td>1.92941e+09</td>\n",
              "      <td>2019-06-01</td>\n",
              "      <td>2019-05-30</td>\n",
              "      <td>2019-06-01</td>\n",
              "      <td>2019-06-16</td>\n",
              "      <td>USD</td>\n",
              "      <td>65593.9</td>\n",
              "      <td>2019-06-01</td>\n",
              "      <td>NAH4</td>\n",
              "      <td>0</td>\n",
              "    </tr>\n",
              "    <tr>\n",
              "      <th>...</th>\n",
              "      <td>...</td>\n",
              "      <td>...</td>\n",
              "      <td>...</td>\n",
              "      <td>...</td>\n",
              "      <td>...</td>\n",
              "      <td>...</td>\n",
              "      <td>...</td>\n",
              "      <td>...</td>\n",
              "      <td>...</td>\n",
              "      <td>...</td>\n",
              "      <td>...</td>\n",
              "      <td>...</td>\n",
              "      <td>...</td>\n",
              "      <td>...</td>\n",
              "      <td>...</td>\n",
              "    </tr>\n",
              "    <tr>\n",
              "      <th>46752</th>\n",
              "      <td>U001</td>\n",
              "      <td>0200771157</td>\n",
              "      <td>WEIS associates</td>\n",
              "      <td>2019-08-30</td>\n",
              "      <td>2019</td>\n",
              "      <td>1.92975e+09</td>\n",
              "      <td>2019-08-14</td>\n",
              "      <td>2019-08-15</td>\n",
              "      <td>2019-08-14</td>\n",
              "      <td>2019-08-29</td>\n",
              "      <td>USD</td>\n",
              "      <td>58119.4</td>\n",
              "      <td>2019-08-14</td>\n",
              "      <td>NAA8</td>\n",
              "      <td>0</td>\n",
              "    </tr>\n",
              "    <tr>\n",
              "      <th>46753</th>\n",
              "      <td>U001</td>\n",
              "      <td>200786288</td>\n",
              "      <td>FAMILY</td>\n",
              "      <td>2019-07-08</td>\n",
              "      <td>2019</td>\n",
              "      <td>1.92953e+09</td>\n",
              "      <td>2019-06-24</td>\n",
              "      <td>2019-06-23</td>\n",
              "      <td>2019-06-24</td>\n",
              "      <td>2019-07-09</td>\n",
              "      <td>USD</td>\n",
              "      <td>11770.5</td>\n",
              "      <td>2019-06-24</td>\n",
              "      <td>NAC6</td>\n",
              "      <td>0</td>\n",
              "    </tr>\n",
              "    <tr>\n",
              "      <th>46754</th>\n",
              "      <td>U001</td>\n",
              "      <td>0200769623</td>\n",
              "      <td>WAL-MAR co</td>\n",
              "      <td>2019-07-03</td>\n",
              "      <td>2019</td>\n",
              "      <td>1.92953e+09</td>\n",
              "      <td>2019-06-23</td>\n",
              "      <td>2019-06-21</td>\n",
              "      <td>2019-06-23</td>\n",
              "      <td>2019-07-08</td>\n",
              "      <td>USD</td>\n",
              "      <td>70346.5</td>\n",
              "      <td>2019-06-23</td>\n",
              "      <td>NAH4</td>\n",
              "      <td>0</td>\n",
              "    </tr>\n",
              "    <tr>\n",
              "      <th>46755</th>\n",
              "      <td>U001</td>\n",
              "      <td>0200749225</td>\n",
              "      <td>SUPER</td>\n",
              "      <td>2019-01-17</td>\n",
              "      <td>2019</td>\n",
              "      <td>1.92855e+09</td>\n",
              "      <td>2019-01-02</td>\n",
              "      <td>2019-01-02</td>\n",
              "      <td>2019-01-02</td>\n",
              "      <td>2019-01-17</td>\n",
              "      <td>USD</td>\n",
              "      <td>135678</td>\n",
              "      <td>2019-01-02</td>\n",
              "      <td>NAA8</td>\n",
              "      <td>0</td>\n",
              "    </tr>\n",
              "    <tr>\n",
              "      <th>46756</th>\n",
              "      <td>U001</td>\n",
              "      <td>0200769369</td>\n",
              "      <td>DI associates</td>\n",
              "      <td>2019-03-22</td>\n",
              "      <td>2019</td>\n",
              "      <td>1.92892e+09</td>\n",
              "      <td>2019-03-07</td>\n",
              "      <td>2019-03-07</td>\n",
              "      <td>2019-03-07</td>\n",
              "      <td>2019-03-22</td>\n",
              "      <td>USD</td>\n",
              "      <td>32677.6</td>\n",
              "      <td>2019-03-07</td>\n",
              "      <td>NAA8</td>\n",
              "      <td>0</td>\n",
              "    </tr>\n",
              "  </tbody>\n",
              "</table>\n",
              "<p>46757 rows × 15 columns</p>\n",
              "</div>"
            ],
            "text/plain": [
              "      business_code cust_number  ... cust_payment_terms isOpen\n",
              "0              U001  0200705742  ...               NAD1      0\n",
              "1              U001  0200803720  ...               NAM4      0\n",
              "2              U001  0200592182  ...               NAM4      0\n",
              "3              U001  0200769623  ...               NAH4      0\n",
              "4              U001   200769623  ...               NAH4      0\n",
              "...             ...         ...  ...                ...    ...\n",
              "46752          U001  0200771157  ...               NAA8      0\n",
              "46753          U001   200786288  ...               NAC6      0\n",
              "46754          U001  0200769623  ...               NAH4      0\n",
              "46755          U001  0200749225  ...               NAA8      0\n",
              "46756          U001  0200769369  ...               NAA8      0\n",
              "\n",
              "[46757 rows x 15 columns]"
            ]
          },
          "metadata": {
            "tags": []
          },
          "execution_count": 2429
        }
      ]
    },
    {
      "cell_type": "code",
      "metadata": {
        "colab": {
          "base_uri": "https://localhost:8080/",
          "height": 69
        },
        "id": "F9qm6KyOgMJq",
        "outputId": "85173aec-a995-408a-bd01-912f07098135"
      },
      "source": [
        "df1=big_set[big_set['document_create_date.1']>big_set['clear_date']] ##checking if create date.1 is after than clear date\r\n",
        "df1"
      ],
      "execution_count": 2430,
      "outputs": [
        {
          "output_type": "execute_result",
          "data": {
            "text/html": [
              "<div>\n",
              "<style scoped>\n",
              "    .dataframe tbody tr th:only-of-type {\n",
              "        vertical-align: middle;\n",
              "    }\n",
              "\n",
              "    .dataframe tbody tr th {\n",
              "        vertical-align: top;\n",
              "    }\n",
              "\n",
              "    .dataframe thead th {\n",
              "        text-align: right;\n",
              "    }\n",
              "</style>\n",
              "<table border=\"1\" class=\"dataframe\">\n",
              "  <thead>\n",
              "    <tr style=\"text-align: right;\">\n",
              "      <th></th>\n",
              "      <th>business_code</th>\n",
              "      <th>cust_number</th>\n",
              "      <th>name_customer</th>\n",
              "      <th>clear_date</th>\n",
              "      <th>buisness_year</th>\n",
              "      <th>doc_id</th>\n",
              "      <th>posting_date</th>\n",
              "      <th>document_create_date</th>\n",
              "      <th>document_create_date.1</th>\n",
              "      <th>due_in_date</th>\n",
              "      <th>invoice_currency</th>\n",
              "      <th>total_open_amount</th>\n",
              "      <th>baseline_create_date</th>\n",
              "      <th>cust_payment_terms</th>\n",
              "      <th>isOpen</th>\n",
              "    </tr>\n",
              "  </thead>\n",
              "  <tbody>\n",
              "  </tbody>\n",
              "</table>\n",
              "</div>"
            ],
            "text/plain": [
              "Empty DataFrame\n",
              "Columns: [business_code, cust_number, name_customer, clear_date, buisness_year, doc_id, posting_date, document_create_date, document_create_date.1, due_in_date, invoice_currency, total_open_amount, baseline_create_date, cust_payment_terms, isOpen]\n",
              "Index: []"
            ]
          },
          "metadata": {
            "tags": []
          },
          "execution_count": 2430
        }
      ]
    },
    {
      "cell_type": "code",
      "metadata": {
        "colab": {
          "base_uri": "https://localhost:8080/"
        },
        "id": "B1GjF6AHDQp3",
        "outputId": "eadc0d86-d9ad-4ac3-8026-54b57a0806a6"
      },
      "source": [
        "#Finding min and max dates of create dat.1 of test case\r\n",
        "min_dt_test=test_data['document_create_date.1'].min()\r\n",
        "max_dt_test=test_data['document_create_date.1'].max()\r\n",
        "print(\"Min create date 1\",min_dt_test,\"Max create date 1\",max_dt_test)"
      ],
      "execution_count": 2431,
      "outputs": [
        {
          "output_type": "stream",
          "text": [
            "Min create date 1 2020-02-27 00:00:00 Max create date 1 2020-05-16 00:00:00\n"
          ],
          "name": "stdout"
        }
      ]
    },
    {
      "cell_type": "code",
      "metadata": {
        "colab": {
          "base_uri": "https://localhost:8080/"
        },
        "id": "Qlf-xWFxEHs6",
        "outputId": "845697e9-04b2-46bd-bf4a-16227bef3dde"
      },
      "source": [
        "#Finding min and max dates of create dat.1 of big_set\r\n",
        "min_dt_big=big_set['document_create_date.1'].min()\r\n",
        "max_dt_big=big_set['document_create_date.1'].max()\r\n",
        "print(\"Min create date 1\",min_dt_big,\"Max create date 1\",max_dt_big)"
      ],
      "execution_count": 2432,
      "outputs": [
        {
          "output_type": "stream",
          "text": [
            "Min create date 1 2018-12-30 00:00:00 Max create date 1 2020-02-27 00:00:00\n"
          ],
          "name": "stdout"
        }
      ]
    },
    {
      "cell_type": "code",
      "metadata": {
        "colab": {
          "base_uri": "https://localhost:8080/"
        },
        "id": "7iiePOc_GpG4",
        "outputId": "d338b3ef-415a-49c0-80de-74ee06112c58"
      },
      "source": [
        "test_data.shape"
      ],
      "execution_count": 2433,
      "outputs": [
        {
          "output_type": "execute_result",
          "data": {
            "text/plain": [
              "(3238, 15)"
            ]
          },
          "metadata": {
            "tags": []
          },
          "execution_count": 2433
        }
      ]
    },
    {
      "cell_type": "code",
      "metadata": {
        "id": "f5WeDh6AK9os"
      },
      "source": [
        "###################splitting big_set to train set, val2, val1 based on document_create_date.1####################"
      ],
      "execution_count": 2434,
      "outputs": []
    },
    {
      "cell_type": "code",
      "metadata": {
        "colab": {
          "base_uri": "https://localhost:8080/"
        },
        "id": "LNTVE_opFJTY",
        "outputId": "d5dd4b8c-e0a1-4a05-c933-f71a36c8a825"
      },
      "source": [
        "#splitting to validation set 2\r\n",
        "val2=big_set[big_set['document_create_date.1'] >= '2020-01-16'].copy()\r\n",
        "val2.shape"
      ],
      "execution_count": 2435,
      "outputs": [
        {
          "output_type": "execute_result",
          "data": {
            "text/plain": [
              "(4452, 15)"
            ]
          },
          "metadata": {
            "tags": []
          },
          "execution_count": 2435
        }
      ]
    },
    {
      "cell_type": "code",
      "metadata": {
        "colab": {
          "base_uri": "https://localhost:8080/",
          "height": 505
        },
        "id": "GQQtz4BUO_Cz",
        "outputId": "dff162d5-6973-4f26-bee0-675c8b902723"
      },
      "source": [
        "val2.reset_index(drop=True)"
      ],
      "execution_count": 2436,
      "outputs": [
        {
          "output_type": "execute_result",
          "data": {
            "text/html": [
              "<div>\n",
              "<style scoped>\n",
              "    .dataframe tbody tr th:only-of-type {\n",
              "        vertical-align: middle;\n",
              "    }\n",
              "\n",
              "    .dataframe tbody tr th {\n",
              "        vertical-align: top;\n",
              "    }\n",
              "\n",
              "    .dataframe thead th {\n",
              "        text-align: right;\n",
              "    }\n",
              "</style>\n",
              "<table border=\"1\" class=\"dataframe\">\n",
              "  <thead>\n",
              "    <tr style=\"text-align: right;\">\n",
              "      <th></th>\n",
              "      <th>business_code</th>\n",
              "      <th>cust_number</th>\n",
              "      <th>name_customer</th>\n",
              "      <th>clear_date</th>\n",
              "      <th>buisness_year</th>\n",
              "      <th>doc_id</th>\n",
              "      <th>posting_date</th>\n",
              "      <th>document_create_date</th>\n",
              "      <th>document_create_date.1</th>\n",
              "      <th>due_in_date</th>\n",
              "      <th>invoice_currency</th>\n",
              "      <th>total_open_amount</th>\n",
              "      <th>baseline_create_date</th>\n",
              "      <th>cust_payment_terms</th>\n",
              "      <th>isOpen</th>\n",
              "    </tr>\n",
              "  </thead>\n",
              "  <tbody>\n",
              "    <tr>\n",
              "      <th>0</th>\n",
              "      <td>U001</td>\n",
              "      <td>0200956366</td>\n",
              "      <td>RICH foundation</td>\n",
              "      <td>2020-02-28</td>\n",
              "      <td>2020</td>\n",
              "      <td>1.93051e+09</td>\n",
              "      <td>2020-02-13</td>\n",
              "      <td>2020-02-11</td>\n",
              "      <td>2020-02-13</td>\n",
              "      <td>2020-02-28</td>\n",
              "      <td>USD</td>\n",
              "      <td>41116.7</td>\n",
              "      <td>2020-02-13</td>\n",
              "      <td>NAA8</td>\n",
              "      <td>0</td>\n",
              "    </tr>\n",
              "    <tr>\n",
              "      <th>1</th>\n",
              "      <td>U001</td>\n",
              "      <td>0200769623</td>\n",
              "      <td>WAL-MAR us</td>\n",
              "      <td>2020-02-18</td>\n",
              "      <td>2020</td>\n",
              "      <td>1.9305e+09</td>\n",
              "      <td>2020-02-06</td>\n",
              "      <td>2020-02-07</td>\n",
              "      <td>2020-02-06</td>\n",
              "      <td>2020-02-21</td>\n",
              "      <td>USD</td>\n",
              "      <td>1329.23</td>\n",
              "      <td>2020-02-06</td>\n",
              "      <td>NAH4</td>\n",
              "      <td>0</td>\n",
              "    </tr>\n",
              "    <tr>\n",
              "      <th>2</th>\n",
              "      <td>CA02</td>\n",
              "      <td>0140104429</td>\n",
              "      <td>COSTCO us</td>\n",
              "      <td>2020-02-28</td>\n",
              "      <td>2020</td>\n",
              "      <td>2.96061e+09</td>\n",
              "      <td>2020-02-15</td>\n",
              "      <td>2020-02-15</td>\n",
              "      <td>2020-02-15</td>\n",
              "      <td>2020-02-27</td>\n",
              "      <td>CAD</td>\n",
              "      <td>19307.2</td>\n",
              "      <td>2020-02-17</td>\n",
              "      <td>CA10</td>\n",
              "      <td>0</td>\n",
              "    </tr>\n",
              "    <tr>\n",
              "      <th>3</th>\n",
              "      <td>U001</td>\n",
              "      <td>0200769623</td>\n",
              "      <td>WAL-MAR corporation</td>\n",
              "      <td>2020-02-19</td>\n",
              "      <td>2020</td>\n",
              "      <td>1.93044e+09</td>\n",
              "      <td>2020-01-27</td>\n",
              "      <td>2020-01-27</td>\n",
              "      <td>2020-01-27</td>\n",
              "      <td>2020-02-11</td>\n",
              "      <td>USD</td>\n",
              "      <td>68543.1</td>\n",
              "      <td>2020-01-27</td>\n",
              "      <td>NAH4</td>\n",
              "      <td>0</td>\n",
              "    </tr>\n",
              "    <tr>\n",
              "      <th>4</th>\n",
              "      <td>U001</td>\n",
              "      <td>0200148860</td>\n",
              "      <td>DOLLA in</td>\n",
              "      <td>2020-02-25</td>\n",
              "      <td>2020</td>\n",
              "      <td>1.9305e+09</td>\n",
              "      <td>2020-02-10</td>\n",
              "      <td>2020-02-09</td>\n",
              "      <td>2020-02-10</td>\n",
              "      <td>2020-04-15</td>\n",
              "      <td>USD</td>\n",
              "      <td>9930.77</td>\n",
              "      <td>2020-02-10</td>\n",
              "      <td>NAGD</td>\n",
              "      <td>0</td>\n",
              "    </tr>\n",
              "    <tr>\n",
              "      <th>...</th>\n",
              "      <td>...</td>\n",
              "      <td>...</td>\n",
              "      <td>...</td>\n",
              "      <td>...</td>\n",
              "      <td>...</td>\n",
              "      <td>...</td>\n",
              "      <td>...</td>\n",
              "      <td>...</td>\n",
              "      <td>...</td>\n",
              "      <td>...</td>\n",
              "      <td>...</td>\n",
              "      <td>...</td>\n",
              "      <td>...</td>\n",
              "      <td>...</td>\n",
              "      <td>...</td>\n",
              "    </tr>\n",
              "    <tr>\n",
              "      <th>4447</th>\n",
              "      <td>U001</td>\n",
              "      <td>0200794332</td>\n",
              "      <td>COST corporation</td>\n",
              "      <td>2020-02-19</td>\n",
              "      <td>2020</td>\n",
              "      <td>1.93047e+09</td>\n",
              "      <td>2020-02-04</td>\n",
              "      <td>2020-02-02</td>\n",
              "      <td>2020-02-04</td>\n",
              "      <td>2020-02-19</td>\n",
              "      <td>USD</td>\n",
              "      <td>40212.1</td>\n",
              "      <td>2020-02-04</td>\n",
              "      <td>NAAX</td>\n",
              "      <td>0</td>\n",
              "    </tr>\n",
              "    <tr>\n",
              "      <th>4448</th>\n",
              "      <td>U001</td>\n",
              "      <td>0200726979</td>\n",
              "      <td>BJ'S  in</td>\n",
              "      <td>2020-02-03</td>\n",
              "      <td>2020</td>\n",
              "      <td>1.93041e+09</td>\n",
              "      <td>2020-01-17</td>\n",
              "      <td>2020-01-16</td>\n",
              "      <td>2020-01-17</td>\n",
              "      <td>2020-02-01</td>\n",
              "      <td>USD</td>\n",
              "      <td>110.43</td>\n",
              "      <td>2020-01-17</td>\n",
              "      <td>NAA8</td>\n",
              "      <td>0</td>\n",
              "    </tr>\n",
              "    <tr>\n",
              "      <th>4449</th>\n",
              "      <td>U001</td>\n",
              "      <td>0200797984</td>\n",
              "      <td>PIGGLY foundation</td>\n",
              "      <td>2020-03-02</td>\n",
              "      <td>2020</td>\n",
              "      <td>1.93052e+09</td>\n",
              "      <td>2020-02-14</td>\n",
              "      <td>2020-02-14</td>\n",
              "      <td>2020-02-14</td>\n",
              "      <td>2020-02-29</td>\n",
              "      <td>USD</td>\n",
              "      <td>41004.6</td>\n",
              "      <td>2020-02-14</td>\n",
              "      <td>NAA8</td>\n",
              "      <td>0</td>\n",
              "    </tr>\n",
              "    <tr>\n",
              "      <th>4450</th>\n",
              "      <td>U001</td>\n",
              "      <td>0200759878</td>\n",
              "      <td>SA corp</td>\n",
              "      <td>2020-02-21</td>\n",
              "      <td>2020</td>\n",
              "      <td>1.93048e+09</td>\n",
              "      <td>2020-02-05</td>\n",
              "      <td>2020-02-04</td>\n",
              "      <td>2020-02-05</td>\n",
              "      <td>2020-02-20</td>\n",
              "      <td>USD</td>\n",
              "      <td>14257.9</td>\n",
              "      <td>2020-02-05</td>\n",
              "      <td>NAH4</td>\n",
              "      <td>0</td>\n",
              "    </tr>\n",
              "    <tr>\n",
              "      <th>4451</th>\n",
              "      <td>U001</td>\n",
              "      <td>0200799367</td>\n",
              "      <td>MCL foundation</td>\n",
              "      <td>2020-02-06</td>\n",
              "      <td>2020</td>\n",
              "      <td>1.93042e+09</td>\n",
              "      <td>2020-01-22</td>\n",
              "      <td>2020-01-21</td>\n",
              "      <td>2020-01-22</td>\n",
              "      <td>2020-02-06</td>\n",
              "      <td>USD</td>\n",
              "      <td>52010.2</td>\n",
              "      <td>2020-01-22</td>\n",
              "      <td>NAA8</td>\n",
              "      <td>0</td>\n",
              "    </tr>\n",
              "  </tbody>\n",
              "</table>\n",
              "<p>4452 rows × 15 columns</p>\n",
              "</div>"
            ],
            "text/plain": [
              "     business_code cust_number  ... cust_payment_terms isOpen\n",
              "0             U001  0200956366  ...               NAA8      0\n",
              "1             U001  0200769623  ...               NAH4      0\n",
              "2             CA02  0140104429  ...               CA10      0\n",
              "3             U001  0200769623  ...               NAH4      0\n",
              "4             U001  0200148860  ...               NAGD      0\n",
              "...            ...         ...  ...                ...    ...\n",
              "4447          U001  0200794332  ...               NAAX      0\n",
              "4448          U001  0200726979  ...               NAA8      0\n",
              "4449          U001  0200797984  ...               NAA8      0\n",
              "4450          U001  0200759878  ...               NAH4      0\n",
              "4451          U001  0200799367  ...               NAA8      0\n",
              "\n",
              "[4452 rows x 15 columns]"
            ]
          },
          "metadata": {
            "tags": []
          },
          "execution_count": 2436
        }
      ]
    },
    {
      "cell_type": "code",
      "metadata": {
        "colab": {
          "base_uri": "https://localhost:8080/"
        },
        "id": "jJIn-w7YGv_8",
        "outputId": "bd4fc37b-46b5-4702-fc5c-daf3815b241e"
      },
      "source": [
        "#removing validation set 2 from big_set\r\n",
        "big_set.drop(big_set[big_set['document_create_date.1'] >= '2020-01-16'].index, inplace = True)\r\n",
        "big_set['document_create_date.1'].max()"
      ],
      "execution_count": 2437,
      "outputs": [
        {
          "output_type": "execute_result",
          "data": {
            "text/plain": [
              "Timestamp('2020-01-15 00:00:00')"
            ]
          },
          "metadata": {
            "tags": []
          },
          "execution_count": 2437
        }
      ]
    },
    {
      "cell_type": "code",
      "metadata": {
        "colab": {
          "base_uri": "https://localhost:8080/"
        },
        "id": "r5G7BiBILLiO",
        "outputId": "cf2d81aa-24ce-4a31-adc6-5824bb779e4e"
      },
      "source": [
        "#splitting rest big set to val1 and train set\r\n",
        "val1=big_set[big_set['document_create_date.1'] >= '2019-12-05'].copy()\r\n",
        "val1.shape"
      ],
      "execution_count": 2438,
      "outputs": [
        {
          "output_type": "execute_result",
          "data": {
            "text/plain": [
              "(2987, 15)"
            ]
          },
          "metadata": {
            "tags": []
          },
          "execution_count": 2438
        }
      ]
    },
    {
      "cell_type": "code",
      "metadata": {
        "colab": {
          "base_uri": "https://localhost:8080/",
          "height": 470
        },
        "id": "AXY3az8HRLHy",
        "outputId": "773e08d9-30da-439a-862c-96d37b200c3f"
      },
      "source": [
        "val1.reset_index(drop=True)"
      ],
      "execution_count": 2439,
      "outputs": [
        {
          "output_type": "execute_result",
          "data": {
            "text/html": [
              "<div>\n",
              "<style scoped>\n",
              "    .dataframe tbody tr th:only-of-type {\n",
              "        vertical-align: middle;\n",
              "    }\n",
              "\n",
              "    .dataframe tbody tr th {\n",
              "        vertical-align: top;\n",
              "    }\n",
              "\n",
              "    .dataframe thead th {\n",
              "        text-align: right;\n",
              "    }\n",
              "</style>\n",
              "<table border=\"1\" class=\"dataframe\">\n",
              "  <thead>\n",
              "    <tr style=\"text-align: right;\">\n",
              "      <th></th>\n",
              "      <th>business_code</th>\n",
              "      <th>cust_number</th>\n",
              "      <th>name_customer</th>\n",
              "      <th>clear_date</th>\n",
              "      <th>buisness_year</th>\n",
              "      <th>doc_id</th>\n",
              "      <th>posting_date</th>\n",
              "      <th>document_create_date</th>\n",
              "      <th>document_create_date.1</th>\n",
              "      <th>due_in_date</th>\n",
              "      <th>invoice_currency</th>\n",
              "      <th>total_open_amount</th>\n",
              "      <th>baseline_create_date</th>\n",
              "      <th>cust_payment_terms</th>\n",
              "      <th>isOpen</th>\n",
              "    </tr>\n",
              "  </thead>\n",
              "  <tbody>\n",
              "    <tr>\n",
              "      <th>0</th>\n",
              "      <td>U001</td>\n",
              "      <td>0200936373</td>\n",
              "      <td>SUPE</td>\n",
              "      <td>2020-01-14</td>\n",
              "      <td>2020</td>\n",
              "      <td>1.93033e+09</td>\n",
              "      <td>2019-12-30</td>\n",
              "      <td>2019-12-30</td>\n",
              "      <td>2019-12-30</td>\n",
              "      <td>2020-01-14</td>\n",
              "      <td>USD</td>\n",
              "      <td>763.91</td>\n",
              "      <td>2019-12-30</td>\n",
              "      <td>NAA8</td>\n",
              "      <td>0</td>\n",
              "    </tr>\n",
              "    <tr>\n",
              "      <th>1</th>\n",
              "      <td>U001</td>\n",
              "      <td>0100031704</td>\n",
              "      <td>DELHAIZE co</td>\n",
              "      <td>2020-01-22</td>\n",
              "      <td>2020</td>\n",
              "      <td>1.93034e+09</td>\n",
              "      <td>2020-01-03</td>\n",
              "      <td>2020-01-02</td>\n",
              "      <td>2020-01-03</td>\n",
              "      <td>2020-01-18</td>\n",
              "      <td>USD</td>\n",
              "      <td>16909.7</td>\n",
              "      <td>2020-01-03</td>\n",
              "      <td>NAA8</td>\n",
              "      <td>0</td>\n",
              "    </tr>\n",
              "    <tr>\n",
              "      <th>2</th>\n",
              "      <td>U001</td>\n",
              "      <td>0200148860</td>\n",
              "      <td>DOLLA trust</td>\n",
              "      <td>2019-12-30</td>\n",
              "      <td>2019</td>\n",
              "      <td>1.93027e+09</td>\n",
              "      <td>2019-12-15</td>\n",
              "      <td>2019-12-11</td>\n",
              "      <td>2019-12-15</td>\n",
              "      <td>2019-12-30</td>\n",
              "      <td>USD</td>\n",
              "      <td>15797.8</td>\n",
              "      <td>2019-12-15</td>\n",
              "      <td>NAA8</td>\n",
              "      <td>0</td>\n",
              "    </tr>\n",
              "    <tr>\n",
              "      <th>3</th>\n",
              "      <td>U001</td>\n",
              "      <td>0200915438</td>\n",
              "      <td>GROC trust</td>\n",
              "      <td>2020-01-22</td>\n",
              "      <td>2020</td>\n",
              "      <td>1.93035e+09</td>\n",
              "      <td>2020-01-07</td>\n",
              "      <td>2020-01-03</td>\n",
              "      <td>2020-01-07</td>\n",
              "      <td>2020-01-22</td>\n",
              "      <td>USD</td>\n",
              "      <td>22143</td>\n",
              "      <td>2020-01-07</td>\n",
              "      <td>NAA8</td>\n",
              "      <td>0</td>\n",
              "    </tr>\n",
              "    <tr>\n",
              "      <th>4</th>\n",
              "      <td>U002</td>\n",
              "      <td>0200978592</td>\n",
              "      <td>PLAZA corp</td>\n",
              "      <td>2020-02-05</td>\n",
              "      <td>2020</td>\n",
              "      <td>1.99057e+09</td>\n",
              "      <td>2020-01-01</td>\n",
              "      <td>2019-12-30</td>\n",
              "      <td>2020-01-01</td>\n",
              "      <td>2020-02-05</td>\n",
              "      <td>USD</td>\n",
              "      <td>67634.4</td>\n",
              "      <td>2020-01-01</td>\n",
              "      <td>NAG2</td>\n",
              "      <td>0</td>\n",
              "    </tr>\n",
              "    <tr>\n",
              "      <th>...</th>\n",
              "      <td>...</td>\n",
              "      <td>...</td>\n",
              "      <td>...</td>\n",
              "      <td>...</td>\n",
              "      <td>...</td>\n",
              "      <td>...</td>\n",
              "      <td>...</td>\n",
              "      <td>...</td>\n",
              "      <td>...</td>\n",
              "      <td>...</td>\n",
              "      <td>...</td>\n",
              "      <td>...</td>\n",
              "      <td>...</td>\n",
              "      <td>...</td>\n",
              "      <td>...</td>\n",
              "    </tr>\n",
              "    <tr>\n",
              "      <th>2982</th>\n",
              "      <td>U001</td>\n",
              "      <td>0200769623</td>\n",
              "      <td>WAL-MAR associates</td>\n",
              "      <td>2019-12-27</td>\n",
              "      <td>2019</td>\n",
              "      <td>1.93029e+09</td>\n",
              "      <td>2019-12-17</td>\n",
              "      <td>2019-12-17</td>\n",
              "      <td>2019-12-17</td>\n",
              "      <td>2020-01-01</td>\n",
              "      <td>USD</td>\n",
              "      <td>471.56</td>\n",
              "      <td>2019-12-17</td>\n",
              "      <td>NAH4</td>\n",
              "      <td>0</td>\n",
              "    </tr>\n",
              "    <tr>\n",
              "      <th>2983</th>\n",
              "      <td>U001</td>\n",
              "      <td>0200769623</td>\n",
              "      <td>WAL-MAR trust</td>\n",
              "      <td>2020-01-14</td>\n",
              "      <td>2020</td>\n",
              "      <td>1.93033e+09</td>\n",
              "      <td>2019-12-29</td>\n",
              "      <td>2019-12-28</td>\n",
              "      <td>2019-12-29</td>\n",
              "      <td>2020-01-13</td>\n",
              "      <td>USD</td>\n",
              "      <td>7652.44</td>\n",
              "      <td>2019-12-29</td>\n",
              "      <td>NAH4</td>\n",
              "      <td>0</td>\n",
              "    </tr>\n",
              "    <tr>\n",
              "      <th>2984</th>\n",
              "      <td>U001</td>\n",
              "      <td>0200726979</td>\n",
              "      <td>BJ'S  llc</td>\n",
              "      <td>2020-01-13</td>\n",
              "      <td>2020</td>\n",
              "      <td>1.93033e+09</td>\n",
              "      <td>2019-12-29</td>\n",
              "      <td>2019-12-28</td>\n",
              "      <td>2019-12-29</td>\n",
              "      <td>2020-01-13</td>\n",
              "      <td>USD</td>\n",
              "      <td>142.9</td>\n",
              "      <td>2019-12-29</td>\n",
              "      <td>NAA8</td>\n",
              "      <td>0</td>\n",
              "    </tr>\n",
              "    <tr>\n",
              "      <th>2985</th>\n",
              "      <td>U001</td>\n",
              "      <td>0200769623</td>\n",
              "      <td>WAL-MAR</td>\n",
              "      <td>2019-12-24</td>\n",
              "      <td>2019</td>\n",
              "      <td>1.93028e+09</td>\n",
              "      <td>2019-12-14</td>\n",
              "      <td>2019-12-13</td>\n",
              "      <td>2019-12-14</td>\n",
              "      <td>2019-12-29</td>\n",
              "      <td>USD</td>\n",
              "      <td>52026.9</td>\n",
              "      <td>2019-12-14</td>\n",
              "      <td>NAH4</td>\n",
              "      <td>0</td>\n",
              "    </tr>\n",
              "    <tr>\n",
              "      <th>2986</th>\n",
              "      <td>U001</td>\n",
              "      <td>0200769623</td>\n",
              "      <td>WAL-MAR associates</td>\n",
              "      <td>2019-12-30</td>\n",
              "      <td>2019</td>\n",
              "      <td>1.93027e+09</td>\n",
              "      <td>2019-12-13</td>\n",
              "      <td>2019-12-11</td>\n",
              "      <td>2019-12-13</td>\n",
              "      <td>2019-12-28</td>\n",
              "      <td>USD</td>\n",
              "      <td>587.93</td>\n",
              "      <td>2019-12-13</td>\n",
              "      <td>NAH4</td>\n",
              "      <td>0</td>\n",
              "    </tr>\n",
              "  </tbody>\n",
              "</table>\n",
              "<p>2987 rows × 15 columns</p>\n",
              "</div>"
            ],
            "text/plain": [
              "     business_code cust_number  ... cust_payment_terms isOpen\n",
              "0             U001  0200936373  ...               NAA8      0\n",
              "1             U001  0100031704  ...               NAA8      0\n",
              "2             U001  0200148860  ...               NAA8      0\n",
              "3             U001  0200915438  ...               NAA8      0\n",
              "4             U002  0200978592  ...               NAG2      0\n",
              "...            ...         ...  ...                ...    ...\n",
              "2982          U001  0200769623  ...               NAH4      0\n",
              "2983          U001  0200769623  ...               NAH4      0\n",
              "2984          U001  0200726979  ...               NAA8      0\n",
              "2985          U001  0200769623  ...               NAH4      0\n",
              "2986          U001  0200769623  ...               NAH4      0\n",
              "\n",
              "[2987 rows x 15 columns]"
            ]
          },
          "metadata": {
            "tags": []
          },
          "execution_count": 2439
        }
      ]
    },
    {
      "cell_type": "code",
      "metadata": {
        "colab": {
          "base_uri": "https://localhost:8080/"
        },
        "id": "nHO16bc8OEX_",
        "outputId": "96071cd2-e0c4-4f46-bd5c-e4276c53cfba"
      },
      "source": [
        "train_set=big_set[big_set['document_create_date.1'] < '2019-12-05'].copy()\r\n",
        "train_set.shape"
      ],
      "execution_count": 2440,
      "outputs": [
        {
          "output_type": "execute_result",
          "data": {
            "text/plain": [
              "(39318, 15)"
            ]
          },
          "metadata": {
            "tags": []
          },
          "execution_count": 2440
        }
      ]
    },
    {
      "cell_type": "code",
      "metadata": {
        "colab": {
          "base_uri": "https://localhost:8080/",
          "height": 470
        },
        "id": "9dtYjtWORhTR",
        "outputId": "553aad73-fbbd-49c4-924a-bdb6cec5d27f"
      },
      "source": [
        "train_set.reset_index(drop=True)"
      ],
      "execution_count": 2441,
      "outputs": [
        {
          "output_type": "execute_result",
          "data": {
            "text/html": [
              "<div>\n",
              "<style scoped>\n",
              "    .dataframe tbody tr th:only-of-type {\n",
              "        vertical-align: middle;\n",
              "    }\n",
              "\n",
              "    .dataframe tbody tr th {\n",
              "        vertical-align: top;\n",
              "    }\n",
              "\n",
              "    .dataframe thead th {\n",
              "        text-align: right;\n",
              "    }\n",
              "</style>\n",
              "<table border=\"1\" class=\"dataframe\">\n",
              "  <thead>\n",
              "    <tr style=\"text-align: right;\">\n",
              "      <th></th>\n",
              "      <th>business_code</th>\n",
              "      <th>cust_number</th>\n",
              "      <th>name_customer</th>\n",
              "      <th>clear_date</th>\n",
              "      <th>buisness_year</th>\n",
              "      <th>doc_id</th>\n",
              "      <th>posting_date</th>\n",
              "      <th>document_create_date</th>\n",
              "      <th>document_create_date.1</th>\n",
              "      <th>due_in_date</th>\n",
              "      <th>invoice_currency</th>\n",
              "      <th>total_open_amount</th>\n",
              "      <th>baseline_create_date</th>\n",
              "      <th>cust_payment_terms</th>\n",
              "      <th>isOpen</th>\n",
              "    </tr>\n",
              "  </thead>\n",
              "  <tbody>\n",
              "    <tr>\n",
              "      <th>0</th>\n",
              "      <td>U001</td>\n",
              "      <td>0200705742</td>\n",
              "      <td>DOT us</td>\n",
              "      <td>2019-02-06</td>\n",
              "      <td>2019</td>\n",
              "      <td>1.92866e+09</td>\n",
              "      <td>2019-01-22</td>\n",
              "      <td>2019-01-21</td>\n",
              "      <td>2019-01-22</td>\n",
              "      <td>2019-02-11</td>\n",
              "      <td>USD</td>\n",
              "      <td>2079.55</td>\n",
              "      <td>2019-01-22</td>\n",
              "      <td>NAD1</td>\n",
              "      <td>0</td>\n",
              "    </tr>\n",
              "    <tr>\n",
              "      <th>1</th>\n",
              "      <td>U001</td>\n",
              "      <td>0200803720</td>\n",
              "      <td>DEC trust</td>\n",
              "      <td>2019-05-01</td>\n",
              "      <td>2019</td>\n",
              "      <td>1.92921e+09</td>\n",
              "      <td>2019-04-26</td>\n",
              "      <td>2019-04-26</td>\n",
              "      <td>2019-04-26</td>\n",
              "      <td>2019-05-09</td>\n",
              "      <td>USD</td>\n",
              "      <td>68.52</td>\n",
              "      <td>2019-04-16</td>\n",
              "      <td>NAM4</td>\n",
              "      <td>0</td>\n",
              "    </tr>\n",
              "    <tr>\n",
              "      <th>2</th>\n",
              "      <td>U001</td>\n",
              "      <td>0200592182</td>\n",
              "      <td>DECA co</td>\n",
              "      <td>2019-06-03</td>\n",
              "      <td>2019</td>\n",
              "      <td>1.92938e+09</td>\n",
              "      <td>2019-05-25</td>\n",
              "      <td>2019-05-25</td>\n",
              "      <td>2019-05-25</td>\n",
              "      <td>2019-06-08</td>\n",
              "      <td>USD</td>\n",
              "      <td>1677.82</td>\n",
              "      <td>2019-05-16</td>\n",
              "      <td>NAM4</td>\n",
              "      <td>0</td>\n",
              "    </tr>\n",
              "    <tr>\n",
              "      <th>3</th>\n",
              "      <td>U001</td>\n",
              "      <td>0200769623</td>\n",
              "      <td>WAL-MAR associates</td>\n",
              "      <td>2019-02-20</td>\n",
              "      <td>2019</td>\n",
              "      <td>1.92877e+09</td>\n",
              "      <td>2019-02-09</td>\n",
              "      <td>2019-02-08</td>\n",
              "      <td>2019-02-09</td>\n",
              "      <td>2019-02-24</td>\n",
              "      <td>USD</td>\n",
              "      <td>66906.8</td>\n",
              "      <td>2019-02-09</td>\n",
              "      <td>NAH4</td>\n",
              "      <td>0</td>\n",
              "    </tr>\n",
              "    <tr>\n",
              "      <th>4</th>\n",
              "      <td>U001</td>\n",
              "      <td>200769623</td>\n",
              "      <td>WAL-MAR in</td>\n",
              "      <td>2019-06-12</td>\n",
              "      <td>2019</td>\n",
              "      <td>1.92941e+09</td>\n",
              "      <td>2019-06-01</td>\n",
              "      <td>2019-05-30</td>\n",
              "      <td>2019-06-01</td>\n",
              "      <td>2019-06-16</td>\n",
              "      <td>USD</td>\n",
              "      <td>65593.9</td>\n",
              "      <td>2019-06-01</td>\n",
              "      <td>NAH4</td>\n",
              "      <td>0</td>\n",
              "    </tr>\n",
              "    <tr>\n",
              "      <th>...</th>\n",
              "      <td>...</td>\n",
              "      <td>...</td>\n",
              "      <td>...</td>\n",
              "      <td>...</td>\n",
              "      <td>...</td>\n",
              "      <td>...</td>\n",
              "      <td>...</td>\n",
              "      <td>...</td>\n",
              "      <td>...</td>\n",
              "      <td>...</td>\n",
              "      <td>...</td>\n",
              "      <td>...</td>\n",
              "      <td>...</td>\n",
              "      <td>...</td>\n",
              "      <td>...</td>\n",
              "    </tr>\n",
              "    <tr>\n",
              "      <th>39313</th>\n",
              "      <td>U001</td>\n",
              "      <td>0200771157</td>\n",
              "      <td>WEIS associates</td>\n",
              "      <td>2019-08-30</td>\n",
              "      <td>2019</td>\n",
              "      <td>1.92975e+09</td>\n",
              "      <td>2019-08-14</td>\n",
              "      <td>2019-08-15</td>\n",
              "      <td>2019-08-14</td>\n",
              "      <td>2019-08-29</td>\n",
              "      <td>USD</td>\n",
              "      <td>58119.4</td>\n",
              "      <td>2019-08-14</td>\n",
              "      <td>NAA8</td>\n",
              "      <td>0</td>\n",
              "    </tr>\n",
              "    <tr>\n",
              "      <th>39314</th>\n",
              "      <td>U001</td>\n",
              "      <td>200786288</td>\n",
              "      <td>FAMILY</td>\n",
              "      <td>2019-07-08</td>\n",
              "      <td>2019</td>\n",
              "      <td>1.92953e+09</td>\n",
              "      <td>2019-06-24</td>\n",
              "      <td>2019-06-23</td>\n",
              "      <td>2019-06-24</td>\n",
              "      <td>2019-07-09</td>\n",
              "      <td>USD</td>\n",
              "      <td>11770.5</td>\n",
              "      <td>2019-06-24</td>\n",
              "      <td>NAC6</td>\n",
              "      <td>0</td>\n",
              "    </tr>\n",
              "    <tr>\n",
              "      <th>39315</th>\n",
              "      <td>U001</td>\n",
              "      <td>0200769623</td>\n",
              "      <td>WAL-MAR co</td>\n",
              "      <td>2019-07-03</td>\n",
              "      <td>2019</td>\n",
              "      <td>1.92953e+09</td>\n",
              "      <td>2019-06-23</td>\n",
              "      <td>2019-06-21</td>\n",
              "      <td>2019-06-23</td>\n",
              "      <td>2019-07-08</td>\n",
              "      <td>USD</td>\n",
              "      <td>70346.5</td>\n",
              "      <td>2019-06-23</td>\n",
              "      <td>NAH4</td>\n",
              "      <td>0</td>\n",
              "    </tr>\n",
              "    <tr>\n",
              "      <th>39316</th>\n",
              "      <td>U001</td>\n",
              "      <td>0200749225</td>\n",
              "      <td>SUPER</td>\n",
              "      <td>2019-01-17</td>\n",
              "      <td>2019</td>\n",
              "      <td>1.92855e+09</td>\n",
              "      <td>2019-01-02</td>\n",
              "      <td>2019-01-02</td>\n",
              "      <td>2019-01-02</td>\n",
              "      <td>2019-01-17</td>\n",
              "      <td>USD</td>\n",
              "      <td>135678</td>\n",
              "      <td>2019-01-02</td>\n",
              "      <td>NAA8</td>\n",
              "      <td>0</td>\n",
              "    </tr>\n",
              "    <tr>\n",
              "      <th>39317</th>\n",
              "      <td>U001</td>\n",
              "      <td>0200769369</td>\n",
              "      <td>DI associates</td>\n",
              "      <td>2019-03-22</td>\n",
              "      <td>2019</td>\n",
              "      <td>1.92892e+09</td>\n",
              "      <td>2019-03-07</td>\n",
              "      <td>2019-03-07</td>\n",
              "      <td>2019-03-07</td>\n",
              "      <td>2019-03-22</td>\n",
              "      <td>USD</td>\n",
              "      <td>32677.6</td>\n",
              "      <td>2019-03-07</td>\n",
              "      <td>NAA8</td>\n",
              "      <td>0</td>\n",
              "    </tr>\n",
              "  </tbody>\n",
              "</table>\n",
              "<p>39318 rows × 15 columns</p>\n",
              "</div>"
            ],
            "text/plain": [
              "      business_code cust_number  ... cust_payment_terms isOpen\n",
              "0              U001  0200705742  ...               NAD1      0\n",
              "1              U001  0200803720  ...               NAM4      0\n",
              "2              U001  0200592182  ...               NAM4      0\n",
              "3              U001  0200769623  ...               NAH4      0\n",
              "4              U001   200769623  ...               NAH4      0\n",
              "...             ...         ...  ...                ...    ...\n",
              "39313          U001  0200771157  ...               NAA8      0\n",
              "39314          U001   200786288  ...               NAC6      0\n",
              "39315          U001  0200769623  ...               NAH4      0\n",
              "39316          U001  0200749225  ...               NAA8      0\n",
              "39317          U001  0200769369  ...               NAA8      0\n",
              "\n",
              "[39318 rows x 15 columns]"
            ]
          },
          "metadata": {
            "tags": []
          },
          "execution_count": 2441
        }
      ]
    },
    {
      "cell_type": "code",
      "metadata": {
        "id": "qv0xLlIGOmaF"
      },
      "source": [
        "##############target label#################"
      ],
      "execution_count": 2442,
      "outputs": []
    },
    {
      "cell_type": "code",
      "metadata": {
        "id": "JWBgqWRUmcaN"
      },
      "source": [
        "train_set['target_delay']=(train_set['clear_date'] - train_set['due_in_date'])\r\n",
        "train_set['target_delay']=train_set['target_delay'].dt.days\r\n"
      ],
      "execution_count": 2443,
      "outputs": []
    },
    {
      "cell_type": "code",
      "metadata": {
        "colab": {
          "base_uri": "https://localhost:8080/",
          "height": 79
        },
        "id": "SPn1hxnsMthk",
        "outputId": "d3e6945a-6b7f-433c-a19b-b1c196baf490"
      },
      "source": [
        "train_set.corr()"
      ],
      "execution_count": 2444,
      "outputs": [
        {
          "output_type": "execute_result",
          "data": {
            "text/html": [
              "<div>\n",
              "<style scoped>\n",
              "    .dataframe tbody tr th:only-of-type {\n",
              "        vertical-align: middle;\n",
              "    }\n",
              "\n",
              "    .dataframe tbody tr th {\n",
              "        vertical-align: top;\n",
              "    }\n",
              "\n",
              "    .dataframe thead th {\n",
              "        text-align: right;\n",
              "    }\n",
              "</style>\n",
              "<table border=\"1\" class=\"dataframe\">\n",
              "  <thead>\n",
              "    <tr style=\"text-align: right;\">\n",
              "      <th></th>\n",
              "      <th>target_delay</th>\n",
              "    </tr>\n",
              "  </thead>\n",
              "  <tbody>\n",
              "    <tr>\n",
              "      <th>target_delay</th>\n",
              "      <td>1.0</td>\n",
              "    </tr>\n",
              "  </tbody>\n",
              "</table>\n",
              "</div>"
            ],
            "text/plain": [
              "              target_delay\n",
              "target_delay           1.0"
            ]
          },
          "metadata": {
            "tags": []
          },
          "execution_count": 2444
        }
      ]
    },
    {
      "cell_type": "code",
      "metadata": {
        "colab": {
          "base_uri": "https://localhost:8080/"
        },
        "id": "SNLYZ-7iPC3J",
        "outputId": "fea8cd02-5384-4b81-8282-32c5690c3a57"
      },
      "source": [
        "train_set['target_delay'].describe()\r\n"
      ],
      "execution_count": 2445,
      "outputs": [
        {
          "output_type": "execute_result",
          "data": {
            "text/plain": [
              "count    39318.000000\n",
              "mean         1.007299\n",
              "std         11.114599\n",
              "min        -89.000000\n",
              "25%         -3.000000\n",
              "50%          0.000000\n",
              "75%          2.000000\n",
              "max        442.000000\n",
              "Name: target_delay, dtype: float64"
            ]
          },
          "metadata": {
            "tags": []
          },
          "execution_count": 2445
        }
      ]
    },
    {
      "cell_type": "code",
      "metadata": {
        "id": "KnUyqkugFT3f"
      },
      "source": [
        "#setting target_delay in val1 and  val2\r\n",
        "val1['target_delay']=(val1['clear_date'] - val1['due_in_date'])\r\n",
        "val1['target_delay']=val1['target_delay'].dt.days\r\n",
        "\r\n",
        "val2['target_delay']=(val2['clear_date'] - val2['due_in_date'])\r\n",
        "val2['target_delay']=val2['target_delay'].dt.days\r\n",
        "\r\n"
      ],
      "execution_count": 2446,
      "outputs": []
    },
    {
      "cell_type": "code",
      "metadata": {
        "id": "e-qqJGKeVLG3"
      },
      "source": [
        "###############################EDA and Feauture Engineering##########################"
      ],
      "execution_count": 2447,
      "outputs": []
    },
    {
      "cell_type": "code",
      "metadata": {
        "id": "y18w5U5GsI8d"
      },
      "source": [
        "import seaborn as sns, numpy as np"
      ],
      "execution_count": 2448,
      "outputs": []
    },
    {
      "cell_type": "code",
      "metadata": {
        "id": "sPsKVNoXGTQv"
      },
      "source": [
        "########ENCODING STRING COLUMNS################ "
      ],
      "execution_count": 2449,
      "outputs": []
    },
    {
      "cell_type": "code",
      "metadata": {
        "id": "MD6V2HM6Zqez",
        "colab": {
          "base_uri": "https://localhost:8080/"
        },
        "outputId": "284b7633-d76c-49f3-b6c4-8af0413496ba"
      },
      "source": [
        "#encoding the train_set\r\n",
        "train_set.dtypes"
      ],
      "execution_count": 2450,
      "outputs": [
        {
          "output_type": "execute_result",
          "data": {
            "text/plain": [
              "business_code                     object\n",
              "cust_number                       object\n",
              "name_customer                     object\n",
              "clear_date                datetime64[ns]\n",
              "buisness_year                     object\n",
              "doc_id                            object\n",
              "posting_date              datetime64[ns]\n",
              "document_create_date      datetime64[ns]\n",
              "document_create_date.1    datetime64[ns]\n",
              "due_in_date               datetime64[ns]\n",
              "invoice_currency                  object\n",
              "total_open_amount                 object\n",
              "baseline_create_date      datetime64[ns]\n",
              "cust_payment_terms                object\n",
              "isOpen                            object\n",
              "target_delay                       int64\n",
              "dtype: object"
            ]
          },
          "metadata": {
            "tags": []
          },
          "execution_count": 2450
        }
      ]
    },
    {
      "cell_type": "code",
      "metadata": {
        "colab": {
          "base_uri": "https://localhost:8080/",
          "height": 283
        },
        "id": "F2U3daPhMf1u",
        "outputId": "d9995901-c6c8-484d-8ac3-c5290a68b878"
      },
      "source": [
        "#converting to numerical columns\r\n",
        "\r\n",
        "#1.Business code\r\n",
        "from sklearn.preprocessing import LabelEncoder\r\n",
        "labelencoder = LabelEncoder()\r\n",
        "train_set.groupby(['business_code']).count()\r\n",
        "\r\n"
      ],
      "execution_count": 2451,
      "outputs": [
        {
          "output_type": "execute_result",
          "data": {
            "text/html": [
              "<div>\n",
              "<style scoped>\n",
              "    .dataframe tbody tr th:only-of-type {\n",
              "        vertical-align: middle;\n",
              "    }\n",
              "\n",
              "    .dataframe tbody tr th {\n",
              "        vertical-align: top;\n",
              "    }\n",
              "\n",
              "    .dataframe thead th {\n",
              "        text-align: right;\n",
              "    }\n",
              "</style>\n",
              "<table border=\"1\" class=\"dataframe\">\n",
              "  <thead>\n",
              "    <tr style=\"text-align: right;\">\n",
              "      <th></th>\n",
              "      <th>cust_number</th>\n",
              "      <th>name_customer</th>\n",
              "      <th>clear_date</th>\n",
              "      <th>buisness_year</th>\n",
              "      <th>doc_id</th>\n",
              "      <th>posting_date</th>\n",
              "      <th>document_create_date</th>\n",
              "      <th>document_create_date.1</th>\n",
              "      <th>due_in_date</th>\n",
              "      <th>invoice_currency</th>\n",
              "      <th>total_open_amount</th>\n",
              "      <th>baseline_create_date</th>\n",
              "      <th>cust_payment_terms</th>\n",
              "      <th>isOpen</th>\n",
              "      <th>target_delay</th>\n",
              "    </tr>\n",
              "    <tr>\n",
              "      <th>business_code</th>\n",
              "      <th></th>\n",
              "      <th></th>\n",
              "      <th></th>\n",
              "      <th></th>\n",
              "      <th></th>\n",
              "      <th></th>\n",
              "      <th></th>\n",
              "      <th></th>\n",
              "      <th></th>\n",
              "      <th></th>\n",
              "      <th></th>\n",
              "      <th></th>\n",
              "      <th></th>\n",
              "      <th></th>\n",
              "      <th></th>\n",
              "    </tr>\n",
              "  </thead>\n",
              "  <tbody>\n",
              "    <tr>\n",
              "      <th>CA02</th>\n",
              "      <td>3109</td>\n",
              "      <td>3109</td>\n",
              "      <td>3109</td>\n",
              "      <td>3109</td>\n",
              "      <td>3109</td>\n",
              "      <td>3109</td>\n",
              "      <td>3109</td>\n",
              "      <td>3109</td>\n",
              "      <td>3109</td>\n",
              "      <td>3109</td>\n",
              "      <td>3109</td>\n",
              "      <td>3109</td>\n",
              "      <td>3109</td>\n",
              "      <td>3109</td>\n",
              "      <td>3109</td>\n",
              "    </tr>\n",
              "    <tr>\n",
              "      <th>U001</th>\n",
              "      <td>35562</td>\n",
              "      <td>35562</td>\n",
              "      <td>35562</td>\n",
              "      <td>35562</td>\n",
              "      <td>35562</td>\n",
              "      <td>35562</td>\n",
              "      <td>35562</td>\n",
              "      <td>35562</td>\n",
              "      <td>35562</td>\n",
              "      <td>35562</td>\n",
              "      <td>35562</td>\n",
              "      <td>35562</td>\n",
              "      <td>35562</td>\n",
              "      <td>35562</td>\n",
              "      <td>35562</td>\n",
              "    </tr>\n",
              "    <tr>\n",
              "      <th>U002</th>\n",
              "      <td>128</td>\n",
              "      <td>128</td>\n",
              "      <td>128</td>\n",
              "      <td>128</td>\n",
              "      <td>128</td>\n",
              "      <td>128</td>\n",
              "      <td>128</td>\n",
              "      <td>128</td>\n",
              "      <td>128</td>\n",
              "      <td>128</td>\n",
              "      <td>128</td>\n",
              "      <td>128</td>\n",
              "      <td>128</td>\n",
              "      <td>128</td>\n",
              "      <td>128</td>\n",
              "    </tr>\n",
              "    <tr>\n",
              "      <th>U005</th>\n",
              "      <td>12</td>\n",
              "      <td>12</td>\n",
              "      <td>12</td>\n",
              "      <td>12</td>\n",
              "      <td>12</td>\n",
              "      <td>12</td>\n",
              "      <td>12</td>\n",
              "      <td>12</td>\n",
              "      <td>12</td>\n",
              "      <td>12</td>\n",
              "      <td>12</td>\n",
              "      <td>12</td>\n",
              "      <td>12</td>\n",
              "      <td>12</td>\n",
              "      <td>12</td>\n",
              "    </tr>\n",
              "    <tr>\n",
              "      <th>U007</th>\n",
              "      <td>2</td>\n",
              "      <td>2</td>\n",
              "      <td>2</td>\n",
              "      <td>2</td>\n",
              "      <td>2</td>\n",
              "      <td>2</td>\n",
              "      <td>2</td>\n",
              "      <td>2</td>\n",
              "      <td>2</td>\n",
              "      <td>2</td>\n",
              "      <td>2</td>\n",
              "      <td>2</td>\n",
              "      <td>2</td>\n",
              "      <td>2</td>\n",
              "      <td>2</td>\n",
              "    </tr>\n",
              "    <tr>\n",
              "      <th>U013</th>\n",
              "      <td>505</td>\n",
              "      <td>505</td>\n",
              "      <td>505</td>\n",
              "      <td>505</td>\n",
              "      <td>505</td>\n",
              "      <td>505</td>\n",
              "      <td>505</td>\n",
              "      <td>505</td>\n",
              "      <td>505</td>\n",
              "      <td>505</td>\n",
              "      <td>505</td>\n",
              "      <td>505</td>\n",
              "      <td>505</td>\n",
              "      <td>505</td>\n",
              "      <td>505</td>\n",
              "    </tr>\n",
              "  </tbody>\n",
              "</table>\n",
              "</div>"
            ],
            "text/plain": [
              "               cust_number  name_customer  ...  isOpen  target_delay\n",
              "business_code                              ...                      \n",
              "CA02                  3109           3109  ...    3109          3109\n",
              "U001                 35562          35562  ...   35562         35562\n",
              "U002                   128            128  ...     128           128\n",
              "U005                    12             12  ...      12            12\n",
              "U007                     2              2  ...       2             2\n",
              "U013                   505            505  ...     505           505\n",
              "\n",
              "[6 rows x 15 columns]"
            ]
          },
          "metadata": {
            "tags": []
          },
          "execution_count": 2451
        }
      ]
    },
    {
      "cell_type": "code",
      "metadata": {
        "colab": {
          "base_uri": "https://localhost:8080/",
          "height": 470
        },
        "id": "Mc9iZ9mRNRLP",
        "outputId": "94eade6b-395a-4c5c-9c1f-0b4591299faa"
      },
      "source": [
        "#label encoding in business code\r\n",
        "labelencoder = LabelEncoder()\r\n",
        "\r\n",
        "train_set['business_code'] = labelencoder.fit_transform(train_set['business_code'])\r\n",
        "test_data['business_code'] = labelencoder.transform(test_data['business_code'])\r\n",
        "\r\n",
        "val1['business_code'] = labelencoder.transform(val1['business_code'])\r\n",
        "\r\n",
        "val2['business_code'] = labelencoder.transform(val2['business_code'])\r\n",
        "\r\n",
        "train_set\r\n",
        "\r\n",
        "\r\n"
      ],
      "execution_count": 2452,
      "outputs": [
        {
          "output_type": "execute_result",
          "data": {
            "text/html": [
              "<div>\n",
              "<style scoped>\n",
              "    .dataframe tbody tr th:only-of-type {\n",
              "        vertical-align: middle;\n",
              "    }\n",
              "\n",
              "    .dataframe tbody tr th {\n",
              "        vertical-align: top;\n",
              "    }\n",
              "\n",
              "    .dataframe thead th {\n",
              "        text-align: right;\n",
              "    }\n",
              "</style>\n",
              "<table border=\"1\" class=\"dataframe\">\n",
              "  <thead>\n",
              "    <tr style=\"text-align: right;\">\n",
              "      <th></th>\n",
              "      <th>business_code</th>\n",
              "      <th>cust_number</th>\n",
              "      <th>name_customer</th>\n",
              "      <th>clear_date</th>\n",
              "      <th>buisness_year</th>\n",
              "      <th>doc_id</th>\n",
              "      <th>posting_date</th>\n",
              "      <th>document_create_date</th>\n",
              "      <th>document_create_date.1</th>\n",
              "      <th>due_in_date</th>\n",
              "      <th>invoice_currency</th>\n",
              "      <th>total_open_amount</th>\n",
              "      <th>baseline_create_date</th>\n",
              "      <th>cust_payment_terms</th>\n",
              "      <th>isOpen</th>\n",
              "      <th>target_delay</th>\n",
              "    </tr>\n",
              "  </thead>\n",
              "  <tbody>\n",
              "    <tr>\n",
              "      <th>0</th>\n",
              "      <td>1</td>\n",
              "      <td>0200705742</td>\n",
              "      <td>DOT us</td>\n",
              "      <td>2019-02-06</td>\n",
              "      <td>2019</td>\n",
              "      <td>1.92866e+09</td>\n",
              "      <td>2019-01-22</td>\n",
              "      <td>2019-01-21</td>\n",
              "      <td>2019-01-22</td>\n",
              "      <td>2019-02-11</td>\n",
              "      <td>USD</td>\n",
              "      <td>2079.55</td>\n",
              "      <td>2019-01-22</td>\n",
              "      <td>NAD1</td>\n",
              "      <td>0</td>\n",
              "      <td>-5</td>\n",
              "    </tr>\n",
              "    <tr>\n",
              "      <th>1</th>\n",
              "      <td>1</td>\n",
              "      <td>0200803720</td>\n",
              "      <td>DEC trust</td>\n",
              "      <td>2019-05-01</td>\n",
              "      <td>2019</td>\n",
              "      <td>1.92921e+09</td>\n",
              "      <td>2019-04-26</td>\n",
              "      <td>2019-04-26</td>\n",
              "      <td>2019-04-26</td>\n",
              "      <td>2019-05-09</td>\n",
              "      <td>USD</td>\n",
              "      <td>68.52</td>\n",
              "      <td>2019-04-16</td>\n",
              "      <td>NAM4</td>\n",
              "      <td>0</td>\n",
              "      <td>-8</td>\n",
              "    </tr>\n",
              "    <tr>\n",
              "      <th>2</th>\n",
              "      <td>1</td>\n",
              "      <td>0200592182</td>\n",
              "      <td>DECA co</td>\n",
              "      <td>2019-06-03</td>\n",
              "      <td>2019</td>\n",
              "      <td>1.92938e+09</td>\n",
              "      <td>2019-05-25</td>\n",
              "      <td>2019-05-25</td>\n",
              "      <td>2019-05-25</td>\n",
              "      <td>2019-06-08</td>\n",
              "      <td>USD</td>\n",
              "      <td>1677.82</td>\n",
              "      <td>2019-05-16</td>\n",
              "      <td>NAM4</td>\n",
              "      <td>0</td>\n",
              "      <td>-5</td>\n",
              "    </tr>\n",
              "    <tr>\n",
              "      <th>3</th>\n",
              "      <td>1</td>\n",
              "      <td>0200769623</td>\n",
              "      <td>WAL-MAR associates</td>\n",
              "      <td>2019-02-20</td>\n",
              "      <td>2019</td>\n",
              "      <td>1.92877e+09</td>\n",
              "      <td>2019-02-09</td>\n",
              "      <td>2019-02-08</td>\n",
              "      <td>2019-02-09</td>\n",
              "      <td>2019-02-24</td>\n",
              "      <td>USD</td>\n",
              "      <td>66906.8</td>\n",
              "      <td>2019-02-09</td>\n",
              "      <td>NAH4</td>\n",
              "      <td>0</td>\n",
              "      <td>-4</td>\n",
              "    </tr>\n",
              "    <tr>\n",
              "      <th>4</th>\n",
              "      <td>1</td>\n",
              "      <td>200769623</td>\n",
              "      <td>WAL-MAR in</td>\n",
              "      <td>2019-06-12</td>\n",
              "      <td>2019</td>\n",
              "      <td>1.92941e+09</td>\n",
              "      <td>2019-06-01</td>\n",
              "      <td>2019-05-30</td>\n",
              "      <td>2019-06-01</td>\n",
              "      <td>2019-06-16</td>\n",
              "      <td>USD</td>\n",
              "      <td>65593.9</td>\n",
              "      <td>2019-06-01</td>\n",
              "      <td>NAH4</td>\n",
              "      <td>0</td>\n",
              "      <td>-4</td>\n",
              "    </tr>\n",
              "    <tr>\n",
              "      <th>...</th>\n",
              "      <td>...</td>\n",
              "      <td>...</td>\n",
              "      <td>...</td>\n",
              "      <td>...</td>\n",
              "      <td>...</td>\n",
              "      <td>...</td>\n",
              "      <td>...</td>\n",
              "      <td>...</td>\n",
              "      <td>...</td>\n",
              "      <td>...</td>\n",
              "      <td>...</td>\n",
              "      <td>...</td>\n",
              "      <td>...</td>\n",
              "      <td>...</td>\n",
              "      <td>...</td>\n",
              "      <td>...</td>\n",
              "    </tr>\n",
              "    <tr>\n",
              "      <th>46752</th>\n",
              "      <td>1</td>\n",
              "      <td>0200771157</td>\n",
              "      <td>WEIS associates</td>\n",
              "      <td>2019-08-30</td>\n",
              "      <td>2019</td>\n",
              "      <td>1.92975e+09</td>\n",
              "      <td>2019-08-14</td>\n",
              "      <td>2019-08-15</td>\n",
              "      <td>2019-08-14</td>\n",
              "      <td>2019-08-29</td>\n",
              "      <td>USD</td>\n",
              "      <td>58119.4</td>\n",
              "      <td>2019-08-14</td>\n",
              "      <td>NAA8</td>\n",
              "      <td>0</td>\n",
              "      <td>1</td>\n",
              "    </tr>\n",
              "    <tr>\n",
              "      <th>46753</th>\n",
              "      <td>1</td>\n",
              "      <td>200786288</td>\n",
              "      <td>FAMILY</td>\n",
              "      <td>2019-07-08</td>\n",
              "      <td>2019</td>\n",
              "      <td>1.92953e+09</td>\n",
              "      <td>2019-06-24</td>\n",
              "      <td>2019-06-23</td>\n",
              "      <td>2019-06-24</td>\n",
              "      <td>2019-07-09</td>\n",
              "      <td>USD</td>\n",
              "      <td>11770.5</td>\n",
              "      <td>2019-06-24</td>\n",
              "      <td>NAC6</td>\n",
              "      <td>0</td>\n",
              "      <td>-1</td>\n",
              "    </tr>\n",
              "    <tr>\n",
              "      <th>46754</th>\n",
              "      <td>1</td>\n",
              "      <td>0200769623</td>\n",
              "      <td>WAL-MAR co</td>\n",
              "      <td>2019-07-03</td>\n",
              "      <td>2019</td>\n",
              "      <td>1.92953e+09</td>\n",
              "      <td>2019-06-23</td>\n",
              "      <td>2019-06-21</td>\n",
              "      <td>2019-06-23</td>\n",
              "      <td>2019-07-08</td>\n",
              "      <td>USD</td>\n",
              "      <td>70346.5</td>\n",
              "      <td>2019-06-23</td>\n",
              "      <td>NAH4</td>\n",
              "      <td>0</td>\n",
              "      <td>-5</td>\n",
              "    </tr>\n",
              "    <tr>\n",
              "      <th>46755</th>\n",
              "      <td>1</td>\n",
              "      <td>0200749225</td>\n",
              "      <td>SUPER</td>\n",
              "      <td>2019-01-17</td>\n",
              "      <td>2019</td>\n",
              "      <td>1.92855e+09</td>\n",
              "      <td>2019-01-02</td>\n",
              "      <td>2019-01-02</td>\n",
              "      <td>2019-01-02</td>\n",
              "      <td>2019-01-17</td>\n",
              "      <td>USD</td>\n",
              "      <td>135678</td>\n",
              "      <td>2019-01-02</td>\n",
              "      <td>NAA8</td>\n",
              "      <td>0</td>\n",
              "      <td>0</td>\n",
              "    </tr>\n",
              "    <tr>\n",
              "      <th>46756</th>\n",
              "      <td>1</td>\n",
              "      <td>0200769369</td>\n",
              "      <td>DI associates</td>\n",
              "      <td>2019-03-22</td>\n",
              "      <td>2019</td>\n",
              "      <td>1.92892e+09</td>\n",
              "      <td>2019-03-07</td>\n",
              "      <td>2019-03-07</td>\n",
              "      <td>2019-03-07</td>\n",
              "      <td>2019-03-22</td>\n",
              "      <td>USD</td>\n",
              "      <td>32677.6</td>\n",
              "      <td>2019-03-07</td>\n",
              "      <td>NAA8</td>\n",
              "      <td>0</td>\n",
              "      <td>0</td>\n",
              "    </tr>\n",
              "  </tbody>\n",
              "</table>\n",
              "<p>39318 rows × 16 columns</p>\n",
              "</div>"
            ],
            "text/plain": [
              "       business_code cust_number  ... isOpen target_delay\n",
              "0                  1  0200705742  ...      0           -5\n",
              "1                  1  0200803720  ...      0           -8\n",
              "2                  1  0200592182  ...      0           -5\n",
              "3                  1  0200769623  ...      0           -4\n",
              "4                  1   200769623  ...      0           -4\n",
              "...              ...         ...  ...    ...          ...\n",
              "46752              1  0200771157  ...      0            1\n",
              "46753              1   200786288  ...      0           -1\n",
              "46754              1  0200769623  ...      0           -5\n",
              "46755              1  0200749225  ...      0            0\n",
              "46756              1  0200769369  ...      0            0\n",
              "\n",
              "[39318 rows x 16 columns]"
            ]
          },
          "metadata": {
            "tags": []
          },
          "execution_count": 2452
        }
      ]
    },
    {
      "cell_type": "code",
      "metadata": {
        "colab": {
          "base_uri": "https://localhost:8080/"
        },
        "id": "V46XlPYHQc-a",
        "outputId": "e39ff10d-ffb1-4326-fd48-92204cb207a6"
      },
      "source": [
        "train_set['business_code'].describe()"
      ],
      "execution_count": 2453,
      "outputs": [
        {
          "output_type": "execute_result",
          "data": {
            "text/plain": [
              "count    39318.000000\n",
              "mean         0.976321\n",
              "std          0.537548\n",
              "min          0.000000\n",
              "25%          1.000000\n",
              "50%          1.000000\n",
              "75%          1.000000\n",
              "max          5.000000\n",
              "Name: business_code, dtype: float64"
            ]
          },
          "metadata": {
            "tags": []
          },
          "execution_count": 2453
        }
      ]
    },
    {
      "cell_type": "code",
      "metadata": {
        "colab": {
          "base_uri": "https://localhost:8080/"
        },
        "id": "XEtCsI5RcQDa",
        "outputId": "1ecfef90-96cf-4e8b-b5b2-25cab0a2eadf"
      },
      "source": [
        "train_set['business_code'].corr(train_set['target_delay'])"
      ],
      "execution_count": 2454,
      "outputs": [
        {
          "output_type": "execute_result",
          "data": {
            "text/plain": [
              "0.0075383631804958285"
            ]
          },
          "metadata": {
            "tags": []
          },
          "execution_count": 2454
        }
      ]
    },
    {
      "cell_type": "code",
      "metadata": {
        "colab": {
          "base_uri": "https://localhost:8080/"
        },
        "id": "WXI9zuqlL3vg",
        "outputId": "5f788cfe-9bea-43a2-d7db-ed994872a83d"
      },
      "source": [
        "#### checking for customer number\r\n",
        "len(pd.unique(train_set['cust_number'])) \r\n"
      ],
      "execution_count": 2455,
      "outputs": [
        {
          "output_type": "execute_result",
          "data": {
            "text/plain": [
              "1387"
            ]
          },
          "metadata": {
            "tags": []
          },
          "execution_count": 2455
        }
      ]
    },
    {
      "cell_type": "code",
      "metadata": {
        "id": "SOtLfVWN0d_d"
      },
      "source": [
        "###business year is constant drop\r\n",
        "train_set.drop(['buisness_year'],axis=1,inplace=True)"
      ],
      "execution_count": 2456,
      "outputs": []
    },
    {
      "cell_type": "code",
      "metadata": {
        "colab": {
          "base_uri": "https://localhost:8080/"
        },
        "id": "TRprat6y9uMK",
        "outputId": "2f6781bd-67d3-4e66-f522-2ce3cdb94d2f"
      },
      "source": [
        "len(pd.unique(train_set['cust_payment_terms'])) "
      ],
      "execution_count": 2457,
      "outputs": [
        {
          "output_type": "execute_result",
          "data": {
            "text/plain": [
              "67"
            ]
          },
          "metadata": {
            "tags": []
          },
          "execution_count": 2457
        }
      ]
    },
    {
      "cell_type": "code",
      "metadata": {
        "colab": {
          "base_uri": "https://localhost:8080/"
        },
        "id": "UFy2VwcY-8R_",
        "outputId": "c529a9e1-0fbd-46fe-9a19-20a5e819e4eb"
      },
      "source": [
        "#replace cust_payment_terms having values < 12 as others and then encoding\r\n",
        "threshlold = 0.000250\r\n",
        "   \r\n",
        "    # locate all the categories that are not rare.\r\n",
        "counts = train_set.groupby(['cust_payment_terms'])['cust_payment_terms'].count() / len(train_set)\r\n",
        "counts_tst = test_data.groupby(['cust_payment_terms'])['cust_payment_terms'].count() / len(train_set)\r\n",
        "counts_val1 = val1.groupby(['cust_payment_terms'])['cust_payment_terms'].count() / len(train_set)\r\n",
        "counts_val2 = val2.groupby(['cust_payment_terms'])['cust_payment_terms'].count() / len(train_set)\r\n",
        "frequent_labels = [x for x in counts.loc[counts>threshlold].index.values]\r\n",
        "frequent_labels_tst = [x for x in counts_tst.loc[counts_tst>threshlold].index.values]\r\n",
        "frequent_labels_val1 = [x for x in counts_val1.loc[counts_val1>threshlold].index.values]\r\n",
        "frequent_labels_val2 = [x for x in counts_val2.loc[counts_val2>threshlold].index.values]\r\n",
        "    # change the rare category names with the word rare, and thus encoding it.\r\n",
        "train_set['cust_payment_terms'] = np.where(train_set['cust_payment_terms'].isin(frequent_labels), train_set['cust_payment_terms'], 'others')\r\n",
        "test_data['cust_payment_terms'] = np.where(test_data['cust_payment_terms'].isin(frequent_labels_tst), test_data['cust_payment_terms'], 'others')\r\n",
        "val1['cust_payment_terms'] = np.where(val1['cust_payment_terms'].isin(frequent_labels_val1), val1['cust_payment_terms'], 'others')\r\n",
        "val2['cust_payment_terms'] = np.where(val2['cust_payment_terms'].isin(frequent_labels_val2), val2['cust_payment_terms'], 'others')\r\n",
        "\r\n",
        "\r\n",
        "test_data['cust_payment_terms'].value_counts()\r\n"
      ],
      "execution_count": 2458,
      "outputs": [
        {
          "output_type": "execute_result",
          "data": {
            "text/plain": [
              "NAA8      1297\n",
              "NAH4       990\n",
              "CA10       242\n",
              "NAC6       125\n",
              "NAM4        94\n",
              "NAGD        89\n",
              "NAAX        76\n",
              "NAU5        66\n",
              "NAM2        40\n",
              "NAD1        32\n",
              "NA10        29\n",
              "others      28\n",
              "NAG2        27\n",
              "NAX2        22\n",
              "NA32        21\n",
              "NAM1        19\n",
              "NAVE        18\n",
              "NAAW        12\n",
              "NAD5        11\n",
              "Name: cust_payment_terms, dtype: int64"
            ]
          },
          "metadata": {
            "tags": []
          },
          "execution_count": 2458
        }
      ]
    },
    {
      "cell_type": "code",
      "metadata": {
        "colab": {
          "base_uri": "https://localhost:8080/"
        },
        "id": "HaDXIufA_i1K",
        "outputId": "33a0e83a-64c3-4101-b83a-08344a8e184c"
      },
      "source": [
        "train_set['cust_payment_terms'] = labelencoder.fit_transform(train_set['cust_payment_terms'])\r\n",
        "test_data['cust_payment_terms'] = labelencoder.transform(test_data['cust_payment_terms'])\r\n",
        "val1['cust_payment_terms'] = labelencoder.transform(val1['cust_payment_terms'])\r\n",
        "val2['cust_payment_terms'] = labelencoder.transform(val2['cust_payment_terms'])\r\n",
        "train_set['cust_payment_terms'].max()"
      ],
      "execution_count": 2459,
      "outputs": [
        {
          "output_type": "execute_result",
          "data": {
            "text/plain": [
              "39"
            ]
          },
          "metadata": {
            "tags": []
          },
          "execution_count": 2459
        }
      ]
    },
    {
      "cell_type": "code",
      "metadata": {
        "colab": {
          "base_uri": "https://localhost:8080/"
        },
        "id": "5_R2zwUIEnec",
        "outputId": "8e8716bc-1b35-4ffa-a8bb-935ab0e4a696"
      },
      "source": [
        "##Now similarly encoding name_customer\r\n",
        "len(pd.unique(train_set['name_customer'])) "
      ],
      "execution_count": 2460,
      "outputs": [
        {
          "output_type": "execute_result",
          "data": {
            "text/plain": [
              "3952"
            ]
          },
          "metadata": {
            "tags": []
          },
          "execution_count": 2460
        }
      ]
    },
    {
      "cell_type": "code",
      "metadata": {
        "id": "axOri-Bh-8Mx",
        "colab": {
          "base_uri": "https://localhost:8080/"
        },
        "outputId": "cc0527cb-55a0-4a39-f40e-cf79f6aca81b"
      },
      "source": [
        "threshlold = 0.000100\r\n",
        "####Grouping rare labels as others\r\n",
        "counts = train_set.groupby(['name_customer'])['name_customer'].count() / len(train_set)\r\n",
        "counts_tst = test_data.groupby(['name_customer'])['name_customer'].count() / len(train_set)\r\n",
        "counts_val1 = val1.groupby(['name_customer'])['name_customer'].count() / len(train_set)\r\n",
        "counts_val2 = val2.groupby(['name_customer'])['name_customer'].count() / len(train_set)\r\n",
        "frequent_labels = [x for x in counts.loc[counts>threshlold].index.values]\r\n",
        "frequent_labels_tst = [x for x in counts_tst.loc[counts_tst>threshlold].index.values]\r\n",
        "frequent_labels_val1 = [x for x in counts_val1.loc[counts_val1>threshlold].index.values]\r\n",
        "frequent_labels_val2 = [x for x in counts_val2.loc[counts_val2>threshlold].index.values]\r\n",
        "    # change the rare category names with the word rare, and thus encoding it.\r\n",
        "train_set['name_customer'] = np.where(train_set['name_customer'].isin(frequent_labels), train_set['name_customer'], 'others')\r\n",
        "test_data['name_customer'] = np.where(test_data['name_customer'].isin(frequent_labels_tst), test_data['name_customer'], 'others')\r\n",
        "val1['name_customer'] = np.where(val1['name_customer'].isin(frequent_labels_val1), val1['name_customer'], 'others')\r\n",
        "val2['name_customer'] = np.where(val2['name_customer'].isin(frequent_labels_val2), val2['name_customer'], 'others')\r\n",
        "\r\n",
        "\r\n",
        "test_data['name_customer'].value_counts()\r\n"
      ],
      "execution_count": 2461,
      "outputs": [
        {
          "output_type": "execute_result",
          "data": {
            "text/plain": [
              "others                 1152\n",
              "WAL-MAR us               90\n",
              "WAL-MAR corporation      87\n",
              "WAL-MAR foundation       85\n",
              "WAL-MAR associates       85\n",
              "                       ... \n",
              "DOLLA in                  4\n",
              "COSTCO corp               4\n",
              "LOB llc                   4\n",
              "DEC corp                  4\n",
              "AM corp                   4\n",
              "Name: name_customer, Length: 183, dtype: int64"
            ]
          },
          "metadata": {
            "tags": []
          },
          "execution_count": 2461
        }
      ]
    },
    {
      "cell_type": "code",
      "metadata": {
        "colab": {
          "base_uri": "https://localhost:8080/"
        },
        "id": "UyCjgVRjCfpx",
        "outputId": "8a27b63d-333b-4fe6-8dac-36244ea060c5"
      },
      "source": [
        "train_set['name_customer'].value_counts()\r\n"
      ],
      "execution_count": 2462,
      "outputs": [
        {
          "output_type": "execute_result",
          "data": {
            "text/plain": [
              "others                 3930\n",
              "WAL-MAR corporation     877\n",
              "WAL-MAR trust           869\n",
              "WAL-MAR associates      863\n",
              "WAL-MAR foundation      846\n",
              "                       ... \n",
              "DOLLAR corp               4\n",
              "FAREW systems             4\n",
              "PARAM corporation         4\n",
              "F trust                   4\n",
              "FAREW associates          4\n",
              "Name: name_customer, Length: 1271, dtype: int64"
            ]
          },
          "metadata": {
            "tags": []
          },
          "execution_count": 2462
        }
      ]
    },
    {
      "cell_type": "code",
      "metadata": {
        "colab": {
          "base_uri": "https://localhost:8080/",
          "height": 435
        },
        "id": "J0-cpiBoInqA",
        "outputId": "59af8d5d-0120-4c94-942c-ac39898986dc"
      },
      "source": [
        "#target encoding in name customer\r\n",
        "target_mapper = train_set.groupby('name_customer')['target_delay'].mean().to_dict()\r\n",
        "train_set['name_customer'] = train_set['name_customer'].map(target_mapper)\r\n",
        "test_data['name_customer'] = test_data['name_customer'].map(target_mapper)\r\n",
        "val1['name_customer'] = val1['name_customer'].map(target_mapper)\r\n",
        "val2['name_customer'] = val2['name_customer'].map(target_mapper)\r\n",
        "train_set\r\n"
      ],
      "execution_count": 2463,
      "outputs": [
        {
          "output_type": "execute_result",
          "data": {
            "text/html": [
              "<div>\n",
              "<style scoped>\n",
              "    .dataframe tbody tr th:only-of-type {\n",
              "        vertical-align: middle;\n",
              "    }\n",
              "\n",
              "    .dataframe tbody tr th {\n",
              "        vertical-align: top;\n",
              "    }\n",
              "\n",
              "    .dataframe thead th {\n",
              "        text-align: right;\n",
              "    }\n",
              "</style>\n",
              "<table border=\"1\" class=\"dataframe\">\n",
              "  <thead>\n",
              "    <tr style=\"text-align: right;\">\n",
              "      <th></th>\n",
              "      <th>business_code</th>\n",
              "      <th>cust_number</th>\n",
              "      <th>name_customer</th>\n",
              "      <th>clear_date</th>\n",
              "      <th>doc_id</th>\n",
              "      <th>posting_date</th>\n",
              "      <th>document_create_date</th>\n",
              "      <th>document_create_date.1</th>\n",
              "      <th>due_in_date</th>\n",
              "      <th>invoice_currency</th>\n",
              "      <th>total_open_amount</th>\n",
              "      <th>baseline_create_date</th>\n",
              "      <th>cust_payment_terms</th>\n",
              "      <th>isOpen</th>\n",
              "      <th>target_delay</th>\n",
              "    </tr>\n",
              "  </thead>\n",
              "  <tbody>\n",
              "    <tr>\n",
              "      <th>0</th>\n",
              "      <td>1</td>\n",
              "      <td>0200705742</td>\n",
              "      <td>-5.742424</td>\n",
              "      <td>2019-02-06</td>\n",
              "      <td>1.92866e+09</td>\n",
              "      <td>2019-01-22</td>\n",
              "      <td>2019-01-21</td>\n",
              "      <td>2019-01-22</td>\n",
              "      <td>2019-02-11</td>\n",
              "      <td>USD</td>\n",
              "      <td>2079.55</td>\n",
              "      <td>2019-01-22</td>\n",
              "      <td>17</td>\n",
              "      <td>0</td>\n",
              "      <td>-5</td>\n",
              "    </tr>\n",
              "    <tr>\n",
              "      <th>1</th>\n",
              "      <td>1</td>\n",
              "      <td>0200803720</td>\n",
              "      <td>-3.893939</td>\n",
              "      <td>2019-05-01</td>\n",
              "      <td>1.92921e+09</td>\n",
              "      <td>2019-04-26</td>\n",
              "      <td>2019-04-26</td>\n",
              "      <td>2019-04-26</td>\n",
              "      <td>2019-05-09</td>\n",
              "      <td>USD</td>\n",
              "      <td>68.52</td>\n",
              "      <td>2019-04-16</td>\n",
              "      <td>25</td>\n",
              "      <td>0</td>\n",
              "      <td>-8</td>\n",
              "    </tr>\n",
              "    <tr>\n",
              "      <th>2</th>\n",
              "      <td>1</td>\n",
              "      <td>0200592182</td>\n",
              "      <td>-4.506667</td>\n",
              "      <td>2019-06-03</td>\n",
              "      <td>1.92938e+09</td>\n",
              "      <td>2019-05-25</td>\n",
              "      <td>2019-05-25</td>\n",
              "      <td>2019-05-25</td>\n",
              "      <td>2019-06-08</td>\n",
              "      <td>USD</td>\n",
              "      <td>1677.82</td>\n",
              "      <td>2019-05-16</td>\n",
              "      <td>25</td>\n",
              "      <td>0</td>\n",
              "      <td>-5</td>\n",
              "    </tr>\n",
              "    <tr>\n",
              "      <th>3</th>\n",
              "      <td>1</td>\n",
              "      <td>0200769623</td>\n",
              "      <td>-2.331402</td>\n",
              "      <td>2019-02-20</td>\n",
              "      <td>1.92877e+09</td>\n",
              "      <td>2019-02-09</td>\n",
              "      <td>2019-02-08</td>\n",
              "      <td>2019-02-09</td>\n",
              "      <td>2019-02-24</td>\n",
              "      <td>USD</td>\n",
              "      <td>66906.8</td>\n",
              "      <td>2019-02-09</td>\n",
              "      <td>22</td>\n",
              "      <td>0</td>\n",
              "      <td>-4</td>\n",
              "    </tr>\n",
              "    <tr>\n",
              "      <th>4</th>\n",
              "      <td>1</td>\n",
              "      <td>200769623</td>\n",
              "      <td>-2.507822</td>\n",
              "      <td>2019-06-12</td>\n",
              "      <td>1.92941e+09</td>\n",
              "      <td>2019-06-01</td>\n",
              "      <td>2019-05-30</td>\n",
              "      <td>2019-06-01</td>\n",
              "      <td>2019-06-16</td>\n",
              "      <td>USD</td>\n",
              "      <td>65593.9</td>\n",
              "      <td>2019-06-01</td>\n",
              "      <td>22</td>\n",
              "      <td>0</td>\n",
              "      <td>-4</td>\n",
              "    </tr>\n",
              "    <tr>\n",
              "      <th>...</th>\n",
              "      <td>...</td>\n",
              "      <td>...</td>\n",
              "      <td>...</td>\n",
              "      <td>...</td>\n",
              "      <td>...</td>\n",
              "      <td>...</td>\n",
              "      <td>...</td>\n",
              "      <td>...</td>\n",
              "      <td>...</td>\n",
              "      <td>...</td>\n",
              "      <td>...</td>\n",
              "      <td>...</td>\n",
              "      <td>...</td>\n",
              "      <td>...</td>\n",
              "      <td>...</td>\n",
              "    </tr>\n",
              "    <tr>\n",
              "      <th>46752</th>\n",
              "      <td>1</td>\n",
              "      <td>0200771157</td>\n",
              "      <td>0.600000</td>\n",
              "      <td>2019-08-30</td>\n",
              "      <td>1.92975e+09</td>\n",
              "      <td>2019-08-14</td>\n",
              "      <td>2019-08-15</td>\n",
              "      <td>2019-08-14</td>\n",
              "      <td>2019-08-29</td>\n",
              "      <td>USD</td>\n",
              "      <td>58119.4</td>\n",
              "      <td>2019-08-14</td>\n",
              "      <td>10</td>\n",
              "      <td>0</td>\n",
              "      <td>1</td>\n",
              "    </tr>\n",
              "    <tr>\n",
              "      <th>46753</th>\n",
              "      <td>1</td>\n",
              "      <td>200786288</td>\n",
              "      <td>4.461538</td>\n",
              "      <td>2019-07-08</td>\n",
              "      <td>1.92953e+09</td>\n",
              "      <td>2019-06-24</td>\n",
              "      <td>2019-06-23</td>\n",
              "      <td>2019-06-24</td>\n",
              "      <td>2019-07-09</td>\n",
              "      <td>USD</td>\n",
              "      <td>11770.5</td>\n",
              "      <td>2019-06-24</td>\n",
              "      <td>15</td>\n",
              "      <td>0</td>\n",
              "      <td>-1</td>\n",
              "    </tr>\n",
              "    <tr>\n",
              "      <th>46754</th>\n",
              "      <td>1</td>\n",
              "      <td>0200769623</td>\n",
              "      <td>-1.981413</td>\n",
              "      <td>2019-07-03</td>\n",
              "      <td>1.92953e+09</td>\n",
              "      <td>2019-06-23</td>\n",
              "      <td>2019-06-21</td>\n",
              "      <td>2019-06-23</td>\n",
              "      <td>2019-07-08</td>\n",
              "      <td>USD</td>\n",
              "      <td>70346.5</td>\n",
              "      <td>2019-06-23</td>\n",
              "      <td>22</td>\n",
              "      <td>0</td>\n",
              "      <td>-5</td>\n",
              "    </tr>\n",
              "    <tr>\n",
              "      <th>46755</th>\n",
              "      <td>1</td>\n",
              "      <td>0200749225</td>\n",
              "      <td>1.666667</td>\n",
              "      <td>2019-01-17</td>\n",
              "      <td>1.92855e+09</td>\n",
              "      <td>2019-01-02</td>\n",
              "      <td>2019-01-02</td>\n",
              "      <td>2019-01-02</td>\n",
              "      <td>2019-01-17</td>\n",
              "      <td>USD</td>\n",
              "      <td>135678</td>\n",
              "      <td>2019-01-02</td>\n",
              "      <td>10</td>\n",
              "      <td>0</td>\n",
              "      <td>0</td>\n",
              "    </tr>\n",
              "    <tr>\n",
              "      <th>46756</th>\n",
              "      <td>1</td>\n",
              "      <td>0200769369</td>\n",
              "      <td>2.171247</td>\n",
              "      <td>2019-03-22</td>\n",
              "      <td>1.92892e+09</td>\n",
              "      <td>2019-03-07</td>\n",
              "      <td>2019-03-07</td>\n",
              "      <td>2019-03-07</td>\n",
              "      <td>2019-03-22</td>\n",
              "      <td>USD</td>\n",
              "      <td>32677.6</td>\n",
              "      <td>2019-03-07</td>\n",
              "      <td>10</td>\n",
              "      <td>0</td>\n",
              "      <td>0</td>\n",
              "    </tr>\n",
              "  </tbody>\n",
              "</table>\n",
              "<p>39318 rows × 15 columns</p>\n",
              "</div>"
            ],
            "text/plain": [
              "       business_code cust_number  ...  isOpen target_delay\n",
              "0                  1  0200705742  ...       0           -5\n",
              "1                  1  0200803720  ...       0           -8\n",
              "2                  1  0200592182  ...       0           -5\n",
              "3                  1  0200769623  ...       0           -4\n",
              "4                  1   200769623  ...       0           -4\n",
              "...              ...         ...  ...     ...          ...\n",
              "46752              1  0200771157  ...       0            1\n",
              "46753              1   200786288  ...       0           -1\n",
              "46754              1  0200769623  ...       0           -5\n",
              "46755              1  0200749225  ...       0            0\n",
              "46756              1  0200769369  ...       0            0\n",
              "\n",
              "[39318 rows x 15 columns]"
            ]
          },
          "metadata": {
            "tags": []
          },
          "execution_count": 2463
        }
      ]
    },
    {
      "cell_type": "code",
      "metadata": {
        "colab": {
          "base_uri": "https://localhost:8080/"
        },
        "id": "atMEuiBi-d1j",
        "outputId": "da91db28-4c39-4997-dd64-aec316482150"
      },
      "source": [
        "len(pd.unique(train_set['name_customer'])) \r\n"
      ],
      "execution_count": 2464,
      "outputs": [
        {
          "output_type": "execute_result",
          "data": {
            "text/plain": [
              "737"
            ]
          },
          "metadata": {
            "tags": []
          },
          "execution_count": 2464
        }
      ]
    },
    {
      "cell_type": "code",
      "metadata": {
        "colab": {
          "base_uri": "https://localhost:8080/"
        },
        "id": "KULglbLufA0H",
        "outputId": "ffeb024d-7849-4874-e535-01719b40ccb1"
      },
      "source": [
        "train_set['name_customer'].corr(train_set['target_delay'])"
      ],
      "execution_count": 2465,
      "outputs": [
        {
          "output_type": "execute_result",
          "data": {
            "text/plain": [
              "0.5961109211744695"
            ]
          },
          "metadata": {
            "tags": []
          },
          "execution_count": 2465
        }
      ]
    },
    {
      "cell_type": "code",
      "metadata": {
        "colab": {
          "base_uri": "https://localhost:8080/"
        },
        "id": "CaIz9Ge_hOFY",
        "outputId": "ac523242-592b-452b-ca39-a39eefc1b6e1"
      },
      "source": [
        "###similarly encoding cust_numbers\r\n",
        "threshlold = 0.000250\r\n",
        "\r\n",
        "# we loop over all the categorical variables\r\n",
        "\r\n",
        "    \r\n",
        "    # locate all the categories that are not rare.\r\n",
        "counts = train_set.groupby(['cust_number'])['cust_number'].count() / len(train_set)\r\n",
        "counts_tst = test_data.groupby(['cust_number'])['cust_number'].count() / len(train_set)\r\n",
        "counts_val1 = val1.groupby(['cust_number'])['cust_number'].count() / len(train_set)\r\n",
        "counts_val2 = val2.groupby(['cust_number'])['cust_number'].count() / len(train_set)\r\n",
        "frequent_labels = [x for x in counts.loc[counts>threshlold].index.values]\r\n",
        "frequent_labels_tst = [x for x in counts_tst.loc[counts_tst>threshlold].index.values]\r\n",
        "frequent_labels_val1 = [x for x in counts_val1.loc[counts_val1>threshlold].index.values]\r\n",
        "frequent_labels_val2 = [x for x in counts_val2.loc[counts_val2>threshlold].index.values]\r\n",
        "    # change the rare category names with the word rare, and thus encoding it.\r\n",
        "train_set['cust_number'] = np.where(train_set['cust_number'].isin(frequent_labels), train_set['cust_number'], 'others')\r\n",
        "test_data['cust_number'] = np.where(test_data['cust_number'].isin(frequent_labels_tst), test_data['cust_number'], 'others')\r\n",
        "val1['cust_number'] = np.where(val1['cust_number'].isin(frequent_labels_val1), val1['cust_number'], 'others')\r\n",
        "val2['cust_number'] = np.where(val2['cust_number'].isin(frequent_labels_val2), val2['cust_number'], 'others')\r\n",
        "\r\n",
        "\r\n",
        "test_data['cust_number'].value_counts()\r\n",
        "\r\n"
      ],
      "execution_count": 2466,
      "outputs": [
        {
          "output_type": "execute_result",
          "data": {
            "text/plain": [
              "others        897\n",
              "0200769623    846\n",
              "0200762301    118\n",
              "0200726979    115\n",
              "0200759878     99\n",
              "0200744019     84\n",
              "0200794332     77\n",
              "0200772670     60\n",
              "0200418007     55\n",
              "200769623      48\n",
              "0200707822     43\n",
              "0200780383     42\n",
              "0140104409     40\n",
              "0200761734     39\n",
              "0100031704     39\n",
              "0200353024     33\n",
              "0140106408     32\n",
              "0200803720     31\n",
              "0200706844     30\n",
              "0200148860     30\n",
              "0200704858     29\n",
              "0200705742     29\n",
              "0200936373     26\n",
              "0200020431     22\n",
              "CCU013         21\n",
              "0200416837     21\n",
              "0200772595     21\n",
              "0200230690     20\n",
              "0200729290     20\n",
              "0140104429     19\n",
              "0200704045     18\n",
              "0140104440     17\n",
              "CCCA02         17\n",
              "0140104423     17\n",
              "0200793568     15\n",
              "0200799367     15\n",
              "0140105847     14\n",
              "0200592182     14\n",
              "0200782001     13\n",
              "0200752302     12\n",
              "0200777735     12\n",
              "0200778870     12\n",
              "0200750051     12\n",
              "0200881076     11\n",
              "0200792734     11\n",
              "0200974851     11\n",
              "0140104225     11\n",
              "0200707005     10\n",
              "0200739534     10\n",
              "Name: cust_number, dtype: int64"
            ]
          },
          "metadata": {
            "tags": []
          },
          "execution_count": 2466
        }
      ]
    },
    {
      "cell_type": "code",
      "metadata": {
        "id": "dH1nbNQQeavp"
      },
      "source": [
        "target_mapper = train_set.groupby('cust_number')['target_delay'].mean().to_dict()\r\n",
        "train_set['cust_number'] = train_set['cust_number'].map(target_mapper)\r\n",
        "test_data['cust_number'] = test_data['cust_number'].map(target_mapper)\r\n",
        "val1['cust_number'] = val1['cust_number'].map(target_mapper)\r\n",
        "val2['cust_number'] = val2['cust_number'].map(target_mapper)\r\n"
      ],
      "execution_count": 2467,
      "outputs": []
    },
    {
      "cell_type": "code",
      "metadata": {
        "colab": {
          "base_uri": "https://localhost:8080/"
        },
        "id": "qN3TACqFfe92",
        "outputId": "bd30c257-ac29-4170-efd7-7bf1d33482c0"
      },
      "source": [
        "train_set['cust_number'].corr(train_set['target_delay'])"
      ],
      "execution_count": 2468,
      "outputs": [
        {
          "output_type": "execute_result",
          "data": {
            "text/plain": [
              "0.5923069549571435"
            ]
          },
          "metadata": {
            "tags": []
          },
          "execution_count": 2468
        }
      ]
    },
    {
      "cell_type": "code",
      "metadata": {
        "colab": {
          "base_uri": "https://localhost:8080/"
        },
        "id": "UWXpK4lRl_fV",
        "outputId": "42ac2e0d-f425-4e45-e1b0-dc6e5322e4ad"
      },
      "source": [
        "train_set.dtypes"
      ],
      "execution_count": 2469,
      "outputs": [
        {
          "output_type": "execute_result",
          "data": {
            "text/plain": [
              "business_code                      int64\n",
              "cust_number                      float64\n",
              "name_customer                    float64\n",
              "clear_date                datetime64[ns]\n",
              "doc_id                            object\n",
              "posting_date              datetime64[ns]\n",
              "document_create_date      datetime64[ns]\n",
              "document_create_date.1    datetime64[ns]\n",
              "due_in_date               datetime64[ns]\n",
              "invoice_currency                  object\n",
              "total_open_amount                 object\n",
              "baseline_create_date      datetime64[ns]\n",
              "cust_payment_terms                 int64\n",
              "isOpen                            object\n",
              "target_delay                       int64\n",
              "dtype: object"
            ]
          },
          "metadata": {
            "tags": []
          },
          "execution_count": 2469
        }
      ]
    },
    {
      "cell_type": "code",
      "metadata": {
        "colab": {
          "base_uri": "https://localhost:8080/"
        },
        "id": "P8OvOYZDmYyQ",
        "outputId": "59ef4f4d-e2b8-46e6-ed33-5ebeba621308"
      },
      "source": [
        "train_set['doc_id'].unique"
      ],
      "execution_count": 2470,
      "outputs": [
        {
          "output_type": "execute_result",
          "data": {
            "text/plain": [
              "<bound method Series.unique of 0        1.92866e+09\n",
              "1        1.92921e+09\n",
              "2        1.92938e+09\n",
              "3        1.92877e+09\n",
              "4        1.92941e+09\n",
              "            ...     \n",
              "46752    1.92975e+09\n",
              "46753    1.92953e+09\n",
              "46754    1.92953e+09\n",
              "46755    1.92855e+09\n",
              "46756    1.92892e+09\n",
              "Name: doc_id, Length: 39318, dtype: object>"
            ]
          },
          "metadata": {
            "tags": []
          },
          "execution_count": 2470
        }
      ]
    },
    {
      "cell_type": "code",
      "metadata": {
        "colab": {
          "base_uri": "https://localhost:8080/"
        },
        "id": "yvk083JqnK-6",
        "outputId": "39c19062-1ca3-424e-a02d-0d37f9d2ccc6"
      },
      "source": [
        "train_set.shape #means doc_id is a unique value like primary key so we will not encode as it will not contribute in predicting"
      ],
      "execution_count": 2471,
      "outputs": [
        {
          "output_type": "execute_result",
          "data": {
            "text/plain": [
              "(39318, 15)"
            ]
          },
          "metadata": {
            "tags": []
          },
          "execution_count": 2471
        }
      ]
    },
    {
      "cell_type": "code",
      "metadata": {
        "colab": {
          "base_uri": "https://localhost:8080/"
        },
        "id": "o32zuLWKnya6",
        "outputId": "e5d73c1b-b7e2-486e-8bd2-18e31877ff61"
      },
      "source": [
        "#encoding total_open_amount\r\n",
        "train_set['total_open_amount']=train_set['total_open_amount'].astype(float)\r\n",
        "test_data['total_open_amount']=test_data['total_open_amount'].astype(float)\r\n",
        "val1['total_open_amount']=val1['total_open_amount'].astype(float)\r\n",
        "val2['total_open_amount']=val2['total_open_amount'].astype(float)\r\n",
        "train_set['total_open_amount']"
      ],
      "execution_count": 2472,
      "outputs": [
        {
          "output_type": "execute_result",
          "data": {
            "text/plain": [
              "0          2079.55\n",
              "1            68.52\n",
              "2          1677.82\n",
              "3         66906.76\n",
              "4         65593.95\n",
              "           ...    \n",
              "46752     58119.37\n",
              "46753     11770.45\n",
              "46754     70346.50\n",
              "46755    135678.45\n",
              "46756     32677.60\n",
              "Name: total_open_amount, Length: 39318, dtype: float64"
            ]
          },
          "metadata": {
            "tags": []
          },
          "execution_count": 2472
        }
      ]
    },
    {
      "cell_type": "code",
      "metadata": {
        "colab": {
          "base_uri": "https://localhost:8080/"
        },
        "id": "M1CD3QI_f7cs",
        "outputId": "51eceac2-e655-4e22-c62e-0dcd288fa877"
      },
      "source": [
        "train_set['total_open_amount'].corr(train_set['target_delay'])"
      ],
      "execution_count": 2473,
      "outputs": [
        {
          "output_type": "execute_result",
          "data": {
            "text/plain": [
              "0.004550858182888728"
            ]
          },
          "metadata": {
            "tags": []
          },
          "execution_count": 2473
        }
      ]
    },
    {
      "cell_type": "code",
      "metadata": {
        "colab": {
          "base_uri": "https://localhost:8080/"
        },
        "id": "hqTCPESpud46",
        "outputId": "d53727b2-aab7-4cca-de18-656288c16073"
      },
      "source": [
        "#target encoding on isOpen\r\n",
        "target_mapper = train_set.groupby('isOpen')['target_delay'].mean().to_dict()\r\n",
        "train_set['isOpen'] = train_set['isOpen'].map(target_mapper)\r\n",
        "test_data['isOpen'] = test_data['isOpen'].map(target_mapper)\r\n",
        "val1['isOpen'] = val1['isOpen'].map(target_mapper)\r\n",
        "val2['isOpen'] = val2['isOpen'].map(target_mapper)\r\n",
        "train_set['isOpen']"
      ],
      "execution_count": 2474,
      "outputs": [
        {
          "output_type": "execute_result",
          "data": {
            "text/plain": [
              "0        1.007299\n",
              "1        1.007299\n",
              "2        1.007299\n",
              "3        1.007299\n",
              "4        1.007299\n",
              "           ...   \n",
              "46752    1.007299\n",
              "46753    1.007299\n",
              "46754    1.007299\n",
              "46755    1.007299\n",
              "46756    1.007299\n",
              "Name: isOpen, Length: 39318, dtype: float64"
            ]
          },
          "metadata": {
            "tags": []
          },
          "execution_count": 2474
        }
      ]
    },
    {
      "cell_type": "code",
      "metadata": {
        "colab": {
          "base_uri": "https://localhost:8080/"
        },
        "id": "4vKPegK2gC94",
        "outputId": "b861ea74-c8e2-4180-a987-20977cdae8d5"
      },
      "source": [
        "train_set['isOpen'].corr(train_set['target_delay'])"
      ],
      "execution_count": 2475,
      "outputs": [
        {
          "output_type": "execute_result",
          "data": {
            "text/plain": [
              "nan"
            ]
          },
          "metadata": {
            "tags": []
          },
          "execution_count": 2475
        }
      ]
    },
    {
      "cell_type": "code",
      "metadata": {
        "colab": {
          "base_uri": "https://localhost:8080/"
        },
        "id": "aY-niSydvTlr",
        "outputId": "94736dd9-98a3-43a6-813e-716975fa1eba"
      },
      "source": [
        "train_set.dtypes"
      ],
      "execution_count": 2476,
      "outputs": [
        {
          "output_type": "execute_result",
          "data": {
            "text/plain": [
              "business_code                      int64\n",
              "cust_number                      float64\n",
              "name_customer                    float64\n",
              "clear_date                datetime64[ns]\n",
              "doc_id                            object\n",
              "posting_date              datetime64[ns]\n",
              "document_create_date      datetime64[ns]\n",
              "document_create_date.1    datetime64[ns]\n",
              "due_in_date               datetime64[ns]\n",
              "invoice_currency                  object\n",
              "total_open_amount                float64\n",
              "baseline_create_date      datetime64[ns]\n",
              "cust_payment_terms                 int64\n",
              "isOpen                           float64\n",
              "target_delay                       int64\n",
              "dtype: object"
            ]
          },
          "metadata": {
            "tags": []
          },
          "execution_count": 2476
        }
      ]
    },
    {
      "cell_type": "code",
      "metadata": {
        "colab": {
          "base_uri": "https://localhost:8080/"
        },
        "id": "8a0gZsOaBMy8",
        "outputId": "6b398112-7631-4fad-bde8-d1dd9c7fa4ec"
      },
      "source": [
        "train_set['invoice_currency'].value_counts()"
      ],
      "execution_count": 2477,
      "outputs": [
        {
          "output_type": "execute_result",
          "data": {
            "text/plain": [
              "USD    36207\n",
              "CAD     3111\n",
              "Name: invoice_currency, dtype: int64"
            ]
          },
          "metadata": {
            "tags": []
          },
          "execution_count": 2477
        }
      ]
    },
    {
      "cell_type": "code",
      "metadata": {
        "colab": {
          "base_uri": "https://localhost:8080/",
          "height": 435
        },
        "id": "hGg83z9UAHku",
        "outputId": "f4529b5e-51e1-474b-ed77-a8b0e351eeef"
      },
      "source": [
        "#label encoding invoice currency\r\n",
        "target_mapper = train_set.groupby('invoice_currency')['target_delay'].mean().to_dict()\r\n",
        "train_set['invoice_currency'] = train_set['invoice_currency'].map(target_mapper)\r\n",
        "test_data['invoice_currency'] = test_data['invoice_currency'].map(target_mapper)\r\n",
        "val1['invoice_currency'] = val1['invoice_currency'].map(target_mapper)\r\n",
        "val2['invoice_currency'] = val2['invoice_currency'].map(target_mapper)\r\n",
        "\r\n",
        "train_set\r\n"
      ],
      "execution_count": 2478,
      "outputs": [
        {
          "output_type": "execute_result",
          "data": {
            "text/html": [
              "<div>\n",
              "<style scoped>\n",
              "    .dataframe tbody tr th:only-of-type {\n",
              "        vertical-align: middle;\n",
              "    }\n",
              "\n",
              "    .dataframe tbody tr th {\n",
              "        vertical-align: top;\n",
              "    }\n",
              "\n",
              "    .dataframe thead th {\n",
              "        text-align: right;\n",
              "    }\n",
              "</style>\n",
              "<table border=\"1\" class=\"dataframe\">\n",
              "  <thead>\n",
              "    <tr style=\"text-align: right;\">\n",
              "      <th></th>\n",
              "      <th>business_code</th>\n",
              "      <th>cust_number</th>\n",
              "      <th>name_customer</th>\n",
              "      <th>clear_date</th>\n",
              "      <th>doc_id</th>\n",
              "      <th>posting_date</th>\n",
              "      <th>document_create_date</th>\n",
              "      <th>document_create_date.1</th>\n",
              "      <th>due_in_date</th>\n",
              "      <th>invoice_currency</th>\n",
              "      <th>total_open_amount</th>\n",
              "      <th>baseline_create_date</th>\n",
              "      <th>cust_payment_terms</th>\n",
              "      <th>isOpen</th>\n",
              "      <th>target_delay</th>\n",
              "    </tr>\n",
              "  </thead>\n",
              "  <tbody>\n",
              "    <tr>\n",
              "      <th>0</th>\n",
              "      <td>1</td>\n",
              "      <td>-6.640823</td>\n",
              "      <td>-5.742424</td>\n",
              "      <td>2019-02-06</td>\n",
              "      <td>1.92866e+09</td>\n",
              "      <td>2019-01-22</td>\n",
              "      <td>2019-01-21</td>\n",
              "      <td>2019-01-22</td>\n",
              "      <td>2019-02-11</td>\n",
              "      <td>0.610766</td>\n",
              "      <td>2079.55</td>\n",
              "      <td>2019-01-22</td>\n",
              "      <td>17</td>\n",
              "      <td>1.007299</td>\n",
              "      <td>-5</td>\n",
              "    </tr>\n",
              "    <tr>\n",
              "      <th>1</th>\n",
              "      <td>1</td>\n",
              "      <td>-4.493711</td>\n",
              "      <td>-3.893939</td>\n",
              "      <td>2019-05-01</td>\n",
              "      <td>1.92921e+09</td>\n",
              "      <td>2019-04-26</td>\n",
              "      <td>2019-04-26</td>\n",
              "      <td>2019-04-26</td>\n",
              "      <td>2019-05-09</td>\n",
              "      <td>0.610766</td>\n",
              "      <td>68.52</td>\n",
              "      <td>2019-04-16</td>\n",
              "      <td>25</td>\n",
              "      <td>1.007299</td>\n",
              "      <td>-8</td>\n",
              "    </tr>\n",
              "    <tr>\n",
              "      <th>2</th>\n",
              "      <td>1</td>\n",
              "      <td>-3.908537</td>\n",
              "      <td>-4.506667</td>\n",
              "      <td>2019-06-03</td>\n",
              "      <td>1.92938e+09</td>\n",
              "      <td>2019-05-25</td>\n",
              "      <td>2019-05-25</td>\n",
              "      <td>2019-05-25</td>\n",
              "      <td>2019-06-08</td>\n",
              "      <td>0.610766</td>\n",
              "      <td>1677.82</td>\n",
              "      <td>2019-05-16</td>\n",
              "      <td>25</td>\n",
              "      <td>1.007299</td>\n",
              "      <td>-5</td>\n",
              "    </tr>\n",
              "    <tr>\n",
              "      <th>3</th>\n",
              "      <td>1</td>\n",
              "      <td>-2.306052</td>\n",
              "      <td>-2.331402</td>\n",
              "      <td>2019-02-20</td>\n",
              "      <td>1.92877e+09</td>\n",
              "      <td>2019-02-09</td>\n",
              "      <td>2019-02-08</td>\n",
              "      <td>2019-02-09</td>\n",
              "      <td>2019-02-24</td>\n",
              "      <td>0.610766</td>\n",
              "      <td>66906.76</td>\n",
              "      <td>2019-02-09</td>\n",
              "      <td>22</td>\n",
              "      <td>1.007299</td>\n",
              "      <td>-4</td>\n",
              "    </tr>\n",
              "    <tr>\n",
              "      <th>4</th>\n",
              "      <td>1</td>\n",
              "      <td>-2.165963</td>\n",
              "      <td>-2.507822</td>\n",
              "      <td>2019-06-12</td>\n",
              "      <td>1.92941e+09</td>\n",
              "      <td>2019-06-01</td>\n",
              "      <td>2019-05-30</td>\n",
              "      <td>2019-06-01</td>\n",
              "      <td>2019-06-16</td>\n",
              "      <td>0.610766</td>\n",
              "      <td>65593.95</td>\n",
              "      <td>2019-06-01</td>\n",
              "      <td>22</td>\n",
              "      <td>1.007299</td>\n",
              "      <td>-4</td>\n",
              "    </tr>\n",
              "    <tr>\n",
              "      <th>...</th>\n",
              "      <td>...</td>\n",
              "      <td>...</td>\n",
              "      <td>...</td>\n",
              "      <td>...</td>\n",
              "      <td>...</td>\n",
              "      <td>...</td>\n",
              "      <td>...</td>\n",
              "      <td>...</td>\n",
              "      <td>...</td>\n",
              "      <td>...</td>\n",
              "      <td>...</td>\n",
              "      <td>...</td>\n",
              "      <td>...</td>\n",
              "      <td>...</td>\n",
              "      <td>...</td>\n",
              "    </tr>\n",
              "    <tr>\n",
              "      <th>46752</th>\n",
              "      <td>1</td>\n",
              "      <td>0.957746</td>\n",
              "      <td>0.600000</td>\n",
              "      <td>2019-08-30</td>\n",
              "      <td>1.92975e+09</td>\n",
              "      <td>2019-08-14</td>\n",
              "      <td>2019-08-15</td>\n",
              "      <td>2019-08-14</td>\n",
              "      <td>2019-08-29</td>\n",
              "      <td>0.610766</td>\n",
              "      <td>58119.37</td>\n",
              "      <td>2019-08-14</td>\n",
              "      <td>10</td>\n",
              "      <td>1.007299</td>\n",
              "      <td>1</td>\n",
              "    </tr>\n",
              "    <tr>\n",
              "      <th>46753</th>\n",
              "      <td>1</td>\n",
              "      <td>-1.636364</td>\n",
              "      <td>4.461538</td>\n",
              "      <td>2019-07-08</td>\n",
              "      <td>1.92953e+09</td>\n",
              "      <td>2019-06-24</td>\n",
              "      <td>2019-06-23</td>\n",
              "      <td>2019-06-24</td>\n",
              "      <td>2019-07-09</td>\n",
              "      <td>0.610766</td>\n",
              "      <td>11770.45</td>\n",
              "      <td>2019-06-24</td>\n",
              "      <td>15</td>\n",
              "      <td>1.007299</td>\n",
              "      <td>-1</td>\n",
              "    </tr>\n",
              "    <tr>\n",
              "      <th>46754</th>\n",
              "      <td>1</td>\n",
              "      <td>-2.306052</td>\n",
              "      <td>-1.981413</td>\n",
              "      <td>2019-07-03</td>\n",
              "      <td>1.92953e+09</td>\n",
              "      <td>2019-06-23</td>\n",
              "      <td>2019-06-21</td>\n",
              "      <td>2019-06-23</td>\n",
              "      <td>2019-07-08</td>\n",
              "      <td>0.610766</td>\n",
              "      <td>70346.50</td>\n",
              "      <td>2019-06-23</td>\n",
              "      <td>22</td>\n",
              "      <td>1.007299</td>\n",
              "      <td>-5</td>\n",
              "    </tr>\n",
              "    <tr>\n",
              "      <th>46755</th>\n",
              "      <td>1</td>\n",
              "      <td>1.894737</td>\n",
              "      <td>1.666667</td>\n",
              "      <td>2019-01-17</td>\n",
              "      <td>1.92855e+09</td>\n",
              "      <td>2019-01-02</td>\n",
              "      <td>2019-01-02</td>\n",
              "      <td>2019-01-02</td>\n",
              "      <td>2019-01-17</td>\n",
              "      <td>0.610766</td>\n",
              "      <td>135678.45</td>\n",
              "      <td>2019-01-02</td>\n",
              "      <td>10</td>\n",
              "      <td>1.007299</td>\n",
              "      <td>0</td>\n",
              "    </tr>\n",
              "    <tr>\n",
              "      <th>46756</th>\n",
              "      <td>1</td>\n",
              "      <td>0.173913</td>\n",
              "      <td>2.171247</td>\n",
              "      <td>2019-03-22</td>\n",
              "      <td>1.92892e+09</td>\n",
              "      <td>2019-03-07</td>\n",
              "      <td>2019-03-07</td>\n",
              "      <td>2019-03-07</td>\n",
              "      <td>2019-03-22</td>\n",
              "      <td>0.610766</td>\n",
              "      <td>32677.60</td>\n",
              "      <td>2019-03-07</td>\n",
              "      <td>10</td>\n",
              "      <td>1.007299</td>\n",
              "      <td>0</td>\n",
              "    </tr>\n",
              "  </tbody>\n",
              "</table>\n",
              "<p>39318 rows × 15 columns</p>\n",
              "</div>"
            ],
            "text/plain": [
              "       business_code  cust_number  ...    isOpen target_delay\n",
              "0                  1    -6.640823  ...  1.007299           -5\n",
              "1                  1    -4.493711  ...  1.007299           -8\n",
              "2                  1    -3.908537  ...  1.007299           -5\n",
              "3                  1    -2.306052  ...  1.007299           -4\n",
              "4                  1    -2.165963  ...  1.007299           -4\n",
              "...              ...          ...  ...       ...          ...\n",
              "46752              1     0.957746  ...  1.007299            1\n",
              "46753              1    -1.636364  ...  1.007299           -1\n",
              "46754              1    -2.306052  ...  1.007299           -5\n",
              "46755              1     1.894737  ...  1.007299            0\n",
              "46756              1     0.173913  ...  1.007299            0\n",
              "\n",
              "[39318 rows x 15 columns]"
            ]
          },
          "metadata": {
            "tags": []
          },
          "execution_count": 2478
        }
      ]
    },
    {
      "cell_type": "code",
      "metadata": {
        "id": "TUmkSN-Iz5vi"
      },
      "source": [
        "#creating month columns for all datetime type for caculating correlation\r\n",
        "\r\n",
        "train_set['create_date_month']=train_set['document_create_date'].dt.month\r\n",
        "train_set['create_date.1_month']=train_set['document_create_date.1'].dt.month\r\n",
        "train_set['posting_date_month']=train_set['posting_date'].dt.month\r\n",
        "train_set['baseline_create_date_month']=train_set['baseline_create_date'].dt.month\r\n",
        "train_set['due_in_date_month']=train_set['due_in_date'].dt.month\r\n",
        "\r\n",
        "train_set['create_date_quarter']=train_set['document_create_date'].dt.quarter\r\n",
        "train_set['create_date.1_quarter']=train_set['document_create_date.1'].dt.quarter\r\n",
        "train_set['posting_date_quarter']=train_set['posting_date'].dt.quarter\r\n",
        "train_set['baseline_create_date_quarter']=train_set['baseline_create_date'].dt.quarter\r\n",
        "train_set['due_in_date_quarter']=train_set['due_in_date'].dt.quarter"
      ],
      "execution_count": 2479,
      "outputs": []
    },
    {
      "cell_type": "code",
      "metadata": {
        "colab": {
          "base_uri": "https://localhost:8080/"
        },
        "id": "-nfdsfxvK2N4",
        "outputId": "8efe409c-1de8-425e-d59e-c7f3e2cedbb4"
      },
      "source": [
        "train_set.dtypes"
      ],
      "execution_count": 2480,
      "outputs": [
        {
          "output_type": "execute_result",
          "data": {
            "text/plain": [
              "business_code                            int64\n",
              "cust_number                            float64\n",
              "name_customer                          float64\n",
              "clear_date                      datetime64[ns]\n",
              "doc_id                                  object\n",
              "posting_date                    datetime64[ns]\n",
              "document_create_date            datetime64[ns]\n",
              "document_create_date.1          datetime64[ns]\n",
              "due_in_date                     datetime64[ns]\n",
              "invoice_currency                       float64\n",
              "total_open_amount                      float64\n",
              "baseline_create_date            datetime64[ns]\n",
              "cust_payment_terms                       int64\n",
              "isOpen                                 float64\n",
              "target_delay                             int64\n",
              "create_date_month                        int64\n",
              "create_date.1_month                      int64\n",
              "posting_date_month                       int64\n",
              "baseline_create_date_month               int64\n",
              "due_in_date_month                        int64\n",
              "create_date_quarter                      int64\n",
              "create_date.1_quarter                    int64\n",
              "posting_date_quarter                     int64\n",
              "baseline_create_date_quarter             int64\n",
              "due_in_date_quarter                      int64\n",
              "dtype: object"
            ]
          },
          "metadata": {
            "tags": []
          },
          "execution_count": 2480
        }
      ]
    },
    {
      "cell_type": "code",
      "metadata": {
        "id": "Y0QOSZMQAuRE"
      },
      "source": [
        "####GRAPHS######"
      ],
      "execution_count": 2481,
      "outputs": []
    },
    {
      "cell_type": "code",
      "metadata": {
        "colab": {
          "base_uri": "https://localhost:8080/",
          "height": 297
        },
        "id": "H2HzjQFkAuoz",
        "outputId": "f1032471-73cd-4741-e92f-4d3a6b1ca27c"
      },
      "source": [
        "import matplotlib.pyplot as plt\r\n",
        "grp_invoice=train_set.groupby('invoice_currency')['invoice_currency'].agg({'count'}).reset_index()\r\n",
        "plt.bar(grp_invoice['invoice_currency'].astype(int).astype(str),grp_invoice['count'],color = 'b')\r\n",
        "plt.xlabel('INVOICE_CURRENCY')\r\n",
        "plt.xlim((-1,grp_invoice['invoice_currency'].nunique()))\r\n",
        "plt.ylabel('Value counts')\r\n",
        "# Set a title of the current axes.\r\n",
        "plt.title('Bar chart')\r\n",
        "# Display a figure.\r\n",
        "plt.tight_layout()\r\n",
        "######we can infer that invoice_currency has USD as max value_count"
      ],
      "execution_count": 2482,
      "outputs": [
        {
          "output_type": "display_data",
          "data": {
            "image/png": "[encoded data removed]",
            "text/plain": [
              "<Figure size 432x288 with 1 Axes>"
            ]
          },
          "metadata": {
            "tags": []
          }
        }
      ]
    },
    {
      "cell_type": "code",
      "metadata": {
        "colab": {
          "base_uri": "https://localhost:8080/",
          "height": 297
        },
        "id": "JXS-9T_yFXQ3",
        "outputId": "6d8213e4-006f-49f4-9f08-a102b06f2d54"
      },
      "source": [
        "grp_bc=train_set.groupby('business_code')['target_delay'].agg({'mean'}).reset_index()\r\n",
        "\r\n",
        "plt.bar(grp_bc['business_code'].astype(int).astype(str),grp_bc['mean'],color = 'b')\r\n",
        "plt.xlabel('BUSINESS CODE')\r\n",
        "plt.xlim((-1,grp_bc['business_code'].nunique()))\r\n",
        "plt.ylabel('TARGET DELAY MEAN')\r\n",
        "# Set a title of the current axes.\r\n",
        "plt.title('Bar chart')\r\n",
        "# Display a figure.\r\n",
        "plt.tight_layout()\r\n",
        "###business code labeled 4 has max target_delay mean"
      ],
      "execution_count": 2483,
      "outputs": [
        {
          "output_type": "display_data",
          "data": {
            "image/png": "[encoded data removed]",
            "text/plain": [
              "<Figure size 432x288 with 1 Axes>"
            ]
          },
          "metadata": {
            "tags": []
          }
        }
      ]
    },
    {
      "cell_type": "code",
      "metadata": {
        "colab": {
          "base_uri": "https://localhost:8080/",
          "height": 397
        },
        "id": "DMj65d5pAuzO",
        "outputId": "e5ab3d47-8d37-43e2-dfb3-d7034e98996b"
      },
      "source": [
        "grp_posting_date_mnth=train_set.groupby('posting_date_month')['target_delay'].agg({'mean'}).reset_index()\r\n",
        "plt.figure(figsize=(5,5))\r\n",
        "plt.pie(grp_posting_date_mnth['mean'],labels=grp_posting_date_mnth['posting_date_month'],autopct='%1.0f%%',radius = 1.5)\r\n",
        "plt.show()\r\n",
        "##shows target_delay mean in percentage in every month wrt posting_date"
      ],
      "execution_count": 2484,
      "outputs": [
        {
          "output_type": "display_data",
          "data": {
            "image/png": "[encoded data removed]",
            "text/plain": [
              "<Figure size 360x360 with 1 Axes>"
            ]
          },
          "metadata": {
            "tags": []
          }
        }
      ]
    },
    {
      "cell_type": "code",
      "metadata": {
        "colab": {
          "base_uri": "https://localhost:8080/",
          "height": 395
        },
        "id": "G3bvvxJjMo30",
        "outputId": "e3d98204-3f68-4c5d-909c-ceb99daa7297"
      },
      "source": [
        "grp_baseline_cr_date_mnth=train_set.groupby('baseline_create_date_month')['target_delay'].agg({'mean'}).reset_index()\r\n",
        "plt.figure(figsize=(5,5))\r\n",
        "plt.pie(grp_baseline_cr_date_mnth['mean'],labels=grp_baseline_cr_date_mnth['baseline_create_date_month'],autopct='%1.0f%%',radius = 1.5)\r\n",
        "plt.show()\r\n",
        "##shows target_delay mean in percentage in every month wrt baseline_create_date\r\n",
        "##we notice that above both the date graphs have nearly similar mean monthly"
      ],
      "execution_count": 2485,
      "outputs": [
        {
          "output_type": "display_data",
          "data": {
            "image/png": "[encoded data removed]",
            "text/plain": [
              "<Figure size 360x360 with 1 Axes>"
            ]
          },
          "metadata": {
            "tags": []
          }
        }
      ]
    },
    {
      "cell_type": "code",
      "metadata": {
        "colab": {
          "base_uri": "https://localhost:8080/",
          "height": 399
        },
        "id": "4_MRH4tvEvtz",
        "outputId": "cff3ce86-91a8-462d-c73c-5614124c0313"
      },
      "source": [
        "grp_due_in_date_mnth=train_set.groupby('due_in_date_month')['target_delay'].agg({'mean'}).reset_index()\r\n",
        "plt.figure(figsize=(5,5))\r\n",
        "plt.pie(grp_due_in_date_mnth['mean'],labels=grp_due_in_date_mnth['due_in_date_month'],autopct='%1.0f%%',radius = 1.5)\r\n",
        "plt.show()\r\n",
        "##shows target_delay mean in percentage in every month wrt due_in_date\r\n"
      ],
      "execution_count": 2486,
      "outputs": [
        {
          "output_type": "display_data",
          "data": {
            "image/png": "[encoded data removed]",
            "text/plain": [
              "<Figure size 360x360 with 1 Axes>"
            ]
          },
          "metadata": {
            "tags": []
          }
        }
      ]
    },
    {
      "cell_type": "code",
      "metadata": {
        "colab": {
          "base_uri": "https://localhost:8080/",
          "height": 297
        },
        "id": "nP9KBrBdEv_6",
        "outputId": "0d6e4b65-eba7-4a0d-8f15-45b8f466dd6f"
      },
      "source": [
        "grp_nc=train_set.groupby('business_code')['total_open_amount'].agg({'mean'}).reset_index()\r\n",
        "\r\n",
        "plt.bar(grp_nc['business_code'].astype(int).astype(str),grp_nc['mean'],color = 'b')\r\n",
        "plt.xlabel('B CODE')\r\n",
        "plt.xlim((-1,grp_nc['business_code'].nunique()))\r\n",
        "plt.ylabel('Total open amount Mean')\r\n",
        "# Set a title of the current axes.\r\n",
        "plt.title('Bar chart')\r\n",
        "# Display a figure.\r\n",
        "plt.tight_layout()\r\n",
        "###displaying avg total amount for each business code "
      ],
      "execution_count": 2487,
      "outputs": [
        {
          "output_type": "display_data",
          "data": {
            "image/png": "[encoded data removed]",
            "text/plain": [
              "<Figure size 432x288 with 1 Axes>"
            ]
          },
          "metadata": {
            "tags": []
          }
        }
      ]
    },
    {
      "cell_type": "code",
      "metadata": {
        "colab": {
          "base_uri": "https://localhost:8080/",
          "height": 282
        },
        "id": "8kW_ptszVQnu",
        "outputId": "9d750d64-ab68-4790-84e0-312b7f429fa4"
      },
      "source": [
        "###Scatter plot of posting date month with target delay\r\n",
        "plt.scatter(train_set[:30]['target_delay'], train_set[:30]['posting_date_month'],color='r',label='posting date month')\r\n",
        "plt.xlabel(\"target_delay\")\r\n",
        "plt.legend()\r\n",
        "plt.show()"
      ],
      "execution_count": 2488,
      "outputs": [
        {
          "output_type": "display_data",
          "data": {
            "image/png": "[encoded data removed]",
            "text/plain": [
              "<Figure size 432x288 with 1 Axes>"
            ]
          },
          "metadata": {
            "tags": []
          }
        }
      ]
    },
    {
      "cell_type": "code",
      "metadata": {
        "colab": {
          "base_uri": "https://localhost:8080/",
          "height": 282
        },
        "id": "a2vw0F0eVQsI",
        "outputId": "68b3403b-c143-4893-ca80-c1e765bcc994"
      },
      "source": [
        "###Scatter plot of baseline create date month with target delay\r\n",
        "plt.scatter(train_set[:30]['target_delay'], train_set[:30]['baseline_create_date_month'],color='b',label='baseline create date month')\r\n",
        "plt.xlabel(\"target_delay\")\r\n",
        "plt.legend()\r\n",
        "plt.show()"
      ],
      "execution_count": 2489,
      "outputs": [
        {
          "output_type": "display_data",
          "data": {
            "image/png": "[encoded data removed]",
            "text/plain": [
              "<Figure size 432x288 with 1 Axes>"
            ]
          },
          "metadata": {
            "tags": []
          }
        }
      ]
    },
    {
      "cell_type": "code",
      "metadata": {
        "colab": {
          "base_uri": "https://localhost:8080/",
          "height": 282
        },
        "id": "TMQ5S40fZtjK",
        "outputId": "03bbd6e3-0b0d-4a8d-e17c-41e39bcffc45"
      },
      "source": [
        "###Scatter plot of posting date month and basline create date with target delay\r\n",
        "plt.scatter(train_set[:30]['target_delay'], train_set[:30]['posting_date_month'],color='r',label='posting date month')\r\n",
        "plt.scatter(train_set[:30]['target_delay'], train_set[:30]['baseline_create_date_month'],color='b',label='baseline create date month')\r\n",
        "\r\n",
        "plt.xlabel(\"target_delay\")\r\n",
        "plt.legend()\r\n",
        "plt.show()\r\n",
        "\r\n",
        "### We see both the points overlap each other"
      ],
      "execution_count": 2490,
      "outputs": [
        {
          "output_type": "display_data",
          "data": {
            "image/png": "[encoded data removed]",
            "text/plain": [
              "<Figure size 432x288 with 1 Axes>"
            ]
          },
          "metadata": {
            "tags": []
          }
        }
      ]
    },
    {
      "cell_type": "code",
      "metadata": {
        "id": "2niXo7miVQvy"
      },
      "source": [
        "####Distribution of various columns to check skewness"
      ],
      "execution_count": 2491,
      "outputs": []
    },
    {
      "cell_type": "code",
      "metadata": {
        "colab": {
          "base_uri": "https://localhost:8080/"
        },
        "id": "BrCDDOQsd8w9",
        "outputId": "6b10db26-6826-4e59-b7f6-37c0af3ab22c"
      },
      "source": [
        "##SKEWNESS OF DIFFERENT COLUMNS\r\n",
        "from scipy.stats import  skew\r\n",
        "print(\"BUSINESS CODE\")\r\n",
        "print(skew(train_set['business_code'])) ##highly positive"
      ],
      "execution_count": 2492,
      "outputs": [
        {
          "output_type": "stream",
          "text": [
            "BUSINESS CODE\n",
            "4.960971968062309\n"
          ],
          "name": "stdout"
        }
      ]
    },
    {
      "cell_type": "code",
      "metadata": {
        "colab": {
          "base_uri": "https://localhost:8080/"
        },
        "id": "OnMF1R3fy2OA",
        "outputId": "2c40c10f-5185-4484-ee98-e4d7bc92265a"
      },
      "source": [
        "from scipy.stats import  skew\r\n",
        "print(\"CUSTOMER NUMBER\")\r\n",
        "print(skew(train_set['cust_number'])) ##highly positive"
      ],
      "execution_count": 2493,
      "outputs": [
        {
          "output_type": "stream",
          "text": [
            "CUSTOMER NUMBER\n",
            "4.985355718762132\n"
          ],
          "name": "stdout"
        }
      ]
    },
    {
      "cell_type": "code",
      "metadata": {
        "colab": {
          "base_uri": "https://localhost:8080/",
          "height": 911
        },
        "id": "ZvZudS6ld83m",
        "outputId": "885846cb-7f9c-4af8-f9f6-e1792972e8ea"
      },
      "source": [
        "import matplotlib\r\n",
        "import matplotlib.pyplot as plt\r\n",
        "import pandas as pd\r\n",
        "\r\n",
        "matplotlib.style.use('ggplot')\r\n",
        "train_set.hist(alpha=0.5, figsize=(16, 10))"
      ],
      "execution_count": 2494,
      "outputs": [
        {
          "output_type": "execute_result",
          "data": {
            "text/plain": [
              "array([[<matplotlib.axes._subplots.AxesSubplot object at 0x7f8f3447ab38>,\n",
              "        <matplotlib.axes._subplots.AxesSubplot object at 0x7f8f30ebfc18>,\n",
              "        <matplotlib.axes._subplots.AxesSubplot object at 0x7f8f02615860>,\n",
              "        <matplotlib.axes._subplots.AxesSubplot object at 0x7f8f33429be0>],\n",
              "       [<matplotlib.axes._subplots.AxesSubplot object at 0x7f8f3d1e1f60>,\n",
              "        <matplotlib.axes._subplots.AxesSubplot object at 0x7f8efe8a4320>,\n",
              "        <matplotlib.axes._subplots.AxesSubplot object at 0x7f8f337476a0>,\n",
              "        <matplotlib.axes._subplots.AxesSubplot object at 0x7f8f3315a9e8>],\n",
              "       [<matplotlib.axes._subplots.AxesSubplot object at 0x7f8f3315aa58>,\n",
              "        <matplotlib.axes._subplots.AxesSubplot object at 0x7f8f054ea160>,\n",
              "        <matplotlib.axes._subplots.AxesSubplot object at 0x7f8efee3f4e0>,\n",
              "        <matplotlib.axes._subplots.AxesSubplot object at 0x7f8f00788860>],\n",
              "       [<matplotlib.axes._subplots.AxesSubplot object at 0x7f8f31714be0>,\n",
              "        <matplotlib.axes._subplots.AxesSubplot object at 0x7f8f00af6f60>,\n",
              "        <matplotlib.axes._subplots.AxesSubplot object at 0x7f8f015e1320>,\n",
              "        <matplotlib.axes._subplots.AxesSubplot object at 0x7f8f31de9668>],\n",
              "       [<matplotlib.axes._subplots.AxesSubplot object at 0x7f8efa78c9b0>,\n",
              "        <matplotlib.axes._subplots.AxesSubplot object at 0x7f8f3325cd30>,\n",
              "        <matplotlib.axes._subplots.AxesSubplot object at 0x7f8eff75e0f0>,\n",
              "        <matplotlib.axes._subplots.AxesSubplot object at 0x7f8efb12b470>]],\n",
              "      dtype=object)"
            ]
          },
          "metadata": {
            "tags": []
          },
          "execution_count": 2494
        },
        {
          "output_type": "display_data",
          "data": {
            "image/png": "[encoded data removed]",
            "text/plain": [
              "<Figure size 1152x720 with 20 Axes>"
            ]
          },
          "metadata": {
            "tags": []
          }
        }
      ]
    },
    {
      "cell_type": "code",
      "metadata": {
        "colab": {
          "base_uri": "https://localhost:8080/"
        },
        "id": "P6kUZEVTzCdl",
        "outputId": "f24283ce-2b84-4849-f9e6-3afb1f19d2e9"
      },
      "source": [
        "from scipy.stats import  skew\r\n",
        "print(\"Customer Name\")\r\n",
        "print(skew(train_set['name_customer']))   ##highly positive"
      ],
      "execution_count": 2495,
      "outputs": [
        {
          "output_type": "stream",
          "text": [
            "Customer Name\n",
            "4.9332065404545515\n"
          ],
          "name": "stdout"
        }
      ]
    },
    {
      "cell_type": "code",
      "metadata": {
        "colab": {
          "base_uri": "https://localhost:8080/",
          "height": 299
        },
        "id": "dXqQqUEXm-fV",
        "outputId": "003d0b6f-a9e8-4851-97f6-c1b7e517da24"
      },
      "source": [
        "sns.distplot(train_set['invoice_currency'])"
      ],
      "execution_count": 2496,
      "outputs": [
        {
          "output_type": "execute_result",
          "data": {
            "text/plain": [
              "<matplotlib.axes._subplots.AxesSubplot at 0x7f8ef9e4fd68>"
            ]
          },
          "metadata": {
            "tags": []
          },
          "execution_count": 2496
        },
        {
          "output_type": "display_data",
          "data": {
            "image/png": "[encoded data removed]",
            "text/plain": [
              "<Figure size 432x288 with 1 Axes>"
            ]
          },
          "metadata": {
            "tags": []
          }
        }
      ]
    },
    {
      "cell_type": "code",
      "metadata": {
        "colab": {
          "base_uri": "https://localhost:8080/"
        },
        "id": "0ul33-Xc0Qog",
        "outputId": "db08926c-bee2-4124-9d1d-aca4f66c6fb6"
      },
      "source": [
        "from scipy.stats import  skew\r\n",
        "print(\"Invoice Currency\")\r\n",
        "print(skew(train_set['invoice_currency'])) ##highly positive"
      ],
      "execution_count": 2497,
      "outputs": [
        {
          "output_type": "stream",
          "text": [
            "Invoice Currency\n",
            "3.1183813996672174\n"
          ],
          "name": "stdout"
        }
      ]
    },
    {
      "cell_type": "code",
      "metadata": {
        "colab": {
          "base_uri": "https://localhost:8080/",
          "height": 311
        },
        "id": "OwSNQoqtm-mb",
        "outputId": "10557d4e-b795-4325-85a8-35e201628618"
      },
      "source": [
        "sns.distplot(train_set['total_open_amount'])"
      ],
      "execution_count": 2498,
      "outputs": [
        {
          "output_type": "execute_result",
          "data": {
            "text/plain": [
              "<matplotlib.axes._subplots.AxesSubplot at 0x7f8f053b72e8>"
            ]
          },
          "metadata": {
            "tags": []
          },
          "execution_count": 2498
        },
        {
          "output_type": "display_data",
          "data": {
            "image/png": "[encoded data removed]",
            "text/plain": [
              "<Figure size 432x288 with 1 Axes>"
            ]
          },
          "metadata": {
            "tags": []
          }
        }
      ]
    },
    {
      "cell_type": "code",
      "metadata": {
        "colab": {
          "base_uri": "https://localhost:8080/"
        },
        "id": "PV3lx3I_0epk",
        "outputId": "2d746358-aaab-4d95-a146-8d17576a4fe8"
      },
      "source": [
        "from scipy.stats import  skew\r\n",
        "print(\"Total Open Amount\")\r\n",
        "print(skew(train_set['total_open_amount']))  ##highly positive\r\n"
      ],
      "execution_count": 2499,
      "outputs": [
        {
          "output_type": "stream",
          "text": [
            "Total Open Amount\n",
            "3.8743907399730424\n"
          ],
          "name": "stdout"
        }
      ]
    },
    {
      "cell_type": "code",
      "metadata": {
        "colab": {
          "base_uri": "https://localhost:8080/"
        },
        "id": "_VGroNwi1IbJ",
        "outputId": "878a5a94-5531-4ebf-8b93-217b5ac4e792"
      },
      "source": [
        "from scipy.stats import  skew\r\n",
        "print(\"Customer Payment Terms\")\r\n",
        "print(skew(train_set['cust_payment_terms']))    #less positively skewed"
      ],
      "execution_count": 2500,
      "outputs": [
        {
          "output_type": "stream",
          "text": [
            "Customer Payment Terms\n",
            "0.4712970681047752\n"
          ],
          "name": "stdout"
        }
      ]
    },
    {
      "cell_type": "code",
      "metadata": {
        "colab": {
          "base_uri": "https://localhost:8080/"
        },
        "id": "FaT5n0TB1Nn-",
        "outputId": "0cf1e79b-2e1b-4d25-99ab-3bc02c1fd372"
      },
      "source": [
        "from scipy.stats import  skew\r\n",
        "print(\"Is Open\")\r\n",
        "print(skew(train_set['isOpen']))    "
      ],
      "execution_count": 2501,
      "outputs": [
        {
          "output_type": "stream",
          "text": [
            "Is Open\n",
            "0.0\n"
          ],
          "name": "stdout"
        }
      ]
    },
    {
      "cell_type": "code",
      "metadata": {
        "colab": {
          "base_uri": "https://localhost:8080/"
        },
        "id": "XpZ9NZvlE87R",
        "outputId": "6dc1be17-7608-4e88-f60a-95d25e4998ae"
      },
      "source": [
        "print(\"Baseline Create month \")\r\n",
        "print(skew(train_set['baseline_create_date_month']))    "
      ],
      "execution_count": 2502,
      "outputs": [
        {
          "output_type": "stream",
          "text": [
            "Baseline Create month \n",
            "0.01449395855472953\n"
          ],
          "name": "stdout"
        }
      ]
    },
    {
      "cell_type": "code",
      "metadata": {
        "colab": {
          "base_uri": "https://localhost:8080/"
        },
        "id": "zP8tJJTAE_wz",
        "outputId": "e97ca648-1865-4124-f380-f2a31769feb9"
      },
      "source": [
        "print(\"Baseline Create Quarter\")\r\n",
        "print(skew(train_set['baseline_create_date_quarter']))    "
      ],
      "execution_count": 2503,
      "outputs": [
        {
          "output_type": "stream",
          "text": [
            "Baseline Create Quarter\n",
            "0.11016424383870904\n"
          ],
          "name": "stdout"
        }
      ]
    },
    {
      "cell_type": "code",
      "metadata": {
        "colab": {
          "base_uri": "https://localhost:8080/"
        },
        "id": "yVwLh_0pFSt8",
        "outputId": "a7e8d350-5a49-453a-8291-d3f0e4e55042"
      },
      "source": [
        "print(\"Create Date Month.1 month \")\r\n",
        "print(skew(train_set['create_date.1_month']))    "
      ],
      "execution_count": 2504,
      "outputs": [
        {
          "output_type": "stream",
          "text": [
            "Create Date Month.1 month \n",
            "0.01474858082509874\n"
          ],
          "name": "stdout"
        }
      ]
    },
    {
      "cell_type": "code",
      "metadata": {
        "colab": {
          "base_uri": "https://localhost:8080/"
        },
        "id": "5VgH3McgFTUl",
        "outputId": "825aac7d-e02a-4caa-a4a7-65b12c8a3ca5"
      },
      "source": [
        "print(\"Create date month.1 quarter \")\r\n",
        "print(skew(train_set['create_date.1_quarter']))    "
      ],
      "execution_count": 2505,
      "outputs": [
        {
          "output_type": "stream",
          "text": [
            "Create date month.1 quarter \n",
            "0.1120017141419997\n"
          ],
          "name": "stdout"
        }
      ]
    },
    {
      "cell_type": "code",
      "metadata": {
        "id": "sOeSfUSj2obc"
      },
      "source": [
        "####Skewness of columns which have high correlation with target label will not be altered"
      ],
      "execution_count": 2506,
      "outputs": []
    },
    {
      "cell_type": "code",
      "metadata": {
        "colab": {
          "base_uri": "https://localhost:8080/"
        },
        "id": "OmAV6oDFd8tM",
        "outputId": "330e4e87-be67-4f97-9f50-ac5edf01756b"
      },
      "source": [
        "###invoice currency is highly positively skewed and it is less correlated with target delay so we apply squarert transformation\r\n",
        "train_set['invoice_currency']=np.sqrt(train_set['invoice_currency'])\r\n",
        "\r\n",
        "print(skew(train_set['invoice_currency']))  ###no change "
      ],
      "execution_count": 2507,
      "outputs": [
        {
          "output_type": "stream",
          "text": [
            "3.118381399667216\n"
          ],
          "name": "stdout"
        }
      ]
    },
    {
      "cell_type": "code",
      "metadata": {
        "colab": {
          "base_uri": "https://localhost:8080/"
        },
        "id": "DtD1lJw6_HXY",
        "outputId": "ed3ca91e-6305-4f0b-afd1-bcf254dec3f6"
      },
      "source": [
        "train_set['total_open_amount']=np.sqrt(train_set['total_open_amount'])\r\n",
        "\r\n",
        "print(skew(train_set['total_open_amount']))  ###skewness reduced\r\n"
      ],
      "execution_count": 2508,
      "outputs": [
        {
          "output_type": "stream",
          "text": [
            "0.8349395151764905\n"
          ],
          "name": "stdout"
        }
      ]
    },
    {
      "cell_type": "code",
      "metadata": {
        "id": "DAvOZQ3JH57o"
      },
      "source": [
        "#train_set['cust_payment_terms']=np.sqrt(train_set['cust_payment_terms'])\r\n",
        "\r\n",
        "#print(skew(train_set['cust_payment_terms']))  ###skewness reduced"
      ],
      "execution_count": 2509,
      "outputs": []
    },
    {
      "cell_type": "code",
      "metadata": {
        "colab": {
          "base_uri": "https://localhost:8080/"
        },
        "id": "rEgByZR7IOgL",
        "outputId": "5b9bbd8b-8a83-4841-88ea-46f142e74864"
      },
      "source": [
        "train_set.dtypes"
      ],
      "execution_count": 2510,
      "outputs": [
        {
          "output_type": "execute_result",
          "data": {
            "text/plain": [
              "business_code                            int64\n",
              "cust_number                            float64\n",
              "name_customer                          float64\n",
              "clear_date                      datetime64[ns]\n",
              "doc_id                                  object\n",
              "posting_date                    datetime64[ns]\n",
              "document_create_date            datetime64[ns]\n",
              "document_create_date.1          datetime64[ns]\n",
              "due_in_date                     datetime64[ns]\n",
              "invoice_currency                       float64\n",
              "total_open_amount                      float64\n",
              "baseline_create_date            datetime64[ns]\n",
              "cust_payment_terms                       int64\n",
              "isOpen                                 float64\n",
              "target_delay                             int64\n",
              "create_date_month                        int64\n",
              "create_date.1_month                      int64\n",
              "posting_date_month                       int64\n",
              "baseline_create_date_month               int64\n",
              "due_in_date_month                        int64\n",
              "create_date_quarter                      int64\n",
              "create_date.1_quarter                    int64\n",
              "posting_date_quarter                     int64\n",
              "baseline_create_date_quarter             int64\n",
              "due_in_date_quarter                      int64\n",
              "dtype: object"
            ]
          },
          "metadata": {
            "tags": []
          },
          "execution_count": 2510
        }
      ]
    },
    {
      "cell_type": "code",
      "metadata": {
        "colab": {
          "base_uri": "https://localhost:8080/"
        },
        "id": "NDXqGX2kJ0lX",
        "outputId": "50260b48-610b-4797-d755-0f6fe3f73090"
      },
      "source": [
        "train_set['doc_id'].unique"
      ],
      "execution_count": 2511,
      "outputs": [
        {
          "output_type": "execute_result",
          "data": {
            "text/plain": [
              "<bound method Series.unique of 0        1.92866e+09\n",
              "1        1.92921e+09\n",
              "2        1.92938e+09\n",
              "3        1.92877e+09\n",
              "4        1.92941e+09\n",
              "            ...     \n",
              "46752    1.92975e+09\n",
              "46753    1.92953e+09\n",
              "46754    1.92953e+09\n",
              "46755    1.92855e+09\n",
              "46756    1.92892e+09\n",
              "Name: doc_id, Length: 39318, dtype: object>"
            ]
          },
          "metadata": {
            "tags": []
          },
          "execution_count": 2511
        }
      ]
    },
    {
      "cell_type": "code",
      "metadata": {
        "id": "GSo69YSaKCcl"
      },
      "source": [
        "###doc_id is primary key so drop\r\n",
        "train_set.drop(['doc_id'],axis=1,inplace=True)"
      ],
      "execution_count": 2512,
      "outputs": []
    },
    {
      "cell_type": "code",
      "metadata": {
        "colab": {
          "base_uri": "https://localhost:8080/"
        },
        "id": "QGvrXi-LIxLQ",
        "outputId": "ce72ec23-c40a-4459-ebd3-c47a8f31411e"
      },
      "source": [
        "#remove outliers from target_delay\r\n",
        "q1=train_set.target_delay.quantile(0.25)\r\n",
        "q3=train_set.target_delay.quantile(0.75)\r\n",
        "q1,q3"
      ],
      "execution_count": 2513,
      "outputs": [
        {
          "output_type": "execute_result",
          "data": {
            "text/plain": [
              "(-3.0, 2.0)"
            ]
          },
          "metadata": {
            "tags": []
          },
          "execution_count": 2513
        }
      ]
    },
    {
      "cell_type": "code",
      "metadata": {
        "colab": {
          "base_uri": "https://localhost:8080/"
        },
        "id": "Kxktvjm_IxQ5",
        "outputId": "7c1cdfcd-a807-478e-a056-d0a31ebc3958"
      },
      "source": [
        "iqr=q3-q1\r\n",
        "upper_limit=q3+1.5*iqr\r\n",
        "lower_limit=q1-1.5*iqr\r\n",
        "lower_limit,upper_limit"
      ],
      "execution_count": 2514,
      "outputs": [
        {
          "output_type": "execute_result",
          "data": {
            "text/plain": [
              "(-10.5, 9.5)"
            ]
          },
          "metadata": {
            "tags": []
          },
          "execution_count": 2514
        }
      ]
    },
    {
      "cell_type": "code",
      "metadata": {
        "colab": {
          "base_uri": "https://localhost:8080/",
          "height": 435
        },
        "id": "S2SP7Gc7Ixmp",
        "outputId": "ad2689d5-9b42-4ded-86e6-51845ade5da7"
      },
      "source": [
        "train_set[(train_set.target_delay<lower_limit)|(train_set.target_delay>upper_limit)] ##outlier"
      ],
      "execution_count": 2515,
      "outputs": [
        {
          "output_type": "execute_result",
          "data": {
            "text/html": [
              "<div>\n",
              "<style scoped>\n",
              "    .dataframe tbody tr th:only-of-type {\n",
              "        vertical-align: middle;\n",
              "    }\n",
              "\n",
              "    .dataframe tbody tr th {\n",
              "        vertical-align: top;\n",
              "    }\n",
              "\n",
              "    .dataframe thead th {\n",
              "        text-align: right;\n",
              "    }\n",
              "</style>\n",
              "<table border=\"1\" class=\"dataframe\">\n",
              "  <thead>\n",
              "    <tr style=\"text-align: right;\">\n",
              "      <th></th>\n",
              "      <th>business_code</th>\n",
              "      <th>cust_number</th>\n",
              "      <th>name_customer</th>\n",
              "      <th>clear_date</th>\n",
              "      <th>posting_date</th>\n",
              "      <th>document_create_date</th>\n",
              "      <th>document_create_date.1</th>\n",
              "      <th>due_in_date</th>\n",
              "      <th>invoice_currency</th>\n",
              "      <th>total_open_amount</th>\n",
              "      <th>baseline_create_date</th>\n",
              "      <th>cust_payment_terms</th>\n",
              "      <th>isOpen</th>\n",
              "      <th>target_delay</th>\n",
              "      <th>create_date_month</th>\n",
              "      <th>create_date.1_month</th>\n",
              "      <th>posting_date_month</th>\n",
              "      <th>baseline_create_date_month</th>\n",
              "      <th>due_in_date_month</th>\n",
              "      <th>create_date_quarter</th>\n",
              "      <th>create_date.1_quarter</th>\n",
              "      <th>posting_date_quarter</th>\n",
              "      <th>baseline_create_date_quarter</th>\n",
              "      <th>due_in_date_quarter</th>\n",
              "    </tr>\n",
              "  </thead>\n",
              "  <tbody>\n",
              "    <tr>\n",
              "      <th>11</th>\n",
              "      <td>1</td>\n",
              "      <td>2.321580</td>\n",
              "      <td>2.171247</td>\n",
              "      <td>2019-03-01</td>\n",
              "      <td>2019-01-25</td>\n",
              "      <td>2019-01-26</td>\n",
              "      <td>2019-01-25</td>\n",
              "      <td>2019-02-10</td>\n",
              "      <td>0.781515</td>\n",
              "      <td>137.766179</td>\n",
              "      <td>2019-01-25</td>\n",
              "      <td>8</td>\n",
              "      <td>1.007299</td>\n",
              "      <td>19</td>\n",
              "      <td>1</td>\n",
              "      <td>1</td>\n",
              "      <td>1</td>\n",
              "      <td>1</td>\n",
              "      <td>2</td>\n",
              "      <td>1</td>\n",
              "      <td>1</td>\n",
              "      <td>1</td>\n",
              "      <td>1</td>\n",
              "      <td>1</td>\n",
              "    </tr>\n",
              "    <tr>\n",
              "      <th>37</th>\n",
              "      <td>1</td>\n",
              "      <td>8.884532</td>\n",
              "      <td>18.820000</td>\n",
              "      <td>2019-11-01</td>\n",
              "      <td>2019-09-06</td>\n",
              "      <td>2019-09-04</td>\n",
              "      <td>2019-09-06</td>\n",
              "      <td>2019-10-11</td>\n",
              "      <td>0.781515</td>\n",
              "      <td>145.569228</td>\n",
              "      <td>2019-09-06</td>\n",
              "      <td>20</td>\n",
              "      <td>1.007299</td>\n",
              "      <td>21</td>\n",
              "      <td>9</td>\n",
              "      <td>9</td>\n",
              "      <td>9</td>\n",
              "      <td>9</td>\n",
              "      <td>10</td>\n",
              "      <td>3</td>\n",
              "      <td>3</td>\n",
              "      <td>3</td>\n",
              "      <td>3</td>\n",
              "      <td>4</td>\n",
              "    </tr>\n",
              "    <tr>\n",
              "      <th>42</th>\n",
              "      <td>0</td>\n",
              "      <td>53.200000</td>\n",
              "      <td>60.444444</td>\n",
              "      <td>2019-09-18</td>\n",
              "      <td>2019-07-05</td>\n",
              "      <td>2019-07-05</td>\n",
              "      <td>2019-07-05</td>\n",
              "      <td>2019-07-20</td>\n",
              "      <td>2.371141</td>\n",
              "      <td>33.879197</td>\n",
              "      <td>2019-07-10</td>\n",
              "      <td>2</td>\n",
              "      <td>1.007299</td>\n",
              "      <td>60</td>\n",
              "      <td>7</td>\n",
              "      <td>7</td>\n",
              "      <td>7</td>\n",
              "      <td>7</td>\n",
              "      <td>7</td>\n",
              "      <td>3</td>\n",
              "      <td>3</td>\n",
              "      <td>3</td>\n",
              "      <td>3</td>\n",
              "      <td>3</td>\n",
              "    </tr>\n",
              "    <tr>\n",
              "      <th>43</th>\n",
              "      <td>1</td>\n",
              "      <td>2.487395</td>\n",
              "      <td>1.400000</td>\n",
              "      <td>2019-03-13</td>\n",
              "      <td>2019-02-13</td>\n",
              "      <td>2019-02-08</td>\n",
              "      <td>2019-02-13</td>\n",
              "      <td>2019-02-28</td>\n",
              "      <td>0.781515</td>\n",
              "      <td>28.339019</td>\n",
              "      <td>2019-02-13</td>\n",
              "      <td>10</td>\n",
              "      <td>1.007299</td>\n",
              "      <td>13</td>\n",
              "      <td>2</td>\n",
              "      <td>2</td>\n",
              "      <td>2</td>\n",
              "      <td>2</td>\n",
              "      <td>2</td>\n",
              "      <td>1</td>\n",
              "      <td>1</td>\n",
              "      <td>1</td>\n",
              "      <td>1</td>\n",
              "      <td>1</td>\n",
              "    </tr>\n",
              "    <tr>\n",
              "      <th>44</th>\n",
              "      <td>0</td>\n",
              "      <td>8.516129</td>\n",
              "      <td>11.595238</td>\n",
              "      <td>2019-11-01</td>\n",
              "      <td>2019-09-03</td>\n",
              "      <td>2019-09-03</td>\n",
              "      <td>2019-09-03</td>\n",
              "      <td>2019-10-09</td>\n",
              "      <td>2.371141</td>\n",
              "      <td>168.933123</td>\n",
              "      <td>2019-09-04</td>\n",
              "      <td>20</td>\n",
              "      <td>1.007299</td>\n",
              "      <td>23</td>\n",
              "      <td>9</td>\n",
              "      <td>9</td>\n",
              "      <td>9</td>\n",
              "      <td>9</td>\n",
              "      <td>10</td>\n",
              "      <td>3</td>\n",
              "      <td>3</td>\n",
              "      <td>3</td>\n",
              "      <td>3</td>\n",
              "      <td>4</td>\n",
              "    </tr>\n",
              "    <tr>\n",
              "      <th>...</th>\n",
              "      <td>...</td>\n",
              "      <td>...</td>\n",
              "      <td>...</td>\n",
              "      <td>...</td>\n",
              "      <td>...</td>\n",
              "      <td>...</td>\n",
              "      <td>...</td>\n",
              "      <td>...</td>\n",
              "      <td>...</td>\n",
              "      <td>...</td>\n",
              "      <td>...</td>\n",
              "      <td>...</td>\n",
              "      <td>...</td>\n",
              "      <td>...</td>\n",
              "      <td>...</td>\n",
              "      <td>...</td>\n",
              "      <td>...</td>\n",
              "      <td>...</td>\n",
              "      <td>...</td>\n",
              "      <td>...</td>\n",
              "      <td>...</td>\n",
              "      <td>...</td>\n",
              "      <td>...</td>\n",
              "      <td>...</td>\n",
              "    </tr>\n",
              "    <tr>\n",
              "      <th>46677</th>\n",
              "      <td>1</td>\n",
              "      <td>3.461538</td>\n",
              "      <td>2.171247</td>\n",
              "      <td>2019-05-10</td>\n",
              "      <td>2019-04-07</td>\n",
              "      <td>2019-04-05</td>\n",
              "      <td>2019-04-07</td>\n",
              "      <td>2019-04-17</td>\n",
              "      <td>0.781515</td>\n",
              "      <td>187.129634</td>\n",
              "      <td>2019-04-07</td>\n",
              "      <td>4</td>\n",
              "      <td>1.007299</td>\n",
              "      <td>23</td>\n",
              "      <td>4</td>\n",
              "      <td>4</td>\n",
              "      <td>4</td>\n",
              "      <td>4</td>\n",
              "      <td>4</td>\n",
              "      <td>2</td>\n",
              "      <td>2</td>\n",
              "      <td>2</td>\n",
              "      <td>2</td>\n",
              "      <td>2</td>\n",
              "    </tr>\n",
              "    <tr>\n",
              "      <th>46698</th>\n",
              "      <td>1</td>\n",
              "      <td>2.321580</td>\n",
              "      <td>4.184211</td>\n",
              "      <td>2019-04-23</td>\n",
              "      <td>2019-03-20</td>\n",
              "      <td>2019-03-14</td>\n",
              "      <td>2019-03-20</td>\n",
              "      <td>2019-04-09</td>\n",
              "      <td>0.781515</td>\n",
              "      <td>43.410483</td>\n",
              "      <td>2019-03-20</td>\n",
              "      <td>17</td>\n",
              "      <td>1.007299</td>\n",
              "      <td>14</td>\n",
              "      <td>3</td>\n",
              "      <td>3</td>\n",
              "      <td>3</td>\n",
              "      <td>3</td>\n",
              "      <td>4</td>\n",
              "      <td>1</td>\n",
              "      <td>1</td>\n",
              "      <td>1</td>\n",
              "      <td>1</td>\n",
              "      <td>2</td>\n",
              "    </tr>\n",
              "    <tr>\n",
              "      <th>46707</th>\n",
              "      <td>1</td>\n",
              "      <td>43.096601</td>\n",
              "      <td>44.547170</td>\n",
              "      <td>2019-03-01</td>\n",
              "      <td>2019-01-08</td>\n",
              "      <td>2019-01-08</td>\n",
              "      <td>2019-01-08</td>\n",
              "      <td>2019-01-08</td>\n",
              "      <td>0.781515</td>\n",
              "      <td>71.536704</td>\n",
              "      <td>2019-01-08</td>\n",
              "      <td>38</td>\n",
              "      <td>1.007299</td>\n",
              "      <td>52</td>\n",
              "      <td>1</td>\n",
              "      <td>1</td>\n",
              "      <td>1</td>\n",
              "      <td>1</td>\n",
              "      <td>1</td>\n",
              "      <td>1</td>\n",
              "      <td>1</td>\n",
              "      <td>1</td>\n",
              "      <td>1</td>\n",
              "      <td>1</td>\n",
              "    </tr>\n",
              "    <tr>\n",
              "      <th>46720</th>\n",
              "      <td>1</td>\n",
              "      <td>43.096601</td>\n",
              "      <td>44.326531</td>\n",
              "      <td>2019-11-27</td>\n",
              "      <td>2019-10-15</td>\n",
              "      <td>2019-10-15</td>\n",
              "      <td>2019-10-15</td>\n",
              "      <td>2019-10-15</td>\n",
              "      <td>0.781515</td>\n",
              "      <td>97.180245</td>\n",
              "      <td>2019-10-15</td>\n",
              "      <td>38</td>\n",
              "      <td>1.007299</td>\n",
              "      <td>43</td>\n",
              "      <td>10</td>\n",
              "      <td>10</td>\n",
              "      <td>10</td>\n",
              "      <td>10</td>\n",
              "      <td>10</td>\n",
              "      <td>4</td>\n",
              "      <td>4</td>\n",
              "      <td>4</td>\n",
              "      <td>4</td>\n",
              "      <td>4</td>\n",
              "    </tr>\n",
              "    <tr>\n",
              "      <th>46729</th>\n",
              "      <td>1</td>\n",
              "      <td>-1.859410</td>\n",
              "      <td>-1.372093</td>\n",
              "      <td>2019-08-15</td>\n",
              "      <td>2019-07-17</td>\n",
              "      <td>2019-07-15</td>\n",
              "      <td>2019-07-17</td>\n",
              "      <td>2019-09-30</td>\n",
              "      <td>0.781515</td>\n",
              "      <td>6.717142</td>\n",
              "      <td>2019-07-17</td>\n",
              "      <td>35</td>\n",
              "      <td>1.007299</td>\n",
              "      <td>-46</td>\n",
              "      <td>7</td>\n",
              "      <td>7</td>\n",
              "      <td>7</td>\n",
              "      <td>7</td>\n",
              "      <td>9</td>\n",
              "      <td>3</td>\n",
              "      <td>3</td>\n",
              "      <td>3</td>\n",
              "      <td>3</td>\n",
              "      <td>3</td>\n",
              "    </tr>\n",
              "  </tbody>\n",
              "</table>\n",
              "<p>2993 rows × 24 columns</p>\n",
              "</div>"
            ],
            "text/plain": [
              "       business_code  ...  due_in_date_quarter\n",
              "11                 1  ...                    1\n",
              "37                 1  ...                    4\n",
              "42                 0  ...                    3\n",
              "43                 1  ...                    1\n",
              "44                 0  ...                    4\n",
              "...              ...  ...                  ...\n",
              "46677              1  ...                    2\n",
              "46698              1  ...                    2\n",
              "46707              1  ...                    1\n",
              "46720              1  ...                    4\n",
              "46729              1  ...                    3\n",
              "\n",
              "[2993 rows x 24 columns]"
            ]
          },
          "metadata": {
            "tags": []
          },
          "execution_count": 2515
        }
      ]
    },
    {
      "cell_type": "code",
      "metadata": {
        "colab": {
          "base_uri": "https://localhost:8080/",
          "height": 435
        },
        "id": "iuL3G_NMLVRf",
        "outputId": "42cb381e-d5cc-4c32-8168-2f06931387f5"
      },
      "source": [
        "train_set=train_set[(train_set.target_delay>lower_limit)&(train_set.target_delay<upper_limit)] ##removr outlier\r\n",
        "train_set.reset_index(drop=True)"
      ],
      "execution_count": 2516,
      "outputs": [
        {
          "output_type": "execute_result",
          "data": {
            "text/html": [
              "<div>\n",
              "<style scoped>\n",
              "    .dataframe tbody tr th:only-of-type {\n",
              "        vertical-align: middle;\n",
              "    }\n",
              "\n",
              "    .dataframe tbody tr th {\n",
              "        vertical-align: top;\n",
              "    }\n",
              "\n",
              "    .dataframe thead th {\n",
              "        text-align: right;\n",
              "    }\n",
              "</style>\n",
              "<table border=\"1\" class=\"dataframe\">\n",
              "  <thead>\n",
              "    <tr style=\"text-align: right;\">\n",
              "      <th></th>\n",
              "      <th>business_code</th>\n",
              "      <th>cust_number</th>\n",
              "      <th>name_customer</th>\n",
              "      <th>clear_date</th>\n",
              "      <th>posting_date</th>\n",
              "      <th>document_create_date</th>\n",
              "      <th>document_create_date.1</th>\n",
              "      <th>due_in_date</th>\n",
              "      <th>invoice_currency</th>\n",
              "      <th>total_open_amount</th>\n",
              "      <th>baseline_create_date</th>\n",
              "      <th>cust_payment_terms</th>\n",
              "      <th>isOpen</th>\n",
              "      <th>target_delay</th>\n",
              "      <th>create_date_month</th>\n",
              "      <th>create_date.1_month</th>\n",
              "      <th>posting_date_month</th>\n",
              "      <th>baseline_create_date_month</th>\n",
              "      <th>due_in_date_month</th>\n",
              "      <th>create_date_quarter</th>\n",
              "      <th>create_date.1_quarter</th>\n",
              "      <th>posting_date_quarter</th>\n",
              "      <th>baseline_create_date_quarter</th>\n",
              "      <th>due_in_date_quarter</th>\n",
              "    </tr>\n",
              "  </thead>\n",
              "  <tbody>\n",
              "    <tr>\n",
              "      <th>0</th>\n",
              "      <td>1</td>\n",
              "      <td>-6.640823</td>\n",
              "      <td>-5.742424</td>\n",
              "      <td>2019-02-06</td>\n",
              "      <td>2019-01-22</td>\n",
              "      <td>2019-01-21</td>\n",
              "      <td>2019-01-22</td>\n",
              "      <td>2019-02-11</td>\n",
              "      <td>0.781515</td>\n",
              "      <td>45.602083</td>\n",
              "      <td>2019-01-22</td>\n",
              "      <td>17</td>\n",
              "      <td>1.007299</td>\n",
              "      <td>-5</td>\n",
              "      <td>1</td>\n",
              "      <td>1</td>\n",
              "      <td>1</td>\n",
              "      <td>1</td>\n",
              "      <td>2</td>\n",
              "      <td>1</td>\n",
              "      <td>1</td>\n",
              "      <td>1</td>\n",
              "      <td>1</td>\n",
              "      <td>1</td>\n",
              "    </tr>\n",
              "    <tr>\n",
              "      <th>1</th>\n",
              "      <td>1</td>\n",
              "      <td>-4.493711</td>\n",
              "      <td>-3.893939</td>\n",
              "      <td>2019-05-01</td>\n",
              "      <td>2019-04-26</td>\n",
              "      <td>2019-04-26</td>\n",
              "      <td>2019-04-26</td>\n",
              "      <td>2019-05-09</td>\n",
              "      <td>0.781515</td>\n",
              "      <td>8.277681</td>\n",
              "      <td>2019-04-16</td>\n",
              "      <td>25</td>\n",
              "      <td>1.007299</td>\n",
              "      <td>-8</td>\n",
              "      <td>4</td>\n",
              "      <td>4</td>\n",
              "      <td>4</td>\n",
              "      <td>4</td>\n",
              "      <td>5</td>\n",
              "      <td>2</td>\n",
              "      <td>2</td>\n",
              "      <td>2</td>\n",
              "      <td>2</td>\n",
              "      <td>2</td>\n",
              "    </tr>\n",
              "    <tr>\n",
              "      <th>2</th>\n",
              "      <td>1</td>\n",
              "      <td>-3.908537</td>\n",
              "      <td>-4.506667</td>\n",
              "      <td>2019-06-03</td>\n",
              "      <td>2019-05-25</td>\n",
              "      <td>2019-05-25</td>\n",
              "      <td>2019-05-25</td>\n",
              "      <td>2019-06-08</td>\n",
              "      <td>0.781515</td>\n",
              "      <td>40.961201</td>\n",
              "      <td>2019-05-16</td>\n",
              "      <td>25</td>\n",
              "      <td>1.007299</td>\n",
              "      <td>-5</td>\n",
              "      <td>5</td>\n",
              "      <td>5</td>\n",
              "      <td>5</td>\n",
              "      <td>5</td>\n",
              "      <td>6</td>\n",
              "      <td>2</td>\n",
              "      <td>2</td>\n",
              "      <td>2</td>\n",
              "      <td>2</td>\n",
              "      <td>2</td>\n",
              "    </tr>\n",
              "    <tr>\n",
              "      <th>3</th>\n",
              "      <td>1</td>\n",
              "      <td>-2.306052</td>\n",
              "      <td>-2.331402</td>\n",
              "      <td>2019-02-20</td>\n",
              "      <td>2019-02-09</td>\n",
              "      <td>2019-02-08</td>\n",
              "      <td>2019-02-09</td>\n",
              "      <td>2019-02-24</td>\n",
              "      <td>0.781515</td>\n",
              "      <td>258.663411</td>\n",
              "      <td>2019-02-09</td>\n",
              "      <td>22</td>\n",
              "      <td>1.007299</td>\n",
              "      <td>-4</td>\n",
              "      <td>2</td>\n",
              "      <td>2</td>\n",
              "      <td>2</td>\n",
              "      <td>2</td>\n",
              "      <td>2</td>\n",
              "      <td>1</td>\n",
              "      <td>1</td>\n",
              "      <td>1</td>\n",
              "      <td>1</td>\n",
              "      <td>1</td>\n",
              "    </tr>\n",
              "    <tr>\n",
              "      <th>4</th>\n",
              "      <td>1</td>\n",
              "      <td>-2.165963</td>\n",
              "      <td>-2.507822</td>\n",
              "      <td>2019-06-12</td>\n",
              "      <td>2019-06-01</td>\n",
              "      <td>2019-05-30</td>\n",
              "      <td>2019-06-01</td>\n",
              "      <td>2019-06-16</td>\n",
              "      <td>0.781515</td>\n",
              "      <td>256.113159</td>\n",
              "      <td>2019-06-01</td>\n",
              "      <td>22</td>\n",
              "      <td>1.007299</td>\n",
              "      <td>-4</td>\n",
              "      <td>5</td>\n",
              "      <td>6</td>\n",
              "      <td>6</td>\n",
              "      <td>6</td>\n",
              "      <td>6</td>\n",
              "      <td>2</td>\n",
              "      <td>2</td>\n",
              "      <td>2</td>\n",
              "      <td>2</td>\n",
              "      <td>2</td>\n",
              "    </tr>\n",
              "    <tr>\n",
              "      <th>...</th>\n",
              "      <td>...</td>\n",
              "      <td>...</td>\n",
              "      <td>...</td>\n",
              "      <td>...</td>\n",
              "      <td>...</td>\n",
              "      <td>...</td>\n",
              "      <td>...</td>\n",
              "      <td>...</td>\n",
              "      <td>...</td>\n",
              "      <td>...</td>\n",
              "      <td>...</td>\n",
              "      <td>...</td>\n",
              "      <td>...</td>\n",
              "      <td>...</td>\n",
              "      <td>...</td>\n",
              "      <td>...</td>\n",
              "      <td>...</td>\n",
              "      <td>...</td>\n",
              "      <td>...</td>\n",
              "      <td>...</td>\n",
              "      <td>...</td>\n",
              "      <td>...</td>\n",
              "      <td>...</td>\n",
              "      <td>...</td>\n",
              "    </tr>\n",
              "    <tr>\n",
              "      <th>36320</th>\n",
              "      <td>1</td>\n",
              "      <td>0.957746</td>\n",
              "      <td>0.600000</td>\n",
              "      <td>2019-08-30</td>\n",
              "      <td>2019-08-14</td>\n",
              "      <td>2019-08-15</td>\n",
              "      <td>2019-08-14</td>\n",
              "      <td>2019-08-29</td>\n",
              "      <td>0.781515</td>\n",
              "      <td>241.079593</td>\n",
              "      <td>2019-08-14</td>\n",
              "      <td>10</td>\n",
              "      <td>1.007299</td>\n",
              "      <td>1</td>\n",
              "      <td>8</td>\n",
              "      <td>8</td>\n",
              "      <td>8</td>\n",
              "      <td>8</td>\n",
              "      <td>8</td>\n",
              "      <td>3</td>\n",
              "      <td>3</td>\n",
              "      <td>3</td>\n",
              "      <td>3</td>\n",
              "      <td>3</td>\n",
              "    </tr>\n",
              "    <tr>\n",
              "      <th>36321</th>\n",
              "      <td>1</td>\n",
              "      <td>-1.636364</td>\n",
              "      <td>4.461538</td>\n",
              "      <td>2019-07-08</td>\n",
              "      <td>2019-06-24</td>\n",
              "      <td>2019-06-23</td>\n",
              "      <td>2019-06-24</td>\n",
              "      <td>2019-07-09</td>\n",
              "      <td>0.781515</td>\n",
              "      <td>108.491705</td>\n",
              "      <td>2019-06-24</td>\n",
              "      <td>15</td>\n",
              "      <td>1.007299</td>\n",
              "      <td>-1</td>\n",
              "      <td>6</td>\n",
              "      <td>6</td>\n",
              "      <td>6</td>\n",
              "      <td>6</td>\n",
              "      <td>7</td>\n",
              "      <td>2</td>\n",
              "      <td>2</td>\n",
              "      <td>2</td>\n",
              "      <td>2</td>\n",
              "      <td>3</td>\n",
              "    </tr>\n",
              "    <tr>\n",
              "      <th>36322</th>\n",
              "      <td>1</td>\n",
              "      <td>-2.306052</td>\n",
              "      <td>-1.981413</td>\n",
              "      <td>2019-07-03</td>\n",
              "      <td>2019-06-23</td>\n",
              "      <td>2019-06-21</td>\n",
              "      <td>2019-06-23</td>\n",
              "      <td>2019-07-08</td>\n",
              "      <td>0.781515</td>\n",
              "      <td>265.229146</td>\n",
              "      <td>2019-06-23</td>\n",
              "      <td>22</td>\n",
              "      <td>1.007299</td>\n",
              "      <td>-5</td>\n",
              "      <td>6</td>\n",
              "      <td>6</td>\n",
              "      <td>6</td>\n",
              "      <td>6</td>\n",
              "      <td>7</td>\n",
              "      <td>2</td>\n",
              "      <td>2</td>\n",
              "      <td>2</td>\n",
              "      <td>2</td>\n",
              "      <td>3</td>\n",
              "    </tr>\n",
              "    <tr>\n",
              "      <th>36323</th>\n",
              "      <td>1</td>\n",
              "      <td>1.894737</td>\n",
              "      <td>1.666667</td>\n",
              "      <td>2019-01-17</td>\n",
              "      <td>2019-01-02</td>\n",
              "      <td>2019-01-02</td>\n",
              "      <td>2019-01-02</td>\n",
              "      <td>2019-01-17</td>\n",
              "      <td>0.781515</td>\n",
              "      <td>368.345558</td>\n",
              "      <td>2019-01-02</td>\n",
              "      <td>10</td>\n",
              "      <td>1.007299</td>\n",
              "      <td>0</td>\n",
              "      <td>1</td>\n",
              "      <td>1</td>\n",
              "      <td>1</td>\n",
              "      <td>1</td>\n",
              "      <td>1</td>\n",
              "      <td>1</td>\n",
              "      <td>1</td>\n",
              "      <td>1</td>\n",
              "      <td>1</td>\n",
              "      <td>1</td>\n",
              "    </tr>\n",
              "    <tr>\n",
              "      <th>36324</th>\n",
              "      <td>1</td>\n",
              "      <td>0.173913</td>\n",
              "      <td>2.171247</td>\n",
              "      <td>2019-03-22</td>\n",
              "      <td>2019-03-07</td>\n",
              "      <td>2019-03-07</td>\n",
              "      <td>2019-03-07</td>\n",
              "      <td>2019-03-22</td>\n",
              "      <td>0.781515</td>\n",
              "      <td>180.769466</td>\n",
              "      <td>2019-03-07</td>\n",
              "      <td>10</td>\n",
              "      <td>1.007299</td>\n",
              "      <td>0</td>\n",
              "      <td>3</td>\n",
              "      <td>3</td>\n",
              "      <td>3</td>\n",
              "      <td>3</td>\n",
              "      <td>3</td>\n",
              "      <td>1</td>\n",
              "      <td>1</td>\n",
              "      <td>1</td>\n",
              "      <td>1</td>\n",
              "      <td>1</td>\n",
              "    </tr>\n",
              "  </tbody>\n",
              "</table>\n",
              "<p>36325 rows × 24 columns</p>\n",
              "</div>"
            ],
            "text/plain": [
              "       business_code  ...  due_in_date_quarter\n",
              "0                  1  ...                    1\n",
              "1                  1  ...                    2\n",
              "2                  1  ...                    2\n",
              "3                  1  ...                    1\n",
              "4                  1  ...                    2\n",
              "...              ...  ...                  ...\n",
              "36320              1  ...                    3\n",
              "36321              1  ...                    3\n",
              "36322              1  ...                    3\n",
              "36323              1  ...                    1\n",
              "36324              1  ...                    1\n",
              "\n",
              "[36325 rows x 24 columns]"
            ]
          },
          "metadata": {
            "tags": []
          },
          "execution_count": 2516
        }
      ]
    },
    {
      "cell_type": "code",
      "metadata": {
        "id": "IVt-Ir0DQJn9"
      },
      "source": [
        "###Graph between create date.1 and posting date whith target variable"
      ],
      "execution_count": 2517,
      "outputs": []
    },
    {
      "cell_type": "code",
      "metadata": {
        "colab": {
          "base_uri": "https://localhost:8080/",
          "height": 282
        },
        "id": "-EJjnVRTQJym",
        "outputId": "fa46ac74-7f48-4098-bd9f-063cb59003bb"
      },
      "source": [
        "plt.scatter(train_set[:30]['create_date.1_month'], train_set[:30]['posting_date_month'],color='r',label='posting date month')\r\n",
        "\r\n",
        "plt.xlabel(\"month\")\r\n",
        "plt.legend()\r\n",
        "plt.show()\r\n"
      ],
      "execution_count": 2518,
      "outputs": [
        {
          "output_type": "display_data",
          "data": {
            "image/png": "[encoded data removed]",
            "text/plain": [
              "<Figure size 432x288 with 1 Axes>"
            ]
          },
          "metadata": {
            "tags": []
          }
        }
      ]
    },
    {
      "cell_type": "code",
      "metadata": {
        "colab": {
          "base_uri": "https://localhost:8080/"
        },
        "id": "QiVjRKHXUMrY",
        "outputId": "a06eecb5-897c-4ae6-a8eb-34a18f7b4057"
      },
      "source": [
        "#corr is 1.00 and graph shows their strongly related so dropping posting_date_month\r\n",
        "c1=train_set['posting_date_month'].corr(train_set['baseline_create_date_month'])\r\n",
        "c2=train_set['posting_date_month'].corr(train_set['target_delay'])\r\n",
        "c1,c2"
      ],
      "execution_count": 2519,
      "outputs": [
        {
          "output_type": "execute_result",
          "data": {
            "text/plain": [
              "(0.9985934859646209, -0.00036531463662926574)"
            ]
          },
          "metadata": {
            "tags": []
          },
          "execution_count": 2519
        }
      ]
    },
    {
      "cell_type": "code",
      "metadata": {
        "colab": {
          "base_uri": "https://localhost:8080/",
          "height": 435
        },
        "id": "rUx6Uq-tk09F",
        "outputId": "35444daf-ce13-4c88-f820-5497f51326f3"
      },
      "source": [
        "train_set.drop(['posting_date_month'],axis=1,inplace=True)\r\n",
        "train_set"
      ],
      "execution_count": 2520,
      "outputs": [
        {
          "output_type": "execute_result",
          "data": {
            "text/html": [
              "<div>\n",
              "<style scoped>\n",
              "    .dataframe tbody tr th:only-of-type {\n",
              "        vertical-align: middle;\n",
              "    }\n",
              "\n",
              "    .dataframe tbody tr th {\n",
              "        vertical-align: top;\n",
              "    }\n",
              "\n",
              "    .dataframe thead th {\n",
              "        text-align: right;\n",
              "    }\n",
              "</style>\n",
              "<table border=\"1\" class=\"dataframe\">\n",
              "  <thead>\n",
              "    <tr style=\"text-align: right;\">\n",
              "      <th></th>\n",
              "      <th>business_code</th>\n",
              "      <th>cust_number</th>\n",
              "      <th>name_customer</th>\n",
              "      <th>clear_date</th>\n",
              "      <th>posting_date</th>\n",
              "      <th>document_create_date</th>\n",
              "      <th>document_create_date.1</th>\n",
              "      <th>due_in_date</th>\n",
              "      <th>invoice_currency</th>\n",
              "      <th>total_open_amount</th>\n",
              "      <th>baseline_create_date</th>\n",
              "      <th>cust_payment_terms</th>\n",
              "      <th>isOpen</th>\n",
              "      <th>target_delay</th>\n",
              "      <th>create_date_month</th>\n",
              "      <th>create_date.1_month</th>\n",
              "      <th>baseline_create_date_month</th>\n",
              "      <th>due_in_date_month</th>\n",
              "      <th>create_date_quarter</th>\n",
              "      <th>create_date.1_quarter</th>\n",
              "      <th>posting_date_quarter</th>\n",
              "      <th>baseline_create_date_quarter</th>\n",
              "      <th>due_in_date_quarter</th>\n",
              "    </tr>\n",
              "  </thead>\n",
              "  <tbody>\n",
              "    <tr>\n",
              "      <th>0</th>\n",
              "      <td>1</td>\n",
              "      <td>-6.640823</td>\n",
              "      <td>-5.742424</td>\n",
              "      <td>2019-02-06</td>\n",
              "      <td>2019-01-22</td>\n",
              "      <td>2019-01-21</td>\n",
              "      <td>2019-01-22</td>\n",
              "      <td>2019-02-11</td>\n",
              "      <td>0.781515</td>\n",
              "      <td>45.602083</td>\n",
              "      <td>2019-01-22</td>\n",
              "      <td>17</td>\n",
              "      <td>1.007299</td>\n",
              "      <td>-5</td>\n",
              "      <td>1</td>\n",
              "      <td>1</td>\n",
              "      <td>1</td>\n",
              "      <td>2</td>\n",
              "      <td>1</td>\n",
              "      <td>1</td>\n",
              "      <td>1</td>\n",
              "      <td>1</td>\n",
              "      <td>1</td>\n",
              "    </tr>\n",
              "    <tr>\n",
              "      <th>1</th>\n",
              "      <td>1</td>\n",
              "      <td>-4.493711</td>\n",
              "      <td>-3.893939</td>\n",
              "      <td>2019-05-01</td>\n",
              "      <td>2019-04-26</td>\n",
              "      <td>2019-04-26</td>\n",
              "      <td>2019-04-26</td>\n",
              "      <td>2019-05-09</td>\n",
              "      <td>0.781515</td>\n",
              "      <td>8.277681</td>\n",
              "      <td>2019-04-16</td>\n",
              "      <td>25</td>\n",
              "      <td>1.007299</td>\n",
              "      <td>-8</td>\n",
              "      <td>4</td>\n",
              "      <td>4</td>\n",
              "      <td>4</td>\n",
              "      <td>5</td>\n",
              "      <td>2</td>\n",
              "      <td>2</td>\n",
              "      <td>2</td>\n",
              "      <td>2</td>\n",
              "      <td>2</td>\n",
              "    </tr>\n",
              "    <tr>\n",
              "      <th>2</th>\n",
              "      <td>1</td>\n",
              "      <td>-3.908537</td>\n",
              "      <td>-4.506667</td>\n",
              "      <td>2019-06-03</td>\n",
              "      <td>2019-05-25</td>\n",
              "      <td>2019-05-25</td>\n",
              "      <td>2019-05-25</td>\n",
              "      <td>2019-06-08</td>\n",
              "      <td>0.781515</td>\n",
              "      <td>40.961201</td>\n",
              "      <td>2019-05-16</td>\n",
              "      <td>25</td>\n",
              "      <td>1.007299</td>\n",
              "      <td>-5</td>\n",
              "      <td>5</td>\n",
              "      <td>5</td>\n",
              "      <td>5</td>\n",
              "      <td>6</td>\n",
              "      <td>2</td>\n",
              "      <td>2</td>\n",
              "      <td>2</td>\n",
              "      <td>2</td>\n",
              "      <td>2</td>\n",
              "    </tr>\n",
              "    <tr>\n",
              "      <th>3</th>\n",
              "      <td>1</td>\n",
              "      <td>-2.306052</td>\n",
              "      <td>-2.331402</td>\n",
              "      <td>2019-02-20</td>\n",
              "      <td>2019-02-09</td>\n",
              "      <td>2019-02-08</td>\n",
              "      <td>2019-02-09</td>\n",
              "      <td>2019-02-24</td>\n",
              "      <td>0.781515</td>\n",
              "      <td>258.663411</td>\n",
              "      <td>2019-02-09</td>\n",
              "      <td>22</td>\n",
              "      <td>1.007299</td>\n",
              "      <td>-4</td>\n",
              "      <td>2</td>\n",
              "      <td>2</td>\n",
              "      <td>2</td>\n",
              "      <td>2</td>\n",
              "      <td>1</td>\n",
              "      <td>1</td>\n",
              "      <td>1</td>\n",
              "      <td>1</td>\n",
              "      <td>1</td>\n",
              "    </tr>\n",
              "    <tr>\n",
              "      <th>4</th>\n",
              "      <td>1</td>\n",
              "      <td>-2.165963</td>\n",
              "      <td>-2.507822</td>\n",
              "      <td>2019-06-12</td>\n",
              "      <td>2019-06-01</td>\n",
              "      <td>2019-05-30</td>\n",
              "      <td>2019-06-01</td>\n",
              "      <td>2019-06-16</td>\n",
              "      <td>0.781515</td>\n",
              "      <td>256.113159</td>\n",
              "      <td>2019-06-01</td>\n",
              "      <td>22</td>\n",
              "      <td>1.007299</td>\n",
              "      <td>-4</td>\n",
              "      <td>5</td>\n",
              "      <td>6</td>\n",
              "      <td>6</td>\n",
              "      <td>6</td>\n",
              "      <td>2</td>\n",
              "      <td>2</td>\n",
              "      <td>2</td>\n",
              "      <td>2</td>\n",
              "      <td>2</td>\n",
              "    </tr>\n",
              "    <tr>\n",
              "      <th>...</th>\n",
              "      <td>...</td>\n",
              "      <td>...</td>\n",
              "      <td>...</td>\n",
              "      <td>...</td>\n",
              "      <td>...</td>\n",
              "      <td>...</td>\n",
              "      <td>...</td>\n",
              "      <td>...</td>\n",
              "      <td>...</td>\n",
              "      <td>...</td>\n",
              "      <td>...</td>\n",
              "      <td>...</td>\n",
              "      <td>...</td>\n",
              "      <td>...</td>\n",
              "      <td>...</td>\n",
              "      <td>...</td>\n",
              "      <td>...</td>\n",
              "      <td>...</td>\n",
              "      <td>...</td>\n",
              "      <td>...</td>\n",
              "      <td>...</td>\n",
              "      <td>...</td>\n",
              "      <td>...</td>\n",
              "    </tr>\n",
              "    <tr>\n",
              "      <th>46752</th>\n",
              "      <td>1</td>\n",
              "      <td>0.957746</td>\n",
              "      <td>0.600000</td>\n",
              "      <td>2019-08-30</td>\n",
              "      <td>2019-08-14</td>\n",
              "      <td>2019-08-15</td>\n",
              "      <td>2019-08-14</td>\n",
              "      <td>2019-08-29</td>\n",
              "      <td>0.781515</td>\n",
              "      <td>241.079593</td>\n",
              "      <td>2019-08-14</td>\n",
              "      <td>10</td>\n",
              "      <td>1.007299</td>\n",
              "      <td>1</td>\n",
              "      <td>8</td>\n",
              "      <td>8</td>\n",
              "      <td>8</td>\n",
              "      <td>8</td>\n",
              "      <td>3</td>\n",
              "      <td>3</td>\n",
              "      <td>3</td>\n",
              "      <td>3</td>\n",
              "      <td>3</td>\n",
              "    </tr>\n",
              "    <tr>\n",
              "      <th>46753</th>\n",
              "      <td>1</td>\n",
              "      <td>-1.636364</td>\n",
              "      <td>4.461538</td>\n",
              "      <td>2019-07-08</td>\n",
              "      <td>2019-06-24</td>\n",
              "      <td>2019-06-23</td>\n",
              "      <td>2019-06-24</td>\n",
              "      <td>2019-07-09</td>\n",
              "      <td>0.781515</td>\n",
              "      <td>108.491705</td>\n",
              "      <td>2019-06-24</td>\n",
              "      <td>15</td>\n",
              "      <td>1.007299</td>\n",
              "      <td>-1</td>\n",
              "      <td>6</td>\n",
              "      <td>6</td>\n",
              "      <td>6</td>\n",
              "      <td>7</td>\n",
              "      <td>2</td>\n",
              "      <td>2</td>\n",
              "      <td>2</td>\n",
              "      <td>2</td>\n",
              "      <td>3</td>\n",
              "    </tr>\n",
              "    <tr>\n",
              "      <th>46754</th>\n",
              "      <td>1</td>\n",
              "      <td>-2.306052</td>\n",
              "      <td>-1.981413</td>\n",
              "      <td>2019-07-03</td>\n",
              "      <td>2019-06-23</td>\n",
              "      <td>2019-06-21</td>\n",
              "      <td>2019-06-23</td>\n",
              "      <td>2019-07-08</td>\n",
              "      <td>0.781515</td>\n",
              "      <td>265.229146</td>\n",
              "      <td>2019-06-23</td>\n",
              "      <td>22</td>\n",
              "      <td>1.007299</td>\n",
              "      <td>-5</td>\n",
              "      <td>6</td>\n",
              "      <td>6</td>\n",
              "      <td>6</td>\n",
              "      <td>7</td>\n",
              "      <td>2</td>\n",
              "      <td>2</td>\n",
              "      <td>2</td>\n",
              "      <td>2</td>\n",
              "      <td>3</td>\n",
              "    </tr>\n",
              "    <tr>\n",
              "      <th>46755</th>\n",
              "      <td>1</td>\n",
              "      <td>1.894737</td>\n",
              "      <td>1.666667</td>\n",
              "      <td>2019-01-17</td>\n",
              "      <td>2019-01-02</td>\n",
              "      <td>2019-01-02</td>\n",
              "      <td>2019-01-02</td>\n",
              "      <td>2019-01-17</td>\n",
              "      <td>0.781515</td>\n",
              "      <td>368.345558</td>\n",
              "      <td>2019-01-02</td>\n",
              "      <td>10</td>\n",
              "      <td>1.007299</td>\n",
              "      <td>0</td>\n",
              "      <td>1</td>\n",
              "      <td>1</td>\n",
              "      <td>1</td>\n",
              "      <td>1</td>\n",
              "      <td>1</td>\n",
              "      <td>1</td>\n",
              "      <td>1</td>\n",
              "      <td>1</td>\n",
              "      <td>1</td>\n",
              "    </tr>\n",
              "    <tr>\n",
              "      <th>46756</th>\n",
              "      <td>1</td>\n",
              "      <td>0.173913</td>\n",
              "      <td>2.171247</td>\n",
              "      <td>2019-03-22</td>\n",
              "      <td>2019-03-07</td>\n",
              "      <td>2019-03-07</td>\n",
              "      <td>2019-03-07</td>\n",
              "      <td>2019-03-22</td>\n",
              "      <td>0.781515</td>\n",
              "      <td>180.769466</td>\n",
              "      <td>2019-03-07</td>\n",
              "      <td>10</td>\n",
              "      <td>1.007299</td>\n",
              "      <td>0</td>\n",
              "      <td>3</td>\n",
              "      <td>3</td>\n",
              "      <td>3</td>\n",
              "      <td>3</td>\n",
              "      <td>1</td>\n",
              "      <td>1</td>\n",
              "      <td>1</td>\n",
              "      <td>1</td>\n",
              "      <td>1</td>\n",
              "    </tr>\n",
              "  </tbody>\n",
              "</table>\n",
              "<p>36325 rows × 23 columns</p>\n",
              "</div>"
            ],
            "text/plain": [
              "       business_code  ...  due_in_date_quarter\n",
              "0                  1  ...                    1\n",
              "1                  1  ...                    2\n",
              "2                  1  ...                    2\n",
              "3                  1  ...                    1\n",
              "4                  1  ...                    2\n",
              "...              ...  ...                  ...\n",
              "46752              1  ...                    3\n",
              "46753              1  ...                    3\n",
              "46754              1  ...                    3\n",
              "46755              1  ...                    1\n",
              "46756              1  ...                    1\n",
              "\n",
              "[36325 rows x 23 columns]"
            ]
          },
          "metadata": {
            "tags": []
          },
          "execution_count": 2520
        }
      ]
    },
    {
      "cell_type": "code",
      "metadata": {
        "colab": {
          "base_uri": "https://localhost:8080/",
          "height": 282
        },
        "id": "pbkrWtN2nQiI",
        "outputId": "0260ee5b-5c34-4382-b7f0-9192ef00944b"
      },
      "source": [
        "plt.scatter(train_set[:30]['cust_number'], train_set[:30]['name_customer'],color='r',label='name_customer')\r\n",
        "plt.xlabel(\"cust_name\")\r\n",
        "plt.legend()\r\n",
        "plt.show()\r\n"
      ],
      "execution_count": 2521,
      "outputs": [
        {
          "output_type": "display_data",
          "data": {
            "image/png": "[encoded data removed]",
            "text/plain": [
              "<Figure size 432x288 with 1 Axes>"
            ]
          },
          "metadata": {
            "tags": []
          }
        }
      ]
    },
    {
      "cell_type": "code",
      "metadata": {
        "id": "l208eqd1IDnK"
      },
      "source": [
        "##invoice currency is correlated to cust_payment_terms and dose not correlate much with target_delay"
      ],
      "execution_count": 2522,
      "outputs": []
    },
    {
      "cell_type": "code",
      "metadata": {
        "colab": {
          "base_uri": "https://localhost:8080/"
        },
        "id": "FHSfmMx7luEo",
        "outputId": "c560e5a6-c4c2-4d48-dce9-7e8e3365a6e2"
      },
      "source": [
        "c1=train_set['invoice_currency'].corr(train_set['cust_payment_terms'])\r\n",
        "c2=train_set['invoice_currency'].corr(train_set['target_delay'])\r\n",
        "c3=train_set['cust_payment_terms'].corr(train_set['target_delay'])\r\n",
        "c1,c2,c3"
      ],
      "execution_count": 2523,
      "outputs": [
        {
          "output_type": "execute_result",
          "data": {
            "text/plain": [
              "(-0.48493884354193545, 0.2600651212461973, -0.4521417193852222)"
            ]
          },
          "metadata": {
            "tags": []
          },
          "execution_count": 2523
        }
      ]
    },
    {
      "cell_type": "code",
      "metadata": {
        "id": "ifV4MsVOIKqa"
      },
      "source": [
        "train_set.drop(['invoice_currency'],axis=1,inplace=True)"
      ],
      "execution_count": 2524,
      "outputs": []
    },
    {
      "cell_type": "code",
      "metadata": {
        "id": "zDVb-LXpPpR3"
      },
      "source": [
        "##baseline_create_date_month is correlated create_date_month.1"
      ],
      "execution_count": 2525,
      "outputs": []
    },
    {
      "cell_type": "code",
      "metadata": {
        "colab": {
          "base_uri": "https://localhost:8080/"
        },
        "id": "j9GcbxdAmSRe",
        "outputId": "d275fa57-9529-4dd2-c4d9-193fbdd1a177"
      },
      "source": [
        "c1=train_set['baseline_create_date_month'].corr(train_set['create_date.1_month'])\r\n",
        "c2=train_set['baseline_create_date_month'].corr(train_set['target_delay'])\r\n",
        "c1,c2"
      ],
      "execution_count": 2526,
      "outputs": [
        {
          "output_type": "execute_result",
          "data": {
            "text/plain": [
              "(0.998593485964621, 0.0009353438680379337)"
            ]
          },
          "metadata": {
            "tags": []
          },
          "execution_count": 2526
        }
      ]
    },
    {
      "cell_type": "code",
      "metadata": {
        "id": "uhXMKFZuPpdJ"
      },
      "source": [
        "train_set.drop(['baseline_create_date_month'],axis=1,inplace=True)"
      ],
      "execution_count": 2527,
      "outputs": []
    },
    {
      "cell_type": "code",
      "metadata": {
        "id": "xWSi44wUPquY"
      },
      "source": [
        "##baseline_create_date_quarter is correlated create_date_month.1"
      ],
      "execution_count": 2528,
      "outputs": []
    },
    {
      "cell_type": "code",
      "metadata": {
        "colab": {
          "base_uri": "https://localhost:8080/"
        },
        "id": "Giu67Stjm6PQ",
        "outputId": "e77a990b-5b00-4340-fd9a-4eadef69dfb6"
      },
      "source": [
        "c1=train_set['baseline_create_date_quarter'].corr(train_set['create_date.1_month'])\r\n",
        "c2=train_set['baseline_create_date_quarter'].corr(train_set['target_delay'])\r\n",
        "c1,c2"
      ],
      "execution_count": 2529,
      "outputs": [
        {
          "output_type": "execute_result",
          "data": {
            "text/plain": [
              "(0.9675129176105295, 0.0018509417332766194)"
            ]
          },
          "metadata": {
            "tags": []
          },
          "execution_count": 2529
        }
      ]
    },
    {
      "cell_type": "code",
      "metadata": {
        "id": "uBdiYEUqPq9z"
      },
      "source": [
        "train_set.drop(['baseline_create_date_quarter'],axis=1,inplace=True)"
      ],
      "execution_count": 2530,
      "outputs": []
    },
    {
      "cell_type": "code",
      "metadata": {
        "id": "eu0Fdk1IPr4i"
      },
      "source": [
        "##due_in_date_month is correlated create_date_month.1"
      ],
      "execution_count": 2531,
      "outputs": []
    },
    {
      "cell_type": "code",
      "metadata": {
        "colab": {
          "base_uri": "https://localhost:8080/"
        },
        "id": "1zxpV6p1nErz",
        "outputId": "e0041e9c-9e16-4177-cea2-b708e753a122"
      },
      "source": [
        "c1=train_set['due_in_date_quarter'].corr(train_set['create_date.1_month'])\r\n",
        "c2=train_set['due_in_date_quarter'].corr(train_set['target_delay'])\r\n",
        "c3=train_set['create_date.1_month'].corr(train_set['target_delay'])\r\n",
        "c1,c2,c3"
      ],
      "execution_count": 2532,
      "outputs": [
        {
          "output_type": "execute_result",
          "data": {
            "text/plain": [
              "(0.9341902711187952, 0.0035049943086771828, -0.00036531463662926574)"
            ]
          },
          "metadata": {
            "tags": []
          },
          "execution_count": 2532
        }
      ]
    },
    {
      "cell_type": "code",
      "metadata": {
        "id": "RjrXAJIeQqGD"
      },
      "source": [
        "##create_date_month is correlated due_in_date_month"
      ],
      "execution_count": 2533,
      "outputs": []
    },
    {
      "cell_type": "code",
      "metadata": {
        "colab": {
          "base_uri": "https://localhost:8080/"
        },
        "id": "gpFqj0d-nvrM",
        "outputId": "3c43d372-49b8-4cca-a2f5-f7d727066209"
      },
      "source": [
        "c1=train_set['create_date_month'].corr(train_set['due_in_date_month'])\r\n",
        "c2=train_set['create_date_month'].corr(train_set['target_delay'])\r\n",
        "c3=train_set['due_in_date_month'].corr(train_set['target_delay'])\r\n",
        "c1,c2,c3"
      ],
      "execution_count": 2534,
      "outputs": [
        {
          "output_type": "execute_result",
          "data": {
            "text/plain": [
              "(0.9443645824579473, 0.0008518711448871115, 0.006017240639346102)"
            ]
          },
          "metadata": {
            "tags": []
          },
          "execution_count": 2534
        }
      ]
    },
    {
      "cell_type": "code",
      "metadata": {
        "id": "GeAmwQcWQqZ2"
      },
      "source": [
        "train_set.drop(['create_date_quarter'],axis=1,inplace=True)"
      ],
      "execution_count": 2535,
      "outputs": []
    },
    {
      "cell_type": "code",
      "metadata": {
        "colab": {
          "base_uri": "https://localhost:8080/",
          "height": 435
        },
        "id": "ykJSEHobQqlA",
        "outputId": "c96fcd6d-e260-47d5-e872-128d601678e0"
      },
      "source": [
        "train_set"
      ],
      "execution_count": 2536,
      "outputs": [
        {
          "output_type": "execute_result",
          "data": {
            "text/html": [
              "<div>\n",
              "<style scoped>\n",
              "    .dataframe tbody tr th:only-of-type {\n",
              "        vertical-align: middle;\n",
              "    }\n",
              "\n",
              "    .dataframe tbody tr th {\n",
              "        vertical-align: top;\n",
              "    }\n",
              "\n",
              "    .dataframe thead th {\n",
              "        text-align: right;\n",
              "    }\n",
              "</style>\n",
              "<table border=\"1\" class=\"dataframe\">\n",
              "  <thead>\n",
              "    <tr style=\"text-align: right;\">\n",
              "      <th></th>\n",
              "      <th>business_code</th>\n",
              "      <th>cust_number</th>\n",
              "      <th>name_customer</th>\n",
              "      <th>clear_date</th>\n",
              "      <th>posting_date</th>\n",
              "      <th>document_create_date</th>\n",
              "      <th>document_create_date.1</th>\n",
              "      <th>due_in_date</th>\n",
              "      <th>total_open_amount</th>\n",
              "      <th>baseline_create_date</th>\n",
              "      <th>cust_payment_terms</th>\n",
              "      <th>isOpen</th>\n",
              "      <th>target_delay</th>\n",
              "      <th>create_date_month</th>\n",
              "      <th>create_date.1_month</th>\n",
              "      <th>due_in_date_month</th>\n",
              "      <th>create_date.1_quarter</th>\n",
              "      <th>posting_date_quarter</th>\n",
              "      <th>due_in_date_quarter</th>\n",
              "    </tr>\n",
              "  </thead>\n",
              "  <tbody>\n",
              "    <tr>\n",
              "      <th>0</th>\n",
              "      <td>1</td>\n",
              "      <td>-6.640823</td>\n",
              "      <td>-5.742424</td>\n",
              "      <td>2019-02-06</td>\n",
              "      <td>2019-01-22</td>\n",
              "      <td>2019-01-21</td>\n",
              "      <td>2019-01-22</td>\n",
              "      <td>2019-02-11</td>\n",
              "      <td>45.602083</td>\n",
              "      <td>2019-01-22</td>\n",
              "      <td>17</td>\n",
              "      <td>1.007299</td>\n",
              "      <td>-5</td>\n",
              "      <td>1</td>\n",
              "      <td>1</td>\n",
              "      <td>2</td>\n",
              "      <td>1</td>\n",
              "      <td>1</td>\n",
              "      <td>1</td>\n",
              "    </tr>\n",
              "    <tr>\n",
              "      <th>1</th>\n",
              "      <td>1</td>\n",
              "      <td>-4.493711</td>\n",
              "      <td>-3.893939</td>\n",
              "      <td>2019-05-01</td>\n",
              "      <td>2019-04-26</td>\n",
              "      <td>2019-04-26</td>\n",
              "      <td>2019-04-26</td>\n",
              "      <td>2019-05-09</td>\n",
              "      <td>8.277681</td>\n",
              "      <td>2019-04-16</td>\n",
              "      <td>25</td>\n",
              "      <td>1.007299</td>\n",
              "      <td>-8</td>\n",
              "      <td>4</td>\n",
              "      <td>4</td>\n",
              "      <td>5</td>\n",
              "      <td>2</td>\n",
              "      <td>2</td>\n",
              "      <td>2</td>\n",
              "    </tr>\n",
              "    <tr>\n",
              "      <th>2</th>\n",
              "      <td>1</td>\n",
              "      <td>-3.908537</td>\n",
              "      <td>-4.506667</td>\n",
              "      <td>2019-06-03</td>\n",
              "      <td>2019-05-25</td>\n",
              "      <td>2019-05-25</td>\n",
              "      <td>2019-05-25</td>\n",
              "      <td>2019-06-08</td>\n",
              "      <td>40.961201</td>\n",
              "      <td>2019-05-16</td>\n",
              "      <td>25</td>\n",
              "      <td>1.007299</td>\n",
              "      <td>-5</td>\n",
              "      <td>5</td>\n",
              "      <td>5</td>\n",
              "      <td>6</td>\n",
              "      <td>2</td>\n",
              "      <td>2</td>\n",
              "      <td>2</td>\n",
              "    </tr>\n",
              "    <tr>\n",
              "      <th>3</th>\n",
              "      <td>1</td>\n",
              "      <td>-2.306052</td>\n",
              "      <td>-2.331402</td>\n",
              "      <td>2019-02-20</td>\n",
              "      <td>2019-02-09</td>\n",
              "      <td>2019-02-08</td>\n",
              "      <td>2019-02-09</td>\n",
              "      <td>2019-02-24</td>\n",
              "      <td>258.663411</td>\n",
              "      <td>2019-02-09</td>\n",
              "      <td>22</td>\n",
              "      <td>1.007299</td>\n",
              "      <td>-4</td>\n",
              "      <td>2</td>\n",
              "      <td>2</td>\n",
              "      <td>2</td>\n",
              "      <td>1</td>\n",
              "      <td>1</td>\n",
              "      <td>1</td>\n",
              "    </tr>\n",
              "    <tr>\n",
              "      <th>4</th>\n",
              "      <td>1</td>\n",
              "      <td>-2.165963</td>\n",
              "      <td>-2.507822</td>\n",
              "      <td>2019-06-12</td>\n",
              "      <td>2019-06-01</td>\n",
              "      <td>2019-05-30</td>\n",
              "      <td>2019-06-01</td>\n",
              "      <td>2019-06-16</td>\n",
              "      <td>256.113159</td>\n",
              "      <td>2019-06-01</td>\n",
              "      <td>22</td>\n",
              "      <td>1.007299</td>\n",
              "      <td>-4</td>\n",
              "      <td>5</td>\n",
              "      <td>6</td>\n",
              "      <td>6</td>\n",
              "      <td>2</td>\n",
              "      <td>2</td>\n",
              "      <td>2</td>\n",
              "    </tr>\n",
              "    <tr>\n",
              "      <th>...</th>\n",
              "      <td>...</td>\n",
              "      <td>...</td>\n",
              "      <td>...</td>\n",
              "      <td>...</td>\n",
              "      <td>...</td>\n",
              "      <td>...</td>\n",
              "      <td>...</td>\n",
              "      <td>...</td>\n",
              "      <td>...</td>\n",
              "      <td>...</td>\n",
              "      <td>...</td>\n",
              "      <td>...</td>\n",
              "      <td>...</td>\n",
              "      <td>...</td>\n",
              "      <td>...</td>\n",
              "      <td>...</td>\n",
              "      <td>...</td>\n",
              "      <td>...</td>\n",
              "      <td>...</td>\n",
              "    </tr>\n",
              "    <tr>\n",
              "      <th>46752</th>\n",
              "      <td>1</td>\n",
              "      <td>0.957746</td>\n",
              "      <td>0.600000</td>\n",
              "      <td>2019-08-30</td>\n",
              "      <td>2019-08-14</td>\n",
              "      <td>2019-08-15</td>\n",
              "      <td>2019-08-14</td>\n",
              "      <td>2019-08-29</td>\n",
              "      <td>241.079593</td>\n",
              "      <td>2019-08-14</td>\n",
              "      <td>10</td>\n",
              "      <td>1.007299</td>\n",
              "      <td>1</td>\n",
              "      <td>8</td>\n",
              "      <td>8</td>\n",
              "      <td>8</td>\n",
              "      <td>3</td>\n",
              "      <td>3</td>\n",
              "      <td>3</td>\n",
              "    </tr>\n",
              "    <tr>\n",
              "      <th>46753</th>\n",
              "      <td>1</td>\n",
              "      <td>-1.636364</td>\n",
              "      <td>4.461538</td>\n",
              "      <td>2019-07-08</td>\n",
              "      <td>2019-06-24</td>\n",
              "      <td>2019-06-23</td>\n",
              "      <td>2019-06-24</td>\n",
              "      <td>2019-07-09</td>\n",
              "      <td>108.491705</td>\n",
              "      <td>2019-06-24</td>\n",
              "      <td>15</td>\n",
              "      <td>1.007299</td>\n",
              "      <td>-1</td>\n",
              "      <td>6</td>\n",
              "      <td>6</td>\n",
              "      <td>7</td>\n",
              "      <td>2</td>\n",
              "      <td>2</td>\n",
              "      <td>3</td>\n",
              "    </tr>\n",
              "    <tr>\n",
              "      <th>46754</th>\n",
              "      <td>1</td>\n",
              "      <td>-2.306052</td>\n",
              "      <td>-1.981413</td>\n",
              "      <td>2019-07-03</td>\n",
              "      <td>2019-06-23</td>\n",
              "      <td>2019-06-21</td>\n",
              "      <td>2019-06-23</td>\n",
              "      <td>2019-07-08</td>\n",
              "      <td>265.229146</td>\n",
              "      <td>2019-06-23</td>\n",
              "      <td>22</td>\n",
              "      <td>1.007299</td>\n",
              "      <td>-5</td>\n",
              "      <td>6</td>\n",
              "      <td>6</td>\n",
              "      <td>7</td>\n",
              "      <td>2</td>\n",
              "      <td>2</td>\n",
              "      <td>3</td>\n",
              "    </tr>\n",
              "    <tr>\n",
              "      <th>46755</th>\n",
              "      <td>1</td>\n",
              "      <td>1.894737</td>\n",
              "      <td>1.666667</td>\n",
              "      <td>2019-01-17</td>\n",
              "      <td>2019-01-02</td>\n",
              "      <td>2019-01-02</td>\n",
              "      <td>2019-01-02</td>\n",
              "      <td>2019-01-17</td>\n",
              "      <td>368.345558</td>\n",
              "      <td>2019-01-02</td>\n",
              "      <td>10</td>\n",
              "      <td>1.007299</td>\n",
              "      <td>0</td>\n",
              "      <td>1</td>\n",
              "      <td>1</td>\n",
              "      <td>1</td>\n",
              "      <td>1</td>\n",
              "      <td>1</td>\n",
              "      <td>1</td>\n",
              "    </tr>\n",
              "    <tr>\n",
              "      <th>46756</th>\n",
              "      <td>1</td>\n",
              "      <td>0.173913</td>\n",
              "      <td>2.171247</td>\n",
              "      <td>2019-03-22</td>\n",
              "      <td>2019-03-07</td>\n",
              "      <td>2019-03-07</td>\n",
              "      <td>2019-03-07</td>\n",
              "      <td>2019-03-22</td>\n",
              "      <td>180.769466</td>\n",
              "      <td>2019-03-07</td>\n",
              "      <td>10</td>\n",
              "      <td>1.007299</td>\n",
              "      <td>0</td>\n",
              "      <td>3</td>\n",
              "      <td>3</td>\n",
              "      <td>3</td>\n",
              "      <td>1</td>\n",
              "      <td>1</td>\n",
              "      <td>1</td>\n",
              "    </tr>\n",
              "  </tbody>\n",
              "</table>\n",
              "<p>36325 rows × 19 columns</p>\n",
              "</div>"
            ],
            "text/plain": [
              "       business_code  cust_number  ...  posting_date_quarter due_in_date_quarter\n",
              "0                  1    -6.640823  ...                     1                   1\n",
              "1                  1    -4.493711  ...                     2                   2\n",
              "2                  1    -3.908537  ...                     2                   2\n",
              "3                  1    -2.306052  ...                     1                   1\n",
              "4                  1    -2.165963  ...                     2                   2\n",
              "...              ...          ...  ...                   ...                 ...\n",
              "46752              1     0.957746  ...                     3                   3\n",
              "46753              1    -1.636364  ...                     2                   3\n",
              "46754              1    -2.306052  ...                     2                   3\n",
              "46755              1     1.894737  ...                     1                   1\n",
              "46756              1     0.173913  ...                     1                   1\n",
              "\n",
              "[36325 rows x 19 columns]"
            ]
          },
          "metadata": {
            "tags": []
          },
          "execution_count": 2536
        }
      ]
    },
    {
      "cell_type": "code",
      "metadata": {
        "colab": {
          "base_uri": "https://localhost:8080/"
        },
        "id": "YoFTbPz8om9K",
        "outputId": "575402f8-d689-41b0-d852-ee4064529120"
      },
      "source": [
        "c1=train_set['posting_date_quarter'].corr(train_set['due_in_date_quarter'])\r\n",
        "c2=train_set['posting_date_quarter'].corr(train_set['target_delay'])\r\n",
        "c3=train_set['due_in_date_quarter'].corr(train_set['target_delay'])\r\n",
        "c1,c2,c3"
      ],
      "execution_count": 2537,
      "outputs": [
        {
          "output_type": "execute_result",
          "data": {
            "text/plain": [
              "(0.9244716148406318, 0.0008046388627145212, 0.0035049943086771828)"
            ]
          },
          "metadata": {
            "tags": []
          },
          "execution_count": 2537
        }
      ]
    },
    {
      "cell_type": "code",
      "metadata": {
        "id": "YRocj8Hnt2_5"
      },
      "source": [
        ""
      ],
      "execution_count": 2537,
      "outputs": []
    },
    {
      "cell_type": "code",
      "metadata": {
        "id": "rb5xZV_sLS9q"
      },
      "source": [
        "##featues of posting date doesnot seem useful\r\n",
        "train_set.drop(['posting_date'],axis=1,inplace=True)"
      ],
      "execution_count": 2538,
      "outputs": []
    },
    {
      "cell_type": "code",
      "metadata": {
        "colab": {
          "base_uri": "https://localhost:8080/"
        },
        "id": "lhv2txzQL4g8",
        "outputId": "23138f6a-97b8-4232-825d-3cd699cb2065"
      },
      "source": [
        "train_set.shape"
      ],
      "execution_count": 2539,
      "outputs": [
        {
          "output_type": "execute_result",
          "data": {
            "text/plain": [
              "(36325, 18)"
            ]
          },
          "metadata": {
            "tags": []
          },
          "execution_count": 2539
        }
      ]
    },
    {
      "cell_type": "code",
      "metadata": {
        "id": "0A2pA4jBBJIx"
      },
      "source": [
        "###########Feature Selection##########"
      ],
      "execution_count": 2540,
      "outputs": []
    },
    {
      "cell_type": "code",
      "metadata": {
        "id": "RajiIsF2Mg3s"
      },
      "source": [
        "x_train=train_set.copy()\r\n",
        "x_train=x_train.drop(['target_delay'],axis=1)"
      ],
      "execution_count": 2541,
      "outputs": []
    },
    {
      "cell_type": "markdown",
      "metadata": {
        "id": "qigPGuUILVDC"
      },
      "source": [
        ""
      ]
    },
    {
      "cell_type": "code",
      "metadata": {
        "id": "mN8cUMW1P40P"
      },
      "source": [
        "def handling_correlation(df,threshold=0.8):   #correlation less than threshold\r\n",
        "    # creating set to hold the correlated features\r\n",
        "    corr_features = set()\r\n",
        "    # create the correlation matrix (default to pearson)\r\n",
        "    corr_matrix = df.corr()\r\n",
        "    #code for selecting all correleated features\r\n",
        "    for i in range(len(corr_matrix .columns)):\r\n",
        "        for j in range(i):\r\n",
        "            if abs(corr_matrix.iloc[i, j]) >threshold:\r\n",
        "                colname = corr_matrix.columns[i]\r\n",
        "                corr_features.add(colname)\r\n",
        "    return list(corr_features)"
      ],
      "execution_count": 2542,
      "outputs": []
    },
    {
      "cell_type": "code",
      "metadata": {
        "colab": {
          "base_uri": "https://localhost:8080/"
        },
        "id": "C3VrIP41QDkJ",
        "outputId": "5edeed34-5ffc-4f41-a330-c249964d7478"
      },
      "source": [
        "handling_correlation(train_set.copy(),0.80)"
      ],
      "execution_count": 2543,
      "outputs": [
        {
          "output_type": "execute_result",
          "data": {
            "text/plain": [
              "['name_customer',\n",
              " 'create_date.1_month',\n",
              " 'due_in_date_quarter',\n",
              " 'due_in_date_month',\n",
              " 'create_date.1_quarter',\n",
              " 'posting_date_quarter']"
            ]
          },
          "metadata": {
            "tags": []
          },
          "execution_count": 2543
        }
      ]
    },
    {
      "cell_type": "code",
      "metadata": {
        "id": "HKrbhHXaQQbO"
      },
      "source": [
        "x_train_new=x_train.drop(['due_in_date_quarter','create_date.1_quarter'],axis=1)\r\n",
        "train_set=train_set.drop(['due_in_date_quarter','create_date.1_quarter'],axis=1)"
      ],
      "execution_count": 2544,
      "outputs": []
    },
    {
      "cell_type": "code",
      "metadata": {
        "colab": {
          "base_uri": "https://localhost:8080/"
        },
        "id": "2fFbJjQoRGAm",
        "outputId": "0a259dd5-5c1e-4768-f63c-62c41a4d34c7"
      },
      "source": [
        "handling_correlation(x_train_new.copy(),0.80)"
      ],
      "execution_count": 2545,
      "outputs": [
        {
          "output_type": "execute_result",
          "data": {
            "text/plain": [
              "['due_in_date_month',\n",
              " 'posting_date_quarter',\n",
              " 'name_customer',\n",
              " 'create_date.1_month']"
            ]
          },
          "metadata": {
            "tags": []
          },
          "execution_count": 2545
        }
      ]
    },
    {
      "cell_type": "code",
      "metadata": {
        "id": "PMXByktksxcg"
      },
      "source": [
        "x_train_new=x_train_new.drop(['posting_date_quarter'],axis=1)\r\n",
        "train_set=train_set.drop(['posting_date_quarter'],axis=1)"
      ],
      "execution_count": 2546,
      "outputs": []
    },
    {
      "cell_type": "code",
      "metadata": {
        "colab": {
          "base_uri": "https://localhost:8080/"
        },
        "id": "rOChOHPwRPmM",
        "outputId": "e0fa0c4a-c71b-4fe8-b653-ce021f742857"
      },
      "source": [
        "y=train_set['target_delay']\r\n",
        "y"
      ],
      "execution_count": 2547,
      "outputs": [
        {
          "output_type": "execute_result",
          "data": {
            "text/plain": [
              "0       -5\n",
              "1       -8\n",
              "2       -5\n",
              "3       -4\n",
              "4       -4\n",
              "        ..\n",
              "46752    1\n",
              "46753   -1\n",
              "46754   -5\n",
              "46755    0\n",
              "46756    0\n",
              "Name: target_delay, Length: 36325, dtype: int64"
            ]
          },
          "metadata": {
            "tags": []
          },
          "execution_count": 2547
        }
      ]
    },
    {
      "cell_type": "code",
      "metadata": {
        "colab": {
          "base_uri": "https://localhost:8080/",
          "height": 435
        },
        "id": "ofQS1OMxm86L",
        "outputId": "ecdbbee7-e092-4664-d81f-365e0d06c818"
      },
      "source": [
        "x_train_new=x_train_new.drop(['clear_date','due_in_date','document_create_date.1','document_create_date','baseline_create_date'],axis=1)\r\n",
        "x_train_new"
      ],
      "execution_count": 2548,
      "outputs": [
        {
          "output_type": "execute_result",
          "data": {
            "text/html": [
              "<div>\n",
              "<style scoped>\n",
              "    .dataframe tbody tr th:only-of-type {\n",
              "        vertical-align: middle;\n",
              "    }\n",
              "\n",
              "    .dataframe tbody tr th {\n",
              "        vertical-align: top;\n",
              "    }\n",
              "\n",
              "    .dataframe thead th {\n",
              "        text-align: right;\n",
              "    }\n",
              "</style>\n",
              "<table border=\"1\" class=\"dataframe\">\n",
              "  <thead>\n",
              "    <tr style=\"text-align: right;\">\n",
              "      <th></th>\n",
              "      <th>business_code</th>\n",
              "      <th>cust_number</th>\n",
              "      <th>name_customer</th>\n",
              "      <th>total_open_amount</th>\n",
              "      <th>cust_payment_terms</th>\n",
              "      <th>isOpen</th>\n",
              "      <th>create_date_month</th>\n",
              "      <th>create_date.1_month</th>\n",
              "      <th>due_in_date_month</th>\n",
              "    </tr>\n",
              "  </thead>\n",
              "  <tbody>\n",
              "    <tr>\n",
              "      <th>0</th>\n",
              "      <td>1</td>\n",
              "      <td>-6.640823</td>\n",
              "      <td>-5.742424</td>\n",
              "      <td>45.602083</td>\n",
              "      <td>17</td>\n",
              "      <td>1.007299</td>\n",
              "      <td>1</td>\n",
              "      <td>1</td>\n",
              "      <td>2</td>\n",
              "    </tr>\n",
              "    <tr>\n",
              "      <th>1</th>\n",
              "      <td>1</td>\n",
              "      <td>-4.493711</td>\n",
              "      <td>-3.893939</td>\n",
              "      <td>8.277681</td>\n",
              "      <td>25</td>\n",
              "      <td>1.007299</td>\n",
              "      <td>4</td>\n",
              "      <td>4</td>\n",
              "      <td>5</td>\n",
              "    </tr>\n",
              "    <tr>\n",
              "      <th>2</th>\n",
              "      <td>1</td>\n",
              "      <td>-3.908537</td>\n",
              "      <td>-4.506667</td>\n",
              "      <td>40.961201</td>\n",
              "      <td>25</td>\n",
              "      <td>1.007299</td>\n",
              "      <td>5</td>\n",
              "      <td>5</td>\n",
              "      <td>6</td>\n",
              "    </tr>\n",
              "    <tr>\n",
              "      <th>3</th>\n",
              "      <td>1</td>\n",
              "      <td>-2.306052</td>\n",
              "      <td>-2.331402</td>\n",
              "      <td>258.663411</td>\n",
              "      <td>22</td>\n",
              "      <td>1.007299</td>\n",
              "      <td>2</td>\n",
              "      <td>2</td>\n",
              "      <td>2</td>\n",
              "    </tr>\n",
              "    <tr>\n",
              "      <th>4</th>\n",
              "      <td>1</td>\n",
              "      <td>-2.165963</td>\n",
              "      <td>-2.507822</td>\n",
              "      <td>256.113159</td>\n",
              "      <td>22</td>\n",
              "      <td>1.007299</td>\n",
              "      <td>5</td>\n",
              "      <td>6</td>\n",
              "      <td>6</td>\n",
              "    </tr>\n",
              "    <tr>\n",
              "      <th>...</th>\n",
              "      <td>...</td>\n",
              "      <td>...</td>\n",
              "      <td>...</td>\n",
              "      <td>...</td>\n",
              "      <td>...</td>\n",
              "      <td>...</td>\n",
              "      <td>...</td>\n",
              "      <td>...</td>\n",
              "      <td>...</td>\n",
              "    </tr>\n",
              "    <tr>\n",
              "      <th>46752</th>\n",
              "      <td>1</td>\n",
              "      <td>0.957746</td>\n",
              "      <td>0.600000</td>\n",
              "      <td>241.079593</td>\n",
              "      <td>10</td>\n",
              "      <td>1.007299</td>\n",
              "      <td>8</td>\n",
              "      <td>8</td>\n",
              "      <td>8</td>\n",
              "    </tr>\n",
              "    <tr>\n",
              "      <th>46753</th>\n",
              "      <td>1</td>\n",
              "      <td>-1.636364</td>\n",
              "      <td>4.461538</td>\n",
              "      <td>108.491705</td>\n",
              "      <td>15</td>\n",
              "      <td>1.007299</td>\n",
              "      <td>6</td>\n",
              "      <td>6</td>\n",
              "      <td>7</td>\n",
              "    </tr>\n",
              "    <tr>\n",
              "      <th>46754</th>\n",
              "      <td>1</td>\n",
              "      <td>-2.306052</td>\n",
              "      <td>-1.981413</td>\n",
              "      <td>265.229146</td>\n",
              "      <td>22</td>\n",
              "      <td>1.007299</td>\n",
              "      <td>6</td>\n",
              "      <td>6</td>\n",
              "      <td>7</td>\n",
              "    </tr>\n",
              "    <tr>\n",
              "      <th>46755</th>\n",
              "      <td>1</td>\n",
              "      <td>1.894737</td>\n",
              "      <td>1.666667</td>\n",
              "      <td>368.345558</td>\n",
              "      <td>10</td>\n",
              "      <td>1.007299</td>\n",
              "      <td>1</td>\n",
              "      <td>1</td>\n",
              "      <td>1</td>\n",
              "    </tr>\n",
              "    <tr>\n",
              "      <th>46756</th>\n",
              "      <td>1</td>\n",
              "      <td>0.173913</td>\n",
              "      <td>2.171247</td>\n",
              "      <td>180.769466</td>\n",
              "      <td>10</td>\n",
              "      <td>1.007299</td>\n",
              "      <td>3</td>\n",
              "      <td>3</td>\n",
              "      <td>3</td>\n",
              "    </tr>\n",
              "  </tbody>\n",
              "</table>\n",
              "<p>36325 rows × 9 columns</p>\n",
              "</div>"
            ],
            "text/plain": [
              "       business_code  cust_number  ...  create_date.1_month  due_in_date_month\n",
              "0                  1    -6.640823  ...                    1                  2\n",
              "1                  1    -4.493711  ...                    4                  5\n",
              "2                  1    -3.908537  ...                    5                  6\n",
              "3                  1    -2.306052  ...                    2                  2\n",
              "4                  1    -2.165963  ...                    6                  6\n",
              "...              ...          ...  ...                  ...                ...\n",
              "46752              1     0.957746  ...                    8                  8\n",
              "46753              1    -1.636364  ...                    6                  7\n",
              "46754              1    -2.306052  ...                    6                  7\n",
              "46755              1     1.894737  ...                    1                  1\n",
              "46756              1     0.173913  ...                    3                  3\n",
              "\n",
              "[36325 rows x 9 columns]"
            ]
          },
          "metadata": {
            "tags": []
          },
          "execution_count": 2548
        }
      ]
    },
    {
      "cell_type": "code",
      "metadata": {
        "colab": {
          "base_uri": "https://localhost:8080/",
          "height": 435
        },
        "id": "bTzuI9tjn7uG",
        "outputId": "c6cf4abc-062f-4985-daf0-7632566d7d40"
      },
      "source": [
        "x_train_new"
      ],
      "execution_count": 2549,
      "outputs": [
        {
          "output_type": "execute_result",
          "data": {
            "text/html": [
              "<div>\n",
              "<style scoped>\n",
              "    .dataframe tbody tr th:only-of-type {\n",
              "        vertical-align: middle;\n",
              "    }\n",
              "\n",
              "    .dataframe tbody tr th {\n",
              "        vertical-align: top;\n",
              "    }\n",
              "\n",
              "    .dataframe thead th {\n",
              "        text-align: right;\n",
              "    }\n",
              "</style>\n",
              "<table border=\"1\" class=\"dataframe\">\n",
              "  <thead>\n",
              "    <tr style=\"text-align: right;\">\n",
              "      <th></th>\n",
              "      <th>business_code</th>\n",
              "      <th>cust_number</th>\n",
              "      <th>name_customer</th>\n",
              "      <th>total_open_amount</th>\n",
              "      <th>cust_payment_terms</th>\n",
              "      <th>isOpen</th>\n",
              "      <th>create_date_month</th>\n",
              "      <th>create_date.1_month</th>\n",
              "      <th>due_in_date_month</th>\n",
              "    </tr>\n",
              "  </thead>\n",
              "  <tbody>\n",
              "    <tr>\n",
              "      <th>0</th>\n",
              "      <td>1</td>\n",
              "      <td>-6.640823</td>\n",
              "      <td>-5.742424</td>\n",
              "      <td>45.602083</td>\n",
              "      <td>17</td>\n",
              "      <td>1.007299</td>\n",
              "      <td>1</td>\n",
              "      <td>1</td>\n",
              "      <td>2</td>\n",
              "    </tr>\n",
              "    <tr>\n",
              "      <th>1</th>\n",
              "      <td>1</td>\n",
              "      <td>-4.493711</td>\n",
              "      <td>-3.893939</td>\n",
              "      <td>8.277681</td>\n",
              "      <td>25</td>\n",
              "      <td>1.007299</td>\n",
              "      <td>4</td>\n",
              "      <td>4</td>\n",
              "      <td>5</td>\n",
              "    </tr>\n",
              "    <tr>\n",
              "      <th>2</th>\n",
              "      <td>1</td>\n",
              "      <td>-3.908537</td>\n",
              "      <td>-4.506667</td>\n",
              "      <td>40.961201</td>\n",
              "      <td>25</td>\n",
              "      <td>1.007299</td>\n",
              "      <td>5</td>\n",
              "      <td>5</td>\n",
              "      <td>6</td>\n",
              "    </tr>\n",
              "    <tr>\n",
              "      <th>3</th>\n",
              "      <td>1</td>\n",
              "      <td>-2.306052</td>\n",
              "      <td>-2.331402</td>\n",
              "      <td>258.663411</td>\n",
              "      <td>22</td>\n",
              "      <td>1.007299</td>\n",
              "      <td>2</td>\n",
              "      <td>2</td>\n",
              "      <td>2</td>\n",
              "    </tr>\n",
              "    <tr>\n",
              "      <th>4</th>\n",
              "      <td>1</td>\n",
              "      <td>-2.165963</td>\n",
              "      <td>-2.507822</td>\n",
              "      <td>256.113159</td>\n",
              "      <td>22</td>\n",
              "      <td>1.007299</td>\n",
              "      <td>5</td>\n",
              "      <td>6</td>\n",
              "      <td>6</td>\n",
              "    </tr>\n",
              "    <tr>\n",
              "      <th>...</th>\n",
              "      <td>...</td>\n",
              "      <td>...</td>\n",
              "      <td>...</td>\n",
              "      <td>...</td>\n",
              "      <td>...</td>\n",
              "      <td>...</td>\n",
              "      <td>...</td>\n",
              "      <td>...</td>\n",
              "      <td>...</td>\n",
              "    </tr>\n",
              "    <tr>\n",
              "      <th>46752</th>\n",
              "      <td>1</td>\n",
              "      <td>0.957746</td>\n",
              "      <td>0.600000</td>\n",
              "      <td>241.079593</td>\n",
              "      <td>10</td>\n",
              "      <td>1.007299</td>\n",
              "      <td>8</td>\n",
              "      <td>8</td>\n",
              "      <td>8</td>\n",
              "    </tr>\n",
              "    <tr>\n",
              "      <th>46753</th>\n",
              "      <td>1</td>\n",
              "      <td>-1.636364</td>\n",
              "      <td>4.461538</td>\n",
              "      <td>108.491705</td>\n",
              "      <td>15</td>\n",
              "      <td>1.007299</td>\n",
              "      <td>6</td>\n",
              "      <td>6</td>\n",
              "      <td>7</td>\n",
              "    </tr>\n",
              "    <tr>\n",
              "      <th>46754</th>\n",
              "      <td>1</td>\n",
              "      <td>-2.306052</td>\n",
              "      <td>-1.981413</td>\n",
              "      <td>265.229146</td>\n",
              "      <td>22</td>\n",
              "      <td>1.007299</td>\n",
              "      <td>6</td>\n",
              "      <td>6</td>\n",
              "      <td>7</td>\n",
              "    </tr>\n",
              "    <tr>\n",
              "      <th>46755</th>\n",
              "      <td>1</td>\n",
              "      <td>1.894737</td>\n",
              "      <td>1.666667</td>\n",
              "      <td>368.345558</td>\n",
              "      <td>10</td>\n",
              "      <td>1.007299</td>\n",
              "      <td>1</td>\n",
              "      <td>1</td>\n",
              "      <td>1</td>\n",
              "    </tr>\n",
              "    <tr>\n",
              "      <th>46756</th>\n",
              "      <td>1</td>\n",
              "      <td>0.173913</td>\n",
              "      <td>2.171247</td>\n",
              "      <td>180.769466</td>\n",
              "      <td>10</td>\n",
              "      <td>1.007299</td>\n",
              "      <td>3</td>\n",
              "      <td>3</td>\n",
              "      <td>3</td>\n",
              "    </tr>\n",
              "  </tbody>\n",
              "</table>\n",
              "<p>36325 rows × 9 columns</p>\n",
              "</div>"
            ],
            "text/plain": [
              "       business_code  cust_number  ...  create_date.1_month  due_in_date_month\n",
              "0                  1    -6.640823  ...                    1                  2\n",
              "1                  1    -4.493711  ...                    4                  5\n",
              "2                  1    -3.908537  ...                    5                  6\n",
              "3                  1    -2.306052  ...                    2                  2\n",
              "4                  1    -2.165963  ...                    6                  6\n",
              "...              ...          ...  ...                  ...                ...\n",
              "46752              1     0.957746  ...                    8                  8\n",
              "46753              1    -1.636364  ...                    6                  7\n",
              "46754              1    -2.306052  ...                    6                  7\n",
              "46755              1     1.894737  ...                    1                  1\n",
              "46756              1     0.173913  ...                    3                  3\n",
              "\n",
              "[36325 rows x 9 columns]"
            ]
          },
          "metadata": {
            "tags": []
          },
          "execution_count": 2549
        }
      ]
    },
    {
      "cell_type": "code",
      "metadata": {
        "id": "9YYLi4JAjXTI"
      },
      "source": [
        "###############checking feature importance\r\n",
        "def tree_based_feature_importance(x_train,y):\r\n",
        "    from sklearn.ensemble import RandomForestRegressor\r\n",
        "    # create the random forest model\r\n",
        "    model = RandomForestRegressor(n_estimators=120)\r\n",
        "\r\n",
        "    # fit the model to start training.\r\n",
        "    model.fit(x_train, y)\r\n",
        "\r\n",
        "    # get the importance of the resulting features.\r\n",
        "    importances = model.feature_importances_\r\n",
        "\r\n",
        "    # create a data frame for visualization.\r\n",
        "    final_df = pd.DataFrame({\"Features\": x_train.columns, \"Importances\":importances})\r\n",
        "    final_df.set_index('Importances')\r\n",
        "\r\n",
        "    # sort in descending order \r\n",
        "    final_df = final_df.sort_values('Importances',ascending=False)\r\n",
        "    \r\n",
        "    #visualising feature importance\r\n",
        "    pd.Series(model.feature_importances_, index=x_train.columns).nlargest(6).plot(kind='barh')  \r\n",
        "    return final_df"
      ],
      "execution_count": 2550,
      "outputs": []
    },
    {
      "cell_type": "code",
      "metadata": {
        "colab": {
          "base_uri": "https://localhost:8080/",
          "height": 265
        },
        "id": "XjOioRvSkWgR",
        "outputId": "61043bbf-1fd1-41d0-b48f-84427b5f4069"
      },
      "source": [
        "feature_importance=tree_based_feature_importance(x_train_new,y)#features importance data frame"
      ],
      "execution_count": 2551,
      "outputs": [
        {
          "output_type": "display_data",
          "data": {
            "image/png": "[encoded data removed]",
            "text/plain": [
              "<Figure size 432x288 with 1 Axes>"
            ]
          },
          "metadata": {
            "tags": []
          }
        }
      ]
    },
    {
      "cell_type": "code",
      "metadata": {
        "colab": {
          "base_uri": "https://localhost:8080/",
          "height": 325
        },
        "id": "TK_E6Epmucd4",
        "outputId": "0ed0252f-805a-4663-983d-00943e27fc92"
      },
      "source": [
        "display(feature_importance)"
      ],
      "execution_count": 2552,
      "outputs": [
        {
          "output_type": "display_data",
          "data": {
            "text/html": [
              "<div>\n",
              "<style scoped>\n",
              "    .dataframe tbody tr th:only-of-type {\n",
              "        vertical-align: middle;\n",
              "    }\n",
              "\n",
              "    .dataframe tbody tr th {\n",
              "        vertical-align: top;\n",
              "    }\n",
              "\n",
              "    .dataframe thead th {\n",
              "        text-align: right;\n",
              "    }\n",
              "</style>\n",
              "<table border=\"1\" class=\"dataframe\">\n",
              "  <thead>\n",
              "    <tr style=\"text-align: right;\">\n",
              "      <th></th>\n",
              "      <th>Features</th>\n",
              "      <th>Importances</th>\n",
              "    </tr>\n",
              "  </thead>\n",
              "  <tbody>\n",
              "    <tr>\n",
              "      <th>1</th>\n",
              "      <td>cust_number</td>\n",
              "      <td>0.424039</td>\n",
              "    </tr>\n",
              "    <tr>\n",
              "      <th>3</th>\n",
              "      <td>total_open_amount</td>\n",
              "      <td>0.235885</td>\n",
              "    </tr>\n",
              "    <tr>\n",
              "      <th>4</th>\n",
              "      <td>cust_payment_terms</td>\n",
              "      <td>0.112118</td>\n",
              "    </tr>\n",
              "    <tr>\n",
              "      <th>2</th>\n",
              "      <td>name_customer</td>\n",
              "      <td>0.093864</td>\n",
              "    </tr>\n",
              "    <tr>\n",
              "      <th>8</th>\n",
              "      <td>due_in_date_month</td>\n",
              "      <td>0.057911</td>\n",
              "    </tr>\n",
              "    <tr>\n",
              "      <th>6</th>\n",
              "      <td>create_date_month</td>\n",
              "      <td>0.036412</td>\n",
              "    </tr>\n",
              "    <tr>\n",
              "      <th>7</th>\n",
              "      <td>create_date.1_month</td>\n",
              "      <td>0.034550</td>\n",
              "    </tr>\n",
              "    <tr>\n",
              "      <th>0</th>\n",
              "      <td>business_code</td>\n",
              "      <td>0.005222</td>\n",
              "    </tr>\n",
              "    <tr>\n",
              "      <th>5</th>\n",
              "      <td>isOpen</td>\n",
              "      <td>0.000000</td>\n",
              "    </tr>\n",
              "  </tbody>\n",
              "</table>\n",
              "</div>"
            ],
            "text/plain": [
              "              Features  Importances\n",
              "1          cust_number     0.424039\n",
              "3    total_open_amount     0.235885\n",
              "4   cust_payment_terms     0.112118\n",
              "2        name_customer     0.093864\n",
              "8    due_in_date_month     0.057911\n",
              "6    create_date_month     0.036412\n",
              "7  create_date.1_month     0.034550\n",
              "0        business_code     0.005222\n",
              "5               isOpen     0.000000"
            ]
          },
          "metadata": {
            "tags": []
          }
        }
      ]
    },
    {
      "cell_type": "code",
      "metadata": {
        "id": "Oa4KbCCa1-YT"
      },
      "source": [
        "x_train_new=x_train_new.drop(['isOpen','business_code','create_date_month','create_date.1_month'],axis=1)\r\n",
        "train_set=train_set.drop(['isOpen','business_code','create_date_month','create_date.1_month'],axis=1)\r\n"
      ],
      "execution_count": 2553,
      "outputs": []
    },
    {
      "cell_type": "code",
      "metadata": {
        "colab": {
          "base_uri": "https://localhost:8080/",
          "height": 435
        },
        "id": "lz273mrR2q7L",
        "outputId": "6e79967d-5029-4e2c-e8bb-6bea1e6e0cf1"
      },
      "source": [
        "train_set"
      ],
      "execution_count": 2554,
      "outputs": [
        {
          "output_type": "execute_result",
          "data": {
            "text/html": [
              "<div>\n",
              "<style scoped>\n",
              "    .dataframe tbody tr th:only-of-type {\n",
              "        vertical-align: middle;\n",
              "    }\n",
              "\n",
              "    .dataframe tbody tr th {\n",
              "        vertical-align: top;\n",
              "    }\n",
              "\n",
              "    .dataframe thead th {\n",
              "        text-align: right;\n",
              "    }\n",
              "</style>\n",
              "<table border=\"1\" class=\"dataframe\">\n",
              "  <thead>\n",
              "    <tr style=\"text-align: right;\">\n",
              "      <th></th>\n",
              "      <th>cust_number</th>\n",
              "      <th>name_customer</th>\n",
              "      <th>clear_date</th>\n",
              "      <th>document_create_date</th>\n",
              "      <th>document_create_date.1</th>\n",
              "      <th>due_in_date</th>\n",
              "      <th>total_open_amount</th>\n",
              "      <th>baseline_create_date</th>\n",
              "      <th>cust_payment_terms</th>\n",
              "      <th>target_delay</th>\n",
              "      <th>due_in_date_month</th>\n",
              "    </tr>\n",
              "  </thead>\n",
              "  <tbody>\n",
              "    <tr>\n",
              "      <th>0</th>\n",
              "      <td>-6.640823</td>\n",
              "      <td>-5.742424</td>\n",
              "      <td>2019-02-06</td>\n",
              "      <td>2019-01-21</td>\n",
              "      <td>2019-01-22</td>\n",
              "      <td>2019-02-11</td>\n",
              "      <td>45.602083</td>\n",
              "      <td>2019-01-22</td>\n",
              "      <td>17</td>\n",
              "      <td>-5</td>\n",
              "      <td>2</td>\n",
              "    </tr>\n",
              "    <tr>\n",
              "      <th>1</th>\n",
              "      <td>-4.493711</td>\n",
              "      <td>-3.893939</td>\n",
              "      <td>2019-05-01</td>\n",
              "      <td>2019-04-26</td>\n",
              "      <td>2019-04-26</td>\n",
              "      <td>2019-05-09</td>\n",
              "      <td>8.277681</td>\n",
              "      <td>2019-04-16</td>\n",
              "      <td>25</td>\n",
              "      <td>-8</td>\n",
              "      <td>5</td>\n",
              "    </tr>\n",
              "    <tr>\n",
              "      <th>2</th>\n",
              "      <td>-3.908537</td>\n",
              "      <td>-4.506667</td>\n",
              "      <td>2019-06-03</td>\n",
              "      <td>2019-05-25</td>\n",
              "      <td>2019-05-25</td>\n",
              "      <td>2019-06-08</td>\n",
              "      <td>40.961201</td>\n",
              "      <td>2019-05-16</td>\n",
              "      <td>25</td>\n",
              "      <td>-5</td>\n",
              "      <td>6</td>\n",
              "    </tr>\n",
              "    <tr>\n",
              "      <th>3</th>\n",
              "      <td>-2.306052</td>\n",
              "      <td>-2.331402</td>\n",
              "      <td>2019-02-20</td>\n",
              "      <td>2019-02-08</td>\n",
              "      <td>2019-02-09</td>\n",
              "      <td>2019-02-24</td>\n",
              "      <td>258.663411</td>\n",
              "      <td>2019-02-09</td>\n",
              "      <td>22</td>\n",
              "      <td>-4</td>\n",
              "      <td>2</td>\n",
              "    </tr>\n",
              "    <tr>\n",
              "      <th>4</th>\n",
              "      <td>-2.165963</td>\n",
              "      <td>-2.507822</td>\n",
              "      <td>2019-06-12</td>\n",
              "      <td>2019-05-30</td>\n",
              "      <td>2019-06-01</td>\n",
              "      <td>2019-06-16</td>\n",
              "      <td>256.113159</td>\n",
              "      <td>2019-06-01</td>\n",
              "      <td>22</td>\n",
              "      <td>-4</td>\n",
              "      <td>6</td>\n",
              "    </tr>\n",
              "    <tr>\n",
              "      <th>...</th>\n",
              "      <td>...</td>\n",
              "      <td>...</td>\n",
              "      <td>...</td>\n",
              "      <td>...</td>\n",
              "      <td>...</td>\n",
              "      <td>...</td>\n",
              "      <td>...</td>\n",
              "      <td>...</td>\n",
              "      <td>...</td>\n",
              "      <td>...</td>\n",
              "      <td>...</td>\n",
              "    </tr>\n",
              "    <tr>\n",
              "      <th>46752</th>\n",
              "      <td>0.957746</td>\n",
              "      <td>0.600000</td>\n",
              "      <td>2019-08-30</td>\n",
              "      <td>2019-08-15</td>\n",
              "      <td>2019-08-14</td>\n",
              "      <td>2019-08-29</td>\n",
              "      <td>241.079593</td>\n",
              "      <td>2019-08-14</td>\n",
              "      <td>10</td>\n",
              "      <td>1</td>\n",
              "      <td>8</td>\n",
              "    </tr>\n",
              "    <tr>\n",
              "      <th>46753</th>\n",
              "      <td>-1.636364</td>\n",
              "      <td>4.461538</td>\n",
              "      <td>2019-07-08</td>\n",
              "      <td>2019-06-23</td>\n",
              "      <td>2019-06-24</td>\n",
              "      <td>2019-07-09</td>\n",
              "      <td>108.491705</td>\n",
              "      <td>2019-06-24</td>\n",
              "      <td>15</td>\n",
              "      <td>-1</td>\n",
              "      <td>7</td>\n",
              "    </tr>\n",
              "    <tr>\n",
              "      <th>46754</th>\n",
              "      <td>-2.306052</td>\n",
              "      <td>-1.981413</td>\n",
              "      <td>2019-07-03</td>\n",
              "      <td>2019-06-21</td>\n",
              "      <td>2019-06-23</td>\n",
              "      <td>2019-07-08</td>\n",
              "      <td>265.229146</td>\n",
              "      <td>2019-06-23</td>\n",
              "      <td>22</td>\n",
              "      <td>-5</td>\n",
              "      <td>7</td>\n",
              "    </tr>\n",
              "    <tr>\n",
              "      <th>46755</th>\n",
              "      <td>1.894737</td>\n",
              "      <td>1.666667</td>\n",
              "      <td>2019-01-17</td>\n",
              "      <td>2019-01-02</td>\n",
              "      <td>2019-01-02</td>\n",
              "      <td>2019-01-17</td>\n",
              "      <td>368.345558</td>\n",
              "      <td>2019-01-02</td>\n",
              "      <td>10</td>\n",
              "      <td>0</td>\n",
              "      <td>1</td>\n",
              "    </tr>\n",
              "    <tr>\n",
              "      <th>46756</th>\n",
              "      <td>0.173913</td>\n",
              "      <td>2.171247</td>\n",
              "      <td>2019-03-22</td>\n",
              "      <td>2019-03-07</td>\n",
              "      <td>2019-03-07</td>\n",
              "      <td>2019-03-22</td>\n",
              "      <td>180.769466</td>\n",
              "      <td>2019-03-07</td>\n",
              "      <td>10</td>\n",
              "      <td>0</td>\n",
              "      <td>3</td>\n",
              "    </tr>\n",
              "  </tbody>\n",
              "</table>\n",
              "<p>36325 rows × 11 columns</p>\n",
              "</div>"
            ],
            "text/plain": [
              "       cust_number  name_customer  ... target_delay due_in_date_month\n",
              "0        -6.640823      -5.742424  ...           -5                 2\n",
              "1        -4.493711      -3.893939  ...           -8                 5\n",
              "2        -3.908537      -4.506667  ...           -5                 6\n",
              "3        -2.306052      -2.331402  ...           -4                 2\n",
              "4        -2.165963      -2.507822  ...           -4                 6\n",
              "...            ...            ...  ...          ...               ...\n",
              "46752     0.957746       0.600000  ...            1                 8\n",
              "46753    -1.636364       4.461538  ...           -1                 7\n",
              "46754    -2.306052      -1.981413  ...           -5                 7\n",
              "46755     1.894737       1.666667  ...            0                 1\n",
              "46756     0.173913       2.171247  ...            0                 3\n",
              "\n",
              "[36325 rows x 11 columns]"
            ]
          },
          "metadata": {
            "tags": []
          },
          "execution_count": 2554
        }
      ]
    },
    {
      "cell_type": "code",
      "metadata": {
        "colab": {
          "base_uri": "https://localhost:8080/",
          "height": 415
        },
        "id": "_Irmsp8T2y-f",
        "outputId": "32bf23cb-9fd6-41a0-b289-5fc8f439b76e"
      },
      "source": [
        "x_train_new"
      ],
      "execution_count": 2555,
      "outputs": [
        {
          "output_type": "execute_result",
          "data": {
            "text/html": [
              "<div>\n",
              "<style scoped>\n",
              "    .dataframe tbody tr th:only-of-type {\n",
              "        vertical-align: middle;\n",
              "    }\n",
              "\n",
              "    .dataframe tbody tr th {\n",
              "        vertical-align: top;\n",
              "    }\n",
              "\n",
              "    .dataframe thead th {\n",
              "        text-align: right;\n",
              "    }\n",
              "</style>\n",
              "<table border=\"1\" class=\"dataframe\">\n",
              "  <thead>\n",
              "    <tr style=\"text-align: right;\">\n",
              "      <th></th>\n",
              "      <th>cust_number</th>\n",
              "      <th>name_customer</th>\n",
              "      <th>total_open_amount</th>\n",
              "      <th>cust_payment_terms</th>\n",
              "      <th>due_in_date_month</th>\n",
              "    </tr>\n",
              "  </thead>\n",
              "  <tbody>\n",
              "    <tr>\n",
              "      <th>0</th>\n",
              "      <td>-6.640823</td>\n",
              "      <td>-5.742424</td>\n",
              "      <td>45.602083</td>\n",
              "      <td>17</td>\n",
              "      <td>2</td>\n",
              "    </tr>\n",
              "    <tr>\n",
              "      <th>1</th>\n",
              "      <td>-4.493711</td>\n",
              "      <td>-3.893939</td>\n",
              "      <td>8.277681</td>\n",
              "      <td>25</td>\n",
              "      <td>5</td>\n",
              "    </tr>\n",
              "    <tr>\n",
              "      <th>2</th>\n",
              "      <td>-3.908537</td>\n",
              "      <td>-4.506667</td>\n",
              "      <td>40.961201</td>\n",
              "      <td>25</td>\n",
              "      <td>6</td>\n",
              "    </tr>\n",
              "    <tr>\n",
              "      <th>3</th>\n",
              "      <td>-2.306052</td>\n",
              "      <td>-2.331402</td>\n",
              "      <td>258.663411</td>\n",
              "      <td>22</td>\n",
              "      <td>2</td>\n",
              "    </tr>\n",
              "    <tr>\n",
              "      <th>4</th>\n",
              "      <td>-2.165963</td>\n",
              "      <td>-2.507822</td>\n",
              "      <td>256.113159</td>\n",
              "      <td>22</td>\n",
              "      <td>6</td>\n",
              "    </tr>\n",
              "    <tr>\n",
              "      <th>...</th>\n",
              "      <td>...</td>\n",
              "      <td>...</td>\n",
              "      <td>...</td>\n",
              "      <td>...</td>\n",
              "      <td>...</td>\n",
              "    </tr>\n",
              "    <tr>\n",
              "      <th>46752</th>\n",
              "      <td>0.957746</td>\n",
              "      <td>0.600000</td>\n",
              "      <td>241.079593</td>\n",
              "      <td>10</td>\n",
              "      <td>8</td>\n",
              "    </tr>\n",
              "    <tr>\n",
              "      <th>46753</th>\n",
              "      <td>-1.636364</td>\n",
              "      <td>4.461538</td>\n",
              "      <td>108.491705</td>\n",
              "      <td>15</td>\n",
              "      <td>7</td>\n",
              "    </tr>\n",
              "    <tr>\n",
              "      <th>46754</th>\n",
              "      <td>-2.306052</td>\n",
              "      <td>-1.981413</td>\n",
              "      <td>265.229146</td>\n",
              "      <td>22</td>\n",
              "      <td>7</td>\n",
              "    </tr>\n",
              "    <tr>\n",
              "      <th>46755</th>\n",
              "      <td>1.894737</td>\n",
              "      <td>1.666667</td>\n",
              "      <td>368.345558</td>\n",
              "      <td>10</td>\n",
              "      <td>1</td>\n",
              "    </tr>\n",
              "    <tr>\n",
              "      <th>46756</th>\n",
              "      <td>0.173913</td>\n",
              "      <td>2.171247</td>\n",
              "      <td>180.769466</td>\n",
              "      <td>10</td>\n",
              "      <td>3</td>\n",
              "    </tr>\n",
              "  </tbody>\n",
              "</table>\n",
              "<p>36325 rows × 5 columns</p>\n",
              "</div>"
            ],
            "text/plain": [
              "       cust_number  name_customer  ...  cust_payment_terms  due_in_date_month\n",
              "0        -6.640823      -5.742424  ...                  17                  2\n",
              "1        -4.493711      -3.893939  ...                  25                  5\n",
              "2        -3.908537      -4.506667  ...                  25                  6\n",
              "3        -2.306052      -2.331402  ...                  22                  2\n",
              "4        -2.165963      -2.507822  ...                  22                  6\n",
              "...            ...            ...  ...                 ...                ...\n",
              "46752     0.957746       0.600000  ...                  10                  8\n",
              "46753    -1.636364       4.461538  ...                  15                  7\n",
              "46754    -2.306052      -1.981413  ...                  22                  7\n",
              "46755     1.894737       1.666667  ...                  10                  1\n",
              "46756     0.173913       2.171247  ...                  10                  3\n",
              "\n",
              "[36325 rows x 5 columns]"
            ]
          },
          "metadata": {
            "tags": []
          },
          "execution_count": 2555
        }
      ]
    },
    {
      "cell_type": "code",
      "metadata": {
        "colab": {
          "base_uri": "https://localhost:8080/"
        },
        "id": "uzuWmBxc6RBd",
        "outputId": "941a44a3-7e8a-4ecb-fdb3-f635d2a8ffad"
      },
      "source": [
        "x_train_new.info()"
      ],
      "execution_count": 2556,
      "outputs": [
        {
          "output_type": "stream",
          "text": [
            "<class 'pandas.core.frame.DataFrame'>\n",
            "Int64Index: 36325 entries, 0 to 46756\n",
            "Data columns (total 5 columns):\n",
            " #   Column              Non-Null Count  Dtype  \n",
            "---  ------              --------------  -----  \n",
            " 0   cust_number         36325 non-null  float64\n",
            " 1   name_customer       36325 non-null  float64\n",
            " 2   total_open_amount   36325 non-null  float64\n",
            " 3   cust_payment_terms  36325 non-null  int64  \n",
            " 4   due_in_date_month   36325 non-null  int64  \n",
            "dtypes: float64(3), int64(2)\n",
            "memory usage: 1.7 MB\n"
          ],
          "name": "stdout"
        }
      ]
    },
    {
      "cell_type": "code",
      "metadata": {
        "colab": {
          "base_uri": "https://localhost:8080/"
        },
        "id": "sofl_v3N6pui",
        "outputId": "affa6d6d-07ab-4c8f-ca0b-f30c55a0f609"
      },
      "source": [
        "x_train_new['cust_number'].isnull().sum() "
      ],
      "execution_count": 2557,
      "outputs": [
        {
          "output_type": "execute_result",
          "data": {
            "text/plain": [
              "0"
            ]
          },
          "metadata": {
            "tags": []
          },
          "execution_count": 2557
        }
      ]
    },
    {
      "cell_type": "code",
      "metadata": {
        "id": "7xoygv_-2zeX"
      },
      "source": [
        "test_data['due_in_date_month']=test_data['due_in_date'].dt.month\r\n",
        "val1['due_in_date_month']=val1['due_in_date'].dt.month\r\n",
        "val2['due_in_date_month']=val2['due_in_date'].dt.month\r\n",
        "\r\n",
        "\r\n",
        "#test_data['create_date.1_month']=test_data['document_create_date.1'].dt.month\r\n",
        "#val1['create_date.1_month']=val1['document_create_date.1'].dt.month\r\n",
        "#val2['create_date.1_month']=val2['document_create_date.1'].dt.month\r\n"
      ],
      "execution_count": 2558,
      "outputs": []
    },
    {
      "cell_type": "code",
      "metadata": {
        "id": "DEkGCaK4NomH"
      },
      "source": [
        "####Model"
      ],
      "execution_count": 2559,
      "outputs": []
    },
    {
      "cell_type": "code",
      "metadata": {
        "id": "CSGIYR3cNrJN"
      },
      "source": [
        "import warnings\r\n",
        "warnings.filterwarnings('ignore')\r\n",
        "# Modeling & Accuracy Metrics\r\n",
        "from sklearn.linear_model import LinearRegression\r\n",
        "from sklearn.svm import SVR\r\n",
        "from sklearn.tree import DecisionTreeRegressor\r\n",
        "from sklearn.ensemble import RandomForestRegressor\r\n",
        "import xgboost as xgb\r\n",
        "from sklearn.datasets import load_boston\r\n",
        "from sklearn.metrics import mean_squared_error\r\n",
        "from sklearn.metrics import r2_score\r\n"
      ],
      "execution_count": 2560,
      "outputs": []
    },
    {
      "cell_type": "code",
      "metadata": {
        "colab": {
          "base_uri": "https://localhost:8080/"
        },
        "id": "GI4hflsWN7_z",
        "outputId": "02121822-126c-4b59-e21d-eab79ddd8f8a"
      },
      "source": [
        "# Fitting Simple Linear Regression to the Training Set\r\n",
        "#Algorithm.append('Linear Regression')\r\n",
        "#clf = LinearRegression()\r\n",
        "#clf.fit(x_train_new, y)"
      ],
      "execution_count": 2562,
      "outputs": [
        {
          "output_type": "execute_result",
          "data": {
            "text/plain": [
              "LinearRegression(copy_X=True, fit_intercept=True, n_jobs=None, normalize=False)"
            ]
          },
          "metadata": {
            "tags": []
          },
          "execution_count": 2562
        }
      ]
    },
    {
      "cell_type": "code",
      "metadata": {
        "id": "QNgFlex9mOr2"
      },
      "source": [
        "#predicted = clf.predict(x_train_new)"
      ],
      "execution_count": 2563,
      "outputs": []
    },
    {
      "cell_type": "code",
      "metadata": {
        "id": "xSjuyzbenCUR"
      },
      "source": [
        "x_val1=val1.copy()\r\n",
        "x_val1=x_val1.drop(['target_delay'],axis=1)\r\n"
      ],
      "execution_count": 2565,
      "outputs": []
    },
    {
      "cell_type": "code",
      "metadata": {
        "id": "mEPxPqaDt00g"
      },
      "source": [
        "x_val1_new=x_val1.drop(['clear_date','due_in_date','document_create_date','document_create_date.1','posting_date','baseline_create_date','isOpen','business_code','buisness_year','doc_id','invoice_currency'],axis=1)"
      ],
      "execution_count": 2566,
      "outputs": []
    },
    {
      "cell_type": "code",
      "metadata": {
        "id": "CKpv81IfntG-"
      },
      "source": [
        "y_val1=val1['target_delay']"
      ],
      "execution_count": 2567,
      "outputs": []
    },
    {
      "cell_type": "code",
      "metadata": {
        "id": "OQa_ZPPXye4f"
      },
      "source": [
        "from sklearn.preprocessing import MinMaxScaler\r\n",
        "scaler = MinMaxScaler() # create an instance\r\n",
        "x_train_new_scaled = scaler.fit_transform(x_train_new) #  fit  the scaler to the train set and then transform it\r\n",
        "x_val1_new_scaled = scaler.transform(x_val1_new) "
      ],
      "execution_count": 2569,
      "outputs": []
    },
    {
      "cell_type": "code",
      "metadata": {
        "id": "LjFE3MV06rxz"
      },
      "source": [
        ""
      ],
      "execution_count": 2572,
      "outputs": []
    },
    {
      "cell_type": "code",
      "metadata": {
        "id": "MARo5aVQ54fT"
      },
      "source": [
        "from sklearn.preprocessing import StandardScaler\r\n",
        "scaler = StandardScaler()\r\n",
        "x_train_new_scaled = scaler.fit_transform(x_train_new_scaled) #  fit  the scaler to the train set and then transform it\r\n",
        "x_val1_new_scaled = scaler.transform(x_val1_new_scaled) "
      ],
      "execution_count": 2574,
      "outputs": []
    },
    {
      "cell_type": "code",
      "metadata": {
        "colab": {
          "base_uri": "https://localhost:8080/"
        },
        "id": "YePkPqkh6S6T",
        "outputId": "28143726-6b9c-4ec9-9e29-387a0bb13dd3"
      },
      "source": [
        "#Algorithm.append('Linear Regression')\r\n",
        "#clf = LinearRegression()\r\n",
        "#clf.fit(x_train_new_scaled, y)"
      ],
      "execution_count": 2575,
      "outputs": [
        {
          "output_type": "execute_result",
          "data": {
            "text/plain": [
              "LinearRegression(copy_X=True, fit_intercept=True, n_jobs=None, normalize=False)"
            ]
          },
          "metadata": {
            "tags": []
          },
          "execution_count": 2575
        }
      ]
    },
    {
      "cell_type": "code",
      "metadata": {
        "id": "0mpRn5vl6lZr"
      },
      "source": [
        "#predicted = clf.predict(x_train_new_scaled)"
      ],
      "execution_count": 2576,
      "outputs": []
    },
    {
      "cell_type": "code",
      "metadata": {
        "colab": {
          "base_uri": "https://localhost:8080/"
        },
        "id": "QwqdGHff6udn",
        "outputId": "e0dfcac6-cab7-4848-9286-cba00084b719"
      },
      "source": [
        "#t1=mean_squared_error(y, predicted)\r\n",
        "#t2=r2_score(y, predicted)\r\n",
        "#t1,t2"
      ],
      "execution_count": 2577,
      "outputs": [
        {
          "output_type": "execute_result",
          "data": {
            "text/plain": [
              "(7.210396820144025, 0.3299068701172091)"
            ]
          },
          "metadata": {
            "tags": []
          },
          "execution_count": 2577
        }
      ]
    },
    {
      "cell_type": "code",
      "metadata": {
        "colab": {
          "base_uri": "https://localhost:8080/"
        },
        "id": "YRxMdmtN60mt",
        "outputId": "4469efb9-a39a-4578-c103-bc2de2f595b0"
      },
      "source": [
        "#predicte = clf.predict(x_val1_new_scaled)\r\n",
        "#t1=mean_squared_error(y_val1, predicte)\r\n",
        "#t2=r2_score(y_val1, predicte)\r\n",
        "#t1,t2"
      ],
      "execution_count": 2578,
      "outputs": [
        {
          "output_type": "execute_result",
          "data": {
            "text/plain": [
              "(270.85432211579456, -3.205109790164566)"
            ]
          },
          "metadata": {
            "tags": []
          },
          "execution_count": 2578
        }
      ]
    },
    {
      "cell_type": "code",
      "metadata": {
        "id": "hCtDZdFc7VFV"
      },
      "source": [
        "x_val2=val2.copy()\r\n",
        "x_val2=x_val2.drop(['target_delay'],axis=1)\r\n"
      ],
      "execution_count": 2579,
      "outputs": []
    },
    {
      "cell_type": "code",
      "metadata": {
        "id": "rvrKbPWf7y3S"
      },
      "source": [
        "x_val2_new=x_val2.drop(['clear_date','due_in_date','document_create_date','document_create_date.1','posting_date','baseline_create_date','isOpen','business_code','buisness_year','doc_id','invoice_currency'],axis=1)"
      ],
      "execution_count": 2580,
      "outputs": []
    },
    {
      "cell_type": "code",
      "metadata": {
        "id": "X_94GI8H8V1C"
      },
      "source": [
        "y_val2=val2['target_delay']"
      ],
      "execution_count": 2581,
      "outputs": []
    },
    {
      "cell_type": "code",
      "metadata": {
        "id": "lcuf0mCJ8aes"
      },
      "source": [
        "x_val2_new_scaled = scaler.transform(x_val2_new)"
      ],
      "execution_count": 2582,
      "outputs": []
    },
    {
      "cell_type": "code",
      "metadata": {
        "id": "1iQulB988yDE"
      },
      "source": [
        "scaler = StandardScaler()\r\n",
        "x_train_new_scaled = scaler.fit_transform(x_train_new_scaled) #  fit  the scaler to the train set and then transform it\r\n",
        "\r\n",
        "x_val2_new_scaled = scaler.transform(x_val2_new_scaled) "
      ],
      "execution_count": 2583,
      "outputs": []
    },
    {
      "cell_type": "code",
      "metadata": {
        "colab": {
          "base_uri": "https://localhost:8080/"
        },
        "id": "Ee8OuEh29Bvx",
        "outputId": "5bf96e6a-72a2-4838-89c2-74f76c111b2b"
      },
      "source": [
        "#Algorithm.append('Linear Regression')\r\n",
        "#clf = LinearRegression()\r\n",
        "#clf.fit(x_train_new_scaled, y)"
      ],
      "execution_count": 2584,
      "outputs": [
        {
          "output_type": "execute_result",
          "data": {
            "text/plain": [
              "LinearRegression(copy_X=True, fit_intercept=True, n_jobs=None, normalize=False)"
            ]
          },
          "metadata": {
            "tags": []
          },
          "execution_count": 2584
        }
      ]
    },
    {
      "cell_type": "code",
      "metadata": {
        "id": "IpBKhmqM9LlJ"
      },
      "source": [
        "#predicted = clf.predict(x_train_new_scaled)"
      ],
      "execution_count": 2585,
      "outputs": []
    },
    {
      "cell_type": "code",
      "metadata": {
        "colab": {
          "base_uri": "https://localhost:8080/"
        },
        "id": "Hsh42BLQ9L5V",
        "outputId": "c5e11f6d-c1ca-49d5-c08c-aa481e852008"
      },
      "source": [
        "#t1=mean_squared_error(y, predicted)\r\n",
        "#t2=r2_score(y, predicted)\r\n",
        "#t1,t2"
      ],
      "execution_count": 2586,
      "outputs": [
        {
          "output_type": "execute_result",
          "data": {
            "text/plain": [
              "(7.210396820144025, 0.3299068701172091)"
            ]
          },
          "metadata": {
            "tags": []
          },
          "execution_count": 2586
        }
      ]
    },
    {
      "cell_type": "code",
      "metadata": {
        "colab": {
          "base_uri": "https://localhost:8080/"
        },
        "id": "y08iS9wl9Wja",
        "outputId": "d8f1862c-204c-46d9-b7b0-8392684c2a35"
      },
      "source": [
        "#predicte = clf.predict(x_val2_new_scaled)\r\n",
        "#t1=mean_squared_error(y_val2, predicte)\r\n",
        "#t2=r2_score(y_val2, predicte)\r\n",
        "#t1,t2"
      ],
      "execution_count": 2587,
      "outputs": [
        {
          "output_type": "execute_result",
          "data": {
            "text/plain": [
              "(124919352.83633804, -1170378.6851002972)"
            ]
          },
          "metadata": {
            "tags": []
          },
          "execution_count": 2587
        }
      ]
    },
    {
      "cell_type": "code",
      "metadata": {
        "id": "K3cTMfBJ99Ss"
      },
      "source": [
        "Algorithm.append('Decision Tree Regressor')\r\n",
        "clf = DecisionTreeRegressor()\r\n",
        "clf.fit(x_train_new_scaled, y)\r\n",
        "\r\n",
        "# Predicting the Test Set Results\r\n",
        "predicted = clf.predict(x_train_new_scaled)"
      ],
      "execution_count": 2588,
      "outputs": []
    },
    {
      "cell_type": "code",
      "metadata": {
        "colab": {
          "base_uri": "https://localhost:8080/"
        },
        "id": "VZnNNmae-P5Z",
        "outputId": "d2d274b5-c61e-46bc-a668-b0a2d6824338"
      },
      "source": [
        "t1=mean_squared_error(y, predicted)\r\n",
        "t2=r2_score(y, predicted)\r\n",
        "t1,t2"
      ],
      "execution_count": 2589,
      "outputs": [
        {
          "output_type": "execute_result",
          "data": {
            "text/plain": [
              "(0.031986694195916494, 0.9970273391932516)"
            ]
          },
          "metadata": {
            "tags": []
          },
          "execution_count": 2589
        }
      ]
    },
    {
      "cell_type": "code",
      "metadata": {
        "colab": {
          "base_uri": "https://localhost:8080/"
        },
        "id": "XItomDDH-ZFQ",
        "outputId": "6a316e1a-8a1b-42d6-cb2c-8f18658852da"
      },
      "source": [
        "predicted = clf.predict(x_val1_new_scaled)\r\n",
        "t2=r2_score(y_val1, predicted)\r\n",
        "t1,t2"
      ],
      "execution_count": 2590,
      "outputs": [
        {
          "output_type": "execute_result",
          "data": {
            "text/plain": [
              "(0.031986694195916494, -0.10929760525170718)"
            ]
          },
          "metadata": {
            "tags": []
          },
          "execution_count": 2590
        }
      ]
    },
    {
      "cell_type": "code",
      "metadata": {
        "colab": {
          "base_uri": "https://localhost:8080/"
        },
        "id": "KpIu6bObJj3z",
        "outputId": "2ac7afa0-faae-45ec-d830-710dc7b276b7"
      },
      "source": [
        "predicted = clf.predict(x_val2_new_scaled)\r\n",
        "t2=r2_score(y_val2, predicted)\r\n",
        "t1,t2"
      ],
      "execution_count": 2591,
      "outputs": [
        {
          "output_type": "execute_result",
          "data": {
            "text/plain": [
              "(0.031986694195916494, -0.0018646645659179395)"
            ]
          },
          "metadata": {
            "tags": []
          },
          "execution_count": 2591
        }
      ]
    },
    {
      "cell_type": "code",
      "metadata": {
        "id": "ySA1adiSJ4bb"
      },
      "source": [
        "Algorithm.append('Random Forest Regressor')\r\n",
        "clf = RandomForestRegressor()\r\n",
        "clf.fit(x_train_new_scaled, y)\r\n",
        "\r\n",
        "# Predicting the Test Set Results\r\n",
        "predicted = clf.predict(x_train_new_scaled)"
      ],
      "execution_count": 2592,
      "outputs": []
    },
    {
      "cell_type": "code",
      "metadata": {
        "colab": {
          "base_uri": "https://localhost:8080/"
        },
        "id": "r8zsa0ABKJaU",
        "outputId": "cadd34ff-1bba-4bbf-84e4-7d4071d8f022"
      },
      "source": [
        "t1=mean_squared_error(y, predicted)\r\n",
        "t2=r2_score(y, predicted)\r\n",
        "t1,t2"
      ],
      "execution_count": 2593,
      "outputs": [
        {
          "output_type": "execute_result",
          "data": {
            "text/plain": [
              "(0.8103796746177993, 0.9246879379729905)"
            ]
          },
          "metadata": {
            "tags": []
          },
          "execution_count": 2593
        }
      ]
    },
    {
      "cell_type": "code",
      "metadata": {
        "colab": {
          "base_uri": "https://localhost:8080/"
        },
        "id": "Cb_jA2kXKXCS",
        "outputId": "6a7cd8b5-c870-4a79-e961-ca0d20751850"
      },
      "source": [
        "predicted = clf.predict(x_val1_new_scaled)\r\n",
        "t2=r2_score(y_val1, predicted)\r\n",
        "t1,t2"
      ],
      "execution_count": 2594,
      "outputs": [
        {
          "output_type": "execute_result",
          "data": {
            "text/plain": [
              "(0.8103796746177993, 0.08541669719092415)"
            ]
          },
          "metadata": {
            "tags": []
          },
          "execution_count": 2594
        }
      ]
    },
    {
      "cell_type": "code",
      "metadata": {
        "colab": {
          "base_uri": "https://localhost:8080/"
        },
        "id": "gUy-x3rHKbit",
        "outputId": "38e6d0fe-4f46-47df-bc2e-a90ba794c0e3"
      },
      "source": [
        "predicted = clf.predict(x_val2_new_scaled)\r\n",
        "t2=r2_score(y_val2, predicted)\r\n",
        "t1,t2"
      ],
      "execution_count": 2595,
      "outputs": [
        {
          "output_type": "execute_result",
          "data": {
            "text/plain": [
              "(0.8103796746177993, 0.055938347893070395)"
            ]
          },
          "metadata": {
            "tags": []
          },
          "execution_count": 2595
        }
      ]
    }
  ]
}