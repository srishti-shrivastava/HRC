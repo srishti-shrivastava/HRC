{
  "nbformat": 4,
  "nbformat_minor": 0,
  "metadata": {
    "colab": {
      "name": "Untitled18.ipynb",
      "provenance": []
    },
    "kernelspec": {
      "name": "python3",
      "display_name": "Python 3"
    }
  },
  "cells": [
    {
      "cell_type": "code",
      "metadata": {
        "colab": {
          "base_uri": "https://localhost:8080/"
        },
        "id": "Cyh7pmMOxN-Z",
        "outputId": "705a31fd-ad67-403f-8b8c-1ee15c1ca558"
      },
      "source": [
        "from array import *\r\n",
        "array_num = array('i', [1, 3, 5, 3, 7, 1, 9, 3])\r\n",
        "print(\"Original array: \"+str(array_num))\r\n",
        "array_num.reverse()\r\n",
        "print(\"Reverse the order of the items:\")\r\n",
        "print(str(array_num))"
      ],
      "execution_count": 1,
      "outputs": [
        {
          "output_type": "stream",
          "text": [
            "Original array: array('i', [1, 3, 5, 3, 7, 1, 9, 3])\n",
            "Reverse the order of the items:\n",
            "array('i', [3, 9, 1, 7, 3, 5, 3, 1])\n"
          ],
          "name": "stdout"
        }
      ]
    },
    {
      "cell_type": "code",
      "metadata": {
        "colab": {
          "base_uri": "https://localhost:8080/"
        },
        "id": "tmIVb3ZExPvs",
        "outputId": "ff9ae8c8-3e1e-45a0-d7e6-d5cb21b883fb"
      },
      "source": [
        "from array import *\r\n",
        "array_num = array('i', [1, 3, 5, 7, 9])\r\n",
        "print(\"Original array: \"+str(array_num))\r\n",
        "print(\"Append 11 at the end of the array:\")\r\n",
        "array_num.append(11)\r\n",
        "print(\"New array: \"+str(array_num))"
      ],
      "execution_count": 2,
      "outputs": [
        {
          "output_type": "stream",
          "text": [
            "Original array: array('i', [1, 3, 5, 7, 9])\n",
            "Append 11 at the end of the array:\n",
            "New array: array('i', [1, 3, 5, 7, 9, 11])\n"
          ],
          "name": "stdout"
        }
      ]
    },
    {
      "cell_type": "code",
      "metadata": {
        "colab": {
          "base_uri": "https://localhost:8080/"
        },
        "id": "HSN26CTlxY5K",
        "outputId": "968dbc3c-8144-4878-b624-7952a2de0fdd"
      },
      "source": [
        "from array import *\r\n",
        "array_num = array('i', [1,3,5,7,9])\r\n",
        "for i in array_num:\r\n",
        "    print(i)\r\n",
        "print(\"Access first three items individually\")\r\n",
        "print(array_num[0])\r\n",
        "print(array_num[1])\r\n",
        "print(array_num[2])"
      ],
      "execution_count": 3,
      "outputs": [
        {
          "output_type": "stream",
          "text": [
            "1\n",
            "3\n",
            "5\n",
            "7\n",
            "9\n",
            "Access first three items individually\n",
            "1\n",
            "3\n",
            "5\n"
          ],
          "name": "stdout"
        }
      ]
    },
    {
      "cell_type": "code",
      "metadata": {
        "colab": {
          "base_uri": "https://localhost:8080/"
        },
        "id": "_vTshiuBxmvG",
        "outputId": "94f9cb24-11b0-49b7-8940-06097d9230df"
      },
      "source": [
        "list1 = [10, 20, [300, 400, [5000, 6000], 500], 30, 40]\r\n",
        "list1[2][2].append(7000)\r\n",
        "print(list1)"
      ],
      "execution_count": 4,
      "outputs": [
        {
          "output_type": "stream",
          "text": [
            "[10, 20, [300, 400, [5000, 6000, 7000], 500], 30, 40]\n"
          ],
          "name": "stdout"
        }
      ]
    },
    {
      "cell_type": "code",
      "metadata": {
        "colab": {
          "base_uri": "https://localhost:8080/"
        },
        "id": "U0jHAaUmyF4-",
        "outputId": "f06db3dd-ff0e-49bc-b44d-1d765e8ccb30"
      },
      "source": [
        "list1 = [\"M\", \"na\", \"i\", \"Ke\"] \r\n",
        "list2 = [\"y\", \"me\", \"s\", \"lly\"]\r\n",
        "list3 = [i + j for i, j in zip(list1, list2)]\r\n",
        "print(list3)"
      ],
      "execution_count": 5,
      "outputs": [
        {
          "output_type": "stream",
          "text": [
            "['My', 'name', 'is', 'Kelly']\n"
          ],
          "name": "stdout"
        }
      ]
    },
    {
      "cell_type": "code",
      "metadata": {
        "colab": {
          "base_uri": "https://localhost:8080/"
        },
        "id": "-6LX7wScyWPq",
        "outputId": "41d47fb6-fae8-401e-9900-5c22be546485"
      },
      "source": [
        "list1 = [5, 10, 15, 20, 25, 50, 20]\r\n",
        "\r\n",
        "index = list1.index(20)\r\n",
        "list1[index] = 200\r\n",
        "print(list1)"
      ],
      "execution_count": 6,
      "outputs": [
        {
          "output_type": "stream",
          "text": [
            "[5, 10, 15, 200, 25, 50, 20]\n"
          ],
          "name": "stdout"
        }
      ]
    },
    {
      "cell_type": "code",
      "metadata": {
        "id": "x41BF_5cyu2W"
      },
      "source": [
        ""
      ],
      "execution_count": null,
      "outputs": []
    }
  ]
}