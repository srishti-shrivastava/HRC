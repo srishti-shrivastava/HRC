{
 "cells": [
  {
   "cell_type": "code",
   "execution_count": 13,
   "metadata": {
    "colab": {
     "base_uri": "https://localhost:8080/",
     "height": 574
    },
    "id": "PzGGfRuU0uJu",
    "outputId": "adc6cc84-3bba-45b7-bf96-dbd05e24afd8"
   },
   "outputs": [
    {
     "data": {
      "text/html": [
       "<div>\n",
       "<style scoped>\n",
       "    .dataframe tbody tr th:only-of-type {\n",
       "        vertical-align: middle;\n",
       "    }\n",
       "\n",
       "    .dataframe tbody tr th {\n",
       "        vertical-align: top;\n",
       "    }\n",
       "\n",
       "    .dataframe thead th {\n",
       "        text-align: right;\n",
       "    }\n",
       "</style>\n",
       "<table border=\"1\" class=\"dataframe\">\n",
       "  <thead>\n",
       "    <tr style=\"text-align: right;\">\n",
       "      <th></th>\n",
       "      <th>business_code</th>\n",
       "      <th>cust_number</th>\n",
       "      <th>name_customer</th>\n",
       "      <th>clear_date</th>\n",
       "      <th>buisness_year</th>\n",
       "      <th>doc_id</th>\n",
       "      <th>posting_date</th>\n",
       "      <th>document_create_date</th>\n",
       "      <th>document_create_date.1</th>\n",
       "      <th>due_in_date</th>\n",
       "      <th>invoice_currency</th>\n",
       "      <th>document type</th>\n",
       "      <th>posting_id</th>\n",
       "      <th>area_business</th>\n",
       "      <th>total_open_amount</th>\n",
       "      <th>baseline_create_date</th>\n",
       "      <th>cust_payment_terms</th>\n",
       "      <th>invoice_id</th>\n",
       "      <th>isOpen</th>\n",
       "    </tr>\n",
       "  </thead>\n",
       "  <tbody>\n",
       "    <tr>\n",
       "      <th>0</th>\n",
       "      <td>U001</td>\n",
       "      <td>0200780383</td>\n",
       "      <td>MEIJ corporation</td>\n",
       "      <td>2019-09-26 00:00:00</td>\n",
       "      <td>2019.0</td>\n",
       "      <td>1.929861e+09</td>\n",
       "      <td>2019-09-11</td>\n",
       "      <td>20190910</td>\n",
       "      <td>20190911</td>\n",
       "      <td>20190926.0</td>\n",
       "      <td>USD</td>\n",
       "      <td>RV</td>\n",
       "      <td>1.0</td>\n",
       "      <td>NaN</td>\n",
       "      <td>51844.76</td>\n",
       "      <td>20190911.0</td>\n",
       "      <td>NAA8</td>\n",
       "      <td>1.929861e+09</td>\n",
       "      <td>0</td>\n",
       "    </tr>\n",
       "    <tr>\n",
       "      <th>1</th>\n",
       "      <td>U001</td>\n",
       "      <td>0200762301</td>\n",
       "      <td>C&amp;S WH corporation</td>\n",
       "      <td>2019-09-10 00:00:00</td>\n",
       "      <td>2019.0</td>\n",
       "      <td>1.929789e+09</td>\n",
       "      <td>2019-08-25</td>\n",
       "      <td>20190824</td>\n",
       "      <td>20190825</td>\n",
       "      <td>20190909.0</td>\n",
       "      <td>USD</td>\n",
       "      <td>RV</td>\n",
       "      <td>1.0</td>\n",
       "      <td>NaN</td>\n",
       "      <td>62110.39</td>\n",
       "      <td>20190825.0</td>\n",
       "      <td>NAC6</td>\n",
       "      <td>1.929789e+09</td>\n",
       "      <td>0</td>\n",
       "    </tr>\n",
       "    <tr>\n",
       "      <th>2</th>\n",
       "      <td>U001</td>\n",
       "      <td>0200769623</td>\n",
       "      <td>WAL-MAR corporation</td>\n",
       "      <td>2020-02-18 00:00:00</td>\n",
       "      <td>2020.0</td>\n",
       "      <td>1.930488e+09</td>\n",
       "      <td>2020-02-05</td>\n",
       "      <td>20200206</td>\n",
       "      <td>20200205</td>\n",
       "      <td>20200220.0</td>\n",
       "      <td>USD</td>\n",
       "      <td>RV</td>\n",
       "      <td>1.0</td>\n",
       "      <td>NaN</td>\n",
       "      <td>41038.47</td>\n",
       "      <td>20200205.0</td>\n",
       "      <td>NAH4</td>\n",
       "      <td>1.930488e+09</td>\n",
       "      <td>0</td>\n",
       "    </tr>\n",
       "    <tr>\n",
       "      <th>3</th>\n",
       "      <td>U001</td>\n",
       "      <td>100053926</td>\n",
       "      <td>CALD trust</td>\n",
       "      <td>2019-08-21 00:00:00</td>\n",
       "      <td>2019.0</td>\n",
       "      <td>1.929519e+09</td>\n",
       "      <td>2019-06-20</td>\n",
       "      <td>20190620</td>\n",
       "      <td>20190620</td>\n",
       "      <td>20190819.0</td>\n",
       "      <td>USD</td>\n",
       "      <td>RV</td>\n",
       "      <td>1.0</td>\n",
       "      <td>NaN</td>\n",
       "      <td>1382.94</td>\n",
       "      <td>20190620.0</td>\n",
       "      <td>NAVQ</td>\n",
       "      <td>1.929519e+09</td>\n",
       "      <td>0</td>\n",
       "    </tr>\n",
       "    <tr>\n",
       "      <th>4</th>\n",
       "      <td>U001</td>\n",
       "      <td>0200739534</td>\n",
       "      <td>OK llc</td>\n",
       "      <td>2019-06-26 00:00:00</td>\n",
       "      <td>2019.0</td>\n",
       "      <td>1.929456e+09</td>\n",
       "      <td>2019-06-07</td>\n",
       "      <td>20190607</td>\n",
       "      <td>20190607</td>\n",
       "      <td>20190622.0</td>\n",
       "      <td>USD</td>\n",
       "      <td>RV</td>\n",
       "      <td>1.0</td>\n",
       "      <td>NaN</td>\n",
       "      <td>85407.27</td>\n",
       "      <td>20190607.0</td>\n",
       "      <td>NAA8</td>\n",
       "      <td>1.929456e+09</td>\n",
       "      <td>0</td>\n",
       "    </tr>\n",
       "    <tr>\n",
       "      <th>...</th>\n",
       "      <td>...</td>\n",
       "      <td>...</td>\n",
       "      <td>...</td>\n",
       "      <td>...</td>\n",
       "      <td>...</td>\n",
       "      <td>...</td>\n",
       "      <td>...</td>\n",
       "      <td>...</td>\n",
       "      <td>...</td>\n",
       "      <td>...</td>\n",
       "      <td>...</td>\n",
       "      <td>...</td>\n",
       "      <td>...</td>\n",
       "      <td>...</td>\n",
       "      <td>...</td>\n",
       "      <td>...</td>\n",
       "      <td>...</td>\n",
       "      <td>...</td>\n",
       "      <td>...</td>\n",
       "    </tr>\n",
       "    <tr>\n",
       "      <th>49995</th>\n",
       "      <td>U001</td>\n",
       "      <td>0200769623</td>\n",
       "      <td>WAL-MAR corp</td>\n",
       "      <td>NaN</td>\n",
       "      <td>2020.0</td>\n",
       "      <td>1.930833e+09</td>\n",
       "      <td>2020-04-28</td>\n",
       "      <td>20200428</td>\n",
       "      <td>20200428</td>\n",
       "      <td>20200513.0</td>\n",
       "      <td>USD</td>\n",
       "      <td>RV</td>\n",
       "      <td>1.0</td>\n",
       "      <td>NaN</td>\n",
       "      <td>3360.35</td>\n",
       "      <td>20200428.0</td>\n",
       "      <td>NAH4</td>\n",
       "      <td>1.930833e+09</td>\n",
       "      <td>1</td>\n",
       "    </tr>\n",
       "    <tr>\n",
       "      <th>49996</th>\n",
       "      <td>U001</td>\n",
       "      <td>0200353024</td>\n",
       "      <td>DECA corporation</td>\n",
       "      <td>NaN</td>\n",
       "      <td>2020.0</td>\n",
       "      <td>1.930818e+09</td>\n",
       "      <td>2020-04-23</td>\n",
       "      <td>20200423</td>\n",
       "      <td>20200423</td>\n",
       "      <td>20200509.0</td>\n",
       "      <td>USD</td>\n",
       "      <td>RV</td>\n",
       "      <td>1.0</td>\n",
       "      <td>NaN</td>\n",
       "      <td>6598.36</td>\n",
       "      <td>20200416.0</td>\n",
       "      <td>NAM4</td>\n",
       "      <td>1.930818e+09</td>\n",
       "      <td>1</td>\n",
       "    </tr>\n",
       "    <tr>\n",
       "      <th>49997</th>\n",
       "      <td>U001</td>\n",
       "      <td>0200126819</td>\n",
       "      <td>MCLANE in</td>\n",
       "      <td>NaN</td>\n",
       "      <td>2020.0</td>\n",
       "      <td>1.930784e+09</td>\n",
       "      <td>2020-04-21</td>\n",
       "      <td>20200414</td>\n",
       "      <td>20200421</td>\n",
       "      <td>20200506.0</td>\n",
       "      <td>USD</td>\n",
       "      <td>RV</td>\n",
       "      <td>1.0</td>\n",
       "      <td>NaN</td>\n",
       "      <td>11168.64</td>\n",
       "      <td>20200421.0</td>\n",
       "      <td>NAA8</td>\n",
       "      <td>1.930784e+09</td>\n",
       "      <td>1</td>\n",
       "    </tr>\n",
       "    <tr>\n",
       "      <th>49998</th>\n",
       "      <td>U001</td>\n",
       "      <td>0200769623</td>\n",
       "      <td>WAL-MAR associates</td>\n",
       "      <td>NaN</td>\n",
       "      <td>2020.0</td>\n",
       "      <td>1.930716e+09</td>\n",
       "      <td>2020-03-30</td>\n",
       "      <td>20200328</td>\n",
       "      <td>20200330</td>\n",
       "      <td>20200414.0</td>\n",
       "      <td>USD</td>\n",
       "      <td>RV</td>\n",
       "      <td>1.0</td>\n",
       "      <td>NaN</td>\n",
       "      <td>13454.20</td>\n",
       "      <td>20200330.0</td>\n",
       "      <td>NAH4</td>\n",
       "      <td>1.930716e+09</td>\n",
       "      <td>1</td>\n",
       "    </tr>\n",
       "    <tr>\n",
       "      <th>49999</th>\n",
       "      <td>U001</td>\n",
       "      <td>0200769623</td>\n",
       "      <td>WAL-MAR</td>\n",
       "      <td>NaN</td>\n",
       "      <td>2020.0</td>\n",
       "      <td>1.930753e+09</td>\n",
       "      <td>2020-04-07</td>\n",
       "      <td>20200406</td>\n",
       "      <td>20200407</td>\n",
       "      <td>20200422.0</td>\n",
       "      <td>USD</td>\n",
       "      <td>RV</td>\n",
       "      <td>1.0</td>\n",
       "      <td>NaN</td>\n",
       "      <td>5577.80</td>\n",
       "      <td>20200407.0</td>\n",
       "      <td>NAH4</td>\n",
       "      <td>1.930753e+09</td>\n",
       "      <td>1</td>\n",
       "    </tr>\n",
       "  </tbody>\n",
       "</table>\n",
       "<p>50000 rows × 19 columns</p>\n",
       "</div>"
      ],
      "text/plain": [
       "      business_code cust_number  ...    invoice_id isOpen\n",
       "0              U001  0200780383  ...  1.929861e+09      0\n",
       "1              U001  0200762301  ...  1.929789e+09      0\n",
       "2              U001  0200769623  ...  1.930488e+09      0\n",
       "3              U001   100053926  ...  1.929519e+09      0\n",
       "4              U001  0200739534  ...  1.929456e+09      0\n",
       "...             ...         ...  ...           ...    ...\n",
       "49995          U001  0200769623  ...  1.930833e+09      1\n",
       "49996          U001  0200353024  ...  1.930818e+09      1\n",
       "49997          U001  0200126819  ...  1.930784e+09      1\n",
       "49998          U001  0200769623  ...  1.930716e+09      1\n",
       "49999          U001  0200769623  ...  1.930753e+09      1\n",
       "\n",
       "[50000 rows x 19 columns]"
      ]
     },
     "execution_count": 13,
     "metadata": {
      "tags": []
     },
     "output_type": "execute_result"
    }
   ],
   "source": [
    "#reading dataset 1806269\n",
    "import pandas as pd\n",
    "import numpy as np\n",
    "dat=pd.read_csv(\"/content/1806269.csv\")\n",
    "data=pd.DataFrame(dat)\n",
    "data"
   ]
  },
  {
   "cell_type": "code",
   "execution_count": 14,
   "metadata": {
    "colab": {
     "base_uri": "https://localhost:8080/"
    },
    "id": "uTjXyRT84xln",
    "outputId": "e0b8d460-7a11-4fa9-df00-12621cf40567"
   },
   "outputs": [
    {
     "data": {
      "text/plain": [
       "(50000, 19)"
      ]
     },
     "execution_count": 14,
     "metadata": {
      "tags": []
     },
     "output_type": "execute_result"
    }
   ],
   "source": [
    "data.shape"
   ]
  },
  {
   "cell_type": "code",
   "execution_count": 15,
   "metadata": {
    "colab": {
     "base_uri": "https://localhost:8080/"
    },
    "id": "_2aEZreI43Cu",
    "outputId": "e0191507-78c6-4d1a-8654-8f5d8bdac313"
   },
   "outputs": [
    {
     "data": {
      "text/plain": [
       "1"
      ]
     },
     "execution_count": 15,
     "metadata": {
      "tags": []
     },
     "output_type": "execute_result"
    }
   ],
   "source": [
    "len(pd.unique(data['posting_id'])) #constant"
   ]
  },
  {
   "cell_type": "code",
   "execution_count": null,
   "metadata": {
    "id": "BWgI72YR1BMK"
   },
   "outputs": [],
   "source": [
    "data.drop(columns=['posting_id'],inplace=True)#since constant column will not contribute so drop"
   ]
  },
  {
   "cell_type": "code",
   "execution_count": 18,
   "metadata": {
    "colab": {
     "base_uri": "https://localhost:8080/"
    },
    "id": "MMX_kOIr5JeG",
    "outputId": "6877f1ac-fa9b-4a9c-a699-f4966148f2c1"
   },
   "outputs": [
    {
     "name": "stdout",
     "output_type": "stream",
     "text": [
      "business_code   0.0\n",
      "cust_number   0.0\n",
      "name_customer   0.0\n",
      "clear_date   0.09058\n",
      "buisness_year   0.0\n",
      "doc_id   0.0\n",
      "posting_date   0.0\n",
      "document_create_date   0.0\n",
      "document_create_date.1   0.0\n",
      "due_in_date   0.0\n",
      "invoice_currency   0.0\n",
      "document type   0.0\n",
      "area_business   1.0\n",
      "total_open_amount   0.0\n",
      "baseline_create_date   0.0\n",
      "cust_payment_terms   0.0\n",
      "invoice_id   0.00014\n",
      "isOpen   0.0\n"
     ]
    }
   ],
   "source": [
    "#checking how many columns of the dataset have mean of null values to preprocess\n",
    "for i in data.columns:\n",
    "  print(i,\" \",data[i].isnull().mean())"
   ]
  },
  {
   "cell_type": "code",
   "execution_count": 19,
   "metadata": {
    "id": "3bZ5LKpo5VzM"
   },
   "outputs": [],
   "source": [
    "#area_business have all null values so drop\n",
    "data.drop(['area_business'],axis=1,inplace=True)"
   ]
  },
  {
   "cell_type": "code",
   "execution_count": 20,
   "metadata": {
    "colab": {
     "base_uri": "https://localhost:8080/"
    },
    "id": "YMUsVdaF6zja",
    "outputId": "2694355b-637b-462b-da80-69552f9646a2"
   },
   "outputs": [
    {
     "data": {
      "text/plain": [
       "7"
      ]
     },
     "execution_count": 20,
     "metadata": {
      "tags": []
     },
     "output_type": "execute_result"
    }
   ],
   "source": [
    "#invoice have some values null\n",
    "data['invoice_id'].isnull().sum()"
   ]
  },
  {
   "cell_type": "code",
   "execution_count": 21,
   "metadata": {
    "colab": {
     "base_uri": "https://localhost:8080/",
     "height": 422
    },
    "id": "9f89gCJ27q-t",
    "outputId": "13c7dc7e-f3f8-4259-b458-c9ee8e68616f"
   },
   "outputs": [
    {
     "data": {
      "text/html": [
       "<div>\n",
       "<style scoped>\n",
       "    .dataframe tbody tr th:only-of-type {\n",
       "        vertical-align: middle;\n",
       "    }\n",
       "\n",
       "    .dataframe tbody tr th {\n",
       "        vertical-align: top;\n",
       "    }\n",
       "\n",
       "    .dataframe thead th {\n",
       "        text-align: right;\n",
       "    }\n",
       "</style>\n",
       "<table border=\"1\" class=\"dataframe\">\n",
       "  <thead>\n",
       "    <tr style=\"text-align: right;\">\n",
       "      <th></th>\n",
       "      <th>business_code</th>\n",
       "      <th>cust_number</th>\n",
       "      <th>name_customer</th>\n",
       "      <th>clear_date</th>\n",
       "      <th>buisness_year</th>\n",
       "      <th>doc_id</th>\n",
       "      <th>posting_date</th>\n",
       "      <th>document_create_date</th>\n",
       "      <th>document_create_date.1</th>\n",
       "      <th>due_in_date</th>\n",
       "      <th>invoice_currency</th>\n",
       "      <th>document type</th>\n",
       "      <th>total_open_amount</th>\n",
       "      <th>baseline_create_date</th>\n",
       "      <th>cust_payment_terms</th>\n",
       "      <th>invoice_id</th>\n",
       "      <th>isOpen</th>\n",
       "    </tr>\n",
       "  </thead>\n",
       "  <tbody>\n",
       "    <tr>\n",
       "      <th>5394</th>\n",
       "      <td>CA02</td>\n",
       "      <td>0140104409</td>\n",
       "      <td>LOB associates</td>\n",
       "      <td>2019-12-27 00:00:00</td>\n",
       "      <td>2019.0</td>\n",
       "      <td>9.500000e+09</td>\n",
       "      <td>2019-03-29</td>\n",
       "      <td>20190329</td>\n",
       "      <td>20190319</td>\n",
       "      <td>20190329.0</td>\n",
       "      <td>CAD</td>\n",
       "      <td>X2</td>\n",
       "      <td>179.20</td>\n",
       "      <td>20190319.0</td>\n",
       "      <td>CA10</td>\n",
       "      <td>NaN</td>\n",
       "      <td>0</td>\n",
       "    </tr>\n",
       "    <tr>\n",
       "      <th>7414</th>\n",
       "      <td>CA02</td>\n",
       "      <td>0140104409</td>\n",
       "      <td>LOB associates</td>\n",
       "      <td>2019-04-17 00:00:00</td>\n",
       "      <td>2019.0</td>\n",
       "      <td>9.500000e+09</td>\n",
       "      <td>2019-03-29</td>\n",
       "      <td>20190329</td>\n",
       "      <td>20190314</td>\n",
       "      <td>20190324.0</td>\n",
       "      <td>CAD</td>\n",
       "      <td>X2</td>\n",
       "      <td>698.60</td>\n",
       "      <td>20190314.0</td>\n",
       "      <td>CA10</td>\n",
       "      <td>NaN</td>\n",
       "      <td>0</td>\n",
       "    </tr>\n",
       "    <tr>\n",
       "      <th>18815</th>\n",
       "      <td>CA02</td>\n",
       "      <td>0140106054</td>\n",
       "      <td>TREE  trust</td>\n",
       "      <td>2019-05-31 00:00:00</td>\n",
       "      <td>2019.0</td>\n",
       "      <td>9.500000e+09</td>\n",
       "      <td>2019-03-29</td>\n",
       "      <td>20190329</td>\n",
       "      <td>20190228</td>\n",
       "      <td>20190310.0</td>\n",
       "      <td>CAD</td>\n",
       "      <td>X2</td>\n",
       "      <td>216.80</td>\n",
       "      <td>20190228.0</td>\n",
       "      <td>CA10</td>\n",
       "      <td>NaN</td>\n",
       "      <td>0</td>\n",
       "    </tr>\n",
       "    <tr>\n",
       "      <th>21149</th>\n",
       "      <td>CA02</td>\n",
       "      <td>0140104409</td>\n",
       "      <td>LOB trust</td>\n",
       "      <td>2019-12-27 00:00:00</td>\n",
       "      <td>2019.0</td>\n",
       "      <td>9.500000e+09</td>\n",
       "      <td>2019-03-29</td>\n",
       "      <td>20190329</td>\n",
       "      <td>20181120</td>\n",
       "      <td>20181130.0</td>\n",
       "      <td>CAD</td>\n",
       "      <td>X2</td>\n",
       "      <td>364.20</td>\n",
       "      <td>20181120.0</td>\n",
       "      <td>CA10</td>\n",
       "      <td>NaN</td>\n",
       "      <td>0</td>\n",
       "    </tr>\n",
       "    <tr>\n",
       "      <th>23617</th>\n",
       "      <td>CA02</td>\n",
       "      <td>0140106379</td>\n",
       "      <td>QUAL llc</td>\n",
       "      <td>2019-05-14 00:00:00</td>\n",
       "      <td>2019.0</td>\n",
       "      <td>9.500000e+09</td>\n",
       "      <td>2019-04-30</td>\n",
       "      <td>20190430</td>\n",
       "      <td>20190312</td>\n",
       "      <td>20190322.0</td>\n",
       "      <td>CAD</td>\n",
       "      <td>X2</td>\n",
       "      <td>6732.00</td>\n",
       "      <td>20190312.0</td>\n",
       "      <td>CA10</td>\n",
       "      <td>NaN</td>\n",
       "      <td>0</td>\n",
       "    </tr>\n",
       "    <tr>\n",
       "      <th>26468</th>\n",
       "      <td>CA02</td>\n",
       "      <td>0100030194</td>\n",
       "      <td>AMAZO us</td>\n",
       "      <td>2019-05-23 00:00:00</td>\n",
       "      <td>2019.0</td>\n",
       "      <td>9.500000e+09</td>\n",
       "      <td>2019-03-29</td>\n",
       "      <td>20190329</td>\n",
       "      <td>20190311</td>\n",
       "      <td>20190321.0</td>\n",
       "      <td>CAD</td>\n",
       "      <td>X2</td>\n",
       "      <td>846.70</td>\n",
       "      <td>20190311.0</td>\n",
       "      <td>CA10</td>\n",
       "      <td>NaN</td>\n",
       "      <td>0</td>\n",
       "    </tr>\n",
       "    <tr>\n",
       "      <th>36789</th>\n",
       "      <td>CA02</td>\n",
       "      <td>0100030194</td>\n",
       "      <td>AMAZO trust</td>\n",
       "      <td>2019-05-23 00:00:00</td>\n",
       "      <td>2019.0</td>\n",
       "      <td>9.500000e+09</td>\n",
       "      <td>2019-03-29</td>\n",
       "      <td>20190329</td>\n",
       "      <td>20190311</td>\n",
       "      <td>20190321.0</td>\n",
       "      <td>CAD</td>\n",
       "      <td>X2</td>\n",
       "      <td>649.35</td>\n",
       "      <td>20190311.0</td>\n",
       "      <td>CA10</td>\n",
       "      <td>NaN</td>\n",
       "      <td>0</td>\n",
       "    </tr>\n",
       "  </tbody>\n",
       "</table>\n",
       "</div>"
      ],
      "text/plain": [
       "      business_code cust_number  ... invoice_id isOpen\n",
       "5394           CA02  0140104409  ...        NaN      0\n",
       "7414           CA02  0140104409  ...        NaN      0\n",
       "18815          CA02  0140106054  ...        NaN      0\n",
       "21149          CA02  0140104409  ...        NaN      0\n",
       "23617          CA02  0140106379  ...        NaN      0\n",
       "26468          CA02  0100030194  ...        NaN      0\n",
       "36789          CA02  0100030194  ...        NaN      0\n",
       "\n",
       "[7 rows x 17 columns]"
      ]
     },
     "execution_count": 21,
     "metadata": {
      "tags": []
     },
     "output_type": "execute_result"
    }
   ],
   "source": [
    "data.loc[data['invoice_id'].isnull()]#null values are not useful so drop"
   ]
  },
  {
   "cell_type": "code",
   "execution_count": 22,
   "metadata": {
    "id": "fCngzy107xQ8"
   },
   "outputs": [],
   "source": [
    "#drop 5 invoice having null values\n",
    "data = data.dropna(axis=0, subset=['invoice_id'])"
   ]
  },
  {
   "cell_type": "code",
   "execution_count": 23,
   "metadata": {
    "colab": {
     "base_uri": "https://localhost:8080/"
    },
    "id": "610bgm9K-7Pn",
    "outputId": "d87384eb-0efa-4aab-b171-39cf059680c9"
   },
   "outputs": [
    {
     "data": {
      "text/plain": [
       "0"
      ]
     },
     "execution_count": 23,
     "metadata": {
      "tags": []
     },
     "output_type": "execute_result"
    }
   ],
   "source": [
    "data['invoice_id'].isnull().sum()\n",
    "#once again checking no of null values in invoice id"
   ]
  },
  {
   "cell_type": "code",
   "execution_count": 24,
   "metadata": {
    "colab": {
     "base_uri": "https://localhost:8080/"
    },
    "id": "LXxj6Qt3_CMH",
    "outputId": "ca1f82dd-38a9-460f-d96c-e98de3233c29"
   },
   "outputs": [
    {
     "name": "stdout",
     "output_type": "stream",
     "text": [
      "business_code\n",
      "cust_number\n",
      "name_customer\n",
      "clear_date\n",
      "buisness_year\n",
      "doc_id\n",
      "posting_date\n",
      "document_create_date\n",
      "document_create_date.1\n",
      "due_in_date\n",
      "invoice_currency\n",
      "document type\n",
      "total_open_amount\n",
      "baseline_create_date\n",
      "cust_payment_terms\n",
      "invoice_id\n",
      "isOpen\n"
     ]
    }
   ],
   "source": [
    "for i in data.columns:\n",
    "  print(i)"
   ]
  },
  {
   "cell_type": "code",
   "execution_count": 25,
   "metadata": {
    "colab": {
     "base_uri": "https://localhost:8080/"
    },
    "id": "xfIZuljq_HcZ",
    "outputId": "179267c6-b2da-4f3f-9e1c-cb90af8d4079"
   },
   "outputs": [
    {
     "data": {
      "text/plain": [
       "0"
      ]
     },
     "execution_count": 25,
     "metadata": {
      "tags": []
     },
     "output_type": "execute_result"
    }
   ],
   "source": [
    "#no duplicate rows\n",
    "data.duplicated().sum()"
   ]
  },
  {
   "cell_type": "code",
   "execution_count": 26,
   "metadata": {
    "colab": {
     "base_uri": "https://localhost:8080/"
    },
    "id": "mifLD8zp_Okt",
    "outputId": "4183a900-73c3-4811-c86f-1d9ebe95d5e5"
   },
   "outputs": [
    {
     "data": {
      "text/plain": [
       "1"
      ]
     },
     "execution_count": 26,
     "metadata": {
      "tags": []
     },
     "output_type": "execute_result"
    }
   ],
   "source": [
    "#checking duplicate columns:\n",
    "data_t = data.T\n",
    "data_t.duplicated().sum()\n"
   ]
  },
  {
   "cell_type": "code",
   "execution_count": 27,
   "metadata": {
    "colab": {
     "base_uri": "https://localhost:8080/",
     "height": 129
    },
    "id": "HfrMULoB_XXZ",
    "outputId": "0b88388d-4c95-470a-f67d-f07cfd52a2da"
   },
   "outputs": [
    {
     "data": {
      "text/html": [
       "<div>\n",
       "<style scoped>\n",
       "    .dataframe tbody tr th:only-of-type {\n",
       "        vertical-align: middle;\n",
       "    }\n",
       "\n",
       "    .dataframe tbody tr th {\n",
       "        vertical-align: top;\n",
       "    }\n",
       "\n",
       "    .dataframe thead th {\n",
       "        text-align: right;\n",
       "    }\n",
       "</style>\n",
       "<table border=\"1\" class=\"dataframe\">\n",
       "  <thead>\n",
       "    <tr style=\"text-align: right;\">\n",
       "      <th></th>\n",
       "      <th>0</th>\n",
       "      <th>1</th>\n",
       "      <th>2</th>\n",
       "      <th>3</th>\n",
       "      <th>4</th>\n",
       "      <th>5</th>\n",
       "      <th>6</th>\n",
       "      <th>7</th>\n",
       "      <th>8</th>\n",
       "      <th>9</th>\n",
       "      <th>10</th>\n",
       "      <th>11</th>\n",
       "      <th>12</th>\n",
       "      <th>13</th>\n",
       "      <th>14</th>\n",
       "      <th>15</th>\n",
       "      <th>16</th>\n",
       "      <th>17</th>\n",
       "      <th>18</th>\n",
       "      <th>19</th>\n",
       "      <th>20</th>\n",
       "      <th>21</th>\n",
       "      <th>22</th>\n",
       "      <th>23</th>\n",
       "      <th>24</th>\n",
       "      <th>25</th>\n",
       "      <th>26</th>\n",
       "      <th>27</th>\n",
       "      <th>28</th>\n",
       "      <th>29</th>\n",
       "      <th>30</th>\n",
       "      <th>31</th>\n",
       "      <th>32</th>\n",
       "      <th>33</th>\n",
       "      <th>34</th>\n",
       "      <th>35</th>\n",
       "      <th>36</th>\n",
       "      <th>37</th>\n",
       "      <th>38</th>\n",
       "      <th>39</th>\n",
       "      <th>...</th>\n",
       "      <th>49960</th>\n",
       "      <th>49961</th>\n",
       "      <th>49962</th>\n",
       "      <th>49963</th>\n",
       "      <th>49964</th>\n",
       "      <th>49965</th>\n",
       "      <th>49966</th>\n",
       "      <th>49967</th>\n",
       "      <th>49968</th>\n",
       "      <th>49969</th>\n",
       "      <th>49970</th>\n",
       "      <th>49971</th>\n",
       "      <th>49972</th>\n",
       "      <th>49973</th>\n",
       "      <th>49974</th>\n",
       "      <th>49975</th>\n",
       "      <th>49976</th>\n",
       "      <th>49977</th>\n",
       "      <th>49978</th>\n",
       "      <th>49979</th>\n",
       "      <th>49980</th>\n",
       "      <th>49981</th>\n",
       "      <th>49982</th>\n",
       "      <th>49983</th>\n",
       "      <th>49984</th>\n",
       "      <th>49985</th>\n",
       "      <th>49986</th>\n",
       "      <th>49987</th>\n",
       "      <th>49988</th>\n",
       "      <th>49989</th>\n",
       "      <th>49990</th>\n",
       "      <th>49991</th>\n",
       "      <th>49992</th>\n",
       "      <th>49993</th>\n",
       "      <th>49994</th>\n",
       "      <th>49995</th>\n",
       "      <th>49996</th>\n",
       "      <th>49997</th>\n",
       "      <th>49998</th>\n",
       "      <th>49999</th>\n",
       "    </tr>\n",
       "  </thead>\n",
       "  <tbody>\n",
       "    <tr>\n",
       "      <th>invoice_id</th>\n",
       "      <td>1.92986e+09</td>\n",
       "      <td>1.92979e+09</td>\n",
       "      <td>1.93049e+09</td>\n",
       "      <td>1.92952e+09</td>\n",
       "      <td>1.92946e+09</td>\n",
       "      <td>1.92948e+09</td>\n",
       "      <td>1.93043e+09</td>\n",
       "      <td>1.92903e+09</td>\n",
       "      <td>2.96059e+09</td>\n",
       "      <td>1.92917e+09</td>\n",
       "      <td>2.96057e+09</td>\n",
       "      <td>1.92936e+09</td>\n",
       "      <td>1.9304e+09</td>\n",
       "      <td>1.93021e+09</td>\n",
       "      <td>1.92867e+09</td>\n",
       "      <td>2.96059e+09</td>\n",
       "      <td>1.92971e+09</td>\n",
       "      <td>1.92866e+09</td>\n",
       "      <td>1.92982e+09</td>\n",
       "      <td>1.92941e+09</td>\n",
       "      <td>1.92935e+09</td>\n",
       "      <td>1.92972e+09</td>\n",
       "      <td>1.99183e+09</td>\n",
       "      <td>1.99057e+09</td>\n",
       "      <td>1.92868e+09</td>\n",
       "      <td>1.9299e+09</td>\n",
       "      <td>1.92859e+09</td>\n",
       "      <td>1.92974e+09</td>\n",
       "      <td>1.92862e+09</td>\n",
       "      <td>1.92883e+09</td>\n",
       "      <td>2.96058e+09</td>\n",
       "      <td>1.9302e+09</td>\n",
       "      <td>1.92952e+09</td>\n",
       "      <td>1.92934e+09</td>\n",
       "      <td>1.92938e+09</td>\n",
       "      <td>1.92937e+09</td>\n",
       "      <td>1.93009e+09</td>\n",
       "      <td>1.92882e+09</td>\n",
       "      <td>1.92929e+09</td>\n",
       "      <td>1.92948e+09</td>\n",
       "      <td>...</td>\n",
       "      <td>1.93064e+09</td>\n",
       "      <td>1.93075e+09</td>\n",
       "      <td>1.93072e+09</td>\n",
       "      <td>2.96062e+09</td>\n",
       "      <td>1.93064e+09</td>\n",
       "      <td>1.93067e+09</td>\n",
       "      <td>1.93067e+09</td>\n",
       "      <td>1.93085e+09</td>\n",
       "      <td>1.93062e+09</td>\n",
       "      <td>1.93083e+09</td>\n",
       "      <td>1.93079e+09</td>\n",
       "      <td>1.93068e+09</td>\n",
       "      <td>1.93057e+09</td>\n",
       "      <td>1.93085e+09</td>\n",
       "      <td>1.93071e+09</td>\n",
       "      <td>1.93083e+09</td>\n",
       "      <td>2.96063e+09</td>\n",
       "      <td>1.93064e+09</td>\n",
       "      <td>2.96063e+09</td>\n",
       "      <td>1.93058e+09</td>\n",
       "      <td>1.93072e+09</td>\n",
       "      <td>1.93059e+09</td>\n",
       "      <td>1.93061e+09</td>\n",
       "      <td>1.93081e+09</td>\n",
       "      <td>1.93071e+09</td>\n",
       "      <td>1.93081e+09</td>\n",
       "      <td>1.93071e+09</td>\n",
       "      <td>1.93069e+09</td>\n",
       "      <td>1.93082e+09</td>\n",
       "      <td>1.93072e+09</td>\n",
       "      <td>1.93065e+09</td>\n",
       "      <td>1.93078e+09</td>\n",
       "      <td>1.93073e+09</td>\n",
       "      <td>1.93072e+09</td>\n",
       "      <td>1.93071e+09</td>\n",
       "      <td>1.93083e+09</td>\n",
       "      <td>1.93082e+09</td>\n",
       "      <td>1.93078e+09</td>\n",
       "      <td>1.93072e+09</td>\n",
       "      <td>1.93075e+09</td>\n",
       "    </tr>\n",
       "  </tbody>\n",
       "</table>\n",
       "<p>1 rows × 49993 columns</p>\n",
       "</div>"
      ],
      "text/plain": [
       "                  0            1      ...        49998        49999\n",
       "invoice_id  1.92986e+09  1.92979e+09  ...  1.93072e+09  1.93075e+09\n",
       "\n",
       "[1 rows x 49993 columns]"
      ]
     },
     "execution_count": 27,
     "metadata": {
      "tags": []
     },
     "output_type": "execute_result"
    }
   ],
   "source": [
    "#displaying duplicated column\n",
    "data_t[data_t.duplicated()]"
   ]
  },
  {
   "cell_type": "code",
   "execution_count": 28,
   "metadata": {
    "colab": {
     "base_uri": "https://localhost:8080/"
    },
    "id": "6bpyDA5J_deg",
    "outputId": "907e739c-76b4-4c5f-80d2-e132677e6a6b"
   },
   "outputs": [
    {
     "data": {
      "text/plain": [
       "(49993, 17)"
      ]
     },
     "execution_count": 28,
     "metadata": {
      "tags": []
     },
     "output_type": "execute_result"
    }
   ],
   "source": [
    "#no of rows before removing duplicated columns is 17\n",
    "dt=data_t.T\n",
    "dt.shape"
   ]
  },
  {
   "cell_type": "code",
   "execution_count": 29,
   "metadata": {
    "colab": {
     "base_uri": "https://localhost:8080/"
    },
    "id": "3OOATzKlBTxP",
    "outputId": "f57b4c3f-09d2-4491-fabb-1cd675f87b57"
   },
   "outputs": [
    {
     "data": {
      "text/plain": [
       "(49993, 16)"
      ]
     },
     "execution_count": 29,
     "metadata": {
      "tags": []
     },
     "output_type": "execute_result"
    }
   ],
   "source": [
    "\n",
    "#after removing duplicate column, 16 columns\n",
    "data_unique = data_t.drop_duplicates(keep='first').T\n",
    "data_unique.shape"
   ]
  },
  {
   "cell_type": "code",
   "execution_count": 30,
   "metadata": {
    "colab": {
     "base_uri": "https://localhost:8080/"
    },
    "id": "uP2C1v2rBYaP",
    "outputId": "e494bc42-a2d5-4865-d4e5-43df5e175f6c"
   },
   "outputs": [
    {
     "data": {
      "text/plain": [
       "0"
      ]
     },
     "execution_count": 30,
     "metadata": {
      "tags": []
     },
     "output_type": "execute_result"
    }
   ],
   "source": [
    "#once again checking duplicated rows(of the transpose)\n",
    "data_uni=data_unique.T\n",
    "data_uni.duplicated().sum()"
   ]
  },
  {
   "cell_type": "code",
   "execution_count": 31,
   "metadata": {
    "colab": {
     "base_uri": "https://localhost:8080/",
     "height": 574
    },
    "id": "dDvNH-ngBdip",
    "outputId": "328f5a35-a74b-4d1c-b1b2-dbb86d218808"
   },
   "outputs": [
    {
     "data": {
      "text/html": [
       "<div>\n",
       "<style scoped>\n",
       "    .dataframe tbody tr th:only-of-type {\n",
       "        vertical-align: middle;\n",
       "    }\n",
       "\n",
       "    .dataframe tbody tr th {\n",
       "        vertical-align: top;\n",
       "    }\n",
       "\n",
       "    .dataframe thead th {\n",
       "        text-align: right;\n",
       "    }\n",
       "</style>\n",
       "<table border=\"1\" class=\"dataframe\">\n",
       "  <thead>\n",
       "    <tr style=\"text-align: right;\">\n",
       "      <th></th>\n",
       "      <th>business_code</th>\n",
       "      <th>cust_number</th>\n",
       "      <th>name_customer</th>\n",
       "      <th>clear_date</th>\n",
       "      <th>buisness_year</th>\n",
       "      <th>doc_id</th>\n",
       "      <th>posting_date</th>\n",
       "      <th>document_create_date</th>\n",
       "      <th>document_create_date.1</th>\n",
       "      <th>due_in_date</th>\n",
       "      <th>invoice_currency</th>\n",
       "      <th>document type</th>\n",
       "      <th>total_open_amount</th>\n",
       "      <th>baseline_create_date</th>\n",
       "      <th>cust_payment_terms</th>\n",
       "      <th>isOpen</th>\n",
       "    </tr>\n",
       "  </thead>\n",
       "  <tbody>\n",
       "    <tr>\n",
       "      <th>0</th>\n",
       "      <td>U001</td>\n",
       "      <td>0200780383</td>\n",
       "      <td>MEIJ corporation</td>\n",
       "      <td>2019-09-26 00:00:00</td>\n",
       "      <td>2019</td>\n",
       "      <td>1.92986e+09</td>\n",
       "      <td>2019-09-11</td>\n",
       "      <td>20190910</td>\n",
       "      <td>20190911</td>\n",
       "      <td>2.01909e+07</td>\n",
       "      <td>USD</td>\n",
       "      <td>RV</td>\n",
       "      <td>51844.8</td>\n",
       "      <td>2.01909e+07</td>\n",
       "      <td>NAA8</td>\n",
       "      <td>0</td>\n",
       "    </tr>\n",
       "    <tr>\n",
       "      <th>1</th>\n",
       "      <td>U001</td>\n",
       "      <td>0200762301</td>\n",
       "      <td>C&amp;S WH corporation</td>\n",
       "      <td>2019-09-10 00:00:00</td>\n",
       "      <td>2019</td>\n",
       "      <td>1.92979e+09</td>\n",
       "      <td>2019-08-25</td>\n",
       "      <td>20190824</td>\n",
       "      <td>20190825</td>\n",
       "      <td>2.01909e+07</td>\n",
       "      <td>USD</td>\n",
       "      <td>RV</td>\n",
       "      <td>62110.4</td>\n",
       "      <td>2.01908e+07</td>\n",
       "      <td>NAC6</td>\n",
       "      <td>0</td>\n",
       "    </tr>\n",
       "    <tr>\n",
       "      <th>2</th>\n",
       "      <td>U001</td>\n",
       "      <td>0200769623</td>\n",
       "      <td>WAL-MAR corporation</td>\n",
       "      <td>2020-02-18 00:00:00</td>\n",
       "      <td>2020</td>\n",
       "      <td>1.93049e+09</td>\n",
       "      <td>2020-02-05</td>\n",
       "      <td>20200206</td>\n",
       "      <td>20200205</td>\n",
       "      <td>2.02002e+07</td>\n",
       "      <td>USD</td>\n",
       "      <td>RV</td>\n",
       "      <td>41038.5</td>\n",
       "      <td>2.02002e+07</td>\n",
       "      <td>NAH4</td>\n",
       "      <td>0</td>\n",
       "    </tr>\n",
       "    <tr>\n",
       "      <th>3</th>\n",
       "      <td>U001</td>\n",
       "      <td>100053926</td>\n",
       "      <td>CALD trust</td>\n",
       "      <td>2019-08-21 00:00:00</td>\n",
       "      <td>2019</td>\n",
       "      <td>1.92952e+09</td>\n",
       "      <td>2019-06-20</td>\n",
       "      <td>20190620</td>\n",
       "      <td>20190620</td>\n",
       "      <td>2.01908e+07</td>\n",
       "      <td>USD</td>\n",
       "      <td>RV</td>\n",
       "      <td>1382.94</td>\n",
       "      <td>2.01906e+07</td>\n",
       "      <td>NAVQ</td>\n",
       "      <td>0</td>\n",
       "    </tr>\n",
       "    <tr>\n",
       "      <th>4</th>\n",
       "      <td>U001</td>\n",
       "      <td>0200739534</td>\n",
       "      <td>OK llc</td>\n",
       "      <td>2019-06-26 00:00:00</td>\n",
       "      <td>2019</td>\n",
       "      <td>1.92946e+09</td>\n",
       "      <td>2019-06-07</td>\n",
       "      <td>20190607</td>\n",
       "      <td>20190607</td>\n",
       "      <td>2.01906e+07</td>\n",
       "      <td>USD</td>\n",
       "      <td>RV</td>\n",
       "      <td>85407.3</td>\n",
       "      <td>2.01906e+07</td>\n",
       "      <td>NAA8</td>\n",
       "      <td>0</td>\n",
       "    </tr>\n",
       "    <tr>\n",
       "      <th>...</th>\n",
       "      <td>...</td>\n",
       "      <td>...</td>\n",
       "      <td>...</td>\n",
       "      <td>...</td>\n",
       "      <td>...</td>\n",
       "      <td>...</td>\n",
       "      <td>...</td>\n",
       "      <td>...</td>\n",
       "      <td>...</td>\n",
       "      <td>...</td>\n",
       "      <td>...</td>\n",
       "      <td>...</td>\n",
       "      <td>...</td>\n",
       "      <td>...</td>\n",
       "      <td>...</td>\n",
       "      <td>...</td>\n",
       "    </tr>\n",
       "    <tr>\n",
       "      <th>49995</th>\n",
       "      <td>U001</td>\n",
       "      <td>0200769623</td>\n",
       "      <td>WAL-MAR corp</td>\n",
       "      <td>NaN</td>\n",
       "      <td>2020</td>\n",
       "      <td>1.93083e+09</td>\n",
       "      <td>2020-04-28</td>\n",
       "      <td>20200428</td>\n",
       "      <td>20200428</td>\n",
       "      <td>2.02005e+07</td>\n",
       "      <td>USD</td>\n",
       "      <td>RV</td>\n",
       "      <td>3360.35</td>\n",
       "      <td>2.02004e+07</td>\n",
       "      <td>NAH4</td>\n",
       "      <td>1</td>\n",
       "    </tr>\n",
       "    <tr>\n",
       "      <th>49996</th>\n",
       "      <td>U001</td>\n",
       "      <td>0200353024</td>\n",
       "      <td>DECA corporation</td>\n",
       "      <td>NaN</td>\n",
       "      <td>2020</td>\n",
       "      <td>1.93082e+09</td>\n",
       "      <td>2020-04-23</td>\n",
       "      <td>20200423</td>\n",
       "      <td>20200423</td>\n",
       "      <td>2.02005e+07</td>\n",
       "      <td>USD</td>\n",
       "      <td>RV</td>\n",
       "      <td>6598.36</td>\n",
       "      <td>2.02004e+07</td>\n",
       "      <td>NAM4</td>\n",
       "      <td>1</td>\n",
       "    </tr>\n",
       "    <tr>\n",
       "      <th>49997</th>\n",
       "      <td>U001</td>\n",
       "      <td>0200126819</td>\n",
       "      <td>MCLANE in</td>\n",
       "      <td>NaN</td>\n",
       "      <td>2020</td>\n",
       "      <td>1.93078e+09</td>\n",
       "      <td>2020-04-21</td>\n",
       "      <td>20200414</td>\n",
       "      <td>20200421</td>\n",
       "      <td>2.02005e+07</td>\n",
       "      <td>USD</td>\n",
       "      <td>RV</td>\n",
       "      <td>11168.6</td>\n",
       "      <td>2.02004e+07</td>\n",
       "      <td>NAA8</td>\n",
       "      <td>1</td>\n",
       "    </tr>\n",
       "    <tr>\n",
       "      <th>49998</th>\n",
       "      <td>U001</td>\n",
       "      <td>0200769623</td>\n",
       "      <td>WAL-MAR associates</td>\n",
       "      <td>NaN</td>\n",
       "      <td>2020</td>\n",
       "      <td>1.93072e+09</td>\n",
       "      <td>2020-03-30</td>\n",
       "      <td>20200328</td>\n",
       "      <td>20200330</td>\n",
       "      <td>2.02004e+07</td>\n",
       "      <td>USD</td>\n",
       "      <td>RV</td>\n",
       "      <td>13454.2</td>\n",
       "      <td>2.02003e+07</td>\n",
       "      <td>NAH4</td>\n",
       "      <td>1</td>\n",
       "    </tr>\n",
       "    <tr>\n",
       "      <th>49999</th>\n",
       "      <td>U001</td>\n",
       "      <td>0200769623</td>\n",
       "      <td>WAL-MAR</td>\n",
       "      <td>NaN</td>\n",
       "      <td>2020</td>\n",
       "      <td>1.93075e+09</td>\n",
       "      <td>2020-04-07</td>\n",
       "      <td>20200406</td>\n",
       "      <td>20200407</td>\n",
       "      <td>2.02004e+07</td>\n",
       "      <td>USD</td>\n",
       "      <td>RV</td>\n",
       "      <td>5577.8</td>\n",
       "      <td>2.02004e+07</td>\n",
       "      <td>NAH4</td>\n",
       "      <td>1</td>\n",
       "    </tr>\n",
       "  </tbody>\n",
       "</table>\n",
       "<p>49993 rows × 16 columns</p>\n",
       "</div>"
      ],
      "text/plain": [
       "      business_code cust_number  ... cust_payment_terms isOpen\n",
       "0              U001  0200780383  ...               NAA8      0\n",
       "1              U001  0200762301  ...               NAC6      0\n",
       "2              U001  0200769623  ...               NAH4      0\n",
       "3              U001   100053926  ...               NAVQ      0\n",
       "4              U001  0200739534  ...               NAA8      0\n",
       "...             ...         ...  ...                ...    ...\n",
       "49995          U001  0200769623  ...               NAH4      1\n",
       "49996          U001  0200353024  ...               NAM4      1\n",
       "49997          U001  0200126819  ...               NAA8      1\n",
       "49998          U001  0200769623  ...               NAH4      1\n",
       "49999          U001  0200769623  ...               NAH4      1\n",
       "\n",
       "[49993 rows x 16 columns]"
      ]
     },
     "execution_count": 31,
     "metadata": {
      "tags": []
     },
     "output_type": "execute_result"
    }
   ],
   "source": [
    "data_unique"
   ]
  },
  {
   "cell_type": "code",
   "execution_count": 32,
   "metadata": {
    "colab": {
     "base_uri": "https://localhost:8080/"
    },
    "id": "yE90ISbrBphQ",
    "outputId": "63e92c70-52a1-405a-ab65-49f5c7e1f569"
   },
   "outputs": [
    {
     "data": {
      "text/plain": [
       "1"
      ]
     },
     "execution_count": 32,
     "metadata": {
      "tags": []
     },
     "output_type": "execute_result"
    }
   ],
   "source": [
    "#document type is constant\n",
    "len(pd.unique(data_unique['document type']))"
   ]
  },
  {
   "cell_type": "code",
   "execution_count": 33,
   "metadata": {
    "id": "cJMO73BQBs2Y"
   },
   "outputs": [],
   "source": [
    "#drop cons column\n",
    "data_unique.drop(columns=['document type'],inplace=True)"
   ]
  },
  {
   "cell_type": "code",
   "execution_count": 34,
   "metadata": {
    "colab": {
     "base_uri": "https://localhost:8080/",
     "height": 141
    },
    "id": "tjirE8lWB8Ac",
    "outputId": "374ac4e7-e129-4b3c-f7bc-fd43964bbcca"
   },
   "outputs": [
    {
     "data": {
      "text/html": [
       "<div>\n",
       "<style scoped>\n",
       "    .dataframe tbody tr th:only-of-type {\n",
       "        vertical-align: middle;\n",
       "    }\n",
       "\n",
       "    .dataframe tbody tr th {\n",
       "        vertical-align: top;\n",
       "    }\n",
       "\n",
       "    .dataframe thead th {\n",
       "        text-align: right;\n",
       "    }\n",
       "</style>\n",
       "<table border=\"1\" class=\"dataframe\">\n",
       "  <thead>\n",
       "    <tr style=\"text-align: right;\">\n",
       "      <th></th>\n",
       "      <th>count</th>\n",
       "    </tr>\n",
       "    <tr>\n",
       "      <th>buisness_year</th>\n",
       "      <th></th>\n",
       "    </tr>\n",
       "  </thead>\n",
       "  <tbody>\n",
       "    <tr>\n",
       "      <th>2019.0</th>\n",
       "      <td>39470</td>\n",
       "    </tr>\n",
       "    <tr>\n",
       "      <th>2020.0</th>\n",
       "      <td>10523</td>\n",
       "    </tr>\n",
       "  </tbody>\n",
       "</table>\n",
       "</div>"
      ],
      "text/plain": [
       "               count\n",
       "buisness_year       \n",
       "2019.0         39470\n",
       "2020.0         10523"
      ]
     },
     "execution_count": 34,
     "metadata": {
      "tags": []
     },
     "output_type": "execute_result"
    }
   ],
   "source": [
    "data_unique.groupby(['buisness_year'])['buisness_year'].agg({'count'})"
   ]
  },
  {
   "cell_type": "code",
   "execution_count": 35,
   "metadata": {
    "colab": {
     "base_uri": "https://localhost:8080/"
    },
    "id": "rRqk6nDqB-o9",
    "outputId": "efe45930-dd5f-4095-f894-82dc9a7b344a"
   },
   "outputs": [
    {
     "data": {
      "text/plain": [
       "(49993, 15)"
      ]
     },
     "execution_count": 35,
     "metadata": {
      "tags": []
     },
     "output_type": "execute_result"
    }
   ],
   "source": [
    "data_unique.shape"
   ]
  },
  {
   "cell_type": "code",
   "execution_count": 36,
   "metadata": {
    "id": "8cKL15QNCG-g"
   },
   "outputs": [],
   "source": [
    "#converting to datetime format\n",
    "data_unique['document_create_date']=pd.to_datetime(data_unique['document_create_date'].astype(int).astype(str))\n",
    "data_unique['clear_date']= pd.to_datetime(data_unique['clear_date'])\n",
    "data_unique['due_in_date']= pd.to_datetime(data_unique['due_in_date'].astype(int).astype(str))\n",
    "data_unique['document_create_date.1']= pd.to_datetime(data_unique['document_create_date.1'].astype(int).astype(str))\n",
    "data_unique['posting_date']= pd.to_datetime(data_unique['posting_date'])\n",
    "data_unique['baseline_create_date']= pd.to_datetime(data_unique['baseline_create_date'].astype(int).astype(str))\n"
   ]
  },
  {
   "cell_type": "code",
   "execution_count": 37,
   "metadata": {
    "id": "efnlXWxVCNXy"
   },
   "outputs": [],
   "source": [
    "############splitting into test set and big dataset based on clear date##########3"
   ]
  },
  {
   "cell_type": "code",
   "execution_count": 38,
   "metadata": {
    "colab": {
     "base_uri": "https://localhost:8080/",
     "height": 470
    },
    "id": "tut2-lzQCQBW",
    "outputId": "5bf30cdd-f8f8-4640-8d0b-e0b9e18009e9"
   },
   "outputs": [
    {
     "data": {
      "text/html": [
       "<div>\n",
       "<style scoped>\n",
       "    .dataframe tbody tr th:only-of-type {\n",
       "        vertical-align: middle;\n",
       "    }\n",
       "\n",
       "    .dataframe tbody tr th {\n",
       "        vertical-align: top;\n",
       "    }\n",
       "\n",
       "    .dataframe thead th {\n",
       "        text-align: right;\n",
       "    }\n",
       "</style>\n",
       "<table border=\"1\" class=\"dataframe\">\n",
       "  <thead>\n",
       "    <tr style=\"text-align: right;\">\n",
       "      <th></th>\n",
       "      <th>business_code</th>\n",
       "      <th>cust_number</th>\n",
       "      <th>name_customer</th>\n",
       "      <th>clear_date</th>\n",
       "      <th>buisness_year</th>\n",
       "      <th>doc_id</th>\n",
       "      <th>posting_date</th>\n",
       "      <th>document_create_date</th>\n",
       "      <th>document_create_date.1</th>\n",
       "      <th>due_in_date</th>\n",
       "      <th>invoice_currency</th>\n",
       "      <th>total_open_amount</th>\n",
       "      <th>baseline_create_date</th>\n",
       "      <th>cust_payment_terms</th>\n",
       "      <th>isOpen</th>\n",
       "    </tr>\n",
       "  </thead>\n",
       "  <tbody>\n",
       "    <tr>\n",
       "      <th>0</th>\n",
       "      <td>U001</td>\n",
       "      <td>0200772670</td>\n",
       "      <td>ASSOCIAT corp</td>\n",
       "      <td>NaT</td>\n",
       "      <td>2020</td>\n",
       "      <td>1.93066e+09</td>\n",
       "      <td>2020-03-16</td>\n",
       "      <td>2020-03-16</td>\n",
       "      <td>2020-03-16</td>\n",
       "      <td>2020-03-31</td>\n",
       "      <td>USD</td>\n",
       "      <td>57201.3</td>\n",
       "      <td>2020-03-16</td>\n",
       "      <td>NAU5</td>\n",
       "      <td>1</td>\n",
       "    </tr>\n",
       "    <tr>\n",
       "      <th>1</th>\n",
       "      <td>U001</td>\n",
       "      <td>0200769623</td>\n",
       "      <td>WAL-MAR llc</td>\n",
       "      <td>NaT</td>\n",
       "      <td>2020</td>\n",
       "      <td>1.93086e+09</td>\n",
       "      <td>2020-05-05</td>\n",
       "      <td>2020-05-04</td>\n",
       "      <td>2020-05-05</td>\n",
       "      <td>2020-05-20</td>\n",
       "      <td>USD</td>\n",
       "      <td>39687.8</td>\n",
       "      <td>2020-05-05</td>\n",
       "      <td>NAH4</td>\n",
       "      <td>1</td>\n",
       "    </tr>\n",
       "    <tr>\n",
       "      <th>2</th>\n",
       "      <td>U001</td>\n",
       "      <td>0200769623</td>\n",
       "      <td>WAL-MAR in</td>\n",
       "      <td>NaT</td>\n",
       "      <td>2020</td>\n",
       "      <td>1.93072e+09</td>\n",
       "      <td>2020-03-31</td>\n",
       "      <td>2020-03-30</td>\n",
       "      <td>2020-03-31</td>\n",
       "      <td>2020-04-15</td>\n",
       "      <td>USD</td>\n",
       "      <td>18533.3</td>\n",
       "      <td>2020-03-31</td>\n",
       "      <td>NAH4</td>\n",
       "      <td>1</td>\n",
       "    </tr>\n",
       "    <tr>\n",
       "      <th>3</th>\n",
       "      <td>CA02</td>\n",
       "      <td>0140104440</td>\n",
       "      <td>SO llc</td>\n",
       "      <td>NaT</td>\n",
       "      <td>2020</td>\n",
       "      <td>2.96062e+09</td>\n",
       "      <td>2020-03-17</td>\n",
       "      <td>2020-03-17</td>\n",
       "      <td>2020-03-17</td>\n",
       "      <td>2020-03-27</td>\n",
       "      <td>CAD</td>\n",
       "      <td>85103.7</td>\n",
       "      <td>2020-03-17</td>\n",
       "      <td>CA10</td>\n",
       "      <td>1</td>\n",
       "    </tr>\n",
       "    <tr>\n",
       "      <th>4</th>\n",
       "      <td>U001</td>\n",
       "      <td>0200772595</td>\n",
       "      <td>SAFEW</td>\n",
       "      <td>NaT</td>\n",
       "      <td>2020</td>\n",
       "      <td>1.93067e+09</td>\n",
       "      <td>2020-03-20</td>\n",
       "      <td>2020-03-18</td>\n",
       "      <td>2020-03-20</td>\n",
       "      <td>2020-04-04</td>\n",
       "      <td>USD</td>\n",
       "      <td>115623</td>\n",
       "      <td>2020-03-20</td>\n",
       "      <td>NAA8</td>\n",
       "      <td>1</td>\n",
       "    </tr>\n",
       "    <tr>\n",
       "      <th>...</th>\n",
       "      <td>...</td>\n",
       "      <td>...</td>\n",
       "      <td>...</td>\n",
       "      <td>...</td>\n",
       "      <td>...</td>\n",
       "      <td>...</td>\n",
       "      <td>...</td>\n",
       "      <td>...</td>\n",
       "      <td>...</td>\n",
       "      <td>...</td>\n",
       "      <td>...</td>\n",
       "      <td>...</td>\n",
       "      <td>...</td>\n",
       "      <td>...</td>\n",
       "      <td>...</td>\n",
       "    </tr>\n",
       "    <tr>\n",
       "      <th>4524</th>\n",
       "      <td>U001</td>\n",
       "      <td>0200769623</td>\n",
       "      <td>WAL-MAR corp</td>\n",
       "      <td>NaT</td>\n",
       "      <td>2020</td>\n",
       "      <td>1.93083e+09</td>\n",
       "      <td>2020-04-28</td>\n",
       "      <td>2020-04-28</td>\n",
       "      <td>2020-04-28</td>\n",
       "      <td>2020-05-13</td>\n",
       "      <td>USD</td>\n",
       "      <td>3360.35</td>\n",
       "      <td>2020-04-28</td>\n",
       "      <td>NAH4</td>\n",
       "      <td>1</td>\n",
       "    </tr>\n",
       "    <tr>\n",
       "      <th>4525</th>\n",
       "      <td>U001</td>\n",
       "      <td>0200353024</td>\n",
       "      <td>DECA corporation</td>\n",
       "      <td>NaT</td>\n",
       "      <td>2020</td>\n",
       "      <td>1.93082e+09</td>\n",
       "      <td>2020-04-23</td>\n",
       "      <td>2020-04-23</td>\n",
       "      <td>2020-04-23</td>\n",
       "      <td>2020-05-09</td>\n",
       "      <td>USD</td>\n",
       "      <td>6598.36</td>\n",
       "      <td>2020-04-16</td>\n",
       "      <td>NAM4</td>\n",
       "      <td>1</td>\n",
       "    </tr>\n",
       "    <tr>\n",
       "      <th>4526</th>\n",
       "      <td>U001</td>\n",
       "      <td>0200126819</td>\n",
       "      <td>MCLANE in</td>\n",
       "      <td>NaT</td>\n",
       "      <td>2020</td>\n",
       "      <td>1.93078e+09</td>\n",
       "      <td>2020-04-21</td>\n",
       "      <td>2020-04-14</td>\n",
       "      <td>2020-04-21</td>\n",
       "      <td>2020-05-06</td>\n",
       "      <td>USD</td>\n",
       "      <td>11168.6</td>\n",
       "      <td>2020-04-21</td>\n",
       "      <td>NAA8</td>\n",
       "      <td>1</td>\n",
       "    </tr>\n",
       "    <tr>\n",
       "      <th>4527</th>\n",
       "      <td>U001</td>\n",
       "      <td>0200769623</td>\n",
       "      <td>WAL-MAR associates</td>\n",
       "      <td>NaT</td>\n",
       "      <td>2020</td>\n",
       "      <td>1.93072e+09</td>\n",
       "      <td>2020-03-30</td>\n",
       "      <td>2020-03-28</td>\n",
       "      <td>2020-03-30</td>\n",
       "      <td>2020-04-14</td>\n",
       "      <td>USD</td>\n",
       "      <td>13454.2</td>\n",
       "      <td>2020-03-30</td>\n",
       "      <td>NAH4</td>\n",
       "      <td>1</td>\n",
       "    </tr>\n",
       "    <tr>\n",
       "      <th>4528</th>\n",
       "      <td>U001</td>\n",
       "      <td>0200769623</td>\n",
       "      <td>WAL-MAR</td>\n",
       "      <td>NaT</td>\n",
       "      <td>2020</td>\n",
       "      <td>1.93075e+09</td>\n",
       "      <td>2020-04-07</td>\n",
       "      <td>2020-04-06</td>\n",
       "      <td>2020-04-07</td>\n",
       "      <td>2020-04-22</td>\n",
       "      <td>USD</td>\n",
       "      <td>5577.8</td>\n",
       "      <td>2020-04-07</td>\n",
       "      <td>NAH4</td>\n",
       "      <td>1</td>\n",
       "    </tr>\n",
       "  </tbody>\n",
       "</table>\n",
       "<p>4529 rows × 15 columns</p>\n",
       "</div>"
      ],
      "text/plain": [
       "     business_code cust_number  ... cust_payment_terms isOpen\n",
       "0             U001  0200772670  ...               NAU5      1\n",
       "1             U001  0200769623  ...               NAH4      1\n",
       "2             U001  0200769623  ...               NAH4      1\n",
       "3             CA02  0140104440  ...               CA10      1\n",
       "4             U001  0200772595  ...               NAA8      1\n",
       "...            ...         ...  ...                ...    ...\n",
       "4524          U001  0200769623  ...               NAH4      1\n",
       "4525          U001  0200353024  ...               NAM4      1\n",
       "4526          U001  0200126819  ...               NAA8      1\n",
       "4527          U001  0200769623  ...               NAH4      1\n",
       "4528          U001  0200769623  ...               NAH4      1\n",
       "\n",
       "[4529 rows x 15 columns]"
      ]
     },
     "execution_count": 38,
     "metadata": {
      "tags": []
     },
     "output_type": "execute_result"
    }
   ],
   "source": [
    "#divide test set \n",
    "test_data=data_unique[data_unique.clear_date.isnull()].reset_index(drop=True)\n",
    "test_data"
   ]
  },
  {
   "cell_type": "code",
   "execution_count": 39,
   "metadata": {
    "colab": {
     "base_uri": "https://localhost:8080/",
     "height": 505
    },
    "id": "OToqfLA6CSrw",
    "outputId": "9dbba62e-2bf0-47c7-e2a2-497da3590488"
   },
   "outputs": [
    {
     "data": {
      "text/html": [
       "<div>\n",
       "<style scoped>\n",
       "    .dataframe tbody tr th:only-of-type {\n",
       "        vertical-align: middle;\n",
       "    }\n",
       "\n",
       "    .dataframe tbody tr th {\n",
       "        vertical-align: top;\n",
       "    }\n",
       "\n",
       "    .dataframe thead th {\n",
       "        text-align: right;\n",
       "    }\n",
       "</style>\n",
       "<table border=\"1\" class=\"dataframe\">\n",
       "  <thead>\n",
       "    <tr style=\"text-align: right;\">\n",
       "      <th></th>\n",
       "      <th>business_code</th>\n",
       "      <th>cust_number</th>\n",
       "      <th>name_customer</th>\n",
       "      <th>clear_date</th>\n",
       "      <th>buisness_year</th>\n",
       "      <th>doc_id</th>\n",
       "      <th>posting_date</th>\n",
       "      <th>document_create_date</th>\n",
       "      <th>document_create_date.1</th>\n",
       "      <th>due_in_date</th>\n",
       "      <th>invoice_currency</th>\n",
       "      <th>total_open_amount</th>\n",
       "      <th>baseline_create_date</th>\n",
       "      <th>cust_payment_terms</th>\n",
       "      <th>isOpen</th>\n",
       "    </tr>\n",
       "  </thead>\n",
       "  <tbody>\n",
       "    <tr>\n",
       "      <th>0</th>\n",
       "      <td>U001</td>\n",
       "      <td>0200780383</td>\n",
       "      <td>MEIJ corporation</td>\n",
       "      <td>2019-09-26</td>\n",
       "      <td>2019</td>\n",
       "      <td>1.92986e+09</td>\n",
       "      <td>2019-09-11</td>\n",
       "      <td>2019-09-10</td>\n",
       "      <td>2019-09-11</td>\n",
       "      <td>2019-09-26</td>\n",
       "      <td>USD</td>\n",
       "      <td>51844.8</td>\n",
       "      <td>2019-09-11</td>\n",
       "      <td>NAA8</td>\n",
       "      <td>0</td>\n",
       "    </tr>\n",
       "    <tr>\n",
       "      <th>1</th>\n",
       "      <td>U001</td>\n",
       "      <td>0200762301</td>\n",
       "      <td>C&amp;S WH corporation</td>\n",
       "      <td>2019-09-10</td>\n",
       "      <td>2019</td>\n",
       "      <td>1.92979e+09</td>\n",
       "      <td>2019-08-25</td>\n",
       "      <td>2019-08-24</td>\n",
       "      <td>2019-08-25</td>\n",
       "      <td>2019-09-09</td>\n",
       "      <td>USD</td>\n",
       "      <td>62110.4</td>\n",
       "      <td>2019-08-25</td>\n",
       "      <td>NAC6</td>\n",
       "      <td>0</td>\n",
       "    </tr>\n",
       "    <tr>\n",
       "      <th>2</th>\n",
       "      <td>U001</td>\n",
       "      <td>0200769623</td>\n",
       "      <td>WAL-MAR corporation</td>\n",
       "      <td>2020-02-18</td>\n",
       "      <td>2020</td>\n",
       "      <td>1.93049e+09</td>\n",
       "      <td>2020-02-05</td>\n",
       "      <td>2020-02-06</td>\n",
       "      <td>2020-02-05</td>\n",
       "      <td>2020-02-20</td>\n",
       "      <td>USD</td>\n",
       "      <td>41038.5</td>\n",
       "      <td>2020-02-05</td>\n",
       "      <td>NAH4</td>\n",
       "      <td>0</td>\n",
       "    </tr>\n",
       "    <tr>\n",
       "      <th>3</th>\n",
       "      <td>U001</td>\n",
       "      <td>100053926</td>\n",
       "      <td>CALD trust</td>\n",
       "      <td>2019-08-21</td>\n",
       "      <td>2019</td>\n",
       "      <td>1.92952e+09</td>\n",
       "      <td>2019-06-20</td>\n",
       "      <td>2019-06-20</td>\n",
       "      <td>2019-06-20</td>\n",
       "      <td>2019-08-19</td>\n",
       "      <td>USD</td>\n",
       "      <td>1382.94</td>\n",
       "      <td>2019-06-20</td>\n",
       "      <td>NAVQ</td>\n",
       "      <td>0</td>\n",
       "    </tr>\n",
       "    <tr>\n",
       "      <th>4</th>\n",
       "      <td>U001</td>\n",
       "      <td>0200739534</td>\n",
       "      <td>OK llc</td>\n",
       "      <td>2019-06-26</td>\n",
       "      <td>2019</td>\n",
       "      <td>1.92946e+09</td>\n",
       "      <td>2019-06-07</td>\n",
       "      <td>2019-06-07</td>\n",
       "      <td>2019-06-07</td>\n",
       "      <td>2019-06-22</td>\n",
       "      <td>USD</td>\n",
       "      <td>85407.3</td>\n",
       "      <td>2019-06-07</td>\n",
       "      <td>NAA8</td>\n",
       "      <td>0</td>\n",
       "    </tr>\n",
       "    <tr>\n",
       "      <th>...</th>\n",
       "      <td>...</td>\n",
       "      <td>...</td>\n",
       "      <td>...</td>\n",
       "      <td>...</td>\n",
       "      <td>...</td>\n",
       "      <td>...</td>\n",
       "      <td>...</td>\n",
       "      <td>...</td>\n",
       "      <td>...</td>\n",
       "      <td>...</td>\n",
       "      <td>...</td>\n",
       "      <td>...</td>\n",
       "      <td>...</td>\n",
       "      <td>...</td>\n",
       "      <td>...</td>\n",
       "    </tr>\n",
       "    <tr>\n",
       "      <th>45459</th>\n",
       "      <td>CA02</td>\n",
       "      <td>0140104229</td>\n",
       "      <td>A &amp; W F trust</td>\n",
       "      <td>2020-03-02</td>\n",
       "      <td>2020</td>\n",
       "      <td>2.96061e+09</td>\n",
       "      <td>2020-01-23</td>\n",
       "      <td>2020-01-23</td>\n",
       "      <td>2020-01-23</td>\n",
       "      <td>2020-02-02</td>\n",
       "      <td>CAD</td>\n",
       "      <td>7380.72</td>\n",
       "      <td>2020-01-23</td>\n",
       "      <td>CA10</td>\n",
       "      <td>0</td>\n",
       "    </tr>\n",
       "    <tr>\n",
       "      <th>45460</th>\n",
       "      <td>U001</td>\n",
       "      <td>0200792734</td>\n",
       "      <td>MDV/ systems</td>\n",
       "      <td>2019-10-30</td>\n",
       "      <td>2019</td>\n",
       "      <td>1.92977e+09</td>\n",
       "      <td>2019-08-27</td>\n",
       "      <td>2019-08-21</td>\n",
       "      <td>2019-08-27</td>\n",
       "      <td>2019-10-31</td>\n",
       "      <td>USD</td>\n",
       "      <td>11949.1</td>\n",
       "      <td>2019-08-27</td>\n",
       "      <td>NAGD</td>\n",
       "      <td>0</td>\n",
       "    </tr>\n",
       "    <tr>\n",
       "      <th>45461</th>\n",
       "      <td>CA02</td>\n",
       "      <td>0140106099</td>\n",
       "      <td>SOCIETE  foundation</td>\n",
       "      <td>2019-05-09</td>\n",
       "      <td>2019</td>\n",
       "      <td>2.96054e+09</td>\n",
       "      <td>2019-04-24</td>\n",
       "      <td>2019-04-24</td>\n",
       "      <td>2019-04-24</td>\n",
       "      <td>2019-05-06</td>\n",
       "      <td>CAD</td>\n",
       "      <td>27441</td>\n",
       "      <td>2019-04-26</td>\n",
       "      <td>CA10</td>\n",
       "      <td>0</td>\n",
       "    </tr>\n",
       "    <tr>\n",
       "      <th>45462</th>\n",
       "      <td>U001</td>\n",
       "      <td>200126819</td>\n",
       "      <td>MCLANE trust</td>\n",
       "      <td>2019-02-13</td>\n",
       "      <td>2019</td>\n",
       "      <td>1.92865e+09</td>\n",
       "      <td>2019-01-24</td>\n",
       "      <td>2019-01-21</td>\n",
       "      <td>2019-01-24</td>\n",
       "      <td>2019-02-08</td>\n",
       "      <td>USD</td>\n",
       "      <td>13976</td>\n",
       "      <td>2019-01-24</td>\n",
       "      <td>NAA8</td>\n",
       "      <td>0</td>\n",
       "    </tr>\n",
       "    <tr>\n",
       "      <th>45463</th>\n",
       "      <td>U001</td>\n",
       "      <td>0200742791</td>\n",
       "      <td>QUI us</td>\n",
       "      <td>2019-07-18</td>\n",
       "      <td>2019</td>\n",
       "      <td>1.92956e+09</td>\n",
       "      <td>2019-06-29</td>\n",
       "      <td>2019-06-28</td>\n",
       "      <td>2019-06-29</td>\n",
       "      <td>2019-07-14</td>\n",
       "      <td>USD</td>\n",
       "      <td>4343.4</td>\n",
       "      <td>2019-06-29</td>\n",
       "      <td>NAA8</td>\n",
       "      <td>0</td>\n",
       "    </tr>\n",
       "  </tbody>\n",
       "</table>\n",
       "<p>45464 rows × 15 columns</p>\n",
       "</div>"
      ],
      "text/plain": [
       "      business_code cust_number  ... cust_payment_terms isOpen\n",
       "0              U001  0200780383  ...               NAA8      0\n",
       "1              U001  0200762301  ...               NAC6      0\n",
       "2              U001  0200769623  ...               NAH4      0\n",
       "3              U001   100053926  ...               NAVQ      0\n",
       "4              U001  0200739534  ...               NAA8      0\n",
       "...             ...         ...  ...                ...    ...\n",
       "45459          CA02  0140104229  ...               CA10      0\n",
       "45460          U001  0200792734  ...               NAGD      0\n",
       "45461          CA02  0140106099  ...               CA10      0\n",
       "45462          U001   200126819  ...               NAA8      0\n",
       "45463          U001  0200742791  ...               NAA8      0\n",
       "\n",
       "[45464 rows x 15 columns]"
      ]
     },
     "execution_count": 39,
     "metadata": {
      "tags": []
     },
     "output_type": "execute_result"
    }
   ],
   "source": [
    "#creating rest bigdata set\n",
    "big_set=data_unique[data_unique.clear_date.notnull()].reset_index(drop=True)\n",
    "big_set"
   ]
  },
  {
   "cell_type": "code",
   "execution_count": 40,
   "metadata": {
    "colab": {
     "base_uri": "https://localhost:8080/",
     "height": 69
    },
    "id": "PZu4yMWXCchW",
    "outputId": "eb9f4de5-4671-48e3-b41c-75a96edd9d13"
   },
   "outputs": [
    {
     "data": {
      "text/html": [
       "<div>\n",
       "<style scoped>\n",
       "    .dataframe tbody tr th:only-of-type {\n",
       "        vertical-align: middle;\n",
       "    }\n",
       "\n",
       "    .dataframe tbody tr th {\n",
       "        vertical-align: top;\n",
       "    }\n",
       "\n",
       "    .dataframe thead th {\n",
       "        text-align: right;\n",
       "    }\n",
       "</style>\n",
       "<table border=\"1\" class=\"dataframe\">\n",
       "  <thead>\n",
       "    <tr style=\"text-align: right;\">\n",
       "      <th></th>\n",
       "      <th>business_code</th>\n",
       "      <th>cust_number</th>\n",
       "      <th>name_customer</th>\n",
       "      <th>clear_date</th>\n",
       "      <th>buisness_year</th>\n",
       "      <th>doc_id</th>\n",
       "      <th>posting_date</th>\n",
       "      <th>document_create_date</th>\n",
       "      <th>document_create_date.1</th>\n",
       "      <th>due_in_date</th>\n",
       "      <th>invoice_currency</th>\n",
       "      <th>total_open_amount</th>\n",
       "      <th>baseline_create_date</th>\n",
       "      <th>cust_payment_terms</th>\n",
       "      <th>isOpen</th>\n",
       "    </tr>\n",
       "  </thead>\n",
       "  <tbody>\n",
       "  </tbody>\n",
       "</table>\n",
       "</div>"
      ],
      "text/plain": [
       "Empty DataFrame\n",
       "Columns: [business_code, cust_number, name_customer, clear_date, buisness_year, doc_id, posting_date, document_create_date, document_create_date.1, due_in_date, invoice_currency, total_open_amount, baseline_create_date, cust_payment_terms, isOpen]\n",
       "Index: []"
      ]
     },
     "execution_count": 40,
     "metadata": {
      "tags": []
     },
     "output_type": "execute_result"
    }
   ],
   "source": [
    "df1=big_set[big_set['document_create_date.1']>big_set['clear_date']] ##checking if create date.1 is after than clear date\n",
    "df1"
   ]
  },
  {
   "cell_type": "code",
   "execution_count": 41,
   "metadata": {
    "colab": {
     "base_uri": "https://localhost:8080/"
    },
    "id": "we-GhyakDNLI",
    "outputId": "d3c8d39b-d6d8-440f-f327-86e09321229d"
   },
   "outputs": [
    {
     "name": "stdout",
     "output_type": "stream",
     "text": [
      "Min create date 1 2020-02-27 00:00:00 Max create date 1 2020-05-25 00:00:00\n"
     ]
    }
   ],
   "source": [
    "#Finding min and max dates of create dat.1 of test case\n",
    "min_dt_test=test_data['document_create_date.1'].min()\n",
    "max_dt_test=test_data['document_create_date.1'].max()\n",
    "print(\"Min create date 1\",min_dt_test,\"Max create date 1\",max_dt_test)"
   ]
  },
  {
   "cell_type": "code",
   "execution_count": 42,
   "metadata": {
    "colab": {
     "base_uri": "https://localhost:8080/"
    },
    "id": "XHt1-4XiDW61",
    "outputId": "ef0c62fa-4fef-4e07-c999-8fd4186be8e6"
   },
   "outputs": [
    {
     "name": "stdout",
     "output_type": "stream",
     "text": [
      "Min create date 1 2018-12-30 00:00:00 Max create date 1 2020-02-27 00:00:00\n"
     ]
    }
   ],
   "source": [
    "#Finding min and max dates of create dat.1 of big_set\n",
    "min_dt_big=big_set['document_create_date.1'].min()\n",
    "max_dt_big=big_set['document_create_date.1'].max()\n",
    "print(\"Min create date 1\",min_dt_big,\"Max create date 1\",max_dt_big)"
   ]
  },
  {
   "cell_type": "code",
   "execution_count": 43,
   "metadata": {
    "colab": {
     "base_uri": "https://localhost:8080/"
    },
    "id": "2DIGS0FSDZ4z",
    "outputId": "a49b8f66-6898-4860-84d7-890f0252e5f6"
   },
   "outputs": [
    {
     "data": {
      "text/plain": [
       "(4529, 15)"
      ]
     },
     "execution_count": 43,
     "metadata": {
      "tags": []
     },
     "output_type": "execute_result"
    }
   ],
   "source": [
    "test_data.shape"
   ]
  },
  {
   "cell_type": "code",
   "execution_count": 44,
   "metadata": {
    "id": "0wtAMjF1Dfby"
   },
   "outputs": [],
   "source": [
    "###################splitting big_set to train set, val2, val1 based on document_create_date.1####################"
   ]
  },
  {
   "cell_type": "code",
   "execution_count": 45,
   "metadata": {
    "colab": {
     "base_uri": "https://localhost:8080/"
    },
    "id": "TiVJ0Y8nDiQh",
    "outputId": "d6db2cae-8890-4a0d-ad02-ceb9cc80151a"
   },
   "outputs": [
    {
     "data": {
      "text/plain": [
       "(4344, 15)"
      ]
     },
     "execution_count": 45,
     "metadata": {
      "tags": []
     },
     "output_type": "execute_result"
    }
   ],
   "source": [
    "#splitting to validation set 2\n",
    "val2=big_set[big_set['document_create_date.1'] >= '2020-01-16'].copy()\n",
    "val2.shape"
   ]
  },
  {
   "cell_type": "code",
   "execution_count": 46,
   "metadata": {
    "colab": {
     "base_uri": "https://localhost:8080/",
     "height": 487
    },
    "id": "C9fDvXgBDkgz",
    "outputId": "36634a6b-f5b9-49da-913f-76e82c5202cf"
   },
   "outputs": [
    {
     "data": {
      "text/html": [
       "<div>\n",
       "<style scoped>\n",
       "    .dataframe tbody tr th:only-of-type {\n",
       "        vertical-align: middle;\n",
       "    }\n",
       "\n",
       "    .dataframe tbody tr th {\n",
       "        vertical-align: top;\n",
       "    }\n",
       "\n",
       "    .dataframe thead th {\n",
       "        text-align: right;\n",
       "    }\n",
       "</style>\n",
       "<table border=\"1\" class=\"dataframe\">\n",
       "  <thead>\n",
       "    <tr style=\"text-align: right;\">\n",
       "      <th></th>\n",
       "      <th>business_code</th>\n",
       "      <th>cust_number</th>\n",
       "      <th>name_customer</th>\n",
       "      <th>clear_date</th>\n",
       "      <th>buisness_year</th>\n",
       "      <th>doc_id</th>\n",
       "      <th>posting_date</th>\n",
       "      <th>document_create_date</th>\n",
       "      <th>document_create_date.1</th>\n",
       "      <th>due_in_date</th>\n",
       "      <th>invoice_currency</th>\n",
       "      <th>total_open_amount</th>\n",
       "      <th>baseline_create_date</th>\n",
       "      <th>cust_payment_terms</th>\n",
       "      <th>isOpen</th>\n",
       "    </tr>\n",
       "  </thead>\n",
       "  <tbody>\n",
       "    <tr>\n",
       "      <th>0</th>\n",
       "      <td>U001</td>\n",
       "      <td>0200769623</td>\n",
       "      <td>WAL-MAR corporation</td>\n",
       "      <td>2020-02-18</td>\n",
       "      <td>2020</td>\n",
       "      <td>1.93049e+09</td>\n",
       "      <td>2020-02-05</td>\n",
       "      <td>2020-02-06</td>\n",
       "      <td>2020-02-05</td>\n",
       "      <td>2020-02-20</td>\n",
       "      <td>USD</td>\n",
       "      <td>41038.5</td>\n",
       "      <td>2020-02-05</td>\n",
       "      <td>NAH4</td>\n",
       "      <td>0</td>\n",
       "    </tr>\n",
       "    <tr>\n",
       "      <th>1</th>\n",
       "      <td>U001</td>\n",
       "      <td>0200726979</td>\n",
       "      <td>BJ'S  foundation</td>\n",
       "      <td>2020-02-06</td>\n",
       "      <td>2020</td>\n",
       "      <td>1.93043e+09</td>\n",
       "      <td>2020-01-21</td>\n",
       "      <td>2020-01-22</td>\n",
       "      <td>2020-01-21</td>\n",
       "      <td>2020-02-05</td>\n",
       "      <td>USD</td>\n",
       "      <td>344.72</td>\n",
       "      <td>2020-01-21</td>\n",
       "      <td>NAA8</td>\n",
       "      <td>0</td>\n",
       "    </tr>\n",
       "    <tr>\n",
       "      <th>2</th>\n",
       "      <td>U001</td>\n",
       "      <td>0200794332</td>\n",
       "      <td>COST associates</td>\n",
       "      <td>2020-02-05</td>\n",
       "      <td>2020</td>\n",
       "      <td>1.9304e+09</td>\n",
       "      <td>2020-01-17</td>\n",
       "      <td>2020-01-15</td>\n",
       "      <td>2020-01-17</td>\n",
       "      <td>2020-02-01</td>\n",
       "      <td>USD</td>\n",
       "      <td>30220</td>\n",
       "      <td>2020-01-17</td>\n",
       "      <td>NAAX</td>\n",
       "      <td>0</td>\n",
       "    </tr>\n",
       "    <tr>\n",
       "      <th>3</th>\n",
       "      <td>U001</td>\n",
       "      <td>0200148860</td>\n",
       "      <td>DOLLA in</td>\n",
       "      <td>2020-02-06</td>\n",
       "      <td>2020</td>\n",
       "      <td>1.93042e+09</td>\n",
       "      <td>2020-01-22</td>\n",
       "      <td>2020-01-20</td>\n",
       "      <td>2020-01-22</td>\n",
       "      <td>2020-02-06</td>\n",
       "      <td>USD</td>\n",
       "      <td>15764</td>\n",
       "      <td>2020-01-22</td>\n",
       "      <td>NAA8</td>\n",
       "      <td>0</td>\n",
       "    </tr>\n",
       "    <tr>\n",
       "      <th>4</th>\n",
       "      <td>U001</td>\n",
       "      <td>0200794332</td>\n",
       "      <td>COST llc</td>\n",
       "      <td>2020-03-12</td>\n",
       "      <td>2020</td>\n",
       "      <td>1.93057e+09</td>\n",
       "      <td>2020-02-27</td>\n",
       "      <td>2020-02-26</td>\n",
       "      <td>2020-02-27</td>\n",
       "      <td>2020-03-13</td>\n",
       "      <td>USD</td>\n",
       "      <td>8793.09</td>\n",
       "      <td>2020-02-27</td>\n",
       "      <td>NAAX</td>\n",
       "      <td>0</td>\n",
       "    </tr>\n",
       "    <tr>\n",
       "      <th>...</th>\n",
       "      <td>...</td>\n",
       "      <td>...</td>\n",
       "      <td>...</td>\n",
       "      <td>...</td>\n",
       "      <td>...</td>\n",
       "      <td>...</td>\n",
       "      <td>...</td>\n",
       "      <td>...</td>\n",
       "      <td>...</td>\n",
       "      <td>...</td>\n",
       "      <td>...</td>\n",
       "      <td>...</td>\n",
       "      <td>...</td>\n",
       "      <td>...</td>\n",
       "      <td>...</td>\n",
       "    </tr>\n",
       "    <tr>\n",
       "      <th>4339</th>\n",
       "      <td>U001</td>\n",
       "      <td>0200020431</td>\n",
       "      <td>DEC trust</td>\n",
       "      <td>2020-01-27</td>\n",
       "      <td>2020</td>\n",
       "      <td>1.93043e+09</td>\n",
       "      <td>2020-01-22</td>\n",
       "      <td>2020-01-22</td>\n",
       "      <td>2020-01-22</td>\n",
       "      <td>2020-01-26</td>\n",
       "      <td>USD</td>\n",
       "      <td>17842.9</td>\n",
       "      <td>2020-01-16</td>\n",
       "      <td>NAM2</td>\n",
       "      <td>0</td>\n",
       "    </tr>\n",
       "    <tr>\n",
       "      <th>4340</th>\n",
       "      <td>U001</td>\n",
       "      <td>0200762301</td>\n",
       "      <td>C&amp;S WH co</td>\n",
       "      <td>2020-03-04</td>\n",
       "      <td>2020</td>\n",
       "      <td>1.93053e+09</td>\n",
       "      <td>2020-02-18</td>\n",
       "      <td>2020-02-17</td>\n",
       "      <td>2020-02-18</td>\n",
       "      <td>2020-03-04</td>\n",
       "      <td>USD</td>\n",
       "      <td>9063.93</td>\n",
       "      <td>2020-02-18</td>\n",
       "      <td>NAC6</td>\n",
       "      <td>0</td>\n",
       "    </tr>\n",
       "    <tr>\n",
       "      <th>4341</th>\n",
       "      <td>U001</td>\n",
       "      <td>CCU013</td>\n",
       "      <td>KRAFT F systems</td>\n",
       "      <td>2020-03-27</td>\n",
       "      <td>2020</td>\n",
       "      <td>1.93052e+09</td>\n",
       "      <td>2020-02-15</td>\n",
       "      <td>2020-02-11</td>\n",
       "      <td>2020-02-15</td>\n",
       "      <td>2020-02-15</td>\n",
       "      <td>USD</td>\n",
       "      <td>4275.26</td>\n",
       "      <td>2020-02-15</td>\n",
       "      <td>NAX2</td>\n",
       "      <td>0</td>\n",
       "    </tr>\n",
       "    <tr>\n",
       "      <th>4342</th>\n",
       "      <td>U001</td>\n",
       "      <td>0200762301</td>\n",
       "      <td>C&amp;S WH</td>\n",
       "      <td>2020-02-19</td>\n",
       "      <td>2020</td>\n",
       "      <td>1.93047e+09</td>\n",
       "      <td>2020-02-04</td>\n",
       "      <td>2020-02-02</td>\n",
       "      <td>2020-02-04</td>\n",
       "      <td>2020-02-19</td>\n",
       "      <td>USD</td>\n",
       "      <td>51066.6</td>\n",
       "      <td>2020-02-04</td>\n",
       "      <td>NAC6</td>\n",
       "      <td>0</td>\n",
       "    </tr>\n",
       "    <tr>\n",
       "      <th>4343</th>\n",
       "      <td>CA02</td>\n",
       "      <td>0140104229</td>\n",
       "      <td>A &amp; W F trust</td>\n",
       "      <td>2020-03-02</td>\n",
       "      <td>2020</td>\n",
       "      <td>2.96061e+09</td>\n",
       "      <td>2020-01-23</td>\n",
       "      <td>2020-01-23</td>\n",
       "      <td>2020-01-23</td>\n",
       "      <td>2020-02-02</td>\n",
       "      <td>CAD</td>\n",
       "      <td>7380.72</td>\n",
       "      <td>2020-01-23</td>\n",
       "      <td>CA10</td>\n",
       "      <td>0</td>\n",
       "    </tr>\n",
       "  </tbody>\n",
       "</table>\n",
       "<p>4344 rows × 15 columns</p>\n",
       "</div>"
      ],
      "text/plain": [
       "     business_code cust_number  ... cust_payment_terms isOpen\n",
       "0             U001  0200769623  ...               NAH4      0\n",
       "1             U001  0200726979  ...               NAA8      0\n",
       "2             U001  0200794332  ...               NAAX      0\n",
       "3             U001  0200148860  ...               NAA8      0\n",
       "4             U001  0200794332  ...               NAAX      0\n",
       "...            ...         ...  ...                ...    ...\n",
       "4339          U001  0200020431  ...               NAM2      0\n",
       "4340          U001  0200762301  ...               NAC6      0\n",
       "4341          U001      CCU013  ...               NAX2      0\n",
       "4342          U001  0200762301  ...               NAC6      0\n",
       "4343          CA02  0140104229  ...               CA10      0\n",
       "\n",
       "[4344 rows x 15 columns]"
      ]
     },
     "execution_count": 46,
     "metadata": {
      "tags": []
     },
     "output_type": "execute_result"
    }
   ],
   "source": [
    "val2.reset_index(drop=True)"
   ]
  },
  {
   "cell_type": "code",
   "execution_count": 47,
   "metadata": {
    "colab": {
     "base_uri": "https://localhost:8080/"
    },
    "id": "Q9oV0g-zDnXS",
    "outputId": "aefd8b80-5c35-42ec-a61d-baaa054e0883"
   },
   "outputs": [
    {
     "data": {
      "text/plain": [
       "Timestamp('2020-01-15 00:00:00')"
      ]
     },
     "execution_count": 47,
     "metadata": {
      "tags": []
     },
     "output_type": "execute_result"
    }
   ],
   "source": [
    "#removing validation set 2 from big_set\n",
    "big_set.drop(big_set[big_set['document_create_date.1'] >= '2020-01-16'].index, inplace = True)\n",
    "big_set['document_create_date.1'].max()"
   ]
  },
  {
   "cell_type": "code",
   "execution_count": 48,
   "metadata": {
    "colab": {
     "base_uri": "https://localhost:8080/"
    },
    "id": "ag0EBnRU4MY7",
    "outputId": "45cc2f85-7fbf-41ff-ee2d-e8288a28e667"
   },
   "outputs": [
    {
     "data": {
      "text/plain": [
       "(2962, 15)"
      ]
     },
     "execution_count": 48,
     "metadata": {
      "tags": []
     },
     "output_type": "execute_result"
    }
   ],
   "source": [
    "#splitting rest big set to val1 and train set\n",
    "val1=big_set[big_set['document_create_date.1'] >= '2019-12-05'].copy()\n",
    "val1.shape"
   ]
  },
  {
   "cell_type": "code",
   "execution_count": 49,
   "metadata": {
    "colab": {
     "base_uri": "https://localhost:8080/",
     "height": 453
    },
    "id": "ju92_7zh6vfi",
    "outputId": "78b301a7-bc3c-434a-e439-16b4c3a3a745"
   },
   "outputs": [
    {
     "data": {
      "text/html": [
       "<div>\n",
       "<style scoped>\n",
       "    .dataframe tbody tr th:only-of-type {\n",
       "        vertical-align: middle;\n",
       "    }\n",
       "\n",
       "    .dataframe tbody tr th {\n",
       "        vertical-align: top;\n",
       "    }\n",
       "\n",
       "    .dataframe thead th {\n",
       "        text-align: right;\n",
       "    }\n",
       "</style>\n",
       "<table border=\"1\" class=\"dataframe\">\n",
       "  <thead>\n",
       "    <tr style=\"text-align: right;\">\n",
       "      <th></th>\n",
       "      <th>business_code</th>\n",
       "      <th>cust_number</th>\n",
       "      <th>name_customer</th>\n",
       "      <th>clear_date</th>\n",
       "      <th>buisness_year</th>\n",
       "      <th>doc_id</th>\n",
       "      <th>posting_date</th>\n",
       "      <th>document_create_date</th>\n",
       "      <th>document_create_date.1</th>\n",
       "      <th>due_in_date</th>\n",
       "      <th>invoice_currency</th>\n",
       "      <th>total_open_amount</th>\n",
       "      <th>baseline_create_date</th>\n",
       "      <th>cust_payment_terms</th>\n",
       "      <th>isOpen</th>\n",
       "    </tr>\n",
       "  </thead>\n",
       "  <tbody>\n",
       "    <tr>\n",
       "      <th>0</th>\n",
       "      <td>U002</td>\n",
       "      <td>0200806643</td>\n",
       "      <td>PLAZA WA co</td>\n",
       "      <td>2020-02-18</td>\n",
       "      <td>2020</td>\n",
       "      <td>1.99057e+09</td>\n",
       "      <td>2020-01-10</td>\n",
       "      <td>2020-01-06</td>\n",
       "      <td>2020-01-10</td>\n",
       "      <td>2020-02-14</td>\n",
       "      <td>USD</td>\n",
       "      <td>1264.01</td>\n",
       "      <td>2020-01-10</td>\n",
       "      <td>NAG2</td>\n",
       "      <td>0</td>\n",
       "    </tr>\n",
       "    <tr>\n",
       "      <th>1</th>\n",
       "      <td>U001</td>\n",
       "      <td>0200769623</td>\n",
       "      <td>WAL-MAR co</td>\n",
       "      <td>2020-01-21</td>\n",
       "      <td>2020</td>\n",
       "      <td>1.93039e+09</td>\n",
       "      <td>2020-01-10</td>\n",
       "      <td>2020-01-10</td>\n",
       "      <td>2020-01-10</td>\n",
       "      <td>2020-01-25</td>\n",
       "      <td>USD</td>\n",
       "      <td>943.12</td>\n",
       "      <td>2020-01-10</td>\n",
       "      <td>NAH4</td>\n",
       "      <td>0</td>\n",
       "    </tr>\n",
       "    <tr>\n",
       "      <th>2</th>\n",
       "      <td>U001</td>\n",
       "      <td>0200769623</td>\n",
       "      <td>WAL-MAR associates</td>\n",
       "      <td>2019-12-27</td>\n",
       "      <td>2019</td>\n",
       "      <td>1.93028e+09</td>\n",
       "      <td>2019-12-17</td>\n",
       "      <td>2019-12-15</td>\n",
       "      <td>2019-12-17</td>\n",
       "      <td>2020-01-01</td>\n",
       "      <td>USD</td>\n",
       "      <td>34878.9</td>\n",
       "      <td>2019-12-17</td>\n",
       "      <td>NAH4</td>\n",
       "      <td>0</td>\n",
       "    </tr>\n",
       "    <tr>\n",
       "      <th>3</th>\n",
       "      <td>U001</td>\n",
       "      <td>0200744019</td>\n",
       "      <td>TARG llc</td>\n",
       "      <td>2019-12-26</td>\n",
       "      <td>2019</td>\n",
       "      <td>1.93022e+09</td>\n",
       "      <td>2019-12-07</td>\n",
       "      <td>2019-12-05</td>\n",
       "      <td>2019-12-07</td>\n",
       "      <td>2019-12-22</td>\n",
       "      <td>USD</td>\n",
       "      <td>27710</td>\n",
       "      <td>2019-12-07</td>\n",
       "      <td>NAA8</td>\n",
       "      <td>0</td>\n",
       "    </tr>\n",
       "    <tr>\n",
       "      <th>4</th>\n",
       "      <td>U001</td>\n",
       "      <td>0200700919</td>\n",
       "      <td>US</td>\n",
       "      <td>2019-12-30</td>\n",
       "      <td>2019</td>\n",
       "      <td>1.93027e+09</td>\n",
       "      <td>2019-12-12</td>\n",
       "      <td>2019-12-12</td>\n",
       "      <td>2019-12-12</td>\n",
       "      <td>2019-12-27</td>\n",
       "      <td>USD</td>\n",
       "      <td>72343.1</td>\n",
       "      <td>2019-12-12</td>\n",
       "      <td>NAA8</td>\n",
       "      <td>0</td>\n",
       "    </tr>\n",
       "    <tr>\n",
       "      <th>...</th>\n",
       "      <td>...</td>\n",
       "      <td>...</td>\n",
       "      <td>...</td>\n",
       "      <td>...</td>\n",
       "      <td>...</td>\n",
       "      <td>...</td>\n",
       "      <td>...</td>\n",
       "      <td>...</td>\n",
       "      <td>...</td>\n",
       "      <td>...</td>\n",
       "      <td>...</td>\n",
       "      <td>...</td>\n",
       "      <td>...</td>\n",
       "      <td>...</td>\n",
       "      <td>...</td>\n",
       "    </tr>\n",
       "    <tr>\n",
       "      <th>2957</th>\n",
       "      <td>U001</td>\n",
       "      <td>0200744019</td>\n",
       "      <td>TARG corp</td>\n",
       "      <td>2020-01-24</td>\n",
       "      <td>2020</td>\n",
       "      <td>1.93038e+09</td>\n",
       "      <td>2020-01-09</td>\n",
       "      <td>2020-01-09</td>\n",
       "      <td>2020-01-09</td>\n",
       "      <td>2020-01-24</td>\n",
       "      <td>USD</td>\n",
       "      <td>44346.1</td>\n",
       "      <td>2020-01-09</td>\n",
       "      <td>NAA8</td>\n",
       "      <td>0</td>\n",
       "    </tr>\n",
       "    <tr>\n",
       "      <th>2958</th>\n",
       "      <td>U001</td>\n",
       "      <td>0200726979</td>\n",
       "      <td>BJ'S</td>\n",
       "      <td>2019-12-26</td>\n",
       "      <td>2019</td>\n",
       "      <td>1.93026e+09</td>\n",
       "      <td>2019-12-11</td>\n",
       "      <td>2019-12-11</td>\n",
       "      <td>2019-12-11</td>\n",
       "      <td>2019-12-26</td>\n",
       "      <td>USD</td>\n",
       "      <td>502.72</td>\n",
       "      <td>2019-12-11</td>\n",
       "      <td>NAA8</td>\n",
       "      <td>0</td>\n",
       "    </tr>\n",
       "    <tr>\n",
       "      <th>2959</th>\n",
       "      <td>U001</td>\n",
       "      <td>0200705372</td>\n",
       "      <td>FR trust</td>\n",
       "      <td>2019-12-31</td>\n",
       "      <td>2019</td>\n",
       "      <td>1.93028e+09</td>\n",
       "      <td>2019-12-16</td>\n",
       "      <td>2019-12-14</td>\n",
       "      <td>2019-12-16</td>\n",
       "      <td>2019-12-31</td>\n",
       "      <td>USD</td>\n",
       "      <td>57543.1</td>\n",
       "      <td>2019-12-16</td>\n",
       "      <td>NAA8</td>\n",
       "      <td>0</td>\n",
       "    </tr>\n",
       "    <tr>\n",
       "      <th>2960</th>\n",
       "      <td>U001</td>\n",
       "      <td>0200592182</td>\n",
       "      <td>DECA in</td>\n",
       "      <td>2020-01-15</td>\n",
       "      <td>2020</td>\n",
       "      <td>1.93039e+09</td>\n",
       "      <td>2020-01-13</td>\n",
       "      <td>2020-01-13</td>\n",
       "      <td>2020-01-13</td>\n",
       "      <td>2020-01-24</td>\n",
       "      <td>USD</td>\n",
       "      <td>914.9</td>\n",
       "      <td>2020-01-01</td>\n",
       "      <td>NAM4</td>\n",
       "      <td>0</td>\n",
       "    </tr>\n",
       "    <tr>\n",
       "      <th>2961</th>\n",
       "      <td>U001</td>\n",
       "      <td>0200705742</td>\n",
       "      <td>DOT corp</td>\n",
       "      <td>2020-01-22</td>\n",
       "      <td>2020</td>\n",
       "      <td>1.93036e+09</td>\n",
       "      <td>2020-01-06</td>\n",
       "      <td>2020-01-07</td>\n",
       "      <td>2020-01-06</td>\n",
       "      <td>2020-01-26</td>\n",
       "      <td>USD</td>\n",
       "      <td>64631.6</td>\n",
       "      <td>2020-01-06</td>\n",
       "      <td>NAD1</td>\n",
       "      <td>0</td>\n",
       "    </tr>\n",
       "  </tbody>\n",
       "</table>\n",
       "<p>2962 rows × 15 columns</p>\n",
       "</div>"
      ],
      "text/plain": [
       "     business_code cust_number  ... cust_payment_terms isOpen\n",
       "0             U002  0200806643  ...               NAG2      0\n",
       "1             U001  0200769623  ...               NAH4      0\n",
       "2             U001  0200769623  ...               NAH4      0\n",
       "3             U001  0200744019  ...               NAA8      0\n",
       "4             U001  0200700919  ...               NAA8      0\n",
       "...            ...         ...  ...                ...    ...\n",
       "2957          U001  0200744019  ...               NAA8      0\n",
       "2958          U001  0200726979  ...               NAA8      0\n",
       "2959          U001  0200705372  ...               NAA8      0\n",
       "2960          U001  0200592182  ...               NAM4      0\n",
       "2961          U001  0200705742  ...               NAD1      0\n",
       "\n",
       "[2962 rows x 15 columns]"
      ]
     },
     "execution_count": 49,
     "metadata": {
      "tags": []
     },
     "output_type": "execute_result"
    }
   ],
   "source": [
    "val1.reset_index(drop=True)"
   ]
  },
  {
   "cell_type": "code",
   "execution_count": 50,
   "metadata": {
    "colab": {
     "base_uri": "https://localhost:8080/"
    },
    "id": "EvYc8r6M60xy",
    "outputId": "1aa4aa93-ee0c-4111-8146-0fcfbdc598d9"
   },
   "outputs": [
    {
     "data": {
      "text/plain": [
       "(38158, 15)"
      ]
     },
     "execution_count": 50,
     "metadata": {
      "tags": []
     },
     "output_type": "execute_result"
    }
   ],
   "source": [
    "train_set=big_set[big_set['document_create_date.1'] < '2019-12-05'].copy()\n",
    "train_set.shape"
   ]
  },
  {
   "cell_type": "code",
   "execution_count": 51,
   "metadata": {
    "colab": {
     "base_uri": "https://localhost:8080/",
     "height": 505
    },
    "id": "C_fW-2RB63ot",
    "outputId": "4ac0f27c-bf9d-41b7-939c-b417865e31ef"
   },
   "outputs": [
    {
     "data": {
      "text/html": [
       "<div>\n",
       "<style scoped>\n",
       "    .dataframe tbody tr th:only-of-type {\n",
       "        vertical-align: middle;\n",
       "    }\n",
       "\n",
       "    .dataframe tbody tr th {\n",
       "        vertical-align: top;\n",
       "    }\n",
       "\n",
       "    .dataframe thead th {\n",
       "        text-align: right;\n",
       "    }\n",
       "</style>\n",
       "<table border=\"1\" class=\"dataframe\">\n",
       "  <thead>\n",
       "    <tr style=\"text-align: right;\">\n",
       "      <th></th>\n",
       "      <th>business_code</th>\n",
       "      <th>cust_number</th>\n",
       "      <th>name_customer</th>\n",
       "      <th>clear_date</th>\n",
       "      <th>buisness_year</th>\n",
       "      <th>doc_id</th>\n",
       "      <th>posting_date</th>\n",
       "      <th>document_create_date</th>\n",
       "      <th>document_create_date.1</th>\n",
       "      <th>due_in_date</th>\n",
       "      <th>invoice_currency</th>\n",
       "      <th>total_open_amount</th>\n",
       "      <th>baseline_create_date</th>\n",
       "      <th>cust_payment_terms</th>\n",
       "      <th>isOpen</th>\n",
       "    </tr>\n",
       "  </thead>\n",
       "  <tbody>\n",
       "    <tr>\n",
       "      <th>0</th>\n",
       "      <td>U001</td>\n",
       "      <td>0200780383</td>\n",
       "      <td>MEIJ corporation</td>\n",
       "      <td>2019-09-26</td>\n",
       "      <td>2019</td>\n",
       "      <td>1.92986e+09</td>\n",
       "      <td>2019-09-11</td>\n",
       "      <td>2019-09-10</td>\n",
       "      <td>2019-09-11</td>\n",
       "      <td>2019-09-26</td>\n",
       "      <td>USD</td>\n",
       "      <td>51844.8</td>\n",
       "      <td>2019-09-11</td>\n",
       "      <td>NAA8</td>\n",
       "      <td>0</td>\n",
       "    </tr>\n",
       "    <tr>\n",
       "      <th>1</th>\n",
       "      <td>U001</td>\n",
       "      <td>0200762301</td>\n",
       "      <td>C&amp;S WH corporation</td>\n",
       "      <td>2019-09-10</td>\n",
       "      <td>2019</td>\n",
       "      <td>1.92979e+09</td>\n",
       "      <td>2019-08-25</td>\n",
       "      <td>2019-08-24</td>\n",
       "      <td>2019-08-25</td>\n",
       "      <td>2019-09-09</td>\n",
       "      <td>USD</td>\n",
       "      <td>62110.4</td>\n",
       "      <td>2019-08-25</td>\n",
       "      <td>NAC6</td>\n",
       "      <td>0</td>\n",
       "    </tr>\n",
       "    <tr>\n",
       "      <th>2</th>\n",
       "      <td>U001</td>\n",
       "      <td>100053926</td>\n",
       "      <td>CALD trust</td>\n",
       "      <td>2019-08-21</td>\n",
       "      <td>2019</td>\n",
       "      <td>1.92952e+09</td>\n",
       "      <td>2019-06-20</td>\n",
       "      <td>2019-06-20</td>\n",
       "      <td>2019-06-20</td>\n",
       "      <td>2019-08-19</td>\n",
       "      <td>USD</td>\n",
       "      <td>1382.94</td>\n",
       "      <td>2019-06-20</td>\n",
       "      <td>NAVQ</td>\n",
       "      <td>0</td>\n",
       "    </tr>\n",
       "    <tr>\n",
       "      <th>3</th>\n",
       "      <td>U001</td>\n",
       "      <td>0200739534</td>\n",
       "      <td>OK llc</td>\n",
       "      <td>2019-06-26</td>\n",
       "      <td>2019</td>\n",
       "      <td>1.92946e+09</td>\n",
       "      <td>2019-06-07</td>\n",
       "      <td>2019-06-07</td>\n",
       "      <td>2019-06-07</td>\n",
       "      <td>2019-06-22</td>\n",
       "      <td>USD</td>\n",
       "      <td>85407.3</td>\n",
       "      <td>2019-06-07</td>\n",
       "      <td>NAA8</td>\n",
       "      <td>0</td>\n",
       "    </tr>\n",
       "    <tr>\n",
       "      <th>4</th>\n",
       "      <td>U001</td>\n",
       "      <td>0200337148</td>\n",
       "      <td>COAS co</td>\n",
       "      <td>2019-06-27</td>\n",
       "      <td>2019</td>\n",
       "      <td>1.92948e+09</td>\n",
       "      <td>2019-06-12</td>\n",
       "      <td>2019-06-12</td>\n",
       "      <td>2019-06-12</td>\n",
       "      <td>2019-06-27</td>\n",
       "      <td>USD</td>\n",
       "      <td>47117.7</td>\n",
       "      <td>2019-06-12</td>\n",
       "      <td>NAA8</td>\n",
       "      <td>0</td>\n",
       "    </tr>\n",
       "    <tr>\n",
       "      <th>...</th>\n",
       "      <td>...</td>\n",
       "      <td>...</td>\n",
       "      <td>...</td>\n",
       "      <td>...</td>\n",
       "      <td>...</td>\n",
       "      <td>...</td>\n",
       "      <td>...</td>\n",
       "      <td>...</td>\n",
       "      <td>...</td>\n",
       "      <td>...</td>\n",
       "      <td>...</td>\n",
       "      <td>...</td>\n",
       "      <td>...</td>\n",
       "      <td>...</td>\n",
       "      <td>...</td>\n",
       "    </tr>\n",
       "    <tr>\n",
       "      <th>38153</th>\n",
       "      <td>U001</td>\n",
       "      <td>0200769623</td>\n",
       "      <td>WAL-MAR associates</td>\n",
       "      <td>2019-02-27</td>\n",
       "      <td>2019</td>\n",
       "      <td>1.9288e+09</td>\n",
       "      <td>2019-02-15</td>\n",
       "      <td>2019-02-14</td>\n",
       "      <td>2019-02-15</td>\n",
       "      <td>2019-03-02</td>\n",
       "      <td>USD</td>\n",
       "      <td>10435.8</td>\n",
       "      <td>2019-02-15</td>\n",
       "      <td>NAH4</td>\n",
       "      <td>0</td>\n",
       "    </tr>\n",
       "    <tr>\n",
       "      <th>38154</th>\n",
       "      <td>U001</td>\n",
       "      <td>0200792734</td>\n",
       "      <td>MDV/ systems</td>\n",
       "      <td>2019-10-30</td>\n",
       "      <td>2019</td>\n",
       "      <td>1.92977e+09</td>\n",
       "      <td>2019-08-27</td>\n",
       "      <td>2019-08-21</td>\n",
       "      <td>2019-08-27</td>\n",
       "      <td>2019-10-31</td>\n",
       "      <td>USD</td>\n",
       "      <td>11949.1</td>\n",
       "      <td>2019-08-27</td>\n",
       "      <td>NAGD</td>\n",
       "      <td>0</td>\n",
       "    </tr>\n",
       "    <tr>\n",
       "      <th>38155</th>\n",
       "      <td>CA02</td>\n",
       "      <td>0140106099</td>\n",
       "      <td>SOCIETE  foundation</td>\n",
       "      <td>2019-05-09</td>\n",
       "      <td>2019</td>\n",
       "      <td>2.96054e+09</td>\n",
       "      <td>2019-04-24</td>\n",
       "      <td>2019-04-24</td>\n",
       "      <td>2019-04-24</td>\n",
       "      <td>2019-05-06</td>\n",
       "      <td>CAD</td>\n",
       "      <td>27441</td>\n",
       "      <td>2019-04-26</td>\n",
       "      <td>CA10</td>\n",
       "      <td>0</td>\n",
       "    </tr>\n",
       "    <tr>\n",
       "      <th>38156</th>\n",
       "      <td>U001</td>\n",
       "      <td>200126819</td>\n",
       "      <td>MCLANE trust</td>\n",
       "      <td>2019-02-13</td>\n",
       "      <td>2019</td>\n",
       "      <td>1.92865e+09</td>\n",
       "      <td>2019-01-24</td>\n",
       "      <td>2019-01-21</td>\n",
       "      <td>2019-01-24</td>\n",
       "      <td>2019-02-08</td>\n",
       "      <td>USD</td>\n",
       "      <td>13976</td>\n",
       "      <td>2019-01-24</td>\n",
       "      <td>NAA8</td>\n",
       "      <td>0</td>\n",
       "    </tr>\n",
       "    <tr>\n",
       "      <th>38157</th>\n",
       "      <td>U001</td>\n",
       "      <td>0200742791</td>\n",
       "      <td>QUI us</td>\n",
       "      <td>2019-07-18</td>\n",
       "      <td>2019</td>\n",
       "      <td>1.92956e+09</td>\n",
       "      <td>2019-06-29</td>\n",
       "      <td>2019-06-28</td>\n",
       "      <td>2019-06-29</td>\n",
       "      <td>2019-07-14</td>\n",
       "      <td>USD</td>\n",
       "      <td>4343.4</td>\n",
       "      <td>2019-06-29</td>\n",
       "      <td>NAA8</td>\n",
       "      <td>0</td>\n",
       "    </tr>\n",
       "  </tbody>\n",
       "</table>\n",
       "<p>38158 rows × 15 columns</p>\n",
       "</div>"
      ],
      "text/plain": [
       "      business_code cust_number  ... cust_payment_terms isOpen\n",
       "0              U001  0200780383  ...               NAA8      0\n",
       "1              U001  0200762301  ...               NAC6      0\n",
       "2              U001   100053926  ...               NAVQ      0\n",
       "3              U001  0200739534  ...               NAA8      0\n",
       "4              U001  0200337148  ...               NAA8      0\n",
       "...             ...         ...  ...                ...    ...\n",
       "38153          U001  0200769623  ...               NAH4      0\n",
       "38154          U001  0200792734  ...               NAGD      0\n",
       "38155          CA02  0140106099  ...               CA10      0\n",
       "38156          U001   200126819  ...               NAA8      0\n",
       "38157          U001  0200742791  ...               NAA8      0\n",
       "\n",
       "[38158 rows x 15 columns]"
      ]
     },
     "execution_count": 51,
     "metadata": {
      "tags": []
     },
     "output_type": "execute_result"
    }
   ],
   "source": [
    "train_set.reset_index(drop=True)"
   ]
  },
  {
   "cell_type": "code",
   "execution_count": 52,
   "metadata": {
    "id": "ThyO-sIC65rx"
   },
   "outputs": [],
   "source": [
    "##############target label#################"
   ]
  },
  {
   "cell_type": "code",
   "execution_count": 53,
   "metadata": {
    "id": "AzeHtwV27Vjd"
   },
   "outputs": [],
   "source": [
    "train_set['target_delay']=(train_set['clear_date'] - train_set['due_in_date'])\n",
    "train_set['target_delay']=train_set['target_delay'].dt.days\n"
   ]
  },
  {
   "cell_type": "code",
   "execution_count": 54,
   "metadata": {
    "colab": {
     "base_uri": "https://localhost:8080/",
     "height": 79
    },
    "id": "E3kDDiiM7XSe",
    "outputId": "120b5b68-17e2-4b42-c80d-61d14804cc59"
   },
   "outputs": [
    {
     "data": {
      "text/html": [
       "<div>\n",
       "<style scoped>\n",
       "    .dataframe tbody tr th:only-of-type {\n",
       "        vertical-align: middle;\n",
       "    }\n",
       "\n",
       "    .dataframe tbody tr th {\n",
       "        vertical-align: top;\n",
       "    }\n",
       "\n",
       "    .dataframe thead th {\n",
       "        text-align: right;\n",
       "    }\n",
       "</style>\n",
       "<table border=\"1\" class=\"dataframe\">\n",
       "  <thead>\n",
       "    <tr style=\"text-align: right;\">\n",
       "      <th></th>\n",
       "      <th>target_delay</th>\n",
       "    </tr>\n",
       "  </thead>\n",
       "  <tbody>\n",
       "    <tr>\n",
       "      <th>target_delay</th>\n",
       "      <td>1.0</td>\n",
       "    </tr>\n",
       "  </tbody>\n",
       "</table>\n",
       "</div>"
      ],
      "text/plain": [
       "              target_delay\n",
       "target_delay           1.0"
      ]
     },
     "execution_count": 54,
     "metadata": {
      "tags": []
     },
     "output_type": "execute_result"
    }
   ],
   "source": [
    "train_set.corr()"
   ]
  },
  {
   "cell_type": "code",
   "execution_count": 55,
   "metadata": {
    "colab": {
     "base_uri": "https://localhost:8080/"
    },
    "id": "Y64_k2nH7Zc0",
    "outputId": "361c43b7-7104-489c-ed94-6029a6b9183b"
   },
   "outputs": [
    {
     "data": {
      "text/plain": [
       "count    38158.000000\n",
       "mean         1.068714\n",
       "std         11.109426\n",
       "min        -81.000000\n",
       "25%         -3.000000\n",
       "50%          0.000000\n",
       "75%          2.000000\n",
       "max        212.000000\n",
       "Name: target_delay, dtype: float64"
      ]
     },
     "execution_count": 55,
     "metadata": {
      "tags": []
     },
     "output_type": "execute_result"
    }
   ],
   "source": [
    "train_set['target_delay'].describe()\n"
   ]
  },
  {
   "cell_type": "code",
   "execution_count": 56,
   "metadata": {
    "id": "10rqxCsV7bcL"
   },
   "outputs": [],
   "source": [
    "#setting target_delay in val1 and  val2\n",
    "val1['target_delay']=(val1['clear_date'] - val1['due_in_date'])\n",
    "val1['target_delay']=val1['target_delay'].dt.days\n",
    "\n",
    "val2['target_delay']=(val2['clear_date'] - val2['due_in_date'])\n",
    "val2['target_delay']=val2['target_delay'].dt.days\n",
    "\n"
   ]
  },
  {
   "cell_type": "code",
   "execution_count": 57,
   "metadata": {
    "id": "NH0_cDlf7ejh"
   },
   "outputs": [],
   "source": [
    "###############################EDA and Feauture Engineering##########################"
   ]
  },
  {
   "cell_type": "code",
   "execution_count": 58,
   "metadata": {
    "id": "zVzgqqtP7oXL"
   },
   "outputs": [],
   "source": [
    "import seaborn as sns, numpy as np"
   ]
  },
  {
   "cell_type": "code",
   "execution_count": 59,
   "metadata": {
    "id": "K685EicW7qMM"
   },
   "outputs": [],
   "source": [
    "########ENCODING STRING COLUMNS################ "
   ]
  },
  {
   "cell_type": "code",
   "execution_count": 60,
   "metadata": {
    "colab": {
     "base_uri": "https://localhost:8080/"
    },
    "id": "gxCN5nMZ7tpW",
    "outputId": "40011466-879f-4b14-ca1b-772b56fe04be"
   },
   "outputs": [
    {
     "data": {
      "text/plain": [
       "business_code                     object\n",
       "cust_number                       object\n",
       "name_customer                     object\n",
       "clear_date                datetime64[ns]\n",
       "buisness_year                     object\n",
       "doc_id                            object\n",
       "posting_date              datetime64[ns]\n",
       "document_create_date      datetime64[ns]\n",
       "document_create_date.1    datetime64[ns]\n",
       "due_in_date               datetime64[ns]\n",
       "invoice_currency                  object\n",
       "total_open_amount                 object\n",
       "baseline_create_date      datetime64[ns]\n",
       "cust_payment_terms                object\n",
       "isOpen                            object\n",
       "target_delay                       int64\n",
       "dtype: object"
      ]
     },
     "execution_count": 60,
     "metadata": {
      "tags": []
     },
     "output_type": "execute_result"
    }
   ],
   "source": [
    "#encoding the train_set\n",
    "train_set.dtypes"
   ]
  },
  {
   "cell_type": "code",
   "execution_count": 61,
   "metadata": {
    "colab": {
     "base_uri": "https://localhost:8080/",
     "height": 253
    },
    "id": "LUZXVmfb7vk4",
    "outputId": "a719881a-8d7f-4493-c04b-467040fbe9f1"
   },
   "outputs": [
    {
     "data": {
      "text/html": [
       "<div>\n",
       "<style scoped>\n",
       "    .dataframe tbody tr th:only-of-type {\n",
       "        vertical-align: middle;\n",
       "    }\n",
       "\n",
       "    .dataframe tbody tr th {\n",
       "        vertical-align: top;\n",
       "    }\n",
       "\n",
       "    .dataframe thead th {\n",
       "        text-align: right;\n",
       "    }\n",
       "</style>\n",
       "<table border=\"1\" class=\"dataframe\">\n",
       "  <thead>\n",
       "    <tr style=\"text-align: right;\">\n",
       "      <th></th>\n",
       "      <th>cust_number</th>\n",
       "      <th>name_customer</th>\n",
       "      <th>clear_date</th>\n",
       "      <th>buisness_year</th>\n",
       "      <th>doc_id</th>\n",
       "      <th>posting_date</th>\n",
       "      <th>document_create_date</th>\n",
       "      <th>document_create_date.1</th>\n",
       "      <th>due_in_date</th>\n",
       "      <th>invoice_currency</th>\n",
       "      <th>total_open_amount</th>\n",
       "      <th>baseline_create_date</th>\n",
       "      <th>cust_payment_terms</th>\n",
       "      <th>isOpen</th>\n",
       "      <th>target_delay</th>\n",
       "    </tr>\n",
       "    <tr>\n",
       "      <th>business_code</th>\n",
       "      <th></th>\n",
       "      <th></th>\n",
       "      <th></th>\n",
       "      <th></th>\n",
       "      <th></th>\n",
       "      <th></th>\n",
       "      <th></th>\n",
       "      <th></th>\n",
       "      <th></th>\n",
       "      <th></th>\n",
       "      <th></th>\n",
       "      <th></th>\n",
       "      <th></th>\n",
       "      <th></th>\n",
       "      <th></th>\n",
       "    </tr>\n",
       "  </thead>\n",
       "  <tbody>\n",
       "    <tr>\n",
       "      <th>CA02</th>\n",
       "      <td>3100</td>\n",
       "      <td>3100</td>\n",
       "      <td>3100</td>\n",
       "      <td>3100</td>\n",
       "      <td>3100</td>\n",
       "      <td>3100</td>\n",
       "      <td>3100</td>\n",
       "      <td>3100</td>\n",
       "      <td>3100</td>\n",
       "      <td>3100</td>\n",
       "      <td>3100</td>\n",
       "      <td>3100</td>\n",
       "      <td>3100</td>\n",
       "      <td>3100</td>\n",
       "      <td>3100</td>\n",
       "    </tr>\n",
       "    <tr>\n",
       "      <th>U001</th>\n",
       "      <td>34393</td>\n",
       "      <td>34393</td>\n",
       "      <td>34393</td>\n",
       "      <td>34393</td>\n",
       "      <td>34393</td>\n",
       "      <td>34393</td>\n",
       "      <td>34393</td>\n",
       "      <td>34393</td>\n",
       "      <td>34393</td>\n",
       "      <td>34393</td>\n",
       "      <td>34393</td>\n",
       "      <td>34393</td>\n",
       "      <td>34393</td>\n",
       "      <td>34393</td>\n",
       "      <td>34393</td>\n",
       "    </tr>\n",
       "    <tr>\n",
       "      <th>U002</th>\n",
       "      <td>140</td>\n",
       "      <td>140</td>\n",
       "      <td>140</td>\n",
       "      <td>140</td>\n",
       "      <td>140</td>\n",
       "      <td>140</td>\n",
       "      <td>140</td>\n",
       "      <td>140</td>\n",
       "      <td>140</td>\n",
       "      <td>140</td>\n",
       "      <td>140</td>\n",
       "      <td>140</td>\n",
       "      <td>140</td>\n",
       "      <td>140</td>\n",
       "      <td>140</td>\n",
       "    </tr>\n",
       "    <tr>\n",
       "      <th>U005</th>\n",
       "      <td>11</td>\n",
       "      <td>11</td>\n",
       "      <td>11</td>\n",
       "      <td>11</td>\n",
       "      <td>11</td>\n",
       "      <td>11</td>\n",
       "      <td>11</td>\n",
       "      <td>11</td>\n",
       "      <td>11</td>\n",
       "      <td>11</td>\n",
       "      <td>11</td>\n",
       "      <td>11</td>\n",
       "      <td>11</td>\n",
       "      <td>11</td>\n",
       "      <td>11</td>\n",
       "    </tr>\n",
       "    <tr>\n",
       "      <th>U013</th>\n",
       "      <td>514</td>\n",
       "      <td>514</td>\n",
       "      <td>514</td>\n",
       "      <td>514</td>\n",
       "      <td>514</td>\n",
       "      <td>514</td>\n",
       "      <td>514</td>\n",
       "      <td>514</td>\n",
       "      <td>514</td>\n",
       "      <td>514</td>\n",
       "      <td>514</td>\n",
       "      <td>514</td>\n",
       "      <td>514</td>\n",
       "      <td>514</td>\n",
       "      <td>514</td>\n",
       "    </tr>\n",
       "  </tbody>\n",
       "</table>\n",
       "</div>"
      ],
      "text/plain": [
       "               cust_number  name_customer  ...  isOpen  target_delay\n",
       "business_code                              ...                      \n",
       "CA02                  3100           3100  ...    3100          3100\n",
       "U001                 34393          34393  ...   34393         34393\n",
       "U002                   140            140  ...     140           140\n",
       "U005                    11             11  ...      11            11\n",
       "U013                   514            514  ...     514           514\n",
       "\n",
       "[5 rows x 15 columns]"
      ]
     },
     "execution_count": 61,
     "metadata": {
      "tags": []
     },
     "output_type": "execute_result"
    }
   ],
   "source": [
    "#converting to numerical columns\n",
    "\n",
    "#1.Business code\n",
    "from sklearn.preprocessing import LabelEncoder\n",
    "labelencoder = LabelEncoder()\n",
    "train_set.groupby(['business_code']).count()\n",
    "\n"
   ]
  },
  {
   "cell_type": "code",
   "execution_count": 62,
   "metadata": {
    "colab": {
     "base_uri": "https://localhost:8080/",
     "height": 505
    },
    "id": "V7dQKe987yJj",
    "outputId": "9341b416-208e-46f4-e610-5208c42d5d07"
   },
   "outputs": [
    {
     "data": {
      "text/html": [
       "<div>\n",
       "<style scoped>\n",
       "    .dataframe tbody tr th:only-of-type {\n",
       "        vertical-align: middle;\n",
       "    }\n",
       "\n",
       "    .dataframe tbody tr th {\n",
       "        vertical-align: top;\n",
       "    }\n",
       "\n",
       "    .dataframe thead th {\n",
       "        text-align: right;\n",
       "    }\n",
       "</style>\n",
       "<table border=\"1\" class=\"dataframe\">\n",
       "  <thead>\n",
       "    <tr style=\"text-align: right;\">\n",
       "      <th></th>\n",
       "      <th>business_code</th>\n",
       "      <th>cust_number</th>\n",
       "      <th>name_customer</th>\n",
       "      <th>clear_date</th>\n",
       "      <th>buisness_year</th>\n",
       "      <th>doc_id</th>\n",
       "      <th>posting_date</th>\n",
       "      <th>document_create_date</th>\n",
       "      <th>document_create_date.1</th>\n",
       "      <th>due_in_date</th>\n",
       "      <th>invoice_currency</th>\n",
       "      <th>total_open_amount</th>\n",
       "      <th>baseline_create_date</th>\n",
       "      <th>cust_payment_terms</th>\n",
       "      <th>isOpen</th>\n",
       "      <th>target_delay</th>\n",
       "    </tr>\n",
       "  </thead>\n",
       "  <tbody>\n",
       "    <tr>\n",
       "      <th>0</th>\n",
       "      <td>1</td>\n",
       "      <td>0200780383</td>\n",
       "      <td>MEIJ corporation</td>\n",
       "      <td>2019-09-26</td>\n",
       "      <td>2019</td>\n",
       "      <td>1.92986e+09</td>\n",
       "      <td>2019-09-11</td>\n",
       "      <td>2019-09-10</td>\n",
       "      <td>2019-09-11</td>\n",
       "      <td>2019-09-26</td>\n",
       "      <td>USD</td>\n",
       "      <td>51844.8</td>\n",
       "      <td>2019-09-11</td>\n",
       "      <td>NAA8</td>\n",
       "      <td>0</td>\n",
       "      <td>0</td>\n",
       "    </tr>\n",
       "    <tr>\n",
       "      <th>1</th>\n",
       "      <td>1</td>\n",
       "      <td>0200762301</td>\n",
       "      <td>C&amp;S WH corporation</td>\n",
       "      <td>2019-09-10</td>\n",
       "      <td>2019</td>\n",
       "      <td>1.92979e+09</td>\n",
       "      <td>2019-08-25</td>\n",
       "      <td>2019-08-24</td>\n",
       "      <td>2019-08-25</td>\n",
       "      <td>2019-09-09</td>\n",
       "      <td>USD</td>\n",
       "      <td>62110.4</td>\n",
       "      <td>2019-08-25</td>\n",
       "      <td>NAC6</td>\n",
       "      <td>0</td>\n",
       "      <td>1</td>\n",
       "    </tr>\n",
       "    <tr>\n",
       "      <th>3</th>\n",
       "      <td>1</td>\n",
       "      <td>100053926</td>\n",
       "      <td>CALD trust</td>\n",
       "      <td>2019-08-21</td>\n",
       "      <td>2019</td>\n",
       "      <td>1.92952e+09</td>\n",
       "      <td>2019-06-20</td>\n",
       "      <td>2019-06-20</td>\n",
       "      <td>2019-06-20</td>\n",
       "      <td>2019-08-19</td>\n",
       "      <td>USD</td>\n",
       "      <td>1382.94</td>\n",
       "      <td>2019-06-20</td>\n",
       "      <td>NAVQ</td>\n",
       "      <td>0</td>\n",
       "      <td>2</td>\n",
       "    </tr>\n",
       "    <tr>\n",
       "      <th>4</th>\n",
       "      <td>1</td>\n",
       "      <td>0200739534</td>\n",
       "      <td>OK llc</td>\n",
       "      <td>2019-06-26</td>\n",
       "      <td>2019</td>\n",
       "      <td>1.92946e+09</td>\n",
       "      <td>2019-06-07</td>\n",
       "      <td>2019-06-07</td>\n",
       "      <td>2019-06-07</td>\n",
       "      <td>2019-06-22</td>\n",
       "      <td>USD</td>\n",
       "      <td>85407.3</td>\n",
       "      <td>2019-06-07</td>\n",
       "      <td>NAA8</td>\n",
       "      <td>0</td>\n",
       "      <td>4</td>\n",
       "    </tr>\n",
       "    <tr>\n",
       "      <th>5</th>\n",
       "      <td>1</td>\n",
       "      <td>0200337148</td>\n",
       "      <td>COAS co</td>\n",
       "      <td>2019-06-27</td>\n",
       "      <td>2019</td>\n",
       "      <td>1.92948e+09</td>\n",
       "      <td>2019-06-12</td>\n",
       "      <td>2019-06-12</td>\n",
       "      <td>2019-06-12</td>\n",
       "      <td>2019-06-27</td>\n",
       "      <td>USD</td>\n",
       "      <td>47117.7</td>\n",
       "      <td>2019-06-12</td>\n",
       "      <td>NAA8</td>\n",
       "      <td>0</td>\n",
       "      <td>0</td>\n",
       "    </tr>\n",
       "    <tr>\n",
       "      <th>...</th>\n",
       "      <td>...</td>\n",
       "      <td>...</td>\n",
       "      <td>...</td>\n",
       "      <td>...</td>\n",
       "      <td>...</td>\n",
       "      <td>...</td>\n",
       "      <td>...</td>\n",
       "      <td>...</td>\n",
       "      <td>...</td>\n",
       "      <td>...</td>\n",
       "      <td>...</td>\n",
       "      <td>...</td>\n",
       "      <td>...</td>\n",
       "      <td>...</td>\n",
       "      <td>...</td>\n",
       "      <td>...</td>\n",
       "    </tr>\n",
       "    <tr>\n",
       "      <th>45458</th>\n",
       "      <td>1</td>\n",
       "      <td>0200769623</td>\n",
       "      <td>WAL-MAR associates</td>\n",
       "      <td>2019-02-27</td>\n",
       "      <td>2019</td>\n",
       "      <td>1.9288e+09</td>\n",
       "      <td>2019-02-15</td>\n",
       "      <td>2019-02-14</td>\n",
       "      <td>2019-02-15</td>\n",
       "      <td>2019-03-02</td>\n",
       "      <td>USD</td>\n",
       "      <td>10435.8</td>\n",
       "      <td>2019-02-15</td>\n",
       "      <td>NAH4</td>\n",
       "      <td>0</td>\n",
       "      <td>-3</td>\n",
       "    </tr>\n",
       "    <tr>\n",
       "      <th>45460</th>\n",
       "      <td>1</td>\n",
       "      <td>0200792734</td>\n",
       "      <td>MDV/ systems</td>\n",
       "      <td>2019-10-30</td>\n",
       "      <td>2019</td>\n",
       "      <td>1.92977e+09</td>\n",
       "      <td>2019-08-27</td>\n",
       "      <td>2019-08-21</td>\n",
       "      <td>2019-08-27</td>\n",
       "      <td>2019-10-31</td>\n",
       "      <td>USD</td>\n",
       "      <td>11949.1</td>\n",
       "      <td>2019-08-27</td>\n",
       "      <td>NAGD</td>\n",
       "      <td>0</td>\n",
       "      <td>-1</td>\n",
       "    </tr>\n",
       "    <tr>\n",
       "      <th>45461</th>\n",
       "      <td>0</td>\n",
       "      <td>0140106099</td>\n",
       "      <td>SOCIETE  foundation</td>\n",
       "      <td>2019-05-09</td>\n",
       "      <td>2019</td>\n",
       "      <td>2.96054e+09</td>\n",
       "      <td>2019-04-24</td>\n",
       "      <td>2019-04-24</td>\n",
       "      <td>2019-04-24</td>\n",
       "      <td>2019-05-06</td>\n",
       "      <td>CAD</td>\n",
       "      <td>27441</td>\n",
       "      <td>2019-04-26</td>\n",
       "      <td>CA10</td>\n",
       "      <td>0</td>\n",
       "      <td>3</td>\n",
       "    </tr>\n",
       "    <tr>\n",
       "      <th>45462</th>\n",
       "      <td>1</td>\n",
       "      <td>200126819</td>\n",
       "      <td>MCLANE trust</td>\n",
       "      <td>2019-02-13</td>\n",
       "      <td>2019</td>\n",
       "      <td>1.92865e+09</td>\n",
       "      <td>2019-01-24</td>\n",
       "      <td>2019-01-21</td>\n",
       "      <td>2019-01-24</td>\n",
       "      <td>2019-02-08</td>\n",
       "      <td>USD</td>\n",
       "      <td>13976</td>\n",
       "      <td>2019-01-24</td>\n",
       "      <td>NAA8</td>\n",
       "      <td>0</td>\n",
       "      <td>5</td>\n",
       "    </tr>\n",
       "    <tr>\n",
       "      <th>45463</th>\n",
       "      <td>1</td>\n",
       "      <td>0200742791</td>\n",
       "      <td>QUI us</td>\n",
       "      <td>2019-07-18</td>\n",
       "      <td>2019</td>\n",
       "      <td>1.92956e+09</td>\n",
       "      <td>2019-06-29</td>\n",
       "      <td>2019-06-28</td>\n",
       "      <td>2019-06-29</td>\n",
       "      <td>2019-07-14</td>\n",
       "      <td>USD</td>\n",
       "      <td>4343.4</td>\n",
       "      <td>2019-06-29</td>\n",
       "      <td>NAA8</td>\n",
       "      <td>0</td>\n",
       "      <td>4</td>\n",
       "    </tr>\n",
       "  </tbody>\n",
       "</table>\n",
       "<p>38158 rows × 16 columns</p>\n",
       "</div>"
      ],
      "text/plain": [
       "       business_code cust_number  ... isOpen target_delay\n",
       "0                  1  0200780383  ...      0            0\n",
       "1                  1  0200762301  ...      0            1\n",
       "3                  1   100053926  ...      0            2\n",
       "4                  1  0200739534  ...      0            4\n",
       "5                  1  0200337148  ...      0            0\n",
       "...              ...         ...  ...    ...          ...\n",
       "45458              1  0200769623  ...      0           -3\n",
       "45460              1  0200792734  ...      0           -1\n",
       "45461              0  0140106099  ...      0            3\n",
       "45462              1   200126819  ...      0            5\n",
       "45463              1  0200742791  ...      0            4\n",
       "\n",
       "[38158 rows x 16 columns]"
      ]
     },
     "execution_count": 62,
     "metadata": {
      "tags": []
     },
     "output_type": "execute_result"
    }
   ],
   "source": [
    "#label encoding in business code\n",
    "labelencoder = LabelEncoder()\n",
    "\n",
    "train_set['business_code'] = labelencoder.fit_transform(train_set['business_code'])\n",
    "test_data['business_code'] = labelencoder.transform(test_data['business_code'])\n",
    "\n",
    "val1['business_code'] = labelencoder.transform(val1['business_code'])\n",
    "\n",
    "val2['business_code'] = labelencoder.transform(val2['business_code'])\n",
    "\n",
    "train_set\n",
    "\n",
    "\n"
   ]
  },
  {
   "cell_type": "code",
   "execution_count": 63,
   "metadata": {
    "colab": {
     "base_uri": "https://localhost:8080/"
    },
    "id": "APP6GNpZ70-w",
    "outputId": "36e075b0-925f-4ba7-dfd9-86363f4da28e"
   },
   "outputs": [
    {
     "data": {
      "text/plain": [
       "count    38158.000000\n",
       "mean         0.963415\n",
       "std          0.453831\n",
       "min          0.000000\n",
       "25%          1.000000\n",
       "50%          1.000000\n",
       "75%          1.000000\n",
       "max          4.000000\n",
       "Name: business_code, dtype: float64"
      ]
     },
     "execution_count": 63,
     "metadata": {
      "tags": []
     },
     "output_type": "execute_result"
    }
   ],
   "source": [
    "train_set['business_code'].describe()"
   ]
  },
  {
   "cell_type": "code",
   "execution_count": 64,
   "metadata": {
    "colab": {
     "base_uri": "https://localhost:8080/"
    },
    "id": "z-iD2Nlg73Ag",
    "outputId": "0a752dd8-c4c4-40b5-ef7a-9590f92b2969"
   },
   "outputs": [
    {
     "data": {
      "text/plain": [
       "-0.005484321398166932"
      ]
     },
     "execution_count": 64,
     "metadata": {
      "tags": []
     },
     "output_type": "execute_result"
    }
   ],
   "source": [
    "train_set['business_code'].corr(train_set['target_delay'])"
   ]
  },
  {
   "cell_type": "code",
   "execution_count": 65,
   "metadata": {
    "colab": {
     "base_uri": "https://localhost:8080/"
    },
    "id": "GX94zBS475Tr",
    "outputId": "ea163d1c-4083-4388-e968-4f7959c24d56"
   },
   "outputs": [
    {
     "data": {
      "text/plain": [
       "1362"
      ]
     },
     "execution_count": 65,
     "metadata": {
      "tags": []
     },
     "output_type": "execute_result"
    }
   ],
   "source": [
    "#### checking for customer number\n",
    "len(pd.unique(train_set['cust_number'])) \n"
   ]
  },
  {
   "cell_type": "code",
   "execution_count": 66,
   "metadata": {
    "id": "HWX7VCBo77db"
   },
   "outputs": [],
   "source": [
    "###business year is constant drop\n",
    "train_set.drop(['buisness_year'],axis=1,inplace=True)"
   ]
  },
  {
   "cell_type": "code",
   "execution_count": 67,
   "metadata": {
    "colab": {
     "base_uri": "https://localhost:8080/"
    },
    "id": "0MckAiO879Z-",
    "outputId": "28dc1e66-1866-4608-beab-54910126aab0"
   },
   "outputs": [
    {
     "data": {
      "text/plain": [
       "71"
      ]
     },
     "execution_count": 67,
     "metadata": {
      "tags": []
     },
     "output_type": "execute_result"
    }
   ],
   "source": [
    "len(pd.unique(train_set['cust_payment_terms'])) "
   ]
  },
  {
   "cell_type": "code",
   "execution_count": 68,
   "metadata": {
    "colab": {
     "base_uri": "https://localhost:8080/"
    },
    "id": "ZOzqirWf7_VC",
    "outputId": "a9ff70be-b86c-4c5f-9513-2f470b366522"
   },
   "outputs": [
    {
     "data": {
      "text/plain": [
       "NAA8      1873\n",
       "NAH4      1345\n",
       "CA10       327\n",
       "NAC6       192\n",
       "NAM4       134\n",
       "NAGD       131\n",
       "NAAX        98\n",
       "NAU5        97\n",
       "NAM2        52\n",
       "NAG2        43\n",
       "others      40\n",
       "NAD1        38\n",
       "NA32        37\n",
       "NA10        28\n",
       "NAX2        23\n",
       "NAD5        21\n",
       "NAAW        20\n",
       "NAM1        18\n",
       "NAVE        12\n",
       "Name: cust_payment_terms, dtype: int64"
      ]
     },
     "execution_count": 68,
     "metadata": {
      "tags": []
     },
     "output_type": "execute_result"
    }
   ],
   "source": [
    "#replace cust_payment_terms having values < 12 as others and then encoding\n",
    "threshlold = 0.000250\n",
    "   \n",
    "    # locate all the categories that are not rare.\n",
    "counts = train_set.groupby(['cust_payment_terms'])['cust_payment_terms'].count() / len(train_set)\n",
    "counts_tst = test_data.groupby(['cust_payment_terms'])['cust_payment_terms'].count() / len(train_set)\n",
    "counts_val1 = val1.groupby(['cust_payment_terms'])['cust_payment_terms'].count() / len(train_set)\n",
    "counts_val2 = val2.groupby(['cust_payment_terms'])['cust_payment_terms'].count() / len(train_set)\n",
    "frequent_labels = [x for x in counts.loc[counts>threshlold].index.values]\n",
    "frequent_labels_tst = [x for x in counts_tst.loc[counts_tst>threshlold].index.values]\n",
    "frequent_labels_val1 = [x for x in counts_val1.loc[counts_val1>threshlold].index.values]\n",
    "frequent_labels_val2 = [x for x in counts_val2.loc[counts_val2>threshlold].index.values]\n",
    "    # change the rare category names with the word rare, and thus encoding it.\n",
    "train_set['cust_payment_terms'] = np.where(train_set['cust_payment_terms'].isin(frequent_labels), train_set['cust_payment_terms'], 'others')\n",
    "test_data['cust_payment_terms'] = np.where(test_data['cust_payment_terms'].isin(frequent_labels_tst), test_data['cust_payment_terms'], 'others')\n",
    "val1['cust_payment_terms'] = np.where(val1['cust_payment_terms'].isin(frequent_labels_val1), val1['cust_payment_terms'], 'others')\n",
    "val2['cust_payment_terms'] = np.where(val2['cust_payment_terms'].isin(frequent_labels_val2), val2['cust_payment_terms'], 'others')\n",
    "\n",
    "\n",
    "test_data['cust_payment_terms'].value_counts()\n"
   ]
  },
  {
   "cell_type": "code",
   "execution_count": 69,
   "metadata": {
    "colab": {
     "base_uri": "https://localhost:8080/"
    },
    "id": "0U_nqQNd8JOF",
    "outputId": "681eb79c-9007-4629-8fa7-9d6f8d89326c"
   },
   "outputs": [
    {
     "data": {
      "text/plain": [
       "37"
      ]
     },
     "execution_count": 69,
     "metadata": {
      "tags": []
     },
     "output_type": "execute_result"
    }
   ],
   "source": [
    "train_set['cust_payment_terms'] = labelencoder.fit_transform(train_set['cust_payment_terms'])\n",
    "test_data['cust_payment_terms'] = labelencoder.transform(test_data['cust_payment_terms'])\n",
    "val1['cust_payment_terms'] = labelencoder.transform(val1['cust_payment_terms'])\n",
    "val2['cust_payment_terms'] = labelencoder.transform(val2['cust_payment_terms'])\n",
    "train_set['cust_payment_terms'].max()"
   ]
  },
  {
   "cell_type": "code",
   "execution_count": 70,
   "metadata": {
    "colab": {
     "base_uri": "https://localhost:8080/"
    },
    "id": "yIdXCsGj8LSr",
    "outputId": "719f4614-1119-4d7b-9dcf-63d40093b859"
   },
   "outputs": [
    {
     "data": {
      "text/plain": [
       "3895"
      ]
     },
     "execution_count": 70,
     "metadata": {
      "tags": []
     },
     "output_type": "execute_result"
    }
   ],
   "source": [
    "##Now similarly encoding name_customer\n",
    "len(pd.unique(train_set['name_customer'])) "
   ]
  },
  {
   "cell_type": "code",
   "execution_count": 71,
   "metadata": {
    "colab": {
     "base_uri": "https://localhost:8080/"
    },
    "id": "4tDg8kNO8NR-",
    "outputId": "30685aa2-112e-49d6-b7f4-01ae04c2414f"
   },
   "outputs": [
    {
     "data": {
      "text/plain": [
       "others                1342\n",
       "WAL-MAR in             127\n",
       "WAL-MAR foundation     121\n",
       "WAL-MAR systems        120\n",
       "WAL-MAR trust          116\n",
       "                      ... \n",
       "DOT llc                  4\n",
       "US  corp                 4\n",
       "DECA associates          4\n",
       "SAFEW corp               4\n",
       "SAFEW co                 4\n",
       "Name: name_customer, Length: 256, dtype: int64"
      ]
     },
     "execution_count": 71,
     "metadata": {
      "tags": []
     },
     "output_type": "execute_result"
    }
   ],
   "source": [
    "threshlold = 0.000100\n",
    "####Grouping rare labels as others\n",
    "counts = train_set.groupby(['name_customer'])['name_customer'].count() / len(train_set)\n",
    "counts_tst = test_data.groupby(['name_customer'])['name_customer'].count() / len(train_set)\n",
    "counts_val1 = val1.groupby(['name_customer'])['name_customer'].count() / len(train_set)\n",
    "counts_val2 = val2.groupby(['name_customer'])['name_customer'].count() / len(train_set)\n",
    "frequent_labels = [x for x in counts.loc[counts>threshlold].index.values]\n",
    "frequent_labels_tst = [x for x in counts_tst.loc[counts_tst>threshlold].index.values]\n",
    "frequent_labels_val1 = [x for x in counts_val1.loc[counts_val1>threshlold].index.values]\n",
    "frequent_labels_val2 = [x for x in counts_val2.loc[counts_val2>threshlold].index.values]\n",
    "    # change the rare category names with the word rare, and thus encoding it.\n",
    "train_set['name_customer'] = np.where(train_set['name_customer'].isin(frequent_labels), train_set['name_customer'], 'others')\n",
    "test_data['name_customer'] = np.where(test_data['name_customer'].isin(frequent_labels_tst), test_data['name_customer'], 'others')\n",
    "val1['name_customer'] = np.where(val1['name_customer'].isin(frequent_labels_val1), val1['name_customer'], 'others')\n",
    "val2['name_customer'] = np.where(val2['name_customer'].isin(frequent_labels_val2), val2['name_customer'], 'others')\n",
    "\n",
    "\n",
    "test_data['name_customer'].value_counts()\n"
   ]
  },
  {
   "cell_type": "code",
   "execution_count": 72,
   "metadata": {
    "colab": {
     "base_uri": "https://localhost:8080/"
    },
    "id": "xPRzsXUm8Pb7",
    "outputId": "79b9d0ea-1d11-4b97-d468-c10aa735253c"
   },
   "outputs": [
    {
     "data": {
      "text/plain": [
       "others               3798\n",
       "WAL-MAR corp          854\n",
       "WAL-MAR co            837\n",
       "WAL-MAR llc           827\n",
       "WAL-MAR trust         819\n",
       "                     ... \n",
       "BAS co                  4\n",
       "RICH                    4\n",
       "BARGAIN  corp           4\n",
       "ASSOCI associates       4\n",
       "SCHNU foundation        4\n",
       "Name: name_customer, Length: 1269, dtype: int64"
      ]
     },
     "execution_count": 72,
     "metadata": {
      "tags": []
     },
     "output_type": "execute_result"
    }
   ],
   "source": [
    "train_set['name_customer'].value_counts()\n"
   ]
  },
  {
   "cell_type": "code",
   "execution_count": 73,
   "metadata": {
    "colab": {
     "base_uri": "https://localhost:8080/",
     "height": 435
    },
    "id": "Nk9GZCW_8TNX",
    "outputId": "5d0b7adf-8f22-49f3-c09a-487d5c59402b"
   },
   "outputs": [
    {
     "data": {
      "text/html": [
       "<div>\n",
       "<style scoped>\n",
       "    .dataframe tbody tr th:only-of-type {\n",
       "        vertical-align: middle;\n",
       "    }\n",
       "\n",
       "    .dataframe tbody tr th {\n",
       "        vertical-align: top;\n",
       "    }\n",
       "\n",
       "    .dataframe thead th {\n",
       "        text-align: right;\n",
       "    }\n",
       "</style>\n",
       "<table border=\"1\" class=\"dataframe\">\n",
       "  <thead>\n",
       "    <tr style=\"text-align: right;\">\n",
       "      <th></th>\n",
       "      <th>business_code</th>\n",
       "      <th>cust_number</th>\n",
       "      <th>name_customer</th>\n",
       "      <th>clear_date</th>\n",
       "      <th>doc_id</th>\n",
       "      <th>posting_date</th>\n",
       "      <th>document_create_date</th>\n",
       "      <th>document_create_date.1</th>\n",
       "      <th>due_in_date</th>\n",
       "      <th>invoice_currency</th>\n",
       "      <th>total_open_amount</th>\n",
       "      <th>baseline_create_date</th>\n",
       "      <th>cust_payment_terms</th>\n",
       "      <th>isOpen</th>\n",
       "      <th>target_delay</th>\n",
       "    </tr>\n",
       "  </thead>\n",
       "  <tbody>\n",
       "    <tr>\n",
       "      <th>0</th>\n",
       "      <td>1</td>\n",
       "      <td>0200780383</td>\n",
       "      <td>2.076923</td>\n",
       "      <td>2019-09-26</td>\n",
       "      <td>1.92986e+09</td>\n",
       "      <td>2019-09-11</td>\n",
       "      <td>2019-09-10</td>\n",
       "      <td>2019-09-11</td>\n",
       "      <td>2019-09-26</td>\n",
       "      <td>USD</td>\n",
       "      <td>51844.8</td>\n",
       "      <td>2019-09-11</td>\n",
       "      <td>9</td>\n",
       "      <td>0</td>\n",
       "      <td>0</td>\n",
       "    </tr>\n",
       "    <tr>\n",
       "      <th>1</th>\n",
       "      <td>1</td>\n",
       "      <td>0200762301</td>\n",
       "      <td>0.078947</td>\n",
       "      <td>2019-09-10</td>\n",
       "      <td>1.92979e+09</td>\n",
       "      <td>2019-08-25</td>\n",
       "      <td>2019-08-24</td>\n",
       "      <td>2019-08-25</td>\n",
       "      <td>2019-09-09</td>\n",
       "      <td>USD</td>\n",
       "      <td>62110.4</td>\n",
       "      <td>2019-08-25</td>\n",
       "      <td>14</td>\n",
       "      <td>0</td>\n",
       "      <td>1</td>\n",
       "    </tr>\n",
       "    <tr>\n",
       "      <th>3</th>\n",
       "      <td>1</td>\n",
       "      <td>100053926</td>\n",
       "      <td>2.243023</td>\n",
       "      <td>2019-08-21</td>\n",
       "      <td>1.92952e+09</td>\n",
       "      <td>2019-06-20</td>\n",
       "      <td>2019-06-20</td>\n",
       "      <td>2019-06-20</td>\n",
       "      <td>2019-08-19</td>\n",
       "      <td>USD</td>\n",
       "      <td>1382.94</td>\n",
       "      <td>2019-06-20</td>\n",
       "      <td>31</td>\n",
       "      <td>0</td>\n",
       "      <td>2</td>\n",
       "    </tr>\n",
       "    <tr>\n",
       "      <th>4</th>\n",
       "      <td>1</td>\n",
       "      <td>0200739534</td>\n",
       "      <td>1.133333</td>\n",
       "      <td>2019-06-26</td>\n",
       "      <td>1.92946e+09</td>\n",
       "      <td>2019-06-07</td>\n",
       "      <td>2019-06-07</td>\n",
       "      <td>2019-06-07</td>\n",
       "      <td>2019-06-22</td>\n",
       "      <td>USD</td>\n",
       "      <td>85407.3</td>\n",
       "      <td>2019-06-07</td>\n",
       "      <td>9</td>\n",
       "      <td>0</td>\n",
       "      <td>4</td>\n",
       "    </tr>\n",
       "    <tr>\n",
       "      <th>5</th>\n",
       "      <td>1</td>\n",
       "      <td>0200337148</td>\n",
       "      <td>-0.333333</td>\n",
       "      <td>2019-06-27</td>\n",
       "      <td>1.92948e+09</td>\n",
       "      <td>2019-06-12</td>\n",
       "      <td>2019-06-12</td>\n",
       "      <td>2019-06-12</td>\n",
       "      <td>2019-06-27</td>\n",
       "      <td>USD</td>\n",
       "      <td>47117.7</td>\n",
       "      <td>2019-06-12</td>\n",
       "      <td>9</td>\n",
       "      <td>0</td>\n",
       "      <td>0</td>\n",
       "    </tr>\n",
       "    <tr>\n",
       "      <th>...</th>\n",
       "      <td>...</td>\n",
       "      <td>...</td>\n",
       "      <td>...</td>\n",
       "      <td>...</td>\n",
       "      <td>...</td>\n",
       "      <td>...</td>\n",
       "      <td>...</td>\n",
       "      <td>...</td>\n",
       "      <td>...</td>\n",
       "      <td>...</td>\n",
       "      <td>...</td>\n",
       "      <td>...</td>\n",
       "      <td>...</td>\n",
       "      <td>...</td>\n",
       "      <td>...</td>\n",
       "    </tr>\n",
       "    <tr>\n",
       "      <th>45458</th>\n",
       "      <td>1</td>\n",
       "      <td>0200769623</td>\n",
       "      <td>-2.286070</td>\n",
       "      <td>2019-02-27</td>\n",
       "      <td>1.9288e+09</td>\n",
       "      <td>2019-02-15</td>\n",
       "      <td>2019-02-14</td>\n",
       "      <td>2019-02-15</td>\n",
       "      <td>2019-03-02</td>\n",
       "      <td>USD</td>\n",
       "      <td>10435.8</td>\n",
       "      <td>2019-02-15</td>\n",
       "      <td>21</td>\n",
       "      <td>0</td>\n",
       "      <td>-3</td>\n",
       "    </tr>\n",
       "    <tr>\n",
       "      <th>45460</th>\n",
       "      <td>1</td>\n",
       "      <td>0200792734</td>\n",
       "      <td>0.812500</td>\n",
       "      <td>2019-10-30</td>\n",
       "      <td>1.92977e+09</td>\n",
       "      <td>2019-08-27</td>\n",
       "      <td>2019-08-21</td>\n",
       "      <td>2019-08-27</td>\n",
       "      <td>2019-10-31</td>\n",
       "      <td>USD</td>\n",
       "      <td>11949.1</td>\n",
       "      <td>2019-08-27</td>\n",
       "      <td>20</td>\n",
       "      <td>0</td>\n",
       "      <td>-1</td>\n",
       "    </tr>\n",
       "    <tr>\n",
       "      <th>45461</th>\n",
       "      <td>0</td>\n",
       "      <td>0140106099</td>\n",
       "      <td>2.243023</td>\n",
       "      <td>2019-05-09</td>\n",
       "      <td>2.96054e+09</td>\n",
       "      <td>2019-04-24</td>\n",
       "      <td>2019-04-24</td>\n",
       "      <td>2019-04-24</td>\n",
       "      <td>2019-05-06</td>\n",
       "      <td>CAD</td>\n",
       "      <td>27441</td>\n",
       "      <td>2019-04-26</td>\n",
       "      <td>1</td>\n",
       "      <td>0</td>\n",
       "      <td>3</td>\n",
       "    </tr>\n",
       "    <tr>\n",
       "      <th>45462</th>\n",
       "      <td>1</td>\n",
       "      <td>200126819</td>\n",
       "      <td>4.714286</td>\n",
       "      <td>2019-02-13</td>\n",
       "      <td>1.92865e+09</td>\n",
       "      <td>2019-01-24</td>\n",
       "      <td>2019-01-21</td>\n",
       "      <td>2019-01-24</td>\n",
       "      <td>2019-02-08</td>\n",
       "      <td>USD</td>\n",
       "      <td>13976</td>\n",
       "      <td>2019-01-24</td>\n",
       "      <td>9</td>\n",
       "      <td>0</td>\n",
       "      <td>5</td>\n",
       "    </tr>\n",
       "    <tr>\n",
       "      <th>45463</th>\n",
       "      <td>1</td>\n",
       "      <td>0200742791</td>\n",
       "      <td>-6.285714</td>\n",
       "      <td>2019-07-18</td>\n",
       "      <td>1.92956e+09</td>\n",
       "      <td>2019-06-29</td>\n",
       "      <td>2019-06-28</td>\n",
       "      <td>2019-06-29</td>\n",
       "      <td>2019-07-14</td>\n",
       "      <td>USD</td>\n",
       "      <td>4343.4</td>\n",
       "      <td>2019-06-29</td>\n",
       "      <td>9</td>\n",
       "      <td>0</td>\n",
       "      <td>4</td>\n",
       "    </tr>\n",
       "  </tbody>\n",
       "</table>\n",
       "<p>38158 rows × 15 columns</p>\n",
       "</div>"
      ],
      "text/plain": [
       "       business_code cust_number  ...  isOpen target_delay\n",
       "0                  1  0200780383  ...       0            0\n",
       "1                  1  0200762301  ...       0            1\n",
       "3                  1   100053926  ...       0            2\n",
       "4                  1  0200739534  ...       0            4\n",
       "5                  1  0200337148  ...       0            0\n",
       "...              ...         ...  ...     ...          ...\n",
       "45458              1  0200769623  ...       0           -3\n",
       "45460              1  0200792734  ...       0           -1\n",
       "45461              0  0140106099  ...       0            3\n",
       "45462              1   200126819  ...       0            5\n",
       "45463              1  0200742791  ...       0            4\n",
       "\n",
       "[38158 rows x 15 columns]"
      ]
     },
     "execution_count": 73,
     "metadata": {
      "tags": []
     },
     "output_type": "execute_result"
    }
   ],
   "source": [
    "#target encoding in name customer\n",
    "target_mapper = train_set.groupby('name_customer')['target_delay'].mean().to_dict()\n",
    "train_set['name_customer'] = train_set['name_customer'].map(target_mapper)\n",
    "test_data['name_customer'] = test_data['name_customer'].map(target_mapper)\n",
    "val1['name_customer'] = val1['name_customer'].map(target_mapper)\n",
    "val2['name_customer'] = val2['name_customer'].map(target_mapper)\n",
    "train_set\n"
   ]
  },
  {
   "cell_type": "code",
   "execution_count": 74,
   "metadata": {
    "colab": {
     "base_uri": "https://localhost:8080/"
    },
    "id": "pUww9Rzs8V4U",
    "outputId": "8dfbee61-e350-47f0-e2e0-13649985c159"
   },
   "outputs": [
    {
     "data": {
      "text/plain": [
       "734"
      ]
     },
     "execution_count": 74,
     "metadata": {
      "tags": []
     },
     "output_type": "execute_result"
    }
   ],
   "source": [
    "len(pd.unique(train_set['name_customer'])) \n"
   ]
  },
  {
   "cell_type": "code",
   "execution_count": 75,
   "metadata": {
    "colab": {
     "base_uri": "https://localhost:8080/"
    },
    "id": "oo16gQUQ8X_2",
    "outputId": "ee25c9cf-f4d3-44e4-a32c-09041148c219"
   },
   "outputs": [
    {
     "data": {
      "text/plain": [
       "0.5921522380097841"
      ]
     },
     "execution_count": 75,
     "metadata": {
      "tags": []
     },
     "output_type": "execute_result"
    }
   ],
   "source": [
    "train_set['name_customer'].corr(train_set['target_delay'])"
   ]
  },
  {
   "cell_type": "code",
   "execution_count": 77,
   "metadata": {
    "colab": {
     "base_uri": "https://localhost:8080/"
    },
    "id": "e8Ew01uV8aVS",
    "outputId": "a789e3f5-5d53-4169-91db-e8606465dba8"
   },
   "outputs": [
    {
     "data": {
      "text/plain": [
       "0200769623    1135\n",
       "others         935\n",
       "0200762301     179\n",
       "0200726979     159\n",
       "0200744019     144\n",
       "              ... \n",
       "0200920735      10\n",
       "0200466603      10\n",
       "0200290370      10\n",
       "0200714710      10\n",
       "0200455322      10\n",
       "Name: cust_number, Length: 81, dtype: int64"
      ]
     },
     "execution_count": 77,
     "metadata": {
      "tags": []
     },
     "output_type": "execute_result"
    }
   ],
   "source": [
    "###similarly encoding cust_numbers\n",
    "threshlold = 0.000250\n",
    "\n",
    "# we loop over all the categorical variables\n",
    "\n",
    "    \n",
    "    # locate all the categories that are not rare.\n",
    "counts = train_set.groupby(['cust_number'])['cust_number'].count() / len(train_set)\n",
    "counts_tst = test_data.groupby(['cust_number'])['cust_number'].count() / len(train_set)\n",
    "counts_val1 = val1.groupby(['cust_number'])['cust_number'].count() / len(train_set)\n",
    "counts_val2 = val2.groupby(['cust_number'])['cust_number'].count() / len(train_set)\n",
    "frequent_labels = [x for x in counts.loc[counts>threshlold].index.values]\n",
    "frequent_labels_tst = [x for x in counts_tst.loc[counts_tst>threshlold].index.values]\n",
    "frequent_labels_val1 = [x for x in counts_val1.loc[counts_val1>threshlold].index.values]\n",
    "frequent_labels_val2 = [x for x in counts_val2.loc[counts_val2>threshlold].index.values]\n",
    "    # change the rare category names with the word rare, and thus encoding it.\n",
    "train_set['cust_number'] = np.where(train_set['cust_number'].isin(frequent_labels), train_set['cust_number'], 'others')\n",
    "test_data['cust_number'] = np.where(test_data['cust_number'].isin(frequent_labels_tst), test_data['cust_number'], 'others')\n",
    "val1['cust_number'] = np.where(val1['cust_number'].isin(frequent_labels_val1), val1['cust_number'], 'others')\n",
    "val2['cust_number'] = np.where(val2['cust_number'].isin(frequent_labels_val2), val2['cust_number'], 'others')\n",
    "\n",
    "\n",
    "test_data['cust_number'].value_counts()\n",
    "\n"
   ]
  },
  {
   "cell_type": "code",
   "execution_count": 78,
   "metadata": {
    "id": "HhgmYCSr8cQp"
   },
   "outputs": [],
   "source": [
    "target_mapper = train_set.groupby('cust_number')['target_delay'].mean().to_dict()\n",
    "train_set['cust_number'] = train_set['cust_number'].map(target_mapper)\n",
    "test_data['cust_number'] = test_data['cust_number'].map(target_mapper)\n",
    "val1['cust_number'] = val1['cust_number'].map(target_mapper)\n",
    "val2['cust_number'] = val2['cust_number'].map(target_mapper)\n"
   ]
  },
  {
   "cell_type": "code",
   "execution_count": 79,
   "metadata": {
    "colab": {
     "base_uri": "https://localhost:8080/"
    },
    "id": "kcuQGGaa8lvu",
    "outputId": "d02399ad-bada-4a6b-a579-975d9aa29d42"
   },
   "outputs": [
    {
     "data": {
      "text/plain": [
       "0.591095241388198"
      ]
     },
     "execution_count": 79,
     "metadata": {
      "tags": []
     },
     "output_type": "execute_result"
    }
   ],
   "source": [
    "train_set['cust_number'].corr(train_set['target_delay'])"
   ]
  },
  {
   "cell_type": "code",
   "execution_count": 80,
   "metadata": {
    "colab": {
     "base_uri": "https://localhost:8080/"
    },
    "id": "jumqzMhm8n-K",
    "outputId": "881ef1a1-0542-4677-dbb5-a1d520682f95"
   },
   "outputs": [
    {
     "data": {
      "text/plain": [
       "business_code                      int64\n",
       "cust_number                      float64\n",
       "name_customer                    float64\n",
       "clear_date                datetime64[ns]\n",
       "doc_id                            object\n",
       "posting_date              datetime64[ns]\n",
       "document_create_date      datetime64[ns]\n",
       "document_create_date.1    datetime64[ns]\n",
       "due_in_date               datetime64[ns]\n",
       "invoice_currency                  object\n",
       "total_open_amount                 object\n",
       "baseline_create_date      datetime64[ns]\n",
       "cust_payment_terms                 int64\n",
       "isOpen                            object\n",
       "target_delay                       int64\n",
       "dtype: object"
      ]
     },
     "execution_count": 80,
     "metadata": {
      "tags": []
     },
     "output_type": "execute_result"
    }
   ],
   "source": [
    "train_set.dtypes"
   ]
  },
  {
   "cell_type": "code",
   "execution_count": 81,
   "metadata": {
    "colab": {
     "base_uri": "https://localhost:8080/"
    },
    "id": "rrDv2j5J8qCl",
    "outputId": "0146ab34-1d1c-4725-dd5b-247d7cd97a1e"
   },
   "outputs": [
    {
     "data": {
      "text/plain": [
       "<bound method Series.unique of 0        1.92986e+09\n",
       "1        1.92979e+09\n",
       "3        1.92952e+09\n",
       "4        1.92946e+09\n",
       "5        1.92948e+09\n",
       "            ...     \n",
       "45458     1.9288e+09\n",
       "45460    1.92977e+09\n",
       "45461    2.96054e+09\n",
       "45462    1.92865e+09\n",
       "45463    1.92956e+09\n",
       "Name: doc_id, Length: 38158, dtype: object>"
      ]
     },
     "execution_count": 81,
     "metadata": {
      "tags": []
     },
     "output_type": "execute_result"
    }
   ],
   "source": [
    "train_set['doc_id'].unique"
   ]
  },
  {
   "cell_type": "code",
   "execution_count": 82,
   "metadata": {
    "colab": {
     "base_uri": "https://localhost:8080/"
    },
    "id": "Tk0iqP7b8r7-",
    "outputId": "737ece5b-73bc-46d3-d843-080d933be1c9"
   },
   "outputs": [
    {
     "data": {
      "text/plain": [
       "(38158, 15)"
      ]
     },
     "execution_count": 82,
     "metadata": {
      "tags": []
     },
     "output_type": "execute_result"
    }
   ],
   "source": [
    "train_set.shape #means doc_id is a unique value like primary key so we will not encode as it will not contribute in predicting"
   ]
  },
  {
   "cell_type": "code",
   "execution_count": 83,
   "metadata": {
    "colab": {
     "base_uri": "https://localhost:8080/"
    },
    "id": "hh4fyUWB8uCD",
    "outputId": "5c0428ee-98ea-4b0b-805a-19b2f5beca5a"
   },
   "outputs": [
    {
     "data": {
      "text/plain": [
       "0        51844.76\n",
       "1        62110.39\n",
       "3         1382.94\n",
       "4        85407.27\n",
       "5        47117.67\n",
       "           ...   \n",
       "45458    10435.76\n",
       "45460    11949.09\n",
       "45461    27441.05\n",
       "45462    13975.95\n",
       "45463     4343.40\n",
       "Name: total_open_amount, Length: 38158, dtype: float64"
      ]
     },
     "execution_count": 83,
     "metadata": {
      "tags": []
     },
     "output_type": "execute_result"
    }
   ],
   "source": [
    "#encoding total_open_amount\n",
    "train_set['total_open_amount']=train_set['total_open_amount'].astype(float)\n",
    "test_data['total_open_amount']=test_data['total_open_amount'].astype(float)\n",
    "val1['total_open_amount']=val1['total_open_amount'].astype(float)\n",
    "val2['total_open_amount']=val2['total_open_amount'].astype(float)\n",
    "train_set['total_open_amount']"
   ]
  },
  {
   "cell_type": "code",
   "execution_count": 84,
   "metadata": {
    "colab": {
     "base_uri": "https://localhost:8080/"
    },
    "id": "gRx8eYOR8wCe",
    "outputId": "5ba46273-f373-4c61-9051-a3c3c4d92a26"
   },
   "outputs": [
    {
     "data": {
      "text/plain": [
       "0.0025659655256575417"
      ]
     },
     "execution_count": 84,
     "metadata": {
      "tags": []
     },
     "output_type": "execute_result"
    }
   ],
   "source": [
    "train_set['total_open_amount'].corr(train_set['target_delay'])"
   ]
  },
  {
   "cell_type": "code",
   "execution_count": 85,
   "metadata": {
    "colab": {
     "base_uri": "https://localhost:8080/"
    },
    "id": "2QABP7ze8yOP",
    "outputId": "ed3e8f19-ba82-4859-cc80-d7f67385d4c6"
   },
   "outputs": [
    {
     "data": {
      "text/plain": [
       "0        1.068714\n",
       "1        1.068714\n",
       "3        1.068714\n",
       "4        1.068714\n",
       "5        1.068714\n",
       "           ...   \n",
       "45458    1.068714\n",
       "45460    1.068714\n",
       "45461    1.068714\n",
       "45462    1.068714\n",
       "45463    1.068714\n",
       "Name: isOpen, Length: 38158, dtype: float64"
      ]
     },
     "execution_count": 85,
     "metadata": {
      "tags": []
     },
     "output_type": "execute_result"
    }
   ],
   "source": [
    "#target encoding on isOpen\n",
    "target_mapper = train_set.groupby('isOpen')['target_delay'].mean().to_dict()\n",
    "train_set['isOpen'] = train_set['isOpen'].map(target_mapper)\n",
    "test_data['isOpen'] = test_data['isOpen'].map(target_mapper)\n",
    "val1['isOpen'] = val1['isOpen'].map(target_mapper)\n",
    "val2['isOpen'] = val2['isOpen'].map(target_mapper)\n",
    "train_set['isOpen']"
   ]
  },
  {
   "cell_type": "code",
   "execution_count": 86,
   "metadata": {
    "colab": {
     "base_uri": "https://localhost:8080/"
    },
    "id": "CpkwZqXW80FQ",
    "outputId": "c3bfc936-c933-4182-82f3-bd3141ff2541"
   },
   "outputs": [
    {
     "data": {
      "text/plain": [
       "nan"
      ]
     },
     "execution_count": 86,
     "metadata": {
      "tags": []
     },
     "output_type": "execute_result"
    }
   ],
   "source": [
    "train_set['isOpen'].corr(train_set['target_delay'])"
   ]
  },
  {
   "cell_type": "code",
   "execution_count": 87,
   "metadata": {
    "colab": {
     "base_uri": "https://localhost:8080/"
    },
    "id": "5_BRxPiP9A0L",
    "outputId": "b29c1e02-a903-4489-9c82-11156f546761"
   },
   "outputs": [
    {
     "data": {
      "text/plain": [
       "business_code                      int64\n",
       "cust_number                      float64\n",
       "name_customer                    float64\n",
       "clear_date                datetime64[ns]\n",
       "doc_id                            object\n",
       "posting_date              datetime64[ns]\n",
       "document_create_date      datetime64[ns]\n",
       "document_create_date.1    datetime64[ns]\n",
       "due_in_date               datetime64[ns]\n",
       "invoice_currency                  object\n",
       "total_open_amount                float64\n",
       "baseline_create_date      datetime64[ns]\n",
       "cust_payment_terms                 int64\n",
       "isOpen                           float64\n",
       "target_delay                       int64\n",
       "dtype: object"
      ]
     },
     "execution_count": 87,
     "metadata": {
      "tags": []
     },
     "output_type": "execute_result"
    }
   ],
   "source": [
    "train_set.dtypes"
   ]
  },
  {
   "cell_type": "code",
   "execution_count": 88,
   "metadata": {
    "colab": {
     "base_uri": "https://localhost:8080/"
    },
    "id": "5Pv09stc9Cpi",
    "outputId": "ebfb4dd7-9381-4fc7-df9f-090f55493f63"
   },
   "outputs": [
    {
     "data": {
      "text/plain": [
       "USD    35057\n",
       "CAD     3101\n",
       "Name: invoice_currency, dtype: int64"
      ]
     },
     "execution_count": 88,
     "metadata": {
      "tags": []
     },
     "output_type": "execute_result"
    }
   ],
   "source": [
    "train_set['invoice_currency'].value_counts()"
   ]
  },
  {
   "cell_type": "code",
   "execution_count": 89,
   "metadata": {
    "colab": {
     "base_uri": "https://localhost:8080/",
     "height": 435
    },
    "id": "iZGTy8ZT9FHk",
    "outputId": "6369fba8-d6b4-4a96-a7c5-af16a3f3c40f"
   },
   "outputs": [
    {
     "data": {
      "text/html": [
       "<div>\n",
       "<style scoped>\n",
       "    .dataframe tbody tr th:only-of-type {\n",
       "        vertical-align: middle;\n",
       "    }\n",
       "\n",
       "    .dataframe tbody tr th {\n",
       "        vertical-align: top;\n",
       "    }\n",
       "\n",
       "    .dataframe thead th {\n",
       "        text-align: right;\n",
       "    }\n",
       "</style>\n",
       "<table border=\"1\" class=\"dataframe\">\n",
       "  <thead>\n",
       "    <tr style=\"text-align: right;\">\n",
       "      <th></th>\n",
       "      <th>business_code</th>\n",
       "      <th>cust_number</th>\n",
       "      <th>name_customer</th>\n",
       "      <th>clear_date</th>\n",
       "      <th>doc_id</th>\n",
       "      <th>posting_date</th>\n",
       "      <th>document_create_date</th>\n",
       "      <th>document_create_date.1</th>\n",
       "      <th>due_in_date</th>\n",
       "      <th>invoice_currency</th>\n",
       "      <th>total_open_amount</th>\n",
       "      <th>baseline_create_date</th>\n",
       "      <th>cust_payment_terms</th>\n",
       "      <th>isOpen</th>\n",
       "      <th>target_delay</th>\n",
       "    </tr>\n",
       "  </thead>\n",
       "  <tbody>\n",
       "    <tr>\n",
       "      <th>0</th>\n",
       "      <td>1</td>\n",
       "      <td>1.529248</td>\n",
       "      <td>2.076923</td>\n",
       "      <td>2019-09-26</td>\n",
       "      <td>1.92986e+09</td>\n",
       "      <td>2019-09-11</td>\n",
       "      <td>2019-09-10</td>\n",
       "      <td>2019-09-11</td>\n",
       "      <td>2019-09-26</td>\n",
       "      <td>0.659298</td>\n",
       "      <td>51844.76</td>\n",
       "      <td>2019-09-11</td>\n",
       "      <td>9</td>\n",
       "      <td>1.068714</td>\n",
       "      <td>0</td>\n",
       "    </tr>\n",
       "    <tr>\n",
       "      <th>1</th>\n",
       "      <td>1</td>\n",
       "      <td>0.043478</td>\n",
       "      <td>0.078947</td>\n",
       "      <td>2019-09-10</td>\n",
       "      <td>1.92979e+09</td>\n",
       "      <td>2019-08-25</td>\n",
       "      <td>2019-08-24</td>\n",
       "      <td>2019-08-25</td>\n",
       "      <td>2019-09-09</td>\n",
       "      <td>0.659298</td>\n",
       "      <td>62110.39</td>\n",
       "      <td>2019-08-25</td>\n",
       "      <td>14</td>\n",
       "      <td>1.068714</td>\n",
       "      <td>1</td>\n",
       "    </tr>\n",
       "    <tr>\n",
       "      <th>3</th>\n",
       "      <td>1</td>\n",
       "      <td>2.436872</td>\n",
       "      <td>2.243023</td>\n",
       "      <td>2019-08-21</td>\n",
       "      <td>1.92952e+09</td>\n",
       "      <td>2019-06-20</td>\n",
       "      <td>2019-06-20</td>\n",
       "      <td>2019-06-20</td>\n",
       "      <td>2019-08-19</td>\n",
       "      <td>0.659298</td>\n",
       "      <td>1382.94</td>\n",
       "      <td>2019-06-20</td>\n",
       "      <td>31</td>\n",
       "      <td>1.068714</td>\n",
       "      <td>2</td>\n",
       "    </tr>\n",
       "    <tr>\n",
       "      <th>4</th>\n",
       "      <td>1</td>\n",
       "      <td>0.678571</td>\n",
       "      <td>1.133333</td>\n",
       "      <td>2019-06-26</td>\n",
       "      <td>1.92946e+09</td>\n",
       "      <td>2019-06-07</td>\n",
       "      <td>2019-06-07</td>\n",
       "      <td>2019-06-07</td>\n",
       "      <td>2019-06-22</td>\n",
       "      <td>0.659298</td>\n",
       "      <td>85407.27</td>\n",
       "      <td>2019-06-07</td>\n",
       "      <td>9</td>\n",
       "      <td>1.068714</td>\n",
       "      <td>4</td>\n",
       "    </tr>\n",
       "    <tr>\n",
       "      <th>5</th>\n",
       "      <td>1</td>\n",
       "      <td>-0.266667</td>\n",
       "      <td>-0.333333</td>\n",
       "      <td>2019-06-27</td>\n",
       "      <td>1.92948e+09</td>\n",
       "      <td>2019-06-12</td>\n",
       "      <td>2019-06-12</td>\n",
       "      <td>2019-06-12</td>\n",
       "      <td>2019-06-27</td>\n",
       "      <td>0.659298</td>\n",
       "      <td>47117.67</td>\n",
       "      <td>2019-06-12</td>\n",
       "      <td>9</td>\n",
       "      <td>1.068714</td>\n",
       "      <td>0</td>\n",
       "    </tr>\n",
       "    <tr>\n",
       "      <th>...</th>\n",
       "      <td>...</td>\n",
       "      <td>...</td>\n",
       "      <td>...</td>\n",
       "      <td>...</td>\n",
       "      <td>...</td>\n",
       "      <td>...</td>\n",
       "      <td>...</td>\n",
       "      <td>...</td>\n",
       "      <td>...</td>\n",
       "      <td>...</td>\n",
       "      <td>...</td>\n",
       "      <td>...</td>\n",
       "      <td>...</td>\n",
       "      <td>...</td>\n",
       "      <td>...</td>\n",
       "    </tr>\n",
       "    <tr>\n",
       "      <th>45458</th>\n",
       "      <td>1</td>\n",
       "      <td>-2.085551</td>\n",
       "      <td>-2.286070</td>\n",
       "      <td>2019-02-27</td>\n",
       "      <td>1.9288e+09</td>\n",
       "      <td>2019-02-15</td>\n",
       "      <td>2019-02-14</td>\n",
       "      <td>2019-02-15</td>\n",
       "      <td>2019-03-02</td>\n",
       "      <td>0.659298</td>\n",
       "      <td>10435.76</td>\n",
       "      <td>2019-02-15</td>\n",
       "      <td>21</td>\n",
       "      <td>1.068714</td>\n",
       "      <td>-3</td>\n",
       "    </tr>\n",
       "    <tr>\n",
       "      <th>45460</th>\n",
       "      <td>1</td>\n",
       "      <td>1.800000</td>\n",
       "      <td>0.812500</td>\n",
       "      <td>2019-10-30</td>\n",
       "      <td>1.92977e+09</td>\n",
       "      <td>2019-08-27</td>\n",
       "      <td>2019-08-21</td>\n",
       "      <td>2019-08-27</td>\n",
       "      <td>2019-10-31</td>\n",
       "      <td>0.659298</td>\n",
       "      <td>11949.09</td>\n",
       "      <td>2019-08-27</td>\n",
       "      <td>20</td>\n",
       "      <td>1.068714</td>\n",
       "      <td>-1</td>\n",
       "    </tr>\n",
       "    <tr>\n",
       "      <th>45461</th>\n",
       "      <td>0</td>\n",
       "      <td>2.436872</td>\n",
       "      <td>2.243023</td>\n",
       "      <td>2019-05-09</td>\n",
       "      <td>2.96054e+09</td>\n",
       "      <td>2019-04-24</td>\n",
       "      <td>2019-04-24</td>\n",
       "      <td>2019-04-24</td>\n",
       "      <td>2019-05-06</td>\n",
       "      <td>5.697194</td>\n",
       "      <td>27441.05</td>\n",
       "      <td>2019-04-26</td>\n",
       "      <td>1</td>\n",
       "      <td>1.068714</td>\n",
       "      <td>3</td>\n",
       "    </tr>\n",
       "    <tr>\n",
       "      <th>45462</th>\n",
       "      <td>1</td>\n",
       "      <td>2.436872</td>\n",
       "      <td>4.714286</td>\n",
       "      <td>2019-02-13</td>\n",
       "      <td>1.92865e+09</td>\n",
       "      <td>2019-01-24</td>\n",
       "      <td>2019-01-21</td>\n",
       "      <td>2019-01-24</td>\n",
       "      <td>2019-02-08</td>\n",
       "      <td>0.659298</td>\n",
       "      <td>13975.95</td>\n",
       "      <td>2019-01-24</td>\n",
       "      <td>9</td>\n",
       "      <td>1.068714</td>\n",
       "      <td>5</td>\n",
       "    </tr>\n",
       "    <tr>\n",
       "      <th>45463</th>\n",
       "      <td>1</td>\n",
       "      <td>-1.307692</td>\n",
       "      <td>-6.285714</td>\n",
       "      <td>2019-07-18</td>\n",
       "      <td>1.92956e+09</td>\n",
       "      <td>2019-06-29</td>\n",
       "      <td>2019-06-28</td>\n",
       "      <td>2019-06-29</td>\n",
       "      <td>2019-07-14</td>\n",
       "      <td>0.659298</td>\n",
       "      <td>4343.40</td>\n",
       "      <td>2019-06-29</td>\n",
       "      <td>9</td>\n",
       "      <td>1.068714</td>\n",
       "      <td>4</td>\n",
       "    </tr>\n",
       "  </tbody>\n",
       "</table>\n",
       "<p>38158 rows × 15 columns</p>\n",
       "</div>"
      ],
      "text/plain": [
       "       business_code  cust_number  ...    isOpen target_delay\n",
       "0                  1     1.529248  ...  1.068714            0\n",
       "1                  1     0.043478  ...  1.068714            1\n",
       "3                  1     2.436872  ...  1.068714            2\n",
       "4                  1     0.678571  ...  1.068714            4\n",
       "5                  1    -0.266667  ...  1.068714            0\n",
       "...              ...          ...  ...       ...          ...\n",
       "45458              1    -2.085551  ...  1.068714           -3\n",
       "45460              1     1.800000  ...  1.068714           -1\n",
       "45461              0     2.436872  ...  1.068714            3\n",
       "45462              1     2.436872  ...  1.068714            5\n",
       "45463              1    -1.307692  ...  1.068714            4\n",
       "\n",
       "[38158 rows x 15 columns]"
      ]
     },
     "execution_count": 89,
     "metadata": {
      "tags": []
     },
     "output_type": "execute_result"
    }
   ],
   "source": [
    "#label encoding invoice currency\n",
    "target_mapper = train_set.groupby('invoice_currency')['target_delay'].mean().to_dict()\n",
    "train_set['invoice_currency'] = train_set['invoice_currency'].map(target_mapper)\n",
    "test_data['invoice_currency'] = test_data['invoice_currency'].map(target_mapper)\n",
    "val1['invoice_currency'] = val1['invoice_currency'].map(target_mapper)\n",
    "val2['invoice_currency'] = val2['invoice_currency'].map(target_mapper)\n",
    "\n",
    "train_set\n"
   ]
  },
  {
   "cell_type": "code",
   "execution_count": 90,
   "metadata": {
    "id": "zxn6iNFJ9G8H"
   },
   "outputs": [],
   "source": [
    "#creating month columns for all datetime type for caculating correlation\n",
    "\n",
    "train_set['create_date_month']=train_set['document_create_date'].dt.month\n",
    "train_set['create_date.1_month']=train_set['document_create_date.1'].dt.month\n",
    "train_set['posting_date_month']=train_set['posting_date'].dt.month\n",
    "train_set['baseline_create_date_month']=train_set['baseline_create_date'].dt.month\n",
    "train_set['due_in_date_month']=train_set['due_in_date'].dt.month\n",
    "\n",
    "train_set['create_date_quarter']=train_set['document_create_date'].dt.quarter\n",
    "train_set['create_date.1_quarter']=train_set['document_create_date.1'].dt.quarter\n",
    "train_set['posting_date_quarter']=train_set['posting_date'].dt.quarter\n",
    "train_set['baseline_create_date_quarter']=train_set['baseline_create_date'].dt.quarter\n",
    "train_set['due_in_date_quarter']=train_set['due_in_date'].dt.quarter"
   ]
  },
  {
   "cell_type": "code",
   "execution_count": 91,
   "metadata": {
    "colab": {
     "base_uri": "https://localhost:8080/"
    },
    "id": "CH5DAHa69JG4",
    "outputId": "e053f947-5952-46bb-92e8-0bb9c62a6dde"
   },
   "outputs": [
    {
     "data": {
      "text/plain": [
       "business_code                            int64\n",
       "cust_number                            float64\n",
       "name_customer                          float64\n",
       "clear_date                      datetime64[ns]\n",
       "doc_id                                  object\n",
       "posting_date                    datetime64[ns]\n",
       "document_create_date            datetime64[ns]\n",
       "document_create_date.1          datetime64[ns]\n",
       "due_in_date                     datetime64[ns]\n",
       "invoice_currency                       float64\n",
       "total_open_amount                      float64\n",
       "baseline_create_date            datetime64[ns]\n",
       "cust_payment_terms                       int64\n",
       "isOpen                                 float64\n",
       "target_delay                             int64\n",
       "create_date_month                        int64\n",
       "create_date.1_month                      int64\n",
       "posting_date_month                       int64\n",
       "baseline_create_date_month               int64\n",
       "due_in_date_month                        int64\n",
       "create_date_quarter                      int64\n",
       "create_date.1_quarter                    int64\n",
       "posting_date_quarter                     int64\n",
       "baseline_create_date_quarter             int64\n",
       "due_in_date_quarter                      int64\n",
       "dtype: object"
      ]
     },
     "execution_count": 91,
     "metadata": {
      "tags": []
     },
     "output_type": "execute_result"
    }
   ],
   "source": [
    "train_set.dtypes"
   ]
  },
  {
   "cell_type": "code",
   "execution_count": null,
   "metadata": {
    "id": "VovToaku9LXP"
   },
   "outputs": [],
   "source": [
    "####GRAPHS######"
   ]
  }
 ],
 "metadata": {
  "colab": {
   "name": "vinay.ipynb",
   "provenance": []
  },
  "kernelspec": {
   "display_name": "Python 3 (ipykernel)",
   "language": "python",
   "name": "python3"
  },
  "language_info": {
   "codemirror_mode": {
    "name": "ipython",
    "version": 3
   },
   "file_extension": ".py",
   "mimetype": "text/x-python",
   "name": "python",
   "nbconvert_exporter": "python",
   "pygments_lexer": "ipython3",
   "version": "3.9.7"
  }
 },
 "nbformat": 4,
 "nbformat_minor": 1
}
