{
 "cells": [
  {
   "cell_type": "code",
   "execution_count": 1030,
   "metadata": {
    "colab": {
     "base_uri": "https://localhost:8080/",
     "height": 557
    },
    "id": "Df-0rvUUq1TX",
    "outputId": "054f3fab-82ab-4ba4-8b43-7832bc54b15e"
   },
   "outputs": [
    {
     "data": {
      "text/html": [
       "<div>\n",
       "<style scoped>\n",
       "    .dataframe tbody tr th:only-of-type {\n",
       "        vertical-align: middle;\n",
       "    }\n",
       "\n",
       "    .dataframe tbody tr th {\n",
       "        vertical-align: top;\n",
       "    }\n",
       "\n",
       "    .dataframe thead th {\n",
       "        text-align: right;\n",
       "    }\n",
       "</style>\n",
       "<table border=\"1\" class=\"dataframe\">\n",
       "  <thead>\n",
       "    <tr style=\"text-align: right;\">\n",
       "      <th></th>\n",
       "      <th>business_code</th>\n",
       "      <th>cust_number</th>\n",
       "      <th>name_customer</th>\n",
       "      <th>clear_date</th>\n",
       "      <th>buisness_year</th>\n",
       "      <th>doc_id</th>\n",
       "      <th>posting_date</th>\n",
       "      <th>document_create_date</th>\n",
       "      <th>document_create_date.1</th>\n",
       "      <th>due_in_date</th>\n",
       "      <th>invoice_currency</th>\n",
       "      <th>document type</th>\n",
       "      <th>posting_id</th>\n",
       "      <th>area_business</th>\n",
       "      <th>total_open_amount</th>\n",
       "      <th>baseline_create_date</th>\n",
       "      <th>cust_payment_terms</th>\n",
       "      <th>invoice_id</th>\n",
       "      <th>isOpen</th>\n",
       "    </tr>\n",
       "  </thead>\n",
       "  <tbody>\n",
       "    <tr>\n",
       "      <th>0</th>\n",
       "      <td>U001</td>\n",
       "      <td>0200705742</td>\n",
       "      <td>DOT us</td>\n",
       "      <td>2019-02-06 00:00:00</td>\n",
       "      <td>2019.0</td>\n",
       "      <td>1.928657e+09</td>\n",
       "      <td>2019-01-22</td>\n",
       "      <td>20190121</td>\n",
       "      <td>20190122</td>\n",
       "      <td>20190211.0</td>\n",
       "      <td>USD</td>\n",
       "      <td>RV</td>\n",
       "      <td>1.0</td>\n",
       "      <td>NaN</td>\n",
       "      <td>2079.55</td>\n",
       "      <td>20190122.0</td>\n",
       "      <td>NAD1</td>\n",
       "      <td>1.928657e+09</td>\n",
       "      <td>0</td>\n",
       "    </tr>\n",
       "    <tr>\n",
       "      <th>1</th>\n",
       "      <td>U001</td>\n",
       "      <td>0200803720</td>\n",
       "      <td>DEC trust</td>\n",
       "      <td>2019-05-01 00:00:00</td>\n",
       "      <td>2019.0</td>\n",
       "      <td>1.929211e+09</td>\n",
       "      <td>2019-04-26</td>\n",
       "      <td>20190426</td>\n",
       "      <td>20190426</td>\n",
       "      <td>20190509.0</td>\n",
       "      <td>USD</td>\n",
       "      <td>RV</td>\n",
       "      <td>1.0</td>\n",
       "      <td>NaN</td>\n",
       "      <td>68.52</td>\n",
       "      <td>20190416.0</td>\n",
       "      <td>NAM4</td>\n",
       "      <td>1.929211e+09</td>\n",
       "      <td>0</td>\n",
       "    </tr>\n",
       "    <tr>\n",
       "      <th>2</th>\n",
       "      <td>U001</td>\n",
       "      <td>0200592182</td>\n",
       "      <td>DECA co</td>\n",
       "      <td>2019-06-03 00:00:00</td>\n",
       "      <td>2019.0</td>\n",
       "      <td>1.929378e+09</td>\n",
       "      <td>2019-05-25</td>\n",
       "      <td>20190525</td>\n",
       "      <td>20190525</td>\n",
       "      <td>20190608.0</td>\n",
       "      <td>USD</td>\n",
       "      <td>RV</td>\n",
       "      <td>1.0</td>\n",
       "      <td>NaN</td>\n",
       "      <td>1677.82</td>\n",
       "      <td>20190516.0</td>\n",
       "      <td>NAM4</td>\n",
       "      <td>1.929378e+09</td>\n",
       "      <td>0</td>\n",
       "    </tr>\n",
       "    <tr>\n",
       "      <th>3</th>\n",
       "      <td>U001</td>\n",
       "      <td>0200769623</td>\n",
       "      <td>WAL-MAR associates</td>\n",
       "      <td>2019-02-20 00:00:00</td>\n",
       "      <td>2019.0</td>\n",
       "      <td>1.928766e+09</td>\n",
       "      <td>2019-02-09</td>\n",
       "      <td>20190208</td>\n",
       "      <td>20190209</td>\n",
       "      <td>20190224.0</td>\n",
       "      <td>USD</td>\n",
       "      <td>RV</td>\n",
       "      <td>1.0</td>\n",
       "      <td>NaN</td>\n",
       "      <td>66906.76</td>\n",
       "      <td>20190209.0</td>\n",
       "      <td>NAH4</td>\n",
       "      <td>1.928766e+09</td>\n",
       "      <td>0</td>\n",
       "    </tr>\n",
       "    <tr>\n",
       "      <th>4</th>\n",
       "      <td>U001</td>\n",
       "      <td>200769623</td>\n",
       "      <td>WAL-MAR in</td>\n",
       "      <td>2019-06-12 00:00:00</td>\n",
       "      <td>2019.0</td>\n",
       "      <td>1.929407e+09</td>\n",
       "      <td>2019-06-01</td>\n",
       "      <td>20190530</td>\n",
       "      <td>20190601</td>\n",
       "      <td>20190616.0</td>\n",
       "      <td>USD</td>\n",
       "      <td>RV</td>\n",
       "      <td>1.0</td>\n",
       "      <td>NaN</td>\n",
       "      <td>65593.95</td>\n",
       "      <td>20190601.0</td>\n",
       "      <td>NAH4</td>\n",
       "      <td>1.929407e+09</td>\n",
       "      <td>0</td>\n",
       "    </tr>\n",
       "    <tr>\n",
       "      <th>...</th>\n",
       "      <td>...</td>\n",
       "      <td>...</td>\n",
       "      <td>...</td>\n",
       "      <td>...</td>\n",
       "      <td>...</td>\n",
       "      <td>...</td>\n",
       "      <td>...</td>\n",
       "      <td>...</td>\n",
       "      <td>...</td>\n",
       "      <td>...</td>\n",
       "      <td>...</td>\n",
       "      <td>...</td>\n",
       "      <td>...</td>\n",
       "      <td>...</td>\n",
       "      <td>...</td>\n",
       "      <td>...</td>\n",
       "      <td>...</td>\n",
       "      <td>...</td>\n",
       "      <td>...</td>\n",
       "    </tr>\n",
       "    <tr>\n",
       "      <th>49995</th>\n",
       "      <td>U001</td>\n",
       "      <td>0200861551</td>\n",
       "      <td>MRS GR in</td>\n",
       "      <td>NaN</td>\n",
       "      <td>2020.0</td>\n",
       "      <td>1.930572e+09</td>\n",
       "      <td>2020-03-04</td>\n",
       "      <td>20200302</td>\n",
       "      <td>20200304</td>\n",
       "      <td>20200319.0</td>\n",
       "      <td>USD</td>\n",
       "      <td>RV</td>\n",
       "      <td>1.0</td>\n",
       "      <td>NaN</td>\n",
       "      <td>40758.07</td>\n",
       "      <td>20200304.0</td>\n",
       "      <td>NAA8</td>\n",
       "      <td>1.930572e+09</td>\n",
       "      <td>1</td>\n",
       "    </tr>\n",
       "    <tr>\n",
       "      <th>49996</th>\n",
       "      <td>U001</td>\n",
       "      <td>0200769623</td>\n",
       "      <td>WAL-MAR foundation</td>\n",
       "      <td>NaN</td>\n",
       "      <td>2020.0</td>\n",
       "      <td>1.930637e+09</td>\n",
       "      <td>2020-03-13</td>\n",
       "      <td>20200311</td>\n",
       "      <td>20200313</td>\n",
       "      <td>20200328.0</td>\n",
       "      <td>USD</td>\n",
       "      <td>RV</td>\n",
       "      <td>1.0</td>\n",
       "      <td>NaN</td>\n",
       "      <td>14981.09</td>\n",
       "      <td>20200313.0</td>\n",
       "      <td>NAH4</td>\n",
       "      <td>1.930637e+09</td>\n",
       "      <td>1</td>\n",
       "    </tr>\n",
       "    <tr>\n",
       "      <th>49997</th>\n",
       "      <td>U001</td>\n",
       "      <td>200965912</td>\n",
       "      <td>C&amp;S W</td>\n",
       "      <td>NaN</td>\n",
       "      <td>2020.0</td>\n",
       "      <td>1.930861e+09</td>\n",
       "      <td>2020-05-05</td>\n",
       "      <td>20200505</td>\n",
       "      <td>20200505</td>\n",
       "      <td>20200520.0</td>\n",
       "      <td>USD</td>\n",
       "      <td>RV</td>\n",
       "      <td>1.0</td>\n",
       "      <td>NaN</td>\n",
       "      <td>14514.31</td>\n",
       "      <td>20200505.0</td>\n",
       "      <td>NAC6</td>\n",
       "      <td>1.930861e+09</td>\n",
       "      <td>1</td>\n",
       "    </tr>\n",
       "    <tr>\n",
       "      <th>49998</th>\n",
       "      <td>U001</td>\n",
       "      <td>0200820380</td>\n",
       "      <td>SMITH'S trust</td>\n",
       "      <td>NaN</td>\n",
       "      <td>2020.0</td>\n",
       "      <td>1.930803e+09</td>\n",
       "      <td>2020-04-21</td>\n",
       "      <td>20200420</td>\n",
       "      <td>20200421</td>\n",
       "      <td>20200506.0</td>\n",
       "      <td>USD</td>\n",
       "      <td>RV</td>\n",
       "      <td>1.0</td>\n",
       "      <td>NaN</td>\n",
       "      <td>40345.38</td>\n",
       "      <td>20200421.0</td>\n",
       "      <td>NAA8</td>\n",
       "      <td>1.930803e+09</td>\n",
       "      <td>1</td>\n",
       "    </tr>\n",
       "    <tr>\n",
       "      <th>49999</th>\n",
       "      <td>U001</td>\n",
       "      <td>0200759878</td>\n",
       "      <td>SA</td>\n",
       "      <td>NaN</td>\n",
       "      <td>2020.0</td>\n",
       "      <td>1.930594e+09</td>\n",
       "      <td>2020-03-03</td>\n",
       "      <td>20200303</td>\n",
       "      <td>20200303</td>\n",
       "      <td>20200318.0</td>\n",
       "      <td>USD</td>\n",
       "      <td>RV</td>\n",
       "      <td>1.0</td>\n",
       "      <td>NaN</td>\n",
       "      <td>46054.86</td>\n",
       "      <td>20200303.0</td>\n",
       "      <td>NAH4</td>\n",
       "      <td>1.930594e+09</td>\n",
       "      <td>1</td>\n",
       "    </tr>\n",
       "  </tbody>\n",
       "</table>\n",
       "<p>50000 rows × 19 columns</p>\n",
       "</div>"
      ],
      "text/plain": [
       "      business_code cust_number  ...    invoice_id isOpen\n",
       "0              U001  0200705742  ...  1.928657e+09      0\n",
       "1              U001  0200803720  ...  1.929211e+09      0\n",
       "2              U001  0200592182  ...  1.929378e+09      0\n",
       "3              U001  0200769623  ...  1.928766e+09      0\n",
       "4              U001   200769623  ...  1.929407e+09      0\n",
       "...             ...         ...  ...           ...    ...\n",
       "49995          U001  0200861551  ...  1.930572e+09      1\n",
       "49996          U001  0200769623  ...  1.930637e+09      1\n",
       "49997          U001   200965912  ...  1.930861e+09      1\n",
       "49998          U001  0200820380  ...  1.930803e+09      1\n",
       "49999          U001  0200759878  ...  1.930594e+09      1\n",
       "\n",
       "[50000 rows x 19 columns]"
      ]
     },
     "execution_count": 1030,
     "metadata": {
      "tags": []
     },
     "output_type": "execute_result"
    }
   ],
   "source": [
    "#reading dataset 1805516\n",
    "import pandas as pd\n",
    "import numpy as np\n",
    "dat=pd.read_csv(\"/content/1805516.csv\")\n",
    "data=pd.DataFrame(dat)\n",
    "data"
   ]
  },
  {
   "cell_type": "code",
   "execution_count": 1031,
   "metadata": {
    "colab": {
     "base_uri": "https://localhost:8080/"
    },
    "id": "NHDTSYNC-tTK",
    "outputId": "4a8827cb-c386-4106-a944-a1dabec6facb"
   },
   "outputs": [
    {
     "data": {
      "text/plain": [
       "(50000, 19)"
      ]
     },
     "execution_count": 1031,
     "metadata": {
      "tags": []
     },
     "output_type": "execute_result"
    }
   ],
   "source": [
    "data.shape"
   ]
  },
  {
   "cell_type": "code",
   "execution_count": 1032,
   "metadata": {
    "colab": {
     "base_uri": "https://localhost:8080/"
    },
    "id": "SPxqMc-07YK9",
    "outputId": "989a7815-7076-45c2-f3f0-3d19b0599359"
   },
   "outputs": [
    {
     "data": {
      "text/plain": [
       "1"
      ]
     },
     "execution_count": 1032,
     "metadata": {
      "tags": []
     },
     "output_type": "execute_result"
    }
   ],
   "source": [
    "len(pd.unique(data['posting_id'])) #constant"
   ]
  },
  {
   "cell_type": "code",
   "execution_count": 1033,
   "metadata": {
    "id": "hGE4Ja6K8vwU"
   },
   "outputs": [],
   "source": [
    "data.drop(columns=['posting_id'],inplace=True)#since constant column will not contribute so drop"
   ]
  },
  {
   "cell_type": "code",
   "execution_count": 1034,
   "metadata": {
    "colab": {
     "base_uri": "https://localhost:8080/"
    },
    "id": "PsQ5ZyQbrT9Y",
    "outputId": "4c293ab4-bbe1-4b4b-8277-cd1086b86a07"
   },
   "outputs": [
    {
     "name": "stdout",
     "output_type": "stream",
     "text": [
      "business_code   0.0\n",
      "cust_number   0.0\n",
      "name_customer   0.0\n",
      "clear_date   0.06476\n",
      "buisness_year   0.0\n",
      "doc_id   0.0\n",
      "posting_date   0.0\n",
      "document_create_date   0.0\n",
      "document_create_date.1   0.0\n",
      "due_in_date   0.0\n",
      "invoice_currency   0.0\n",
      "document type   0.0\n",
      "area_business   1.0\n",
      "total_open_amount   0.0\n",
      "baseline_create_date   0.0\n",
      "cust_payment_terms   0.0\n",
      "invoice_id   0.0001\n",
      "isOpen   0.0\n"
     ]
    }
   ],
   "source": [
    "#checking how many columns of the dataset have mean of null values to preprocess\n",
    "for i in data.columns:\n",
    "  print(i,\" \",data[i].isnull().mean())"
   ]
  },
  {
   "cell_type": "code",
   "execution_count": 1035,
   "metadata": {
    "id": "exviY933szBz"
   },
   "outputs": [],
   "source": [
    "#area_business have all null values so drop\n",
    "data.drop(['area_business'],axis=1,inplace=True)"
   ]
  },
  {
   "cell_type": "code",
   "execution_count": 1036,
   "metadata": {
    "colab": {
     "base_uri": "https://localhost:8080/"
    },
    "id": "EJUEqWZM5Wz1",
    "outputId": "d2baaec2-6867-489d-fdab-f3b1e587e782"
   },
   "outputs": [
    {
     "data": {
      "text/plain": [
       "5"
      ]
     },
     "execution_count": 1036,
     "metadata": {
      "tags": []
     },
     "output_type": "execute_result"
    }
   ],
   "source": [
    "#invoice have some values null\n",
    "data['invoice_id'].isnull().sum()"
   ]
  },
  {
   "cell_type": "code",
   "execution_count": 1037,
   "metadata": {
    "colab": {
     "base_uri": "https://localhost:8080/",
     "height": 326
    },
    "id": "r3aTUGG4-cf2",
    "outputId": "aaf50793-eb2b-4650-ad03-a436c8d6bef9"
   },
   "outputs": [
    {
     "data": {
      "text/html": [
       "<div>\n",
       "<style scoped>\n",
       "    .dataframe tbody tr th:only-of-type {\n",
       "        vertical-align: middle;\n",
       "    }\n",
       "\n",
       "    .dataframe tbody tr th {\n",
       "        vertical-align: top;\n",
       "    }\n",
       "\n",
       "    .dataframe thead th {\n",
       "        text-align: right;\n",
       "    }\n",
       "</style>\n",
       "<table border=\"1\" class=\"dataframe\">\n",
       "  <thead>\n",
       "    <tr style=\"text-align: right;\">\n",
       "      <th></th>\n",
       "      <th>business_code</th>\n",
       "      <th>cust_number</th>\n",
       "      <th>name_customer</th>\n",
       "      <th>clear_date</th>\n",
       "      <th>buisness_year</th>\n",
       "      <th>doc_id</th>\n",
       "      <th>posting_date</th>\n",
       "      <th>document_create_date</th>\n",
       "      <th>document_create_date.1</th>\n",
       "      <th>due_in_date</th>\n",
       "      <th>invoice_currency</th>\n",
       "      <th>document type</th>\n",
       "      <th>total_open_amount</th>\n",
       "      <th>baseline_create_date</th>\n",
       "      <th>cust_payment_terms</th>\n",
       "      <th>invoice_id</th>\n",
       "      <th>isOpen</th>\n",
       "    </tr>\n",
       "  </thead>\n",
       "  <tbody>\n",
       "    <tr>\n",
       "      <th>2297</th>\n",
       "      <td>CA02</td>\n",
       "      <td>0140106054</td>\n",
       "      <td>TREE  corporation</td>\n",
       "      <td>2019-05-06 00:00:00</td>\n",
       "      <td>2019.0</td>\n",
       "      <td>9.500000e+09</td>\n",
       "      <td>2019-03-29</td>\n",
       "      <td>20190329</td>\n",
       "      <td>20190207</td>\n",
       "      <td>20190217.0</td>\n",
       "      <td>CAD</td>\n",
       "      <td>X2</td>\n",
       "      <td>12964.32</td>\n",
       "      <td>20190207.0</td>\n",
       "      <td>CA10</td>\n",
       "      <td>NaN</td>\n",
       "      <td>0</td>\n",
       "    </tr>\n",
       "    <tr>\n",
       "      <th>10824</th>\n",
       "      <td>CA02</td>\n",
       "      <td>0140104409</td>\n",
       "      <td>LOB us</td>\n",
       "      <td>2019-05-03 00:00:00</td>\n",
       "      <td>2019.0</td>\n",
       "      <td>9.500000e+09</td>\n",
       "      <td>2019-03-29</td>\n",
       "      <td>20190329</td>\n",
       "      <td>20190221</td>\n",
       "      <td>20190303.0</td>\n",
       "      <td>CAD</td>\n",
       "      <td>X2</td>\n",
       "      <td>912.44</td>\n",
       "      <td>20190221.0</td>\n",
       "      <td>CA10</td>\n",
       "      <td>NaN</td>\n",
       "      <td>0</td>\n",
       "    </tr>\n",
       "    <tr>\n",
       "      <th>38540</th>\n",
       "      <td>CA02</td>\n",
       "      <td>0140104409</td>\n",
       "      <td>LOB trust</td>\n",
       "      <td>2019-05-31 00:00:00</td>\n",
       "      <td>2019.0</td>\n",
       "      <td>9.500000e+09</td>\n",
       "      <td>2019-03-29</td>\n",
       "      <td>20190329</td>\n",
       "      <td>20190307</td>\n",
       "      <td>20190317.0</td>\n",
       "      <td>CAD</td>\n",
       "      <td>X2</td>\n",
       "      <td>17264.88</td>\n",
       "      <td>20190307.0</td>\n",
       "      <td>CA10</td>\n",
       "      <td>NaN</td>\n",
       "      <td>0</td>\n",
       "    </tr>\n",
       "    <tr>\n",
       "      <th>42577</th>\n",
       "      <td>CA02</td>\n",
       "      <td>0140106054</td>\n",
       "      <td>TREE  llc</td>\n",
       "      <td>2019-05-22 00:00:00</td>\n",
       "      <td>2019.0</td>\n",
       "      <td>9.500000e+09</td>\n",
       "      <td>2019-03-29</td>\n",
       "      <td>20190329</td>\n",
       "      <td>20190301</td>\n",
       "      <td>20190311.0</td>\n",
       "      <td>CAD</td>\n",
       "      <td>X2</td>\n",
       "      <td>21245.76</td>\n",
       "      <td>20190301.0</td>\n",
       "      <td>CA10</td>\n",
       "      <td>NaN</td>\n",
       "      <td>0</td>\n",
       "    </tr>\n",
       "    <tr>\n",
       "      <th>43223</th>\n",
       "      <td>CA02</td>\n",
       "      <td>0140104409</td>\n",
       "      <td>LOB in</td>\n",
       "      <td>2019-05-08 00:00:00</td>\n",
       "      <td>2019.0</td>\n",
       "      <td>9.500000e+09</td>\n",
       "      <td>2019-03-29</td>\n",
       "      <td>20190329</td>\n",
       "      <td>20190225</td>\n",
       "      <td>20190307.0</td>\n",
       "      <td>CAD</td>\n",
       "      <td>X2</td>\n",
       "      <td>15922.44</td>\n",
       "      <td>20190225.0</td>\n",
       "      <td>CA10</td>\n",
       "      <td>NaN</td>\n",
       "      <td>0</td>\n",
       "    </tr>\n",
       "  </tbody>\n",
       "</table>\n",
       "</div>"
      ],
      "text/plain": [
       "      business_code cust_number  ... invoice_id isOpen\n",
       "2297           CA02  0140106054  ...        NaN      0\n",
       "10824          CA02  0140104409  ...        NaN      0\n",
       "38540          CA02  0140104409  ...        NaN      0\n",
       "42577          CA02  0140106054  ...        NaN      0\n",
       "43223          CA02  0140104409  ...        NaN      0\n",
       "\n",
       "[5 rows x 17 columns]"
      ]
     },
     "execution_count": 1037,
     "metadata": {
      "tags": []
     },
     "output_type": "execute_result"
    }
   ],
   "source": [
    "data.loc[data['invoice_id'].isnull()]#null values are not useful so drop\n"
   ]
  },
  {
   "cell_type": "code",
   "execution_count": 1038,
   "metadata": {
    "id": "BxMGYPYj5vG1"
   },
   "outputs": [],
   "source": [
    "#drop 5 invoice having null values\n",
    "data = data.dropna(axis=0, subset=['invoice_id'])"
   ]
  },
  {
   "cell_type": "code",
   "execution_count": 1039,
   "metadata": {
    "colab": {
     "base_uri": "https://localhost:8080/"
    },
    "id": "0HJGeA6zB0WG",
    "outputId": "4f989ead-532b-42ff-f267-ee34cb32d8dc"
   },
   "outputs": [
    {
     "data": {
      "text/plain": [
       "0"
      ]
     },
     "execution_count": 1039,
     "metadata": {
      "tags": []
     },
     "output_type": "execute_result"
    }
   ],
   "source": [
    "data['invoice_id'].isnull().sum()\n",
    "#once again checking no of null values in invoice id"
   ]
  },
  {
   "cell_type": "code",
   "execution_count": 1040,
   "metadata": {
    "colab": {
     "base_uri": "https://localhost:8080/"
    },
    "id": "hJHeuBxXuIOH",
    "outputId": "e2ee8c27-3cae-42a2-8893-e170f3020b01"
   },
   "outputs": [
    {
     "name": "stdout",
     "output_type": "stream",
     "text": [
      "business_code\n",
      "cust_number\n",
      "name_customer\n",
      "clear_date\n",
      "buisness_year\n",
      "doc_id\n",
      "posting_date\n",
      "document_create_date\n",
      "document_create_date.1\n",
      "due_in_date\n",
      "invoice_currency\n",
      "document type\n",
      "total_open_amount\n",
      "baseline_create_date\n",
      "cust_payment_terms\n",
      "invoice_id\n",
      "isOpen\n"
     ]
    }
   ],
   "source": [
    "\n",
    "for i in data.columns:\n",
    "  print(i)"
   ]
  },
  {
   "cell_type": "code",
   "execution_count": 1041,
   "metadata": {
    "colab": {
     "base_uri": "https://localhost:8080/"
    },
    "id": "VosT1ugKDJfb",
    "outputId": "542e261a-50b0-4646-a81f-af8af08c7804"
   },
   "outputs": [
    {
     "data": {
      "text/plain": [
       "0"
      ]
     },
     "execution_count": 1041,
     "metadata": {
      "tags": []
     },
     "output_type": "execute_result"
    }
   ],
   "source": [
    "#no duplicate rows\n",
    "data.duplicated().sum()"
   ]
  },
  {
   "cell_type": "code",
   "execution_count": 1042,
   "metadata": {
    "colab": {
     "base_uri": "https://localhost:8080/"
    },
    "id": "E_jIZXjKugwc",
    "outputId": "173b344f-f01c-4157-f865-e8dacd1ed03b"
   },
   "outputs": [
    {
     "data": {
      "text/plain": [
       "1"
      ]
     },
     "execution_count": 1042,
     "metadata": {
      "tags": []
     },
     "output_type": "execute_result"
    }
   ],
   "source": [
    "#checking duplicate columns:\n",
    "data_t = data.T\n",
    "data_t.duplicated().sum()\n"
   ]
  },
  {
   "cell_type": "code",
   "execution_count": 1043,
   "metadata": {
    "colab": {
     "base_uri": "https://localhost:8080/",
     "height": 129
    },
    "id": "hGTuCuI0DwhQ",
    "outputId": "77d6b7fa-3a72-4748-f543-2920d13319b7"
   },
   "outputs": [
    {
     "data": {
      "text/html": [
       "<div>\n",
       "<style scoped>\n",
       "    .dataframe tbody tr th:only-of-type {\n",
       "        vertical-align: middle;\n",
       "    }\n",
       "\n",
       "    .dataframe tbody tr th {\n",
       "        vertical-align: top;\n",
       "    }\n",
       "\n",
       "    .dataframe thead th {\n",
       "        text-align: right;\n",
       "    }\n",
       "</style>\n",
       "<table border=\"1\" class=\"dataframe\">\n",
       "  <thead>\n",
       "    <tr style=\"text-align: right;\">\n",
       "      <th></th>\n",
       "      <th>0</th>\n",
       "      <th>1</th>\n",
       "      <th>2</th>\n",
       "      <th>3</th>\n",
       "      <th>4</th>\n",
       "      <th>5</th>\n",
       "      <th>6</th>\n",
       "      <th>7</th>\n",
       "      <th>8</th>\n",
       "      <th>9</th>\n",
       "      <th>10</th>\n",
       "      <th>11</th>\n",
       "      <th>12</th>\n",
       "      <th>13</th>\n",
       "      <th>14</th>\n",
       "      <th>15</th>\n",
       "      <th>16</th>\n",
       "      <th>17</th>\n",
       "      <th>18</th>\n",
       "      <th>19</th>\n",
       "      <th>20</th>\n",
       "      <th>21</th>\n",
       "      <th>22</th>\n",
       "      <th>23</th>\n",
       "      <th>24</th>\n",
       "      <th>25</th>\n",
       "      <th>26</th>\n",
       "      <th>27</th>\n",
       "      <th>28</th>\n",
       "      <th>29</th>\n",
       "      <th>30</th>\n",
       "      <th>31</th>\n",
       "      <th>32</th>\n",
       "      <th>33</th>\n",
       "      <th>34</th>\n",
       "      <th>35</th>\n",
       "      <th>36</th>\n",
       "      <th>37</th>\n",
       "      <th>38</th>\n",
       "      <th>39</th>\n",
       "      <th>...</th>\n",
       "      <th>49960</th>\n",
       "      <th>49961</th>\n",
       "      <th>49962</th>\n",
       "      <th>49963</th>\n",
       "      <th>49964</th>\n",
       "      <th>49965</th>\n",
       "      <th>49966</th>\n",
       "      <th>49967</th>\n",
       "      <th>49968</th>\n",
       "      <th>49969</th>\n",
       "      <th>49970</th>\n",
       "      <th>49971</th>\n",
       "      <th>49972</th>\n",
       "      <th>49973</th>\n",
       "      <th>49974</th>\n",
       "      <th>49975</th>\n",
       "      <th>49976</th>\n",
       "      <th>49977</th>\n",
       "      <th>49978</th>\n",
       "      <th>49979</th>\n",
       "      <th>49980</th>\n",
       "      <th>49981</th>\n",
       "      <th>49982</th>\n",
       "      <th>49983</th>\n",
       "      <th>49984</th>\n",
       "      <th>49985</th>\n",
       "      <th>49986</th>\n",
       "      <th>49987</th>\n",
       "      <th>49988</th>\n",
       "      <th>49989</th>\n",
       "      <th>49990</th>\n",
       "      <th>49991</th>\n",
       "      <th>49992</th>\n",
       "      <th>49993</th>\n",
       "      <th>49994</th>\n",
       "      <th>49995</th>\n",
       "      <th>49996</th>\n",
       "      <th>49997</th>\n",
       "      <th>49998</th>\n",
       "      <th>49999</th>\n",
       "    </tr>\n",
       "  </thead>\n",
       "  <tbody>\n",
       "    <tr>\n",
       "      <th>invoice_id</th>\n",
       "      <td>1.92866e+09</td>\n",
       "      <td>1.92921e+09</td>\n",
       "      <td>1.92938e+09</td>\n",
       "      <td>1.92877e+09</td>\n",
       "      <td>1.92941e+09</td>\n",
       "      <td>1.92898e+09</td>\n",
       "      <td>1.93014e+09</td>\n",
       "      <td>1.92982e+09</td>\n",
       "      <td>1.9289e+09</td>\n",
       "      <td>1.93003e+09</td>\n",
       "      <td>1.92957e+09</td>\n",
       "      <td>1.92868e+09</td>\n",
       "      <td>1.92943e+09</td>\n",
       "      <td>2.96052e+09</td>\n",
       "      <td>1.92925e+09</td>\n",
       "      <td>1.92981e+09</td>\n",
       "      <td>1.93033e+09</td>\n",
       "      <td>1.92903e+09</td>\n",
       "      <td>1.92983e+09</td>\n",
       "      <td>1.93034e+09</td>\n",
       "      <td>1.92926e+09</td>\n",
       "      <td>1.929e+09</td>\n",
       "      <td>1.92953e+09</td>\n",
       "      <td>1.92975e+09</td>\n",
       "      <td>1.93027e+09</td>\n",
       "      <td>1.92968e+09</td>\n",
       "      <td>1.93004e+09</td>\n",
       "      <td>1.92936e+09</td>\n",
       "      <td>1.93001e+09</td>\n",
       "      <td>1.92867e+09</td>\n",
       "      <td>1.93018e+09</td>\n",
       "      <td>1.92886e+09</td>\n",
       "      <td>1.92992e+09</td>\n",
       "      <td>1.93051e+09</td>\n",
       "      <td>1.92986e+09</td>\n",
       "      <td>1.93035e+09</td>\n",
       "      <td>1.92987e+09</td>\n",
       "      <td>1.92983e+09</td>\n",
       "      <td>1.9291e+09</td>\n",
       "      <td>1.92899e+09</td>\n",
       "      <td>...</td>\n",
       "      <td>1.93078e+09</td>\n",
       "      <td>1.93065e+09</td>\n",
       "      <td>1.93062e+09</td>\n",
       "      <td>1.9308e+09</td>\n",
       "      <td>1.93059e+09</td>\n",
       "      <td>1.93077e+09</td>\n",
       "      <td>1.93064e+09</td>\n",
       "      <td>1.93076e+09</td>\n",
       "      <td>1.93066e+09</td>\n",
       "      <td>1.93065e+09</td>\n",
       "      <td>1.93086e+09</td>\n",
       "      <td>1.93067e+09</td>\n",
       "      <td>1.93059e+09</td>\n",
       "      <td>1.93083e+09</td>\n",
       "      <td>1.93073e+09</td>\n",
       "      <td>1.93064e+09</td>\n",
       "      <td>1.93074e+09</td>\n",
       "      <td>1.93058e+09</td>\n",
       "      <td>1.9306e+09</td>\n",
       "      <td>1.93073e+09</td>\n",
       "      <td>1.93064e+09</td>\n",
       "      <td>1.93072e+09</td>\n",
       "      <td>1.93058e+09</td>\n",
       "      <td>1.93084e+09</td>\n",
       "      <td>1.93084e+09</td>\n",
       "      <td>1.93079e+09</td>\n",
       "      <td>1.93088e+09</td>\n",
       "      <td>1.93073e+09</td>\n",
       "      <td>1.93071e+09</td>\n",
       "      <td>1.93073e+09</td>\n",
       "      <td>1.9308e+09</td>\n",
       "      <td>1.9307e+09</td>\n",
       "      <td>1.9307e+09</td>\n",
       "      <td>1.93069e+09</td>\n",
       "      <td>1.93058e+09</td>\n",
       "      <td>1.93057e+09</td>\n",
       "      <td>1.93064e+09</td>\n",
       "      <td>1.93086e+09</td>\n",
       "      <td>1.9308e+09</td>\n",
       "      <td>1.93059e+09</td>\n",
       "    </tr>\n",
       "  </tbody>\n",
       "</table>\n",
       "<p>1 rows × 49995 columns</p>\n",
       "</div>"
      ],
      "text/plain": [
       "                  0            1      ...       49998        49999\n",
       "invoice_id  1.92866e+09  1.92921e+09  ...  1.9308e+09  1.93059e+09\n",
       "\n",
       "[1 rows x 49995 columns]"
      ]
     },
     "execution_count": 1043,
     "metadata": {
      "tags": []
     },
     "output_type": "execute_result"
    }
   ],
   "source": [
    "#displaying duplicated column\n",
    "data_t[data_t.duplicated()]"
   ]
  },
  {
   "cell_type": "code",
   "execution_count": 1044,
   "metadata": {
    "colab": {
     "base_uri": "https://localhost:8080/"
    },
    "id": "p1BcUo-jEdWs",
    "outputId": "f5c20c9d-2660-4d12-9202-0bad18c95536"
   },
   "outputs": [
    {
     "data": {
      "text/plain": [
       "(49995, 17)"
      ]
     },
     "execution_count": 1044,
     "metadata": {
      "tags": []
     },
     "output_type": "execute_result"
    }
   ],
   "source": [
    "#no of rows before removing duplicated columns is 17\n",
    "dt=data_t.T\n",
    "dt.shape"
   ]
  },
  {
   "cell_type": "code",
   "execution_count": 1045,
   "metadata": {
    "colab": {
     "base_uri": "https://localhost:8080/"
    },
    "id": "nHxdawpzEOwz",
    "outputId": "bf9b3e01-1ad0-4025-b83e-1df2ef2be4ab"
   },
   "outputs": [
    {
     "data": {
      "text/plain": [
       "(49995, 16)"
      ]
     },
     "execution_count": 1045,
     "metadata": {
      "tags": []
     },
     "output_type": "execute_result"
    }
   ],
   "source": [
    "\n",
    "#after removing duplicate column, 16 columns\n",
    "data_unique = data_t.drop_duplicates(keep='first').T\n",
    "data_unique.shape"
   ]
  },
  {
   "cell_type": "code",
   "execution_count": 1046,
   "metadata": {
    "colab": {
     "base_uri": "https://localhost:8080/"
    },
    "id": "sxZlPnJjE3z3",
    "outputId": "80e39799-f07d-4d03-be57-8baefc2c914f"
   },
   "outputs": [
    {
     "data": {
      "text/plain": [
       "0"
      ]
     },
     "execution_count": 1046,
     "metadata": {
      "tags": []
     },
     "output_type": "execute_result"
    }
   ],
   "source": [
    "#once again checking duplicated rows(of the transpose)\n",
    "data_uni=data_unique.T\n",
    "data_uni.duplicated().sum()"
   ]
  },
  {
   "cell_type": "code",
   "execution_count": 1047,
   "metadata": {
    "colab": {
     "base_uri": "https://localhost:8080/",
     "height": 557
    },
    "id": "pNGxXeekImoa",
    "outputId": "658926b1-5933-47d7-f68e-3e1f07282eb8"
   },
   "outputs": [
    {
     "data": {
      "text/html": [
       "<div>\n",
       "<style scoped>\n",
       "    .dataframe tbody tr th:only-of-type {\n",
       "        vertical-align: middle;\n",
       "    }\n",
       "\n",
       "    .dataframe tbody tr th {\n",
       "        vertical-align: top;\n",
       "    }\n",
       "\n",
       "    .dataframe thead th {\n",
       "        text-align: right;\n",
       "    }\n",
       "</style>\n",
       "<table border=\"1\" class=\"dataframe\">\n",
       "  <thead>\n",
       "    <tr style=\"text-align: right;\">\n",
       "      <th></th>\n",
       "      <th>business_code</th>\n",
       "      <th>cust_number</th>\n",
       "      <th>name_customer</th>\n",
       "      <th>clear_date</th>\n",
       "      <th>buisness_year</th>\n",
       "      <th>doc_id</th>\n",
       "      <th>posting_date</th>\n",
       "      <th>document_create_date</th>\n",
       "      <th>document_create_date.1</th>\n",
       "      <th>due_in_date</th>\n",
       "      <th>invoice_currency</th>\n",
       "      <th>document type</th>\n",
       "      <th>total_open_amount</th>\n",
       "      <th>baseline_create_date</th>\n",
       "      <th>cust_payment_terms</th>\n",
       "      <th>isOpen</th>\n",
       "    </tr>\n",
       "  </thead>\n",
       "  <tbody>\n",
       "    <tr>\n",
       "      <th>0</th>\n",
       "      <td>U001</td>\n",
       "      <td>0200705742</td>\n",
       "      <td>DOT us</td>\n",
       "      <td>2019-02-06 00:00:00</td>\n",
       "      <td>2019</td>\n",
       "      <td>1.92866e+09</td>\n",
       "      <td>2019-01-22</td>\n",
       "      <td>20190121</td>\n",
       "      <td>20190122</td>\n",
       "      <td>2.01902e+07</td>\n",
       "      <td>USD</td>\n",
       "      <td>RV</td>\n",
       "      <td>2079.55</td>\n",
       "      <td>2.01901e+07</td>\n",
       "      <td>NAD1</td>\n",
       "      <td>0</td>\n",
       "    </tr>\n",
       "    <tr>\n",
       "      <th>1</th>\n",
       "      <td>U001</td>\n",
       "      <td>0200803720</td>\n",
       "      <td>DEC trust</td>\n",
       "      <td>2019-05-01 00:00:00</td>\n",
       "      <td>2019</td>\n",
       "      <td>1.92921e+09</td>\n",
       "      <td>2019-04-26</td>\n",
       "      <td>20190426</td>\n",
       "      <td>20190426</td>\n",
       "      <td>2.01905e+07</td>\n",
       "      <td>USD</td>\n",
       "      <td>RV</td>\n",
       "      <td>68.52</td>\n",
       "      <td>2.01904e+07</td>\n",
       "      <td>NAM4</td>\n",
       "      <td>0</td>\n",
       "    </tr>\n",
       "    <tr>\n",
       "      <th>2</th>\n",
       "      <td>U001</td>\n",
       "      <td>0200592182</td>\n",
       "      <td>DECA co</td>\n",
       "      <td>2019-06-03 00:00:00</td>\n",
       "      <td>2019</td>\n",
       "      <td>1.92938e+09</td>\n",
       "      <td>2019-05-25</td>\n",
       "      <td>20190525</td>\n",
       "      <td>20190525</td>\n",
       "      <td>2.01906e+07</td>\n",
       "      <td>USD</td>\n",
       "      <td>RV</td>\n",
       "      <td>1677.82</td>\n",
       "      <td>2.01905e+07</td>\n",
       "      <td>NAM4</td>\n",
       "      <td>0</td>\n",
       "    </tr>\n",
       "    <tr>\n",
       "      <th>3</th>\n",
       "      <td>U001</td>\n",
       "      <td>0200769623</td>\n",
       "      <td>WAL-MAR associates</td>\n",
       "      <td>2019-02-20 00:00:00</td>\n",
       "      <td>2019</td>\n",
       "      <td>1.92877e+09</td>\n",
       "      <td>2019-02-09</td>\n",
       "      <td>20190208</td>\n",
       "      <td>20190209</td>\n",
       "      <td>2.01902e+07</td>\n",
       "      <td>USD</td>\n",
       "      <td>RV</td>\n",
       "      <td>66906.8</td>\n",
       "      <td>2.01902e+07</td>\n",
       "      <td>NAH4</td>\n",
       "      <td>0</td>\n",
       "    </tr>\n",
       "    <tr>\n",
       "      <th>4</th>\n",
       "      <td>U001</td>\n",
       "      <td>200769623</td>\n",
       "      <td>WAL-MAR in</td>\n",
       "      <td>2019-06-12 00:00:00</td>\n",
       "      <td>2019</td>\n",
       "      <td>1.92941e+09</td>\n",
       "      <td>2019-06-01</td>\n",
       "      <td>20190530</td>\n",
       "      <td>20190601</td>\n",
       "      <td>2.01906e+07</td>\n",
       "      <td>USD</td>\n",
       "      <td>RV</td>\n",
       "      <td>65593.9</td>\n",
       "      <td>2.01906e+07</td>\n",
       "      <td>NAH4</td>\n",
       "      <td>0</td>\n",
       "    </tr>\n",
       "    <tr>\n",
       "      <th>...</th>\n",
       "      <td>...</td>\n",
       "      <td>...</td>\n",
       "      <td>...</td>\n",
       "      <td>...</td>\n",
       "      <td>...</td>\n",
       "      <td>...</td>\n",
       "      <td>...</td>\n",
       "      <td>...</td>\n",
       "      <td>...</td>\n",
       "      <td>...</td>\n",
       "      <td>...</td>\n",
       "      <td>...</td>\n",
       "      <td>...</td>\n",
       "      <td>...</td>\n",
       "      <td>...</td>\n",
       "      <td>...</td>\n",
       "    </tr>\n",
       "    <tr>\n",
       "      <th>49995</th>\n",
       "      <td>U001</td>\n",
       "      <td>0200861551</td>\n",
       "      <td>MRS GR in</td>\n",
       "      <td>NaN</td>\n",
       "      <td>2020</td>\n",
       "      <td>1.93057e+09</td>\n",
       "      <td>2020-03-04</td>\n",
       "      <td>20200302</td>\n",
       "      <td>20200304</td>\n",
       "      <td>2.02003e+07</td>\n",
       "      <td>USD</td>\n",
       "      <td>RV</td>\n",
       "      <td>40758.1</td>\n",
       "      <td>2.02003e+07</td>\n",
       "      <td>NAA8</td>\n",
       "      <td>1</td>\n",
       "    </tr>\n",
       "    <tr>\n",
       "      <th>49996</th>\n",
       "      <td>U001</td>\n",
       "      <td>0200769623</td>\n",
       "      <td>WAL-MAR foundation</td>\n",
       "      <td>NaN</td>\n",
       "      <td>2020</td>\n",
       "      <td>1.93064e+09</td>\n",
       "      <td>2020-03-13</td>\n",
       "      <td>20200311</td>\n",
       "      <td>20200313</td>\n",
       "      <td>2.02003e+07</td>\n",
       "      <td>USD</td>\n",
       "      <td>RV</td>\n",
       "      <td>14981.1</td>\n",
       "      <td>2.02003e+07</td>\n",
       "      <td>NAH4</td>\n",
       "      <td>1</td>\n",
       "    </tr>\n",
       "    <tr>\n",
       "      <th>49997</th>\n",
       "      <td>U001</td>\n",
       "      <td>200965912</td>\n",
       "      <td>C&amp;S W</td>\n",
       "      <td>NaN</td>\n",
       "      <td>2020</td>\n",
       "      <td>1.93086e+09</td>\n",
       "      <td>2020-05-05</td>\n",
       "      <td>20200505</td>\n",
       "      <td>20200505</td>\n",
       "      <td>2.02005e+07</td>\n",
       "      <td>USD</td>\n",
       "      <td>RV</td>\n",
       "      <td>14514.3</td>\n",
       "      <td>2.02005e+07</td>\n",
       "      <td>NAC6</td>\n",
       "      <td>1</td>\n",
       "    </tr>\n",
       "    <tr>\n",
       "      <th>49998</th>\n",
       "      <td>U001</td>\n",
       "      <td>0200820380</td>\n",
       "      <td>SMITH'S trust</td>\n",
       "      <td>NaN</td>\n",
       "      <td>2020</td>\n",
       "      <td>1.9308e+09</td>\n",
       "      <td>2020-04-21</td>\n",
       "      <td>20200420</td>\n",
       "      <td>20200421</td>\n",
       "      <td>2.02005e+07</td>\n",
       "      <td>USD</td>\n",
       "      <td>RV</td>\n",
       "      <td>40345.4</td>\n",
       "      <td>2.02004e+07</td>\n",
       "      <td>NAA8</td>\n",
       "      <td>1</td>\n",
       "    </tr>\n",
       "    <tr>\n",
       "      <th>49999</th>\n",
       "      <td>U001</td>\n",
       "      <td>0200759878</td>\n",
       "      <td>SA</td>\n",
       "      <td>NaN</td>\n",
       "      <td>2020</td>\n",
       "      <td>1.93059e+09</td>\n",
       "      <td>2020-03-03</td>\n",
       "      <td>20200303</td>\n",
       "      <td>20200303</td>\n",
       "      <td>2.02003e+07</td>\n",
       "      <td>USD</td>\n",
       "      <td>RV</td>\n",
       "      <td>46054.9</td>\n",
       "      <td>2.02003e+07</td>\n",
       "      <td>NAH4</td>\n",
       "      <td>1</td>\n",
       "    </tr>\n",
       "  </tbody>\n",
       "</table>\n",
       "<p>49995 rows × 16 columns</p>\n",
       "</div>"
      ],
      "text/plain": [
       "      business_code cust_number  ... cust_payment_terms isOpen\n",
       "0              U001  0200705742  ...               NAD1      0\n",
       "1              U001  0200803720  ...               NAM4      0\n",
       "2              U001  0200592182  ...               NAM4      0\n",
       "3              U001  0200769623  ...               NAH4      0\n",
       "4              U001   200769623  ...               NAH4      0\n",
       "...             ...         ...  ...                ...    ...\n",
       "49995          U001  0200861551  ...               NAA8      1\n",
       "49996          U001  0200769623  ...               NAH4      1\n",
       "49997          U001   200965912  ...               NAC6      1\n",
       "49998          U001  0200820380  ...               NAA8      1\n",
       "49999          U001  0200759878  ...               NAH4      1\n",
       "\n",
       "[49995 rows x 16 columns]"
      ]
     },
     "execution_count": 1047,
     "metadata": {
      "tags": []
     },
     "output_type": "execute_result"
    }
   ],
   "source": [
    "data_unique"
   ]
  },
  {
   "cell_type": "code",
   "execution_count": 1048,
   "metadata": {
    "colab": {
     "base_uri": "https://localhost:8080/"
    },
    "id": "vu0R0J2lCY45",
    "outputId": "e8ff773d-75cb-4903-8e8f-bd1b417b22f8"
   },
   "outputs": [
    {
     "data": {
      "text/plain": [
       "1"
      ]
     },
     "execution_count": 1048,
     "metadata": {
      "tags": []
     },
     "output_type": "execute_result"
    }
   ],
   "source": [
    "#document type is constant\n",
    "len(pd.unique(data_unique['document type']))"
   ]
  },
  {
   "cell_type": "code",
   "execution_count": 1049,
   "metadata": {
    "id": "PpJaKKjtYQCb"
   },
   "outputs": [],
   "source": [
    "#drop cons column\n",
    "data_unique.drop(columns=['document type'],inplace=True)"
   ]
  },
  {
   "cell_type": "code",
   "execution_count": 1050,
   "metadata": {
    "colab": {
     "base_uri": "https://localhost:8080/",
     "height": 141
    },
    "id": "5Y-EwYT-fEN5",
    "outputId": "7dd8556c-5783-481c-ca55-193b72160bc4"
   },
   "outputs": [
    {
     "data": {
      "text/html": [
       "<div>\n",
       "<style scoped>\n",
       "    .dataframe tbody tr th:only-of-type {\n",
       "        vertical-align: middle;\n",
       "    }\n",
       "\n",
       "    .dataframe tbody tr th {\n",
       "        vertical-align: top;\n",
       "    }\n",
       "\n",
       "    .dataframe thead th {\n",
       "        text-align: right;\n",
       "    }\n",
       "</style>\n",
       "<table border=\"1\" class=\"dataframe\">\n",
       "  <thead>\n",
       "    <tr style=\"text-align: right;\">\n",
       "      <th></th>\n",
       "      <th>count</th>\n",
       "    </tr>\n",
       "    <tr>\n",
       "      <th>buisness_year</th>\n",
       "      <th></th>\n",
       "    </tr>\n",
       "  </thead>\n",
       "  <tbody>\n",
       "    <tr>\n",
       "      <th>2019.0</th>\n",
       "      <td>40686</td>\n",
       "    </tr>\n",
       "    <tr>\n",
       "      <th>2020.0</th>\n",
       "      <td>9309</td>\n",
       "    </tr>\n",
       "  </tbody>\n",
       "</table>\n",
       "</div>"
      ],
      "text/plain": [
       "               count\n",
       "buisness_year       \n",
       "2019.0         40686\n",
       "2020.0          9309"
      ]
     },
     "execution_count": 1050,
     "metadata": {
      "tags": []
     },
     "output_type": "execute_result"
    }
   ],
   "source": [
    "data_unique.groupby(['buisness_year'])['buisness_year'].agg({'count'})"
   ]
  },
  {
   "cell_type": "code",
   "execution_count": 1051,
   "metadata": {
    "colab": {
     "base_uri": "https://localhost:8080/"
    },
    "id": "C0C47S2XQSdP",
    "outputId": "1ceafdbc-5d28-48e5-a892-91d5a8a6d852"
   },
   "outputs": [
    {
     "data": {
      "text/plain": [
       "(49995, 15)"
      ]
     },
     "execution_count": 1051,
     "metadata": {
      "tags": []
     },
     "output_type": "execute_result"
    }
   ],
   "source": [
    "data_unique.shape"
   ]
  },
  {
   "cell_type": "code",
   "execution_count": 1052,
   "metadata": {
    "id": "kxnvGlMYy14I"
   },
   "outputs": [],
   "source": [
    "#converting to datetime format\n",
    "data_unique['document_create_date']=pd.to_datetime(data_unique['document_create_date'].astype(int).astype(str))\n",
    "data_unique['clear_date']= pd.to_datetime(data_unique['clear_date'])\n",
    "data_unique['due_in_date']= pd.to_datetime(data_unique['due_in_date'].astype(int).astype(str))\n",
    "data_unique['document_create_date.1']= pd.to_datetime(data_unique['document_create_date.1'].astype(int).astype(str))\n",
    "data_unique['posting_date']= pd.to_datetime(data_unique['posting_date'])\n",
    "data_unique['baseline_create_date']= pd.to_datetime(data_unique['baseline_create_date'].astype(int).astype(str))\n"
   ]
  },
  {
   "cell_type": "code",
   "execution_count": 1053,
   "metadata": {
    "id": "mHKAH-IfwbpN"
   },
   "outputs": [],
   "source": [
    "############splitting into test set and big dataset based on clear date##########3"
   ]
  },
  {
   "cell_type": "code",
   "execution_count": 1054,
   "metadata": {
    "colab": {
     "base_uri": "https://localhost:8080/",
     "height": 487
    },
    "id": "db1CDbbtUm6Q",
    "outputId": "10dc80a0-398a-4835-9675-198c5891a91f"
   },
   "outputs": [
    {
     "data": {
      "text/html": [
       "<div>\n",
       "<style scoped>\n",
       "    .dataframe tbody tr th:only-of-type {\n",
       "        vertical-align: middle;\n",
       "    }\n",
       "\n",
       "    .dataframe tbody tr th {\n",
       "        vertical-align: top;\n",
       "    }\n",
       "\n",
       "    .dataframe thead th {\n",
       "        text-align: right;\n",
       "    }\n",
       "</style>\n",
       "<table border=\"1\" class=\"dataframe\">\n",
       "  <thead>\n",
       "    <tr style=\"text-align: right;\">\n",
       "      <th></th>\n",
       "      <th>business_code</th>\n",
       "      <th>cust_number</th>\n",
       "      <th>name_customer</th>\n",
       "      <th>clear_date</th>\n",
       "      <th>buisness_year</th>\n",
       "      <th>doc_id</th>\n",
       "      <th>posting_date</th>\n",
       "      <th>document_create_date</th>\n",
       "      <th>document_create_date.1</th>\n",
       "      <th>due_in_date</th>\n",
       "      <th>invoice_currency</th>\n",
       "      <th>total_open_amount</th>\n",
       "      <th>baseline_create_date</th>\n",
       "      <th>cust_payment_terms</th>\n",
       "      <th>isOpen</th>\n",
       "    </tr>\n",
       "  </thead>\n",
       "  <tbody>\n",
       "    <tr>\n",
       "      <th>0</th>\n",
       "      <td>U001</td>\n",
       "      <td>0200397526</td>\n",
       "      <td>JAKE corp</td>\n",
       "      <td>NaT</td>\n",
       "      <td>2020</td>\n",
       "      <td>1.93074e+09</td>\n",
       "      <td>2020-04-07</td>\n",
       "      <td>2020-04-03</td>\n",
       "      <td>2020-04-07</td>\n",
       "      <td>2020-04-22</td>\n",
       "      <td>USD</td>\n",
       "      <td>37738.7</td>\n",
       "      <td>2020-04-07</td>\n",
       "      <td>NAA8</td>\n",
       "      <td>1</td>\n",
       "    </tr>\n",
       "    <tr>\n",
       "      <th>1</th>\n",
       "      <td>U001</td>\n",
       "      <td>0200743123</td>\n",
       "      <td>KROGER foundation</td>\n",
       "      <td>NaT</td>\n",
       "      <td>2020</td>\n",
       "      <td>1.93085e+09</td>\n",
       "      <td>2020-05-02</td>\n",
       "      <td>2020-05-02</td>\n",
       "      <td>2020-05-02</td>\n",
       "      <td>2020-05-17</td>\n",
       "      <td>USD</td>\n",
       "      <td>42002</td>\n",
       "      <td>2020-05-02</td>\n",
       "      <td>NAA8</td>\n",
       "      <td>1</td>\n",
       "    </tr>\n",
       "    <tr>\n",
       "      <th>2</th>\n",
       "      <td>U001</td>\n",
       "      <td>0200780383</td>\n",
       "      <td>MEIJ systems</td>\n",
       "      <td>NaT</td>\n",
       "      <td>2020</td>\n",
       "      <td>1.93072e+09</td>\n",
       "      <td>2020-03-31</td>\n",
       "      <td>2020-03-31</td>\n",
       "      <td>2020-03-31</td>\n",
       "      <td>2020-04-15</td>\n",
       "      <td>USD</td>\n",
       "      <td>137221</td>\n",
       "      <td>2020-03-31</td>\n",
       "      <td>NAA8</td>\n",
       "      <td>1</td>\n",
       "    </tr>\n",
       "    <tr>\n",
       "      <th>3</th>\n",
       "      <td>U001</td>\n",
       "      <td>0200769623</td>\n",
       "      <td>WAL-MAR us</td>\n",
       "      <td>NaT</td>\n",
       "      <td>2020</td>\n",
       "      <td>1.93081e+09</td>\n",
       "      <td>2020-04-22</td>\n",
       "      <td>2020-04-22</td>\n",
       "      <td>2020-04-22</td>\n",
       "      <td>2020-05-07</td>\n",
       "      <td>USD</td>\n",
       "      <td>45754.8</td>\n",
       "      <td>2020-04-22</td>\n",
       "      <td>NAH4</td>\n",
       "      <td>1</td>\n",
       "    </tr>\n",
       "    <tr>\n",
       "      <th>4</th>\n",
       "      <td>U001</td>\n",
       "      <td>0200769623</td>\n",
       "      <td>WAL-MAR corporation</td>\n",
       "      <td>NaT</td>\n",
       "      <td>2020</td>\n",
       "      <td>1.93068e+09</td>\n",
       "      <td>2020-03-22</td>\n",
       "      <td>2020-03-20</td>\n",
       "      <td>2020-03-22</td>\n",
       "      <td>2020-04-06</td>\n",
       "      <td>USD</td>\n",
       "      <td>6223.23</td>\n",
       "      <td>2020-03-22</td>\n",
       "      <td>NAH4</td>\n",
       "      <td>1</td>\n",
       "    </tr>\n",
       "    <tr>\n",
       "      <th>...</th>\n",
       "      <td>...</td>\n",
       "      <td>...</td>\n",
       "      <td>...</td>\n",
       "      <td>...</td>\n",
       "      <td>...</td>\n",
       "      <td>...</td>\n",
       "      <td>...</td>\n",
       "      <td>...</td>\n",
       "      <td>...</td>\n",
       "      <td>...</td>\n",
       "      <td>...</td>\n",
       "      <td>...</td>\n",
       "      <td>...</td>\n",
       "      <td>...</td>\n",
       "      <td>...</td>\n",
       "    </tr>\n",
       "    <tr>\n",
       "      <th>3233</th>\n",
       "      <td>U001</td>\n",
       "      <td>0200861551</td>\n",
       "      <td>MRS GR in</td>\n",
       "      <td>NaT</td>\n",
       "      <td>2020</td>\n",
       "      <td>1.93057e+09</td>\n",
       "      <td>2020-03-04</td>\n",
       "      <td>2020-03-02</td>\n",
       "      <td>2020-03-04</td>\n",
       "      <td>2020-03-19</td>\n",
       "      <td>USD</td>\n",
       "      <td>40758.1</td>\n",
       "      <td>2020-03-04</td>\n",
       "      <td>NAA8</td>\n",
       "      <td>1</td>\n",
       "    </tr>\n",
       "    <tr>\n",
       "      <th>3234</th>\n",
       "      <td>U001</td>\n",
       "      <td>0200769623</td>\n",
       "      <td>WAL-MAR foundation</td>\n",
       "      <td>NaT</td>\n",
       "      <td>2020</td>\n",
       "      <td>1.93064e+09</td>\n",
       "      <td>2020-03-13</td>\n",
       "      <td>2020-03-11</td>\n",
       "      <td>2020-03-13</td>\n",
       "      <td>2020-03-28</td>\n",
       "      <td>USD</td>\n",
       "      <td>14981.1</td>\n",
       "      <td>2020-03-13</td>\n",
       "      <td>NAH4</td>\n",
       "      <td>1</td>\n",
       "    </tr>\n",
       "    <tr>\n",
       "      <th>3235</th>\n",
       "      <td>U001</td>\n",
       "      <td>200965912</td>\n",
       "      <td>C&amp;S W</td>\n",
       "      <td>NaT</td>\n",
       "      <td>2020</td>\n",
       "      <td>1.93086e+09</td>\n",
       "      <td>2020-05-05</td>\n",
       "      <td>2020-05-05</td>\n",
       "      <td>2020-05-05</td>\n",
       "      <td>2020-05-20</td>\n",
       "      <td>USD</td>\n",
       "      <td>14514.3</td>\n",
       "      <td>2020-05-05</td>\n",
       "      <td>NAC6</td>\n",
       "      <td>1</td>\n",
       "    </tr>\n",
       "    <tr>\n",
       "      <th>3236</th>\n",
       "      <td>U001</td>\n",
       "      <td>0200820380</td>\n",
       "      <td>SMITH'S trust</td>\n",
       "      <td>NaT</td>\n",
       "      <td>2020</td>\n",
       "      <td>1.9308e+09</td>\n",
       "      <td>2020-04-21</td>\n",
       "      <td>2020-04-20</td>\n",
       "      <td>2020-04-21</td>\n",
       "      <td>2020-05-06</td>\n",
       "      <td>USD</td>\n",
       "      <td>40345.4</td>\n",
       "      <td>2020-04-21</td>\n",
       "      <td>NAA8</td>\n",
       "      <td>1</td>\n",
       "    </tr>\n",
       "    <tr>\n",
       "      <th>3237</th>\n",
       "      <td>U001</td>\n",
       "      <td>0200759878</td>\n",
       "      <td>SA</td>\n",
       "      <td>NaT</td>\n",
       "      <td>2020</td>\n",
       "      <td>1.93059e+09</td>\n",
       "      <td>2020-03-03</td>\n",
       "      <td>2020-03-03</td>\n",
       "      <td>2020-03-03</td>\n",
       "      <td>2020-03-18</td>\n",
       "      <td>USD</td>\n",
       "      <td>46054.9</td>\n",
       "      <td>2020-03-03</td>\n",
       "      <td>NAH4</td>\n",
       "      <td>1</td>\n",
       "    </tr>\n",
       "  </tbody>\n",
       "</table>\n",
       "<p>3238 rows × 15 columns</p>\n",
       "</div>"
      ],
      "text/plain": [
       "     business_code cust_number  ... cust_payment_terms isOpen\n",
       "0             U001  0200397526  ...               NAA8      1\n",
       "1             U001  0200743123  ...               NAA8      1\n",
       "2             U001  0200780383  ...               NAA8      1\n",
       "3             U001  0200769623  ...               NAH4      1\n",
       "4             U001  0200769623  ...               NAH4      1\n",
       "...            ...         ...  ...                ...    ...\n",
       "3233          U001  0200861551  ...               NAA8      1\n",
       "3234          U001  0200769623  ...               NAH4      1\n",
       "3235          U001   200965912  ...               NAC6      1\n",
       "3236          U001  0200820380  ...               NAA8      1\n",
       "3237          U001  0200759878  ...               NAH4      1\n",
       "\n",
       "[3238 rows x 15 columns]"
      ]
     },
     "execution_count": 1054,
     "metadata": {
      "tags": []
     },
     "output_type": "execute_result"
    }
   ],
   "source": [
    "#divide test set \n",
    "test_data=data_unique[data_unique.clear_date.isnull()].reset_index(drop=True)\n",
    "test_data"
   ]
  },
  {
   "cell_type": "code",
   "execution_count": 1055,
   "metadata": {
    "colab": {
     "base_uri": "https://localhost:8080/",
     "height": 470
    },
    "id": "1RmBhwqPVecW",
    "outputId": "232f3afd-fc65-4a09-8f85-252223a25152"
   },
   "outputs": [
    {
     "data": {
      "text/html": [
       "<div>\n",
       "<style scoped>\n",
       "    .dataframe tbody tr th:only-of-type {\n",
       "        vertical-align: middle;\n",
       "    }\n",
       "\n",
       "    .dataframe tbody tr th {\n",
       "        vertical-align: top;\n",
       "    }\n",
       "\n",
       "    .dataframe thead th {\n",
       "        text-align: right;\n",
       "    }\n",
       "</style>\n",
       "<table border=\"1\" class=\"dataframe\">\n",
       "  <thead>\n",
       "    <tr style=\"text-align: right;\">\n",
       "      <th></th>\n",
       "      <th>business_code</th>\n",
       "      <th>cust_number</th>\n",
       "      <th>name_customer</th>\n",
       "      <th>clear_date</th>\n",
       "      <th>buisness_year</th>\n",
       "      <th>doc_id</th>\n",
       "      <th>posting_date</th>\n",
       "      <th>document_create_date</th>\n",
       "      <th>document_create_date.1</th>\n",
       "      <th>due_in_date</th>\n",
       "      <th>invoice_currency</th>\n",
       "      <th>total_open_amount</th>\n",
       "      <th>baseline_create_date</th>\n",
       "      <th>cust_payment_terms</th>\n",
       "      <th>isOpen</th>\n",
       "    </tr>\n",
       "  </thead>\n",
       "  <tbody>\n",
       "    <tr>\n",
       "      <th>0</th>\n",
       "      <td>U001</td>\n",
       "      <td>0200705742</td>\n",
       "      <td>DOT us</td>\n",
       "      <td>2019-02-06</td>\n",
       "      <td>2019</td>\n",
       "      <td>1.92866e+09</td>\n",
       "      <td>2019-01-22</td>\n",
       "      <td>2019-01-21</td>\n",
       "      <td>2019-01-22</td>\n",
       "      <td>2019-02-11</td>\n",
       "      <td>USD</td>\n",
       "      <td>2079.55</td>\n",
       "      <td>2019-01-22</td>\n",
       "      <td>NAD1</td>\n",
       "      <td>0</td>\n",
       "    </tr>\n",
       "    <tr>\n",
       "      <th>1</th>\n",
       "      <td>U001</td>\n",
       "      <td>0200803720</td>\n",
       "      <td>DEC trust</td>\n",
       "      <td>2019-05-01</td>\n",
       "      <td>2019</td>\n",
       "      <td>1.92921e+09</td>\n",
       "      <td>2019-04-26</td>\n",
       "      <td>2019-04-26</td>\n",
       "      <td>2019-04-26</td>\n",
       "      <td>2019-05-09</td>\n",
       "      <td>USD</td>\n",
       "      <td>68.52</td>\n",
       "      <td>2019-04-16</td>\n",
       "      <td>NAM4</td>\n",
       "      <td>0</td>\n",
       "    </tr>\n",
       "    <tr>\n",
       "      <th>2</th>\n",
       "      <td>U001</td>\n",
       "      <td>0200592182</td>\n",
       "      <td>DECA co</td>\n",
       "      <td>2019-06-03</td>\n",
       "      <td>2019</td>\n",
       "      <td>1.92938e+09</td>\n",
       "      <td>2019-05-25</td>\n",
       "      <td>2019-05-25</td>\n",
       "      <td>2019-05-25</td>\n",
       "      <td>2019-06-08</td>\n",
       "      <td>USD</td>\n",
       "      <td>1677.82</td>\n",
       "      <td>2019-05-16</td>\n",
       "      <td>NAM4</td>\n",
       "      <td>0</td>\n",
       "    </tr>\n",
       "    <tr>\n",
       "      <th>3</th>\n",
       "      <td>U001</td>\n",
       "      <td>0200769623</td>\n",
       "      <td>WAL-MAR associates</td>\n",
       "      <td>2019-02-20</td>\n",
       "      <td>2019</td>\n",
       "      <td>1.92877e+09</td>\n",
       "      <td>2019-02-09</td>\n",
       "      <td>2019-02-08</td>\n",
       "      <td>2019-02-09</td>\n",
       "      <td>2019-02-24</td>\n",
       "      <td>USD</td>\n",
       "      <td>66906.8</td>\n",
       "      <td>2019-02-09</td>\n",
       "      <td>NAH4</td>\n",
       "      <td>0</td>\n",
       "    </tr>\n",
       "    <tr>\n",
       "      <th>4</th>\n",
       "      <td>U001</td>\n",
       "      <td>200769623</td>\n",
       "      <td>WAL-MAR in</td>\n",
       "      <td>2019-06-12</td>\n",
       "      <td>2019</td>\n",
       "      <td>1.92941e+09</td>\n",
       "      <td>2019-06-01</td>\n",
       "      <td>2019-05-30</td>\n",
       "      <td>2019-06-01</td>\n",
       "      <td>2019-06-16</td>\n",
       "      <td>USD</td>\n",
       "      <td>65593.9</td>\n",
       "      <td>2019-06-01</td>\n",
       "      <td>NAH4</td>\n",
       "      <td>0</td>\n",
       "    </tr>\n",
       "    <tr>\n",
       "      <th>...</th>\n",
       "      <td>...</td>\n",
       "      <td>...</td>\n",
       "      <td>...</td>\n",
       "      <td>...</td>\n",
       "      <td>...</td>\n",
       "      <td>...</td>\n",
       "      <td>...</td>\n",
       "      <td>...</td>\n",
       "      <td>...</td>\n",
       "      <td>...</td>\n",
       "      <td>...</td>\n",
       "      <td>...</td>\n",
       "      <td>...</td>\n",
       "      <td>...</td>\n",
       "      <td>...</td>\n",
       "    </tr>\n",
       "    <tr>\n",
       "      <th>46752</th>\n",
       "      <td>U001</td>\n",
       "      <td>0200771157</td>\n",
       "      <td>WEIS associates</td>\n",
       "      <td>2019-08-30</td>\n",
       "      <td>2019</td>\n",
       "      <td>1.92975e+09</td>\n",
       "      <td>2019-08-14</td>\n",
       "      <td>2019-08-15</td>\n",
       "      <td>2019-08-14</td>\n",
       "      <td>2019-08-29</td>\n",
       "      <td>USD</td>\n",
       "      <td>58119.4</td>\n",
       "      <td>2019-08-14</td>\n",
       "      <td>NAA8</td>\n",
       "      <td>0</td>\n",
       "    </tr>\n",
       "    <tr>\n",
       "      <th>46753</th>\n",
       "      <td>U001</td>\n",
       "      <td>200786288</td>\n",
       "      <td>FAMILY</td>\n",
       "      <td>2019-07-08</td>\n",
       "      <td>2019</td>\n",
       "      <td>1.92953e+09</td>\n",
       "      <td>2019-06-24</td>\n",
       "      <td>2019-06-23</td>\n",
       "      <td>2019-06-24</td>\n",
       "      <td>2019-07-09</td>\n",
       "      <td>USD</td>\n",
       "      <td>11770.5</td>\n",
       "      <td>2019-06-24</td>\n",
       "      <td>NAC6</td>\n",
       "      <td>0</td>\n",
       "    </tr>\n",
       "    <tr>\n",
       "      <th>46754</th>\n",
       "      <td>U001</td>\n",
       "      <td>0200769623</td>\n",
       "      <td>WAL-MAR co</td>\n",
       "      <td>2019-07-03</td>\n",
       "      <td>2019</td>\n",
       "      <td>1.92953e+09</td>\n",
       "      <td>2019-06-23</td>\n",
       "      <td>2019-06-21</td>\n",
       "      <td>2019-06-23</td>\n",
       "      <td>2019-07-08</td>\n",
       "      <td>USD</td>\n",
       "      <td>70346.5</td>\n",
       "      <td>2019-06-23</td>\n",
       "      <td>NAH4</td>\n",
       "      <td>0</td>\n",
       "    </tr>\n",
       "    <tr>\n",
       "      <th>46755</th>\n",
       "      <td>U001</td>\n",
       "      <td>0200749225</td>\n",
       "      <td>SUPER</td>\n",
       "      <td>2019-01-17</td>\n",
       "      <td>2019</td>\n",
       "      <td>1.92855e+09</td>\n",
       "      <td>2019-01-02</td>\n",
       "      <td>2019-01-02</td>\n",
       "      <td>2019-01-02</td>\n",
       "      <td>2019-01-17</td>\n",
       "      <td>USD</td>\n",
       "      <td>135678</td>\n",
       "      <td>2019-01-02</td>\n",
       "      <td>NAA8</td>\n",
       "      <td>0</td>\n",
       "    </tr>\n",
       "    <tr>\n",
       "      <th>46756</th>\n",
       "      <td>U001</td>\n",
       "      <td>0200769369</td>\n",
       "      <td>DI associates</td>\n",
       "      <td>2019-03-22</td>\n",
       "      <td>2019</td>\n",
       "      <td>1.92892e+09</td>\n",
       "      <td>2019-03-07</td>\n",
       "      <td>2019-03-07</td>\n",
       "      <td>2019-03-07</td>\n",
       "      <td>2019-03-22</td>\n",
       "      <td>USD</td>\n",
       "      <td>32677.6</td>\n",
       "      <td>2019-03-07</td>\n",
       "      <td>NAA8</td>\n",
       "      <td>0</td>\n",
       "    </tr>\n",
       "  </tbody>\n",
       "</table>\n",
       "<p>46757 rows × 15 columns</p>\n",
       "</div>"
      ],
      "text/plain": [
       "      business_code cust_number  ... cust_payment_terms isOpen\n",
       "0              U001  0200705742  ...               NAD1      0\n",
       "1              U001  0200803720  ...               NAM4      0\n",
       "2              U001  0200592182  ...               NAM4      0\n",
       "3              U001  0200769623  ...               NAH4      0\n",
       "4              U001   200769623  ...               NAH4      0\n",
       "...             ...         ...  ...                ...    ...\n",
       "46752          U001  0200771157  ...               NAA8      0\n",
       "46753          U001   200786288  ...               NAC6      0\n",
       "46754          U001  0200769623  ...               NAH4      0\n",
       "46755          U001  0200749225  ...               NAA8      0\n",
       "46756          U001  0200769369  ...               NAA8      0\n",
       "\n",
       "[46757 rows x 15 columns]"
      ]
     },
     "execution_count": 1055,
     "metadata": {
      "tags": []
     },
     "output_type": "execute_result"
    }
   ],
   "source": [
    "#creating rest bigdata set\n",
    "big_set=data_unique[data_unique.clear_date.notnull()].reset_index(drop=True)\n",
    "big_set"
   ]
  },
  {
   "cell_type": "code",
   "execution_count": 1056,
   "metadata": {
    "colab": {
     "base_uri": "https://localhost:8080/",
     "height": 69
    },
    "id": "F9qm6KyOgMJq",
    "outputId": "5cfefc23-ef78-49e8-bcd9-7b65acd16339"
   },
   "outputs": [
    {
     "data": {
      "text/html": [
       "<div>\n",
       "<style scoped>\n",
       "    .dataframe tbody tr th:only-of-type {\n",
       "        vertical-align: middle;\n",
       "    }\n",
       "\n",
       "    .dataframe tbody tr th {\n",
       "        vertical-align: top;\n",
       "    }\n",
       "\n",
       "    .dataframe thead th {\n",
       "        text-align: right;\n",
       "    }\n",
       "</style>\n",
       "<table border=\"1\" class=\"dataframe\">\n",
       "  <thead>\n",
       "    <tr style=\"text-align: right;\">\n",
       "      <th></th>\n",
       "      <th>business_code</th>\n",
       "      <th>cust_number</th>\n",
       "      <th>name_customer</th>\n",
       "      <th>clear_date</th>\n",
       "      <th>buisness_year</th>\n",
       "      <th>doc_id</th>\n",
       "      <th>posting_date</th>\n",
       "      <th>document_create_date</th>\n",
       "      <th>document_create_date.1</th>\n",
       "      <th>due_in_date</th>\n",
       "      <th>invoice_currency</th>\n",
       "      <th>total_open_amount</th>\n",
       "      <th>baseline_create_date</th>\n",
       "      <th>cust_payment_terms</th>\n",
       "      <th>isOpen</th>\n",
       "    </tr>\n",
       "  </thead>\n",
       "  <tbody>\n",
       "  </tbody>\n",
       "</table>\n",
       "</div>"
      ],
      "text/plain": [
       "Empty DataFrame\n",
       "Columns: [business_code, cust_number, name_customer, clear_date, buisness_year, doc_id, posting_date, document_create_date, document_create_date.1, due_in_date, invoice_currency, total_open_amount, baseline_create_date, cust_payment_terms, isOpen]\n",
       "Index: []"
      ]
     },
     "execution_count": 1056,
     "metadata": {
      "tags": []
     },
     "output_type": "execute_result"
    }
   ],
   "source": [
    "df1=big_set[big_set['document_create_date.1']>big_set['clear_date']] ##checking if create date.1 is after than clear date\n",
    "df1"
   ]
  },
  {
   "cell_type": "code",
   "execution_count": 1057,
   "metadata": {
    "colab": {
     "base_uri": "https://localhost:8080/"
    },
    "id": "B1GjF6AHDQp3",
    "outputId": "238c3f26-4c93-4d27-c4cf-ac9032b3f370"
   },
   "outputs": [
    {
     "name": "stdout",
     "output_type": "stream",
     "text": [
      "Min create date 1 2020-02-27 00:00:00 Max create date 1 2020-05-16 00:00:00\n"
     ]
    }
   ],
   "source": [
    "#Finding min and max dates of create dat.1 of test case\n",
    "min_dt_test=test_data['document_create_date.1'].min()\n",
    "max_dt_test=test_data['document_create_date.1'].max()\n",
    "print(\"Min create date 1\",min_dt_test,\"Max create date 1\",max_dt_test)"
   ]
  },
  {
   "cell_type": "code",
   "execution_count": 1058,
   "metadata": {
    "colab": {
     "base_uri": "https://localhost:8080/"
    },
    "id": "Qlf-xWFxEHs6",
    "outputId": "d0b99b19-1c3d-4db5-be75-22abf20ddd78"
   },
   "outputs": [
    {
     "name": "stdout",
     "output_type": "stream",
     "text": [
      "Min create date 1 2018-12-30 00:00:00 Max create date 1 2020-02-27 00:00:00\n"
     ]
    }
   ],
   "source": [
    "#Finding min and max dates of create dat.1 of big_set\n",
    "min_dt_big=big_set['document_create_date.1'].min()\n",
    "max_dt_big=big_set['document_create_date.1'].max()\n",
    "print(\"Min create date 1\",min_dt_big,\"Max create date 1\",max_dt_big)"
   ]
  },
  {
   "cell_type": "code",
   "execution_count": 1059,
   "metadata": {
    "colab": {
     "base_uri": "https://localhost:8080/"
    },
    "id": "7iiePOc_GpG4",
    "outputId": "d5ee80ca-4f64-40da-98e4-08abf366f70c"
   },
   "outputs": [
    {
     "data": {
      "text/plain": [
       "(3238, 15)"
      ]
     },
     "execution_count": 1059,
     "metadata": {
      "tags": []
     },
     "output_type": "execute_result"
    }
   ],
   "source": [
    "test_data.shape"
   ]
  },
  {
   "cell_type": "code",
   "execution_count": 1060,
   "metadata": {
    "id": "f5WeDh6AK9os"
   },
   "outputs": [],
   "source": [
    "###################splitting big_set to train set, val2, val1 based on document_create_date.1####################"
   ]
  },
  {
   "cell_type": "code",
   "execution_count": 1061,
   "metadata": {
    "colab": {
     "base_uri": "https://localhost:8080/"
    },
    "id": "LNTVE_opFJTY",
    "outputId": "2dc469d5-d736-4b0c-9b13-ad2b870bdb05"
   },
   "outputs": [
    {
     "data": {
      "text/plain": [
       "(4452, 15)"
      ]
     },
     "execution_count": 1061,
     "metadata": {
      "tags": []
     },
     "output_type": "execute_result"
    }
   ],
   "source": [
    "#splitting to validation set 2\n",
    "val2=big_set[big_set['document_create_date.1'] >= '2020-01-16'].copy()\n",
    "val2.shape"
   ]
  },
  {
   "cell_type": "code",
   "execution_count": 1062,
   "metadata": {
    "colab": {
     "base_uri": "https://localhost:8080/",
     "height": 505
    },
    "id": "GQQtz4BUO_Cz",
    "outputId": "319dcd0b-698d-4f63-beb3-9bd9927aa6cd"
   },
   "outputs": [
    {
     "data": {
      "text/html": [
       "<div>\n",
       "<style scoped>\n",
       "    .dataframe tbody tr th:only-of-type {\n",
       "        vertical-align: middle;\n",
       "    }\n",
       "\n",
       "    .dataframe tbody tr th {\n",
       "        vertical-align: top;\n",
       "    }\n",
       "\n",
       "    .dataframe thead th {\n",
       "        text-align: right;\n",
       "    }\n",
       "</style>\n",
       "<table border=\"1\" class=\"dataframe\">\n",
       "  <thead>\n",
       "    <tr style=\"text-align: right;\">\n",
       "      <th></th>\n",
       "      <th>business_code</th>\n",
       "      <th>cust_number</th>\n",
       "      <th>name_customer</th>\n",
       "      <th>clear_date</th>\n",
       "      <th>buisness_year</th>\n",
       "      <th>doc_id</th>\n",
       "      <th>posting_date</th>\n",
       "      <th>document_create_date</th>\n",
       "      <th>document_create_date.1</th>\n",
       "      <th>due_in_date</th>\n",
       "      <th>invoice_currency</th>\n",
       "      <th>total_open_amount</th>\n",
       "      <th>baseline_create_date</th>\n",
       "      <th>cust_payment_terms</th>\n",
       "      <th>isOpen</th>\n",
       "    </tr>\n",
       "  </thead>\n",
       "  <tbody>\n",
       "    <tr>\n",
       "      <th>0</th>\n",
       "      <td>U001</td>\n",
       "      <td>0200956366</td>\n",
       "      <td>RICH foundation</td>\n",
       "      <td>2020-02-28</td>\n",
       "      <td>2020</td>\n",
       "      <td>1.93051e+09</td>\n",
       "      <td>2020-02-13</td>\n",
       "      <td>2020-02-11</td>\n",
       "      <td>2020-02-13</td>\n",
       "      <td>2020-02-28</td>\n",
       "      <td>USD</td>\n",
       "      <td>41116.7</td>\n",
       "      <td>2020-02-13</td>\n",
       "      <td>NAA8</td>\n",
       "      <td>0</td>\n",
       "    </tr>\n",
       "    <tr>\n",
       "      <th>1</th>\n",
       "      <td>U001</td>\n",
       "      <td>0200769623</td>\n",
       "      <td>WAL-MAR us</td>\n",
       "      <td>2020-02-18</td>\n",
       "      <td>2020</td>\n",
       "      <td>1.9305e+09</td>\n",
       "      <td>2020-02-06</td>\n",
       "      <td>2020-02-07</td>\n",
       "      <td>2020-02-06</td>\n",
       "      <td>2020-02-21</td>\n",
       "      <td>USD</td>\n",
       "      <td>1329.23</td>\n",
       "      <td>2020-02-06</td>\n",
       "      <td>NAH4</td>\n",
       "      <td>0</td>\n",
       "    </tr>\n",
       "    <tr>\n",
       "      <th>2</th>\n",
       "      <td>CA02</td>\n",
       "      <td>0140104429</td>\n",
       "      <td>COSTCO us</td>\n",
       "      <td>2020-02-28</td>\n",
       "      <td>2020</td>\n",
       "      <td>2.96061e+09</td>\n",
       "      <td>2020-02-15</td>\n",
       "      <td>2020-02-15</td>\n",
       "      <td>2020-02-15</td>\n",
       "      <td>2020-02-27</td>\n",
       "      <td>CAD</td>\n",
       "      <td>19307.2</td>\n",
       "      <td>2020-02-17</td>\n",
       "      <td>CA10</td>\n",
       "      <td>0</td>\n",
       "    </tr>\n",
       "    <tr>\n",
       "      <th>3</th>\n",
       "      <td>U001</td>\n",
       "      <td>0200769623</td>\n",
       "      <td>WAL-MAR corporation</td>\n",
       "      <td>2020-02-19</td>\n",
       "      <td>2020</td>\n",
       "      <td>1.93044e+09</td>\n",
       "      <td>2020-01-27</td>\n",
       "      <td>2020-01-27</td>\n",
       "      <td>2020-01-27</td>\n",
       "      <td>2020-02-11</td>\n",
       "      <td>USD</td>\n",
       "      <td>68543.1</td>\n",
       "      <td>2020-01-27</td>\n",
       "      <td>NAH4</td>\n",
       "      <td>0</td>\n",
       "    </tr>\n",
       "    <tr>\n",
       "      <th>4</th>\n",
       "      <td>U001</td>\n",
       "      <td>0200148860</td>\n",
       "      <td>DOLLA in</td>\n",
       "      <td>2020-02-25</td>\n",
       "      <td>2020</td>\n",
       "      <td>1.9305e+09</td>\n",
       "      <td>2020-02-10</td>\n",
       "      <td>2020-02-09</td>\n",
       "      <td>2020-02-10</td>\n",
       "      <td>2020-04-15</td>\n",
       "      <td>USD</td>\n",
       "      <td>9930.77</td>\n",
       "      <td>2020-02-10</td>\n",
       "      <td>NAGD</td>\n",
       "      <td>0</td>\n",
       "    </tr>\n",
       "    <tr>\n",
       "      <th>...</th>\n",
       "      <td>...</td>\n",
       "      <td>...</td>\n",
       "      <td>...</td>\n",
       "      <td>...</td>\n",
       "      <td>...</td>\n",
       "      <td>...</td>\n",
       "      <td>...</td>\n",
       "      <td>...</td>\n",
       "      <td>...</td>\n",
       "      <td>...</td>\n",
       "      <td>...</td>\n",
       "      <td>...</td>\n",
       "      <td>...</td>\n",
       "      <td>...</td>\n",
       "      <td>...</td>\n",
       "    </tr>\n",
       "    <tr>\n",
       "      <th>4447</th>\n",
       "      <td>U001</td>\n",
       "      <td>0200794332</td>\n",
       "      <td>COST corporation</td>\n",
       "      <td>2020-02-19</td>\n",
       "      <td>2020</td>\n",
       "      <td>1.93047e+09</td>\n",
       "      <td>2020-02-04</td>\n",
       "      <td>2020-02-02</td>\n",
       "      <td>2020-02-04</td>\n",
       "      <td>2020-02-19</td>\n",
       "      <td>USD</td>\n",
       "      <td>40212.1</td>\n",
       "      <td>2020-02-04</td>\n",
       "      <td>NAAX</td>\n",
       "      <td>0</td>\n",
       "    </tr>\n",
       "    <tr>\n",
       "      <th>4448</th>\n",
       "      <td>U001</td>\n",
       "      <td>0200726979</td>\n",
       "      <td>BJ'S  in</td>\n",
       "      <td>2020-02-03</td>\n",
       "      <td>2020</td>\n",
       "      <td>1.93041e+09</td>\n",
       "      <td>2020-01-17</td>\n",
       "      <td>2020-01-16</td>\n",
       "      <td>2020-01-17</td>\n",
       "      <td>2020-02-01</td>\n",
       "      <td>USD</td>\n",
       "      <td>110.43</td>\n",
       "      <td>2020-01-17</td>\n",
       "      <td>NAA8</td>\n",
       "      <td>0</td>\n",
       "    </tr>\n",
       "    <tr>\n",
       "      <th>4449</th>\n",
       "      <td>U001</td>\n",
       "      <td>0200797984</td>\n",
       "      <td>PIGGLY foundation</td>\n",
       "      <td>2020-03-02</td>\n",
       "      <td>2020</td>\n",
       "      <td>1.93052e+09</td>\n",
       "      <td>2020-02-14</td>\n",
       "      <td>2020-02-14</td>\n",
       "      <td>2020-02-14</td>\n",
       "      <td>2020-02-29</td>\n",
       "      <td>USD</td>\n",
       "      <td>41004.6</td>\n",
       "      <td>2020-02-14</td>\n",
       "      <td>NAA8</td>\n",
       "      <td>0</td>\n",
       "    </tr>\n",
       "    <tr>\n",
       "      <th>4450</th>\n",
       "      <td>U001</td>\n",
       "      <td>0200759878</td>\n",
       "      <td>SA corp</td>\n",
       "      <td>2020-02-21</td>\n",
       "      <td>2020</td>\n",
       "      <td>1.93048e+09</td>\n",
       "      <td>2020-02-05</td>\n",
       "      <td>2020-02-04</td>\n",
       "      <td>2020-02-05</td>\n",
       "      <td>2020-02-20</td>\n",
       "      <td>USD</td>\n",
       "      <td>14257.9</td>\n",
       "      <td>2020-02-05</td>\n",
       "      <td>NAH4</td>\n",
       "      <td>0</td>\n",
       "    </tr>\n",
       "    <tr>\n",
       "      <th>4451</th>\n",
       "      <td>U001</td>\n",
       "      <td>0200799367</td>\n",
       "      <td>MCL foundation</td>\n",
       "      <td>2020-02-06</td>\n",
       "      <td>2020</td>\n",
       "      <td>1.93042e+09</td>\n",
       "      <td>2020-01-22</td>\n",
       "      <td>2020-01-21</td>\n",
       "      <td>2020-01-22</td>\n",
       "      <td>2020-02-06</td>\n",
       "      <td>USD</td>\n",
       "      <td>52010.2</td>\n",
       "      <td>2020-01-22</td>\n",
       "      <td>NAA8</td>\n",
       "      <td>0</td>\n",
       "    </tr>\n",
       "  </tbody>\n",
       "</table>\n",
       "<p>4452 rows × 15 columns</p>\n",
       "</div>"
      ],
      "text/plain": [
       "     business_code cust_number  ... cust_payment_terms isOpen\n",
       "0             U001  0200956366  ...               NAA8      0\n",
       "1             U001  0200769623  ...               NAH4      0\n",
       "2             CA02  0140104429  ...               CA10      0\n",
       "3             U001  0200769623  ...               NAH4      0\n",
       "4             U001  0200148860  ...               NAGD      0\n",
       "...            ...         ...  ...                ...    ...\n",
       "4447          U001  0200794332  ...               NAAX      0\n",
       "4448          U001  0200726979  ...               NAA8      0\n",
       "4449          U001  0200797984  ...               NAA8      0\n",
       "4450          U001  0200759878  ...               NAH4      0\n",
       "4451          U001  0200799367  ...               NAA8      0\n",
       "\n",
       "[4452 rows x 15 columns]"
      ]
     },
     "execution_count": 1062,
     "metadata": {
      "tags": []
     },
     "output_type": "execute_result"
    }
   ],
   "source": [
    "val2.reset_index(drop=True)"
   ]
  },
  {
   "cell_type": "code",
   "execution_count": 1063,
   "metadata": {
    "colab": {
     "base_uri": "https://localhost:8080/"
    },
    "id": "jJIn-w7YGv_8",
    "outputId": "3849a1e6-0b05-4cbd-df5e-fa517f6d8b95"
   },
   "outputs": [
    {
     "data": {
      "text/plain": [
       "Timestamp('2020-01-15 00:00:00')"
      ]
     },
     "execution_count": 1063,
     "metadata": {
      "tags": []
     },
     "output_type": "execute_result"
    }
   ],
   "source": [
    "#removing validation set 2 from big_set\n",
    "big_set.drop(big_set[big_set['document_create_date.1'] >= '2020-01-16'].index, inplace = True)\n",
    "big_set['document_create_date.1'].max()"
   ]
  },
  {
   "cell_type": "code",
   "execution_count": 1064,
   "metadata": {
    "colab": {
     "base_uri": "https://localhost:8080/"
    },
    "id": "r5G7BiBILLiO",
    "outputId": "c4f6f2fc-9df0-48de-f929-ccef795dda99"
   },
   "outputs": [
    {
     "data": {
      "text/plain": [
       "(2987, 15)"
      ]
     },
     "execution_count": 1064,
     "metadata": {
      "tags": []
     },
     "output_type": "execute_result"
    }
   ],
   "source": [
    "#splitting rest big set to val1 and train set\n",
    "val1=big_set[big_set['document_create_date.1'] >= '2019-12-05'].copy()\n",
    "val1.shape"
   ]
  },
  {
   "cell_type": "code",
   "execution_count": 1065,
   "metadata": {
    "colab": {
     "base_uri": "https://localhost:8080/",
     "height": 470
    },
    "id": "AXY3az8HRLHy",
    "outputId": "b995bd7e-d530-4f46-c077-68df97e5a107"
   },
   "outputs": [
    {
     "data": {
      "text/html": [
       "<div>\n",
       "<style scoped>\n",
       "    .dataframe tbody tr th:only-of-type {\n",
       "        vertical-align: middle;\n",
       "    }\n",
       "\n",
       "    .dataframe tbody tr th {\n",
       "        vertical-align: top;\n",
       "    }\n",
       "\n",
       "    .dataframe thead th {\n",
       "        text-align: right;\n",
       "    }\n",
       "</style>\n",
       "<table border=\"1\" class=\"dataframe\">\n",
       "  <thead>\n",
       "    <tr style=\"text-align: right;\">\n",
       "      <th></th>\n",
       "      <th>business_code</th>\n",
       "      <th>cust_number</th>\n",
       "      <th>name_customer</th>\n",
       "      <th>clear_date</th>\n",
       "      <th>buisness_year</th>\n",
       "      <th>doc_id</th>\n",
       "      <th>posting_date</th>\n",
       "      <th>document_create_date</th>\n",
       "      <th>document_create_date.1</th>\n",
       "      <th>due_in_date</th>\n",
       "      <th>invoice_currency</th>\n",
       "      <th>total_open_amount</th>\n",
       "      <th>baseline_create_date</th>\n",
       "      <th>cust_payment_terms</th>\n",
       "      <th>isOpen</th>\n",
       "    </tr>\n",
       "  </thead>\n",
       "  <tbody>\n",
       "    <tr>\n",
       "      <th>0</th>\n",
       "      <td>U001</td>\n",
       "      <td>0200936373</td>\n",
       "      <td>SUPE</td>\n",
       "      <td>2020-01-14</td>\n",
       "      <td>2020</td>\n",
       "      <td>1.93033e+09</td>\n",
       "      <td>2019-12-30</td>\n",
       "      <td>2019-12-30</td>\n",
       "      <td>2019-12-30</td>\n",
       "      <td>2020-01-14</td>\n",
       "      <td>USD</td>\n",
       "      <td>763.91</td>\n",
       "      <td>2019-12-30</td>\n",
       "      <td>NAA8</td>\n",
       "      <td>0</td>\n",
       "    </tr>\n",
       "    <tr>\n",
       "      <th>1</th>\n",
       "      <td>U001</td>\n",
       "      <td>0100031704</td>\n",
       "      <td>DELHAIZE co</td>\n",
       "      <td>2020-01-22</td>\n",
       "      <td>2020</td>\n",
       "      <td>1.93034e+09</td>\n",
       "      <td>2020-01-03</td>\n",
       "      <td>2020-01-02</td>\n",
       "      <td>2020-01-03</td>\n",
       "      <td>2020-01-18</td>\n",
       "      <td>USD</td>\n",
       "      <td>16909.7</td>\n",
       "      <td>2020-01-03</td>\n",
       "      <td>NAA8</td>\n",
       "      <td>0</td>\n",
       "    </tr>\n",
       "    <tr>\n",
       "      <th>2</th>\n",
       "      <td>U001</td>\n",
       "      <td>0200148860</td>\n",
       "      <td>DOLLA trust</td>\n",
       "      <td>2019-12-30</td>\n",
       "      <td>2019</td>\n",
       "      <td>1.93027e+09</td>\n",
       "      <td>2019-12-15</td>\n",
       "      <td>2019-12-11</td>\n",
       "      <td>2019-12-15</td>\n",
       "      <td>2019-12-30</td>\n",
       "      <td>USD</td>\n",
       "      <td>15797.8</td>\n",
       "      <td>2019-12-15</td>\n",
       "      <td>NAA8</td>\n",
       "      <td>0</td>\n",
       "    </tr>\n",
       "    <tr>\n",
       "      <th>3</th>\n",
       "      <td>U001</td>\n",
       "      <td>0200915438</td>\n",
       "      <td>GROC trust</td>\n",
       "      <td>2020-01-22</td>\n",
       "      <td>2020</td>\n",
       "      <td>1.93035e+09</td>\n",
       "      <td>2020-01-07</td>\n",
       "      <td>2020-01-03</td>\n",
       "      <td>2020-01-07</td>\n",
       "      <td>2020-01-22</td>\n",
       "      <td>USD</td>\n",
       "      <td>22143</td>\n",
       "      <td>2020-01-07</td>\n",
       "      <td>NAA8</td>\n",
       "      <td>0</td>\n",
       "    </tr>\n",
       "    <tr>\n",
       "      <th>4</th>\n",
       "      <td>U002</td>\n",
       "      <td>0200978592</td>\n",
       "      <td>PLAZA corp</td>\n",
       "      <td>2020-02-05</td>\n",
       "      <td>2020</td>\n",
       "      <td>1.99057e+09</td>\n",
       "      <td>2020-01-01</td>\n",
       "      <td>2019-12-30</td>\n",
       "      <td>2020-01-01</td>\n",
       "      <td>2020-02-05</td>\n",
       "      <td>USD</td>\n",
       "      <td>67634.4</td>\n",
       "      <td>2020-01-01</td>\n",
       "      <td>NAG2</td>\n",
       "      <td>0</td>\n",
       "    </tr>\n",
       "    <tr>\n",
       "      <th>...</th>\n",
       "      <td>...</td>\n",
       "      <td>...</td>\n",
       "      <td>...</td>\n",
       "      <td>...</td>\n",
       "      <td>...</td>\n",
       "      <td>...</td>\n",
       "      <td>...</td>\n",
       "      <td>...</td>\n",
       "      <td>...</td>\n",
       "      <td>...</td>\n",
       "      <td>...</td>\n",
       "      <td>...</td>\n",
       "      <td>...</td>\n",
       "      <td>...</td>\n",
       "      <td>...</td>\n",
       "    </tr>\n",
       "    <tr>\n",
       "      <th>2982</th>\n",
       "      <td>U001</td>\n",
       "      <td>0200769623</td>\n",
       "      <td>WAL-MAR associates</td>\n",
       "      <td>2019-12-27</td>\n",
       "      <td>2019</td>\n",
       "      <td>1.93029e+09</td>\n",
       "      <td>2019-12-17</td>\n",
       "      <td>2019-12-17</td>\n",
       "      <td>2019-12-17</td>\n",
       "      <td>2020-01-01</td>\n",
       "      <td>USD</td>\n",
       "      <td>471.56</td>\n",
       "      <td>2019-12-17</td>\n",
       "      <td>NAH4</td>\n",
       "      <td>0</td>\n",
       "    </tr>\n",
       "    <tr>\n",
       "      <th>2983</th>\n",
       "      <td>U001</td>\n",
       "      <td>0200769623</td>\n",
       "      <td>WAL-MAR trust</td>\n",
       "      <td>2020-01-14</td>\n",
       "      <td>2020</td>\n",
       "      <td>1.93033e+09</td>\n",
       "      <td>2019-12-29</td>\n",
       "      <td>2019-12-28</td>\n",
       "      <td>2019-12-29</td>\n",
       "      <td>2020-01-13</td>\n",
       "      <td>USD</td>\n",
       "      <td>7652.44</td>\n",
       "      <td>2019-12-29</td>\n",
       "      <td>NAH4</td>\n",
       "      <td>0</td>\n",
       "    </tr>\n",
       "    <tr>\n",
       "      <th>2984</th>\n",
       "      <td>U001</td>\n",
       "      <td>0200726979</td>\n",
       "      <td>BJ'S  llc</td>\n",
       "      <td>2020-01-13</td>\n",
       "      <td>2020</td>\n",
       "      <td>1.93033e+09</td>\n",
       "      <td>2019-12-29</td>\n",
       "      <td>2019-12-28</td>\n",
       "      <td>2019-12-29</td>\n",
       "      <td>2020-01-13</td>\n",
       "      <td>USD</td>\n",
       "      <td>142.9</td>\n",
       "      <td>2019-12-29</td>\n",
       "      <td>NAA8</td>\n",
       "      <td>0</td>\n",
       "    </tr>\n",
       "    <tr>\n",
       "      <th>2985</th>\n",
       "      <td>U001</td>\n",
       "      <td>0200769623</td>\n",
       "      <td>WAL-MAR</td>\n",
       "      <td>2019-12-24</td>\n",
       "      <td>2019</td>\n",
       "      <td>1.93028e+09</td>\n",
       "      <td>2019-12-14</td>\n",
       "      <td>2019-12-13</td>\n",
       "      <td>2019-12-14</td>\n",
       "      <td>2019-12-29</td>\n",
       "      <td>USD</td>\n",
       "      <td>52026.9</td>\n",
       "      <td>2019-12-14</td>\n",
       "      <td>NAH4</td>\n",
       "      <td>0</td>\n",
       "    </tr>\n",
       "    <tr>\n",
       "      <th>2986</th>\n",
       "      <td>U001</td>\n",
       "      <td>0200769623</td>\n",
       "      <td>WAL-MAR associates</td>\n",
       "      <td>2019-12-30</td>\n",
       "      <td>2019</td>\n",
       "      <td>1.93027e+09</td>\n",
       "      <td>2019-12-13</td>\n",
       "      <td>2019-12-11</td>\n",
       "      <td>2019-12-13</td>\n",
       "      <td>2019-12-28</td>\n",
       "      <td>USD</td>\n",
       "      <td>587.93</td>\n",
       "      <td>2019-12-13</td>\n",
       "      <td>NAH4</td>\n",
       "      <td>0</td>\n",
       "    </tr>\n",
       "  </tbody>\n",
       "</table>\n",
       "<p>2987 rows × 15 columns</p>\n",
       "</div>"
      ],
      "text/plain": [
       "     business_code cust_number  ... cust_payment_terms isOpen\n",
       "0             U001  0200936373  ...               NAA8      0\n",
       "1             U001  0100031704  ...               NAA8      0\n",
       "2             U001  0200148860  ...               NAA8      0\n",
       "3             U001  0200915438  ...               NAA8      0\n",
       "4             U002  0200978592  ...               NAG2      0\n",
       "...            ...         ...  ...                ...    ...\n",
       "2982          U001  0200769623  ...               NAH4      0\n",
       "2983          U001  0200769623  ...               NAH4      0\n",
       "2984          U001  0200726979  ...               NAA8      0\n",
       "2985          U001  0200769623  ...               NAH4      0\n",
       "2986          U001  0200769623  ...               NAH4      0\n",
       "\n",
       "[2987 rows x 15 columns]"
      ]
     },
     "execution_count": 1065,
     "metadata": {
      "tags": []
     },
     "output_type": "execute_result"
    }
   ],
   "source": [
    "val1.reset_index(drop=True)"
   ]
  },
  {
   "cell_type": "code",
   "execution_count": 1066,
   "metadata": {
    "colab": {
     "base_uri": "https://localhost:8080/"
    },
    "id": "nHO16bc8OEX_",
    "outputId": "d39f3093-8994-4830-b2bc-4ed2e07d1c27"
   },
   "outputs": [
    {
     "data": {
      "text/plain": [
       "(39318, 15)"
      ]
     },
     "execution_count": 1066,
     "metadata": {
      "tags": []
     },
     "output_type": "execute_result"
    }
   ],
   "source": [
    "train_set=big_set[big_set['document_create_date.1'] < '2019-12-05'].copy()\n",
    "train_set.shape"
   ]
  },
  {
   "cell_type": "code",
   "execution_count": 1067,
   "metadata": {
    "colab": {
     "base_uri": "https://localhost:8080/",
     "height": 470
    },
    "id": "9dtYjtWORhTR",
    "outputId": "350fc042-b48b-4d3a-c209-d5ee91d1bd73"
   },
   "outputs": [
    {
     "data": {
      "text/html": [
       "<div>\n",
       "<style scoped>\n",
       "    .dataframe tbody tr th:only-of-type {\n",
       "        vertical-align: middle;\n",
       "    }\n",
       "\n",
       "    .dataframe tbody tr th {\n",
       "        vertical-align: top;\n",
       "    }\n",
       "\n",
       "    .dataframe thead th {\n",
       "        text-align: right;\n",
       "    }\n",
       "</style>\n",
       "<table border=\"1\" class=\"dataframe\">\n",
       "  <thead>\n",
       "    <tr style=\"text-align: right;\">\n",
       "      <th></th>\n",
       "      <th>business_code</th>\n",
       "      <th>cust_number</th>\n",
       "      <th>name_customer</th>\n",
       "      <th>clear_date</th>\n",
       "      <th>buisness_year</th>\n",
       "      <th>doc_id</th>\n",
       "      <th>posting_date</th>\n",
       "      <th>document_create_date</th>\n",
       "      <th>document_create_date.1</th>\n",
       "      <th>due_in_date</th>\n",
       "      <th>invoice_currency</th>\n",
       "      <th>total_open_amount</th>\n",
       "      <th>baseline_create_date</th>\n",
       "      <th>cust_payment_terms</th>\n",
       "      <th>isOpen</th>\n",
       "    </tr>\n",
       "  </thead>\n",
       "  <tbody>\n",
       "    <tr>\n",
       "      <th>0</th>\n",
       "      <td>U001</td>\n",
       "      <td>0200705742</td>\n",
       "      <td>DOT us</td>\n",
       "      <td>2019-02-06</td>\n",
       "      <td>2019</td>\n",
       "      <td>1.92866e+09</td>\n",
       "      <td>2019-01-22</td>\n",
       "      <td>2019-01-21</td>\n",
       "      <td>2019-01-22</td>\n",
       "      <td>2019-02-11</td>\n",
       "      <td>USD</td>\n",
       "      <td>2079.55</td>\n",
       "      <td>2019-01-22</td>\n",
       "      <td>NAD1</td>\n",
       "      <td>0</td>\n",
       "    </tr>\n",
       "    <tr>\n",
       "      <th>1</th>\n",
       "      <td>U001</td>\n",
       "      <td>0200803720</td>\n",
       "      <td>DEC trust</td>\n",
       "      <td>2019-05-01</td>\n",
       "      <td>2019</td>\n",
       "      <td>1.92921e+09</td>\n",
       "      <td>2019-04-26</td>\n",
       "      <td>2019-04-26</td>\n",
       "      <td>2019-04-26</td>\n",
       "      <td>2019-05-09</td>\n",
       "      <td>USD</td>\n",
       "      <td>68.52</td>\n",
       "      <td>2019-04-16</td>\n",
       "      <td>NAM4</td>\n",
       "      <td>0</td>\n",
       "    </tr>\n",
       "    <tr>\n",
       "      <th>2</th>\n",
       "      <td>U001</td>\n",
       "      <td>0200592182</td>\n",
       "      <td>DECA co</td>\n",
       "      <td>2019-06-03</td>\n",
       "      <td>2019</td>\n",
       "      <td>1.92938e+09</td>\n",
       "      <td>2019-05-25</td>\n",
       "      <td>2019-05-25</td>\n",
       "      <td>2019-05-25</td>\n",
       "      <td>2019-06-08</td>\n",
       "      <td>USD</td>\n",
       "      <td>1677.82</td>\n",
       "      <td>2019-05-16</td>\n",
       "      <td>NAM4</td>\n",
       "      <td>0</td>\n",
       "    </tr>\n",
       "    <tr>\n",
       "      <th>3</th>\n",
       "      <td>U001</td>\n",
       "      <td>0200769623</td>\n",
       "      <td>WAL-MAR associates</td>\n",
       "      <td>2019-02-20</td>\n",
       "      <td>2019</td>\n",
       "      <td>1.92877e+09</td>\n",
       "      <td>2019-02-09</td>\n",
       "      <td>2019-02-08</td>\n",
       "      <td>2019-02-09</td>\n",
       "      <td>2019-02-24</td>\n",
       "      <td>USD</td>\n",
       "      <td>66906.8</td>\n",
       "      <td>2019-02-09</td>\n",
       "      <td>NAH4</td>\n",
       "      <td>0</td>\n",
       "    </tr>\n",
       "    <tr>\n",
       "      <th>4</th>\n",
       "      <td>U001</td>\n",
       "      <td>200769623</td>\n",
       "      <td>WAL-MAR in</td>\n",
       "      <td>2019-06-12</td>\n",
       "      <td>2019</td>\n",
       "      <td>1.92941e+09</td>\n",
       "      <td>2019-06-01</td>\n",
       "      <td>2019-05-30</td>\n",
       "      <td>2019-06-01</td>\n",
       "      <td>2019-06-16</td>\n",
       "      <td>USD</td>\n",
       "      <td>65593.9</td>\n",
       "      <td>2019-06-01</td>\n",
       "      <td>NAH4</td>\n",
       "      <td>0</td>\n",
       "    </tr>\n",
       "    <tr>\n",
       "      <th>...</th>\n",
       "      <td>...</td>\n",
       "      <td>...</td>\n",
       "      <td>...</td>\n",
       "      <td>...</td>\n",
       "      <td>...</td>\n",
       "      <td>...</td>\n",
       "      <td>...</td>\n",
       "      <td>...</td>\n",
       "      <td>...</td>\n",
       "      <td>...</td>\n",
       "      <td>...</td>\n",
       "      <td>...</td>\n",
       "      <td>...</td>\n",
       "      <td>...</td>\n",
       "      <td>...</td>\n",
       "    </tr>\n",
       "    <tr>\n",
       "      <th>39313</th>\n",
       "      <td>U001</td>\n",
       "      <td>0200771157</td>\n",
       "      <td>WEIS associates</td>\n",
       "      <td>2019-08-30</td>\n",
       "      <td>2019</td>\n",
       "      <td>1.92975e+09</td>\n",
       "      <td>2019-08-14</td>\n",
       "      <td>2019-08-15</td>\n",
       "      <td>2019-08-14</td>\n",
       "      <td>2019-08-29</td>\n",
       "      <td>USD</td>\n",
       "      <td>58119.4</td>\n",
       "      <td>2019-08-14</td>\n",
       "      <td>NAA8</td>\n",
       "      <td>0</td>\n",
       "    </tr>\n",
       "    <tr>\n",
       "      <th>39314</th>\n",
       "      <td>U001</td>\n",
       "      <td>200786288</td>\n",
       "      <td>FAMILY</td>\n",
       "      <td>2019-07-08</td>\n",
       "      <td>2019</td>\n",
       "      <td>1.92953e+09</td>\n",
       "      <td>2019-06-24</td>\n",
       "      <td>2019-06-23</td>\n",
       "      <td>2019-06-24</td>\n",
       "      <td>2019-07-09</td>\n",
       "      <td>USD</td>\n",
       "      <td>11770.5</td>\n",
       "      <td>2019-06-24</td>\n",
       "      <td>NAC6</td>\n",
       "      <td>0</td>\n",
       "    </tr>\n",
       "    <tr>\n",
       "      <th>39315</th>\n",
       "      <td>U001</td>\n",
       "      <td>0200769623</td>\n",
       "      <td>WAL-MAR co</td>\n",
       "      <td>2019-07-03</td>\n",
       "      <td>2019</td>\n",
       "      <td>1.92953e+09</td>\n",
       "      <td>2019-06-23</td>\n",
       "      <td>2019-06-21</td>\n",
       "      <td>2019-06-23</td>\n",
       "      <td>2019-07-08</td>\n",
       "      <td>USD</td>\n",
       "      <td>70346.5</td>\n",
       "      <td>2019-06-23</td>\n",
       "      <td>NAH4</td>\n",
       "      <td>0</td>\n",
       "    </tr>\n",
       "    <tr>\n",
       "      <th>39316</th>\n",
       "      <td>U001</td>\n",
       "      <td>0200749225</td>\n",
       "      <td>SUPER</td>\n",
       "      <td>2019-01-17</td>\n",
       "      <td>2019</td>\n",
       "      <td>1.92855e+09</td>\n",
       "      <td>2019-01-02</td>\n",
       "      <td>2019-01-02</td>\n",
       "      <td>2019-01-02</td>\n",
       "      <td>2019-01-17</td>\n",
       "      <td>USD</td>\n",
       "      <td>135678</td>\n",
       "      <td>2019-01-02</td>\n",
       "      <td>NAA8</td>\n",
       "      <td>0</td>\n",
       "    </tr>\n",
       "    <tr>\n",
       "      <th>39317</th>\n",
       "      <td>U001</td>\n",
       "      <td>0200769369</td>\n",
       "      <td>DI associates</td>\n",
       "      <td>2019-03-22</td>\n",
       "      <td>2019</td>\n",
       "      <td>1.92892e+09</td>\n",
       "      <td>2019-03-07</td>\n",
       "      <td>2019-03-07</td>\n",
       "      <td>2019-03-07</td>\n",
       "      <td>2019-03-22</td>\n",
       "      <td>USD</td>\n",
       "      <td>32677.6</td>\n",
       "      <td>2019-03-07</td>\n",
       "      <td>NAA8</td>\n",
       "      <td>0</td>\n",
       "    </tr>\n",
       "  </tbody>\n",
       "</table>\n",
       "<p>39318 rows × 15 columns</p>\n",
       "</div>"
      ],
      "text/plain": [
       "      business_code cust_number  ... cust_payment_terms isOpen\n",
       "0              U001  0200705742  ...               NAD1      0\n",
       "1              U001  0200803720  ...               NAM4      0\n",
       "2              U001  0200592182  ...               NAM4      0\n",
       "3              U001  0200769623  ...               NAH4      0\n",
       "4              U001   200769623  ...               NAH4      0\n",
       "...             ...         ...  ...                ...    ...\n",
       "39313          U001  0200771157  ...               NAA8      0\n",
       "39314          U001   200786288  ...               NAC6      0\n",
       "39315          U001  0200769623  ...               NAH4      0\n",
       "39316          U001  0200749225  ...               NAA8      0\n",
       "39317          U001  0200769369  ...               NAA8      0\n",
       "\n",
       "[39318 rows x 15 columns]"
      ]
     },
     "execution_count": 1067,
     "metadata": {
      "tags": []
     },
     "output_type": "execute_result"
    }
   ],
   "source": [
    "train_set.reset_index(drop=True)"
   ]
  },
  {
   "cell_type": "code",
   "execution_count": 1068,
   "metadata": {
    "id": "qv0xLlIGOmaF"
   },
   "outputs": [],
   "source": [
    "##############target label#################"
   ]
  },
  {
   "cell_type": "code",
   "execution_count": 1069,
   "metadata": {
    "id": "JWBgqWRUmcaN"
   },
   "outputs": [],
   "source": [
    "train_set['target_delay']=(train_set['clear_date'] - train_set['due_in_date'])\n",
    "train_set['target_delay']=train_set['target_delay'].dt.days\n"
   ]
  },
  {
   "cell_type": "code",
   "execution_count": 1070,
   "metadata": {
    "colab": {
     "base_uri": "https://localhost:8080/",
     "height": 79
    },
    "id": "SPn1hxnsMthk",
    "outputId": "73b72c62-3370-4ca3-ea7f-bbad54396aa5"
   },
   "outputs": [
    {
     "data": {
      "text/html": [
       "<div>\n",
       "<style scoped>\n",
       "    .dataframe tbody tr th:only-of-type {\n",
       "        vertical-align: middle;\n",
       "    }\n",
       "\n",
       "    .dataframe tbody tr th {\n",
       "        vertical-align: top;\n",
       "    }\n",
       "\n",
       "    .dataframe thead th {\n",
       "        text-align: right;\n",
       "    }\n",
       "</style>\n",
       "<table border=\"1\" class=\"dataframe\">\n",
       "  <thead>\n",
       "    <tr style=\"text-align: right;\">\n",
       "      <th></th>\n",
       "      <th>target_delay</th>\n",
       "    </tr>\n",
       "  </thead>\n",
       "  <tbody>\n",
       "    <tr>\n",
       "      <th>target_delay</th>\n",
       "      <td>1.0</td>\n",
       "    </tr>\n",
       "  </tbody>\n",
       "</table>\n",
       "</div>"
      ],
      "text/plain": [
       "              target_delay\n",
       "target_delay           1.0"
      ]
     },
     "execution_count": 1070,
     "metadata": {
      "tags": []
     },
     "output_type": "execute_result"
    }
   ],
   "source": [
    "train_set.corr()"
   ]
  },
  {
   "cell_type": "code",
   "execution_count": 1071,
   "metadata": {
    "colab": {
     "base_uri": "https://localhost:8080/"
    },
    "id": "SNLYZ-7iPC3J",
    "outputId": "1d0f3dc0-b2a5-45ac-b282-e0059359bd7f"
   },
   "outputs": [
    {
     "data": {
      "text/plain": [
       "count    39318.000000\n",
       "mean         1.007299\n",
       "std         11.114599\n",
       "min        -89.000000\n",
       "25%         -3.000000\n",
       "50%          0.000000\n",
       "75%          2.000000\n",
       "max        442.000000\n",
       "Name: target_delay, dtype: float64"
      ]
     },
     "execution_count": 1071,
     "metadata": {
      "tags": []
     },
     "output_type": "execute_result"
    }
   ],
   "source": [
    "train_set['target_delay'].describe()\n"
   ]
  },
  {
   "cell_type": "code",
   "execution_count": 1072,
   "metadata": {
    "id": "KnUyqkugFT3f"
   },
   "outputs": [],
   "source": [
    "#setting target_delay in val1 and  val2\n",
    "val1['target_delay']=(val1['clear_date'] - val1['due_in_date'])\n",
    "val1['target_delay']=val1['target_delay'].dt.days\n",
    "\n",
    "val2['target_delay']=(val2['clear_date'] - val2['due_in_date'])\n",
    "val2['target_delay']=val2['target_delay'].dt.days\n",
    "\n"
   ]
  },
  {
   "cell_type": "code",
   "execution_count": 1073,
   "metadata": {
    "id": "e-qqJGKeVLG3"
   },
   "outputs": [],
   "source": [
    "###############################EDA and Feauture Engineering##########################"
   ]
  },
  {
   "cell_type": "code",
   "execution_count": 1074,
   "metadata": {
    "id": "y18w5U5GsI8d"
   },
   "outputs": [],
   "source": [
    "import seaborn as sns, numpy as np"
   ]
  },
  {
   "cell_type": "code",
   "execution_count": 1075,
   "metadata": {
    "id": "sPsKVNoXGTQv"
   },
   "outputs": [],
   "source": [
    "########ENCODING STRING COLUMNS################ "
   ]
  },
  {
   "cell_type": "code",
   "execution_count": 1076,
   "metadata": {
    "colab": {
     "base_uri": "https://localhost:8080/"
    },
    "id": "MD6V2HM6Zqez",
    "outputId": "4025c0db-b23d-4db0-8a55-6ae1713c8a3d"
   },
   "outputs": [
    {
     "data": {
      "text/plain": [
       "business_code                     object\n",
       "cust_number                       object\n",
       "name_customer                     object\n",
       "clear_date                datetime64[ns]\n",
       "buisness_year                     object\n",
       "doc_id                            object\n",
       "posting_date              datetime64[ns]\n",
       "document_create_date      datetime64[ns]\n",
       "document_create_date.1    datetime64[ns]\n",
       "due_in_date               datetime64[ns]\n",
       "invoice_currency                  object\n",
       "total_open_amount                 object\n",
       "baseline_create_date      datetime64[ns]\n",
       "cust_payment_terms                object\n",
       "isOpen                            object\n",
       "target_delay                       int64\n",
       "dtype: object"
      ]
     },
     "execution_count": 1076,
     "metadata": {
      "tags": []
     },
     "output_type": "execute_result"
    }
   ],
   "source": [
    "#encoding the train_set\n",
    "train_set.dtypes"
   ]
  },
  {
   "cell_type": "code",
   "execution_count": 1077,
   "metadata": {
    "colab": {
     "base_uri": "https://localhost:8080/",
     "height": 283
    },
    "id": "F2U3daPhMf1u",
    "outputId": "108febc9-3e8f-435a-8865-4572183e4c57"
   },
   "outputs": [
    {
     "data": {
      "text/html": [
       "<div>\n",
       "<style scoped>\n",
       "    .dataframe tbody tr th:only-of-type {\n",
       "        vertical-align: middle;\n",
       "    }\n",
       "\n",
       "    .dataframe tbody tr th {\n",
       "        vertical-align: top;\n",
       "    }\n",
       "\n",
       "    .dataframe thead th {\n",
       "        text-align: right;\n",
       "    }\n",
       "</style>\n",
       "<table border=\"1\" class=\"dataframe\">\n",
       "  <thead>\n",
       "    <tr style=\"text-align: right;\">\n",
       "      <th></th>\n",
       "      <th>cust_number</th>\n",
       "      <th>name_customer</th>\n",
       "      <th>clear_date</th>\n",
       "      <th>buisness_year</th>\n",
       "      <th>doc_id</th>\n",
       "      <th>posting_date</th>\n",
       "      <th>document_create_date</th>\n",
       "      <th>document_create_date.1</th>\n",
       "      <th>due_in_date</th>\n",
       "      <th>invoice_currency</th>\n",
       "      <th>total_open_amount</th>\n",
       "      <th>baseline_create_date</th>\n",
       "      <th>cust_payment_terms</th>\n",
       "      <th>isOpen</th>\n",
       "      <th>target_delay</th>\n",
       "    </tr>\n",
       "    <tr>\n",
       "      <th>business_code</th>\n",
       "      <th></th>\n",
       "      <th></th>\n",
       "      <th></th>\n",
       "      <th></th>\n",
       "      <th></th>\n",
       "      <th></th>\n",
       "      <th></th>\n",
       "      <th></th>\n",
       "      <th></th>\n",
       "      <th></th>\n",
       "      <th></th>\n",
       "      <th></th>\n",
       "      <th></th>\n",
       "      <th></th>\n",
       "      <th></th>\n",
       "    </tr>\n",
       "  </thead>\n",
       "  <tbody>\n",
       "    <tr>\n",
       "      <th>CA02</th>\n",
       "      <td>3109</td>\n",
       "      <td>3109</td>\n",
       "      <td>3109</td>\n",
       "      <td>3109</td>\n",
       "      <td>3109</td>\n",
       "      <td>3109</td>\n",
       "      <td>3109</td>\n",
       "      <td>3109</td>\n",
       "      <td>3109</td>\n",
       "      <td>3109</td>\n",
       "      <td>3109</td>\n",
       "      <td>3109</td>\n",
       "      <td>3109</td>\n",
       "      <td>3109</td>\n",
       "      <td>3109</td>\n",
       "    </tr>\n",
       "    <tr>\n",
       "      <th>U001</th>\n",
       "      <td>35562</td>\n",
       "      <td>35562</td>\n",
       "      <td>35562</td>\n",
       "      <td>35562</td>\n",
       "      <td>35562</td>\n",
       "      <td>35562</td>\n",
       "      <td>35562</td>\n",
       "      <td>35562</td>\n",
       "      <td>35562</td>\n",
       "      <td>35562</td>\n",
       "      <td>35562</td>\n",
       "      <td>35562</td>\n",
       "      <td>35562</td>\n",
       "      <td>35562</td>\n",
       "      <td>35562</td>\n",
       "    </tr>\n",
       "    <tr>\n",
       "      <th>U002</th>\n",
       "      <td>128</td>\n",
       "      <td>128</td>\n",
       "      <td>128</td>\n",
       "      <td>128</td>\n",
       "      <td>128</td>\n",
       "      <td>128</td>\n",
       "      <td>128</td>\n",
       "      <td>128</td>\n",
       "      <td>128</td>\n",
       "      <td>128</td>\n",
       "      <td>128</td>\n",
       "      <td>128</td>\n",
       "      <td>128</td>\n",
       "      <td>128</td>\n",
       "      <td>128</td>\n",
       "    </tr>\n",
       "    <tr>\n",
       "      <th>U005</th>\n",
       "      <td>12</td>\n",
       "      <td>12</td>\n",
       "      <td>12</td>\n",
       "      <td>12</td>\n",
       "      <td>12</td>\n",
       "      <td>12</td>\n",
       "      <td>12</td>\n",
       "      <td>12</td>\n",
       "      <td>12</td>\n",
       "      <td>12</td>\n",
       "      <td>12</td>\n",
       "      <td>12</td>\n",
       "      <td>12</td>\n",
       "      <td>12</td>\n",
       "      <td>12</td>\n",
       "    </tr>\n",
       "    <tr>\n",
       "      <th>U007</th>\n",
       "      <td>2</td>\n",
       "      <td>2</td>\n",
       "      <td>2</td>\n",
       "      <td>2</td>\n",
       "      <td>2</td>\n",
       "      <td>2</td>\n",
       "      <td>2</td>\n",
       "      <td>2</td>\n",
       "      <td>2</td>\n",
       "      <td>2</td>\n",
       "      <td>2</td>\n",
       "      <td>2</td>\n",
       "      <td>2</td>\n",
       "      <td>2</td>\n",
       "      <td>2</td>\n",
       "    </tr>\n",
       "    <tr>\n",
       "      <th>U013</th>\n",
       "      <td>505</td>\n",
       "      <td>505</td>\n",
       "      <td>505</td>\n",
       "      <td>505</td>\n",
       "      <td>505</td>\n",
       "      <td>505</td>\n",
       "      <td>505</td>\n",
       "      <td>505</td>\n",
       "      <td>505</td>\n",
       "      <td>505</td>\n",
       "      <td>505</td>\n",
       "      <td>505</td>\n",
       "      <td>505</td>\n",
       "      <td>505</td>\n",
       "      <td>505</td>\n",
       "    </tr>\n",
       "  </tbody>\n",
       "</table>\n",
       "</div>"
      ],
      "text/plain": [
       "               cust_number  name_customer  ...  isOpen  target_delay\n",
       "business_code                              ...                      \n",
       "CA02                  3109           3109  ...    3109          3109\n",
       "U001                 35562          35562  ...   35562         35562\n",
       "U002                   128            128  ...     128           128\n",
       "U005                    12             12  ...      12            12\n",
       "U007                     2              2  ...       2             2\n",
       "U013                   505            505  ...     505           505\n",
       "\n",
       "[6 rows x 15 columns]"
      ]
     },
     "execution_count": 1077,
     "metadata": {
      "tags": []
     },
     "output_type": "execute_result"
    }
   ],
   "source": [
    "#converting to numerical columns\n",
    "\n",
    "#1.Business code\n",
    "from sklearn.preprocessing import LabelEncoder\n",
    "labelencoder = LabelEncoder()\n",
    "train_set.groupby(['business_code']).count()\n",
    "\n"
   ]
  },
  {
   "cell_type": "code",
   "execution_count": 1078,
   "metadata": {
    "colab": {
     "base_uri": "https://localhost:8080/",
     "height": 470
    },
    "id": "Mc9iZ9mRNRLP",
    "outputId": "d267c4a0-1411-42a5-b927-d66635f65070"
   },
   "outputs": [
    {
     "data": {
      "text/html": [
       "<div>\n",
       "<style scoped>\n",
       "    .dataframe tbody tr th:only-of-type {\n",
       "        vertical-align: middle;\n",
       "    }\n",
       "\n",
       "    .dataframe tbody tr th {\n",
       "        vertical-align: top;\n",
       "    }\n",
       "\n",
       "    .dataframe thead th {\n",
       "        text-align: right;\n",
       "    }\n",
       "</style>\n",
       "<table border=\"1\" class=\"dataframe\">\n",
       "  <thead>\n",
       "    <tr style=\"text-align: right;\">\n",
       "      <th></th>\n",
       "      <th>business_code</th>\n",
       "      <th>cust_number</th>\n",
       "      <th>name_customer</th>\n",
       "      <th>clear_date</th>\n",
       "      <th>buisness_year</th>\n",
       "      <th>doc_id</th>\n",
       "      <th>posting_date</th>\n",
       "      <th>document_create_date</th>\n",
       "      <th>document_create_date.1</th>\n",
       "      <th>due_in_date</th>\n",
       "      <th>invoice_currency</th>\n",
       "      <th>total_open_amount</th>\n",
       "      <th>baseline_create_date</th>\n",
       "      <th>cust_payment_terms</th>\n",
       "      <th>isOpen</th>\n",
       "      <th>target_delay</th>\n",
       "    </tr>\n",
       "  </thead>\n",
       "  <tbody>\n",
       "    <tr>\n",
       "      <th>0</th>\n",
       "      <td>1</td>\n",
       "      <td>0200705742</td>\n",
       "      <td>DOT us</td>\n",
       "      <td>2019-02-06</td>\n",
       "      <td>2019</td>\n",
       "      <td>1.92866e+09</td>\n",
       "      <td>2019-01-22</td>\n",
       "      <td>2019-01-21</td>\n",
       "      <td>2019-01-22</td>\n",
       "      <td>2019-02-11</td>\n",
       "      <td>USD</td>\n",
       "      <td>2079.55</td>\n",
       "      <td>2019-01-22</td>\n",
       "      <td>NAD1</td>\n",
       "      <td>0</td>\n",
       "      <td>-5</td>\n",
       "    </tr>\n",
       "    <tr>\n",
       "      <th>1</th>\n",
       "      <td>1</td>\n",
       "      <td>0200803720</td>\n",
       "      <td>DEC trust</td>\n",
       "      <td>2019-05-01</td>\n",
       "      <td>2019</td>\n",
       "      <td>1.92921e+09</td>\n",
       "      <td>2019-04-26</td>\n",
       "      <td>2019-04-26</td>\n",
       "      <td>2019-04-26</td>\n",
       "      <td>2019-05-09</td>\n",
       "      <td>USD</td>\n",
       "      <td>68.52</td>\n",
       "      <td>2019-04-16</td>\n",
       "      <td>NAM4</td>\n",
       "      <td>0</td>\n",
       "      <td>-8</td>\n",
       "    </tr>\n",
       "    <tr>\n",
       "      <th>2</th>\n",
       "      <td>1</td>\n",
       "      <td>0200592182</td>\n",
       "      <td>DECA co</td>\n",
       "      <td>2019-06-03</td>\n",
       "      <td>2019</td>\n",
       "      <td>1.92938e+09</td>\n",
       "      <td>2019-05-25</td>\n",
       "      <td>2019-05-25</td>\n",
       "      <td>2019-05-25</td>\n",
       "      <td>2019-06-08</td>\n",
       "      <td>USD</td>\n",
       "      <td>1677.82</td>\n",
       "      <td>2019-05-16</td>\n",
       "      <td>NAM4</td>\n",
       "      <td>0</td>\n",
       "      <td>-5</td>\n",
       "    </tr>\n",
       "    <tr>\n",
       "      <th>3</th>\n",
       "      <td>1</td>\n",
       "      <td>0200769623</td>\n",
       "      <td>WAL-MAR associates</td>\n",
       "      <td>2019-02-20</td>\n",
       "      <td>2019</td>\n",
       "      <td>1.92877e+09</td>\n",
       "      <td>2019-02-09</td>\n",
       "      <td>2019-02-08</td>\n",
       "      <td>2019-02-09</td>\n",
       "      <td>2019-02-24</td>\n",
       "      <td>USD</td>\n",
       "      <td>66906.8</td>\n",
       "      <td>2019-02-09</td>\n",
       "      <td>NAH4</td>\n",
       "      <td>0</td>\n",
       "      <td>-4</td>\n",
       "    </tr>\n",
       "    <tr>\n",
       "      <th>4</th>\n",
       "      <td>1</td>\n",
       "      <td>200769623</td>\n",
       "      <td>WAL-MAR in</td>\n",
       "      <td>2019-06-12</td>\n",
       "      <td>2019</td>\n",
       "      <td>1.92941e+09</td>\n",
       "      <td>2019-06-01</td>\n",
       "      <td>2019-05-30</td>\n",
       "      <td>2019-06-01</td>\n",
       "      <td>2019-06-16</td>\n",
       "      <td>USD</td>\n",
       "      <td>65593.9</td>\n",
       "      <td>2019-06-01</td>\n",
       "      <td>NAH4</td>\n",
       "      <td>0</td>\n",
       "      <td>-4</td>\n",
       "    </tr>\n",
       "    <tr>\n",
       "      <th>...</th>\n",
       "      <td>...</td>\n",
       "      <td>...</td>\n",
       "      <td>...</td>\n",
       "      <td>...</td>\n",
       "      <td>...</td>\n",
       "      <td>...</td>\n",
       "      <td>...</td>\n",
       "      <td>...</td>\n",
       "      <td>...</td>\n",
       "      <td>...</td>\n",
       "      <td>...</td>\n",
       "      <td>...</td>\n",
       "      <td>...</td>\n",
       "      <td>...</td>\n",
       "      <td>...</td>\n",
       "      <td>...</td>\n",
       "    </tr>\n",
       "    <tr>\n",
       "      <th>46752</th>\n",
       "      <td>1</td>\n",
       "      <td>0200771157</td>\n",
       "      <td>WEIS associates</td>\n",
       "      <td>2019-08-30</td>\n",
       "      <td>2019</td>\n",
       "      <td>1.92975e+09</td>\n",
       "      <td>2019-08-14</td>\n",
       "      <td>2019-08-15</td>\n",
       "      <td>2019-08-14</td>\n",
       "      <td>2019-08-29</td>\n",
       "      <td>USD</td>\n",
       "      <td>58119.4</td>\n",
       "      <td>2019-08-14</td>\n",
       "      <td>NAA8</td>\n",
       "      <td>0</td>\n",
       "      <td>1</td>\n",
       "    </tr>\n",
       "    <tr>\n",
       "      <th>46753</th>\n",
       "      <td>1</td>\n",
       "      <td>200786288</td>\n",
       "      <td>FAMILY</td>\n",
       "      <td>2019-07-08</td>\n",
       "      <td>2019</td>\n",
       "      <td>1.92953e+09</td>\n",
       "      <td>2019-06-24</td>\n",
       "      <td>2019-06-23</td>\n",
       "      <td>2019-06-24</td>\n",
       "      <td>2019-07-09</td>\n",
       "      <td>USD</td>\n",
       "      <td>11770.5</td>\n",
       "      <td>2019-06-24</td>\n",
       "      <td>NAC6</td>\n",
       "      <td>0</td>\n",
       "      <td>-1</td>\n",
       "    </tr>\n",
       "    <tr>\n",
       "      <th>46754</th>\n",
       "      <td>1</td>\n",
       "      <td>0200769623</td>\n",
       "      <td>WAL-MAR co</td>\n",
       "      <td>2019-07-03</td>\n",
       "      <td>2019</td>\n",
       "      <td>1.92953e+09</td>\n",
       "      <td>2019-06-23</td>\n",
       "      <td>2019-06-21</td>\n",
       "      <td>2019-06-23</td>\n",
       "      <td>2019-07-08</td>\n",
       "      <td>USD</td>\n",
       "      <td>70346.5</td>\n",
       "      <td>2019-06-23</td>\n",
       "      <td>NAH4</td>\n",
       "      <td>0</td>\n",
       "      <td>-5</td>\n",
       "    </tr>\n",
       "    <tr>\n",
       "      <th>46755</th>\n",
       "      <td>1</td>\n",
       "      <td>0200749225</td>\n",
       "      <td>SUPER</td>\n",
       "      <td>2019-01-17</td>\n",
       "      <td>2019</td>\n",
       "      <td>1.92855e+09</td>\n",
       "      <td>2019-01-02</td>\n",
       "      <td>2019-01-02</td>\n",
       "      <td>2019-01-02</td>\n",
       "      <td>2019-01-17</td>\n",
       "      <td>USD</td>\n",
       "      <td>135678</td>\n",
       "      <td>2019-01-02</td>\n",
       "      <td>NAA8</td>\n",
       "      <td>0</td>\n",
       "      <td>0</td>\n",
       "    </tr>\n",
       "    <tr>\n",
       "      <th>46756</th>\n",
       "      <td>1</td>\n",
       "      <td>0200769369</td>\n",
       "      <td>DI associates</td>\n",
       "      <td>2019-03-22</td>\n",
       "      <td>2019</td>\n",
       "      <td>1.92892e+09</td>\n",
       "      <td>2019-03-07</td>\n",
       "      <td>2019-03-07</td>\n",
       "      <td>2019-03-07</td>\n",
       "      <td>2019-03-22</td>\n",
       "      <td>USD</td>\n",
       "      <td>32677.6</td>\n",
       "      <td>2019-03-07</td>\n",
       "      <td>NAA8</td>\n",
       "      <td>0</td>\n",
       "      <td>0</td>\n",
       "    </tr>\n",
       "  </tbody>\n",
       "</table>\n",
       "<p>39318 rows × 16 columns</p>\n",
       "</div>"
      ],
      "text/plain": [
       "       business_code cust_number  ... isOpen target_delay\n",
       "0                  1  0200705742  ...      0           -5\n",
       "1                  1  0200803720  ...      0           -8\n",
       "2                  1  0200592182  ...      0           -5\n",
       "3                  1  0200769623  ...      0           -4\n",
       "4                  1   200769623  ...      0           -4\n",
       "...              ...         ...  ...    ...          ...\n",
       "46752              1  0200771157  ...      0            1\n",
       "46753              1   200786288  ...      0           -1\n",
       "46754              1  0200769623  ...      0           -5\n",
       "46755              1  0200749225  ...      0            0\n",
       "46756              1  0200769369  ...      0            0\n",
       "\n",
       "[39318 rows x 16 columns]"
      ]
     },
     "execution_count": 1078,
     "metadata": {
      "tags": []
     },
     "output_type": "execute_result"
    }
   ],
   "source": [
    "#label encoding in business code\n",
    "labelencoder = LabelEncoder()\n",
    "\n",
    "train_set['business_code'] = labelencoder.fit_transform(train_set['business_code'])\n",
    "test_data['business_code'] = labelencoder.transform(test_data['business_code'])\n",
    "\n",
    "val1['business_code'] = labelencoder.transform(val1['business_code'])\n",
    "\n",
    "val2['business_code'] = labelencoder.transform(val2['business_code'])\n",
    "\n",
    "train_set\n",
    "\n",
    "\n"
   ]
  },
  {
   "cell_type": "code",
   "execution_count": 1079,
   "metadata": {
    "colab": {
     "base_uri": "https://localhost:8080/"
    },
    "id": "V46XlPYHQc-a",
    "outputId": "90e47932-1fae-40ae-df6a-182251c3e6e2"
   },
   "outputs": [
    {
     "data": {
      "text/plain": [
       "count    39318.000000\n",
       "mean         0.976321\n",
       "std          0.537548\n",
       "min          0.000000\n",
       "25%          1.000000\n",
       "50%          1.000000\n",
       "75%          1.000000\n",
       "max          5.000000\n",
       "Name: business_code, dtype: float64"
      ]
     },
     "execution_count": 1079,
     "metadata": {
      "tags": []
     },
     "output_type": "execute_result"
    }
   ],
   "source": [
    "train_set['business_code'].describe()"
   ]
  },
  {
   "cell_type": "code",
   "execution_count": 1080,
   "metadata": {
    "colab": {
     "base_uri": "https://localhost:8080/"
    },
    "id": "XEtCsI5RcQDa",
    "outputId": "d43eaa59-02c2-43a9-b158-154b636b2652"
   },
   "outputs": [
    {
     "data": {
      "text/plain": [
       "0.0075383631804958285"
      ]
     },
     "execution_count": 1080,
     "metadata": {
      "tags": []
     },
     "output_type": "execute_result"
    }
   ],
   "source": [
    "train_set['business_code'].corr(train_set['target_delay'])"
   ]
  },
  {
   "cell_type": "code",
   "execution_count": 1081,
   "metadata": {
    "colab": {
     "base_uri": "https://localhost:8080/"
    },
    "id": "WXI9zuqlL3vg",
    "outputId": "2b6c0b30-c192-4aa7-df40-22f1f8003af1"
   },
   "outputs": [
    {
     "data": {
      "text/plain": [
       "1387"
      ]
     },
     "execution_count": 1081,
     "metadata": {
      "tags": []
     },
     "output_type": "execute_result"
    }
   ],
   "source": [
    "#### checking for customer number\n",
    "len(pd.unique(train_set['cust_number'])) \n"
   ]
  },
  {
   "cell_type": "code",
   "execution_count": 1082,
   "metadata": {
    "id": "SOtLfVWN0d_d"
   },
   "outputs": [],
   "source": [
    "###business year is constant drop\n",
    "train_set.drop(['buisness_year'],axis=1,inplace=True)"
   ]
  },
  {
   "cell_type": "code",
   "execution_count": 1083,
   "metadata": {
    "colab": {
     "base_uri": "https://localhost:8080/"
    },
    "id": "TRprat6y9uMK",
    "outputId": "b2fc772d-3cbc-4f20-e928-4e312dd21f6c"
   },
   "outputs": [
    {
     "data": {
      "text/plain": [
       "67"
      ]
     },
     "execution_count": 1083,
     "metadata": {
      "tags": []
     },
     "output_type": "execute_result"
    }
   ],
   "source": [
    "len(pd.unique(train_set['cust_payment_terms'])) "
   ]
  },
  {
   "cell_type": "code",
   "execution_count": 1084,
   "metadata": {
    "colab": {
     "base_uri": "https://localhost:8080/"
    },
    "id": "UFy2VwcY-8R_",
    "outputId": "423a9692-28d1-42c4-bb57-4b8a52116f8a"
   },
   "outputs": [
    {
     "data": {
      "text/plain": [
       "NAA8      1297\n",
       "NAH4       990\n",
       "CA10       242\n",
       "NAC6       125\n",
       "NAM4        94\n",
       "NAGD        89\n",
       "NAAX        76\n",
       "NAU5        66\n",
       "NAM2        40\n",
       "NAD1        32\n",
       "NA10        29\n",
       "others      28\n",
       "NAG2        27\n",
       "NAX2        22\n",
       "NA32        21\n",
       "NAM1        19\n",
       "NAVE        18\n",
       "NAAW        12\n",
       "NAD5        11\n",
       "Name: cust_payment_terms, dtype: int64"
      ]
     },
     "execution_count": 1084,
     "metadata": {
      "tags": []
     },
     "output_type": "execute_result"
    }
   ],
   "source": [
    "#replace cust_payment_terms having values < 12 as others and then encoding\n",
    "threshlold = 0.000250\n",
    "   \n",
    "    # locate all the categories that are not rare.\n",
    "counts = train_set.groupby(['cust_payment_terms'])['cust_payment_terms'].count() / len(train_set)\n",
    "counts_tst = test_data.groupby(['cust_payment_terms'])['cust_payment_terms'].count() / len(train_set)\n",
    "counts_val1 = val1.groupby(['cust_payment_terms'])['cust_payment_terms'].count() / len(train_set)\n",
    "counts_val2 = val2.groupby(['cust_payment_terms'])['cust_payment_terms'].count() / len(train_set)\n",
    "frequent_labels = [x for x in counts.loc[counts>threshlold].index.values]\n",
    "frequent_labels_tst = [x for x in counts_tst.loc[counts_tst>threshlold].index.values]\n",
    "frequent_labels_val1 = [x for x in counts_val1.loc[counts_val1>threshlold].index.values]\n",
    "frequent_labels_val2 = [x for x in counts_val2.loc[counts_val2>threshlold].index.values]\n",
    "    # change the rare category names with the word rare, and thus encoding it.\n",
    "train_set['cust_payment_terms'] = np.where(train_set['cust_payment_terms'].isin(frequent_labels), train_set['cust_payment_terms'], 'others')\n",
    "test_data['cust_payment_terms'] = np.where(test_data['cust_payment_terms'].isin(frequent_labels_tst), test_data['cust_payment_terms'], 'others')\n",
    "val1['cust_payment_terms'] = np.where(val1['cust_payment_terms'].isin(frequent_labels_val1), val1['cust_payment_terms'], 'others')\n",
    "val2['cust_payment_terms'] = np.where(val2['cust_payment_terms'].isin(frequent_labels_val2), val2['cust_payment_terms'], 'others')\n",
    "\n",
    "\n",
    "test_data['cust_payment_terms'].value_counts()\n"
   ]
  },
  {
   "cell_type": "code",
   "execution_count": 1085,
   "metadata": {
    "id": "HaDXIufA_i1K"
   },
   "outputs": [],
   "source": [
    "target_mapper = train_set.groupby('cust_payment_terms')['target_delay'].mean().to_dict()\n",
    "train_set['cust_payment_terms'] = train_set['cust_payment_terms'].map(target_mapper)\n",
    "test_data['cust_payment_terms'] = test_data['cust_payment_terms'].map(target_mapper)\n",
    "val1['cust_payment_terms'] = val1['cust_payment_terms'].map(target_mapper)\n",
    "val2['cust_payment_terms'] = val2['cust_payment_terms'].map(target_mapper)\n"
   ]
  },
  {
   "cell_type": "code",
   "execution_count": 1086,
   "metadata": {
    "colab": {
     "base_uri": "https://localhost:8080/"
    },
    "id": "5_R2zwUIEnec",
    "outputId": "f47c7556-2116-4bcc-8e35-2b8318edd6b7"
   },
   "outputs": [
    {
     "data": {
      "text/plain": [
       "3952"
      ]
     },
     "execution_count": 1086,
     "metadata": {
      "tags": []
     },
     "output_type": "execute_result"
    }
   ],
   "source": [
    "##Now similarly encoding name_customer\n",
    "len(pd.unique(train_set['name_customer'])) "
   ]
  },
  {
   "cell_type": "code",
   "execution_count": 1087,
   "metadata": {
    "colab": {
     "base_uri": "https://localhost:8080/"
    },
    "id": "axOri-Bh-8Mx",
    "outputId": "548e5958-d2ab-406b-d6d2-1452da08fcab"
   },
   "outputs": [
    {
     "data": {
      "text/plain": [
       "others                 1152\n",
       "WAL-MAR us               90\n",
       "WAL-MAR corporation      87\n",
       "WAL-MAR associates       85\n",
       "WAL-MAR foundation       85\n",
       "                       ... \n",
       "MEIJ systems              4\n",
       "ASSOCIAT                  4\n",
       "DELHAIZE associates       4\n",
       "SMITH'S trust             4\n",
       "WAL-M in                  4\n",
       "Name: name_customer, Length: 183, dtype: int64"
      ]
     },
     "execution_count": 1087,
     "metadata": {
      "tags": []
     },
     "output_type": "execute_result"
    }
   ],
   "source": [
    "threshlold = 0.000100\n",
    "####Grouping rare labels as others\n",
    "counts = train_set.groupby(['name_customer'])['name_customer'].count() / len(train_set)\n",
    "counts_tst = test_data.groupby(['name_customer'])['name_customer'].count() / len(train_set)\n",
    "counts_val1 = val1.groupby(['name_customer'])['name_customer'].count() / len(train_set)\n",
    "counts_val2 = val2.groupby(['name_customer'])['name_customer'].count() / len(train_set)\n",
    "frequent_labels = [x for x in counts.loc[counts>threshlold].index.values]\n",
    "frequent_labels_tst = [x for x in counts_tst.loc[counts_tst>threshlold].index.values]\n",
    "frequent_labels_val1 = [x for x in counts_val1.loc[counts_val1>threshlold].index.values]\n",
    "frequent_labels_val2 = [x for x in counts_val2.loc[counts_val2>threshlold].index.values]\n",
    "    # change the rare category names with the word rare, and thus encoding it.\n",
    "train_set['name_customer'] = np.where(train_set['name_customer'].isin(frequent_labels), train_set['name_customer'], 'others')\n",
    "test_data['name_customer'] = np.where(test_data['name_customer'].isin(frequent_labels_tst), test_data['name_customer'], 'others')\n",
    "val1['name_customer'] = np.where(val1['name_customer'].isin(frequent_labels_val1), val1['name_customer'], 'others')\n",
    "val2['name_customer'] = np.where(val2['name_customer'].isin(frequent_labels_val2), val2['name_customer'], 'others')\n",
    "\n",
    "\n",
    "test_data['name_customer'].value_counts()\n"
   ]
  },
  {
   "cell_type": "code",
   "execution_count": 1088,
   "metadata": {
    "colab": {
     "base_uri": "https://localhost:8080/"
    },
    "id": "UyCjgVRjCfpx",
    "outputId": "df3421e6-348e-46f2-e0bd-1cb878ae3ac7"
   },
   "outputs": [
    {
     "data": {
      "text/plain": [
       "others                 3930\n",
       "WAL-MAR corporation     877\n",
       "WAL-MAR trust           869\n",
       "WAL-MAR associates      863\n",
       "WAL-MAR foundation      846\n",
       "                       ... \n",
       "BE corp                   4\n",
       "HY -  corporation         4\n",
       "F in                      4\n",
       "JETRO foundation          4\n",
       "SYGMA co                  4\n",
       "Name: name_customer, Length: 1271, dtype: int64"
      ]
     },
     "execution_count": 1088,
     "metadata": {
      "tags": []
     },
     "output_type": "execute_result"
    }
   ],
   "source": [
    "train_set['name_customer'].value_counts()\n"
   ]
  },
  {
   "cell_type": "code",
   "execution_count": 1089,
   "metadata": {
    "colab": {
     "base_uri": "https://localhost:8080/",
     "height": 435
    },
    "id": "J0-cpiBoInqA",
    "outputId": "cea065b1-1d8c-4b17-e307-26af5e0fe297"
   },
   "outputs": [
    {
     "data": {
      "text/html": [
       "<div>\n",
       "<style scoped>\n",
       "    .dataframe tbody tr th:only-of-type {\n",
       "        vertical-align: middle;\n",
       "    }\n",
       "\n",
       "    .dataframe tbody tr th {\n",
       "        vertical-align: top;\n",
       "    }\n",
       "\n",
       "    .dataframe thead th {\n",
       "        text-align: right;\n",
       "    }\n",
       "</style>\n",
       "<table border=\"1\" class=\"dataframe\">\n",
       "  <thead>\n",
       "    <tr style=\"text-align: right;\">\n",
       "      <th></th>\n",
       "      <th>business_code</th>\n",
       "      <th>cust_number</th>\n",
       "      <th>name_customer</th>\n",
       "      <th>clear_date</th>\n",
       "      <th>doc_id</th>\n",
       "      <th>posting_date</th>\n",
       "      <th>document_create_date</th>\n",
       "      <th>document_create_date.1</th>\n",
       "      <th>due_in_date</th>\n",
       "      <th>invoice_currency</th>\n",
       "      <th>total_open_amount</th>\n",
       "      <th>baseline_create_date</th>\n",
       "      <th>cust_payment_terms</th>\n",
       "      <th>isOpen</th>\n",
       "      <th>target_delay</th>\n",
       "    </tr>\n",
       "  </thead>\n",
       "  <tbody>\n",
       "    <tr>\n",
       "      <th>0</th>\n",
       "      <td>1</td>\n",
       "      <td>0200705742</td>\n",
       "      <td>-5.742424</td>\n",
       "      <td>2019-02-06</td>\n",
       "      <td>1.92866e+09</td>\n",
       "      <td>2019-01-22</td>\n",
       "      <td>2019-01-21</td>\n",
       "      <td>2019-01-22</td>\n",
       "      <td>2019-02-11</td>\n",
       "      <td>USD</td>\n",
       "      <td>2079.55</td>\n",
       "      <td>2019-01-22</td>\n",
       "      <td>0.347044</td>\n",
       "      <td>0</td>\n",
       "      <td>-5</td>\n",
       "    </tr>\n",
       "    <tr>\n",
       "      <th>1</th>\n",
       "      <td>1</td>\n",
       "      <td>0200803720</td>\n",
       "      <td>-3.893939</td>\n",
       "      <td>2019-05-01</td>\n",
       "      <td>1.92921e+09</td>\n",
       "      <td>2019-04-26</td>\n",
       "      <td>2019-04-26</td>\n",
       "      <td>2019-04-26</td>\n",
       "      <td>2019-05-09</td>\n",
       "      <td>USD</td>\n",
       "      <td>68.52</td>\n",
       "      <td>2019-04-16</td>\n",
       "      <td>-7.140805</td>\n",
       "      <td>0</td>\n",
       "      <td>-8</td>\n",
       "    </tr>\n",
       "    <tr>\n",
       "      <th>2</th>\n",
       "      <td>1</td>\n",
       "      <td>0200592182</td>\n",
       "      <td>-4.506667</td>\n",
       "      <td>2019-06-03</td>\n",
       "      <td>1.92938e+09</td>\n",
       "      <td>2019-05-25</td>\n",
       "      <td>2019-05-25</td>\n",
       "      <td>2019-05-25</td>\n",
       "      <td>2019-06-08</td>\n",
       "      <td>USD</td>\n",
       "      <td>1677.82</td>\n",
       "      <td>2019-05-16</td>\n",
       "      <td>-7.140805</td>\n",
       "      <td>0</td>\n",
       "      <td>-5</td>\n",
       "    </tr>\n",
       "    <tr>\n",
       "      <th>3</th>\n",
       "      <td>1</td>\n",
       "      <td>0200769623</td>\n",
       "      <td>-2.331402</td>\n",
       "      <td>2019-02-20</td>\n",
       "      <td>1.92877e+09</td>\n",
       "      <td>2019-02-09</td>\n",
       "      <td>2019-02-08</td>\n",
       "      <td>2019-02-09</td>\n",
       "      <td>2019-02-24</td>\n",
       "      <td>USD</td>\n",
       "      <td>66906.8</td>\n",
       "      <td>2019-02-09</td>\n",
       "      <td>-1.904635</td>\n",
       "      <td>0</td>\n",
       "      <td>-4</td>\n",
       "    </tr>\n",
       "    <tr>\n",
       "      <th>4</th>\n",
       "      <td>1</td>\n",
       "      <td>200769623</td>\n",
       "      <td>-2.507822</td>\n",
       "      <td>2019-06-12</td>\n",
       "      <td>1.92941e+09</td>\n",
       "      <td>2019-06-01</td>\n",
       "      <td>2019-05-30</td>\n",
       "      <td>2019-06-01</td>\n",
       "      <td>2019-06-16</td>\n",
       "      <td>USD</td>\n",
       "      <td>65593.9</td>\n",
       "      <td>2019-06-01</td>\n",
       "      <td>-1.904635</td>\n",
       "      <td>0</td>\n",
       "      <td>-4</td>\n",
       "    </tr>\n",
       "    <tr>\n",
       "      <th>...</th>\n",
       "      <td>...</td>\n",
       "      <td>...</td>\n",
       "      <td>...</td>\n",
       "      <td>...</td>\n",
       "      <td>...</td>\n",
       "      <td>...</td>\n",
       "      <td>...</td>\n",
       "      <td>...</td>\n",
       "      <td>...</td>\n",
       "      <td>...</td>\n",
       "      <td>...</td>\n",
       "      <td>...</td>\n",
       "      <td>...</td>\n",
       "      <td>...</td>\n",
       "      <td>...</td>\n",
       "    </tr>\n",
       "    <tr>\n",
       "      <th>46752</th>\n",
       "      <td>1</td>\n",
       "      <td>0200771157</td>\n",
       "      <td>0.600000</td>\n",
       "      <td>2019-08-30</td>\n",
       "      <td>1.92975e+09</td>\n",
       "      <td>2019-08-14</td>\n",
       "      <td>2019-08-15</td>\n",
       "      <td>2019-08-14</td>\n",
       "      <td>2019-08-29</td>\n",
       "      <td>USD</td>\n",
       "      <td>58119.4</td>\n",
       "      <td>2019-08-14</td>\n",
       "      <td>1.387441</td>\n",
       "      <td>0</td>\n",
       "      <td>1</td>\n",
       "    </tr>\n",
       "    <tr>\n",
       "      <th>46753</th>\n",
       "      <td>1</td>\n",
       "      <td>200786288</td>\n",
       "      <td>4.461538</td>\n",
       "      <td>2019-07-08</td>\n",
       "      <td>1.92953e+09</td>\n",
       "      <td>2019-06-24</td>\n",
       "      <td>2019-06-23</td>\n",
       "      <td>2019-06-24</td>\n",
       "      <td>2019-07-09</td>\n",
       "      <td>USD</td>\n",
       "      <td>11770.5</td>\n",
       "      <td>2019-06-24</td>\n",
       "      <td>0.561391</td>\n",
       "      <td>0</td>\n",
       "      <td>-1</td>\n",
       "    </tr>\n",
       "    <tr>\n",
       "      <th>46754</th>\n",
       "      <td>1</td>\n",
       "      <td>0200769623</td>\n",
       "      <td>-1.981413</td>\n",
       "      <td>2019-07-03</td>\n",
       "      <td>1.92953e+09</td>\n",
       "      <td>2019-06-23</td>\n",
       "      <td>2019-06-21</td>\n",
       "      <td>2019-06-23</td>\n",
       "      <td>2019-07-08</td>\n",
       "      <td>USD</td>\n",
       "      <td>70346.5</td>\n",
       "      <td>2019-06-23</td>\n",
       "      <td>-1.904635</td>\n",
       "      <td>0</td>\n",
       "      <td>-5</td>\n",
       "    </tr>\n",
       "    <tr>\n",
       "      <th>46755</th>\n",
       "      <td>1</td>\n",
       "      <td>0200749225</td>\n",
       "      <td>1.666667</td>\n",
       "      <td>2019-01-17</td>\n",
       "      <td>1.92855e+09</td>\n",
       "      <td>2019-01-02</td>\n",
       "      <td>2019-01-02</td>\n",
       "      <td>2019-01-02</td>\n",
       "      <td>2019-01-17</td>\n",
       "      <td>USD</td>\n",
       "      <td>135678</td>\n",
       "      <td>2019-01-02</td>\n",
       "      <td>1.387441</td>\n",
       "      <td>0</td>\n",
       "      <td>0</td>\n",
       "    </tr>\n",
       "    <tr>\n",
       "      <th>46756</th>\n",
       "      <td>1</td>\n",
       "      <td>0200769369</td>\n",
       "      <td>2.171247</td>\n",
       "      <td>2019-03-22</td>\n",
       "      <td>1.92892e+09</td>\n",
       "      <td>2019-03-07</td>\n",
       "      <td>2019-03-07</td>\n",
       "      <td>2019-03-07</td>\n",
       "      <td>2019-03-22</td>\n",
       "      <td>USD</td>\n",
       "      <td>32677.6</td>\n",
       "      <td>2019-03-07</td>\n",
       "      <td>1.387441</td>\n",
       "      <td>0</td>\n",
       "      <td>0</td>\n",
       "    </tr>\n",
       "  </tbody>\n",
       "</table>\n",
       "<p>39318 rows × 15 columns</p>\n",
       "</div>"
      ],
      "text/plain": [
       "       business_code cust_number  ...  isOpen target_delay\n",
       "0                  1  0200705742  ...       0           -5\n",
       "1                  1  0200803720  ...       0           -8\n",
       "2                  1  0200592182  ...       0           -5\n",
       "3                  1  0200769623  ...       0           -4\n",
       "4                  1   200769623  ...       0           -4\n",
       "...              ...         ...  ...     ...          ...\n",
       "46752              1  0200771157  ...       0            1\n",
       "46753              1   200786288  ...       0           -1\n",
       "46754              1  0200769623  ...       0           -5\n",
       "46755              1  0200749225  ...       0            0\n",
       "46756              1  0200769369  ...       0            0\n",
       "\n",
       "[39318 rows x 15 columns]"
      ]
     },
     "execution_count": 1089,
     "metadata": {
      "tags": []
     },
     "output_type": "execute_result"
    }
   ],
   "source": [
    "#target encoding in name customer\n",
    "target_mapper = train_set.groupby('name_customer')['target_delay'].mean().to_dict()\n",
    "train_set['name_customer'] = train_set['name_customer'].map(target_mapper)\n",
    "test_data['name_customer'] = test_data['name_customer'].map(target_mapper)\n",
    "val1['name_customer'] = val1['name_customer'].map(target_mapper)\n",
    "val2['name_customer'] = val2['name_customer'].map(target_mapper)\n",
    "train_set\n"
   ]
  },
  {
   "cell_type": "code",
   "execution_count": 1090,
   "metadata": {
    "colab": {
     "base_uri": "https://localhost:8080/"
    },
    "id": "atMEuiBi-d1j",
    "outputId": "d3b421c6-f083-4047-8c2c-d48831826155"
   },
   "outputs": [
    {
     "data": {
      "text/plain": [
       "737"
      ]
     },
     "execution_count": 1090,
     "metadata": {
      "tags": []
     },
     "output_type": "execute_result"
    }
   ],
   "source": [
    "len(pd.unique(train_set['name_customer'])) \n"
   ]
  },
  {
   "cell_type": "code",
   "execution_count": 1091,
   "metadata": {
    "colab": {
     "base_uri": "https://localhost:8080/"
    },
    "id": "KULglbLufA0H",
    "outputId": "7b53c319-a577-4f68-bf1b-434b88923db7"
   },
   "outputs": [
    {
     "data": {
      "text/plain": [
       "0.5961109211744695"
      ]
     },
     "execution_count": 1091,
     "metadata": {
      "tags": []
     },
     "output_type": "execute_result"
    }
   ],
   "source": [
    "train_set['name_customer'].corr(train_set['target_delay'])"
   ]
  },
  {
   "cell_type": "code",
   "execution_count": 1092,
   "metadata": {
    "colab": {
     "base_uri": "https://localhost:8080/"
    },
    "id": "CaIz9Ge_hOFY",
    "outputId": "51284ec2-dd1c-4ae8-a7c0-6bc92824a7e0"
   },
   "outputs": [
    {
     "data": {
      "text/plain": [
       "others        897\n",
       "0200769623    846\n",
       "0200762301    118\n",
       "0200726979    115\n",
       "0200759878     99\n",
       "0200744019     84\n",
       "0200794332     77\n",
       "0200772670     60\n",
       "0200418007     55\n",
       "200769623      48\n",
       "0200707822     43\n",
       "0200780383     42\n",
       "0140104409     40\n",
       "0100031704     39\n",
       "0200761734     39\n",
       "0200353024     33\n",
       "0140106408     32\n",
       "0200803720     31\n",
       "0200706844     30\n",
       "0200148860     30\n",
       "0200704858     29\n",
       "0200705742     29\n",
       "0200936373     26\n",
       "0200020431     22\n",
       "CCU013         21\n",
       "0200772595     21\n",
       "0200416837     21\n",
       "0200230690     20\n",
       "0200729290     20\n",
       "0140104429     19\n",
       "0200704045     18\n",
       "0140104423     17\n",
       "0140104440     17\n",
       "CCCA02         17\n",
       "0200793568     15\n",
       "0200799367     15\n",
       "0140105847     14\n",
       "0200592182     14\n",
       "0200782001     13\n",
       "0200752302     12\n",
       "0200778870     12\n",
       "0200750051     12\n",
       "0200777735     12\n",
       "0200974851     11\n",
       "0200881076     11\n",
       "0200792734     11\n",
       "0140104225     11\n",
       "0200739534     10\n",
       "0200707005     10\n",
       "Name: cust_number, dtype: int64"
      ]
     },
     "execution_count": 1092,
     "metadata": {
      "tags": []
     },
     "output_type": "execute_result"
    }
   ],
   "source": [
    "###similarly encoding cust_numbers\n",
    "threshlold = 0.000250\n",
    "\n",
    "# we loop over all the categorical variables\n",
    "\n",
    "    \n",
    "    # locate all the categories that are not rare.\n",
    "counts = train_set.groupby(['cust_number'])['cust_number'].count() / len(train_set)\n",
    "counts_tst = test_data.groupby(['cust_number'])['cust_number'].count() / len(train_set)\n",
    "counts_val1 = val1.groupby(['cust_number'])['cust_number'].count() / len(train_set)\n",
    "counts_val2 = val2.groupby(['cust_number'])['cust_number'].count() / len(train_set)\n",
    "frequent_labels = [x for x in counts.loc[counts>threshlold].index.values]\n",
    "frequent_labels_tst = [x for x in counts_tst.loc[counts_tst>threshlold].index.values]\n",
    "frequent_labels_val1 = [x for x in counts_val1.loc[counts_val1>threshlold].index.values]\n",
    "frequent_labels_val2 = [x for x in counts_val2.loc[counts_val2>threshlold].index.values]\n",
    "    # change the rare category names with the word rare, and thus encoding it.\n",
    "train_set['cust_number'] = np.where(train_set['cust_number'].isin(frequent_labels), train_set['cust_number'], 'others')\n",
    "test_data['cust_number'] = np.where(test_data['cust_number'].isin(frequent_labels_tst), test_data['cust_number'], 'others')\n",
    "val1['cust_number'] = np.where(val1['cust_number'].isin(frequent_labels_val1), val1['cust_number'], 'others')\n",
    "val2['cust_number'] = np.where(val2['cust_number'].isin(frequent_labels_val2), val2['cust_number'], 'others')\n",
    "\n",
    "\n",
    "test_data['cust_number'].value_counts()\n",
    "\n"
   ]
  },
  {
   "cell_type": "code",
   "execution_count": 1093,
   "metadata": {
    "id": "dH1nbNQQeavp"
   },
   "outputs": [],
   "source": [
    "target_mapper = train_set.groupby('cust_number')['target_delay'].mean().to_dict()\n",
    "train_set['cust_number'] = train_set['cust_number'].map(target_mapper)\n",
    "test_data['cust_number'] = test_data['cust_number'].map(target_mapper)\n",
    "val1['cust_number'] = val1['cust_number'].map(target_mapper)\n",
    "val2['cust_number'] = val2['cust_number'].map(target_mapper)\n"
   ]
  },
  {
   "cell_type": "code",
   "execution_count": 1094,
   "metadata": {
    "colab": {
     "base_uri": "https://localhost:8080/"
    },
    "id": "qN3TACqFfe92",
    "outputId": "21a078d9-afd0-4d39-810e-7a0864c8a7a4"
   },
   "outputs": [
    {
     "data": {
      "text/plain": [
       "0.5923069549571435"
      ]
     },
     "execution_count": 1094,
     "metadata": {
      "tags": []
     },
     "output_type": "execute_result"
    }
   ],
   "source": [
    "train_set['cust_number'].corr(train_set['target_delay'])"
   ]
  },
  {
   "cell_type": "code",
   "execution_count": 1095,
   "metadata": {
    "colab": {
     "base_uri": "https://localhost:8080/"
    },
    "id": "UWXpK4lRl_fV",
    "outputId": "ac28393c-0eca-49bf-a370-0c73ac158324"
   },
   "outputs": [
    {
     "data": {
      "text/plain": [
       "business_code                      int64\n",
       "cust_number                      float64\n",
       "name_customer                    float64\n",
       "clear_date                datetime64[ns]\n",
       "doc_id                            object\n",
       "posting_date              datetime64[ns]\n",
       "document_create_date      datetime64[ns]\n",
       "document_create_date.1    datetime64[ns]\n",
       "due_in_date               datetime64[ns]\n",
       "invoice_currency                  object\n",
       "total_open_amount                 object\n",
       "baseline_create_date      datetime64[ns]\n",
       "cust_payment_terms               float64\n",
       "isOpen                            object\n",
       "target_delay                       int64\n",
       "dtype: object"
      ]
     },
     "execution_count": 1095,
     "metadata": {
      "tags": []
     },
     "output_type": "execute_result"
    }
   ],
   "source": [
    "train_set.dtypes"
   ]
  },
  {
   "cell_type": "code",
   "execution_count": 1096,
   "metadata": {
    "colab": {
     "base_uri": "https://localhost:8080/"
    },
    "id": "P8OvOYZDmYyQ",
    "outputId": "f9a52cae-a53f-4fb1-cbfc-41d326d94349"
   },
   "outputs": [
    {
     "data": {
      "text/plain": [
       "<bound method Series.unique of 0        1.92866e+09\n",
       "1        1.92921e+09\n",
       "2        1.92938e+09\n",
       "3        1.92877e+09\n",
       "4        1.92941e+09\n",
       "            ...     \n",
       "46752    1.92975e+09\n",
       "46753    1.92953e+09\n",
       "46754    1.92953e+09\n",
       "46755    1.92855e+09\n",
       "46756    1.92892e+09\n",
       "Name: doc_id, Length: 39318, dtype: object>"
      ]
     },
     "execution_count": 1096,
     "metadata": {
      "tags": []
     },
     "output_type": "execute_result"
    }
   ],
   "source": [
    "train_set['doc_id'].unique"
   ]
  },
  {
   "cell_type": "code",
   "execution_count": 1097,
   "metadata": {
    "colab": {
     "base_uri": "https://localhost:8080/"
    },
    "id": "yvk083JqnK-6",
    "outputId": "86e51d26-41a6-4cc4-cf9b-d766d94bf51b"
   },
   "outputs": [
    {
     "data": {
      "text/plain": [
       "(39318, 15)"
      ]
     },
     "execution_count": 1097,
     "metadata": {
      "tags": []
     },
     "output_type": "execute_result"
    }
   ],
   "source": [
    "train_set.shape #means doc_id is a unique value like primary key so we will not encode as it will not contribute in predicting"
   ]
  },
  {
   "cell_type": "code",
   "execution_count": 1098,
   "metadata": {
    "colab": {
     "base_uri": "https://localhost:8080/"
    },
    "id": "o32zuLWKnya6",
    "outputId": "d398edb2-c8b9-4069-be01-c8162894df7e"
   },
   "outputs": [
    {
     "data": {
      "text/plain": [
       "0          2079.55\n",
       "1            68.52\n",
       "2          1677.82\n",
       "3         66906.76\n",
       "4         65593.95\n",
       "           ...    \n",
       "46752     58119.37\n",
       "46753     11770.45\n",
       "46754     70346.50\n",
       "46755    135678.45\n",
       "46756     32677.60\n",
       "Name: total_open_amount, Length: 39318, dtype: float64"
      ]
     },
     "execution_count": 1098,
     "metadata": {
      "tags": []
     },
     "output_type": "execute_result"
    }
   ],
   "source": [
    "#encoding total_open_amount\n",
    "train_set['total_open_amount']=train_set['total_open_amount'].astype(float)\n",
    "test_data['total_open_amount']=test_data['total_open_amount'].astype(float)\n",
    "val1['total_open_amount']=val1['total_open_amount'].astype(float)\n",
    "val2['total_open_amount']=val2['total_open_amount'].astype(float)\n",
    "train_set['total_open_amount']"
   ]
  },
  {
   "cell_type": "code",
   "execution_count": 1099,
   "metadata": {
    "colab": {
     "base_uri": "https://localhost:8080/"
    },
    "id": "M1CD3QI_f7cs",
    "outputId": "2386560f-aa4b-4e0f-fb11-ab792c487c5d"
   },
   "outputs": [
    {
     "data": {
      "text/plain": [
       "0.004550858182888728"
      ]
     },
     "execution_count": 1099,
     "metadata": {
      "tags": []
     },
     "output_type": "execute_result"
    }
   ],
   "source": [
    "train_set['total_open_amount'].corr(train_set['target_delay'])"
   ]
  },
  {
   "cell_type": "code",
   "execution_count": 1100,
   "metadata": {
    "colab": {
     "base_uri": "https://localhost:8080/"
    },
    "id": "hqTCPESpud46",
    "outputId": "3f7194b7-c1cc-4c89-b9e8-1fe07ba8bcd8"
   },
   "outputs": [
    {
     "data": {
      "text/plain": [
       "0        1.007299\n",
       "1        1.007299\n",
       "2        1.007299\n",
       "3        1.007299\n",
       "4        1.007299\n",
       "           ...   \n",
       "46752    1.007299\n",
       "46753    1.007299\n",
       "46754    1.007299\n",
       "46755    1.007299\n",
       "46756    1.007299\n",
       "Name: isOpen, Length: 39318, dtype: float64"
      ]
     },
     "execution_count": 1100,
     "metadata": {
      "tags": []
     },
     "output_type": "execute_result"
    }
   ],
   "source": [
    "#target encoding on isOpen\n",
    "target_mapper = train_set.groupby('isOpen')['target_delay'].mean().to_dict()\n",
    "train_set['isOpen'] = train_set['isOpen'].map(target_mapper)\n",
    "val1['isOpen'] = val1['isOpen'].map(target_mapper)\n",
    "val2['isOpen'] = val2['isOpen'].map(target_mapper)\n",
    "train_set['isOpen']"
   ]
  },
  {
   "cell_type": "code",
   "execution_count": 1101,
   "metadata": {
    "colab": {
     "base_uri": "https://localhost:8080/"
    },
    "id": "4vKPegK2gC94",
    "outputId": "598cd9ec-1392-4eec-b75e-55d4a6c43280"
   },
   "outputs": [
    {
     "data": {
      "text/plain": [
       "nan"
      ]
     },
     "execution_count": 1101,
     "metadata": {
      "tags": []
     },
     "output_type": "execute_result"
    }
   ],
   "source": [
    "train_set['isOpen'].corr(train_set['target_delay'])"
   ]
  },
  {
   "cell_type": "code",
   "execution_count": 1102,
   "metadata": {
    "colab": {
     "base_uri": "https://localhost:8080/"
    },
    "id": "aY-niSydvTlr",
    "outputId": "a99985f0-406c-47e0-c5de-37f8a9fa6633"
   },
   "outputs": [
    {
     "data": {
      "text/plain": [
       "business_code                      int64\n",
       "cust_number                      float64\n",
       "name_customer                    float64\n",
       "clear_date                datetime64[ns]\n",
       "doc_id                            object\n",
       "posting_date              datetime64[ns]\n",
       "document_create_date      datetime64[ns]\n",
       "document_create_date.1    datetime64[ns]\n",
       "due_in_date               datetime64[ns]\n",
       "invoice_currency                  object\n",
       "total_open_amount                float64\n",
       "baseline_create_date      datetime64[ns]\n",
       "cust_payment_terms               float64\n",
       "isOpen                           float64\n",
       "target_delay                       int64\n",
       "dtype: object"
      ]
     },
     "execution_count": 1102,
     "metadata": {
      "tags": []
     },
     "output_type": "execute_result"
    }
   ],
   "source": [
    "train_set.dtypes"
   ]
  },
  {
   "cell_type": "code",
   "execution_count": 1103,
   "metadata": {
    "colab": {
     "base_uri": "https://localhost:8080/"
    },
    "id": "8a0gZsOaBMy8",
    "outputId": "a8063132-ff85-43a9-8f7d-a111750480c1"
   },
   "outputs": [
    {
     "data": {
      "text/plain": [
       "USD    36207\n",
       "CAD     3111\n",
       "Name: invoice_currency, dtype: int64"
      ]
     },
     "execution_count": 1103,
     "metadata": {
      "tags": []
     },
     "output_type": "execute_result"
    }
   ],
   "source": [
    "train_set['invoice_currency'].value_counts()"
   ]
  },
  {
   "cell_type": "code",
   "execution_count": 1104,
   "metadata": {
    "colab": {
     "base_uri": "https://localhost:8080/",
     "height": 435
    },
    "id": "hGg83z9UAHku",
    "outputId": "70f75836-25d0-41eb-c141-f4935a359984"
   },
   "outputs": [
    {
     "data": {
      "text/html": [
       "<div>\n",
       "<style scoped>\n",
       "    .dataframe tbody tr th:only-of-type {\n",
       "        vertical-align: middle;\n",
       "    }\n",
       "\n",
       "    .dataframe tbody tr th {\n",
       "        vertical-align: top;\n",
       "    }\n",
       "\n",
       "    .dataframe thead th {\n",
       "        text-align: right;\n",
       "    }\n",
       "</style>\n",
       "<table border=\"1\" class=\"dataframe\">\n",
       "  <thead>\n",
       "    <tr style=\"text-align: right;\">\n",
       "      <th></th>\n",
       "      <th>business_code</th>\n",
       "      <th>cust_number</th>\n",
       "      <th>name_customer</th>\n",
       "      <th>clear_date</th>\n",
       "      <th>doc_id</th>\n",
       "      <th>posting_date</th>\n",
       "      <th>document_create_date</th>\n",
       "      <th>document_create_date.1</th>\n",
       "      <th>due_in_date</th>\n",
       "      <th>invoice_currency</th>\n",
       "      <th>total_open_amount</th>\n",
       "      <th>baseline_create_date</th>\n",
       "      <th>cust_payment_terms</th>\n",
       "      <th>isOpen</th>\n",
       "      <th>target_delay</th>\n",
       "    </tr>\n",
       "  </thead>\n",
       "  <tbody>\n",
       "    <tr>\n",
       "      <th>0</th>\n",
       "      <td>1</td>\n",
       "      <td>-6.640823</td>\n",
       "      <td>-5.742424</td>\n",
       "      <td>2019-02-06</td>\n",
       "      <td>1.92866e+09</td>\n",
       "      <td>2019-01-22</td>\n",
       "      <td>2019-01-21</td>\n",
       "      <td>2019-01-22</td>\n",
       "      <td>2019-02-11</td>\n",
       "      <td>0.610766</td>\n",
       "      <td>2079.55</td>\n",
       "      <td>2019-01-22</td>\n",
       "      <td>0.347044</td>\n",
       "      <td>1.007299</td>\n",
       "      <td>-5</td>\n",
       "    </tr>\n",
       "    <tr>\n",
       "      <th>1</th>\n",
       "      <td>1</td>\n",
       "      <td>-4.493711</td>\n",
       "      <td>-3.893939</td>\n",
       "      <td>2019-05-01</td>\n",
       "      <td>1.92921e+09</td>\n",
       "      <td>2019-04-26</td>\n",
       "      <td>2019-04-26</td>\n",
       "      <td>2019-04-26</td>\n",
       "      <td>2019-05-09</td>\n",
       "      <td>0.610766</td>\n",
       "      <td>68.52</td>\n",
       "      <td>2019-04-16</td>\n",
       "      <td>-7.140805</td>\n",
       "      <td>1.007299</td>\n",
       "      <td>-8</td>\n",
       "    </tr>\n",
       "    <tr>\n",
       "      <th>2</th>\n",
       "      <td>1</td>\n",
       "      <td>-3.908537</td>\n",
       "      <td>-4.506667</td>\n",
       "      <td>2019-06-03</td>\n",
       "      <td>1.92938e+09</td>\n",
       "      <td>2019-05-25</td>\n",
       "      <td>2019-05-25</td>\n",
       "      <td>2019-05-25</td>\n",
       "      <td>2019-06-08</td>\n",
       "      <td>0.610766</td>\n",
       "      <td>1677.82</td>\n",
       "      <td>2019-05-16</td>\n",
       "      <td>-7.140805</td>\n",
       "      <td>1.007299</td>\n",
       "      <td>-5</td>\n",
       "    </tr>\n",
       "    <tr>\n",
       "      <th>3</th>\n",
       "      <td>1</td>\n",
       "      <td>-2.306052</td>\n",
       "      <td>-2.331402</td>\n",
       "      <td>2019-02-20</td>\n",
       "      <td>1.92877e+09</td>\n",
       "      <td>2019-02-09</td>\n",
       "      <td>2019-02-08</td>\n",
       "      <td>2019-02-09</td>\n",
       "      <td>2019-02-24</td>\n",
       "      <td>0.610766</td>\n",
       "      <td>66906.76</td>\n",
       "      <td>2019-02-09</td>\n",
       "      <td>-1.904635</td>\n",
       "      <td>1.007299</td>\n",
       "      <td>-4</td>\n",
       "    </tr>\n",
       "    <tr>\n",
       "      <th>4</th>\n",
       "      <td>1</td>\n",
       "      <td>-2.165963</td>\n",
       "      <td>-2.507822</td>\n",
       "      <td>2019-06-12</td>\n",
       "      <td>1.92941e+09</td>\n",
       "      <td>2019-06-01</td>\n",
       "      <td>2019-05-30</td>\n",
       "      <td>2019-06-01</td>\n",
       "      <td>2019-06-16</td>\n",
       "      <td>0.610766</td>\n",
       "      <td>65593.95</td>\n",
       "      <td>2019-06-01</td>\n",
       "      <td>-1.904635</td>\n",
       "      <td>1.007299</td>\n",
       "      <td>-4</td>\n",
       "    </tr>\n",
       "    <tr>\n",
       "      <th>...</th>\n",
       "      <td>...</td>\n",
       "      <td>...</td>\n",
       "      <td>...</td>\n",
       "      <td>...</td>\n",
       "      <td>...</td>\n",
       "      <td>...</td>\n",
       "      <td>...</td>\n",
       "      <td>...</td>\n",
       "      <td>...</td>\n",
       "      <td>...</td>\n",
       "      <td>...</td>\n",
       "      <td>...</td>\n",
       "      <td>...</td>\n",
       "      <td>...</td>\n",
       "      <td>...</td>\n",
       "    </tr>\n",
       "    <tr>\n",
       "      <th>46752</th>\n",
       "      <td>1</td>\n",
       "      <td>0.957746</td>\n",
       "      <td>0.600000</td>\n",
       "      <td>2019-08-30</td>\n",
       "      <td>1.92975e+09</td>\n",
       "      <td>2019-08-14</td>\n",
       "      <td>2019-08-15</td>\n",
       "      <td>2019-08-14</td>\n",
       "      <td>2019-08-29</td>\n",
       "      <td>0.610766</td>\n",
       "      <td>58119.37</td>\n",
       "      <td>2019-08-14</td>\n",
       "      <td>1.387441</td>\n",
       "      <td>1.007299</td>\n",
       "      <td>1</td>\n",
       "    </tr>\n",
       "    <tr>\n",
       "      <th>46753</th>\n",
       "      <td>1</td>\n",
       "      <td>-1.636364</td>\n",
       "      <td>4.461538</td>\n",
       "      <td>2019-07-08</td>\n",
       "      <td>1.92953e+09</td>\n",
       "      <td>2019-06-24</td>\n",
       "      <td>2019-06-23</td>\n",
       "      <td>2019-06-24</td>\n",
       "      <td>2019-07-09</td>\n",
       "      <td>0.610766</td>\n",
       "      <td>11770.45</td>\n",
       "      <td>2019-06-24</td>\n",
       "      <td>0.561391</td>\n",
       "      <td>1.007299</td>\n",
       "      <td>-1</td>\n",
       "    </tr>\n",
       "    <tr>\n",
       "      <th>46754</th>\n",
       "      <td>1</td>\n",
       "      <td>-2.306052</td>\n",
       "      <td>-1.981413</td>\n",
       "      <td>2019-07-03</td>\n",
       "      <td>1.92953e+09</td>\n",
       "      <td>2019-06-23</td>\n",
       "      <td>2019-06-21</td>\n",
       "      <td>2019-06-23</td>\n",
       "      <td>2019-07-08</td>\n",
       "      <td>0.610766</td>\n",
       "      <td>70346.50</td>\n",
       "      <td>2019-06-23</td>\n",
       "      <td>-1.904635</td>\n",
       "      <td>1.007299</td>\n",
       "      <td>-5</td>\n",
       "    </tr>\n",
       "    <tr>\n",
       "      <th>46755</th>\n",
       "      <td>1</td>\n",
       "      <td>1.894737</td>\n",
       "      <td>1.666667</td>\n",
       "      <td>2019-01-17</td>\n",
       "      <td>1.92855e+09</td>\n",
       "      <td>2019-01-02</td>\n",
       "      <td>2019-01-02</td>\n",
       "      <td>2019-01-02</td>\n",
       "      <td>2019-01-17</td>\n",
       "      <td>0.610766</td>\n",
       "      <td>135678.45</td>\n",
       "      <td>2019-01-02</td>\n",
       "      <td>1.387441</td>\n",
       "      <td>1.007299</td>\n",
       "      <td>0</td>\n",
       "    </tr>\n",
       "    <tr>\n",
       "      <th>46756</th>\n",
       "      <td>1</td>\n",
       "      <td>0.173913</td>\n",
       "      <td>2.171247</td>\n",
       "      <td>2019-03-22</td>\n",
       "      <td>1.92892e+09</td>\n",
       "      <td>2019-03-07</td>\n",
       "      <td>2019-03-07</td>\n",
       "      <td>2019-03-07</td>\n",
       "      <td>2019-03-22</td>\n",
       "      <td>0.610766</td>\n",
       "      <td>32677.60</td>\n",
       "      <td>2019-03-07</td>\n",
       "      <td>1.387441</td>\n",
       "      <td>1.007299</td>\n",
       "      <td>0</td>\n",
       "    </tr>\n",
       "  </tbody>\n",
       "</table>\n",
       "<p>39318 rows × 15 columns</p>\n",
       "</div>"
      ],
      "text/plain": [
       "       business_code  cust_number  ...    isOpen target_delay\n",
       "0                  1    -6.640823  ...  1.007299           -5\n",
       "1                  1    -4.493711  ...  1.007299           -8\n",
       "2                  1    -3.908537  ...  1.007299           -5\n",
       "3                  1    -2.306052  ...  1.007299           -4\n",
       "4                  1    -2.165963  ...  1.007299           -4\n",
       "...              ...          ...  ...       ...          ...\n",
       "46752              1     0.957746  ...  1.007299            1\n",
       "46753              1    -1.636364  ...  1.007299           -1\n",
       "46754              1    -2.306052  ...  1.007299           -5\n",
       "46755              1     1.894737  ...  1.007299            0\n",
       "46756              1     0.173913  ...  1.007299            0\n",
       "\n",
       "[39318 rows x 15 columns]"
      ]
     },
     "execution_count": 1104,
     "metadata": {
      "tags": []
     },
     "output_type": "execute_result"
    }
   ],
   "source": [
    "#label encoding invoice currency\n",
    "target_mapper = train_set.groupby('invoice_currency')['target_delay'].mean().to_dict()\n",
    "train_set['invoice_currency'] = train_set['invoice_currency'].map(target_mapper)\n",
    "test_data['invoice_currency'] = test_data['invoice_currency'].map(target_mapper)\n",
    "val1['invoice_currency'] = val1['invoice_currency'].map(target_mapper)\n",
    "val2['invoice_currency'] = val2['invoice_currency'].map(target_mapper)\n",
    "\n",
    "train_set\n"
   ]
  },
  {
   "cell_type": "code",
   "execution_count": 1105,
   "metadata": {
    "id": "TUmkSN-Iz5vi"
   },
   "outputs": [],
   "source": [
    "#creating month columns for all datetime type for caculating correlation\n",
    "\n",
    "train_set['create_date_month']=train_set['document_create_date'].dt.month\n",
    "train_set['create_date.1_month']=train_set['document_create_date.1'].dt.month\n",
    "train_set['posting_date_month']=train_set['posting_date'].dt.month\n",
    "train_set['baseline_create_date_month']=train_set['baseline_create_date'].dt.month\n",
    "train_set['due_in_date_month']=train_set['due_in_date'].dt.month\n",
    "\n",
    "train_set['create_date_quarter']=train_set['document_create_date'].dt.quarter\n",
    "train_set['create_date.1_quarter']=train_set['document_create_date.1'].dt.quarter\n",
    "train_set['posting_date_quarter']=train_set['posting_date'].dt.quarter\n",
    "train_set['baseline_create_date_quarter']=train_set['baseline_create_date'].dt.quarter\n",
    "train_set['due_in_date_quarter']=train_set['due_in_date'].dt.quarter"
   ]
  },
  {
   "cell_type": "code",
   "execution_count": 1106,
   "metadata": {
    "colab": {
     "base_uri": "https://localhost:8080/"
    },
    "id": "-nfdsfxvK2N4",
    "outputId": "83e001e3-a8ac-4bc2-dca7-5aea38f2db8b"
   },
   "outputs": [
    {
     "data": {
      "text/plain": [
       "business_code                            int64\n",
       "cust_number                            float64\n",
       "name_customer                          float64\n",
       "clear_date                      datetime64[ns]\n",
       "doc_id                                  object\n",
       "posting_date                    datetime64[ns]\n",
       "document_create_date            datetime64[ns]\n",
       "document_create_date.1          datetime64[ns]\n",
       "due_in_date                     datetime64[ns]\n",
       "invoice_currency                       float64\n",
       "total_open_amount                      float64\n",
       "baseline_create_date            datetime64[ns]\n",
       "cust_payment_terms                     float64\n",
       "isOpen                                 float64\n",
       "target_delay                             int64\n",
       "create_date_month                        int64\n",
       "create_date.1_month                      int64\n",
       "posting_date_month                       int64\n",
       "baseline_create_date_month               int64\n",
       "due_in_date_month                        int64\n",
       "create_date_quarter                      int64\n",
       "create_date.1_quarter                    int64\n",
       "posting_date_quarter                     int64\n",
       "baseline_create_date_quarter             int64\n",
       "due_in_date_quarter                      int64\n",
       "dtype: object"
      ]
     },
     "execution_count": 1106,
     "metadata": {
      "tags": []
     },
     "output_type": "execute_result"
    }
   ],
   "source": [
    "train_set.dtypes"
   ]
  },
  {
   "cell_type": "code",
   "execution_count": 1107,
   "metadata": {
    "id": "Y0QOSZMQAuRE"
   },
   "outputs": [],
   "source": [
    "####GRAPHS######"
   ]
  },
  {
   "cell_type": "code",
   "execution_count": 1108,
   "metadata": {
    "colab": {
     "base_uri": "https://localhost:8080/",
     "height": 297
    },
    "id": "H2HzjQFkAuoz",
    "outputId": "263aeb04-b9a6-45e8-ed8a-7eef93048490"
   },
   "outputs": [
    {
     "data": {
      "image/png": "[encoded data removed]",
      "text/plain": [
       "<Figure size 432x288 with 1 Axes>"
      ]
     },
     "metadata": {
      "tags": []
     },
     "output_type": "display_data"
    }
   ],
   "source": [
    "import matplotlib.pyplot as plt\n",
    "grp_invoice=train_set.groupby('invoice_currency')['invoice_currency'].agg({'count'}).reset_index()\n",
    "plt.bar(grp_invoice['invoice_currency'].astype(int).astype(str),grp_invoice['count'],color = 'b')\n",
    "plt.xlabel('INVOICE_CURRENCY')\n",
    "plt.xlim((-1,grp_invoice['invoice_currency'].nunique()))\n",
    "plt.ylabel('Value counts')\n",
    "# Set a title of the current axes.\n",
    "plt.title('Bar chart')\n",
    "# Display a figure.\n",
    "plt.tight_layout()\n",
    "######we can infer that invoice_currency has USD as max value_count"
   ]
  },
  {
   "cell_type": "code",
   "execution_count": 1109,
   "metadata": {
    "colab": {
     "base_uri": "https://localhost:8080/",
     "height": 297
    },
    "id": "JXS-9T_yFXQ3",
    "outputId": "dbdbfe67-30a3-439b-b757-0a15735b56a7"
   },
   "outputs": [
    {
     "data": {
      "image/png": "[encoded data removed]",
      "text/plain": [
       "<Figure size 432x288 with 1 Axes>"
      ]
     },
     "metadata": {
      "tags": []
     },
     "output_type": "display_data"
    }
   ],
   "source": [
    "grp_bc=train_set.groupby('business_code')['target_delay'].agg({'mean'}).reset_index()\n",
    "\n",
    "plt.bar(grp_bc['business_code'].astype(int).astype(str),grp_bc['mean'],color = 'b')\n",
    "plt.xlabel('BUSINESS CODE')\n",
    "plt.xlim((-1,grp_bc['business_code'].nunique()))\n",
    "plt.ylabel('TARGET DELAY MEAN')\n",
    "# Set a title of the current axes.\n",
    "plt.title('Bar chart')\n",
    "# Display a figure.\n",
    "plt.tight_layout()\n",
    "###business code labeled 4 has max target_delay mean"
   ]
  },
  {
   "cell_type": "code",
   "execution_count": 1110,
   "metadata": {
    "colab": {
     "base_uri": "https://localhost:8080/",
     "height": 397
    },
    "id": "DMj65d5pAuzO",
    "outputId": "33e1f621-d6bb-456c-a4a0-c4fceab56b05"
   },
   "outputs": [
    {
     "data": {
      "image/png": "[encoded data removed]",
      "text/plain": [
       "<Figure size 360x360 with 1 Axes>"
      ]
     },
     "metadata": {
      "tags": []
     },
     "output_type": "display_data"
    }
   ],
   "source": [
    "grp_posting_date_mnth=train_set.groupby('posting_date_month')['target_delay'].agg({'mean'}).reset_index()\n",
    "plt.figure(figsize=(5,5))\n",
    "plt.pie(grp_posting_date_mnth['mean'],labels=grp_posting_date_mnth['posting_date_month'],autopct='%1.0f%%',radius = 1.5)\n",
    "plt.show()\n",
    "##shows target_delay mean in percentage in every month wrt posting_date"
   ]
  },
  {
   "cell_type": "code",
   "execution_count": 1111,
   "metadata": {
    "colab": {
     "base_uri": "https://localhost:8080/",
     "height": 395
    },
    "id": "G3bvvxJjMo30",
    "outputId": "3469b4c9-4afe-448a-abf9-de49b80e7560"
   },
   "outputs": [
    {
     "data": {
      "image/png": "[encoded data removed]",
      "text/plain": [
       "<Figure size 360x360 with 1 Axes>"
      ]
     },
     "metadata": {
      "tags": []
     },
     "output_type": "display_data"
    }
   ],
   "source": [
    "grp_baseline_cr_date_mnth=train_set.groupby('baseline_create_date_month')['target_delay'].agg({'mean'}).reset_index()\n",
    "plt.figure(figsize=(5,5))\n",
    "plt.pie(grp_baseline_cr_date_mnth['mean'],labels=grp_baseline_cr_date_mnth['baseline_create_date_month'],autopct='%1.0f%%',radius = 1.5)\n",
    "plt.show()\n",
    "##shows target_delay mean in percentage in every month wrt baseline_create_date\n",
    "##we notice that above both the date graphs have nearly similar mean monthly"
   ]
  },
  {
   "cell_type": "code",
   "execution_count": 1112,
   "metadata": {
    "colab": {
     "base_uri": "https://localhost:8080/",
     "height": 399
    },
    "id": "4_MRH4tvEvtz",
    "outputId": "dc7b75bc-edd8-4ed7-94d6-082cd461d91f"
   },
   "outputs": [
    {
     "data": {
      "image/png": "[encoded data removed]",
      "text/plain": [
       "<Figure size 360x360 with 1 Axes>"
      ]
     },
     "metadata": {
      "tags": []
     },
     "output_type": "display_data"
    }
   ],
   "source": [
    "grp_due_in_date_mnth=train_set.groupby('due_in_date_month')['target_delay'].agg({'mean'}).reset_index()\n",
    "plt.figure(figsize=(5,5))\n",
    "plt.pie(grp_due_in_date_mnth['mean'],labels=grp_due_in_date_mnth['due_in_date_month'],autopct='%1.0f%%',radius = 1.5)\n",
    "plt.show()\n",
    "##shows target_delay mean in percentage in every month wrt due_in_date\n"
   ]
  },
  {
   "cell_type": "code",
   "execution_count": 1113,
   "metadata": {
    "colab": {
     "base_uri": "https://localhost:8080/",
     "height": 297
    },
    "id": "nP9KBrBdEv_6",
    "outputId": "a94a499d-f8ed-4852-b6b1-e396d796326b"
   },
   "outputs": [
    {
     "data": {
      "image/png": "[encoded data removed]",
      "text/plain": [
       "<Figure size 432x288 with 1 Axes>"
      ]
     },
     "metadata": {
      "tags": []
     },
     "output_type": "display_data"
    }
   ],
   "source": [
    "grp_nc=train_set.groupby('business_code')['total_open_amount'].agg({'mean'}).reset_index()\n",
    "\n",
    "plt.bar(grp_nc['business_code'].astype(int).astype(str),grp_nc['mean'],color = 'b')\n",
    "plt.xlabel('B CODE')\n",
    "plt.xlim((-1,grp_nc['business_code'].nunique()))\n",
    "plt.ylabel('Total open amount Mean')\n",
    "# Set a title of the current axes.\n",
    "plt.title('Bar chart')\n",
    "# Display a figure.\n",
    "plt.tight_layout()\n",
    "###displaying avg total amount for each business code "
   ]
  },
  {
   "cell_type": "code",
   "execution_count": 1114,
   "metadata": {
    "colab": {
     "base_uri": "https://localhost:8080/",
     "height": 282
    },
    "id": "8kW_ptszVQnu",
    "outputId": "3115fed0-83b2-48f7-9ddb-b858859932e6"
   },
   "outputs": [
    {
     "data": {
      "image/png": "[encoded data removed]",
      "text/plain": [
       "<Figure size 432x288 with 1 Axes>"
      ]
     },
     "metadata": {
      "tags": []
     },
     "output_type": "display_data"
    }
   ],
   "source": [
    "###Scatter plot of posting date month with target delay\n",
    "plt.scatter(train_set[:30]['target_delay'], train_set[:30]['posting_date_month'],color='r',label='posting date month')\n",
    "plt.xlabel(\"target_delay\")\n",
    "plt.legend()\n",
    "plt.show()"
   ]
  },
  {
   "cell_type": "code",
   "execution_count": 1115,
   "metadata": {
    "colab": {
     "base_uri": "https://localhost:8080/",
     "height": 282
    },
    "id": "a2vw0F0eVQsI",
    "outputId": "4a51fa13-399b-412b-bce3-81b52b1bd67b"
   },
   "outputs": [
    {
     "data": {
      "image/png": "[encoded data removed]",
      "text/plain": [
       "<Figure size 432x288 with 1 Axes>"
      ]
     },
     "metadata": {
      "tags": []
     },
     "output_type": "display_data"
    }
   ],
   "source": [
    "###Scatter plot of baseline create date month with target delay\n",
    "plt.scatter(train_set[:30]['target_delay'], train_set[:30]['baseline_create_date_month'],color='b',label='baseline create date month')\n",
    "plt.xlabel(\"target_delay\")\n",
    "plt.legend()\n",
    "plt.show()"
   ]
  },
  {
   "cell_type": "code",
   "execution_count": 1116,
   "metadata": {
    "colab": {
     "base_uri": "https://localhost:8080/",
     "height": 282
    },
    "id": "TMQ5S40fZtjK",
    "outputId": "026865e9-4c08-43d8-fefd-ed8fc6137a77"
   },
   "outputs": [
    {
     "data": {
      "image/png": "[encoded data removed]",
      "text/plain": [
       "<Figure size 432x288 with 1 Axes>"
      ]
     },
     "metadata": {
      "tags": []
     },
     "output_type": "display_data"
    }
   ],
   "source": [
    "###Scatter plot of posting date month and basline create date with target delay\n",
    "plt.scatter(train_set[:30]['target_delay'], train_set[:30]['posting_date_month'],color='r',label='posting date month')\n",
    "plt.scatter(train_set[:30]['target_delay'], train_set[:30]['baseline_create_date_month'],color='b',label='baseline create date month')\n",
    "\n",
    "plt.xlabel(\"target_delay\")\n",
    "plt.legend()\n",
    "plt.show()\n",
    "\n",
    "### We see both the points overlap each other"
   ]
  },
  {
   "cell_type": "code",
   "execution_count": 1117,
   "metadata": {
    "id": "2niXo7miVQvy"
   },
   "outputs": [],
   "source": [
    "####Distribution of various columns to check skewness"
   ]
  },
  {
   "cell_type": "code",
   "execution_count": 1118,
   "metadata": {
    "colab": {
     "base_uri": "https://localhost:8080/"
    },
    "id": "BrCDDOQsd8w9",
    "outputId": "6d454f53-9632-43bc-a258-c1d1034caa78"
   },
   "outputs": [
    {
     "name": "stdout",
     "output_type": "stream",
     "text": [
      "BUSINESS CODE\n",
      "4.960971968062309\n"
     ]
    }
   ],
   "source": [
    "##SKEWNESS OF DIFFERENT COLUMNS\n",
    "from scipy.stats import  skew\n",
    "print(\"BUSINESS CODE\")\n",
    "print(skew(train_set['business_code'])) ##highly positive"
   ]
  },
  {
   "cell_type": "code",
   "execution_count": 1119,
   "metadata": {
    "colab": {
     "base_uri": "https://localhost:8080/"
    },
    "id": "OnMF1R3fy2OA",
    "outputId": "ebebfe8f-e6b2-4d04-e953-c17e0442c6ce"
   },
   "outputs": [
    {
     "name": "stdout",
     "output_type": "stream",
     "text": [
      "CUSTOMER NUMBER\n",
      "4.985355718762132\n"
     ]
    }
   ],
   "source": [
    "from scipy.stats import  skew\n",
    "print(\"CUSTOMER NUMBER\")\n",
    "print(skew(train_set['cust_number'])) ##highly positive"
   ]
  },
  {
   "cell_type": "code",
   "execution_count": 1120,
   "metadata": {
    "colab": {
     "base_uri": "https://localhost:8080/",
     "height": 911
    },
    "id": "ZvZudS6ld83m",
    "outputId": "edf1c8c7-d72b-4e89-99c3-b85a4fb6529d"
   },
   "outputs": [
    {
     "data": {
      "text/plain": [
       "array([[<matplotlib.axes._subplots.AxesSubplot object at 0x7fee58869dd8>,\n",
       "        <matplotlib.axes._subplots.AxesSubplot object at 0x7fee56581c50>,\n",
       "        <matplotlib.axes._subplots.AxesSubplot object at 0x7fee5c292898>,\n",
       "        <matplotlib.axes._subplots.AxesSubplot object at 0x7fee595f0c18>],\n",
       "       [<matplotlib.axes._subplots.AxesSubplot object at 0x7fee292cff98>,\n",
       "        <matplotlib.axes._subplots.AxesSubplot object at 0x7fee587d3358>,\n",
       "        <matplotlib.axes._subplots.AxesSubplot object at 0x7fee5f34a6d8>,\n",
       "        <matplotlib.axes._subplots.AxesSubplot object at 0x7fee61170a20>],\n",
       "       [<matplotlib.axes._subplots.AxesSubplot object at 0x7fee61170a90>,\n",
       "        <matplotlib.axes._subplots.AxesSubplot object at 0x7fee5f3eb198>,\n",
       "        <matplotlib.axes._subplots.AxesSubplot object at 0x7fee5cee8518>,\n",
       "        <matplotlib.axes._subplots.AxesSubplot object at 0x7fee57f47c88>],\n",
       "       [<matplotlib.axes._subplots.AxesSubplot object at 0x7fee5a334ef0>,\n",
       "        <matplotlib.axes._subplots.AxesSubplot object at 0x7fee5a8954e0>,\n",
       "        <matplotlib.axes._subplots.AxesSubplot object at 0x7fee60112390>,\n",
       "        <matplotlib.axes._subplots.AxesSubplot object at 0x7fee58b492b0>],\n",
       "       [<matplotlib.axes._subplots.AxesSubplot object at 0x7fee61dfa0b8>,\n",
       "        <matplotlib.axes._subplots.AxesSubplot object at 0x7fee5cb5b320>,\n",
       "        <matplotlib.axes._subplots.AxesSubplot object at 0x7fee585949b0>,\n",
       "        <matplotlib.axes._subplots.AxesSubplot object at 0x7fee61bff438>]],\n",
       "      dtype=object)"
      ]
     },
     "execution_count": 1120,
     "metadata": {
      "tags": []
     },
     "output_type": "execute_result"
    },
    {
     "data": {
      "image/png": "[encoded data removed]",
      "text/plain": [
       "<Figure size 1152x720 with 20 Axes>"
      ]
     },
     "metadata": {
      "tags": []
     },
     "output_type": "display_data"
    }
   ],
   "source": [
    "import matplotlib\n",
    "import matplotlib.pyplot as plt\n",
    "import pandas as pd\n",
    "\n",
    "matplotlib.style.use('ggplot')\n",
    "train_set.hist(alpha=0.5, figsize=(16, 10))"
   ]
  },
  {
   "cell_type": "code",
   "execution_count": 1121,
   "metadata": {
    "colab": {
     "base_uri": "https://localhost:8080/"
    },
    "id": "P6kUZEVTzCdl",
    "outputId": "d056c140-7b72-4465-ed9a-1627dad18019"
   },
   "outputs": [
    {
     "name": "stdout",
     "output_type": "stream",
     "text": [
      "Customer Name\n",
      "4.9332065404545515\n"
     ]
    }
   ],
   "source": [
    "from scipy.stats import  skew\n",
    "print(\"Customer Name\")\n",
    "print(skew(train_set['name_customer']))   ##highly positive"
   ]
  },
  {
   "cell_type": "code",
   "execution_count": 1122,
   "metadata": {
    "colab": {
     "base_uri": "https://localhost:8080/",
     "height": 299
    },
    "id": "dXqQqUEXm-fV",
    "outputId": "ddb0a540-2b24-4d4b-b02d-4534fa82a282"
   },
   "outputs": [
    {
     "data": {
      "text/plain": [
       "<matplotlib.axes._subplots.AxesSubplot at 0x7fee61dbb630>"
      ]
     },
     "execution_count": 1122,
     "metadata": {
      "tags": []
     },
     "output_type": "execute_result"
    },
    {
     "data": {
      "image/png": "[encoded data removed]",
      "text/plain": [
       "<Figure size 432x288 with 1 Axes>"
      ]
     },
     "metadata": {
      "tags": []
     },
     "output_type": "display_data"
    }
   ],
   "source": [
    "sns.distplot(train_set['invoice_currency'])"
   ]
  },
  {
   "cell_type": "code",
   "execution_count": 1123,
   "metadata": {
    "colab": {
     "base_uri": "https://localhost:8080/"
    },
    "id": "0ul33-Xc0Qog",
    "outputId": "8df415b1-2315-4f47-9559-8ee855232df4"
   },
   "outputs": [
    {
     "name": "stdout",
     "output_type": "stream",
     "text": [
      "Invoice Currency\n",
      "3.1183813996672174\n"
     ]
    }
   ],
   "source": [
    "from scipy.stats import  skew\n",
    "print(\"Invoice Currency\")\n",
    "print(skew(train_set['invoice_currency'])) ##highly positive"
   ]
  },
  {
   "cell_type": "code",
   "execution_count": 1124,
   "metadata": {
    "colab": {
     "base_uri": "https://localhost:8080/",
     "height": 311
    },
    "id": "OwSNQoqtm-mb",
    "outputId": "0cae393c-7419-49c9-eb58-e38613e6f2b1"
   },
   "outputs": [
    {
     "data": {
      "text/plain": [
       "<matplotlib.axes._subplots.AxesSubplot at 0x7fee5dd0f320>"
      ]
     },
     "execution_count": 1124,
     "metadata": {
      "tags": []
     },
     "output_type": "execute_result"
    },
    {
     "data": {
      "image/png": "[encoded data removed]",
      "text/plain": [
       "<Figure size 432x288 with 1 Axes>"
      ]
     },
     "metadata": {
      "tags": []
     },
     "output_type": "display_data"
    }
   ],
   "source": [
    "sns.distplot(train_set['total_open_amount'])"
   ]
  },
  {
   "cell_type": "code",
   "execution_count": 1125,
   "metadata": {
    "colab": {
     "base_uri": "https://localhost:8080/"
    },
    "id": "PV3lx3I_0epk",
    "outputId": "c3b3e13f-9246-4fae-d197-99289abf427e"
   },
   "outputs": [
    {
     "name": "stdout",
     "output_type": "stream",
     "text": [
      "Total Open Amount\n",
      "3.8743907399730424\n"
     ]
    }
   ],
   "source": [
    "from scipy.stats import  skew\n",
    "print(\"Total Open Amount\")\n",
    "print(skew(train_set['total_open_amount']))  ##highly positive\n"
   ]
  },
  {
   "cell_type": "code",
   "execution_count": 1126,
   "metadata": {
    "colab": {
     "base_uri": "https://localhost:8080/"
    },
    "id": "_VGroNwi1IbJ",
    "outputId": "840535ad-648e-47ce-8d06-953305e38b9e"
   },
   "outputs": [
    {
     "name": "stdout",
     "output_type": "stream",
     "text": [
      "Customer Payment Terms\n",
      "4.113329140175236\n"
     ]
    }
   ],
   "source": [
    "from scipy.stats import  skew\n",
    "print(\"Customer Payment Terms\")\n",
    "print(skew(train_set['cust_payment_terms']))    #less positively skewed"
   ]
  },
  {
   "cell_type": "code",
   "execution_count": 1127,
   "metadata": {
    "colab": {
     "base_uri": "https://localhost:8080/"
    },
    "id": "FaT5n0TB1Nn-",
    "outputId": "881d2fb0-df61-4938-879c-6275cd8cdeb7"
   },
   "outputs": [
    {
     "name": "stdout",
     "output_type": "stream",
     "text": [
      "Is Open\n",
      "0.0\n"
     ]
    }
   ],
   "source": [
    "from scipy.stats import  skew\n",
    "print(\"Is Open\")\n",
    "print(skew(train_set['isOpen']))    "
   ]
  },
  {
   "cell_type": "code",
   "execution_count": 1128,
   "metadata": {
    "colab": {
     "base_uri": "https://localhost:8080/"
    },
    "id": "XpZ9NZvlE87R",
    "outputId": "0794fbc6-3c23-496a-b8d8-3bd86f1016f7"
   },
   "outputs": [
    {
     "name": "stdout",
     "output_type": "stream",
     "text": [
      "Baseline Create month \n",
      "0.01449395855472953\n"
     ]
    }
   ],
   "source": [
    "print(\"Baseline Create month \")\n",
    "print(skew(train_set['baseline_create_date_month']))    "
   ]
  },
  {
   "cell_type": "code",
   "execution_count": 1129,
   "metadata": {
    "colab": {
     "base_uri": "https://localhost:8080/"
    },
    "id": "zP8tJJTAE_wz",
    "outputId": "b57c8be1-7f97-4544-c3fc-f35662afe0fb"
   },
   "outputs": [
    {
     "name": "stdout",
     "output_type": "stream",
     "text": [
      "Baseline Create Quarter\n",
      "0.11016424383870904\n"
     ]
    }
   ],
   "source": [
    "print(\"Baseline Create Quarter\")\n",
    "print(skew(train_set['baseline_create_date_quarter']))    "
   ]
  },
  {
   "cell_type": "code",
   "execution_count": 1130,
   "metadata": {
    "colab": {
     "base_uri": "https://localhost:8080/"
    },
    "id": "yVwLh_0pFSt8",
    "outputId": "78649419-d7a1-4564-c242-827a505a3ff9"
   },
   "outputs": [
    {
     "name": "stdout",
     "output_type": "stream",
     "text": [
      "Create Date Month.1 month \n",
      "0.01474858082509874\n"
     ]
    }
   ],
   "source": [
    "print(\"Create Date Month.1 month \")\n",
    "print(skew(train_set['create_date.1_month']))    "
   ]
  },
  {
   "cell_type": "code",
   "execution_count": 1131,
   "metadata": {
    "colab": {
     "base_uri": "https://localhost:8080/"
    },
    "id": "5VgH3McgFTUl",
    "outputId": "776de6f8-7e38-469b-d7b3-6e288e845ce0"
   },
   "outputs": [
    {
     "name": "stdout",
     "output_type": "stream",
     "text": [
      "Create date month.1 quarter \n",
      "0.1120017141419997\n"
     ]
    }
   ],
   "source": [
    "print(\"Create date month.1 quarter \")\n",
    "print(skew(train_set['create_date.1_quarter']))    "
   ]
  },
  {
   "cell_type": "code",
   "execution_count": 1132,
   "metadata": {
    "id": "sOeSfUSj2obc"
   },
   "outputs": [],
   "source": [
    "####Skewness of columns which have high correlation with target label will not be altered"
   ]
  },
  {
   "cell_type": "code",
   "execution_count": 1133,
   "metadata": {
    "colab": {
     "base_uri": "https://localhost:8080/"
    },
    "id": "OmAV6oDFd8tM",
    "outputId": "e56d7127-9ecc-4777-90ef-1b3be3cc3a86"
   },
   "outputs": [
    {
     "name": "stdout",
     "output_type": "stream",
     "text": [
      "3.118381399667216\n"
     ]
    }
   ],
   "source": [
    "###invoice currency is highly positively skewed and it is less correlated with target delay so we apply squarert transformation\n",
    "train_set['invoice_currency']=np.sqrt(train_set['invoice_currency'])\n",
    "\n",
    "print(skew(train_set['invoice_currency']))  ###no change "
   ]
  },
  {
   "cell_type": "code",
   "execution_count": 1134,
   "metadata": {
    "colab": {
     "base_uri": "https://localhost:8080/"
    },
    "id": "DtD1lJw6_HXY",
    "outputId": "eb883248-a7d4-4b14-a32f-a25f1ae28315"
   },
   "outputs": [
    {
     "name": "stdout",
     "output_type": "stream",
     "text": [
      "0.8349395151764905\n"
     ]
    }
   ],
   "source": [
    "train_set['total_open_amount']=np.sqrt(train_set['total_open_amount'])\n",
    "\n",
    "print(skew(train_set['total_open_amount']))  ###skewness reduced\n"
   ]
  },
  {
   "cell_type": "code",
   "execution_count": 1135,
   "metadata": {
    "id": "DAvOZQ3JH57o"
   },
   "outputs": [],
   "source": [
    "#train_set['cust_payment_terms']=np.sqrt(train_set['cust_payment_terms'])\n",
    "\n",
    "#print(skew(train_set['cust_payment_terms']))  ###skewness reduced"
   ]
  },
  {
   "cell_type": "code",
   "execution_count": 1136,
   "metadata": {
    "colab": {
     "base_uri": "https://localhost:8080/"
    },
    "id": "rEgByZR7IOgL",
    "outputId": "47a52276-330c-4693-8b92-e51f029ea519"
   },
   "outputs": [
    {
     "data": {
      "text/plain": [
       "business_code                            int64\n",
       "cust_number                            float64\n",
       "name_customer                          float64\n",
       "clear_date                      datetime64[ns]\n",
       "doc_id                                  object\n",
       "posting_date                    datetime64[ns]\n",
       "document_create_date            datetime64[ns]\n",
       "document_create_date.1          datetime64[ns]\n",
       "due_in_date                     datetime64[ns]\n",
       "invoice_currency                       float64\n",
       "total_open_amount                      float64\n",
       "baseline_create_date            datetime64[ns]\n",
       "cust_payment_terms                     float64\n",
       "isOpen                                 float64\n",
       "target_delay                             int64\n",
       "create_date_month                        int64\n",
       "create_date.1_month                      int64\n",
       "posting_date_month                       int64\n",
       "baseline_create_date_month               int64\n",
       "due_in_date_month                        int64\n",
       "create_date_quarter                      int64\n",
       "create_date.1_quarter                    int64\n",
       "posting_date_quarter                     int64\n",
       "baseline_create_date_quarter             int64\n",
       "due_in_date_quarter                      int64\n",
       "dtype: object"
      ]
     },
     "execution_count": 1136,
     "metadata": {
      "tags": []
     },
     "output_type": "execute_result"
    }
   ],
   "source": [
    "train_set.dtypes"
   ]
  },
  {
   "cell_type": "code",
   "execution_count": 1137,
   "metadata": {
    "colab": {
     "base_uri": "https://localhost:8080/"
    },
    "id": "NDXqGX2kJ0lX",
    "outputId": "63ec4501-c4ee-4f28-ab37-d0b38da0a81e"
   },
   "outputs": [
    {
     "data": {
      "text/plain": [
       "<bound method Series.unique of 0        1.92866e+09\n",
       "1        1.92921e+09\n",
       "2        1.92938e+09\n",
       "3        1.92877e+09\n",
       "4        1.92941e+09\n",
       "            ...     \n",
       "46752    1.92975e+09\n",
       "46753    1.92953e+09\n",
       "46754    1.92953e+09\n",
       "46755    1.92855e+09\n",
       "46756    1.92892e+09\n",
       "Name: doc_id, Length: 39318, dtype: object>"
      ]
     },
     "execution_count": 1137,
     "metadata": {
      "tags": []
     },
     "output_type": "execute_result"
    }
   ],
   "source": [
    "train_set['doc_id'].unique"
   ]
  },
  {
   "cell_type": "code",
   "execution_count": 1138,
   "metadata": {
    "id": "GSo69YSaKCcl"
   },
   "outputs": [],
   "source": [
    "###doc_id is primary key so drop\n",
    "train_set.drop(['doc_id'],axis=1,inplace=True)"
   ]
  },
  {
   "cell_type": "code",
   "execution_count": 1139,
   "metadata": {
    "colab": {
     "base_uri": "https://localhost:8080/"
    },
    "id": "QGvrXi-LIxLQ",
    "outputId": "e927f49d-8306-447a-83bd-1351ddcdcb14"
   },
   "outputs": [
    {
     "data": {
      "text/plain": [
       "(-3.0, 2.0)"
      ]
     },
     "execution_count": 1139,
     "metadata": {
      "tags": []
     },
     "output_type": "execute_result"
    }
   ],
   "source": [
    "#remove outliers from target_delay\n",
    "q1=train_set.target_delay.quantile(0.25)\n",
    "q3=train_set.target_delay.quantile(0.75)\n",
    "q1,q3"
   ]
  },
  {
   "cell_type": "code",
   "execution_count": 1140,
   "metadata": {
    "colab": {
     "base_uri": "https://localhost:8080/"
    },
    "id": "Kxktvjm_IxQ5",
    "outputId": "00d891dc-9233-4e15-ead2-ffa75e420a91"
   },
   "outputs": [
    {
     "data": {
      "text/plain": [
       "(-10.5, 9.5)"
      ]
     },
     "execution_count": 1140,
     "metadata": {
      "tags": []
     },
     "output_type": "execute_result"
    }
   ],
   "source": [
    "iqr=q3-q1\n",
    "upper_limit=q3+1.5*iqr\n",
    "lower_limit=q1-1.5*iqr\n",
    "lower_limit,upper_limit"
   ]
  },
  {
   "cell_type": "code",
   "execution_count": 1141,
   "metadata": {
    "colab": {
     "base_uri": "https://localhost:8080/",
     "height": 435
    },
    "id": "S2SP7Gc7Ixmp",
    "outputId": "ca3b8bff-ef4d-43ab-c05e-f9df83960827"
   },
   "outputs": [
    {
     "data": {
      "text/html": [
       "<div>\n",
       "<style scoped>\n",
       "    .dataframe tbody tr th:only-of-type {\n",
       "        vertical-align: middle;\n",
       "    }\n",
       "\n",
       "    .dataframe tbody tr th {\n",
       "        vertical-align: top;\n",
       "    }\n",
       "\n",
       "    .dataframe thead th {\n",
       "        text-align: right;\n",
       "    }\n",
       "</style>\n",
       "<table border=\"1\" class=\"dataframe\">\n",
       "  <thead>\n",
       "    <tr style=\"text-align: right;\">\n",
       "      <th></th>\n",
       "      <th>business_code</th>\n",
       "      <th>cust_number</th>\n",
       "      <th>name_customer</th>\n",
       "      <th>clear_date</th>\n",
       "      <th>posting_date</th>\n",
       "      <th>document_create_date</th>\n",
       "      <th>document_create_date.1</th>\n",
       "      <th>due_in_date</th>\n",
       "      <th>invoice_currency</th>\n",
       "      <th>total_open_amount</th>\n",
       "      <th>baseline_create_date</th>\n",
       "      <th>cust_payment_terms</th>\n",
       "      <th>isOpen</th>\n",
       "      <th>target_delay</th>\n",
       "      <th>create_date_month</th>\n",
       "      <th>create_date.1_month</th>\n",
       "      <th>posting_date_month</th>\n",
       "      <th>baseline_create_date_month</th>\n",
       "      <th>due_in_date_month</th>\n",
       "      <th>create_date_quarter</th>\n",
       "      <th>create_date.1_quarter</th>\n",
       "      <th>posting_date_quarter</th>\n",
       "      <th>baseline_create_date_quarter</th>\n",
       "      <th>due_in_date_quarter</th>\n",
       "    </tr>\n",
       "  </thead>\n",
       "  <tbody>\n",
       "    <tr>\n",
       "      <th>11</th>\n",
       "      <td>1</td>\n",
       "      <td>2.321580</td>\n",
       "      <td>2.171247</td>\n",
       "      <td>2019-03-01</td>\n",
       "      <td>2019-01-25</td>\n",
       "      <td>2019-01-26</td>\n",
       "      <td>2019-01-25</td>\n",
       "      <td>2019-02-10</td>\n",
       "      <td>0.781515</td>\n",
       "      <td>137.766179</td>\n",
       "      <td>2019-01-25</td>\n",
       "      <td>13.187500</td>\n",
       "      <td>1.007299</td>\n",
       "      <td>19</td>\n",
       "      <td>1</td>\n",
       "      <td>1</td>\n",
       "      <td>1</td>\n",
       "      <td>1</td>\n",
       "      <td>2</td>\n",
       "      <td>1</td>\n",
       "      <td>1</td>\n",
       "      <td>1</td>\n",
       "      <td>1</td>\n",
       "      <td>1</td>\n",
       "    </tr>\n",
       "    <tr>\n",
       "      <th>37</th>\n",
       "      <td>1</td>\n",
       "      <td>8.884532</td>\n",
       "      <td>18.820000</td>\n",
       "      <td>2019-11-01</td>\n",
       "      <td>2019-09-06</td>\n",
       "      <td>2019-09-04</td>\n",
       "      <td>2019-09-06</td>\n",
       "      <td>2019-10-11</td>\n",
       "      <td>0.781515</td>\n",
       "      <td>145.569228</td>\n",
       "      <td>2019-09-06</td>\n",
       "      <td>7.947791</td>\n",
       "      <td>1.007299</td>\n",
       "      <td>21</td>\n",
       "      <td>9</td>\n",
       "      <td>9</td>\n",
       "      <td>9</td>\n",
       "      <td>9</td>\n",
       "      <td>10</td>\n",
       "      <td>3</td>\n",
       "      <td>3</td>\n",
       "      <td>3</td>\n",
       "      <td>3</td>\n",
       "      <td>4</td>\n",
       "    </tr>\n",
       "    <tr>\n",
       "      <th>42</th>\n",
       "      <td>0</td>\n",
       "      <td>53.200000</td>\n",
       "      <td>60.444444</td>\n",
       "      <td>2019-09-18</td>\n",
       "      <td>2019-07-05</td>\n",
       "      <td>2019-07-05</td>\n",
       "      <td>2019-07-05</td>\n",
       "      <td>2019-07-20</td>\n",
       "      <td>2.371141</td>\n",
       "      <td>33.879197</td>\n",
       "      <td>2019-07-10</td>\n",
       "      <td>5.677419</td>\n",
       "      <td>1.007299</td>\n",
       "      <td>60</td>\n",
       "      <td>7</td>\n",
       "      <td>7</td>\n",
       "      <td>7</td>\n",
       "      <td>7</td>\n",
       "      <td>7</td>\n",
       "      <td>3</td>\n",
       "      <td>3</td>\n",
       "      <td>3</td>\n",
       "      <td>3</td>\n",
       "      <td>3</td>\n",
       "    </tr>\n",
       "    <tr>\n",
       "      <th>43</th>\n",
       "      <td>1</td>\n",
       "      <td>2.487395</td>\n",
       "      <td>1.400000</td>\n",
       "      <td>2019-03-13</td>\n",
       "      <td>2019-02-13</td>\n",
       "      <td>2019-02-08</td>\n",
       "      <td>2019-02-13</td>\n",
       "      <td>2019-02-28</td>\n",
       "      <td>0.781515</td>\n",
       "      <td>28.339019</td>\n",
       "      <td>2019-02-13</td>\n",
       "      <td>1.387441</td>\n",
       "      <td>1.007299</td>\n",
       "      <td>13</td>\n",
       "      <td>2</td>\n",
       "      <td>2</td>\n",
       "      <td>2</td>\n",
       "      <td>2</td>\n",
       "      <td>2</td>\n",
       "      <td>1</td>\n",
       "      <td>1</td>\n",
       "      <td>1</td>\n",
       "      <td>1</td>\n",
       "      <td>1</td>\n",
       "    </tr>\n",
       "    <tr>\n",
       "      <th>44</th>\n",
       "      <td>0</td>\n",
       "      <td>8.516129</td>\n",
       "      <td>11.595238</td>\n",
       "      <td>2019-11-01</td>\n",
       "      <td>2019-09-03</td>\n",
       "      <td>2019-09-03</td>\n",
       "      <td>2019-09-03</td>\n",
       "      <td>2019-10-09</td>\n",
       "      <td>2.371141</td>\n",
       "      <td>168.933123</td>\n",
       "      <td>2019-09-04</td>\n",
       "      <td>7.947791</td>\n",
       "      <td>1.007299</td>\n",
       "      <td>23</td>\n",
       "      <td>9</td>\n",
       "      <td>9</td>\n",
       "      <td>9</td>\n",
       "      <td>9</td>\n",
       "      <td>10</td>\n",
       "      <td>3</td>\n",
       "      <td>3</td>\n",
       "      <td>3</td>\n",
       "      <td>3</td>\n",
       "      <td>4</td>\n",
       "    </tr>\n",
       "    <tr>\n",
       "      <th>...</th>\n",
       "      <td>...</td>\n",
       "      <td>...</td>\n",
       "      <td>...</td>\n",
       "      <td>...</td>\n",
       "      <td>...</td>\n",
       "      <td>...</td>\n",
       "      <td>...</td>\n",
       "      <td>...</td>\n",
       "      <td>...</td>\n",
       "      <td>...</td>\n",
       "      <td>...</td>\n",
       "      <td>...</td>\n",
       "      <td>...</td>\n",
       "      <td>...</td>\n",
       "      <td>...</td>\n",
       "      <td>...</td>\n",
       "      <td>...</td>\n",
       "      <td>...</td>\n",
       "      <td>...</td>\n",
       "      <td>...</td>\n",
       "      <td>...</td>\n",
       "      <td>...</td>\n",
       "      <td>...</td>\n",
       "      <td>...</td>\n",
       "    </tr>\n",
       "    <tr>\n",
       "      <th>46677</th>\n",
       "      <td>1</td>\n",
       "      <td>3.461538</td>\n",
       "      <td>2.171247</td>\n",
       "      <td>2019-05-10</td>\n",
       "      <td>2019-04-07</td>\n",
       "      <td>2019-04-05</td>\n",
       "      <td>2019-04-07</td>\n",
       "      <td>2019-04-17</td>\n",
       "      <td>0.781515</td>\n",
       "      <td>187.129634</td>\n",
       "      <td>2019-04-07</td>\n",
       "      <td>4.194366</td>\n",
       "      <td>1.007299</td>\n",
       "      <td>23</td>\n",
       "      <td>4</td>\n",
       "      <td>4</td>\n",
       "      <td>4</td>\n",
       "      <td>4</td>\n",
       "      <td>4</td>\n",
       "      <td>2</td>\n",
       "      <td>2</td>\n",
       "      <td>2</td>\n",
       "      <td>2</td>\n",
       "      <td>2</td>\n",
       "    </tr>\n",
       "    <tr>\n",
       "      <th>46698</th>\n",
       "      <td>1</td>\n",
       "      <td>2.321580</td>\n",
       "      <td>4.184211</td>\n",
       "      <td>2019-04-23</td>\n",
       "      <td>2019-03-20</td>\n",
       "      <td>2019-03-14</td>\n",
       "      <td>2019-03-20</td>\n",
       "      <td>2019-04-09</td>\n",
       "      <td>0.781515</td>\n",
       "      <td>43.410483</td>\n",
       "      <td>2019-03-20</td>\n",
       "      <td>0.347044</td>\n",
       "      <td>1.007299</td>\n",
       "      <td>14</td>\n",
       "      <td>3</td>\n",
       "      <td>3</td>\n",
       "      <td>3</td>\n",
       "      <td>3</td>\n",
       "      <td>4</td>\n",
       "      <td>1</td>\n",
       "      <td>1</td>\n",
       "      <td>1</td>\n",
       "      <td>1</td>\n",
       "      <td>2</td>\n",
       "    </tr>\n",
       "    <tr>\n",
       "      <th>46707</th>\n",
       "      <td>1</td>\n",
       "      <td>43.096601</td>\n",
       "      <td>44.547170</td>\n",
       "      <td>2019-03-01</td>\n",
       "      <td>2019-01-08</td>\n",
       "      <td>2019-01-08</td>\n",
       "      <td>2019-01-08</td>\n",
       "      <td>2019-01-08</td>\n",
       "      <td>0.781515</td>\n",
       "      <td>71.536704</td>\n",
       "      <td>2019-01-08</td>\n",
       "      <td>43.293594</td>\n",
       "      <td>1.007299</td>\n",
       "      <td>52</td>\n",
       "      <td>1</td>\n",
       "      <td>1</td>\n",
       "      <td>1</td>\n",
       "      <td>1</td>\n",
       "      <td>1</td>\n",
       "      <td>1</td>\n",
       "      <td>1</td>\n",
       "      <td>1</td>\n",
       "      <td>1</td>\n",
       "      <td>1</td>\n",
       "    </tr>\n",
       "    <tr>\n",
       "      <th>46720</th>\n",
       "      <td>1</td>\n",
       "      <td>43.096601</td>\n",
       "      <td>44.326531</td>\n",
       "      <td>2019-11-27</td>\n",
       "      <td>2019-10-15</td>\n",
       "      <td>2019-10-15</td>\n",
       "      <td>2019-10-15</td>\n",
       "      <td>2019-10-15</td>\n",
       "      <td>0.781515</td>\n",
       "      <td>97.180245</td>\n",
       "      <td>2019-10-15</td>\n",
       "      <td>43.293594</td>\n",
       "      <td>1.007299</td>\n",
       "      <td>43</td>\n",
       "      <td>10</td>\n",
       "      <td>10</td>\n",
       "      <td>10</td>\n",
       "      <td>10</td>\n",
       "      <td>10</td>\n",
       "      <td>4</td>\n",
       "      <td>4</td>\n",
       "      <td>4</td>\n",
       "      <td>4</td>\n",
       "      <td>4</td>\n",
       "    </tr>\n",
       "    <tr>\n",
       "      <th>46729</th>\n",
       "      <td>1</td>\n",
       "      <td>-1.859410</td>\n",
       "      <td>-1.372093</td>\n",
       "      <td>2019-08-15</td>\n",
       "      <td>2019-07-17</td>\n",
       "      <td>2019-07-15</td>\n",
       "      <td>2019-07-17</td>\n",
       "      <td>2019-09-30</td>\n",
       "      <td>0.781515</td>\n",
       "      <td>6.717142</td>\n",
       "      <td>2019-07-17</td>\n",
       "      <td>-9.132075</td>\n",
       "      <td>1.007299</td>\n",
       "      <td>-46</td>\n",
       "      <td>7</td>\n",
       "      <td>7</td>\n",
       "      <td>7</td>\n",
       "      <td>7</td>\n",
       "      <td>9</td>\n",
       "      <td>3</td>\n",
       "      <td>3</td>\n",
       "      <td>3</td>\n",
       "      <td>3</td>\n",
       "      <td>3</td>\n",
       "    </tr>\n",
       "  </tbody>\n",
       "</table>\n",
       "<p>2993 rows × 24 columns</p>\n",
       "</div>"
      ],
      "text/plain": [
       "       business_code  ...  due_in_date_quarter\n",
       "11                 1  ...                    1\n",
       "37                 1  ...                    4\n",
       "42                 0  ...                    3\n",
       "43                 1  ...                    1\n",
       "44                 0  ...                    4\n",
       "...              ...  ...                  ...\n",
       "46677              1  ...                    2\n",
       "46698              1  ...                    2\n",
       "46707              1  ...                    1\n",
       "46720              1  ...                    4\n",
       "46729              1  ...                    3\n",
       "\n",
       "[2993 rows x 24 columns]"
      ]
     },
     "execution_count": 1141,
     "metadata": {
      "tags": []
     },
     "output_type": "execute_result"
    }
   ],
   "source": [
    "train_set[(train_set.target_delay<lower_limit)|(train_set.target_delay>upper_limit)] ##outlier"
   ]
  },
  {
   "cell_type": "code",
   "execution_count": 1142,
   "metadata": {
    "colab": {
     "base_uri": "https://localhost:8080/",
     "height": 435
    },
    "id": "iuL3G_NMLVRf",
    "outputId": "4d1cd49f-b51c-47d3-a29d-334ec25007f1"
   },
   "outputs": [
    {
     "data": {
      "text/html": [
       "<div>\n",
       "<style scoped>\n",
       "    .dataframe tbody tr th:only-of-type {\n",
       "        vertical-align: middle;\n",
       "    }\n",
       "\n",
       "    .dataframe tbody tr th {\n",
       "        vertical-align: top;\n",
       "    }\n",
       "\n",
       "    .dataframe thead th {\n",
       "        text-align: right;\n",
       "    }\n",
       "</style>\n",
       "<table border=\"1\" class=\"dataframe\">\n",
       "  <thead>\n",
       "    <tr style=\"text-align: right;\">\n",
       "      <th></th>\n",
       "      <th>business_code</th>\n",
       "      <th>cust_number</th>\n",
       "      <th>name_customer</th>\n",
       "      <th>clear_date</th>\n",
       "      <th>posting_date</th>\n",
       "      <th>document_create_date</th>\n",
       "      <th>document_create_date.1</th>\n",
       "      <th>due_in_date</th>\n",
       "      <th>invoice_currency</th>\n",
       "      <th>total_open_amount</th>\n",
       "      <th>baseline_create_date</th>\n",
       "      <th>cust_payment_terms</th>\n",
       "      <th>isOpen</th>\n",
       "      <th>target_delay</th>\n",
       "      <th>create_date_month</th>\n",
       "      <th>create_date.1_month</th>\n",
       "      <th>posting_date_month</th>\n",
       "      <th>baseline_create_date_month</th>\n",
       "      <th>due_in_date_month</th>\n",
       "      <th>create_date_quarter</th>\n",
       "      <th>create_date.1_quarter</th>\n",
       "      <th>posting_date_quarter</th>\n",
       "      <th>baseline_create_date_quarter</th>\n",
       "      <th>due_in_date_quarter</th>\n",
       "    </tr>\n",
       "  </thead>\n",
       "  <tbody>\n",
       "    <tr>\n",
       "      <th>0</th>\n",
       "      <td>1</td>\n",
       "      <td>-6.640823</td>\n",
       "      <td>-5.742424</td>\n",
       "      <td>2019-02-06</td>\n",
       "      <td>2019-01-22</td>\n",
       "      <td>2019-01-21</td>\n",
       "      <td>2019-01-22</td>\n",
       "      <td>2019-02-11</td>\n",
       "      <td>0.781515</td>\n",
       "      <td>45.602083</td>\n",
       "      <td>2019-01-22</td>\n",
       "      <td>0.347044</td>\n",
       "      <td>1.007299</td>\n",
       "      <td>-5</td>\n",
       "      <td>1</td>\n",
       "      <td>1</td>\n",
       "      <td>1</td>\n",
       "      <td>1</td>\n",
       "      <td>2</td>\n",
       "      <td>1</td>\n",
       "      <td>1</td>\n",
       "      <td>1</td>\n",
       "      <td>1</td>\n",
       "      <td>1</td>\n",
       "    </tr>\n",
       "    <tr>\n",
       "      <th>1</th>\n",
       "      <td>1</td>\n",
       "      <td>-4.493711</td>\n",
       "      <td>-3.893939</td>\n",
       "      <td>2019-05-01</td>\n",
       "      <td>2019-04-26</td>\n",
       "      <td>2019-04-26</td>\n",
       "      <td>2019-04-26</td>\n",
       "      <td>2019-05-09</td>\n",
       "      <td>0.781515</td>\n",
       "      <td>8.277681</td>\n",
       "      <td>2019-04-16</td>\n",
       "      <td>-7.140805</td>\n",
       "      <td>1.007299</td>\n",
       "      <td>-8</td>\n",
       "      <td>4</td>\n",
       "      <td>4</td>\n",
       "      <td>4</td>\n",
       "      <td>4</td>\n",
       "      <td>5</td>\n",
       "      <td>2</td>\n",
       "      <td>2</td>\n",
       "      <td>2</td>\n",
       "      <td>2</td>\n",
       "      <td>2</td>\n",
       "    </tr>\n",
       "    <tr>\n",
       "      <th>2</th>\n",
       "      <td>1</td>\n",
       "      <td>-3.908537</td>\n",
       "      <td>-4.506667</td>\n",
       "      <td>2019-06-03</td>\n",
       "      <td>2019-05-25</td>\n",
       "      <td>2019-05-25</td>\n",
       "      <td>2019-05-25</td>\n",
       "      <td>2019-06-08</td>\n",
       "      <td>0.781515</td>\n",
       "      <td>40.961201</td>\n",
       "      <td>2019-05-16</td>\n",
       "      <td>-7.140805</td>\n",
       "      <td>1.007299</td>\n",
       "      <td>-5</td>\n",
       "      <td>5</td>\n",
       "      <td>5</td>\n",
       "      <td>5</td>\n",
       "      <td>5</td>\n",
       "      <td>6</td>\n",
       "      <td>2</td>\n",
       "      <td>2</td>\n",
       "      <td>2</td>\n",
       "      <td>2</td>\n",
       "      <td>2</td>\n",
       "    </tr>\n",
       "    <tr>\n",
       "      <th>3</th>\n",
       "      <td>1</td>\n",
       "      <td>-2.306052</td>\n",
       "      <td>-2.331402</td>\n",
       "      <td>2019-02-20</td>\n",
       "      <td>2019-02-09</td>\n",
       "      <td>2019-02-08</td>\n",
       "      <td>2019-02-09</td>\n",
       "      <td>2019-02-24</td>\n",
       "      <td>0.781515</td>\n",
       "      <td>258.663411</td>\n",
       "      <td>2019-02-09</td>\n",
       "      <td>-1.904635</td>\n",
       "      <td>1.007299</td>\n",
       "      <td>-4</td>\n",
       "      <td>2</td>\n",
       "      <td>2</td>\n",
       "      <td>2</td>\n",
       "      <td>2</td>\n",
       "      <td>2</td>\n",
       "      <td>1</td>\n",
       "      <td>1</td>\n",
       "      <td>1</td>\n",
       "      <td>1</td>\n",
       "      <td>1</td>\n",
       "    </tr>\n",
       "    <tr>\n",
       "      <th>4</th>\n",
       "      <td>1</td>\n",
       "      <td>-2.165963</td>\n",
       "      <td>-2.507822</td>\n",
       "      <td>2019-06-12</td>\n",
       "      <td>2019-06-01</td>\n",
       "      <td>2019-05-30</td>\n",
       "      <td>2019-06-01</td>\n",
       "      <td>2019-06-16</td>\n",
       "      <td>0.781515</td>\n",
       "      <td>256.113159</td>\n",
       "      <td>2019-06-01</td>\n",
       "      <td>-1.904635</td>\n",
       "      <td>1.007299</td>\n",
       "      <td>-4</td>\n",
       "      <td>5</td>\n",
       "      <td>6</td>\n",
       "      <td>6</td>\n",
       "      <td>6</td>\n",
       "      <td>6</td>\n",
       "      <td>2</td>\n",
       "      <td>2</td>\n",
       "      <td>2</td>\n",
       "      <td>2</td>\n",
       "      <td>2</td>\n",
       "    </tr>\n",
       "    <tr>\n",
       "      <th>...</th>\n",
       "      <td>...</td>\n",
       "      <td>...</td>\n",
       "      <td>...</td>\n",
       "      <td>...</td>\n",
       "      <td>...</td>\n",
       "      <td>...</td>\n",
       "      <td>...</td>\n",
       "      <td>...</td>\n",
       "      <td>...</td>\n",
       "      <td>...</td>\n",
       "      <td>...</td>\n",
       "      <td>...</td>\n",
       "      <td>...</td>\n",
       "      <td>...</td>\n",
       "      <td>...</td>\n",
       "      <td>...</td>\n",
       "      <td>...</td>\n",
       "      <td>...</td>\n",
       "      <td>...</td>\n",
       "      <td>...</td>\n",
       "      <td>...</td>\n",
       "      <td>...</td>\n",
       "      <td>...</td>\n",
       "      <td>...</td>\n",
       "    </tr>\n",
       "    <tr>\n",
       "      <th>36320</th>\n",
       "      <td>1</td>\n",
       "      <td>0.957746</td>\n",
       "      <td>0.600000</td>\n",
       "      <td>2019-08-30</td>\n",
       "      <td>2019-08-14</td>\n",
       "      <td>2019-08-15</td>\n",
       "      <td>2019-08-14</td>\n",
       "      <td>2019-08-29</td>\n",
       "      <td>0.781515</td>\n",
       "      <td>241.079593</td>\n",
       "      <td>2019-08-14</td>\n",
       "      <td>1.387441</td>\n",
       "      <td>1.007299</td>\n",
       "      <td>1</td>\n",
       "      <td>8</td>\n",
       "      <td>8</td>\n",
       "      <td>8</td>\n",
       "      <td>8</td>\n",
       "      <td>8</td>\n",
       "      <td>3</td>\n",
       "      <td>3</td>\n",
       "      <td>3</td>\n",
       "      <td>3</td>\n",
       "      <td>3</td>\n",
       "    </tr>\n",
       "    <tr>\n",
       "      <th>36321</th>\n",
       "      <td>1</td>\n",
       "      <td>-1.636364</td>\n",
       "      <td>4.461538</td>\n",
       "      <td>2019-07-08</td>\n",
       "      <td>2019-06-24</td>\n",
       "      <td>2019-06-23</td>\n",
       "      <td>2019-06-24</td>\n",
       "      <td>2019-07-09</td>\n",
       "      <td>0.781515</td>\n",
       "      <td>108.491705</td>\n",
       "      <td>2019-06-24</td>\n",
       "      <td>0.561391</td>\n",
       "      <td>1.007299</td>\n",
       "      <td>-1</td>\n",
       "      <td>6</td>\n",
       "      <td>6</td>\n",
       "      <td>6</td>\n",
       "      <td>6</td>\n",
       "      <td>7</td>\n",
       "      <td>2</td>\n",
       "      <td>2</td>\n",
       "      <td>2</td>\n",
       "      <td>2</td>\n",
       "      <td>3</td>\n",
       "    </tr>\n",
       "    <tr>\n",
       "      <th>36322</th>\n",
       "      <td>1</td>\n",
       "      <td>-2.306052</td>\n",
       "      <td>-1.981413</td>\n",
       "      <td>2019-07-03</td>\n",
       "      <td>2019-06-23</td>\n",
       "      <td>2019-06-21</td>\n",
       "      <td>2019-06-23</td>\n",
       "      <td>2019-07-08</td>\n",
       "      <td>0.781515</td>\n",
       "      <td>265.229146</td>\n",
       "      <td>2019-06-23</td>\n",
       "      <td>-1.904635</td>\n",
       "      <td>1.007299</td>\n",
       "      <td>-5</td>\n",
       "      <td>6</td>\n",
       "      <td>6</td>\n",
       "      <td>6</td>\n",
       "      <td>6</td>\n",
       "      <td>7</td>\n",
       "      <td>2</td>\n",
       "      <td>2</td>\n",
       "      <td>2</td>\n",
       "      <td>2</td>\n",
       "      <td>3</td>\n",
       "    </tr>\n",
       "    <tr>\n",
       "      <th>36323</th>\n",
       "      <td>1</td>\n",
       "      <td>1.894737</td>\n",
       "      <td>1.666667</td>\n",
       "      <td>2019-01-17</td>\n",
       "      <td>2019-01-02</td>\n",
       "      <td>2019-01-02</td>\n",
       "      <td>2019-01-02</td>\n",
       "      <td>2019-01-17</td>\n",
       "      <td>0.781515</td>\n",
       "      <td>368.345558</td>\n",
       "      <td>2019-01-02</td>\n",
       "      <td>1.387441</td>\n",
       "      <td>1.007299</td>\n",
       "      <td>0</td>\n",
       "      <td>1</td>\n",
       "      <td>1</td>\n",
       "      <td>1</td>\n",
       "      <td>1</td>\n",
       "      <td>1</td>\n",
       "      <td>1</td>\n",
       "      <td>1</td>\n",
       "      <td>1</td>\n",
       "      <td>1</td>\n",
       "      <td>1</td>\n",
       "    </tr>\n",
       "    <tr>\n",
       "      <th>36324</th>\n",
       "      <td>1</td>\n",
       "      <td>0.173913</td>\n",
       "      <td>2.171247</td>\n",
       "      <td>2019-03-22</td>\n",
       "      <td>2019-03-07</td>\n",
       "      <td>2019-03-07</td>\n",
       "      <td>2019-03-07</td>\n",
       "      <td>2019-03-22</td>\n",
       "      <td>0.781515</td>\n",
       "      <td>180.769466</td>\n",
       "      <td>2019-03-07</td>\n",
       "      <td>1.387441</td>\n",
       "      <td>1.007299</td>\n",
       "      <td>0</td>\n",
       "      <td>3</td>\n",
       "      <td>3</td>\n",
       "      <td>3</td>\n",
       "      <td>3</td>\n",
       "      <td>3</td>\n",
       "      <td>1</td>\n",
       "      <td>1</td>\n",
       "      <td>1</td>\n",
       "      <td>1</td>\n",
       "      <td>1</td>\n",
       "    </tr>\n",
       "  </tbody>\n",
       "</table>\n",
       "<p>36325 rows × 24 columns</p>\n",
       "</div>"
      ],
      "text/plain": [
       "       business_code  ...  due_in_date_quarter\n",
       "0                  1  ...                    1\n",
       "1                  1  ...                    2\n",
       "2                  1  ...                    2\n",
       "3                  1  ...                    1\n",
       "4                  1  ...                    2\n",
       "...              ...  ...                  ...\n",
       "36320              1  ...                    3\n",
       "36321              1  ...                    3\n",
       "36322              1  ...                    3\n",
       "36323              1  ...                    1\n",
       "36324              1  ...                    1\n",
       "\n",
       "[36325 rows x 24 columns]"
      ]
     },
     "execution_count": 1142,
     "metadata": {
      "tags": []
     },
     "output_type": "execute_result"
    }
   ],
   "source": [
    "train_set=train_set[(train_set.target_delay>lower_limit)&(train_set.target_delay<upper_limit)] ##removr outlier\n",
    "train_set.reset_index(drop=True)"
   ]
  },
  {
   "cell_type": "code",
   "execution_count": 1143,
   "metadata": {
    "id": "IVt-Ir0DQJn9"
   },
   "outputs": [],
   "source": [
    "###Graph between create date.1 and posting date whith target variable"
   ]
  },
  {
   "cell_type": "code",
   "execution_count": 1144,
   "metadata": {
    "colab": {
     "base_uri": "https://localhost:8080/",
     "height": 282
    },
    "id": "-EJjnVRTQJym",
    "outputId": "ab436538-f121-4726-eae9-71d4cafc0837"
   },
   "outputs": [
    {
     "data": {
      "image/png": "[encoded data removed]",
      "text/plain": [
       "<Figure size 432x288 with 1 Axes>"
      ]
     },
     "metadata": {
      "tags": []
     },
     "output_type": "display_data"
    }
   ],
   "source": [
    "plt.scatter(train_set[:30]['create_date.1_month'], train_set[:30]['posting_date_month'],color='r',label='posting date month')\n",
    "\n",
    "plt.xlabel(\"month\")\n",
    "plt.legend()\n",
    "plt.show()\n"
   ]
  },
  {
   "cell_type": "code",
   "execution_count": 1145,
   "metadata": {
    "colab": {
     "base_uri": "https://localhost:8080/"
    },
    "id": "QiVjRKHXUMrY",
    "outputId": "525d3ac7-dd20-4109-f633-b3224b4cb160"
   },
   "outputs": [
    {
     "data": {
      "text/plain": [
       "(0.9985934859646209, -0.00036531463662926574)"
      ]
     },
     "execution_count": 1145,
     "metadata": {
      "tags": []
     },
     "output_type": "execute_result"
    }
   ],
   "source": [
    "#corr is 1.00 and graph shows their strongly related so dropping posting_date_month\n",
    "c1=train_set['posting_date_month'].corr(train_set['baseline_create_date_month'])\n",
    "c2=train_set['posting_date_month'].corr(train_set['target_delay'])\n",
    "c1,c2"
   ]
  },
  {
   "cell_type": "code",
   "execution_count": 1146,
   "metadata": {
    "colab": {
     "base_uri": "https://localhost:8080/",
     "height": 435
    },
    "id": "rUx6Uq-tk09F",
    "outputId": "2b1937c7-a157-4375-cd67-b019f95e5489"
   },
   "outputs": [
    {
     "data": {
      "text/html": [
       "<div>\n",
       "<style scoped>\n",
       "    .dataframe tbody tr th:only-of-type {\n",
       "        vertical-align: middle;\n",
       "    }\n",
       "\n",
       "    .dataframe tbody tr th {\n",
       "        vertical-align: top;\n",
       "    }\n",
       "\n",
       "    .dataframe thead th {\n",
       "        text-align: right;\n",
       "    }\n",
       "</style>\n",
       "<table border=\"1\" class=\"dataframe\">\n",
       "  <thead>\n",
       "    <tr style=\"text-align: right;\">\n",
       "      <th></th>\n",
       "      <th>business_code</th>\n",
       "      <th>cust_number</th>\n",
       "      <th>name_customer</th>\n",
       "      <th>clear_date</th>\n",
       "      <th>posting_date</th>\n",
       "      <th>document_create_date</th>\n",
       "      <th>document_create_date.1</th>\n",
       "      <th>due_in_date</th>\n",
       "      <th>invoice_currency</th>\n",
       "      <th>total_open_amount</th>\n",
       "      <th>baseline_create_date</th>\n",
       "      <th>cust_payment_terms</th>\n",
       "      <th>isOpen</th>\n",
       "      <th>target_delay</th>\n",
       "      <th>create_date_month</th>\n",
       "      <th>create_date.1_month</th>\n",
       "      <th>baseline_create_date_month</th>\n",
       "      <th>due_in_date_month</th>\n",
       "      <th>create_date_quarter</th>\n",
       "      <th>create_date.1_quarter</th>\n",
       "      <th>posting_date_quarter</th>\n",
       "      <th>baseline_create_date_quarter</th>\n",
       "      <th>due_in_date_quarter</th>\n",
       "    </tr>\n",
       "  </thead>\n",
       "  <tbody>\n",
       "    <tr>\n",
       "      <th>0</th>\n",
       "      <td>1</td>\n",
       "      <td>-6.640823</td>\n",
       "      <td>-5.742424</td>\n",
       "      <td>2019-02-06</td>\n",
       "      <td>2019-01-22</td>\n",
       "      <td>2019-01-21</td>\n",
       "      <td>2019-01-22</td>\n",
       "      <td>2019-02-11</td>\n",
       "      <td>0.781515</td>\n",
       "      <td>45.602083</td>\n",
       "      <td>2019-01-22</td>\n",
       "      <td>0.347044</td>\n",
       "      <td>1.007299</td>\n",
       "      <td>-5</td>\n",
       "      <td>1</td>\n",
       "      <td>1</td>\n",
       "      <td>1</td>\n",
       "      <td>2</td>\n",
       "      <td>1</td>\n",
       "      <td>1</td>\n",
       "      <td>1</td>\n",
       "      <td>1</td>\n",
       "      <td>1</td>\n",
       "    </tr>\n",
       "    <tr>\n",
       "      <th>1</th>\n",
       "      <td>1</td>\n",
       "      <td>-4.493711</td>\n",
       "      <td>-3.893939</td>\n",
       "      <td>2019-05-01</td>\n",
       "      <td>2019-04-26</td>\n",
       "      <td>2019-04-26</td>\n",
       "      <td>2019-04-26</td>\n",
       "      <td>2019-05-09</td>\n",
       "      <td>0.781515</td>\n",
       "      <td>8.277681</td>\n",
       "      <td>2019-04-16</td>\n",
       "      <td>-7.140805</td>\n",
       "      <td>1.007299</td>\n",
       "      <td>-8</td>\n",
       "      <td>4</td>\n",
       "      <td>4</td>\n",
       "      <td>4</td>\n",
       "      <td>5</td>\n",
       "      <td>2</td>\n",
       "      <td>2</td>\n",
       "      <td>2</td>\n",
       "      <td>2</td>\n",
       "      <td>2</td>\n",
       "    </tr>\n",
       "    <tr>\n",
       "      <th>2</th>\n",
       "      <td>1</td>\n",
       "      <td>-3.908537</td>\n",
       "      <td>-4.506667</td>\n",
       "      <td>2019-06-03</td>\n",
       "      <td>2019-05-25</td>\n",
       "      <td>2019-05-25</td>\n",
       "      <td>2019-05-25</td>\n",
       "      <td>2019-06-08</td>\n",
       "      <td>0.781515</td>\n",
       "      <td>40.961201</td>\n",
       "      <td>2019-05-16</td>\n",
       "      <td>-7.140805</td>\n",
       "      <td>1.007299</td>\n",
       "      <td>-5</td>\n",
       "      <td>5</td>\n",
       "      <td>5</td>\n",
       "      <td>5</td>\n",
       "      <td>6</td>\n",
       "      <td>2</td>\n",
       "      <td>2</td>\n",
       "      <td>2</td>\n",
       "      <td>2</td>\n",
       "      <td>2</td>\n",
       "    </tr>\n",
       "    <tr>\n",
       "      <th>3</th>\n",
       "      <td>1</td>\n",
       "      <td>-2.306052</td>\n",
       "      <td>-2.331402</td>\n",
       "      <td>2019-02-20</td>\n",
       "      <td>2019-02-09</td>\n",
       "      <td>2019-02-08</td>\n",
       "      <td>2019-02-09</td>\n",
       "      <td>2019-02-24</td>\n",
       "      <td>0.781515</td>\n",
       "      <td>258.663411</td>\n",
       "      <td>2019-02-09</td>\n",
       "      <td>-1.904635</td>\n",
       "      <td>1.007299</td>\n",
       "      <td>-4</td>\n",
       "      <td>2</td>\n",
       "      <td>2</td>\n",
       "      <td>2</td>\n",
       "      <td>2</td>\n",
       "      <td>1</td>\n",
       "      <td>1</td>\n",
       "      <td>1</td>\n",
       "      <td>1</td>\n",
       "      <td>1</td>\n",
       "    </tr>\n",
       "    <tr>\n",
       "      <th>4</th>\n",
       "      <td>1</td>\n",
       "      <td>-2.165963</td>\n",
       "      <td>-2.507822</td>\n",
       "      <td>2019-06-12</td>\n",
       "      <td>2019-06-01</td>\n",
       "      <td>2019-05-30</td>\n",
       "      <td>2019-06-01</td>\n",
       "      <td>2019-06-16</td>\n",
       "      <td>0.781515</td>\n",
       "      <td>256.113159</td>\n",
       "      <td>2019-06-01</td>\n",
       "      <td>-1.904635</td>\n",
       "      <td>1.007299</td>\n",
       "      <td>-4</td>\n",
       "      <td>5</td>\n",
       "      <td>6</td>\n",
       "      <td>6</td>\n",
       "      <td>6</td>\n",
       "      <td>2</td>\n",
       "      <td>2</td>\n",
       "      <td>2</td>\n",
       "      <td>2</td>\n",
       "      <td>2</td>\n",
       "    </tr>\n",
       "    <tr>\n",
       "      <th>...</th>\n",
       "      <td>...</td>\n",
       "      <td>...</td>\n",
       "      <td>...</td>\n",
       "      <td>...</td>\n",
       "      <td>...</td>\n",
       "      <td>...</td>\n",
       "      <td>...</td>\n",
       "      <td>...</td>\n",
       "      <td>...</td>\n",
       "      <td>...</td>\n",
       "      <td>...</td>\n",
       "      <td>...</td>\n",
       "      <td>...</td>\n",
       "      <td>...</td>\n",
       "      <td>...</td>\n",
       "      <td>...</td>\n",
       "      <td>...</td>\n",
       "      <td>...</td>\n",
       "      <td>...</td>\n",
       "      <td>...</td>\n",
       "      <td>...</td>\n",
       "      <td>...</td>\n",
       "      <td>...</td>\n",
       "    </tr>\n",
       "    <tr>\n",
       "      <th>46752</th>\n",
       "      <td>1</td>\n",
       "      <td>0.957746</td>\n",
       "      <td>0.600000</td>\n",
       "      <td>2019-08-30</td>\n",
       "      <td>2019-08-14</td>\n",
       "      <td>2019-08-15</td>\n",
       "      <td>2019-08-14</td>\n",
       "      <td>2019-08-29</td>\n",
       "      <td>0.781515</td>\n",
       "      <td>241.079593</td>\n",
       "      <td>2019-08-14</td>\n",
       "      <td>1.387441</td>\n",
       "      <td>1.007299</td>\n",
       "      <td>1</td>\n",
       "      <td>8</td>\n",
       "      <td>8</td>\n",
       "      <td>8</td>\n",
       "      <td>8</td>\n",
       "      <td>3</td>\n",
       "      <td>3</td>\n",
       "      <td>3</td>\n",
       "      <td>3</td>\n",
       "      <td>3</td>\n",
       "    </tr>\n",
       "    <tr>\n",
       "      <th>46753</th>\n",
       "      <td>1</td>\n",
       "      <td>-1.636364</td>\n",
       "      <td>4.461538</td>\n",
       "      <td>2019-07-08</td>\n",
       "      <td>2019-06-24</td>\n",
       "      <td>2019-06-23</td>\n",
       "      <td>2019-06-24</td>\n",
       "      <td>2019-07-09</td>\n",
       "      <td>0.781515</td>\n",
       "      <td>108.491705</td>\n",
       "      <td>2019-06-24</td>\n",
       "      <td>0.561391</td>\n",
       "      <td>1.007299</td>\n",
       "      <td>-1</td>\n",
       "      <td>6</td>\n",
       "      <td>6</td>\n",
       "      <td>6</td>\n",
       "      <td>7</td>\n",
       "      <td>2</td>\n",
       "      <td>2</td>\n",
       "      <td>2</td>\n",
       "      <td>2</td>\n",
       "      <td>3</td>\n",
       "    </tr>\n",
       "    <tr>\n",
       "      <th>46754</th>\n",
       "      <td>1</td>\n",
       "      <td>-2.306052</td>\n",
       "      <td>-1.981413</td>\n",
       "      <td>2019-07-03</td>\n",
       "      <td>2019-06-23</td>\n",
       "      <td>2019-06-21</td>\n",
       "      <td>2019-06-23</td>\n",
       "      <td>2019-07-08</td>\n",
       "      <td>0.781515</td>\n",
       "      <td>265.229146</td>\n",
       "      <td>2019-06-23</td>\n",
       "      <td>-1.904635</td>\n",
       "      <td>1.007299</td>\n",
       "      <td>-5</td>\n",
       "      <td>6</td>\n",
       "      <td>6</td>\n",
       "      <td>6</td>\n",
       "      <td>7</td>\n",
       "      <td>2</td>\n",
       "      <td>2</td>\n",
       "      <td>2</td>\n",
       "      <td>2</td>\n",
       "      <td>3</td>\n",
       "    </tr>\n",
       "    <tr>\n",
       "      <th>46755</th>\n",
       "      <td>1</td>\n",
       "      <td>1.894737</td>\n",
       "      <td>1.666667</td>\n",
       "      <td>2019-01-17</td>\n",
       "      <td>2019-01-02</td>\n",
       "      <td>2019-01-02</td>\n",
       "      <td>2019-01-02</td>\n",
       "      <td>2019-01-17</td>\n",
       "      <td>0.781515</td>\n",
       "      <td>368.345558</td>\n",
       "      <td>2019-01-02</td>\n",
       "      <td>1.387441</td>\n",
       "      <td>1.007299</td>\n",
       "      <td>0</td>\n",
       "      <td>1</td>\n",
       "      <td>1</td>\n",
       "      <td>1</td>\n",
       "      <td>1</td>\n",
       "      <td>1</td>\n",
       "      <td>1</td>\n",
       "      <td>1</td>\n",
       "      <td>1</td>\n",
       "      <td>1</td>\n",
       "    </tr>\n",
       "    <tr>\n",
       "      <th>46756</th>\n",
       "      <td>1</td>\n",
       "      <td>0.173913</td>\n",
       "      <td>2.171247</td>\n",
       "      <td>2019-03-22</td>\n",
       "      <td>2019-03-07</td>\n",
       "      <td>2019-03-07</td>\n",
       "      <td>2019-03-07</td>\n",
       "      <td>2019-03-22</td>\n",
       "      <td>0.781515</td>\n",
       "      <td>180.769466</td>\n",
       "      <td>2019-03-07</td>\n",
       "      <td>1.387441</td>\n",
       "      <td>1.007299</td>\n",
       "      <td>0</td>\n",
       "      <td>3</td>\n",
       "      <td>3</td>\n",
       "      <td>3</td>\n",
       "      <td>3</td>\n",
       "      <td>1</td>\n",
       "      <td>1</td>\n",
       "      <td>1</td>\n",
       "      <td>1</td>\n",
       "      <td>1</td>\n",
       "    </tr>\n",
       "  </tbody>\n",
       "</table>\n",
       "<p>36325 rows × 23 columns</p>\n",
       "</div>"
      ],
      "text/plain": [
       "       business_code  ...  due_in_date_quarter\n",
       "0                  1  ...                    1\n",
       "1                  1  ...                    2\n",
       "2                  1  ...                    2\n",
       "3                  1  ...                    1\n",
       "4                  1  ...                    2\n",
       "...              ...  ...                  ...\n",
       "46752              1  ...                    3\n",
       "46753              1  ...                    3\n",
       "46754              1  ...                    3\n",
       "46755              1  ...                    1\n",
       "46756              1  ...                    1\n",
       "\n",
       "[36325 rows x 23 columns]"
      ]
     },
     "execution_count": 1146,
     "metadata": {
      "tags": []
     },
     "output_type": "execute_result"
    }
   ],
   "source": [
    "train_set.drop(['posting_date_month'],axis=1,inplace=True)\n",
    "train_set"
   ]
  },
  {
   "cell_type": "code",
   "execution_count": 1147,
   "metadata": {
    "colab": {
     "base_uri": "https://localhost:8080/",
     "height": 282
    },
    "id": "pbkrWtN2nQiI",
    "outputId": "06b4cf5f-3e99-4492-ffbb-a2b9405803b8"
   },
   "outputs": [
    {
     "data": {
      "image/png": "[encoded data removed]",
      "text/plain": [
       "<Figure size 432x288 with 1 Axes>"
      ]
     },
     "metadata": {
      "tags": []
     },
     "output_type": "display_data"
    }
   ],
   "source": [
    "plt.scatter(train_set[:30]['cust_number'], train_set[:30]['name_customer'],color='r',label='name_customer')\n",
    "plt.xlabel(\"cust_name\")\n",
    "plt.legend()\n",
    "plt.show()\n"
   ]
  },
  {
   "cell_type": "code",
   "execution_count": 1148,
   "metadata": {
    "id": "l208eqd1IDnK"
   },
   "outputs": [],
   "source": [
    "##invoice currency is correlated to cust_payment_terms and dose not correlate much with target_delay"
   ]
  },
  {
   "cell_type": "code",
   "execution_count": 1149,
   "metadata": {
    "colab": {
     "base_uri": "https://localhost:8080/"
    },
    "id": "FHSfmMx7luEo",
    "outputId": "fc4330be-f7ba-4365-89e2-6bda1d112f5a"
   },
   "outputs": [
    {
     "data": {
      "text/plain": [
       "(0.4475672710976901, 0.2600651212461973, 0.4299615286448513)"
      ]
     },
     "execution_count": 1149,
     "metadata": {
      "tags": []
     },
     "output_type": "execute_result"
    }
   ],
   "source": [
    "c1=train_set['invoice_currency'].corr(train_set['cust_payment_terms'])\n",
    "c2=train_set['invoice_currency'].corr(train_set['target_delay'])\n",
    "c3=train_set['cust_payment_terms'].corr(train_set['target_delay'])\n",
    "c1,c2,c3"
   ]
  },
  {
   "cell_type": "code",
   "execution_count": 1150,
   "metadata": {
    "id": "ifV4MsVOIKqa"
   },
   "outputs": [],
   "source": [
    "train_set.drop(['invoice_currency'],axis=1,inplace=True)"
   ]
  },
  {
   "cell_type": "code",
   "execution_count": 1151,
   "metadata": {
    "id": "zDVb-LXpPpR3"
   },
   "outputs": [],
   "source": [
    "##baseline_create_date_month is correlated create_date_month.1"
   ]
  },
  {
   "cell_type": "code",
   "execution_count": 1152,
   "metadata": {
    "colab": {
     "base_uri": "https://localhost:8080/"
    },
    "id": "j9GcbxdAmSRe",
    "outputId": "214088f7-10f9-41bf-c198-0332136215d8"
   },
   "outputs": [
    {
     "data": {
      "text/plain": [
       "(0.998593485964621, 0.0009353438680379337)"
      ]
     },
     "execution_count": 1152,
     "metadata": {
      "tags": []
     },
     "output_type": "execute_result"
    }
   ],
   "source": [
    "c1=train_set['baseline_create_date_month'].corr(train_set['create_date.1_month'])\n",
    "c2=train_set['baseline_create_date_month'].corr(train_set['target_delay'])\n",
    "c1,c2"
   ]
  },
  {
   "cell_type": "code",
   "execution_count": 1153,
   "metadata": {
    "id": "uhXMKFZuPpdJ"
   },
   "outputs": [],
   "source": [
    "train_set.drop(['baseline_create_date_month'],axis=1,inplace=True)"
   ]
  },
  {
   "cell_type": "code",
   "execution_count": 1154,
   "metadata": {
    "id": "xWSi44wUPquY"
   },
   "outputs": [],
   "source": [
    "##baseline_create_date_quarter is correlated create_date_month.1"
   ]
  },
  {
   "cell_type": "code",
   "execution_count": 1155,
   "metadata": {
    "colab": {
     "base_uri": "https://localhost:8080/"
    },
    "id": "Giu67Stjm6PQ",
    "outputId": "cff630d0-36e5-4df1-8e9f-9e1e4520a854"
   },
   "outputs": [
    {
     "data": {
      "text/plain": [
       "(0.9675129176105295, 0.0018509417332766194)"
      ]
     },
     "execution_count": 1155,
     "metadata": {
      "tags": []
     },
     "output_type": "execute_result"
    }
   ],
   "source": [
    "c1=train_set['baseline_create_date_quarter'].corr(train_set['create_date.1_month'])\n",
    "c2=train_set['baseline_create_date_quarter'].corr(train_set['target_delay'])\n",
    "c1,c2"
   ]
  },
  {
   "cell_type": "code",
   "execution_count": 1156,
   "metadata": {
    "id": "uBdiYEUqPq9z"
   },
   "outputs": [],
   "source": [
    "train_set.drop(['baseline_create_date_quarter'],axis=1,inplace=True)"
   ]
  },
  {
   "cell_type": "code",
   "execution_count": 1157,
   "metadata": {
    "id": "eu0Fdk1IPr4i"
   },
   "outputs": [],
   "source": [
    "##due_in_date_month is correlated create_date_month.1"
   ]
  },
  {
   "cell_type": "code",
   "execution_count": 1158,
   "metadata": {
    "colab": {
     "base_uri": "https://localhost:8080/"
    },
    "id": "1zxpV6p1nErz",
    "outputId": "82c8a6ae-42ac-486b-a7fa-07fe76fbb8a8"
   },
   "outputs": [
    {
     "data": {
      "text/plain": [
       "(0.9341902711187952, 0.0035049943086771828, -0.00036531463662926574)"
      ]
     },
     "execution_count": 1158,
     "metadata": {
      "tags": []
     },
     "output_type": "execute_result"
    }
   ],
   "source": [
    "c1=train_set['due_in_date_quarter'].corr(train_set['create_date.1_month'])\n",
    "c2=train_set['due_in_date_quarter'].corr(train_set['target_delay'])\n",
    "c3=train_set['create_date.1_month'].corr(train_set['target_delay'])\n",
    "c1,c2,c3"
   ]
  },
  {
   "cell_type": "code",
   "execution_count": 1159,
   "metadata": {
    "id": "RjrXAJIeQqGD"
   },
   "outputs": [],
   "source": [
    "##create_date_month is correlated due_in_date_month"
   ]
  },
  {
   "cell_type": "code",
   "execution_count": 1160,
   "metadata": {
    "colab": {
     "base_uri": "https://localhost:8080/"
    },
    "id": "gpFqj0d-nvrM",
    "outputId": "4fd39b56-d8ac-42a7-a763-985b810a6a03"
   },
   "outputs": [
    {
     "data": {
      "text/plain": [
       "(0.9443645824579473, 0.0008518711448871115, 0.006017240639346102)"
      ]
     },
     "execution_count": 1160,
     "metadata": {
      "tags": []
     },
     "output_type": "execute_result"
    }
   ],
   "source": [
    "c1=train_set['create_date_month'].corr(train_set['due_in_date_month'])\n",
    "c2=train_set['create_date_month'].corr(train_set['target_delay'])\n",
    "c3=train_set['due_in_date_month'].corr(train_set['target_delay'])\n",
    "c1,c2,c3"
   ]
  },
  {
   "cell_type": "code",
   "execution_count": 1161,
   "metadata": {
    "id": "GeAmwQcWQqZ2"
   },
   "outputs": [],
   "source": [
    "train_set.drop(['create_date_quarter'],axis=1,inplace=True)"
   ]
  },
  {
   "cell_type": "code",
   "execution_count": 1162,
   "metadata": {
    "colab": {
     "base_uri": "https://localhost:8080/",
     "height": 435
    },
    "id": "ykJSEHobQqlA",
    "outputId": "80f392d4-c37d-4237-cc56-91389d6651c8"
   },
   "outputs": [
    {
     "data": {
      "text/html": [
       "<div>\n",
       "<style scoped>\n",
       "    .dataframe tbody tr th:only-of-type {\n",
       "        vertical-align: middle;\n",
       "    }\n",
       "\n",
       "    .dataframe tbody tr th {\n",
       "        vertical-align: top;\n",
       "    }\n",
       "\n",
       "    .dataframe thead th {\n",
       "        text-align: right;\n",
       "    }\n",
       "</style>\n",
       "<table border=\"1\" class=\"dataframe\">\n",
       "  <thead>\n",
       "    <tr style=\"text-align: right;\">\n",
       "      <th></th>\n",
       "      <th>business_code</th>\n",
       "      <th>cust_number</th>\n",
       "      <th>name_customer</th>\n",
       "      <th>clear_date</th>\n",
       "      <th>posting_date</th>\n",
       "      <th>document_create_date</th>\n",
       "      <th>document_create_date.1</th>\n",
       "      <th>due_in_date</th>\n",
       "      <th>total_open_amount</th>\n",
       "      <th>baseline_create_date</th>\n",
       "      <th>cust_payment_terms</th>\n",
       "      <th>isOpen</th>\n",
       "      <th>target_delay</th>\n",
       "      <th>create_date_month</th>\n",
       "      <th>create_date.1_month</th>\n",
       "      <th>due_in_date_month</th>\n",
       "      <th>create_date.1_quarter</th>\n",
       "      <th>posting_date_quarter</th>\n",
       "      <th>due_in_date_quarter</th>\n",
       "    </tr>\n",
       "  </thead>\n",
       "  <tbody>\n",
       "    <tr>\n",
       "      <th>0</th>\n",
       "      <td>1</td>\n",
       "      <td>-6.640823</td>\n",
       "      <td>-5.742424</td>\n",
       "      <td>2019-02-06</td>\n",
       "      <td>2019-01-22</td>\n",
       "      <td>2019-01-21</td>\n",
       "      <td>2019-01-22</td>\n",
       "      <td>2019-02-11</td>\n",
       "      <td>45.602083</td>\n",
       "      <td>2019-01-22</td>\n",
       "      <td>0.347044</td>\n",
       "      <td>1.007299</td>\n",
       "      <td>-5</td>\n",
       "      <td>1</td>\n",
       "      <td>1</td>\n",
       "      <td>2</td>\n",
       "      <td>1</td>\n",
       "      <td>1</td>\n",
       "      <td>1</td>\n",
       "    </tr>\n",
       "    <tr>\n",
       "      <th>1</th>\n",
       "      <td>1</td>\n",
       "      <td>-4.493711</td>\n",
       "      <td>-3.893939</td>\n",
       "      <td>2019-05-01</td>\n",
       "      <td>2019-04-26</td>\n",
       "      <td>2019-04-26</td>\n",
       "      <td>2019-04-26</td>\n",
       "      <td>2019-05-09</td>\n",
       "      <td>8.277681</td>\n",
       "      <td>2019-04-16</td>\n",
       "      <td>-7.140805</td>\n",
       "      <td>1.007299</td>\n",
       "      <td>-8</td>\n",
       "      <td>4</td>\n",
       "      <td>4</td>\n",
       "      <td>5</td>\n",
       "      <td>2</td>\n",
       "      <td>2</td>\n",
       "      <td>2</td>\n",
       "    </tr>\n",
       "    <tr>\n",
       "      <th>2</th>\n",
       "      <td>1</td>\n",
       "      <td>-3.908537</td>\n",
       "      <td>-4.506667</td>\n",
       "      <td>2019-06-03</td>\n",
       "      <td>2019-05-25</td>\n",
       "      <td>2019-05-25</td>\n",
       "      <td>2019-05-25</td>\n",
       "      <td>2019-06-08</td>\n",
       "      <td>40.961201</td>\n",
       "      <td>2019-05-16</td>\n",
       "      <td>-7.140805</td>\n",
       "      <td>1.007299</td>\n",
       "      <td>-5</td>\n",
       "      <td>5</td>\n",
       "      <td>5</td>\n",
       "      <td>6</td>\n",
       "      <td>2</td>\n",
       "      <td>2</td>\n",
       "      <td>2</td>\n",
       "    </tr>\n",
       "    <tr>\n",
       "      <th>3</th>\n",
       "      <td>1</td>\n",
       "      <td>-2.306052</td>\n",
       "      <td>-2.331402</td>\n",
       "      <td>2019-02-20</td>\n",
       "      <td>2019-02-09</td>\n",
       "      <td>2019-02-08</td>\n",
       "      <td>2019-02-09</td>\n",
       "      <td>2019-02-24</td>\n",
       "      <td>258.663411</td>\n",
       "      <td>2019-02-09</td>\n",
       "      <td>-1.904635</td>\n",
       "      <td>1.007299</td>\n",
       "      <td>-4</td>\n",
       "      <td>2</td>\n",
       "      <td>2</td>\n",
       "      <td>2</td>\n",
       "      <td>1</td>\n",
       "      <td>1</td>\n",
       "      <td>1</td>\n",
       "    </tr>\n",
       "    <tr>\n",
       "      <th>4</th>\n",
       "      <td>1</td>\n",
       "      <td>-2.165963</td>\n",
       "      <td>-2.507822</td>\n",
       "      <td>2019-06-12</td>\n",
       "      <td>2019-06-01</td>\n",
       "      <td>2019-05-30</td>\n",
       "      <td>2019-06-01</td>\n",
       "      <td>2019-06-16</td>\n",
       "      <td>256.113159</td>\n",
       "      <td>2019-06-01</td>\n",
       "      <td>-1.904635</td>\n",
       "      <td>1.007299</td>\n",
       "      <td>-4</td>\n",
       "      <td>5</td>\n",
       "      <td>6</td>\n",
       "      <td>6</td>\n",
       "      <td>2</td>\n",
       "      <td>2</td>\n",
       "      <td>2</td>\n",
       "    </tr>\n",
       "    <tr>\n",
       "      <th>...</th>\n",
       "      <td>...</td>\n",
       "      <td>...</td>\n",
       "      <td>...</td>\n",
       "      <td>...</td>\n",
       "      <td>...</td>\n",
       "      <td>...</td>\n",
       "      <td>...</td>\n",
       "      <td>...</td>\n",
       "      <td>...</td>\n",
       "      <td>...</td>\n",
       "      <td>...</td>\n",
       "      <td>...</td>\n",
       "      <td>...</td>\n",
       "      <td>...</td>\n",
       "      <td>...</td>\n",
       "      <td>...</td>\n",
       "      <td>...</td>\n",
       "      <td>...</td>\n",
       "      <td>...</td>\n",
       "    </tr>\n",
       "    <tr>\n",
       "      <th>46752</th>\n",
       "      <td>1</td>\n",
       "      <td>0.957746</td>\n",
       "      <td>0.600000</td>\n",
       "      <td>2019-08-30</td>\n",
       "      <td>2019-08-14</td>\n",
       "      <td>2019-08-15</td>\n",
       "      <td>2019-08-14</td>\n",
       "      <td>2019-08-29</td>\n",
       "      <td>241.079593</td>\n",
       "      <td>2019-08-14</td>\n",
       "      <td>1.387441</td>\n",
       "      <td>1.007299</td>\n",
       "      <td>1</td>\n",
       "      <td>8</td>\n",
       "      <td>8</td>\n",
       "      <td>8</td>\n",
       "      <td>3</td>\n",
       "      <td>3</td>\n",
       "      <td>3</td>\n",
       "    </tr>\n",
       "    <tr>\n",
       "      <th>46753</th>\n",
       "      <td>1</td>\n",
       "      <td>-1.636364</td>\n",
       "      <td>4.461538</td>\n",
       "      <td>2019-07-08</td>\n",
       "      <td>2019-06-24</td>\n",
       "      <td>2019-06-23</td>\n",
       "      <td>2019-06-24</td>\n",
       "      <td>2019-07-09</td>\n",
       "      <td>108.491705</td>\n",
       "      <td>2019-06-24</td>\n",
       "      <td>0.561391</td>\n",
       "      <td>1.007299</td>\n",
       "      <td>-1</td>\n",
       "      <td>6</td>\n",
       "      <td>6</td>\n",
       "      <td>7</td>\n",
       "      <td>2</td>\n",
       "      <td>2</td>\n",
       "      <td>3</td>\n",
       "    </tr>\n",
       "    <tr>\n",
       "      <th>46754</th>\n",
       "      <td>1</td>\n",
       "      <td>-2.306052</td>\n",
       "      <td>-1.981413</td>\n",
       "      <td>2019-07-03</td>\n",
       "      <td>2019-06-23</td>\n",
       "      <td>2019-06-21</td>\n",
       "      <td>2019-06-23</td>\n",
       "      <td>2019-07-08</td>\n",
       "      <td>265.229146</td>\n",
       "      <td>2019-06-23</td>\n",
       "      <td>-1.904635</td>\n",
       "      <td>1.007299</td>\n",
       "      <td>-5</td>\n",
       "      <td>6</td>\n",
       "      <td>6</td>\n",
       "      <td>7</td>\n",
       "      <td>2</td>\n",
       "      <td>2</td>\n",
       "      <td>3</td>\n",
       "    </tr>\n",
       "    <tr>\n",
       "      <th>46755</th>\n",
       "      <td>1</td>\n",
       "      <td>1.894737</td>\n",
       "      <td>1.666667</td>\n",
       "      <td>2019-01-17</td>\n",
       "      <td>2019-01-02</td>\n",
       "      <td>2019-01-02</td>\n",
       "      <td>2019-01-02</td>\n",
       "      <td>2019-01-17</td>\n",
       "      <td>368.345558</td>\n",
       "      <td>2019-01-02</td>\n",
       "      <td>1.387441</td>\n",
       "      <td>1.007299</td>\n",
       "      <td>0</td>\n",
       "      <td>1</td>\n",
       "      <td>1</td>\n",
       "      <td>1</td>\n",
       "      <td>1</td>\n",
       "      <td>1</td>\n",
       "      <td>1</td>\n",
       "    </tr>\n",
       "    <tr>\n",
       "      <th>46756</th>\n",
       "      <td>1</td>\n",
       "      <td>0.173913</td>\n",
       "      <td>2.171247</td>\n",
       "      <td>2019-03-22</td>\n",
       "      <td>2019-03-07</td>\n",
       "      <td>2019-03-07</td>\n",
       "      <td>2019-03-07</td>\n",
       "      <td>2019-03-22</td>\n",
       "      <td>180.769466</td>\n",
       "      <td>2019-03-07</td>\n",
       "      <td>1.387441</td>\n",
       "      <td>1.007299</td>\n",
       "      <td>0</td>\n",
       "      <td>3</td>\n",
       "      <td>3</td>\n",
       "      <td>3</td>\n",
       "      <td>1</td>\n",
       "      <td>1</td>\n",
       "      <td>1</td>\n",
       "    </tr>\n",
       "  </tbody>\n",
       "</table>\n",
       "<p>36325 rows × 19 columns</p>\n",
       "</div>"
      ],
      "text/plain": [
       "       business_code  cust_number  ...  posting_date_quarter due_in_date_quarter\n",
       "0                  1    -6.640823  ...                     1                   1\n",
       "1                  1    -4.493711  ...                     2                   2\n",
       "2                  1    -3.908537  ...                     2                   2\n",
       "3                  1    -2.306052  ...                     1                   1\n",
       "4                  1    -2.165963  ...                     2                   2\n",
       "...              ...          ...  ...                   ...                 ...\n",
       "46752              1     0.957746  ...                     3                   3\n",
       "46753              1    -1.636364  ...                     2                   3\n",
       "46754              1    -2.306052  ...                     2                   3\n",
       "46755              1     1.894737  ...                     1                   1\n",
       "46756              1     0.173913  ...                     1                   1\n",
       "\n",
       "[36325 rows x 19 columns]"
      ]
     },
     "execution_count": 1162,
     "metadata": {
      "tags": []
     },
     "output_type": "execute_result"
    }
   ],
   "source": [
    "train_set"
   ]
  },
  {
   "cell_type": "code",
   "execution_count": 1163,
   "metadata": {
    "colab": {
     "base_uri": "https://localhost:8080/"
    },
    "id": "YoFTbPz8om9K",
    "outputId": "bb3f629e-e96f-4368-b264-f05bf5a60bd5"
   },
   "outputs": [
    {
     "data": {
      "text/plain": [
       "(0.9244716148406318, 0.0008046388627145212, 0.0035049943086771828)"
      ]
     },
     "execution_count": 1163,
     "metadata": {
      "tags": []
     },
     "output_type": "execute_result"
    }
   ],
   "source": [
    "c1=train_set['posting_date_quarter'].corr(train_set['due_in_date_quarter'])\n",
    "c2=train_set['posting_date_quarter'].corr(train_set['target_delay'])\n",
    "c3=train_set['due_in_date_quarter'].corr(train_set['target_delay'])\n",
    "c1,c2,c3"
   ]
  },
  {
   "cell_type": "code",
   "execution_count": 1163,
   "metadata": {
    "id": "YRocj8Hnt2_5"
   },
   "outputs": [],
   "source": []
  },
  {
   "cell_type": "code",
   "execution_count": 1164,
   "metadata": {
    "id": "rb5xZV_sLS9q"
   },
   "outputs": [],
   "source": [
    "##featues of posting date doesnot seem useful\n",
    "train_set.drop(['posting_date'],axis=1,inplace=True)"
   ]
  },
  {
   "cell_type": "code",
   "execution_count": 1165,
   "metadata": {
    "colab": {
     "base_uri": "https://localhost:8080/"
    },
    "id": "lhv2txzQL4g8",
    "outputId": "be7f5825-61a4-4d51-913e-35b3192669e4"
   },
   "outputs": [
    {
     "data": {
      "text/plain": [
       "(36325, 18)"
      ]
     },
     "execution_count": 1165,
     "metadata": {
      "tags": []
     },
     "output_type": "execute_result"
    }
   ],
   "source": [
    "train_set.shape"
   ]
  },
  {
   "cell_type": "code",
   "execution_count": 1166,
   "metadata": {
    "id": "0A2pA4jBBJIx"
   },
   "outputs": [],
   "source": [
    "###########Feature Selection##########"
   ]
  },
  {
   "cell_type": "code",
   "execution_count": 1167,
   "metadata": {
    "id": "RajiIsF2Mg3s"
   },
   "outputs": [],
   "source": [
    "x_train=train_set.copy()\n",
    "x_train=x_train.drop(['target_delay'],axis=1)"
   ]
  },
  {
   "cell_type": "markdown",
   "metadata": {
    "id": "qigPGuUILVDC"
   },
   "source": []
  },
  {
   "cell_type": "code",
   "execution_count": 1168,
   "metadata": {
    "id": "mN8cUMW1P40P"
   },
   "outputs": [],
   "source": [
    "def handling_correlation(df,threshold=0.8):   #correlation less than threshold\n",
    "    # creating set to hold the correlated features\n",
    "    corr_features = set()\n",
    "    # create the correlation matrix (default to pearson)\n",
    "    corr_matrix = df.corr()\n",
    "    #code for selecting all correleated features\n",
    "    for i in range(len(corr_matrix .columns)):\n",
    "        for j in range(i):\n",
    "            if abs(corr_matrix.iloc[i, j]) >threshold:\n",
    "                colname = corr_matrix.columns[i]\n",
    "                corr_features.add(colname)\n",
    "    return list(corr_features)"
   ]
  },
  {
   "cell_type": "code",
   "execution_count": 1169,
   "metadata": {
    "colab": {
     "base_uri": "https://localhost:8080/"
    },
    "id": "C3VrIP41QDkJ",
    "outputId": "1c3ffc2e-9e0e-4abf-c530-734d93315a42"
   },
   "outputs": [
    {
     "data": {
      "text/plain": [
       "['due_in_date_quarter',\n",
       " 'create_date.1_quarter',\n",
       " 'due_in_date_month',\n",
       " 'posting_date_quarter',\n",
       " 'name_customer',\n",
       " 'create_date.1_month']"
      ]
     },
     "execution_count": 1169,
     "metadata": {
      "tags": []
     },
     "output_type": "execute_result"
    }
   ],
   "source": [
    "handling_correlation(train_set.copy(),0.80)"
   ]
  },
  {
   "cell_type": "code",
   "execution_count": 1170,
   "metadata": {
    "id": "HKrbhHXaQQbO"
   },
   "outputs": [],
   "source": [
    "x_train_new=x_train.drop(['due_in_date_quarter','create_date.1_quarter'],axis=1)\n",
    "train_set=train_set.drop(['due_in_date_quarter','create_date.1_quarter'],axis=1)"
   ]
  },
  {
   "cell_type": "code",
   "execution_count": 1171,
   "metadata": {
    "colab": {
     "base_uri": "https://localhost:8080/"
    },
    "id": "2fFbJjQoRGAm",
    "outputId": "d14dcb0f-1db0-4492-af66-01c8e044df01"
   },
   "outputs": [
    {
     "data": {
      "text/plain": [
       "['due_in_date_month',\n",
       " 'posting_date_quarter',\n",
       " 'name_customer',\n",
       " 'create_date.1_month']"
      ]
     },
     "execution_count": 1171,
     "metadata": {
      "tags": []
     },
     "output_type": "execute_result"
    }
   ],
   "source": [
    "handling_correlation(x_train_new.copy(),0.80)"
   ]
  },
  {
   "cell_type": "code",
   "execution_count": 1172,
   "metadata": {
    "id": "PMXByktksxcg"
   },
   "outputs": [],
   "source": [
    "x_train_new=x_train_new.drop(['posting_date_quarter'],axis=1)\n",
    "train_set=train_set.drop(['posting_date_quarter'],axis=1)"
   ]
  },
  {
   "cell_type": "code",
   "execution_count": 1173,
   "metadata": {
    "colab": {
     "base_uri": "https://localhost:8080/"
    },
    "id": "rOChOHPwRPmM",
    "outputId": "10b69100-9394-4188-a3e6-52196f263b86"
   },
   "outputs": [
    {
     "data": {
      "text/plain": [
       "0       -5\n",
       "1       -8\n",
       "2       -5\n",
       "3       -4\n",
       "4       -4\n",
       "        ..\n",
       "46752    1\n",
       "46753   -1\n",
       "46754   -5\n",
       "46755    0\n",
       "46756    0\n",
       "Name: target_delay, Length: 36325, dtype: int64"
      ]
     },
     "execution_count": 1173,
     "metadata": {
      "tags": []
     },
     "output_type": "execute_result"
    }
   ],
   "source": [
    "y=train_set['target_delay']\n",
    "y"
   ]
  },
  {
   "cell_type": "code",
   "execution_count": 1174,
   "metadata": {
    "colab": {
     "base_uri": "https://localhost:8080/",
     "height": 435
    },
    "id": "ofQS1OMxm86L",
    "outputId": "36fcc16c-477c-4f3b-b9f8-ac13c9e72127"
   },
   "outputs": [
    {
     "data": {
      "text/html": [
       "<div>\n",
       "<style scoped>\n",
       "    .dataframe tbody tr th:only-of-type {\n",
       "        vertical-align: middle;\n",
       "    }\n",
       "\n",
       "    .dataframe tbody tr th {\n",
       "        vertical-align: top;\n",
       "    }\n",
       "\n",
       "    .dataframe thead th {\n",
       "        text-align: right;\n",
       "    }\n",
       "</style>\n",
       "<table border=\"1\" class=\"dataframe\">\n",
       "  <thead>\n",
       "    <tr style=\"text-align: right;\">\n",
       "      <th></th>\n",
       "      <th>business_code</th>\n",
       "      <th>cust_number</th>\n",
       "      <th>name_customer</th>\n",
       "      <th>total_open_amount</th>\n",
       "      <th>cust_payment_terms</th>\n",
       "      <th>isOpen</th>\n",
       "      <th>create_date_month</th>\n",
       "      <th>create_date.1_month</th>\n",
       "      <th>due_in_date_month</th>\n",
       "    </tr>\n",
       "  </thead>\n",
       "  <tbody>\n",
       "    <tr>\n",
       "      <th>0</th>\n",
       "      <td>1</td>\n",
       "      <td>-6.640823</td>\n",
       "      <td>-5.742424</td>\n",
       "      <td>45.602083</td>\n",
       "      <td>0.347044</td>\n",
       "      <td>1.007299</td>\n",
       "      <td>1</td>\n",
       "      <td>1</td>\n",
       "      <td>2</td>\n",
       "    </tr>\n",
       "    <tr>\n",
       "      <th>1</th>\n",
       "      <td>1</td>\n",
       "      <td>-4.493711</td>\n",
       "      <td>-3.893939</td>\n",
       "      <td>8.277681</td>\n",
       "      <td>-7.140805</td>\n",
       "      <td>1.007299</td>\n",
       "      <td>4</td>\n",
       "      <td>4</td>\n",
       "      <td>5</td>\n",
       "    </tr>\n",
       "    <tr>\n",
       "      <th>2</th>\n",
       "      <td>1</td>\n",
       "      <td>-3.908537</td>\n",
       "      <td>-4.506667</td>\n",
       "      <td>40.961201</td>\n",
       "      <td>-7.140805</td>\n",
       "      <td>1.007299</td>\n",
       "      <td>5</td>\n",
       "      <td>5</td>\n",
       "      <td>6</td>\n",
       "    </tr>\n",
       "    <tr>\n",
       "      <th>3</th>\n",
       "      <td>1</td>\n",
       "      <td>-2.306052</td>\n",
       "      <td>-2.331402</td>\n",
       "      <td>258.663411</td>\n",
       "      <td>-1.904635</td>\n",
       "      <td>1.007299</td>\n",
       "      <td>2</td>\n",
       "      <td>2</td>\n",
       "      <td>2</td>\n",
       "    </tr>\n",
       "    <tr>\n",
       "      <th>4</th>\n",
       "      <td>1</td>\n",
       "      <td>-2.165963</td>\n",
       "      <td>-2.507822</td>\n",
       "      <td>256.113159</td>\n",
       "      <td>-1.904635</td>\n",
       "      <td>1.007299</td>\n",
       "      <td>5</td>\n",
       "      <td>6</td>\n",
       "      <td>6</td>\n",
       "    </tr>\n",
       "    <tr>\n",
       "      <th>...</th>\n",
       "      <td>...</td>\n",
       "      <td>...</td>\n",
       "      <td>...</td>\n",
       "      <td>...</td>\n",
       "      <td>...</td>\n",
       "      <td>...</td>\n",
       "      <td>...</td>\n",
       "      <td>...</td>\n",
       "      <td>...</td>\n",
       "    </tr>\n",
       "    <tr>\n",
       "      <th>46752</th>\n",
       "      <td>1</td>\n",
       "      <td>0.957746</td>\n",
       "      <td>0.600000</td>\n",
       "      <td>241.079593</td>\n",
       "      <td>1.387441</td>\n",
       "      <td>1.007299</td>\n",
       "      <td>8</td>\n",
       "      <td>8</td>\n",
       "      <td>8</td>\n",
       "    </tr>\n",
       "    <tr>\n",
       "      <th>46753</th>\n",
       "      <td>1</td>\n",
       "      <td>-1.636364</td>\n",
       "      <td>4.461538</td>\n",
       "      <td>108.491705</td>\n",
       "      <td>0.561391</td>\n",
       "      <td>1.007299</td>\n",
       "      <td>6</td>\n",
       "      <td>6</td>\n",
       "      <td>7</td>\n",
       "    </tr>\n",
       "    <tr>\n",
       "      <th>46754</th>\n",
       "      <td>1</td>\n",
       "      <td>-2.306052</td>\n",
       "      <td>-1.981413</td>\n",
       "      <td>265.229146</td>\n",
       "      <td>-1.904635</td>\n",
       "      <td>1.007299</td>\n",
       "      <td>6</td>\n",
       "      <td>6</td>\n",
       "      <td>7</td>\n",
       "    </tr>\n",
       "    <tr>\n",
       "      <th>46755</th>\n",
       "      <td>1</td>\n",
       "      <td>1.894737</td>\n",
       "      <td>1.666667</td>\n",
       "      <td>368.345558</td>\n",
       "      <td>1.387441</td>\n",
       "      <td>1.007299</td>\n",
       "      <td>1</td>\n",
       "      <td>1</td>\n",
       "      <td>1</td>\n",
       "    </tr>\n",
       "    <tr>\n",
       "      <th>46756</th>\n",
       "      <td>1</td>\n",
       "      <td>0.173913</td>\n",
       "      <td>2.171247</td>\n",
       "      <td>180.769466</td>\n",
       "      <td>1.387441</td>\n",
       "      <td>1.007299</td>\n",
       "      <td>3</td>\n",
       "      <td>3</td>\n",
       "      <td>3</td>\n",
       "    </tr>\n",
       "  </tbody>\n",
       "</table>\n",
       "<p>36325 rows × 9 columns</p>\n",
       "</div>"
      ],
      "text/plain": [
       "       business_code  cust_number  ...  create_date.1_month  due_in_date_month\n",
       "0                  1    -6.640823  ...                    1                  2\n",
       "1                  1    -4.493711  ...                    4                  5\n",
       "2                  1    -3.908537  ...                    5                  6\n",
       "3                  1    -2.306052  ...                    2                  2\n",
       "4                  1    -2.165963  ...                    6                  6\n",
       "...              ...          ...  ...                  ...                ...\n",
       "46752              1     0.957746  ...                    8                  8\n",
       "46753              1    -1.636364  ...                    6                  7\n",
       "46754              1    -2.306052  ...                    6                  7\n",
       "46755              1     1.894737  ...                    1                  1\n",
       "46756              1     0.173913  ...                    3                  3\n",
       "\n",
       "[36325 rows x 9 columns]"
      ]
     },
     "execution_count": 1174,
     "metadata": {
      "tags": []
     },
     "output_type": "execute_result"
    }
   ],
   "source": [
    "x_train_new=x_train_new.drop(['clear_date','due_in_date','document_create_date.1','document_create_date','baseline_create_date'],axis=1)\n",
    "x_train_new"
   ]
  },
  {
   "cell_type": "code",
   "execution_count": 1175,
   "metadata": {
    "colab": {
     "base_uri": "https://localhost:8080/",
     "height": 435
    },
    "id": "bTzuI9tjn7uG",
    "outputId": "ce496848-78b6-4f09-9ab7-52ea2bde10b3"
   },
   "outputs": [
    {
     "data": {
      "text/html": [
       "<div>\n",
       "<style scoped>\n",
       "    .dataframe tbody tr th:only-of-type {\n",
       "        vertical-align: middle;\n",
       "    }\n",
       "\n",
       "    .dataframe tbody tr th {\n",
       "        vertical-align: top;\n",
       "    }\n",
       "\n",
       "    .dataframe thead th {\n",
       "        text-align: right;\n",
       "    }\n",
       "</style>\n",
       "<table border=\"1\" class=\"dataframe\">\n",
       "  <thead>\n",
       "    <tr style=\"text-align: right;\">\n",
       "      <th></th>\n",
       "      <th>business_code</th>\n",
       "      <th>cust_number</th>\n",
       "      <th>name_customer</th>\n",
       "      <th>total_open_amount</th>\n",
       "      <th>cust_payment_terms</th>\n",
       "      <th>isOpen</th>\n",
       "      <th>create_date_month</th>\n",
       "      <th>create_date.1_month</th>\n",
       "      <th>due_in_date_month</th>\n",
       "    </tr>\n",
       "  </thead>\n",
       "  <tbody>\n",
       "    <tr>\n",
       "      <th>0</th>\n",
       "      <td>1</td>\n",
       "      <td>-6.640823</td>\n",
       "      <td>-5.742424</td>\n",
       "      <td>45.602083</td>\n",
       "      <td>0.347044</td>\n",
       "      <td>1.007299</td>\n",
       "      <td>1</td>\n",
       "      <td>1</td>\n",
       "      <td>2</td>\n",
       "    </tr>\n",
       "    <tr>\n",
       "      <th>1</th>\n",
       "      <td>1</td>\n",
       "      <td>-4.493711</td>\n",
       "      <td>-3.893939</td>\n",
       "      <td>8.277681</td>\n",
       "      <td>-7.140805</td>\n",
       "      <td>1.007299</td>\n",
       "      <td>4</td>\n",
       "      <td>4</td>\n",
       "      <td>5</td>\n",
       "    </tr>\n",
       "    <tr>\n",
       "      <th>2</th>\n",
       "      <td>1</td>\n",
       "      <td>-3.908537</td>\n",
       "      <td>-4.506667</td>\n",
       "      <td>40.961201</td>\n",
       "      <td>-7.140805</td>\n",
       "      <td>1.007299</td>\n",
       "      <td>5</td>\n",
       "      <td>5</td>\n",
       "      <td>6</td>\n",
       "    </tr>\n",
       "    <tr>\n",
       "      <th>3</th>\n",
       "      <td>1</td>\n",
       "      <td>-2.306052</td>\n",
       "      <td>-2.331402</td>\n",
       "      <td>258.663411</td>\n",
       "      <td>-1.904635</td>\n",
       "      <td>1.007299</td>\n",
       "      <td>2</td>\n",
       "      <td>2</td>\n",
       "      <td>2</td>\n",
       "    </tr>\n",
       "    <tr>\n",
       "      <th>4</th>\n",
       "      <td>1</td>\n",
       "      <td>-2.165963</td>\n",
       "      <td>-2.507822</td>\n",
       "      <td>256.113159</td>\n",
       "      <td>-1.904635</td>\n",
       "      <td>1.007299</td>\n",
       "      <td>5</td>\n",
       "      <td>6</td>\n",
       "      <td>6</td>\n",
       "    </tr>\n",
       "    <tr>\n",
       "      <th>...</th>\n",
       "      <td>...</td>\n",
       "      <td>...</td>\n",
       "      <td>...</td>\n",
       "      <td>...</td>\n",
       "      <td>...</td>\n",
       "      <td>...</td>\n",
       "      <td>...</td>\n",
       "      <td>...</td>\n",
       "      <td>...</td>\n",
       "    </tr>\n",
       "    <tr>\n",
       "      <th>46752</th>\n",
       "      <td>1</td>\n",
       "      <td>0.957746</td>\n",
       "      <td>0.600000</td>\n",
       "      <td>241.079593</td>\n",
       "      <td>1.387441</td>\n",
       "      <td>1.007299</td>\n",
       "      <td>8</td>\n",
       "      <td>8</td>\n",
       "      <td>8</td>\n",
       "    </tr>\n",
       "    <tr>\n",
       "      <th>46753</th>\n",
       "      <td>1</td>\n",
       "      <td>-1.636364</td>\n",
       "      <td>4.461538</td>\n",
       "      <td>108.491705</td>\n",
       "      <td>0.561391</td>\n",
       "      <td>1.007299</td>\n",
       "      <td>6</td>\n",
       "      <td>6</td>\n",
       "      <td>7</td>\n",
       "    </tr>\n",
       "    <tr>\n",
       "      <th>46754</th>\n",
       "      <td>1</td>\n",
       "      <td>-2.306052</td>\n",
       "      <td>-1.981413</td>\n",
       "      <td>265.229146</td>\n",
       "      <td>-1.904635</td>\n",
       "      <td>1.007299</td>\n",
       "      <td>6</td>\n",
       "      <td>6</td>\n",
       "      <td>7</td>\n",
       "    </tr>\n",
       "    <tr>\n",
       "      <th>46755</th>\n",
       "      <td>1</td>\n",
       "      <td>1.894737</td>\n",
       "      <td>1.666667</td>\n",
       "      <td>368.345558</td>\n",
       "      <td>1.387441</td>\n",
       "      <td>1.007299</td>\n",
       "      <td>1</td>\n",
       "      <td>1</td>\n",
       "      <td>1</td>\n",
       "    </tr>\n",
       "    <tr>\n",
       "      <th>46756</th>\n",
       "      <td>1</td>\n",
       "      <td>0.173913</td>\n",
       "      <td>2.171247</td>\n",
       "      <td>180.769466</td>\n",
       "      <td>1.387441</td>\n",
       "      <td>1.007299</td>\n",
       "      <td>3</td>\n",
       "      <td>3</td>\n",
       "      <td>3</td>\n",
       "    </tr>\n",
       "  </tbody>\n",
       "</table>\n",
       "<p>36325 rows × 9 columns</p>\n",
       "</div>"
      ],
      "text/plain": [
       "       business_code  cust_number  ...  create_date.1_month  due_in_date_month\n",
       "0                  1    -6.640823  ...                    1                  2\n",
       "1                  1    -4.493711  ...                    4                  5\n",
       "2                  1    -3.908537  ...                    5                  6\n",
       "3                  1    -2.306052  ...                    2                  2\n",
       "4                  1    -2.165963  ...                    6                  6\n",
       "...              ...          ...  ...                  ...                ...\n",
       "46752              1     0.957746  ...                    8                  8\n",
       "46753              1    -1.636364  ...                    6                  7\n",
       "46754              1    -2.306052  ...                    6                  7\n",
       "46755              1     1.894737  ...                    1                  1\n",
       "46756              1     0.173913  ...                    3                  3\n",
       "\n",
       "[36325 rows x 9 columns]"
      ]
     },
     "execution_count": 1175,
     "metadata": {
      "tags": []
     },
     "output_type": "execute_result"
    }
   ],
   "source": [
    "x_train_new"
   ]
  },
  {
   "cell_type": "code",
   "execution_count": 1176,
   "metadata": {
    "id": "9YYLi4JAjXTI"
   },
   "outputs": [],
   "source": [
    "###############checking feature importance\n",
    "def tree_based_feature_importance(x_train,y):\n",
    "    from sklearn.ensemble import RandomForestRegressor\n",
    "    # create the random forest model\n",
    "    model = RandomForestRegressor(n_estimators=120)\n",
    "\n",
    "    # fit the model to start training.\n",
    "    model.fit(x_train, y)\n",
    "\n",
    "    # get the importance of the resulting features.\n",
    "    importances = model.feature_importances_\n",
    "\n",
    "    # create a data frame for visualization.\n",
    "    final_df = pd.DataFrame({\"Features\": x_train.columns, \"Importances\":importances})\n",
    "    final_df.set_index('Importances')\n",
    "\n",
    "    # sort in descending order \n",
    "    final_df = final_df.sort_values('Importances',ascending=False)\n",
    "    \n",
    "    #visualising feature importance\n",
    "    pd.Series(model.feature_importances_, index=x_train.columns).nlargest(6).plot(kind='barh')  \n",
    "    return final_df"
   ]
  },
  {
   "cell_type": "code",
   "execution_count": 1177,
   "metadata": {
    "colab": {
     "base_uri": "https://localhost:8080/",
     "height": 265
    },
    "id": "XjOioRvSkWgR",
    "outputId": "2a01b798-d064-4958-f71b-80b1c7ca7031"
   },
   "outputs": [
    {
     "data": {
      "image/png": "[encoded data removed]",
      "text/plain": [
       "<Figure size 432x288 with 1 Axes>"
      ]
     },
     "metadata": {
      "tags": []
     },
     "output_type": "display_data"
    }
   ],
   "source": [
    "feature_importance=tree_based_feature_importance(x_train_new,y)#features importance data frame"
   ]
  },
  {
   "cell_type": "code",
   "execution_count": 1178,
   "metadata": {
    "colab": {
     "base_uri": "https://localhost:8080/",
     "height": 325
    },
    "id": "TK_E6Epmucd4",
    "outputId": "068ca57b-fc92-47ae-a2f8-f0b33bb40e95"
   },
   "outputs": [
    {
     "data": {
      "text/html": [
       "<div>\n",
       "<style scoped>\n",
       "    .dataframe tbody tr th:only-of-type {\n",
       "        vertical-align: middle;\n",
       "    }\n",
       "\n",
       "    .dataframe tbody tr th {\n",
       "        vertical-align: top;\n",
       "    }\n",
       "\n",
       "    .dataframe thead th {\n",
       "        text-align: right;\n",
       "    }\n",
       "</style>\n",
       "<table border=\"1\" class=\"dataframe\">\n",
       "  <thead>\n",
       "    <tr style=\"text-align: right;\">\n",
       "      <th></th>\n",
       "      <th>Features</th>\n",
       "      <th>Importances</th>\n",
       "    </tr>\n",
       "  </thead>\n",
       "  <tbody>\n",
       "    <tr>\n",
       "      <th>1</th>\n",
       "      <td>cust_number</td>\n",
       "      <td>0.403919</td>\n",
       "    </tr>\n",
       "    <tr>\n",
       "      <th>3</th>\n",
       "      <td>total_open_amount</td>\n",
       "      <td>0.237198</td>\n",
       "    </tr>\n",
       "    <tr>\n",
       "      <th>4</th>\n",
       "      <td>cust_payment_terms</td>\n",
       "      <td>0.120958</td>\n",
       "    </tr>\n",
       "    <tr>\n",
       "      <th>2</th>\n",
       "      <td>name_customer</td>\n",
       "      <td>0.094854</td>\n",
       "    </tr>\n",
       "    <tr>\n",
       "      <th>8</th>\n",
       "      <td>due_in_date_month</td>\n",
       "      <td>0.057857</td>\n",
       "    </tr>\n",
       "    <tr>\n",
       "      <th>6</th>\n",
       "      <td>create_date_month</td>\n",
       "      <td>0.036806</td>\n",
       "    </tr>\n",
       "    <tr>\n",
       "      <th>7</th>\n",
       "      <td>create_date.1_month</td>\n",
       "      <td>0.034764</td>\n",
       "    </tr>\n",
       "    <tr>\n",
       "      <th>0</th>\n",
       "      <td>business_code</td>\n",
       "      <td>0.013644</td>\n",
       "    </tr>\n",
       "    <tr>\n",
       "      <th>5</th>\n",
       "      <td>isOpen</td>\n",
       "      <td>0.000000</td>\n",
       "    </tr>\n",
       "  </tbody>\n",
       "</table>\n",
       "</div>"
      ],
      "text/plain": [
       "              Features  Importances\n",
       "1          cust_number     0.403919\n",
       "3    total_open_amount     0.237198\n",
       "4   cust_payment_terms     0.120958\n",
       "2        name_customer     0.094854\n",
       "8    due_in_date_month     0.057857\n",
       "6    create_date_month     0.036806\n",
       "7  create_date.1_month     0.034764\n",
       "0        business_code     0.013644\n",
       "5               isOpen     0.000000"
      ]
     },
     "metadata": {
      "tags": []
     },
     "output_type": "display_data"
    }
   ],
   "source": [
    "display(feature_importance)"
   ]
  },
  {
   "cell_type": "code",
   "execution_count": 1179,
   "metadata": {
    "id": "Oa4KbCCa1-YT"
   },
   "outputs": [],
   "source": [
    "x_train_new=x_train_new.drop(['isOpen','business_code','create_date_month','create_date.1_month'],axis=1)\n",
    "train_set=train_set.drop(['isOpen','business_code','create_date_month','create_date.1_month'],axis=1)\n"
   ]
  },
  {
   "cell_type": "code",
   "execution_count": 1180,
   "metadata": {
    "colab": {
     "base_uri": "https://localhost:8080/",
     "height": 435
    },
    "id": "lz273mrR2q7L",
    "outputId": "cc846823-effc-4551-83d7-78d3e78ca85b"
   },
   "outputs": [
    {
     "data": {
      "text/html": [
       "<div>\n",
       "<style scoped>\n",
       "    .dataframe tbody tr th:only-of-type {\n",
       "        vertical-align: middle;\n",
       "    }\n",
       "\n",
       "    .dataframe tbody tr th {\n",
       "        vertical-align: top;\n",
       "    }\n",
       "\n",
       "    .dataframe thead th {\n",
       "        text-align: right;\n",
       "    }\n",
       "</style>\n",
       "<table border=\"1\" class=\"dataframe\">\n",
       "  <thead>\n",
       "    <tr style=\"text-align: right;\">\n",
       "      <th></th>\n",
       "      <th>cust_number</th>\n",
       "      <th>name_customer</th>\n",
       "      <th>clear_date</th>\n",
       "      <th>document_create_date</th>\n",
       "      <th>document_create_date.1</th>\n",
       "      <th>due_in_date</th>\n",
       "      <th>total_open_amount</th>\n",
       "      <th>baseline_create_date</th>\n",
       "      <th>cust_payment_terms</th>\n",
       "      <th>target_delay</th>\n",
       "      <th>due_in_date_month</th>\n",
       "    </tr>\n",
       "  </thead>\n",
       "  <tbody>\n",
       "    <tr>\n",
       "      <th>0</th>\n",
       "      <td>-6.640823</td>\n",
       "      <td>-5.742424</td>\n",
       "      <td>2019-02-06</td>\n",
       "      <td>2019-01-21</td>\n",
       "      <td>2019-01-22</td>\n",
       "      <td>2019-02-11</td>\n",
       "      <td>45.602083</td>\n",
       "      <td>2019-01-22</td>\n",
       "      <td>0.347044</td>\n",
       "      <td>-5</td>\n",
       "      <td>2</td>\n",
       "    </tr>\n",
       "    <tr>\n",
       "      <th>1</th>\n",
       "      <td>-4.493711</td>\n",
       "      <td>-3.893939</td>\n",
       "      <td>2019-05-01</td>\n",
       "      <td>2019-04-26</td>\n",
       "      <td>2019-04-26</td>\n",
       "      <td>2019-05-09</td>\n",
       "      <td>8.277681</td>\n",
       "      <td>2019-04-16</td>\n",
       "      <td>-7.140805</td>\n",
       "      <td>-8</td>\n",
       "      <td>5</td>\n",
       "    </tr>\n",
       "    <tr>\n",
       "      <th>2</th>\n",
       "      <td>-3.908537</td>\n",
       "      <td>-4.506667</td>\n",
       "      <td>2019-06-03</td>\n",
       "      <td>2019-05-25</td>\n",
       "      <td>2019-05-25</td>\n",
       "      <td>2019-06-08</td>\n",
       "      <td>40.961201</td>\n",
       "      <td>2019-05-16</td>\n",
       "      <td>-7.140805</td>\n",
       "      <td>-5</td>\n",
       "      <td>6</td>\n",
       "    </tr>\n",
       "    <tr>\n",
       "      <th>3</th>\n",
       "      <td>-2.306052</td>\n",
       "      <td>-2.331402</td>\n",
       "      <td>2019-02-20</td>\n",
       "      <td>2019-02-08</td>\n",
       "      <td>2019-02-09</td>\n",
       "      <td>2019-02-24</td>\n",
       "      <td>258.663411</td>\n",
       "      <td>2019-02-09</td>\n",
       "      <td>-1.904635</td>\n",
       "      <td>-4</td>\n",
       "      <td>2</td>\n",
       "    </tr>\n",
       "    <tr>\n",
       "      <th>4</th>\n",
       "      <td>-2.165963</td>\n",
       "      <td>-2.507822</td>\n",
       "      <td>2019-06-12</td>\n",
       "      <td>2019-05-30</td>\n",
       "      <td>2019-06-01</td>\n",
       "      <td>2019-06-16</td>\n",
       "      <td>256.113159</td>\n",
       "      <td>2019-06-01</td>\n",
       "      <td>-1.904635</td>\n",
       "      <td>-4</td>\n",
       "      <td>6</td>\n",
       "    </tr>\n",
       "    <tr>\n",
       "      <th>...</th>\n",
       "      <td>...</td>\n",
       "      <td>...</td>\n",
       "      <td>...</td>\n",
       "      <td>...</td>\n",
       "      <td>...</td>\n",
       "      <td>...</td>\n",
       "      <td>...</td>\n",
       "      <td>...</td>\n",
       "      <td>...</td>\n",
       "      <td>...</td>\n",
       "      <td>...</td>\n",
       "    </tr>\n",
       "    <tr>\n",
       "      <th>46752</th>\n",
       "      <td>0.957746</td>\n",
       "      <td>0.600000</td>\n",
       "      <td>2019-08-30</td>\n",
       "      <td>2019-08-15</td>\n",
       "      <td>2019-08-14</td>\n",
       "      <td>2019-08-29</td>\n",
       "      <td>241.079593</td>\n",
       "      <td>2019-08-14</td>\n",
       "      <td>1.387441</td>\n",
       "      <td>1</td>\n",
       "      <td>8</td>\n",
       "    </tr>\n",
       "    <tr>\n",
       "      <th>46753</th>\n",
       "      <td>-1.636364</td>\n",
       "      <td>4.461538</td>\n",
       "      <td>2019-07-08</td>\n",
       "      <td>2019-06-23</td>\n",
       "      <td>2019-06-24</td>\n",
       "      <td>2019-07-09</td>\n",
       "      <td>108.491705</td>\n",
       "      <td>2019-06-24</td>\n",
       "      <td>0.561391</td>\n",
       "      <td>-1</td>\n",
       "      <td>7</td>\n",
       "    </tr>\n",
       "    <tr>\n",
       "      <th>46754</th>\n",
       "      <td>-2.306052</td>\n",
       "      <td>-1.981413</td>\n",
       "      <td>2019-07-03</td>\n",
       "      <td>2019-06-21</td>\n",
       "      <td>2019-06-23</td>\n",
       "      <td>2019-07-08</td>\n",
       "      <td>265.229146</td>\n",
       "      <td>2019-06-23</td>\n",
       "      <td>-1.904635</td>\n",
       "      <td>-5</td>\n",
       "      <td>7</td>\n",
       "    </tr>\n",
       "    <tr>\n",
       "      <th>46755</th>\n",
       "      <td>1.894737</td>\n",
       "      <td>1.666667</td>\n",
       "      <td>2019-01-17</td>\n",
       "      <td>2019-01-02</td>\n",
       "      <td>2019-01-02</td>\n",
       "      <td>2019-01-17</td>\n",
       "      <td>368.345558</td>\n",
       "      <td>2019-01-02</td>\n",
       "      <td>1.387441</td>\n",
       "      <td>0</td>\n",
       "      <td>1</td>\n",
       "    </tr>\n",
       "    <tr>\n",
       "      <th>46756</th>\n",
       "      <td>0.173913</td>\n",
       "      <td>2.171247</td>\n",
       "      <td>2019-03-22</td>\n",
       "      <td>2019-03-07</td>\n",
       "      <td>2019-03-07</td>\n",
       "      <td>2019-03-22</td>\n",
       "      <td>180.769466</td>\n",
       "      <td>2019-03-07</td>\n",
       "      <td>1.387441</td>\n",
       "      <td>0</td>\n",
       "      <td>3</td>\n",
       "    </tr>\n",
       "  </tbody>\n",
       "</table>\n",
       "<p>36325 rows × 11 columns</p>\n",
       "</div>"
      ],
      "text/plain": [
       "       cust_number  name_customer  ... target_delay due_in_date_month\n",
       "0        -6.640823      -5.742424  ...           -5                 2\n",
       "1        -4.493711      -3.893939  ...           -8                 5\n",
       "2        -3.908537      -4.506667  ...           -5                 6\n",
       "3        -2.306052      -2.331402  ...           -4                 2\n",
       "4        -2.165963      -2.507822  ...           -4                 6\n",
       "...            ...            ...  ...          ...               ...\n",
       "46752     0.957746       0.600000  ...            1                 8\n",
       "46753    -1.636364       4.461538  ...           -1                 7\n",
       "46754    -2.306052      -1.981413  ...           -5                 7\n",
       "46755     1.894737       1.666667  ...            0                 1\n",
       "46756     0.173913       2.171247  ...            0                 3\n",
       "\n",
       "[36325 rows x 11 columns]"
      ]
     },
     "execution_count": 1180,
     "metadata": {
      "tags": []
     },
     "output_type": "execute_result"
    }
   ],
   "source": [
    "train_set"
   ]
  },
  {
   "cell_type": "code",
   "execution_count": 1181,
   "metadata": {
    "id": "_Irmsp8T2y-f"
   },
   "outputs": [],
   "source": [
    "x_train_new=x_train_new.drop(['name_customer','due_in_date_month'],axis=1)"
   ]
  },
  {
   "cell_type": "code",
   "execution_count": 1182,
   "metadata": {
    "colab": {
     "base_uri": "https://localhost:8080/"
    },
    "id": "uzuWmBxc6RBd",
    "outputId": "a3fe4fff-338e-4182-aaf9-f042db0e5fa8"
   },
   "outputs": [
    {
     "name": "stdout",
     "output_type": "stream",
     "text": [
      "<class 'pandas.core.frame.DataFrame'>\n",
      "Int64Index: 36325 entries, 0 to 46756\n",
      "Data columns (total 3 columns):\n",
      " #   Column              Non-Null Count  Dtype  \n",
      "---  ------              --------------  -----  \n",
      " 0   cust_number         36325 non-null  float64\n",
      " 1   total_open_amount   36325 non-null  float64\n",
      " 2   cust_payment_terms  36325 non-null  float64\n",
      "dtypes: float64(3)\n",
      "memory usage: 1.1 MB\n"
     ]
    }
   ],
   "source": [
    "x_train_new.info()"
   ]
  },
  {
   "cell_type": "code",
   "execution_count": 1183,
   "metadata": {
    "colab": {
     "base_uri": "https://localhost:8080/"
    },
    "id": "sofl_v3N6pui",
    "outputId": "132b2d43-d4d5-49c1-94cc-1bfe00c2e160"
   },
   "outputs": [
    {
     "data": {
      "text/plain": [
       "0"
      ]
     },
     "execution_count": 1183,
     "metadata": {
      "tags": []
     },
     "output_type": "execute_result"
    }
   ],
   "source": [
    "x_train_new['cust_number'].isnull().sum() "
   ]
  },
  {
   "cell_type": "code",
   "execution_count": 1184,
   "metadata": {
    "id": "7xoygv_-2zeX"
   },
   "outputs": [],
   "source": [
    "#test_data['due_in_date_month']=test_data['due_in_date'].dt.month\n",
    "val1['due_in_date_month']=val1['due_in_date'].dt.month\n",
    "val2['due_in_date_month']=val2['due_in_date'].dt.month\n",
    "\n",
    "\n",
    "#test_data['create_date.1_month']=test_data['document_create_date.1'].dt.month\n",
    "#val1['create_date.1_month']=val1['document_create_date.1'].dt.month\n",
    "#val2['create_date.1_month']=val2['document_create_date.1'].dt.month\n"
   ]
  },
  {
   "cell_type": "code",
   "execution_count": 1185,
   "metadata": {
    "id": "DEkGCaK4NomH"
   },
   "outputs": [],
   "source": [
    "####Model"
   ]
  },
  {
   "cell_type": "code",
   "execution_count": 1186,
   "metadata": {
    "id": "CSGIYR3cNrJN"
   },
   "outputs": [],
   "source": [
    "import warnings\n",
    "warnings.filterwarnings('ignore')\n",
    "# Modeling & Accuracy Metrics\n",
    "from sklearn.linear_model import LinearRegression\n",
    "from sklearn.svm import SVR\n",
    "from sklearn.tree import DecisionTreeRegressor\n",
    "from sklearn.ensemble import RandomForestRegressor\n",
    "import xgboost as xgb\n",
    "from sklearn.datasets import load_boston\n",
    "from sklearn.metrics import mean_squared_error\n",
    "from sklearn.metrics import r2_score\n"
   ]
  },
  {
   "cell_type": "code",
   "execution_count": 1187,
   "metadata": {
    "id": "Duy3OohD1qVL"
   },
   "outputs": [],
   "source": [
    "Algorithm=[]"
   ]
  },
  {
   "cell_type": "code",
   "execution_count": 1188,
   "metadata": {
    "id": "GI4hflsWN7_z"
   },
   "outputs": [],
   "source": [
    "# Fitting Simple Linear Regression to the Training Set\n",
    "#Algorithm.append('Linear Regression')\n",
    "#clf = LinearRegression()\n",
    "#clf.fit(x_train_new, y)"
   ]
  },
  {
   "cell_type": "code",
   "execution_count": 1189,
   "metadata": {
    "id": "QNgFlex9mOr2"
   },
   "outputs": [],
   "source": [
    "#predicted = clf.predict(x_train_new)"
   ]
  },
  {
   "cell_type": "code",
   "execution_count": 1190,
   "metadata": {
    "id": "xSjuyzbenCUR"
   },
   "outputs": [],
   "source": [
    "x_val1=val1.copy()\n",
    "x_val1=x_val1.drop(['target_delay'],axis=1)\n"
   ]
  },
  {
   "cell_type": "code",
   "execution_count": 1191,
   "metadata": {
    "id": "mEPxPqaDt00g"
   },
   "outputs": [],
   "source": [
    "x_val1_new=x_val1.drop(['clear_date','due_in_date','document_create_date','document_create_date.1','posting_date','baseline_create_date','due_in_date_month','name_customer','isOpen','business_code','buisness_year','doc_id','invoice_currency'],axis=1)"
   ]
  },
  {
   "cell_type": "code",
   "execution_count": 1192,
   "metadata": {
    "id": "CKpv81IfntG-"
   },
   "outputs": [],
   "source": [
    "y_val1=val1['target_delay']"
   ]
  },
  {
   "cell_type": "code",
   "execution_count": 1193,
   "metadata": {
    "id": "OQa_ZPPXye4f"
   },
   "outputs": [],
   "source": [
    "from sklearn.preprocessing import MinMaxScaler\n",
    "#scaler = MinMaxScaler() # create an instance\n",
    "#x_train_new_scaled = scaler.fit_transform(x_train_new) #  fit  the scaler to the train set and then transform it\n",
    "#x_val1_new_scaled = scaler.transform(x_val1_new) "
   ]
  },
  {
   "cell_type": "code",
   "execution_count": 1193,
   "metadata": {
    "id": "LjFE3MV06rxz"
   },
   "outputs": [],
   "source": []
  },
  {
   "cell_type": "code",
   "execution_count": 1194,
   "metadata": {
    "id": "MARo5aVQ54fT"
   },
   "outputs": [],
   "source": [
    "from sklearn.preprocessing import StandardScaler\n",
    "#scaler = StandardScaler()\n",
    "#x_train_new_scaled = scaler.fit_transform(x_train_new_scaled) #  fit  the scaler to the train set and then transform it\n",
    "#x_val1_new_scaled = scaler.transform(x_val1_new_scaled) "
   ]
  },
  {
   "cell_type": "code",
   "execution_count": 1195,
   "metadata": {
    "id": "YePkPqkh6S6T"
   },
   "outputs": [],
   "source": [
    "#Algorithm.append('Linear Regression')\n",
    "#clf = LinearRegression()\n",
    "#clf.fit(x_train_new_scaled, y)"
   ]
  },
  {
   "cell_type": "code",
   "execution_count": 1196,
   "metadata": {
    "id": "0mpRn5vl6lZr"
   },
   "outputs": [],
   "source": [
    "#predicted = clf.predict(x_train_new_scaled)"
   ]
  },
  {
   "cell_type": "code",
   "execution_count": 1197,
   "metadata": {
    "id": "QwqdGHff6udn"
   },
   "outputs": [],
   "source": [
    "#t1=mean_squared_error(y, predicted)\n",
    "#t2=r2_score(y, predicted)\n",
    "#t1,t2"
   ]
  },
  {
   "cell_type": "code",
   "execution_count": 1198,
   "metadata": {
    "id": "YRxMdmtN60mt"
   },
   "outputs": [],
   "source": [
    "#predicte = clf.predict(x_val1_new_scaled)\n",
    "#t1=mean_squared_error(y_val1, predicte)\n",
    "#t2=r2_score(y_val1, predicte)\n",
    "#t1,t2"
   ]
  },
  {
   "cell_type": "code",
   "execution_count": 1199,
   "metadata": {
    "id": "hCtDZdFc7VFV"
   },
   "outputs": [],
   "source": [
    "x_val2=val2.copy()\n",
    "x_val2=x_val2.drop(['target_delay'],axis=1)\n"
   ]
  },
  {
   "cell_type": "code",
   "execution_count": 1200,
   "metadata": {
    "id": "rvrKbPWf7y3S"
   },
   "outputs": [],
   "source": [
    "x_val2_new=x_val2.drop(['clear_date','due_in_date','document_create_date','document_create_date.1','posting_date','baseline_create_date','isOpen','business_code','due_in_date_month','name_customer','buisness_year','doc_id','invoice_currency'],axis=1)"
   ]
  },
  {
   "cell_type": "code",
   "execution_count": 1201,
   "metadata": {
    "id": "X_94GI8H8V1C"
   },
   "outputs": [],
   "source": [
    "y_val2=val2['target_delay']"
   ]
  },
  {
   "cell_type": "code",
   "execution_count": 1202,
   "metadata": {
    "id": "lcuf0mCJ8aes"
   },
   "outputs": [],
   "source": [
    "#x_val2_new_scaled = scaler.transform(x_val2_new)"
   ]
  },
  {
   "cell_type": "code",
   "execution_count": 1203,
   "metadata": {
    "id": "1iQulB988yDE"
   },
   "outputs": [],
   "source": [
    "#scaler = StandardScaler()\n",
    "#x_train_new_scaled = scaler.fit_transform(x_train_new_scaled) #  fit  the scaler to the train set and then transform it\n",
    "\n",
    "#x_val2_new_scaled = scaler.transform(x_val2_new_scaled) "
   ]
  },
  {
   "cell_type": "code",
   "execution_count": 1204,
   "metadata": {
    "id": "Ee8OuEh29Bvx"
   },
   "outputs": [],
   "source": [
    "#Algorithm.append('Linear Regression')\n",
    "#clf = LinearRegression()\n",
    "#clf.fit(x_train_new_scaled, y)"
   ]
  },
  {
   "cell_type": "code",
   "execution_count": 1205,
   "metadata": {
    "id": "IpBKhmqM9LlJ"
   },
   "outputs": [],
   "source": [
    "#predicted = clf.predict(x_train_new_scaled)"
   ]
  },
  {
   "cell_type": "code",
   "execution_count": 1206,
   "metadata": {
    "id": "Hsh42BLQ9L5V"
   },
   "outputs": [],
   "source": [
    "#t1=mean_squared_error(y, predicted)\n",
    "#t2=r2_score(y, predicted)\n",
    "#t1,t2"
   ]
  },
  {
   "cell_type": "code",
   "execution_count": 1207,
   "metadata": {
    "id": "y08iS9wl9Wja"
   },
   "outputs": [],
   "source": [
    "#predicte = clf.predict(x_val2_new_scaled)\n",
    "#t1=mean_squared_error(y_val2, predicte)\n",
    "#t2=r2_score(y_val2, predicte)\n",
    "#t1,t2"
   ]
  },
  {
   "cell_type": "code",
   "execution_count": 1208,
   "metadata": {
    "id": "K3cTMfBJ99Ss"
   },
   "outputs": [],
   "source": [
    "Algorithm.append('Decision Tree Regressor')\n",
    "clf = DecisionTreeRegressor()\n",
    "clf.fit(x_train_new, y)\n",
    "\n",
    "# Predicting the Test Set Results\n",
    "predicted = clf.predict(x_train_new)"
   ]
  },
  {
   "cell_type": "code",
   "execution_count": 1209,
   "metadata": {
    "colab": {
     "base_uri": "https://localhost:8080/"
    },
    "id": "VZnNNmae-P5Z",
    "outputId": "72fffbdc-8fae-4c96-e017-27680638b3a8"
   },
   "outputs": [
    {
     "data": {
      "text/plain": [
       "(0.24359725681003697, 0.9773614611902263)"
      ]
     },
     "execution_count": 1209,
     "metadata": {
      "tags": []
     },
     "output_type": "execute_result"
    }
   ],
   "source": [
    "t1=mean_squared_error(y, predicted)\n",
    "t2=r2_score(y, predicted)\n",
    "t1,t2"
   ]
  },
  {
   "cell_type": "code",
   "execution_count": 1210,
   "metadata": {
    "colab": {
     "base_uri": "https://localhost:8080/"
    },
    "id": "XItomDDH-ZFQ",
    "outputId": "9599ff6c-9715-4730-f7f3-48d2f5789d07"
   },
   "outputs": [
    {
     "data": {
      "text/plain": [
       "(58.14280400252948, 0.09731226576428831)"
      ]
     },
     "execution_count": 1210,
     "metadata": {
      "tags": []
     },
     "output_type": "execute_result"
    }
   ],
   "source": [
    "predicted = clf.predict(x_val1_new)\n",
    "t1=mean_squared_error(y_val1, predicted)\n",
    "t2=r2_score(y_val1, predicted)\n",
    "t1,t2"
   ]
  },
  {
   "cell_type": "code",
   "execution_count": 1211,
   "metadata": {
    "colab": {
     "base_uri": "https://localhost:8080/"
    },
    "id": "KpIu6bObJj3z",
    "outputId": "b05cfa70-bb90-4074-c624-84d9bc98c6aa"
   },
   "outputs": [
    {
     "data": {
      "text/plain": [
       "(103.42409778376759, 0.031011126398206135)"
      ]
     },
     "execution_count": 1211,
     "metadata": {
      "tags": []
     },
     "output_type": "execute_result"
    }
   ],
   "source": [
    "predicted = clf.predict(x_val2_new)\n",
    "t1=mean_squared_error(y_val2, predicted)\n",
    "t2=r2_score(y_val2, predicted)\n",
    "t1,t2"
   ]
  },
  {
   "cell_type": "code",
   "execution_count": 1212,
   "metadata": {
    "id": "ySA1adiSJ4bb"
   },
   "outputs": [],
   "source": [
    "Algorithm.append('Random Forest Regressor')\n",
    "clf = RandomForestRegressor()\n",
    "clf.fit(x_train_new, y)\n",
    "\n",
    "# Predicting the Test Set Results\n",
    "predicted = clf.predict(x_train_new)"
   ]
  },
  {
   "cell_type": "code",
   "execution_count": 1213,
   "metadata": {
    "colab": {
     "base_uri": "https://localhost:8080/"
    },
    "id": "r8zsa0ABKJaU",
    "outputId": "6fd75f0f-4df2-45a2-e582-26d9f4e5062c"
   },
   "outputs": [
    {
     "data": {
      "text/plain": [
       "(1.1174388242773556, 0.8961516130262575)"
      ]
     },
     "execution_count": 1213,
     "metadata": {
      "tags": []
     },
     "output_type": "execute_result"
    }
   ],
   "source": [
    "t1=mean_squared_error(y, predicted)\n",
    "t2=r2_score(y, predicted)\n",
    "t1,t2"
   ]
  },
  {
   "cell_type": "code",
   "execution_count": 1214,
   "metadata": {
    "colab": {
     "base_uri": "https://localhost:8080/"
    },
    "id": "Cb_jA2kXKXCS",
    "outputId": "1c36e335-a1d3-497a-e774-fc44ad05afb3"
   },
   "outputs": [
    {
     "data": {
      "text/plain": [
       "(54.77265989597238, 0.14963495297874585)"
      ]
     },
     "execution_count": 1214,
     "metadata": {
      "tags": []
     },
     "output_type": "execute_result"
    }
   ],
   "source": [
    "predicted = clf.predict(x_val1_new)\n",
    "t1=mean_squared_error(y_val1, predicted)\n",
    "t2=r2_score(y_val1, predicted)\n",
    "t1,t2"
   ]
  },
  {
   "cell_type": "code",
   "execution_count": 1215,
   "metadata": {
    "colab": {
     "base_uri": "https://localhost:8080/"
    },
    "id": "gUy-x3rHKbit",
    "outputId": "86123b42-2f1b-4a31-84c0-8c35fd18e878"
   },
   "outputs": [
    {
     "data": {
      "text/plain": [
       "(100.23294564752705, 0.06090929307549864)"
      ]
     },
     "execution_count": 1215,
     "metadata": {
      "tags": []
     },
     "output_type": "execute_result"
    }
   ],
   "source": [
    "predicted = clf.predict(x_val2_new)\n",
    "t2=r2_score(y_val2, predicted)\n",
    "t1=mean_squared_error(y_val2, predicted)\n",
    "t1,t2"
   ]
  },
  {
   "cell_type": "code",
   "execution_count": 1216,
   "metadata": {
    "id": "2KQD1rT6ePtl"
   },
   "outputs": [],
   "source": [
    "x_test=test_data.copy()\n",
    "\n",
    "x_test=x_test.drop(['clear_date','due_in_date','document_create_date','name_customer','document_create_date.1','posting_date','baseline_create_date','isOpen','business_code','buisness_year','doc_id','invoice_currency'],axis=1)"
   ]
  },
  {
   "cell_type": "code",
   "execution_count": 1217,
   "metadata": {
    "colab": {
     "base_uri": "https://localhost:8080/",
     "height": 415
    },
    "id": "erxGElmef3Ye",
    "outputId": "20458aa0-5549-455a-d5f2-c2fa9d962d8e"
   },
   "outputs": [
    {
     "data": {
      "text/html": [
       "<div>\n",
       "<style scoped>\n",
       "    .dataframe tbody tr th:only-of-type {\n",
       "        vertical-align: middle;\n",
       "    }\n",
       "\n",
       "    .dataframe tbody tr th {\n",
       "        vertical-align: top;\n",
       "    }\n",
       "\n",
       "    .dataframe thead th {\n",
       "        text-align: right;\n",
       "    }\n",
       "</style>\n",
       "<table border=\"1\" class=\"dataframe\">\n",
       "  <thead>\n",
       "    <tr style=\"text-align: right;\">\n",
       "      <th></th>\n",
       "      <th>cust_number</th>\n",
       "      <th>total_open_amount</th>\n",
       "      <th>cust_payment_terms</th>\n",
       "    </tr>\n",
       "  </thead>\n",
       "  <tbody>\n",
       "    <tr>\n",
       "      <th>0</th>\n",
       "      <td>2.321580</td>\n",
       "      <td>37738.73</td>\n",
       "      <td>1.387441</td>\n",
       "    </tr>\n",
       "    <tr>\n",
       "      <th>1</th>\n",
       "      <td>2.321580</td>\n",
       "      <td>42001.99</td>\n",
       "      <td>1.387441</td>\n",
       "    </tr>\n",
       "    <tr>\n",
       "      <th>2</th>\n",
       "      <td>1.455285</td>\n",
       "      <td>137220.67</td>\n",
       "      <td>1.387441</td>\n",
       "    </tr>\n",
       "    <tr>\n",
       "      <th>3</th>\n",
       "      <td>-2.306052</td>\n",
       "      <td>45754.77</td>\n",
       "      <td>-1.904635</td>\n",
       "    </tr>\n",
       "    <tr>\n",
       "      <th>4</th>\n",
       "      <td>-2.306052</td>\n",
       "      <td>6223.23</td>\n",
       "      <td>-1.904635</td>\n",
       "    </tr>\n",
       "    <tr>\n",
       "      <th>...</th>\n",
       "      <td>...</td>\n",
       "      <td>...</td>\n",
       "      <td>...</td>\n",
       "    </tr>\n",
       "    <tr>\n",
       "      <th>3233</th>\n",
       "      <td>2.321580</td>\n",
       "      <td>40758.07</td>\n",
       "      <td>1.387441</td>\n",
       "    </tr>\n",
       "    <tr>\n",
       "      <th>3234</th>\n",
       "      <td>-2.306052</td>\n",
       "      <td>14981.09</td>\n",
       "      <td>-1.904635</td>\n",
       "    </tr>\n",
       "    <tr>\n",
       "      <th>3235</th>\n",
       "      <td>2.321580</td>\n",
       "      <td>14514.31</td>\n",
       "      <td>0.561391</td>\n",
       "    </tr>\n",
       "    <tr>\n",
       "      <th>3236</th>\n",
       "      <td>2.321580</td>\n",
       "      <td>40345.38</td>\n",
       "      <td>1.387441</td>\n",
       "    </tr>\n",
       "    <tr>\n",
       "      <th>3237</th>\n",
       "      <td>1.081238</td>\n",
       "      <td>46054.86</td>\n",
       "      <td>-1.904635</td>\n",
       "    </tr>\n",
       "  </tbody>\n",
       "</table>\n",
       "<p>3238 rows × 3 columns</p>\n",
       "</div>"
      ],
      "text/plain": [
       "      cust_number  total_open_amount  cust_payment_terms\n",
       "0        2.321580           37738.73            1.387441\n",
       "1        2.321580           42001.99            1.387441\n",
       "2        1.455285          137220.67            1.387441\n",
       "3       -2.306052           45754.77           -1.904635\n",
       "4       -2.306052            6223.23           -1.904635\n",
       "...           ...                ...                 ...\n",
       "3233     2.321580           40758.07            1.387441\n",
       "3234    -2.306052           14981.09           -1.904635\n",
       "3235     2.321580           14514.31            0.561391\n",
       "3236     2.321580           40345.38            1.387441\n",
       "3237     1.081238           46054.86           -1.904635\n",
       "\n",
       "[3238 rows x 3 columns]"
      ]
     },
     "execution_count": 1217,
     "metadata": {
      "tags": []
     },
     "output_type": "execute_result"
    }
   ],
   "source": [
    "x_test"
   ]
  },
  {
   "cell_type": "code",
   "execution_count": 1218,
   "metadata": {
    "colab": {
     "base_uri": "https://localhost:8080/"
    },
    "id": "2EFCJB9vf_wx",
    "outputId": "48a6fdf1-352f-4e29-b366-a5038a01c63b"
   },
   "outputs": [
    {
     "data": {
      "text/plain": [
       "array([1.03, 1.03, 0.95, ..., 0.23, 1.03, 0.03])"
      ]
     },
     "execution_count": 1218,
     "metadata": {
      "tags": []
     },
     "output_type": "execute_result"
    }
   ],
   "source": [
    "predicted = clf.predict(x_test)\n",
    "predicted"
   ]
  },
  {
   "cell_type": "code",
   "execution_count": 1219,
   "metadata": {
    "colab": {
     "base_uri": "https://localhost:8080/",
     "height": 435
    },
    "id": "tMFfy74kCqlj",
    "outputId": "287865d0-fc8d-415a-8cc1-63db0af44161"
   },
   "outputs": [
    {
     "data": {
      "text/html": [
       "<div>\n",
       "<style scoped>\n",
       "    .dataframe tbody tr th:only-of-type {\n",
       "        vertical-align: middle;\n",
       "    }\n",
       "\n",
       "    .dataframe tbody tr th {\n",
       "        vertical-align: top;\n",
       "    }\n",
       "\n",
       "    .dataframe thead th {\n",
       "        text-align: right;\n",
       "    }\n",
       "</style>\n",
       "<table border=\"1\" class=\"dataframe\">\n",
       "  <thead>\n",
       "    <tr style=\"text-align: right;\">\n",
       "      <th></th>\n",
       "      <th>business_code</th>\n",
       "      <th>cust_number</th>\n",
       "      <th>name_customer</th>\n",
       "      <th>clear_date</th>\n",
       "      <th>buisness_year</th>\n",
       "      <th>doc_id</th>\n",
       "      <th>posting_date</th>\n",
       "      <th>document_create_date</th>\n",
       "      <th>document_create_date.1</th>\n",
       "      <th>due_in_date</th>\n",
       "      <th>invoice_currency</th>\n",
       "      <th>total_open_amount</th>\n",
       "      <th>baseline_create_date</th>\n",
       "      <th>cust_payment_terms</th>\n",
       "      <th>isOpen</th>\n",
       "      <th>delay</th>\n",
       "    </tr>\n",
       "  </thead>\n",
       "  <tbody>\n",
       "    <tr>\n",
       "      <th>0</th>\n",
       "      <td>1</td>\n",
       "      <td>2.321580</td>\n",
       "      <td>2.171247</td>\n",
       "      <td>NaT</td>\n",
       "      <td>2020</td>\n",
       "      <td>1.93074e+09</td>\n",
       "      <td>2020-04-07</td>\n",
       "      <td>2020-04-03</td>\n",
       "      <td>2020-04-07</td>\n",
       "      <td>2020-04-22</td>\n",
       "      <td>0.610766</td>\n",
       "      <td>37738.73</td>\n",
       "      <td>2020-04-07</td>\n",
       "      <td>1.387441</td>\n",
       "      <td>1</td>\n",
       "      <td>1.030</td>\n",
       "    </tr>\n",
       "    <tr>\n",
       "      <th>1</th>\n",
       "      <td>1</td>\n",
       "      <td>2.321580</td>\n",
       "      <td>1.859155</td>\n",
       "      <td>NaT</td>\n",
       "      <td>2020</td>\n",
       "      <td>1.93085e+09</td>\n",
       "      <td>2020-05-02</td>\n",
       "      <td>2020-05-02</td>\n",
       "      <td>2020-05-02</td>\n",
       "      <td>2020-05-17</td>\n",
       "      <td>0.610766</td>\n",
       "      <td>42001.99</td>\n",
       "      <td>2020-05-02</td>\n",
       "      <td>1.387441</td>\n",
       "      <td>1</td>\n",
       "      <td>1.030</td>\n",
       "    </tr>\n",
       "    <tr>\n",
       "      <th>2</th>\n",
       "      <td>1</td>\n",
       "      <td>1.455285</td>\n",
       "      <td>1.404255</td>\n",
       "      <td>NaT</td>\n",
       "      <td>2020</td>\n",
       "      <td>1.93072e+09</td>\n",
       "      <td>2020-03-31</td>\n",
       "      <td>2020-03-31</td>\n",
       "      <td>2020-03-31</td>\n",
       "      <td>2020-04-15</td>\n",
       "      <td>0.610766</td>\n",
       "      <td>137220.67</td>\n",
       "      <td>2020-03-31</td>\n",
       "      <td>1.387441</td>\n",
       "      <td>1</td>\n",
       "      <td>0.950</td>\n",
       "    </tr>\n",
       "    <tr>\n",
       "      <th>3</th>\n",
       "      <td>1</td>\n",
       "      <td>-2.306052</td>\n",
       "      <td>-2.290653</td>\n",
       "      <td>NaT</td>\n",
       "      <td>2020</td>\n",
       "      <td>1.93081e+09</td>\n",
       "      <td>2020-04-22</td>\n",
       "      <td>2020-04-22</td>\n",
       "      <td>2020-04-22</td>\n",
       "      <td>2020-05-07</td>\n",
       "      <td>0.610766</td>\n",
       "      <td>45754.77</td>\n",
       "      <td>2020-04-22</td>\n",
       "      <td>-1.904635</td>\n",
       "      <td>1</td>\n",
       "      <td>-1.859</td>\n",
       "    </tr>\n",
       "    <tr>\n",
       "      <th>4</th>\n",
       "      <td>1</td>\n",
       "      <td>-2.306052</td>\n",
       "      <td>-2.619156</td>\n",
       "      <td>NaT</td>\n",
       "      <td>2020</td>\n",
       "      <td>1.93068e+09</td>\n",
       "      <td>2020-03-22</td>\n",
       "      <td>2020-03-20</td>\n",
       "      <td>2020-03-22</td>\n",
       "      <td>2020-04-06</td>\n",
       "      <td>0.610766</td>\n",
       "      <td>6223.23</td>\n",
       "      <td>2020-03-22</td>\n",
       "      <td>-1.904635</td>\n",
       "      <td>1</td>\n",
       "      <td>-1.859</td>\n",
       "    </tr>\n",
       "    <tr>\n",
       "      <th>...</th>\n",
       "      <td>...</td>\n",
       "      <td>...</td>\n",
       "      <td>...</td>\n",
       "      <td>...</td>\n",
       "      <td>...</td>\n",
       "      <td>...</td>\n",
       "      <td>...</td>\n",
       "      <td>...</td>\n",
       "      <td>...</td>\n",
       "      <td>...</td>\n",
       "      <td>...</td>\n",
       "      <td>...</td>\n",
       "      <td>...</td>\n",
       "      <td>...</td>\n",
       "      <td>...</td>\n",
       "      <td>...</td>\n",
       "    </tr>\n",
       "    <tr>\n",
       "      <th>3233</th>\n",
       "      <td>1</td>\n",
       "      <td>2.321580</td>\n",
       "      <td>2.171247</td>\n",
       "      <td>NaT</td>\n",
       "      <td>2020</td>\n",
       "      <td>1.93057e+09</td>\n",
       "      <td>2020-03-04</td>\n",
       "      <td>2020-03-02</td>\n",
       "      <td>2020-03-04</td>\n",
       "      <td>2020-03-19</td>\n",
       "      <td>0.610766</td>\n",
       "      <td>40758.07</td>\n",
       "      <td>2020-03-04</td>\n",
       "      <td>1.387441</td>\n",
       "      <td>1</td>\n",
       "      <td>1.030</td>\n",
       "    </tr>\n",
       "    <tr>\n",
       "      <th>3234</th>\n",
       "      <td>1</td>\n",
       "      <td>-2.306052</td>\n",
       "      <td>-2.287234</td>\n",
       "      <td>NaT</td>\n",
       "      <td>2020</td>\n",
       "      <td>1.93064e+09</td>\n",
       "      <td>2020-03-13</td>\n",
       "      <td>2020-03-11</td>\n",
       "      <td>2020-03-13</td>\n",
       "      <td>2020-03-28</td>\n",
       "      <td>0.610766</td>\n",
       "      <td>14981.09</td>\n",
       "      <td>2020-03-13</td>\n",
       "      <td>-1.904635</td>\n",
       "      <td>1</td>\n",
       "      <td>-1.859</td>\n",
       "    </tr>\n",
       "    <tr>\n",
       "      <th>3235</th>\n",
       "      <td>1</td>\n",
       "      <td>2.321580</td>\n",
       "      <td>2.171247</td>\n",
       "      <td>NaT</td>\n",
       "      <td>2020</td>\n",
       "      <td>1.93086e+09</td>\n",
       "      <td>2020-05-05</td>\n",
       "      <td>2020-05-05</td>\n",
       "      <td>2020-05-05</td>\n",
       "      <td>2020-05-20</td>\n",
       "      <td>0.610766</td>\n",
       "      <td>14514.31</td>\n",
       "      <td>2020-05-05</td>\n",
       "      <td>0.561391</td>\n",
       "      <td>1</td>\n",
       "      <td>0.230</td>\n",
       "    </tr>\n",
       "    <tr>\n",
       "      <th>3236</th>\n",
       "      <td>1</td>\n",
       "      <td>2.321580</td>\n",
       "      <td>2.312500</td>\n",
       "      <td>NaT</td>\n",
       "      <td>2020</td>\n",
       "      <td>1.9308e+09</td>\n",
       "      <td>2020-04-21</td>\n",
       "      <td>2020-04-20</td>\n",
       "      <td>2020-04-21</td>\n",
       "      <td>2020-05-06</td>\n",
       "      <td>0.610766</td>\n",
       "      <td>40345.38</td>\n",
       "      <td>2020-04-21</td>\n",
       "      <td>1.387441</td>\n",
       "      <td>1</td>\n",
       "      <td>1.030</td>\n",
       "    </tr>\n",
       "    <tr>\n",
       "      <th>3237</th>\n",
       "      <td>1</td>\n",
       "      <td>1.081238</td>\n",
       "      <td>0.382979</td>\n",
       "      <td>NaT</td>\n",
       "      <td>2020</td>\n",
       "      <td>1.93059e+09</td>\n",
       "      <td>2020-03-03</td>\n",
       "      <td>2020-03-03</td>\n",
       "      <td>2020-03-03</td>\n",
       "      <td>2020-03-18</td>\n",
       "      <td>0.610766</td>\n",
       "      <td>46054.86</td>\n",
       "      <td>2020-03-03</td>\n",
       "      <td>-1.904635</td>\n",
       "      <td>1</td>\n",
       "      <td>0.030</td>\n",
       "    </tr>\n",
       "  </tbody>\n",
       "</table>\n",
       "<p>3238 rows × 16 columns</p>\n",
       "</div>"
      ],
      "text/plain": [
       "      business_code  cust_number  ...  isOpen  delay\n",
       "0                 1     2.321580  ...       1  1.030\n",
       "1                 1     2.321580  ...       1  1.030\n",
       "2                 1     1.455285  ...       1  0.950\n",
       "3                 1    -2.306052  ...       1 -1.859\n",
       "4                 1    -2.306052  ...       1 -1.859\n",
       "...             ...          ...  ...     ...    ...\n",
       "3233              1     2.321580  ...       1  1.030\n",
       "3234              1    -2.306052  ...       1 -1.859\n",
       "3235              1     2.321580  ...       1  0.230\n",
       "3236              1     2.321580  ...       1  1.030\n",
       "3237              1     1.081238  ...       1  0.030\n",
       "\n",
       "[3238 rows x 16 columns]"
      ]
     },
     "execution_count": 1219,
     "metadata": {
      "tags": []
     },
     "output_type": "execute_result"
    }
   ],
   "source": [
    "test_data['delay']=predicted\n",
    "test_data"
   ]
  },
  {
   "cell_type": "code",
   "execution_count": 1220,
   "metadata": {
    "colab": {
     "base_uri": "https://localhost:8080/"
    },
    "id": "vrg_PRLUDWTx",
    "outputId": "7b15da4b-39d5-4a29-fa1d-1d9639b7a83e"
   },
   "outputs": [
    {
     "data": {
      "text/plain": [
       "dtype('float64')"
      ]
     },
     "execution_count": 1220,
     "metadata": {
      "tags": []
     },
     "output_type": "execute_result"
    }
   ],
   "source": [
    "\n",
    "test_data['delay'].dtype"
   ]
  },
  {
   "cell_type": "code",
   "execution_count": 1221,
   "metadata": {
    "colab": {
     "base_uri": "https://localhost:8080/",
     "height": 435
    },
    "id": "YvQu7reWEdJE",
    "outputId": "8f66e1e2-c4e1-4c6c-d149-dd973240db0f"
   },
   "outputs": [
    {
     "data": {
      "text/html": [
       "<div>\n",
       "<style scoped>\n",
       "    .dataframe tbody tr th:only-of-type {\n",
       "        vertical-align: middle;\n",
       "    }\n",
       "\n",
       "    .dataframe tbody tr th {\n",
       "        vertical-align: top;\n",
       "    }\n",
       "\n",
       "    .dataframe thead th {\n",
       "        text-align: right;\n",
       "    }\n",
       "</style>\n",
       "<table border=\"1\" class=\"dataframe\">\n",
       "  <thead>\n",
       "    <tr style=\"text-align: right;\">\n",
       "      <th></th>\n",
       "      <th>business_code</th>\n",
       "      <th>cust_number</th>\n",
       "      <th>name_customer</th>\n",
       "      <th>clear_date</th>\n",
       "      <th>buisness_year</th>\n",
       "      <th>doc_id</th>\n",
       "      <th>posting_date</th>\n",
       "      <th>document_create_date</th>\n",
       "      <th>document_create_date.1</th>\n",
       "      <th>due_in_date</th>\n",
       "      <th>invoice_currency</th>\n",
       "      <th>total_open_amount</th>\n",
       "      <th>baseline_create_date</th>\n",
       "      <th>cust_payment_terms</th>\n",
       "      <th>isOpen</th>\n",
       "      <th>delay</th>\n",
       "    </tr>\n",
       "  </thead>\n",
       "  <tbody>\n",
       "    <tr>\n",
       "      <th>0</th>\n",
       "      <td>1</td>\n",
       "      <td>2.321580</td>\n",
       "      <td>2.171247</td>\n",
       "      <td>NaT</td>\n",
       "      <td>2020</td>\n",
       "      <td>1.93074e+09</td>\n",
       "      <td>2020-04-07</td>\n",
       "      <td>2020-04-03</td>\n",
       "      <td>2020-04-07</td>\n",
       "      <td>2020-04-22</td>\n",
       "      <td>0.610766</td>\n",
       "      <td>37738.73</td>\n",
       "      <td>2020-04-07</td>\n",
       "      <td>1.387441</td>\n",
       "      <td>1</td>\n",
       "      <td>2.0</td>\n",
       "    </tr>\n",
       "    <tr>\n",
       "      <th>1</th>\n",
       "      <td>1</td>\n",
       "      <td>2.321580</td>\n",
       "      <td>1.859155</td>\n",
       "      <td>NaT</td>\n",
       "      <td>2020</td>\n",
       "      <td>1.93085e+09</td>\n",
       "      <td>2020-05-02</td>\n",
       "      <td>2020-05-02</td>\n",
       "      <td>2020-05-02</td>\n",
       "      <td>2020-05-17</td>\n",
       "      <td>0.610766</td>\n",
       "      <td>42001.99</td>\n",
       "      <td>2020-05-02</td>\n",
       "      <td>1.387441</td>\n",
       "      <td>1</td>\n",
       "      <td>2.0</td>\n",
       "    </tr>\n",
       "    <tr>\n",
       "      <th>2</th>\n",
       "      <td>1</td>\n",
       "      <td>1.455285</td>\n",
       "      <td>1.404255</td>\n",
       "      <td>NaT</td>\n",
       "      <td>2020</td>\n",
       "      <td>1.93072e+09</td>\n",
       "      <td>2020-03-31</td>\n",
       "      <td>2020-03-31</td>\n",
       "      <td>2020-03-31</td>\n",
       "      <td>2020-04-15</td>\n",
       "      <td>0.610766</td>\n",
       "      <td>137220.67</td>\n",
       "      <td>2020-03-31</td>\n",
       "      <td>1.387441</td>\n",
       "      <td>1</td>\n",
       "      <td>1.0</td>\n",
       "    </tr>\n",
       "    <tr>\n",
       "      <th>3</th>\n",
       "      <td>1</td>\n",
       "      <td>-2.306052</td>\n",
       "      <td>-2.290653</td>\n",
       "      <td>NaT</td>\n",
       "      <td>2020</td>\n",
       "      <td>1.93081e+09</td>\n",
       "      <td>2020-04-22</td>\n",
       "      <td>2020-04-22</td>\n",
       "      <td>2020-04-22</td>\n",
       "      <td>2020-05-07</td>\n",
       "      <td>0.610766</td>\n",
       "      <td>45754.77</td>\n",
       "      <td>2020-04-22</td>\n",
       "      <td>-1.904635</td>\n",
       "      <td>1</td>\n",
       "      <td>-1.0</td>\n",
       "    </tr>\n",
       "    <tr>\n",
       "      <th>4</th>\n",
       "      <td>1</td>\n",
       "      <td>-2.306052</td>\n",
       "      <td>-2.619156</td>\n",
       "      <td>NaT</td>\n",
       "      <td>2020</td>\n",
       "      <td>1.93068e+09</td>\n",
       "      <td>2020-03-22</td>\n",
       "      <td>2020-03-20</td>\n",
       "      <td>2020-03-22</td>\n",
       "      <td>2020-04-06</td>\n",
       "      <td>0.610766</td>\n",
       "      <td>6223.23</td>\n",
       "      <td>2020-03-22</td>\n",
       "      <td>-1.904635</td>\n",
       "      <td>1</td>\n",
       "      <td>-1.0</td>\n",
       "    </tr>\n",
       "    <tr>\n",
       "      <th>...</th>\n",
       "      <td>...</td>\n",
       "      <td>...</td>\n",
       "      <td>...</td>\n",
       "      <td>...</td>\n",
       "      <td>...</td>\n",
       "      <td>...</td>\n",
       "      <td>...</td>\n",
       "      <td>...</td>\n",
       "      <td>...</td>\n",
       "      <td>...</td>\n",
       "      <td>...</td>\n",
       "      <td>...</td>\n",
       "      <td>...</td>\n",
       "      <td>...</td>\n",
       "      <td>...</td>\n",
       "      <td>...</td>\n",
       "    </tr>\n",
       "    <tr>\n",
       "      <th>3233</th>\n",
       "      <td>1</td>\n",
       "      <td>2.321580</td>\n",
       "      <td>2.171247</td>\n",
       "      <td>NaT</td>\n",
       "      <td>2020</td>\n",
       "      <td>1.93057e+09</td>\n",
       "      <td>2020-03-04</td>\n",
       "      <td>2020-03-02</td>\n",
       "      <td>2020-03-04</td>\n",
       "      <td>2020-03-19</td>\n",
       "      <td>0.610766</td>\n",
       "      <td>40758.07</td>\n",
       "      <td>2020-03-04</td>\n",
       "      <td>1.387441</td>\n",
       "      <td>1</td>\n",
       "      <td>2.0</td>\n",
       "    </tr>\n",
       "    <tr>\n",
       "      <th>3234</th>\n",
       "      <td>1</td>\n",
       "      <td>-2.306052</td>\n",
       "      <td>-2.287234</td>\n",
       "      <td>NaT</td>\n",
       "      <td>2020</td>\n",
       "      <td>1.93064e+09</td>\n",
       "      <td>2020-03-13</td>\n",
       "      <td>2020-03-11</td>\n",
       "      <td>2020-03-13</td>\n",
       "      <td>2020-03-28</td>\n",
       "      <td>0.610766</td>\n",
       "      <td>14981.09</td>\n",
       "      <td>2020-03-13</td>\n",
       "      <td>-1.904635</td>\n",
       "      <td>1</td>\n",
       "      <td>-1.0</td>\n",
       "    </tr>\n",
       "    <tr>\n",
       "      <th>3235</th>\n",
       "      <td>1</td>\n",
       "      <td>2.321580</td>\n",
       "      <td>2.171247</td>\n",
       "      <td>NaT</td>\n",
       "      <td>2020</td>\n",
       "      <td>1.93086e+09</td>\n",
       "      <td>2020-05-05</td>\n",
       "      <td>2020-05-05</td>\n",
       "      <td>2020-05-05</td>\n",
       "      <td>2020-05-20</td>\n",
       "      <td>0.610766</td>\n",
       "      <td>14514.31</td>\n",
       "      <td>2020-05-05</td>\n",
       "      <td>0.561391</td>\n",
       "      <td>1</td>\n",
       "      <td>1.0</td>\n",
       "    </tr>\n",
       "    <tr>\n",
       "      <th>3236</th>\n",
       "      <td>1</td>\n",
       "      <td>2.321580</td>\n",
       "      <td>2.312500</td>\n",
       "      <td>NaT</td>\n",
       "      <td>2020</td>\n",
       "      <td>1.9308e+09</td>\n",
       "      <td>2020-04-21</td>\n",
       "      <td>2020-04-20</td>\n",
       "      <td>2020-04-21</td>\n",
       "      <td>2020-05-06</td>\n",
       "      <td>0.610766</td>\n",
       "      <td>40345.38</td>\n",
       "      <td>2020-04-21</td>\n",
       "      <td>1.387441</td>\n",
       "      <td>1</td>\n",
       "      <td>2.0</td>\n",
       "    </tr>\n",
       "    <tr>\n",
       "      <th>3237</th>\n",
       "      <td>1</td>\n",
       "      <td>1.081238</td>\n",
       "      <td>0.382979</td>\n",
       "      <td>NaT</td>\n",
       "      <td>2020</td>\n",
       "      <td>1.93059e+09</td>\n",
       "      <td>2020-03-03</td>\n",
       "      <td>2020-03-03</td>\n",
       "      <td>2020-03-03</td>\n",
       "      <td>2020-03-18</td>\n",
       "      <td>0.610766</td>\n",
       "      <td>46054.86</td>\n",
       "      <td>2020-03-03</td>\n",
       "      <td>-1.904635</td>\n",
       "      <td>1</td>\n",
       "      <td>1.0</td>\n",
       "    </tr>\n",
       "  </tbody>\n",
       "</table>\n",
       "<p>3238 rows × 16 columns</p>\n",
       "</div>"
      ],
      "text/plain": [
       "      business_code  cust_number  ...  isOpen delay\n",
       "0                 1     2.321580  ...       1   2.0\n",
       "1                 1     2.321580  ...       1   2.0\n",
       "2                 1     1.455285  ...       1   1.0\n",
       "3                 1    -2.306052  ...       1  -1.0\n",
       "4                 1    -2.306052  ...       1  -1.0\n",
       "...             ...          ...  ...     ...   ...\n",
       "3233              1     2.321580  ...       1   2.0\n",
       "3234              1    -2.306052  ...       1  -1.0\n",
       "3235              1     2.321580  ...       1   1.0\n",
       "3236              1     2.321580  ...       1   2.0\n",
       "3237              1     1.081238  ...       1   1.0\n",
       "\n",
       "[3238 rows x 16 columns]"
      ]
     },
     "execution_count": 1221,
     "metadata": {
      "tags": []
     },
     "output_type": "execute_result"
    }
   ],
   "source": [
    "test_data['delay'] = test_data['delay'].apply(np.ceil) \n",
    "test_data             ### convert delay value to ceil\n"
   ]
  },
  {
   "cell_type": "code",
   "execution_count": 1222,
   "metadata": {
    "id": "NIcuEvy82hr6"
   },
   "outputs": [],
   "source": [
    "bucket=[]\n",
    "for i in test_data['delay']:\n",
    "  if (i<=15): \n",
    "    bucket.append(\"0-15 days\")\n",
    "  elif (i>=16 & i<=30):\n",
    "    bucket.append(\"16-30 days\")\n",
    "  elif (i>=31 & i<=45):\n",
    "    bucket.append(\"31-45 days\")\n",
    "  elif (i>=46 & i<=60):\n",
    "    bucket.append(\"46-60 days\")  \n",
    "  else:\n",
    "    bucket.append(\"Greater than days\")   \n",
    "\n",
    "\n",
    "test_data['Aging Bucket']=bucket\n"
   ]
  },
  {
   "cell_type": "code",
   "execution_count": 1223,
   "metadata": {
    "colab": {
     "base_uri": "https://localhost:8080/",
     "height": 626
    },
    "id": "tUfZwtrWsmSK",
    "outputId": "fb7e3c9d-e313-4dde-f44d-68a9f6377c60"
   },
   "outputs": [
    {
     "data": {
      "text/html": [
       "<div>\n",
       "<style scoped>\n",
       "    .dataframe tbody tr th:only-of-type {\n",
       "        vertical-align: middle;\n",
       "    }\n",
       "\n",
       "    .dataframe tbody tr th {\n",
       "        vertical-align: top;\n",
       "    }\n",
       "\n",
       "    .dataframe thead th {\n",
       "        text-align: right;\n",
       "    }\n",
       "</style>\n",
       "<table border=\"1\" class=\"dataframe\">\n",
       "  <thead>\n",
       "    <tr style=\"text-align: right;\">\n",
       "      <th></th>\n",
       "      <th>business_code</th>\n",
       "      <th>cust_number</th>\n",
       "      <th>name_customer</th>\n",
       "      <th>clear_date</th>\n",
       "      <th>buisness_year</th>\n",
       "      <th>doc_id</th>\n",
       "      <th>posting_date</th>\n",
       "      <th>document_create_date</th>\n",
       "      <th>document_create_date.1</th>\n",
       "      <th>due_in_date</th>\n",
       "      <th>invoice_currency</th>\n",
       "      <th>total_open_amount</th>\n",
       "      <th>baseline_create_date</th>\n",
       "      <th>cust_payment_terms</th>\n",
       "      <th>isOpen</th>\n",
       "      <th>delay</th>\n",
       "      <th>Aging Bucket</th>\n",
       "    </tr>\n",
       "  </thead>\n",
       "  <tbody>\n",
       "    <tr>\n",
       "      <th>0</th>\n",
       "      <td>1</td>\n",
       "      <td>2.321580</td>\n",
       "      <td>2.171247</td>\n",
       "      <td>NaT</td>\n",
       "      <td>2020</td>\n",
       "      <td>1.93074e+09</td>\n",
       "      <td>2020-04-07</td>\n",
       "      <td>2020-04-03</td>\n",
       "      <td>2020-04-07</td>\n",
       "      <td>2020-04-22</td>\n",
       "      <td>0.610766</td>\n",
       "      <td>37738.73</td>\n",
       "      <td>2020-04-07</td>\n",
       "      <td>1.387441</td>\n",
       "      <td>1</td>\n",
       "      <td>2 days</td>\n",
       "      <td>0-15 days</td>\n",
       "    </tr>\n",
       "    <tr>\n",
       "      <th>1</th>\n",
       "      <td>1</td>\n",
       "      <td>2.321580</td>\n",
       "      <td>1.859155</td>\n",
       "      <td>NaT</td>\n",
       "      <td>2020</td>\n",
       "      <td>1.93085e+09</td>\n",
       "      <td>2020-05-02</td>\n",
       "      <td>2020-05-02</td>\n",
       "      <td>2020-05-02</td>\n",
       "      <td>2020-05-17</td>\n",
       "      <td>0.610766</td>\n",
       "      <td>42001.99</td>\n",
       "      <td>2020-05-02</td>\n",
       "      <td>1.387441</td>\n",
       "      <td>1</td>\n",
       "      <td>2 days</td>\n",
       "      <td>0-15 days</td>\n",
       "    </tr>\n",
       "    <tr>\n",
       "      <th>2</th>\n",
       "      <td>1</td>\n",
       "      <td>1.455285</td>\n",
       "      <td>1.404255</td>\n",
       "      <td>NaT</td>\n",
       "      <td>2020</td>\n",
       "      <td>1.93072e+09</td>\n",
       "      <td>2020-03-31</td>\n",
       "      <td>2020-03-31</td>\n",
       "      <td>2020-03-31</td>\n",
       "      <td>2020-04-15</td>\n",
       "      <td>0.610766</td>\n",
       "      <td>137220.67</td>\n",
       "      <td>2020-03-31</td>\n",
       "      <td>1.387441</td>\n",
       "      <td>1</td>\n",
       "      <td>1 days</td>\n",
       "      <td>0-15 days</td>\n",
       "    </tr>\n",
       "    <tr>\n",
       "      <th>3</th>\n",
       "      <td>1</td>\n",
       "      <td>-2.306052</td>\n",
       "      <td>-2.290653</td>\n",
       "      <td>NaT</td>\n",
       "      <td>2020</td>\n",
       "      <td>1.93081e+09</td>\n",
       "      <td>2020-04-22</td>\n",
       "      <td>2020-04-22</td>\n",
       "      <td>2020-04-22</td>\n",
       "      <td>2020-05-07</td>\n",
       "      <td>0.610766</td>\n",
       "      <td>45754.77</td>\n",
       "      <td>2020-04-22</td>\n",
       "      <td>-1.904635</td>\n",
       "      <td>1</td>\n",
       "      <td>-1 days</td>\n",
       "      <td>0-15 days</td>\n",
       "    </tr>\n",
       "    <tr>\n",
       "      <th>4</th>\n",
       "      <td>1</td>\n",
       "      <td>-2.306052</td>\n",
       "      <td>-2.619156</td>\n",
       "      <td>NaT</td>\n",
       "      <td>2020</td>\n",
       "      <td>1.93068e+09</td>\n",
       "      <td>2020-03-22</td>\n",
       "      <td>2020-03-20</td>\n",
       "      <td>2020-03-22</td>\n",
       "      <td>2020-04-06</td>\n",
       "      <td>0.610766</td>\n",
       "      <td>6223.23</td>\n",
       "      <td>2020-03-22</td>\n",
       "      <td>-1.904635</td>\n",
       "      <td>1</td>\n",
       "      <td>-1 days</td>\n",
       "      <td>0-15 days</td>\n",
       "    </tr>\n",
       "    <tr>\n",
       "      <th>...</th>\n",
       "      <td>...</td>\n",
       "      <td>...</td>\n",
       "      <td>...</td>\n",
       "      <td>...</td>\n",
       "      <td>...</td>\n",
       "      <td>...</td>\n",
       "      <td>...</td>\n",
       "      <td>...</td>\n",
       "      <td>...</td>\n",
       "      <td>...</td>\n",
       "      <td>...</td>\n",
       "      <td>...</td>\n",
       "      <td>...</td>\n",
       "      <td>...</td>\n",
       "      <td>...</td>\n",
       "      <td>...</td>\n",
       "      <td>...</td>\n",
       "    </tr>\n",
       "    <tr>\n",
       "      <th>3233</th>\n",
       "      <td>1</td>\n",
       "      <td>2.321580</td>\n",
       "      <td>2.171247</td>\n",
       "      <td>NaT</td>\n",
       "      <td>2020</td>\n",
       "      <td>1.93057e+09</td>\n",
       "      <td>2020-03-04</td>\n",
       "      <td>2020-03-02</td>\n",
       "      <td>2020-03-04</td>\n",
       "      <td>2020-03-19</td>\n",
       "      <td>0.610766</td>\n",
       "      <td>40758.07</td>\n",
       "      <td>2020-03-04</td>\n",
       "      <td>1.387441</td>\n",
       "      <td>1</td>\n",
       "      <td>2 days</td>\n",
       "      <td>0-15 days</td>\n",
       "    </tr>\n",
       "    <tr>\n",
       "      <th>3234</th>\n",
       "      <td>1</td>\n",
       "      <td>-2.306052</td>\n",
       "      <td>-2.287234</td>\n",
       "      <td>NaT</td>\n",
       "      <td>2020</td>\n",
       "      <td>1.93064e+09</td>\n",
       "      <td>2020-03-13</td>\n",
       "      <td>2020-03-11</td>\n",
       "      <td>2020-03-13</td>\n",
       "      <td>2020-03-28</td>\n",
       "      <td>0.610766</td>\n",
       "      <td>14981.09</td>\n",
       "      <td>2020-03-13</td>\n",
       "      <td>-1.904635</td>\n",
       "      <td>1</td>\n",
       "      <td>-1 days</td>\n",
       "      <td>0-15 days</td>\n",
       "    </tr>\n",
       "    <tr>\n",
       "      <th>3235</th>\n",
       "      <td>1</td>\n",
       "      <td>2.321580</td>\n",
       "      <td>2.171247</td>\n",
       "      <td>NaT</td>\n",
       "      <td>2020</td>\n",
       "      <td>1.93086e+09</td>\n",
       "      <td>2020-05-05</td>\n",
       "      <td>2020-05-05</td>\n",
       "      <td>2020-05-05</td>\n",
       "      <td>2020-05-20</td>\n",
       "      <td>0.610766</td>\n",
       "      <td>14514.31</td>\n",
       "      <td>2020-05-05</td>\n",
       "      <td>0.561391</td>\n",
       "      <td>1</td>\n",
       "      <td>1 days</td>\n",
       "      <td>0-15 days</td>\n",
       "    </tr>\n",
       "    <tr>\n",
       "      <th>3236</th>\n",
       "      <td>1</td>\n",
       "      <td>2.321580</td>\n",
       "      <td>2.312500</td>\n",
       "      <td>NaT</td>\n",
       "      <td>2020</td>\n",
       "      <td>1.9308e+09</td>\n",
       "      <td>2020-04-21</td>\n",
       "      <td>2020-04-20</td>\n",
       "      <td>2020-04-21</td>\n",
       "      <td>2020-05-06</td>\n",
       "      <td>0.610766</td>\n",
       "      <td>40345.38</td>\n",
       "      <td>2020-04-21</td>\n",
       "      <td>1.387441</td>\n",
       "      <td>1</td>\n",
       "      <td>2 days</td>\n",
       "      <td>0-15 days</td>\n",
       "    </tr>\n",
       "    <tr>\n",
       "      <th>3237</th>\n",
       "      <td>1</td>\n",
       "      <td>1.081238</td>\n",
       "      <td>0.382979</td>\n",
       "      <td>NaT</td>\n",
       "      <td>2020</td>\n",
       "      <td>1.93059e+09</td>\n",
       "      <td>2020-03-03</td>\n",
       "      <td>2020-03-03</td>\n",
       "      <td>2020-03-03</td>\n",
       "      <td>2020-03-18</td>\n",
       "      <td>0.610766</td>\n",
       "      <td>46054.86</td>\n",
       "      <td>2020-03-03</td>\n",
       "      <td>-1.904635</td>\n",
       "      <td>1</td>\n",
       "      <td>1 days</td>\n",
       "      <td>0-15 days</td>\n",
       "    </tr>\n",
       "  </tbody>\n",
       "</table>\n",
       "<p>3238 rows × 17 columns</p>\n",
       "</div>"
      ],
      "text/plain": [
       "      business_code  cust_number  name_customer  ... isOpen   delay Aging Bucket\n",
       "0                 1     2.321580       2.171247  ...      1  2 days    0-15 days\n",
       "1                 1     2.321580       1.859155  ...      1  2 days    0-15 days\n",
       "2                 1     1.455285       1.404255  ...      1  1 days    0-15 days\n",
       "3                 1    -2.306052      -2.290653  ...      1 -1 days    0-15 days\n",
       "4                 1    -2.306052      -2.619156  ...      1 -1 days    0-15 days\n",
       "...             ...          ...            ...  ...    ...     ...          ...\n",
       "3233              1     2.321580       2.171247  ...      1  2 days    0-15 days\n",
       "3234              1    -2.306052      -2.287234  ...      1 -1 days    0-15 days\n",
       "3235              1     2.321580       2.171247  ...      1  1 days    0-15 days\n",
       "3236              1     2.321580       2.312500  ...      1  2 days    0-15 days\n",
       "3237              1     1.081238       0.382979  ...      1  1 days    0-15 days\n",
       "\n",
       "[3238 rows x 17 columns]"
      ]
     },
     "execution_count": 1223,
     "metadata": {
      "tags": []
     },
     "output_type": "execute_result"
    }
   ],
   "source": [
    "test_data['delay']=test_data['delay'].apply(lambda x: pd.Timedelta(x, unit='D'))\n",
    "test_data"
   ]
  },
  {
   "cell_type": "code",
   "execution_count": 1224,
   "metadata": {
    "colab": {
     "base_uri": "https://localhost:8080/",
     "height": 626
    },
    "id": "q4SIIjonxqpQ",
    "outputId": "ed1a7ea3-2678-4e12-fb5c-0aa24accaaaa"
   },
   "outputs": [
    {
     "data": {
      "text/html": [
       "<div>\n",
       "<style scoped>\n",
       "    .dataframe tbody tr th:only-of-type {\n",
       "        vertical-align: middle;\n",
       "    }\n",
       "\n",
       "    .dataframe tbody tr th {\n",
       "        vertical-align: top;\n",
       "    }\n",
       "\n",
       "    .dataframe thead th {\n",
       "        text-align: right;\n",
       "    }\n",
       "</style>\n",
       "<table border=\"1\" class=\"dataframe\">\n",
       "  <thead>\n",
       "    <tr style=\"text-align: right;\">\n",
       "      <th></th>\n",
       "      <th>business_code</th>\n",
       "      <th>cust_number</th>\n",
       "      <th>name_customer</th>\n",
       "      <th>clear_date</th>\n",
       "      <th>buisness_year</th>\n",
       "      <th>doc_id</th>\n",
       "      <th>posting_date</th>\n",
       "      <th>document_create_date</th>\n",
       "      <th>document_create_date.1</th>\n",
       "      <th>due_in_date</th>\n",
       "      <th>invoice_currency</th>\n",
       "      <th>total_open_amount</th>\n",
       "      <th>baseline_create_date</th>\n",
       "      <th>cust_payment_terms</th>\n",
       "      <th>isOpen</th>\n",
       "      <th>delay</th>\n",
       "      <th>Aging Bucket</th>\n",
       "      <th>predicted_clear_date</th>\n",
       "    </tr>\n",
       "  </thead>\n",
       "  <tbody>\n",
       "    <tr>\n",
       "      <th>0</th>\n",
       "      <td>1</td>\n",
       "      <td>2.321580</td>\n",
       "      <td>2.171247</td>\n",
       "      <td>NaT</td>\n",
       "      <td>2020</td>\n",
       "      <td>1.93074e+09</td>\n",
       "      <td>2020-04-07</td>\n",
       "      <td>2020-04-03</td>\n",
       "      <td>2020-04-07</td>\n",
       "      <td>2020-04-22</td>\n",
       "      <td>0.610766</td>\n",
       "      <td>37738.73</td>\n",
       "      <td>2020-04-07</td>\n",
       "      <td>1.387441</td>\n",
       "      <td>1</td>\n",
       "      <td>2 days</td>\n",
       "      <td>0-15 days</td>\n",
       "      <td>2020-04-24</td>\n",
       "    </tr>\n",
       "    <tr>\n",
       "      <th>1</th>\n",
       "      <td>1</td>\n",
       "      <td>2.321580</td>\n",
       "      <td>1.859155</td>\n",
       "      <td>NaT</td>\n",
       "      <td>2020</td>\n",
       "      <td>1.93085e+09</td>\n",
       "      <td>2020-05-02</td>\n",
       "      <td>2020-05-02</td>\n",
       "      <td>2020-05-02</td>\n",
       "      <td>2020-05-17</td>\n",
       "      <td>0.610766</td>\n",
       "      <td>42001.99</td>\n",
       "      <td>2020-05-02</td>\n",
       "      <td>1.387441</td>\n",
       "      <td>1</td>\n",
       "      <td>2 days</td>\n",
       "      <td>0-15 days</td>\n",
       "      <td>2020-05-19</td>\n",
       "    </tr>\n",
       "    <tr>\n",
       "      <th>2</th>\n",
       "      <td>1</td>\n",
       "      <td>1.455285</td>\n",
       "      <td>1.404255</td>\n",
       "      <td>NaT</td>\n",
       "      <td>2020</td>\n",
       "      <td>1.93072e+09</td>\n",
       "      <td>2020-03-31</td>\n",
       "      <td>2020-03-31</td>\n",
       "      <td>2020-03-31</td>\n",
       "      <td>2020-04-15</td>\n",
       "      <td>0.610766</td>\n",
       "      <td>137220.67</td>\n",
       "      <td>2020-03-31</td>\n",
       "      <td>1.387441</td>\n",
       "      <td>1</td>\n",
       "      <td>1 days</td>\n",
       "      <td>0-15 days</td>\n",
       "      <td>2020-04-16</td>\n",
       "    </tr>\n",
       "    <tr>\n",
       "      <th>3</th>\n",
       "      <td>1</td>\n",
       "      <td>-2.306052</td>\n",
       "      <td>-2.290653</td>\n",
       "      <td>NaT</td>\n",
       "      <td>2020</td>\n",
       "      <td>1.93081e+09</td>\n",
       "      <td>2020-04-22</td>\n",
       "      <td>2020-04-22</td>\n",
       "      <td>2020-04-22</td>\n",
       "      <td>2020-05-07</td>\n",
       "      <td>0.610766</td>\n",
       "      <td>45754.77</td>\n",
       "      <td>2020-04-22</td>\n",
       "      <td>-1.904635</td>\n",
       "      <td>1</td>\n",
       "      <td>-1 days</td>\n",
       "      <td>0-15 days</td>\n",
       "      <td>2020-05-06</td>\n",
       "    </tr>\n",
       "    <tr>\n",
       "      <th>4</th>\n",
       "      <td>1</td>\n",
       "      <td>-2.306052</td>\n",
       "      <td>-2.619156</td>\n",
       "      <td>NaT</td>\n",
       "      <td>2020</td>\n",
       "      <td>1.93068e+09</td>\n",
       "      <td>2020-03-22</td>\n",
       "      <td>2020-03-20</td>\n",
       "      <td>2020-03-22</td>\n",
       "      <td>2020-04-06</td>\n",
       "      <td>0.610766</td>\n",
       "      <td>6223.23</td>\n",
       "      <td>2020-03-22</td>\n",
       "      <td>-1.904635</td>\n",
       "      <td>1</td>\n",
       "      <td>-1 days</td>\n",
       "      <td>0-15 days</td>\n",
       "      <td>2020-04-05</td>\n",
       "    </tr>\n",
       "    <tr>\n",
       "      <th>...</th>\n",
       "      <td>...</td>\n",
       "      <td>...</td>\n",
       "      <td>...</td>\n",
       "      <td>...</td>\n",
       "      <td>...</td>\n",
       "      <td>...</td>\n",
       "      <td>...</td>\n",
       "      <td>...</td>\n",
       "      <td>...</td>\n",
       "      <td>...</td>\n",
       "      <td>...</td>\n",
       "      <td>...</td>\n",
       "      <td>...</td>\n",
       "      <td>...</td>\n",
       "      <td>...</td>\n",
       "      <td>...</td>\n",
       "      <td>...</td>\n",
       "      <td>...</td>\n",
       "    </tr>\n",
       "    <tr>\n",
       "      <th>3233</th>\n",
       "      <td>1</td>\n",
       "      <td>2.321580</td>\n",
       "      <td>2.171247</td>\n",
       "      <td>NaT</td>\n",
       "      <td>2020</td>\n",
       "      <td>1.93057e+09</td>\n",
       "      <td>2020-03-04</td>\n",
       "      <td>2020-03-02</td>\n",
       "      <td>2020-03-04</td>\n",
       "      <td>2020-03-19</td>\n",
       "      <td>0.610766</td>\n",
       "      <td>40758.07</td>\n",
       "      <td>2020-03-04</td>\n",
       "      <td>1.387441</td>\n",
       "      <td>1</td>\n",
       "      <td>2 days</td>\n",
       "      <td>0-15 days</td>\n",
       "      <td>2020-03-21</td>\n",
       "    </tr>\n",
       "    <tr>\n",
       "      <th>3234</th>\n",
       "      <td>1</td>\n",
       "      <td>-2.306052</td>\n",
       "      <td>-2.287234</td>\n",
       "      <td>NaT</td>\n",
       "      <td>2020</td>\n",
       "      <td>1.93064e+09</td>\n",
       "      <td>2020-03-13</td>\n",
       "      <td>2020-03-11</td>\n",
       "      <td>2020-03-13</td>\n",
       "      <td>2020-03-28</td>\n",
       "      <td>0.610766</td>\n",
       "      <td>14981.09</td>\n",
       "      <td>2020-03-13</td>\n",
       "      <td>-1.904635</td>\n",
       "      <td>1</td>\n",
       "      <td>-1 days</td>\n",
       "      <td>0-15 days</td>\n",
       "      <td>2020-03-27</td>\n",
       "    </tr>\n",
       "    <tr>\n",
       "      <th>3235</th>\n",
       "      <td>1</td>\n",
       "      <td>2.321580</td>\n",
       "      <td>2.171247</td>\n",
       "      <td>NaT</td>\n",
       "      <td>2020</td>\n",
       "      <td>1.93086e+09</td>\n",
       "      <td>2020-05-05</td>\n",
       "      <td>2020-05-05</td>\n",
       "      <td>2020-05-05</td>\n",
       "      <td>2020-05-20</td>\n",
       "      <td>0.610766</td>\n",
       "      <td>14514.31</td>\n",
       "      <td>2020-05-05</td>\n",
       "      <td>0.561391</td>\n",
       "      <td>1</td>\n",
       "      <td>1 days</td>\n",
       "      <td>0-15 days</td>\n",
       "      <td>2020-05-21</td>\n",
       "    </tr>\n",
       "    <tr>\n",
       "      <th>3236</th>\n",
       "      <td>1</td>\n",
       "      <td>2.321580</td>\n",
       "      <td>2.312500</td>\n",
       "      <td>NaT</td>\n",
       "      <td>2020</td>\n",
       "      <td>1.9308e+09</td>\n",
       "      <td>2020-04-21</td>\n",
       "      <td>2020-04-20</td>\n",
       "      <td>2020-04-21</td>\n",
       "      <td>2020-05-06</td>\n",
       "      <td>0.610766</td>\n",
       "      <td>40345.38</td>\n",
       "      <td>2020-04-21</td>\n",
       "      <td>1.387441</td>\n",
       "      <td>1</td>\n",
       "      <td>2 days</td>\n",
       "      <td>0-15 days</td>\n",
       "      <td>2020-05-08</td>\n",
       "    </tr>\n",
       "    <tr>\n",
       "      <th>3237</th>\n",
       "      <td>1</td>\n",
       "      <td>1.081238</td>\n",
       "      <td>0.382979</td>\n",
       "      <td>NaT</td>\n",
       "      <td>2020</td>\n",
       "      <td>1.93059e+09</td>\n",
       "      <td>2020-03-03</td>\n",
       "      <td>2020-03-03</td>\n",
       "      <td>2020-03-03</td>\n",
       "      <td>2020-03-18</td>\n",
       "      <td>0.610766</td>\n",
       "      <td>46054.86</td>\n",
       "      <td>2020-03-03</td>\n",
       "      <td>-1.904635</td>\n",
       "      <td>1</td>\n",
       "      <td>1 days</td>\n",
       "      <td>0-15 days</td>\n",
       "      <td>2020-03-19</td>\n",
       "    </tr>\n",
       "  </tbody>\n",
       "</table>\n",
       "<p>3238 rows × 18 columns</p>\n",
       "</div>"
      ],
      "text/plain": [
       "      business_code  cust_number  ...  Aging Bucket predicted_clear_date\n",
       "0                 1     2.321580  ...     0-15 days           2020-04-24\n",
       "1                 1     2.321580  ...     0-15 days           2020-05-19\n",
       "2                 1     1.455285  ...     0-15 days           2020-04-16\n",
       "3                 1    -2.306052  ...     0-15 days           2020-05-06\n",
       "4                 1    -2.306052  ...     0-15 days           2020-04-05\n",
       "...             ...          ...  ...           ...                  ...\n",
       "3233              1     2.321580  ...     0-15 days           2020-03-21\n",
       "3234              1    -2.306052  ...     0-15 days           2020-03-27\n",
       "3235              1     2.321580  ...     0-15 days           2020-05-21\n",
       "3236              1     2.321580  ...     0-15 days           2020-05-08\n",
       "3237              1     1.081238  ...     0-15 days           2020-03-19\n",
       "\n",
       "[3238 rows x 18 columns]"
      ]
     },
     "execution_count": 1224,
     "metadata": {
      "tags": []
     },
     "output_type": "execute_result"
    }
   ],
   "source": [
    "test_data['predicted_clear_date']=test_data['due_in_date']+test_data['delay']\n",
    "test_data"
   ]
  }
 ],
 "metadata": {
  "colab": {
   "collapsed_sections": [],
   "name": "DataSetHands_on_latest.ipynb",
   "provenance": []
  },
  "kernelspec": {
   "display_name": "Python 3 (ipykernel)",
   "language": "python",
   "name": "python3"
  },
  "language_info": {
   "codemirror_mode": {
    "name": "ipython",
    "version": 3
   },
   "file_extension": ".py",
   "mimetype": "text/x-python",
   "name": "python",
   "nbconvert_exporter": "python",
   "pygments_lexer": "ipython3",
   "version": "3.9.7"
  }
 },
 "nbformat": 4,
 "nbformat_minor": 1
}
