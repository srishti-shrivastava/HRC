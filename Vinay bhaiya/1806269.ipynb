{
 "cells": [
  {
   "cell_type": "code",
   "execution_count": 3,
   "metadata": {
    "colab": {
     "base_uri": "https://localhost:8080/",
     "height": 574
    },
    "id": "Df-0rvUUq1TX",
    "outputId": "236964f6-6527-440d-b79f-1c65dbca88ab"
   },
   "outputs": [
    {
     "data": {
      "text/html": [
       "<div>\n",
       "<style scoped>\n",
       "    .dataframe tbody tr th:only-of-type {\n",
       "        vertical-align: middle;\n",
       "    }\n",
       "\n",
       "    .dataframe tbody tr th {\n",
       "        vertical-align: top;\n",
       "    }\n",
       "\n",
       "    .dataframe thead th {\n",
       "        text-align: right;\n",
       "    }\n",
       "</style>\n",
       "<table border=\"1\" class=\"dataframe\">\n",
       "  <thead>\n",
       "    <tr style=\"text-align: right;\">\n",
       "      <th></th>\n",
       "      <th>business_code</th>\n",
       "      <th>cust_number</th>\n",
       "      <th>name_customer</th>\n",
       "      <th>clear_date</th>\n",
       "      <th>buisness_year</th>\n",
       "      <th>doc_id</th>\n",
       "      <th>posting_date</th>\n",
       "      <th>document_create_date</th>\n",
       "      <th>document_create_date.1</th>\n",
       "      <th>due_in_date</th>\n",
       "      <th>invoice_currency</th>\n",
       "      <th>document type</th>\n",
       "      <th>posting_id</th>\n",
       "      <th>area_business</th>\n",
       "      <th>total_open_amount</th>\n",
       "      <th>baseline_create_date</th>\n",
       "      <th>cust_payment_terms</th>\n",
       "      <th>invoice_id</th>\n",
       "      <th>isOpen</th>\n",
       "    </tr>\n",
       "  </thead>\n",
       "  <tbody>\n",
       "    <tr>\n",
       "      <th>0</th>\n",
       "      <td>U001</td>\n",
       "      <td>0200780383</td>\n",
       "      <td>MEIJ corporation</td>\n",
       "      <td>2019-09-26 00:00:00</td>\n",
       "      <td>2019.0</td>\n",
       "      <td>1.929861e+09</td>\n",
       "      <td>2019-09-11</td>\n",
       "      <td>20190910</td>\n",
       "      <td>20190911</td>\n",
       "      <td>20190926.0</td>\n",
       "      <td>USD</td>\n",
       "      <td>RV</td>\n",
       "      <td>1.0</td>\n",
       "      <td>NaN</td>\n",
       "      <td>51844.76</td>\n",
       "      <td>20190911.0</td>\n",
       "      <td>NAA8</td>\n",
       "      <td>1.929861e+09</td>\n",
       "      <td>0</td>\n",
       "    </tr>\n",
       "    <tr>\n",
       "      <th>1</th>\n",
       "      <td>U001</td>\n",
       "      <td>0200762301</td>\n",
       "      <td>C&amp;S WH corporation</td>\n",
       "      <td>2019-09-10 00:00:00</td>\n",
       "      <td>2019.0</td>\n",
       "      <td>1.929789e+09</td>\n",
       "      <td>2019-08-25</td>\n",
       "      <td>20190824</td>\n",
       "      <td>20190825</td>\n",
       "      <td>20190909.0</td>\n",
       "      <td>USD</td>\n",
       "      <td>RV</td>\n",
       "      <td>1.0</td>\n",
       "      <td>NaN</td>\n",
       "      <td>62110.39</td>\n",
       "      <td>20190825.0</td>\n",
       "      <td>NAC6</td>\n",
       "      <td>1.929789e+09</td>\n",
       "      <td>0</td>\n",
       "    </tr>\n",
       "    <tr>\n",
       "      <th>2</th>\n",
       "      <td>U001</td>\n",
       "      <td>0200769623</td>\n",
       "      <td>WAL-MAR corporation</td>\n",
       "      <td>2020-02-18 00:00:00</td>\n",
       "      <td>2020.0</td>\n",
       "      <td>1.930488e+09</td>\n",
       "      <td>2020-02-05</td>\n",
       "      <td>20200206</td>\n",
       "      <td>20200205</td>\n",
       "      <td>20200220.0</td>\n",
       "      <td>USD</td>\n",
       "      <td>RV</td>\n",
       "      <td>1.0</td>\n",
       "      <td>NaN</td>\n",
       "      <td>41038.47</td>\n",
       "      <td>20200205.0</td>\n",
       "      <td>NAH4</td>\n",
       "      <td>1.930488e+09</td>\n",
       "      <td>0</td>\n",
       "    </tr>\n",
       "    <tr>\n",
       "      <th>3</th>\n",
       "      <td>U001</td>\n",
       "      <td>100053926</td>\n",
       "      <td>CALD trust</td>\n",
       "      <td>2019-08-21 00:00:00</td>\n",
       "      <td>2019.0</td>\n",
       "      <td>1.929519e+09</td>\n",
       "      <td>2019-06-20</td>\n",
       "      <td>20190620</td>\n",
       "      <td>20190620</td>\n",
       "      <td>20190819.0</td>\n",
       "      <td>USD</td>\n",
       "      <td>RV</td>\n",
       "      <td>1.0</td>\n",
       "      <td>NaN</td>\n",
       "      <td>1382.94</td>\n",
       "      <td>20190620.0</td>\n",
       "      <td>NAVQ</td>\n",
       "      <td>1.929519e+09</td>\n",
       "      <td>0</td>\n",
       "    </tr>\n",
       "    <tr>\n",
       "      <th>4</th>\n",
       "      <td>U001</td>\n",
       "      <td>0200739534</td>\n",
       "      <td>OK llc</td>\n",
       "      <td>2019-06-26 00:00:00</td>\n",
       "      <td>2019.0</td>\n",
       "      <td>1.929456e+09</td>\n",
       "      <td>2019-06-07</td>\n",
       "      <td>20190607</td>\n",
       "      <td>20190607</td>\n",
       "      <td>20190622.0</td>\n",
       "      <td>USD</td>\n",
       "      <td>RV</td>\n",
       "      <td>1.0</td>\n",
       "      <td>NaN</td>\n",
       "      <td>85407.27</td>\n",
       "      <td>20190607.0</td>\n",
       "      <td>NAA8</td>\n",
       "      <td>1.929456e+09</td>\n",
       "      <td>0</td>\n",
       "    </tr>\n",
       "    <tr>\n",
       "      <th>...</th>\n",
       "      <td>...</td>\n",
       "      <td>...</td>\n",
       "      <td>...</td>\n",
       "      <td>...</td>\n",
       "      <td>...</td>\n",
       "      <td>...</td>\n",
       "      <td>...</td>\n",
       "      <td>...</td>\n",
       "      <td>...</td>\n",
       "      <td>...</td>\n",
       "      <td>...</td>\n",
       "      <td>...</td>\n",
       "      <td>...</td>\n",
       "      <td>...</td>\n",
       "      <td>...</td>\n",
       "      <td>...</td>\n",
       "      <td>...</td>\n",
       "      <td>...</td>\n",
       "      <td>...</td>\n",
       "    </tr>\n",
       "    <tr>\n",
       "      <th>49995</th>\n",
       "      <td>U001</td>\n",
       "      <td>0200769623</td>\n",
       "      <td>WAL-MAR corp</td>\n",
       "      <td>NaN</td>\n",
       "      <td>2020.0</td>\n",
       "      <td>1.930833e+09</td>\n",
       "      <td>2020-04-28</td>\n",
       "      <td>20200428</td>\n",
       "      <td>20200428</td>\n",
       "      <td>20200513.0</td>\n",
       "      <td>USD</td>\n",
       "      <td>RV</td>\n",
       "      <td>1.0</td>\n",
       "      <td>NaN</td>\n",
       "      <td>3360.35</td>\n",
       "      <td>20200428.0</td>\n",
       "      <td>NAH4</td>\n",
       "      <td>1.930833e+09</td>\n",
       "      <td>1</td>\n",
       "    </tr>\n",
       "    <tr>\n",
       "      <th>49996</th>\n",
       "      <td>U001</td>\n",
       "      <td>0200353024</td>\n",
       "      <td>DECA corporation</td>\n",
       "      <td>NaN</td>\n",
       "      <td>2020.0</td>\n",
       "      <td>1.930818e+09</td>\n",
       "      <td>2020-04-23</td>\n",
       "      <td>20200423</td>\n",
       "      <td>20200423</td>\n",
       "      <td>20200509.0</td>\n",
       "      <td>USD</td>\n",
       "      <td>RV</td>\n",
       "      <td>1.0</td>\n",
       "      <td>NaN</td>\n",
       "      <td>6598.36</td>\n",
       "      <td>20200416.0</td>\n",
       "      <td>NAM4</td>\n",
       "      <td>1.930818e+09</td>\n",
       "      <td>1</td>\n",
       "    </tr>\n",
       "    <tr>\n",
       "      <th>49997</th>\n",
       "      <td>U001</td>\n",
       "      <td>0200126819</td>\n",
       "      <td>MCLANE in</td>\n",
       "      <td>NaN</td>\n",
       "      <td>2020.0</td>\n",
       "      <td>1.930784e+09</td>\n",
       "      <td>2020-04-21</td>\n",
       "      <td>20200414</td>\n",
       "      <td>20200421</td>\n",
       "      <td>20200506.0</td>\n",
       "      <td>USD</td>\n",
       "      <td>RV</td>\n",
       "      <td>1.0</td>\n",
       "      <td>NaN</td>\n",
       "      <td>11168.64</td>\n",
       "      <td>20200421.0</td>\n",
       "      <td>NAA8</td>\n",
       "      <td>1.930784e+09</td>\n",
       "      <td>1</td>\n",
       "    </tr>\n",
       "    <tr>\n",
       "      <th>49998</th>\n",
       "      <td>U001</td>\n",
       "      <td>0200769623</td>\n",
       "      <td>WAL-MAR associates</td>\n",
       "      <td>NaN</td>\n",
       "      <td>2020.0</td>\n",
       "      <td>1.930716e+09</td>\n",
       "      <td>2020-03-30</td>\n",
       "      <td>20200328</td>\n",
       "      <td>20200330</td>\n",
       "      <td>20200414.0</td>\n",
       "      <td>USD</td>\n",
       "      <td>RV</td>\n",
       "      <td>1.0</td>\n",
       "      <td>NaN</td>\n",
       "      <td>13454.20</td>\n",
       "      <td>20200330.0</td>\n",
       "      <td>NAH4</td>\n",
       "      <td>1.930716e+09</td>\n",
       "      <td>1</td>\n",
       "    </tr>\n",
       "    <tr>\n",
       "      <th>49999</th>\n",
       "      <td>U001</td>\n",
       "      <td>0200769623</td>\n",
       "      <td>WAL-MAR</td>\n",
       "      <td>NaN</td>\n",
       "      <td>2020.0</td>\n",
       "      <td>1.930753e+09</td>\n",
       "      <td>2020-04-07</td>\n",
       "      <td>20200406</td>\n",
       "      <td>20200407</td>\n",
       "      <td>20200422.0</td>\n",
       "      <td>USD</td>\n",
       "      <td>RV</td>\n",
       "      <td>1.0</td>\n",
       "      <td>NaN</td>\n",
       "      <td>5577.80</td>\n",
       "      <td>20200407.0</td>\n",
       "      <td>NAH4</td>\n",
       "      <td>1.930753e+09</td>\n",
       "      <td>1</td>\n",
       "    </tr>\n",
       "  </tbody>\n",
       "</table>\n",
       "<p>50000 rows × 19 columns</p>\n",
       "</div>"
      ],
      "text/plain": [
       "      business_code cust_number  ...    invoice_id isOpen\n",
       "0              U001  0200780383  ...  1.929861e+09      0\n",
       "1              U001  0200762301  ...  1.929789e+09      0\n",
       "2              U001  0200769623  ...  1.930488e+09      0\n",
       "3              U001   100053926  ...  1.929519e+09      0\n",
       "4              U001  0200739534  ...  1.929456e+09      0\n",
       "...             ...         ...  ...           ...    ...\n",
       "49995          U001  0200769623  ...  1.930833e+09      1\n",
       "49996          U001  0200353024  ...  1.930818e+09      1\n",
       "49997          U001  0200126819  ...  1.930784e+09      1\n",
       "49998          U001  0200769623  ...  1.930716e+09      1\n",
       "49999          U001  0200769623  ...  1.930753e+09      1\n",
       "\n",
       "[50000 rows x 19 columns]"
      ]
     },
     "execution_count": 3,
     "metadata": {
      "tags": []
     },
     "output_type": "execute_result"
    }
   ],
   "source": [
    "#reading dataset 1806269\n",
    "import pandas as pd\n",
    "import numpy as np\n",
    "dat=pd.read_csv(\"/content/1806269.csv\")\n",
    "data=pd.DataFrame(dat)\n",
    "data"
   ]
  },
  {
   "cell_type": "code",
   "execution_count": 4,
   "metadata": {
    "colab": {
     "base_uri": "https://localhost:8080/"
    },
    "id": "NHDTSYNC-tTK",
    "outputId": "e671f233-39f3-4f77-be6f-a7b24b051518"
   },
   "outputs": [
    {
     "data": {
      "text/plain": [
       "(50000, 19)"
      ]
     },
     "execution_count": 4,
     "metadata": {
      "tags": []
     },
     "output_type": "execute_result"
    }
   ],
   "source": [
    "data.shape"
   ]
  },
  {
   "cell_type": "code",
   "execution_count": 5,
   "metadata": {
    "colab": {
     "base_uri": "https://localhost:8080/"
    },
    "id": "SPxqMc-07YK9",
    "outputId": "50a103b3-9b5d-451d-a827-22797c4c2f0b"
   },
   "outputs": [
    {
     "data": {
      "text/plain": [
       "1"
      ]
     },
     "execution_count": 5,
     "metadata": {
      "tags": []
     },
     "output_type": "execute_result"
    }
   ],
   "source": [
    "len(pd.unique(data['posting_id'])) #constant"
   ]
  },
  {
   "cell_type": "code",
   "execution_count": 6,
   "metadata": {
    "id": "hGE4Ja6K8vwU"
   },
   "outputs": [],
   "source": [
    "data.drop(columns=['posting_id'],inplace=True)#since constant column will not contribute so drop"
   ]
  },
  {
   "cell_type": "code",
   "execution_count": 7,
   "metadata": {
    "colab": {
     "base_uri": "https://localhost:8080/"
    },
    "id": "PsQ5ZyQbrT9Y",
    "outputId": "67057a96-7ebf-43d0-cd45-1d4f32b19274"
   },
   "outputs": [
    {
     "name": "stdout",
     "output_type": "stream",
     "text": [
      "business_code   0.0\n",
      "cust_number   0.0\n",
      "name_customer   0.0\n",
      "clear_date   0.09058\n",
      "buisness_year   0.0\n",
      "doc_id   0.0\n",
      "posting_date   0.0\n",
      "document_create_date   0.0\n",
      "document_create_date.1   0.0\n",
      "due_in_date   0.0\n",
      "invoice_currency   0.0\n",
      "document type   0.0\n",
      "area_business   1.0\n",
      "total_open_amount   0.0\n",
      "baseline_create_date   0.0\n",
      "cust_payment_terms   0.0\n",
      "invoice_id   0.00014\n",
      "isOpen   0.0\n"
     ]
    }
   ],
   "source": [
    "#checking how many columns of the dataset have mean of null values to preprocess\n",
    "for i in data.columns:\n",
    "  print(i,\" \",data[i].isnull().mean())"
   ]
  },
  {
   "cell_type": "code",
   "execution_count": 8,
   "metadata": {
    "id": "exviY933szBz"
   },
   "outputs": [],
   "source": [
    "#area_business have all null values so drop\n",
    "data.drop(['area_business'],axis=1,inplace=True)"
   ]
  },
  {
   "cell_type": "code",
   "execution_count": 9,
   "metadata": {
    "colab": {
     "base_uri": "https://localhost:8080/"
    },
    "id": "EJUEqWZM5Wz1",
    "outputId": "e692852a-f670-4df8-ca75-31b0fd581723"
   },
   "outputs": [
    {
     "data": {
      "text/plain": [
       "7"
      ]
     },
     "execution_count": 9,
     "metadata": {
      "tags": []
     },
     "output_type": "execute_result"
    }
   ],
   "source": [
    "#invoice have some values null\n",
    "data['invoice_id'].isnull().sum()"
   ]
  },
  {
   "cell_type": "code",
   "execution_count": 10,
   "metadata": {
    "colab": {
     "base_uri": "https://localhost:8080/",
     "height": 422
    },
    "id": "r3aTUGG4-cf2",
    "outputId": "75bdd4c8-08af-4f72-fcf8-4bd971d830e7"
   },
   "outputs": [
    {
     "data": {
      "text/html": [
       "<div>\n",
       "<style scoped>\n",
       "    .dataframe tbody tr th:only-of-type {\n",
       "        vertical-align: middle;\n",
       "    }\n",
       "\n",
       "    .dataframe tbody tr th {\n",
       "        vertical-align: top;\n",
       "    }\n",
       "\n",
       "    .dataframe thead th {\n",
       "        text-align: right;\n",
       "    }\n",
       "</style>\n",
       "<table border=\"1\" class=\"dataframe\">\n",
       "  <thead>\n",
       "    <tr style=\"text-align: right;\">\n",
       "      <th></th>\n",
       "      <th>business_code</th>\n",
       "      <th>cust_number</th>\n",
       "      <th>name_customer</th>\n",
       "      <th>clear_date</th>\n",
       "      <th>buisness_year</th>\n",
       "      <th>doc_id</th>\n",
       "      <th>posting_date</th>\n",
       "      <th>document_create_date</th>\n",
       "      <th>document_create_date.1</th>\n",
       "      <th>due_in_date</th>\n",
       "      <th>invoice_currency</th>\n",
       "      <th>document type</th>\n",
       "      <th>total_open_amount</th>\n",
       "      <th>baseline_create_date</th>\n",
       "      <th>cust_payment_terms</th>\n",
       "      <th>invoice_id</th>\n",
       "      <th>isOpen</th>\n",
       "    </tr>\n",
       "  </thead>\n",
       "  <tbody>\n",
       "    <tr>\n",
       "      <th>5394</th>\n",
       "      <td>CA02</td>\n",
       "      <td>0140104409</td>\n",
       "      <td>LOB associates</td>\n",
       "      <td>2019-12-27 00:00:00</td>\n",
       "      <td>2019.0</td>\n",
       "      <td>9.500000e+09</td>\n",
       "      <td>2019-03-29</td>\n",
       "      <td>20190329</td>\n",
       "      <td>20190319</td>\n",
       "      <td>20190329.0</td>\n",
       "      <td>CAD</td>\n",
       "      <td>X2</td>\n",
       "      <td>179.20</td>\n",
       "      <td>20190319.0</td>\n",
       "      <td>CA10</td>\n",
       "      <td>NaN</td>\n",
       "      <td>0</td>\n",
       "    </tr>\n",
       "    <tr>\n",
       "      <th>7414</th>\n",
       "      <td>CA02</td>\n",
       "      <td>0140104409</td>\n",
       "      <td>LOB associates</td>\n",
       "      <td>2019-04-17 00:00:00</td>\n",
       "      <td>2019.0</td>\n",
       "      <td>9.500000e+09</td>\n",
       "      <td>2019-03-29</td>\n",
       "      <td>20190329</td>\n",
       "      <td>20190314</td>\n",
       "      <td>20190324.0</td>\n",
       "      <td>CAD</td>\n",
       "      <td>X2</td>\n",
       "      <td>698.60</td>\n",
       "      <td>20190314.0</td>\n",
       "      <td>CA10</td>\n",
       "      <td>NaN</td>\n",
       "      <td>0</td>\n",
       "    </tr>\n",
       "    <tr>\n",
       "      <th>18815</th>\n",
       "      <td>CA02</td>\n",
       "      <td>0140106054</td>\n",
       "      <td>TREE  trust</td>\n",
       "      <td>2019-05-31 00:00:00</td>\n",
       "      <td>2019.0</td>\n",
       "      <td>9.500000e+09</td>\n",
       "      <td>2019-03-29</td>\n",
       "      <td>20190329</td>\n",
       "      <td>20190228</td>\n",
       "      <td>20190310.0</td>\n",
       "      <td>CAD</td>\n",
       "      <td>X2</td>\n",
       "      <td>216.80</td>\n",
       "      <td>20190228.0</td>\n",
       "      <td>CA10</td>\n",
       "      <td>NaN</td>\n",
       "      <td>0</td>\n",
       "    </tr>\n",
       "    <tr>\n",
       "      <th>21149</th>\n",
       "      <td>CA02</td>\n",
       "      <td>0140104409</td>\n",
       "      <td>LOB trust</td>\n",
       "      <td>2019-12-27 00:00:00</td>\n",
       "      <td>2019.0</td>\n",
       "      <td>9.500000e+09</td>\n",
       "      <td>2019-03-29</td>\n",
       "      <td>20190329</td>\n",
       "      <td>20181120</td>\n",
       "      <td>20181130.0</td>\n",
       "      <td>CAD</td>\n",
       "      <td>X2</td>\n",
       "      <td>364.20</td>\n",
       "      <td>20181120.0</td>\n",
       "      <td>CA10</td>\n",
       "      <td>NaN</td>\n",
       "      <td>0</td>\n",
       "    </tr>\n",
       "    <tr>\n",
       "      <th>23617</th>\n",
       "      <td>CA02</td>\n",
       "      <td>0140106379</td>\n",
       "      <td>QUAL llc</td>\n",
       "      <td>2019-05-14 00:00:00</td>\n",
       "      <td>2019.0</td>\n",
       "      <td>9.500000e+09</td>\n",
       "      <td>2019-04-30</td>\n",
       "      <td>20190430</td>\n",
       "      <td>20190312</td>\n",
       "      <td>20190322.0</td>\n",
       "      <td>CAD</td>\n",
       "      <td>X2</td>\n",
       "      <td>6732.00</td>\n",
       "      <td>20190312.0</td>\n",
       "      <td>CA10</td>\n",
       "      <td>NaN</td>\n",
       "      <td>0</td>\n",
       "    </tr>\n",
       "    <tr>\n",
       "      <th>26468</th>\n",
       "      <td>CA02</td>\n",
       "      <td>0100030194</td>\n",
       "      <td>AMAZO us</td>\n",
       "      <td>2019-05-23 00:00:00</td>\n",
       "      <td>2019.0</td>\n",
       "      <td>9.500000e+09</td>\n",
       "      <td>2019-03-29</td>\n",
       "      <td>20190329</td>\n",
       "      <td>20190311</td>\n",
       "      <td>20190321.0</td>\n",
       "      <td>CAD</td>\n",
       "      <td>X2</td>\n",
       "      <td>846.70</td>\n",
       "      <td>20190311.0</td>\n",
       "      <td>CA10</td>\n",
       "      <td>NaN</td>\n",
       "      <td>0</td>\n",
       "    </tr>\n",
       "    <tr>\n",
       "      <th>36789</th>\n",
       "      <td>CA02</td>\n",
       "      <td>0100030194</td>\n",
       "      <td>AMAZO trust</td>\n",
       "      <td>2019-05-23 00:00:00</td>\n",
       "      <td>2019.0</td>\n",
       "      <td>9.500000e+09</td>\n",
       "      <td>2019-03-29</td>\n",
       "      <td>20190329</td>\n",
       "      <td>20190311</td>\n",
       "      <td>20190321.0</td>\n",
       "      <td>CAD</td>\n",
       "      <td>X2</td>\n",
       "      <td>649.35</td>\n",
       "      <td>20190311.0</td>\n",
       "      <td>CA10</td>\n",
       "      <td>NaN</td>\n",
       "      <td>0</td>\n",
       "    </tr>\n",
       "  </tbody>\n",
       "</table>\n",
       "</div>"
      ],
      "text/plain": [
       "      business_code cust_number  ... invoice_id isOpen\n",
       "5394           CA02  0140104409  ...        NaN      0\n",
       "7414           CA02  0140104409  ...        NaN      0\n",
       "18815          CA02  0140106054  ...        NaN      0\n",
       "21149          CA02  0140104409  ...        NaN      0\n",
       "23617          CA02  0140106379  ...        NaN      0\n",
       "26468          CA02  0100030194  ...        NaN      0\n",
       "36789          CA02  0100030194  ...        NaN      0\n",
       "\n",
       "[7 rows x 17 columns]"
      ]
     },
     "execution_count": 10,
     "metadata": {
      "tags": []
     },
     "output_type": "execute_result"
    }
   ],
   "source": [
    "data.loc[data['invoice_id'].isnull()]#null values are not useful so drop\n"
   ]
  },
  {
   "cell_type": "code",
   "execution_count": 11,
   "metadata": {
    "id": "BxMGYPYj5vG1"
   },
   "outputs": [],
   "source": [
    "#drop 5 invoice having null values\n",
    "data = data.dropna(axis=0, subset=['invoice_id'])"
   ]
  },
  {
   "cell_type": "code",
   "execution_count": 12,
   "metadata": {
    "colab": {
     "base_uri": "https://localhost:8080/"
    },
    "id": "0HJGeA6zB0WG",
    "outputId": "864e3740-8908-40a5-936d-45b7460cca8d"
   },
   "outputs": [
    {
     "data": {
      "text/plain": [
       "0"
      ]
     },
     "execution_count": 12,
     "metadata": {
      "tags": []
     },
     "output_type": "execute_result"
    }
   ],
   "source": [
    "data['invoice_id'].isnull().sum()\n",
    "#once again checking no of null values in invoice id"
   ]
  },
  {
   "cell_type": "code",
   "execution_count": 13,
   "metadata": {
    "colab": {
     "base_uri": "https://localhost:8080/"
    },
    "id": "hJHeuBxXuIOH",
    "outputId": "0b28b415-a03e-4655-fb54-c6cada14cb55"
   },
   "outputs": [
    {
     "name": "stdout",
     "output_type": "stream",
     "text": [
      "business_code\n",
      "cust_number\n",
      "name_customer\n",
      "clear_date\n",
      "buisness_year\n",
      "doc_id\n",
      "posting_date\n",
      "document_create_date\n",
      "document_create_date.1\n",
      "due_in_date\n",
      "invoice_currency\n",
      "document type\n",
      "total_open_amount\n",
      "baseline_create_date\n",
      "cust_payment_terms\n",
      "invoice_id\n",
      "isOpen\n"
     ]
    }
   ],
   "source": [
    "\n",
    "for i in data.columns:\n",
    "  print(i)"
   ]
  },
  {
   "cell_type": "code",
   "execution_count": 14,
   "metadata": {
    "colab": {
     "base_uri": "https://localhost:8080/"
    },
    "id": "VosT1ugKDJfb",
    "outputId": "b0ad5a30-cff2-42be-ff24-22b74bab845e"
   },
   "outputs": [
    {
     "data": {
      "text/plain": [
       "0"
      ]
     },
     "execution_count": 14,
     "metadata": {
      "tags": []
     },
     "output_type": "execute_result"
    }
   ],
   "source": [
    "#no duplicate rows\n",
    "data.duplicated().sum()"
   ]
  },
  {
   "cell_type": "code",
   "execution_count": 15,
   "metadata": {
    "colab": {
     "base_uri": "https://localhost:8080/"
    },
    "id": "E_jIZXjKugwc",
    "outputId": "13aec69c-771f-4a1f-d28b-a3cc2a874c78"
   },
   "outputs": [
    {
     "data": {
      "text/plain": [
       "1"
      ]
     },
     "execution_count": 15,
     "metadata": {
      "tags": []
     },
     "output_type": "execute_result"
    }
   ],
   "source": [
    "#checking duplicate columns:\n",
    "data_t = data.T\n",
    "data_t.duplicated().sum()\n"
   ]
  },
  {
   "cell_type": "code",
   "execution_count": 16,
   "metadata": {
    "colab": {
     "base_uri": "https://localhost:8080/",
     "height": 129
    },
    "id": "hGTuCuI0DwhQ",
    "outputId": "67926127-2ecf-4f6a-942b-a4b50d8ab961"
   },
   "outputs": [
    {
     "data": {
      "text/html": [
       "<div>\n",
       "<style scoped>\n",
       "    .dataframe tbody tr th:only-of-type {\n",
       "        vertical-align: middle;\n",
       "    }\n",
       "\n",
       "    .dataframe tbody tr th {\n",
       "        vertical-align: top;\n",
       "    }\n",
       "\n",
       "    .dataframe thead th {\n",
       "        text-align: right;\n",
       "    }\n",
       "</style>\n",
       "<table border=\"1\" class=\"dataframe\">\n",
       "  <thead>\n",
       "    <tr style=\"text-align: right;\">\n",
       "      <th></th>\n",
       "      <th>0</th>\n",
       "      <th>1</th>\n",
       "      <th>2</th>\n",
       "      <th>3</th>\n",
       "      <th>4</th>\n",
       "      <th>5</th>\n",
       "      <th>6</th>\n",
       "      <th>7</th>\n",
       "      <th>8</th>\n",
       "      <th>9</th>\n",
       "      <th>10</th>\n",
       "      <th>11</th>\n",
       "      <th>12</th>\n",
       "      <th>13</th>\n",
       "      <th>14</th>\n",
       "      <th>15</th>\n",
       "      <th>16</th>\n",
       "      <th>17</th>\n",
       "      <th>18</th>\n",
       "      <th>19</th>\n",
       "      <th>20</th>\n",
       "      <th>21</th>\n",
       "      <th>22</th>\n",
       "      <th>23</th>\n",
       "      <th>24</th>\n",
       "      <th>25</th>\n",
       "      <th>26</th>\n",
       "      <th>27</th>\n",
       "      <th>28</th>\n",
       "      <th>29</th>\n",
       "      <th>30</th>\n",
       "      <th>31</th>\n",
       "      <th>32</th>\n",
       "      <th>33</th>\n",
       "      <th>34</th>\n",
       "      <th>35</th>\n",
       "      <th>36</th>\n",
       "      <th>37</th>\n",
       "      <th>38</th>\n",
       "      <th>39</th>\n",
       "      <th>...</th>\n",
       "      <th>49960</th>\n",
       "      <th>49961</th>\n",
       "      <th>49962</th>\n",
       "      <th>49963</th>\n",
       "      <th>49964</th>\n",
       "      <th>49965</th>\n",
       "      <th>49966</th>\n",
       "      <th>49967</th>\n",
       "      <th>49968</th>\n",
       "      <th>49969</th>\n",
       "      <th>49970</th>\n",
       "      <th>49971</th>\n",
       "      <th>49972</th>\n",
       "      <th>49973</th>\n",
       "      <th>49974</th>\n",
       "      <th>49975</th>\n",
       "      <th>49976</th>\n",
       "      <th>49977</th>\n",
       "      <th>49978</th>\n",
       "      <th>49979</th>\n",
       "      <th>49980</th>\n",
       "      <th>49981</th>\n",
       "      <th>49982</th>\n",
       "      <th>49983</th>\n",
       "      <th>49984</th>\n",
       "      <th>49985</th>\n",
       "      <th>49986</th>\n",
       "      <th>49987</th>\n",
       "      <th>49988</th>\n",
       "      <th>49989</th>\n",
       "      <th>49990</th>\n",
       "      <th>49991</th>\n",
       "      <th>49992</th>\n",
       "      <th>49993</th>\n",
       "      <th>49994</th>\n",
       "      <th>49995</th>\n",
       "      <th>49996</th>\n",
       "      <th>49997</th>\n",
       "      <th>49998</th>\n",
       "      <th>49999</th>\n",
       "    </tr>\n",
       "  </thead>\n",
       "  <tbody>\n",
       "    <tr>\n",
       "      <th>invoice_id</th>\n",
       "      <td>1.92986e+09</td>\n",
       "      <td>1.92979e+09</td>\n",
       "      <td>1.93049e+09</td>\n",
       "      <td>1.92952e+09</td>\n",
       "      <td>1.92946e+09</td>\n",
       "      <td>1.92948e+09</td>\n",
       "      <td>1.93043e+09</td>\n",
       "      <td>1.92903e+09</td>\n",
       "      <td>2.96059e+09</td>\n",
       "      <td>1.92917e+09</td>\n",
       "      <td>2.96057e+09</td>\n",
       "      <td>1.92936e+09</td>\n",
       "      <td>1.9304e+09</td>\n",
       "      <td>1.93021e+09</td>\n",
       "      <td>1.92867e+09</td>\n",
       "      <td>2.96059e+09</td>\n",
       "      <td>1.92971e+09</td>\n",
       "      <td>1.92866e+09</td>\n",
       "      <td>1.92982e+09</td>\n",
       "      <td>1.92941e+09</td>\n",
       "      <td>1.92935e+09</td>\n",
       "      <td>1.92972e+09</td>\n",
       "      <td>1.99183e+09</td>\n",
       "      <td>1.99057e+09</td>\n",
       "      <td>1.92868e+09</td>\n",
       "      <td>1.9299e+09</td>\n",
       "      <td>1.92859e+09</td>\n",
       "      <td>1.92974e+09</td>\n",
       "      <td>1.92862e+09</td>\n",
       "      <td>1.92883e+09</td>\n",
       "      <td>2.96058e+09</td>\n",
       "      <td>1.9302e+09</td>\n",
       "      <td>1.92952e+09</td>\n",
       "      <td>1.92934e+09</td>\n",
       "      <td>1.92938e+09</td>\n",
       "      <td>1.92937e+09</td>\n",
       "      <td>1.93009e+09</td>\n",
       "      <td>1.92882e+09</td>\n",
       "      <td>1.92929e+09</td>\n",
       "      <td>1.92948e+09</td>\n",
       "      <td>...</td>\n",
       "      <td>1.93064e+09</td>\n",
       "      <td>1.93075e+09</td>\n",
       "      <td>1.93072e+09</td>\n",
       "      <td>2.96062e+09</td>\n",
       "      <td>1.93064e+09</td>\n",
       "      <td>1.93067e+09</td>\n",
       "      <td>1.93067e+09</td>\n",
       "      <td>1.93085e+09</td>\n",
       "      <td>1.93062e+09</td>\n",
       "      <td>1.93083e+09</td>\n",
       "      <td>1.93079e+09</td>\n",
       "      <td>1.93068e+09</td>\n",
       "      <td>1.93057e+09</td>\n",
       "      <td>1.93085e+09</td>\n",
       "      <td>1.93071e+09</td>\n",
       "      <td>1.93083e+09</td>\n",
       "      <td>2.96063e+09</td>\n",
       "      <td>1.93064e+09</td>\n",
       "      <td>2.96063e+09</td>\n",
       "      <td>1.93058e+09</td>\n",
       "      <td>1.93072e+09</td>\n",
       "      <td>1.93059e+09</td>\n",
       "      <td>1.93061e+09</td>\n",
       "      <td>1.93081e+09</td>\n",
       "      <td>1.93071e+09</td>\n",
       "      <td>1.93081e+09</td>\n",
       "      <td>1.93071e+09</td>\n",
       "      <td>1.93069e+09</td>\n",
       "      <td>1.93082e+09</td>\n",
       "      <td>1.93072e+09</td>\n",
       "      <td>1.93065e+09</td>\n",
       "      <td>1.93078e+09</td>\n",
       "      <td>1.93073e+09</td>\n",
       "      <td>1.93072e+09</td>\n",
       "      <td>1.93071e+09</td>\n",
       "      <td>1.93083e+09</td>\n",
       "      <td>1.93082e+09</td>\n",
       "      <td>1.93078e+09</td>\n",
       "      <td>1.93072e+09</td>\n",
       "      <td>1.93075e+09</td>\n",
       "    </tr>\n",
       "  </tbody>\n",
       "</table>\n",
       "<p>1 rows × 49993 columns</p>\n",
       "</div>"
      ],
      "text/plain": [
       "                  0            1      ...        49998        49999\n",
       "invoice_id  1.92986e+09  1.92979e+09  ...  1.93072e+09  1.93075e+09\n",
       "\n",
       "[1 rows x 49993 columns]"
      ]
     },
     "execution_count": 16,
     "metadata": {
      "tags": []
     },
     "output_type": "execute_result"
    }
   ],
   "source": [
    "#displaying duplicated column\n",
    "data_t[data_t.duplicated()]"
   ]
  },
  {
   "cell_type": "code",
   "execution_count": 17,
   "metadata": {
    "colab": {
     "base_uri": "https://localhost:8080/"
    },
    "id": "p1BcUo-jEdWs",
    "outputId": "7ac14201-5acf-4d70-8b53-92700829d084"
   },
   "outputs": [
    {
     "data": {
      "text/plain": [
       "(49993, 17)"
      ]
     },
     "execution_count": 17,
     "metadata": {
      "tags": []
     },
     "output_type": "execute_result"
    }
   ],
   "source": [
    "#no of rows before removing duplicated columns is 17\n",
    "dt=data_t.T\n",
    "dt.shape"
   ]
  },
  {
   "cell_type": "code",
   "execution_count": 18,
   "metadata": {
    "colab": {
     "base_uri": "https://localhost:8080/"
    },
    "id": "nHxdawpzEOwz",
    "outputId": "209a971b-257b-4396-ea5d-c027d26c26e4"
   },
   "outputs": [
    {
     "data": {
      "text/plain": [
       "(49993, 16)"
      ]
     },
     "execution_count": 18,
     "metadata": {
      "tags": []
     },
     "output_type": "execute_result"
    }
   ],
   "source": [
    "\n",
    "#after removing duplicate column, 16 columns\n",
    "data_unique = data_t.drop_duplicates(keep='first').T\n",
    "data_unique.shape"
   ]
  },
  {
   "cell_type": "code",
   "execution_count": 19,
   "metadata": {
    "colab": {
     "base_uri": "https://localhost:8080/"
    },
    "id": "sxZlPnJjE3z3",
    "outputId": "75e3b145-10ec-401a-ec29-b599e07391d6"
   },
   "outputs": [
    {
     "data": {
      "text/plain": [
       "0"
      ]
     },
     "execution_count": 19,
     "metadata": {
      "tags": []
     },
     "output_type": "execute_result"
    }
   ],
   "source": [
    "#once again checking duplicated rows(of the transpose)\n",
    "data_uni=data_unique.T\n",
    "data_uni.duplicated().sum()"
   ]
  },
  {
   "cell_type": "code",
   "execution_count": 20,
   "metadata": {
    "colab": {
     "base_uri": "https://localhost:8080/",
     "height": 574
    },
    "id": "pNGxXeekImoa",
    "outputId": "dc482fe0-c927-4333-d862-bd9be22e166f"
   },
   "outputs": [
    {
     "data": {
      "text/html": [
       "<div>\n",
       "<style scoped>\n",
       "    .dataframe tbody tr th:only-of-type {\n",
       "        vertical-align: middle;\n",
       "    }\n",
       "\n",
       "    .dataframe tbody tr th {\n",
       "        vertical-align: top;\n",
       "    }\n",
       "\n",
       "    .dataframe thead th {\n",
       "        text-align: right;\n",
       "    }\n",
       "</style>\n",
       "<table border=\"1\" class=\"dataframe\">\n",
       "  <thead>\n",
       "    <tr style=\"text-align: right;\">\n",
       "      <th></th>\n",
       "      <th>business_code</th>\n",
       "      <th>cust_number</th>\n",
       "      <th>name_customer</th>\n",
       "      <th>clear_date</th>\n",
       "      <th>buisness_year</th>\n",
       "      <th>doc_id</th>\n",
       "      <th>posting_date</th>\n",
       "      <th>document_create_date</th>\n",
       "      <th>document_create_date.1</th>\n",
       "      <th>due_in_date</th>\n",
       "      <th>invoice_currency</th>\n",
       "      <th>document type</th>\n",
       "      <th>total_open_amount</th>\n",
       "      <th>baseline_create_date</th>\n",
       "      <th>cust_payment_terms</th>\n",
       "      <th>isOpen</th>\n",
       "    </tr>\n",
       "  </thead>\n",
       "  <tbody>\n",
       "    <tr>\n",
       "      <th>0</th>\n",
       "      <td>U001</td>\n",
       "      <td>0200780383</td>\n",
       "      <td>MEIJ corporation</td>\n",
       "      <td>2019-09-26 00:00:00</td>\n",
       "      <td>2019</td>\n",
       "      <td>1.92986e+09</td>\n",
       "      <td>2019-09-11</td>\n",
       "      <td>20190910</td>\n",
       "      <td>20190911</td>\n",
       "      <td>2.01909e+07</td>\n",
       "      <td>USD</td>\n",
       "      <td>RV</td>\n",
       "      <td>51844.8</td>\n",
       "      <td>2.01909e+07</td>\n",
       "      <td>NAA8</td>\n",
       "      <td>0</td>\n",
       "    </tr>\n",
       "    <tr>\n",
       "      <th>1</th>\n",
       "      <td>U001</td>\n",
       "      <td>0200762301</td>\n",
       "      <td>C&amp;S WH corporation</td>\n",
       "      <td>2019-09-10 00:00:00</td>\n",
       "      <td>2019</td>\n",
       "      <td>1.92979e+09</td>\n",
       "      <td>2019-08-25</td>\n",
       "      <td>20190824</td>\n",
       "      <td>20190825</td>\n",
       "      <td>2.01909e+07</td>\n",
       "      <td>USD</td>\n",
       "      <td>RV</td>\n",
       "      <td>62110.4</td>\n",
       "      <td>2.01908e+07</td>\n",
       "      <td>NAC6</td>\n",
       "      <td>0</td>\n",
       "    </tr>\n",
       "    <tr>\n",
       "      <th>2</th>\n",
       "      <td>U001</td>\n",
       "      <td>0200769623</td>\n",
       "      <td>WAL-MAR corporation</td>\n",
       "      <td>2020-02-18 00:00:00</td>\n",
       "      <td>2020</td>\n",
       "      <td>1.93049e+09</td>\n",
       "      <td>2020-02-05</td>\n",
       "      <td>20200206</td>\n",
       "      <td>20200205</td>\n",
       "      <td>2.02002e+07</td>\n",
       "      <td>USD</td>\n",
       "      <td>RV</td>\n",
       "      <td>41038.5</td>\n",
       "      <td>2.02002e+07</td>\n",
       "      <td>NAH4</td>\n",
       "      <td>0</td>\n",
       "    </tr>\n",
       "    <tr>\n",
       "      <th>3</th>\n",
       "      <td>U001</td>\n",
       "      <td>100053926</td>\n",
       "      <td>CALD trust</td>\n",
       "      <td>2019-08-21 00:00:00</td>\n",
       "      <td>2019</td>\n",
       "      <td>1.92952e+09</td>\n",
       "      <td>2019-06-20</td>\n",
       "      <td>20190620</td>\n",
       "      <td>20190620</td>\n",
       "      <td>2.01908e+07</td>\n",
       "      <td>USD</td>\n",
       "      <td>RV</td>\n",
       "      <td>1382.94</td>\n",
       "      <td>2.01906e+07</td>\n",
       "      <td>NAVQ</td>\n",
       "      <td>0</td>\n",
       "    </tr>\n",
       "    <tr>\n",
       "      <th>4</th>\n",
       "      <td>U001</td>\n",
       "      <td>0200739534</td>\n",
       "      <td>OK llc</td>\n",
       "      <td>2019-06-26 00:00:00</td>\n",
       "      <td>2019</td>\n",
       "      <td>1.92946e+09</td>\n",
       "      <td>2019-06-07</td>\n",
       "      <td>20190607</td>\n",
       "      <td>20190607</td>\n",
       "      <td>2.01906e+07</td>\n",
       "      <td>USD</td>\n",
       "      <td>RV</td>\n",
       "      <td>85407.3</td>\n",
       "      <td>2.01906e+07</td>\n",
       "      <td>NAA8</td>\n",
       "      <td>0</td>\n",
       "    </tr>\n",
       "    <tr>\n",
       "      <th>...</th>\n",
       "      <td>...</td>\n",
       "      <td>...</td>\n",
       "      <td>...</td>\n",
       "      <td>...</td>\n",
       "      <td>...</td>\n",
       "      <td>...</td>\n",
       "      <td>...</td>\n",
       "      <td>...</td>\n",
       "      <td>...</td>\n",
       "      <td>...</td>\n",
       "      <td>...</td>\n",
       "      <td>...</td>\n",
       "      <td>...</td>\n",
       "      <td>...</td>\n",
       "      <td>...</td>\n",
       "      <td>...</td>\n",
       "    </tr>\n",
       "    <tr>\n",
       "      <th>49995</th>\n",
       "      <td>U001</td>\n",
       "      <td>0200769623</td>\n",
       "      <td>WAL-MAR corp</td>\n",
       "      <td>NaN</td>\n",
       "      <td>2020</td>\n",
       "      <td>1.93083e+09</td>\n",
       "      <td>2020-04-28</td>\n",
       "      <td>20200428</td>\n",
       "      <td>20200428</td>\n",
       "      <td>2.02005e+07</td>\n",
       "      <td>USD</td>\n",
       "      <td>RV</td>\n",
       "      <td>3360.35</td>\n",
       "      <td>2.02004e+07</td>\n",
       "      <td>NAH4</td>\n",
       "      <td>1</td>\n",
       "    </tr>\n",
       "    <tr>\n",
       "      <th>49996</th>\n",
       "      <td>U001</td>\n",
       "      <td>0200353024</td>\n",
       "      <td>DECA corporation</td>\n",
       "      <td>NaN</td>\n",
       "      <td>2020</td>\n",
       "      <td>1.93082e+09</td>\n",
       "      <td>2020-04-23</td>\n",
       "      <td>20200423</td>\n",
       "      <td>20200423</td>\n",
       "      <td>2.02005e+07</td>\n",
       "      <td>USD</td>\n",
       "      <td>RV</td>\n",
       "      <td>6598.36</td>\n",
       "      <td>2.02004e+07</td>\n",
       "      <td>NAM4</td>\n",
       "      <td>1</td>\n",
       "    </tr>\n",
       "    <tr>\n",
       "      <th>49997</th>\n",
       "      <td>U001</td>\n",
       "      <td>0200126819</td>\n",
       "      <td>MCLANE in</td>\n",
       "      <td>NaN</td>\n",
       "      <td>2020</td>\n",
       "      <td>1.93078e+09</td>\n",
       "      <td>2020-04-21</td>\n",
       "      <td>20200414</td>\n",
       "      <td>20200421</td>\n",
       "      <td>2.02005e+07</td>\n",
       "      <td>USD</td>\n",
       "      <td>RV</td>\n",
       "      <td>11168.6</td>\n",
       "      <td>2.02004e+07</td>\n",
       "      <td>NAA8</td>\n",
       "      <td>1</td>\n",
       "    </tr>\n",
       "    <tr>\n",
       "      <th>49998</th>\n",
       "      <td>U001</td>\n",
       "      <td>0200769623</td>\n",
       "      <td>WAL-MAR associates</td>\n",
       "      <td>NaN</td>\n",
       "      <td>2020</td>\n",
       "      <td>1.93072e+09</td>\n",
       "      <td>2020-03-30</td>\n",
       "      <td>20200328</td>\n",
       "      <td>20200330</td>\n",
       "      <td>2.02004e+07</td>\n",
       "      <td>USD</td>\n",
       "      <td>RV</td>\n",
       "      <td>13454.2</td>\n",
       "      <td>2.02003e+07</td>\n",
       "      <td>NAH4</td>\n",
       "      <td>1</td>\n",
       "    </tr>\n",
       "    <tr>\n",
       "      <th>49999</th>\n",
       "      <td>U001</td>\n",
       "      <td>0200769623</td>\n",
       "      <td>WAL-MAR</td>\n",
       "      <td>NaN</td>\n",
       "      <td>2020</td>\n",
       "      <td>1.93075e+09</td>\n",
       "      <td>2020-04-07</td>\n",
       "      <td>20200406</td>\n",
       "      <td>20200407</td>\n",
       "      <td>2.02004e+07</td>\n",
       "      <td>USD</td>\n",
       "      <td>RV</td>\n",
       "      <td>5577.8</td>\n",
       "      <td>2.02004e+07</td>\n",
       "      <td>NAH4</td>\n",
       "      <td>1</td>\n",
       "    </tr>\n",
       "  </tbody>\n",
       "</table>\n",
       "<p>49993 rows × 16 columns</p>\n",
       "</div>"
      ],
      "text/plain": [
       "      business_code cust_number  ... cust_payment_terms isOpen\n",
       "0              U001  0200780383  ...               NAA8      0\n",
       "1              U001  0200762301  ...               NAC6      0\n",
       "2              U001  0200769623  ...               NAH4      0\n",
       "3              U001   100053926  ...               NAVQ      0\n",
       "4              U001  0200739534  ...               NAA8      0\n",
       "...             ...         ...  ...                ...    ...\n",
       "49995          U001  0200769623  ...               NAH4      1\n",
       "49996          U001  0200353024  ...               NAM4      1\n",
       "49997          U001  0200126819  ...               NAA8      1\n",
       "49998          U001  0200769623  ...               NAH4      1\n",
       "49999          U001  0200769623  ...               NAH4      1\n",
       "\n",
       "[49993 rows x 16 columns]"
      ]
     },
     "execution_count": 20,
     "metadata": {
      "tags": []
     },
     "output_type": "execute_result"
    }
   ],
   "source": [
    "data_unique"
   ]
  },
  {
   "cell_type": "code",
   "execution_count": 21,
   "metadata": {
    "colab": {
     "base_uri": "https://localhost:8080/"
    },
    "id": "vu0R0J2lCY45",
    "outputId": "70926c0c-1bc7-4a8f-ef7a-705136be9b07"
   },
   "outputs": [
    {
     "data": {
      "text/plain": [
       "1"
      ]
     },
     "execution_count": 21,
     "metadata": {
      "tags": []
     },
     "output_type": "execute_result"
    }
   ],
   "source": [
    "#document type is constant\n",
    "len(pd.unique(data_unique['document type']))"
   ]
  },
  {
   "cell_type": "code",
   "execution_count": 22,
   "metadata": {
    "id": "PpJaKKjtYQCb"
   },
   "outputs": [],
   "source": [
    "#drop cons column\n",
    "data_unique.drop(columns=['document type'],inplace=True)"
   ]
  },
  {
   "cell_type": "code",
   "execution_count": 23,
   "metadata": {
    "colab": {
     "base_uri": "https://localhost:8080/",
     "height": 141
    },
    "id": "5Y-EwYT-fEN5",
    "outputId": "144a0472-f42f-47b4-a10f-019d2d62a9cd"
   },
   "outputs": [
    {
     "data": {
      "text/html": [
       "<div>\n",
       "<style scoped>\n",
       "    .dataframe tbody tr th:only-of-type {\n",
       "        vertical-align: middle;\n",
       "    }\n",
       "\n",
       "    .dataframe tbody tr th {\n",
       "        vertical-align: top;\n",
       "    }\n",
       "\n",
       "    .dataframe thead th {\n",
       "        text-align: right;\n",
       "    }\n",
       "</style>\n",
       "<table border=\"1\" class=\"dataframe\">\n",
       "  <thead>\n",
       "    <tr style=\"text-align: right;\">\n",
       "      <th></th>\n",
       "      <th>count</th>\n",
       "    </tr>\n",
       "    <tr>\n",
       "      <th>buisness_year</th>\n",
       "      <th></th>\n",
       "    </tr>\n",
       "  </thead>\n",
       "  <tbody>\n",
       "    <tr>\n",
       "      <th>2019.0</th>\n",
       "      <td>39470</td>\n",
       "    </tr>\n",
       "    <tr>\n",
       "      <th>2020.0</th>\n",
       "      <td>10523</td>\n",
       "    </tr>\n",
       "  </tbody>\n",
       "</table>\n",
       "</div>"
      ],
      "text/plain": [
       "               count\n",
       "buisness_year       \n",
       "2019.0         39470\n",
       "2020.0         10523"
      ]
     },
     "execution_count": 23,
     "metadata": {
      "tags": []
     },
     "output_type": "execute_result"
    }
   ],
   "source": [
    "data_unique.groupby(['buisness_year'])['buisness_year'].agg({'count'})"
   ]
  },
  {
   "cell_type": "code",
   "execution_count": 24,
   "metadata": {
    "colab": {
     "base_uri": "https://localhost:8080/"
    },
    "id": "C0C47S2XQSdP",
    "outputId": "27fe1a9b-0585-45a7-8838-ecbb1e516de3"
   },
   "outputs": [
    {
     "data": {
      "text/plain": [
       "(49993, 15)"
      ]
     },
     "execution_count": 24,
     "metadata": {
      "tags": []
     },
     "output_type": "execute_result"
    }
   ],
   "source": [
    "data_unique.shape"
   ]
  },
  {
   "cell_type": "code",
   "execution_count": 25,
   "metadata": {
    "id": "kxnvGlMYy14I"
   },
   "outputs": [],
   "source": [
    "#converting to datetime format\n",
    "data_unique['document_create_date']=pd.to_datetime(data_unique['document_create_date'].astype(int).astype(str))\n",
    "data_unique['clear_date']= pd.to_datetime(data_unique['clear_date'])\n",
    "data_unique['due_in_date']= pd.to_datetime(data_unique['due_in_date'].astype(int).astype(str))\n",
    "data_unique['document_create_date.1']= pd.to_datetime(data_unique['document_create_date.1'].astype(int).astype(str))\n",
    "data_unique['posting_date']= pd.to_datetime(data_unique['posting_date'])\n",
    "data_unique['baseline_create_date']= pd.to_datetime(data_unique['baseline_create_date'].astype(int).astype(str))\n"
   ]
  },
  {
   "cell_type": "code",
   "execution_count": 26,
   "metadata": {
    "id": "mHKAH-IfwbpN"
   },
   "outputs": [],
   "source": [
    "############splitting into test set and big dataset based on clear date##########3"
   ]
  },
  {
   "cell_type": "code",
   "execution_count": 27,
   "metadata": {
    "colab": {
     "base_uri": "https://localhost:8080/",
     "height": 470
    },
    "id": "db1CDbbtUm6Q",
    "outputId": "d7552408-c14d-4356-cdc2-e1122e05a816"
   },
   "outputs": [
    {
     "data": {
      "text/html": [
       "<div>\n",
       "<style scoped>\n",
       "    .dataframe tbody tr th:only-of-type {\n",
       "        vertical-align: middle;\n",
       "    }\n",
       "\n",
       "    .dataframe tbody tr th {\n",
       "        vertical-align: top;\n",
       "    }\n",
       "\n",
       "    .dataframe thead th {\n",
       "        text-align: right;\n",
       "    }\n",
       "</style>\n",
       "<table border=\"1\" class=\"dataframe\">\n",
       "  <thead>\n",
       "    <tr style=\"text-align: right;\">\n",
       "      <th></th>\n",
       "      <th>business_code</th>\n",
       "      <th>cust_number</th>\n",
       "      <th>name_customer</th>\n",
       "      <th>clear_date</th>\n",
       "      <th>buisness_year</th>\n",
       "      <th>doc_id</th>\n",
       "      <th>posting_date</th>\n",
       "      <th>document_create_date</th>\n",
       "      <th>document_create_date.1</th>\n",
       "      <th>due_in_date</th>\n",
       "      <th>invoice_currency</th>\n",
       "      <th>total_open_amount</th>\n",
       "      <th>baseline_create_date</th>\n",
       "      <th>cust_payment_terms</th>\n",
       "      <th>isOpen</th>\n",
       "    </tr>\n",
       "  </thead>\n",
       "  <tbody>\n",
       "    <tr>\n",
       "      <th>0</th>\n",
       "      <td>U001</td>\n",
       "      <td>0200772670</td>\n",
       "      <td>ASSOCIAT corp</td>\n",
       "      <td>NaT</td>\n",
       "      <td>2020</td>\n",
       "      <td>1.93066e+09</td>\n",
       "      <td>2020-03-16</td>\n",
       "      <td>2020-03-16</td>\n",
       "      <td>2020-03-16</td>\n",
       "      <td>2020-03-31</td>\n",
       "      <td>USD</td>\n",
       "      <td>57201.3</td>\n",
       "      <td>2020-03-16</td>\n",
       "      <td>NAU5</td>\n",
       "      <td>1</td>\n",
       "    </tr>\n",
       "    <tr>\n",
       "      <th>1</th>\n",
       "      <td>U001</td>\n",
       "      <td>0200769623</td>\n",
       "      <td>WAL-MAR llc</td>\n",
       "      <td>NaT</td>\n",
       "      <td>2020</td>\n",
       "      <td>1.93086e+09</td>\n",
       "      <td>2020-05-05</td>\n",
       "      <td>2020-05-04</td>\n",
       "      <td>2020-05-05</td>\n",
       "      <td>2020-05-20</td>\n",
       "      <td>USD</td>\n",
       "      <td>39687.8</td>\n",
       "      <td>2020-05-05</td>\n",
       "      <td>NAH4</td>\n",
       "      <td>1</td>\n",
       "    </tr>\n",
       "    <tr>\n",
       "      <th>2</th>\n",
       "      <td>U001</td>\n",
       "      <td>0200769623</td>\n",
       "      <td>WAL-MAR in</td>\n",
       "      <td>NaT</td>\n",
       "      <td>2020</td>\n",
       "      <td>1.93072e+09</td>\n",
       "      <td>2020-03-31</td>\n",
       "      <td>2020-03-30</td>\n",
       "      <td>2020-03-31</td>\n",
       "      <td>2020-04-15</td>\n",
       "      <td>USD</td>\n",
       "      <td>18533.3</td>\n",
       "      <td>2020-03-31</td>\n",
       "      <td>NAH4</td>\n",
       "      <td>1</td>\n",
       "    </tr>\n",
       "    <tr>\n",
       "      <th>3</th>\n",
       "      <td>CA02</td>\n",
       "      <td>0140104440</td>\n",
       "      <td>SO llc</td>\n",
       "      <td>NaT</td>\n",
       "      <td>2020</td>\n",
       "      <td>2.96062e+09</td>\n",
       "      <td>2020-03-17</td>\n",
       "      <td>2020-03-17</td>\n",
       "      <td>2020-03-17</td>\n",
       "      <td>2020-03-27</td>\n",
       "      <td>CAD</td>\n",
       "      <td>85103.7</td>\n",
       "      <td>2020-03-17</td>\n",
       "      <td>CA10</td>\n",
       "      <td>1</td>\n",
       "    </tr>\n",
       "    <tr>\n",
       "      <th>4</th>\n",
       "      <td>U001</td>\n",
       "      <td>0200772595</td>\n",
       "      <td>SAFEW</td>\n",
       "      <td>NaT</td>\n",
       "      <td>2020</td>\n",
       "      <td>1.93067e+09</td>\n",
       "      <td>2020-03-20</td>\n",
       "      <td>2020-03-18</td>\n",
       "      <td>2020-03-20</td>\n",
       "      <td>2020-04-04</td>\n",
       "      <td>USD</td>\n",
       "      <td>115623</td>\n",
       "      <td>2020-03-20</td>\n",
       "      <td>NAA8</td>\n",
       "      <td>1</td>\n",
       "    </tr>\n",
       "    <tr>\n",
       "      <th>...</th>\n",
       "      <td>...</td>\n",
       "      <td>...</td>\n",
       "      <td>...</td>\n",
       "      <td>...</td>\n",
       "      <td>...</td>\n",
       "      <td>...</td>\n",
       "      <td>...</td>\n",
       "      <td>...</td>\n",
       "      <td>...</td>\n",
       "      <td>...</td>\n",
       "      <td>...</td>\n",
       "      <td>...</td>\n",
       "      <td>...</td>\n",
       "      <td>...</td>\n",
       "      <td>...</td>\n",
       "    </tr>\n",
       "    <tr>\n",
       "      <th>4524</th>\n",
       "      <td>U001</td>\n",
       "      <td>0200769623</td>\n",
       "      <td>WAL-MAR corp</td>\n",
       "      <td>NaT</td>\n",
       "      <td>2020</td>\n",
       "      <td>1.93083e+09</td>\n",
       "      <td>2020-04-28</td>\n",
       "      <td>2020-04-28</td>\n",
       "      <td>2020-04-28</td>\n",
       "      <td>2020-05-13</td>\n",
       "      <td>USD</td>\n",
       "      <td>3360.35</td>\n",
       "      <td>2020-04-28</td>\n",
       "      <td>NAH4</td>\n",
       "      <td>1</td>\n",
       "    </tr>\n",
       "    <tr>\n",
       "      <th>4525</th>\n",
       "      <td>U001</td>\n",
       "      <td>0200353024</td>\n",
       "      <td>DECA corporation</td>\n",
       "      <td>NaT</td>\n",
       "      <td>2020</td>\n",
       "      <td>1.93082e+09</td>\n",
       "      <td>2020-04-23</td>\n",
       "      <td>2020-04-23</td>\n",
       "      <td>2020-04-23</td>\n",
       "      <td>2020-05-09</td>\n",
       "      <td>USD</td>\n",
       "      <td>6598.36</td>\n",
       "      <td>2020-04-16</td>\n",
       "      <td>NAM4</td>\n",
       "      <td>1</td>\n",
       "    </tr>\n",
       "    <tr>\n",
       "      <th>4526</th>\n",
       "      <td>U001</td>\n",
       "      <td>0200126819</td>\n",
       "      <td>MCLANE in</td>\n",
       "      <td>NaT</td>\n",
       "      <td>2020</td>\n",
       "      <td>1.93078e+09</td>\n",
       "      <td>2020-04-21</td>\n",
       "      <td>2020-04-14</td>\n",
       "      <td>2020-04-21</td>\n",
       "      <td>2020-05-06</td>\n",
       "      <td>USD</td>\n",
       "      <td>11168.6</td>\n",
       "      <td>2020-04-21</td>\n",
       "      <td>NAA8</td>\n",
       "      <td>1</td>\n",
       "    </tr>\n",
       "    <tr>\n",
       "      <th>4527</th>\n",
       "      <td>U001</td>\n",
       "      <td>0200769623</td>\n",
       "      <td>WAL-MAR associates</td>\n",
       "      <td>NaT</td>\n",
       "      <td>2020</td>\n",
       "      <td>1.93072e+09</td>\n",
       "      <td>2020-03-30</td>\n",
       "      <td>2020-03-28</td>\n",
       "      <td>2020-03-30</td>\n",
       "      <td>2020-04-14</td>\n",
       "      <td>USD</td>\n",
       "      <td>13454.2</td>\n",
       "      <td>2020-03-30</td>\n",
       "      <td>NAH4</td>\n",
       "      <td>1</td>\n",
       "    </tr>\n",
       "    <tr>\n",
       "      <th>4528</th>\n",
       "      <td>U001</td>\n",
       "      <td>0200769623</td>\n",
       "      <td>WAL-MAR</td>\n",
       "      <td>NaT</td>\n",
       "      <td>2020</td>\n",
       "      <td>1.93075e+09</td>\n",
       "      <td>2020-04-07</td>\n",
       "      <td>2020-04-06</td>\n",
       "      <td>2020-04-07</td>\n",
       "      <td>2020-04-22</td>\n",
       "      <td>USD</td>\n",
       "      <td>5577.8</td>\n",
       "      <td>2020-04-07</td>\n",
       "      <td>NAH4</td>\n",
       "      <td>1</td>\n",
       "    </tr>\n",
       "  </tbody>\n",
       "</table>\n",
       "<p>4529 rows × 15 columns</p>\n",
       "</div>"
      ],
      "text/plain": [
       "     business_code cust_number  ... cust_payment_terms isOpen\n",
       "0             U001  0200772670  ...               NAU5      1\n",
       "1             U001  0200769623  ...               NAH4      1\n",
       "2             U001  0200769623  ...               NAH4      1\n",
       "3             CA02  0140104440  ...               CA10      1\n",
       "4             U001  0200772595  ...               NAA8      1\n",
       "...            ...         ...  ...                ...    ...\n",
       "4524          U001  0200769623  ...               NAH4      1\n",
       "4525          U001  0200353024  ...               NAM4      1\n",
       "4526          U001  0200126819  ...               NAA8      1\n",
       "4527          U001  0200769623  ...               NAH4      1\n",
       "4528          U001  0200769623  ...               NAH4      1\n",
       "\n",
       "[4529 rows x 15 columns]"
      ]
     },
     "execution_count": 27,
     "metadata": {
      "tags": []
     },
     "output_type": "execute_result"
    }
   ],
   "source": [
    "#divide test set \n",
    "test_data=data_unique[data_unique.clear_date.isnull()].reset_index(drop=True)\n",
    "test_data"
   ]
  },
  {
   "cell_type": "code",
   "execution_count": 28,
   "metadata": {
    "colab": {
     "base_uri": "https://localhost:8080/",
     "height": 505
    },
    "id": "1RmBhwqPVecW",
    "outputId": "13e849a1-b296-4e50-ad21-b3e1de1cfecf"
   },
   "outputs": [
    {
     "data": {
      "text/html": [
       "<div>\n",
       "<style scoped>\n",
       "    .dataframe tbody tr th:only-of-type {\n",
       "        vertical-align: middle;\n",
       "    }\n",
       "\n",
       "    .dataframe tbody tr th {\n",
       "        vertical-align: top;\n",
       "    }\n",
       "\n",
       "    .dataframe thead th {\n",
       "        text-align: right;\n",
       "    }\n",
       "</style>\n",
       "<table border=\"1\" class=\"dataframe\">\n",
       "  <thead>\n",
       "    <tr style=\"text-align: right;\">\n",
       "      <th></th>\n",
       "      <th>business_code</th>\n",
       "      <th>cust_number</th>\n",
       "      <th>name_customer</th>\n",
       "      <th>clear_date</th>\n",
       "      <th>buisness_year</th>\n",
       "      <th>doc_id</th>\n",
       "      <th>posting_date</th>\n",
       "      <th>document_create_date</th>\n",
       "      <th>document_create_date.1</th>\n",
       "      <th>due_in_date</th>\n",
       "      <th>invoice_currency</th>\n",
       "      <th>total_open_amount</th>\n",
       "      <th>baseline_create_date</th>\n",
       "      <th>cust_payment_terms</th>\n",
       "      <th>isOpen</th>\n",
       "    </tr>\n",
       "  </thead>\n",
       "  <tbody>\n",
       "    <tr>\n",
       "      <th>0</th>\n",
       "      <td>U001</td>\n",
       "      <td>0200780383</td>\n",
       "      <td>MEIJ corporation</td>\n",
       "      <td>2019-09-26</td>\n",
       "      <td>2019</td>\n",
       "      <td>1.92986e+09</td>\n",
       "      <td>2019-09-11</td>\n",
       "      <td>2019-09-10</td>\n",
       "      <td>2019-09-11</td>\n",
       "      <td>2019-09-26</td>\n",
       "      <td>USD</td>\n",
       "      <td>51844.8</td>\n",
       "      <td>2019-09-11</td>\n",
       "      <td>NAA8</td>\n",
       "      <td>0</td>\n",
       "    </tr>\n",
       "    <tr>\n",
       "      <th>1</th>\n",
       "      <td>U001</td>\n",
       "      <td>0200762301</td>\n",
       "      <td>C&amp;S WH corporation</td>\n",
       "      <td>2019-09-10</td>\n",
       "      <td>2019</td>\n",
       "      <td>1.92979e+09</td>\n",
       "      <td>2019-08-25</td>\n",
       "      <td>2019-08-24</td>\n",
       "      <td>2019-08-25</td>\n",
       "      <td>2019-09-09</td>\n",
       "      <td>USD</td>\n",
       "      <td>62110.4</td>\n",
       "      <td>2019-08-25</td>\n",
       "      <td>NAC6</td>\n",
       "      <td>0</td>\n",
       "    </tr>\n",
       "    <tr>\n",
       "      <th>2</th>\n",
       "      <td>U001</td>\n",
       "      <td>0200769623</td>\n",
       "      <td>WAL-MAR corporation</td>\n",
       "      <td>2020-02-18</td>\n",
       "      <td>2020</td>\n",
       "      <td>1.93049e+09</td>\n",
       "      <td>2020-02-05</td>\n",
       "      <td>2020-02-06</td>\n",
       "      <td>2020-02-05</td>\n",
       "      <td>2020-02-20</td>\n",
       "      <td>USD</td>\n",
       "      <td>41038.5</td>\n",
       "      <td>2020-02-05</td>\n",
       "      <td>NAH4</td>\n",
       "      <td>0</td>\n",
       "    </tr>\n",
       "    <tr>\n",
       "      <th>3</th>\n",
       "      <td>U001</td>\n",
       "      <td>100053926</td>\n",
       "      <td>CALD trust</td>\n",
       "      <td>2019-08-21</td>\n",
       "      <td>2019</td>\n",
       "      <td>1.92952e+09</td>\n",
       "      <td>2019-06-20</td>\n",
       "      <td>2019-06-20</td>\n",
       "      <td>2019-06-20</td>\n",
       "      <td>2019-08-19</td>\n",
       "      <td>USD</td>\n",
       "      <td>1382.94</td>\n",
       "      <td>2019-06-20</td>\n",
       "      <td>NAVQ</td>\n",
       "      <td>0</td>\n",
       "    </tr>\n",
       "    <tr>\n",
       "      <th>4</th>\n",
       "      <td>U001</td>\n",
       "      <td>0200739534</td>\n",
       "      <td>OK llc</td>\n",
       "      <td>2019-06-26</td>\n",
       "      <td>2019</td>\n",
       "      <td>1.92946e+09</td>\n",
       "      <td>2019-06-07</td>\n",
       "      <td>2019-06-07</td>\n",
       "      <td>2019-06-07</td>\n",
       "      <td>2019-06-22</td>\n",
       "      <td>USD</td>\n",
       "      <td>85407.3</td>\n",
       "      <td>2019-06-07</td>\n",
       "      <td>NAA8</td>\n",
       "      <td>0</td>\n",
       "    </tr>\n",
       "    <tr>\n",
       "      <th>...</th>\n",
       "      <td>...</td>\n",
       "      <td>...</td>\n",
       "      <td>...</td>\n",
       "      <td>...</td>\n",
       "      <td>...</td>\n",
       "      <td>...</td>\n",
       "      <td>...</td>\n",
       "      <td>...</td>\n",
       "      <td>...</td>\n",
       "      <td>...</td>\n",
       "      <td>...</td>\n",
       "      <td>...</td>\n",
       "      <td>...</td>\n",
       "      <td>...</td>\n",
       "      <td>...</td>\n",
       "    </tr>\n",
       "    <tr>\n",
       "      <th>45459</th>\n",
       "      <td>CA02</td>\n",
       "      <td>0140104229</td>\n",
       "      <td>A &amp; W F trust</td>\n",
       "      <td>2020-03-02</td>\n",
       "      <td>2020</td>\n",
       "      <td>2.96061e+09</td>\n",
       "      <td>2020-01-23</td>\n",
       "      <td>2020-01-23</td>\n",
       "      <td>2020-01-23</td>\n",
       "      <td>2020-02-02</td>\n",
       "      <td>CAD</td>\n",
       "      <td>7380.72</td>\n",
       "      <td>2020-01-23</td>\n",
       "      <td>CA10</td>\n",
       "      <td>0</td>\n",
       "    </tr>\n",
       "    <tr>\n",
       "      <th>45460</th>\n",
       "      <td>U001</td>\n",
       "      <td>0200792734</td>\n",
       "      <td>MDV/ systems</td>\n",
       "      <td>2019-10-30</td>\n",
       "      <td>2019</td>\n",
       "      <td>1.92977e+09</td>\n",
       "      <td>2019-08-27</td>\n",
       "      <td>2019-08-21</td>\n",
       "      <td>2019-08-27</td>\n",
       "      <td>2019-10-31</td>\n",
       "      <td>USD</td>\n",
       "      <td>11949.1</td>\n",
       "      <td>2019-08-27</td>\n",
       "      <td>NAGD</td>\n",
       "      <td>0</td>\n",
       "    </tr>\n",
       "    <tr>\n",
       "      <th>45461</th>\n",
       "      <td>CA02</td>\n",
       "      <td>0140106099</td>\n",
       "      <td>SOCIETE  foundation</td>\n",
       "      <td>2019-05-09</td>\n",
       "      <td>2019</td>\n",
       "      <td>2.96054e+09</td>\n",
       "      <td>2019-04-24</td>\n",
       "      <td>2019-04-24</td>\n",
       "      <td>2019-04-24</td>\n",
       "      <td>2019-05-06</td>\n",
       "      <td>CAD</td>\n",
       "      <td>27441</td>\n",
       "      <td>2019-04-26</td>\n",
       "      <td>CA10</td>\n",
       "      <td>0</td>\n",
       "    </tr>\n",
       "    <tr>\n",
       "      <th>45462</th>\n",
       "      <td>U001</td>\n",
       "      <td>200126819</td>\n",
       "      <td>MCLANE trust</td>\n",
       "      <td>2019-02-13</td>\n",
       "      <td>2019</td>\n",
       "      <td>1.92865e+09</td>\n",
       "      <td>2019-01-24</td>\n",
       "      <td>2019-01-21</td>\n",
       "      <td>2019-01-24</td>\n",
       "      <td>2019-02-08</td>\n",
       "      <td>USD</td>\n",
       "      <td>13976</td>\n",
       "      <td>2019-01-24</td>\n",
       "      <td>NAA8</td>\n",
       "      <td>0</td>\n",
       "    </tr>\n",
       "    <tr>\n",
       "      <th>45463</th>\n",
       "      <td>U001</td>\n",
       "      <td>0200742791</td>\n",
       "      <td>QUI us</td>\n",
       "      <td>2019-07-18</td>\n",
       "      <td>2019</td>\n",
       "      <td>1.92956e+09</td>\n",
       "      <td>2019-06-29</td>\n",
       "      <td>2019-06-28</td>\n",
       "      <td>2019-06-29</td>\n",
       "      <td>2019-07-14</td>\n",
       "      <td>USD</td>\n",
       "      <td>4343.4</td>\n",
       "      <td>2019-06-29</td>\n",
       "      <td>NAA8</td>\n",
       "      <td>0</td>\n",
       "    </tr>\n",
       "  </tbody>\n",
       "</table>\n",
       "<p>45464 rows × 15 columns</p>\n",
       "</div>"
      ],
      "text/plain": [
       "      business_code cust_number  ... cust_payment_terms isOpen\n",
       "0              U001  0200780383  ...               NAA8      0\n",
       "1              U001  0200762301  ...               NAC6      0\n",
       "2              U001  0200769623  ...               NAH4      0\n",
       "3              U001   100053926  ...               NAVQ      0\n",
       "4              U001  0200739534  ...               NAA8      0\n",
       "...             ...         ...  ...                ...    ...\n",
       "45459          CA02  0140104229  ...               CA10      0\n",
       "45460          U001  0200792734  ...               NAGD      0\n",
       "45461          CA02  0140106099  ...               CA10      0\n",
       "45462          U001   200126819  ...               NAA8      0\n",
       "45463          U001  0200742791  ...               NAA8      0\n",
       "\n",
       "[45464 rows x 15 columns]"
      ]
     },
     "execution_count": 28,
     "metadata": {
      "tags": []
     },
     "output_type": "execute_result"
    }
   ],
   "source": [
    "#creating rest bigdata set\n",
    "big_set=data_unique[data_unique.clear_date.notnull()].reset_index(drop=True)\n",
    "big_set"
   ]
  },
  {
   "cell_type": "code",
   "execution_count": 29,
   "metadata": {
    "colab": {
     "base_uri": "https://localhost:8080/",
     "height": 69
    },
    "id": "F9qm6KyOgMJq",
    "outputId": "9ce47707-a561-474e-8956-8cb977dba938"
   },
   "outputs": [
    {
     "data": {
      "text/html": [
       "<div>\n",
       "<style scoped>\n",
       "    .dataframe tbody tr th:only-of-type {\n",
       "        vertical-align: middle;\n",
       "    }\n",
       "\n",
       "    .dataframe tbody tr th {\n",
       "        vertical-align: top;\n",
       "    }\n",
       "\n",
       "    .dataframe thead th {\n",
       "        text-align: right;\n",
       "    }\n",
       "</style>\n",
       "<table border=\"1\" class=\"dataframe\">\n",
       "  <thead>\n",
       "    <tr style=\"text-align: right;\">\n",
       "      <th></th>\n",
       "      <th>business_code</th>\n",
       "      <th>cust_number</th>\n",
       "      <th>name_customer</th>\n",
       "      <th>clear_date</th>\n",
       "      <th>buisness_year</th>\n",
       "      <th>doc_id</th>\n",
       "      <th>posting_date</th>\n",
       "      <th>document_create_date</th>\n",
       "      <th>document_create_date.1</th>\n",
       "      <th>due_in_date</th>\n",
       "      <th>invoice_currency</th>\n",
       "      <th>total_open_amount</th>\n",
       "      <th>baseline_create_date</th>\n",
       "      <th>cust_payment_terms</th>\n",
       "      <th>isOpen</th>\n",
       "    </tr>\n",
       "  </thead>\n",
       "  <tbody>\n",
       "  </tbody>\n",
       "</table>\n",
       "</div>"
      ],
      "text/plain": [
       "Empty DataFrame\n",
       "Columns: [business_code, cust_number, name_customer, clear_date, buisness_year, doc_id, posting_date, document_create_date, document_create_date.1, due_in_date, invoice_currency, total_open_amount, baseline_create_date, cust_payment_terms, isOpen]\n",
       "Index: []"
      ]
     },
     "execution_count": 29,
     "metadata": {
      "tags": []
     },
     "output_type": "execute_result"
    }
   ],
   "source": [
    "df1=big_set[big_set['document_create_date.1']>big_set['clear_date']] ##checking if create date.1 is after than clear date\n",
    "df1"
   ]
  },
  {
   "cell_type": "code",
   "execution_count": 30,
   "metadata": {
    "colab": {
     "base_uri": "https://localhost:8080/"
    },
    "id": "B1GjF6AHDQp3",
    "outputId": "25fb16b1-6bf4-47ac-c8c4-469f07b0daeb"
   },
   "outputs": [
    {
     "name": "stdout",
     "output_type": "stream",
     "text": [
      "Min create date 1 2020-02-27 00:00:00 Max create date 1 2020-05-25 00:00:00\n"
     ]
    }
   ],
   "source": [
    "#Finding min and max dates of create dat.1 of test case\n",
    "min_dt_test=test_data['document_create_date.1'].min()\n",
    "max_dt_test=test_data['document_create_date.1'].max()\n",
    "print(\"Min create date 1\",min_dt_test,\"Max create date 1\",max_dt_test)"
   ]
  },
  {
   "cell_type": "code",
   "execution_count": 31,
   "metadata": {
    "colab": {
     "base_uri": "https://localhost:8080/"
    },
    "id": "Qlf-xWFxEHs6",
    "outputId": "69d28775-0811-49db-becf-300e8801de7c"
   },
   "outputs": [
    {
     "name": "stdout",
     "output_type": "stream",
     "text": [
      "Min create date 1 2018-12-30 00:00:00 Max create date 1 2020-02-27 00:00:00\n"
     ]
    }
   ],
   "source": [
    "#Finding min and max dates of create dat.1 of big_set\n",
    "min_dt_big=big_set['document_create_date.1'].min()\n",
    "max_dt_big=big_set['document_create_date.1'].max()\n",
    "print(\"Min create date 1\",min_dt_big,\"Max create date 1\",max_dt_big)"
   ]
  },
  {
   "cell_type": "code",
   "execution_count": 32,
   "metadata": {
    "colab": {
     "base_uri": "https://localhost:8080/"
    },
    "id": "7iiePOc_GpG4",
    "outputId": "ab787007-af6b-4a64-d9d7-59bfa1c05f14"
   },
   "outputs": [
    {
     "data": {
      "text/plain": [
       "(4529, 15)"
      ]
     },
     "execution_count": 32,
     "metadata": {
      "tags": []
     },
     "output_type": "execute_result"
    }
   ],
   "source": [
    "test_data.shape"
   ]
  },
  {
   "cell_type": "code",
   "execution_count": 33,
   "metadata": {
    "id": "f5WeDh6AK9os"
   },
   "outputs": [],
   "source": [
    "###################splitting big_set to train set, val2, val1 based on document_create_date.1####################"
   ]
  },
  {
   "cell_type": "code",
   "execution_count": 34,
   "metadata": {
    "colab": {
     "base_uri": "https://localhost:8080/"
    },
    "id": "LNTVE_opFJTY",
    "outputId": "58659852-19e6-45b9-db33-ad7e71680c8e"
   },
   "outputs": [
    {
     "data": {
      "text/plain": [
       "(4344, 15)"
      ]
     },
     "execution_count": 34,
     "metadata": {
      "tags": []
     },
     "output_type": "execute_result"
    }
   ],
   "source": [
    "#splitting to validation set 2\n",
    "val2=big_set[big_set['document_create_date.1'] >= '2020-01-16'].copy()\n",
    "val2.shape"
   ]
  },
  {
   "cell_type": "code",
   "execution_count": 35,
   "metadata": {
    "colab": {
     "base_uri": "https://localhost:8080/",
     "height": 487
    },
    "id": "GQQtz4BUO_Cz",
    "outputId": "477b8f9e-2178-4e5b-d0fd-f77ab03034c1"
   },
   "outputs": [
    {
     "data": {
      "text/html": [
       "<div>\n",
       "<style scoped>\n",
       "    .dataframe tbody tr th:only-of-type {\n",
       "        vertical-align: middle;\n",
       "    }\n",
       "\n",
       "    .dataframe tbody tr th {\n",
       "        vertical-align: top;\n",
       "    }\n",
       "\n",
       "    .dataframe thead th {\n",
       "        text-align: right;\n",
       "    }\n",
       "</style>\n",
       "<table border=\"1\" class=\"dataframe\">\n",
       "  <thead>\n",
       "    <tr style=\"text-align: right;\">\n",
       "      <th></th>\n",
       "      <th>business_code</th>\n",
       "      <th>cust_number</th>\n",
       "      <th>name_customer</th>\n",
       "      <th>clear_date</th>\n",
       "      <th>buisness_year</th>\n",
       "      <th>doc_id</th>\n",
       "      <th>posting_date</th>\n",
       "      <th>document_create_date</th>\n",
       "      <th>document_create_date.1</th>\n",
       "      <th>due_in_date</th>\n",
       "      <th>invoice_currency</th>\n",
       "      <th>total_open_amount</th>\n",
       "      <th>baseline_create_date</th>\n",
       "      <th>cust_payment_terms</th>\n",
       "      <th>isOpen</th>\n",
       "    </tr>\n",
       "  </thead>\n",
       "  <tbody>\n",
       "    <tr>\n",
       "      <th>0</th>\n",
       "      <td>U001</td>\n",
       "      <td>0200769623</td>\n",
       "      <td>WAL-MAR corporation</td>\n",
       "      <td>2020-02-18</td>\n",
       "      <td>2020</td>\n",
       "      <td>1.93049e+09</td>\n",
       "      <td>2020-02-05</td>\n",
       "      <td>2020-02-06</td>\n",
       "      <td>2020-02-05</td>\n",
       "      <td>2020-02-20</td>\n",
       "      <td>USD</td>\n",
       "      <td>41038.5</td>\n",
       "      <td>2020-02-05</td>\n",
       "      <td>NAH4</td>\n",
       "      <td>0</td>\n",
       "    </tr>\n",
       "    <tr>\n",
       "      <th>1</th>\n",
       "      <td>U001</td>\n",
       "      <td>0200726979</td>\n",
       "      <td>BJ'S  foundation</td>\n",
       "      <td>2020-02-06</td>\n",
       "      <td>2020</td>\n",
       "      <td>1.93043e+09</td>\n",
       "      <td>2020-01-21</td>\n",
       "      <td>2020-01-22</td>\n",
       "      <td>2020-01-21</td>\n",
       "      <td>2020-02-05</td>\n",
       "      <td>USD</td>\n",
       "      <td>344.72</td>\n",
       "      <td>2020-01-21</td>\n",
       "      <td>NAA8</td>\n",
       "      <td>0</td>\n",
       "    </tr>\n",
       "    <tr>\n",
       "      <th>2</th>\n",
       "      <td>U001</td>\n",
       "      <td>0200794332</td>\n",
       "      <td>COST associates</td>\n",
       "      <td>2020-02-05</td>\n",
       "      <td>2020</td>\n",
       "      <td>1.9304e+09</td>\n",
       "      <td>2020-01-17</td>\n",
       "      <td>2020-01-15</td>\n",
       "      <td>2020-01-17</td>\n",
       "      <td>2020-02-01</td>\n",
       "      <td>USD</td>\n",
       "      <td>30220</td>\n",
       "      <td>2020-01-17</td>\n",
       "      <td>NAAX</td>\n",
       "      <td>0</td>\n",
       "    </tr>\n",
       "    <tr>\n",
       "      <th>3</th>\n",
       "      <td>U001</td>\n",
       "      <td>0200148860</td>\n",
       "      <td>DOLLA in</td>\n",
       "      <td>2020-02-06</td>\n",
       "      <td>2020</td>\n",
       "      <td>1.93042e+09</td>\n",
       "      <td>2020-01-22</td>\n",
       "      <td>2020-01-20</td>\n",
       "      <td>2020-01-22</td>\n",
       "      <td>2020-02-06</td>\n",
       "      <td>USD</td>\n",
       "      <td>15764</td>\n",
       "      <td>2020-01-22</td>\n",
       "      <td>NAA8</td>\n",
       "      <td>0</td>\n",
       "    </tr>\n",
       "    <tr>\n",
       "      <th>4</th>\n",
       "      <td>U001</td>\n",
       "      <td>0200794332</td>\n",
       "      <td>COST llc</td>\n",
       "      <td>2020-03-12</td>\n",
       "      <td>2020</td>\n",
       "      <td>1.93057e+09</td>\n",
       "      <td>2020-02-27</td>\n",
       "      <td>2020-02-26</td>\n",
       "      <td>2020-02-27</td>\n",
       "      <td>2020-03-13</td>\n",
       "      <td>USD</td>\n",
       "      <td>8793.09</td>\n",
       "      <td>2020-02-27</td>\n",
       "      <td>NAAX</td>\n",
       "      <td>0</td>\n",
       "    </tr>\n",
       "    <tr>\n",
       "      <th>...</th>\n",
       "      <td>...</td>\n",
       "      <td>...</td>\n",
       "      <td>...</td>\n",
       "      <td>...</td>\n",
       "      <td>...</td>\n",
       "      <td>...</td>\n",
       "      <td>...</td>\n",
       "      <td>...</td>\n",
       "      <td>...</td>\n",
       "      <td>...</td>\n",
       "      <td>...</td>\n",
       "      <td>...</td>\n",
       "      <td>...</td>\n",
       "      <td>...</td>\n",
       "      <td>...</td>\n",
       "    </tr>\n",
       "    <tr>\n",
       "      <th>4339</th>\n",
       "      <td>U001</td>\n",
       "      <td>0200020431</td>\n",
       "      <td>DEC trust</td>\n",
       "      <td>2020-01-27</td>\n",
       "      <td>2020</td>\n",
       "      <td>1.93043e+09</td>\n",
       "      <td>2020-01-22</td>\n",
       "      <td>2020-01-22</td>\n",
       "      <td>2020-01-22</td>\n",
       "      <td>2020-01-26</td>\n",
       "      <td>USD</td>\n",
       "      <td>17842.9</td>\n",
       "      <td>2020-01-16</td>\n",
       "      <td>NAM2</td>\n",
       "      <td>0</td>\n",
       "    </tr>\n",
       "    <tr>\n",
       "      <th>4340</th>\n",
       "      <td>U001</td>\n",
       "      <td>0200762301</td>\n",
       "      <td>C&amp;S WH co</td>\n",
       "      <td>2020-03-04</td>\n",
       "      <td>2020</td>\n",
       "      <td>1.93053e+09</td>\n",
       "      <td>2020-02-18</td>\n",
       "      <td>2020-02-17</td>\n",
       "      <td>2020-02-18</td>\n",
       "      <td>2020-03-04</td>\n",
       "      <td>USD</td>\n",
       "      <td>9063.93</td>\n",
       "      <td>2020-02-18</td>\n",
       "      <td>NAC6</td>\n",
       "      <td>0</td>\n",
       "    </tr>\n",
       "    <tr>\n",
       "      <th>4341</th>\n",
       "      <td>U001</td>\n",
       "      <td>CCU013</td>\n",
       "      <td>KRAFT F systems</td>\n",
       "      <td>2020-03-27</td>\n",
       "      <td>2020</td>\n",
       "      <td>1.93052e+09</td>\n",
       "      <td>2020-02-15</td>\n",
       "      <td>2020-02-11</td>\n",
       "      <td>2020-02-15</td>\n",
       "      <td>2020-02-15</td>\n",
       "      <td>USD</td>\n",
       "      <td>4275.26</td>\n",
       "      <td>2020-02-15</td>\n",
       "      <td>NAX2</td>\n",
       "      <td>0</td>\n",
       "    </tr>\n",
       "    <tr>\n",
       "      <th>4342</th>\n",
       "      <td>U001</td>\n",
       "      <td>0200762301</td>\n",
       "      <td>C&amp;S WH</td>\n",
       "      <td>2020-02-19</td>\n",
       "      <td>2020</td>\n",
       "      <td>1.93047e+09</td>\n",
       "      <td>2020-02-04</td>\n",
       "      <td>2020-02-02</td>\n",
       "      <td>2020-02-04</td>\n",
       "      <td>2020-02-19</td>\n",
       "      <td>USD</td>\n",
       "      <td>51066.6</td>\n",
       "      <td>2020-02-04</td>\n",
       "      <td>NAC6</td>\n",
       "      <td>0</td>\n",
       "    </tr>\n",
       "    <tr>\n",
       "      <th>4343</th>\n",
       "      <td>CA02</td>\n",
       "      <td>0140104229</td>\n",
       "      <td>A &amp; W F trust</td>\n",
       "      <td>2020-03-02</td>\n",
       "      <td>2020</td>\n",
       "      <td>2.96061e+09</td>\n",
       "      <td>2020-01-23</td>\n",
       "      <td>2020-01-23</td>\n",
       "      <td>2020-01-23</td>\n",
       "      <td>2020-02-02</td>\n",
       "      <td>CAD</td>\n",
       "      <td>7380.72</td>\n",
       "      <td>2020-01-23</td>\n",
       "      <td>CA10</td>\n",
       "      <td>0</td>\n",
       "    </tr>\n",
       "  </tbody>\n",
       "</table>\n",
       "<p>4344 rows × 15 columns</p>\n",
       "</div>"
      ],
      "text/plain": [
       "     business_code cust_number  ... cust_payment_terms isOpen\n",
       "0             U001  0200769623  ...               NAH4      0\n",
       "1             U001  0200726979  ...               NAA8      0\n",
       "2             U001  0200794332  ...               NAAX      0\n",
       "3             U001  0200148860  ...               NAA8      0\n",
       "4             U001  0200794332  ...               NAAX      0\n",
       "...            ...         ...  ...                ...    ...\n",
       "4339          U001  0200020431  ...               NAM2      0\n",
       "4340          U001  0200762301  ...               NAC6      0\n",
       "4341          U001      CCU013  ...               NAX2      0\n",
       "4342          U001  0200762301  ...               NAC6      0\n",
       "4343          CA02  0140104229  ...               CA10      0\n",
       "\n",
       "[4344 rows x 15 columns]"
      ]
     },
     "execution_count": 35,
     "metadata": {
      "tags": []
     },
     "output_type": "execute_result"
    }
   ],
   "source": [
    "val2.reset_index(drop=True)"
   ]
  },
  {
   "cell_type": "code",
   "execution_count": 36,
   "metadata": {
    "colab": {
     "base_uri": "https://localhost:8080/"
    },
    "id": "jJIn-w7YGv_8",
    "outputId": "dfb02973-f566-4a2a-ca11-8dad6363ad82"
   },
   "outputs": [
    {
     "data": {
      "text/plain": [
       "Timestamp('2020-01-15 00:00:00')"
      ]
     },
     "execution_count": 36,
     "metadata": {
      "tags": []
     },
     "output_type": "execute_result"
    }
   ],
   "source": [
    "#removing validation set 2 from big_set\n",
    "big_set.drop(big_set[big_set['document_create_date.1'] >= '2020-01-16'].index, inplace = True)\n",
    "big_set['document_create_date.1'].max()"
   ]
  },
  {
   "cell_type": "code",
   "execution_count": 37,
   "metadata": {
    "colab": {
     "base_uri": "https://localhost:8080/"
    },
    "id": "r5G7BiBILLiO",
    "outputId": "0fbe8a33-4608-4589-a09d-324a69467294"
   },
   "outputs": [
    {
     "data": {
      "text/plain": [
       "(2962, 15)"
      ]
     },
     "execution_count": 37,
     "metadata": {
      "tags": []
     },
     "output_type": "execute_result"
    }
   ],
   "source": [
    "#splitting rest big set to val1 and train set\n",
    "val1=big_set[big_set['document_create_date.1'] >= '2019-12-05'].copy()\n",
    "val1.shape"
   ]
  },
  {
   "cell_type": "code",
   "execution_count": 38,
   "metadata": {
    "colab": {
     "base_uri": "https://localhost:8080/",
     "height": 453
    },
    "id": "AXY3az8HRLHy",
    "outputId": "bcab36f2-bde6-440f-ead8-dd090d55cfa8"
   },
   "outputs": [
    {
     "data": {
      "text/html": [
       "<div>\n",
       "<style scoped>\n",
       "    .dataframe tbody tr th:only-of-type {\n",
       "        vertical-align: middle;\n",
       "    }\n",
       "\n",
       "    .dataframe tbody tr th {\n",
       "        vertical-align: top;\n",
       "    }\n",
       "\n",
       "    .dataframe thead th {\n",
       "        text-align: right;\n",
       "    }\n",
       "</style>\n",
       "<table border=\"1\" class=\"dataframe\">\n",
       "  <thead>\n",
       "    <tr style=\"text-align: right;\">\n",
       "      <th></th>\n",
       "      <th>business_code</th>\n",
       "      <th>cust_number</th>\n",
       "      <th>name_customer</th>\n",
       "      <th>clear_date</th>\n",
       "      <th>buisness_year</th>\n",
       "      <th>doc_id</th>\n",
       "      <th>posting_date</th>\n",
       "      <th>document_create_date</th>\n",
       "      <th>document_create_date.1</th>\n",
       "      <th>due_in_date</th>\n",
       "      <th>invoice_currency</th>\n",
       "      <th>total_open_amount</th>\n",
       "      <th>baseline_create_date</th>\n",
       "      <th>cust_payment_terms</th>\n",
       "      <th>isOpen</th>\n",
       "    </tr>\n",
       "  </thead>\n",
       "  <tbody>\n",
       "    <tr>\n",
       "      <th>0</th>\n",
       "      <td>U002</td>\n",
       "      <td>0200806643</td>\n",
       "      <td>PLAZA WA co</td>\n",
       "      <td>2020-02-18</td>\n",
       "      <td>2020</td>\n",
       "      <td>1.99057e+09</td>\n",
       "      <td>2020-01-10</td>\n",
       "      <td>2020-01-06</td>\n",
       "      <td>2020-01-10</td>\n",
       "      <td>2020-02-14</td>\n",
       "      <td>USD</td>\n",
       "      <td>1264.01</td>\n",
       "      <td>2020-01-10</td>\n",
       "      <td>NAG2</td>\n",
       "      <td>0</td>\n",
       "    </tr>\n",
       "    <tr>\n",
       "      <th>1</th>\n",
       "      <td>U001</td>\n",
       "      <td>0200769623</td>\n",
       "      <td>WAL-MAR co</td>\n",
       "      <td>2020-01-21</td>\n",
       "      <td>2020</td>\n",
       "      <td>1.93039e+09</td>\n",
       "      <td>2020-01-10</td>\n",
       "      <td>2020-01-10</td>\n",
       "      <td>2020-01-10</td>\n",
       "      <td>2020-01-25</td>\n",
       "      <td>USD</td>\n",
       "      <td>943.12</td>\n",
       "      <td>2020-01-10</td>\n",
       "      <td>NAH4</td>\n",
       "      <td>0</td>\n",
       "    </tr>\n",
       "    <tr>\n",
       "      <th>2</th>\n",
       "      <td>U001</td>\n",
       "      <td>0200769623</td>\n",
       "      <td>WAL-MAR associates</td>\n",
       "      <td>2019-12-27</td>\n",
       "      <td>2019</td>\n",
       "      <td>1.93028e+09</td>\n",
       "      <td>2019-12-17</td>\n",
       "      <td>2019-12-15</td>\n",
       "      <td>2019-12-17</td>\n",
       "      <td>2020-01-01</td>\n",
       "      <td>USD</td>\n",
       "      <td>34878.9</td>\n",
       "      <td>2019-12-17</td>\n",
       "      <td>NAH4</td>\n",
       "      <td>0</td>\n",
       "    </tr>\n",
       "    <tr>\n",
       "      <th>3</th>\n",
       "      <td>U001</td>\n",
       "      <td>0200744019</td>\n",
       "      <td>TARG llc</td>\n",
       "      <td>2019-12-26</td>\n",
       "      <td>2019</td>\n",
       "      <td>1.93022e+09</td>\n",
       "      <td>2019-12-07</td>\n",
       "      <td>2019-12-05</td>\n",
       "      <td>2019-12-07</td>\n",
       "      <td>2019-12-22</td>\n",
       "      <td>USD</td>\n",
       "      <td>27710</td>\n",
       "      <td>2019-12-07</td>\n",
       "      <td>NAA8</td>\n",
       "      <td>0</td>\n",
       "    </tr>\n",
       "    <tr>\n",
       "      <th>4</th>\n",
       "      <td>U001</td>\n",
       "      <td>0200700919</td>\n",
       "      <td>US</td>\n",
       "      <td>2019-12-30</td>\n",
       "      <td>2019</td>\n",
       "      <td>1.93027e+09</td>\n",
       "      <td>2019-12-12</td>\n",
       "      <td>2019-12-12</td>\n",
       "      <td>2019-12-12</td>\n",
       "      <td>2019-12-27</td>\n",
       "      <td>USD</td>\n",
       "      <td>72343.1</td>\n",
       "      <td>2019-12-12</td>\n",
       "      <td>NAA8</td>\n",
       "      <td>0</td>\n",
       "    </tr>\n",
       "    <tr>\n",
       "      <th>...</th>\n",
       "      <td>...</td>\n",
       "      <td>...</td>\n",
       "      <td>...</td>\n",
       "      <td>...</td>\n",
       "      <td>...</td>\n",
       "      <td>...</td>\n",
       "      <td>...</td>\n",
       "      <td>...</td>\n",
       "      <td>...</td>\n",
       "      <td>...</td>\n",
       "      <td>...</td>\n",
       "      <td>...</td>\n",
       "      <td>...</td>\n",
       "      <td>...</td>\n",
       "      <td>...</td>\n",
       "    </tr>\n",
       "    <tr>\n",
       "      <th>2957</th>\n",
       "      <td>U001</td>\n",
       "      <td>0200744019</td>\n",
       "      <td>TARG corp</td>\n",
       "      <td>2020-01-24</td>\n",
       "      <td>2020</td>\n",
       "      <td>1.93038e+09</td>\n",
       "      <td>2020-01-09</td>\n",
       "      <td>2020-01-09</td>\n",
       "      <td>2020-01-09</td>\n",
       "      <td>2020-01-24</td>\n",
       "      <td>USD</td>\n",
       "      <td>44346.1</td>\n",
       "      <td>2020-01-09</td>\n",
       "      <td>NAA8</td>\n",
       "      <td>0</td>\n",
       "    </tr>\n",
       "    <tr>\n",
       "      <th>2958</th>\n",
       "      <td>U001</td>\n",
       "      <td>0200726979</td>\n",
       "      <td>BJ'S</td>\n",
       "      <td>2019-12-26</td>\n",
       "      <td>2019</td>\n",
       "      <td>1.93026e+09</td>\n",
       "      <td>2019-12-11</td>\n",
       "      <td>2019-12-11</td>\n",
       "      <td>2019-12-11</td>\n",
       "      <td>2019-12-26</td>\n",
       "      <td>USD</td>\n",
       "      <td>502.72</td>\n",
       "      <td>2019-12-11</td>\n",
       "      <td>NAA8</td>\n",
       "      <td>0</td>\n",
       "    </tr>\n",
       "    <tr>\n",
       "      <th>2959</th>\n",
       "      <td>U001</td>\n",
       "      <td>0200705372</td>\n",
       "      <td>FR trust</td>\n",
       "      <td>2019-12-31</td>\n",
       "      <td>2019</td>\n",
       "      <td>1.93028e+09</td>\n",
       "      <td>2019-12-16</td>\n",
       "      <td>2019-12-14</td>\n",
       "      <td>2019-12-16</td>\n",
       "      <td>2019-12-31</td>\n",
       "      <td>USD</td>\n",
       "      <td>57543.1</td>\n",
       "      <td>2019-12-16</td>\n",
       "      <td>NAA8</td>\n",
       "      <td>0</td>\n",
       "    </tr>\n",
       "    <tr>\n",
       "      <th>2960</th>\n",
       "      <td>U001</td>\n",
       "      <td>0200592182</td>\n",
       "      <td>DECA in</td>\n",
       "      <td>2020-01-15</td>\n",
       "      <td>2020</td>\n",
       "      <td>1.93039e+09</td>\n",
       "      <td>2020-01-13</td>\n",
       "      <td>2020-01-13</td>\n",
       "      <td>2020-01-13</td>\n",
       "      <td>2020-01-24</td>\n",
       "      <td>USD</td>\n",
       "      <td>914.9</td>\n",
       "      <td>2020-01-01</td>\n",
       "      <td>NAM4</td>\n",
       "      <td>0</td>\n",
       "    </tr>\n",
       "    <tr>\n",
       "      <th>2961</th>\n",
       "      <td>U001</td>\n",
       "      <td>0200705742</td>\n",
       "      <td>DOT corp</td>\n",
       "      <td>2020-01-22</td>\n",
       "      <td>2020</td>\n",
       "      <td>1.93036e+09</td>\n",
       "      <td>2020-01-06</td>\n",
       "      <td>2020-01-07</td>\n",
       "      <td>2020-01-06</td>\n",
       "      <td>2020-01-26</td>\n",
       "      <td>USD</td>\n",
       "      <td>64631.6</td>\n",
       "      <td>2020-01-06</td>\n",
       "      <td>NAD1</td>\n",
       "      <td>0</td>\n",
       "    </tr>\n",
       "  </tbody>\n",
       "</table>\n",
       "<p>2962 rows × 15 columns</p>\n",
       "</div>"
      ],
      "text/plain": [
       "     business_code cust_number  ... cust_payment_terms isOpen\n",
       "0             U002  0200806643  ...               NAG2      0\n",
       "1             U001  0200769623  ...               NAH4      0\n",
       "2             U001  0200769623  ...               NAH4      0\n",
       "3             U001  0200744019  ...               NAA8      0\n",
       "4             U001  0200700919  ...               NAA8      0\n",
       "...            ...         ...  ...                ...    ...\n",
       "2957          U001  0200744019  ...               NAA8      0\n",
       "2958          U001  0200726979  ...               NAA8      0\n",
       "2959          U001  0200705372  ...               NAA8      0\n",
       "2960          U001  0200592182  ...               NAM4      0\n",
       "2961          U001  0200705742  ...               NAD1      0\n",
       "\n",
       "[2962 rows x 15 columns]"
      ]
     },
     "execution_count": 38,
     "metadata": {
      "tags": []
     },
     "output_type": "execute_result"
    }
   ],
   "source": [
    "val1.reset_index(drop=True)"
   ]
  },
  {
   "cell_type": "code",
   "execution_count": 39,
   "metadata": {
    "colab": {
     "base_uri": "https://localhost:8080/"
    },
    "id": "nHO16bc8OEX_",
    "outputId": "3a16401a-a18a-4ce8-c4ad-830ad2708e28"
   },
   "outputs": [
    {
     "data": {
      "text/plain": [
       "(38158, 15)"
      ]
     },
     "execution_count": 39,
     "metadata": {
      "tags": []
     },
     "output_type": "execute_result"
    }
   ],
   "source": [
    "train_set=big_set[big_set['document_create_date.1'] < '2019-12-05'].copy()\n",
    "train_set.shape"
   ]
  },
  {
   "cell_type": "code",
   "execution_count": 40,
   "metadata": {
    "colab": {
     "base_uri": "https://localhost:8080/",
     "height": 505
    },
    "id": "9dtYjtWORhTR",
    "outputId": "6566a221-4f15-4715-bf55-0f3ce5645782"
   },
   "outputs": [
    {
     "data": {
      "text/html": [
       "<div>\n",
       "<style scoped>\n",
       "    .dataframe tbody tr th:only-of-type {\n",
       "        vertical-align: middle;\n",
       "    }\n",
       "\n",
       "    .dataframe tbody tr th {\n",
       "        vertical-align: top;\n",
       "    }\n",
       "\n",
       "    .dataframe thead th {\n",
       "        text-align: right;\n",
       "    }\n",
       "</style>\n",
       "<table border=\"1\" class=\"dataframe\">\n",
       "  <thead>\n",
       "    <tr style=\"text-align: right;\">\n",
       "      <th></th>\n",
       "      <th>business_code</th>\n",
       "      <th>cust_number</th>\n",
       "      <th>name_customer</th>\n",
       "      <th>clear_date</th>\n",
       "      <th>buisness_year</th>\n",
       "      <th>doc_id</th>\n",
       "      <th>posting_date</th>\n",
       "      <th>document_create_date</th>\n",
       "      <th>document_create_date.1</th>\n",
       "      <th>due_in_date</th>\n",
       "      <th>invoice_currency</th>\n",
       "      <th>total_open_amount</th>\n",
       "      <th>baseline_create_date</th>\n",
       "      <th>cust_payment_terms</th>\n",
       "      <th>isOpen</th>\n",
       "    </tr>\n",
       "  </thead>\n",
       "  <tbody>\n",
       "    <tr>\n",
       "      <th>0</th>\n",
       "      <td>U001</td>\n",
       "      <td>0200780383</td>\n",
       "      <td>MEIJ corporation</td>\n",
       "      <td>2019-09-26</td>\n",
       "      <td>2019</td>\n",
       "      <td>1.92986e+09</td>\n",
       "      <td>2019-09-11</td>\n",
       "      <td>2019-09-10</td>\n",
       "      <td>2019-09-11</td>\n",
       "      <td>2019-09-26</td>\n",
       "      <td>USD</td>\n",
       "      <td>51844.8</td>\n",
       "      <td>2019-09-11</td>\n",
       "      <td>NAA8</td>\n",
       "      <td>0</td>\n",
       "    </tr>\n",
       "    <tr>\n",
       "      <th>1</th>\n",
       "      <td>U001</td>\n",
       "      <td>0200762301</td>\n",
       "      <td>C&amp;S WH corporation</td>\n",
       "      <td>2019-09-10</td>\n",
       "      <td>2019</td>\n",
       "      <td>1.92979e+09</td>\n",
       "      <td>2019-08-25</td>\n",
       "      <td>2019-08-24</td>\n",
       "      <td>2019-08-25</td>\n",
       "      <td>2019-09-09</td>\n",
       "      <td>USD</td>\n",
       "      <td>62110.4</td>\n",
       "      <td>2019-08-25</td>\n",
       "      <td>NAC6</td>\n",
       "      <td>0</td>\n",
       "    </tr>\n",
       "    <tr>\n",
       "      <th>2</th>\n",
       "      <td>U001</td>\n",
       "      <td>100053926</td>\n",
       "      <td>CALD trust</td>\n",
       "      <td>2019-08-21</td>\n",
       "      <td>2019</td>\n",
       "      <td>1.92952e+09</td>\n",
       "      <td>2019-06-20</td>\n",
       "      <td>2019-06-20</td>\n",
       "      <td>2019-06-20</td>\n",
       "      <td>2019-08-19</td>\n",
       "      <td>USD</td>\n",
       "      <td>1382.94</td>\n",
       "      <td>2019-06-20</td>\n",
       "      <td>NAVQ</td>\n",
       "      <td>0</td>\n",
       "    </tr>\n",
       "    <tr>\n",
       "      <th>3</th>\n",
       "      <td>U001</td>\n",
       "      <td>0200739534</td>\n",
       "      <td>OK llc</td>\n",
       "      <td>2019-06-26</td>\n",
       "      <td>2019</td>\n",
       "      <td>1.92946e+09</td>\n",
       "      <td>2019-06-07</td>\n",
       "      <td>2019-06-07</td>\n",
       "      <td>2019-06-07</td>\n",
       "      <td>2019-06-22</td>\n",
       "      <td>USD</td>\n",
       "      <td>85407.3</td>\n",
       "      <td>2019-06-07</td>\n",
       "      <td>NAA8</td>\n",
       "      <td>0</td>\n",
       "    </tr>\n",
       "    <tr>\n",
       "      <th>4</th>\n",
       "      <td>U001</td>\n",
       "      <td>0200337148</td>\n",
       "      <td>COAS co</td>\n",
       "      <td>2019-06-27</td>\n",
       "      <td>2019</td>\n",
       "      <td>1.92948e+09</td>\n",
       "      <td>2019-06-12</td>\n",
       "      <td>2019-06-12</td>\n",
       "      <td>2019-06-12</td>\n",
       "      <td>2019-06-27</td>\n",
       "      <td>USD</td>\n",
       "      <td>47117.7</td>\n",
       "      <td>2019-06-12</td>\n",
       "      <td>NAA8</td>\n",
       "      <td>0</td>\n",
       "    </tr>\n",
       "    <tr>\n",
       "      <th>...</th>\n",
       "      <td>...</td>\n",
       "      <td>...</td>\n",
       "      <td>...</td>\n",
       "      <td>...</td>\n",
       "      <td>...</td>\n",
       "      <td>...</td>\n",
       "      <td>...</td>\n",
       "      <td>...</td>\n",
       "      <td>...</td>\n",
       "      <td>...</td>\n",
       "      <td>...</td>\n",
       "      <td>...</td>\n",
       "      <td>...</td>\n",
       "      <td>...</td>\n",
       "      <td>...</td>\n",
       "    </tr>\n",
       "    <tr>\n",
       "      <th>38153</th>\n",
       "      <td>U001</td>\n",
       "      <td>0200769623</td>\n",
       "      <td>WAL-MAR associates</td>\n",
       "      <td>2019-02-27</td>\n",
       "      <td>2019</td>\n",
       "      <td>1.9288e+09</td>\n",
       "      <td>2019-02-15</td>\n",
       "      <td>2019-02-14</td>\n",
       "      <td>2019-02-15</td>\n",
       "      <td>2019-03-02</td>\n",
       "      <td>USD</td>\n",
       "      <td>10435.8</td>\n",
       "      <td>2019-02-15</td>\n",
       "      <td>NAH4</td>\n",
       "      <td>0</td>\n",
       "    </tr>\n",
       "    <tr>\n",
       "      <th>38154</th>\n",
       "      <td>U001</td>\n",
       "      <td>0200792734</td>\n",
       "      <td>MDV/ systems</td>\n",
       "      <td>2019-10-30</td>\n",
       "      <td>2019</td>\n",
       "      <td>1.92977e+09</td>\n",
       "      <td>2019-08-27</td>\n",
       "      <td>2019-08-21</td>\n",
       "      <td>2019-08-27</td>\n",
       "      <td>2019-10-31</td>\n",
       "      <td>USD</td>\n",
       "      <td>11949.1</td>\n",
       "      <td>2019-08-27</td>\n",
       "      <td>NAGD</td>\n",
       "      <td>0</td>\n",
       "    </tr>\n",
       "    <tr>\n",
       "      <th>38155</th>\n",
       "      <td>CA02</td>\n",
       "      <td>0140106099</td>\n",
       "      <td>SOCIETE  foundation</td>\n",
       "      <td>2019-05-09</td>\n",
       "      <td>2019</td>\n",
       "      <td>2.96054e+09</td>\n",
       "      <td>2019-04-24</td>\n",
       "      <td>2019-04-24</td>\n",
       "      <td>2019-04-24</td>\n",
       "      <td>2019-05-06</td>\n",
       "      <td>CAD</td>\n",
       "      <td>27441</td>\n",
       "      <td>2019-04-26</td>\n",
       "      <td>CA10</td>\n",
       "      <td>0</td>\n",
       "    </tr>\n",
       "    <tr>\n",
       "      <th>38156</th>\n",
       "      <td>U001</td>\n",
       "      <td>200126819</td>\n",
       "      <td>MCLANE trust</td>\n",
       "      <td>2019-02-13</td>\n",
       "      <td>2019</td>\n",
       "      <td>1.92865e+09</td>\n",
       "      <td>2019-01-24</td>\n",
       "      <td>2019-01-21</td>\n",
       "      <td>2019-01-24</td>\n",
       "      <td>2019-02-08</td>\n",
       "      <td>USD</td>\n",
       "      <td>13976</td>\n",
       "      <td>2019-01-24</td>\n",
       "      <td>NAA8</td>\n",
       "      <td>0</td>\n",
       "    </tr>\n",
       "    <tr>\n",
       "      <th>38157</th>\n",
       "      <td>U001</td>\n",
       "      <td>0200742791</td>\n",
       "      <td>QUI us</td>\n",
       "      <td>2019-07-18</td>\n",
       "      <td>2019</td>\n",
       "      <td>1.92956e+09</td>\n",
       "      <td>2019-06-29</td>\n",
       "      <td>2019-06-28</td>\n",
       "      <td>2019-06-29</td>\n",
       "      <td>2019-07-14</td>\n",
       "      <td>USD</td>\n",
       "      <td>4343.4</td>\n",
       "      <td>2019-06-29</td>\n",
       "      <td>NAA8</td>\n",
       "      <td>0</td>\n",
       "    </tr>\n",
       "  </tbody>\n",
       "</table>\n",
       "<p>38158 rows × 15 columns</p>\n",
       "</div>"
      ],
      "text/plain": [
       "      business_code cust_number  ... cust_payment_terms isOpen\n",
       "0              U001  0200780383  ...               NAA8      0\n",
       "1              U001  0200762301  ...               NAC6      0\n",
       "2              U001   100053926  ...               NAVQ      0\n",
       "3              U001  0200739534  ...               NAA8      0\n",
       "4              U001  0200337148  ...               NAA8      0\n",
       "...             ...         ...  ...                ...    ...\n",
       "38153          U001  0200769623  ...               NAH4      0\n",
       "38154          U001  0200792734  ...               NAGD      0\n",
       "38155          CA02  0140106099  ...               CA10      0\n",
       "38156          U001   200126819  ...               NAA8      0\n",
       "38157          U001  0200742791  ...               NAA8      0\n",
       "\n",
       "[38158 rows x 15 columns]"
      ]
     },
     "execution_count": 40,
     "metadata": {
      "tags": []
     },
     "output_type": "execute_result"
    }
   ],
   "source": [
    "train_set.reset_index(drop=True)"
   ]
  },
  {
   "cell_type": "code",
   "execution_count": 41,
   "metadata": {
    "id": "qv0xLlIGOmaF"
   },
   "outputs": [],
   "source": [
    "##############target label#################"
   ]
  },
  {
   "cell_type": "code",
   "execution_count": 42,
   "metadata": {
    "id": "JWBgqWRUmcaN"
   },
   "outputs": [],
   "source": [
    "train_set['target_delay']=(train_set['clear_date'] - train_set['due_in_date'])\n",
    "train_set['target_delay']=train_set['target_delay'].dt.days\n"
   ]
  },
  {
   "cell_type": "code",
   "execution_count": 43,
   "metadata": {
    "colab": {
     "base_uri": "https://localhost:8080/",
     "height": 79
    },
    "id": "SPn1hxnsMthk",
    "outputId": "b5bd0483-0b67-4d8f-8d75-9d551afe93c9"
   },
   "outputs": [
    {
     "data": {
      "text/html": [
       "<div>\n",
       "<style scoped>\n",
       "    .dataframe tbody tr th:only-of-type {\n",
       "        vertical-align: middle;\n",
       "    }\n",
       "\n",
       "    .dataframe tbody tr th {\n",
       "        vertical-align: top;\n",
       "    }\n",
       "\n",
       "    .dataframe thead th {\n",
       "        text-align: right;\n",
       "    }\n",
       "</style>\n",
       "<table border=\"1\" class=\"dataframe\">\n",
       "  <thead>\n",
       "    <tr style=\"text-align: right;\">\n",
       "      <th></th>\n",
       "      <th>target_delay</th>\n",
       "    </tr>\n",
       "  </thead>\n",
       "  <tbody>\n",
       "    <tr>\n",
       "      <th>target_delay</th>\n",
       "      <td>1.0</td>\n",
       "    </tr>\n",
       "  </tbody>\n",
       "</table>\n",
       "</div>"
      ],
      "text/plain": [
       "              target_delay\n",
       "target_delay           1.0"
      ]
     },
     "execution_count": 43,
     "metadata": {
      "tags": []
     },
     "output_type": "execute_result"
    }
   ],
   "source": [
    "train_set.corr()"
   ]
  },
  {
   "cell_type": "code",
   "execution_count": 44,
   "metadata": {
    "colab": {
     "base_uri": "https://localhost:8080/"
    },
    "id": "SNLYZ-7iPC3J",
    "outputId": "3a616115-4d1c-4396-ee57-38e8722fa97f"
   },
   "outputs": [
    {
     "data": {
      "text/plain": [
       "count    38158.000000\n",
       "mean         1.068714\n",
       "std         11.109426\n",
       "min        -81.000000\n",
       "25%         -3.000000\n",
       "50%          0.000000\n",
       "75%          2.000000\n",
       "max        212.000000\n",
       "Name: target_delay, dtype: float64"
      ]
     },
     "execution_count": 44,
     "metadata": {
      "tags": []
     },
     "output_type": "execute_result"
    }
   ],
   "source": [
    "train_set['target_delay'].describe()\n"
   ]
  },
  {
   "cell_type": "code",
   "execution_count": 45,
   "metadata": {
    "id": "KnUyqkugFT3f"
   },
   "outputs": [],
   "source": [
    "#setting target_delay in val1 and  val2\n",
    "val1['target_delay']=(val1['clear_date'] - val1['due_in_date'])\n",
    "val1['target_delay']=val1['target_delay'].dt.days\n",
    "\n",
    "val2['target_delay']=(val2['clear_date'] - val2['due_in_date'])\n",
    "val2['target_delay']=val2['target_delay'].dt.days\n",
    "\n"
   ]
  },
  {
   "cell_type": "code",
   "execution_count": 46,
   "metadata": {
    "id": "e-qqJGKeVLG3"
   },
   "outputs": [],
   "source": [
    "###############################EDA and Feauture Engineering##########################"
   ]
  },
  {
   "cell_type": "code",
   "execution_count": 47,
   "metadata": {
    "id": "y18w5U5GsI8d"
   },
   "outputs": [],
   "source": [
    "import seaborn as sns, numpy as np"
   ]
  },
  {
   "cell_type": "code",
   "execution_count": 48,
   "metadata": {
    "id": "sPsKVNoXGTQv"
   },
   "outputs": [],
   "source": [
    "########ENCODING STRING COLUMNS################ "
   ]
  },
  {
   "cell_type": "code",
   "execution_count": 49,
   "metadata": {
    "colab": {
     "base_uri": "https://localhost:8080/"
    },
    "id": "MD6V2HM6Zqez",
    "outputId": "e759f33d-98f6-4227-e6a6-f4df011db964"
   },
   "outputs": [
    {
     "data": {
      "text/plain": [
       "business_code                     object\n",
       "cust_number                       object\n",
       "name_customer                     object\n",
       "clear_date                datetime64[ns]\n",
       "buisness_year                     object\n",
       "doc_id                            object\n",
       "posting_date              datetime64[ns]\n",
       "document_create_date      datetime64[ns]\n",
       "document_create_date.1    datetime64[ns]\n",
       "due_in_date               datetime64[ns]\n",
       "invoice_currency                  object\n",
       "total_open_amount                 object\n",
       "baseline_create_date      datetime64[ns]\n",
       "cust_payment_terms                object\n",
       "isOpen                            object\n",
       "target_delay                       int64\n",
       "dtype: object"
      ]
     },
     "execution_count": 49,
     "metadata": {
      "tags": []
     },
     "output_type": "execute_result"
    }
   ],
   "source": [
    "#encoding the train_set\n",
    "train_set.dtypes"
   ]
  },
  {
   "cell_type": "code",
   "execution_count": 50,
   "metadata": {
    "colab": {
     "base_uri": "https://localhost:8080/",
     "height": 253
    },
    "id": "F2U3daPhMf1u",
    "outputId": "46ff796c-ed4d-4238-bee2-da62035b9f28"
   },
   "outputs": [
    {
     "data": {
      "text/html": [
       "<div>\n",
       "<style scoped>\n",
       "    .dataframe tbody tr th:only-of-type {\n",
       "        vertical-align: middle;\n",
       "    }\n",
       "\n",
       "    .dataframe tbody tr th {\n",
       "        vertical-align: top;\n",
       "    }\n",
       "\n",
       "    .dataframe thead th {\n",
       "        text-align: right;\n",
       "    }\n",
       "</style>\n",
       "<table border=\"1\" class=\"dataframe\">\n",
       "  <thead>\n",
       "    <tr style=\"text-align: right;\">\n",
       "      <th></th>\n",
       "      <th>cust_number</th>\n",
       "      <th>name_customer</th>\n",
       "      <th>clear_date</th>\n",
       "      <th>buisness_year</th>\n",
       "      <th>doc_id</th>\n",
       "      <th>posting_date</th>\n",
       "      <th>document_create_date</th>\n",
       "      <th>document_create_date.1</th>\n",
       "      <th>due_in_date</th>\n",
       "      <th>invoice_currency</th>\n",
       "      <th>total_open_amount</th>\n",
       "      <th>baseline_create_date</th>\n",
       "      <th>cust_payment_terms</th>\n",
       "      <th>isOpen</th>\n",
       "      <th>target_delay</th>\n",
       "    </tr>\n",
       "    <tr>\n",
       "      <th>business_code</th>\n",
       "      <th></th>\n",
       "      <th></th>\n",
       "      <th></th>\n",
       "      <th></th>\n",
       "      <th></th>\n",
       "      <th></th>\n",
       "      <th></th>\n",
       "      <th></th>\n",
       "      <th></th>\n",
       "      <th></th>\n",
       "      <th></th>\n",
       "      <th></th>\n",
       "      <th></th>\n",
       "      <th></th>\n",
       "      <th></th>\n",
       "    </tr>\n",
       "  </thead>\n",
       "  <tbody>\n",
       "    <tr>\n",
       "      <th>CA02</th>\n",
       "      <td>3100</td>\n",
       "      <td>3100</td>\n",
       "      <td>3100</td>\n",
       "      <td>3100</td>\n",
       "      <td>3100</td>\n",
       "      <td>3100</td>\n",
       "      <td>3100</td>\n",
       "      <td>3100</td>\n",
       "      <td>3100</td>\n",
       "      <td>3100</td>\n",
       "      <td>3100</td>\n",
       "      <td>3100</td>\n",
       "      <td>3100</td>\n",
       "      <td>3100</td>\n",
       "      <td>3100</td>\n",
       "    </tr>\n",
       "    <tr>\n",
       "      <th>U001</th>\n",
       "      <td>34393</td>\n",
       "      <td>34393</td>\n",
       "      <td>34393</td>\n",
       "      <td>34393</td>\n",
       "      <td>34393</td>\n",
       "      <td>34393</td>\n",
       "      <td>34393</td>\n",
       "      <td>34393</td>\n",
       "      <td>34393</td>\n",
       "      <td>34393</td>\n",
       "      <td>34393</td>\n",
       "      <td>34393</td>\n",
       "      <td>34393</td>\n",
       "      <td>34393</td>\n",
       "      <td>34393</td>\n",
       "    </tr>\n",
       "    <tr>\n",
       "      <th>U002</th>\n",
       "      <td>140</td>\n",
       "      <td>140</td>\n",
       "      <td>140</td>\n",
       "      <td>140</td>\n",
       "      <td>140</td>\n",
       "      <td>140</td>\n",
       "      <td>140</td>\n",
       "      <td>140</td>\n",
       "      <td>140</td>\n",
       "      <td>140</td>\n",
       "      <td>140</td>\n",
       "      <td>140</td>\n",
       "      <td>140</td>\n",
       "      <td>140</td>\n",
       "      <td>140</td>\n",
       "    </tr>\n",
       "    <tr>\n",
       "      <th>U005</th>\n",
       "      <td>11</td>\n",
       "      <td>11</td>\n",
       "      <td>11</td>\n",
       "      <td>11</td>\n",
       "      <td>11</td>\n",
       "      <td>11</td>\n",
       "      <td>11</td>\n",
       "      <td>11</td>\n",
       "      <td>11</td>\n",
       "      <td>11</td>\n",
       "      <td>11</td>\n",
       "      <td>11</td>\n",
       "      <td>11</td>\n",
       "      <td>11</td>\n",
       "      <td>11</td>\n",
       "    </tr>\n",
       "    <tr>\n",
       "      <th>U013</th>\n",
       "      <td>514</td>\n",
       "      <td>514</td>\n",
       "      <td>514</td>\n",
       "      <td>514</td>\n",
       "      <td>514</td>\n",
       "      <td>514</td>\n",
       "      <td>514</td>\n",
       "      <td>514</td>\n",
       "      <td>514</td>\n",
       "      <td>514</td>\n",
       "      <td>514</td>\n",
       "      <td>514</td>\n",
       "      <td>514</td>\n",
       "      <td>514</td>\n",
       "      <td>514</td>\n",
       "    </tr>\n",
       "  </tbody>\n",
       "</table>\n",
       "</div>"
      ],
      "text/plain": [
       "               cust_number  name_customer  ...  isOpen  target_delay\n",
       "business_code                              ...                      \n",
       "CA02                  3100           3100  ...    3100          3100\n",
       "U001                 34393          34393  ...   34393         34393\n",
       "U002                   140            140  ...     140           140\n",
       "U005                    11             11  ...      11            11\n",
       "U013                   514            514  ...     514           514\n",
       "\n",
       "[5 rows x 15 columns]"
      ]
     },
     "execution_count": 50,
     "metadata": {
      "tags": []
     },
     "output_type": "execute_result"
    }
   ],
   "source": [
    "#converting to numerical columns\n",
    "\n",
    "#1.Business code\n",
    "from sklearn.preprocessing import LabelEncoder\n",
    "labelencoder = LabelEncoder()\n",
    "train_set.groupby(['business_code']).count()\n",
    "\n"
   ]
  },
  {
   "cell_type": "code",
   "execution_count": 51,
   "metadata": {
    "colab": {
     "base_uri": "https://localhost:8080/",
     "height": 505
    },
    "id": "Mc9iZ9mRNRLP",
    "outputId": "d3ca7562-af9f-4474-bd6f-4e0727486b1b"
   },
   "outputs": [
    {
     "data": {
      "text/html": [
       "<div>\n",
       "<style scoped>\n",
       "    .dataframe tbody tr th:only-of-type {\n",
       "        vertical-align: middle;\n",
       "    }\n",
       "\n",
       "    .dataframe tbody tr th {\n",
       "        vertical-align: top;\n",
       "    }\n",
       "\n",
       "    .dataframe thead th {\n",
       "        text-align: right;\n",
       "    }\n",
       "</style>\n",
       "<table border=\"1\" class=\"dataframe\">\n",
       "  <thead>\n",
       "    <tr style=\"text-align: right;\">\n",
       "      <th></th>\n",
       "      <th>business_code</th>\n",
       "      <th>cust_number</th>\n",
       "      <th>name_customer</th>\n",
       "      <th>clear_date</th>\n",
       "      <th>buisness_year</th>\n",
       "      <th>doc_id</th>\n",
       "      <th>posting_date</th>\n",
       "      <th>document_create_date</th>\n",
       "      <th>document_create_date.1</th>\n",
       "      <th>due_in_date</th>\n",
       "      <th>invoice_currency</th>\n",
       "      <th>total_open_amount</th>\n",
       "      <th>baseline_create_date</th>\n",
       "      <th>cust_payment_terms</th>\n",
       "      <th>isOpen</th>\n",
       "      <th>target_delay</th>\n",
       "    </tr>\n",
       "  </thead>\n",
       "  <tbody>\n",
       "    <tr>\n",
       "      <th>0</th>\n",
       "      <td>1</td>\n",
       "      <td>0200780383</td>\n",
       "      <td>MEIJ corporation</td>\n",
       "      <td>2019-09-26</td>\n",
       "      <td>2019</td>\n",
       "      <td>1.92986e+09</td>\n",
       "      <td>2019-09-11</td>\n",
       "      <td>2019-09-10</td>\n",
       "      <td>2019-09-11</td>\n",
       "      <td>2019-09-26</td>\n",
       "      <td>USD</td>\n",
       "      <td>51844.8</td>\n",
       "      <td>2019-09-11</td>\n",
       "      <td>NAA8</td>\n",
       "      <td>0</td>\n",
       "      <td>0</td>\n",
       "    </tr>\n",
       "    <tr>\n",
       "      <th>1</th>\n",
       "      <td>1</td>\n",
       "      <td>0200762301</td>\n",
       "      <td>C&amp;S WH corporation</td>\n",
       "      <td>2019-09-10</td>\n",
       "      <td>2019</td>\n",
       "      <td>1.92979e+09</td>\n",
       "      <td>2019-08-25</td>\n",
       "      <td>2019-08-24</td>\n",
       "      <td>2019-08-25</td>\n",
       "      <td>2019-09-09</td>\n",
       "      <td>USD</td>\n",
       "      <td>62110.4</td>\n",
       "      <td>2019-08-25</td>\n",
       "      <td>NAC6</td>\n",
       "      <td>0</td>\n",
       "      <td>1</td>\n",
       "    </tr>\n",
       "    <tr>\n",
       "      <th>3</th>\n",
       "      <td>1</td>\n",
       "      <td>100053926</td>\n",
       "      <td>CALD trust</td>\n",
       "      <td>2019-08-21</td>\n",
       "      <td>2019</td>\n",
       "      <td>1.92952e+09</td>\n",
       "      <td>2019-06-20</td>\n",
       "      <td>2019-06-20</td>\n",
       "      <td>2019-06-20</td>\n",
       "      <td>2019-08-19</td>\n",
       "      <td>USD</td>\n",
       "      <td>1382.94</td>\n",
       "      <td>2019-06-20</td>\n",
       "      <td>NAVQ</td>\n",
       "      <td>0</td>\n",
       "      <td>2</td>\n",
       "    </tr>\n",
       "    <tr>\n",
       "      <th>4</th>\n",
       "      <td>1</td>\n",
       "      <td>0200739534</td>\n",
       "      <td>OK llc</td>\n",
       "      <td>2019-06-26</td>\n",
       "      <td>2019</td>\n",
       "      <td>1.92946e+09</td>\n",
       "      <td>2019-06-07</td>\n",
       "      <td>2019-06-07</td>\n",
       "      <td>2019-06-07</td>\n",
       "      <td>2019-06-22</td>\n",
       "      <td>USD</td>\n",
       "      <td>85407.3</td>\n",
       "      <td>2019-06-07</td>\n",
       "      <td>NAA8</td>\n",
       "      <td>0</td>\n",
       "      <td>4</td>\n",
       "    </tr>\n",
       "    <tr>\n",
       "      <th>5</th>\n",
       "      <td>1</td>\n",
       "      <td>0200337148</td>\n",
       "      <td>COAS co</td>\n",
       "      <td>2019-06-27</td>\n",
       "      <td>2019</td>\n",
       "      <td>1.92948e+09</td>\n",
       "      <td>2019-06-12</td>\n",
       "      <td>2019-06-12</td>\n",
       "      <td>2019-06-12</td>\n",
       "      <td>2019-06-27</td>\n",
       "      <td>USD</td>\n",
       "      <td>47117.7</td>\n",
       "      <td>2019-06-12</td>\n",
       "      <td>NAA8</td>\n",
       "      <td>0</td>\n",
       "      <td>0</td>\n",
       "    </tr>\n",
       "    <tr>\n",
       "      <th>...</th>\n",
       "      <td>...</td>\n",
       "      <td>...</td>\n",
       "      <td>...</td>\n",
       "      <td>...</td>\n",
       "      <td>...</td>\n",
       "      <td>...</td>\n",
       "      <td>...</td>\n",
       "      <td>...</td>\n",
       "      <td>...</td>\n",
       "      <td>...</td>\n",
       "      <td>...</td>\n",
       "      <td>...</td>\n",
       "      <td>...</td>\n",
       "      <td>...</td>\n",
       "      <td>...</td>\n",
       "      <td>...</td>\n",
       "    </tr>\n",
       "    <tr>\n",
       "      <th>45458</th>\n",
       "      <td>1</td>\n",
       "      <td>0200769623</td>\n",
       "      <td>WAL-MAR associates</td>\n",
       "      <td>2019-02-27</td>\n",
       "      <td>2019</td>\n",
       "      <td>1.9288e+09</td>\n",
       "      <td>2019-02-15</td>\n",
       "      <td>2019-02-14</td>\n",
       "      <td>2019-02-15</td>\n",
       "      <td>2019-03-02</td>\n",
       "      <td>USD</td>\n",
       "      <td>10435.8</td>\n",
       "      <td>2019-02-15</td>\n",
       "      <td>NAH4</td>\n",
       "      <td>0</td>\n",
       "      <td>-3</td>\n",
       "    </tr>\n",
       "    <tr>\n",
       "      <th>45460</th>\n",
       "      <td>1</td>\n",
       "      <td>0200792734</td>\n",
       "      <td>MDV/ systems</td>\n",
       "      <td>2019-10-30</td>\n",
       "      <td>2019</td>\n",
       "      <td>1.92977e+09</td>\n",
       "      <td>2019-08-27</td>\n",
       "      <td>2019-08-21</td>\n",
       "      <td>2019-08-27</td>\n",
       "      <td>2019-10-31</td>\n",
       "      <td>USD</td>\n",
       "      <td>11949.1</td>\n",
       "      <td>2019-08-27</td>\n",
       "      <td>NAGD</td>\n",
       "      <td>0</td>\n",
       "      <td>-1</td>\n",
       "    </tr>\n",
       "    <tr>\n",
       "      <th>45461</th>\n",
       "      <td>0</td>\n",
       "      <td>0140106099</td>\n",
       "      <td>SOCIETE  foundation</td>\n",
       "      <td>2019-05-09</td>\n",
       "      <td>2019</td>\n",
       "      <td>2.96054e+09</td>\n",
       "      <td>2019-04-24</td>\n",
       "      <td>2019-04-24</td>\n",
       "      <td>2019-04-24</td>\n",
       "      <td>2019-05-06</td>\n",
       "      <td>CAD</td>\n",
       "      <td>27441</td>\n",
       "      <td>2019-04-26</td>\n",
       "      <td>CA10</td>\n",
       "      <td>0</td>\n",
       "      <td>3</td>\n",
       "    </tr>\n",
       "    <tr>\n",
       "      <th>45462</th>\n",
       "      <td>1</td>\n",
       "      <td>200126819</td>\n",
       "      <td>MCLANE trust</td>\n",
       "      <td>2019-02-13</td>\n",
       "      <td>2019</td>\n",
       "      <td>1.92865e+09</td>\n",
       "      <td>2019-01-24</td>\n",
       "      <td>2019-01-21</td>\n",
       "      <td>2019-01-24</td>\n",
       "      <td>2019-02-08</td>\n",
       "      <td>USD</td>\n",
       "      <td>13976</td>\n",
       "      <td>2019-01-24</td>\n",
       "      <td>NAA8</td>\n",
       "      <td>0</td>\n",
       "      <td>5</td>\n",
       "    </tr>\n",
       "    <tr>\n",
       "      <th>45463</th>\n",
       "      <td>1</td>\n",
       "      <td>0200742791</td>\n",
       "      <td>QUI us</td>\n",
       "      <td>2019-07-18</td>\n",
       "      <td>2019</td>\n",
       "      <td>1.92956e+09</td>\n",
       "      <td>2019-06-29</td>\n",
       "      <td>2019-06-28</td>\n",
       "      <td>2019-06-29</td>\n",
       "      <td>2019-07-14</td>\n",
       "      <td>USD</td>\n",
       "      <td>4343.4</td>\n",
       "      <td>2019-06-29</td>\n",
       "      <td>NAA8</td>\n",
       "      <td>0</td>\n",
       "      <td>4</td>\n",
       "    </tr>\n",
       "  </tbody>\n",
       "</table>\n",
       "<p>38158 rows × 16 columns</p>\n",
       "</div>"
      ],
      "text/plain": [
       "       business_code cust_number  ... isOpen target_delay\n",
       "0                  1  0200780383  ...      0            0\n",
       "1                  1  0200762301  ...      0            1\n",
       "3                  1   100053926  ...      0            2\n",
       "4                  1  0200739534  ...      0            4\n",
       "5                  1  0200337148  ...      0            0\n",
       "...              ...         ...  ...    ...          ...\n",
       "45458              1  0200769623  ...      0           -3\n",
       "45460              1  0200792734  ...      0           -1\n",
       "45461              0  0140106099  ...      0            3\n",
       "45462              1   200126819  ...      0            5\n",
       "45463              1  0200742791  ...      0            4\n",
       "\n",
       "[38158 rows x 16 columns]"
      ]
     },
     "execution_count": 51,
     "metadata": {
      "tags": []
     },
     "output_type": "execute_result"
    }
   ],
   "source": [
    "#label encoding in business code\n",
    "labelencoder = LabelEncoder()\n",
    "\n",
    "train_set['business_code'] = labelencoder.fit_transform(train_set['business_code'])\n",
    "test_data['business_code'] = labelencoder.transform(test_data['business_code'])\n",
    "\n",
    "val1['business_code'] = labelencoder.transform(val1['business_code'])\n",
    "\n",
    "val2['business_code'] = labelencoder.transform(val2['business_code'])\n",
    "\n",
    "train_set\n",
    "\n",
    "\n"
   ]
  },
  {
   "cell_type": "code",
   "execution_count": 52,
   "metadata": {
    "colab": {
     "base_uri": "https://localhost:8080/"
    },
    "id": "V46XlPYHQc-a",
    "outputId": "1210c212-d989-4608-d844-3ffd403eea93"
   },
   "outputs": [
    {
     "data": {
      "text/plain": [
       "count    38158.000000\n",
       "mean         0.963415\n",
       "std          0.453831\n",
       "min          0.000000\n",
       "25%          1.000000\n",
       "50%          1.000000\n",
       "75%          1.000000\n",
       "max          4.000000\n",
       "Name: business_code, dtype: float64"
      ]
     },
     "execution_count": 52,
     "metadata": {
      "tags": []
     },
     "output_type": "execute_result"
    }
   ],
   "source": [
    "train_set['business_code'].describe()"
   ]
  },
  {
   "cell_type": "code",
   "execution_count": 53,
   "metadata": {
    "colab": {
     "base_uri": "https://localhost:8080/"
    },
    "id": "XEtCsI5RcQDa",
    "outputId": "ecdf45ab-4e10-4f85-a648-1e8ab3a7960e"
   },
   "outputs": [
    {
     "data": {
      "text/plain": [
       "-0.005484321398166932"
      ]
     },
     "execution_count": 53,
     "metadata": {
      "tags": []
     },
     "output_type": "execute_result"
    }
   ],
   "source": [
    "train_set['business_code'].corr(train_set['target_delay'])"
   ]
  },
  {
   "cell_type": "code",
   "execution_count": 54,
   "metadata": {
    "colab": {
     "base_uri": "https://localhost:8080/"
    },
    "id": "WXI9zuqlL3vg",
    "outputId": "a71c6832-24eb-4f41-b621-883b95b1311f"
   },
   "outputs": [
    {
     "data": {
      "text/plain": [
       "1362"
      ]
     },
     "execution_count": 54,
     "metadata": {
      "tags": []
     },
     "output_type": "execute_result"
    }
   ],
   "source": [
    "#### checking for customer number\n",
    "len(pd.unique(train_set['cust_number'])) \n"
   ]
  },
  {
   "cell_type": "code",
   "execution_count": null,
   "metadata": {
    "id": "SOtLfVWN0d_d"
   },
   "outputs": [],
   "source": [
    "###business year is constant drop\n",
    "train_set.drop(['buisness_year'],axis=1,inplace=True)"
   ]
  },
  {
   "cell_type": "code",
   "execution_count": 55,
   "metadata": {
    "colab": {
     "base_uri": "https://localhost:8080/"
    },
    "id": "TRprat6y9uMK",
    "outputId": "0cb36b7b-93e4-4143-b0ec-25d1148251f3"
   },
   "outputs": [
    {
     "data": {
      "text/plain": [
       "71"
      ]
     },
     "execution_count": 55,
     "metadata": {
      "tags": []
     },
     "output_type": "execute_result"
    }
   ],
   "source": [
    "len(pd.unique(train_set['cust_payment_terms'])) "
   ]
  },
  {
   "cell_type": "code",
   "execution_count": null,
   "metadata": {
    "colab": {
     "base_uri": "https://localhost:8080/"
    },
    "id": "UFy2VwcY-8R_",
    "outputId": "423a9692-28d1-42c4-bb57-4b8a52116f8a"
   },
   "outputs": [
    {
     "data": {
      "text/plain": [
       "NAA8      1297\n",
       "NAH4       990\n",
       "CA10       242\n",
       "NAC6       125\n",
       "NAM4        94\n",
       "NAGD        89\n",
       "NAAX        76\n",
       "NAU5        66\n",
       "NAM2        40\n",
       "NAD1        32\n",
       "NA10        29\n",
       "others      28\n",
       "NAG2        27\n",
       "NAX2        22\n",
       "NA32        21\n",
       "NAM1        19\n",
       "NAVE        18\n",
       "NAAW        12\n",
       "NAD5        11\n",
       "Name: cust_payment_terms, dtype: int64"
      ]
     },
     "execution_count": 1084,
     "metadata": {
      "tags": []
     },
     "output_type": "execute_result"
    }
   ],
   "source": [
    "#replace cust_payment_terms having values < 12 as others and then encoding\n",
    "threshlold = 0.000250\n",
    "   \n",
    "    # locate all the categories that are not rare.\n",
    "counts = train_set.groupby(['cust_payment_terms'])['cust_payment_terms'].count() / len(train_set)\n",
    "counts_tst = test_data.groupby(['cust_payment_terms'])['cust_payment_terms'].count() / len(train_set)\n",
    "counts_val1 = val1.groupby(['cust_payment_terms'])['cust_payment_terms'].count() / len(train_set)\n",
    "counts_val2 = val2.groupby(['cust_payment_terms'])['cust_payment_terms'].count() / len(train_set)\n",
    "frequent_labels = [x for x in counts.loc[counts>threshlold].index.values]\n",
    "frequent_labels_tst = [x for x in counts_tst.loc[counts_tst>threshlold].index.values]\n",
    "frequent_labels_val1 = [x for x in counts_val1.loc[counts_val1>threshlold].index.values]\n",
    "frequent_labels_val2 = [x for x in counts_val2.loc[counts_val2>threshlold].index.values]\n",
    "    # change the rare category names with the word rare, and thus encoding it.\n",
    "train_set['cust_payment_terms'] = np.where(train_set['cust_payment_terms'].isin(frequent_labels), train_set['cust_payment_terms'], 'others')\n",
    "test_data['cust_payment_terms'] = np.where(test_data['cust_payment_terms'].isin(frequent_labels_tst), test_data['cust_payment_terms'], 'others')\n",
    "val1['cust_payment_terms'] = np.where(val1['cust_payment_terms'].isin(frequent_labels_val1), val1['cust_payment_terms'], 'others')\n",
    "val2['cust_payment_terms'] = np.where(val2['cust_payment_terms'].isin(frequent_labels_val2), val2['cust_payment_terms'], 'others')\n",
    "\n",
    "\n",
    "test_data['cust_payment_terms'].value_counts()\n"
   ]
  },
  {
   "cell_type": "code",
   "execution_count": 56,
   "metadata": {
    "id": "HaDXIufA_i1K"
   },
   "outputs": [],
   "source": [
    "target_mapper = train_set.groupby('cust_payment_terms')['target_delay'].mean().to_dict()\n",
    "train_set['cust_payment_terms'] = train_set['cust_payment_terms'].map(target_mapper)\n",
    "test_data['cust_payment_terms'] = test_data['cust_payment_terms'].map(target_mapper)\n",
    "val1['cust_payment_terms'] = val1['cust_payment_terms'].map(target_mapper)\n",
    "val2['cust_payment_terms'] = val2['cust_payment_terms'].map(target_mapper)\n"
   ]
  },
  {
   "cell_type": "code",
   "execution_count": 57,
   "metadata": {
    "colab": {
     "base_uri": "https://localhost:8080/"
    },
    "id": "5_R2zwUIEnec",
    "outputId": "65aaeffd-121d-4989-bd91-e4f95fa7f536"
   },
   "outputs": [
    {
     "data": {
      "text/plain": [
       "3895"
      ]
     },
     "execution_count": 57,
     "metadata": {
      "tags": []
     },
     "output_type": "execute_result"
    }
   ],
   "source": [
    "##Now similarly encoding name_customer\n",
    "len(pd.unique(train_set['name_customer'])) "
   ]
  },
  {
   "cell_type": "code",
   "execution_count": null,
   "metadata": {
    "colab": {
     "base_uri": "https://localhost:8080/"
    },
    "id": "axOri-Bh-8Mx",
    "outputId": "548e5958-d2ab-406b-d6d2-1452da08fcab"
   },
   "outputs": [
    {
     "data": {
      "text/plain": [
       "others                 1152\n",
       "WAL-MAR us               90\n",
       "WAL-MAR corporation      87\n",
       "WAL-MAR associates       85\n",
       "WAL-MAR foundation       85\n",
       "                       ... \n",
       "MEIJ systems              4\n",
       "ASSOCIAT                  4\n",
       "DELHAIZE associates       4\n",
       "SMITH'S trust             4\n",
       "WAL-M in                  4\n",
       "Name: name_customer, Length: 183, dtype: int64"
      ]
     },
     "execution_count": 1087,
     "metadata": {
      "tags": []
     },
     "output_type": "execute_result"
    }
   ],
   "source": [
    "threshlold = 0.000100\n",
    "####Grouping rare labels as others\n",
    "counts = train_set.groupby(['name_customer'])['name_customer'].count() / len(train_set)\n",
    "counts_tst = test_data.groupby(['name_customer'])['name_customer'].count() / len(train_set)\n",
    "counts_val1 = val1.groupby(['name_customer'])['name_customer'].count() / len(train_set)\n",
    "counts_val2 = val2.groupby(['name_customer'])['name_customer'].count() / len(train_set)\n",
    "frequent_labels = [x for x in counts.loc[counts>threshlold].index.values]\n",
    "frequent_labels_tst = [x for x in counts_tst.loc[counts_tst>threshlold].index.values]\n",
    "frequent_labels_val1 = [x for x in counts_val1.loc[counts_val1>threshlold].index.values]\n",
    "frequent_labels_val2 = [x for x in counts_val2.loc[counts_val2>threshlold].index.values]\n",
    "    # change the rare category names with the word rare, and thus encoding it.\n",
    "train_set['name_customer'] = np.where(train_set['name_customer'].isin(frequent_labels), train_set['name_customer'], 'others')\n",
    "test_data['name_customer'] = np.where(test_data['name_customer'].isin(frequent_labels_tst), test_data['name_customer'], 'others')\n",
    "val1['name_customer'] = np.where(val1['name_customer'].isin(frequent_labels_val1), val1['name_customer'], 'others')\n",
    "val2['name_customer'] = np.where(val2['name_customer'].isin(frequent_labels_val2), val2['name_customer'], 'others')\n",
    "\n",
    "\n",
    "test_data['name_customer'].value_counts()\n"
   ]
  },
  {
   "cell_type": "code",
   "execution_count": 58,
   "metadata": {
    "colab": {
     "base_uri": "https://localhost:8080/"
    },
    "id": "UyCjgVRjCfpx",
    "outputId": "3611d4e7-ba09-4c3e-dbd9-7302608c40b3"
   },
   "outputs": [
    {
     "data": {
      "text/plain": [
       "WAL-MAR corp           854\n",
       "WAL-MAR co             837\n",
       "WAL-MAR llc            827\n",
       "WAL-MAR trust          819\n",
       "WAL-MAR us             812\n",
       "                      ... \n",
       "INTERN co                1\n",
       "ASSE foundation          1\n",
       "MINERS  corporation      1\n",
       "NICH trust               1\n",
       "SOUTHE llc               1\n",
       "Name: name_customer, Length: 3895, dtype: int64"
      ]
     },
     "execution_count": 58,
     "metadata": {
      "tags": []
     },
     "output_type": "execute_result"
    }
   ],
   "source": [
    "train_set['name_customer'].value_counts()\n"
   ]
  },
  {
   "cell_type": "code",
   "execution_count": null,
   "metadata": {
    "colab": {
     "base_uri": "https://localhost:8080/",
     "height": 435
    },
    "id": "J0-cpiBoInqA",
    "outputId": "cea065b1-1d8c-4b17-e307-26af5e0fe297"
   },
   "outputs": [
    {
     "data": {
      "text/html": [
       "<div>\n",
       "<style scoped>\n",
       "    .dataframe tbody tr th:only-of-type {\n",
       "        vertical-align: middle;\n",
       "    }\n",
       "\n",
       "    .dataframe tbody tr th {\n",
       "        vertical-align: top;\n",
       "    }\n",
       "\n",
       "    .dataframe thead th {\n",
       "        text-align: right;\n",
       "    }\n",
       "</style>\n",
       "<table border=\"1\" class=\"dataframe\">\n",
       "  <thead>\n",
       "    <tr style=\"text-align: right;\">\n",
       "      <th></th>\n",
       "      <th>business_code</th>\n",
       "      <th>cust_number</th>\n",
       "      <th>name_customer</th>\n",
       "      <th>clear_date</th>\n",
       "      <th>doc_id</th>\n",
       "      <th>posting_date</th>\n",
       "      <th>document_create_date</th>\n",
       "      <th>document_create_date.1</th>\n",
       "      <th>due_in_date</th>\n",
       "      <th>invoice_currency</th>\n",
       "      <th>total_open_amount</th>\n",
       "      <th>baseline_create_date</th>\n",
       "      <th>cust_payment_terms</th>\n",
       "      <th>isOpen</th>\n",
       "      <th>target_delay</th>\n",
       "    </tr>\n",
       "  </thead>\n",
       "  <tbody>\n",
       "    <tr>\n",
       "      <th>0</th>\n",
       "      <td>1</td>\n",
       "      <td>0200705742</td>\n",
       "      <td>-5.742424</td>\n",
       "      <td>2019-02-06</td>\n",
       "      <td>1.92866e+09</td>\n",
       "      <td>2019-01-22</td>\n",
       "      <td>2019-01-21</td>\n",
       "      <td>2019-01-22</td>\n",
       "      <td>2019-02-11</td>\n",
       "      <td>USD</td>\n",
       "      <td>2079.55</td>\n",
       "      <td>2019-01-22</td>\n",
       "      <td>0.347044</td>\n",
       "      <td>0</td>\n",
       "      <td>-5</td>\n",
       "    </tr>\n",
       "    <tr>\n",
       "      <th>1</th>\n",
       "      <td>1</td>\n",
       "      <td>0200803720</td>\n",
       "      <td>-3.893939</td>\n",
       "      <td>2019-05-01</td>\n",
       "      <td>1.92921e+09</td>\n",
       "      <td>2019-04-26</td>\n",
       "      <td>2019-04-26</td>\n",
       "      <td>2019-04-26</td>\n",
       "      <td>2019-05-09</td>\n",
       "      <td>USD</td>\n",
       "      <td>68.52</td>\n",
       "      <td>2019-04-16</td>\n",
       "      <td>-7.140805</td>\n",
       "      <td>0</td>\n",
       "      <td>-8</td>\n",
       "    </tr>\n",
       "    <tr>\n",
       "      <th>2</th>\n",
       "      <td>1</td>\n",
       "      <td>0200592182</td>\n",
       "      <td>-4.506667</td>\n",
       "      <td>2019-06-03</td>\n",
       "      <td>1.92938e+09</td>\n",
       "      <td>2019-05-25</td>\n",
       "      <td>2019-05-25</td>\n",
       "      <td>2019-05-25</td>\n",
       "      <td>2019-06-08</td>\n",
       "      <td>USD</td>\n",
       "      <td>1677.82</td>\n",
       "      <td>2019-05-16</td>\n",
       "      <td>-7.140805</td>\n",
       "      <td>0</td>\n",
       "      <td>-5</td>\n",
       "    </tr>\n",
       "    <tr>\n",
       "      <th>3</th>\n",
       "      <td>1</td>\n",
       "      <td>0200769623</td>\n",
       "      <td>-2.331402</td>\n",
       "      <td>2019-02-20</td>\n",
       "      <td>1.92877e+09</td>\n",
       "      <td>2019-02-09</td>\n",
       "      <td>2019-02-08</td>\n",
       "      <td>2019-02-09</td>\n",
       "      <td>2019-02-24</td>\n",
       "      <td>USD</td>\n",
       "      <td>66906.8</td>\n",
       "      <td>2019-02-09</td>\n",
       "      <td>-1.904635</td>\n",
       "      <td>0</td>\n",
       "      <td>-4</td>\n",
       "    </tr>\n",
       "    <tr>\n",
       "      <th>4</th>\n",
       "      <td>1</td>\n",
       "      <td>200769623</td>\n",
       "      <td>-2.507822</td>\n",
       "      <td>2019-06-12</td>\n",
       "      <td>1.92941e+09</td>\n",
       "      <td>2019-06-01</td>\n",
       "      <td>2019-05-30</td>\n",
       "      <td>2019-06-01</td>\n",
       "      <td>2019-06-16</td>\n",
       "      <td>USD</td>\n",
       "      <td>65593.9</td>\n",
       "      <td>2019-06-01</td>\n",
       "      <td>-1.904635</td>\n",
       "      <td>0</td>\n",
       "      <td>-4</td>\n",
       "    </tr>\n",
       "    <tr>\n",
       "      <th>...</th>\n",
       "      <td>...</td>\n",
       "      <td>...</td>\n",
       "      <td>...</td>\n",
       "      <td>...</td>\n",
       "      <td>...</td>\n",
       "      <td>...</td>\n",
       "      <td>...</td>\n",
       "      <td>...</td>\n",
       "      <td>...</td>\n",
       "      <td>...</td>\n",
       "      <td>...</td>\n",
       "      <td>...</td>\n",
       "      <td>...</td>\n",
       "      <td>...</td>\n",
       "      <td>...</td>\n",
       "    </tr>\n",
       "    <tr>\n",
       "      <th>46752</th>\n",
       "      <td>1</td>\n",
       "      <td>0200771157</td>\n",
       "      <td>0.600000</td>\n",
       "      <td>2019-08-30</td>\n",
       "      <td>1.92975e+09</td>\n",
       "      <td>2019-08-14</td>\n",
       "      <td>2019-08-15</td>\n",
       "      <td>2019-08-14</td>\n",
       "      <td>2019-08-29</td>\n",
       "      <td>USD</td>\n",
       "      <td>58119.4</td>\n",
       "      <td>2019-08-14</td>\n",
       "      <td>1.387441</td>\n",
       "      <td>0</td>\n",
       "      <td>1</td>\n",
       "    </tr>\n",
       "    <tr>\n",
       "      <th>46753</th>\n",
       "      <td>1</td>\n",
       "      <td>200786288</td>\n",
       "      <td>4.461538</td>\n",
       "      <td>2019-07-08</td>\n",
       "      <td>1.92953e+09</td>\n",
       "      <td>2019-06-24</td>\n",
       "      <td>2019-06-23</td>\n",
       "      <td>2019-06-24</td>\n",
       "      <td>2019-07-09</td>\n",
       "      <td>USD</td>\n",
       "      <td>11770.5</td>\n",
       "      <td>2019-06-24</td>\n",
       "      <td>0.561391</td>\n",
       "      <td>0</td>\n",
       "      <td>-1</td>\n",
       "    </tr>\n",
       "    <tr>\n",
       "      <th>46754</th>\n",
       "      <td>1</td>\n",
       "      <td>0200769623</td>\n",
       "      <td>-1.981413</td>\n",
       "      <td>2019-07-03</td>\n",
       "      <td>1.92953e+09</td>\n",
       "      <td>2019-06-23</td>\n",
       "      <td>2019-06-21</td>\n",
       "      <td>2019-06-23</td>\n",
       "      <td>2019-07-08</td>\n",
       "      <td>USD</td>\n",
       "      <td>70346.5</td>\n",
       "      <td>2019-06-23</td>\n",
       "      <td>-1.904635</td>\n",
       "      <td>0</td>\n",
       "      <td>-5</td>\n",
       "    </tr>\n",
       "    <tr>\n",
       "      <th>46755</th>\n",
       "      <td>1</td>\n",
       "      <td>0200749225</td>\n",
       "      <td>1.666667</td>\n",
       "      <td>2019-01-17</td>\n",
       "      <td>1.92855e+09</td>\n",
       "      <td>2019-01-02</td>\n",
       "      <td>2019-01-02</td>\n",
       "      <td>2019-01-02</td>\n",
       "      <td>2019-01-17</td>\n",
       "      <td>USD</td>\n",
       "      <td>135678</td>\n",
       "      <td>2019-01-02</td>\n",
       "      <td>1.387441</td>\n",
       "      <td>0</td>\n",
       "      <td>0</td>\n",
       "    </tr>\n",
       "    <tr>\n",
       "      <th>46756</th>\n",
       "      <td>1</td>\n",
       "      <td>0200769369</td>\n",
       "      <td>2.171247</td>\n",
       "      <td>2019-03-22</td>\n",
       "      <td>1.92892e+09</td>\n",
       "      <td>2019-03-07</td>\n",
       "      <td>2019-03-07</td>\n",
       "      <td>2019-03-07</td>\n",
       "      <td>2019-03-22</td>\n",
       "      <td>USD</td>\n",
       "      <td>32677.6</td>\n",
       "      <td>2019-03-07</td>\n",
       "      <td>1.387441</td>\n",
       "      <td>0</td>\n",
       "      <td>0</td>\n",
       "    </tr>\n",
       "  </tbody>\n",
       "</table>\n",
       "<p>39318 rows × 15 columns</p>\n",
       "</div>"
      ],
      "text/plain": [
       "       business_code cust_number  ...  isOpen target_delay\n",
       "0                  1  0200705742  ...       0           -5\n",
       "1                  1  0200803720  ...       0           -8\n",
       "2                  1  0200592182  ...       0           -5\n",
       "3                  1  0200769623  ...       0           -4\n",
       "4                  1   200769623  ...       0           -4\n",
       "...              ...         ...  ...     ...          ...\n",
       "46752              1  0200771157  ...       0            1\n",
       "46753              1   200786288  ...       0           -1\n",
       "46754              1  0200769623  ...       0           -5\n",
       "46755              1  0200749225  ...       0            0\n",
       "46756              1  0200769369  ...       0            0\n",
       "\n",
       "[39318 rows x 15 columns]"
      ]
     },
     "execution_count": 1089,
     "metadata": {
      "tags": []
     },
     "output_type": "execute_result"
    }
   ],
   "source": [
    "#target encoding in name customer\n",
    "target_mapper = train_set.groupby('name_customer')['target_delay'].mean().to_dict()\n",
    "train_set['name_customer'] = train_set['name_customer'].map(target_mapper)\n",
    "test_data['name_customer'] = test_data['name_customer'].map(target_mapper)\n",
    "val1['name_customer'] = val1['name_customer'].map(target_mapper)\n",
    "val2['name_customer'] = val2['name_customer'].map(target_mapper)\n",
    "train_set\n"
   ]
  },
  {
   "cell_type": "code",
   "execution_count": 59,
   "metadata": {
    "colab": {
     "base_uri": "https://localhost:8080/"
    },
    "id": "atMEuiBi-d1j",
    "outputId": "acee6263-ea03-4460-c011-e542b35935cb"
   },
   "outputs": [
    {
     "data": {
      "text/plain": [
       "3895"
      ]
     },
     "execution_count": 59,
     "metadata": {
      "tags": []
     },
     "output_type": "execute_result"
    }
   ],
   "source": [
    "len(pd.unique(train_set['name_customer'])) \n"
   ]
  },
  {
   "cell_type": "code",
   "execution_count": 60,
   "metadata": {
    "colab": {
     "base_uri": "https://localhost:8080/",
     "height": 415
    },
    "id": "KULglbLufA0H",
    "outputId": "e8c596f3-958d-465c-ddc9-92ce54313f8e"
   },
   "outputs": [
    {
     "ename": "TypeError",
     "evalue": "ignored",
     "output_type": "error",
     "traceback": [
      "\u001b[0;31m---------------------------------------------------------------------------\u001b[0m",
      "\u001b[0;31mTypeError\u001b[0m                                 Traceback (most recent call last)",
      "\u001b[0;32m<ipython-input-60-d59e1820b78e>\u001b[0m in \u001b[0;36m<module>\u001b[0;34m()\u001b[0m\n\u001b[0;32m----> 1\u001b[0;31m \u001b[0mtrain_set\u001b[0m\u001b[0;34m[\u001b[0m\u001b[0;34m'name_customer'\u001b[0m\u001b[0;34m]\u001b[0m\u001b[0;34m.\u001b[0m\u001b[0mcorr\u001b[0m\u001b[0;34m(\u001b[0m\u001b[0mtrain_set\u001b[0m\u001b[0;34m[\u001b[0m\u001b[0;34m'target_delay'\u001b[0m\u001b[0;34m]\u001b[0m\u001b[0;34m)\u001b[0m\u001b[0;34m\u001b[0m\u001b[0;34m\u001b[0m\u001b[0m\n\u001b[0m",
      "\u001b[0;32m/usr/local/lib/python3.6/dist-packages/pandas/core/series.py\u001b[0m in \u001b[0;36mcorr\u001b[0;34m(self, other, method, min_periods)\u001b[0m\n\u001b[1;32m   2333\u001b[0m         \u001b[0;32mif\u001b[0m \u001b[0mmethod\u001b[0m \u001b[0;32min\u001b[0m \u001b[0;34m[\u001b[0m\u001b[0;34m\"pearson\"\u001b[0m\u001b[0;34m,\u001b[0m \u001b[0;34m\"spearman\"\u001b[0m\u001b[0;34m,\u001b[0m \u001b[0;34m\"kendall\"\u001b[0m\u001b[0;34m]\u001b[0m \u001b[0;32mor\u001b[0m \u001b[0mcallable\u001b[0m\u001b[0;34m(\u001b[0m\u001b[0mmethod\u001b[0m\u001b[0;34m)\u001b[0m\u001b[0;34m:\u001b[0m\u001b[0;34m\u001b[0m\u001b[0;34m\u001b[0m\u001b[0m\n\u001b[1;32m   2334\u001b[0m             return nanops.nancorr(\n\u001b[0;32m-> 2335\u001b[0;31m                 \u001b[0mthis\u001b[0m\u001b[0;34m.\u001b[0m\u001b[0mvalues\u001b[0m\u001b[0;34m,\u001b[0m \u001b[0mother\u001b[0m\u001b[0;34m.\u001b[0m\u001b[0mvalues\u001b[0m\u001b[0;34m,\u001b[0m \u001b[0mmethod\u001b[0m\u001b[0;34m=\u001b[0m\u001b[0mmethod\u001b[0m\u001b[0;34m,\u001b[0m \u001b[0mmin_periods\u001b[0m\u001b[0;34m=\u001b[0m\u001b[0mmin_periods\u001b[0m\u001b[0;34m\u001b[0m\u001b[0;34m\u001b[0m\u001b[0m\n\u001b[0m\u001b[1;32m   2336\u001b[0m             )\n\u001b[1;32m   2337\u001b[0m \u001b[0;34m\u001b[0m\u001b[0m\n",
      "\u001b[0;32m/usr/local/lib/python3.6/dist-packages/pandas/core/nanops.py\u001b[0m in \u001b[0;36m_f\u001b[0;34m(*args, **kwargs)\u001b[0m\n\u001b[1;32m     69\u001b[0m             \u001b[0;32mtry\u001b[0m\u001b[0;34m:\u001b[0m\u001b[0;34m\u001b[0m\u001b[0;34m\u001b[0m\u001b[0m\n\u001b[1;32m     70\u001b[0m                 \u001b[0;32mwith\u001b[0m \u001b[0mnp\u001b[0m\u001b[0;34m.\u001b[0m\u001b[0merrstate\u001b[0m\u001b[0;34m(\u001b[0m\u001b[0minvalid\u001b[0m\u001b[0;34m=\u001b[0m\u001b[0;34m\"ignore\"\u001b[0m\u001b[0;34m)\u001b[0m\u001b[0;34m:\u001b[0m\u001b[0;34m\u001b[0m\u001b[0;34m\u001b[0m\u001b[0m\n\u001b[0;32m---> 71\u001b[0;31m                     \u001b[0;32mreturn\u001b[0m \u001b[0mf\u001b[0m\u001b[0;34m(\u001b[0m\u001b[0;34m*\u001b[0m\u001b[0margs\u001b[0m\u001b[0;34m,\u001b[0m \u001b[0;34m**\u001b[0m\u001b[0mkwargs\u001b[0m\u001b[0;34m)\u001b[0m\u001b[0;34m\u001b[0m\u001b[0;34m\u001b[0m\u001b[0m\n\u001b[0m\u001b[1;32m     72\u001b[0m             \u001b[0;32mexcept\u001b[0m \u001b[0mValueError\u001b[0m \u001b[0;32mas\u001b[0m \u001b[0me\u001b[0m\u001b[0;34m:\u001b[0m\u001b[0;34m\u001b[0m\u001b[0;34m\u001b[0m\u001b[0m\n\u001b[1;32m     73\u001b[0m                 \u001b[0;31m# we want to transform an object array\u001b[0m\u001b[0;34m\u001b[0m\u001b[0;34m\u001b[0m\u001b[0;34m\u001b[0m\u001b[0m\n",
      "\u001b[0;32m/usr/local/lib/python3.6/dist-packages/pandas/core/nanops.py\u001b[0m in \u001b[0;36mnancorr\u001b[0;34m(a, b, method, min_periods)\u001b[0m\n\u001b[1;32m   1350\u001b[0m \u001b[0;34m\u001b[0m\u001b[0m\n\u001b[1;32m   1351\u001b[0m     \u001b[0mf\u001b[0m \u001b[0;34m=\u001b[0m \u001b[0mget_corr_func\u001b[0m\u001b[0;34m(\u001b[0m\u001b[0mmethod\u001b[0m\u001b[0;34m)\u001b[0m\u001b[0;34m\u001b[0m\u001b[0;34m\u001b[0m\u001b[0m\n\u001b[0;32m-> 1352\u001b[0;31m     \u001b[0;32mreturn\u001b[0m \u001b[0mf\u001b[0m\u001b[0;34m(\u001b[0m\u001b[0ma\u001b[0m\u001b[0;34m,\u001b[0m \u001b[0mb\u001b[0m\u001b[0;34m)\u001b[0m\u001b[0;34m\u001b[0m\u001b[0;34m\u001b[0m\u001b[0m\n\u001b[0m\u001b[1;32m   1353\u001b[0m \u001b[0;34m\u001b[0m\u001b[0m\n\u001b[1;32m   1354\u001b[0m \u001b[0;34m\u001b[0m\u001b[0m\n",
      "\u001b[0;32m/usr/local/lib/python3.6/dist-packages/pandas/core/nanops.py\u001b[0m in \u001b[0;36mfunc\u001b[0;34m(a, b)\u001b[0m\n\u001b[1;32m   1371\u001b[0m \u001b[0;34m\u001b[0m\u001b[0m\n\u001b[1;32m   1372\u001b[0m         \u001b[0;32mdef\u001b[0m \u001b[0mfunc\u001b[0m\u001b[0;34m(\u001b[0m\u001b[0ma\u001b[0m\u001b[0;34m,\u001b[0m \u001b[0mb\u001b[0m\u001b[0;34m)\u001b[0m\u001b[0;34m:\u001b[0m\u001b[0;34m\u001b[0m\u001b[0;34m\u001b[0m\u001b[0m\n\u001b[0;32m-> 1373\u001b[0;31m             \u001b[0;32mreturn\u001b[0m \u001b[0mnp\u001b[0m\u001b[0;34m.\u001b[0m\u001b[0mcorrcoef\u001b[0m\u001b[0;34m(\u001b[0m\u001b[0ma\u001b[0m\u001b[0;34m,\u001b[0m \u001b[0mb\u001b[0m\u001b[0;34m)\u001b[0m\u001b[0;34m[\u001b[0m\u001b[0;36m0\u001b[0m\u001b[0;34m,\u001b[0m \u001b[0;36m1\u001b[0m\u001b[0;34m]\u001b[0m\u001b[0;34m\u001b[0m\u001b[0;34m\u001b[0m\u001b[0m\n\u001b[0m\u001b[1;32m   1374\u001b[0m \u001b[0;34m\u001b[0m\u001b[0m\n\u001b[1;32m   1375\u001b[0m         \u001b[0;32mreturn\u001b[0m \u001b[0mfunc\u001b[0m\u001b[0;34m\u001b[0m\u001b[0;34m\u001b[0m\u001b[0m\n",
      "\u001b[0;32m<__array_function__ internals>\u001b[0m in \u001b[0;36mcorrcoef\u001b[0;34m(*args, **kwargs)\u001b[0m\n",
      "\u001b[0;32m/usr/local/lib/python3.6/dist-packages/numpy/lib/function_base.py\u001b[0m in \u001b[0;36mcorrcoef\u001b[0;34m(x, y, rowvar, bias, ddof)\u001b[0m\n\u001b[1;32m   2549\u001b[0m         warnings.warn('bias and ddof have no effect and are deprecated',\n\u001b[1;32m   2550\u001b[0m                       DeprecationWarning, stacklevel=3)\n\u001b[0;32m-> 2551\u001b[0;31m     \u001b[0mc\u001b[0m \u001b[0;34m=\u001b[0m \u001b[0mcov\u001b[0m\u001b[0;34m(\u001b[0m\u001b[0mx\u001b[0m\u001b[0;34m,\u001b[0m \u001b[0my\u001b[0m\u001b[0;34m,\u001b[0m \u001b[0mrowvar\u001b[0m\u001b[0;34m)\u001b[0m\u001b[0;34m\u001b[0m\u001b[0;34m\u001b[0m\u001b[0m\n\u001b[0m\u001b[1;32m   2552\u001b[0m     \u001b[0;32mtry\u001b[0m\u001b[0;34m:\u001b[0m\u001b[0;34m\u001b[0m\u001b[0;34m\u001b[0m\u001b[0m\n\u001b[1;32m   2553\u001b[0m         \u001b[0md\u001b[0m \u001b[0;34m=\u001b[0m \u001b[0mdiag\u001b[0m\u001b[0;34m(\u001b[0m\u001b[0mc\u001b[0m\u001b[0;34m)\u001b[0m\u001b[0;34m\u001b[0m\u001b[0;34m\u001b[0m\u001b[0m\n",
      "\u001b[0;32m<__array_function__ internals>\u001b[0m in \u001b[0;36mcov\u001b[0;34m(*args, **kwargs)\u001b[0m\n",
      "\u001b[0;32m/usr/local/lib/python3.6/dist-packages/numpy/lib/function_base.py\u001b[0m in \u001b[0;36mcov\u001b[0;34m(m, y, rowvar, bias, ddof, fweights, aweights)\u001b[0m\n\u001b[1;32m   2454\u001b[0m             \u001b[0mw\u001b[0m \u001b[0;34m*=\u001b[0m \u001b[0maweights\u001b[0m\u001b[0;34m\u001b[0m\u001b[0;34m\u001b[0m\u001b[0m\n\u001b[1;32m   2455\u001b[0m \u001b[0;34m\u001b[0m\u001b[0m\n\u001b[0;32m-> 2456\u001b[0;31m     \u001b[0mavg\u001b[0m\u001b[0;34m,\u001b[0m \u001b[0mw_sum\u001b[0m \u001b[0;34m=\u001b[0m \u001b[0maverage\u001b[0m\u001b[0;34m(\u001b[0m\u001b[0mX\u001b[0m\u001b[0;34m,\u001b[0m \u001b[0maxis\u001b[0m\u001b[0;34m=\u001b[0m\u001b[0;36m1\u001b[0m\u001b[0;34m,\u001b[0m \u001b[0mweights\u001b[0m\u001b[0;34m=\u001b[0m\u001b[0mw\u001b[0m\u001b[0;34m,\u001b[0m \u001b[0mreturned\u001b[0m\u001b[0;34m=\u001b[0m\u001b[0;32mTrue\u001b[0m\u001b[0;34m)\u001b[0m\u001b[0;34m\u001b[0m\u001b[0;34m\u001b[0m\u001b[0m\n\u001b[0m\u001b[1;32m   2457\u001b[0m     \u001b[0mw_sum\u001b[0m \u001b[0;34m=\u001b[0m \u001b[0mw_sum\u001b[0m\u001b[0;34m[\u001b[0m\u001b[0;36m0\u001b[0m\u001b[0;34m]\u001b[0m\u001b[0;34m\u001b[0m\u001b[0;34m\u001b[0m\u001b[0m\n\u001b[1;32m   2458\u001b[0m \u001b[0;34m\u001b[0m\u001b[0m\n",
      "\u001b[0;32m<__array_function__ internals>\u001b[0m in \u001b[0;36maverage\u001b[0;34m(*args, **kwargs)\u001b[0m\n",
      "\u001b[0;32m/usr/local/lib/python3.6/dist-packages/numpy/lib/function_base.py\u001b[0m in \u001b[0;36maverage\u001b[0;34m(a, axis, weights, returned)\u001b[0m\n\u001b[1;32m    378\u001b[0m \u001b[0;34m\u001b[0m\u001b[0m\n\u001b[1;32m    379\u001b[0m     \u001b[0;32mif\u001b[0m \u001b[0mweights\u001b[0m \u001b[0;32mis\u001b[0m \u001b[0;32mNone\u001b[0m\u001b[0;34m:\u001b[0m\u001b[0;34m\u001b[0m\u001b[0;34m\u001b[0m\u001b[0m\n\u001b[0;32m--> 380\u001b[0;31m         \u001b[0mavg\u001b[0m \u001b[0;34m=\u001b[0m \u001b[0ma\u001b[0m\u001b[0;34m.\u001b[0m\u001b[0mmean\u001b[0m\u001b[0;34m(\u001b[0m\u001b[0maxis\u001b[0m\u001b[0;34m)\u001b[0m\u001b[0;34m\u001b[0m\u001b[0;34m\u001b[0m\u001b[0m\n\u001b[0m\u001b[1;32m    381\u001b[0m         \u001b[0mscl\u001b[0m \u001b[0;34m=\u001b[0m \u001b[0mavg\u001b[0m\u001b[0;34m.\u001b[0m\u001b[0mdtype\u001b[0m\u001b[0;34m.\u001b[0m\u001b[0mtype\u001b[0m\u001b[0;34m(\u001b[0m\u001b[0ma\u001b[0m\u001b[0;34m.\u001b[0m\u001b[0msize\u001b[0m\u001b[0;34m/\u001b[0m\u001b[0mavg\u001b[0m\u001b[0;34m.\u001b[0m\u001b[0msize\u001b[0m\u001b[0;34m)\u001b[0m\u001b[0;34m\u001b[0m\u001b[0;34m\u001b[0m\u001b[0m\n\u001b[1;32m    382\u001b[0m     \u001b[0;32melse\u001b[0m\u001b[0;34m:\u001b[0m\u001b[0;34m\u001b[0m\u001b[0;34m\u001b[0m\u001b[0m\n",
      "\u001b[0;32m/usr/local/lib/python3.6/dist-packages/numpy/core/_methods.py\u001b[0m in \u001b[0;36m_mean\u001b[0;34m(a, axis, dtype, out, keepdims)\u001b[0m\n\u001b[1;32m    161\u001b[0m     \u001b[0;32mif\u001b[0m \u001b[0misinstance\u001b[0m\u001b[0;34m(\u001b[0m\u001b[0mret\u001b[0m\u001b[0;34m,\u001b[0m \u001b[0mmu\u001b[0m\u001b[0;34m.\u001b[0m\u001b[0mndarray\u001b[0m\u001b[0;34m)\u001b[0m\u001b[0;34m:\u001b[0m\u001b[0;34m\u001b[0m\u001b[0;34m\u001b[0m\u001b[0m\n\u001b[1;32m    162\u001b[0m         ret = um.true_divide(\n\u001b[0;32m--> 163\u001b[0;31m                 ret, rcount, out=ret, casting='unsafe', subok=False)\n\u001b[0m\u001b[1;32m    164\u001b[0m         \u001b[0;32mif\u001b[0m \u001b[0mis_float16_result\u001b[0m \u001b[0;32mand\u001b[0m \u001b[0mout\u001b[0m \u001b[0;32mis\u001b[0m \u001b[0;32mNone\u001b[0m\u001b[0;34m:\u001b[0m\u001b[0;34m\u001b[0m\u001b[0;34m\u001b[0m\u001b[0m\n\u001b[1;32m    165\u001b[0m             \u001b[0mret\u001b[0m \u001b[0;34m=\u001b[0m \u001b[0marr\u001b[0m\u001b[0;34m.\u001b[0m\u001b[0mdtype\u001b[0m\u001b[0;34m.\u001b[0m\u001b[0mtype\u001b[0m\u001b[0;34m(\u001b[0m\u001b[0mret\u001b[0m\u001b[0;34m)\u001b[0m\u001b[0;34m\u001b[0m\u001b[0;34m\u001b[0m\u001b[0m\n",
      "\u001b[0;31mTypeError\u001b[0m: unsupported operand type(s) for /: 'str' and 'int'"
     ]
    }
   ],
   "source": [
    "train_set['name_customer'].corr(train_set['target_delay'])"
   ]
  },
  {
   "cell_type": "code",
   "execution_count": null,
   "metadata": {
    "colab": {
     "base_uri": "https://localhost:8080/"
    },
    "id": "CaIz9Ge_hOFY",
    "outputId": "51284ec2-dd1c-4ae8-a7c0-6bc92824a7e0"
   },
   "outputs": [
    {
     "data": {
      "text/plain": [
       "others        897\n",
       "0200769623    846\n",
       "0200762301    118\n",
       "0200726979    115\n",
       "0200759878     99\n",
       "0200744019     84\n",
       "0200794332     77\n",
       "0200772670     60\n",
       "0200418007     55\n",
       "200769623      48\n",
       "0200707822     43\n",
       "0200780383     42\n",
       "0140104409     40\n",
       "0100031704     39\n",
       "0200761734     39\n",
       "0200353024     33\n",
       "0140106408     32\n",
       "0200803720     31\n",
       "0200706844     30\n",
       "0200148860     30\n",
       "0200704858     29\n",
       "0200705742     29\n",
       "0200936373     26\n",
       "0200020431     22\n",
       "CCU013         21\n",
       "0200772595     21\n",
       "0200416837     21\n",
       "0200230690     20\n",
       "0200729290     20\n",
       "0140104429     19\n",
       "0200704045     18\n",
       "0140104423     17\n",
       "0140104440     17\n",
       "CCCA02         17\n",
       "0200793568     15\n",
       "0200799367     15\n",
       "0140105847     14\n",
       "0200592182     14\n",
       "0200782001     13\n",
       "0200752302     12\n",
       "0200778870     12\n",
       "0200750051     12\n",
       "0200777735     12\n",
       "0200974851     11\n",
       "0200881076     11\n",
       "0200792734     11\n",
       "0140104225     11\n",
       "0200739534     10\n",
       "0200707005     10\n",
       "Name: cust_number, dtype: int64"
      ]
     },
     "execution_count": 1092,
     "metadata": {
      "tags": []
     },
     "output_type": "execute_result"
    }
   ],
   "source": [
    "###similarly encoding cust_numbers\n",
    "threshlold = 0.000250\n",
    "\n",
    "# we loop over all the categorical variables\n",
    "\n",
    "    \n",
    "    # locate all the categories that are not rare.\n",
    "counts = train_set.groupby(['cust_number'])['cust_number'].count() / len(train_set)\n",
    "counts_tst = test_data.groupby(['cust_number'])['cust_number'].count() / len(train_set)\n",
    "counts_val1 = val1.groupby(['cust_number'])['cust_number'].count() / len(train_set)\n",
    "counts_val2 = val2.groupby(['cust_number'])['cust_number'].count() / len(train_set)\n",
    "frequent_labels = [x for x in counts.loc[counts>threshlold].index.values]\n",
    "frequent_labels_tst = [x for x in counts_tst.loc[counts_tst>threshlold].index.values]\n",
    "frequent_labels_val1 = [x for x in counts_val1.loc[counts_val1>threshlold].index.values]\n",
    "frequent_labels_val2 = [x for x in counts_val2.loc[counts_val2>threshlold].index.values]\n",
    "    # change the rare category names with the word rare, and thus encoding it.\n",
    "train_set['cust_number'] = np.where(train_set['cust_number'].isin(frequent_labels), train_set['cust_number'], 'others')\n",
    "test_data['cust_number'] = np.where(test_data['cust_number'].isin(frequent_labels_tst), test_data['cust_number'], 'others')\n",
    "val1['cust_number'] = np.where(val1['cust_number'].isin(frequent_labels_val1), val1['cust_number'], 'others')\n",
    "val2['cust_number'] = np.where(val2['cust_number'].isin(frequent_labels_val2), val2['cust_number'], 'others')\n",
    "\n",
    "\n",
    "test_data['cust_number'].value_counts()\n",
    "\n"
   ]
  },
  {
   "cell_type": "code",
   "execution_count": 61,
   "metadata": {
    "id": "dH1nbNQQeavp"
   },
   "outputs": [],
   "source": [
    "target_mapper = train_set.groupby('cust_number')['target_delay'].mean().to_dict()\n",
    "train_set['cust_number'] = train_set['cust_number'].map(target_mapper)\n",
    "test_data['cust_number'] = test_data['cust_number'].map(target_mapper)\n",
    "val1['cust_number'] = val1['cust_number'].map(target_mapper)\n",
    "val2['cust_number'] = val2['cust_number'].map(target_mapper)\n"
   ]
  },
  {
   "cell_type": "code",
   "execution_count": 62,
   "metadata": {
    "colab": {
     "base_uri": "https://localhost:8080/"
    },
    "id": "qN3TACqFfe92",
    "outputId": "2526ad24-2304-4638-e55b-1fd7e7172e86"
   },
   "outputs": [
    {
     "data": {
      "text/plain": [
       "0.6639058826457247"
      ]
     },
     "execution_count": 62,
     "metadata": {
      "tags": []
     },
     "output_type": "execute_result"
    }
   ],
   "source": [
    "train_set['cust_number'].corr(train_set['target_delay'])"
   ]
  },
  {
   "cell_type": "code",
   "execution_count": 63,
   "metadata": {
    "colab": {
     "base_uri": "https://localhost:8080/"
    },
    "id": "UWXpK4lRl_fV",
    "outputId": "ccfc7e4e-d568-4ad5-921c-c8e07f6e1cac"
   },
   "outputs": [
    {
     "data": {
      "text/plain": [
       "business_code                      int64\n",
       "cust_number                      float64\n",
       "name_customer                     object\n",
       "clear_date                datetime64[ns]\n",
       "buisness_year                     object\n",
       "doc_id                            object\n",
       "posting_date              datetime64[ns]\n",
       "document_create_date      datetime64[ns]\n",
       "document_create_date.1    datetime64[ns]\n",
       "due_in_date               datetime64[ns]\n",
       "invoice_currency                  object\n",
       "total_open_amount                 object\n",
       "baseline_create_date      datetime64[ns]\n",
       "cust_payment_terms               float64\n",
       "isOpen                            object\n",
       "target_delay                       int64\n",
       "dtype: object"
      ]
     },
     "execution_count": 63,
     "metadata": {
      "tags": []
     },
     "output_type": "execute_result"
    }
   ],
   "source": [
    "train_set.dtypes"
   ]
  },
  {
   "cell_type": "code",
   "execution_count": 64,
   "metadata": {
    "colab": {
     "base_uri": "https://localhost:8080/"
    },
    "id": "P8OvOYZDmYyQ",
    "outputId": "28b7255a-f72d-448c-851c-af881b102641"
   },
   "outputs": [
    {
     "data": {
      "text/plain": [
       "<bound method Series.unique of 0        1.92986e+09\n",
       "1        1.92979e+09\n",
       "3        1.92952e+09\n",
       "4        1.92946e+09\n",
       "5        1.92948e+09\n",
       "            ...     \n",
       "45458     1.9288e+09\n",
       "45460    1.92977e+09\n",
       "45461    2.96054e+09\n",
       "45462    1.92865e+09\n",
       "45463    1.92956e+09\n",
       "Name: doc_id, Length: 38158, dtype: object>"
      ]
     },
     "execution_count": 64,
     "metadata": {
      "tags": []
     },
     "output_type": "execute_result"
    }
   ],
   "source": [
    "train_set['doc_id'].unique"
   ]
  },
  {
   "cell_type": "code",
   "execution_count": 65,
   "metadata": {
    "colab": {
     "base_uri": "https://localhost:8080/"
    },
    "id": "yvk083JqnK-6",
    "outputId": "9130f7b7-03d8-4d0b-b407-251ac2f208ba"
   },
   "outputs": [
    {
     "data": {
      "text/plain": [
       "(38158, 16)"
      ]
     },
     "execution_count": 65,
     "metadata": {
      "tags": []
     },
     "output_type": "execute_result"
    }
   ],
   "source": [
    "train_set.shape #means doc_id is a unique value like primary key so we will not encode as it will not contribute in predicting"
   ]
  },
  {
   "cell_type": "code",
   "execution_count": 66,
   "metadata": {
    "colab": {
     "base_uri": "https://localhost:8080/"
    },
    "id": "o32zuLWKnya6",
    "outputId": "86ddfbde-5a16-405b-aa13-1dc10624ddbc"
   },
   "outputs": [
    {
     "data": {
      "text/plain": [
       "0        51844.76\n",
       "1        62110.39\n",
       "3         1382.94\n",
       "4        85407.27\n",
       "5        47117.67\n",
       "           ...   \n",
       "45458    10435.76\n",
       "45460    11949.09\n",
       "45461    27441.05\n",
       "45462    13975.95\n",
       "45463     4343.40\n",
       "Name: total_open_amount, Length: 38158, dtype: float64"
      ]
     },
     "execution_count": 66,
     "metadata": {
      "tags": []
     },
     "output_type": "execute_result"
    }
   ],
   "source": [
    "#encoding total_open_amount\n",
    "train_set['total_open_amount']=train_set['total_open_amount'].astype(float)\n",
    "test_data['total_open_amount']=test_data['total_open_amount'].astype(float)\n",
    "val1['total_open_amount']=val1['total_open_amount'].astype(float)\n",
    "val2['total_open_amount']=val2['total_open_amount'].astype(float)\n",
    "train_set['total_open_amount']"
   ]
  },
  {
   "cell_type": "code",
   "execution_count": 67,
   "metadata": {
    "colab": {
     "base_uri": "https://localhost:8080/"
    },
    "id": "M1CD3QI_f7cs",
    "outputId": "1b81e4d6-b981-457d-eb87-152d43613d14"
   },
   "outputs": [
    {
     "data": {
      "text/plain": [
       "0.0025659655256575417"
      ]
     },
     "execution_count": 67,
     "metadata": {
      "tags": []
     },
     "output_type": "execute_result"
    }
   ],
   "source": [
    "train_set['total_open_amount'].corr(train_set['target_delay'])"
   ]
  },
  {
   "cell_type": "code",
   "execution_count": 68,
   "metadata": {
    "colab": {
     "base_uri": "https://localhost:8080/"
    },
    "id": "hqTCPESpud46",
    "outputId": "25dcc1ef-7473-4cbb-f627-0f49433f81a0"
   },
   "outputs": [
    {
     "data": {
      "text/plain": [
       "0        1.068714\n",
       "1        1.068714\n",
       "3        1.068714\n",
       "4        1.068714\n",
       "5        1.068714\n",
       "           ...   \n",
       "45458    1.068714\n",
       "45460    1.068714\n",
       "45461    1.068714\n",
       "45462    1.068714\n",
       "45463    1.068714\n",
       "Name: isOpen, Length: 38158, dtype: float64"
      ]
     },
     "execution_count": 68,
     "metadata": {
      "tags": []
     },
     "output_type": "execute_result"
    }
   ],
   "source": [
    "#target encoding on isOpen\n",
    "target_mapper = train_set.groupby('isOpen')['target_delay'].mean().to_dict()\n",
    "train_set['isOpen'] = train_set['isOpen'].map(target_mapper)\n",
    "val1['isOpen'] = val1['isOpen'].map(target_mapper)\n",
    "val2['isOpen'] = val2['isOpen'].map(target_mapper)\n",
    "train_set['isOpen']"
   ]
  },
  {
   "cell_type": "code",
   "execution_count": 69,
   "metadata": {
    "colab": {
     "base_uri": "https://localhost:8080/"
    },
    "id": "4vKPegK2gC94",
    "outputId": "3e9e4208-30a8-4d27-93f6-412d8e5e0f5a"
   },
   "outputs": [
    {
     "data": {
      "text/plain": [
       "nan"
      ]
     },
     "execution_count": 69,
     "metadata": {
      "tags": []
     },
     "output_type": "execute_result"
    }
   ],
   "source": [
    "train_set['isOpen'].corr(train_set['target_delay'])"
   ]
  },
  {
   "cell_type": "code",
   "execution_count": 70,
   "metadata": {
    "colab": {
     "base_uri": "https://localhost:8080/"
    },
    "id": "aY-niSydvTlr",
    "outputId": "6006683a-8cca-471b-c08b-39f5b8d2c121"
   },
   "outputs": [
    {
     "data": {
      "text/plain": [
       "business_code                      int64\n",
       "cust_number                      float64\n",
       "name_customer                     object\n",
       "clear_date                datetime64[ns]\n",
       "buisness_year                     object\n",
       "doc_id                            object\n",
       "posting_date              datetime64[ns]\n",
       "document_create_date      datetime64[ns]\n",
       "document_create_date.1    datetime64[ns]\n",
       "due_in_date               datetime64[ns]\n",
       "invoice_currency                  object\n",
       "total_open_amount                float64\n",
       "baseline_create_date      datetime64[ns]\n",
       "cust_payment_terms               float64\n",
       "isOpen                           float64\n",
       "target_delay                       int64\n",
       "dtype: object"
      ]
     },
     "execution_count": 70,
     "metadata": {
      "tags": []
     },
     "output_type": "execute_result"
    }
   ],
   "source": [
    "train_set.dtypes"
   ]
  },
  {
   "cell_type": "code",
   "execution_count": 71,
   "metadata": {
    "colab": {
     "base_uri": "https://localhost:8080/"
    },
    "id": "8a0gZsOaBMy8",
    "outputId": "7e49cec5-05fb-4fec-8f50-150ea29cffa9"
   },
   "outputs": [
    {
     "data": {
      "text/plain": [
       "USD    35057\n",
       "CAD     3101\n",
       "Name: invoice_currency, dtype: int64"
      ]
     },
     "execution_count": 71,
     "metadata": {
      "tags": []
     },
     "output_type": "execute_result"
    }
   ],
   "source": [
    "train_set['invoice_currency'].value_counts()"
   ]
  },
  {
   "cell_type": "code",
   "execution_count": 72,
   "metadata": {
    "colab": {
     "base_uri": "https://localhost:8080/",
     "height": 505
    },
    "id": "hGg83z9UAHku",
    "outputId": "8b8a0560-2781-4d9d-dc49-a2717a844fbd"
   },
   "outputs": [
    {
     "data": {
      "text/html": [
       "<div>\n",
       "<style scoped>\n",
       "    .dataframe tbody tr th:only-of-type {\n",
       "        vertical-align: middle;\n",
       "    }\n",
       "\n",
       "    .dataframe tbody tr th {\n",
       "        vertical-align: top;\n",
       "    }\n",
       "\n",
       "    .dataframe thead th {\n",
       "        text-align: right;\n",
       "    }\n",
       "</style>\n",
       "<table border=\"1\" class=\"dataframe\">\n",
       "  <thead>\n",
       "    <tr style=\"text-align: right;\">\n",
       "      <th></th>\n",
       "      <th>business_code</th>\n",
       "      <th>cust_number</th>\n",
       "      <th>name_customer</th>\n",
       "      <th>clear_date</th>\n",
       "      <th>buisness_year</th>\n",
       "      <th>doc_id</th>\n",
       "      <th>posting_date</th>\n",
       "      <th>document_create_date</th>\n",
       "      <th>document_create_date.1</th>\n",
       "      <th>due_in_date</th>\n",
       "      <th>invoice_currency</th>\n",
       "      <th>total_open_amount</th>\n",
       "      <th>baseline_create_date</th>\n",
       "      <th>cust_payment_terms</th>\n",
       "      <th>isOpen</th>\n",
       "      <th>target_delay</th>\n",
       "    </tr>\n",
       "  </thead>\n",
       "  <tbody>\n",
       "    <tr>\n",
       "      <th>0</th>\n",
       "      <td>1</td>\n",
       "      <td>1.529248</td>\n",
       "      <td>MEIJ corporation</td>\n",
       "      <td>2019-09-26</td>\n",
       "      <td>2019</td>\n",
       "      <td>1.92986e+09</td>\n",
       "      <td>2019-09-11</td>\n",
       "      <td>2019-09-10</td>\n",
       "      <td>2019-09-11</td>\n",
       "      <td>2019-09-26</td>\n",
       "      <td>0.659298</td>\n",
       "      <td>51844.76</td>\n",
       "      <td>2019-09-11</td>\n",
       "      <td>1.427474</td>\n",
       "      <td>1.068714</td>\n",
       "      <td>0</td>\n",
       "    </tr>\n",
       "    <tr>\n",
       "      <th>1</th>\n",
       "      <td>1</td>\n",
       "      <td>0.043478</td>\n",
       "      <td>C&amp;S WH corporation</td>\n",
       "      <td>2019-09-10</td>\n",
       "      <td>2019</td>\n",
       "      <td>1.92979e+09</td>\n",
       "      <td>2019-08-25</td>\n",
       "      <td>2019-08-24</td>\n",
       "      <td>2019-08-25</td>\n",
       "      <td>2019-09-09</td>\n",
       "      <td>0.659298</td>\n",
       "      <td>62110.39</td>\n",
       "      <td>2019-08-25</td>\n",
       "      <td>0.567073</td>\n",
       "      <td>1.068714</td>\n",
       "      <td>1</td>\n",
       "    </tr>\n",
       "    <tr>\n",
       "      <th>3</th>\n",
       "      <td>1</td>\n",
       "      <td>2.500000</td>\n",
       "      <td>CALD trust</td>\n",
       "      <td>2019-08-21</td>\n",
       "      <td>2019</td>\n",
       "      <td>1.92952e+09</td>\n",
       "      <td>2019-06-20</td>\n",
       "      <td>2019-06-20</td>\n",
       "      <td>2019-06-20</td>\n",
       "      <td>2019-08-19</td>\n",
       "      <td>0.659298</td>\n",
       "      <td>1382.94</td>\n",
       "      <td>2019-06-20</td>\n",
       "      <td>0.360825</td>\n",
       "      <td>1.068714</td>\n",
       "      <td>2</td>\n",
       "    </tr>\n",
       "    <tr>\n",
       "      <th>4</th>\n",
       "      <td>1</td>\n",
       "      <td>0.678571</td>\n",
       "      <td>OK llc</td>\n",
       "      <td>2019-06-26</td>\n",
       "      <td>2019</td>\n",
       "      <td>1.92946e+09</td>\n",
       "      <td>2019-06-07</td>\n",
       "      <td>2019-06-07</td>\n",
       "      <td>2019-06-07</td>\n",
       "      <td>2019-06-22</td>\n",
       "      <td>0.659298</td>\n",
       "      <td>85407.27</td>\n",
       "      <td>2019-06-07</td>\n",
       "      <td>1.427474</td>\n",
       "      <td>1.068714</td>\n",
       "      <td>4</td>\n",
       "    </tr>\n",
       "    <tr>\n",
       "      <th>5</th>\n",
       "      <td>1</td>\n",
       "      <td>-0.266667</td>\n",
       "      <td>COAS co</td>\n",
       "      <td>2019-06-27</td>\n",
       "      <td>2019</td>\n",
       "      <td>1.92948e+09</td>\n",
       "      <td>2019-06-12</td>\n",
       "      <td>2019-06-12</td>\n",
       "      <td>2019-06-12</td>\n",
       "      <td>2019-06-27</td>\n",
       "      <td>0.659298</td>\n",
       "      <td>47117.67</td>\n",
       "      <td>2019-06-12</td>\n",
       "      <td>1.427474</td>\n",
       "      <td>1.068714</td>\n",
       "      <td>0</td>\n",
       "    </tr>\n",
       "    <tr>\n",
       "      <th>...</th>\n",
       "      <td>...</td>\n",
       "      <td>...</td>\n",
       "      <td>...</td>\n",
       "      <td>...</td>\n",
       "      <td>...</td>\n",
       "      <td>...</td>\n",
       "      <td>...</td>\n",
       "      <td>...</td>\n",
       "      <td>...</td>\n",
       "      <td>...</td>\n",
       "      <td>...</td>\n",
       "      <td>...</td>\n",
       "      <td>...</td>\n",
       "      <td>...</td>\n",
       "      <td>...</td>\n",
       "      <td>...</td>\n",
       "    </tr>\n",
       "    <tr>\n",
       "      <th>45458</th>\n",
       "      <td>1</td>\n",
       "      <td>-2.085551</td>\n",
       "      <td>WAL-MAR associates</td>\n",
       "      <td>2019-02-27</td>\n",
       "      <td>2019</td>\n",
       "      <td>1.9288e+09</td>\n",
       "      <td>2019-02-15</td>\n",
       "      <td>2019-02-14</td>\n",
       "      <td>2019-02-15</td>\n",
       "      <td>2019-03-02</td>\n",
       "      <td>0.659298</td>\n",
       "      <td>10435.76</td>\n",
       "      <td>2019-02-15</td>\n",
       "      <td>-1.744087</td>\n",
       "      <td>1.068714</td>\n",
       "      <td>-3</td>\n",
       "    </tr>\n",
       "    <tr>\n",
       "      <th>45460</th>\n",
       "      <td>1</td>\n",
       "      <td>1.800000</td>\n",
       "      <td>MDV/ systems</td>\n",
       "      <td>2019-10-30</td>\n",
       "      <td>2019</td>\n",
       "      <td>1.92977e+09</td>\n",
       "      <td>2019-08-27</td>\n",
       "      <td>2019-08-21</td>\n",
       "      <td>2019-08-27</td>\n",
       "      <td>2019-10-31</td>\n",
       "      <td>0.659298</td>\n",
       "      <td>11949.09</td>\n",
       "      <td>2019-08-27</td>\n",
       "      <td>-11.829932</td>\n",
       "      <td>1.068714</td>\n",
       "      <td>-1</td>\n",
       "    </tr>\n",
       "    <tr>\n",
       "      <th>45461</th>\n",
       "      <td>0</td>\n",
       "      <td>2.333333</td>\n",
       "      <td>SOCIETE  foundation</td>\n",
       "      <td>2019-05-09</td>\n",
       "      <td>2019</td>\n",
       "      <td>2.96054e+09</td>\n",
       "      <td>2019-04-24</td>\n",
       "      <td>2019-04-24</td>\n",
       "      <td>2019-04-24</td>\n",
       "      <td>2019-05-06</td>\n",
       "      <td>5.697194</td>\n",
       "      <td>27441.05</td>\n",
       "      <td>2019-04-26</td>\n",
       "      <td>5.750495</td>\n",
       "      <td>1.068714</td>\n",
       "      <td>3</td>\n",
       "    </tr>\n",
       "    <tr>\n",
       "      <th>45462</th>\n",
       "      <td>1</td>\n",
       "      <td>1.000000</td>\n",
       "      <td>MCLANE trust</td>\n",
       "      <td>2019-02-13</td>\n",
       "      <td>2019</td>\n",
       "      <td>1.92865e+09</td>\n",
       "      <td>2019-01-24</td>\n",
       "      <td>2019-01-21</td>\n",
       "      <td>2019-01-24</td>\n",
       "      <td>2019-02-08</td>\n",
       "      <td>0.659298</td>\n",
       "      <td>13975.95</td>\n",
       "      <td>2019-01-24</td>\n",
       "      <td>1.427474</td>\n",
       "      <td>1.068714</td>\n",
       "      <td>5</td>\n",
       "    </tr>\n",
       "    <tr>\n",
       "      <th>45463</th>\n",
       "      <td>1</td>\n",
       "      <td>-1.307692</td>\n",
       "      <td>QUI us</td>\n",
       "      <td>2019-07-18</td>\n",
       "      <td>2019</td>\n",
       "      <td>1.92956e+09</td>\n",
       "      <td>2019-06-29</td>\n",
       "      <td>2019-06-28</td>\n",
       "      <td>2019-06-29</td>\n",
       "      <td>2019-07-14</td>\n",
       "      <td>0.659298</td>\n",
       "      <td>4343.40</td>\n",
       "      <td>2019-06-29</td>\n",
       "      <td>1.427474</td>\n",
       "      <td>1.068714</td>\n",
       "      <td>4</td>\n",
       "    </tr>\n",
       "  </tbody>\n",
       "</table>\n",
       "<p>38158 rows × 16 columns</p>\n",
       "</div>"
      ],
      "text/plain": [
       "       business_code  cust_number  ...    isOpen target_delay\n",
       "0                  1     1.529248  ...  1.068714            0\n",
       "1                  1     0.043478  ...  1.068714            1\n",
       "3                  1     2.500000  ...  1.068714            2\n",
       "4                  1     0.678571  ...  1.068714            4\n",
       "5                  1    -0.266667  ...  1.068714            0\n",
       "...              ...          ...  ...       ...          ...\n",
       "45458              1    -2.085551  ...  1.068714           -3\n",
       "45460              1     1.800000  ...  1.068714           -1\n",
       "45461              0     2.333333  ...  1.068714            3\n",
       "45462              1     1.000000  ...  1.068714            5\n",
       "45463              1    -1.307692  ...  1.068714            4\n",
       "\n",
       "[38158 rows x 16 columns]"
      ]
     },
     "execution_count": 72,
     "metadata": {
      "tags": []
     },
     "output_type": "execute_result"
    }
   ],
   "source": [
    "#label encoding invoice currency\n",
    "target_mapper = train_set.groupby('invoice_currency')['target_delay'].mean().to_dict()\n",
    "train_set['invoice_currency'] = train_set['invoice_currency'].map(target_mapper)\n",
    "test_data['invoice_currency'] = test_data['invoice_currency'].map(target_mapper)\n",
    "val1['invoice_currency'] = val1['invoice_currency'].map(target_mapper)\n",
    "val2['invoice_currency'] = val2['invoice_currency'].map(target_mapper)\n",
    "\n",
    "train_set\n"
   ]
  },
  {
   "cell_type": "code",
   "execution_count": 73,
   "metadata": {
    "id": "TUmkSN-Iz5vi"
   },
   "outputs": [],
   "source": [
    "#creating month columns for all datetime type for caculating correlation\n",
    "\n",
    "train_set['create_date_month']=train_set['document_create_date'].dt.month\n",
    "train_set['create_date.1_month']=train_set['document_create_date.1'].dt.month\n",
    "train_set['posting_date_month']=train_set['posting_date'].dt.month\n",
    "train_set['baseline_create_date_month']=train_set['baseline_create_date'].dt.month\n",
    "train_set['due_in_date_month']=train_set['due_in_date'].dt.month\n",
    "\n",
    "train_set['create_date_quarter']=train_set['document_create_date'].dt.quarter\n",
    "train_set['create_date.1_quarter']=train_set['document_create_date.1'].dt.quarter\n",
    "train_set['posting_date_quarter']=train_set['posting_date'].dt.quarter\n",
    "train_set['baseline_create_date_quarter']=train_set['baseline_create_date'].dt.quarter\n",
    "train_set['due_in_date_quarter']=train_set['due_in_date'].dt.quarter"
   ]
  },
  {
   "cell_type": "code",
   "execution_count": 74,
   "metadata": {
    "colab": {
     "base_uri": "https://localhost:8080/"
    },
    "id": "-nfdsfxvK2N4",
    "outputId": "723b841d-2f4f-4d92-b54e-60c0d6aab383"
   },
   "outputs": [
    {
     "data": {
      "text/plain": [
       "business_code                            int64\n",
       "cust_number                            float64\n",
       "name_customer                           object\n",
       "clear_date                      datetime64[ns]\n",
       "buisness_year                           object\n",
       "doc_id                                  object\n",
       "posting_date                    datetime64[ns]\n",
       "document_create_date            datetime64[ns]\n",
       "document_create_date.1          datetime64[ns]\n",
       "due_in_date                     datetime64[ns]\n",
       "invoice_currency                       float64\n",
       "total_open_amount                      float64\n",
       "baseline_create_date            datetime64[ns]\n",
       "cust_payment_terms                     float64\n",
       "isOpen                                 float64\n",
       "target_delay                             int64\n",
       "create_date_month                        int64\n",
       "create_date.1_month                      int64\n",
       "posting_date_month                       int64\n",
       "baseline_create_date_month               int64\n",
       "due_in_date_month                        int64\n",
       "create_date_quarter                      int64\n",
       "create_date.1_quarter                    int64\n",
       "posting_date_quarter                     int64\n",
       "baseline_create_date_quarter             int64\n",
       "due_in_date_quarter                      int64\n",
       "dtype: object"
      ]
     },
     "execution_count": 74,
     "metadata": {
      "tags": []
     },
     "output_type": "execute_result"
    }
   ],
   "source": [
    "train_set.dtypes"
   ]
  },
  {
   "cell_type": "code",
   "execution_count": 75,
   "metadata": {
    "id": "Y0QOSZMQAuRE"
   },
   "outputs": [],
   "source": [
    "####GRAPHS######"
   ]
  },
  {
   "cell_type": "code",
   "execution_count": 76,
   "metadata": {
    "colab": {
     "base_uri": "https://localhost:8080/",
     "height": 297
    },
    "id": "H2HzjQFkAuoz",
    "outputId": "b33579ff-0127-409a-bee0-02f284d33dc8"
   },
   "outputs": [
    {
     "data": {
      "image/png": "[encoded data removed]",
      "text/plain": [
       "<Figure size 432x288 with 1 Axes>"
      ]
     },
     "metadata": {
      "needs_background": "light",
      "tags": []
     },
     "output_type": "display_data"
    }
   ],
   "source": [
    "import matplotlib.pyplot as plt\n",
    "grp_invoice=train_set.groupby('invoice_currency')['invoice_currency'].agg({'count'}).reset_index()\n",
    "plt.bar(grp_invoice['invoice_currency'].astype(int).astype(str),grp_invoice['count'],color = 'b')\n",
    "plt.xlabel('INVOICE_CURRENCY')\n",
    "plt.xlim((-1,grp_invoice['invoice_currency'].nunique()))\n",
    "plt.ylabel('Value counts')\n",
    "# Set a title of the current axes.\n",
    "plt.title('Bar chart')\n",
    "# Display a figure.\n",
    "plt.tight_layout()\n",
    "######we can infer that invoice_currency has USD as max value_count"
   ]
  },
  {
   "cell_type": "code",
   "execution_count": 77,
   "metadata": {
    "colab": {
     "base_uri": "https://localhost:8080/",
     "height": 297
    },
    "id": "JXS-9T_yFXQ3",
    "outputId": "252ebc47-e328-4a73-c572-c664e7b83854"
   },
   "outputs": [
    {
     "data": {
      "image/png": "[encoded data removed]",
      "text/plain": [
       "<Figure size 432x288 with 1 Axes>"
      ]
     },
     "metadata": {
      "needs_background": "light",
      "tags": []
     },
     "output_type": "display_data"
    }
   ],
   "source": [
    "grp_bc=train_set.groupby('business_code')['target_delay'].agg({'mean'}).reset_index()\n",
    "\n",
    "plt.bar(grp_bc['business_code'].astype(int).astype(str),grp_bc['mean'],color = 'b')\n",
    "plt.xlabel('BUSINESS CODE')\n",
    "plt.xlim((-1,grp_bc['business_code'].nunique()))\n",
    "plt.ylabel('TARGET DELAY MEAN')\n",
    "# Set a title of the current axes.\n",
    "plt.title('Bar chart')\n",
    "# Display a figure.\n",
    "plt.tight_layout()\n",
    "###business code labeled 4 has max target_delay mean"
   ]
  },
  {
   "cell_type": "code",
   "execution_count": 78,
   "metadata": {
    "colab": {
     "base_uri": "https://localhost:8080/",
     "height": 396
    },
    "id": "DMj65d5pAuzO",
    "outputId": "031c0b76-50a4-4eee-fa2c-b42b829961e2"
   },
   "outputs": [
    {
     "data": {
      "image/png": "[encoded data removed]",
      "text/plain": [
       "<Figure size 360x360 with 1 Axes>"
      ]
     },
     "metadata": {
      "tags": []
     },
     "output_type": "display_data"
    }
   ],
   "source": [
    "grp_posting_date_mnth=train_set.groupby('posting_date_month')['target_delay'].agg({'mean'}).reset_index()\n",
    "plt.figure(figsize=(5,5))\n",
    "plt.pie(grp_posting_date_mnth['mean'],labels=grp_posting_date_mnth['posting_date_month'],autopct='%1.0f%%',radius = 1.5)\n",
    "plt.show()\n",
    "##shows target_delay mean in percentage in every month wrt posting_date"
   ]
  },
  {
   "cell_type": "code",
   "execution_count": 79,
   "metadata": {
    "colab": {
     "base_uri": "https://localhost:8080/",
     "height": 399
    },
    "id": "G3bvvxJjMo30",
    "outputId": "ddee3299-af77-440a-9362-441aa604a9f0"
   },
   "outputs": [
    {
     "data": {
      "image/png": "[encoded data removed]",
      "text/plain": [
       "<Figure size 360x360 with 1 Axes>"
      ]
     },
     "metadata": {
      "tags": []
     },
     "output_type": "display_data"
    }
   ],
   "source": [
    "grp_baseline_cr_date_mnth=train_set.groupby('baseline_create_date_month')['target_delay'].agg({'mean'}).reset_index()\n",
    "plt.figure(figsize=(5,5))\n",
    "plt.pie(grp_baseline_cr_date_mnth['mean'],labels=grp_baseline_cr_date_mnth['baseline_create_date_month'],autopct='%1.0f%%',radius = 1.5)\n",
    "plt.show()\n",
    "##shows target_delay mean in percentage in every month wrt baseline_create_date\n",
    "##we notice that above both the date graphs have nearly similar mean monthly"
   ]
  },
  {
   "cell_type": "code",
   "execution_count": 80,
   "metadata": {
    "colab": {
     "base_uri": "https://localhost:8080/",
     "height": 393
    },
    "id": "4_MRH4tvEvtz",
    "outputId": "d9a880c5-9567-4d41-9bf7-3fa3b61f3f00"
   },
   "outputs": [
    {
     "data": {
      "image/png": "[encoded data removed]",
      "text/plain": [
       "<Figure size 360x360 with 1 Axes>"
      ]
     },
     "metadata": {
      "tags": []
     },
     "output_type": "display_data"
    }
   ],
   "source": [
    "grp_due_in_date_mnth=train_set.groupby('due_in_date_month')['target_delay'].agg({'mean'}).reset_index()\n",
    "plt.figure(figsize=(5,5))\n",
    "plt.pie(grp_due_in_date_mnth['mean'],labels=grp_due_in_date_mnth['due_in_date_month'],autopct='%1.0f%%',radius = 1.5)\n",
    "plt.show()\n",
    "##shows target_delay mean in percentage in every month wrt due_in_date\n"
   ]
  },
  {
   "cell_type": "code",
   "execution_count": 81,
   "metadata": {
    "colab": {
     "base_uri": "https://localhost:8080/",
     "height": 297
    },
    "id": "nP9KBrBdEv_6",
    "outputId": "11062e5b-0cd2-41b8-a41c-ca99f488da2c"
   },
   "outputs": [
    {
     "data": {
      "image/png": "[encoded data removed]",
      "text/plain": [
       "<Figure size 432x288 with 1 Axes>"
      ]
     },
     "metadata": {
      "needs_background": "light",
      "tags": []
     },
     "output_type": "display_data"
    }
   ],
   "source": [
    "grp_nc=train_set.groupby('business_code')['total_open_amount'].agg({'mean'}).reset_index()\n",
    "\n",
    "plt.bar(grp_nc['business_code'].astype(int).astype(str),grp_nc['mean'],color = 'b')\n",
    "plt.xlabel('B CODE')\n",
    "plt.xlim((-1,grp_nc['business_code'].nunique()))\n",
    "plt.ylabel('Total open amount Mean')\n",
    "# Set a title of the current axes.\n",
    "plt.title('Bar chart')\n",
    "# Display a figure.\n",
    "plt.tight_layout()\n",
    "###displaying avg total amount for each business code "
   ]
  },
  {
   "cell_type": "code",
   "execution_count": 82,
   "metadata": {
    "colab": {
     "base_uri": "https://localhost:8080/",
     "height": 280
    },
    "id": "8kW_ptszVQnu",
    "outputId": "49552720-9c4b-4a9f-d249-4c75944eb20b"
   },
   "outputs": [
    {
     "data": {
      "image/png": "[encoded data removed]",
      "text/plain": [
       "<Figure size 432x288 with 1 Axes>"
      ]
     },
     "metadata": {
      "needs_background": "light",
      "tags": []
     },
     "output_type": "display_data"
    }
   ],
   "source": [
    "###Scatter plot of posting date month with target delay\n",
    "plt.scatter(train_set[:30]['target_delay'], train_set[:30]['posting_date_month'],color='r',label='posting date month')\n",
    "plt.xlabel(\"target_delay\")\n",
    "plt.legend()\n",
    "plt.show()"
   ]
  },
  {
   "cell_type": "code",
   "execution_count": 83,
   "metadata": {
    "colab": {
     "base_uri": "https://localhost:8080/",
     "height": 280
    },
    "id": "a2vw0F0eVQsI",
    "outputId": "bceabc08-c56c-4b87-abec-4762fc513c8e"
   },
   "outputs": [
    {
     "data": {
      "image/png": "[encoded data removed]",
      "text/plain": [
       "<Figure size 432x288 with 1 Axes>"
      ]
     },
     "metadata": {
      "needs_background": "light",
      "tags": []
     },
     "output_type": "display_data"
    }
   ],
   "source": [
    "###Scatter plot of baseline create date month with target delay\n",
    "plt.scatter(train_set[:30]['target_delay'], train_set[:30]['baseline_create_date_month'],color='b',label='baseline create date month')\n",
    "plt.xlabel(\"target_delay\")\n",
    "plt.legend()\n",
    "plt.show()"
   ]
  },
  {
   "cell_type": "code",
   "execution_count": 84,
   "metadata": {
    "colab": {
     "base_uri": "https://localhost:8080/",
     "height": 280
    },
    "id": "TMQ5S40fZtjK",
    "outputId": "98bd76a2-dccd-4c87-c8e5-168137a7753c"
   },
   "outputs": [
    {
     "data": {
      "image/png": "[encoded data removed]",
      "text/plain": [
       "<Figure size 432x288 with 1 Axes>"
      ]
     },
     "metadata": {
      "needs_background": "light",
      "tags": []
     },
     "output_type": "display_data"
    }
   ],
   "source": [
    "###Scatter plot of posting date month and basline create date with target delay\n",
    "plt.scatter(train_set[:30]['target_delay'], train_set[:30]['posting_date_month'],color='r',label='posting date month')\n",
    "plt.scatter(train_set[:30]['target_delay'], train_set[:30]['baseline_create_date_month'],color='b',label='baseline create date month')\n",
    "\n",
    "plt.xlabel(\"target_delay\")\n",
    "plt.legend()\n",
    "plt.show()\n",
    "\n",
    "### We see both the points overlap each other"
   ]
  },
  {
   "cell_type": "code",
   "execution_count": 85,
   "metadata": {
    "id": "2niXo7miVQvy"
   },
   "outputs": [],
   "source": [
    "####Distribution of various columns to check skewness"
   ]
  },
  {
   "cell_type": "code",
   "execution_count": 86,
   "metadata": {
    "colab": {
     "base_uri": "https://localhost:8080/"
    },
    "id": "BrCDDOQsd8w9",
    "outputId": "d1490071-9037-4ea3-ca35-faee955be81f"
   },
   "outputs": [
    {
     "name": "stdout",
     "output_type": "stream",
     "text": [
      "BUSINESS CODE\n",
      "3.3282343258536025\n"
     ]
    }
   ],
   "source": [
    "##SKEWNESS OF DIFFERENT COLUMNS\n",
    "from scipy.stats import  skew\n",
    "print(\"BUSINESS CODE\")\n",
    "print(skew(train_set['business_code'])) ##highly positive"
   ]
  },
  {
   "cell_type": "code",
   "execution_count": 87,
   "metadata": {
    "colab": {
     "base_uri": "https://localhost:8080/"
    },
    "id": "OnMF1R3fy2OA",
    "outputId": "756d2a9b-70b4-44de-cdd3-672ffdb697d6"
   },
   "outputs": [
    {
     "name": "stdout",
     "output_type": "stream",
     "text": [
      "CUSTOMER NUMBER\n",
      "4.996017697449313\n"
     ]
    }
   ],
   "source": [
    "from scipy.stats import  skew\n",
    "print(\"CUSTOMER NUMBER\")\n",
    "print(skew(train_set['cust_number'])) ##highly positive"
   ]
  },
  {
   "cell_type": "code",
   "execution_count": 91,
   "metadata": {
    "colab": {
     "base_uri": "https://localhost:8080/",
     "height": 909
    },
    "id": "ZvZudS6ld83m",
    "outputId": "9742b608-7eca-493f-820a-69b96e4c8ba5"
   },
   "outputs": [
    {
     "data": {
      "text/plain": [
       "array([[<matplotlib.axes._subplots.AxesSubplot object at 0x7f44eb7acac8>,\n",
       "        <matplotlib.axes._subplots.AxesSubplot object at 0x7f44e5e8a5f8>,\n",
       "        <matplotlib.axes._subplots.AxesSubplot object at 0x7f44e4f5dcc0>,\n",
       "        <matplotlib.axes._subplots.AxesSubplot object at 0x7f44e53f8eb8>],\n",
       "       [<matplotlib.axes._subplots.AxesSubplot object at 0x7f44e5e45b00>,\n",
       "        <matplotlib.axes._subplots.AxesSubplot object at 0x7f44e612fef0>,\n",
       "        <matplotlib.axes._subplots.AxesSubplot object at 0x7f44e74d2898>,\n",
       "        <matplotlib.axes._subplots.AxesSubplot object at 0x7f44e7add358>],\n",
       "       [<matplotlib.axes._subplots.AxesSubplot object at 0x7f44e7add5c0>,\n",
       "        <matplotlib.axes._subplots.AxesSubplot object at 0x7f44e984bb00>,\n",
       "        <matplotlib.axes._subplots.AxesSubplot object at 0x7f44e78ef978>,\n",
       "        <matplotlib.axes._subplots.AxesSubplot object at 0x7f44e7e25160>],\n",
       "       [<matplotlib.axes._subplots.AxesSubplot object at 0x7f44e6f84c18>,\n",
       "        <matplotlib.axes._subplots.AxesSubplot object at 0x7f44e654fe80>,\n",
       "        <matplotlib.axes._subplots.AxesSubplot object at 0x7f44e7c9c128>,\n",
       "        <matplotlib.axes._subplots.AxesSubplot object at 0x7f44e6f46390>],\n",
       "       [<matplotlib.axes._subplots.AxesSubplot object at 0x7f44e52515f8>,\n",
       "        <matplotlib.axes._subplots.AxesSubplot object at 0x7f44e606e860>,\n",
       "        <matplotlib.axes._subplots.AxesSubplot object at 0x7f44e5dbcac8>,\n",
       "        <matplotlib.axes._subplots.AxesSubplot object at 0x7f44e5a26d30>]],\n",
       "      dtype=object)"
      ]
     },
     "execution_count": 91,
     "metadata": {
      "tags": []
     },
     "output_type": "execute_result"
    },
    {
     "data": {
      "image/png": "[encoded data removed]",
      "text/plain": [
       "<Figure size 1152x720 with 20 Axes>"
      ]
     },
     "metadata": {
      "tags": []
     },
     "output_type": "display_data"
    }
   ],
   "source": [
    "import matplotlib\n",
    "import matplotlib.pyplot as plt\n",
    "import pandas as pd\n",
    "\n",
    "matplotlib.style.use('ggplot')\n",
    "train_set.hist(alpha=0.5, figsize=(16, 10))"
   ]
  },
  {
   "cell_type": "code",
   "execution_count": null,
   "metadata": {
    "id": "P6kUZEVTzCdl"
   },
   "outputs": [],
   "source": [
    "from scipy.stats import  skew\n",
    "print(\"Customer Name\")\n",
    "print(skew(train_set['name_customer']))   ##highly positive"
   ]
  },
  {
   "cell_type": "code",
   "execution_count": 93,
   "metadata": {
    "colab": {
     "base_uri": "https://localhost:8080/",
     "height": 354
    },
    "id": "dXqQqUEXm-fV",
    "outputId": "0af1df8a-97e6-41ec-9a99-7f312eae7656"
   },
   "outputs": [
    {
     "name": "stderr",
     "output_type": "stream",
     "text": [
      "/usr/local/lib/python3.6/dist-packages/seaborn/distributions.py:2557: FutureWarning: `distplot` is a deprecated function and will be removed in a future version. Please adapt your code to use either `displot` (a figure-level function with similar flexibility) or `histplot` (an axes-level function for histograms).\n",
      "  warnings.warn(msg, FutureWarning)\n"
     ]
    },
    {
     "data": {
      "text/plain": [
       "<matplotlib.axes._subplots.AxesSubplot at 0x7f44e21cb9e8>"
      ]
     },
     "execution_count": 93,
     "metadata": {
      "tags": []
     },
     "output_type": "execute_result"
    },
    {
     "data": {
      "image/png": "[encoded data removed]",
      "text/plain": [
       "<Figure size 432x288 with 1 Axes>"
      ]
     },
     "metadata": {
      "tags": []
     },
     "output_type": "display_data"
    }
   ],
   "source": [
    "sns.distplot(train_set['invoice_currency'])"
   ]
  },
  {
   "cell_type": "code",
   "execution_count": 94,
   "metadata": {
    "colab": {
     "base_uri": "https://localhost:8080/"
    },
    "id": "0ul33-Xc0Qog",
    "outputId": "318e2c6e-a54c-42c0-8089-1c5bf44a68ce"
   },
   "outputs": [
    {
     "name": "stdout",
     "output_type": "stream",
     "text": [
      "Invoice Currency\n",
      "3.064884798180715\n"
     ]
    }
   ],
   "source": [
    "from scipy.stats import  skew\n",
    "print(\"Invoice Currency\")\n",
    "print(skew(train_set['invoice_currency'])) ##highly positive"
   ]
  },
  {
   "cell_type": "code",
   "execution_count": 95,
   "metadata": {
    "colab": {
     "base_uri": "https://localhost:8080/",
     "height": 365
    },
    "id": "OwSNQoqtm-mb",
    "outputId": "9772bab3-48f1-431e-d0b4-ca0ec80938cd"
   },
   "outputs": [
    {
     "name": "stderr",
     "output_type": "stream",
     "text": [
      "/usr/local/lib/python3.6/dist-packages/seaborn/distributions.py:2557: FutureWarning: `distplot` is a deprecated function and will be removed in a future version. Please adapt your code to use either `displot` (a figure-level function with similar flexibility) or `histplot` (an axes-level function for histograms).\n",
      "  warnings.warn(msg, FutureWarning)\n"
     ]
    },
    {
     "data": {
      "text/plain": [
       "<matplotlib.axes._subplots.AxesSubplot at 0x7f44e105f080>"
      ]
     },
     "execution_count": 95,
     "metadata": {
      "tags": []
     },
     "output_type": "execute_result"
    },
    {
     "data": {
      "image/png": "[encoded data removed]",
      "text/plain": [
       "<Figure size 432x288 with 1 Axes>"
      ]
     },
     "metadata": {
      "tags": []
     },
     "output_type": "display_data"
    }
   ],
   "source": [
    "sns.distplot(train_set['total_open_amount'])"
   ]
  },
  {
   "cell_type": "code",
   "execution_count": 96,
   "metadata": {
    "colab": {
     "base_uri": "https://localhost:8080/"
    },
    "id": "PV3lx3I_0epk",
    "outputId": "f498c2b2-24bd-46b9-ea42-65242c54d0a7"
   },
   "outputs": [
    {
     "name": "stdout",
     "output_type": "stream",
     "text": [
      "Total Open Amount\n",
      "2.543577309637194\n"
     ]
    }
   ],
   "source": [
    "from scipy.stats import  skew\n",
    "print(\"Total Open Amount\")\n",
    "print(skew(train_set['total_open_amount']))  ##highly positive\n"
   ]
  },
  {
   "cell_type": "code",
   "execution_count": 97,
   "metadata": {
    "colab": {
     "base_uri": "https://localhost:8080/"
    },
    "id": "_VGroNwi1IbJ",
    "outputId": "12a07033-a829-4968-d3b0-3a6bfcd02fc7"
   },
   "outputs": [
    {
     "name": "stdout",
     "output_type": "stream",
     "text": [
      "Customer Payment Terms\n",
      "4.1092101174959605\n"
     ]
    }
   ],
   "source": [
    "from scipy.stats import  skew\n",
    "print(\"Customer Payment Terms\")\n",
    "print(skew(train_set['cust_payment_terms']))    #less positively skewed"
   ]
  },
  {
   "cell_type": "code",
   "execution_count": 98,
   "metadata": {
    "colab": {
     "base_uri": "https://localhost:8080/"
    },
    "id": "FaT5n0TB1Nn-",
    "outputId": "44574776-7474-484c-fb69-a5a6797ab36b"
   },
   "outputs": [
    {
     "name": "stdout",
     "output_type": "stream",
     "text": [
      "Is Open\n",
      "0.0\n"
     ]
    }
   ],
   "source": [
    "from scipy.stats import  skew\n",
    "print(\"Is Open\")\n",
    "print(skew(train_set['isOpen']))    "
   ]
  },
  {
   "cell_type": "code",
   "execution_count": 99,
   "metadata": {
    "colab": {
     "base_uri": "https://localhost:8080/"
    },
    "id": "XpZ9NZvlE87R",
    "outputId": "fa53bf7d-bd6f-46e4-f618-428ed520ed67"
   },
   "outputs": [
    {
     "name": "stdout",
     "output_type": "stream",
     "text": [
      "Baseline Create month \n",
      "0.024543213703139975\n"
     ]
    }
   ],
   "source": [
    "print(\"Baseline Create month \")\n",
    "print(skew(train_set['baseline_create_date_month']))    "
   ]
  },
  {
   "cell_type": "code",
   "execution_count": 100,
   "metadata": {
    "colab": {
     "base_uri": "https://localhost:8080/"
    },
    "id": "zP8tJJTAE_wz",
    "outputId": "faeb35c4-7a02-4f45-d8b1-4a61d6b5e2bb"
   },
   "outputs": [
    {
     "name": "stdout",
     "output_type": "stream",
     "text": [
      "Baseline Create Quarter\n",
      "0.1193722281398001\n"
     ]
    }
   ],
   "source": [
    "print(\"Baseline Create Quarter\")\n",
    "print(skew(train_set['baseline_create_date_quarter']))    "
   ]
  },
  {
   "cell_type": "code",
   "execution_count": 101,
   "metadata": {
    "colab": {
     "base_uri": "https://localhost:8080/"
    },
    "id": "yVwLh_0pFSt8",
    "outputId": "0a5f4a87-bf58-4e12-e29f-dc1d1c00a35a"
   },
   "outputs": [
    {
     "name": "stdout",
     "output_type": "stream",
     "text": [
      "Create Date Month.1 month \n",
      "0.024160104571675074\n"
     ]
    }
   ],
   "source": [
    "print(\"Create Date Month.1 month \")\n",
    "print(skew(train_set['create_date.1_month']))    "
   ]
  },
  {
   "cell_type": "code",
   "execution_count": 102,
   "metadata": {
    "colab": {
     "base_uri": "https://localhost:8080/"
    },
    "id": "5VgH3McgFTUl",
    "outputId": "b80d83d3-0f9b-4916-fe8d-eefec1095551"
   },
   "outputs": [
    {
     "name": "stdout",
     "output_type": "stream",
     "text": [
      "Create date month.1 quarter \n",
      "0.12118298300798952\n"
     ]
    }
   ],
   "source": [
    "print(\"Create date month.1 quarter \")\n",
    "print(skew(train_set['create_date.1_quarter']))    "
   ]
  },
  {
   "cell_type": "code",
   "execution_count": 103,
   "metadata": {
    "id": "sOeSfUSj2obc"
   },
   "outputs": [],
   "source": [
    "####Skewness of columns which have high correlation with target label will not be altered"
   ]
  },
  {
   "cell_type": "code",
   "execution_count": 104,
   "metadata": {
    "colab": {
     "base_uri": "https://localhost:8080/"
    },
    "id": "OmAV6oDFd8tM",
    "outputId": "ce50fdfc-c61c-4589-da1b-e9631bf38a28"
   },
   "outputs": [
    {
     "name": "stdout",
     "output_type": "stream",
     "text": [
      "3.0648847981807137\n"
     ]
    }
   ],
   "source": [
    "###invoice currency is highly positively skewed and it is less correlated with target delay so we apply squarert transformation\n",
    "train_set['invoice_currency']=np.sqrt(train_set['invoice_currency'])\n",
    "\n",
    "print(skew(train_set['invoice_currency']))  ###no change "
   ]
  },
  {
   "cell_type": "code",
   "execution_count": 105,
   "metadata": {
    "colab": {
     "base_uri": "https://localhost:8080/"
    },
    "id": "DtD1lJw6_HXY",
    "outputId": "2465fbd1-83d2-46b1-f9f1-9ff2e0703125"
   },
   "outputs": [
    {
     "name": "stdout",
     "output_type": "stream",
     "text": [
      "0.7744150889941419\n"
     ]
    }
   ],
   "source": [
    "train_set['total_open_amount']=np.sqrt(train_set['total_open_amount'])\n",
    "\n",
    "print(skew(train_set['total_open_amount']))  ###skewness reduced\n"
   ]
  },
  {
   "cell_type": "code",
   "execution_count": 106,
   "metadata": {
    "id": "DAvOZQ3JH57o"
   },
   "outputs": [],
   "source": [
    "#train_set['cust_payment_terms']=np.sqrt(train_set['cust_payment_terms'])\n",
    "\n",
    "#print(skew(train_set['cust_payment_terms']))  ###skewness reduced"
   ]
  },
  {
   "cell_type": "code",
   "execution_count": 107,
   "metadata": {
    "colab": {
     "base_uri": "https://localhost:8080/"
    },
    "id": "rEgByZR7IOgL",
    "outputId": "b5c12997-34f1-4d6d-aaa9-ec20e82790cf"
   },
   "outputs": [
    {
     "data": {
      "text/plain": [
       "business_code                            int64\n",
       "cust_number                            float64\n",
       "name_customer                           object\n",
       "clear_date                      datetime64[ns]\n",
       "buisness_year                           object\n",
       "doc_id                                  object\n",
       "posting_date                    datetime64[ns]\n",
       "document_create_date            datetime64[ns]\n",
       "document_create_date.1          datetime64[ns]\n",
       "due_in_date                     datetime64[ns]\n",
       "invoice_currency                       float64\n",
       "total_open_amount                      float64\n",
       "baseline_create_date            datetime64[ns]\n",
       "cust_payment_terms                     float64\n",
       "isOpen                                 float64\n",
       "target_delay                             int64\n",
       "create_date_month                        int64\n",
       "create_date.1_month                      int64\n",
       "posting_date_month                       int64\n",
       "baseline_create_date_month               int64\n",
       "due_in_date_month                        int64\n",
       "create_date_quarter                      int64\n",
       "create_date.1_quarter                    int64\n",
       "posting_date_quarter                     int64\n",
       "baseline_create_date_quarter             int64\n",
       "due_in_date_quarter                      int64\n",
       "dtype: object"
      ]
     },
     "execution_count": 107,
     "metadata": {
      "tags": []
     },
     "output_type": "execute_result"
    }
   ],
   "source": [
    "train_set.dtypes"
   ]
  },
  {
   "cell_type": "code",
   "execution_count": 108,
   "metadata": {
    "colab": {
     "base_uri": "https://localhost:8080/"
    },
    "id": "NDXqGX2kJ0lX",
    "outputId": "45edb99f-81cb-47f1-b621-1de197ebd6fc"
   },
   "outputs": [
    {
     "data": {
      "text/plain": [
       "<bound method Series.unique of 0        1.92986e+09\n",
       "1        1.92979e+09\n",
       "3        1.92952e+09\n",
       "4        1.92946e+09\n",
       "5        1.92948e+09\n",
       "            ...     \n",
       "45458     1.9288e+09\n",
       "45460    1.92977e+09\n",
       "45461    2.96054e+09\n",
       "45462    1.92865e+09\n",
       "45463    1.92956e+09\n",
       "Name: doc_id, Length: 38158, dtype: object>"
      ]
     },
     "execution_count": 108,
     "metadata": {
      "tags": []
     },
     "output_type": "execute_result"
    }
   ],
   "source": [
    "train_set['doc_id'].unique"
   ]
  },
  {
   "cell_type": "code",
   "execution_count": 109,
   "metadata": {
    "id": "GSo69YSaKCcl"
   },
   "outputs": [],
   "source": [
    "###doc_id is primary key so drop\n",
    "train_set.drop(['doc_id'],axis=1,inplace=True)"
   ]
  },
  {
   "cell_type": "code",
   "execution_count": 110,
   "metadata": {
    "colab": {
     "base_uri": "https://localhost:8080/"
    },
    "id": "QGvrXi-LIxLQ",
    "outputId": "ebf031e1-fcd7-4ded-c529-90adc87f5fa1"
   },
   "outputs": [
    {
     "data": {
      "text/plain": [
       "(-3.0, 2.0)"
      ]
     },
     "execution_count": 110,
     "metadata": {
      "tags": []
     },
     "output_type": "execute_result"
    }
   ],
   "source": [
    "#remove outliers from target_delay\n",
    "q1=train_set.target_delay.quantile(0.25)\n",
    "q3=train_set.target_delay.quantile(0.75)\n",
    "q1,q3"
   ]
  },
  {
   "cell_type": "code",
   "execution_count": 111,
   "metadata": {
    "colab": {
     "base_uri": "https://localhost:8080/"
    },
    "id": "Kxktvjm_IxQ5",
    "outputId": "0e170fa6-607b-4462-af4b-4444e4098d43"
   },
   "outputs": [
    {
     "data": {
      "text/plain": [
       "(-10.5, 9.5)"
      ]
     },
     "execution_count": 111,
     "metadata": {
      "tags": []
     },
     "output_type": "execute_result"
    }
   ],
   "source": [
    "iqr=q3-q1\n",
    "upper_limit=q3+1.5*iqr\n",
    "lower_limit=q1-1.5*iqr\n",
    "lower_limit,upper_limit"
   ]
  },
  {
   "cell_type": "code",
   "execution_count": 112,
   "metadata": {
    "colab": {
     "base_uri": "https://localhost:8080/",
     "height": 522
    },
    "id": "S2SP7Gc7Ixmp",
    "outputId": "6b95b34e-cf68-4c0e-ac0c-e0a45ea0ff14"
   },
   "outputs": [
    {
     "data": {
      "text/html": [
       "<div>\n",
       "<style scoped>\n",
       "    .dataframe tbody tr th:only-of-type {\n",
       "        vertical-align: middle;\n",
       "    }\n",
       "\n",
       "    .dataframe tbody tr th {\n",
       "        vertical-align: top;\n",
       "    }\n",
       "\n",
       "    .dataframe thead th {\n",
       "        text-align: right;\n",
       "    }\n",
       "</style>\n",
       "<table border=\"1\" class=\"dataframe\">\n",
       "  <thead>\n",
       "    <tr style=\"text-align: right;\">\n",
       "      <th></th>\n",
       "      <th>business_code</th>\n",
       "      <th>cust_number</th>\n",
       "      <th>name_customer</th>\n",
       "      <th>clear_date</th>\n",
       "      <th>buisness_year</th>\n",
       "      <th>posting_date</th>\n",
       "      <th>document_create_date</th>\n",
       "      <th>document_create_date.1</th>\n",
       "      <th>due_in_date</th>\n",
       "      <th>invoice_currency</th>\n",
       "      <th>total_open_amount</th>\n",
       "      <th>baseline_create_date</th>\n",
       "      <th>cust_payment_terms</th>\n",
       "      <th>isOpen</th>\n",
       "      <th>target_delay</th>\n",
       "      <th>create_date_month</th>\n",
       "      <th>create_date.1_month</th>\n",
       "      <th>posting_date_month</th>\n",
       "      <th>baseline_create_date_month</th>\n",
       "      <th>due_in_date_month</th>\n",
       "      <th>create_date_quarter</th>\n",
       "      <th>create_date.1_quarter</th>\n",
       "      <th>posting_date_quarter</th>\n",
       "      <th>baseline_create_date_quarter</th>\n",
       "      <th>due_in_date_quarter</th>\n",
       "    </tr>\n",
       "  </thead>\n",
       "  <tbody>\n",
       "    <tr>\n",
       "      <th>22</th>\n",
       "      <td>4</td>\n",
       "      <td>52.333333</td>\n",
       "      <td>HEINZ  foundation</td>\n",
       "      <td>2019-11-26</td>\n",
       "      <td>2019</td>\n",
       "      <td>2019-08-14</td>\n",
       "      <td>2019-08-12</td>\n",
       "      <td>2019-08-14</td>\n",
       "      <td>2019-09-28</td>\n",
       "      <td>0.811971</td>\n",
       "      <td>155.393404</td>\n",
       "      <td>2019-08-14</td>\n",
       "      <td>20.169014</td>\n",
       "      <td>1.068714</td>\n",
       "      <td>59</td>\n",
       "      <td>8</td>\n",
       "      <td>8</td>\n",
       "      <td>8</td>\n",
       "      <td>8</td>\n",
       "      <td>9</td>\n",
       "      <td>3</td>\n",
       "      <td>3</td>\n",
       "      <td>3</td>\n",
       "      <td>3</td>\n",
       "      <td>3</td>\n",
       "    </tr>\n",
       "    <tr>\n",
       "      <th>30</th>\n",
       "      <td>0</td>\n",
       "      <td>3.408100</td>\n",
       "      <td>COSTCO in</td>\n",
       "      <td>2019-11-01</td>\n",
       "      <td>2019</td>\n",
       "      <td>2019-10-01</td>\n",
       "      <td>2019-10-01</td>\n",
       "      <td>2019-10-01</td>\n",
       "      <td>2019-10-20</td>\n",
       "      <td>2.386880</td>\n",
       "      <td>51.687426</td>\n",
       "      <td>2019-10-10</td>\n",
       "      <td>5.750495</td>\n",
       "      <td>1.068714</td>\n",
       "      <td>12</td>\n",
       "      <td>10</td>\n",
       "      <td>10</td>\n",
       "      <td>10</td>\n",
       "      <td>10</td>\n",
       "      <td>10</td>\n",
       "      <td>4</td>\n",
       "      <td>4</td>\n",
       "      <td>4</td>\n",
       "      <td>4</td>\n",
       "      <td>4</td>\n",
       "    </tr>\n",
       "    <tr>\n",
       "      <th>59</th>\n",
       "      <td>1</td>\n",
       "      <td>3.000000</td>\n",
       "      <td>CHAR foundation</td>\n",
       "      <td>2019-12-20</td>\n",
       "      <td>2019</td>\n",
       "      <td>2019-11-22</td>\n",
       "      <td>2019-11-17</td>\n",
       "      <td>2019-11-22</td>\n",
       "      <td>2019-12-07</td>\n",
       "      <td>0.811971</td>\n",
       "      <td>73.209289</td>\n",
       "      <td>2019-11-22</td>\n",
       "      <td>1.427474</td>\n",
       "      <td>1.068714</td>\n",
       "      <td>13</td>\n",
       "      <td>11</td>\n",
       "      <td>11</td>\n",
       "      <td>11</td>\n",
       "      <td>11</td>\n",
       "      <td>12</td>\n",
       "      <td>4</td>\n",
       "      <td>4</td>\n",
       "      <td>4</td>\n",
       "      <td>4</td>\n",
       "      <td>4</td>\n",
       "    </tr>\n",
       "    <tr>\n",
       "      <th>87</th>\n",
       "      <td>1</td>\n",
       "      <td>42.690346</td>\n",
       "      <td>KRAFT F associates</td>\n",
       "      <td>2019-06-28</td>\n",
       "      <td>2019</td>\n",
       "      <td>2019-05-24</td>\n",
       "      <td>2019-05-22</td>\n",
       "      <td>2019-05-24</td>\n",
       "      <td>2019-05-24</td>\n",
       "      <td>0.811971</td>\n",
       "      <td>210.933852</td>\n",
       "      <td>2019-05-24</td>\n",
       "      <td>43.780357</td>\n",
       "      <td>1.068714</td>\n",
       "      <td>35</td>\n",
       "      <td>5</td>\n",
       "      <td>5</td>\n",
       "      <td>5</td>\n",
       "      <td>5</td>\n",
       "      <td>5</td>\n",
       "      <td>2</td>\n",
       "      <td>2</td>\n",
       "      <td>2</td>\n",
       "      <td>2</td>\n",
       "      <td>2</td>\n",
       "    </tr>\n",
       "    <tr>\n",
       "      <th>105</th>\n",
       "      <td>1</td>\n",
       "      <td>42.690346</td>\n",
       "      <td>KRAFT F in</td>\n",
       "      <td>2019-08-02</td>\n",
       "      <td>2019</td>\n",
       "      <td>2019-06-02</td>\n",
       "      <td>2019-06-03</td>\n",
       "      <td>2019-06-02</td>\n",
       "      <td>2019-06-02</td>\n",
       "      <td>0.811971</td>\n",
       "      <td>264.442810</td>\n",
       "      <td>2019-06-02</td>\n",
       "      <td>43.780357</td>\n",
       "      <td>1.068714</td>\n",
       "      <td>61</td>\n",
       "      <td>6</td>\n",
       "      <td>6</td>\n",
       "      <td>6</td>\n",
       "      <td>6</td>\n",
       "      <td>6</td>\n",
       "      <td>2</td>\n",
       "      <td>2</td>\n",
       "      <td>2</td>\n",
       "      <td>2</td>\n",
       "      <td>2</td>\n",
       "    </tr>\n",
       "    <tr>\n",
       "      <th>...</th>\n",
       "      <td>...</td>\n",
       "      <td>...</td>\n",
       "      <td>...</td>\n",
       "      <td>...</td>\n",
       "      <td>...</td>\n",
       "      <td>...</td>\n",
       "      <td>...</td>\n",
       "      <td>...</td>\n",
       "      <td>...</td>\n",
       "      <td>...</td>\n",
       "      <td>...</td>\n",
       "      <td>...</td>\n",
       "      <td>...</td>\n",
       "      <td>...</td>\n",
       "      <td>...</td>\n",
       "      <td>...</td>\n",
       "      <td>...</td>\n",
       "      <td>...</td>\n",
       "      <td>...</td>\n",
       "      <td>...</td>\n",
       "      <td>...</td>\n",
       "      <td>...</td>\n",
       "      <td>...</td>\n",
       "      <td>...</td>\n",
       "      <td>...</td>\n",
       "    </tr>\n",
       "    <tr>\n",
       "      <th>45394</th>\n",
       "      <td>4</td>\n",
       "      <td>30.500000</td>\n",
       "      <td>HEINZ in</td>\n",
       "      <td>2019-08-14</td>\n",
       "      <td>2019</td>\n",
       "      <td>2019-05-01</td>\n",
       "      <td>2019-05-01</td>\n",
       "      <td>2019-05-01</td>\n",
       "      <td>2019-06-15</td>\n",
       "      <td>0.811971</td>\n",
       "      <td>127.539053</td>\n",
       "      <td>2019-05-01</td>\n",
       "      <td>20.169014</td>\n",
       "      <td>1.068714</td>\n",
       "      <td>60</td>\n",
       "      <td>5</td>\n",
       "      <td>5</td>\n",
       "      <td>5</td>\n",
       "      <td>5</td>\n",
       "      <td>6</td>\n",
       "      <td>2</td>\n",
       "      <td>2</td>\n",
       "      <td>2</td>\n",
       "      <td>2</td>\n",
       "      <td>2</td>\n",
       "    </tr>\n",
       "    <tr>\n",
       "      <th>45402</th>\n",
       "      <td>4</td>\n",
       "      <td>10.666667</td>\n",
       "      <td>FACE foundation</td>\n",
       "      <td>2019-07-02</td>\n",
       "      <td>2019</td>\n",
       "      <td>2019-04-21</td>\n",
       "      <td>2019-04-17</td>\n",
       "      <td>2019-04-21</td>\n",
       "      <td>2019-06-20</td>\n",
       "      <td>0.811971</td>\n",
       "      <td>235.946265</td>\n",
       "      <td>2019-04-21</td>\n",
       "      <td>1.274510</td>\n",
       "      <td>1.068714</td>\n",
       "      <td>12</td>\n",
       "      <td>4</td>\n",
       "      <td>4</td>\n",
       "      <td>4</td>\n",
       "      <td>4</td>\n",
       "      <td>6</td>\n",
       "      <td>2</td>\n",
       "      <td>2</td>\n",
       "      <td>2</td>\n",
       "      <td>2</td>\n",
       "      <td>2</td>\n",
       "    </tr>\n",
       "    <tr>\n",
       "      <th>45418</th>\n",
       "      <td>1</td>\n",
       "      <td>-1.260870</td>\n",
       "      <td>SMART &amp;  foundation</td>\n",
       "      <td>2019-07-05</td>\n",
       "      <td>2019</td>\n",
       "      <td>2019-06-19</td>\n",
       "      <td>2019-06-19</td>\n",
       "      <td>2019-06-19</td>\n",
       "      <td>2019-09-17</td>\n",
       "      <td>0.811971</td>\n",
       "      <td>37.378470</td>\n",
       "      <td>2019-06-19</td>\n",
       "      <td>-12.547170</td>\n",
       "      <td>1.068714</td>\n",
       "      <td>-74</td>\n",
       "      <td>6</td>\n",
       "      <td>6</td>\n",
       "      <td>6</td>\n",
       "      <td>6</td>\n",
       "      <td>9</td>\n",
       "      <td>2</td>\n",
       "      <td>2</td>\n",
       "      <td>2</td>\n",
       "      <td>2</td>\n",
       "      <td>3</td>\n",
       "    </tr>\n",
       "    <tr>\n",
       "      <th>45432</th>\n",
       "      <td>1</td>\n",
       "      <td>42.690346</td>\n",
       "      <td>KRAFT F co</td>\n",
       "      <td>2019-08-30</td>\n",
       "      <td>2019</td>\n",
       "      <td>2019-07-07</td>\n",
       "      <td>2019-07-03</td>\n",
       "      <td>2019-07-07</td>\n",
       "      <td>2019-07-07</td>\n",
       "      <td>0.811971</td>\n",
       "      <td>40.286971</td>\n",
       "      <td>2019-07-07</td>\n",
       "      <td>43.780357</td>\n",
       "      <td>1.068714</td>\n",
       "      <td>54</td>\n",
       "      <td>7</td>\n",
       "      <td>7</td>\n",
       "      <td>7</td>\n",
       "      <td>7</td>\n",
       "      <td>7</td>\n",
       "      <td>3</td>\n",
       "      <td>3</td>\n",
       "      <td>3</td>\n",
       "      <td>3</td>\n",
       "      <td>3</td>\n",
       "    </tr>\n",
       "    <tr>\n",
       "      <th>45446</th>\n",
       "      <td>1</td>\n",
       "      <td>-2.724138</td>\n",
       "      <td>H T H co</td>\n",
       "      <td>2019-05-07</td>\n",
       "      <td>2019</td>\n",
       "      <td>2019-04-23</td>\n",
       "      <td>2019-04-23</td>\n",
       "      <td>2019-04-23</td>\n",
       "      <td>2019-06-27</td>\n",
       "      <td>0.811971</td>\n",
       "      <td>6.529165</td>\n",
       "      <td>2019-04-23</td>\n",
       "      <td>-11.829932</td>\n",
       "      <td>1.068714</td>\n",
       "      <td>-51</td>\n",
       "      <td>4</td>\n",
       "      <td>4</td>\n",
       "      <td>4</td>\n",
       "      <td>4</td>\n",
       "      <td>6</td>\n",
       "      <td>2</td>\n",
       "      <td>2</td>\n",
       "      <td>2</td>\n",
       "      <td>2</td>\n",
       "      <td>2</td>\n",
       "    </tr>\n",
       "  </tbody>\n",
       "</table>\n",
       "<p>3003 rows × 25 columns</p>\n",
       "</div>"
      ],
      "text/plain": [
       "       business_code  ...  due_in_date_quarter\n",
       "22                 4  ...                    3\n",
       "30                 0  ...                    4\n",
       "59                 1  ...                    4\n",
       "87                 1  ...                    2\n",
       "105                1  ...                    2\n",
       "...              ...  ...                  ...\n",
       "45394              4  ...                    2\n",
       "45402              4  ...                    2\n",
       "45418              1  ...                    3\n",
       "45432              1  ...                    3\n",
       "45446              1  ...                    2\n",
       "\n",
       "[3003 rows x 25 columns]"
      ]
     },
     "execution_count": 112,
     "metadata": {
      "tags": []
     },
     "output_type": "execute_result"
    }
   ],
   "source": [
    "train_set[(train_set.target_delay<lower_limit)|(train_set.target_delay>upper_limit)] ##outlier"
   ]
  },
  {
   "cell_type": "code",
   "execution_count": 113,
   "metadata": {
    "colab": {
     "base_uri": "https://localhost:8080/",
     "height": 505
    },
    "id": "iuL3G_NMLVRf",
    "outputId": "4246d715-eb91-432a-f0be-c65add141800"
   },
   "outputs": [
    {
     "data": {
      "text/html": [
       "<div>\n",
       "<style scoped>\n",
       "    .dataframe tbody tr th:only-of-type {\n",
       "        vertical-align: middle;\n",
       "    }\n",
       "\n",
       "    .dataframe tbody tr th {\n",
       "        vertical-align: top;\n",
       "    }\n",
       "\n",
       "    .dataframe thead th {\n",
       "        text-align: right;\n",
       "    }\n",
       "</style>\n",
       "<table border=\"1\" class=\"dataframe\">\n",
       "  <thead>\n",
       "    <tr style=\"text-align: right;\">\n",
       "      <th></th>\n",
       "      <th>business_code</th>\n",
       "      <th>cust_number</th>\n",
       "      <th>name_customer</th>\n",
       "      <th>clear_date</th>\n",
       "      <th>buisness_year</th>\n",
       "      <th>posting_date</th>\n",
       "      <th>document_create_date</th>\n",
       "      <th>document_create_date.1</th>\n",
       "      <th>due_in_date</th>\n",
       "      <th>invoice_currency</th>\n",
       "      <th>total_open_amount</th>\n",
       "      <th>baseline_create_date</th>\n",
       "      <th>cust_payment_terms</th>\n",
       "      <th>isOpen</th>\n",
       "      <th>target_delay</th>\n",
       "      <th>create_date_month</th>\n",
       "      <th>create_date.1_month</th>\n",
       "      <th>posting_date_month</th>\n",
       "      <th>baseline_create_date_month</th>\n",
       "      <th>due_in_date_month</th>\n",
       "      <th>create_date_quarter</th>\n",
       "      <th>create_date.1_quarter</th>\n",
       "      <th>posting_date_quarter</th>\n",
       "      <th>baseline_create_date_quarter</th>\n",
       "      <th>due_in_date_quarter</th>\n",
       "    </tr>\n",
       "  </thead>\n",
       "  <tbody>\n",
       "    <tr>\n",
       "      <th>0</th>\n",
       "      <td>1</td>\n",
       "      <td>1.529248</td>\n",
       "      <td>MEIJ corporation</td>\n",
       "      <td>2019-09-26</td>\n",
       "      <td>2019</td>\n",
       "      <td>2019-09-11</td>\n",
       "      <td>2019-09-10</td>\n",
       "      <td>2019-09-11</td>\n",
       "      <td>2019-09-26</td>\n",
       "      <td>0.811971</td>\n",
       "      <td>227.694444</td>\n",
       "      <td>2019-09-11</td>\n",
       "      <td>1.427474</td>\n",
       "      <td>1.068714</td>\n",
       "      <td>0</td>\n",
       "      <td>9</td>\n",
       "      <td>9</td>\n",
       "      <td>9</td>\n",
       "      <td>9</td>\n",
       "      <td>9</td>\n",
       "      <td>3</td>\n",
       "      <td>3</td>\n",
       "      <td>3</td>\n",
       "      <td>3</td>\n",
       "      <td>3</td>\n",
       "    </tr>\n",
       "    <tr>\n",
       "      <th>1</th>\n",
       "      <td>1</td>\n",
       "      <td>0.043478</td>\n",
       "      <td>C&amp;S WH corporation</td>\n",
       "      <td>2019-09-10</td>\n",
       "      <td>2019</td>\n",
       "      <td>2019-08-25</td>\n",
       "      <td>2019-08-24</td>\n",
       "      <td>2019-08-25</td>\n",
       "      <td>2019-09-09</td>\n",
       "      <td>0.811971</td>\n",
       "      <td>249.219562</td>\n",
       "      <td>2019-08-25</td>\n",
       "      <td>0.567073</td>\n",
       "      <td>1.068714</td>\n",
       "      <td>1</td>\n",
       "      <td>8</td>\n",
       "      <td>8</td>\n",
       "      <td>8</td>\n",
       "      <td>8</td>\n",
       "      <td>9</td>\n",
       "      <td>3</td>\n",
       "      <td>3</td>\n",
       "      <td>3</td>\n",
       "      <td>3</td>\n",
       "      <td>3</td>\n",
       "    </tr>\n",
       "    <tr>\n",
       "      <th>2</th>\n",
       "      <td>1</td>\n",
       "      <td>2.500000</td>\n",
       "      <td>CALD trust</td>\n",
       "      <td>2019-08-21</td>\n",
       "      <td>2019</td>\n",
       "      <td>2019-06-20</td>\n",
       "      <td>2019-06-20</td>\n",
       "      <td>2019-06-20</td>\n",
       "      <td>2019-08-19</td>\n",
       "      <td>0.811971</td>\n",
       "      <td>37.187901</td>\n",
       "      <td>2019-06-20</td>\n",
       "      <td>0.360825</td>\n",
       "      <td>1.068714</td>\n",
       "      <td>2</td>\n",
       "      <td>6</td>\n",
       "      <td>6</td>\n",
       "      <td>6</td>\n",
       "      <td>6</td>\n",
       "      <td>8</td>\n",
       "      <td>2</td>\n",
       "      <td>2</td>\n",
       "      <td>2</td>\n",
       "      <td>2</td>\n",
       "      <td>3</td>\n",
       "    </tr>\n",
       "    <tr>\n",
       "      <th>3</th>\n",
       "      <td>1</td>\n",
       "      <td>0.678571</td>\n",
       "      <td>OK llc</td>\n",
       "      <td>2019-06-26</td>\n",
       "      <td>2019</td>\n",
       "      <td>2019-06-07</td>\n",
       "      <td>2019-06-07</td>\n",
       "      <td>2019-06-07</td>\n",
       "      <td>2019-06-22</td>\n",
       "      <td>0.811971</td>\n",
       "      <td>292.245222</td>\n",
       "      <td>2019-06-07</td>\n",
       "      <td>1.427474</td>\n",
       "      <td>1.068714</td>\n",
       "      <td>4</td>\n",
       "      <td>6</td>\n",
       "      <td>6</td>\n",
       "      <td>6</td>\n",
       "      <td>6</td>\n",
       "      <td>6</td>\n",
       "      <td>2</td>\n",
       "      <td>2</td>\n",
       "      <td>2</td>\n",
       "      <td>2</td>\n",
       "      <td>2</td>\n",
       "    </tr>\n",
       "    <tr>\n",
       "      <th>4</th>\n",
       "      <td>1</td>\n",
       "      <td>-0.266667</td>\n",
       "      <td>COAS co</td>\n",
       "      <td>2019-06-27</td>\n",
       "      <td>2019</td>\n",
       "      <td>2019-06-12</td>\n",
       "      <td>2019-06-12</td>\n",
       "      <td>2019-06-12</td>\n",
       "      <td>2019-06-27</td>\n",
       "      <td>0.811971</td>\n",
       "      <td>217.066050</td>\n",
       "      <td>2019-06-12</td>\n",
       "      <td>1.427474</td>\n",
       "      <td>1.068714</td>\n",
       "      <td>0</td>\n",
       "      <td>6</td>\n",
       "      <td>6</td>\n",
       "      <td>6</td>\n",
       "      <td>6</td>\n",
       "      <td>6</td>\n",
       "      <td>2</td>\n",
       "      <td>2</td>\n",
       "      <td>2</td>\n",
       "      <td>2</td>\n",
       "      <td>2</td>\n",
       "    </tr>\n",
       "    <tr>\n",
       "      <th>...</th>\n",
       "      <td>...</td>\n",
       "      <td>...</td>\n",
       "      <td>...</td>\n",
       "      <td>...</td>\n",
       "      <td>...</td>\n",
       "      <td>...</td>\n",
       "      <td>...</td>\n",
       "      <td>...</td>\n",
       "      <td>...</td>\n",
       "      <td>...</td>\n",
       "      <td>...</td>\n",
       "      <td>...</td>\n",
       "      <td>...</td>\n",
       "      <td>...</td>\n",
       "      <td>...</td>\n",
       "      <td>...</td>\n",
       "      <td>...</td>\n",
       "      <td>...</td>\n",
       "      <td>...</td>\n",
       "      <td>...</td>\n",
       "      <td>...</td>\n",
       "      <td>...</td>\n",
       "      <td>...</td>\n",
       "      <td>...</td>\n",
       "      <td>...</td>\n",
       "    </tr>\n",
       "    <tr>\n",
       "      <th>35150</th>\n",
       "      <td>1</td>\n",
       "      <td>-2.085551</td>\n",
       "      <td>WAL-MAR associates</td>\n",
       "      <td>2019-02-27</td>\n",
       "      <td>2019</td>\n",
       "      <td>2019-02-15</td>\n",
       "      <td>2019-02-14</td>\n",
       "      <td>2019-02-15</td>\n",
       "      <td>2019-03-02</td>\n",
       "      <td>0.811971</td>\n",
       "      <td>102.155568</td>\n",
       "      <td>2019-02-15</td>\n",
       "      <td>-1.744087</td>\n",
       "      <td>1.068714</td>\n",
       "      <td>-3</td>\n",
       "      <td>2</td>\n",
       "      <td>2</td>\n",
       "      <td>2</td>\n",
       "      <td>2</td>\n",
       "      <td>3</td>\n",
       "      <td>1</td>\n",
       "      <td>1</td>\n",
       "      <td>1</td>\n",
       "      <td>1</td>\n",
       "      <td>1</td>\n",
       "    </tr>\n",
       "    <tr>\n",
       "      <th>35151</th>\n",
       "      <td>1</td>\n",
       "      <td>1.800000</td>\n",
       "      <td>MDV/ systems</td>\n",
       "      <td>2019-10-30</td>\n",
       "      <td>2019</td>\n",
       "      <td>2019-08-27</td>\n",
       "      <td>2019-08-21</td>\n",
       "      <td>2019-08-27</td>\n",
       "      <td>2019-10-31</td>\n",
       "      <td>0.811971</td>\n",
       "      <td>109.311893</td>\n",
       "      <td>2019-08-27</td>\n",
       "      <td>-11.829932</td>\n",
       "      <td>1.068714</td>\n",
       "      <td>-1</td>\n",
       "      <td>8</td>\n",
       "      <td>8</td>\n",
       "      <td>8</td>\n",
       "      <td>8</td>\n",
       "      <td>10</td>\n",
       "      <td>3</td>\n",
       "      <td>3</td>\n",
       "      <td>3</td>\n",
       "      <td>3</td>\n",
       "      <td>4</td>\n",
       "    </tr>\n",
       "    <tr>\n",
       "      <th>35152</th>\n",
       "      <td>0</td>\n",
       "      <td>2.333333</td>\n",
       "      <td>SOCIETE  foundation</td>\n",
       "      <td>2019-05-09</td>\n",
       "      <td>2019</td>\n",
       "      <td>2019-04-24</td>\n",
       "      <td>2019-04-24</td>\n",
       "      <td>2019-04-24</td>\n",
       "      <td>2019-05-06</td>\n",
       "      <td>2.386880</td>\n",
       "      <td>165.653403</td>\n",
       "      <td>2019-04-26</td>\n",
       "      <td>5.750495</td>\n",
       "      <td>1.068714</td>\n",
       "      <td>3</td>\n",
       "      <td>4</td>\n",
       "      <td>4</td>\n",
       "      <td>4</td>\n",
       "      <td>4</td>\n",
       "      <td>5</td>\n",
       "      <td>2</td>\n",
       "      <td>2</td>\n",
       "      <td>2</td>\n",
       "      <td>2</td>\n",
       "      <td>2</td>\n",
       "    </tr>\n",
       "    <tr>\n",
       "      <th>35153</th>\n",
       "      <td>1</td>\n",
       "      <td>1.000000</td>\n",
       "      <td>MCLANE trust</td>\n",
       "      <td>2019-02-13</td>\n",
       "      <td>2019</td>\n",
       "      <td>2019-01-24</td>\n",
       "      <td>2019-01-21</td>\n",
       "      <td>2019-01-24</td>\n",
       "      <td>2019-02-08</td>\n",
       "      <td>0.811971</td>\n",
       "      <td>118.219922</td>\n",
       "      <td>2019-01-24</td>\n",
       "      <td>1.427474</td>\n",
       "      <td>1.068714</td>\n",
       "      <td>5</td>\n",
       "      <td>1</td>\n",
       "      <td>1</td>\n",
       "      <td>1</td>\n",
       "      <td>1</td>\n",
       "      <td>2</td>\n",
       "      <td>1</td>\n",
       "      <td>1</td>\n",
       "      <td>1</td>\n",
       "      <td>1</td>\n",
       "      <td>1</td>\n",
       "    </tr>\n",
       "    <tr>\n",
       "      <th>35154</th>\n",
       "      <td>1</td>\n",
       "      <td>-1.307692</td>\n",
       "      <td>QUI us</td>\n",
       "      <td>2019-07-18</td>\n",
       "      <td>2019</td>\n",
       "      <td>2019-06-29</td>\n",
       "      <td>2019-06-28</td>\n",
       "      <td>2019-06-29</td>\n",
       "      <td>2019-07-14</td>\n",
       "      <td>0.811971</td>\n",
       "      <td>65.904476</td>\n",
       "      <td>2019-06-29</td>\n",
       "      <td>1.427474</td>\n",
       "      <td>1.068714</td>\n",
       "      <td>4</td>\n",
       "      <td>6</td>\n",
       "      <td>6</td>\n",
       "      <td>6</td>\n",
       "      <td>6</td>\n",
       "      <td>7</td>\n",
       "      <td>2</td>\n",
       "      <td>2</td>\n",
       "      <td>2</td>\n",
       "      <td>2</td>\n",
       "      <td>3</td>\n",
       "    </tr>\n",
       "  </tbody>\n",
       "</table>\n",
       "<p>35155 rows × 25 columns</p>\n",
       "</div>"
      ],
      "text/plain": [
       "       business_code  ...  due_in_date_quarter\n",
       "0                  1  ...                    3\n",
       "1                  1  ...                    3\n",
       "2                  1  ...                    3\n",
       "3                  1  ...                    2\n",
       "4                  1  ...                    2\n",
       "...              ...  ...                  ...\n",
       "35150              1  ...                    1\n",
       "35151              1  ...                    4\n",
       "35152              0  ...                    2\n",
       "35153              1  ...                    1\n",
       "35154              1  ...                    3\n",
       "\n",
       "[35155 rows x 25 columns]"
      ]
     },
     "execution_count": 113,
     "metadata": {
      "tags": []
     },
     "output_type": "execute_result"
    }
   ],
   "source": [
    "train_set=train_set[(train_set.target_delay>lower_limit)&(train_set.target_delay<upper_limit)] ##removr outlier\n",
    "train_set.reset_index(drop=True)"
   ]
  },
  {
   "cell_type": "code",
   "execution_count": 114,
   "metadata": {
    "id": "IVt-Ir0DQJn9"
   },
   "outputs": [],
   "source": [
    "###Graph between create date.1 and posting date whith target variable"
   ]
  },
  {
   "cell_type": "code",
   "execution_count": 115,
   "metadata": {
    "colab": {
     "base_uri": "https://localhost:8080/",
     "height": 282
    },
    "id": "-EJjnVRTQJym",
    "outputId": "14041fdd-146b-4669-f9fe-310cbb5e39ba"
   },
   "outputs": [
    {
     "data": {
      "image/png": "[encoded data removed]",
      "text/plain": [
       "<Figure size 432x288 with 1 Axes>"
      ]
     },
     "metadata": {
      "tags": []
     },
     "output_type": "display_data"
    }
   ],
   "source": [
    "plt.scatter(train_set[:30]['create_date.1_month'], train_set[:30]['posting_date_month'],color='r',label='posting date month')\n",
    "\n",
    "plt.xlabel(\"month\")\n",
    "plt.legend()\n",
    "plt.show()\n"
   ]
  },
  {
   "cell_type": "code",
   "execution_count": 116,
   "metadata": {
    "colab": {
     "base_uri": "https://localhost:8080/"
    },
    "id": "QiVjRKHXUMrY",
    "outputId": "f6bbb411-1af0-460c-ec17-11ac8eaeb968"
   },
   "outputs": [
    {
     "data": {
      "text/plain": [
       "(0.9988543800440378, -0.0013519257795492597)"
      ]
     },
     "execution_count": 116,
     "metadata": {
      "tags": []
     },
     "output_type": "execute_result"
    }
   ],
   "source": [
    "#corr is 1.00 and graph shows their strongly related so dropping posting_date_month\n",
    "c1=train_set['posting_date_month'].corr(train_set['baseline_create_date_month'])\n",
    "c2=train_set['posting_date_month'].corr(train_set['target_delay'])\n",
    "c1,c2"
   ]
  },
  {
   "cell_type": "code",
   "execution_count": 117,
   "metadata": {
    "colab": {
     "base_uri": "https://localhost:8080/",
     "height": 591
    },
    "id": "rUx6Uq-tk09F",
    "outputId": "65450876-085e-4dd0-cf78-603500101aff"
   },
   "outputs": [
    {
     "name": "stderr",
     "output_type": "stream",
     "text": [
      "/usr/local/lib/python3.6/dist-packages/pandas/core/frame.py:4174: SettingWithCopyWarning: \n",
      "A value is trying to be set on a copy of a slice from a DataFrame\n",
      "\n",
      "See the caveats in the documentation: https://pandas.pydata.org/pandas-docs/stable/user_guide/indexing.html#returning-a-view-versus-a-copy\n",
      "  errors=errors,\n"
     ]
    },
    {
     "data": {
      "text/html": [
       "<div>\n",
       "<style scoped>\n",
       "    .dataframe tbody tr th:only-of-type {\n",
       "        vertical-align: middle;\n",
       "    }\n",
       "\n",
       "    .dataframe tbody tr th {\n",
       "        vertical-align: top;\n",
       "    }\n",
       "\n",
       "    .dataframe thead th {\n",
       "        text-align: right;\n",
       "    }\n",
       "</style>\n",
       "<table border=\"1\" class=\"dataframe\">\n",
       "  <thead>\n",
       "    <tr style=\"text-align: right;\">\n",
       "      <th></th>\n",
       "      <th>business_code</th>\n",
       "      <th>cust_number</th>\n",
       "      <th>name_customer</th>\n",
       "      <th>clear_date</th>\n",
       "      <th>buisness_year</th>\n",
       "      <th>posting_date</th>\n",
       "      <th>document_create_date</th>\n",
       "      <th>document_create_date.1</th>\n",
       "      <th>due_in_date</th>\n",
       "      <th>invoice_currency</th>\n",
       "      <th>total_open_amount</th>\n",
       "      <th>baseline_create_date</th>\n",
       "      <th>cust_payment_terms</th>\n",
       "      <th>isOpen</th>\n",
       "      <th>target_delay</th>\n",
       "      <th>create_date_month</th>\n",
       "      <th>create_date.1_month</th>\n",
       "      <th>baseline_create_date_month</th>\n",
       "      <th>due_in_date_month</th>\n",
       "      <th>create_date_quarter</th>\n",
       "      <th>create_date.1_quarter</th>\n",
       "      <th>posting_date_quarter</th>\n",
       "      <th>baseline_create_date_quarter</th>\n",
       "      <th>due_in_date_quarter</th>\n",
       "    </tr>\n",
       "  </thead>\n",
       "  <tbody>\n",
       "    <tr>\n",
       "      <th>0</th>\n",
       "      <td>1</td>\n",
       "      <td>1.529248</td>\n",
       "      <td>MEIJ corporation</td>\n",
       "      <td>2019-09-26</td>\n",
       "      <td>2019</td>\n",
       "      <td>2019-09-11</td>\n",
       "      <td>2019-09-10</td>\n",
       "      <td>2019-09-11</td>\n",
       "      <td>2019-09-26</td>\n",
       "      <td>0.811971</td>\n",
       "      <td>227.694444</td>\n",
       "      <td>2019-09-11</td>\n",
       "      <td>1.427474</td>\n",
       "      <td>1.068714</td>\n",
       "      <td>0</td>\n",
       "      <td>9</td>\n",
       "      <td>9</td>\n",
       "      <td>9</td>\n",
       "      <td>9</td>\n",
       "      <td>3</td>\n",
       "      <td>3</td>\n",
       "      <td>3</td>\n",
       "      <td>3</td>\n",
       "      <td>3</td>\n",
       "    </tr>\n",
       "    <tr>\n",
       "      <th>1</th>\n",
       "      <td>1</td>\n",
       "      <td>0.043478</td>\n",
       "      <td>C&amp;S WH corporation</td>\n",
       "      <td>2019-09-10</td>\n",
       "      <td>2019</td>\n",
       "      <td>2019-08-25</td>\n",
       "      <td>2019-08-24</td>\n",
       "      <td>2019-08-25</td>\n",
       "      <td>2019-09-09</td>\n",
       "      <td>0.811971</td>\n",
       "      <td>249.219562</td>\n",
       "      <td>2019-08-25</td>\n",
       "      <td>0.567073</td>\n",
       "      <td>1.068714</td>\n",
       "      <td>1</td>\n",
       "      <td>8</td>\n",
       "      <td>8</td>\n",
       "      <td>8</td>\n",
       "      <td>9</td>\n",
       "      <td>3</td>\n",
       "      <td>3</td>\n",
       "      <td>3</td>\n",
       "      <td>3</td>\n",
       "      <td>3</td>\n",
       "    </tr>\n",
       "    <tr>\n",
       "      <th>3</th>\n",
       "      <td>1</td>\n",
       "      <td>2.500000</td>\n",
       "      <td>CALD trust</td>\n",
       "      <td>2019-08-21</td>\n",
       "      <td>2019</td>\n",
       "      <td>2019-06-20</td>\n",
       "      <td>2019-06-20</td>\n",
       "      <td>2019-06-20</td>\n",
       "      <td>2019-08-19</td>\n",
       "      <td>0.811971</td>\n",
       "      <td>37.187901</td>\n",
       "      <td>2019-06-20</td>\n",
       "      <td>0.360825</td>\n",
       "      <td>1.068714</td>\n",
       "      <td>2</td>\n",
       "      <td>6</td>\n",
       "      <td>6</td>\n",
       "      <td>6</td>\n",
       "      <td>8</td>\n",
       "      <td>2</td>\n",
       "      <td>2</td>\n",
       "      <td>2</td>\n",
       "      <td>2</td>\n",
       "      <td>3</td>\n",
       "    </tr>\n",
       "    <tr>\n",
       "      <th>4</th>\n",
       "      <td>1</td>\n",
       "      <td>0.678571</td>\n",
       "      <td>OK llc</td>\n",
       "      <td>2019-06-26</td>\n",
       "      <td>2019</td>\n",
       "      <td>2019-06-07</td>\n",
       "      <td>2019-06-07</td>\n",
       "      <td>2019-06-07</td>\n",
       "      <td>2019-06-22</td>\n",
       "      <td>0.811971</td>\n",
       "      <td>292.245222</td>\n",
       "      <td>2019-06-07</td>\n",
       "      <td>1.427474</td>\n",
       "      <td>1.068714</td>\n",
       "      <td>4</td>\n",
       "      <td>6</td>\n",
       "      <td>6</td>\n",
       "      <td>6</td>\n",
       "      <td>6</td>\n",
       "      <td>2</td>\n",
       "      <td>2</td>\n",
       "      <td>2</td>\n",
       "      <td>2</td>\n",
       "      <td>2</td>\n",
       "    </tr>\n",
       "    <tr>\n",
       "      <th>5</th>\n",
       "      <td>1</td>\n",
       "      <td>-0.266667</td>\n",
       "      <td>COAS co</td>\n",
       "      <td>2019-06-27</td>\n",
       "      <td>2019</td>\n",
       "      <td>2019-06-12</td>\n",
       "      <td>2019-06-12</td>\n",
       "      <td>2019-06-12</td>\n",
       "      <td>2019-06-27</td>\n",
       "      <td>0.811971</td>\n",
       "      <td>217.066050</td>\n",
       "      <td>2019-06-12</td>\n",
       "      <td>1.427474</td>\n",
       "      <td>1.068714</td>\n",
       "      <td>0</td>\n",
       "      <td>6</td>\n",
       "      <td>6</td>\n",
       "      <td>6</td>\n",
       "      <td>6</td>\n",
       "      <td>2</td>\n",
       "      <td>2</td>\n",
       "      <td>2</td>\n",
       "      <td>2</td>\n",
       "      <td>2</td>\n",
       "    </tr>\n",
       "    <tr>\n",
       "      <th>...</th>\n",
       "      <td>...</td>\n",
       "      <td>...</td>\n",
       "      <td>...</td>\n",
       "      <td>...</td>\n",
       "      <td>...</td>\n",
       "      <td>...</td>\n",
       "      <td>...</td>\n",
       "      <td>...</td>\n",
       "      <td>...</td>\n",
       "      <td>...</td>\n",
       "      <td>...</td>\n",
       "      <td>...</td>\n",
       "      <td>...</td>\n",
       "      <td>...</td>\n",
       "      <td>...</td>\n",
       "      <td>...</td>\n",
       "      <td>...</td>\n",
       "      <td>...</td>\n",
       "      <td>...</td>\n",
       "      <td>...</td>\n",
       "      <td>...</td>\n",
       "      <td>...</td>\n",
       "      <td>...</td>\n",
       "      <td>...</td>\n",
       "    </tr>\n",
       "    <tr>\n",
       "      <th>45458</th>\n",
       "      <td>1</td>\n",
       "      <td>-2.085551</td>\n",
       "      <td>WAL-MAR associates</td>\n",
       "      <td>2019-02-27</td>\n",
       "      <td>2019</td>\n",
       "      <td>2019-02-15</td>\n",
       "      <td>2019-02-14</td>\n",
       "      <td>2019-02-15</td>\n",
       "      <td>2019-03-02</td>\n",
       "      <td>0.811971</td>\n",
       "      <td>102.155568</td>\n",
       "      <td>2019-02-15</td>\n",
       "      <td>-1.744087</td>\n",
       "      <td>1.068714</td>\n",
       "      <td>-3</td>\n",
       "      <td>2</td>\n",
       "      <td>2</td>\n",
       "      <td>2</td>\n",
       "      <td>3</td>\n",
       "      <td>1</td>\n",
       "      <td>1</td>\n",
       "      <td>1</td>\n",
       "      <td>1</td>\n",
       "      <td>1</td>\n",
       "    </tr>\n",
       "    <tr>\n",
       "      <th>45460</th>\n",
       "      <td>1</td>\n",
       "      <td>1.800000</td>\n",
       "      <td>MDV/ systems</td>\n",
       "      <td>2019-10-30</td>\n",
       "      <td>2019</td>\n",
       "      <td>2019-08-27</td>\n",
       "      <td>2019-08-21</td>\n",
       "      <td>2019-08-27</td>\n",
       "      <td>2019-10-31</td>\n",
       "      <td>0.811971</td>\n",
       "      <td>109.311893</td>\n",
       "      <td>2019-08-27</td>\n",
       "      <td>-11.829932</td>\n",
       "      <td>1.068714</td>\n",
       "      <td>-1</td>\n",
       "      <td>8</td>\n",
       "      <td>8</td>\n",
       "      <td>8</td>\n",
       "      <td>10</td>\n",
       "      <td>3</td>\n",
       "      <td>3</td>\n",
       "      <td>3</td>\n",
       "      <td>3</td>\n",
       "      <td>4</td>\n",
       "    </tr>\n",
       "    <tr>\n",
       "      <th>45461</th>\n",
       "      <td>0</td>\n",
       "      <td>2.333333</td>\n",
       "      <td>SOCIETE  foundation</td>\n",
       "      <td>2019-05-09</td>\n",
       "      <td>2019</td>\n",
       "      <td>2019-04-24</td>\n",
       "      <td>2019-04-24</td>\n",
       "      <td>2019-04-24</td>\n",
       "      <td>2019-05-06</td>\n",
       "      <td>2.386880</td>\n",
       "      <td>165.653403</td>\n",
       "      <td>2019-04-26</td>\n",
       "      <td>5.750495</td>\n",
       "      <td>1.068714</td>\n",
       "      <td>3</td>\n",
       "      <td>4</td>\n",
       "      <td>4</td>\n",
       "      <td>4</td>\n",
       "      <td>5</td>\n",
       "      <td>2</td>\n",
       "      <td>2</td>\n",
       "      <td>2</td>\n",
       "      <td>2</td>\n",
       "      <td>2</td>\n",
       "    </tr>\n",
       "    <tr>\n",
       "      <th>45462</th>\n",
       "      <td>1</td>\n",
       "      <td>1.000000</td>\n",
       "      <td>MCLANE trust</td>\n",
       "      <td>2019-02-13</td>\n",
       "      <td>2019</td>\n",
       "      <td>2019-01-24</td>\n",
       "      <td>2019-01-21</td>\n",
       "      <td>2019-01-24</td>\n",
       "      <td>2019-02-08</td>\n",
       "      <td>0.811971</td>\n",
       "      <td>118.219922</td>\n",
       "      <td>2019-01-24</td>\n",
       "      <td>1.427474</td>\n",
       "      <td>1.068714</td>\n",
       "      <td>5</td>\n",
       "      <td>1</td>\n",
       "      <td>1</td>\n",
       "      <td>1</td>\n",
       "      <td>2</td>\n",
       "      <td>1</td>\n",
       "      <td>1</td>\n",
       "      <td>1</td>\n",
       "      <td>1</td>\n",
       "      <td>1</td>\n",
       "    </tr>\n",
       "    <tr>\n",
       "      <th>45463</th>\n",
       "      <td>1</td>\n",
       "      <td>-1.307692</td>\n",
       "      <td>QUI us</td>\n",
       "      <td>2019-07-18</td>\n",
       "      <td>2019</td>\n",
       "      <td>2019-06-29</td>\n",
       "      <td>2019-06-28</td>\n",
       "      <td>2019-06-29</td>\n",
       "      <td>2019-07-14</td>\n",
       "      <td>0.811971</td>\n",
       "      <td>65.904476</td>\n",
       "      <td>2019-06-29</td>\n",
       "      <td>1.427474</td>\n",
       "      <td>1.068714</td>\n",
       "      <td>4</td>\n",
       "      <td>6</td>\n",
       "      <td>6</td>\n",
       "      <td>6</td>\n",
       "      <td>7</td>\n",
       "      <td>2</td>\n",
       "      <td>2</td>\n",
       "      <td>2</td>\n",
       "      <td>2</td>\n",
       "      <td>3</td>\n",
       "    </tr>\n",
       "  </tbody>\n",
       "</table>\n",
       "<p>35155 rows × 24 columns</p>\n",
       "</div>"
      ],
      "text/plain": [
       "       business_code  ...  due_in_date_quarter\n",
       "0                  1  ...                    3\n",
       "1                  1  ...                    3\n",
       "3                  1  ...                    3\n",
       "4                  1  ...                    2\n",
       "5                  1  ...                    2\n",
       "...              ...  ...                  ...\n",
       "45458              1  ...                    1\n",
       "45460              1  ...                    4\n",
       "45461              0  ...                    2\n",
       "45462              1  ...                    1\n",
       "45463              1  ...                    3\n",
       "\n",
       "[35155 rows x 24 columns]"
      ]
     },
     "execution_count": 117,
     "metadata": {
      "tags": []
     },
     "output_type": "execute_result"
    }
   ],
   "source": [
    "train_set.drop(['posting_date_month'],axis=1,inplace=True)\n",
    "train_set"
   ]
  },
  {
   "cell_type": "code",
   "execution_count": 118,
   "metadata": {
    "colab": {
     "base_uri": "https://localhost:8080/",
     "height": 282
    },
    "id": "pbkrWtN2nQiI",
    "outputId": "853d27dc-5f21-4ff6-8e59-a45a640ebd84"
   },
   "outputs": [
    {
     "data": {
      "image/png": "[encoded data removed]",
      "text/plain": [
       "<Figure size 432x288 with 1 Axes>"
      ]
     },
     "metadata": {
      "tags": []
     },
     "output_type": "display_data"
    }
   ],
   "source": [
    "plt.scatter(train_set[:30]['cust_number'], train_set[:30]['name_customer'],color='r',label='name_customer')\n",
    "plt.xlabel(\"cust_name\")\n",
    "plt.legend()\n",
    "plt.show()\n"
   ]
  },
  {
   "cell_type": "code",
   "execution_count": 119,
   "metadata": {
    "id": "l208eqd1IDnK"
   },
   "outputs": [],
   "source": [
    "##invoice currency is correlated to cust_payment_terms and dose not correlate much with target_delay"
   ]
  },
  {
   "cell_type": "code",
   "execution_count": 120,
   "metadata": {
    "colab": {
     "base_uri": "https://localhost:8080/"
    },
    "id": "FHSfmMx7luEo",
    "outputId": "b8cecbc9-2313-47fa-dc9a-d091522475ff"
   },
   "outputs": [
    {
     "data": {
      "text/plain": [
       "(0.4615894040379355, 0.2616716711811289, 0.42983782845787716)"
      ]
     },
     "execution_count": 120,
     "metadata": {
      "tags": []
     },
     "output_type": "execute_result"
    }
   ],
   "source": [
    "c1=train_set['invoice_currency'].corr(train_set['cust_payment_terms'])\n",
    "c2=train_set['invoice_currency'].corr(train_set['target_delay'])\n",
    "c3=train_set['cust_payment_terms'].corr(train_set['target_delay'])\n",
    "c1,c2,c3"
   ]
  },
  {
   "cell_type": "code",
   "execution_count": 121,
   "metadata": {
    "colab": {
     "base_uri": "https://localhost:8080/"
    },
    "id": "ifV4MsVOIKqa",
    "outputId": "eb9200e8-c296-4c12-be4d-77209b387796"
   },
   "outputs": [
    {
     "name": "stderr",
     "output_type": "stream",
     "text": [
      "/usr/local/lib/python3.6/dist-packages/pandas/core/frame.py:4174: SettingWithCopyWarning: \n",
      "A value is trying to be set on a copy of a slice from a DataFrame\n",
      "\n",
      "See the caveats in the documentation: https://pandas.pydata.org/pandas-docs/stable/user_guide/indexing.html#returning-a-view-versus-a-copy\n",
      "  errors=errors,\n"
     ]
    }
   ],
   "source": [
    "train_set.drop(['invoice_currency'],axis=1,inplace=True)"
   ]
  },
  {
   "cell_type": "code",
   "execution_count": 122,
   "metadata": {
    "id": "zDVb-LXpPpR3"
   },
   "outputs": [],
   "source": [
    "##baseline_create_date_month is correlated create_date_month.1"
   ]
  },
  {
   "cell_type": "code",
   "execution_count": 123,
   "metadata": {
    "colab": {
     "base_uri": "https://localhost:8080/"
    },
    "id": "j9GcbxdAmSRe",
    "outputId": "e112d679-e49b-4249-fcf9-56498e01e574"
   },
   "outputs": [
    {
     "data": {
      "text/plain": [
       "(0.9988543800440378, 8.728527724038855e-05)"
      ]
     },
     "execution_count": 123,
     "metadata": {
      "tags": []
     },
     "output_type": "execute_result"
    }
   ],
   "source": [
    "c1=train_set['baseline_create_date_month'].corr(train_set['create_date.1_month'])\n",
    "c2=train_set['baseline_create_date_month'].corr(train_set['target_delay'])\n",
    "c1,c2"
   ]
  },
  {
   "cell_type": "code",
   "execution_count": null,
   "metadata": {
    "id": "uhXMKFZuPpdJ"
   },
   "outputs": [],
   "source": [
    "train_set.drop(['baseline_create_date_month'],axis=1,inplace=True)"
   ]
  },
  {
   "cell_type": "code",
   "execution_count": 125,
   "metadata": {
    "id": "xWSi44wUPquY"
   },
   "outputs": [],
   "source": [
    "##baseline_create_date_quarter is correlated create_date_month.1"
   ]
  },
  {
   "cell_type": "code",
   "execution_count": 126,
   "metadata": {
    "colab": {
     "base_uri": "https://localhost:8080/"
    },
    "id": "Giu67Stjm6PQ",
    "outputId": "93c57861-9225-472d-8d46-01071fe28caa"
   },
   "outputs": [
    {
     "data": {
      "text/plain": [
       "(0.9674615289881496, 0.002221675590943716)"
      ]
     },
     "execution_count": 126,
     "metadata": {
      "tags": []
     },
     "output_type": "execute_result"
    }
   ],
   "source": [
    "c1=train_set['baseline_create_date_quarter'].corr(train_set['create_date.1_month'])\n",
    "c2=train_set['baseline_create_date_quarter'].corr(train_set['target_delay'])\n",
    "c1,c2"
   ]
  },
  {
   "cell_type": "code",
   "execution_count": 127,
   "metadata": {
    "colab": {
     "base_uri": "https://localhost:8080/"
    },
    "id": "uBdiYEUqPq9z",
    "outputId": "512694b3-db3d-43d6-82e2-f25a87072e58"
   },
   "outputs": [
    {
     "name": "stderr",
     "output_type": "stream",
     "text": [
      "/usr/local/lib/python3.6/dist-packages/pandas/core/frame.py:4174: SettingWithCopyWarning: \n",
      "A value is trying to be set on a copy of a slice from a DataFrame\n",
      "\n",
      "See the caveats in the documentation: https://pandas.pydata.org/pandas-docs/stable/user_guide/indexing.html#returning-a-view-versus-a-copy\n",
      "  errors=errors,\n"
     ]
    }
   ],
   "source": [
    "train_set.drop(['baseline_create_date_quarter'],axis=1,inplace=True)"
   ]
  },
  {
   "cell_type": "code",
   "execution_count": 128,
   "metadata": {
    "id": "eu0Fdk1IPr4i"
   },
   "outputs": [],
   "source": [
    "##due_in_date_month is correlated create_date_month.1"
   ]
  },
  {
   "cell_type": "code",
   "execution_count": 131,
   "metadata": {
    "colab": {
     "base_uri": "https://localhost:8080/"
    },
    "id": "1zxpV6p1nErz",
    "outputId": "c833ae37-27b2-474c-9f48-8c3a3e8a0a57"
   },
   "outputs": [
    {
     "data": {
      "text/plain": [
       "(0.9356095253624668, 0.0035734778698867558, -0.0013519257795492597)"
      ]
     },
     "execution_count": 131,
     "metadata": {
      "tags": []
     },
     "output_type": "execute_result"
    }
   ],
   "source": [
    "c1=train_set['due_in_date_quarter'].corr(train_set['create_date.1_month'])\n",
    "c2=train_set['due_in_date_quarter'].corr(train_set['target_delay'])\n",
    "c3=train_set['create_date.1_month'].corr(train_set['target_delay'])\n",
    "c1,c2,c3"
   ]
  },
  {
   "cell_type": "code",
   "execution_count": 132,
   "metadata": {
    "id": "RjrXAJIeQqGD"
   },
   "outputs": [],
   "source": [
    "##create_date_month is correlated due_in_date_month"
   ]
  },
  {
   "cell_type": "code",
   "execution_count": 133,
   "metadata": {
    "colab": {
     "base_uri": "https://localhost:8080/"
    },
    "id": "gpFqj0d-nvrM",
    "outputId": "92ed3809-c696-4dbd-9bdd-0629047303be"
   },
   "outputs": [
    {
     "data": {
      "text/plain": [
       "(0.946330480546937, -0.0003069264721686218, 0.004306381270408235)"
      ]
     },
     "execution_count": 133,
     "metadata": {
      "tags": []
     },
     "output_type": "execute_result"
    }
   ],
   "source": [
    "c1=train_set['create_date_month'].corr(train_set['due_in_date_month'])\n",
    "c2=train_set['create_date_month'].corr(train_set['target_delay'])\n",
    "c3=train_set['due_in_date_month'].corr(train_set['target_delay'])\n",
    "c1,c2,c3"
   ]
  },
  {
   "cell_type": "code",
   "execution_count": 134,
   "metadata": {
    "colab": {
     "base_uri": "https://localhost:8080/"
    },
    "id": "GeAmwQcWQqZ2",
    "outputId": "603273a3-ff05-4e3b-fce8-d91ecbf4e67a"
   },
   "outputs": [
    {
     "name": "stderr",
     "output_type": "stream",
     "text": [
      "/usr/local/lib/python3.6/dist-packages/pandas/core/frame.py:4174: SettingWithCopyWarning: \n",
      "A value is trying to be set on a copy of a slice from a DataFrame\n",
      "\n",
      "See the caveats in the documentation: https://pandas.pydata.org/pandas-docs/stable/user_guide/indexing.html#returning-a-view-versus-a-copy\n",
      "  errors=errors,\n"
     ]
    }
   ],
   "source": [
    "train_set.drop(['create_date_quarter'],axis=1,inplace=True)"
   ]
  },
  {
   "cell_type": "code",
   "execution_count": 135,
   "metadata": {
    "colab": {
     "base_uri": "https://localhost:8080/",
     "height": 505
    },
    "id": "ykJSEHobQqlA",
    "outputId": "279860db-a74c-4709-f632-1f2f0108115e"
   },
   "outputs": [
    {
     "data": {
      "text/html": [
       "<div>\n",
       "<style scoped>\n",
       "    .dataframe tbody tr th:only-of-type {\n",
       "        vertical-align: middle;\n",
       "    }\n",
       "\n",
       "    .dataframe tbody tr th {\n",
       "        vertical-align: top;\n",
       "    }\n",
       "\n",
       "    .dataframe thead th {\n",
       "        text-align: right;\n",
       "    }\n",
       "</style>\n",
       "<table border=\"1\" class=\"dataframe\">\n",
       "  <thead>\n",
       "    <tr style=\"text-align: right;\">\n",
       "      <th></th>\n",
       "      <th>business_code</th>\n",
       "      <th>cust_number</th>\n",
       "      <th>name_customer</th>\n",
       "      <th>clear_date</th>\n",
       "      <th>buisness_year</th>\n",
       "      <th>posting_date</th>\n",
       "      <th>document_create_date</th>\n",
       "      <th>document_create_date.1</th>\n",
       "      <th>due_in_date</th>\n",
       "      <th>total_open_amount</th>\n",
       "      <th>baseline_create_date</th>\n",
       "      <th>cust_payment_terms</th>\n",
       "      <th>isOpen</th>\n",
       "      <th>target_delay</th>\n",
       "      <th>create_date_month</th>\n",
       "      <th>create_date.1_month</th>\n",
       "      <th>due_in_date_month</th>\n",
       "      <th>create_date.1_quarter</th>\n",
       "      <th>posting_date_quarter</th>\n",
       "      <th>due_in_date_quarter</th>\n",
       "    </tr>\n",
       "  </thead>\n",
       "  <tbody>\n",
       "    <tr>\n",
       "      <th>0</th>\n",
       "      <td>1</td>\n",
       "      <td>1.529248</td>\n",
       "      <td>MEIJ corporation</td>\n",
       "      <td>2019-09-26</td>\n",
       "      <td>2019</td>\n",
       "      <td>2019-09-11</td>\n",
       "      <td>2019-09-10</td>\n",
       "      <td>2019-09-11</td>\n",
       "      <td>2019-09-26</td>\n",
       "      <td>227.694444</td>\n",
       "      <td>2019-09-11</td>\n",
       "      <td>1.427474</td>\n",
       "      <td>1.068714</td>\n",
       "      <td>0</td>\n",
       "      <td>9</td>\n",
       "      <td>9</td>\n",
       "      <td>9</td>\n",
       "      <td>3</td>\n",
       "      <td>3</td>\n",
       "      <td>3</td>\n",
       "    </tr>\n",
       "    <tr>\n",
       "      <th>1</th>\n",
       "      <td>1</td>\n",
       "      <td>0.043478</td>\n",
       "      <td>C&amp;S WH corporation</td>\n",
       "      <td>2019-09-10</td>\n",
       "      <td>2019</td>\n",
       "      <td>2019-08-25</td>\n",
       "      <td>2019-08-24</td>\n",
       "      <td>2019-08-25</td>\n",
       "      <td>2019-09-09</td>\n",
       "      <td>249.219562</td>\n",
       "      <td>2019-08-25</td>\n",
       "      <td>0.567073</td>\n",
       "      <td>1.068714</td>\n",
       "      <td>1</td>\n",
       "      <td>8</td>\n",
       "      <td>8</td>\n",
       "      <td>9</td>\n",
       "      <td>3</td>\n",
       "      <td>3</td>\n",
       "      <td>3</td>\n",
       "    </tr>\n",
       "    <tr>\n",
       "      <th>3</th>\n",
       "      <td>1</td>\n",
       "      <td>2.500000</td>\n",
       "      <td>CALD trust</td>\n",
       "      <td>2019-08-21</td>\n",
       "      <td>2019</td>\n",
       "      <td>2019-06-20</td>\n",
       "      <td>2019-06-20</td>\n",
       "      <td>2019-06-20</td>\n",
       "      <td>2019-08-19</td>\n",
       "      <td>37.187901</td>\n",
       "      <td>2019-06-20</td>\n",
       "      <td>0.360825</td>\n",
       "      <td>1.068714</td>\n",
       "      <td>2</td>\n",
       "      <td>6</td>\n",
       "      <td>6</td>\n",
       "      <td>8</td>\n",
       "      <td>2</td>\n",
       "      <td>2</td>\n",
       "      <td>3</td>\n",
       "    </tr>\n",
       "    <tr>\n",
       "      <th>4</th>\n",
       "      <td>1</td>\n",
       "      <td>0.678571</td>\n",
       "      <td>OK llc</td>\n",
       "      <td>2019-06-26</td>\n",
       "      <td>2019</td>\n",
       "      <td>2019-06-07</td>\n",
       "      <td>2019-06-07</td>\n",
       "      <td>2019-06-07</td>\n",
       "      <td>2019-06-22</td>\n",
       "      <td>292.245222</td>\n",
       "      <td>2019-06-07</td>\n",
       "      <td>1.427474</td>\n",
       "      <td>1.068714</td>\n",
       "      <td>4</td>\n",
       "      <td>6</td>\n",
       "      <td>6</td>\n",
       "      <td>6</td>\n",
       "      <td>2</td>\n",
       "      <td>2</td>\n",
       "      <td>2</td>\n",
       "    </tr>\n",
       "    <tr>\n",
       "      <th>5</th>\n",
       "      <td>1</td>\n",
       "      <td>-0.266667</td>\n",
       "      <td>COAS co</td>\n",
       "      <td>2019-06-27</td>\n",
       "      <td>2019</td>\n",
       "      <td>2019-06-12</td>\n",
       "      <td>2019-06-12</td>\n",
       "      <td>2019-06-12</td>\n",
       "      <td>2019-06-27</td>\n",
       "      <td>217.066050</td>\n",
       "      <td>2019-06-12</td>\n",
       "      <td>1.427474</td>\n",
       "      <td>1.068714</td>\n",
       "      <td>0</td>\n",
       "      <td>6</td>\n",
       "      <td>6</td>\n",
       "      <td>6</td>\n",
       "      <td>2</td>\n",
       "      <td>2</td>\n",
       "      <td>2</td>\n",
       "    </tr>\n",
       "    <tr>\n",
       "      <th>...</th>\n",
       "      <td>...</td>\n",
       "      <td>...</td>\n",
       "      <td>...</td>\n",
       "      <td>...</td>\n",
       "      <td>...</td>\n",
       "      <td>...</td>\n",
       "      <td>...</td>\n",
       "      <td>...</td>\n",
       "      <td>...</td>\n",
       "      <td>...</td>\n",
       "      <td>...</td>\n",
       "      <td>...</td>\n",
       "      <td>...</td>\n",
       "      <td>...</td>\n",
       "      <td>...</td>\n",
       "      <td>...</td>\n",
       "      <td>...</td>\n",
       "      <td>...</td>\n",
       "      <td>...</td>\n",
       "      <td>...</td>\n",
       "    </tr>\n",
       "    <tr>\n",
       "      <th>45458</th>\n",
       "      <td>1</td>\n",
       "      <td>-2.085551</td>\n",
       "      <td>WAL-MAR associates</td>\n",
       "      <td>2019-02-27</td>\n",
       "      <td>2019</td>\n",
       "      <td>2019-02-15</td>\n",
       "      <td>2019-02-14</td>\n",
       "      <td>2019-02-15</td>\n",
       "      <td>2019-03-02</td>\n",
       "      <td>102.155568</td>\n",
       "      <td>2019-02-15</td>\n",
       "      <td>-1.744087</td>\n",
       "      <td>1.068714</td>\n",
       "      <td>-3</td>\n",
       "      <td>2</td>\n",
       "      <td>2</td>\n",
       "      <td>3</td>\n",
       "      <td>1</td>\n",
       "      <td>1</td>\n",
       "      <td>1</td>\n",
       "    </tr>\n",
       "    <tr>\n",
       "      <th>45460</th>\n",
       "      <td>1</td>\n",
       "      <td>1.800000</td>\n",
       "      <td>MDV/ systems</td>\n",
       "      <td>2019-10-30</td>\n",
       "      <td>2019</td>\n",
       "      <td>2019-08-27</td>\n",
       "      <td>2019-08-21</td>\n",
       "      <td>2019-08-27</td>\n",
       "      <td>2019-10-31</td>\n",
       "      <td>109.311893</td>\n",
       "      <td>2019-08-27</td>\n",
       "      <td>-11.829932</td>\n",
       "      <td>1.068714</td>\n",
       "      <td>-1</td>\n",
       "      <td>8</td>\n",
       "      <td>8</td>\n",
       "      <td>10</td>\n",
       "      <td>3</td>\n",
       "      <td>3</td>\n",
       "      <td>4</td>\n",
       "    </tr>\n",
       "    <tr>\n",
       "      <th>45461</th>\n",
       "      <td>0</td>\n",
       "      <td>2.333333</td>\n",
       "      <td>SOCIETE  foundation</td>\n",
       "      <td>2019-05-09</td>\n",
       "      <td>2019</td>\n",
       "      <td>2019-04-24</td>\n",
       "      <td>2019-04-24</td>\n",
       "      <td>2019-04-24</td>\n",
       "      <td>2019-05-06</td>\n",
       "      <td>165.653403</td>\n",
       "      <td>2019-04-26</td>\n",
       "      <td>5.750495</td>\n",
       "      <td>1.068714</td>\n",
       "      <td>3</td>\n",
       "      <td>4</td>\n",
       "      <td>4</td>\n",
       "      <td>5</td>\n",
       "      <td>2</td>\n",
       "      <td>2</td>\n",
       "      <td>2</td>\n",
       "    </tr>\n",
       "    <tr>\n",
       "      <th>45462</th>\n",
       "      <td>1</td>\n",
       "      <td>1.000000</td>\n",
       "      <td>MCLANE trust</td>\n",
       "      <td>2019-02-13</td>\n",
       "      <td>2019</td>\n",
       "      <td>2019-01-24</td>\n",
       "      <td>2019-01-21</td>\n",
       "      <td>2019-01-24</td>\n",
       "      <td>2019-02-08</td>\n",
       "      <td>118.219922</td>\n",
       "      <td>2019-01-24</td>\n",
       "      <td>1.427474</td>\n",
       "      <td>1.068714</td>\n",
       "      <td>5</td>\n",
       "      <td>1</td>\n",
       "      <td>1</td>\n",
       "      <td>2</td>\n",
       "      <td>1</td>\n",
       "      <td>1</td>\n",
       "      <td>1</td>\n",
       "    </tr>\n",
       "    <tr>\n",
       "      <th>45463</th>\n",
       "      <td>1</td>\n",
       "      <td>-1.307692</td>\n",
       "      <td>QUI us</td>\n",
       "      <td>2019-07-18</td>\n",
       "      <td>2019</td>\n",
       "      <td>2019-06-29</td>\n",
       "      <td>2019-06-28</td>\n",
       "      <td>2019-06-29</td>\n",
       "      <td>2019-07-14</td>\n",
       "      <td>65.904476</td>\n",
       "      <td>2019-06-29</td>\n",
       "      <td>1.427474</td>\n",
       "      <td>1.068714</td>\n",
       "      <td>4</td>\n",
       "      <td>6</td>\n",
       "      <td>6</td>\n",
       "      <td>7</td>\n",
       "      <td>2</td>\n",
       "      <td>2</td>\n",
       "      <td>3</td>\n",
       "    </tr>\n",
       "  </tbody>\n",
       "</table>\n",
       "<p>35155 rows × 20 columns</p>\n",
       "</div>"
      ],
      "text/plain": [
       "       business_code  cust_number  ... posting_date_quarter due_in_date_quarter\n",
       "0                  1     1.529248  ...                    3                   3\n",
       "1                  1     0.043478  ...                    3                   3\n",
       "3                  1     2.500000  ...                    2                   3\n",
       "4                  1     0.678571  ...                    2                   2\n",
       "5                  1    -0.266667  ...                    2                   2\n",
       "...              ...          ...  ...                  ...                 ...\n",
       "45458              1    -2.085551  ...                    1                   1\n",
       "45460              1     1.800000  ...                    3                   4\n",
       "45461              0     2.333333  ...                    2                   2\n",
       "45462              1     1.000000  ...                    1                   1\n",
       "45463              1    -1.307692  ...                    2                   3\n",
       "\n",
       "[35155 rows x 20 columns]"
      ]
     },
     "execution_count": 135,
     "metadata": {
      "tags": []
     },
     "output_type": "execute_result"
    }
   ],
   "source": [
    "train_set"
   ]
  },
  {
   "cell_type": "code",
   "execution_count": 136,
   "metadata": {
    "colab": {
     "base_uri": "https://localhost:8080/"
    },
    "id": "YoFTbPz8om9K",
    "outputId": "e62b1b45-2478-42c9-b9b8-21a462bbd728"
   },
   "outputs": [
    {
     "data": {
      "text/plain": [
       "(0.9258164108480237, 0.00167020539533272, 0.0035734778698867558)"
      ]
     },
     "execution_count": 136,
     "metadata": {
      "tags": []
     },
     "output_type": "execute_result"
    }
   ],
   "source": [
    "c1=train_set['posting_date_quarter'].corr(train_set['due_in_date_quarter'])\n",
    "c2=train_set['posting_date_quarter'].corr(train_set['target_delay'])\n",
    "c3=train_set['due_in_date_quarter'].corr(train_set['target_delay'])\n",
    "c1,c2,c3"
   ]
  },
  {
   "cell_type": "code",
   "execution_count": null,
   "metadata": {
    "id": "YRocj8Hnt2_5"
   },
   "outputs": [],
   "source": []
  },
  {
   "cell_type": "code",
   "execution_count": null,
   "metadata": {
    "id": "rb5xZV_sLS9q"
   },
   "outputs": [],
   "source": [
    "##featues of posting date doesnot seem useful\n",
    "train_set.drop(['posting_date'],axis=1,inplace=True)"
   ]
  },
  {
   "cell_type": "code",
   "execution_count": 137,
   "metadata": {
    "colab": {
     "base_uri": "https://localhost:8080/"
    },
    "id": "lhv2txzQL4g8",
    "outputId": "f3cf1fb8-bc80-4780-f172-14013ef271a3"
   },
   "outputs": [
    {
     "data": {
      "text/plain": [
       "(35155, 20)"
      ]
     },
     "execution_count": 137,
     "metadata": {
      "tags": []
     },
     "output_type": "execute_result"
    }
   ],
   "source": [
    "train_set.shape"
   ]
  },
  {
   "cell_type": "code",
   "execution_count": null,
   "metadata": {
    "id": "0A2pA4jBBJIx"
   },
   "outputs": [],
   "source": [
    "###########Feature Selection##########"
   ]
  },
  {
   "cell_type": "code",
   "execution_count": 138,
   "metadata": {
    "id": "RajiIsF2Mg3s"
   },
   "outputs": [],
   "source": [
    "x_train=train_set.copy()\n",
    "x_train=x_train.drop(['target_delay'],axis=1)"
   ]
  },
  {
   "cell_type": "markdown",
   "metadata": {
    "id": "qigPGuUILVDC"
   },
   "source": []
  },
  {
   "cell_type": "code",
   "execution_count": 140,
   "metadata": {
    "id": "mN8cUMW1P40P"
   },
   "outputs": [],
   "source": [
    "def handling_correlation(df,threshold=0.8):   #correlation less than threshold\n",
    "    # creating set to hold the correlated features\n",
    "    corr_features = set()\n",
    "    # create the correlation matrix (default to pearson)\n",
    "    corr_matrix = df.corr()\n",
    "    #code for selecting all correleated features\n",
    "    for i in range(len(corr_matrix .columns)):\n",
    "        for j in range(i):\n",
    "            if abs(corr_matrix.iloc[i, j]) >threshold:\n",
    "                colname = corr_matrix.columns[i]\n",
    "                corr_features.add(colname)\n",
    "    return list(corr_features)"
   ]
  },
  {
   "cell_type": "code",
   "execution_count": 141,
   "metadata": {
    "colab": {
     "base_uri": "https://localhost:8080/"
    },
    "id": "C3VrIP41QDkJ",
    "outputId": "61e2b4de-ba2a-4604-ec2b-435bfd105874"
   },
   "outputs": [
    {
     "data": {
      "text/plain": [
       "['create_date.1_month',\n",
       " 'due_in_date_quarter',\n",
       " 'posting_date_quarter',\n",
       " 'create_date.1_quarter',\n",
       " 'due_in_date_month']"
      ]
     },
     "execution_count": 141,
     "metadata": {
      "tags": []
     },
     "output_type": "execute_result"
    }
   ],
   "source": [
    "handling_correlation(train_set.copy(),0.80)"
   ]
  },
  {
   "cell_type": "code",
   "execution_count": 142,
   "metadata": {
    "id": "HKrbhHXaQQbO"
   },
   "outputs": [],
   "source": [
    "x_train_new=x_train.drop(['due_in_date_quarter','create_date.1_quarter'],axis=1)\n",
    "train_set=train_set.drop(['due_in_date_quarter','create_date.1_quarter'],axis=1)"
   ]
  },
  {
   "cell_type": "code",
   "execution_count": 143,
   "metadata": {
    "colab": {
     "base_uri": "https://localhost:8080/"
    },
    "id": "2fFbJjQoRGAm",
    "outputId": "6744cada-4271-47f1-f84d-5997c16616eb"
   },
   "outputs": [
    {
     "data": {
      "text/plain": [
       "['create_date.1_month', 'due_in_date_month', 'posting_date_quarter']"
      ]
     },
     "execution_count": 143,
     "metadata": {
      "tags": []
     },
     "output_type": "execute_result"
    }
   ],
   "source": [
    "handling_correlation(x_train_new.copy(),0.80)"
   ]
  },
  {
   "cell_type": "code",
   "execution_count": 144,
   "metadata": {
    "id": "PMXByktksxcg"
   },
   "outputs": [],
   "source": [
    "x_train_new=x_train_new.drop(['posting_date_quarter'],axis=1)\n",
    "train_set=train_set.drop(['posting_date_quarter'],axis=1)"
   ]
  },
  {
   "cell_type": "code",
   "execution_count": 145,
   "metadata": {
    "colab": {
     "base_uri": "https://localhost:8080/"
    },
    "id": "rOChOHPwRPmM",
    "outputId": "5c79a07c-3e25-4adf-da21-d8e8f266d4ea"
   },
   "outputs": [
    {
     "data": {
      "text/plain": [
       "0        0\n",
       "1        1\n",
       "3        2\n",
       "4        4\n",
       "5        0\n",
       "        ..\n",
       "45458   -3\n",
       "45460   -1\n",
       "45461    3\n",
       "45462    5\n",
       "45463    4\n",
       "Name: target_delay, Length: 35155, dtype: int64"
      ]
     },
     "execution_count": 145,
     "metadata": {
      "tags": []
     },
     "output_type": "execute_result"
    }
   ],
   "source": [
    "y=train_set['target_delay']\n",
    "y"
   ]
  },
  {
   "cell_type": "code",
   "execution_count": 146,
   "metadata": {
    "colab": {
     "base_uri": "https://localhost:8080/",
     "height": 505
    },
    "id": "ofQS1OMxm86L",
    "outputId": "4a5020df-e283-495b-c678-f4507e5bad24"
   },
   "outputs": [
    {
     "data": {
      "text/html": [
       "<div>\n",
       "<style scoped>\n",
       "    .dataframe tbody tr th:only-of-type {\n",
       "        vertical-align: middle;\n",
       "    }\n",
       "\n",
       "    .dataframe tbody tr th {\n",
       "        vertical-align: top;\n",
       "    }\n",
       "\n",
       "    .dataframe thead th {\n",
       "        text-align: right;\n",
       "    }\n",
       "</style>\n",
       "<table border=\"1\" class=\"dataframe\">\n",
       "  <thead>\n",
       "    <tr style=\"text-align: right;\">\n",
       "      <th></th>\n",
       "      <th>business_code</th>\n",
       "      <th>cust_number</th>\n",
       "      <th>name_customer</th>\n",
       "      <th>buisness_year</th>\n",
       "      <th>posting_date</th>\n",
       "      <th>total_open_amount</th>\n",
       "      <th>cust_payment_terms</th>\n",
       "      <th>isOpen</th>\n",
       "      <th>create_date_month</th>\n",
       "      <th>create_date.1_month</th>\n",
       "      <th>due_in_date_month</th>\n",
       "    </tr>\n",
       "  </thead>\n",
       "  <tbody>\n",
       "    <tr>\n",
       "      <th>0</th>\n",
       "      <td>1</td>\n",
       "      <td>1.529248</td>\n",
       "      <td>MEIJ corporation</td>\n",
       "      <td>2019</td>\n",
       "      <td>2019-09-11</td>\n",
       "      <td>227.694444</td>\n",
       "      <td>1.427474</td>\n",
       "      <td>1.068714</td>\n",
       "      <td>9</td>\n",
       "      <td>9</td>\n",
       "      <td>9</td>\n",
       "    </tr>\n",
       "    <tr>\n",
       "      <th>1</th>\n",
       "      <td>1</td>\n",
       "      <td>0.043478</td>\n",
       "      <td>C&amp;S WH corporation</td>\n",
       "      <td>2019</td>\n",
       "      <td>2019-08-25</td>\n",
       "      <td>249.219562</td>\n",
       "      <td>0.567073</td>\n",
       "      <td>1.068714</td>\n",
       "      <td>8</td>\n",
       "      <td>8</td>\n",
       "      <td>9</td>\n",
       "    </tr>\n",
       "    <tr>\n",
       "      <th>3</th>\n",
       "      <td>1</td>\n",
       "      <td>2.500000</td>\n",
       "      <td>CALD trust</td>\n",
       "      <td>2019</td>\n",
       "      <td>2019-06-20</td>\n",
       "      <td>37.187901</td>\n",
       "      <td>0.360825</td>\n",
       "      <td>1.068714</td>\n",
       "      <td>6</td>\n",
       "      <td>6</td>\n",
       "      <td>8</td>\n",
       "    </tr>\n",
       "    <tr>\n",
       "      <th>4</th>\n",
       "      <td>1</td>\n",
       "      <td>0.678571</td>\n",
       "      <td>OK llc</td>\n",
       "      <td>2019</td>\n",
       "      <td>2019-06-07</td>\n",
       "      <td>292.245222</td>\n",
       "      <td>1.427474</td>\n",
       "      <td>1.068714</td>\n",
       "      <td>6</td>\n",
       "      <td>6</td>\n",
       "      <td>6</td>\n",
       "    </tr>\n",
       "    <tr>\n",
       "      <th>5</th>\n",
       "      <td>1</td>\n",
       "      <td>-0.266667</td>\n",
       "      <td>COAS co</td>\n",
       "      <td>2019</td>\n",
       "      <td>2019-06-12</td>\n",
       "      <td>217.066050</td>\n",
       "      <td>1.427474</td>\n",
       "      <td>1.068714</td>\n",
       "      <td>6</td>\n",
       "      <td>6</td>\n",
       "      <td>6</td>\n",
       "    </tr>\n",
       "    <tr>\n",
       "      <th>...</th>\n",
       "      <td>...</td>\n",
       "      <td>...</td>\n",
       "      <td>...</td>\n",
       "      <td>...</td>\n",
       "      <td>...</td>\n",
       "      <td>...</td>\n",
       "      <td>...</td>\n",
       "      <td>...</td>\n",
       "      <td>...</td>\n",
       "      <td>...</td>\n",
       "      <td>...</td>\n",
       "    </tr>\n",
       "    <tr>\n",
       "      <th>45458</th>\n",
       "      <td>1</td>\n",
       "      <td>-2.085551</td>\n",
       "      <td>WAL-MAR associates</td>\n",
       "      <td>2019</td>\n",
       "      <td>2019-02-15</td>\n",
       "      <td>102.155568</td>\n",
       "      <td>-1.744087</td>\n",
       "      <td>1.068714</td>\n",
       "      <td>2</td>\n",
       "      <td>2</td>\n",
       "      <td>3</td>\n",
       "    </tr>\n",
       "    <tr>\n",
       "      <th>45460</th>\n",
       "      <td>1</td>\n",
       "      <td>1.800000</td>\n",
       "      <td>MDV/ systems</td>\n",
       "      <td>2019</td>\n",
       "      <td>2019-08-27</td>\n",
       "      <td>109.311893</td>\n",
       "      <td>-11.829932</td>\n",
       "      <td>1.068714</td>\n",
       "      <td>8</td>\n",
       "      <td>8</td>\n",
       "      <td>10</td>\n",
       "    </tr>\n",
       "    <tr>\n",
       "      <th>45461</th>\n",
       "      <td>0</td>\n",
       "      <td>2.333333</td>\n",
       "      <td>SOCIETE  foundation</td>\n",
       "      <td>2019</td>\n",
       "      <td>2019-04-24</td>\n",
       "      <td>165.653403</td>\n",
       "      <td>5.750495</td>\n",
       "      <td>1.068714</td>\n",
       "      <td>4</td>\n",
       "      <td>4</td>\n",
       "      <td>5</td>\n",
       "    </tr>\n",
       "    <tr>\n",
       "      <th>45462</th>\n",
       "      <td>1</td>\n",
       "      <td>1.000000</td>\n",
       "      <td>MCLANE trust</td>\n",
       "      <td>2019</td>\n",
       "      <td>2019-01-24</td>\n",
       "      <td>118.219922</td>\n",
       "      <td>1.427474</td>\n",
       "      <td>1.068714</td>\n",
       "      <td>1</td>\n",
       "      <td>1</td>\n",
       "      <td>2</td>\n",
       "    </tr>\n",
       "    <tr>\n",
       "      <th>45463</th>\n",
       "      <td>1</td>\n",
       "      <td>-1.307692</td>\n",
       "      <td>QUI us</td>\n",
       "      <td>2019</td>\n",
       "      <td>2019-06-29</td>\n",
       "      <td>65.904476</td>\n",
       "      <td>1.427474</td>\n",
       "      <td>1.068714</td>\n",
       "      <td>6</td>\n",
       "      <td>6</td>\n",
       "      <td>7</td>\n",
       "    </tr>\n",
       "  </tbody>\n",
       "</table>\n",
       "<p>35155 rows × 11 columns</p>\n",
       "</div>"
      ],
      "text/plain": [
       "       business_code  cust_number  ... create_date.1_month due_in_date_month\n",
       "0                  1     1.529248  ...                   9                 9\n",
       "1                  1     0.043478  ...                   8                 9\n",
       "3                  1     2.500000  ...                   6                 8\n",
       "4                  1     0.678571  ...                   6                 6\n",
       "5                  1    -0.266667  ...                   6                 6\n",
       "...              ...          ...  ...                 ...               ...\n",
       "45458              1    -2.085551  ...                   2                 3\n",
       "45460              1     1.800000  ...                   8                10\n",
       "45461              0     2.333333  ...                   4                 5\n",
       "45462              1     1.000000  ...                   1                 2\n",
       "45463              1    -1.307692  ...                   6                 7\n",
       "\n",
       "[35155 rows x 11 columns]"
      ]
     },
     "execution_count": 146,
     "metadata": {
      "tags": []
     },
     "output_type": "execute_result"
    }
   ],
   "source": [
    "x_train_new=x_train_new.drop(['clear_date','due_in_date','document_create_date.1','document_create_date','baseline_create_date'],axis=1)\n",
    "x_train_new"
   ]
  },
  {
   "cell_type": "code",
   "execution_count": 147,
   "metadata": {
    "colab": {
     "base_uri": "https://localhost:8080/",
     "height": 505
    },
    "id": "bTzuI9tjn7uG",
    "outputId": "d3cc9667-56b8-4430-a8c1-9d4aabfa4858"
   },
   "outputs": [
    {
     "data": {
      "text/html": [
       "<div>\n",
       "<style scoped>\n",
       "    .dataframe tbody tr th:only-of-type {\n",
       "        vertical-align: middle;\n",
       "    }\n",
       "\n",
       "    .dataframe tbody tr th {\n",
       "        vertical-align: top;\n",
       "    }\n",
       "\n",
       "    .dataframe thead th {\n",
       "        text-align: right;\n",
       "    }\n",
       "</style>\n",
       "<table border=\"1\" class=\"dataframe\">\n",
       "  <thead>\n",
       "    <tr style=\"text-align: right;\">\n",
       "      <th></th>\n",
       "      <th>business_code</th>\n",
       "      <th>cust_number</th>\n",
       "      <th>name_customer</th>\n",
       "      <th>buisness_year</th>\n",
       "      <th>posting_date</th>\n",
       "      <th>total_open_amount</th>\n",
       "      <th>cust_payment_terms</th>\n",
       "      <th>isOpen</th>\n",
       "      <th>create_date_month</th>\n",
       "      <th>create_date.1_month</th>\n",
       "      <th>due_in_date_month</th>\n",
       "    </tr>\n",
       "  </thead>\n",
       "  <tbody>\n",
       "    <tr>\n",
       "      <th>0</th>\n",
       "      <td>1</td>\n",
       "      <td>1.529248</td>\n",
       "      <td>MEIJ corporation</td>\n",
       "      <td>2019</td>\n",
       "      <td>2019-09-11</td>\n",
       "      <td>227.694444</td>\n",
       "      <td>1.427474</td>\n",
       "      <td>1.068714</td>\n",
       "      <td>9</td>\n",
       "      <td>9</td>\n",
       "      <td>9</td>\n",
       "    </tr>\n",
       "    <tr>\n",
       "      <th>1</th>\n",
       "      <td>1</td>\n",
       "      <td>0.043478</td>\n",
       "      <td>C&amp;S WH corporation</td>\n",
       "      <td>2019</td>\n",
       "      <td>2019-08-25</td>\n",
       "      <td>249.219562</td>\n",
       "      <td>0.567073</td>\n",
       "      <td>1.068714</td>\n",
       "      <td>8</td>\n",
       "      <td>8</td>\n",
       "      <td>9</td>\n",
       "    </tr>\n",
       "    <tr>\n",
       "      <th>3</th>\n",
       "      <td>1</td>\n",
       "      <td>2.500000</td>\n",
       "      <td>CALD trust</td>\n",
       "      <td>2019</td>\n",
       "      <td>2019-06-20</td>\n",
       "      <td>37.187901</td>\n",
       "      <td>0.360825</td>\n",
       "      <td>1.068714</td>\n",
       "      <td>6</td>\n",
       "      <td>6</td>\n",
       "      <td>8</td>\n",
       "    </tr>\n",
       "    <tr>\n",
       "      <th>4</th>\n",
       "      <td>1</td>\n",
       "      <td>0.678571</td>\n",
       "      <td>OK llc</td>\n",
       "      <td>2019</td>\n",
       "      <td>2019-06-07</td>\n",
       "      <td>292.245222</td>\n",
       "      <td>1.427474</td>\n",
       "      <td>1.068714</td>\n",
       "      <td>6</td>\n",
       "      <td>6</td>\n",
       "      <td>6</td>\n",
       "    </tr>\n",
       "    <tr>\n",
       "      <th>5</th>\n",
       "      <td>1</td>\n",
       "      <td>-0.266667</td>\n",
       "      <td>COAS co</td>\n",
       "      <td>2019</td>\n",
       "      <td>2019-06-12</td>\n",
       "      <td>217.066050</td>\n",
       "      <td>1.427474</td>\n",
       "      <td>1.068714</td>\n",
       "      <td>6</td>\n",
       "      <td>6</td>\n",
       "      <td>6</td>\n",
       "    </tr>\n",
       "    <tr>\n",
       "      <th>...</th>\n",
       "      <td>...</td>\n",
       "      <td>...</td>\n",
       "      <td>...</td>\n",
       "      <td>...</td>\n",
       "      <td>...</td>\n",
       "      <td>...</td>\n",
       "      <td>...</td>\n",
       "      <td>...</td>\n",
       "      <td>...</td>\n",
       "      <td>...</td>\n",
       "      <td>...</td>\n",
       "    </tr>\n",
       "    <tr>\n",
       "      <th>45458</th>\n",
       "      <td>1</td>\n",
       "      <td>-2.085551</td>\n",
       "      <td>WAL-MAR associates</td>\n",
       "      <td>2019</td>\n",
       "      <td>2019-02-15</td>\n",
       "      <td>102.155568</td>\n",
       "      <td>-1.744087</td>\n",
       "      <td>1.068714</td>\n",
       "      <td>2</td>\n",
       "      <td>2</td>\n",
       "      <td>3</td>\n",
       "    </tr>\n",
       "    <tr>\n",
       "      <th>45460</th>\n",
       "      <td>1</td>\n",
       "      <td>1.800000</td>\n",
       "      <td>MDV/ systems</td>\n",
       "      <td>2019</td>\n",
       "      <td>2019-08-27</td>\n",
       "      <td>109.311893</td>\n",
       "      <td>-11.829932</td>\n",
       "      <td>1.068714</td>\n",
       "      <td>8</td>\n",
       "      <td>8</td>\n",
       "      <td>10</td>\n",
       "    </tr>\n",
       "    <tr>\n",
       "      <th>45461</th>\n",
       "      <td>0</td>\n",
       "      <td>2.333333</td>\n",
       "      <td>SOCIETE  foundation</td>\n",
       "      <td>2019</td>\n",
       "      <td>2019-04-24</td>\n",
       "      <td>165.653403</td>\n",
       "      <td>5.750495</td>\n",
       "      <td>1.068714</td>\n",
       "      <td>4</td>\n",
       "      <td>4</td>\n",
       "      <td>5</td>\n",
       "    </tr>\n",
       "    <tr>\n",
       "      <th>45462</th>\n",
       "      <td>1</td>\n",
       "      <td>1.000000</td>\n",
       "      <td>MCLANE trust</td>\n",
       "      <td>2019</td>\n",
       "      <td>2019-01-24</td>\n",
       "      <td>118.219922</td>\n",
       "      <td>1.427474</td>\n",
       "      <td>1.068714</td>\n",
       "      <td>1</td>\n",
       "      <td>1</td>\n",
       "      <td>2</td>\n",
       "    </tr>\n",
       "    <tr>\n",
       "      <th>45463</th>\n",
       "      <td>1</td>\n",
       "      <td>-1.307692</td>\n",
       "      <td>QUI us</td>\n",
       "      <td>2019</td>\n",
       "      <td>2019-06-29</td>\n",
       "      <td>65.904476</td>\n",
       "      <td>1.427474</td>\n",
       "      <td>1.068714</td>\n",
       "      <td>6</td>\n",
       "      <td>6</td>\n",
       "      <td>7</td>\n",
       "    </tr>\n",
       "  </tbody>\n",
       "</table>\n",
       "<p>35155 rows × 11 columns</p>\n",
       "</div>"
      ],
      "text/plain": [
       "       business_code  cust_number  ... create_date.1_month due_in_date_month\n",
       "0                  1     1.529248  ...                   9                 9\n",
       "1                  1     0.043478  ...                   8                 9\n",
       "3                  1     2.500000  ...                   6                 8\n",
       "4                  1     0.678571  ...                   6                 6\n",
       "5                  1    -0.266667  ...                   6                 6\n",
       "...              ...          ...  ...                 ...               ...\n",
       "45458              1    -2.085551  ...                   2                 3\n",
       "45460              1     1.800000  ...                   8                10\n",
       "45461              0     2.333333  ...                   4                 5\n",
       "45462              1     1.000000  ...                   1                 2\n",
       "45463              1    -1.307692  ...                   6                 7\n",
       "\n",
       "[35155 rows x 11 columns]"
      ]
     },
     "execution_count": 147,
     "metadata": {
      "tags": []
     },
     "output_type": "execute_result"
    }
   ],
   "source": [
    "x_train_new"
   ]
  },
  {
   "cell_type": "code",
   "execution_count": 150,
   "metadata": {
    "id": "9YYLi4JAjXTI"
   },
   "outputs": [],
   "source": [
    "###############checking feature importance\n",
    "def tree_based_feature_importance(x_train,y):\n",
    "    from sklearn.ensemble import RandomForestRegressor\n",
    "    # create the random forest model\n",
    "    model = RandomForestRegressor(n_estimators=120)\n",
    "\n",
    "    # fit the model to start training.\n",
    "    model.fit(x_train, y)\n",
    "\n",
    "    # get the importance of the resulting features.\n",
    "    importances = model.feature_importances_\n",
    "\n",
    "    # create a data frame for visualization.\n",
    "    final_df = pd.DataFrame({\"Features\": x_train.columns, \"Importances\":importances})\n",
    "    final_df.set_index('Importances')\n",
    "\n",
    "    # sort in descending order \n",
    "    final_df = final_df.sort_values('Importances',ascending=False)\n",
    "    \n",
    "    #visualising feature importance\n",
    "    pd.Series(model.feature_importances_, index=x_train.columns).nlargest(6).plot(kind='barh')  \n",
    "    return final_df"
   ]
  },
  {
   "cell_type": "code",
   "execution_count": null,
   "metadata": {
    "id": "XjOioRvSkWgR"
   },
   "outputs": [],
   "source": [
    "feature_importance=tree_based_feature_importance(x_train_new,y)#features importance data frame"
   ]
  },
  {
   "cell_type": "code",
   "execution_count": null,
   "metadata": {
    "id": "TK_E6Epmucd4"
   },
   "outputs": [],
   "source": [
    "display(feature_importance)"
   ]
  },
  {
   "cell_type": "code",
   "execution_count": 153,
   "metadata": {
    "id": "Oa4KbCCa1-YT"
   },
   "outputs": [],
   "source": [
    "x_train_new=x_train_new.drop(['isOpen','business_code','create_date_month','create_date.1_month'],axis=1)\n",
    "train_set=train_set.drop(['isOpen','business_code','create_date_month','create_date.1_month'],axis=1)\n"
   ]
  },
  {
   "cell_type": "code",
   "execution_count": 154,
   "metadata": {
    "colab": {
     "base_uri": "https://localhost:8080/",
     "height": 505
    },
    "id": "lz273mrR2q7L",
    "outputId": "ae1d54f3-fec4-4370-b95f-3fd4a3c2da76"
   },
   "outputs": [
    {
     "data": {
      "text/html": [
       "<div>\n",
       "<style scoped>\n",
       "    .dataframe tbody tr th:only-of-type {\n",
       "        vertical-align: middle;\n",
       "    }\n",
       "\n",
       "    .dataframe tbody tr th {\n",
       "        vertical-align: top;\n",
       "    }\n",
       "\n",
       "    .dataframe thead th {\n",
       "        text-align: right;\n",
       "    }\n",
       "</style>\n",
       "<table border=\"1\" class=\"dataframe\">\n",
       "  <thead>\n",
       "    <tr style=\"text-align: right;\">\n",
       "      <th></th>\n",
       "      <th>cust_number</th>\n",
       "      <th>name_customer</th>\n",
       "      <th>clear_date</th>\n",
       "      <th>buisness_year</th>\n",
       "      <th>posting_date</th>\n",
       "      <th>document_create_date</th>\n",
       "      <th>document_create_date.1</th>\n",
       "      <th>due_in_date</th>\n",
       "      <th>total_open_amount</th>\n",
       "      <th>baseline_create_date</th>\n",
       "      <th>cust_payment_terms</th>\n",
       "      <th>target_delay</th>\n",
       "      <th>due_in_date_month</th>\n",
       "    </tr>\n",
       "  </thead>\n",
       "  <tbody>\n",
       "    <tr>\n",
       "      <th>0</th>\n",
       "      <td>1.529248</td>\n",
       "      <td>MEIJ corporation</td>\n",
       "      <td>2019-09-26</td>\n",
       "      <td>2019</td>\n",
       "      <td>2019-09-11</td>\n",
       "      <td>2019-09-10</td>\n",
       "      <td>2019-09-11</td>\n",
       "      <td>2019-09-26</td>\n",
       "      <td>227.694444</td>\n",
       "      <td>2019-09-11</td>\n",
       "      <td>1.427474</td>\n",
       "      <td>0</td>\n",
       "      <td>9</td>\n",
       "    </tr>\n",
       "    <tr>\n",
       "      <th>1</th>\n",
       "      <td>0.043478</td>\n",
       "      <td>C&amp;S WH corporation</td>\n",
       "      <td>2019-09-10</td>\n",
       "      <td>2019</td>\n",
       "      <td>2019-08-25</td>\n",
       "      <td>2019-08-24</td>\n",
       "      <td>2019-08-25</td>\n",
       "      <td>2019-09-09</td>\n",
       "      <td>249.219562</td>\n",
       "      <td>2019-08-25</td>\n",
       "      <td>0.567073</td>\n",
       "      <td>1</td>\n",
       "      <td>9</td>\n",
       "    </tr>\n",
       "    <tr>\n",
       "      <th>3</th>\n",
       "      <td>2.500000</td>\n",
       "      <td>CALD trust</td>\n",
       "      <td>2019-08-21</td>\n",
       "      <td>2019</td>\n",
       "      <td>2019-06-20</td>\n",
       "      <td>2019-06-20</td>\n",
       "      <td>2019-06-20</td>\n",
       "      <td>2019-08-19</td>\n",
       "      <td>37.187901</td>\n",
       "      <td>2019-06-20</td>\n",
       "      <td>0.360825</td>\n",
       "      <td>2</td>\n",
       "      <td>8</td>\n",
       "    </tr>\n",
       "    <tr>\n",
       "      <th>4</th>\n",
       "      <td>0.678571</td>\n",
       "      <td>OK llc</td>\n",
       "      <td>2019-06-26</td>\n",
       "      <td>2019</td>\n",
       "      <td>2019-06-07</td>\n",
       "      <td>2019-06-07</td>\n",
       "      <td>2019-06-07</td>\n",
       "      <td>2019-06-22</td>\n",
       "      <td>292.245222</td>\n",
       "      <td>2019-06-07</td>\n",
       "      <td>1.427474</td>\n",
       "      <td>4</td>\n",
       "      <td>6</td>\n",
       "    </tr>\n",
       "    <tr>\n",
       "      <th>5</th>\n",
       "      <td>-0.266667</td>\n",
       "      <td>COAS co</td>\n",
       "      <td>2019-06-27</td>\n",
       "      <td>2019</td>\n",
       "      <td>2019-06-12</td>\n",
       "      <td>2019-06-12</td>\n",
       "      <td>2019-06-12</td>\n",
       "      <td>2019-06-27</td>\n",
       "      <td>217.066050</td>\n",
       "      <td>2019-06-12</td>\n",
       "      <td>1.427474</td>\n",
       "      <td>0</td>\n",
       "      <td>6</td>\n",
       "    </tr>\n",
       "    <tr>\n",
       "      <th>...</th>\n",
       "      <td>...</td>\n",
       "      <td>...</td>\n",
       "      <td>...</td>\n",
       "      <td>...</td>\n",
       "      <td>...</td>\n",
       "      <td>...</td>\n",
       "      <td>...</td>\n",
       "      <td>...</td>\n",
       "      <td>...</td>\n",
       "      <td>...</td>\n",
       "      <td>...</td>\n",
       "      <td>...</td>\n",
       "      <td>...</td>\n",
       "    </tr>\n",
       "    <tr>\n",
       "      <th>45458</th>\n",
       "      <td>-2.085551</td>\n",
       "      <td>WAL-MAR associates</td>\n",
       "      <td>2019-02-27</td>\n",
       "      <td>2019</td>\n",
       "      <td>2019-02-15</td>\n",
       "      <td>2019-02-14</td>\n",
       "      <td>2019-02-15</td>\n",
       "      <td>2019-03-02</td>\n",
       "      <td>102.155568</td>\n",
       "      <td>2019-02-15</td>\n",
       "      <td>-1.744087</td>\n",
       "      <td>-3</td>\n",
       "      <td>3</td>\n",
       "    </tr>\n",
       "    <tr>\n",
       "      <th>45460</th>\n",
       "      <td>1.800000</td>\n",
       "      <td>MDV/ systems</td>\n",
       "      <td>2019-10-30</td>\n",
       "      <td>2019</td>\n",
       "      <td>2019-08-27</td>\n",
       "      <td>2019-08-21</td>\n",
       "      <td>2019-08-27</td>\n",
       "      <td>2019-10-31</td>\n",
       "      <td>109.311893</td>\n",
       "      <td>2019-08-27</td>\n",
       "      <td>-11.829932</td>\n",
       "      <td>-1</td>\n",
       "      <td>10</td>\n",
       "    </tr>\n",
       "    <tr>\n",
       "      <th>45461</th>\n",
       "      <td>2.333333</td>\n",
       "      <td>SOCIETE  foundation</td>\n",
       "      <td>2019-05-09</td>\n",
       "      <td>2019</td>\n",
       "      <td>2019-04-24</td>\n",
       "      <td>2019-04-24</td>\n",
       "      <td>2019-04-24</td>\n",
       "      <td>2019-05-06</td>\n",
       "      <td>165.653403</td>\n",
       "      <td>2019-04-26</td>\n",
       "      <td>5.750495</td>\n",
       "      <td>3</td>\n",
       "      <td>5</td>\n",
       "    </tr>\n",
       "    <tr>\n",
       "      <th>45462</th>\n",
       "      <td>1.000000</td>\n",
       "      <td>MCLANE trust</td>\n",
       "      <td>2019-02-13</td>\n",
       "      <td>2019</td>\n",
       "      <td>2019-01-24</td>\n",
       "      <td>2019-01-21</td>\n",
       "      <td>2019-01-24</td>\n",
       "      <td>2019-02-08</td>\n",
       "      <td>118.219922</td>\n",
       "      <td>2019-01-24</td>\n",
       "      <td>1.427474</td>\n",
       "      <td>5</td>\n",
       "      <td>2</td>\n",
       "    </tr>\n",
       "    <tr>\n",
       "      <th>45463</th>\n",
       "      <td>-1.307692</td>\n",
       "      <td>QUI us</td>\n",
       "      <td>2019-07-18</td>\n",
       "      <td>2019</td>\n",
       "      <td>2019-06-29</td>\n",
       "      <td>2019-06-28</td>\n",
       "      <td>2019-06-29</td>\n",
       "      <td>2019-07-14</td>\n",
       "      <td>65.904476</td>\n",
       "      <td>2019-06-29</td>\n",
       "      <td>1.427474</td>\n",
       "      <td>4</td>\n",
       "      <td>7</td>\n",
       "    </tr>\n",
       "  </tbody>\n",
       "</table>\n",
       "<p>35155 rows × 13 columns</p>\n",
       "</div>"
      ],
      "text/plain": [
       "       cust_number        name_customer  ... target_delay due_in_date_month\n",
       "0         1.529248     MEIJ corporation  ...            0                 9\n",
       "1         0.043478   C&S WH corporation  ...            1                 9\n",
       "3         2.500000           CALD trust  ...            2                 8\n",
       "4         0.678571               OK llc  ...            4                 6\n",
       "5        -0.266667              COAS co  ...            0                 6\n",
       "...            ...                  ...  ...          ...               ...\n",
       "45458    -2.085551   WAL-MAR associates  ...           -3                 3\n",
       "45460     1.800000         MDV/ systems  ...           -1                10\n",
       "45461     2.333333  SOCIETE  foundation  ...            3                 5\n",
       "45462     1.000000         MCLANE trust  ...            5                 2\n",
       "45463    -1.307692               QUI us  ...            4                 7\n",
       "\n",
       "[35155 rows x 13 columns]"
      ]
     },
     "execution_count": 154,
     "metadata": {
      "tags": []
     },
     "output_type": "execute_result"
    }
   ],
   "source": [
    "train_set"
   ]
  },
  {
   "cell_type": "code",
   "execution_count": 158,
   "metadata": {
    "id": "_Irmsp8T2y-f"
   },
   "outputs": [],
   "source": [
    "x_train_new=x_train_new.drop(['name_customer','due_in_date_month'],axis=1)"
   ]
  },
  {
   "cell_type": "code",
   "execution_count": 159,
   "metadata": {
    "colab": {
     "base_uri": "https://localhost:8080/"
    },
    "id": "uzuWmBxc6RBd",
    "outputId": "5ae9c17e-4fde-4f2f-af36-b18475a69e31"
   },
   "outputs": [
    {
     "name": "stdout",
     "output_type": "stream",
     "text": [
      "<class 'pandas.core.frame.DataFrame'>\n",
      "Int64Index: 35155 entries, 0 to 45463\n",
      "Data columns (total 5 columns):\n",
      " #   Column              Non-Null Count  Dtype         \n",
      "---  ------              --------------  -----         \n",
      " 0   cust_number         35155 non-null  float64       \n",
      " 1   buisness_year       35155 non-null  object        \n",
      " 2   posting_date        35155 non-null  datetime64[ns]\n",
      " 3   total_open_amount   35155 non-null  float64       \n",
      " 4   cust_payment_terms  35155 non-null  float64       \n",
      "dtypes: datetime64[ns](1), float64(3), object(1)\n",
      "memory usage: 1.6+ MB\n"
     ]
    }
   ],
   "source": [
    "x_train_new.info()"
   ]
  },
  {
   "cell_type": "code",
   "execution_count": 160,
   "metadata": {
    "colab": {
     "base_uri": "https://localhost:8080/"
    },
    "id": "sofl_v3N6pui",
    "outputId": "4cd4f5ee-fd38-46c1-ff46-831449e9385c"
   },
   "outputs": [
    {
     "data": {
      "text/plain": [
       "0"
      ]
     },
     "execution_count": 160,
     "metadata": {
      "tags": []
     },
     "output_type": "execute_result"
    }
   ],
   "source": [
    "x_train_new['cust_number'].isnull().sum() "
   ]
  },
  {
   "cell_type": "code",
   "execution_count": 161,
   "metadata": {
    "id": "7xoygv_-2zeX"
   },
   "outputs": [],
   "source": [
    "#test_data['due_in_date_month']=test_data['due_in_date'].dt.month\n",
    "val1['due_in_date_month']=val1['due_in_date'].dt.month\n",
    "val2['due_in_date_month']=val2['due_in_date'].dt.month\n",
    "\n",
    "\n",
    "#test_data['create_date.1_month']=test_data['document_create_date.1'].dt.month\n",
    "#val1['create_date.1_month']=val1['document_create_date.1'].dt.month\n",
    "#val2['create_date.1_month']=val2['document_create_date.1'].dt.month\n"
   ]
  },
  {
   "cell_type": "code",
   "execution_count": null,
   "metadata": {
    "id": "DEkGCaK4NomH"
   },
   "outputs": [],
   "source": [
    "####Model"
   ]
  },
  {
   "cell_type": "code",
   "execution_count": 162,
   "metadata": {
    "id": "CSGIYR3cNrJN"
   },
   "outputs": [],
   "source": [
    "import warnings\n",
    "warnings.filterwarnings('ignore')\n",
    "# Modeling & Accuracy Metrics\n",
    "from sklearn.linear_model import LinearRegression\n",
    "from sklearn.svm import SVR\n",
    "from sklearn.tree import DecisionTreeRegressor\n",
    "from sklearn.ensemble import RandomForestRegressor\n",
    "import xgboost as xgb\n",
    "from sklearn.datasets import load_boston\n",
    "from sklearn.metrics import mean_squared_error\n",
    "from sklearn.metrics import r2_score\n"
   ]
  },
  {
   "cell_type": "code",
   "execution_count": 163,
   "metadata": {
    "id": "Duy3OohD1qVL"
   },
   "outputs": [],
   "source": [
    "Algorithm=[]"
   ]
  },
  {
   "cell_type": "code",
   "execution_count": 164,
   "metadata": {
    "id": "GI4hflsWN7_z"
   },
   "outputs": [],
   "source": [
    "# Fitting Simple Linear Regression to the Training Set\n",
    "#Algorithm.append('Linear Regression')\n",
    "#clf = LinearRegression()\n",
    "#clf.fit(x_train_new, y)"
   ]
  },
  {
   "cell_type": "code",
   "execution_count": 165,
   "metadata": {
    "id": "QNgFlex9mOr2"
   },
   "outputs": [],
   "source": [
    "#predicted = clf.predict(x_train_new)"
   ]
  },
  {
   "cell_type": "code",
   "execution_count": 166,
   "metadata": {
    "id": "xSjuyzbenCUR"
   },
   "outputs": [],
   "source": [
    "x_val1=val1.copy()\n",
    "x_val1=x_val1.drop(['target_delay'],axis=1)\n"
   ]
  },
  {
   "cell_type": "code",
   "execution_count": 167,
   "metadata": {
    "id": "mEPxPqaDt00g"
   },
   "outputs": [],
   "source": [
    "x_val1_new=x_val1.drop(['clear_date','due_in_date','document_create_date','document_create_date.1','posting_date','baseline_create_date','due_in_date_month','name_customer','isOpen','business_code','buisness_year','doc_id','invoice_currency'],axis=1)"
   ]
  },
  {
   "cell_type": "code",
   "execution_count": 168,
   "metadata": {
    "id": "CKpv81IfntG-"
   },
   "outputs": [],
   "source": [
    "y_val1=val1['target_delay']"
   ]
  },
  {
   "cell_type": "code",
   "execution_count": 169,
   "metadata": {
    "id": "OQa_ZPPXye4f"
   },
   "outputs": [],
   "source": [
    "from sklearn.preprocessing import MinMaxScaler\n",
    "#scaler = MinMaxScaler() # create an instance\n",
    "#x_train_new_scaled = scaler.fit_transform(x_train_new) #  fit  the scaler to the train set and then transform it\n",
    "#x_val1_new_scaled = scaler.transform(x_val1_new) "
   ]
  },
  {
   "cell_type": "code",
   "execution_count": 169,
   "metadata": {
    "id": "LjFE3MV06rxz"
   },
   "outputs": [],
   "source": []
  },
  {
   "cell_type": "code",
   "execution_count": 170,
   "metadata": {
    "id": "MARo5aVQ54fT"
   },
   "outputs": [],
   "source": [
    "from sklearn.preprocessing import StandardScaler\n",
    "#scaler = StandardScaler()\n",
    "#x_train_new_scaled = scaler.fit_transform(x_train_new_scaled) #  fit  the scaler to the train set and then transform it\n",
    "#x_val1_new_scaled = scaler.transform(x_val1_new_scaled) "
   ]
  },
  {
   "cell_type": "code",
   "execution_count": 171,
   "metadata": {
    "id": "YePkPqkh6S6T"
   },
   "outputs": [],
   "source": [
    "#Algorithm.append('Linear Regression')\n",
    "#clf = LinearRegression()\n",
    "#clf.fit(x_train_new_scaled, y)"
   ]
  },
  {
   "cell_type": "code",
   "execution_count": 172,
   "metadata": {
    "id": "0mpRn5vl6lZr"
   },
   "outputs": [],
   "source": [
    "#predicted = clf.predict(x_train_new_scaled)"
   ]
  },
  {
   "cell_type": "code",
   "execution_count": 173,
   "metadata": {
    "id": "QwqdGHff6udn"
   },
   "outputs": [],
   "source": [
    "#t1=mean_squared_error(y, predicted)\n",
    "#t2=r2_score(y, predicted)\n",
    "#t1,t2"
   ]
  },
  {
   "cell_type": "code",
   "execution_count": 174,
   "metadata": {
    "id": "YRxMdmtN60mt"
   },
   "outputs": [],
   "source": [
    "#predicte = clf.predict(x_val1_new_scaled)\n",
    "#t1=mean_squared_error(y_val1, predicte)\n",
    "#t2=r2_score(y_val1, predicte)\n",
    "#t1,t2"
   ]
  },
  {
   "cell_type": "code",
   "execution_count": 175,
   "metadata": {
    "id": "hCtDZdFc7VFV"
   },
   "outputs": [],
   "source": [
    "x_val2=val2.copy()\n",
    "x_val2=x_val2.drop(['target_delay'],axis=1)\n"
   ]
  },
  {
   "cell_type": "code",
   "execution_count": 176,
   "metadata": {
    "id": "rvrKbPWf7y3S"
   },
   "outputs": [],
   "source": [
    "x_val2_new=x_val2.drop(['clear_date','due_in_date','document_create_date','document_create_date.1','posting_date','baseline_create_date','isOpen','business_code','due_in_date_month','name_customer','buisness_year','doc_id','invoice_currency'],axis=1)"
   ]
  },
  {
   "cell_type": "code",
   "execution_count": 177,
   "metadata": {
    "id": "X_94GI8H8V1C"
   },
   "outputs": [],
   "source": [
    "y_val2=val2['target_delay']"
   ]
  },
  {
   "cell_type": "code",
   "execution_count": 178,
   "metadata": {
    "id": "lcuf0mCJ8aes"
   },
   "outputs": [],
   "source": [
    "#x_val2_new_scaled = scaler.transform(x_val2_new)"
   ]
  },
  {
   "cell_type": "code",
   "execution_count": 179,
   "metadata": {
    "id": "1iQulB988yDE"
   },
   "outputs": [],
   "source": [
    "#scaler = StandardScaler()\n",
    "#x_train_new_scaled = scaler.fit_transform(x_train_new_scaled) #  fit  the scaler to the train set and then transform it\n",
    "\n",
    "#x_val2_new_scaled = scaler.transform(x_val2_new_scaled) "
   ]
  },
  {
   "cell_type": "code",
   "execution_count": 180,
   "metadata": {
    "id": "Ee8OuEh29Bvx"
   },
   "outputs": [],
   "source": [
    "#Algorithm.append('Linear Regression')\n",
    "#clf = LinearRegression()\n",
    "#clf.fit(x_train_new_scaled, y)"
   ]
  },
  {
   "cell_type": "code",
   "execution_count": 181,
   "metadata": {
    "id": "IpBKhmqM9LlJ"
   },
   "outputs": [],
   "source": [
    "#predicted = clf.predict(x_train_new_scaled)"
   ]
  },
  {
   "cell_type": "code",
   "execution_count": 182,
   "metadata": {
    "id": "Hsh42BLQ9L5V"
   },
   "outputs": [],
   "source": [
    "#t1=mean_squared_error(y, predicted)\n",
    "#t2=r2_score(y, predicted)\n",
    "#t1,t2"
   ]
  },
  {
   "cell_type": "code",
   "execution_count": 183,
   "metadata": {
    "id": "y08iS9wl9Wja"
   },
   "outputs": [],
   "source": [
    "#predicte = clf.predict(x_val2_new_scaled)\n",
    "#t1=mean_squared_error(y_val2, predicte)\n",
    "#t2=r2_score(y_val2, predicte)\n",
    "#t1,t2"
   ]
  },
  {
   "cell_type": "code",
   "execution_count": null,
   "metadata": {
    "id": "K3cTMfBJ99Ss"
   },
   "outputs": [],
   "source": [
    "Algorithm.append('Decision Tree Regressor')\n",
    "clf = DecisionTreeRegressor()\n",
    "clf.fit(x_train_new, y)\n",
    "\n",
    "# Predicting the Test Set Results\n",
    "predicted = clf.predict(x_train_new)"
   ]
  },
  {
   "cell_type": "code",
   "execution_count": null,
   "metadata": {
    "id": "VZnNNmae-P5Z"
   },
   "outputs": [],
   "source": [
    "t1=mean_squared_error(y, predicted)\n",
    "t2=r2_score(y, predicted)\n",
    "t1,t2"
   ]
  },
  {
   "cell_type": "code",
   "execution_count": null,
   "metadata": {
    "colab": {
     "base_uri": "https://localhost:8080/"
    },
    "id": "XItomDDH-ZFQ",
    "outputId": "9599ff6c-9715-4730-f7f3-48d2f5789d07"
   },
   "outputs": [
    {
     "data": {
      "text/plain": [
       "(58.14280400252948, 0.09731226576428831)"
      ]
     },
     "execution_count": 1210,
     "metadata": {
      "tags": []
     },
     "output_type": "execute_result"
    }
   ],
   "source": [
    "predicted = clf.predict(x_val1_new)\n",
    "t1=mean_squared_error(y_val1, predicted)\n",
    "t2=r2_score(y_val1, predicted)\n",
    "t1,t2"
   ]
  },
  {
   "cell_type": "code",
   "execution_count": null,
   "metadata": {
    "colab": {
     "base_uri": "https://localhost:8080/"
    },
    "id": "KpIu6bObJj3z",
    "outputId": "b05cfa70-bb90-4074-c624-84d9bc98c6aa"
   },
   "outputs": [
    {
     "data": {
      "text/plain": [
       "(103.42409778376759, 0.031011126398206135)"
      ]
     },
     "execution_count": 1211,
     "metadata": {
      "tags": []
     },
     "output_type": "execute_result"
    }
   ],
   "source": [
    "predicted = clf.predict(x_val2_new)\n",
    "t1=mean_squared_error(y_val2, predicted)\n",
    "t2=r2_score(y_val2, predicted)\n",
    "t1,t2"
   ]
  },
  {
   "cell_type": "code",
   "execution_count": null,
   "metadata": {
    "id": "ySA1adiSJ4bb"
   },
   "outputs": [],
   "source": [
    "Algorithm.append('Random Forest Regressor')\n",
    "clf = RandomForestRegressor()\n",
    "clf.fit(x_train_new, y)\n",
    "\n",
    "# Predicting the Test Set Results\n",
    "predicted = clf.predict(x_train_new)"
   ]
  },
  {
   "cell_type": "code",
   "execution_count": null,
   "metadata": {
    "colab": {
     "base_uri": "https://localhost:8080/"
    },
    "id": "r8zsa0ABKJaU",
    "outputId": "6fd75f0f-4df2-45a2-e582-26d9f4e5062c"
   },
   "outputs": [
    {
     "data": {
      "text/plain": [
       "(1.1174388242773556, 0.8961516130262575)"
      ]
     },
     "execution_count": 1213,
     "metadata": {
      "tags": []
     },
     "output_type": "execute_result"
    }
   ],
   "source": [
    "t1=mean_squared_error(y, predicted)\n",
    "t2=r2_score(y, predicted)\n",
    "t1,t2"
   ]
  },
  {
   "cell_type": "code",
   "execution_count": null,
   "metadata": {
    "colab": {
     "base_uri": "https://localhost:8080/"
    },
    "id": "Cb_jA2kXKXCS",
    "outputId": "1c36e335-a1d3-497a-e774-fc44ad05afb3"
   },
   "outputs": [
    {
     "data": {
      "text/plain": [
       "(54.77265989597238, 0.14963495297874585)"
      ]
     },
     "execution_count": 1214,
     "metadata": {
      "tags": []
     },
     "output_type": "execute_result"
    }
   ],
   "source": [
    "predicted = clf.predict(x_val1_new)\n",
    "t1=mean_squared_error(y_val1, predicted)\n",
    "t2=r2_score(y_val1, predicted)\n",
    "t1,t2"
   ]
  },
  {
   "cell_type": "code",
   "execution_count": null,
   "metadata": {
    "colab": {
     "base_uri": "https://localhost:8080/"
    },
    "id": "gUy-x3rHKbit",
    "outputId": "86123b42-2f1b-4a31-84c0-8c35fd18e878"
   },
   "outputs": [
    {
     "data": {
      "text/plain": [
       "(100.23294564752705, 0.06090929307549864)"
      ]
     },
     "execution_count": 1215,
     "metadata": {
      "tags": []
     },
     "output_type": "execute_result"
    }
   ],
   "source": [
    "predicted = clf.predict(x_val2_new)\n",
    "t2=r2_score(y_val2, predicted)\n",
    "t1=mean_squared_error(y_val2, predicted)\n",
    "t1,t2"
   ]
  },
  {
   "cell_type": "code",
   "execution_count": null,
   "metadata": {
    "id": "2KQD1rT6ePtl"
   },
   "outputs": [],
   "source": [
    "x_test=test_data.copy()\n",
    "\n",
    "x_test=x_test.drop(['clear_date','due_in_date','document_create_date','name_customer','document_create_date.1','posting_date','baseline_create_date','isOpen','business_code','buisness_year','doc_id','invoice_currency'],axis=1)"
   ]
  },
  {
   "cell_type": "code",
   "execution_count": null,
   "metadata": {
    "colab": {
     "base_uri": "https://localhost:8080/",
     "height": 415
    },
    "id": "erxGElmef3Ye",
    "outputId": "20458aa0-5549-455a-d5f2-c2fa9d962d8e"
   },
   "outputs": [
    {
     "data": {
      "text/html": [
       "<div>\n",
       "<style scoped>\n",
       "    .dataframe tbody tr th:only-of-type {\n",
       "        vertical-align: middle;\n",
       "    }\n",
       "\n",
       "    .dataframe tbody tr th {\n",
       "        vertical-align: top;\n",
       "    }\n",
       "\n",
       "    .dataframe thead th {\n",
       "        text-align: right;\n",
       "    }\n",
       "</style>\n",
       "<table border=\"1\" class=\"dataframe\">\n",
       "  <thead>\n",
       "    <tr style=\"text-align: right;\">\n",
       "      <th></th>\n",
       "      <th>cust_number</th>\n",
       "      <th>total_open_amount</th>\n",
       "      <th>cust_payment_terms</th>\n",
       "    </tr>\n",
       "  </thead>\n",
       "  <tbody>\n",
       "    <tr>\n",
       "      <th>0</th>\n",
       "      <td>2.321580</td>\n",
       "      <td>37738.73</td>\n",
       "      <td>1.387441</td>\n",
       "    </tr>\n",
       "    <tr>\n",
       "      <th>1</th>\n",
       "      <td>2.321580</td>\n",
       "      <td>42001.99</td>\n",
       "      <td>1.387441</td>\n",
       "    </tr>\n",
       "    <tr>\n",
       "      <th>2</th>\n",
       "      <td>1.455285</td>\n",
       "      <td>137220.67</td>\n",
       "      <td>1.387441</td>\n",
       "    </tr>\n",
       "    <tr>\n",
       "      <th>3</th>\n",
       "      <td>-2.306052</td>\n",
       "      <td>45754.77</td>\n",
       "      <td>-1.904635</td>\n",
       "    </tr>\n",
       "    <tr>\n",
       "      <th>4</th>\n",
       "      <td>-2.306052</td>\n",
       "      <td>6223.23</td>\n",
       "      <td>-1.904635</td>\n",
       "    </tr>\n",
       "    <tr>\n",
       "      <th>...</th>\n",
       "      <td>...</td>\n",
       "      <td>...</td>\n",
       "      <td>...</td>\n",
       "    </tr>\n",
       "    <tr>\n",
       "      <th>3233</th>\n",
       "      <td>2.321580</td>\n",
       "      <td>40758.07</td>\n",
       "      <td>1.387441</td>\n",
       "    </tr>\n",
       "    <tr>\n",
       "      <th>3234</th>\n",
       "      <td>-2.306052</td>\n",
       "      <td>14981.09</td>\n",
       "      <td>-1.904635</td>\n",
       "    </tr>\n",
       "    <tr>\n",
       "      <th>3235</th>\n",
       "      <td>2.321580</td>\n",
       "      <td>14514.31</td>\n",
       "      <td>0.561391</td>\n",
       "    </tr>\n",
       "    <tr>\n",
       "      <th>3236</th>\n",
       "      <td>2.321580</td>\n",
       "      <td>40345.38</td>\n",
       "      <td>1.387441</td>\n",
       "    </tr>\n",
       "    <tr>\n",
       "      <th>3237</th>\n",
       "      <td>1.081238</td>\n",
       "      <td>46054.86</td>\n",
       "      <td>-1.904635</td>\n",
       "    </tr>\n",
       "  </tbody>\n",
       "</table>\n",
       "<p>3238 rows × 3 columns</p>\n",
       "</div>"
      ],
      "text/plain": [
       "      cust_number  total_open_amount  cust_payment_terms\n",
       "0        2.321580           37738.73            1.387441\n",
       "1        2.321580           42001.99            1.387441\n",
       "2        1.455285          137220.67            1.387441\n",
       "3       -2.306052           45754.77           -1.904635\n",
       "4       -2.306052            6223.23           -1.904635\n",
       "...           ...                ...                 ...\n",
       "3233     2.321580           40758.07            1.387441\n",
       "3234    -2.306052           14981.09           -1.904635\n",
       "3235     2.321580           14514.31            0.561391\n",
       "3236     2.321580           40345.38            1.387441\n",
       "3237     1.081238           46054.86           -1.904635\n",
       "\n",
       "[3238 rows x 3 columns]"
      ]
     },
     "execution_count": 1217,
     "metadata": {
      "tags": []
     },
     "output_type": "execute_result"
    }
   ],
   "source": [
    "x_test"
   ]
  },
  {
   "cell_type": "code",
   "execution_count": null,
   "metadata": {
    "colab": {
     "base_uri": "https://localhost:8080/"
    },
    "id": "2EFCJB9vf_wx",
    "outputId": "48a6fdf1-352f-4e29-b366-a5038a01c63b"
   },
   "outputs": [
    {
     "data": {
      "text/plain": [
       "array([1.03, 1.03, 0.95, ..., 0.23, 1.03, 0.03])"
      ]
     },
     "execution_count": 1218,
     "metadata": {
      "tags": []
     },
     "output_type": "execute_result"
    }
   ],
   "source": [
    "predicted = clf.predict(x_test)\n",
    "predicted"
   ]
  },
  {
   "cell_type": "code",
   "execution_count": null,
   "metadata": {
    "colab": {
     "base_uri": "https://localhost:8080/",
     "height": 435
    },
    "id": "tMFfy74kCqlj",
    "outputId": "287865d0-fc8d-415a-8cc1-63db0af44161"
   },
   "outputs": [
    {
     "data": {
      "text/html": [
       "<div>\n",
       "<style scoped>\n",
       "    .dataframe tbody tr th:only-of-type {\n",
       "        vertical-align: middle;\n",
       "    }\n",
       "\n",
       "    .dataframe tbody tr th {\n",
       "        vertical-align: top;\n",
       "    }\n",
       "\n",
       "    .dataframe thead th {\n",
       "        text-align: right;\n",
       "    }\n",
       "</style>\n",
       "<table border=\"1\" class=\"dataframe\">\n",
       "  <thead>\n",
       "    <tr style=\"text-align: right;\">\n",
       "      <th></th>\n",
       "      <th>business_code</th>\n",
       "      <th>cust_number</th>\n",
       "      <th>name_customer</th>\n",
       "      <th>clear_date</th>\n",
       "      <th>buisness_year</th>\n",
       "      <th>doc_id</th>\n",
       "      <th>posting_date</th>\n",
       "      <th>document_create_date</th>\n",
       "      <th>document_create_date.1</th>\n",
       "      <th>due_in_date</th>\n",
       "      <th>invoice_currency</th>\n",
       "      <th>total_open_amount</th>\n",
       "      <th>baseline_create_date</th>\n",
       "      <th>cust_payment_terms</th>\n",
       "      <th>isOpen</th>\n",
       "      <th>delay</th>\n",
       "    </tr>\n",
       "  </thead>\n",
       "  <tbody>\n",
       "    <tr>\n",
       "      <th>0</th>\n",
       "      <td>1</td>\n",
       "      <td>2.321580</td>\n",
       "      <td>2.171247</td>\n",
       "      <td>NaT</td>\n",
       "      <td>2020</td>\n",
       "      <td>1.93074e+09</td>\n",
       "      <td>2020-04-07</td>\n",
       "      <td>2020-04-03</td>\n",
       "      <td>2020-04-07</td>\n",
       "      <td>2020-04-22</td>\n",
       "      <td>0.610766</td>\n",
       "      <td>37738.73</td>\n",
       "      <td>2020-04-07</td>\n",
       "      <td>1.387441</td>\n",
       "      <td>1</td>\n",
       "      <td>1.030</td>\n",
       "    </tr>\n",
       "    <tr>\n",
       "      <th>1</th>\n",
       "      <td>1</td>\n",
       "      <td>2.321580</td>\n",
       "      <td>1.859155</td>\n",
       "      <td>NaT</td>\n",
       "      <td>2020</td>\n",
       "      <td>1.93085e+09</td>\n",
       "      <td>2020-05-02</td>\n",
       "      <td>2020-05-02</td>\n",
       "      <td>2020-05-02</td>\n",
       "      <td>2020-05-17</td>\n",
       "      <td>0.610766</td>\n",
       "      <td>42001.99</td>\n",
       "      <td>2020-05-02</td>\n",
       "      <td>1.387441</td>\n",
       "      <td>1</td>\n",
       "      <td>1.030</td>\n",
       "    </tr>\n",
       "    <tr>\n",
       "      <th>2</th>\n",
       "      <td>1</td>\n",
       "      <td>1.455285</td>\n",
       "      <td>1.404255</td>\n",
       "      <td>NaT</td>\n",
       "      <td>2020</td>\n",
       "      <td>1.93072e+09</td>\n",
       "      <td>2020-03-31</td>\n",
       "      <td>2020-03-31</td>\n",
       "      <td>2020-03-31</td>\n",
       "      <td>2020-04-15</td>\n",
       "      <td>0.610766</td>\n",
       "      <td>137220.67</td>\n",
       "      <td>2020-03-31</td>\n",
       "      <td>1.387441</td>\n",
       "      <td>1</td>\n",
       "      <td>0.950</td>\n",
       "    </tr>\n",
       "    <tr>\n",
       "      <th>3</th>\n",
       "      <td>1</td>\n",
       "      <td>-2.306052</td>\n",
       "      <td>-2.290653</td>\n",
       "      <td>NaT</td>\n",
       "      <td>2020</td>\n",
       "      <td>1.93081e+09</td>\n",
       "      <td>2020-04-22</td>\n",
       "      <td>2020-04-22</td>\n",
       "      <td>2020-04-22</td>\n",
       "      <td>2020-05-07</td>\n",
       "      <td>0.610766</td>\n",
       "      <td>45754.77</td>\n",
       "      <td>2020-04-22</td>\n",
       "      <td>-1.904635</td>\n",
       "      <td>1</td>\n",
       "      <td>-1.859</td>\n",
       "    </tr>\n",
       "    <tr>\n",
       "      <th>4</th>\n",
       "      <td>1</td>\n",
       "      <td>-2.306052</td>\n",
       "      <td>-2.619156</td>\n",
       "      <td>NaT</td>\n",
       "      <td>2020</td>\n",
       "      <td>1.93068e+09</td>\n",
       "      <td>2020-03-22</td>\n",
       "      <td>2020-03-20</td>\n",
       "      <td>2020-03-22</td>\n",
       "      <td>2020-04-06</td>\n",
       "      <td>0.610766</td>\n",
       "      <td>6223.23</td>\n",
       "      <td>2020-03-22</td>\n",
       "      <td>-1.904635</td>\n",
       "      <td>1</td>\n",
       "      <td>-1.859</td>\n",
       "    </tr>\n",
       "    <tr>\n",
       "      <th>...</th>\n",
       "      <td>...</td>\n",
       "      <td>...</td>\n",
       "      <td>...</td>\n",
       "      <td>...</td>\n",
       "      <td>...</td>\n",
       "      <td>...</td>\n",
       "      <td>...</td>\n",
       "      <td>...</td>\n",
       "      <td>...</td>\n",
       "      <td>...</td>\n",
       "      <td>...</td>\n",
       "      <td>...</td>\n",
       "      <td>...</td>\n",
       "      <td>...</td>\n",
       "      <td>...</td>\n",
       "      <td>...</td>\n",
       "    </tr>\n",
       "    <tr>\n",
       "      <th>3233</th>\n",
       "      <td>1</td>\n",
       "      <td>2.321580</td>\n",
       "      <td>2.171247</td>\n",
       "      <td>NaT</td>\n",
       "      <td>2020</td>\n",
       "      <td>1.93057e+09</td>\n",
       "      <td>2020-03-04</td>\n",
       "      <td>2020-03-02</td>\n",
       "      <td>2020-03-04</td>\n",
       "      <td>2020-03-19</td>\n",
       "      <td>0.610766</td>\n",
       "      <td>40758.07</td>\n",
       "      <td>2020-03-04</td>\n",
       "      <td>1.387441</td>\n",
       "      <td>1</td>\n",
       "      <td>1.030</td>\n",
       "    </tr>\n",
       "    <tr>\n",
       "      <th>3234</th>\n",
       "      <td>1</td>\n",
       "      <td>-2.306052</td>\n",
       "      <td>-2.287234</td>\n",
       "      <td>NaT</td>\n",
       "      <td>2020</td>\n",
       "      <td>1.93064e+09</td>\n",
       "      <td>2020-03-13</td>\n",
       "      <td>2020-03-11</td>\n",
       "      <td>2020-03-13</td>\n",
       "      <td>2020-03-28</td>\n",
       "      <td>0.610766</td>\n",
       "      <td>14981.09</td>\n",
       "      <td>2020-03-13</td>\n",
       "      <td>-1.904635</td>\n",
       "      <td>1</td>\n",
       "      <td>-1.859</td>\n",
       "    </tr>\n",
       "    <tr>\n",
       "      <th>3235</th>\n",
       "      <td>1</td>\n",
       "      <td>2.321580</td>\n",
       "      <td>2.171247</td>\n",
       "      <td>NaT</td>\n",
       "      <td>2020</td>\n",
       "      <td>1.93086e+09</td>\n",
       "      <td>2020-05-05</td>\n",
       "      <td>2020-05-05</td>\n",
       "      <td>2020-05-05</td>\n",
       "      <td>2020-05-20</td>\n",
       "      <td>0.610766</td>\n",
       "      <td>14514.31</td>\n",
       "      <td>2020-05-05</td>\n",
       "      <td>0.561391</td>\n",
       "      <td>1</td>\n",
       "      <td>0.230</td>\n",
       "    </tr>\n",
       "    <tr>\n",
       "      <th>3236</th>\n",
       "      <td>1</td>\n",
       "      <td>2.321580</td>\n",
       "      <td>2.312500</td>\n",
       "      <td>NaT</td>\n",
       "      <td>2020</td>\n",
       "      <td>1.9308e+09</td>\n",
       "      <td>2020-04-21</td>\n",
       "      <td>2020-04-20</td>\n",
       "      <td>2020-04-21</td>\n",
       "      <td>2020-05-06</td>\n",
       "      <td>0.610766</td>\n",
       "      <td>40345.38</td>\n",
       "      <td>2020-04-21</td>\n",
       "      <td>1.387441</td>\n",
       "      <td>1</td>\n",
       "      <td>1.030</td>\n",
       "    </tr>\n",
       "    <tr>\n",
       "      <th>3237</th>\n",
       "      <td>1</td>\n",
       "      <td>1.081238</td>\n",
       "      <td>0.382979</td>\n",
       "      <td>NaT</td>\n",
       "      <td>2020</td>\n",
       "      <td>1.93059e+09</td>\n",
       "      <td>2020-03-03</td>\n",
       "      <td>2020-03-03</td>\n",
       "      <td>2020-03-03</td>\n",
       "      <td>2020-03-18</td>\n",
       "      <td>0.610766</td>\n",
       "      <td>46054.86</td>\n",
       "      <td>2020-03-03</td>\n",
       "      <td>-1.904635</td>\n",
       "      <td>1</td>\n",
       "      <td>0.030</td>\n",
       "    </tr>\n",
       "  </tbody>\n",
       "</table>\n",
       "<p>3238 rows × 16 columns</p>\n",
       "</div>"
      ],
      "text/plain": [
       "      business_code  cust_number  ...  isOpen  delay\n",
       "0                 1     2.321580  ...       1  1.030\n",
       "1                 1     2.321580  ...       1  1.030\n",
       "2                 1     1.455285  ...       1  0.950\n",
       "3                 1    -2.306052  ...       1 -1.859\n",
       "4                 1    -2.306052  ...       1 -1.859\n",
       "...             ...          ...  ...     ...    ...\n",
       "3233              1     2.321580  ...       1  1.030\n",
       "3234              1    -2.306052  ...       1 -1.859\n",
       "3235              1     2.321580  ...       1  0.230\n",
       "3236              1     2.321580  ...       1  1.030\n",
       "3237              1     1.081238  ...       1  0.030\n",
       "\n",
       "[3238 rows x 16 columns]"
      ]
     },
     "execution_count": 1219,
     "metadata": {
      "tags": []
     },
     "output_type": "execute_result"
    }
   ],
   "source": [
    "test_data['delay']=predicted\n",
    "test_data"
   ]
  },
  {
   "cell_type": "code",
   "execution_count": null,
   "metadata": {
    "colab": {
     "base_uri": "https://localhost:8080/"
    },
    "id": "vrg_PRLUDWTx",
    "outputId": "7b15da4b-39d5-4a29-fa1d-1d9639b7a83e"
   },
   "outputs": [
    {
     "data": {
      "text/plain": [
       "dtype('float64')"
      ]
     },
     "execution_count": 1220,
     "metadata": {
      "tags": []
     },
     "output_type": "execute_result"
    }
   ],
   "source": [
    "\n",
    "test_data['delay'].dtype"
   ]
  },
  {
   "cell_type": "code",
   "execution_count": null,
   "metadata": {
    "colab": {
     "base_uri": "https://localhost:8080/",
     "height": 435
    },
    "id": "YvQu7reWEdJE",
    "outputId": "8f66e1e2-c4e1-4c6c-d149-dd973240db0f"
   },
   "outputs": [
    {
     "data": {
      "text/html": [
       "<div>\n",
       "<style scoped>\n",
       "    .dataframe tbody tr th:only-of-type {\n",
       "        vertical-align: middle;\n",
       "    }\n",
       "\n",
       "    .dataframe tbody tr th {\n",
       "        vertical-align: top;\n",
       "    }\n",
       "\n",
       "    .dataframe thead th {\n",
       "        text-align: right;\n",
       "    }\n",
       "</style>\n",
       "<table border=\"1\" class=\"dataframe\">\n",
       "  <thead>\n",
       "    <tr style=\"text-align: right;\">\n",
       "      <th></th>\n",
       "      <th>business_code</th>\n",
       "      <th>cust_number</th>\n",
       "      <th>name_customer</th>\n",
       "      <th>clear_date</th>\n",
       "      <th>buisness_year</th>\n",
       "      <th>doc_id</th>\n",
       "      <th>posting_date</th>\n",
       "      <th>document_create_date</th>\n",
       "      <th>document_create_date.1</th>\n",
       "      <th>due_in_date</th>\n",
       "      <th>invoice_currency</th>\n",
       "      <th>total_open_amount</th>\n",
       "      <th>baseline_create_date</th>\n",
       "      <th>cust_payment_terms</th>\n",
       "      <th>isOpen</th>\n",
       "      <th>delay</th>\n",
       "    </tr>\n",
       "  </thead>\n",
       "  <tbody>\n",
       "    <tr>\n",
       "      <th>0</th>\n",
       "      <td>1</td>\n",
       "      <td>2.321580</td>\n",
       "      <td>2.171247</td>\n",
       "      <td>NaT</td>\n",
       "      <td>2020</td>\n",
       "      <td>1.93074e+09</td>\n",
       "      <td>2020-04-07</td>\n",
       "      <td>2020-04-03</td>\n",
       "      <td>2020-04-07</td>\n",
       "      <td>2020-04-22</td>\n",
       "      <td>0.610766</td>\n",
       "      <td>37738.73</td>\n",
       "      <td>2020-04-07</td>\n",
       "      <td>1.387441</td>\n",
       "      <td>1</td>\n",
       "      <td>2.0</td>\n",
       "    </tr>\n",
       "    <tr>\n",
       "      <th>1</th>\n",
       "      <td>1</td>\n",
       "      <td>2.321580</td>\n",
       "      <td>1.859155</td>\n",
       "      <td>NaT</td>\n",
       "      <td>2020</td>\n",
       "      <td>1.93085e+09</td>\n",
       "      <td>2020-05-02</td>\n",
       "      <td>2020-05-02</td>\n",
       "      <td>2020-05-02</td>\n",
       "      <td>2020-05-17</td>\n",
       "      <td>0.610766</td>\n",
       "      <td>42001.99</td>\n",
       "      <td>2020-05-02</td>\n",
       "      <td>1.387441</td>\n",
       "      <td>1</td>\n",
       "      <td>2.0</td>\n",
       "    </tr>\n",
       "    <tr>\n",
       "      <th>2</th>\n",
       "      <td>1</td>\n",
       "      <td>1.455285</td>\n",
       "      <td>1.404255</td>\n",
       "      <td>NaT</td>\n",
       "      <td>2020</td>\n",
       "      <td>1.93072e+09</td>\n",
       "      <td>2020-03-31</td>\n",
       "      <td>2020-03-31</td>\n",
       "      <td>2020-03-31</td>\n",
       "      <td>2020-04-15</td>\n",
       "      <td>0.610766</td>\n",
       "      <td>137220.67</td>\n",
       "      <td>2020-03-31</td>\n",
       "      <td>1.387441</td>\n",
       "      <td>1</td>\n",
       "      <td>1.0</td>\n",
       "    </tr>\n",
       "    <tr>\n",
       "      <th>3</th>\n",
       "      <td>1</td>\n",
       "      <td>-2.306052</td>\n",
       "      <td>-2.290653</td>\n",
       "      <td>NaT</td>\n",
       "      <td>2020</td>\n",
       "      <td>1.93081e+09</td>\n",
       "      <td>2020-04-22</td>\n",
       "      <td>2020-04-22</td>\n",
       "      <td>2020-04-22</td>\n",
       "      <td>2020-05-07</td>\n",
       "      <td>0.610766</td>\n",
       "      <td>45754.77</td>\n",
       "      <td>2020-04-22</td>\n",
       "      <td>-1.904635</td>\n",
       "      <td>1</td>\n",
       "      <td>-1.0</td>\n",
       "    </tr>\n",
       "    <tr>\n",
       "      <th>4</th>\n",
       "      <td>1</td>\n",
       "      <td>-2.306052</td>\n",
       "      <td>-2.619156</td>\n",
       "      <td>NaT</td>\n",
       "      <td>2020</td>\n",
       "      <td>1.93068e+09</td>\n",
       "      <td>2020-03-22</td>\n",
       "      <td>2020-03-20</td>\n",
       "      <td>2020-03-22</td>\n",
       "      <td>2020-04-06</td>\n",
       "      <td>0.610766</td>\n",
       "      <td>6223.23</td>\n",
       "      <td>2020-03-22</td>\n",
       "      <td>-1.904635</td>\n",
       "      <td>1</td>\n",
       "      <td>-1.0</td>\n",
       "    </tr>\n",
       "    <tr>\n",
       "      <th>...</th>\n",
       "      <td>...</td>\n",
       "      <td>...</td>\n",
       "      <td>...</td>\n",
       "      <td>...</td>\n",
       "      <td>...</td>\n",
       "      <td>...</td>\n",
       "      <td>...</td>\n",
       "      <td>...</td>\n",
       "      <td>...</td>\n",
       "      <td>...</td>\n",
       "      <td>...</td>\n",
       "      <td>...</td>\n",
       "      <td>...</td>\n",
       "      <td>...</td>\n",
       "      <td>...</td>\n",
       "      <td>...</td>\n",
       "    </tr>\n",
       "    <tr>\n",
       "      <th>3233</th>\n",
       "      <td>1</td>\n",
       "      <td>2.321580</td>\n",
       "      <td>2.171247</td>\n",
       "      <td>NaT</td>\n",
       "      <td>2020</td>\n",
       "      <td>1.93057e+09</td>\n",
       "      <td>2020-03-04</td>\n",
       "      <td>2020-03-02</td>\n",
       "      <td>2020-03-04</td>\n",
       "      <td>2020-03-19</td>\n",
       "      <td>0.610766</td>\n",
       "      <td>40758.07</td>\n",
       "      <td>2020-03-04</td>\n",
       "      <td>1.387441</td>\n",
       "      <td>1</td>\n",
       "      <td>2.0</td>\n",
       "    </tr>\n",
       "    <tr>\n",
       "      <th>3234</th>\n",
       "      <td>1</td>\n",
       "      <td>-2.306052</td>\n",
       "      <td>-2.287234</td>\n",
       "      <td>NaT</td>\n",
       "      <td>2020</td>\n",
       "      <td>1.93064e+09</td>\n",
       "      <td>2020-03-13</td>\n",
       "      <td>2020-03-11</td>\n",
       "      <td>2020-03-13</td>\n",
       "      <td>2020-03-28</td>\n",
       "      <td>0.610766</td>\n",
       "      <td>14981.09</td>\n",
       "      <td>2020-03-13</td>\n",
       "      <td>-1.904635</td>\n",
       "      <td>1</td>\n",
       "      <td>-1.0</td>\n",
       "    </tr>\n",
       "    <tr>\n",
       "      <th>3235</th>\n",
       "      <td>1</td>\n",
       "      <td>2.321580</td>\n",
       "      <td>2.171247</td>\n",
       "      <td>NaT</td>\n",
       "      <td>2020</td>\n",
       "      <td>1.93086e+09</td>\n",
       "      <td>2020-05-05</td>\n",
       "      <td>2020-05-05</td>\n",
       "      <td>2020-05-05</td>\n",
       "      <td>2020-05-20</td>\n",
       "      <td>0.610766</td>\n",
       "      <td>14514.31</td>\n",
       "      <td>2020-05-05</td>\n",
       "      <td>0.561391</td>\n",
       "      <td>1</td>\n",
       "      <td>1.0</td>\n",
       "    </tr>\n",
       "    <tr>\n",
       "      <th>3236</th>\n",
       "      <td>1</td>\n",
       "      <td>2.321580</td>\n",
       "      <td>2.312500</td>\n",
       "      <td>NaT</td>\n",
       "      <td>2020</td>\n",
       "      <td>1.9308e+09</td>\n",
       "      <td>2020-04-21</td>\n",
       "      <td>2020-04-20</td>\n",
       "      <td>2020-04-21</td>\n",
       "      <td>2020-05-06</td>\n",
       "      <td>0.610766</td>\n",
       "      <td>40345.38</td>\n",
       "      <td>2020-04-21</td>\n",
       "      <td>1.387441</td>\n",
       "      <td>1</td>\n",
       "      <td>2.0</td>\n",
       "    </tr>\n",
       "    <tr>\n",
       "      <th>3237</th>\n",
       "      <td>1</td>\n",
       "      <td>1.081238</td>\n",
       "      <td>0.382979</td>\n",
       "      <td>NaT</td>\n",
       "      <td>2020</td>\n",
       "      <td>1.93059e+09</td>\n",
       "      <td>2020-03-03</td>\n",
       "      <td>2020-03-03</td>\n",
       "      <td>2020-03-03</td>\n",
       "      <td>2020-03-18</td>\n",
       "      <td>0.610766</td>\n",
       "      <td>46054.86</td>\n",
       "      <td>2020-03-03</td>\n",
       "      <td>-1.904635</td>\n",
       "      <td>1</td>\n",
       "      <td>1.0</td>\n",
       "    </tr>\n",
       "  </tbody>\n",
       "</table>\n",
       "<p>3238 rows × 16 columns</p>\n",
       "</div>"
      ],
      "text/plain": [
       "      business_code  cust_number  ...  isOpen delay\n",
       "0                 1     2.321580  ...       1   2.0\n",
       "1                 1     2.321580  ...       1   2.0\n",
       "2                 1     1.455285  ...       1   1.0\n",
       "3                 1    -2.306052  ...       1  -1.0\n",
       "4                 1    -2.306052  ...       1  -1.0\n",
       "...             ...          ...  ...     ...   ...\n",
       "3233              1     2.321580  ...       1   2.0\n",
       "3234              1    -2.306052  ...       1  -1.0\n",
       "3235              1     2.321580  ...       1   1.0\n",
       "3236              1     2.321580  ...       1   2.0\n",
       "3237              1     1.081238  ...       1   1.0\n",
       "\n",
       "[3238 rows x 16 columns]"
      ]
     },
     "execution_count": 1221,
     "metadata": {
      "tags": []
     },
     "output_type": "execute_result"
    }
   ],
   "source": [
    "test_data['delay'] = test_data['delay'].apply(np.ceil) \n",
    "test_data             ### convert delay value to ceil\n"
   ]
  },
  {
   "cell_type": "code",
   "execution_count": null,
   "metadata": {
    "id": "NIcuEvy82hr6"
   },
   "outputs": [],
   "source": [
    "bucket=[]\n",
    "for i in test_data['delay']:\n",
    "  if (i<=15): \n",
    "    bucket.append(\"0-15 days\")\n",
    "  elif (i>=16 & i<=30):\n",
    "    bucket.append(\"16-30 days\")\n",
    "  elif (i>=31 & i<=45):\n",
    "    bucket.append(\"31-45 days\")\n",
    "  elif (i>=46 & i<=60):\n",
    "    bucket.append(\"46-60 days\")  \n",
    "  else:\n",
    "    bucket.append(\"Greater than days\")   \n",
    "\n",
    "\n",
    "test_data['Aging Bucket']=bucket\n"
   ]
  },
  {
   "cell_type": "code",
   "execution_count": null,
   "metadata": {
    "colab": {
     "base_uri": "https://localhost:8080/",
     "height": 626
    },
    "id": "tUfZwtrWsmSK",
    "outputId": "fb7e3c9d-e313-4dde-f44d-68a9f6377c60"
   },
   "outputs": [
    {
     "data": {
      "text/html": [
       "<div>\n",
       "<style scoped>\n",
       "    .dataframe tbody tr th:only-of-type {\n",
       "        vertical-align: middle;\n",
       "    }\n",
       "\n",
       "    .dataframe tbody tr th {\n",
       "        vertical-align: top;\n",
       "    }\n",
       "\n",
       "    .dataframe thead th {\n",
       "        text-align: right;\n",
       "    }\n",
       "</style>\n",
       "<table border=\"1\" class=\"dataframe\">\n",
       "  <thead>\n",
       "    <tr style=\"text-align: right;\">\n",
       "      <th></th>\n",
       "      <th>business_code</th>\n",
       "      <th>cust_number</th>\n",
       "      <th>name_customer</th>\n",
       "      <th>clear_date</th>\n",
       "      <th>buisness_year</th>\n",
       "      <th>doc_id</th>\n",
       "      <th>posting_date</th>\n",
       "      <th>document_create_date</th>\n",
       "      <th>document_create_date.1</th>\n",
       "      <th>due_in_date</th>\n",
       "      <th>invoice_currency</th>\n",
       "      <th>total_open_amount</th>\n",
       "      <th>baseline_create_date</th>\n",
       "      <th>cust_payment_terms</th>\n",
       "      <th>isOpen</th>\n",
       "      <th>delay</th>\n",
       "      <th>Aging Bucket</th>\n",
       "    </tr>\n",
       "  </thead>\n",
       "  <tbody>\n",
       "    <tr>\n",
       "      <th>0</th>\n",
       "      <td>1</td>\n",
       "      <td>2.321580</td>\n",
       "      <td>2.171247</td>\n",
       "      <td>NaT</td>\n",
       "      <td>2020</td>\n",
       "      <td>1.93074e+09</td>\n",
       "      <td>2020-04-07</td>\n",
       "      <td>2020-04-03</td>\n",
       "      <td>2020-04-07</td>\n",
       "      <td>2020-04-22</td>\n",
       "      <td>0.610766</td>\n",
       "      <td>37738.73</td>\n",
       "      <td>2020-04-07</td>\n",
       "      <td>1.387441</td>\n",
       "      <td>1</td>\n",
       "      <td>2 days</td>\n",
       "      <td>0-15 days</td>\n",
       "    </tr>\n",
       "    <tr>\n",
       "      <th>1</th>\n",
       "      <td>1</td>\n",
       "      <td>2.321580</td>\n",
       "      <td>1.859155</td>\n",
       "      <td>NaT</td>\n",
       "      <td>2020</td>\n",
       "      <td>1.93085e+09</td>\n",
       "      <td>2020-05-02</td>\n",
       "      <td>2020-05-02</td>\n",
       "      <td>2020-05-02</td>\n",
       "      <td>2020-05-17</td>\n",
       "      <td>0.610766</td>\n",
       "      <td>42001.99</td>\n",
       "      <td>2020-05-02</td>\n",
       "      <td>1.387441</td>\n",
       "      <td>1</td>\n",
       "      <td>2 days</td>\n",
       "      <td>0-15 days</td>\n",
       "    </tr>\n",
       "    <tr>\n",
       "      <th>2</th>\n",
       "      <td>1</td>\n",
       "      <td>1.455285</td>\n",
       "      <td>1.404255</td>\n",
       "      <td>NaT</td>\n",
       "      <td>2020</td>\n",
       "      <td>1.93072e+09</td>\n",
       "      <td>2020-03-31</td>\n",
       "      <td>2020-03-31</td>\n",
       "      <td>2020-03-31</td>\n",
       "      <td>2020-04-15</td>\n",
       "      <td>0.610766</td>\n",
       "      <td>137220.67</td>\n",
       "      <td>2020-03-31</td>\n",
       "      <td>1.387441</td>\n",
       "      <td>1</td>\n",
       "      <td>1 days</td>\n",
       "      <td>0-15 days</td>\n",
       "    </tr>\n",
       "    <tr>\n",
       "      <th>3</th>\n",
       "      <td>1</td>\n",
       "      <td>-2.306052</td>\n",
       "      <td>-2.290653</td>\n",
       "      <td>NaT</td>\n",
       "      <td>2020</td>\n",
       "      <td>1.93081e+09</td>\n",
       "      <td>2020-04-22</td>\n",
       "      <td>2020-04-22</td>\n",
       "      <td>2020-04-22</td>\n",
       "      <td>2020-05-07</td>\n",
       "      <td>0.610766</td>\n",
       "      <td>45754.77</td>\n",
       "      <td>2020-04-22</td>\n",
       "      <td>-1.904635</td>\n",
       "      <td>1</td>\n",
       "      <td>-1 days</td>\n",
       "      <td>0-15 days</td>\n",
       "    </tr>\n",
       "    <tr>\n",
       "      <th>4</th>\n",
       "      <td>1</td>\n",
       "      <td>-2.306052</td>\n",
       "      <td>-2.619156</td>\n",
       "      <td>NaT</td>\n",
       "      <td>2020</td>\n",
       "      <td>1.93068e+09</td>\n",
       "      <td>2020-03-22</td>\n",
       "      <td>2020-03-20</td>\n",
       "      <td>2020-03-22</td>\n",
       "      <td>2020-04-06</td>\n",
       "      <td>0.610766</td>\n",
       "      <td>6223.23</td>\n",
       "      <td>2020-03-22</td>\n",
       "      <td>-1.904635</td>\n",
       "      <td>1</td>\n",
       "      <td>-1 days</td>\n",
       "      <td>0-15 days</td>\n",
       "    </tr>\n",
       "    <tr>\n",
       "      <th>...</th>\n",
       "      <td>...</td>\n",
       "      <td>...</td>\n",
       "      <td>...</td>\n",
       "      <td>...</td>\n",
       "      <td>...</td>\n",
       "      <td>...</td>\n",
       "      <td>...</td>\n",
       "      <td>...</td>\n",
       "      <td>...</td>\n",
       "      <td>...</td>\n",
       "      <td>...</td>\n",
       "      <td>...</td>\n",
       "      <td>...</td>\n",
       "      <td>...</td>\n",
       "      <td>...</td>\n",
       "      <td>...</td>\n",
       "      <td>...</td>\n",
       "    </tr>\n",
       "    <tr>\n",
       "      <th>3233</th>\n",
       "      <td>1</td>\n",
       "      <td>2.321580</td>\n",
       "      <td>2.171247</td>\n",
       "      <td>NaT</td>\n",
       "      <td>2020</td>\n",
       "      <td>1.93057e+09</td>\n",
       "      <td>2020-03-04</td>\n",
       "      <td>2020-03-02</td>\n",
       "      <td>2020-03-04</td>\n",
       "      <td>2020-03-19</td>\n",
       "      <td>0.610766</td>\n",
       "      <td>40758.07</td>\n",
       "      <td>2020-03-04</td>\n",
       "      <td>1.387441</td>\n",
       "      <td>1</td>\n",
       "      <td>2 days</td>\n",
       "      <td>0-15 days</td>\n",
       "    </tr>\n",
       "    <tr>\n",
       "      <th>3234</th>\n",
       "      <td>1</td>\n",
       "      <td>-2.306052</td>\n",
       "      <td>-2.287234</td>\n",
       "      <td>NaT</td>\n",
       "      <td>2020</td>\n",
       "      <td>1.93064e+09</td>\n",
       "      <td>2020-03-13</td>\n",
       "      <td>2020-03-11</td>\n",
       "      <td>2020-03-13</td>\n",
       "      <td>2020-03-28</td>\n",
       "      <td>0.610766</td>\n",
       "      <td>14981.09</td>\n",
       "      <td>2020-03-13</td>\n",
       "      <td>-1.904635</td>\n",
       "      <td>1</td>\n",
       "      <td>-1 days</td>\n",
       "      <td>0-15 days</td>\n",
       "    </tr>\n",
       "    <tr>\n",
       "      <th>3235</th>\n",
       "      <td>1</td>\n",
       "      <td>2.321580</td>\n",
       "      <td>2.171247</td>\n",
       "      <td>NaT</td>\n",
       "      <td>2020</td>\n",
       "      <td>1.93086e+09</td>\n",
       "      <td>2020-05-05</td>\n",
       "      <td>2020-05-05</td>\n",
       "      <td>2020-05-05</td>\n",
       "      <td>2020-05-20</td>\n",
       "      <td>0.610766</td>\n",
       "      <td>14514.31</td>\n",
       "      <td>2020-05-05</td>\n",
       "      <td>0.561391</td>\n",
       "      <td>1</td>\n",
       "      <td>1 days</td>\n",
       "      <td>0-15 days</td>\n",
       "    </tr>\n",
       "    <tr>\n",
       "      <th>3236</th>\n",
       "      <td>1</td>\n",
       "      <td>2.321580</td>\n",
       "      <td>2.312500</td>\n",
       "      <td>NaT</td>\n",
       "      <td>2020</td>\n",
       "      <td>1.9308e+09</td>\n",
       "      <td>2020-04-21</td>\n",
       "      <td>2020-04-20</td>\n",
       "      <td>2020-04-21</td>\n",
       "      <td>2020-05-06</td>\n",
       "      <td>0.610766</td>\n",
       "      <td>40345.38</td>\n",
       "      <td>2020-04-21</td>\n",
       "      <td>1.387441</td>\n",
       "      <td>1</td>\n",
       "      <td>2 days</td>\n",
       "      <td>0-15 days</td>\n",
       "    </tr>\n",
       "    <tr>\n",
       "      <th>3237</th>\n",
       "      <td>1</td>\n",
       "      <td>1.081238</td>\n",
       "      <td>0.382979</td>\n",
       "      <td>NaT</td>\n",
       "      <td>2020</td>\n",
       "      <td>1.93059e+09</td>\n",
       "      <td>2020-03-03</td>\n",
       "      <td>2020-03-03</td>\n",
       "      <td>2020-03-03</td>\n",
       "      <td>2020-03-18</td>\n",
       "      <td>0.610766</td>\n",
       "      <td>46054.86</td>\n",
       "      <td>2020-03-03</td>\n",
       "      <td>-1.904635</td>\n",
       "      <td>1</td>\n",
       "      <td>1 days</td>\n",
       "      <td>0-15 days</td>\n",
       "    </tr>\n",
       "  </tbody>\n",
       "</table>\n",
       "<p>3238 rows × 17 columns</p>\n",
       "</div>"
      ],
      "text/plain": [
       "      business_code  cust_number  name_customer  ... isOpen   delay Aging Bucket\n",
       "0                 1     2.321580       2.171247  ...      1  2 days    0-15 days\n",
       "1                 1     2.321580       1.859155  ...      1  2 days    0-15 days\n",
       "2                 1     1.455285       1.404255  ...      1  1 days    0-15 days\n",
       "3                 1    -2.306052      -2.290653  ...      1 -1 days    0-15 days\n",
       "4                 1    -2.306052      -2.619156  ...      1 -1 days    0-15 days\n",
       "...             ...          ...            ...  ...    ...     ...          ...\n",
       "3233              1     2.321580       2.171247  ...      1  2 days    0-15 days\n",
       "3234              1    -2.306052      -2.287234  ...      1 -1 days    0-15 days\n",
       "3235              1     2.321580       2.171247  ...      1  1 days    0-15 days\n",
       "3236              1     2.321580       2.312500  ...      1  2 days    0-15 days\n",
       "3237              1     1.081238       0.382979  ...      1  1 days    0-15 days\n",
       "\n",
       "[3238 rows x 17 columns]"
      ]
     },
     "execution_count": 1223,
     "metadata": {
      "tags": []
     },
     "output_type": "execute_result"
    }
   ],
   "source": [
    "test_data['delay']=test_data['delay'].apply(lambda x: pd.Timedelta(x, unit='D'))\n",
    "test_data"
   ]
  },
  {
   "cell_type": "code",
   "execution_count": null,
   "metadata": {
    "colab": {
     "base_uri": "https://localhost:8080/",
     "height": 626
    },
    "id": "q4SIIjonxqpQ",
    "outputId": "ed1a7ea3-2678-4e12-fb5c-0aa24accaaaa"
   },
   "outputs": [
    {
     "data": {
      "text/html": [
       "<div>\n",
       "<style scoped>\n",
       "    .dataframe tbody tr th:only-of-type {\n",
       "        vertical-align: middle;\n",
       "    }\n",
       "\n",
       "    .dataframe tbody tr th {\n",
       "        vertical-align: top;\n",
       "    }\n",
       "\n",
       "    .dataframe thead th {\n",
       "        text-align: right;\n",
       "    }\n",
       "</style>\n",
       "<table border=\"1\" class=\"dataframe\">\n",
       "  <thead>\n",
       "    <tr style=\"text-align: right;\">\n",
       "      <th></th>\n",
       "      <th>business_code</th>\n",
       "      <th>cust_number</th>\n",
       "      <th>name_customer</th>\n",
       "      <th>clear_date</th>\n",
       "      <th>buisness_year</th>\n",
       "      <th>doc_id</th>\n",
       "      <th>posting_date</th>\n",
       "      <th>document_create_date</th>\n",
       "      <th>document_create_date.1</th>\n",
       "      <th>due_in_date</th>\n",
       "      <th>invoice_currency</th>\n",
       "      <th>total_open_amount</th>\n",
       "      <th>baseline_create_date</th>\n",
       "      <th>cust_payment_terms</th>\n",
       "      <th>isOpen</th>\n",
       "      <th>delay</th>\n",
       "      <th>Aging Bucket</th>\n",
       "      <th>predicted_clear_date</th>\n",
       "    </tr>\n",
       "  </thead>\n",
       "  <tbody>\n",
       "    <tr>\n",
       "      <th>0</th>\n",
       "      <td>1</td>\n",
       "      <td>2.321580</td>\n",
       "      <td>2.171247</td>\n",
       "      <td>NaT</td>\n",
       "      <td>2020</td>\n",
       "      <td>1.93074e+09</td>\n",
       "      <td>2020-04-07</td>\n",
       "      <td>2020-04-03</td>\n",
       "      <td>2020-04-07</td>\n",
       "      <td>2020-04-22</td>\n",
       "      <td>0.610766</td>\n",
       "      <td>37738.73</td>\n",
       "      <td>2020-04-07</td>\n",
       "      <td>1.387441</td>\n",
       "      <td>1</td>\n",
       "      <td>2 days</td>\n",
       "      <td>0-15 days</td>\n",
       "      <td>2020-04-24</td>\n",
       "    </tr>\n",
       "    <tr>\n",
       "      <th>1</th>\n",
       "      <td>1</td>\n",
       "      <td>2.321580</td>\n",
       "      <td>1.859155</td>\n",
       "      <td>NaT</td>\n",
       "      <td>2020</td>\n",
       "      <td>1.93085e+09</td>\n",
       "      <td>2020-05-02</td>\n",
       "      <td>2020-05-02</td>\n",
       "      <td>2020-05-02</td>\n",
       "      <td>2020-05-17</td>\n",
       "      <td>0.610766</td>\n",
       "      <td>42001.99</td>\n",
       "      <td>2020-05-02</td>\n",
       "      <td>1.387441</td>\n",
       "      <td>1</td>\n",
       "      <td>2 days</td>\n",
       "      <td>0-15 days</td>\n",
       "      <td>2020-05-19</td>\n",
       "    </tr>\n",
       "    <tr>\n",
       "      <th>2</th>\n",
       "      <td>1</td>\n",
       "      <td>1.455285</td>\n",
       "      <td>1.404255</td>\n",
       "      <td>NaT</td>\n",
       "      <td>2020</td>\n",
       "      <td>1.93072e+09</td>\n",
       "      <td>2020-03-31</td>\n",
       "      <td>2020-03-31</td>\n",
       "      <td>2020-03-31</td>\n",
       "      <td>2020-04-15</td>\n",
       "      <td>0.610766</td>\n",
       "      <td>137220.67</td>\n",
       "      <td>2020-03-31</td>\n",
       "      <td>1.387441</td>\n",
       "      <td>1</td>\n",
       "      <td>1 days</td>\n",
       "      <td>0-15 days</td>\n",
       "      <td>2020-04-16</td>\n",
       "    </tr>\n",
       "    <tr>\n",
       "      <th>3</th>\n",
       "      <td>1</td>\n",
       "      <td>-2.306052</td>\n",
       "      <td>-2.290653</td>\n",
       "      <td>NaT</td>\n",
       "      <td>2020</td>\n",
       "      <td>1.93081e+09</td>\n",
       "      <td>2020-04-22</td>\n",
       "      <td>2020-04-22</td>\n",
       "      <td>2020-04-22</td>\n",
       "      <td>2020-05-07</td>\n",
       "      <td>0.610766</td>\n",
       "      <td>45754.77</td>\n",
       "      <td>2020-04-22</td>\n",
       "      <td>-1.904635</td>\n",
       "      <td>1</td>\n",
       "      <td>-1 days</td>\n",
       "      <td>0-15 days</td>\n",
       "      <td>2020-05-06</td>\n",
       "    </tr>\n",
       "    <tr>\n",
       "      <th>4</th>\n",
       "      <td>1</td>\n",
       "      <td>-2.306052</td>\n",
       "      <td>-2.619156</td>\n",
       "      <td>NaT</td>\n",
       "      <td>2020</td>\n",
       "      <td>1.93068e+09</td>\n",
       "      <td>2020-03-22</td>\n",
       "      <td>2020-03-20</td>\n",
       "      <td>2020-03-22</td>\n",
       "      <td>2020-04-06</td>\n",
       "      <td>0.610766</td>\n",
       "      <td>6223.23</td>\n",
       "      <td>2020-03-22</td>\n",
       "      <td>-1.904635</td>\n",
       "      <td>1</td>\n",
       "      <td>-1 days</td>\n",
       "      <td>0-15 days</td>\n",
       "      <td>2020-04-05</td>\n",
       "    </tr>\n",
       "    <tr>\n",
       "      <th>...</th>\n",
       "      <td>...</td>\n",
       "      <td>...</td>\n",
       "      <td>...</td>\n",
       "      <td>...</td>\n",
       "      <td>...</td>\n",
       "      <td>...</td>\n",
       "      <td>...</td>\n",
       "      <td>...</td>\n",
       "      <td>...</td>\n",
       "      <td>...</td>\n",
       "      <td>...</td>\n",
       "      <td>...</td>\n",
       "      <td>...</td>\n",
       "      <td>...</td>\n",
       "      <td>...</td>\n",
       "      <td>...</td>\n",
       "      <td>...</td>\n",
       "      <td>...</td>\n",
       "    </tr>\n",
       "    <tr>\n",
       "      <th>3233</th>\n",
       "      <td>1</td>\n",
       "      <td>2.321580</td>\n",
       "      <td>2.171247</td>\n",
       "      <td>NaT</td>\n",
       "      <td>2020</td>\n",
       "      <td>1.93057e+09</td>\n",
       "      <td>2020-03-04</td>\n",
       "      <td>2020-03-02</td>\n",
       "      <td>2020-03-04</td>\n",
       "      <td>2020-03-19</td>\n",
       "      <td>0.610766</td>\n",
       "      <td>40758.07</td>\n",
       "      <td>2020-03-04</td>\n",
       "      <td>1.387441</td>\n",
       "      <td>1</td>\n",
       "      <td>2 days</td>\n",
       "      <td>0-15 days</td>\n",
       "      <td>2020-03-21</td>\n",
       "    </tr>\n",
       "    <tr>\n",
       "      <th>3234</th>\n",
       "      <td>1</td>\n",
       "      <td>-2.306052</td>\n",
       "      <td>-2.287234</td>\n",
       "      <td>NaT</td>\n",
       "      <td>2020</td>\n",
       "      <td>1.93064e+09</td>\n",
       "      <td>2020-03-13</td>\n",
       "      <td>2020-03-11</td>\n",
       "      <td>2020-03-13</td>\n",
       "      <td>2020-03-28</td>\n",
       "      <td>0.610766</td>\n",
       "      <td>14981.09</td>\n",
       "      <td>2020-03-13</td>\n",
       "      <td>-1.904635</td>\n",
       "      <td>1</td>\n",
       "      <td>-1 days</td>\n",
       "      <td>0-15 days</td>\n",
       "      <td>2020-03-27</td>\n",
       "    </tr>\n",
       "    <tr>\n",
       "      <th>3235</th>\n",
       "      <td>1</td>\n",
       "      <td>2.321580</td>\n",
       "      <td>2.171247</td>\n",
       "      <td>NaT</td>\n",
       "      <td>2020</td>\n",
       "      <td>1.93086e+09</td>\n",
       "      <td>2020-05-05</td>\n",
       "      <td>2020-05-05</td>\n",
       "      <td>2020-05-05</td>\n",
       "      <td>2020-05-20</td>\n",
       "      <td>0.610766</td>\n",
       "      <td>14514.31</td>\n",
       "      <td>2020-05-05</td>\n",
       "      <td>0.561391</td>\n",
       "      <td>1</td>\n",
       "      <td>1 days</td>\n",
       "      <td>0-15 days</td>\n",
       "      <td>2020-05-21</td>\n",
       "    </tr>\n",
       "    <tr>\n",
       "      <th>3236</th>\n",
       "      <td>1</td>\n",
       "      <td>2.321580</td>\n",
       "      <td>2.312500</td>\n",
       "      <td>NaT</td>\n",
       "      <td>2020</td>\n",
       "      <td>1.9308e+09</td>\n",
       "      <td>2020-04-21</td>\n",
       "      <td>2020-04-20</td>\n",
       "      <td>2020-04-21</td>\n",
       "      <td>2020-05-06</td>\n",
       "      <td>0.610766</td>\n",
       "      <td>40345.38</td>\n",
       "      <td>2020-04-21</td>\n",
       "      <td>1.387441</td>\n",
       "      <td>1</td>\n",
       "      <td>2 days</td>\n",
       "      <td>0-15 days</td>\n",
       "      <td>2020-05-08</td>\n",
       "    </tr>\n",
       "    <tr>\n",
       "      <th>3237</th>\n",
       "      <td>1</td>\n",
       "      <td>1.081238</td>\n",
       "      <td>0.382979</td>\n",
       "      <td>NaT</td>\n",
       "      <td>2020</td>\n",
       "      <td>1.93059e+09</td>\n",
       "      <td>2020-03-03</td>\n",
       "      <td>2020-03-03</td>\n",
       "      <td>2020-03-03</td>\n",
       "      <td>2020-03-18</td>\n",
       "      <td>0.610766</td>\n",
       "      <td>46054.86</td>\n",
       "      <td>2020-03-03</td>\n",
       "      <td>-1.904635</td>\n",
       "      <td>1</td>\n",
       "      <td>1 days</td>\n",
       "      <td>0-15 days</td>\n",
       "      <td>2020-03-19</td>\n",
       "    </tr>\n",
       "  </tbody>\n",
       "</table>\n",
       "<p>3238 rows × 18 columns</p>\n",
       "</div>"
      ],
      "text/plain": [
       "      business_code  cust_number  ...  Aging Bucket predicted_clear_date\n",
       "0                 1     2.321580  ...     0-15 days           2020-04-24\n",
       "1                 1     2.321580  ...     0-15 days           2020-05-19\n",
       "2                 1     1.455285  ...     0-15 days           2020-04-16\n",
       "3                 1    -2.306052  ...     0-15 days           2020-05-06\n",
       "4                 1    -2.306052  ...     0-15 days           2020-04-05\n",
       "...             ...          ...  ...           ...                  ...\n",
       "3233              1     2.321580  ...     0-15 days           2020-03-21\n",
       "3234              1    -2.306052  ...     0-15 days           2020-03-27\n",
       "3235              1     2.321580  ...     0-15 days           2020-05-21\n",
       "3236              1     2.321580  ...     0-15 days           2020-05-08\n",
       "3237              1     1.081238  ...     0-15 days           2020-03-19\n",
       "\n",
       "[3238 rows x 18 columns]"
      ]
     },
     "execution_count": 1224,
     "metadata": {
      "tags": []
     },
     "output_type": "execute_result"
    }
   ],
   "source": [
    "test_data['predicted_clear_date']=test_data['due_in_date']+test_data['delay']\n",
    "test_data"
   ]
  }
 ],
 "metadata": {
  "colab": {
   "collapsed_sections": [],
   "name": "1806269.ipynb",
   "provenance": []
  },
  "kernelspec": {
   "display_name": "Python 3 (ipykernel)",
   "language": "python",
   "name": "python3"
  },
  "language_info": {
   "codemirror_mode": {
    "name": "ipython",
    "version": 3
   },
   "file_extension": ".py",
   "mimetype": "text/x-python",
   "name": "python",
   "nbconvert_exporter": "python",
   "pygments_lexer": "ipython3",
   "version": "3.9.7"
  }
 },
 "nbformat": 4,
 "nbformat_minor": 1
}
