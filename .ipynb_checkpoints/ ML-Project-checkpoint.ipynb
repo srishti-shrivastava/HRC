{
 "cells": [
  {
   "cell_type": "code",
   "execution_count": 20,
   "id": "b20cc373",
   "metadata": {},
   "outputs": [],
   "source": [
    "import  numpy as np\n",
    "import pandas as pd\n",
    "import seaborn as sns\n",
    "import matplotlib.pyplot as plt\n",
    "%matplotlib inline\n"
   ]
  },
  {
   "cell_type": "code",
   "execution_count": 21,
   "id": "373d90bd",
   "metadata": {},
   "outputs": [],
   "source": [
    "#reading dataset\n",
    "data=pd.read_csv(r'C:\\\\Users\\\\hp\\\\Documents\\\\HRC pdf\\\\dataset.csv')\n"
   ]
  },
  {
   "cell_type": "code",
   "execution_count": 22,
   "id": "3cef9fb7",
   "metadata": {},
   "outputs": [
    {
     "name": "stdout",
     "output_type": "stream",
     "text": [
      "<class 'pandas.core.frame.DataFrame'>\n",
      "RangeIndex: 50000 entries, 0 to 49999\n",
      "Data columns (total 19 columns):\n",
      " #   Column                  Non-Null Count  Dtype  \n",
      "---  ------                  --------------  -----  \n",
      " 0   business_code           50000 non-null  object \n",
      " 1   cust_number             50000 non-null  object \n",
      " 2   name_customer           50000 non-null  object \n",
      " 3   clear_date              40000 non-null  object \n",
      " 4   buisness_year           50000 non-null  int64  \n",
      " 5   doc_id                  50000 non-null  int64  \n",
      " 6   posting_date            50000 non-null  object \n",
      " 7   document_create_date    50000 non-null  int64  \n",
      " 8   document_create_date.1  50000 non-null  int64  \n",
      " 9   due_in_date             50000 non-null  int64  \n",
      " 10  invoice_currency        50000 non-null  object \n",
      " 11  document type           50000 non-null  object \n",
      " 12  posting_id              50000 non-null  int64  \n",
      " 13  area_business           0 non-null      float64\n",
      " 14  total_open_amount       50000 non-null  float64\n",
      " 15  baseline_create_date    50000 non-null  int64  \n",
      " 16  cust_payment_terms      50000 non-null  object \n",
      " 17  invoice_id              49994 non-null  float64\n",
      " 18  isOpen                  50000 non-null  int64  \n",
      "dtypes: float64(3), int64(8), object(8)\n",
      "memory usage: 7.2+ MB\n"
     ]
    }
   ],
   "source": [
    "data.info()"
   ]
  },
  {
   "cell_type": "code",
   "execution_count": 23,
   "id": "c3373ded",
   "metadata": {},
   "outputs": [
    {
     "data": {
      "text/plain": [
       "(50000, 19)"
      ]
     },
     "execution_count": 23,
     "metadata": {},
     "output_type": "execute_result"
    }
   ],
   "source": [
    "data.shape"
   ]
  },
  {
   "cell_type": "code",
   "execution_count": 24,
   "id": "630c6ed5",
   "metadata": {},
   "outputs": [
    {
     "data": {
      "text/plain": [
       "1"
      ]
     },
     "execution_count": 24,
     "metadata": {},
     "output_type": "execute_result"
    }
   ],
   "source": [
    "len(pd.unique(data['posting_id'])) #constant"
   ]
  },
  {
   "cell_type": "code",
   "execution_count": 25,
   "id": "c8c9d7cd",
   "metadata": {},
   "outputs": [],
   "source": [
    "data.drop(columns=['posting_id'],inplace=True)#since constant column will not contribute so drop"
   ]
  },
  {
   "cell_type": "code",
   "execution_count": 26,
   "id": "19cbb233",
   "metadata": {},
   "outputs": [],
   "source": [
    "#area_business have all null values so drop\n",
    "data.drop(['area_business'],axis=1,inplace=True)"
   ]
  },
  {
   "cell_type": "code",
   "execution_count": 40,
   "id": "100b3b5b",
   "metadata": {},
   "outputs": [
    {
     "data": {
      "text/plain": [
       "0"
      ]
     },
     "execution_count": 40,
     "metadata": {},
     "output_type": "execute_result"
    }
   ],
   "source": [
    "#invoice have some values null\n",
    "data['invoice_id'].isnull().sum()"
   ]
  },
  {
   "cell_type": "code",
   "execution_count": 28,
   "id": "2b3662cd",
   "metadata": {},
   "outputs": [
    {
     "data": {
      "text/html": [
       "<div>\n",
       "<style scoped>\n",
       "    .dataframe tbody tr th:only-of-type {\n",
       "        vertical-align: middle;\n",
       "    }\n",
       "\n",
       "    .dataframe tbody tr th {\n",
       "        vertical-align: top;\n",
       "    }\n",
       "\n",
       "    .dataframe thead th {\n",
       "        text-align: right;\n",
       "    }\n",
       "</style>\n",
       "<table border=\"1\" class=\"dataframe\">\n",
       "  <thead>\n",
       "    <tr style=\"text-align: right;\">\n",
       "      <th></th>\n",
       "      <th>business_code</th>\n",
       "      <th>cust_number</th>\n",
       "      <th>name_customer</th>\n",
       "      <th>clear_date</th>\n",
       "      <th>buisness_year</th>\n",
       "      <th>doc_id</th>\n",
       "      <th>posting_date</th>\n",
       "      <th>document_create_date</th>\n",
       "      <th>document_create_date.1</th>\n",
       "      <th>due_in_date</th>\n",
       "      <th>invoice_currency</th>\n",
       "      <th>document type</th>\n",
       "      <th>total_open_amount</th>\n",
       "      <th>baseline_create_date</th>\n",
       "      <th>cust_payment_terms</th>\n",
       "      <th>invoice_id</th>\n",
       "      <th>isOpen</th>\n",
       "    </tr>\n",
       "  </thead>\n",
       "  <tbody>\n",
       "    <tr>\n",
       "      <th>5095</th>\n",
       "      <td>CA02</td>\n",
       "      <td>140106054</td>\n",
       "      <td>TREE  us</td>\n",
       "      <td>5/31/2019 0:00</td>\n",
       "      <td>2019</td>\n",
       "      <td>9500000107</td>\n",
       "      <td>3/29/2019</td>\n",
       "      <td>20190329</td>\n",
       "      <td>20190306</td>\n",
       "      <td>20190316</td>\n",
       "      <td>CAD</td>\n",
       "      <td>X2</td>\n",
       "      <td>1570.59</td>\n",
       "      <td>20190306</td>\n",
       "      <td>CA10</td>\n",
       "      <td>NaN</td>\n",
       "      <td>0</td>\n",
       "    </tr>\n",
       "    <tr>\n",
       "      <th>19450</th>\n",
       "      <td>CA02</td>\n",
       "      <td>100054351</td>\n",
       "      <td>UNF corp</td>\n",
       "      <td>5/2/2019 0:00</td>\n",
       "      <td>2019</td>\n",
       "      <td>9500000133</td>\n",
       "      <td>3/29/2019</td>\n",
       "      <td>20190329</td>\n",
       "      <td>20190314</td>\n",
       "      <td>20190324</td>\n",
       "      <td>CAD</td>\n",
       "      <td>X2</td>\n",
       "      <td>5964.00</td>\n",
       "      <td>20190314</td>\n",
       "      <td>CA10</td>\n",
       "      <td>NaN</td>\n",
       "      <td>0</td>\n",
       "    </tr>\n",
       "    <tr>\n",
       "      <th>30322</th>\n",
       "      <td>CA02</td>\n",
       "      <td>140104429</td>\n",
       "      <td>COSTCO systems</td>\n",
       "      <td>5/2/2019 0:00</td>\n",
       "      <td>2019</td>\n",
       "      <td>9500000019</td>\n",
       "      <td>3/29/2019</td>\n",
       "      <td>20190329</td>\n",
       "      <td>20190219</td>\n",
       "      <td>20190301</td>\n",
       "      <td>CAD</td>\n",
       "      <td>X2</td>\n",
       "      <td>5353.20</td>\n",
       "      <td>20190219</td>\n",
       "      <td>CA10</td>\n",
       "      <td>NaN</td>\n",
       "      <td>0</td>\n",
       "    </tr>\n",
       "    <tr>\n",
       "      <th>31009</th>\n",
       "      <td>CA02</td>\n",
       "      <td>140106054</td>\n",
       "      <td>TREE  llc</td>\n",
       "      <td>5/6/2019 0:00</td>\n",
       "      <td>2019</td>\n",
       "      <td>9500000104</td>\n",
       "      <td>3/29/2019</td>\n",
       "      <td>20190329</td>\n",
       "      <td>20190208</td>\n",
       "      <td>20190218</td>\n",
       "      <td>CAD</td>\n",
       "      <td>X2</td>\n",
       "      <td>938.43</td>\n",
       "      <td>20190208</td>\n",
       "      <td>CA10</td>\n",
       "      <td>NaN</td>\n",
       "      <td>0</td>\n",
       "    </tr>\n",
       "    <tr>\n",
       "      <th>38443</th>\n",
       "      <td>CA02</td>\n",
       "      <td>140106054</td>\n",
       "      <td>TREE  in</td>\n",
       "      <td>5/6/2019 0:00</td>\n",
       "      <td>2019</td>\n",
       "      <td>9500000129</td>\n",
       "      <td>3/29/2019</td>\n",
       "      <td>20190329</td>\n",
       "      <td>20190128</td>\n",
       "      <td>20190207</td>\n",
       "      <td>CAD</td>\n",
       "      <td>X2</td>\n",
       "      <td>12636.00</td>\n",
       "      <td>20190128</td>\n",
       "      <td>CA10</td>\n",
       "      <td>NaN</td>\n",
       "      <td>0</td>\n",
       "    </tr>\n",
       "    <tr>\n",
       "      <th>44500</th>\n",
       "      <td>CA02</td>\n",
       "      <td>140106054</td>\n",
       "      <td>TREE  in</td>\n",
       "      <td>5/6/2019 0:00</td>\n",
       "      <td>2019</td>\n",
       "      <td>9500000101</td>\n",
       "      <td>3/29/2019</td>\n",
       "      <td>20190329</td>\n",
       "      <td>20190131</td>\n",
       "      <td>20190210</td>\n",
       "      <td>CAD</td>\n",
       "      <td>X2</td>\n",
       "      <td>216.80</td>\n",
       "      <td>20190131</td>\n",
       "      <td>CA10</td>\n",
       "      <td>NaN</td>\n",
       "      <td>0</td>\n",
       "    </tr>\n",
       "  </tbody>\n",
       "</table>\n",
       "</div>"
      ],
      "text/plain": [
       "      business_code cust_number   name_customer      clear_date  \\\n",
       "5095           CA02   140106054        TREE  us  5/31/2019 0:00   \n",
       "19450          CA02   100054351        UNF corp   5/2/2019 0:00   \n",
       "30322          CA02   140104429  COSTCO systems   5/2/2019 0:00   \n",
       "31009          CA02   140106054       TREE  llc   5/6/2019 0:00   \n",
       "38443          CA02   140106054        TREE  in   5/6/2019 0:00   \n",
       "44500          CA02   140106054        TREE  in   5/6/2019 0:00   \n",
       "\n",
       "       buisness_year      doc_id posting_date  document_create_date  \\\n",
       "5095            2019  9500000107    3/29/2019              20190329   \n",
       "19450           2019  9500000133    3/29/2019              20190329   \n",
       "30322           2019  9500000019    3/29/2019              20190329   \n",
       "31009           2019  9500000104    3/29/2019              20190329   \n",
       "38443           2019  9500000129    3/29/2019              20190329   \n",
       "44500           2019  9500000101    3/29/2019              20190329   \n",
       "\n",
       "       document_create_date.1  due_in_date invoice_currency document type  \\\n",
       "5095                 20190306     20190316              CAD            X2   \n",
       "19450                20190314     20190324              CAD            X2   \n",
       "30322                20190219     20190301              CAD            X2   \n",
       "31009                20190208     20190218              CAD            X2   \n",
       "38443                20190128     20190207              CAD            X2   \n",
       "44500                20190131     20190210              CAD            X2   \n",
       "\n",
       "       total_open_amount  baseline_create_date cust_payment_terms  invoice_id  \\\n",
       "5095             1570.59              20190306               CA10         NaN   \n",
       "19450            5964.00              20190314               CA10         NaN   \n",
       "30322            5353.20              20190219               CA10         NaN   \n",
       "31009             938.43              20190208               CA10         NaN   \n",
       "38443           12636.00              20190128               CA10         NaN   \n",
       "44500             216.80              20190131               CA10         NaN   \n",
       "\n",
       "       isOpen  \n",
       "5095        0  \n",
       "19450       0  \n",
       "30322       0  \n",
       "31009       0  \n",
       "38443       0  \n",
       "44500       0  "
      ]
     },
     "execution_count": 28,
     "metadata": {},
     "output_type": "execute_result"
    }
   ],
   "source": [
    "data.loc[data['invoice_id'].isnull()]#null values are not useful so drop"
   ]
  },
  {
   "cell_type": "code",
   "execution_count": 41,
   "id": "ce25e5e0",
   "metadata": {},
   "outputs": [],
   "source": [
    "#droping invoice value having the nan value \n",
    "data=data.dropna(axis=0, subset=['invoice_id'])"
   ]
  },
  {
   "cell_type": "code",
   "execution_count": 42,
   "id": "0256f585",
   "metadata": {},
   "outputs": [
    {
     "data": {
      "text/plain": [
       "0"
      ]
     },
     "execution_count": 42,
     "metadata": {},
     "output_type": "execute_result"
    }
   ],
   "source": [
    "#checking invoice value now no null value is there\n",
    "data['invoice_id'].isnull().sum()"
   ]
  },
  {
   "cell_type": "code",
   "execution_count": 31,
   "id": "bfda3367",
   "metadata": {},
   "outputs": [
    {
     "name": "stdout",
     "output_type": "stream",
     "text": [
      "business_code\n",
      "cust_number\n",
      "name_customer\n",
      "clear_date\n",
      "buisness_year\n",
      "doc_id\n",
      "posting_date\n",
      "document_create_date\n",
      "document_create_date.1\n",
      "due_in_date\n",
      "invoice_currency\n",
      "document type\n",
      "total_open_amount\n",
      "baseline_create_date\n",
      "cust_payment_terms\n",
      "invoice_id\n",
      "isOpen\n"
     ]
    }
   ],
   "source": [
    "for i in data.columns:\n",
    "  print(i)"
   ]
  },
  {
   "cell_type": "code",
   "execution_count": 43,
   "id": "7b265d84",
   "metadata": {},
   "outputs": [
    {
     "data": {
      "text/plain": [
       "1161"
      ]
     },
     "execution_count": 43,
     "metadata": {},
     "output_type": "execute_result"
    }
   ],
   "source": [
    "#checking duplicate rows:\n",
    "data.duplicated().sum()"
   ]
  },
  {
   "cell_type": "code",
   "execution_count": 44,
   "id": "c3570dfd",
   "metadata": {},
   "outputs": [
    {
     "data": {
      "text/plain": [
       "1"
      ]
     },
     "execution_count": 44,
     "metadata": {},
     "output_type": "execute_result"
    }
   ],
   "source": [
    "#checking duplicate columns:\n",
    "data_t = data.T\n",
    "data_t.duplicated().sum()"
   ]
  },
  {
   "cell_type": "code",
   "execution_count": 34,
   "id": "ba786048",
   "metadata": {},
   "outputs": [
    {
     "data": {
      "text/html": [
       "<div>\n",
       "<style scoped>\n",
       "    .dataframe tbody tr th:only-of-type {\n",
       "        vertical-align: middle;\n",
       "    }\n",
       "\n",
       "    .dataframe tbody tr th {\n",
       "        vertical-align: top;\n",
       "    }\n",
       "\n",
       "    .dataframe thead th {\n",
       "        text-align: right;\n",
       "    }\n",
       "</style>\n",
       "<table border=\"1\" class=\"dataframe\">\n",
       "  <thead>\n",
       "    <tr style=\"text-align: right;\">\n",
       "      <th></th>\n",
       "      <th>0</th>\n",
       "      <th>1</th>\n",
       "      <th>2</th>\n",
       "      <th>3</th>\n",
       "      <th>4</th>\n",
       "      <th>5</th>\n",
       "      <th>6</th>\n",
       "      <th>7</th>\n",
       "      <th>8</th>\n",
       "      <th>9</th>\n",
       "      <th>...</th>\n",
       "      <th>49990</th>\n",
       "      <th>49991</th>\n",
       "      <th>49992</th>\n",
       "      <th>49993</th>\n",
       "      <th>49994</th>\n",
       "      <th>49995</th>\n",
       "      <th>49996</th>\n",
       "      <th>49997</th>\n",
       "      <th>49998</th>\n",
       "      <th>49999</th>\n",
       "    </tr>\n",
       "  </thead>\n",
       "  <tbody>\n",
       "    <tr>\n",
       "      <th>invoice_id</th>\n",
       "      <td>1930438491.0</td>\n",
       "      <td>1929646410.0</td>\n",
       "      <td>1929873765.0</td>\n",
       "      <td>2960623488.0</td>\n",
       "      <td>1930147974.0</td>\n",
       "      <td>2960581231.0</td>\n",
       "      <td>1930083373.0</td>\n",
       "      <td>1930659387.0</td>\n",
       "      <td>1929439637.0</td>\n",
       "      <td>1928819386.0</td>\n",
       "      <td>...</td>\n",
       "      <td>1929365364.0</td>\n",
       "      <td>1930001131.0</td>\n",
       "      <td>1930702251.0</td>\n",
       "      <td>1930377837.0</td>\n",
       "      <td>1929600989.0</td>\n",
       "      <td>1930797071.0</td>\n",
       "      <td>1929744070.0</td>\n",
       "      <td>1930536775.0</td>\n",
       "      <td>1930198546.0</td>\n",
       "      <td>1928576325.0</td>\n",
       "    </tr>\n",
       "  </tbody>\n",
       "</table>\n",
       "<p>1 rows × 49994 columns</p>\n",
       "</div>"
      ],
      "text/plain": [
       "                   0             1             2             3      \\\n",
       "invoice_id  1930438491.0  1929646410.0  1929873765.0  2960623488.0   \n",
       "\n",
       "                   4             5             6             7      \\\n",
       "invoice_id  1930147974.0  2960581231.0  1930083373.0  1930659387.0   \n",
       "\n",
       "                   8             9      ...         49990         49991  \\\n",
       "invoice_id  1929439637.0  1928819386.0  ...  1929365364.0  1930001131.0   \n",
       "\n",
       "                   49992         49993         49994         49995  \\\n",
       "invoice_id  1930702251.0  1930377837.0  1929600989.0  1930797071.0   \n",
       "\n",
       "                   49996         49997         49998         49999  \n",
       "invoice_id  1929744070.0  1930536775.0  1930198546.0  1928576325.0  \n",
       "\n",
       "[1 rows x 49994 columns]"
      ]
     },
     "execution_count": 34,
     "metadata": {},
     "output_type": "execute_result"
    }
   ],
   "source": [
    "#displaying duplicated column\n",
    "data_t[data_t.duplicated()]"
   ]
  },
  {
   "cell_type": "code",
   "execution_count": 35,
   "id": "5115ca37",
   "metadata": {},
   "outputs": [
    {
     "data": {
      "text/plain": [
       "(49994, 17)"
      ]
     },
     "execution_count": 35,
     "metadata": {},
     "output_type": "execute_result"
    }
   ],
   "source": [
    "#no of rows before removing duplicated columns is 17\n",
    "dt=data_t.T\n",
    "dt.shape"
   ]
  },
  {
   "cell_type": "code",
   "execution_count": 45,
   "id": "5f265b25",
   "metadata": {},
   "outputs": [
    {
     "data": {
      "text/plain": [
       "(49994, 16)"
      ]
     },
     "execution_count": 45,
     "metadata": {},
     "output_type": "execute_result"
    }
   ],
   "source": [
    "\n",
    "#after removing duplicate column, 16 columns\n",
    "data_unique = data_t.drop_duplicates(keep='first').T\n",
    "data_unique.shape\n"
   ]
  },
  {
   "cell_type": "code",
   "execution_count": 46,
   "id": "e79f5e78",
   "metadata": {},
   "outputs": [
    {
     "data": {
      "text/plain": [
       "0"
      ]
     },
     "execution_count": 46,
     "metadata": {},
     "output_type": "execute_result"
    }
   ],
   "source": [
    "#once again checking duplicated rows(of the transpose)\n",
    "data_uni=data_unique.T\n",
    "data_uni.duplicated().sum()"
   ]
  },
  {
   "cell_type": "code",
   "execution_count": 47,
   "id": "af0ad3ec",
   "metadata": {},
   "outputs": [
    {
     "data": {
      "text/html": [
       "<div>\n",
       "<style scoped>\n",
       "    .dataframe tbody tr th:only-of-type {\n",
       "        vertical-align: middle;\n",
       "    }\n",
       "\n",
       "    .dataframe tbody tr th {\n",
       "        vertical-align: top;\n",
       "    }\n",
       "\n",
       "    .dataframe thead th {\n",
       "        text-align: right;\n",
       "    }\n",
       "</style>\n",
       "<table border=\"1\" class=\"dataframe\">\n",
       "  <thead>\n",
       "    <tr style=\"text-align: right;\">\n",
       "      <th></th>\n",
       "      <th>business_code</th>\n",
       "      <th>cust_number</th>\n",
       "      <th>name_customer</th>\n",
       "      <th>clear_date</th>\n",
       "      <th>buisness_year</th>\n",
       "      <th>doc_id</th>\n",
       "      <th>posting_date</th>\n",
       "      <th>document_create_date</th>\n",
       "      <th>document_create_date.1</th>\n",
       "      <th>due_in_date</th>\n",
       "      <th>invoice_currency</th>\n",
       "      <th>document type</th>\n",
       "      <th>total_open_amount</th>\n",
       "      <th>baseline_create_date</th>\n",
       "      <th>cust_payment_terms</th>\n",
       "      <th>isOpen</th>\n",
       "    </tr>\n",
       "  </thead>\n",
       "  <tbody>\n",
       "    <tr>\n",
       "      <th>0</th>\n",
       "      <td>U001</td>\n",
       "      <td>200769623</td>\n",
       "      <td>WAL-MAR corp</td>\n",
       "      <td>2/11/2020 0:00</td>\n",
       "      <td>2020</td>\n",
       "      <td>1930438491</td>\n",
       "      <td>1/26/2020</td>\n",
       "      <td>20200125</td>\n",
       "      <td>20200126</td>\n",
       "      <td>20200210</td>\n",
       "      <td>USD</td>\n",
       "      <td>RV</td>\n",
       "      <td>54273.28</td>\n",
       "      <td>20200126</td>\n",
       "      <td>NAH4</td>\n",
       "      <td>0</td>\n",
       "    </tr>\n",
       "    <tr>\n",
       "      <th>1</th>\n",
       "      <td>U001</td>\n",
       "      <td>200980828</td>\n",
       "      <td>BEN E</td>\n",
       "      <td>8/8/2019 0:00</td>\n",
       "      <td>2019</td>\n",
       "      <td>1929646410</td>\n",
       "      <td>7/22/2019</td>\n",
       "      <td>20190722</td>\n",
       "      <td>20190722</td>\n",
       "      <td>20190811</td>\n",
       "      <td>USD</td>\n",
       "      <td>RV</td>\n",
       "      <td>79656.6</td>\n",
       "      <td>20190722</td>\n",
       "      <td>NAD1</td>\n",
       "      <td>0</td>\n",
       "    </tr>\n",
       "    <tr>\n",
       "      <th>2</th>\n",
       "      <td>U001</td>\n",
       "      <td>200792734</td>\n",
       "      <td>MDV/ trust</td>\n",
       "      <td>12/30/2019 0:00</td>\n",
       "      <td>2019</td>\n",
       "      <td>1929873765</td>\n",
       "      <td>9/14/2019</td>\n",
       "      <td>20190914</td>\n",
       "      <td>20190914</td>\n",
       "      <td>20190929</td>\n",
       "      <td>USD</td>\n",
       "      <td>RV</td>\n",
       "      <td>2253.86</td>\n",
       "      <td>20190914</td>\n",
       "      <td>NAA8</td>\n",
       "      <td>0</td>\n",
       "    </tr>\n",
       "    <tr>\n",
       "      <th>3</th>\n",
       "      <td>CA02</td>\n",
       "      <td>140105686</td>\n",
       "      <td>SYSC llc</td>\n",
       "      <td>NaN</td>\n",
       "      <td>2020</td>\n",
       "      <td>2960623488</td>\n",
       "      <td>3/30/2020</td>\n",
       "      <td>20200330</td>\n",
       "      <td>20200330</td>\n",
       "      <td>20200410</td>\n",
       "      <td>CAD</td>\n",
       "      <td>RV</td>\n",
       "      <td>3299.7</td>\n",
       "      <td>20200331</td>\n",
       "      <td>CA10</td>\n",
       "      <td>1</td>\n",
       "    </tr>\n",
       "    <tr>\n",
       "      <th>4</th>\n",
       "      <td>U001</td>\n",
       "      <td>200769623</td>\n",
       "      <td>WAL-MAR foundation</td>\n",
       "      <td>11/25/2019 0:00</td>\n",
       "      <td>2019</td>\n",
       "      <td>1930147974</td>\n",
       "      <td>11/13/2019</td>\n",
       "      <td>20191113</td>\n",
       "      <td>20191113</td>\n",
       "      <td>20191128</td>\n",
       "      <td>USD</td>\n",
       "      <td>RV</td>\n",
       "      <td>33133.29</td>\n",
       "      <td>20191113</td>\n",
       "      <td>NAH4</td>\n",
       "      <td>0</td>\n",
       "    </tr>\n",
       "    <tr>\n",
       "      <th>...</th>\n",
       "      <td>...</td>\n",
       "      <td>...</td>\n",
       "      <td>...</td>\n",
       "      <td>...</td>\n",
       "      <td>...</td>\n",
       "      <td>...</td>\n",
       "      <td>...</td>\n",
       "      <td>...</td>\n",
       "      <td>...</td>\n",
       "      <td>...</td>\n",
       "      <td>...</td>\n",
       "      <td>...</td>\n",
       "      <td>...</td>\n",
       "      <td>...</td>\n",
       "      <td>...</td>\n",
       "      <td>...</td>\n",
       "    </tr>\n",
       "    <tr>\n",
       "      <th>49995</th>\n",
       "      <td>U001</td>\n",
       "      <td>200561861</td>\n",
       "      <td>CO corporation</td>\n",
       "      <td>NaN</td>\n",
       "      <td>2020</td>\n",
       "      <td>1930797071</td>\n",
       "      <td>4/21/2020</td>\n",
       "      <td>20200417</td>\n",
       "      <td>20200421</td>\n",
       "      <td>20200506</td>\n",
       "      <td>USD</td>\n",
       "      <td>RV</td>\n",
       "      <td>3187.86</td>\n",
       "      <td>20200421</td>\n",
       "      <td>NAA8</td>\n",
       "      <td>1</td>\n",
       "    </tr>\n",
       "    <tr>\n",
       "      <th>49996</th>\n",
       "      <td>U001</td>\n",
       "      <td>200769623</td>\n",
       "      <td>WAL-MAR co</td>\n",
       "      <td>9/3/2019 0:00</td>\n",
       "      <td>2019</td>\n",
       "      <td>1929744070</td>\n",
       "      <td>8/15/2019</td>\n",
       "      <td>20190814</td>\n",
       "      <td>20190815</td>\n",
       "      <td>20190830</td>\n",
       "      <td>USD</td>\n",
       "      <td>RV</td>\n",
       "      <td>6766.54</td>\n",
       "      <td>20190815</td>\n",
       "      <td>NAH4</td>\n",
       "      <td>0</td>\n",
       "    </tr>\n",
       "    <tr>\n",
       "      <th>49997</th>\n",
       "      <td>U001</td>\n",
       "      <td>200772595</td>\n",
       "      <td>SAFEW associates</td>\n",
       "      <td>3/5/2020 0:00</td>\n",
       "      <td>2020</td>\n",
       "      <td>1930536775</td>\n",
       "      <td>2/19/2020</td>\n",
       "      <td>20200218</td>\n",
       "      <td>20200219</td>\n",
       "      <td>20200305</td>\n",
       "      <td>USD</td>\n",
       "      <td>RV</td>\n",
       "      <td>6120.86</td>\n",
       "      <td>20200219</td>\n",
       "      <td>NAA8</td>\n",
       "      <td>0</td>\n",
       "    </tr>\n",
       "    <tr>\n",
       "      <th>49998</th>\n",
       "      <td>U001</td>\n",
       "      <td>200726979</td>\n",
       "      <td>BJ'S  llc</td>\n",
       "      <td>12/12/2019 0:00</td>\n",
       "      <td>2019</td>\n",
       "      <td>1930198546</td>\n",
       "      <td>11/27/2019</td>\n",
       "      <td>20191126</td>\n",
       "      <td>20191127</td>\n",
       "      <td>20191212</td>\n",
       "      <td>USD</td>\n",
       "      <td>RV</td>\n",
       "      <td>63.48</td>\n",
       "      <td>20191127</td>\n",
       "      <td>NAA8</td>\n",
       "      <td>0</td>\n",
       "    </tr>\n",
       "    <tr>\n",
       "      <th>49999</th>\n",
       "      <td>U001</td>\n",
       "      <td>200020431</td>\n",
       "      <td>DEC corp</td>\n",
       "      <td>1/15/2019 0:00</td>\n",
       "      <td>2019</td>\n",
       "      <td>1928576325</td>\n",
       "      <td>1/5/2019</td>\n",
       "      <td>20190105</td>\n",
       "      <td>20190105</td>\n",
       "      <td>20190124</td>\n",
       "      <td>USD</td>\n",
       "      <td>RV</td>\n",
       "      <td>1790.3</td>\n",
       "      <td>20190101</td>\n",
       "      <td>NAM4</td>\n",
       "      <td>0</td>\n",
       "    </tr>\n",
       "  </tbody>\n",
       "</table>\n",
       "<p>49994 rows × 16 columns</p>\n",
       "</div>"
      ],
      "text/plain": [
       "      business_code cust_number       name_customer       clear_date  \\\n",
       "0              U001   200769623        WAL-MAR corp   2/11/2020 0:00   \n",
       "1              U001   200980828              BEN E     8/8/2019 0:00   \n",
       "2              U001   200792734          MDV/ trust  12/30/2019 0:00   \n",
       "3              CA02   140105686            SYSC llc              NaN   \n",
       "4              U001   200769623  WAL-MAR foundation  11/25/2019 0:00   \n",
       "...             ...         ...                 ...              ...   \n",
       "49995          U001   200561861      CO corporation              NaN   \n",
       "49996          U001   200769623          WAL-MAR co    9/3/2019 0:00   \n",
       "49997          U001   200772595    SAFEW associates    3/5/2020 0:00   \n",
       "49998          U001   200726979           BJ'S  llc  12/12/2019 0:00   \n",
       "49999          U001   200020431            DEC corp   1/15/2019 0:00   \n",
       "\n",
       "      buisness_year      doc_id posting_date document_create_date  \\\n",
       "0              2020  1930438491    1/26/2020             20200125   \n",
       "1              2019  1929646410    7/22/2019             20190722   \n",
       "2              2019  1929873765    9/14/2019             20190914   \n",
       "3              2020  2960623488    3/30/2020             20200330   \n",
       "4              2019  1930147974   11/13/2019             20191113   \n",
       "...             ...         ...          ...                  ...   \n",
       "49995          2020  1930797071    4/21/2020             20200417   \n",
       "49996          2019  1929744070    8/15/2019             20190814   \n",
       "49997          2020  1930536775    2/19/2020             20200218   \n",
       "49998          2019  1930198546   11/27/2019             20191126   \n",
       "49999          2019  1928576325     1/5/2019             20190105   \n",
       "\n",
       "      document_create_date.1 due_in_date invoice_currency document type  \\\n",
       "0                   20200126    20200210              USD            RV   \n",
       "1                   20190722    20190811              USD            RV   \n",
       "2                   20190914    20190929              USD            RV   \n",
       "3                   20200330    20200410              CAD            RV   \n",
       "4                   20191113    20191128              USD            RV   \n",
       "...                      ...         ...              ...           ...   \n",
       "49995               20200421    20200506              USD            RV   \n",
       "49996               20190815    20190830              USD            RV   \n",
       "49997               20200219    20200305              USD            RV   \n",
       "49998               20191127    20191212              USD            RV   \n",
       "49999               20190105    20190124              USD            RV   \n",
       "\n",
       "      total_open_amount baseline_create_date cust_payment_terms isOpen  \n",
       "0              54273.28             20200126               NAH4      0  \n",
       "1               79656.6             20190722               NAD1      0  \n",
       "2               2253.86             20190914               NAA8      0  \n",
       "3                3299.7             20200331               CA10      1  \n",
       "4              33133.29             20191113               NAH4      0  \n",
       "...                 ...                  ...                ...    ...  \n",
       "49995           3187.86             20200421               NAA8      1  \n",
       "49996           6766.54             20190815               NAH4      0  \n",
       "49997           6120.86             20200219               NAA8      0  \n",
       "49998             63.48             20191127               NAA8      0  \n",
       "49999            1790.3             20190101               NAM4      0  \n",
       "\n",
       "[49994 rows x 16 columns]"
      ]
     },
     "execution_count": 47,
     "metadata": {},
     "output_type": "execute_result"
    }
   ],
   "source": [
    "data_unique"
   ]
  },
  {
   "cell_type": "code",
   "execution_count": 48,
   "id": "b1a26cce",
   "metadata": {},
   "outputs": [
    {
     "data": {
      "text/plain": [
       "1"
      ]
     },
     "execution_count": 48,
     "metadata": {},
     "output_type": "execute_result"
    }
   ],
   "source": [
    "#document type is constant\n",
    "len(pd.unique(data_unique['document type']))"
   ]
  },
  {
   "cell_type": "code",
   "execution_count": null,
   "id": "bdbf7983",
   "metadata": {},
   "outputs": [],
   "source": []
  }
 ],
 "metadata": {
  "kernelspec": {
   "display_name": "Python 3 (ipykernel)",
   "language": "python",
   "name": "python3"
  },
  "language_info": {
   "codemirror_mode": {
    "name": "ipython",
    "version": 3
   },
   "file_extension": ".py",
   "mimetype": "text/x-python",
   "name": "python",
   "nbconvert_exporter": "python",
   "pygments_lexer": "ipython3",
   "version": "3.9.7"
  }
 },
 "nbformat": 4,
 "nbformat_minor": 5
}
